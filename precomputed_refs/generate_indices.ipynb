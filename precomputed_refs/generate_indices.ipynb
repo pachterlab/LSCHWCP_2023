{
 "cells": [
  {
   "cell_type": "markdown",
   "id": "d2f6846a-586b-4242-9574-686ac0759f16",
   "metadata": {},
   "source": [
    "## Generate a PalmDB reference index while masking human genomic and transcriptomic sequences using the D-list"
   ]
  },
  {
   "cell_type": "code",
   "execution_count": null,
   "id": "7ca22eb2-c443-4515-b107-49ef12ea518c",
   "metadata": {},
   "outputs": [],
   "source": [
    "# Download the human genome and transcriptome from Ensembl\n",
    "# Specifying the Ensembl release (110) here for reproducibility\n",
    "!gget ref -w cdna,dna -r 110 -d human"
   ]
  },
  {
   "cell_type": "code",
   "execution_count": 1,
   "id": "7563e83d-662c-40e6-bee8-cc2e3b4f2ee7",
   "metadata": {},
   "outputs": [],
   "source": [
    "# Concatenate the human genome and transcriptome files\n",
    "human_cdna = \"/home/laura/projects/virus-watch-data/human_ref/ensembl_110/Homo_sapiens.GRCh38.cdna.all.fa.gz\"\n",
    "human_dna = \"/home/laura/projects/virus-watch-data/human_ref/ensembl_110/Homo_sapiens.GRCh38.dna.primary_assembly.fa.gz\"\n",
    "human_cdna_dna = \"/home/laura/projects/virus-watch-data/human_ref/ensembl_110/Homo_sapiens.GRCh38.cdna_dna.fa.gz\"\n",
    "!cat $human_cdna $human_dna > $human_cdna_dna"
   ]
  },
  {
   "cell_type": "code",
   "execution_count": 2,
   "id": "d86453bd-3181-4a15-b61e-ba1de5929980",
   "metadata": {},
   "outputs": [],
   "source": [
    "virus_fasta = \"/home/laura/projects/virus-watch-data/virus_ref/uniques_noduplicates.fa\""
   ]
  },
  {
   "cell_type": "code",
   "execution_count": 4,
   "id": "bee4bb0b-16ed-498b-90bf-c1e502b1f00c",
   "metadata": {},
   "outputs": [
    {
     "name": "stdout",
     "output_type": "stream",
     "text": [
      "\n",
      "[index] --d-list-overhang was set to 3 (with --aa, the d-list overhang must be >= 3)\n",
      "[build] loading fasta file /home/laura/projects/virus-watch-data/virus_ref/uniques_noduplicates.fa\n",
      "[build] k-mer length: 31\n",
      "KmerStream::KmerStream(): Start computing k-mer cardinality estimations (1/2)\n",
      "KmerStream::KmerStream(): Start computing k-mer cardinality estimations (1/2)\n",
      "KmerStream::KmerStream(): Finished\n",
      "CompactedDBG::build(): Estimated number of k-mers occurring at least once: 37641510\n",
      "CompactedDBG::build(): Estimated number of minimizer occurring at least once: 7877811\n",
      "CompactedDBG::filter(): Processed 87630084 k-mers in 296561 reads\n",
      "CompactedDBG::filter(): Found 37508895 unique k-mers\n",
      "CompactedDBG::filter(): Number of blocks in Bloom filter is 257317\n",
      "CompactedDBG::construct(): Extract approximate unitigs (1/2)\n",
      "CompactedDBG::construct(): Extract approximate unitigs (2/2)\n",
      "CompactedDBG::construct(): Closed all input files\n",
      "\n",
      "CompactedDBG::construct(): Splitting unitigs (1/2)\n",
      "\n",
      "CompactedDBG::construct(): Splitting unitigs (2/2)\n",
      "CompactedDBG::construct(): Before split: 2040538 unitigs\n",
      "CompactedDBG::construct(): After split (1/1): 2040538 unitigs\n",
      "CompactedDBG::construct(): Unitigs split: 1544\n",
      "CompactedDBG::construct(): Unitigs deleted: 0\n",
      "\n",
      "CompactedDBG::construct(): Joining unitigs\n",
      "CompactedDBG::construct(): After join: 2021701 unitigs\n",
      "CompactedDBG::construct(): Joined 19208 unitigs\n",
      "[build] extracting D-list k-mers from \"/home/laura/projects/virus-watch-data/human_ref/ensembl_110/Homo_sapiens.GRCh38.cdna_dna.fa.gz\"\n",
      "[build] identified 48235 distinguishing flanking k-mers\n",
      "[build] building MPHF\n",
      "[build] creating equivalence classes ... \n",
      "[build] target de Bruijn graph has k-mer length 31 and minimizer length 23\n",
      "[build] target de Bruijn graph has 2021702 contigs and contains 37541757 k-mers \n",
      "\n"
     ]
    }
   ],
   "source": [
    "!/home/laura/temp/kallisto/build/src/kallisto index \\\n",
    "    -t 12 \\\n",
    "    --aa \\\n",
    "    --d-list $human_cdna_dna \\\n",
    "    -i palmdb_human_dlist_cdna_dna.idx \\\n",
    "    $virus_fasta"
   ]
  },
  {
   "cell_type": "markdown",
   "id": "c977b8f6-32f3-4ba5-b53e-3d8ec011ac3c",
   "metadata": {},
   "source": [
    "## Generate a PalmDB reference index while masking mouse genomic and transcriptomic sequences using the D-list"
   ]
  },
  {
   "cell_type": "code",
   "execution_count": null,
   "id": "a6f2f8ab-cd01-41cb-8325-ea8031fa837f",
   "metadata": {},
   "outputs": [],
   "source": [
    "# Download the mouse genome and transcriptome from Ensembl\n",
    "# Specifying the Ensembl release (110) here for reproducibility\n",
    "!gget ref -w cdna,dna -r 110 -d mouse"
   ]
  },
  {
   "cell_type": "code",
   "execution_count": 7,
   "id": "f104f463-701a-4d48-8d00-567f8eff6aa5",
   "metadata": {},
   "outputs": [],
   "source": [
    "# Concatenate the mouse genome and transcriptome files\n",
    "mouse_cdna = \"/home/laura/projects/virus-watch-data/mouse_ref/ensembl_v110/Mus_musculus.GRCm39.cdna.all.fa.gz\"\n",
    "mouse_dna = \"/home/laura/projects/virus-watch-data/mouse_ref/ensembl_v110/Mus_musculus.GRCm39.dna.primary_assembly.fa.gz\"\n",
    "mouse_cdna_dna = \"/home/laura/projects/virus-watch-data/mouse_ref/ensembl_v110/Mus_musculus.GRCm39.cdna_dna.fa.gz\"\n",
    "!cat $mouse_cdna $mouse_dna > $mouse_cdna_dna"
   ]
  },
  {
   "cell_type": "code",
   "execution_count": 8,
   "id": "079ec74b-4b4f-442e-bf5e-60ba87c7aa71",
   "metadata": {},
   "outputs": [
    {
     "name": "stdout",
     "output_type": "stream",
     "text": [
      "\n",
      "[index] --d-list-overhang was set to 3 (with --aa, the d-list overhang must be >= 3)\n",
      "[build] loading fasta file /home/laura/projects/virus-watch-data/virus_ref/uniques_noduplicates.fa\n",
      "[build] k-mer length: 31\n",
      "KmerStream::KmerStream(): Start computing k-mer cardinality estimations (1/2)\n",
      "KmerStream::KmerStream(): Start computing k-mer cardinality estimations (1/2)\n",
      "KmerStream::KmerStream(): Finished\n",
      "CompactedDBG::build(): Estimated number of k-mers occurring at least once: 37641510\n",
      "CompactedDBG::build(): Estimated number of minimizer occurring at least once: 7877811\n",
      "CompactedDBG::filter(): Processed 87630084 k-mers in 296561 reads\n",
      "CompactedDBG::filter(): Found 37509060 unique k-mers\n",
      "CompactedDBG::filter(): Number of blocks in Bloom filter is 257317\n",
      "CompactedDBG::construct(): Extract approximate unitigs (1/2)\n",
      "CompactedDBG::construct(): Extract approximate unitigs (2/2)\n",
      "CompactedDBG::construct(): Closed all input files\n",
      "\n",
      "CompactedDBG::construct(): Splitting unitigs (1/2)\n",
      "\n",
      "CompactedDBG::construct(): Splitting unitigs (2/2)\n",
      "CompactedDBG::construct(): Before split: 2040715 unitigs\n",
      "CompactedDBG::construct(): After split (1/1): 2040715 unitigs\n",
      "CompactedDBG::construct(): Unitigs split: 1563\n",
      "CompactedDBG::construct(): Unitigs deleted: 0\n",
      "\n",
      "CompactedDBG::construct(): Joining unitigs\n",
      "CompactedDBG::construct(): After join: 2021701 unitigs\n",
      "CompactedDBG::construct(): Joined 19380 unitigs\n",
      "[build] extracting D-list k-mers from \"/home/laura/projects/virus-watch-data/mouse_ref/ensembl_v110/Mus_musculus.GRCm39.cdna_dna.fa.gz\"\n",
      "[build] identified 45480 distinguishing flanking k-mers\n",
      "[build] building MPHF\n",
      "[build] creating equivalence classes ... \n",
      "[build] target de Bruijn graph has k-mer length 31 and minimizer length 23\n",
      "[build] target de Bruijn graph has 2021703 contigs and contains 37541757 k-mers \n",
      "\n"
     ]
    }
   ],
   "source": [
    "!/home/laura/temp/kallisto/build/src/kallisto index \\\n",
    "    -t 12 \\\n",
    "    --aa \\\n",
    "    --d-list $mouse_cdna_dna \\\n",
    "    -i palmdb_mouse_dlist_cdna_dna.idx \\\n",
    "    $virus_fasta"
   ]
  },
  {
   "cell_type": "code",
   "execution_count": null,
   "id": "c98fa9eb-b2c8-471b-8997-23c20952b85f",
   "metadata": {},
   "outputs": [],
   "source": []
  }
 ],
 "metadata": {
  "kernelspec": {
   "display_name": "Python 3 (ipykernel)",
   "language": "python",
   "name": "python3"
  },
  "language_info": {
   "codemirror_mode": {
    "name": "ipython",
    "version": 3
   },
   "file_extension": ".py",
   "mimetype": "text/x-python",
   "name": "python",
   "nbconvert_exporter": "python",
   "pygments_lexer": "ipython3",
   "version": "3.9.12"
  }
 },
 "nbformat": 4,
 "nbformat_minor": 5
}
