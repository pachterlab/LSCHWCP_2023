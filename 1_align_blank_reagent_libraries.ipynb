{
  "nbformat": 4,
  "nbformat_minor": 0,
  "metadata": {
    "colab": {
      "provenance": [],
      "machine_shape": "hm",
      "gpuType": "V28",
      "authorship_tag": "ABX9TyPPTBJ7qqaKQhUeJaEOAFFL",
      "include_colab_link": true
    },
    "kernelspec": {
      "name": "python3",
      "display_name": "Python 3"
    },
    "language_info": {
      "name": "python"
    },
    "accelerator": "TPU"
  },
  "cells": [
    {
      "cell_type": "markdown",
      "metadata": {
        "id": "view-in-github",
        "colab_type": "text"
      },
      "source": [
        "<a href=\"https://colab.research.google.com/github/pachterlab/LSCHWCP_2023/blob/main/1_align_blank_reagent_libraries.ipynb\" target=\"_parent\"><img src=\"https://colab.research.google.com/assets/colab-badge.svg\" alt=\"Open In Colab\"/></a>"
      ]
    },
    {
      "cell_type": "markdown",
      "source": [
        "# Contaminating virus-like sequences in laboratory reagents - Generate the count matrix\n",
        "### NOTE: To make this notebook run faster, choose a runtime type with more cores, e.g. \"TPU v2\".\n",
        "Sequencing data was generated from 'blank' sequencing libraries containing only sterile water and reagents (data source: https://www.ncbi.nlm.nih.gov/pmc/articles/PMC8625350/)."
      ],
      "metadata": {
        "id": "-wvSemrGG7nY"
      }
    },
    {
      "cell_type": "code",
      "source": [
        "!pip install -q anndata"
      ],
      "metadata": {
        "id": "BCBX0GLXyPwy"
      },
      "execution_count": 12,
      "outputs": []
    },
    {
      "cell_type": "code",
      "source": [
        "import multiprocessing\n",
        "import glob\n",
        "import json\n",
        "import anndata"
      ],
      "metadata": {
        "id": "cS5etfhGndEa"
      },
      "execution_count": 13,
      "outputs": []
    },
    {
      "cell_type": "code",
      "source": [
        "# Get the number of cores\n",
        "cores = multiprocessing.cpu_count()\n",
        "print(f\"Number of available cores: {cores}\")\n",
        "\n",
        "# Set number of threads to use during alignments equal to available number of cores\n",
        "threads = cores"
      ],
      "metadata": {
        "colab": {
          "base_uri": "https://localhost:8080/"
        },
        "id": "K3weH1YVao_v",
        "outputId": "8c0aa852-c004-403e-c5bb-4a2a9237ae1b"
      },
      "execution_count": 2,
      "outputs": [
        {
          "output_type": "stream",
          "name": "stdout",
          "text": [
            "Number of available cores: 96\n"
          ]
        }
      ]
    },
    {
      "cell_type": "code",
      "source": [
        "!pip install -q ffq gget kb_python"
      ],
      "metadata": {
        "colab": {
          "base_uri": "https://localhost:8080/"
        },
        "id": "4p_GoXeOauNI",
        "outputId": "a39058e3-ac2b-411f-e2a9-64e19366cb2d"
      },
      "execution_count": 3,
      "outputs": [
        {
          "output_type": "stream",
          "name": "stdout",
          "text": [
            "\u001b[2K     \u001b[90m━━━━━━━━━━━━━━━━━━━━━━━━━━━━━━━━━━━━━━━━\u001b[0m \u001b[32m43.1/43.1 MB\u001b[0m \u001b[31m20.0 MB/s\u001b[0m eta \u001b[36m0:00:00\u001b[0m\n",
            "\u001b[2K     \u001b[90m━━━━━━━━━━━━━━━━━━━━━━━━━━━━━━━━━━━━━━━━\u001b[0m \u001b[32m13.1/13.1 MB\u001b[0m \u001b[31m50.5 MB/s\u001b[0m eta \u001b[36m0:00:00\u001b[0m\n",
            "\u001b[2K     \u001b[90m━━━━━━━━━━━━━━━━━━━━━━━━━━━━━━━━━━━━━━━━\u001b[0m \u001b[32m117.3/117.3 kB\u001b[0m \u001b[31m5.7 MB/s\u001b[0m eta \u001b[36m0:00:00\u001b[0m\n",
            "\u001b[2K     \u001b[90m━━━━━━━━━━━━━━━━━━━━━━━━━━━━━━━━━━━━━━━━\u001b[0m \u001b[32m5.0/5.0 MB\u001b[0m \u001b[31m57.7 MB/s\u001b[0m eta \u001b[36m0:00:00\u001b[0m\n",
            "\u001b[2K     \u001b[90m━━━━━━━━━━━━━━━━━━━━━━━━━━━━━━━━━━━━━━━━\u001b[0m \u001b[32m25.2/25.2 MB\u001b[0m \u001b[31m27.5 MB/s\u001b[0m eta \u001b[36m0:00:00\u001b[0m\n",
            "\u001b[2K     \u001b[90m━━━━━━━━━━━━━━━━━━━━━━━━━━━━━━━━━━━━━━━━\u001b[0m \u001b[32m122.4/122.4 kB\u001b[0m \u001b[31m8.0 MB/s\u001b[0m eta \u001b[36m0:00:00\u001b[0m\n",
            "\u001b[2K     \u001b[90m━━━━━━━━━━━━━━━━━━━━━━━━━━━━━━━━━━━━━━━━\u001b[0m \u001b[32m4.8/4.8 MB\u001b[0m \u001b[31m40.2 MB/s\u001b[0m eta \u001b[36m0:00:00\u001b[0m\n",
            "\u001b[?25h  Preparing metadata (setup.py) ... \u001b[?25l\u001b[?25hdone\n",
            "\u001b[2K     \u001b[90m━━━━━━━━━━━━━━━━━━━━━━━━━━━━━━━━━━━━━━━━\u001b[0m \u001b[32m45.2/45.2 MB\u001b[0m \u001b[31m18.5 MB/s\u001b[0m eta \u001b[36m0:00:00\u001b[0m\n",
            "\u001b[2K     \u001b[90m━━━━━━━━━━━━━━━━━━━━━━━━━━━━━━━━━━━━━━━━\u001b[0m \u001b[32m12.1/12.1 MB\u001b[0m \u001b[31m47.6 MB/s\u001b[0m eta \u001b[36m0:00:00\u001b[0m\n",
            "\u001b[2K     \u001b[90m━━━━━━━━━━━━━━━━━━━━━━━━━━━━━━━━━━━━━━━━\u001b[0m \u001b[32m2.1/2.1 MB\u001b[0m \u001b[31m54.6 MB/s\u001b[0m eta \u001b[36m0:00:00\u001b[0m\n",
            "\u001b[2K     \u001b[90m━━━━━━━━━━━━━━━━━━━━━━━━━━━━━━━━━━━━━━━━\u001b[0m \u001b[32m40.5/40.5 kB\u001b[0m \u001b[31m3.7 MB/s\u001b[0m eta \u001b[36m0:00:00\u001b[0m\n",
            "\u001b[2K     \u001b[90m━━━━━━━━━━━━━━━━━━━━━━━━━━━━━━━━━━━━━━━━\u001b[0m \u001b[32m22.0/22.0 MB\u001b[0m \u001b[31m41.2 MB/s\u001b[0m eta \u001b[36m0:00:00\u001b[0m\n",
            "\u001b[2K     \u001b[90m━━━━━━━━━━━━━━━━━━━━━━━━━━━━━━━━━━━━━━━━\u001b[0m \u001b[32m233.9/233.9 kB\u001b[0m \u001b[31m17.9 MB/s\u001b[0m eta \u001b[36m0:00:00\u001b[0m\n",
            "\u001b[2K     \u001b[90m━━━━━━━━━━━━━━━━━━━━━━━━━━━━━━━━━━━━━━━━\u001b[0m \u001b[32m56.8/56.8 kB\u001b[0m \u001b[31m4.6 MB/s\u001b[0m eta \u001b[36m0:00:00\u001b[0m\n",
            "\u001b[?25h  Preparing metadata (setup.py) ... \u001b[?25l\u001b[?25hdone\n",
            "\u001b[2K     \u001b[90m━━━━━━━━━━━━━━━━━━━━━━━━━━━━━━━━━━━━━━━━\u001b[0m \u001b[32m10.8/10.8 MB\u001b[0m \u001b[31m53.4 MB/s\u001b[0m eta \u001b[36m0:00:00\u001b[0m\n",
            "\u001b[2K     \u001b[90m━━━━━━━━━━━━━━━━━━━━━━━━━━━━━━━━━━━━━━━━\u001b[0m \u001b[32m85.7/85.7 kB\u001b[0m \u001b[31m8.2 MB/s\u001b[0m eta \u001b[36m0:00:00\u001b[0m\n",
            "\u001b[2K     \u001b[90m━━━━━━━━━━━━━━━━━━━━━━━━━━━━━━━━━━━━━━━━\u001b[0m \u001b[32m1.6/1.6 MB\u001b[0m \u001b[31m48.8 MB/s\u001b[0m eta \u001b[36m0:00:00\u001b[0m\n",
            "\u001b[2K     \u001b[90m━━━━━━━━━━━━━━━━━━━━━━━━━━━━━━━━━━━━━━━━\u001b[0m \u001b[32m79.8/79.8 kB\u001b[0m \u001b[31m6.6 MB/s\u001b[0m eta \u001b[36m0:00:00\u001b[0m\n",
            "\u001b[?25h  Building wheel for loompy (setup.py) ... \u001b[?25l\u001b[?25hdone\n",
            "  Building wheel for session-info (setup.py) ... \u001b[?25l\u001b[?25hdone\n",
            "\u001b[31mERROR: pip's dependency resolver does not currently take into account all the packages that are installed. This behaviour is the source of the following dependency conflicts.\n",
            "google-colab 1.0.0 requires pandas==2.0.3, but you have pandas 1.5.3 which is incompatible.\u001b[0m\u001b[31m\n",
            "\u001b[0m"
          ]
        }
      ]
    },
    {
      "cell_type": "markdown",
      "source": [
        "# Download raw sequencing data"
      ],
      "metadata": {
        "id": "VywA2AsOJBB6"
      }
    },
    {
      "cell_type": "code",
      "execution_count": 4,
      "metadata": {
        "colab": {
          "base_uri": "https://localhost:8080/"
        },
        "id": "-ReDRV6LaiAV",
        "outputId": "54ce24ff-0934-4fc1-c444-c6056132cef9"
      },
      "outputs": [
        {
          "output_type": "stream",
          "name": "stdout",
          "text": [
            "[2024-05-06 20:39:32,932]    INFO Parsing run SRR14737466\n",
            "[2024-05-06 20:39:34,922]    INFO Parsing run SRR14737469\n",
            "[2024-05-06 20:39:36,634]    INFO Parsing run SRR14737470\n",
            "[2024-05-06 20:39:38,313]    INFO Parsing run SRR14737471\n",
            "8\n"
          ]
        },
        {
          "output_type": "execute_result",
          "data": {
            "text/plain": [
              "{'accession': 'SRR14737466',\n",
              " 'filename': 'SRR14737466_1.fastq.gz',\n",
              " 'filetype': 'fastq',\n",
              " 'filesize': 445000738,\n",
              " 'filenumber': 1,\n",
              " 'md5': '05052583388046a53e52a065fe31733f',\n",
              " 'urltype': 'ftp',\n",
              " 'url': 'ftp://ftp.sra.ebi.ac.uk/vol1/fastq/SRR147/066/SRR14737466/SRR14737466_1.fastq.gz'}"
            ]
          },
          "metadata": {},
          "execution_count": 4
        }
      ],
      "source": [
        "# Get download info for SRRs containing samples of reagents only\n",
        "out = \"bkg_viruses_data.json\"\n",
        "!ffq SRR14737466 SRR14737469 SRR14737470 SRR14737471 --ftp -o $out\n",
        "\n",
        "# Open ffq results\n",
        "f = open(out)\n",
        "data = json.load(f)\n",
        "f.close()\n",
        "\n",
        "print(len(data))\n",
        "data[0]"
      ]
    },
    {
      "cell_type": "code",
      "source": [
        "datafolder = \"raw_data\"\n",
        "!mkdir $datafolder"
      ],
      "metadata": {
        "id": "xs5iTj0-bGFr"
      },
      "execution_count": 5,
      "outputs": []
    },
    {
      "cell_type": "code",
      "source": [
        "# Download data\n",
        "for dataset in data:\n",
        "    url = dataset[\"url\"]\n",
        "    !cd $datafolder && curl -O $url"
      ],
      "metadata": {
        "colab": {
          "base_uri": "https://localhost:8080/"
        },
        "id": "6itaFGTUbAov",
        "outputId": "7fbd45bd-453d-4d2a-cb56-3977d23354e6"
      },
      "execution_count": 6,
      "outputs": [
        {
          "output_type": "stream",
          "name": "stdout",
          "text": [
            "  % Total    % Received % Xferd  Average Speed   Time    Time     Time  Current\n",
            "                                 Dload  Upload   Total   Spent    Left  Speed\n",
            "100  424M  100  424M    0     0  25.8M      0  0:00:16  0:00:16 --:--:-- 30.3M\n",
            "  % Total    % Received % Xferd  Average Speed   Time    Time     Time  Current\n",
            "                                 Dload  Upload   Total   Spent    Left  Speed\n",
            "100  454M  100  454M    0     0  26.8M      0  0:00:16  0:00:16 --:--:-- 30.6M\n",
            "  % Total    % Received % Xferd  Average Speed   Time    Time     Time  Current\n",
            "                                 Dload  Upload   Total   Spent    Left  Speed\n",
            "100 1299M  100 1299M    0     0  29.3M      0  0:00:44  0:00:44 --:--:-- 31.0M\n",
            "  % Total    % Received % Xferd  Average Speed   Time    Time     Time  Current\n",
            "                                 Dload  Upload   Total   Spent    Left  Speed\n",
            "100 1326M  100 1326M    0     0  29.2M      0  0:00:45  0:00:45 --:--:-- 30.5M\n",
            "  % Total    % Received % Xferd  Average Speed   Time    Time     Time  Current\n",
            "                                 Dload  Upload   Total   Spent    Left  Speed\n",
            "100 1820M  100 1820M    0     0  25.6M      0  0:01:10  0:01:10 --:--:-- 31.0M\n",
            "  % Total    % Received % Xferd  Average Speed   Time    Time     Time  Current\n",
            "                                 Dload  Upload   Total   Spent    Left  Speed\n",
            "100 1891M  100 1891M    0     0  27.8M      0  0:01:07  0:01:07 --:--:-- 30.8M\n",
            "  % Total    % Received % Xferd  Average Speed   Time    Time     Time  Current\n",
            "                                 Dload  Upload   Total   Spent    Left  Speed\n",
            "100  587M  100  587M    0     0  27.2M      0  0:00:21  0:00:21 --:--:-- 31.0M\n",
            "  % Total    % Received % Xferd  Average Speed   Time    Time     Time  Current\n",
            "                                 Dload  Upload   Total   Spent    Left  Speed\n",
            "100  585M  100  585M    0     0  27.2M      0  0:00:21  0:00:21 --:--:-- 30.6M\n"
          ]
        }
      ]
    },
    {
      "cell_type": "markdown",
      "source": [
        "# Download optimized PalmDB reference files"
      ],
      "metadata": {
        "id": "Kukn2zJUJMxl"
      }
    },
    {
      "cell_type": "code",
      "source": [
        "# Download the ID to taxonomy mapping\n",
        "!wget https://raw.githubusercontent.com/pachterlab/LSCHWCP_2023/main/PalmDB/ID_to_taxonomy_mapping.csv\n",
        "# Download the customized transcripts to gene mapping\n",
        "!wget https://raw.githubusercontent.com/pachterlab/LSCHWCP_2023/main/PalmDB/palmdb_clustered_t2g.txt\n",
        "# Download the RdRP amino acid sequences\n",
        "!wget https://raw.githubusercontent.com/pachterlab/LSCHWCP_2023/main/PalmDB/palmdb_rdrp_seqs.fa"
      ],
      "metadata": {
        "colab": {
          "base_uri": "https://localhost:8080/"
        },
        "id": "P9uB4R6gaw0y",
        "outputId": "1247c780-9b81-4bb1-bc7c-e4a0a863e4ac"
      },
      "execution_count": 7,
      "outputs": [
        {
          "output_type": "stream",
          "name": "stdout",
          "text": [
            "--2024-05-06 20:44:48--  https://raw.githubusercontent.com/pachterlab/LSCHWCP_2023/main/PalmDB/ID_to_taxonomy_mapping.csv\n",
            "Resolving raw.githubusercontent.com (raw.githubusercontent.com)... 185.199.108.133, 185.199.109.133, 185.199.110.133, ...\n",
            "Connecting to raw.githubusercontent.com (raw.githubusercontent.com)|185.199.108.133|:443... connected.\n",
            "HTTP request sent, awaiting response... 200 OK\n",
            "Length: 19705497 (19M) [text/plain]\n",
            "Saving to: ‘ID_to_taxonomy_mapping.csv’\n",
            "\n",
            "ID_to_taxonomy_mapp 100%[===================>]  18.79M  --.-KB/s    in 0.1s    \n",
            "\n",
            "2024-05-06 20:44:49 (149 MB/s) - ‘ID_to_taxonomy_mapping.csv’ saved [19705497/19705497]\n",
            "\n",
            "--2024-05-06 20:44:49--  https://raw.githubusercontent.com/pachterlab/LSCHWCP_2023/main/PalmDB/palmdb_clustered_t2g.txt\n",
            "Resolving raw.githubusercontent.com (raw.githubusercontent.com)... 185.199.111.133, 185.199.109.133, 185.199.108.133, ...\n",
            "Connecting to raw.githubusercontent.com (raw.githubusercontent.com)|185.199.111.133|:443... connected.\n",
            "HTTP request sent, awaiting response... 200 OK\n",
            "Length: 4561689 (4.3M) [text/plain]\n",
            "Saving to: ‘palmdb_clustered_t2g.txt’\n",
            "\n",
            "palmdb_clustered_t2 100%[===================>]   4.35M  --.-KB/s    in 0.07s   \n",
            "\n",
            "2024-05-06 20:44:50 (59.2 MB/s) - ‘palmdb_clustered_t2g.txt’ saved [4561689/4561689]\n",
            "\n",
            "--2024-05-06 20:44:50--  https://raw.githubusercontent.com/pachterlab/LSCHWCP_2023/main/PalmDB/palmdb_rdrp_seqs.fa\n",
            "Resolving raw.githubusercontent.com (raw.githubusercontent.com)... 185.199.108.133, 185.199.109.133, 185.199.110.133, ...\n",
            "Connecting to raw.githubusercontent.com (raw.githubusercontent.com)|185.199.108.133|:443... connected.\n",
            "HTTP request sent, awaiting response... 200 OK\n",
            "Length: 35361991 (34M) [text/plain]\n",
            "Saving to: ‘palmdb_rdrp_seqs.fa’\n",
            "\n",
            "palmdb_rdrp_seqs.fa 100%[===================>]  33.72M   194MB/s    in 0.2s    \n",
            "\n",
            "2024-05-06 20:44:51 (194 MB/s) - ‘palmdb_rdrp_seqs.fa’ saved [35361991/35361991]\n",
            "\n"
          ]
        }
      ]
    },
    {
      "cell_type": "markdown",
      "source": [
        "# Generate PalmDB/virus amino acid (--aa) reference index"
      ],
      "metadata": {
        "id": "FRBUa3WNJl4-"
      }
    },
    {
      "cell_type": "code",
      "source": [
        "%%time\n",
        "!kb ref \\\n",
        "  --workflow custom \\\n",
        "  --aa \\\n",
        "  -t $threads \\\n",
        "  -i virus_index.idx \\\n",
        "  palmdb_rdrp_seqs.fa"
      ],
      "metadata": {
        "colab": {
          "base_uri": "https://localhost:8080/"
        },
        "id": "1Wvy84UJboBS",
        "outputId": "b91b69e8-6072-4801-82e5-1daefdef32ca"
      },
      "execution_count": 8,
      "outputs": [
        {
          "output_type": "stream",
          "name": "stdout",
          "text": [
            "[2024-05-06 20:45:09,813]    INFO [ref_custom] Indexing palmdb_rdrp_seqs.fa to virus_index.idx\n",
            "[2024-05-06 20:46:56,217]    INFO [ref_custom] Finished creating custom index\n",
            "CPU times: user 829 ms, sys: 179 ms, total: 1.01 s\n",
            "Wall time: 2min 5s\n"
          ]
        }
      ]
    },
    {
      "cell_type": "markdown",
      "source": [
        "# Generate a count matrix for each library using kallisto translated search (--aa)"
      ],
      "metadata": {
        "id": "yysWJezaJoz7"
      }
    },
    {
      "cell_type": "code",
      "source": [
        "%%time\n",
        "out_folder = \"aligned\"\n",
        "!mkdir $out_folder\n",
        "\n",
        "for filename in glob.glob(f\"{datafolder}/*.fastq.gz\"):\n",
        "    sample = filename.split(\"/\")[-1].split(\".\")[0]\n",
        "\n",
        "    !kb count \\\n",
        "        --aa \\\n",
        "        -t $threads \\\n",
        "        -i virus_index.idx \\\n",
        "        -g palmdb_clustered_t2g.txt \\\n",
        "        --h5ad \\\n",
        "        -x bulk \\\n",
        "        --parity single \\\n",
        "        -o $out_folder/$sample \\\n",
        "        $filename"
      ],
      "metadata": {
        "colab": {
          "base_uri": "https://localhost:8080/"
        },
        "id": "XoNGwlN2azKd",
        "outputId": "2f34cabd-62a5-4ce1-d703-0f8772c4d05d"
      },
      "execution_count": 9,
      "outputs": [
        {
          "output_type": "stream",
          "name": "stdout",
          "text": [
            "[2024-05-06 20:47:08,891]    INFO [count] Using index virus_index.idx to generate BUS file to aligned/SRR14737466_1 from\n",
            "[2024-05-06 20:47:08,892]    INFO [count]         raw_data/SRR14737466_1.fastq.gz\n",
            "[2024-05-06 20:47:42,313]    INFO [count] Sorting BUS file aligned/SRR14737466_1/output.bus to aligned/SRR14737466_1/tmp/output.s.bus\n",
            "[2024-05-06 20:47:44,725]    INFO [count] Inspecting BUS file aligned/SRR14737466_1/tmp/output.s.bus\n",
            "[2024-05-06 20:47:45,833]    INFO [count] Generating count matrix aligned/SRR14737466_1/counts_unfiltered/cells_x_genes from BUS file aligned/SRR14737466_1/tmp/output.s.bus\n",
            "[2024-05-06 20:47:47,343]    INFO [count] Writing gene names to file aligned/SRR14737466_1/counts_unfiltered/cells_x_genes.genes.names.txt\n",
            "[2024-05-06 20:47:47,608] WARNING [count] 99228 gene IDs do not have corresponding valid gene names. These genes will use their gene IDs instead.\n",
            "[2024-05-06 20:47:47,636]    INFO [count] Reading matrix aligned/SRR14737466_1/counts_unfiltered/cells_x_genes.mtx\n",
            "[2024-05-06 20:47:47,766]    INFO [count] Writing matrix to h5ad aligned/SRR14737466_1/counts_unfiltered/adata.h5ad\n",
            "[2024-05-06 20:47:59,234]    INFO [count] Using index virus_index.idx to generate BUS file to aligned/SRR14737470_2 from\n",
            "[2024-05-06 20:47:59,235]    INFO [count]         raw_data/SRR14737470_2.fastq.gz\n",
            "[2024-05-06 20:50:25,576]    INFO [count] Sorting BUS file aligned/SRR14737470_2/output.bus to aligned/SRR14737470_2/tmp/output.s.bus\n",
            "[2024-05-06 20:50:28,289]    INFO [count] Inspecting BUS file aligned/SRR14737470_2/tmp/output.s.bus\n",
            "[2024-05-06 20:50:29,398]    INFO [count] Generating count matrix aligned/SRR14737470_2/counts_unfiltered/cells_x_genes from BUS file aligned/SRR14737470_2/tmp/output.s.bus\n",
            "[2024-05-06 20:50:30,908]    INFO [count] Writing gene names to file aligned/SRR14737470_2/counts_unfiltered/cells_x_genes.genes.names.txt\n",
            "[2024-05-06 20:50:31,176] WARNING [count] 99228 gene IDs do not have corresponding valid gene names. These genes will use their gene IDs instead.\n",
            "[2024-05-06 20:50:31,207]    INFO [count] Reading matrix aligned/SRR14737470_2/counts_unfiltered/cells_x_genes.mtx\n",
            "[2024-05-06 20:50:31,337]    INFO [count] Writing matrix to h5ad aligned/SRR14737470_2/counts_unfiltered/adata.h5ad\n",
            "[2024-05-06 20:50:42,834]    INFO [count] Using index virus_index.idx to generate BUS file to aligned/SRR14737469_1 from\n",
            "[2024-05-06 20:50:42,834]    INFO [count]         raw_data/SRR14737469_1.fastq.gz\n",
            "[2024-05-06 20:52:13,720]    INFO [count] Sorting BUS file aligned/SRR14737469_1/output.bus to aligned/SRR14737469_1/tmp/output.s.bus\n",
            "[2024-05-06 20:52:16,132]    INFO [count] Inspecting BUS file aligned/SRR14737469_1/tmp/output.s.bus\n",
            "[2024-05-06 20:52:17,241]    INFO [count] Generating count matrix aligned/SRR14737469_1/counts_unfiltered/cells_x_genes from BUS file aligned/SRR14737469_1/tmp/output.s.bus\n",
            "[2024-05-06 20:52:18,751]    INFO [count] Writing gene names to file aligned/SRR14737469_1/counts_unfiltered/cells_x_genes.genes.names.txt\n",
            "[2024-05-06 20:52:19,017] WARNING [count] 99228 gene IDs do not have corresponding valid gene names. These genes will use their gene IDs instead.\n",
            "[2024-05-06 20:52:19,046]    INFO [count] Reading matrix aligned/SRR14737469_1/counts_unfiltered/cells_x_genes.mtx\n",
            "[2024-05-06 20:52:19,183]    INFO [count] Writing matrix to h5ad aligned/SRR14737469_1/counts_unfiltered/adata.h5ad\n",
            "[2024-05-06 20:52:30,751]    INFO [count] Using index virus_index.idx to generate BUS file to aligned/SRR14737466_2 from\n",
            "[2024-05-06 20:52:30,751]    INFO [count]         raw_data/SRR14737466_2.fastq.gz\n",
            "[2024-05-06 20:53:05,077]    INFO [count] Sorting BUS file aligned/SRR14737466_2/output.bus to aligned/SRR14737466_2/tmp/output.s.bus\n",
            "[2024-05-06 20:53:07,388]    INFO [count] Inspecting BUS file aligned/SRR14737466_2/tmp/output.s.bus\n",
            "[2024-05-06 20:53:08,497]    INFO [count] Generating count matrix aligned/SRR14737466_2/counts_unfiltered/cells_x_genes from BUS file aligned/SRR14737466_2/tmp/output.s.bus\n",
            "[2024-05-06 20:53:10,007]    INFO [count] Writing gene names to file aligned/SRR14737466_2/counts_unfiltered/cells_x_genes.genes.names.txt\n",
            "[2024-05-06 20:53:10,266] WARNING [count] 99228 gene IDs do not have corresponding valid gene names. These genes will use their gene IDs instead.\n",
            "[2024-05-06 20:53:10,295]    INFO [count] Reading matrix aligned/SRR14737466_2/counts_unfiltered/cells_x_genes.mtx\n",
            "[2024-05-06 20:53:10,429]    INFO [count] Writing matrix to h5ad aligned/SRR14737466_2/counts_unfiltered/adata.h5ad\n",
            "[2024-05-06 20:53:21,989]    INFO [count] Using index virus_index.idx to generate BUS file to aligned/SRR14737470_1 from\n",
            "[2024-05-06 20:53:21,989]    INFO [count]         raw_data/SRR14737470_1.fastq.gz\n",
            "[2024-05-06 20:55:44,694]    INFO [count] Sorting BUS file aligned/SRR14737470_1/output.bus to aligned/SRR14737470_1/tmp/output.s.bus\n",
            "[2024-05-06 20:55:47,606]    INFO [count] Inspecting BUS file aligned/SRR14737470_1/tmp/output.s.bus\n",
            "[2024-05-06 20:55:48,714]    INFO [count] Generating count matrix aligned/SRR14737470_1/counts_unfiltered/cells_x_genes from BUS file aligned/SRR14737470_1/tmp/output.s.bus\n",
            "[2024-05-06 20:55:50,224]    INFO [count] Writing gene names to file aligned/SRR14737470_1/counts_unfiltered/cells_x_genes.genes.names.txt\n",
            "[2024-05-06 20:55:50,488] WARNING [count] 99228 gene IDs do not have corresponding valid gene names. These genes will use their gene IDs instead.\n",
            "[2024-05-06 20:55:50,516]    INFO [count] Reading matrix aligned/SRR14737470_1/counts_unfiltered/cells_x_genes.mtx\n",
            "[2024-05-06 20:55:50,647]    INFO [count] Writing matrix to h5ad aligned/SRR14737470_1/counts_unfiltered/adata.h5ad\n",
            "[2024-05-06 20:56:02,149]    INFO [count] Using index virus_index.idx to generate BUS file to aligned/SRR14737469_2 from\n",
            "[2024-05-06 20:56:02,149]    INFO [count]         raw_data/SRR14737469_2.fastq.gz\n",
            "[2024-05-06 20:57:32,807]    INFO [count] Sorting BUS file aligned/SRR14737469_2/output.bus to aligned/SRR14737469_2/tmp/output.s.bus\n",
            "[2024-05-06 20:57:35,219]    INFO [count] Inspecting BUS file aligned/SRR14737469_2/tmp/output.s.bus\n",
            "[2024-05-06 20:57:36,327]    INFO [count] Generating count matrix aligned/SRR14737469_2/counts_unfiltered/cells_x_genes from BUS file aligned/SRR14737469_2/tmp/output.s.bus\n",
            "[2024-05-06 20:57:37,837]    INFO [count] Writing gene names to file aligned/SRR14737469_2/counts_unfiltered/cells_x_genes.genes.names.txt\n",
            "[2024-05-06 20:57:38,106] WARNING [count] 99228 gene IDs do not have corresponding valid gene names. These genes will use their gene IDs instead.\n",
            "[2024-05-06 20:57:38,136]    INFO [count] Reading matrix aligned/SRR14737469_2/counts_unfiltered/cells_x_genes.mtx\n",
            "[2024-05-06 20:57:38,266]    INFO [count] Writing matrix to h5ad aligned/SRR14737469_2/counts_unfiltered/adata.h5ad\n",
            "[2024-05-06 20:57:49,838]    INFO [count] Using index virus_index.idx to generate BUS file to aligned/SRR14737471_2 from\n",
            "[2024-05-06 20:57:49,838]    INFO [count]         raw_data/SRR14737471_2.fastq.gz\n",
            "[2024-05-06 20:58:41,608]    INFO [count] Sorting BUS file aligned/SRR14737471_2/output.bus to aligned/SRR14737471_2/tmp/output.s.bus\n",
            "[2024-05-06 20:58:44,119]    INFO [count] Inspecting BUS file aligned/SRR14737471_2/tmp/output.s.bus\n",
            "[2024-05-06 20:58:45,227]    INFO [count] Generating count matrix aligned/SRR14737471_2/counts_unfiltered/cells_x_genes from BUS file aligned/SRR14737471_2/tmp/output.s.bus\n",
            "[2024-05-06 20:58:46,737]    INFO [count] Writing gene names to file aligned/SRR14737471_2/counts_unfiltered/cells_x_genes.genes.names.txt\n",
            "[2024-05-06 20:58:47,011] WARNING [count] 99228 gene IDs do not have corresponding valid gene names. These genes will use their gene IDs instead.\n",
            "[2024-05-06 20:58:47,041]    INFO [count] Reading matrix aligned/SRR14737471_2/counts_unfiltered/cells_x_genes.mtx\n",
            "[2024-05-06 20:58:47,169]    INFO [count] Writing matrix to h5ad aligned/SRR14737471_2/counts_unfiltered/adata.h5ad\n",
            "[2024-05-06 20:58:58,627]    INFO [count] Using index virus_index.idx to generate BUS file to aligned/SRR14737471_1 from\n",
            "[2024-05-06 20:58:58,627]    INFO [count]         raw_data/SRR14737471_1.fastq.gz\n",
            "[2024-05-06 20:59:49,289]    INFO [count] Sorting BUS file aligned/SRR14737471_1/output.bus to aligned/SRR14737471_1/tmp/output.s.bus\n",
            "[2024-05-06 20:59:51,801]    INFO [count] Inspecting BUS file aligned/SRR14737471_1/tmp/output.s.bus\n",
            "[2024-05-06 20:59:52,910]    INFO [count] Generating count matrix aligned/SRR14737471_1/counts_unfiltered/cells_x_genes from BUS file aligned/SRR14737471_1/tmp/output.s.bus\n",
            "[2024-05-06 20:59:54,419]    INFO [count] Writing gene names to file aligned/SRR14737471_1/counts_unfiltered/cells_x_genes.genes.names.txt\n",
            "[2024-05-06 20:59:54,684] WARNING [count] 99228 gene IDs do not have corresponding valid gene names. These genes will use their gene IDs instead.\n",
            "[2024-05-06 20:59:54,713]    INFO [count] Reading matrix aligned/SRR14737471_1/counts_unfiltered/cells_x_genes.mtx\n",
            "[2024-05-06 20:59:54,842]    INFO [count] Writing matrix to h5ad aligned/SRR14737471_1/counts_unfiltered/adata.h5ad\n",
            "CPU times: user 5.08 s, sys: 862 ms, total: 5.94 s\n",
            "Wall time: 12min 58s\n"
          ]
        }
      ]
    },
    {
      "cell_type": "markdown",
      "source": [
        "# Add metadata to count matrices and combine them into a single count matrix"
      ],
      "metadata": {
        "id": "FT27AUJ4JugB"
      }
    },
    {
      "cell_type": "code",
      "source": [
        "# Experimental conditions of each blank negative control sample as described in the original publication (linked above)\n",
        "tech_lookup = {}\n",
        "tech_lookup[\"SRR14737471\"] = {\n",
        "    \"Sequencing Platform\" : \"Illumina Novaseq 6000 150 cycle kit (2 × 75 nt reads)\",\n",
        "    \"RNA Extraction\" : \"RNeasy Plus Universal Kits (Qiagen, Hilden, Germany)\",\n",
        "    \"Library Preparation\" : \"Trio RNA-seq + UDI (NuGEN)\"\n",
        "}\n",
        "tech_lookup[\"SRR14737470\"] = {\n",
        "    \"Sequencing Platform\" : \"Illumina Novaseq 6000 150 cycle kit (2 × 75 nt reads)\",\n",
        "    \"RNA Extraction\" : \"RNeasy Plus Universal Kits (Qiagen, Hilden, Germany)\",\n",
        "    \"Library Preparation\" : \"Trio RNA-seq + UDI (NuGEN)\"\n",
        "}\n",
        "tech_lookup[\"SRR14737466\"] = {\n",
        "    \"Sequencing Platform\" : \"Illumina MiSeq 150 cycle kit (2 × 75 nt reads)\",\n",
        "    \"RNA Extraction\" : \"Total RNA purification Kit (Norgen BioTek, Thorold, ON, Canada)\",\n",
        "    \"Library Preparation\" : \"SMARTer Stranded Total RNA-Seq Kit v2-Pico Input Mammalian (Clontech)\"\n",
        "}\n",
        "tech_lookup[\"SRR14737469\"] = {\n",
        "    \"Sequencing Platform\" : \"Illumina NextSeq 500, mid-output 150 cycle kit (2 × 75 nt reads)\",\n",
        "    \"RNA Extraction\" : \"Total RNA Purification Kit (Norgen Biotek, Thorold, ON, Canada)\",\n",
        "    \"Library Preparation\" : \"SMARTer Stranded Total RNA-Seq Kit v2-Pico Input Mammalian (Clontech)\"\n",
        "}"
      ],
      "metadata": {
        "id": "54Xhr-V4bxkH"
      },
      "execution_count": 10,
      "outputs": []
    },
    {
      "cell_type": "code",
      "source": [
        "adatas = []\n",
        "for filepath in sorted(glob.glob(f\"{out_folder}/*\")):\n",
        "    adata_temp = anndata.read_h5ad(filepath + \"/counts_unfiltered/adata.h5ad\")\n",
        "\n",
        "    # Add metadata to obs\n",
        "    adata_temp.obs[\"Paired Read\"] = filepath.split(\"/\")[-1]\n",
        "    srr = filepath.split(\"/\")[-1].split(\"_\")[0]\n",
        "    adata_temp.obs[\"SRR\"] = srr\n",
        "    adata_temp.obs[\"Sequencing Platform\"] = tech_lookup[srr][\"Sequencing Platform\"]\n",
        "    adata_temp.obs[\"RNA Extraction\"] = tech_lookup[srr][\"Sequencing Platform\"]\n",
        "    adata_temp.obs[\"Library Preparation\"] = tech_lookup[srr][\"Library Preparation\"]\n",
        "\n",
        "    adatas.append(adata_temp)"
      ],
      "metadata": {
        "id": "inXx6GeFeltq"
      },
      "execution_count": 14,
      "outputs": []
    },
    {
      "cell_type": "code",
      "source": [
        "# Concatenate anndata objects into a single object\n",
        "adata = anndata.concat(adatas, join=\"outer\")\n",
        "adata.obs[\"Sequencing Platform (short)\"] = [\" \".join(i.split(\" \")[:3]).replace(\",\", \"\") for i in adata.obs[\"Sequencing Platform\"].values]\n",
        "adata.obs[\"Total Reads\"] = adata.X.sum(axis=1)\n",
        "adata.obs = adata.obs.set_index(\"Paired Read\", drop=True)\n",
        "adata"
      ],
      "metadata": {
        "colab": {
          "base_uri": "https://localhost:8080/"
        },
        "id": "BdecoZeVgG3S",
        "outputId": "b4d283ea-4941-4364-cd95-8da8e8d8b908"
      },
      "execution_count": 15,
      "outputs": [
        {
          "output_type": "stream",
          "name": "stderr",
          "text": [
            "/usr/local/lib/python3.10/dist-packages/anndata/_core/anndata.py:1818: UserWarning: Observation names are not unique. To make them unique, call `.obs_names_make_unique`.\n",
            "  utils.warn_names_duplicates(\"obs\")\n"
          ]
        },
        {
          "output_type": "execute_result",
          "data": {
            "text/plain": [
              "AnnData object with n_obs × n_vars = 8 × 99228\n",
              "    obs: 'SRR', 'Sequencing Platform', 'RNA Extraction', 'Library Preparation', 'Sequencing Platform (short)', 'Total Reads'"
            ]
          },
          "metadata": {},
          "execution_count": 15
        }
      ]
    },
    {
      "cell_type": "code",
      "source": [
        "# Remove virus IDs that don't have at least one count\n",
        "adata = adata[:, (adata.X).sum(axis=0) > 0]\n",
        "adata"
      ],
      "metadata": {
        "colab": {
          "base_uri": "https://localhost:8080/"
        },
        "id": "raZehXbxgKQ_",
        "outputId": "3cfcd205-d449-41b1-cdfb-764e7cc5f44a"
      },
      "execution_count": 16,
      "outputs": [
        {
          "output_type": "execute_result",
          "data": {
            "text/plain": [
              "View of AnnData object with n_obs × n_vars = 8 × 2214\n",
              "    obs: 'SRR', 'Sequencing Platform', 'RNA Extraction', 'Library Preparation', 'Sequencing Platform (short)', 'Total Reads'"
            ]
          },
          "metadata": {},
          "execution_count": 16
        }
      ]
    },
    {
      "cell_type": "code",
      "source": [
        "# Save anndata object\n",
        "adata.write(\"viral_sequences_in_laboratory_reagents.h5ad\")"
      ],
      "metadata": {
        "colab": {
          "base_uri": "https://localhost:8080/"
        },
        "id": "bKCsN3d9gNck",
        "outputId": "568b5033-3408-44fa-c37f-04cee3d8def0"
      },
      "execution_count": 17,
      "outputs": [
        {
          "output_type": "stream",
          "name": "stderr",
          "text": [
            "/usr/local/lib/python3.10/dist-packages/anndata/_core/anndata.py:1209: ImplicitModificationWarning: Trying to modify attribute `.obs` of view, initializing view as actual.\n",
            "  df[key] = c\n",
            "/usr/local/lib/python3.10/dist-packages/anndata/_core/anndata.py:1209: ImplicitModificationWarning: Trying to modify attribute `.obs` of view, initializing view as actual.\n",
            "  df[key] = c\n",
            "/usr/local/lib/python3.10/dist-packages/anndata/_core/anndata.py:1209: ImplicitModificationWarning: Trying to modify attribute `.obs` of view, initializing view as actual.\n",
            "  df[key] = c\n",
            "/usr/local/lib/python3.10/dist-packages/anndata/_core/anndata.py:1209: ImplicitModificationWarning: Trying to modify attribute `.obs` of view, initializing view as actual.\n",
            "  df[key] = c\n",
            "/usr/local/lib/python3.10/dist-packages/anndata/_core/anndata.py:1209: ImplicitModificationWarning: Trying to modify attribute `.obs` of view, initializing view as actual.\n",
            "  df[key] = c\n"
          ]
        }
      ]
    },
    {
      "cell_type": "code",
      "source": [],
      "metadata": {
        "id": "xzw_IMXWgWNm"
      },
      "execution_count": null,
      "outputs": []
    }
  ]
}