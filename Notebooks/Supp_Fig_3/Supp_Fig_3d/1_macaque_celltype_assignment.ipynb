{
  "cells": [
    {
      "cell_type": "markdown",
      "metadata": {
        "id": "view-in-github",
        "colab_type": "text"
      },
      "source": [
        "<a href=\"https://colab.research.google.com/github/pachterlab/LSCHWCP_2023/blob/main/Notebooks/Supp_Fig_3/Supp_Fig_3d/1_macaque_celltype_assignment.ipynb\" target=\"_parent\"><img src=\"https://colab.research.google.com/assets/colab-badge.svg\" alt=\"Open In Colab\"/></a>"
      ]
    },
    {
      "cell_type": "markdown",
      "id": "926dd738-be87-44ff-8f58-8de59c409146",
      "metadata": {
        "id": "926dd738-be87-44ff-8f58-8de59c409146"
      },
      "source": [
        "# Host cell type assignment"
      ]
    },
    {
      "cell_type": "code",
      "source": [
        "!pip install -q anndata gget"
      ],
      "metadata": {
        "id": "gJZQA90BjvAE"
      },
      "id": "gJZQA90BjvAE",
      "execution_count": null,
      "outputs": []
    },
    {
      "cell_type": "code",
      "execution_count": null,
      "id": "f7fe3711-6fd3-44d3-a8c4-e5f0ecb09c1c",
      "metadata": {
        "id": "f7fe3711-6fd3-44d3-a8c4-e5f0ecb09c1c"
      },
      "outputs": [],
      "source": [
        "import anndata\n",
        "import numpy as np\n",
        "import pandas as pd\n",
        "import json\n",
        "import os\n",
        "import gget\n",
        "import glob\n",
        "import matplotlib.pyplot as plt\n",
        "%config InlineBackend.figure_format='retina'\n",
        "%load_ext blackcellmagic\n",
        "\n",
        "import scanpy as sc\n",
        "# sc.set_figure_params(figsize=(6, 6), frameon=False)\n",
        "# sc.settings.n_jobs=2\n",
        "\n",
        "def nd(arr):\n",
        "    \"\"\"\n",
        "    Function to transform numpy matrix to nd array.\n",
        "    \"\"\"\n",
        "    return np.asarray(arr).reshape(-1)"
      ]
    },
    {
      "cell_type": "markdown",
      "id": "d376901e-4010-49bc-9466-8f1aff44980d",
      "metadata": {
        "id": "d376901e-4010-49bc-9466-8f1aff44980d"
      },
      "source": [
        "___\n",
        "# Load data"
      ]
    },
    {
      "cell_type": "markdown",
      "source": [
        "The count matrix was generated in [this notebook](https://github.com/pachterlab/LSCHWCP_2023/blob/main/Notebooks/Supp_Fig_3/Supp_Fig_3abc/2_host_normalization_clustering.ipynb)."
      ],
      "metadata": {
        "id": "aiuthLF9kVZ0"
      },
      "id": "aiuthLF9kVZ0"
    },
    {
      "cell_type": "code",
      "source": [
        "# Load filtered, normalized and clustered macaque count matrix from Caltech Data\n",
        "# !wget"
      ],
      "metadata": {
        "id": "tsgamwAvkNq0"
      },
      "id": "tsgamwAvkNq0",
      "execution_count": null,
      "outputs": []
    },
    {
      "cell_type": "code",
      "execution_count": null,
      "id": "c1717316-3390-473a-8760-0e3f03dbd53b",
      "metadata": {
        "id": "c1717316-3390-473a-8760-0e3f03dbd53b"
      },
      "outputs": [],
      "source": [
        "host_adata = anndata.read(\"macaque_QC_norm_leiden.h5ad\")\n",
        "host_adata"
      ]
    },
    {
      "cell_type": "markdown",
      "id": "4f48a02d-3ae5-4292-8b99-0711d97a9d69",
      "metadata": {
        "id": "4f48a02d-3ae5-4292-8b99-0711d97a9d69"
      },
      "source": [
        "___\n",
        "# Load marker genes"
      ]
    },
    {
      "cell_type": "code",
      "source": [
        "!wget https://raw.githubusercontent.com/pachterlab/LSCHWCP_2023/main/Notebooks/Supp_Fig_3/Supp_Fig_3d/marker_genes.csv\n",
        "marker_df = pd.read_csv(\"marker_genes.csv\")"
      ],
      "metadata": {
        "id": "jgScOm8wkLCX"
      },
      "id": "jgScOm8wkLCX",
      "execution_count": null,
      "outputs": []
    },
    {
      "cell_type": "code",
      "execution_count": null,
      "id": "98f43805-26f1-49f2-bc1a-0e1bd221bf95",
      "metadata": {
        "id": "98f43805-26f1-49f2-bc1a-0e1bd221bf95"
      },
      "outputs": [],
      "source": [
        "# Get Ensembl IDs from gene symbols using gget\n",
        "search_results = gget.search(marker_df[\"gene_symbol\"].values, species=\"macaca_mulatta\", release=109)\n",
        "# Filter gget results for exact matches and protein-coding biotypes\n",
        "search_results_filtered = search_results[search_results[\"gene_name\"].isin(marker_df[\"gene_symbol\"].values)][search_results[\"biotype\"]==\"protein_coding\"]"
      ]
    },
    {
      "cell_type": "code",
      "execution_count": null,
      "id": "634cf529-7141-4dc9-8c52-b552233da058",
      "metadata": {
        "id": "634cf529-7141-4dc9-8c52-b552233da058"
      },
      "outputs": [],
      "source": [
        "# Add Ensembl IDs to marker gene df\n",
        "marker_df[\"ensembl_id\"] = np.NaN\n",
        "\n",
        "ensembl_id_list = []\n",
        "\n",
        "for i, gene_symbol in enumerate(marker_df[\"gene_symbol\"].values):\n",
        "    ensembl_ids = search_results_filtered[\n",
        "        search_results_filtered[\"gene_name\"] == gene_symbol\n",
        "    ][\"ensembl_id\"].values\n",
        "\n",
        "    if len(ensembl_ids) < 1:\n",
        "        if gene_symbol.startswith(\"ENS\"):\n",
        "            ensembl_id_list.append([gene_symbol])\n",
        "        else:\n",
        "            print(f\"An Ensembl ID for gene {gene_symbol} could not be found.\")\n",
        "\n",
        "    else:\n",
        "        ensembl_id_list.append(ensembl_ids)\n",
        "\n",
        "marker_df[\"ensembl_id_list\"] = ensembl_id_list\n",
        "marker_df[\"ensembl_id\"] = [id_list[0] for id_list in ensembl_id_list]\n",
        "marker_df"
      ]
    },
    {
      "cell_type": "markdown",
      "id": "05238afa-6b8e-4098-b4c1-2a18a5c0c52c",
      "metadata": {
        "id": "05238afa-6b8e-4098-b4c1-2a18a5c0c52c"
      },
      "source": [
        "___"
      ]
    },
    {
      "cell_type": "code",
      "execution_count": null,
      "id": "43522c91-e8c4-48be-8ae1-0376d343608d",
      "metadata": {
        "id": "43522c91-e8c4-48be-8ae1-0376d343608d"
      },
      "outputs": [],
      "source": [
        "def flatten(xss):\n",
        "    \"\"\"\n",
        "    Function to flatten array of arrays.\n",
        "    \"\"\"\n",
        "    return [x for xs in xss for x in xs]"
      ]
    },
    {
      "cell_type": "markdown",
      "id": "69371035-67bc-42f0-b3fc-9c77a84e3d96",
      "metadata": {
        "id": "69371035-67bc-42f0-b3fc-9c77a84e3d96"
      },
      "source": [
        "Add gene names of marker genes to adata:"
      ]
    },
    {
      "cell_type": "code",
      "execution_count": null,
      "id": "c24761e6-4242-4ef8-ae79-da6fd8d5cad0",
      "metadata": {
        "id": "c24761e6-4242-4ef8-ae79-da6fd8d5cad0"
      },
      "outputs": [],
      "source": [
        "host_adata.var[\"gene_symbol\"] = [np.NaN] * len(host_adata.var)\n",
        "\n",
        "for ensembl_id, gene_symbol in zip(marker_df[\"ensembl_id\"].values, marker_df[\"gene_name\"].values):\n",
        "    host_adata.var.loc[host_adata.var.index == ensembl_id, \"gene_symbol\"] = gene_symbol"
      ]
    },
    {
      "cell_type": "code",
      "execution_count": null,
      "id": "b59354ac-7543-4358-88c4-86217cd93fc7",
      "metadata": {
        "tags": [],
        "id": "b59354ac-7543-4358-88c4-86217cd93fc7"
      },
      "outputs": [],
      "source": [
        "host_adata.var[~host_adata.var['gene_symbol'].isnull()]"
      ]
    },
    {
      "cell_type": "markdown",
      "id": "f1e8c26d-4cc1-4f1f-9e16-636bcb406bb0",
      "metadata": {
        "id": "f1e8c26d-4cc1-4f1f-9e16-636bcb406bb0"
      },
      "source": [
        "Plot marker gene expression per group:"
      ]
    },
    {
      "cell_type": "code",
      "execution_count": null,
      "id": "7f33591a-d2fe-4433-a43b-911bd34a6e35",
      "metadata": {
        "id": "7f33591a-d2fe-4433-a43b-911bd34a6e35"
      },
      "outputs": [],
      "source": [
        "celltypes = ['T cells', 'B cells', 'Plasmablast', 'Natural killer cells', 'Dendritic cells', 'Immature neutrophils', 'Monocytes', 'Panleukocyte', 'Cytokines', 'Proliferation']\n",
        "\n",
        "# Grab markers in order of celltypes\n",
        "markers = []\n",
        "x_labels = []\n",
        "for celltype in celltypes:\n",
        "    markers = markers + list(marker_df.iloc[marker_df.index[marker_df['celltype'] == celltype].tolist()][\"ensembl_id\"].values)\n",
        "    x_labels = x_labels + list(marker_df.iloc[marker_df.index[marker_df['celltype'] == celltype].tolist()][\"gene_name\"].values)"
      ]
    },
    {
      "cell_type": "code",
      "execution_count": null,
      "id": "7446082e-b1a5-4fe4-92ff-dee0dc9f39f6",
      "metadata": {
        "id": "7446082e-b1a5-4fe4-92ff-dee0dc9f39f6"
      },
      "outputs": [],
      "source": [
        "var_groups = []\n",
        "start = 0\n",
        "for celltype in celltypes:\n",
        "    c_indeces = marker_df.index[marker_df[\"celltype\"] == celltype].tolist()\n",
        "    var_groups.append((start, start+(c_indeces[-1] - c_indeces[0])))\n",
        "    start = start+(c_indeces[-1] - c_indeces[0]) + 1"
      ]
    },
    {
      "cell_type": "code",
      "execution_count": null,
      "id": "0b9cfda8-ce06-4f8f-a2fb-f5bd0b44bca6",
      "metadata": {
        "id": "0b9cfda8-ce06-4f8f-a2fb-f5bd0b44bca6"
      },
      "outputs": [],
      "source": [
        "fontsize = 14\n",
        "\n",
        "temp_var_labels = [\"\"] * len(celltypes)\n",
        "\n",
        "ax = sc.pl.dotplot(\n",
        "    host_adata,\n",
        "    markers,\n",
        "    groupby=\"leiden\",\n",
        "    use_raw=True,\n",
        "    dendrogram=True,\n",
        "    var_group_positions=var_groups,\n",
        "    var_group_labels=temp_var_labels,\n",
        "    var_group_rotation=45,\n",
        "    swap_axes=False,\n",
        "    standard_scale=\"var\",\n",
        "    show=False,\n",
        ")\n",
        "\n",
        "# ax[\"mainplot_ax\"].set_title(f\"Expression of marker genes in {'-'.join(adata.obs['tissue'][0].split('/'))} dataset\", pad=120)\n",
        "\n",
        "## Rotate var labels\n",
        "# Get initial label positions from: ax[\"gene_group_ax\"].properties()[\"children\"]\n",
        "var_positions = [2.95, 7.449999999999999, 9.45, 11.45, 13.95, 16.45, 22.45, 27.45, 29.95, 32.45]\n",
        "for position, label in zip(var_positions, celltypes):\n",
        "    ax[\"gene_group_ax\"].text(position, 1.1, label, fontsize=fontsize, rotation=45, ha=\"left\")\n",
        "\n",
        "ax[\"mainplot_ax\"].set_xticklabels(x_labels, rotation=45, ha=\"right\", fontsize=fontsize)\n",
        "ax[\"mainplot_ax\"].set_xlabel(\"Gene\", fontsize=fontsize)\n",
        "\n",
        "ax[\"mainplot_ax\"].set_ylabel(\"Leiden cluster\", fontsize=fontsize)\n",
        "\n",
        "ax[\"mainplot_ax\"].tick_params(axis=\"both\", labelsize=fontsize)\n",
        "\n",
        "plt.tight_layout()\n",
        "\n",
        "# # Save plot\n",
        "# plt.savefig(f\"host_leiden_marker-gene-expression.png\", dpi=300, bbox_inches=\"tight\")"
      ]
    },
    {
      "cell_type": "markdown",
      "id": "7788b6fc-3473-4d98-a3aa-fc7eed8526d9",
      "metadata": {
        "id": "7788b6fc-3473-4d98-a3aa-fc7eed8526d9"
      },
      "source": [
        "Define celltypes:"
      ]
    },
    {
      "cell_type": "code",
      "execution_count": null,
      "id": "877c0f4b-79c8-4092-83ce-24c39c2339c0",
      "metadata": {
        "id": "877c0f4b-79c8-4092-83ce-24c39c2339c0"
      },
      "outputs": [],
      "source": [
        "df_celltypes = pd.DataFrame()\n",
        "df_celltypes[\"cluster\"] = np.arange(19)\n",
        "df_celltypes[\"celltype\"] = [\n",
        "    \"B cells 4\",\n",
        "    \"T cells 2\",\n",
        "    \"B cells 6\",\n",
        "    \"Natural killer 1\",\n",
        "    \"B cells 2\",\n",
        "    \"T cells 4\",\n",
        "    \"T cells 5\",\n",
        "    \"Monocytes 2\",\n",
        "    \"Immature neutrophils 1\",\n",
        "    \"T cells 1\",\n",
        "    \"Monocytes 1\",\n",
        "    \"B cells 1\",\n",
        "    \"T cells 3\",\n",
        "    \"Undefined 2\",\n",
        "    \"B cells 5\",\n",
        "    \"Undefined 3\",\n",
        "    \"B cells 7\",\n",
        "    \"B cells 3\",\n",
        "    \"Undefined 1\",\n",
        "]\n",
        "\n",
        "df_celltypes"
      ]
    },
    {
      "cell_type": "code",
      "execution_count": null,
      "id": "ee3a6b5f-8522-4e76-af5c-6dbeb09dd1ef",
      "metadata": {
        "id": "ee3a6b5f-8522-4e76-af5c-6dbeb09dd1ef"
      },
      "outputs": [],
      "source": [
        "# Create copy of leiden cluster column to store manually assigned celltypes\n",
        "host_adata.obs[\"celltype_clusters\"] = host_adata.obs.leiden.copy()\n",
        "\n",
        "# Relabel the clusters in celltype\n",
        "host_adata.rename_categories(\"celltype_clusters\", df_celltypes[\"celltype\"].values)\n",
        "\n",
        "# Sort celltype labels using categorical data type\n",
        "celltype_order = [\n",
        "    \"B cells 1\",\n",
        "    \"B cells 2\",\n",
        "    \"B cells 3\",\n",
        "    \"B cells 4\",\n",
        "    \"B cells 5\",\n",
        "    \"B cells 6\",\n",
        "    \"B cells 7\",\n",
        "    \"T cells 1\",\n",
        "    \"T cells 2\",\n",
        "    \"T cells 3\",\n",
        "    \"T cells 4\",\n",
        "    \"T cells 5\",\n",
        "    \"Natural killer 1\",\n",
        "    \"Monocytes 1\",\n",
        "    \"Monocytes 2\",\n",
        "    \"Immature neutrophils 1\",\n",
        "    \"Undefined 1\",\n",
        "    \"Undefined 2\",\n",
        "    \"Undefined 3\"\n",
        "]\n",
        "host_adata.obs[\"celltype_clusters\"] = host_adata.obs[\"celltype_clusters\"].cat.reorder_categories(list(celltype_order))"
      ]
    },
    {
      "cell_type": "markdown",
      "id": "7e24cbf4-7aa3-418e-accc-201e567ffba4",
      "metadata": {
        "id": "7e24cbf4-7aa3-418e-accc-201e567ffba4"
      },
      "source": [
        "Create merged celltype column:"
      ]
    },
    {
      "cell_type": "code",
      "execution_count": null,
      "id": "1e95bb53-5d42-4573-a97d-2c5b90fde61d",
      "metadata": {
        "id": "1e95bb53-5d42-4573-a97d-2c5b90fde61d"
      },
      "outputs": [],
      "source": [
        "host_adata.obs[\"celltype\"] = [\" \".join(i.split(\" \")[:-1]) for i in host_adata.obs[\"celltype_clusters\"]]"
      ]
    },
    {
      "cell_type": "markdown",
      "id": "5f7bd286-bf12-475f-bcfb-cef109d2c35d",
      "metadata": {
        "id": "5f7bd286-bf12-475f-bcfb-cef109d2c35d"
      },
      "source": [
        "Merge timpeoints 7d and 8d due to few counts (also done in the original paper):"
      ]
    },
    {
      "cell_type": "code",
      "execution_count": null,
      "id": "ceaf2729-bf35-4e9e-9e1f-f955ae6924ef",
      "metadata": {
        "id": "ceaf2729-bf35-4e9e-9e1f-f955ae6924ef"
      },
      "outputs": [],
      "source": [
        "new_tps = []\n",
        "for tp in host_adata.obs[\"dpi_clean\"].values:\n",
        "    if tp == \"7d\" or tp == \"8d\":\n",
        "        new_tps.append(\"7d/8d\")\n",
        "    else:\n",
        "        new_tps.append(tp)\n",
        "\n",
        "host_adata.obs[\"dpi_clean_merged\"] = new_tps"
      ]
    },
    {
      "cell_type": "markdown",
      "id": "bf570ab6-956e-407b-a069-fb9058b40cb1",
      "metadata": {
        "id": "bf570ab6-956e-407b-a069-fb9058b40cb1"
      },
      "source": [
        "___\n",
        "Save host count matrix with celltype assignments:"
      ]
    },
    {
      "cell_type": "code",
      "execution_count": null,
      "id": "d02b5d65-1fa2-484c-b836-beb738efec43",
      "metadata": {
        "id": "d02b5d65-1fa2-484c-b836-beb738efec43"
      },
      "outputs": [],
      "source": [
        "host_adata.write(\"macaque_QC_norm_leiden_celltypes.h5ad\")"
      ]
    },
    {
      "cell_type": "code",
      "execution_count": null,
      "id": "07eb4c43-6726-4683-8288-060ae015e47e",
      "metadata": {
        "id": "07eb4c43-6726-4683-8288-060ae015e47e"
      },
      "outputs": [],
      "source": []
    }
  ],
  "metadata": {
    "kernelspec": {
      "display_name": "Python 3 (ipykernel)",
      "language": "python",
      "name": "python3"
    },
    "language_info": {
      "codemirror_mode": {
        "name": "ipython",
        "version": 3
      },
      "file_extension": ".py",
      "mimetype": "text/x-python",
      "name": "python",
      "nbconvert_exporter": "python",
      "pygments_lexer": "ipython3",
      "version": "3.9.12"
    },
    "colab": {
      "provenance": [],
      "include_colab_link": true
    }
  },
  "nbformat": 4,
  "nbformat_minor": 5
}