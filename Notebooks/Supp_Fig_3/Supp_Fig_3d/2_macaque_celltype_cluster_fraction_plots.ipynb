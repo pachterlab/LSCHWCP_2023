{
  "cells": [
    {
      "cell_type": "markdown",
      "metadata": {
        "id": "view-in-github",
        "colab_type": "text"
      },
      "source": [
        "<a href=\"https://colab.research.google.com/github/pachterlab/LSCHWCP_2023/blob/main/Notebooks/Supp_Fig_3/Supp_Fig_3d/2_macaque_celltype_cluster_fraction_plots.ipynb\" target=\"_parent\"><img src=\"https://colab.research.google.com/assets/colab-badge.svg\" alt=\"Open In Colab\"/></a>"
      ]
    },
    {
      "cell_type": "markdown",
      "id": "a1314726-3f9a-40e3-b49e-dd1572548786",
      "metadata": {
        "id": "a1314726-3f9a-40e3-b49e-dd1572548786"
      },
      "source": [
        "# Plot macaque marker gene expression per cell type and fractions of cells occupied by different cell types in each Leiden cluster"
      ]
    },
    {
      "cell_type": "code",
      "source": [
        "!pip install -q anndata gget scanpy"
      ],
      "metadata": {
        "id": "UZbfuiA4mcfj"
      },
      "id": "UZbfuiA4mcfj",
      "execution_count": null,
      "outputs": []
    },
    {
      "cell_type": "code",
      "execution_count": null,
      "id": "957dc428-4398-41ff-9625-c39f5714d4c1",
      "metadata": {
        "id": "957dc428-4398-41ff-9625-c39f5714d4c1"
      },
      "outputs": [],
      "source": [
        "import anndata\n",
        "import numpy as np\n",
        "import pandas as pd\n",
        "import json\n",
        "import os\n",
        "import gget\n",
        "import glob\n",
        "import matplotlib.pyplot as plt\n",
        "%config InlineBackend.figure_format='retina'\n",
        "import scanpy as sc\n",
        "\n",
        "def nd(arr):\n",
        "    \"\"\"\n",
        "    Function to transform numpy matrix to nd array.\n",
        "    \"\"\"\n",
        "    return np.asarray(arr).reshape(-1)"
      ]
    },
    {
      "cell_type": "markdown",
      "id": "af5fa592-27e0-4266-9ac0-9eaff41b7aa7",
      "metadata": {
        "id": "af5fa592-27e0-4266-9ac0-9eaff41b7aa7"
      },
      "source": [
        "___\n",
        "# Load data"
      ]
    },
    {
      "cell_type": "markdown",
      "source": [
        "The count matrix and cell type assignments were generated as shown [here](https://github.com/pachterlab/LSCHWCP_2023/blob/main/Notebooks/Supp_Fig_3/Supp_Fig_3d/1_macaque_celltype_assignment.ipynb)."
      ],
      "metadata": {
        "id": "epkYlcnQmmbP"
      },
      "id": "epkYlcnQmmbP"
    },
    {
      "cell_type": "code",
      "source": [
        "# Load clean macaque count matrix with cell type assignments from Caltech Data\n",
        "!wget https://data.caltech.edu/records/sh33z-hrx98/files/macaque_QC_norm_leiden_celltypes.h5ad?download=1\n",
        "!mv macaque_QC_norm_leiden_celltypes.h5ad?download=1 macaque_QC_norm_leiden_celltypes.h5ad"
      ],
      "metadata": {
        "id": "-HrW5fcomkR5"
      },
      "id": "-HrW5fcomkR5",
      "execution_count": null,
      "outputs": []
    },
    {
      "cell_type": "code",
      "execution_count": null,
      "id": "cd6c1df1-168e-4b05-981a-51bc6954f68a",
      "metadata": {
        "id": "cd6c1df1-168e-4b05-981a-51bc6954f68a"
      },
      "outputs": [],
      "source": [
        "host_adata = anndata.read(\"macaque_QC_norm_leiden_celltypes.h5ad\")\n",
        "host_adata"
      ]
    },
    {
      "cell_type": "markdown",
      "id": "7529881a-9cec-4383-9834-fbe0535c0d69",
      "metadata": {
        "id": "7529881a-9cec-4383-9834-fbe0535c0d69"
      },
      "source": [
        "Get marker genes:"
      ]
    },
    {
      "cell_type": "code",
      "execution_count": null,
      "id": "81b5313f-c06c-4ade-9609-ebea69e2feab",
      "metadata": {
        "id": "81b5313f-c06c-4ade-9609-ebea69e2feab"
      },
      "outputs": [],
      "source": [
        "!wget https://raw.githubusercontent.com/pachterlab/LSCHWCP_2023/main/Notebooks/Supp_Fig_3/Supp_Fig_3d/marker_genes.csv\n",
        "marker_df = pd.read_csv(\"marker_genes.csv\")"
      ]
    },
    {
      "cell_type": "code",
      "execution_count": null,
      "id": "1e4f5f35-34c5-4f33-9ce3-3257b66d95d5",
      "metadata": {
        "id": "1e4f5f35-34c5-4f33-9ce3-3257b66d95d5"
      },
      "outputs": [],
      "source": [
        "# Get Ensembl IDs from gene symbols using gget\n",
        "search_results = gget.search(marker_df[\"gene_symbol\"].values, species=\"macaca_mulatta\", release=109)\n",
        "# Filter gget results for exact matches and protein-coding biotypes\n",
        "search_results_filtered = search_results[search_results[\"gene_name\"].isin(marker_df[\"gene_symbol\"].values)][search_results[\"biotype\"]==\"protein_coding\"]"
      ]
    },
    {
      "cell_type": "code",
      "execution_count": null,
      "id": "ad6d73f0-8433-42bf-bb92-f325dbc21553",
      "metadata": {
        "id": "ad6d73f0-8433-42bf-bb92-f325dbc21553"
      },
      "outputs": [],
      "source": [
        "ensembl_id_list = []\n",
        "for i, gene_symbol in enumerate(marker_df[\"gene_symbol\"].values):\n",
        "    ensembl_ids = search_results_filtered[search_results_filtered[\"gene_name\"] == gene_symbol][\"ensembl_id\"].values\n",
        "\n",
        "    if len(ensembl_ids) < 1:\n",
        "        if gene_symbol.startswith(\"ENS\"):\n",
        "            ensembl_id_list.append([gene_symbol])\n",
        "        else:\n",
        "            print(f\"An Ensembl ID for gene {gene_symbol} could not be found.\")\n",
        "            ensembl_id_list.append(np.NaN)\n",
        "\n",
        "    else:\n",
        "        ensembl_id_list.append(ensembl_ids)\n",
        "\n",
        "marker_df[\"ensembl_id_list\"] = ensembl_id_list\n",
        "\n",
        "# Only keep first ID\n",
        "ensembl_id_list_final = []\n",
        "for id_list in ensembl_id_list:\n",
        "    try:\n",
        "        ensembl_id_list_final.append(id_list[0])\n",
        "    # If already nan, keep nan\n",
        "    except:\n",
        "        ensembl_id_list_final.append(np.NaN)\n",
        "\n",
        "marker_df[\"ensembl_id\"] = ensembl_id_list_final\n",
        "\n",
        "marker_df"
      ]
    },
    {
      "cell_type": "markdown",
      "id": "892381df-d39e-4de9-81b2-b8d0a1a41ff3",
      "metadata": {
        "id": "892381df-d39e-4de9-81b2-b8d0a1a41ff3"
      },
      "source": [
        "___\n",
        "# Create fraction plots"
      ]
    },
    {
      "cell_type": "code",
      "execution_count": null,
      "id": "d4e91431-94c8-4213-8255-815cfff866af",
      "metadata": {
        "id": "d4e91431-94c8-4213-8255-815cfff866af"
      },
      "outputs": [],
      "source": [
        "# Sort celltype labels using categorical data type\n",
        "celltype_order = [\n",
        "    \"B cells 1\",\n",
        "    \"B cells 2\",\n",
        "    \"B cells 3\",\n",
        "    \"B cells 4\",\n",
        "    \"B cells 5\",\n",
        "    \"B cells 6\",\n",
        "    \"B cells 7\",\n",
        "    \"T cells 1\",\n",
        "    \"T cells 2\",\n",
        "    \"T cells 3\",\n",
        "    \"T cells 4\",\n",
        "    \"T cells 5\",\n",
        "    \"Natural killer 1\",\n",
        "    \"Monocytes 1\",\n",
        "    \"Monocytes 2\",\n",
        "    \"Immature neutrophils 1\",\n",
        "    \"Undefined 1\",\n",
        "    \"Undefined 2\",\n",
        "    \"Undefined 3\"\n",
        "]\n",
        "host_adata.obs[\"celltype_clusters\"] = host_adata.obs[\"celltype_clusters\"].cat.reorder_categories(list(celltype_order))"
      ]
    },
    {
      "cell_type": "code",
      "execution_count": null,
      "id": "d94e3b21-2da5-4ccd-894f-0e5a89777bd9",
      "metadata": {
        "id": "d94e3b21-2da5-4ccd-894f-0e5a89777bd9"
      },
      "outputs": [],
      "source": [
        "fontsize = 12\n",
        "\n",
        "celltypes = [\n",
        "    \"B cells\",\n",
        "    \"Plasmablast\",\n",
        "    \"Dendritic cells\",\n",
        "    \"T cells\",\n",
        "    \"Natural killer cells\",\n",
        "    \"Monocytes\",\n",
        "    \"Immature neutrophils\",\n",
        "    \"Panleukocyte\",\n",
        "    \"Cytokines\",\n",
        "    \"Proliferation\"\n",
        "]\n",
        "# Grab markers in order of celltypes\n",
        "markers = []\n",
        "x_labels = []\n",
        "for celltype in celltypes:\n",
        "    markers = markers + list(\n",
        "        marker_df.iloc[marker_df.index[marker_df[\"celltype\"] == celltype].tolist()][\n",
        "            \"ensembl_id\"\n",
        "        ].values\n",
        "    )\n",
        "    x_labels = x_labels + list(\n",
        "        marker_df.iloc[marker_df.index[marker_df[\"celltype\"] == celltype].tolist()][\n",
        "            \"gene_name\"\n",
        "        ].values\n",
        "    )\n",
        "# Define celltype gene groups\n",
        "var_groups = []\n",
        "start = 0\n",
        "for celltype in celltypes:\n",
        "    c_indeces = marker_df.index[marker_df[\"celltype\"] == celltype].tolist()\n",
        "    var_groups.append((start, start + (c_indeces[-1] - c_indeces[0])))\n",
        "    start = start + (c_indeces[-1] - c_indeces[0]) + 1\n",
        "\n",
        "temp_var_labels = [\"\"] * len(celltypes)\n",
        "\n",
        "ax = sc.pl.dotplot(\n",
        "    host_adata[~(host_adata.obs[\"celltype_clusters\"] == \"Undefined 1\"), :], # !!! Removing Undefined 1 because it only has 12 cells\n",
        "    markers,\n",
        "    groupby=\"celltype_clusters\",\n",
        "    use_raw=True,\n",
        "    dendrogram=False,\n",
        "    var_group_positions=var_groups,\n",
        "    var_group_labels=temp_var_labels,\n",
        "    var_group_rotation=45,\n",
        "    swap_axes=False,\n",
        "    standard_scale=\"var\",\n",
        "    show=False,\n",
        ")\n",
        "\n",
        "# ax[\"mainplot_ax\"].set_title(f\"Expression of marker genes in {'-'.join(adata.obs['tissue'][0].split('/'))} dataset\", pad=120)\n",
        "\n",
        "## Rotate var labels\n",
        "# Get initial label positions from: ax[\"gene_group_ax\"].properties()[\"children\"]\n",
        "var_positions = [1.45, 3.45, 4.95, 8.95, 13.45, 19.45, 25.45, 27.45, 29.95, 32.45]\n",
        "for position, label in zip(var_positions, celltypes):\n",
        "    ax[\"gene_group_ax\"].text(\n",
        "        position, 1.1, label, fontsize=fontsize, rotation=45, ha=\"left\"\n",
        "    )\n",
        "\n",
        "ax[\"mainplot_ax\"].set_xticklabels(x_labels, rotation=45, ha=\"right\", fontsize=fontsize)\n",
        "ax[\"mainplot_ax\"].set_xlabel(\"Gene\", fontsize=fontsize+2)\n",
        "ax[\"mainplot_ax\"].set_ylabel(\"Leiden cluster\", fontsize=fontsize+2)\n",
        "ax[\"mainplot_ax\"].tick_params(axis=\"both\", labelsize=fontsize)\n",
        "\n",
        "plt.tight_layout()\n",
        "\n",
        "# Save plot\n",
        "plt.savefig(\n",
        "    f\"host_celltype_cluster_marker-gene-expression.png\",\n",
        "    dpi=300,\n",
        "    bbox_inches=\"tight\",\n",
        ")"
      ]
    },
    {
      "cell_type": "code",
      "execution_count": null,
      "id": "e3bcf297-d762-4c64-9488-bacaa476f2e7",
      "metadata": {
        "id": "e3bcf297-d762-4c64-9488-bacaa476f2e7"
      },
      "outputs": [],
      "source": [
        "# Plot number of cells per cluster\n",
        "fig, ax = plt.subplots(figsize = (2.5,7))\n",
        "fontsize=12\n",
        "\n",
        "cts = ['B cells 1',\n",
        " 'B cells 2',\n",
        " 'B cells 3',\n",
        " 'B cells 4',\n",
        " 'B cells 5',\n",
        " 'B cells 6',\n",
        " 'B cells 7',\n",
        " 'T cells 1',\n",
        " 'T cells 2',\n",
        " 'T cells 3',\n",
        " 'T cells 4',\n",
        " 'T cells 5',\n",
        " 'Natural killer 1',\n",
        " 'Monocytes 1',\n",
        " 'Monocytes 2',\n",
        " 'Immature neutrophils 1',\n",
        " 'Undefined 2',\n",
        " 'Undefined 3'\n",
        "      ]\n",
        "cts.reverse()\n",
        "\n",
        "# Do not plot Undefined clusters\n",
        "counts = []\n",
        "for ct in cts:\n",
        "    counts.append(len(host_adata.obs[host_adata.obs[\"celltype_clusters\"] == ct]))\n",
        "\n",
        "ax.barh(cts, counts, color=\"#67000d\")\n",
        "\n",
        "ax.tick_params(axis=\"both\", labelsize=fontsize)\n",
        "ax.margins(0.03)\n",
        "\n",
        "# Add number of cells\n",
        "for i, count in enumerate(counts):\n",
        "    ax.text(count+100, i, \"{:,}\".format(count), fontsize=fontsize-2, va=\"center\")\n",
        "ax.set_xlim(left=0, right=40000)\n",
        "\n",
        "# ax.grid(True, which=\"both\", color=\"lightgray\", ls=\"--\", lw=1)\n",
        "# ax.set_axisbelow(True)\n",
        "\n",
        "ax.set_xlabel(\"Number of cells\", fontsize=fontsize+2)\n",
        "\n",
        "# Save plot\n",
        "plt.savefig(\n",
        "    f\"host_celltype_cluster_numcells.png\",\n",
        "    dpi=300,\n",
        "    bbox_inches=\"tight\",\n",
        ")\n",
        "\n",
        "fig.show()"
      ]
    },
    {
      "cell_type": "markdown",
      "id": "07ed2ae7-9699-449c-adaf-83ccc9600266",
      "metadata": {
        "id": "07ed2ae7-9699-449c-adaf-83ccc9600266"
      },
      "source": [
        "Plot fractions per celltype:"
      ]
    },
    {
      "cell_type": "code",
      "execution_count": null,
      "id": "10aef384-b11c-4ef5-a1b5-7b7713e13d24",
      "metadata": {
        "id": "10aef384-b11c-4ef5-a1b5-7b7713e13d24"
      },
      "outputs": [],
      "source": [
        "def plot_fraction_per_sample(\n",
        "    adata,\n",
        "    groups=\"leiden\",\n",
        "    fractions=\"title\",\n",
        "    colors=None,\n",
        "    frac_order=None,\n",
        "    group_order=None,\n",
        "    normalize_to_total=False,\n",
        "    title=None,\n",
        "    xticklabel_rotation=0,\n",
        "    figsize=None\n",
        "):\n",
        "    ## Save fractions to plot in dataframe\n",
        "    # # Convert sample column to string (instead of categorical)\n",
        "    # adata.obs[fractions] = adata.obs[fractions].astype(str)\n",
        "\n",
        "    df_normalized = pd.DataFrame()\n",
        "\n",
        "    if normalize_to_total:\n",
        "        # Normalize each celltype count to total number of cells in that batch by dividing\n",
        "        df_normalized = ((adata.obs.groupby(groups)[fractions].value_counts()/ adata.obs.groupby(fractions)[\"species\"].count())\n",
        "            .unstack()\n",
        "            .fillna(0)\n",
        "        )\n",
        "        # Convert columns to string\n",
        "        df_normalized.columns = df_normalized.columns.astype(str)\n",
        "        # Get total normalized count\n",
        "        df_normalized[\"total_normalized_count\"] = df_normalized.sum(axis=1).values\n",
        "\n",
        "        # Compute fraction of normalized total count for each sample\n",
        "        for sample in adata.obs[fractions].unique():\n",
        "            df_normalized[f\"{sample}_fraction\"] = (df_normalized[sample] / df_normalized[\"total_normalized_count\"]).values\n",
        "\n",
        "    else:\n",
        "        # Do not normalize to total count (use if we do not expect these to be equally distributed across the clusters)\n",
        "        df_normalized = (adata.obs.groupby(groups)[fractions].value_counts().unstack().fillna(0))\n",
        "        df_normalized[\"total_count\"] = df_normalized.sum(axis=1).values\n",
        "\n",
        "        for sample in df_normalized.columns[:-1]:\n",
        "            df_normalized[f\"{sample}_fraction\"] = (df_normalized[sample] / df_normalized[\"total_count\"]).values\n",
        "\n",
        "    # Get total cellcount\n",
        "    df_normalized[\"total_cellcount\"] = (adata.obs.groupby(groups).size().values.astype(int))\n",
        "\n",
        "    # Sort data\n",
        "    if group_order:\n",
        "        df_normalized = df_normalized.reindex(group_order)\n",
        "    else:\n",
        "        df_normalized = df_normalized.sort_values(list(df_normalized.filter(like='_fraction').columns.values))\n",
        "\n",
        "    ## Plot\n",
        "    if figsize:\n",
        "        fig, ax = plt.subplots(figsize=figsize)\n",
        "    else:\n",
        "        fig, ax = plt.subplots(figsize=(15, 5))\n",
        "    width = 0.75\n",
        "    alpha = 1\n",
        "    fontsize = 14\n",
        "\n",
        "    clusters = df_normalized.index.values\n",
        "    cellcounts = df_normalized[\"total_cellcount\"].values\n",
        "\n",
        "    previous_samples = 0\n",
        "    if frac_order:\n",
        "        for c_idx, sample in enumerate(frac_order):\n",
        "            ax.bar(\n",
        "                clusters,\n",
        "                df_normalized[f\"{sample}_fraction\"].values,\n",
        "                width,\n",
        "                bottom=previous_samples,\n",
        "                color=colors[c_idx] if colors else None,\n",
        "                label=sample,\n",
        "                alpha=alpha,\n",
        "            )\n",
        "            previous_samples = previous_samples + df_normalized[f\"{sample}_fraction\"].values\n",
        "    else:\n",
        "        for c_idx, sample in enumerate(adata.obs[fractions].unique()):\n",
        "            ax.bar(\n",
        "                clusters,\n",
        "                df_normalized[f\"{sample}_fraction\"].values,\n",
        "                width,\n",
        "                bottom=previous_samples,\n",
        "                color=colors[c_idx] if colors else None,\n",
        "                label=sample,\n",
        "                alpha=alpha,\n",
        "            )\n",
        "            previous_samples = previous_samples + df_normalized[f\"{sample}_fraction\"].values\n",
        "\n",
        "    # Add value above each bar\n",
        "    for index, value in enumerate(cellcounts):\n",
        "        ax.text(x=index, y=1.01, s=int(value), size=fontsize - 3, ha=\"center\")\n",
        "\n",
        "    if xticklabel_rotation == 0:\n",
        "        ax.set_xticklabels(clusters)\n",
        "    else:\n",
        "        ax.set_xticklabels(clusters, rotation=xticklabel_rotation, ha=\"right\")\n",
        "\n",
        "    ax.legend(bbox_to_anchor=(1.001, 1.025), loc=\"upper left\", fontsize=fontsize)\n",
        "\n",
        "    ax.set_title(title, y=1.0, pad=20, fontsize=fontsize + 2)\n",
        "    ax.set_ylabel(\"Fraction of cells\", fontsize=fontsize)\n",
        "    if \"leiden\" in groups:\n",
        "        ax.set_xlabel(\"Leiden cluster\", fontsize=fontsize)\n",
        "    else:\n",
        "        ax.set_xlabel(groups.capitalize(), fontsize=fontsize)\n",
        "    ax.tick_params(axis=\"both\", labelsize=fontsize)\n",
        "\n",
        "    # ax.axhline(y=0.25, color=\"grey\", linestyle=\"--\")\n",
        "    # ax.axhline(y=0.5, color=\"grey\", linestyle=\"--\")\n",
        "    # ax.axhline(y=0.75, color=\"grey\", linestyle=\"--\")\n",
        "\n",
        "    ax.margins(x=0.01, y=0.06)\n",
        "    ax.grid(False)\n",
        "\n",
        "    plt.tight_layout()\n",
        "\n",
        "    if normalize_to_total:\n",
        "        plt.savefig(\n",
        "            f\"host_{groups}_{fractions}_norm_fractions.png\",\n",
        "            dpi=300,\n",
        "            bbox_inches=\"tight\",\n",
        "        )\n",
        "    else:\n",
        "        plt.savefig(\n",
        "            f\"host_{groups}_{fractions}_fractions.png\",\n",
        "            dpi=300,\n",
        "            bbox_inches=\"tight\",\n",
        "        )\n",
        "\n",
        "    fig.show()"
      ]
    },
    {
      "cell_type": "code",
      "execution_count": null,
      "id": "627e1b5d-3594-40a5-8ed1-a7eab8828ac5",
      "metadata": {
        "id": "627e1b5d-3594-40a5-8ed1-a7eab8828ac5"
      },
      "outputs": [],
      "source": [
        "celltype_order.reverse()"
      ]
    },
    {
      "cell_type": "code",
      "execution_count": null,
      "id": "ddac48ad-79de-4383-a5be-0314bae7c9f2",
      "metadata": {
        "id": "ddac48ad-79de-4383-a5be-0314bae7c9f2"
      },
      "outputs": [],
      "source": [
        "plot_fraction_per_sample(\n",
        "    host_adata,\n",
        "    groups=\"celltype_clusters\",\n",
        "    fractions=\"srr\",\n",
        "    group_order=celltype_order,\n",
        "    normalize_to_total=False,\n",
        "    title=None,\n",
        "    xticklabel_rotation=45\n",
        ")"
      ]
    },
    {
      "cell_type": "markdown",
      "id": "2e7ffcd3-1eca-4aae-99dd-61b89c0b23f6",
      "metadata": {
        "id": "2e7ffcd3-1eca-4aae-99dd-61b89c0b23f6"
      },
      "source": [
        "The sequencing libraries did not separate into different clusters (suggesting the lack of a batch effect)."
      ]
    },
    {
      "cell_type": "code",
      "execution_count": null,
      "id": "2d581a63-2a0d-4cca-b680-86f0ecd85944",
      "metadata": {
        "id": "2d581a63-2a0d-4cca-b680-86f0ecd85944"
      },
      "outputs": [],
      "source": [
        "plot_fraction_per_sample(\n",
        "    host_adata,\n",
        "    groups=\"celltype_clusters\",\n",
        "    fractions=\"dpi_clean\",\n",
        "    colors=[\"#b8dd5a\", \"#64aa37\", \"#3e8938\", \"#b3cde0\", \"#005c96\", \"gold\", \"orange\", \"#e06237\", \"#c73d32\", \"#b2172b\", \"#7d0d0f\"],\n",
        "    frac_order=['-30d', '-4d', '0d', '4h', '24h', '3d', '4d', '5d', '6d', '7d', '8d'],\n",
        "    group_order=celltype_order,\n",
        "    normalize_to_total=False,\n",
        "    title=None,\n",
        "    xticklabel_rotation=45\n",
        ")"
      ]
    },
    {
      "cell_type": "markdown",
      "id": "ae155c76-aee7-436b-861a-038d5c20a158",
      "metadata": {
        "id": "ae155c76-aee7-436b-861a-038d5c20a158"
      },
      "source": [
        "Same but normalized to total number of cells for each timepoint:"
      ]
    },
    {
      "cell_type": "code",
      "execution_count": null,
      "id": "5f54725f-e60e-4222-8ffe-1617b14f7c69",
      "metadata": {
        "id": "5f54725f-e60e-4222-8ffe-1617b14f7c69"
      },
      "outputs": [],
      "source": [
        "# Convert to string\n",
        "host_adata.obs[\"dpi_clean_merged\"] = host_adata.obs[\"dpi_clean_merged\"].astype(str)"
      ]
    },
    {
      "cell_type": "code",
      "execution_count": null,
      "id": "9e7c02e2-2e2f-4ae0-8b54-ebfa365386af",
      "metadata": {
        "id": "9e7c02e2-2e2f-4ae0-8b54-ebfa365386af"
      },
      "outputs": [],
      "source": [
        "groups=\"celltype_clusters\"\n",
        "fractions=\"dpi_clean_merged\"\n",
        "host_adata.obs.groupby(groups)[fractions].value_counts()/ host_adata.obs.groupby(fractions)[\"species\"].count()"
      ]
    },
    {
      "cell_type": "code",
      "execution_count": null,
      "id": "c985e34b-ddc9-4d33-a8a2-b28d565fbe21",
      "metadata": {
        "id": "c985e34b-ddc9-4d33-a8a2-b28d565fbe21"
      },
      "outputs": [],
      "source": [
        "plot_fraction_per_sample(\n",
        "    host_adata,\n",
        "    groups=\"celltype_clusters\",\n",
        "    fractions=\"dpi_clean_merged\",\n",
        "    colors=[\"#b8dd5a\", \"#64aa37\", \"#3e8938\", \"#b3cde0\", \"#005c96\", \"gold\", \"orange\", \"#e06237\", \"#b2172b\", \"#7d0d0f\"],\n",
        "    frac_order=['-30d', '-4d', '0d', '4h', '24h', '3d', '4d', '5d', '6d', '7d/8d'],\n",
        "    group_order=celltype_order[:-4],\n",
        "    normalize_to_total=True,\n",
        "    title=None,\n",
        "    xticklabel_rotation=45,\n",
        "    figsize=(15, 7)\n",
        ")"
      ]
    },
    {
      "cell_type": "code",
      "execution_count": null,
      "id": "041f706b-d4fa-49ad-a212-ab18bbbaf65a",
      "metadata": {
        "id": "041f706b-d4fa-49ad-a212-ab18bbbaf65a"
      },
      "outputs": [],
      "source": [
        "plot_fraction_per_sample(\n",
        "    host_adata,\n",
        "    groups=\"celltype\",\n",
        "    fractions=\"dpi_clean_merged\",\n",
        "    colors=[\"#b8dd5a\", \"#64aa37\", \"#3e8938\", \"#b3cde0\", \"#005c96\", \"gold\", \"orange\", \"#e06237\", \"#c73d32\", \"#b2172b\", \"#7d0d0f\"],\n",
        "    frac_order=['-30d', '-4d', '0d', '4h', '24h', '3d', '4d', '5d', '6d', '7d/8d'],\n",
        "    group_order=[\"B cells\", \"T cells\", \"Natural killer\",  \"Monocytes\", \"Immature neutrophils\"],\n",
        "    normalize_to_total=True,\n",
        "    title=None,\n",
        "    xticklabel_rotation=45,\n",
        "    figsize=(6.5, 7)\n",
        ")"
      ]
    },
    {
      "cell_type": "code",
      "execution_count": null,
      "id": "f560d09c-e530-4816-a643-fc41204104fb",
      "metadata": {
        "id": "f560d09c-e530-4816-a643-fc41204104fb"
      },
      "outputs": [],
      "source": []
    }
  ],
  "metadata": {
    "kernelspec": {
      "display_name": "Python 3 (ipykernel)",
      "language": "python",
      "name": "python3"
    },
    "language_info": {
      "codemirror_mode": {
        "name": "ipython",
        "version": 3
      },
      "file_extension": ".py",
      "mimetype": "text/x-python",
      "name": "python",
      "nbconvert_exporter": "python",
      "pygments_lexer": "ipython3",
      "version": "3.9.12"
    },
    "colab": {
      "provenance": [],
      "include_colab_link": true
    }
  },
  "nbformat": 4,
  "nbformat_minor": 5
}