{
  "cells": [
    {
      "cell_type": "markdown",
      "metadata": {
        "id": "view-in-github",
        "colab_type": "text"
      },
      "source": [
        "<a href=\"https://colab.research.google.com/github/pachterlab/LSCHWCP_2023/blob/main/Notebooks/Supp_Fig_3/Supp_Fig_3abc/1_host_QC.ipynb\" target=\"_parent\"><img src=\"https://colab.research.google.com/assets/colab-badge.svg\" alt=\"Open In Colab\"/></a>"
      ]
    },
    {
      "cell_type": "markdown",
      "id": "27808f57-98e5-40a1-b16d-3eabc11fb9ea",
      "metadata": {
        "id": "27808f57-98e5-40a1-b16d-3eabc11fb9ea"
      },
      "source": [
        "# Host matrix quality control (QC) and filtering"
      ]
    },
    {
      "cell_type": "code",
      "execution_count": null,
      "id": "950a498d-8483-4eb8-9da5-e1062a9a4447",
      "metadata": {
        "id": "950a498d-8483-4eb8-9da5-e1062a9a4447"
      },
      "outputs": [],
      "source": [
        "!pip install -q kb_python gget scanpy"
      ]
    },
    {
      "cell_type": "code",
      "execution_count": null,
      "id": "255027de-0775-4638-be90-f7d5e35d6380",
      "metadata": {
        "id": "255027de-0775-4638-be90-f7d5e35d6380"
      },
      "outputs": [],
      "source": [
        "import kb_python.utils as kb_utils\n",
        "import numpy as np\n",
        "from scipy.interpolate import interpn\n",
        "import pandas as pd\n",
        "import gget\n",
        "import json\n",
        "import os\n",
        "import glob\n",
        "import matplotlib.pyplot as plt\n",
        "import matplotlib.patches as mpatches\n",
        "import matplotlib as mpl\n",
        "%config InlineBackend.figure_format='retina'\n",
        "\n",
        "import scanpy as sc\n",
        "sc.set_figure_params(figsize=(6, 6), frameon=False)\n",
        "sc.settings.n_jobs=2\n",
        "\n",
        "def nd(arr):\n",
        "    \"\"\"\n",
        "    Function to transform numpy matrix to nd array.\n",
        "    \"\"\"\n",
        "    return np.asarray(arr).reshape(-1)"
      ]
    },
    {
      "cell_type": "markdown",
      "id": "7f471fb9-8c97-4d23-a043-3892f1a9261f",
      "metadata": {
        "id": "7f471fb9-8c97-4d23-a043-3892f1a9261f"
      },
      "source": [
        "### Load data aligned to macaque and dog (for MDCK spike-ins) genomes:\n",
        "The alignment was performed in [this notebook](https://github.com/pachterlab/LSCHWCP_2023/blob/main/Notebooks/align_macaque_PBMC_data/1_align_to_host.ipynb)."
      ]
    },
    {
      "cell_type": "code",
      "source": [
        "# Load host alignment results from Caltech Data\n",
        "# !wget\n",
        "# !tar -xvf host_alignment_results.tar.gz\n",
        "!unzip host_alignment_results.zip"
      ],
      "metadata": {
        "id": "Xm4JDtOUe3y0"
      },
      "id": "Xm4JDtOUe3y0",
      "execution_count": null,
      "outputs": []
    },
    {
      "cell_type": "code",
      "execution_count": null,
      "id": "43cec690-b71a-4c74-9da3-2265eb4fdd9c",
      "metadata": {
        "id": "43cec690-b71a-4c74-9da3-2265eb4fdd9c"
      },
      "outputs": [],
      "source": [
        "%%time\n",
        "# Filepath to counts\n",
        "X = \"host_alignment_results/bustools_count/output.mtx\"\n",
        "# Filepath to barcode metadata\n",
        "var_path = \"host_alignment_results/bustools_count/output.genes.txt\"\n",
        "# Filepath to gene metadata\n",
        "obs_path = \"host_alignment_results/bustools_count/output.barcodes.txt\"\n",
        "\n",
        "# Create AnnData object\n",
        "host_adata = kb_utils.import_matrix_as_anndata(X, obs_path, var_path)\n",
        "host_adata"
      ]
    },
    {
      "cell_type": "markdown",
      "source": [
        "Since we used a batch file together with the `--batch-barcodes` option to align all fastq files simultaneously, we can use the batch barcodes to add information about which cells came from which batch/library:"
      ],
      "metadata": {
        "id": "QWWvhSmPfPMe"
      },
      "id": "QWWvhSmPfPMe"
    },
    {
      "cell_type": "code",
      "execution_count": null,
      "id": "f306994b-d7b9-400d-b64e-a6b7993b100f",
      "metadata": {
        "id": "f306994b-d7b9-400d-b64e-a6b7993b100f"
      },
      "outputs": [],
      "source": [
        "# Add sample barcodes to adata\n",
        "sb_file = open(\"host_alignment_results/bustools_count/output.barcodes.prefix.txt\")\n",
        "sample_barcodes = sb_file.read().splitlines()\n",
        "sb_file.close()\n",
        "\n",
        "# Only use last 16 bases because sample barcode is always 16 bases in length\n",
        "host_adata.obs[\"sample_barcode\"] = [bc[-16:] for bc in sample_barcodes]"
      ]
    },
    {
      "cell_type": "code",
      "execution_count": null,
      "id": "4fa1bd42-4fa9-444d-a6ff-99b7a489342c",
      "metadata": {
        "id": "4fa1bd42-4fa9-444d-a6ff-99b7a489342c"
      },
      "outputs": [],
      "source": [
        "# Create barcode to sample lookup\n",
        "bc2sample_df = pd.DataFrame()\n",
        "\n",
        "b_file = open(\"host_alignment_results/host_canine/matrix.sample.barcodes\")\n",
        "barcodes = b_file.read().splitlines()\n",
        "b_file.close()\n",
        "\n",
        "s_file = open(\"host_alignment_results/host_canine/matrix.cells\")\n",
        "samples = s_file.read().splitlines()\n",
        "s_file.close()\n",
        "\n",
        "bc2sample_df[\"sample_barcode\"] = barcodes\n",
        "bc2sample_df[\"srr\"] = samples\n",
        "bc2sample_df"
      ]
    },
    {
      "cell_type": "code",
      "execution_count": null,
      "id": "6b2bc75a-4be4-451d-81b4-5478d198d5b4",
      "metadata": {
        "id": "6b2bc75a-4be4-451d-81b4-5478d198d5b4"
      },
      "outputs": [],
      "source": [
        "host_adata.obs[\"barcode\"] = host_adata.obs.index.values\n",
        "host_adata.obs = host_adata.obs.merge(bc2sample_df, on=\"sample_barcode\", how=\"left\").set_index(\"barcode\", drop=False)\n",
        "host_adata.obs"
      ]
    },
    {
      "cell_type": "code",
      "execution_count": null,
      "id": "8df50adb-8df5-424b-af6b-6615483810fe",
      "metadata": {
        "id": "8df50adb-8df5-424b-af6b-6615483810fe"
      },
      "outputs": [],
      "source": [
        "# Remove version number from Ensembl IDs\n",
        "host_adata.var[\"gene_id\"] = host_adata.var.index.values\n",
        "host_adata.var[\"ensembl_id\"] = [id_.split(\".\")[0] for id_ in host_adata.var.index.values]\n",
        "host_adata.var = host_adata.var.set_index(\"ensembl_id\")\n",
        "host_adata.var"
      ]
    },
    {
      "cell_type": "markdown",
      "id": "34faef4d-4f88-437f-8a02-506fffbcdf94",
      "metadata": {
        "tags": [],
        "id": "34faef4d-4f88-437f-8a02-506fffbcdf94"
      },
      "source": [
        "___\n",
        "# Filter host cells based on knee plot"
      ]
    },
    {
      "cell_type": "code",
      "execution_count": null,
      "id": "55642c1d-1030-4651-b977-6e3ae98bff06",
      "metadata": {
        "id": "55642c1d-1030-4651-b977-6e3ae98bff06"
      },
      "outputs": [],
      "source": [
        "color = \"grey\"\n",
        "filter_color = \"lightgrey\"\n",
        "fontsize = 14\n",
        "\n",
        "# Expected number of cells\n",
        "expected_num_cells = 600000\n",
        "# Minimum number of genes per cell\n",
        "min_genes = 300"
      ]
    },
    {
      "cell_type": "code",
      "execution_count": null,
      "id": "1f944841-c08f-48ee-8349-304befd66f2f",
      "metadata": {
        "id": "1f944841-c08f-48ee-8349-304befd66f2f"
      },
      "outputs": [],
      "source": [
        "def yex(ax, col=\"k\", alpha=0.75):\n",
        "    \"\"\"\n",
        "    Funciton to add linear graph to plot.\n",
        "    Call after defining x and y scales\n",
        "    \"\"\"\n",
        "    lims = [\n",
        "        np.min([ax.get_xlim(), ax.get_ylim()]),  # min of both axes\n",
        "        np.max([ax.get_xlim(), ax.get_ylim()]),  # max of both axes\n",
        "    ]\n",
        "    # Plot both limits against each other\n",
        "    ax.plot(lims, lims, col, alpha=alpha, zorder=1)\n",
        "    ax.set(**{\n",
        "        \"aspect\": \"equal\",\n",
        "        \"xlim\": lims,\n",
        "        \"ylim\": lims\n",
        "    })\n",
        "    return ax"
      ]
    },
    {
      "cell_type": "code",
      "execution_count": null,
      "id": "b0d37044-1717-4f20-adb8-d63ccf9bbd13",
      "metadata": {
        "id": "b0d37044-1717-4f20-adb8-d63ccf9bbd13"
      },
      "outputs": [],
      "source": [
        "%%time\n",
        "# Generate knee and library saturation plots\n",
        "fig, axs = plt.subplots(\n",
        "    figsize=(14, 7),\n",
        "    ncols=2,\n",
        "    constrained_layout=True,\n",
        ")\n",
        "\n",
        "adata = host_adata\n",
        "\n",
        "## Plot knee plot\n",
        "ax = axs[0]\n",
        "\n",
        "knee = np.sort((np.array(adata.X.sum(axis=1))).flatten())[::-1]\n",
        "\n",
        "# Create masks for cells that will be kept/filtered out based on minimum UMI count\n",
        "min_umi = knee[expected_num_cells]\n",
        "keep_mask = np.ma.masked_where(knee > min_umi, knee).mask\n",
        "filter_mask = np.invert(keep_mask)\n",
        "\n",
        "# Plot all cells in filter out color\n",
        "ax.plot(knee, range(len(knee)), linewidth=5, color=filter_color)\n",
        "# Overlay with cells to keep in dark color\n",
        "ax.plot(knee[keep_mask], range(len(knee[keep_mask])), linewidth=5, color=color)\n",
        "ax.set_xscale(\"log\")\n",
        "ax.set_yscale(\"log\")\n",
        "\n",
        "# Add lines to show filtering cut offs\n",
        "ax.axvline(x=knee[expected_num_cells], linewidth=1.5, color=\"k\", ls=\"--\")\n",
        "ax.axhline(y=expected_num_cells, linewidth=1.5, color=\"k\", ls=\"--\")\n",
        "\n",
        "# Define axis labels and title\n",
        "ax.set_xlabel(\"UMI Counts\", fontsize=fontsize)\n",
        "ax.set_ylabel(\"Set of Barcodes\", fontsize=fontsize)\n",
        "# ax.set_title(title, fontsize=fontsize + 2)\n",
        "\n",
        "# Change fontsize of tick labels\n",
        "ax.tick_params(axis=\"both\", labelsize=fontsize)\n",
        "\n",
        "# # Set x and y lim\n",
        "ax.set_xlim(1, 10 ** 8)\n",
        "ax.set_ylim(1, 10 ** 8)\n",
        "\n",
        "# Add grid and set below graph\n",
        "ax.grid(True, which=\"both\", color=\"lightgray\")\n",
        "ax.set_axisbelow(True)\n",
        "\n",
        "# Add invisible linear graph to match square library sat plot\n",
        "yex(ax, alpha=0)\n",
        "\n",
        "\n",
        "## Plot library saturation plot\n",
        "ax = axs[1]\n",
        "\n",
        "# Number of UMI counts per cell\n",
        "x = np.asarray(adata.X.sum(axis=1))[:, 0]\n",
        "# Number of different genes detected per cell\n",
        "y = np.asarray(np.sum(adata.X > 0, axis=1))[:, 0]\n",
        "\n",
        "# Create masks for cells that will be kept/filtered out based on minimum UMI count from knee plot\n",
        "keep_mask = np.ma.masked_where(x > min_umi, x).mask\n",
        "filter_mask = np.invert(keep_mask)\n",
        "\n",
        "ax.scatter(x[keep_mask], y[keep_mask], alpha=0.5, color=color, zorder=2)\n",
        "ax.scatter(x[filter_mask], y[filter_mask], alpha=0.5, color=filter_color, zorder=2)\n",
        "\n",
        "# Add lines to show filtering cut off\n",
        "ax.axvline(x=min_umi, linewidth=1.5, color=\"k\", ls=\"--\", zorder=3)\n",
        "\n",
        "ax.set_xscale(\"log\")\n",
        "ax.set_yscale(\"log\")\n",
        "\n",
        "# Define axis labels and title\n",
        "ax.set_xlabel(\"UMI Counts\", fontsize=fontsize)\n",
        "ax.set_ylabel(\"Genes Detected\", fontsize=fontsize)\n",
        "# ax.set_title(title, fontsize=fontsize+2)\n",
        "\n",
        "# Change fontsize of tick labels\n",
        "ax.tick_params(axis=\"both\", labelsize=fontsize)\n",
        "\n",
        "# # Set x and y lim\n",
        "ax.set_xlim(1, 10 ** 5)\n",
        "ax.set_ylim(1, 10 ** 5)\n",
        "\n",
        "# Add grid and set below graph\n",
        "ax.set_axisbelow(True)\n",
        "\n",
        "# Add linear graph\n",
        "yex(ax)\n",
        "\n",
        "# Save figure\n",
        "fig.savefig(\n",
        "    f\"host_QC_knee_+_library_sat.png\", dpi=300, bbox_inches=\"tight\"\n",
        ")\n",
        "\n",
        "fig.show()"
      ]
    },
    {
      "cell_type": "code",
      "execution_count": null,
      "id": "c412544f-d0e0-49ed-bca3-f56c0475e0eb",
      "metadata": {
        "id": "c412544f-d0e0-49ed-bca3-f56c0475e0eb"
      },
      "outputs": [],
      "source": [
        "## Filter based on knee plot and minimum number of genes\n",
        "print(\"adata (before filtering): \", host_adata)\n",
        "print(f\"Minimum number of UMI counts based on the knee plot: {min_umi}\")\n",
        "print(f\"Mean UMI count per cell (before filtering): {host_adata.X.sum(axis=1).mean()}\")\n",
        "print(f\"Max UMI count in one cell: {host_adata.X.sum(axis=1).max()}\")\n",
        "print(f\"Total UMI count (before filtering): {host_adata.X.sum()}\")"
      ]
    },
    {
      "cell_type": "code",
      "execution_count": null,
      "id": "f396f907-67a2-42aa-bdd0-3b97ad8fc89b",
      "metadata": {
        "id": "f396f907-67a2-42aa-bdd0-3b97ad8fc89b"
      },
      "outputs": [],
      "source": [
        "# Remove cells with less than [min_umi] UMI counts\n",
        "host_adata = host_adata[np.asarray(host_adata.X.sum(axis=1)).reshape(-1) > min_umi]\n",
        "\n",
        "# Add the total UMI counts per cell as obs to adata\n",
        "host_adata.obs['n_counts'] = host_adata.X.sum(axis=1).A1\n",
        "\n",
        "## Filter for a minimum number of genes\n",
        "sc.pp.filter_cells(host_adata, min_genes=min_genes)\n",
        "\n",
        "print(f\"Mean UMI count per cell (after filtering): {host_adata.X.sum(axis=1).mean()}\")\n",
        "print(f\"Total UMI count (after filtering): {host_adata.X.sum()}\\n\")"
      ]
    },
    {
      "cell_type": "markdown",
      "id": "93fe9aec-1fbc-4cb9-933c-bbb07644117d",
      "metadata": {
        "tags": [],
        "id": "93fe9aec-1fbc-4cb9-933c-bbb07644117d"
      },
      "source": [
        "# Filter by mito content"
      ]
    },
    {
      "cell_type": "code",
      "execution_count": null,
      "id": "c5d20f85-37f7-4e28-85dc-e5c2750829ab",
      "metadata": {
        "id": "c5d20f85-37f7-4e28-85dc-e5c2750829ab"
      },
      "outputs": [],
      "source": [
        "# Max percentage mitochondrial genes per cell (10%)\n",
        "mito_filter = 0.1"
      ]
    },
    {
      "cell_type": "code",
      "execution_count": null,
      "id": "a3424261-4f04-4b9c-bc65-98c60b027409",
      "metadata": {
        "id": "a3424261-4f04-4b9c-bc65-98c60b027409"
      },
      "outputs": [],
      "source": [
        "# Get macaque mito genes\n",
        "# Get Ensembl IDs of MT genes\n",
        "mito_ensembl_df = sc.queries.mitochondrial_genes(\"mmulatta\", attrname=\"ensembl_gene_id\")\n",
        "macaca_mito_gene_ids = mito_ensembl_df[\"ensembl_gene_id\"].values\n",
        "macaca_mito_gene_ids"
      ]
    },
    {
      "cell_type": "code",
      "execution_count": null,
      "id": "9c7deafd-edc0-40f2-8a13-4b1ad99edc65",
      "metadata": {
        "id": "9c7deafd-edc0-40f2-8a13-4b1ad99edc65"
      },
      "outputs": [],
      "source": [
        "# Get canine mito genes with gget\n",
        "gget_df = gget.search([\"MT\", \"mito\"], andor=\"and\", species=\"canis_lupus_familiaris_core_109_1\")\n",
        "gget_df = gget_df[(gget_df[\"biotype\"] == \"protein_coding\") & (gget_df[\"gene_name\"].str.startswith(\"MT\"))]\n",
        "canine_mito_gene_ids = gget_df[\"ensembl_id\"].values\n",
        "canine_mito_gene_ids"
      ]
    },
    {
      "cell_type": "code",
      "execution_count": null,
      "id": "a72b121c-12f2-4547-8f6f-fe52eb89fceb",
      "metadata": {
        "id": "a72b121c-12f2-4547-8f6f-fe52eb89fceb"
      },
      "outputs": [],
      "source": [
        "mito_gene_ids = list(macaca_mito_gene_ids) + list(canine_mito_gene_ids)"
      ]
    },
    {
      "cell_type": "code",
      "execution_count": null,
      "id": "78cfaae2-ef67-4f0d-aa32-af100396e748",
      "metadata": {
        "id": "78cfaae2-ef67-4f0d-aa32-af100396e748"
      },
      "outputs": [],
      "source": [
        "# `.A1` transforms sparse array X to a dense array after summing\n",
        "host_adata.obs['percent_mito'] = np.sum(host_adata[:, mito_gene_ids].X, axis=1).A1 / np.sum(host_adata.X, axis=1).A1\n",
        "print(f\"Maximum % mitochondrially encoded genes in one cell (before filtering): {host_adata.obs.percent_mito.max()}.\")\n",
        "host_adata = host_adata[host_adata.obs.percent_mito < mito_filter]\n",
        "print(f\"Maximum % mitochondrially encoded genes in one cell (after filtering): {host_adata.obs.percent_mito.max()}.\")"
      ]
    },
    {
      "cell_type": "markdown",
      "id": "0797b880-eeee-414e-8bc6-f7cea723080e",
      "metadata": {
        "id": "0797b880-eeee-414e-8bc6-f7cea723080e"
      },
      "source": [
        "___\n",
        "# Separate macaque and MDCK cells"
      ]
    },
    {
      "cell_type": "markdown",
      "id": "5495ad49-ee77-4d93-a695-15228c2ed856",
      "metadata": {
        "id": "5495ad49-ee77-4d93-a695-15228c2ed856"
      },
      "source": [
        "Add species label to genes:"
      ]
    },
    {
      "cell_type": "code",
      "execution_count": null,
      "id": "a186c0f9-f20a-4b76-8136-b8cbb0f45e62",
      "metadata": {
        "id": "a186c0f9-f20a-4b76-8136-b8cbb0f45e62"
      },
      "outputs": [],
      "source": [
        "def label_species(row):\n",
        "    if row[\"gene_id\"].startswith(\"ENSCAF\"):\n",
        "        return \"canis_lupus_familiaris\"\n",
        "    elif row[\"gene_id\"].startswith(\"ENSMM\"):\n",
        "        return \"macaca_mulatta\"\n",
        "    else:\n",
        "        return \"unknown\"\n",
        "\n",
        "host_adata.var[\"species\"] = host_adata.var.apply(lambda row: label_species(row), axis=1)"
      ]
    },
    {
      "cell_type": "code",
      "execution_count": null,
      "id": "8cd54b46-49dd-4b87-aabb-f630569f0b3d",
      "metadata": {
        "id": "8cd54b46-49dd-4b87-aabb-f630569f0b3d"
      },
      "outputs": [],
      "source": [
        "host_adata.var"
      ]
    },
    {
      "cell_type": "code",
      "execution_count": null,
      "id": "03aa399b-623f-4528-81fc-deb4c899d9d7",
      "metadata": {
        "id": "03aa399b-623f-4528-81fc-deb4c899d9d7"
      },
      "outputs": [],
      "source": [
        "host_adata.var[\"species\"].unique()"
      ]
    },
    {
      "cell_type": "code",
      "execution_count": null,
      "id": "bc0e80a1-45e7-4432-aae1-fa6b421f9a66",
      "metadata": {
        "id": "bc0e80a1-45e7-4432-aae1-fa6b421f9a66"
      },
      "outputs": [],
      "source": [
        "host_adata"
      ]
    },
    {
      "cell_type": "markdown",
      "id": "46ec18f1-a34b-4304-911e-b14450f970b1",
      "metadata": {
        "id": "46ec18f1-a34b-4304-911e-b14450f970b1"
      },
      "source": [
        "Plot number of cells with shared gene expression and define cell species based on gene count threshold:"
      ]
    },
    {
      "cell_type": "code",
      "execution_count": null,
      "id": "839ed41c-b912-4642-89b6-888aae0ca568",
      "metadata": {
        "id": "839ed41c-b912-4642-89b6-888aae0ca568"
      },
      "outputs": [],
      "source": [
        "macaque_count = (np.array(host_adata[:, host_adata.var[\"species\"] == \"macaca_mulatta\"].X.sum(axis=1))).flatten()"
      ]
    },
    {
      "cell_type": "code",
      "execution_count": null,
      "id": "2008bf1a-631c-4b8f-ad1e-60dbf27b9435",
      "metadata": {
        "id": "2008bf1a-631c-4b8f-ad1e-60dbf27b9435"
      },
      "outputs": [],
      "source": [
        "len(macaque_count[macaque_count > 0])"
      ]
    },
    {
      "cell_type": "code",
      "execution_count": null,
      "id": "e547adf6-f143-4757-8c89-b775c7482494",
      "metadata": {
        "id": "e547adf6-f143-4757-8c89-b775c7482494"
      },
      "outputs": [],
      "source": [
        "canis_count = (np.array(host_adata[:, host_adata.var[\"species\"] == \"canis_lupus_familiaris\"].X.sum(axis=1))).flatten()"
      ]
    },
    {
      "cell_type": "code",
      "execution_count": null,
      "id": "0c5d7be1-f719-49a3-8293-a179a17dfb47",
      "metadata": {
        "id": "0c5d7be1-f719-49a3-8293-a179a17dfb47"
      },
      "outputs": [],
      "source": [
        "len(canis_count[canis_count > 0])"
      ]
    },
    {
      "cell_type": "code",
      "execution_count": null,
      "id": "68e315b6-bfe3-4129-af38-3d02fd2adfea",
      "metadata": {
        "id": "68e315b6-bfe3-4129-af38-3d02fd2adfea"
      },
      "outputs": [],
      "source": [
        "%%time\n",
        "fig, ax = plt.subplots(figsize=(8, 7))\n",
        "\n",
        "# Plot number of canis over macaque UMIs\n",
        "x = macaque_count\n",
        "y = canis_count\n",
        "\n",
        "# Histogram data to show point density\n",
        "bins = [1500, 1500]\n",
        "hh, locx, locy = np.histogram2d(x, y, bins=bins)\n",
        "z = np.array([hh[np.argmax(a<=locx[1:]),np.argmax(b<=locy[1:])] for a,b in zip(x,y)])\n",
        "idx = z.argsort()\n",
        "x2, y2, z2 = x[idx], y[idx], z[idx]\n",
        "\n",
        "scatter = ax.scatter(x2, y2, c=z2, cmap=\"viridis\", s=5)\n",
        "\n",
        "# Add colorbar\n",
        "fig.colorbar(scatter, ax=ax)\n",
        "\n",
        "# # Add rectangles showing species filters\n",
        "# threshold = 20\n",
        "\n",
        "# p1 = mpatches.Rectangle((0, threshold), threshold, ax.get_ylim()[1] - threshold, alpha=0.1, facecolor=\"#f77f00\")\n",
        "# ax.add_patch(p1)\n",
        "# p2 = mpatches.Rectangle((threshold, 0), ax.get_xlim()[1] - threshold, threshold, alpha=0.1, facecolor=\"green\")\n",
        "# ax.add_patch(p2)\n",
        "\n",
        "ax.set_title(\"Total UMI counts for each cell\")\n",
        "ax.set_xlabel(\"Macaca mulatta UMI count\")\n",
        "ax.set_ylabel(\"Canis lupus familiaris UMI count\")\n",
        "\n",
        "ax.set_xscale(\"log\")\n",
        "ax.set_yscale(\"log\")\n",
        "\n",
        "ax.grid(True, which=\"both\", color=\"lightgray\", ls=\"--\", lw=1)\n",
        "ax.set_axisbelow(True)\n",
        "\n",
        "fig.show()"
      ]
    },
    {
      "cell_type": "code",
      "execution_count": null,
      "id": "3dcb52f5-add7-4663-b1ba-9b40baf4fa70",
      "metadata": {
        "id": "3dcb52f5-add7-4663-b1ba-9b40baf4fa70"
      },
      "outputs": [],
      "source": [
        "%%time\n",
        "# Maximum UMI percentage allowed from other species for species separation\n",
        "threshold = 0.1\n",
        "\n",
        "obs_species = []\n",
        "for mc, cc in zip(macaque_count, canis_count):\n",
        "    if cc / mc <= threshold:\n",
        "        obs_species.append(\"macaca_mulatta\")\n",
        "\n",
        "    elif mc / cc <= threshold:\n",
        "        obs_species.append(\"canis_lupus_familiaris\")\n",
        "\n",
        "    else:\n",
        "        obs_species.append(\"unkown\")"
      ]
    },
    {
      "cell_type": "code",
      "execution_count": null,
      "id": "6ee55e7c-a298-488d-83e6-1e264202e781",
      "metadata": {
        "id": "6ee55e7c-a298-488d-83e6-1e264202e781"
      },
      "outputs": [],
      "source": [
        "host_adata.obs[\"species\"] = obs_species"
      ]
    },
    {
      "cell_type": "code",
      "execution_count": null,
      "id": "374ac384-e201-4f83-b5d8-1ec87d4014d4",
      "metadata": {
        "id": "374ac384-e201-4f83-b5d8-1ec87d4014d4"
      },
      "outputs": [],
      "source": [
        "%%time\n",
        "fig, ax = plt.subplots(figsize=(12, 7))\n",
        "\n",
        "# Plot number of canis over macaque UMIs\n",
        "\n",
        "# Generate colormaps (removing lightest values for visibility)\n",
        "cmaps_orig = [plt.cm.Reds, plt.cm.Purples, plt.cm.Greys]\n",
        "min_val, max_val = 0.3, 1.0\n",
        "n = 10\n",
        "cmaps = []\n",
        "for orig_cmap in cmaps_orig:\n",
        "    colors = orig_cmap(np.linspace(min_val, max_val, n))\n",
        "    cmaps.append(mpl.colors.LinearSegmentedColormap.from_list(\"mycmap\", colors))\n",
        "\n",
        "for i, species in enumerate(host_adata.obs[\"species\"].unique()):\n",
        "    indx = host_adata.obs[\"species\"] == species\n",
        "    # Plot number of canis over macaque UMIs\n",
        "    x = macaque_count[indx]\n",
        "    y = canis_count[indx]\n",
        "\n",
        "    # Histogram data to show point density\n",
        "    bins = [1500, 1500]\n",
        "    hh, locx, locy = np.histogram2d(x, y, bins=bins)\n",
        "    z = np.array([hh[np.argmax(a<=locx[1:]),np.argmax(b<=locy[1:])] for a,b in zip(x,y)])\n",
        "    idx = z.argsort()\n",
        "    x2, y2, z2 = x[idx], y[idx], z[idx]\n",
        "\n",
        "    scatter = ax.scatter(x2, y2, c=z2, norm=mpl.colors.Normalize(vmin=0, vmax=500), cmap=cmaps[i], s=10)\n",
        "\n",
        "    # Add colorbar\n",
        "    cbar = fig.colorbar(scatter, ax=ax, pad=0.01)\n",
        "    if i == 0:\n",
        "        cbar.ax.tick_params(axis=\"both\", labelsize=fontsize-2)\n",
        "    else:\n",
        "        cbar.set_ticks([])\n",
        "    if species == \"canis_lupus_familiaris\":\n",
        "        cbar.ax.set_ylabel(f\"# of {' '.join(species.capitalize().split('_'))} (MDCK) cells\")\n",
        "    else:\n",
        "        cbar.ax.set_ylabel(f\"# of {' '.join(species.capitalize().split('_'))} cells\")\n",
        "\n",
        "# ax.set_title(\"Total UMI counts for each cell\", fontsize=fontsize+2)\n",
        "ax.set_xlabel(\"Macaca mulatta UMI count\", fontsize=fontsize)\n",
        "ax.set_ylabel(\"Canis lupus familiaris UMI count\", fontsize=fontsize)\n",
        "\n",
        "ax.set_xscale(\"log\")\n",
        "ax.set_yscale(\"log\")\n",
        "\n",
        "# Change fontsize of tick labels\n",
        "ax.tick_params(axis=\"both\", labelsize=fontsize)\n",
        "\n",
        "ax.grid(True, which=\"both\", color=\"lightgray\", ls=\"--\", lw=1)\n",
        "ax.set_axisbelow(True)\n",
        "\n",
        "# Save figure\n",
        "fig.savefig(\n",
        "    f\"canis_macaca_umis.png\", dpi=300, bbox_inches=\"tight\"\n",
        ")\n",
        "\n",
        "fig.show()"
      ]
    },
    {
      "cell_type": "code",
      "execution_count": null,
      "id": "24b94952-5647-4de9-b4dd-ea75986b0f6e",
      "metadata": {
        "id": "24b94952-5647-4de9-b4dd-ea75986b0f6e"
      },
      "outputs": [],
      "source": [
        "fig, ax = plt.subplots(figsize=(7,7))\n",
        "width = 0.6\n",
        "\n",
        "species = [\"macaca_mulatta\", \"canis_lupus_familiaris\", \"unkown\"]\n",
        "labels = [\"Macaca\\nmulatta\", \"MDCK\", \"Unkown\"]\n",
        "\n",
        "ax.bar(0, len(host_adata.obs[host_adata.obs[\"species\"] == species[0]]), width=width, color=\"#ae1116\")\n",
        "ax.bar(1, len(host_adata.obs[host_adata.obs[\"species\"] == species[1]]), width=width, color=\"mediumpurple\")\n",
        "ax.bar(2, len(host_adata.obs[host_adata.obs[\"species\"] == species[2]]), width=width, color=\"grey\")\n",
        "\n",
        "ax.set_ylabel(\"Number of cells\", fontsize=fontsize)\n",
        "ax.set_xticks([0,1,2], labels, fontsize=fontsize)\n",
        "\n",
        "# Change fontsize of tick labels\n",
        "ax.tick_params(axis=\"both\", labelsize=fontsize)\n",
        "\n",
        "ax.grid(True, which=\"both\", color=\"lightgray\", ls=\"--\", lw=1)\n",
        "ax.set_axisbelow(True)\n",
        "\n",
        "# Save figure\n",
        "fig.savefig(\n",
        "    f\"canis_macaca_umis_bars.png\", dpi=300, bbox_inches=\"tight\"\n",
        ")\n",
        "\n",
        "fig.show()"
      ]
    },
    {
      "cell_type": "markdown",
      "id": "e5b9989d-409c-4fdb-86e8-e385be394dac",
      "metadata": {
        "id": "e5b9989d-409c-4fdb-86e8-e385be394dac"
      },
      "source": [
        "___"
      ]
    },
    {
      "cell_type": "code",
      "execution_count": null,
      "id": "ad2bc3e9-2c44-4c84-b887-263dbe4ccb0f",
      "metadata": {
        "id": "ad2bc3e9-2c44-4c84-b887-263dbe4ccb0f"
      },
      "outputs": [],
      "source": [
        "# Save filtered AnnData object\n",
        "host_adata.write(\"host_QC.h5ad\")"
      ]
    },
    {
      "cell_type": "code",
      "execution_count": null,
      "id": "7d919a63-b0d1-4ad4-ae61-f9640fa09c49",
      "metadata": {
        "id": "7d919a63-b0d1-4ad4-ae61-f9640fa09c49"
      },
      "outputs": [],
      "source": []
    }
  ],
  "metadata": {
    "kernelspec": {
      "display_name": "Python 3 (ipykernel)",
      "language": "python",
      "name": "python3"
    },
    "language_info": {
      "codemirror_mode": {
        "name": "ipython",
        "version": 3
      },
      "file_extension": ".py",
      "mimetype": "text/x-python",
      "name": "python",
      "nbconvert_exporter": "python",
      "pygments_lexer": "ipython3",
      "version": "3.9.12"
    },
    "colab": {
      "provenance": [],
      "include_colab_link": true
    }
  },
  "nbformat": 4,
  "nbformat_minor": 5
}