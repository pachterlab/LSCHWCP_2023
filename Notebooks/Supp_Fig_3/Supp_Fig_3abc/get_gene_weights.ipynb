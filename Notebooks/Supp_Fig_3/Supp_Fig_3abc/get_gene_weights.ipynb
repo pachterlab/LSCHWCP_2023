{
  "nbformat": 4,
  "nbformat_minor": 0,
  "metadata": {
    "colab": {
      "provenance": [],
      "authorship_tag": "ABX9TyM7wPDgYpJwsVsUQvafNbI+",
      "include_colab_link": true
    },
    "kernelspec": {
      "name": "python3",
      "display_name": "Python 3"
    },
    "language_info": {
      "name": "python"
    }
  },
  "cells": [
    {
      "cell_type": "markdown",
      "metadata": {
        "id": "view-in-github",
        "colab_type": "text"
      },
      "source": [
        "<a href=\"https://colab.research.google.com/github/pachterlab/LSCHWCP_2023/blob/main/Notebooks/Supp_Fig_3/Supp_Fig_3abc/get_gene_weights.ipynb\" target=\"_parent\"><img src=\"https://colab.research.google.com/assets/colab-badge.svg\" alt=\"Open In Colab\"/></a>"
      ]
    },
    {
      "cell_type": "markdown",
      "source": [
        "# Get predictive genes and their weights in the logistic regression model"
      ],
      "metadata": {
        "id": "M3bYRXB3dgMk"
      }
    },
    {
      "cell_type": "code",
      "execution_count": null,
      "metadata": {
        "id": "v5t2U8tJc2GV"
      },
      "outputs": [],
      "source": [
        "!pip install -q anndata\n",
        "import anndata\n",
        "import pickle\n",
        "import pandas as pd\n",
        "import numpy as np"
      ]
    },
    {
      "cell_type": "markdown",
      "source": [
        "Load count matrices from Caltech Data (generated [here](https://github.com/pachterlab/LSCHWCP_2023/tree/main/Notebooks/align_macaque_PBMC_data/1_virus_no_mask) (virus) and [here](https://github.com/pachterlab/LSCHWCP_2023/tree/main/Notebooks/Supp_Fig_3/Supp_Fig_3abc) (macaque)):"
      ],
      "metadata": {
        "id": "fTkOGcwIdMkN"
      }
    },
    {
      "cell_type": "code",
      "source": [
        "# !wget virus_no_mask.h5ad\n",
        "# !wget macaque_QC_norm_leiden_celltypes.h5ad"
      ],
      "metadata": {
        "id": "kdNl4qVxdMrk"
      },
      "execution_count": null,
      "outputs": []
    },
    {
      "cell_type": "code",
      "source": [
        "virus_adata = anndata.read_h5ad(\"virus_no_mask.h5ad\")\n",
        "host_adata = anndata.read_h5ad(\"macaque_QC_norm_leiden_celltypes.h5ad\")"
      ],
      "metadata": {
        "id": "kD9idI7qd52g"
      },
      "execution_count": null,
      "outputs": []
    },
    {
      "cell_type": "markdown",
      "source": [
        "Load model from Caltech Data (the models were built and tested in [this notebok](https://github.com/pachterlab/LSCHWCP_2023/blob/main/Notebooks/Figure_8/Figure_8bc/run_regressions.ipynb):"
      ],
      "metadata": {
        "id": "0Goz7wz5dmwn"
      }
    },
    {
      "cell_type": "code",
      "source": [
        "# !wget\n",
        "result_dict_path = \"supp_viruses_hv_genes_fullM_cov_donor_time_l2.pickle\""
      ],
      "metadata": {
        "id": "vV7psMTldPcw"
      },
      "execution_count": null,
      "outputs": []
    },
    {
      "cell_type": "markdown",
      "source": [
        "Filter matrices:"
      ],
      "metadata": {
        "id": "IJST1r0IdLZG"
      }
    },
    {
      "cell_type": "code",
      "source": [
        "# Only keep cells present in both matrices\n",
        "virus_adata.obs['unique_bc'] = virus_adata.obs['sample_barcode'].astype('str') + virus_adata.obs.index.astype('str')\n",
        "host_adata.obs.index = host_adata.obs['unique_bc']\n",
        "virus_adata.obs.index = virus_adata.obs['unique_bc']\n",
        "\n",
        "# Remove non macaque genes\n",
        "host_adata = host_adata[host_adata.obs[\"species\"] == \"macaca_mulatta\" , host_adata.var[\"species\"] == \"macaca_mulatta\"]\n",
        "# Remove null cell types\n",
        "virus_adata = virus_adata[virus_adata.obs[\"celltype\"].notnull(), :]\n",
        "\n",
        "# Filter the host anndata matrix to contain only cells in filtered virus adata\n",
        "host_adata = host_adata[host_adata.obs.unique_bc.isin(virus_adata.obs.unique_bc),:]\n",
        "\n",
        "# Filter the host anndata matrix to only contain macaque genes and the viral cells\n",
        "if genes_kind == 'all': # options: 'all', 'hv', 'threshN' with N being the lowest count sum over all cells to keep a gene\n",
        "    host_adata = host_adata[host_adata.obs.unique_bc.isin(virus_adata.obs.unique_bc),:]\n",
        "elif genes_kind == 'hv':\n",
        "    host_adata = host_adata[host_adata.obs.unique_bc.isin(virus_adata.obs.unique_bc),host_adata.var.highly_variable==True]\n",
        "\n"
      ],
      "metadata": {
        "id": "NZQKwn9ac8dV"
      },
      "execution_count": null,
      "outputs": []
    },
    {
      "cell_type": "markdown",
      "source": [
        "Extract predictive genes and their weights:"
      ],
      "metadata": {
        "id": "1RCfi7x-dRo1"
      }
    },
    {
      "cell_type": "code",
      "source": [
        "top_viruses_top7 = ['u10', 'u102540', 'u11150', 'u202260', 'u39566', 'u134800', 'u102324']"
      ],
      "metadata": {
        "id": "bqHq7UxEdRv7"
      },
      "execution_count": null,
      "outputs": []
    },
    {
      "cell_type": "code",
      "source": [
        "with open(result_dict_path, 'rb') as handle:\n",
        "    results_dict =  pickle.load(handle)\n",
        "\n",
        "virus_genes = host_adata.var.gene_id\n",
        "weighted_gene_df = pd.DataFrame()\n",
        "\n",
        "for v in top_viruses:\n",
        "    index = np.where(np.array(results_dict['viruses'])==v)[0][0]\n",
        "    virus_weights = results_dict['weights'][index,:len(virus_genes)].flatten()\n",
        "    sorted_genes = [x for y, x in sorted(zip(virus_weights, virus_genes))][::-1]\n",
        "    sorted_weights = [y for y, x in sorted(zip(virus_weights, virus_genes))][::-1]\n",
        "    weighted_gene_df[f'{v} Ensembl ID'] = sorted_genes\n",
        "    weighted_gene_df[f'{v} weight'] = sorted_weights\n",
        "\n",
        "\n",
        "weighted_gene_df.to_csv('gene_weights.csv')"
      ],
      "metadata": {
        "id": "kHQSQobvdY0n"
      },
      "execution_count": null,
      "outputs": []
    }
  ]
}