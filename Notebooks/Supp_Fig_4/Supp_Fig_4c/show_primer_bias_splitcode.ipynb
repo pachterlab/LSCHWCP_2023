{
  "cells": [
    {
      "cell_type": "markdown",
      "metadata": {
        "id": "view-in-github",
        "colab_type": "text"
      },
      "source": [
        "<a href=\"https://colab.research.google.com/github/pachterlab/LSCHWCP_2023/blob/main/Notebooks/Supp_Fig_4/Supp_Fig_4c/show_primer_bias_splitcode.ipynb\" target=\"_parent\"><img src=\"https://colab.research.google.com/assets/colab-badge.svg\" alt=\"Open In Colab\"/></a>"
      ]
    },
    {
      "cell_type": "markdown",
      "source": [
        "# Align SPLIT-Seq data from lung samples from mice infected with SARS-CoV-2\n",
        "Reference: https://doi.org/10.1038/s41586-022-05344-2"
      ],
      "metadata": {
        "id": "kqgdbXOVbE8Y"
      },
      "id": "kqgdbXOVbE8Y"
    },
    {
      "cell_type": "markdown",
      "source": [
        "### Install software"
      ],
      "metadata": {
        "id": "6Z6UuQmRaUxj"
      },
      "id": "6Z6UuQmRaUxj"
    },
    {
      "cell_type": "code",
      "source": [
        "!pip install -q kb_python anndata\n",
        "import numpy as np\n",
        "from scipy import stats\n",
        "import anndata\n",
        "import pandas as pd\n",
        "import scanpy as sc\n",
        "import json\n",
        "import os\n",
        "import glob\n",
        "import matplotlib.pyplot as plt\n",
        "import matplotlib as mpl\n",
        "%config InlineBackend.figure_format='retina'\n",
        "\n",
        "def nd(arr):\n",
        "    \"\"\"\n",
        "    Function to transform numpy matrix to nd array.\n",
        "    \"\"\"\n",
        "    return np.asarray(arr).reshape(-1)"
      ],
      "metadata": {
        "id": "X-rcHaF2aDBe"
      },
      "id": "X-rcHaF2aDBe",
      "execution_count": null,
      "outputs": []
    },
    {
      "cell_type": "code",
      "source": [
        "# Install kallisto from source\n",
        "!git clone -q https://github.com/pachterlab/kallisto.git\n",
        "!cd kallisto && mkdir build && cd build && cmake .. && make\n",
        "\n",
        "# Define paths to kallisto and bustools binaries\n",
        "kallisto = \"/content/kallisto/build/src/kallisto\""
      ],
      "metadata": {
        "id": "Be5-vY4XW93m"
      },
      "id": "Be5-vY4XW93m",
      "execution_count": null,
      "outputs": []
    },
    {
      "cell_type": "code",
      "source": [
        "# Download the customized transcripts to gene mapping\n",
        "!wget https://raw.githubusercontent.com/pachterlab/LSCHWCP_2023/main/PalmDB/palmdb_clustered_t2g.txt\n",
        "# Download the RdRP amino acid sequences\n",
        "!wget https://raw.githubusercontent.com/pachterlab/LSCHWCP_2023/main/PalmDB/palmdb_rdrp_seqs.fa\n",
        "\n",
        "virus_fasta = \"palmdb_rdrp_seqs.fa\"\n",
        "virus_t2g = \"palmdb_clustered_t2g.txt\""
      ],
      "metadata": {
        "id": "IbtKV9HzYx2U"
      },
      "id": "IbtKV9HzYx2U",
      "execution_count": null,
      "outputs": []
    },
    {
      "cell_type": "code",
      "source": [
        "# Number of threads to use in alignment\n",
        "threads = 2"
      ],
      "metadata": {
        "id": "zZaeZUIlY8hV"
      },
      "id": "zZaeZUIlY8hV",
      "execution_count": null,
      "outputs": []
    },
    {
      "cell_type": "markdown",
      "source": [
        "### Download raw data"
      ],
      "metadata": {
        "id": "4CKKafTgZC3y"
      },
      "id": "4CKKafTgZC3y"
    },
    {
      "cell_type": "code",
      "source": [
        "!pip install -q ffq\n",
        "import json\n",
        "\n",
        "out = \"data.json\"\n",
        "\n",
        "!ffq GSE199498 --ftp -o $out\n",
        "\n",
        "f = open(out)\n",
        "data = json.load(f)\n",
        "f.close()\n",
        "\n",
        "print(len(data))\n",
        "\n",
        "for dataset in data:\n",
        "    url = dataset[\"url\"]\n",
        "    !curl -O $url"
      ],
      "metadata": {
        "id": "hs_4v5r9ZC7_"
      },
      "id": "hs_4v5r9ZC7_",
      "execution_count": null,
      "outputs": []
    },
    {
      "cell_type": "markdown",
      "source": [
        "### Align data to PalmDB using kallisto translated search"
      ],
      "metadata": {
        "id": "5MzY_DsdW-qx"
      },
      "id": "5MzY_DsdW-qx"
    },
    {
      "cell_type": "markdown",
      "id": "2474219b-d099-4576-991d-615c8eef9f38",
      "metadata": {
        "id": "2474219b-d099-4576-991d-615c8eef9f38"
      },
      "source": [
        "Generate virus index with masked host (here, mouse) genome and transcriptome sequences:"
      ]
    },
    {
      "cell_type": "code",
      "source": [
        "# Get host genomes and concatenate them into a single file\n",
        "!pip install -q gget\n",
        "!gget ref -w cdna,dna -r 110 -d mouse\n",
        "host_cdna = \"Mus_musculus.GRCm39.cdna.all.fa.gz\"\n",
        "host_dna = \"Mus_musculus.GRCm39.dna.primary_assembly.fa.gz\"\n",
        "\n",
        "host_combined = \"combined.cdna_dna.all.fa.gz\"\n",
        "!cat $host_cdna $host_dna > $host_combined"
      ],
      "metadata": {
        "id": "57sW5vIZZXrN"
      },
      "id": "57sW5vIZZXrN",
      "execution_count": null,
      "outputs": []
    },
    {
      "cell_type": "code",
      "execution_count": null,
      "id": "0c6ebe37-689b-4fed-a3ba-2ecf9169761e",
      "metadata": {
        "tags": [],
        "id": "0c6ebe37-689b-4fed-a3ba-2ecf9169761e"
      },
      "outputs": [],
      "source": [
        "# Generate virus reference index\n",
        "virus_index = \"virus_index.idx\"\n",
        "\n",
        "!/usr/bin/time -v kallisto index \\\n",
        "    --aa \\\n",
        "    -t $threads \\\n",
        "    --d-list $host_combined \\\n",
        "    -i $virus_index \\\n",
        "    $virus_fasta"
      ]
    },
    {
      "cell_type": "markdown",
      "id": "9e448b9a-dade-4a5b-bc06-7d7c7bb5d657",
      "metadata": {
        "id": "9e448b9a-dade-4a5b-bc06-7d7c7bb5d657"
      },
      "source": [
        "Get fastq files:"
      ]
    },
    {
      "cell_type": "code",
      "execution_count": null,
      "id": "a3b80418-31b5-4fd5-b180-4de491ec080d",
      "metadata": {
        "id": "a3b80418-31b5-4fd5-b180-4de491ec080d"
      },
      "outputs": [],
      "source": [
        "import os\n",
        "import glob"
      ]
    },
    {
      "cell_type": "code",
      "execution_count": null,
      "id": "ef4edbc7-09f5-4c17-8e0e-fd569bb79791",
      "metadata": {
        "id": "ef4edbc7-09f5-4c17-8e0e-fd569bb79791"
      },
      "outputs": [],
      "source": [
        "fastqs = []\n",
        "for filename in glob.glob(\"*.fastq.gz\"):\n",
        "    fastqs.append(filename.split(\"/\")[-1])\n",
        "\n",
        "fastqs.sort()\n",
        "fastqs"
      ]
    },
    {
      "cell_type": "code",
      "execution_count": null,
      "id": "34079246-ddaf-414a-8a26-737ac084b0a2",
      "metadata": {
        "id": "34079246-ddaf-414a-8a26-737ac084b0a2"
      },
      "outputs": [],
      "source": [
        "len(fastqs)"
      ]
    },
    {
      "cell_type": "code",
      "execution_count": null,
      "id": "afdb10bd-e53c-42e7-a633-afe8128053ce",
      "metadata": {
        "id": "afdb10bd-e53c-42e7-a633-afe8128053ce"
      },
      "outputs": [],
      "source": [
        "samples = []\n",
        "for fastq in fastqs:\n",
        "    samples.append(fastq.split(\"_\")[0])"
      ]
    },
    {
      "cell_type": "code",
      "execution_count": null,
      "id": "709ed062-7de3-42d0-bec0-cefcf6fa9e9d",
      "metadata": {
        "tags": [],
        "id": "709ed062-7de3-42d0-bec0-cefcf6fa9e9d"
      },
      "outputs": [],
      "source": [
        "samples = list(set(samples))\n",
        "len(samples)"
      ]
    },
    {
      "cell_type": "markdown",
      "id": "ffcc6ecf-30c6-442d-bb50-09a4d99bfb6a",
      "metadata": {
        "id": "ffcc6ecf-30c6-442d-bb50-09a4d99bfb6a"
      },
      "source": [
        "Align data to PalmDB:  \n",
        "The SPLIT-Seq barcode onlist files (r1_RT_replace.txt and r1r2r3.txt) were provided by Delaney Sullivan (07/15/2023)."
      ]
    },
    {
      "cell_type": "code",
      "source": [
        "# Download SPLIT-Seq barcode onlist files\n",
        "!wget https://raw.githubusercontent.com/pachterlab/LSCHWCP_2023/main/Notebooks/Supp_Fig_4/Supp_Fig_4c/r1_RT_replace.txt\n",
        "!wget https://raw.githubusercontent.com/pachterlab/LSCHWCP_2023/main/Notebooks/Supp_Fig_4/Supp_Fig_4c/r1r2r3.txt"
      ],
      "metadata": {
        "id": "Q1GiRnSKagFh"
      },
      "id": "Q1GiRnSKagFh",
      "execution_count": null,
      "outputs": []
    },
    {
      "cell_type": "code",
      "execution_count": null,
      "id": "1532eb8f-3907-4da3-812e-2fb5b211eaf7",
      "metadata": {
        "id": "1532eb8f-3907-4da3-812e-2fb5b211eaf7"
      },
      "outputs": [],
      "source": [
        "%%time\n",
        "out_folder = \"palmdb\"\n",
        "for sample in samples:\n",
        "    fastq1 = sample + \"_1.fastq.gz\"\n",
        "    fastq2 = sample + \"_2.fastq.gz\"\n",
        "\n",
        "    !mkdir -p $out_folder/$sample\n",
        "\n",
        "    !kb count \\\n",
        "        --aa \\\n",
        "        --h5ad \\\n",
        "        -t $threads \\\n",
        "        -i $virus_index \\\n",
        "        -g $virus_t2g \\\n",
        "        -x SPLIT-Seq \\\n",
        "        -r r1_RT_replace.txt \\\n",
        "        -w r1r2r3.txt \\\n",
        "        -o $out_folder/$sample/ \\\n",
        "        $fastq1 $fastq2"
      ]
    },
    {
      "cell_type": "markdown",
      "source": [
        "## Data QC"
      ],
      "metadata": {
        "id": "oVrIUjlSbU5t"
      },
      "id": "oVrIUjlSbU5t"
    },
    {
      "cell_type": "code",
      "source": [
        "# Get SRRs\n",
        "srrs = []\n",
        "for filename in glob.glob(\"*.fastq.gz\"):\n",
        "    srrs.append(filename.split(\"/\")[-1].split(\"_\")[0])\n",
        "\n",
        "srrs = list(set(srrs))\n",
        "\n",
        "srrs.sort()\n",
        "print(len(srrs))\n",
        "srrs"
      ],
      "metadata": {
        "id": "Zg3mNpjsb6mx"
      },
      "id": "Zg3mNpjsb6mx",
      "execution_count": null,
      "outputs": []
    },
    {
      "cell_type": "markdown",
      "source": [
        "Add primer type and well from onlist based on the last 8 bases of barcode:"
      ],
      "metadata": {
        "id": "2dLRC2AQcDvL"
      },
      "id": "2dLRC2AQcDvL"
    },
    {
      "cell_type": "code",
      "execution_count": null,
      "id": "edb5ba09-72ce-483c-85d6-fccb9e20bf65",
      "metadata": {
        "id": "edb5ba09-72ce-483c-85d6-fccb9e20bf65"
      },
      "outputs": [],
      "source": [
        "# Download barcode to well mapping\n",
        "!wget https://raw.githubusercontent.com/pachterlab/LSCHWCP_2023/main/Notebooks/Supp_Fig_4/Supp_Fig_4c/splitseq_bc2well.csv\n",
        "bc2well = pd.read_csv(\"splitseq_bc2well.csv\")\n",
        "bc2well"
      ]
    },
    {
      "cell_type": "code",
      "execution_count": null,
      "id": "c2591028-37fc-4329-884c-5af0cd20c9a9",
      "metadata": {
        "id": "c2591028-37fc-4329-884c-5af0cd20c9a9"
      },
      "outputs": [],
      "source": [
        "palmdb_adatas = []\n",
        "for srr in srrs:\n",
        "    # Load data\n",
        "    adata = anndata.read(f\"{out_folder}/{srr}/counts_unfiltered/adata.h5ad\")\n",
        "\n",
        "    # Add sample name\n",
        "    adata.obs[\"srr\"] = srr\n",
        "\n",
        "    # Create new column containing identifying barcode\n",
        "    adata.obs[\"iden_bc\"] = adata.obs.index.str[-8:]\n",
        "\n",
        "    # Create copy of barcode column\n",
        "    adata.obs[\"barcode\"] = adata.obs.index\n",
        "\n",
        "    # Merge well and primer information\n",
        "    adata.obs = adata.obs.merge(bc2well, left_on=\"iden_bc\", right_on=\"sequence\", how=\"left\").set_index(\"barcode\", drop=False)\n",
        "\n",
        "    # Append to adata list\n",
        "    palmdb_adatas.append(adata)"
      ]
    },
    {
      "cell_type": "code",
      "source": [
        "## Concatenate datasets\n",
        "palmdb_adata = palmdb_adatas[0]\n",
        "for adata_obj in palmdb_adatas[1:]:\n",
        "    palmdb_adata = palmdb_adata.concatenate(adata_obj,\n",
        "                             join='outer',\n",
        "                             batch_key='sample_index',\n",
        "                             batch_categories=None,\n",
        "                             uns_merge=None,\n",
        "                             fill_value=np.nan)\n",
        "\n",
        "palmdb_adata"
      ],
      "metadata": {
        "id": "9-Bz1xZmcHyS"
      },
      "id": "9-Bz1xZmcHyS",
      "execution_count": null,
      "outputs": []
    },
    {
      "cell_type": "code",
      "source": [
        "# Drop unnecessary/duplicated columns\n",
        "palmdb_adata.obs = palmdb_adata.obs.drop([\"sequence\", \"sample_index\"], axis=1)\n",
        "palmdb_adata.obs"
      ],
      "metadata": {
        "id": "aUVZDkV0cH8O"
      },
      "id": "aUVZDkV0cH8O",
      "execution_count": null,
      "outputs": []
    },
    {
      "cell_type": "markdown",
      "source": [
        "Add metadata:"
      ],
      "metadata": {
        "id": "lRAt36kOcVr9"
      },
      "id": "lRAt36kOcVr9"
    },
    {
      "cell_type": "code",
      "source": [
        "# Load first set of metadata provided by authors\n",
        "!wget https://raw.githubusercontent.com/pachterlab/LSCHWCP_2023/main/Notebooks/Supp_Fig_4/Supp_Fig_4c/GSM5974202_sample_well_IDs.tsv\n",
        "meta1 = pd.read_csv(\"GSM5974202_sample_well_IDs.tsv\", sep='\\t')\n",
        "meta1[\"well_ID_list\"] = meta1[\"well_ID\"]\n",
        "meta1[\"well_ID\"] = meta1[\"well_ID_list\"].str.split(\"-\")\n",
        "meta1 = meta1.explode(\"well_ID\")\n",
        "meta1.head()"
      ],
      "metadata": {
        "id": "QWV-Il8ncVv-"
      },
      "id": "QWV-Il8ncVv-",
      "execution_count": null,
      "outputs": []
    },
    {
      "cell_type": "code",
      "source": [
        "# Copy current index\n",
        "palmdb_adata.obs[\"barcode_idx\"] = palmdb_adata.obs.index.values"
      ],
      "metadata": {
        "id": "r-1PXVRfcj7I"
      },
      "id": "r-1PXVRfcj7I",
      "execution_count": null,
      "outputs": []
    },
    {
      "cell_type": "code",
      "source": [
        "palmdb_adata.obs = palmdb_adata.obs.merge(meta1, left_on=\"well\", right_on=\"well_ID\", how=\"left\").drop(\"well_ID_list\", axis=1)\n",
        "palmdb_adata.obs"
      ],
      "metadata": {
        "id": "t5NShz0JckL_"
      },
      "id": "t5NShz0JckL_",
      "execution_count": null,
      "outputs": []
    },
    {
      "cell_type": "code",
      "source": [
        "# Load second set of metadata provided by authors\n",
        "!wget https://raw.githubusercontent.com/pachterlab/LSCHWCP_2023/main/Notebooks/Supp_Fig_4/Supp_Fig_4c/GSM5974202_README.txt\n",
        "meta2 = pd.read_csv(\"GSM5974202_README.txt\", sep='\\t')\n",
        "meta2.head()"
      ],
      "metadata": {
        "id": "xt_ZpkEVclfd"
      },
      "id": "xt_ZpkEVclfd",
      "execution_count": null,
      "outputs": []
    },
    {
      "cell_type": "code",
      "source": [
        "# Merge second set of metadata into adata object\n",
        "palmdb_adata.obs = palmdb_adata.obs.merge(meta2, left_on=\"sample\", right_on=\"Sample_name\", how=\"left\").set_index(\"barcode_idx\", drop=True)\n",
        "palmdb_adata.obs"
      ],
      "metadata": {
        "id": "EOjiwUhxc07K"
      },
      "id": "EOjiwUhxc07K",
      "execution_count": null,
      "outputs": []
    },
    {
      "cell_type": "code",
      "source": [
        "# Note: More than half of the well should have been empty since they are not included in look-up included by authors\n",
        "palmdb_adata.obs.dropna()"
      ],
      "metadata": {
        "id": "T5pT1Etcc5f_"
      },
      "id": "T5pT1Etcc5f_",
      "execution_count": null,
      "outputs": []
    },
    {
      "cell_type": "markdown",
      "source": [
        "## Plot fractions of virus counts detected per primer type"
      ],
      "metadata": {
        "id": "O8pxFgoMdFar"
      },
      "id": "O8pxFgoMdFar"
    },
    {
      "cell_type": "code",
      "source": [
        "# Download virus ID to sOTU mapping\n",
        "!wget https://raw.githubusercontent.com/pachterlab/LSCHWCP_2023/main/PalmDB/ID_to_taxonomy_mapping.csv\n",
        "id2tax_df = pd.read_csv(\"ID_to_taxonomy_mapping.csv\")\n",
        "id2tax_df.head()"
      ],
      "metadata": {
        "id": "yOAduVlCdFjJ"
      },
      "id": "yOAduVlCdFjJ",
      "execution_count": null,
      "outputs": []
    },
    {
      "cell_type": "code",
      "source": [
        "# Minimum count\n",
        "threshold_per_cell = 0"
      ],
      "metadata": {
        "id": "WkyXWNTkdiNt"
      },
      "id": "WkyXWNTkdiNt",
      "execution_count": null,
      "outputs": []
    },
    {
      "cell_type": "code",
      "source": [
        "# Get fraction of positive cells per virus strandedness per primer type\n",
        "vtypes = ['+ssRNA', '-ssRNA', 'dsRNA', 'dsDNA', '+ssRNA or dsRNA']\n",
        "vlabels = ['+ssRNA', '-ssRNA', 'dsRNA', 'dsDNA', '+ssRNA\\nor dsRNA']\n",
        "\n",
        "t_counts = []\n",
        "r_counts = []\n",
        "for vt in vtypes:\n",
        "    target_ids = id2tax_df[id2tax_df[\"virus_type\"] == vt][\"Label\"].values\n",
        "\n",
        "    # Get counts for poly T primer\n",
        "    tc = nd(palmdb_adata[(palmdb_adata.obs[\"type\"]==\"T\") & (palmdb_adata.obs[\"condition\"] == \"infected\"), palmdb_adata.var.index.isin(target_ids)].X.todense())\n",
        "    tc = tc[tc > threshold_per_cell]\n",
        "\n",
        "    # Get counts for random primers\n",
        "    rc = nd(palmdb_adata[(palmdb_adata.obs[\"type\"]==\"R\") & (palmdb_adata.obs[\"condition\"] == \"infected\"), palmdb_adata.var.index.isin(target_ids)].X.todense())\n",
        "    rc = rc[rc > threshold_per_cell]\n",
        "\n",
        "    t_counts.append(np.sum(tc) / (np.sum(tc) + np.sum(rc)))\n",
        "    r_counts.append(np.sum(rc) / (np.sum(tc) + np.sum(rc)))"
      ],
      "metadata": {
        "id": "8e_LYKq3d14z"
      },
      "id": "8e_LYKq3d14z",
      "execution_count": null,
      "outputs": []
    },
    {
      "cell_type": "code",
      "source": [
        "# Get fraction of positive cells for SARS-CoV-2 per primer type\n",
        "species = [\n",
        "    \"Severe acute respiratory syndrome-related coronavirus\",\n",
        "]\n",
        "\n",
        "labels = [\n",
        "    \"Severe acute respiratory\\nsyndrome-related\\ncoronavirus\",\n",
        "]\n",
        "\n",
        "t_counts_sars = []\n",
        "r_counts_sars = []\n",
        "total_count = []\n",
        "for sp in species:\n",
        "    target_ids = id2tax_df[id2tax_df[\"species\"] == sp][\"rep_ID\"].values\n",
        "\n",
        "    # Get counts for poly T primer\n",
        "    tc = nd(palmdb_adata[(palmdb_adata.obs[\"type\"]==\"T\") & (palmdb_adata.obs[\"condition\"] == \"infected\"), palmdb_adata.var.index.isin(target_ids)].X.todense())\n",
        "    tc = tc[tc > threshold_per_cell]\n",
        "\n",
        "    # Get counts for random primers\n",
        "    rc = nd(palmdb_adata[(palmdb_adata.obs[\"type\"]==\"R\") & (palmdb_adata.obs[\"condition\"] == \"infected\"), palmdb_adata.var.index.isin(target_ids)].X.todense())\n",
        "    rc = rc[rc > threshold_per_cell]\n",
        "\n",
        "    t_counts_sars.append(np.sum(tc) / (np.sum(tc) + np.sum(rc)))\n",
        "    r_counts_sars.append(np.sum(rc) / (np.sum(tc) + np.sum(rc)))\n",
        "\n",
        "    total_count.append(np.sum(tc) + np.sum(rc))"
      ],
      "metadata": {
        "id": "1z8V4JT9dWkQ"
      },
      "id": "1z8V4JT9dWkQ",
      "execution_count": null,
      "outputs": []
    },
    {
      "cell_type": "code",
      "source": [
        "fig, axs = plt.subplots(figsize=(7, 7), ncols=2, sharey=True, gridspec_kw={'width_ratios': [1, 5], 'wspace': 0.05})\n",
        "\n",
        "fontsize = 14\n",
        "width = 0.4\n",
        "colors = [\"#003049\", \"#98c1d9\"]\n",
        "\n",
        "# Plot SARS-CoV2\n",
        "ax = axs[0]\n",
        "ax.bar(0-width/2, r_counts_sars[0], width=width, color=colors[0])\n",
        "ax.bar(0+width/2, t_counts_sars[0], width=width, color=colors[1])\n",
        "ax.set_xticks([0], [\"SARS-CoV\"], fontsize=fontsize)\n",
        "\n",
        "# ax.set_xlabel(\"Known viral infection\", fontsize=fontsize)\n",
        "ax.set_ylabel(\"Fraction of kallisto counts\", fontsize=fontsize)\n",
        "ax.set_xmargin(0.1)\n",
        "\n",
        "# Plot general strandedness\n",
        "ax = axs[1]\n",
        "x = np.arange(len(vtypes))\n",
        "ax.bar(x-width/2, r_counts, width=width, color=colors[0], label=\"Random\\nhexamer\")\n",
        "ax.bar(x+width/2, t_counts, width=width, color=colors[1], label=\"Poly(T)\")\n",
        "\n",
        "ax.legend(title=\"Primer type\", fontsize=fontsize, title_fontsize=fontsize)\n",
        "ax.set_xticks(np.arange(len(vlabels)), vlabels, fontsize=fontsize)\n",
        "ax.set_xmargin(0.02)\n",
        "\n",
        "for ax in axs:\n",
        "    ax.tick_params(axis='y', labelsize=fontsize)\n",
        "\n",
        "fig.suptitle(\"Lung samples from mice infected\\nwith SARS-CoV-2 (SPLiT-seq)\", fontsize=fontsize, y=0.95)\n",
        "\n",
        "fig.savefig(\"figures/4_random_vs_polyT_final.png\", dpi=300, bbox_inches=\"tight\")\n",
        "\n",
        "fig.show()"
      ],
      "metadata": {
        "id": "r51yiOGOdO_V"
      },
      "id": "r51yiOGOdO_V",
      "execution_count": null,
      "outputs": []
    }
  ],
  "metadata": {
    "kernelspec": {
      "display_name": "Python 3 (ipykernel)",
      "language": "python",
      "name": "python3"
    },
    "language_info": {
      "codemirror_mode": {
        "name": "ipython",
        "version": 3
      },
      "file_extension": ".py",
      "mimetype": "text/x-python",
      "name": "python",
      "nbconvert_exporter": "python",
      "pygments_lexer": "ipython3",
      "version": "3.9.12"
    },
    "colab": {
      "provenance": [],
      "include_colab_link": true
    }
  },
  "nbformat": 4,
  "nbformat_minor": 5
}