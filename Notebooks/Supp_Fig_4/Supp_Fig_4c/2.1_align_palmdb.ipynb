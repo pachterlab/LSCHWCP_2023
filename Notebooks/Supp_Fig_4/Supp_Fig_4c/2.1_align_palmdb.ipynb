{
 "cells": [
  {
   "cell_type": "code",
   "execution_count": 1,
   "id": "631e174b-d721-444a-a040-5c1a1152bd8a",
   "metadata": {},
   "outputs": [],
   "source": [
    "virus_fasta = \"/home/laura/projects/virus-watch-data/virus_ref/uniques_noduplicates.fa\"\n",
    "virus_index = \"/home/laura/projects/virus-watch-data/virus_ref/kallisto_aa/noduplicates_mouse.idx\"\n",
    "virus_t2g = \"/home/laura/projects/virus-watch-data/virus_ref/uniques_noduplicates_t2g.txt\"\n",
    "host_fasta = \"/home/laura/projects/virus-watch-data/mouse_ref/Mus_musculus.GRCm39.dna.primary_assembly.fa.gz\"\n",
    "\n",
    "bp = \"PRJNA820450\"\n",
    "fastq_folder = f\"/home/laura/projects/virus-watch-data/{bp}/raw\"\n",
    "\n",
    "out_folder = f\"{fastq_folder}/../virus\"\n",
    "\n",
    "kallisto = \"/home/laura/projects/kallisto/build/src/kallisto\"\n",
    "bustools = \"/home/laura/projects/bustools/build/src/bustools\""
   ]
  },
  {
   "cell_type": "markdown",
   "id": "2474219b-d099-4576-991d-615c8eef9f38",
   "metadata": {},
   "source": [
    "Generate virus index d-listed against mouse:"
   ]
  },
  {
   "cell_type": "code",
   "execution_count": 5,
   "id": "0c6ebe37-689b-4fed-a3ba-2ecf9169761e",
   "metadata": {
    "tags": []
   },
   "outputs": [
    {
     "name": "stdout",
     "output_type": "stream",
     "text": [
      "\n",
      "[build] loading fasta file /home/laura/projects/virus-watch-data/virus_ref/uniques_noduplicates.fa\n",
      "[build] k-mer length: 31\n",
      "KmerStream::KmerStream(): Start computing k-mer cardinality estimations (1/2)\n",
      "KmerStream::KmerStream(): Start computing k-mer cardinality estimations (1/2)\n",
      "KmerStream::KmerStream(): Finished\n",
      "CompactedDBG::build(): Estimated number of k-mers occurring at least once: 37641510\n",
      "CompactedDBG::build(): Estimated number of minimizer occurring at least once: 7877811\n",
      "CompactedDBG::filter(): Processed 87630084 k-mers in 296561 reads\n",
      "CompactedDBG::filter(): Found 37508708 unique k-mers\n",
      "CompactedDBG::filter(): Number of blocks in Bloom filter is 257317\n",
      "CompactedDBG::construct(): Extract approximate unitigs (1/2)\n",
      "CompactedDBG::construct(): Extract approximate unitigs (2/2)\n",
      "CompactedDBG::construct(): Closed all input files\n",
      "\n",
      "CompactedDBG::construct(): Splitting unitigs (1/2)\n",
      "\n",
      "CompactedDBG::construct(): Splitting unitigs (2/2)\n",
      "CompactedDBG::construct(): Before split: 2040591 unitigs\n",
      "CompactedDBG::construct(): After split (1/1): 2040591 unitigs\n",
      "CompactedDBG::construct(): Unitigs split: 1654\n",
      "CompactedDBG::construct(): Unitigs deleted: 0\n",
      "\n",
      "CompactedDBG::construct(): Joining unitigs\n",
      "CompactedDBG::construct(): After join: 2021701 unitigs\n",
      "CompactedDBG::construct(): Joined 19275 unitigs\n",
      "[build] extracting distinguishing flanking k-mers from \"/home/laura/projects/virus-watch-data/mouse_ref/Mus_musculus.GRCm39.dna.primary_assembly.fa.gz\"\n",
      "[build] identified 219 distinguishing flanking k-mers\n",
      "[build] building MPHF\n",
      "[build] creating equivalence classes ... \n",
      "[build] target de Bruijn graph has k-mer length 31 and minimizer length 23\n",
      "[build] target de Bruijn graph has 2021886 contigs and contains 37541892 k-mers \n",
      "\n",
      "\tCommand being timed: \"kallisto index -t 60 --aa --d-list /home/laura/projects/virus-watch-data/mouse_ref/Mus_musculus.GRCm39.dna.primary_assembly.fa.gz -i /home/laura/projects/virus-watch-data/virus_ref/kallisto_aa/noduplicates_mouse.idx /home/laura/projects/virus-watch-data/virus_ref/uniques_noduplicates.fa\"\n",
      "\tUser time (seconds): 2892.87\n",
      "\tSystem time (seconds): 13.89\n",
      "\tPercent of CPU this job got: 791%\n",
      "\tElapsed (wall clock) time (h:mm:ss or m:ss): 6:07.31\n",
      "\tAverage shared text size (kbytes): 0\n",
      "\tAverage unshared data size (kbytes): 0\n",
      "\tAverage stack size (kbytes): 0\n",
      "\tAverage total size (kbytes): 0\n",
      "\tMaximum resident set size (kbytes): 4603568\n",
      "\tAverage resident set size (kbytes): 0\n",
      "\tMajor (requiring I/O) page faults: 0\n",
      "\tMinor (reclaiming a frame) page faults: 3931023\n",
      "\tVoluntary context switches: 114266\n",
      "\tInvoluntary context switches: 11958\n",
      "\tSwaps: 0\n",
      "\tFile system inputs: 1575096\n",
      "\tFile system outputs: 1407448\n",
      "\tSocket messages sent: 0\n",
      "\tSocket messages received: 0\n",
      "\tSignals delivered: 0\n",
      "\tPage size (bytes): 4096\n",
      "\tExit status: 0\n"
     ]
    }
   ],
   "source": [
    "# Generate virus reference index\n",
    "!/usr/bin/time -v kallisto index \\\n",
    "    -t 60 \\\n",
    "    --aa \\\n",
    "    --d-list $host_fasta \\\n",
    "    -i $virus_index \\\n",
    "    $virus_fasta"
   ]
  },
  {
   "cell_type": "markdown",
   "id": "9e448b9a-dade-4a5b-bc06-7d7c7bb5d657",
   "metadata": {},
   "source": [
    "Get fastq files:"
   ]
  },
  {
   "cell_type": "code",
   "execution_count": 2,
   "id": "a3b80418-31b5-4fd5-b180-4de491ec080d",
   "metadata": {},
   "outputs": [],
   "source": [
    "import os\n",
    "import glob"
   ]
  },
  {
   "cell_type": "code",
   "execution_count": 3,
   "id": "ef4edbc7-09f5-4c17-8e0e-fd569bb79791",
   "metadata": {},
   "outputs": [
    {
     "data": {
      "text/plain": [
       "['SRR18496012_1.fastq.gz',\n",
       " 'SRR18496012_2.fastq.gz',\n",
       " 'SRR18496013_1.fastq.gz',\n",
       " 'SRR18496013_2.fastq.gz',\n",
       " 'SRR18496014_1.fastq.gz',\n",
       " 'SRR18496014_2.fastq.gz',\n",
       " 'SRR18496015_1.fastq.gz',\n",
       " 'SRR18496015_2.fastq.gz',\n",
       " 'SRR18496016_1.fastq.gz',\n",
       " 'SRR18496016_2.fastq.gz',\n",
       " 'SRR18496017_1.fastq.gz',\n",
       " 'SRR18496017_2.fastq.gz',\n",
       " 'SRR18496018_1.fastq.gz',\n",
       " 'SRR18496018_2.fastq.gz',\n",
       " 'SRR18496019_1.fastq.gz',\n",
       " 'SRR18496019_2.fastq.gz']"
      ]
     },
     "execution_count": 3,
     "metadata": {},
     "output_type": "execute_result"
    }
   ],
   "source": [
    "fastqs = []\n",
    "for filename in glob.glob(f\"{fastq_folder}/*.fastq.gz\"):\n",
    "    fastqs.append(filename.split(\"/\")[-1])\n",
    "    \n",
    "fastqs.sort()\n",
    "fastqs"
   ]
  },
  {
   "cell_type": "code",
   "execution_count": 4,
   "id": "34079246-ddaf-414a-8a26-737ac084b0a2",
   "metadata": {},
   "outputs": [
    {
     "data": {
      "text/plain": [
       "16"
      ]
     },
     "execution_count": 4,
     "metadata": {},
     "output_type": "execute_result"
    }
   ],
   "source": [
    "len(fastqs)"
   ]
  },
  {
   "cell_type": "code",
   "execution_count": 5,
   "id": "afdb10bd-e53c-42e7-a633-afe8128053ce",
   "metadata": {},
   "outputs": [],
   "source": [
    "samples = []\n",
    "for fastq in fastqs:\n",
    "    samples.append(fastq.split(\"_\")[0])"
   ]
  },
  {
   "cell_type": "code",
   "execution_count": 6,
   "id": "709ed062-7de3-42d0-bec0-cefcf6fa9e9d",
   "metadata": {
    "tags": []
   },
   "outputs": [
    {
     "data": {
      "text/plain": [
       "8"
      ]
     },
     "execution_count": 6,
     "metadata": {},
     "output_type": "execute_result"
    }
   ],
   "source": [
    "samples = list(set(samples))\n",
    "len(samples)"
   ]
  },
  {
   "cell_type": "markdown",
   "id": "ffcc6ecf-30c6-442d-bb50-09a4d99bfb6a",
   "metadata": {},
   "source": [
    "Align to PalmDB:  \n",
    "Whitelist files (r1_RT_replace.txt and r1r2r3.txt) provided by Delaney for IGVF project (07/15/2023)."
   ]
  },
  {
   "cell_type": "code",
   "execution_count": null,
   "id": "1532eb8f-3907-4da3-812e-2fb5b211eaf7",
   "metadata": {},
   "outputs": [],
   "source": [
    "%%time\n",
    "for sample in samples:\n",
    "    fastq1 = sample + \"_1.fastq.gz\"\n",
    "    fastq2 = sample + \"_2.fastq.gz\"\n",
    "    \n",
    "    !mkdir -p $out_folder/$sample\n",
    "    \n",
    "    !/usr/bin/time -v kb count \\\n",
    "        --kallisto=$kallisto \\\n",
    "        --bustools=$bustools \\\n",
    "        --aa \\\n",
    "        --h5ad \\\n",
    "        -t 12 \\\n",
    "        -i $virus_index \\\n",
    "        -g $virus_t2g \\\n",
    "        -x SPLIT-Seq \\\n",
    "        -r $fastq_folder/whitelist/r1_RT_replace.txt \\\n",
    "        -w $fastq_folder/whitelist/r1r2r3.txt \\\n",
    "        -o $out_folder/$sample/ \\\n",
    "        $fastq_folder/$fastq1 $fastq_folder/$fastq2"
   ]
  },
  {
   "cell_type": "code",
   "execution_count": null,
   "id": "edb5ba09-72ce-483c-85d6-fccb9e20bf65",
   "metadata": {},
   "outputs": [],
   "source": []
  },
  {
   "cell_type": "code",
   "execution_count": 23,
   "id": "310df6cc-0b97-4200-b6cf-793c4b0493ae",
   "metadata": {},
   "outputs": [],
   "source": [
    "## DEPRECATED\n",
    "# %%time\n",
    "\n",
    "# for sample in samples:\n",
    "#     fastq1 = sample + \"_1.fastq.gz\"\n",
    "#     fastq2 = sample + \"_2.fastq.gz\"\n",
    "    \n",
    "#     !mkdir -p $out_folder/$sample\n",
    "    \n",
    "#     !/usr/bin/time -v /home/laura/bin/kallisto bus \\\n",
    "#             -i $virus_index \\\n",
    "#             -o $out_folder/$sample/ \\\n",
    "#             --aa \\\n",
    "#             -t 60 \\\n",
    "#             -x split-seq \\\n",
    "#             $fastq_folder/$fastq1 $fastq_folder/$fastq2 \\\n",
    "#             &> $out_folder/$sample/kb_out.txt \n",
    "        \n",
    "#     !$bustools sort -o $out_folder/$sample/output_sorted.bus $out_folder/$sample/output.bus\n",
    "\n",
    "#     !$bustools count \\\n",
    "#         --genecounts \\\n",
    "#         --cm -m \\\n",
    "#         -o $out_folder/$sample/bustools_count/ \\\n",
    "#         -g $virus_t2g \\\n",
    "#         -e $out_folder/$sample/matrix.ec \\\n",
    "#         -t $out_folder/$sample/transcripts.txt \\\n",
    "#         $out_folder/$sample/output_sorted.bus"
   ]
  },
  {
   "cell_type": "code",
   "execution_count": null,
   "id": "c2591028-37fc-4329-884c-5af0cd20c9a9",
   "metadata": {},
   "outputs": [],
   "source": []
  }
 ],
 "metadata": {
  "kernelspec": {
   "display_name": "Python 3 (ipykernel)",
   "language": "python",
   "name": "python3"
  },
  "language_info": {
   "codemirror_mode": {
    "name": "ipython",
    "version": 3
   },
   "file_extension": ".py",
   "mimetype": "text/x-python",
   "name": "python",
   "nbconvert_exporter": "python",
   "pygments_lexer": "ipython3",
   "version": "3.9.12"
  }
 },
 "nbformat": 4,
 "nbformat_minor": 5
}
