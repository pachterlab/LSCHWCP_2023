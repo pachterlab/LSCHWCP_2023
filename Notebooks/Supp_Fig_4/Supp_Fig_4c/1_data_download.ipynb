{
 "cells": [
  {
   "cell_type": "code",
   "execution_count": 1,
   "id": "d5dae2e0-9958-45fe-9a32-bb2d1a9761fb",
   "metadata": {},
   "outputs": [],
   "source": [
    "geo = \"GSE199498\"\n",
    "bp = \"PRJNA820450\"\n",
    "datafolder = f\"/home/laura/projects/virus-watch-data/{bp}/raw\""
   ]
  },
  {
   "cell_type": "markdown",
   "id": "3195367e-2159-48a9-951e-5df98992023c",
   "metadata": {},
   "source": [
    "Get data accessions:"
   ]
  },
  {
   "cell_type": "code",
   "execution_count": 2,
   "id": "859c2f4a-a03f-47af-b1ef-58a2d42f5a57",
   "metadata": {},
   "outputs": [
    {
     "name": "stdout",
     "output_type": "stream",
     "text": [
      "[2023-06-04 16:02:53,453]    INFO Parsing GEO GSE199498\n",
      "[2023-06-04 16:02:53,926]    INFO Finding supplementary files for GEO GSE199498\n",
      "[2023-06-04 16:02:57,058] WARNING There are 1 samples for GSE199498\n",
      "[2023-06-04 16:02:57,059]    INFO Parsing GSM GSM5974202\n",
      "[2023-06-04 16:02:57,521]    INFO Finding supplementary files for GSM GSM5974202\n",
      "[2023-06-04 16:03:00,269]    INFO Getting sample for GSM5974202\n",
      "[2023-06-04 16:03:01,886]    INFO Parsing sample SRS12394082\n",
      "[2023-06-04 16:03:02,937] WARNING Failed to parse sample information from ENA XML. Falling back to ENA search...\n",
      "[2023-06-04 16:03:03,587]    INFO Getting Experiment for SRS12394082\n",
      "[2023-06-04 16:03:03,588]    INFO Parsing Experiment SRX14627502\n",
      "[2023-06-04 16:03:03,596] WARNING Failed to parse experiment information from ENA XML. Falling back to ENA search...\n",
      "[2023-06-04 16:03:04,283] WARNING There are 8 runs for SRX14627502\n",
      "[2023-06-04 16:03:04,283]    INFO Parsing run SRR18496012\n",
      "[2023-06-04 16:03:08,314]    INFO Parsing run SRR18496013\n",
      "[2023-06-04 16:03:12,200]    INFO Parsing run SRR18496019\n",
      "[2023-06-04 16:03:16,079]    INFO Parsing run SRR18496015\n",
      "[2023-06-04 16:03:20,500]    INFO Parsing run SRR18496017\n",
      "[2023-06-04 16:03:24,863]    INFO Parsing run SRR18496014\n",
      "[2023-06-04 16:03:28,727]    INFO Parsing run SRR18496016\n",
      "[2023-06-04 16:03:32,641]    INFO Parsing run SRR18496018\n"
     ]
    }
   ],
   "source": [
    "out = f\"{bp}_data.json\"\n",
    "!ffq $geo --ftp -o $out"
   ]
  },
  {
   "cell_type": "markdown",
   "id": "82152f98-0bc6-4720-a880-ac20ef7c1e0d",
   "metadata": {},
   "source": [
    "Download data:"
   ]
  },
  {
   "cell_type": "code",
   "execution_count": 3,
   "id": "2bcc9328-9170-4cb2-ad28-0851e26aa816",
   "metadata": {},
   "outputs": [
    {
     "name": "stdout",
     "output_type": "stream",
     "text": [
      "18\n"
     ]
    },
    {
     "data": {
      "text/plain": [
       "{'accession': 'SRR18496012',\n",
       " 'filename': 'SRR18496012_1.fastq.gz',\n",
       " 'filetype': 'fastq',\n",
       " 'filesize': 17344709486,\n",
       " 'filenumber': 1,\n",
       " 'md5': 'c2d54d3e991b902d3806bd4c617e9304',\n",
       " 'urltype': 'ftp',\n",
       " 'url': 'ftp://ftp.sra.ebi.ac.uk/vol1/fastq/SRR184/012/SRR18496012/SRR18496012_1.fastq.gz'}"
      ]
     },
     "execution_count": 3,
     "metadata": {},
     "output_type": "execute_result"
    }
   ],
   "source": [
    "import json\n",
    "f = open(out)\n",
    "data = json.load(f)\n",
    "f.close()\n",
    "\n",
    "print(len(data))\n",
    "data[0]"
   ]
  },
  {
   "cell_type": "code",
   "execution_count": 12,
   "id": "955afa39-2a28-4431-8516-16c1c4a7a79f",
   "metadata": {},
   "outputs": [
    {
     "data": {
      "text/plain": [
       "[{'accession': 'GSE199498',\n",
       "  'filename': 'filelist.txt',\n",
       "  'filetype': None,\n",
       "  'filesize': 485,\n",
       "  'filenumber': 1,\n",
       "  'md5': None,\n",
       "  'urltype': 'ftp',\n",
       "  'url': 'ftp://ftp.ncbi.nlm.nih.gov/geo/series/GSE199nnn/GSE199498/suppl/filelist.txt'},\n",
       " {'accession': 'GSE199498',\n",
       "  'filename': 'GSE199498_RAW.tar',\n",
       "  'filetype': None,\n",
       "  'filesize': 142858240,\n",
       "  'filenumber': 2,\n",
       "  'md5': None,\n",
       "  'urltype': 'ftp',\n",
       "  'url': 'ftp://ftp.ncbi.nlm.nih.gov/geo/series/GSE199nnn/GSE199498/suppl/GSE199498_RAW.tar'}]"
      ]
     },
     "execution_count": 12,
     "metadata": {},
     "output_type": "execute_result"
    }
   ],
   "source": [
    "data[-2:]"
   ]
  },
  {
   "cell_type": "code",
   "execution_count": null,
   "id": "388cb569-7fe9-4d96-bff2-4b4783d5de2a",
   "metadata": {},
   "outputs": [
    {
     "name": "stdout",
     "output_type": "stream",
     "text": [
      "  % Total    % Received % Xferd  Average Speed   Time    Time     Time  Current\n",
      "                                 Dload  Upload   Total   Spent    Left  Speed\n",
      "100 16.1G  100 16.1G    0     0  12.2M      0  0:22:31  0:22:31 --:--:-- 10.8M16.1G    1  290M    0     0  9299k      0  0:30:21  0:00:32  0:29:49 9737k7 16.1G    7 1290M    0     0  9935k      0  0:28:24  0:02:12  0:26:12 12.8M16.1G   17 2812M    0     0  10.3M      0  0:26:33  0:04:30  0:22:03 7318k 0:06:55  0:19:16 11.6M9 16.1G   29 4811M    0     0  10.9M      0  0:25:05  0:07:17  0:17:48 20.0M  0:15:40 20.2M8 16.1G   38 6387M    0     0  11.8M      0  0:23:10  0:08:56  0:14:14 10.7M4 16.1G   44 7395M    0     0  11.1M      0  0:24:38  0:11:01  0:13:37 15.6M24:38  0:11:03  0:13:35 13.1M  64 10.4G    0     0  11.6M      0  0:23:39  0:15:21  0:08:18 8888k 16.1G   71 11.5G    0     0  11.8M      0  0:23:13  0:16:33  0:06:40 20.3M  0:17:26  0:05:44 12.0M1 16.1G   81 13.1G    0     0  12.2M      0  0:22:34  0:18:19  0:04:15 19.8M0 16.1G   90 14.5G    0     0  12.5M      0  0:21:57  0:19:49  0:02:08 9066k:17  0:20:22  0:01:55 4969k5 16.1G   95 15.4G    0     0  12.2M      0  0:22:25  0:21:26  0:00:59 9392k  0:00:12 7670k\n",
      "  % Total    % Received % Xferd  Average Speed   Time    Time     Time  Current\n",
      "                                 Dload  Upload   Total   Spent    Left  Speed\n",
      " 30 17.1G   30 5361M    0     0  14.2M      0  0:20:34  0:06:16  0:14:18 10.7M17.1G   17 3150M    0     0  15.7M      0  0:18:32  0:03:19  0:15:13 10.9M 17.1G   18 3248M    0     0  15.5M      0  0:18:53  0:03:29  0:15:24 10.0M0  14.6M      0  0:19:58  0:05:02  0:14:56 10.6M"
     ]
    }
   ],
   "source": [
    "%%time\n",
    "for dataset in data[:-2]:\n",
    "    url = dataset[\"url\"]\n",
    "    !cd $datafolder && curl -O $url"
   ]
  },
  {
   "cell_type": "code",
   "execution_count": null,
   "id": "2d6d398d-fb5f-441e-818a-329c4f9de0a6",
   "metadata": {},
   "outputs": [],
   "source": []
  }
 ],
 "metadata": {
  "kernelspec": {
   "display_name": "Python 3 (ipykernel)",
   "language": "python",
   "name": "python3"
  },
  "language_info": {
   "codemirror_mode": {
    "name": "ipython",
    "version": 3
   },
   "file_extension": ".py",
   "mimetype": "text/x-python",
   "name": "python",
   "nbconvert_exporter": "python",
   "pygments_lexer": "ipython3",
   "version": "3.9.12"
  }
 },
 "nbformat": 4,
 "nbformat_minor": 5
}
