{
  "cells": [
    {
      "cell_type": "markdown",
      "metadata": {
        "id": "view-in-github",
        "colab_type": "text"
      },
      "source": [
        "<a href=\"https://colab.research.google.com/github/pachterlab/LSCHWCP_2023/blob/main/Notebooks/Supp_Fig_4/Supp_Fig_4c/1_show_primer_bias_splitcode_alignment.ipynb\" target=\"_parent\"><img src=\"https://colab.research.google.com/assets/colab-badge.svg\" alt=\"Open In Colab\"/></a>"
      ]
    },
    {
      "cell_type": "markdown",
      "id": "kqgdbXOVbE8Y",
      "metadata": {
        "id": "kqgdbXOVbE8Y"
      },
      "source": [
        "# Align SPLIT-Seq data from lung samples from mice infected with SARS-CoV-2\n",
        "Reference: https://doi.org/10.1038/s41586-022-05344-2\n",
        "\n",
        "Note: The disk space required to run this notebook (~240GB) exceeds the disk space provided by Google Colab."
      ]
    },
    {
      "cell_type": "markdown",
      "id": "6Z6UuQmRaUxj",
      "metadata": {
        "id": "6Z6UuQmRaUxj"
      },
      "source": [
        "### Install software"
      ]
    },
    {
      "cell_type": "code",
      "execution_count": null,
      "id": "X-rcHaF2aDBe",
      "metadata": {
        "id": "X-rcHaF2aDBe"
      },
      "outputs": [],
      "source": [
        "!pip install -q kb_python anndata gget\n",
        "\n",
        "# Download v0.50.0 of kallisto\n",
        "!git clone https://github.com/pachterlab/kallisto.git --branch v0.50.0\n",
        "!cd kallisto && mkdir build && cd build && cmake .. && make\n",
        "kallisto = \"kallisto/build/src/kallisto\"\n",
        "\n",
        "import numpy as np\n",
        "import anndata\n",
        "import pandas as pd\n",
        "import json\n",
        "import os\n",
        "import glob\n",
        "import matplotlib.pyplot as plt\n",
        "import matplotlib as mpl\n",
        "%config InlineBackend.figure_format='retina'\n",
        "\n",
        "def nd(arr):\n",
        "    \"\"\"\n",
        "    Function to transform numpy matrix to nd array.\n",
        "    \"\"\"\n",
        "    return np.asarray(arr).reshape(-1)"
      ]
    },
    {
      "cell_type": "code",
      "execution_count": null,
      "id": "IbtKV9HzYx2U",
      "metadata": {
        "id": "IbtKV9HzYx2U"
      },
      "outputs": [],
      "source": [
        "# Download the customized transcripts to gene mapping\n",
        "!wget https://raw.githubusercontent.com/pachterlab/LSCHWCP_2023/main/PalmDB/palmdb_clustered_t2g.txt\n",
        "# Download the RdRP amino acid sequences\n",
        "!wget https://raw.githubusercontent.com/pachterlab/LSCHWCP_2023/main/PalmDB/palmdb_rdrp_seqs.fa\n",
        "\n",
        "virus_fasta = \"palmdb_rdrp_seqs.fa\"\n",
        "virus_t2g = \"palmdb_clustered_t2g.txt\""
      ]
    },
    {
      "cell_type": "code",
      "execution_count": null,
      "id": "zZaeZUIlY8hV",
      "metadata": {
        "id": "zZaeZUIlY8hV"
      },
      "outputs": [],
      "source": [
        "# Number of threads to use in alignment\n",
        "threads = 2"
      ]
    },
    {
      "cell_type": "markdown",
      "id": "4CKKafTgZC3y",
      "metadata": {
        "id": "4CKKafTgZC3y"
      },
      "source": [
        "## Download raw data"
      ]
    },
    {
      "cell_type": "code",
      "execution_count": null,
      "id": "hs_4v5r9ZC7_",
      "metadata": {
        "id": "hs_4v5r9ZC7_"
      },
      "outputs": [],
      "source": [
        "!pip install -q ffq\n",
        "import json\n",
        "\n",
        "out = \"data.json\"\n",
        "\n",
        "# Download the complete dataset\n",
        "!ffq GSE199498 --ftp -o $out\n",
        "\n",
        "f = open(out)\n",
        "data = json.load(f)\n",
        "f.close()\n",
        "\n",
        "print(len(data))\n",
        "\n",
        "for dataset in data:\n",
        "    url = dataset[\"url\"]\n",
        "    !curl -O $url"
      ]
    },
    {
      "cell_type": "markdown",
      "id": "5MzY_DsdW-qx",
      "metadata": {
        "id": "5MzY_DsdW-qx"
      },
      "source": [
        "## Align data to PalmDB using kallisto translated search"
      ]
    },
    {
      "cell_type": "markdown",
      "id": "2474219b-d099-4576-991d-615c8eef9f38",
      "metadata": {
        "id": "2474219b-d099-4576-991d-615c8eef9f38"
      },
      "source": [
        "Generate virus index with masked host (here, mouse) genome and transcriptome sequences:"
      ]
    },
    {
      "cell_type": "code",
      "execution_count": null,
      "id": "57sW5vIZZXrN",
      "metadata": {
        "id": "57sW5vIZZXrN"
      },
      "outputs": [],
      "source": [
        "# Get host genome and transcriptome using gget\n",
        "!gget ref -w cdna,dna -r 110 -d mouse\n",
        "\n",
        "host_cdna = \"Mus_musculus.GRCm39.cdna.all.fa.gz\"\n",
        "host_dna = \"Mus_musculus.GRCm39.dna.primary_assembly.fa.gz\"\n",
        "\n",
        "# Concatenate host genome and transcriptome into a single file\n",
        "host_combined = \"combined.cdna_dna.all.fa.gz\"\n",
        "!cat $host_cdna $host_dna > $host_combined"
      ]
    },
    {
      "cell_type": "code",
      "execution_count": null,
      "id": "IW0mJtNlFaFp",
      "metadata": {
        "id": "IW0mJtNlFaFp",
        "outputId": "8b044f0a-34ba-4039-ac32-e7d877bdf6fd"
      },
      "outputs": [
        {
          "name": "stdout",
          "output_type": "stream",
          "text": [
            "[2025-02-20 12:42:23,590]    INFO [ref_custom] Indexing palmdb_rdrp_seqs.fa to virus_index.idx\n",
            "[2025-02-20 12:45:52,317]    INFO [ref_custom] Finished creating custom index\n",
            "CPU times: user 1.51 s, sys: 602 ms, total: 2.11 s\n",
            "Wall time: 3min 33s\n"
          ]
        }
      ],
      "source": [
        "%%time\n",
        "# Generate virus reference index\n",
        "virus_index = \"virus_index.idx\"\n",
        "\n",
        "!kb ref \\\n",
        "    --aa \\\n",
        "    --kallisto $kallisto \\\n",
        "    -t $threads \\\n",
        "    --d-list $host_combined \\\n",
        "    --workflow custom \\\n",
        "    -i $virus_index \\\n",
        "    $virus_fasta"
      ]
    },
    {
      "cell_type": "markdown",
      "id": "9e448b9a-dade-4a5b-bc06-7d7c7bb5d657",
      "metadata": {
        "id": "9e448b9a-dade-4a5b-bc06-7d7c7bb5d657"
      },
      "source": [
        "Get fastq files:"
      ]
    },
    {
      "cell_type": "code",
      "execution_count": null,
      "id": "a3b80418-31b5-4fd5-b180-4de491ec080d",
      "metadata": {
        "id": "a3b80418-31b5-4fd5-b180-4de491ec080d"
      },
      "outputs": [],
      "source": [
        "import os\n",
        "import glob"
      ]
    },
    {
      "cell_type": "code",
      "execution_count": null,
      "id": "ef4edbc7-09f5-4c17-8e0e-fd569bb79791",
      "metadata": {
        "id": "ef4edbc7-09f5-4c17-8e0e-fd569bb79791",
        "outputId": "e8f71cf9-7cb0-4e72-faec-4e7e489b8177"
      },
      "outputs": [
        {
          "data": {
            "text/plain": [
              "['SRR18496012_1.fastq.gz',\n",
              " 'SRR18496012_2.fastq.gz',\n",
              " 'SRR18496013_1.fastq.gz',\n",
              " 'SRR18496013_2.fastq.gz',\n",
              " 'SRR18496014_1.fastq.gz',\n",
              " 'SRR18496014_2.fastq.gz',\n",
              " 'SRR18496015_1.fastq.gz',\n",
              " 'SRR18496015_2.fastq.gz',\n",
              " 'SRR18496016_1.fastq.gz',\n",
              " 'SRR18496016_2.fastq.gz',\n",
              " 'SRR18496017_1.fastq.gz',\n",
              " 'SRR18496017_2.fastq.gz',\n",
              " 'SRR18496018_1.fastq.gz',\n",
              " 'SRR18496018_2.fastq.gz',\n",
              " 'SRR18496019_1.fastq.gz',\n",
              " 'SRR18496019_2.fastq.gz']"
            ]
          },
          "execution_count": 97,
          "metadata": {},
          "output_type": "execute_result"
        }
      ],
      "source": [
        "fastqs = []\n",
        "for filename in glob.glob(\"*.fastq.gz\"):\n",
        "    fastqs.append(filename.split(\"/\")[-1])\n",
        "\n",
        "fastqs.sort()\n",
        "fastqs"
      ]
    },
    {
      "cell_type": "code",
      "execution_count": null,
      "id": "34079246-ddaf-414a-8a26-737ac084b0a2",
      "metadata": {
        "id": "34079246-ddaf-414a-8a26-737ac084b0a2",
        "outputId": "246c248e-078c-459b-85cb-c1341073c179"
      },
      "outputs": [
        {
          "data": {
            "text/plain": [
              "16"
            ]
          },
          "execution_count": 98,
          "metadata": {},
          "output_type": "execute_result"
        }
      ],
      "source": [
        "len(fastqs)"
      ]
    },
    {
      "cell_type": "code",
      "execution_count": null,
      "id": "afdb10bd-e53c-42e7-a633-afe8128053ce",
      "metadata": {
        "id": "afdb10bd-e53c-42e7-a633-afe8128053ce"
      },
      "outputs": [],
      "source": [
        "samples = []\n",
        "for fastq in fastqs:\n",
        "    samples.append(fastq.split(\"_\")[0])"
      ]
    },
    {
      "cell_type": "code",
      "execution_count": null,
      "id": "709ed062-7de3-42d0-bec0-cefcf6fa9e9d",
      "metadata": {
        "id": "709ed062-7de3-42d0-bec0-cefcf6fa9e9d",
        "tags": [],
        "outputId": "a63e651e-b836-48d5-e705-25a654b9e107"
      },
      "outputs": [
        {
          "data": {
            "text/plain": [
              "8"
            ]
          },
          "execution_count": 100,
          "metadata": {},
          "output_type": "execute_result"
        }
      ],
      "source": [
        "samples = list(set(samples))\n",
        "len(samples)"
      ]
    },
    {
      "cell_type": "markdown",
      "id": "ffcc6ecf-30c6-442d-bb50-09a4d99bfb6a",
      "metadata": {
        "id": "ffcc6ecf-30c6-442d-bb50-09a4d99bfb6a"
      },
      "source": [
        "Align data to PalmDB:  \n",
        "The SPLIT-Seq barcode onlist files (r1_RT_replace.txt and r1r2r3.txt) were provided by Delaney Sullivan (07/15/2023)."
      ]
    },
    {
      "cell_type": "code",
      "execution_count": null,
      "id": "Q1GiRnSKagFh",
      "metadata": {
        "id": "Q1GiRnSKagFh"
      },
      "outputs": [],
      "source": [
        "# Download SPLIT-Seq barcode onlist files\n",
        "!wget https://raw.githubusercontent.com/pachterlab/LSCHWCP_2023/main/Notebooks/Supp_Fig_4/Supp_Fig_4c/r1_RT_replace.txt\n",
        "!wget https://raw.githubusercontent.com/pachterlab/LSCHWCP_2023/main/Notebooks/Supp_Fig_4/Supp_Fig_4c/r1r2r3.txt"
      ]
    },
    {
      "cell_type": "code",
      "execution_count": null,
      "id": "1532eb8f-3907-4da3-812e-2fb5b211eaf7",
      "metadata": {
        "id": "1532eb8f-3907-4da3-812e-2fb5b211eaf7",
        "scrolled": true,
        "outputId": "b456b057-2dff-4920-a696-d2b4559dc499"
      },
      "outputs": [
        {
          "name": "stdout",
          "output_type": "stream",
          "text": [
            "[2025-02-20 12:45:58,579]    INFO [count] Using index virus_index.idx to generate BUS file to palmdb/SRR18496016/ from\n",
            "[2025-02-20 12:45:58,579]    INFO [count]         SRR18496016_1.fastq.gz\n",
            "[2025-02-20 12:45:58,579]    INFO [count]         SRR18496016_2.fastq.gz\n",
            "[2025-02-20 13:08:21,793]    INFO [count] Sorting BUS file palmdb/SRR18496016/output.bus to palmdb/SRR18496016/tmp/output.s.bus\n",
            "[2025-02-20 13:08:23,965]    INFO [count] Inspecting BUS file palmdb/SRR18496016/tmp/output.s.bus\n",
            "[2025-02-20 13:08:25,081]    INFO [count] Correcting BUS records in palmdb/SRR18496016/tmp/output.s.bus to palmdb/SRR18496016/tmp/output.s.c.bus with on-list r1r2r3.txt\n",
            "[2025-02-20 13:08:26,197]    INFO [count] Sorting BUS file palmdb/SRR18496016/tmp/output.s.c.bus to palmdb/SRR18496016/output.unfiltered.bus\n",
            "[2025-02-20 13:08:27,841]    INFO [count] Generating count matrix palmdb/SRR18496016/counts_unfiltered/cells_x_genes from BUS file palmdb/SRR18496016/output.unfiltered.bus\n",
            "[2025-02-20 13:08:29,643]    INFO [count] Writing gene names to file palmdb/SRR18496016/counts_unfiltered/cells_x_genes.genes.names.txt\n",
            "[2025-02-20 13:08:29,748] WARNING [count] 99228 gene IDs do not have corresponding valid gene names. These genes will use their gene IDs instead.\n",
            "[2025-02-20 13:08:29,759]    INFO [count] Reading matrix palmdb/SRR18496016/counts_unfiltered/cells_x_genes.mtx\n",
            "[2025-02-20 13:08:29,810]    INFO [count] Writing matrix to h5ad palmdb/SRR18496016/counts_unfiltered/adata.h5ad\n",
            "[2025-02-20 13:08:29,845]    INFO [count] Correcting BUS records in palmdb/SRR18496016/output.unfiltered.bus to palmdb/SRR18496016/tmp/output.unfiltered.c.bus with on-list r1_RT_replace.txt\n",
            "[2025-02-20 13:08:30,959]    INFO [count] Sorting BUS file palmdb/SRR18496016/tmp/output.unfiltered.c.bus to palmdb/SRR18496016/output_modified.unfiltered.bus\n",
            "[2025-02-20 13:08:32,603]    INFO [count] Generating count matrix palmdb/SRR18496016/counts_unfiltered_modified/cells_x_genes from BUS file palmdb/SRR18496016/output_modified.unfiltered.bus\n",
            "[2025-02-20 13:08:34,035]    INFO [count] Writing gene names to file palmdb/SRR18496016/counts_unfiltered_modified/cells_x_genes.genes.names.txt\n",
            "[2025-02-20 13:08:34,155] WARNING [count] 99228 gene IDs do not have corresponding valid gene names. These genes will use their gene IDs instead.\n",
            "[2025-02-20 13:08:34,167]    INFO [count] Reading matrix palmdb/SRR18496016/counts_unfiltered_modified/cells_x_genes.mtx\n",
            "[2025-02-20 13:08:34,201]    INFO [count] Writing matrix to h5ad palmdb/SRR18496016/counts_unfiltered_modified/adata.h5ad\n",
            "[2025-02-20 13:08:40,621]    INFO [count] Using index virus_index.idx to generate BUS file to palmdb/SRR18496019/ from\n",
            "[2025-02-20 13:08:40,621]    INFO [count]         SRR18496019_1.fastq.gz\n",
            "[2025-02-20 13:08:40,621]    INFO [count]         SRR18496019_2.fastq.gz\n",
            "[2025-02-20 13:27:27,899]    INFO [count] Sorting BUS file palmdb/SRR18496019/output.bus to palmdb/SRR18496019/tmp/output.s.bus\n",
            "[2025-02-20 13:27:30,700]    INFO [count] Inspecting BUS file palmdb/SRR18496019/tmp/output.s.bus\n",
            "[2025-02-20 13:27:31,919]    INFO [count] Correcting BUS records in palmdb/SRR18496019/tmp/output.s.bus to palmdb/SRR18496019/tmp/output.s.c.bus with on-list r1r2r3.txt\n",
            "[2025-02-20 13:27:33,147]    INFO [count] Sorting BUS file palmdb/SRR18496019/tmp/output.s.c.bus to palmdb/SRR18496019/output.unfiltered.bus\n",
            "[2025-02-20 13:27:34,687]    INFO [count] Generating count matrix palmdb/SRR18496019/counts_unfiltered/cells_x_genes from BUS file palmdb/SRR18496019/output.unfiltered.bus\n",
            "[2025-02-20 13:27:36,045]    INFO [count] Writing gene names to file palmdb/SRR18496019/counts_unfiltered/cells_x_genes.genes.names.txt\n",
            "[2025-02-20 13:27:36,160] WARNING [count] 99228 gene IDs do not have corresponding valid gene names. These genes will use their gene IDs instead.\n",
            "[2025-02-20 13:27:36,171]    INFO [count] Reading matrix palmdb/SRR18496019/counts_unfiltered/cells_x_genes.mtx\n",
            "[2025-02-20 13:27:36,210]    INFO [count] Writing matrix to h5ad palmdb/SRR18496019/counts_unfiltered/adata.h5ad\n",
            "[2025-02-20 13:27:36,230]    INFO [count] Correcting BUS records in palmdb/SRR18496019/output.unfiltered.bus to palmdb/SRR18496019/tmp/output.unfiltered.c.bus with on-list r1_RT_replace.txt\n",
            "[2025-02-20 13:27:37,345]    INFO [count] Sorting BUS file palmdb/SRR18496019/tmp/output.unfiltered.c.bus to palmdb/SRR18496019/output_modified.unfiltered.bus\n",
            "[2025-02-20 13:27:38,882]    INFO [count] Generating count matrix palmdb/SRR18496019/counts_unfiltered_modified/cells_x_genes from BUS file palmdb/SRR18496019/output_modified.unfiltered.bus\n",
            "[2025-02-20 13:27:40,221]    INFO [count] Writing gene names to file palmdb/SRR18496019/counts_unfiltered_modified/cells_x_genes.genes.names.txt\n",
            "[2025-02-20 13:27:40,373] WARNING [count] 99228 gene IDs do not have corresponding valid gene names. These genes will use their gene IDs instead.\n",
            "[2025-02-20 13:27:40,386]    INFO [count] Reading matrix palmdb/SRR18496019/counts_unfiltered_modified/cells_x_genes.mtx\n",
            "[2025-02-20 13:27:40,420]    INFO [count] Writing matrix to h5ad palmdb/SRR18496019/counts_unfiltered_modified/adata.h5ad\n",
            "[2025-02-20 13:27:46,748]    INFO [count] Using index virus_index.idx to generate BUS file to palmdb/SRR18496015/ from\n",
            "[2025-02-20 13:27:46,749]    INFO [count]         SRR18496015_1.fastq.gz\n",
            "[2025-02-20 13:27:46,749]    INFO [count]         SRR18496015_2.fastq.gz\n",
            "[2025-02-20 14:47:35,572]    INFO [count] Sorting BUS file palmdb/SRR18496015/output.bus to palmdb/SRR18496015/tmp/output.s.bus\n",
            "[2025-02-20 14:47:37,953]    INFO [count] Inspecting BUS file palmdb/SRR18496015/tmp/output.s.bus\n",
            "[2025-02-20 14:47:39,081]    INFO [count] Correcting BUS records in palmdb/SRR18496015/tmp/output.s.bus to palmdb/SRR18496015/tmp/output.s.c.bus with on-list r1r2r3.txt\n",
            "[2025-02-20 14:47:40,206]    INFO [count] Sorting BUS file palmdb/SRR18496015/tmp/output.s.c.bus to palmdb/SRR18496015/output.unfiltered.bus\n",
            "[2025-02-20 14:47:41,764]    INFO [count] Generating count matrix palmdb/SRR18496015/counts_unfiltered/cells_x_genes from BUS file palmdb/SRR18496015/output.unfiltered.bus\n",
            "[2025-02-20 14:47:43,233]    INFO [count] Writing gene names to file palmdb/SRR18496015/counts_unfiltered/cells_x_genes.genes.names.txt\n",
            "[2025-02-20 14:47:43,358] WARNING [count] 99228 gene IDs do not have corresponding valid gene names. These genes will use their gene IDs instead.\n",
            "[2025-02-20 14:47:43,369]    INFO [count] Reading matrix palmdb/SRR18496015/counts_unfiltered/cells_x_genes.mtx\n",
            "[2025-02-20 14:47:43,414]    INFO [count] Writing matrix to h5ad palmdb/SRR18496015/counts_unfiltered/adata.h5ad\n",
            "[2025-02-20 14:47:43,450]    INFO [count] Correcting BUS records in palmdb/SRR18496015/output.unfiltered.bus to palmdb/SRR18496015/tmp/output.unfiltered.c.bus with on-list r1_RT_replace.txt\n",
            "[2025-02-20 14:47:44,575]    INFO [count] Sorting BUS file palmdb/SRR18496015/tmp/output.unfiltered.c.bus to palmdb/SRR18496015/output_modified.unfiltered.bus\n",
            "[2025-02-20 14:47:46,242]    INFO [count] Generating count matrix palmdb/SRR18496015/counts_unfiltered_modified/cells_x_genes from BUS file palmdb/SRR18496015/output_modified.unfiltered.bus\n",
            "[2025-02-20 14:47:47,679]    INFO [count] Writing gene names to file palmdb/SRR18496015/counts_unfiltered_modified/cells_x_genes.genes.names.txt\n",
            "[2025-02-20 14:47:47,813] WARNING [count] 99228 gene IDs do not have corresponding valid gene names. These genes will use their gene IDs instead.\n",
            "[2025-02-20 14:47:47,824]    INFO [count] Reading matrix palmdb/SRR18496015/counts_unfiltered_modified/cells_x_genes.mtx\n",
            "[2025-02-20 14:47:47,863]    INFO [count] Writing matrix to h5ad palmdb/SRR18496015/counts_unfiltered_modified/adata.h5ad\n",
            "[2025-02-20 14:47:54,457]    INFO [count] Using index virus_index.idx to generate BUS file to palmdb/SRR18496012/ from\n",
            "[2025-02-20 14:47:54,457]    INFO [count]         SRR18496012_1.fastq.gz\n",
            "[2025-02-20 14:47:54,457]    INFO [count]         SRR18496012_2.fastq.gz\n",
            "[2025-02-20 15:21:08,231]    INFO [count] Sorting BUS file palmdb/SRR18496012/output.bus to palmdb/SRR18496012/tmp/output.s.bus\n",
            "[2025-02-20 15:21:10,509]    INFO [count] Inspecting BUS file palmdb/SRR18496012/tmp/output.s.bus\n",
            "[2025-02-20 15:21:11,626]    INFO [count] Correcting BUS records in palmdb/SRR18496012/tmp/output.s.bus to palmdb/SRR18496012/tmp/output.s.c.bus with on-list r1r2r3.txt\n",
            "[2025-02-20 15:21:12,744]    INFO [count] Sorting BUS file palmdb/SRR18496012/tmp/output.s.c.bus to palmdb/SRR18496012/output.unfiltered.bus\n",
            "[2025-02-20 15:21:14,383]    INFO [count] Generating count matrix palmdb/SRR18496012/counts_unfiltered/cells_x_genes from BUS file palmdb/SRR18496012/output.unfiltered.bus\n",
            "[2025-02-20 15:21:15,897]    INFO [count] Writing gene names to file palmdb/SRR18496012/counts_unfiltered/cells_x_genes.genes.names.txt\n",
            "[2025-02-20 15:21:16,004] WARNING [count] 99228 gene IDs do not have corresponding valid gene names. These genes will use their gene IDs instead.\n",
            "[2025-02-20 15:21:16,018]    INFO [count] Reading matrix palmdb/SRR18496012/counts_unfiltered/cells_x_genes.mtx\n",
            "[2025-02-20 15:21:16,072]    INFO [count] Writing matrix to h5ad palmdb/SRR18496012/counts_unfiltered/adata.h5ad\n",
            "[2025-02-20 15:21:16,104]    INFO [count] Correcting BUS records in palmdb/SRR18496012/output.unfiltered.bus to palmdb/SRR18496012/tmp/output.unfiltered.c.bus with on-list r1_RT_replace.txt\n",
            "[2025-02-20 15:21:17,219]    INFO [count] Sorting BUS file palmdb/SRR18496012/tmp/output.unfiltered.c.bus to palmdb/SRR18496012/output_modified.unfiltered.bus\n",
            "[2025-02-20 15:21:18,863]    INFO [count] Generating count matrix palmdb/SRR18496012/counts_unfiltered_modified/cells_x_genes from BUS file palmdb/SRR18496012/output_modified.unfiltered.bus\n",
            "[2025-02-20 15:21:20,302]    INFO [count] Writing gene names to file palmdb/SRR18496012/counts_unfiltered_modified/cells_x_genes.genes.names.txt\n",
            "[2025-02-20 15:21:20,458] WARNING [count] 99228 gene IDs do not have corresponding valid gene names. These genes will use their gene IDs instead.\n",
            "[2025-02-20 15:21:20,472]    INFO [count] Reading matrix palmdb/SRR18496012/counts_unfiltered_modified/cells_x_genes.mtx\n",
            "[2025-02-20 15:21:20,509]    INFO [count] Writing matrix to h5ad palmdb/SRR18496012/counts_unfiltered_modified/adata.h5ad\n",
            "[2025-02-20 15:21:27,153]    INFO [count] Using index virus_index.idx to generate BUS file to palmdb/SRR18496017/ from\n",
            "[2025-02-20 15:21:27,154]    INFO [count]         SRR18496017_1.fastq.gz\n",
            "[2025-02-20 15:21:27,154]    INFO [count]         SRR18496017_2.fastq.gz\n",
            "[2025-02-20 15:39:26,517]    INFO [count] Sorting BUS file palmdb/SRR18496017/output.bus to palmdb/SRR18496017/tmp/output.s.bus\n",
            "[2025-02-20 15:39:28,705]    INFO [count] Inspecting BUS file palmdb/SRR18496017/tmp/output.s.bus\n",
            "[2025-02-20 15:39:29,825]    INFO [count] Correcting BUS records in palmdb/SRR18496017/tmp/output.s.bus to palmdb/SRR18496017/tmp/output.s.c.bus with on-list r1r2r3.txt\n",
            "[2025-02-20 15:39:30,946]    INFO [count] Sorting BUS file palmdb/SRR18496017/tmp/output.s.c.bus to palmdb/SRR18496017/output.unfiltered.bus\n",
            "[2025-02-20 15:39:32,488]    INFO [count] Generating count matrix palmdb/SRR18496017/counts_unfiltered/cells_x_genes from BUS file palmdb/SRR18496017/output.unfiltered.bus\n",
            "[2025-02-20 15:39:33,851]    INFO [count] Writing gene names to file palmdb/SRR18496017/counts_unfiltered/cells_x_genes.genes.names.txt\n",
            "[2025-02-20 15:39:33,963] WARNING [count] 99228 gene IDs do not have corresponding valid gene names. These genes will use their gene IDs instead.\n",
            "[2025-02-20 15:39:33,976]    INFO [count] Reading matrix palmdb/SRR18496017/counts_unfiltered/cells_x_genes.mtx\n",
            "[2025-02-20 15:39:34,013]    INFO [count] Writing matrix to h5ad palmdb/SRR18496017/counts_unfiltered/adata.h5ad\n",
            "[2025-02-20 15:39:34,036]    INFO [count] Correcting BUS records in palmdb/SRR18496017/output.unfiltered.bus to palmdb/SRR18496017/tmp/output.unfiltered.c.bus with on-list r1_RT_replace.txt\n",
            "[2025-02-20 15:39:35,150]    INFO [count] Sorting BUS file palmdb/SRR18496017/tmp/output.unfiltered.c.bus to palmdb/SRR18496017/output_modified.unfiltered.bus\n",
            "[2025-02-20 15:39:36,696]    INFO [count] Generating count matrix palmdb/SRR18496017/counts_unfiltered_modified/cells_x_genes from BUS file palmdb/SRR18496017/output_modified.unfiltered.bus\n",
            "[2025-02-20 15:39:38,034]    INFO [count] Writing gene names to file palmdb/SRR18496017/counts_unfiltered_modified/cells_x_genes.genes.names.txt\n",
            "[2025-02-20 15:39:38,174] WARNING [count] 99228 gene IDs do not have corresponding valid gene names. These genes will use their gene IDs instead.\n",
            "[2025-02-20 15:39:38,186]    INFO [count] Reading matrix palmdb/SRR18496017/counts_unfiltered_modified/cells_x_genes.mtx\n",
            "[2025-02-20 15:39:38,221]    INFO [count] Writing matrix to h5ad palmdb/SRR18496017/counts_unfiltered_modified/adata.h5ad\n",
            "[2025-02-20 15:39:44,634]    INFO [count] Using index virus_index.idx to generate BUS file to palmdb/SRR18496014/ from\n",
            "[2025-02-20 15:39:44,634]    INFO [count]         SRR18496014_1.fastq.gz\n",
            "[2025-02-20 15:39:44,634]    INFO [count]         SRR18496014_2.fastq.gz\n",
            "[2025-02-20 16:03:59,222]    INFO [count] Sorting BUS file palmdb/SRR18496014/output.bus to palmdb/SRR18496014/tmp/output.s.bus\n",
            "[2025-02-20 16:04:01,620]    INFO [count] Inspecting BUS file palmdb/SRR18496014/tmp/output.s.bus\n",
            "[2025-02-20 16:04:02,743]    INFO [count] Correcting BUS records in palmdb/SRR18496014/tmp/output.s.bus to palmdb/SRR18496014/tmp/output.s.c.bus with on-list r1r2r3.txt\n",
            "[2025-02-20 16:04:03,864]    INFO [count] Sorting BUS file palmdb/SRR18496014/tmp/output.s.c.bus to palmdb/SRR18496014/output.unfiltered.bus\n",
            "[2025-02-20 16:04:05,404]    INFO [count] Generating count matrix palmdb/SRR18496014/counts_unfiltered/cells_x_genes from BUS file palmdb/SRR18496014/output.unfiltered.bus\n",
            "[2025-02-20 16:04:06,766]    INFO [count] Writing gene names to file palmdb/SRR18496014/counts_unfiltered/cells_x_genes.genes.names.txt\n",
            "[2025-02-20 16:04:06,882] WARNING [count] 99228 gene IDs do not have corresponding valid gene names. These genes will use their gene IDs instead.\n",
            "[2025-02-20 16:04:06,894]    INFO [count] Reading matrix palmdb/SRR18496014/counts_unfiltered/cells_x_genes.mtx\n",
            "[2025-02-20 16:04:06,934]    INFO [count] Writing matrix to h5ad palmdb/SRR18496014/counts_unfiltered/adata.h5ad\n",
            "[2025-02-20 16:04:06,955]    INFO [count] Correcting BUS records in palmdb/SRR18496014/output.unfiltered.bus to palmdb/SRR18496014/tmp/output.unfiltered.c.bus with on-list r1_RT_replace.txt\n",
            "[2025-02-20 16:04:08,071]    INFO [count] Sorting BUS file palmdb/SRR18496014/tmp/output.unfiltered.c.bus to palmdb/SRR18496014/output_modified.unfiltered.bus\n",
            "[2025-02-20 16:04:09,610]    INFO [count] Generating count matrix palmdb/SRR18496014/counts_unfiltered_modified/cells_x_genes from BUS file palmdb/SRR18496014/output_modified.unfiltered.bus\n",
            "[2025-02-20 16:04:10,948]    INFO [count] Writing gene names to file palmdb/SRR18496014/counts_unfiltered_modified/cells_x_genes.genes.names.txt\n",
            "[2025-02-20 16:04:11,078] WARNING [count] 99228 gene IDs do not have corresponding valid gene names. These genes will use their gene IDs instead.\n",
            "[2025-02-20 16:04:11,090]    INFO [count] Reading matrix palmdb/SRR18496014/counts_unfiltered_modified/cells_x_genes.mtx\n",
            "[2025-02-20 16:04:11,125]    INFO [count] Writing matrix to h5ad palmdb/SRR18496014/counts_unfiltered_modified/adata.h5ad\n",
            "[2025-02-20 16:04:17,506]    INFO [count] Using index virus_index.idx to generate BUS file to palmdb/SRR18496018/ from\n",
            "[2025-02-20 16:04:17,507]    INFO [count]         SRR18496018_1.fastq.gz\n",
            "[2025-02-20 16:04:17,507]    INFO [count]         SRR18496018_2.fastq.gz\n",
            "[2025-02-20 16:35:11,969]    INFO [count] Sorting BUS file palmdb/SRR18496018/output.bus to palmdb/SRR18496018/tmp/output.s.bus\n",
            "[2025-02-20 16:35:14,741]    INFO [count] Inspecting BUS file palmdb/SRR18496018/tmp/output.s.bus\n",
            "[2025-02-20 16:35:15,978]    INFO [count] Correcting BUS records in palmdb/SRR18496018/tmp/output.s.bus to palmdb/SRR18496018/tmp/output.s.c.bus with on-list r1r2r3.txt\n",
            "[2025-02-20 16:35:17,207]    INFO [count] Sorting BUS file palmdb/SRR18496018/tmp/output.s.c.bus to palmdb/SRR18496018/output.unfiltered.bus\n",
            "[2025-02-20 16:35:18,756]    INFO [count] Generating count matrix palmdb/SRR18496018/counts_unfiltered/cells_x_genes from BUS file palmdb/SRR18496018/output.unfiltered.bus\n",
            "[2025-02-20 16:35:20,130]    INFO [count] Writing gene names to file palmdb/SRR18496018/counts_unfiltered/cells_x_genes.genes.names.txt\n",
            "[2025-02-20 16:35:20,239] WARNING [count] 99228 gene IDs do not have corresponding valid gene names. These genes will use their gene IDs instead.\n",
            "[2025-02-20 16:35:20,250]    INFO [count] Reading matrix palmdb/SRR18496018/counts_unfiltered/cells_x_genes.mtx\n",
            "[2025-02-20 16:35:20,289]    INFO [count] Writing matrix to h5ad palmdb/SRR18496018/counts_unfiltered/adata.h5ad\n",
            "[2025-02-20 16:35:20,310]    INFO [count] Correcting BUS records in palmdb/SRR18496018/output.unfiltered.bus to palmdb/SRR18496018/tmp/output.unfiltered.c.bus with on-list r1_RT_replace.txt\n",
            "[2025-02-20 16:35:21,434]    INFO [count] Sorting BUS file palmdb/SRR18496018/tmp/output.unfiltered.c.bus to palmdb/SRR18496018/output_modified.unfiltered.bus\n",
            "[2025-02-20 16:35:23,003]    INFO [count] Generating count matrix palmdb/SRR18496018/counts_unfiltered_modified/cells_x_genes from BUS file palmdb/SRR18496018/output_modified.unfiltered.bus\n",
            "[2025-02-20 16:35:24,360]    INFO [count] Writing gene names to file palmdb/SRR18496018/counts_unfiltered_modified/cells_x_genes.genes.names.txt\n",
            "[2025-02-20 16:35:24,475] WARNING [count] 99228 gene IDs do not have corresponding valid gene names. These genes will use their gene IDs instead.\n",
            "[2025-02-20 16:35:24,487]    INFO [count] Reading matrix palmdb/SRR18496018/counts_unfiltered_modified/cells_x_genes.mtx\n",
            "[2025-02-20 16:35:24,525]    INFO [count] Writing matrix to h5ad palmdb/SRR18496018/counts_unfiltered_modified/adata.h5ad\n",
            "[2025-02-20 16:35:31,053]    INFO [count] Using index virus_index.idx to generate BUS file to palmdb/SRR18496013/ from\n",
            "[2025-02-20 16:35:31,054]    INFO [count]         SRR18496013_1.fastq.gz\n",
            "[2025-02-20 16:35:31,054]    INFO [count]         SRR18496013_2.fastq.gz\n",
            "[2025-02-20 16:57:42,596]    INFO [count] Sorting BUS file palmdb/SRR18496013/output.bus to palmdb/SRR18496013/tmp/output.s.bus\n",
            "[2025-02-20 16:57:45,277]    INFO [count] Inspecting BUS file palmdb/SRR18496013/tmp/output.s.bus\n",
            "[2025-02-20 16:57:46,511]    INFO [count] Correcting BUS records in palmdb/SRR18496013/tmp/output.s.bus to palmdb/SRR18496013/tmp/output.s.c.bus with on-list r1r2r3.txt\n",
            "[2025-02-20 16:57:47,638]    INFO [count] Sorting BUS file palmdb/SRR18496013/tmp/output.s.c.bus to palmdb/SRR18496013/output.unfiltered.bus\n",
            "[2025-02-20 16:57:49,202]    INFO [count] Generating count matrix palmdb/SRR18496013/counts_unfiltered/cells_x_genes from BUS file palmdb/SRR18496013/output.unfiltered.bus\n",
            "[2025-02-20 16:57:50,578]    INFO [count] Writing gene names to file palmdb/SRR18496013/counts_unfiltered/cells_x_genes.genes.names.txt\n",
            "[2025-02-20 16:57:50,705] WARNING [count] 99228 gene IDs do not have corresponding valid gene names. These genes will use their gene IDs instead.\n",
            "[2025-02-20 16:57:50,716]    INFO [count] Reading matrix palmdb/SRR18496013/counts_unfiltered/cells_x_genes.mtx\n",
            "[2025-02-20 16:57:50,759]    INFO [count] Writing matrix to h5ad palmdb/SRR18496013/counts_unfiltered/adata.h5ad\n",
            "[2025-02-20 16:57:50,782]    INFO [count] Correcting BUS records in palmdb/SRR18496013/output.unfiltered.bus to palmdb/SRR18496013/tmp/output.unfiltered.c.bus with on-list r1_RT_replace.txt\n",
            "[2025-02-20 16:57:51,900]    INFO [count] Sorting BUS file palmdb/SRR18496013/tmp/output.unfiltered.c.bus to palmdb/SRR18496013/output_modified.unfiltered.bus\n",
            "[2025-02-20 16:57:53,457]    INFO [count] Generating count matrix palmdb/SRR18496013/counts_unfiltered_modified/cells_x_genes from BUS file palmdb/SRR18496013/output_modified.unfiltered.bus\n",
            "[2025-02-20 16:57:54,910]    INFO [count] Writing gene names to file palmdb/SRR18496013/counts_unfiltered_modified/cells_x_genes.genes.names.txt\n",
            "[2025-02-20 16:57:55,043] WARNING [count] 99228 gene IDs do not have corresponding valid gene names. These genes will use their gene IDs instead.\n",
            "[2025-02-20 16:57:55,055]    INFO [count] Reading matrix palmdb/SRR18496013/counts_unfiltered_modified/cells_x_genes.mtx\n",
            "[2025-02-20 16:57:55,091]    INFO [count] Writing matrix to h5ad palmdb/SRR18496013/counts_unfiltered_modified/adata.h5ad\n",
            "CPU times: user 2min 15s, sys: 45.5 s, total: 3min 1s\n",
            "Wall time: 4h 12min 2s\n"
          ]
        }
      ],
      "source": [
        "%%time\n",
        "out_folder = \"kb_out\"\n",
        "for sample in samples:\n",
        "    fastq1 = sample + \"_1.fastq.gz\"\n",
        "    fastq2 = sample + \"_2.fastq.gz\"\n",
        "\n",
        "    !mkdir -p $out_folder/$sample\n",
        "\n",
        "    !kb count \\\n",
        "        --aa \\\n",
        "        --h5ad \\\n",
        "        --kallisto $kallisto \\\n",
        "        -t $threads \\\n",
        "        -i $virus_index \\\n",
        "        -g $virus_t2g \\\n",
        "        -x SPLIT-Seq \\\n",
        "        -r r1_RT_replace.txt \\\n",
        "        -w r1r2r3.txt \\\n",
        "        -o $out_folder/$sample/ \\\n",
        "        $fastq1 $fastq2"
      ]
    },
    {
      "cell_type": "code",
      "execution_count": null,
      "id": "27991709-f112-4239-9943-f028015e5d03",
      "metadata": {
        "id": "27991709-f112-4239-9943-f028015e5d03"
      },
      "outputs": [],
      "source": []
    }
  ],
  "metadata": {
    "accelerator": "GPU",
    "colab": {
      "gpuType": "A100",
      "machine_shape": "hm",
      "provenance": [],
      "include_colab_link": true
    },
    "kernelspec": {
      "display_name": "Python [conda env:base] *",
      "language": "python",
      "name": "conda-base-py"
    },
    "language_info": {
      "codemirror_mode": {
        "name": "ipython",
        "version": 3
      },
      "file_extension": ".py",
      "mimetype": "text/x-python",
      "name": "python",
      "nbconvert_exporter": "python",
      "pygments_lexer": "ipython3",
      "version": "3.12.7"
    }
  },
  "nbformat": 4,
  "nbformat_minor": 5
}