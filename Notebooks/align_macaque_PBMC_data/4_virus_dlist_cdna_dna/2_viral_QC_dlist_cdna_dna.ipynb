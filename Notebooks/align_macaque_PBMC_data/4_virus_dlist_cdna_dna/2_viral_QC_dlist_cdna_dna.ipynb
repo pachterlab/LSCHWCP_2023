{
  "cells": [
    {
      "cell_type": "markdown",
      "metadata": {
        "id": "view-in-github",
        "colab_type": "text"
      },
      "source": [
        "<a href=\"https://colab.research.google.com/github/pachterlab/LSCHWCP_2023/blob/main/Notebooks/align_macaque_PBMC_data/4_virus_dlist_cdna_dna/2_viral_QC_dlist_cdna_dna.ipynb\" target=\"_parent\"><img src=\"https://colab.research.google.com/assets/colab-badge.svg\" alt=\"Open In Colab\"/></a>"
      ]
    },
    {
      "cell_type": "markdown",
      "id": "ce6e9522-ec35-44b1-be79-92351a8ae71b",
      "metadata": {
        "id": "ce6e9522-ec35-44b1-be79-92351a8ae71b"
      },
      "source": [
        "# Virus count matrix quality control (QC) and virus categorization"
      ]
    },
    {
      "cell_type": "code",
      "execution_count": null,
      "id": "71935923-b73a-467d-b713-c218bd9a7cf6",
      "metadata": {
        "id": "71935923-b73a-467d-b713-c218bd9a7cf6"
      },
      "outputs": [],
      "source": [
        "!pip install -q kb_python\n",
        "import kb_python.utils as kb_utils\n",
        "import numpy as np\n",
        "from scipy import stats\n",
        "import anndata\n",
        "import pandas as pd\n",
        "import json\n",
        "import os\n",
        "import glob\n",
        "import matplotlib.pyplot as plt\n",
        "import matplotlib as mpl\n",
        "from matplotlib.ticker import MaxNLocator\n",
        "%config InlineBackend.figure_format='retina'\n",
        "\n",
        "def nd(arr):\n",
        "    \"\"\"\n",
        "    Function to transform numpy matrix to nd array.\n",
        "    \"\"\"\n",
        "    return np.asarray(arr).reshape(-1)"
      ]
    },
    {
      "cell_type": "markdown",
      "id": "45cb17a6-0cd2-432c-a395-7e4dae48eca2",
      "metadata": {
        "id": "45cb17a6-0cd2-432c-a395-7e4dae48eca2"
      },
      "source": [
        "### Load data aligned to PalmDB using translated search kb with host genomic and transcriptomic sequences masked using the D-list:"
      ]
    },
    {
      "cell_type": "code",
      "source": [
        "# Load alignment results from Caltech Data\n",
        "!wget https://data.caltech.edu/records/sh33z-hrx98/files/virus_dlist_cdna_dna_alignment_results.zip?download=1\n",
        "!mv virus_dlist_cdna_dna_alignment_results.zip?download=1 virus_dlist_cdna_dna_alignment_results.zip\n",
        "!unzip virus_dlist_cdna_dna_alignment_results.zip"
      ],
      "metadata": {
        "id": "m-idv33Xjonp"
      },
      "id": "m-idv33Xjonp",
      "execution_count": null,
      "outputs": []
    },
    {
      "cell_type": "code",
      "execution_count": null,
      "id": "48fb3271-0394-4891-bb1b-8a74996187be",
      "metadata": {
        "id": "48fb3271-0394-4891-bb1b-8a74996187be"
      },
      "outputs": [],
      "source": [
        "# Filepath to counts\n",
        "X = \"virus_dlist_cdna_dna_alignment_results/bustools_count/output.mtx\"\n",
        "# Filepath to barcode metadata\n",
        "var_path = \"virus_dlist_cdna_dna_alignment_results/bustools_count/output.genes.txt\"\n",
        "# Filepath to gene metadata\n",
        "obs_path = \"virus_dlist_cdna_dna_alignment_results/bustools_count/output.barcodes.txt\"\n",
        "\n",
        "# Create AnnData object\n",
        "palmdb_adata = kb_utils.import_matrix_as_anndata(X, obs_path, var_path)\n",
        "palmdb_adata"
      ]
    },
    {
      "cell_type": "code",
      "execution_count": null,
      "id": "be673c45-04ad-4a33-a614-829417b4716f",
      "metadata": {
        "id": "be673c45-04ad-4a33-a614-829417b4716f"
      },
      "outputs": [],
      "source": [
        "# Add sample barcodes to adata\n",
        "sb_file = open(\"virus_dlist_cdna_dna_alignment_results/bustools_count/output.barcodes.prefix.txt\")\n",
        "sample_barcodes = sb_file.read().splitlines()\n",
        "sb_file.close()\n",
        "\n",
        "# Only use last 16 bases because sample barcode is always 16 bases in length\n",
        "palmdb_adata.obs[\"sample_barcode\"] = [bc[-16:] for bc in sample_barcodes]"
      ]
    },
    {
      "cell_type": "code",
      "execution_count": null,
      "id": "2ec536db-74ab-4a40-bbbf-afafea7ad866",
      "metadata": {
        "id": "2ec536db-74ab-4a40-bbbf-afafea7ad866"
      },
      "outputs": [],
      "source": [
        "# Create barcode to sample lookup\n",
        "bc2sample_df = pd.DataFrame()\n",
        "\n",
        "b_file = open(\"virus_dlist_cdna_dna_alignment_results/matrix.sample.barcodes\")\n",
        "barcodes = b_file.read().splitlines()\n",
        "b_file.close()\n",
        "\n",
        "s_file = open(\"virus_dlist_cdna_dna_alignment_results/matrix.cells\")\n",
        "samples = s_file.read().splitlines()\n",
        "s_file.close()\n",
        "\n",
        "bc2sample_df[\"sample_barcode\"] = barcodes\n",
        "bc2sample_df[\"srr\"] = samples\n",
        "bc2sample_df"
      ]
    },
    {
      "cell_type": "code",
      "execution_count": null,
      "id": "f02ce4f9-c03d-4f56-8d94-505155ab9e2f",
      "metadata": {
        "id": "f02ce4f9-c03d-4f56-8d94-505155ab9e2f"
      },
      "outputs": [],
      "source": [
        "palmdb_adata.obs[\"barcode\"] = palmdb_adata.obs.index.values\n",
        "palmdb_adata.obs = palmdb_adata.obs.merge(bc2sample_df, on=\"sample_barcode\", how=\"left\").set_index(\"barcode\", drop=False)\n",
        "palmdb_adata.obs"
      ]
    },
    {
      "cell_type": "markdown",
      "id": "dc329658-128c-4207-b48a-ea5da805d20d",
      "metadata": {
        "id": "dc329658-128c-4207-b48a-ea5da805d20d"
      },
      "source": [
        "### Add timepoints from SRR metadata:"
      ]
    },
    {
      "cell_type": "code",
      "execution_count": null,
      "id": "d9b924b3-4130-438f-a9e0-69a9431b14eb",
      "metadata": {
        "id": "d9b924b3-4130-438f-a9e0-69a9431b14eb"
      },
      "outputs": [],
      "source": [
        "!wget https://raw.githubusercontent.com/pachterlab/LSCHWCP_2023/main/Notebooks/Supp_Fig_3/Supp_Fig_3abc/PRJNA665227_SraRunTable.txt\n",
        "srr_meta = pd.read_csv(\"PRJNA665227_SraRunTable.txt\", sep=\",\")\n",
        "\n",
        "# Only keep relevent data\n",
        "srr_meta[\"mdck_spike_in\"] = srr_meta[\"mdck_spike_in\"].fillna(False).values\n",
        "srr_meta = srr_meta[[\"Run\", \"donor_animal\", \"Experiment\", \"mdck_spike_in\", \"hours_post_innoculation\", \"day_post_infection\"]]\n",
        "srr_meta"
      ]
    },
    {
      "cell_type": "code",
      "execution_count": null,
      "id": "eac3a865-dc4a-4569-91de-3980fce4a1b2",
      "metadata": {
        "id": "eac3a865-dc4a-4569-91de-3980fce4a1b2"
      },
      "outputs": [],
      "source": [
        "palmdb_adata.obs = (\n",
        "        palmdb_adata\n",
        "        .obs.merge(srr_meta, left_on=\"srr\", right_on=\"Run\", how=\"left\")\n",
        "        .set_index(\"barcode\", drop=False)\n",
        "    )\n",
        "\n",
        "palmdb_adata.obs"
      ]
    },
    {
      "cell_type": "markdown",
      "id": "f4e1c4e1-a722-41b9-af57-dcc1742e7f34",
      "metadata": {
        "id": "f4e1c4e1-a722-41b9-af57-dcc1742e7f34"
      },
      "source": [
        "Create clean dpi column:"
      ]
    },
    {
      "cell_type": "code",
      "execution_count": null,
      "id": "969fcd57-a92e-4c22-ab2c-37391f4fa417",
      "metadata": {
        "id": "969fcd57-a92e-4c22-ab2c-37391f4fa417"
      },
      "outputs": [],
      "source": [
        "# Join day_post_infection and hours_post_innoculation columns\n",
        "palmdb_adata.obs[\"dpi\"] = palmdb_adata.obs[\"day_post_infection\"].fillna(palmdb_adata.obs[\"hours_post_innoculation\"]).astype(int)\n",
        "\n",
        "# Add h/d accession to denote hours/days\n",
        "palmdb_adata.obs[\"dpi_accessions\"] = np.where(palmdb_adata.obs[\"hours_post_innoculation\"].isna(), \"d\", \"h\")\n",
        "palmdb_adata.obs[\"dpi_clean\"] = palmdb_adata.obs[\"dpi\"].astype(str) + palmdb_adata.obs[\"dpi_accessions\"].astype(str)\n",
        "\n",
        "palmdb_adata.obs"
      ]
    },
    {
      "cell_type": "markdown",
      "id": "7ac76eec-1302-4d55-9710-efbde115c830",
      "metadata": {
        "id": "7ac76eec-1302-4d55-9710-efbde115c830"
      },
      "source": [
        "___"
      ]
    },
    {
      "cell_type": "markdown",
      "id": "ae27efe2-6a4f-4014-ab40-e48142a53482",
      "metadata": {
        "id": "ae27efe2-6a4f-4014-ab40-e48142a53482"
      },
      "source": [
        "# Add macaque and canine metadata to virus count matrix:"
      ]
    },
    {
      "cell_type": "code",
      "execution_count": null,
      "id": "0fb2327e-8e0d-402c-b836-d79e0fba1a6c",
      "metadata": {
        "id": "0fb2327e-8e0d-402c-b836-d79e0fba1a6c"
      },
      "outputs": [],
      "source": [
        "# Download host count matrices from Caltech Data\n",
        "# Generated here: https://github.com/pachterlab/LSCHWCP_2023/tree/main/Notebooks/Supp_Fig_3/Supp_Fig_3abc\n",
        "!wget https://data.caltech.edu/records/sh33z-hrx98/files/macaque_QC_norm_leiden_celltypes.h5ad?download=1\n",
        "!mv macaque_QC_norm_leiden_celltypes.h5ad?download=1 macaque_QC_norm_leiden_celltypes.h5ad\n",
        "!wget https://data.caltech.edu/records/sh33z-hrx98/files/host_QC.h5ad?download=1\n",
        "!mv host_QC.h5ad?download=1 host_QC.h5ad\n",
        "\n",
        "# Macaque only\n",
        "mac_adata = anndata.read(\"macaque_QC_norm_leiden_celltypes.h5ad\")\n",
        "mac_adata\n",
        "\n",
        "# All host (macaque + MDCK)\n",
        "host_adata = anndata.read(\"host_QC.h5ad\")\n",
        "host_adata"
      ]
    },
    {
      "cell_type": "code",
      "execution_count": null,
      "id": "ee3d82c2-681a-43ce-9591-b91ce34dd052",
      "metadata": {
        "id": "ee3d82c2-681a-43ce-9591-b91ce34dd052"
      },
      "outputs": [],
      "source": [
        "palmdb_adata.obs = palmdb_adata.obs.drop(\"barcode\", axis=1)\n",
        "palmdb_adata.obs = palmdb_adata.obs.merge(\n",
        "    mac_adata.obs[[\"srr\", \"leiden\", \"celltype_clusters\", \"celltype\"]],\n",
        "    on=[\"barcode\", \"srr\"],\n",
        "    how=\"left\",\n",
        "    validate=\"one_to_one\"\n",
        ")"
      ]
    },
    {
      "cell_type": "code",
      "execution_count": null,
      "id": "41d662bc-7c2c-41e5-839c-fe56897b71fa",
      "metadata": {
        "id": "41d662bc-7c2c-41e5-839c-fe56897b71fa"
      },
      "outputs": [],
      "source": [
        "palmdb_adata.obs[palmdb_adata.obs[\"celltype\"].notnull()]"
      ]
    },
    {
      "cell_type": "code",
      "execution_count": null,
      "id": "9ee8d0a7-6784-416e-bdcb-9a0aaffc9094",
      "metadata": {
        "id": "9ee8d0a7-6784-416e-bdcb-9a0aaffc9094"
      },
      "outputs": [],
      "source": [
        "palmdb_adata.obs = palmdb_adata.obs.merge(\n",
        "    host_adata.obs[[\"srr\", \"species\"]],\n",
        "    on=[\"barcode\", \"srr\"],\n",
        "    how=\"left\",\n",
        "    validate=\"one_to_one\"\n",
        ")"
      ]
    },
    {
      "cell_type": "code",
      "execution_count": null,
      "id": "24cbd7f0-52c3-4657-8f1b-245304ce3546",
      "metadata": {
        "id": "24cbd7f0-52c3-4657-8f1b-245304ce3546"
      },
      "outputs": [],
      "source": [
        "palmdb_adata.obs[palmdb_adata.obs[\"species\"].notnull()]"
      ]
    },
    {
      "cell_type": "markdown",
      "id": "f6dad5c9-7e89-494c-bc41-beb8443fa99a",
      "metadata": {
        "tags": [],
        "id": "f6dad5c9-7e89-494c-bc41-beb8443fa99a"
      },
      "source": [
        "# Threshold viruses to keep only those seen in at least [virus_threshold] QC'd cells"
      ]
    },
    {
      "cell_type": "code",
      "execution_count": null,
      "id": "26146ace-bcaf-4919-85af-b01a939fcd7f",
      "metadata": {
        "id": "26146ace-bcaf-4919-85af-b01a939fcd7f"
      },
      "outputs": [],
      "source": [
        "# Remove all cells that did not pass macaque or canine filtering\n",
        "palmdb_adata = palmdb_adata[palmdb_adata.obs[\"species\"].notnull(), :]\n",
        "palmdb_adata.obs"
      ]
    },
    {
      "cell_type": "code",
      "execution_count": null,
      "id": "4d79b9a4-d8a4-4776-bef9-f817bd856ef5",
      "metadata": {
        "id": "4d79b9a4-d8a4-4776-bef9-f817bd856ef5"
      },
      "outputs": [],
      "source": [
        "# Remove all viruses that were not detected in at least [virus_threshold] cells across the entire dataset\n",
        "virus_threshold = 1\n",
        "\n",
        "palmdb_adata = palmdb_adata[:, (palmdb_adata.X > 0).sum(axis=0) >= virus_threshold]\n",
        "palmdb_adata"
      ]
    },
    {
      "cell_type": "markdown",
      "id": "f2a88ab0-1f3c-473c-ab65-a766a4bca2ef",
      "metadata": {
        "id": "f2a88ab0-1f3c-473c-ab65-a766a4bca2ef"
      },
      "source": [
        "# Binarize virus matrix"
      ]
    },
    {
      "cell_type": "code",
      "execution_count": null,
      "id": "0a82fc75-1aff-4455-b7be-707e50e09acd",
      "metadata": {
        "id": "0a82fc75-1aff-4455-b7be-707e50e09acd"
      },
      "outputs": [],
      "source": [
        "# Save raw counts before binarizing\n",
        "palmdb_adata.raw = palmdb_adata"
      ]
    },
    {
      "cell_type": "code",
      "execution_count": null,
      "id": "4d060151-b6ab-4d76-bad7-fd2790af729f",
      "metadata": {
        "id": "4d060151-b6ab-4d76-bad7-fd2790af729f"
      },
      "outputs": [],
      "source": [
        "# Replace all positive integers with 1\n",
        "palmdb_adata.X[palmdb_adata.X > 0] = 1"
      ]
    },
    {
      "cell_type": "code",
      "execution_count": null,
      "id": "de4312f1-1412-4e84-91d6-31b4e51456de",
      "metadata": {
        "id": "de4312f1-1412-4e84-91d6-31b4e51456de"
      },
      "outputs": [],
      "source": [
        "palmdb_adata.raw.X.sum()"
      ]
    },
    {
      "cell_type": "code",
      "execution_count": null,
      "id": "d42c0b4a-4160-4c56-8bca-5df67fc654bc",
      "metadata": {
        "id": "d42c0b4a-4160-4c56-8bca-5df67fc654bc"
      },
      "outputs": [],
      "source": [
        "palmdb_adata.raw.X.max()"
      ]
    },
    {
      "cell_type": "code",
      "execution_count": null,
      "id": "662d6235-b2d1-4ada-a2f5-5d366462275f",
      "metadata": {
        "id": "662d6235-b2d1-4ada-a2f5-5d366462275f"
      },
      "outputs": [],
      "source": [
        "palmdb_adata.X.sum()"
      ]
    },
    {
      "cell_type": "code",
      "execution_count": null,
      "id": "74dafb26-fb57-47f8-a55f-032b0048f2b8",
      "metadata": {
        "tags": [],
        "id": "74dafb26-fb57-47f8-a55f-032b0048f2b8"
      },
      "outputs": [],
      "source": [
        "palmdb_adata.X.max()"
      ]
    },
    {
      "cell_type": "markdown",
      "id": "b707bec6-4ccf-4bed-a425-9fc5b052e7a1",
      "metadata": {
        "id": "b707bec6-4ccf-4bed-a425-9fc5b052e7a1"
      },
      "source": [
        "# Merge timepoints"
      ]
    },
    {
      "cell_type": "code",
      "execution_count": null,
      "id": "82e0dda2-174a-4293-801c-6c77577bc3a4",
      "metadata": {
        "id": "82e0dda2-174a-4293-801c-6c77577bc3a4"
      },
      "outputs": [],
      "source": [
        "# Merge 7d and 8d timepoints\n",
        "new_tps = []\n",
        "for tp in palmdb_adata.obs[\"dpi_clean\"].values:\n",
        "    if tp == \"7d\" or tp == \"8d\":\n",
        "        new_tps.append(\"7d/8d\")\n",
        "    else:\n",
        "        new_tps.append(tp)\n",
        "\n",
        "palmdb_adata.obs[\"dpi_clean_merged\"] = new_tps"
      ]
    },
    {
      "cell_type": "markdown",
      "id": "3511f215-46b6-46e0-86f6-8acf1bbe1aa9",
      "metadata": {
        "tags": [],
        "id": "3511f215-46b6-46e0-86f6-8acf1bbe1aa9"
      },
      "source": [
        "# Mark viruses seen in both canine and macaque cells as \"shared\""
      ]
    },
    {
      "cell_type": "code",
      "execution_count": null,
      "id": "9a12880d-82b9-4f76-ad9b-04784a4cd5dd",
      "metadata": {
        "id": "9a12880d-82b9-4f76-ad9b-04784a4cd5dd"
      },
      "outputs": [],
      "source": [
        "def yex(ax, c=\"grey\", alpha=0.75):\n",
        "    \"\"\"\n",
        "    Funciton to add linear graph to plot.\n",
        "    Call after defining x and y scales\n",
        "    \"\"\"\n",
        "    lims = [\n",
        "        np.min([ax.get_xlim(), ax.get_ylim()]),  # min of both axes\n",
        "        np.max([ax.get_xlim(), ax.get_ylim()]),  # max of both axes\n",
        "    ]\n",
        "    # Plot both limits against each other\n",
        "    ax.plot(lims, lims, c, alpha=alpha, zorder=0, lw=1)\n",
        "    ax.set(**{\n",
        "        \"aspect\": \"equal\",\n",
        "        \"xlim\": lims,\n",
        "        \"ylim\": lims\n",
        "    })\n",
        "    return ax"
      ]
    },
    {
      "cell_type": "markdown",
      "id": "a87dacdc-6514-4007-aef8-1296b4f6cd09",
      "metadata": {
        "id": "a87dacdc-6514-4007-aef8-1296b4f6cd09"
      },
      "source": [
        "Viruses along the y=x line will have equal fractions of positive cells in both MDCK and macaque cells and are likely shared. We will define a log (increases as fractions also increase) minimum distance between the MDCK and macaque fractions."
      ]
    },
    {
      "cell_type": "code",
      "execution_count": null,
      "id": "7aaac0d8-4d18-4ec8-a134-90f4e1ac5fa5",
      "metadata": {
        "id": "7aaac0d8-4d18-4ec8-a134-90f4e1ac5fa5"
      },
      "outputs": [],
      "source": [
        "# Minimum fraction of positive cells per virus per species\n",
        "min_frac_threshold = 0.0005\n",
        "\n",
        "print(f\"This equals to a minimum of {min_frac_threshold * len(palmdb_adata.obs[palmdb_adata.obs['species'] == 'macaca_mulatta'])} positive cells for macaque\")"
      ]
    },
    {
      "cell_type": "code",
      "execution_count": null,
      "id": "349d92da-d555-4e35-b494-2d7fea27553f",
      "metadata": {
        "id": "349d92da-d555-4e35-b494-2d7fea27553f"
      },
      "outputs": [],
      "source": [
        "%%time\n",
        "# Fold change between fractions of pos cells within which viruses will be considered shared\n",
        "fold_change = 2\n",
        "\n",
        "# Minimum number of cells allowed from other species for \"_only\" assignments\n",
        "min_num_cells = 5\n",
        "\n",
        "# Get fraction of positive cells for each virus for each species\n",
        "mac_fractions = nd(palmdb_adata[palmdb_adata.obs[\"species\"] == \"macaca_mulatta\", :].X.sum(axis=0)) / len(palmdb_adata.obs[palmdb_adata.obs[\"species\"] == \"macaca_mulatta\"])\n",
        "can_fractions = nd(palmdb_adata[palmdb_adata.obs[\"species\"] == \"canis_lupus_familiaris\", :].X.sum(axis=0)) / len(palmdb_adata.obs[palmdb_adata.obs[\"species\"] == \"canis_lupus_familiaris\"])\n",
        "\n",
        "v_types = []\n",
        "for mac_frac, can_frac in zip(mac_fractions, can_fractions):\n",
        "    if mac_frac < min_frac_threshold and can_frac < min_frac_threshold:\n",
        "        v_types.append(\"below_threshold\")\n",
        "    elif mac_frac > can_frac and mac_frac / can_frac <= fold_change:\n",
        "        v_types.append(\"shared\")\n",
        "    elif can_frac > mac_frac and can_frac / mac_frac <= fold_change:\n",
        "        v_types.append(\"shared\")\n",
        "    elif mac_frac > can_frac and can_frac <= (min_num_cells / len(palmdb_adata.obs[palmdb_adata.obs[\"species\"] == \"canis_lupus_familiaris\"])): # Allow [min_num_cells] positive cells in the other species\n",
        "        v_types.append(\"macaca_only\")\n",
        "    elif can_frac > mac_frac and mac_frac <= (min_num_cells / len(palmdb_adata.obs[palmdb_adata.obs[\"species\"] == \"macaca_mulatta\"])):\n",
        "        v_types.append(\"canis_only\")\n",
        "    else:\n",
        "        v_types.append(\"undefined\")"
      ]
    },
    {
      "cell_type": "code",
      "execution_count": null,
      "id": "dbd5df8d-572b-4148-afb3-8d955c364ef6",
      "metadata": {
        "id": "dbd5df8d-572b-4148-afb3-8d955c364ef6"
      },
      "outputs": [],
      "source": [
        "palmdb_adata.var[\"v_type\"] = v_types"
      ]
    },
    {
      "cell_type": "code",
      "execution_count": null,
      "id": "a22db7bf-2aca-4746-824f-49f751e64555",
      "metadata": {
        "id": "a22db7bf-2aca-4746-824f-49f751e64555"
      },
      "outputs": [],
      "source": [
        "fig, ax = plt.subplots(figsize=(12, 10))\n",
        "fontsize = 14\n",
        "vmax = 5.0\n",
        "\n",
        "all_v_types = [\"macaca_only\", \"canis_only\", \"shared\", \"undefined\", \"below_threshold\"]\n",
        "labels = [\"macaque only\", \"MDCK only\", \"shared\", \"undefined\", \"below threshold\"]\n",
        "\n",
        "# Generate colormaps (removing lightest values for visibility)\n",
        "edgecolors = [\"green\", \"blue\", \"red\", \"grey\", \"lightgrey\"]\n",
        "cmaps_orig = [plt.cm.Greens, plt.cm.Blues, plt.cm.Oranges, plt.cm.Greys]\n",
        "min_val, max_val = 0.25, 1.0\n",
        "n = 20\n",
        "cmaps = []\n",
        "for orig_cmap in cmaps_orig:\n",
        "    colors = orig_cmap(np.linspace(min_val, max_val, n))\n",
        "    cmaps.append(mpl.colors.LinearSegmentedColormap.from_list(\"mycmap\", colors))\n",
        "\n",
        "for i, v_type in enumerate(all_v_types):\n",
        "    # Plot fraction of canis and macaque positive cells\n",
        "    x = nd(palmdb_adata[palmdb_adata.obs[\"species\"] == \"macaca_mulatta\", palmdb_adata.var[\"v_type\"] == v_type].X.sum(axis=0)) / len(palmdb_adata.obs[palmdb_adata.obs[\"species\"] == \"macaca_mulatta\"])\n",
        "    y = nd(palmdb_adata[palmdb_adata.obs[\"species\"] == \"canis_lupus_familiaris\", palmdb_adata.var[\"v_type\"] == v_type].X.sum(axis=0)) / len(palmdb_adata.obs[palmdb_adata.obs[\"species\"] == \"canis_lupus_familiaris\"])\n",
        "\n",
        "    # Convert to percentages\n",
        "    x = x*100\n",
        "    y = y*100\n",
        "\n",
        "    # Histogram data to show point density\n",
        "    bins = [1500, 1500]\n",
        "    hh, locx, locy = np.histogram2d(x, y, bins=bins)\n",
        "    z = np.array([hh[np.argmax(a<=locx[1:]),np.argmax(b<=locy[1:])] for a,b in zip(x,y)])\n",
        "    idx = z.argsort()\n",
        "    x2, y2, z2 = x[idx], y[idx], z[idx]\n",
        "\n",
        "    print(z2.max())\n",
        "\n",
        "    # Normalize colormaps to same range\n",
        "    if v_type != \"below_threshold\":\n",
        "        scatter = ax.scatter(x2, y2, c=z2, cmap=cmaps[i], norm=mpl.colors.Normalize(vmin=1, vmax=vmax), edgecolor=edgecolors[i], lw=0.2, s=50, alpha=1)\n",
        "    else:\n",
        "        scatter = ax.scatter(x2, y2, c=edgecolors[i], edgecolor=edgecolors[i], lw=0.2, s=50, alpha=0.2)\n",
        "\n",
        "    # Add colorbar\n",
        "    if v_type != \"below_threshold\":\n",
        "        cbar = fig.colorbar(scatter, ax=ax, pad=0.01, shrink=0.7)\n",
        "        cbar.ax.yaxis.set_major_locator(MaxNLocator(integer=True))\n",
        "        if i == 0:\n",
        "            cbar.ax.tick_params(axis=\"both\", labelsize=fontsize-2)\n",
        "        else:\n",
        "            cbar.set_ticks([])\n",
        "        cbar.ax.set_ylabel(f\"# of {labels[i]} viruses\", fontsize=fontsize)\n",
        "\n",
        "ax.set_xlabel(\"Percentage of positive Macaca mulatta cells\", fontsize=fontsize)\n",
        "ax.set_ylabel(\"Percentage of positive MDCK cells\", fontsize=fontsize)\n",
        "\n",
        "ax.set_xscale(\"log\")\n",
        "ax.set_yscale(\"log\")\n",
        "\n",
        "# Add shared threshold area and y=x line\n",
        "# Get axis limits\n",
        "lims = [\n",
        "        np.min([ax.get_xlim(), ax.get_ylim()]),\n",
        "        np.max([ax.get_xlim(), ax.get_ylim()]),\n",
        "    ]\n",
        "\n",
        "# Threshold fold change above/below x=y line\n",
        "x_thres = np.array(lims)\n",
        "ax.fill_between(x_thres, 10**(np.log10(x_thres)+np.log10(fold_change)), 10**(np.log10(x_thres)-np.log10(fold_change)), alpha=0.1, color=\"#f77f00\")\n",
        "\n",
        "# Add minimum fraction threshold lines\n",
        "ax.plot([min_frac_threshold*100, min_frac_threshold*100], [min_frac_threshold*100, ax.get_xlim()[0]], c=\"grey\", lw=1, ls=\"--\", zorder=-1)\n",
        "ax.plot([min_frac_threshold*100, ax.get_xlim()[0]], [min_frac_threshold*100, min_frac_threshold*100], c=\"grey\", lw=1, ls=\"--\", zorder=-1)\n",
        "\n",
        "ax.plot(ax.get_xlim(), ax.get_xlim(), c=\"grey\", lw=1, ls=\"-\")\n",
        "\n",
        "ax.set_ylim(lims)\n",
        "ax.set_xlim(lims)\n",
        "ax.set_aspect(\"equal\")\n",
        "\n",
        "# Change fontsize of tick labels\n",
        "ax.tick_params(axis=\"both\", labelsize=fontsize-2)\n",
        "\n",
        "# Save figure\n",
        "fig.savefig(\n",
        "    \"virus_shared_thresholds.png\", dpi=300, bbox_inches=\"tight\", transparent=True\n",
        ")\n",
        "\n",
        "fig.show()"
      ]
    },
    {
      "cell_type": "code",
      "execution_count": null,
      "id": "521fa996-6580-4742-be47-4176364fac7a",
      "metadata": {
        "id": "521fa996-6580-4742-be47-4176364fac7a"
      },
      "outputs": [],
      "source": [
        "# Zoom into area around 0\n",
        "fig, ax = plt.subplots(figsize=(12, 10))\n",
        "fontsize = 14\n",
        "vmax = 5.0\n",
        "\n",
        "all_v_types = [\"macaca_only\", \"canis_only\", \"shared\", \"undefined\", \"below_threshold\"]\n",
        "labels = [\"macaque only\", \"MDCK only\", \"shared\", \"undefined\", \"below threshold\"]\n",
        "\n",
        "# Generate colormaps (removing lightest values for visibility)\n",
        "edgecolors = [\"green\", \"blue\", \"red\", \"grey\", \"lightgrey\"]\n",
        "cmaps_orig = [plt.cm.Greens, plt.cm.Blues, plt.cm.Oranges, plt.cm.Greys]\n",
        "min_val, max_val = 0.25, 1.0\n",
        "n = 20\n",
        "cmaps = []\n",
        "for orig_cmap in cmaps_orig:\n",
        "    colors = orig_cmap(np.linspace(min_val, max_val, n))\n",
        "    cmaps.append(mpl.colors.LinearSegmentedColormap.from_list(\"mycmap\", colors))\n",
        "\n",
        "for i, v_type in enumerate(all_v_types):\n",
        "    # Plot fraction of canis and macaque positive cells\n",
        "    x = nd(palmdb_adata[palmdb_adata.obs[\"species\"] == \"macaca_mulatta\", palmdb_adata.var[\"v_type\"] == v_type].X.sum(axis=0)) / len(palmdb_adata.obs[palmdb_adata.obs[\"species\"] == \"macaca_mulatta\"])\n",
        "    y = nd(palmdb_adata[palmdb_adata.obs[\"species\"] == \"canis_lupus_familiaris\", palmdb_adata.var[\"v_type\"] == v_type].X.sum(axis=0)) / len(palmdb_adata.obs[palmdb_adata.obs[\"species\"] == \"canis_lupus_familiaris\"])\n",
        "\n",
        "    # Convert to percentages\n",
        "    x = x*100\n",
        "    y = y*100\n",
        "\n",
        "    # Histogram data to show point density\n",
        "    bins = [1500, 1500]\n",
        "    hh, locx, locy = np.histogram2d(x, y, bins=bins)\n",
        "    z = np.array([hh[np.argmax(a<=locx[1:]),np.argmax(b<=locy[1:])] for a,b in zip(x,y)])\n",
        "    idx = z.argsort()\n",
        "    x2, y2, z2 = x[idx], y[idx], z[idx]\n",
        "\n",
        "    print(z2.max())\n",
        "\n",
        "    # Normalize colormaps to same range\n",
        "    if v_type != \"below_threshold\":\n",
        "        scatter = ax.scatter(x2, y2, c=z2, cmap=cmaps[i], norm=mpl.colors.Normalize(vmin=1, vmax=vmax), edgecolor=edgecolors[i], lw=0.2, s=50, alpha=1)\n",
        "    else:\n",
        "        scatter = ax.scatter(x2, y2, c=edgecolors[i], edgecolor=edgecolors[i], lw=0.2, s=50, alpha=0.2)\n",
        "    # scatter = ax.scatter(x2, y2, c=z2, cmap=cmaps[i], edgecolor=edgecolors[i], lw=0.1, s=20)\n",
        "\n",
        "    # Add colorbar\n",
        "    if v_type != \"below_threshold\":\n",
        "        cbar = fig.colorbar(scatter, ax=ax, pad=0.01, shrink=0.7)\n",
        "        cbar.ax.yaxis.set_major_locator(MaxNLocator(integer=True))\n",
        "        if i == 0:\n",
        "            cbar.ax.tick_params(axis=\"both\", labelsize=fontsize-2)\n",
        "        else:\n",
        "            cbar.set_ticks([])\n",
        "        cbar.ax.set_ylabel(f\"# of {labels[i]} viruses\", fontsize=fontsize)\n",
        "\n",
        "# Mark Ebolavirus with black edge\n",
        "x_ebov = (np.array(palmdb_adata[palmdb_adata.obs[\"species\"] == \"macaca_mulatta\", palmdb_adata.var.index==\"u10\"].X.sum(axis=0))).flatten() / len(palmdb_adata.obs[palmdb_adata.obs[\"species\"] == \"macaca_mulatta\"])\n",
        "y_ebov = (np.array(palmdb_adata[palmdb_adata.obs[\"species\"] == \"canis_lupus_familiaris\", palmdb_adata.var.index==\"u10\"].X.sum(axis=0))).flatten() / len(palmdb_adata.obs[palmdb_adata.obs[\"species\"] == \"canis_lupus_familiaris\"])\n",
        "ax.scatter(x_ebov*100, y_ebov*100, facecolor=[0, 0, 0, 0], edgecolor=[0, 0, 0, 1], lw=1, s=50)\n",
        "\n",
        "ax.set_xlabel(\"Percentage of positive Macaca mulatta cells\", fontsize=fontsize)\n",
        "ax.set_ylabel(\"Percentage of positive MDCK cells\", fontsize=fontsize)\n",
        "\n",
        "ax.set_ylim(bottom=-0.01, top=0.23)\n",
        "ax.set_xlim(left=-0.01, right=0.23)\n",
        "\n",
        "# Add shared threshold area and y=x line\n",
        "# Get axis limits\n",
        "lims = [\n",
        "        0.0001,\n",
        "        np.max([ax.get_xlim(), ax.get_ylim()]),\n",
        "    ]\n",
        "\n",
        "# Threshold fold change above/below x=y line\n",
        "x_thres = np.array(lims)\n",
        "ax.fill_between(x_thres, 10**(np.log10(x_thres)+np.log10(fold_change)), 10**(np.log10(x_thres)-np.log10(fold_change)), alpha=0.1, color=\"#f77f00\")\n",
        "\n",
        "# Add minimum fraction threshold lines\n",
        "ax.plot([min_frac_threshold*100, min_frac_threshold*100], [min_frac_threshold*100, -1], c=\"grey\", lw=1, ls=\"--\", zorder=-1)\n",
        "ax.plot([min_frac_threshold*100, -1], [min_frac_threshold*100, min_frac_threshold*100], c=\"grey\", lw=1, ls=\"--\", zorder=-1)\n",
        "\n",
        "ax.plot(ax.get_xlim(), ax.get_xlim(), c=\"grey\", lw=1, ls=\"-\")\n",
        "\n",
        "ax.set_aspect(\"equal\")\n",
        "\n",
        "# Change fontsize of tick labels\n",
        "ax.tick_params(axis=\"both\", labelsize=fontsize-2)\n",
        "\n",
        "# Save figure\n",
        "fig.savefig(\n",
        "    \"virus_shared_thresholds_zero.png\", dpi=300, bbox_inches=\"tight\", transparent=True\n",
        ")\n",
        "\n",
        "fig.show()"
      ]
    },
    {
      "cell_type": "markdown",
      "id": "445dc73b-4fb8-4908-ba87-4c81e7000203",
      "metadata": {
        "id": "445dc73b-4fb8-4908-ba87-4c81e7000203"
      },
      "source": [
        "# Plot count histogram to show low counts per virus ID (compared to host) before binarizing:"
      ]
    },
    {
      "cell_type": "code",
      "execution_count": null,
      "id": "bfe012f5-de60-47b8-8acf-fa0980a5c23e",
      "metadata": {
        "id": "bfe012f5-de60-47b8-8acf-fa0980a5c23e"
      },
      "outputs": [],
      "source": [
        "palmdb_adata_temp = palmdb_adata.raw[palmdb_adata.obs[\"celltype\"].notnull(), palmdb_adata.var[\"v_type\"] == \"macaca_only\"].X\n",
        "vir_counts = nd(palmdb_adata_temp[palmdb_adata_temp>0])\n",
        "\n",
        "palmdb_adata_temp = palmdb_adata.raw[palmdb_adata.obs[\"celltype\"].notnull(), palmdb_adata.var[\"v_type\"] == \"shared\"].X\n",
        "vir_counts2 = nd(palmdb_adata_temp[palmdb_adata_temp>0])\n",
        "\n",
        "host_counts = nd(mac_adata.raw.X[mac_adata.raw.X>0])"
      ]
    },
    {
      "cell_type": "code",
      "execution_count": null,
      "id": "936a3330-7266-4956-a53b-f736d7352b83",
      "metadata": {
        "id": "936a3330-7266-4956-a53b-f736d7352b83"
      },
      "outputs": [],
      "source": [
        "fig, ax = plt.subplots(figsize=(10, 5))\n",
        "fontsize = 14\n",
        "\n",
        "ax.hist(host_counts, bins=160, histtype='stepfilled', edgecolor=\"grey\", facecolor=\"lightgrey\", label=\"Macaque genes\", log=True)\n",
        "ax.hist(vir_counts2, bins=7, histtype='stepfilled', edgecolor=\"#f77f00\", facecolor=\"#f77f00\", alpha=0.8, label=\"Viruses (shared)\", log=True)\n",
        "ax.hist(vir_counts, bins=2, histtype='stepfilled', edgecolor=\"#0f7c49\", facecolor=\"#0f7c49\", alpha=1, label=\"Viruses (macaque only)\", log=True)\n",
        "\n",
        "ax.legend(fontsize=fontsize)\n",
        "\n",
        "ax.set_xlabel(\"Count in one cell\", fontsize=fontsize)\n",
        "ax.set_ylabel(\"Frequency\", fontsize=fontsize)\n",
        "\n",
        "# Change fontsize of tick labels\n",
        "ax.tick_params(axis=\"both\", labelsize=fontsize-2)\n",
        "\n",
        "ax.grid(True, which=\"both\", color=\"lightgray\", ls=\"--\", lw=1)\n",
        "ax.set_axisbelow(True)\n",
        "\n",
        "plt.savefig(\"count_histogram.png\", dpi=300, bbox_inches=\"tight\")\n",
        "\n",
        "fig.show()"
      ]
    },
    {
      "cell_type": "markdown",
      "id": "838c9d7c-9ed8-42d0-afda-ae6e7079e7e3",
      "metadata": {
        "id": "838c9d7c-9ed8-42d0-afda-ae6e7079e7e3"
      },
      "source": [
        "___"
      ]
    },
    {
      "cell_type": "code",
      "execution_count": null,
      "id": "c5b8dd19-bf59-4de7-a230-02c82d75e374",
      "metadata": {
        "id": "c5b8dd19-bf59-4de7-a230-02c82d75e374"
      },
      "outputs": [],
      "source": [
        "# Save new binarized virus matrix including host species information and virus types\n",
        "palmdb_adata.write(\"virus_dlist_cdna_dna.h5ad\")"
      ]
    },
    {
      "cell_type": "code",
      "execution_count": null,
      "id": "91b09fa1-753f-4bb1-bdca-957292988005",
      "metadata": {
        "id": "91b09fa1-753f-4bb1-bdca-957292988005"
      },
      "outputs": [],
      "source": []
    }
  ],
  "metadata": {
    "kernelspec": {
      "display_name": "Python 3 (ipykernel)",
      "language": "python",
      "name": "python3"
    },
    "language_info": {
      "codemirror_mode": {
        "name": "ipython",
        "version": 3
      },
      "file_extension": ".py",
      "mimetype": "text/x-python",
      "name": "python",
      "nbconvert_exporter": "python",
      "pygments_lexer": "ipython3",
      "version": "3.9.12"
    },
    "colab": {
      "provenance": [],
      "include_colab_link": true
    }
  },
  "nbformat": 4,
  "nbformat_minor": 5
}