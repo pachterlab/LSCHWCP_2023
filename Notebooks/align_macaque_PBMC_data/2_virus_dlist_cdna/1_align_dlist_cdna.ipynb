{
  "cells": [
    {
      "cell_type": "markdown",
      "metadata": {
        "id": "view-in-github",
        "colab_type": "text"
      },
      "source": [
        "<a href=\"https://colab.research.google.com/github/pachterlab/LSCHWCP_2023/blob/main/Notebooks/align_macaque_PBMC_data/2_virus_dlist_cdna/1_align_dlist_cdna.ipynb\" target=\"_parent\"><img src=\"https://colab.research.google.com/assets/colab-badge.svg\" alt=\"Open In Colab\"/></a>"
      ]
    },
    {
      "cell_type": "markdown",
      "id": "e8ef6419-dd14-4729-9ea2-cb9fa4796794",
      "metadata": {
        "id": "e8ef6419-dd14-4729-9ea2-cb9fa4796794"
      },
      "source": [
        "# Align sequencing reads to PalmDB with kallisto translated search masking host transcriptomes using the D-list"
      ]
    },
    {
      "cell_type": "code",
      "source": [
        "# Install kallisto from source\n",
        "!git clone -q https://github.com/pachterlab/kallisto.git\n",
        "!cd kallisto && mkdir build && cd build && cmake .. && make\n",
        "\n",
        "# Install bustools from source\n",
        "!git clone -q https://github.com/BUStools/bustools.git\n",
        "!cd bustools && mkdir build && cd build && cmake .. && make\n",
        "\n",
        "# Define paths to kallisto and bustools binaries\n",
        "kallisto = \"/content/kallisto/build/src/kallisto\"\n",
        "bustools = \"/content/bustools/build/src/bustools\""
      ],
      "metadata": {
        "id": "EUiHM8mqXFWF"
      },
      "id": "EUiHM8mqXFWF",
      "execution_count": null,
      "outputs": []
    },
    {
      "cell_type": "code",
      "source": [
        "# Download the customized transcripts to gene mapping\n",
        "!wget https://raw.githubusercontent.com/pachterlab/LSCHWCP_2023/main/PalmDB/palmdb_clustered_t2g.txt\n",
        "# Download the RdRP amino acid sequences\n",
        "!wget https://raw.githubusercontent.com/pachterlab/LSCHWCP_2023/main/PalmDB/palmdb_rdrp_seqs.fa\n",
        "\n",
        "virus_fasta = \"palmdb_rdrp_seqs.fa\"\n",
        "virus_t2g = \"palmdb_clustered_t2g.txt\""
      ],
      "metadata": {
        "id": "d0Walrj7XGy2"
      },
      "id": "d0Walrj7XGy2",
      "execution_count": null,
      "outputs": []
    },
    {
      "cell_type": "code",
      "source": [
        "# Number of threads to use in alignment\n",
        "threads = 8"
      ],
      "metadata": {
        "id": "N9lEs7LRXIV5"
      },
      "id": "N9lEs7LRXIV5",
      "execution_count": null,
      "outputs": []
    },
    {
      "cell_type": "markdown",
      "source": [
        "### Download raw sequencing data"
      ],
      "metadata": {
        "id": "KSy2xMuYXs7e"
      },
      "id": "KSy2xMuYXs7e"
    },
    {
      "cell_type": "code",
      "source": [
        "!pip install -q ffq\n",
        "import json\n",
        "\n",
        "# Use ffq to get all FTP download links\n",
        "out = \"GSE158390_data.json\"\n",
        "!ffq GSE158390 --ftp -o $out\n",
        "\n",
        "f = open(out)\n",
        "data = json.load(f)\n",
        "f.close()\n",
        "\n",
        "print(len(data))\n",
        "\n",
        "# # Download the complete dataset (106 paired fastqs containing a total of 30 billion reads)\n",
        "# for dataset in data:\n",
        "#     url = dataset[\"url\"]\n",
        "#     !curl -O $url\n",
        "\n",
        "# Download only two paired fastqs to demonstrate this notebook\n",
        "for dataset in data[:4]:\n",
        "    url = dataset[\"url\"]\n",
        "    !curl -O $url"
      ],
      "metadata": {
        "id": "JwDLTQ2CXtDE"
      },
      "id": "JwDLTQ2CXtDE",
      "execution_count": null,
      "outputs": []
    },
    {
      "cell_type": "code",
      "source": [
        "import glob\n",
        "\n",
        "fastqs = []\n",
        "for filename in glob.glob(\"*.fastq.gz\"):\n",
        "    fastqs.append(filename.split(\"/\")[-1])\n",
        "\n",
        "fastqs.sort()\n",
        "\n",
        "# Get sample names\n",
        "samples = []\n",
        "for fastq in fastqs:\n",
        "    samples.append(fastq.split(\"_\")[0])\n",
        "\n",
        "samples = list(set(samples))\n",
        "\n",
        "# Generate sample batch file\n",
        "sample_batch_file = \"batch.txt\"\n",
        "with open(sample_batch_file, \"w\") as batch_file:\n",
        "    for sample in samples:\n",
        "        fastq1 = sample + \"_1.fastq.gz\"\n",
        "        fastq2 = sample + \"_2.fastq.gz\"\n",
        "        batch_file.write(sample + \"\\t\" + fastq1 + \"\\t\" + fastq2 + \"\\n\")"
      ],
      "metadata": {
        "id": "FPBqtdn4XwI-"
      },
      "id": "FPBqtdn4XwI-",
      "execution_count": null,
      "outputs": []
    },
    {
      "cell_type": "markdown",
      "id": "13d0336f-1735-431b-826b-74468bed273d",
      "metadata": {
        "id": "13d0336f-1735-431b-826b-74468bed273d"
      },
      "source": [
        "### Align to PalmDB"
      ]
    },
    {
      "cell_type": "code",
      "execution_count": null,
      "id": "09c83abf-5137-443e-b9df-1f7066110955",
      "metadata": {
        "id": "09c83abf-5137-443e-b9df-1f7066110955"
      },
      "outputs": [],
      "source": [
        "# Get host transcriptomes and concatenate them into a single file\n",
        "!gget ref -w cdna -r 110 -d canis_lupus_familiaris\n",
        "!gget ref -w cdna -r 110 -d macaca_mulatta\n",
        "canine_cdna = \"Canis_lupus_familiaris.ROS_Cfam_1.0.cdna.all.fa.gz\"\n",
        "macaque_cdna = \"Macaca_mulatta.Mmul_10.cdna.all.fa.gz\"\n",
        "\n",
        "canine_macaque_fasta = \"combined_transcriptomes.cdna.all.fa.gz\"\n",
        "!cat $canine_cdna $macaque_cdna > $canine_macaque_fasta"
      ]
    },
    {
      "cell_type": "markdown",
      "id": "1ab61263-64f3-4a03-b909-e8d4a990cfa4",
      "metadata": {
        "id": "1ab61263-64f3-4a03-b909-e8d4a990cfa4"
      },
      "source": [
        "Generate virus index with masked host transcriptomes:"
      ]
    },
    {
      "cell_type": "code",
      "execution_count": null,
      "id": "227af422-8b38-4c62-9835-d11c5682c715",
      "metadata": {
        "id": "227af422-8b38-4c62-9835-d11c5682c715"
      },
      "outputs": [],
      "source": [
        "virus_index = \"virus_index.idx\"\n",
        "# Generate virus reference index\n",
        "!$kallisto index \\\n",
        "    -t $threads \\\n",
        "    --aa \\\n",
        "    --d-list=$canine_macaque_fasta \\\n",
        "    -i $virus_index \\\n",
        "    $virus_fasta"
      ]
    },
    {
      "cell_type": "markdown",
      "id": "7faf8797-a842-4254-8741-8f7923223563",
      "metadata": {
        "id": "7faf8797-a842-4254-8741-8f7923223563"
      },
      "source": [
        "Align to PalmDB and correct barcodes using host onlist:"
      ]
    },
    {
      "cell_type": "code",
      "execution_count": null,
      "id": "d834169c-5dda-486a-8ae5-b29572d7f9d1",
      "metadata": {
        "id": "d834169c-5dda-486a-8ae5-b29572d7f9d1"
      },
      "outputs": [],
      "source": [
        "out_folder = \"virus_dlist_cdna_alignment_results\""
      ]
    },
    {
      "cell_type": "code",
      "execution_count": null,
      "id": "1be8eee3-0a2f-4b12-8454-7f150ad560a1",
      "metadata": {
        "id": "1be8eee3-0a2f-4b12-8454-7f150ad560a1"
      },
      "outputs": [],
      "source": [
        "%%time\n",
        "!/usr/bin/time -v $kallisto bus \\\n",
        "        -i $virus_index \\\n",
        "        -o $out_folder \\\n",
        "        --aa \\\n",
        "        -t $threads \\\n",
        "        -B $sample_batch_file \\\n",
        "        --batch-barcodes \\\n",
        "        -x 0,0,12:0,12,20:1,0,0"
      ]
    },
    {
      "cell_type": "code",
      "execution_count": null,
      "id": "ca87874a-ec22-4da4-af05-a7c2ec65c480",
      "metadata": {
        "id": "ca87874a-ec22-4da4-af05-a7c2ec65c480"
      },
      "outputs": [],
      "source": [
        "# Download cell barcode onlist generated during alignment to host\n",
        "!wget https://raw.githubusercontent.com/pachterlab/LSCHWCP_2023/main/Notebooks/align_macaque_PBMC_data/bustools_onlist.txt"
      ]
    },
    {
      "cell_type": "code",
      "execution_count": null,
      "id": "49ebbc06-8654-4864-93a6-4b8345a23d84",
      "metadata": {
        "id": "49ebbc06-8654-4864-93a6-4b8345a23d84"
      },
      "outputs": [],
      "source": [
        "%%time\n",
        "!$bustools sort \\\n",
        "    -m 4G \\\n",
        "    -t $threads \\\n",
        "    -o $out_folder/output_sorted.bus \\\n",
        "    $out_folder/output.bus\n",
        "\n",
        "!$bustools correct \\\n",
        "    -w bustools_onlist.txt \\\n",
        "    -o $out_folder/output_sorted_corrected.bus \\\n",
        "    $out_folder/output_sorted.bus\n",
        "\n",
        "!$bustools sort \\\n",
        "    -m 4G \\\n",
        "    -t $threads \\\n",
        "    -o $out_folder/output_sorted_corrected_sorted.bus \\\n",
        "    $out_folder/output_sorted_corrected.bus\n",
        "\n",
        "!$bustools count \\\n",
        "    --genecounts \\\n",
        "    -o $out_folder/bustools_count/ \\\n",
        "    -g $virus_t2g \\\n",
        "    -e $out_folder/matrix.ec \\\n",
        "    -t $out_folder/transcripts.txt \\\n",
        "    $out_folder/output_sorted_corrected_sorted.bus"
      ]
    },
    {
      "cell_type": "code",
      "execution_count": null,
      "id": "e091564a-7b0e-4cce-80e0-b0ea4aeac218",
      "metadata": {
        "id": "e091564a-7b0e-4cce-80e0-b0ea4aeac218"
      },
      "outputs": [],
      "source": []
    }
  ],
  "metadata": {
    "kernelspec": {
      "display_name": "Python 3 (ipykernel)",
      "language": "python",
      "name": "python3"
    },
    "language_info": {
      "codemirror_mode": {
        "name": "ipython",
        "version": 3
      },
      "file_extension": ".py",
      "mimetype": "text/x-python",
      "name": "python",
      "nbconvert_exporter": "python",
      "pygments_lexer": "ipython3",
      "version": "3.9.12"
    },
    "colab": {
      "provenance": [],
      "include_colab_link": true
    }
  },
  "nbformat": 4,
  "nbformat_minor": 5
}