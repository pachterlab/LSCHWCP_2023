{
  "cells": [
    {
      "cell_type": "markdown",
      "metadata": {
        "id": "view-in-github",
        "colab_type": "text"
      },
      "source": [
        "<a href=\"https://colab.research.google.com/github/pachterlab/LSCHWCP_2023/blob/main/Notebooks/align_macaque_PBMC_data/8_virus_bwa/2_align_bwa_host_removed.ipynb\" target=\"_parent\"><img src=\"https://colab.research.google.com/assets/colab-badge.svg\" alt=\"Open In Colab\"/></a>"
      ]
    },
    {
      "cell_type": "markdown",
      "source": [
        "# Align sequencing reads to PalmDB with kallisto translated search after removing host sequences using bwa\n",
        "The removal of host sequences using bwa is shown in [this notebook](https://github.com/pachterlab/LSCHWCP_2023/blob/main/Notebooks/align_macaque_PBMC_data/8_virus_bwa/1_remove_host_reads_with_bwa.ipynb)."
      ],
      "metadata": {
        "id": "zhBd_LBpD0Tw"
      },
      "id": "zhBd_LBpD0Tw"
    },
    {
      "cell_type": "code",
      "source": [
        "# Install kallisto from source\n",
        "!git clone -q https://github.com/pachterlab/kallisto.git\n",
        "!cd kallisto && mkdir build && cd build && cmake .. && make\n",
        "\n",
        "# Install bustools from source\n",
        "!git clone -q https://github.com/BUStools/bustools.git\n",
        "!cd bustools && mkdir build && cd build && cmake .. && make\n",
        "\n",
        "# Define paths to kallisto and bustools binaries\n",
        "kallisto = \"/content/kallisto/build/src/kallisto\"\n",
        "bustools = \"/content/bustools/build/src/bustools\""
      ],
      "metadata": {
        "id": "zoWwvgDlDVZO"
      },
      "id": "zoWwvgDlDVZO",
      "execution_count": null,
      "outputs": []
    },
    {
      "cell_type": "code",
      "source": [
        "# Download the customized transcripts to gene mapping\n",
        "!wget https://raw.githubusercontent.com/pachterlab/LSCHWCP_2023/main/PalmDB/palmdb_clustered_t2g.txt\n",
        "# Download the RdRP amino acid sequences\n",
        "!wget https://raw.githubusercontent.com/pachterlab/LSCHWCP_2023/main/PalmDB/palmdb_rdrp_seqs.fa\n",
        "\n",
        "virus_fasta = \"palmdb_rdrp_seqs.fa\"\n",
        "virus_t2g = \"palmdb_clustered_t2g.txt\""
      ],
      "metadata": {
        "id": "uYv3K-zMAyO5"
      },
      "id": "uYv3K-zMAyO5",
      "execution_count": null,
      "outputs": []
    },
    {
      "cell_type": "code",
      "source": [
        "# Number of threads to use in alignment\n",
        "threads = 8"
      ],
      "metadata": {
        "id": "gZlZhQiCAJty"
      },
      "id": "gZlZhQiCAJty",
      "execution_count": null,
      "outputs": []
    },
    {
      "cell_type": "markdown",
      "id": "fb590f46-fb15-4289-8dc1-0fc0dd658958",
      "metadata": {
        "id": "fb590f46-fb15-4289-8dc1-0fc0dd658958"
      },
      "source": [
        "Create new batch file with paths to files where host reads were removed based on bwa alignment:"
      ]
    },
    {
      "cell_type": "code",
      "execution_count": null,
      "id": "52cf5c77-70bb-4f33-b5ff-4f167c11c0bc",
      "metadata": {
        "id": "52cf5c77-70bb-4f33-b5ff-4f167c11c0bc"
      },
      "outputs": [],
      "source": [
        "import os\n",
        "import glob"
      ]
    },
    {
      "cell_type": "code",
      "source": [
        "# Download unmapped reads from bwa alignment to host from Caltech Data\n",
        "# This folder contains the files that are saved inside the bwa_unmapped_reads/raw folder in the previous notebook (https://github.com/pachterlab/LSCHWCP_2023/blob/main/Notebooks/align_macaque_PBMC_data/8_virus_bwa/1_remove_host_reads_with_bwa.ipynb)\n",
        "!wget https://data.caltech.edu/records/sh33z-hrx98/files/bwa_unmapped_reads.tar.gz?download=1\n",
        "!mv bwa_unmapped_reads.tar.gz?download=1 bwa_unmapped_reads.tar.gz\n",
        "!tar -xvf bwa_unmapped_reads.tar.gz"
      ],
      "metadata": {
        "id": "wuwCWCHuAd1H"
      },
      "id": "wuwCWCHuAd1H",
      "execution_count": null,
      "outputs": []
    },
    {
      "cell_type": "code",
      "execution_count": null,
      "id": "1b88ef1c-e15e-47b6-81a9-0225cadc9824",
      "metadata": {
        "id": "1b88ef1c-e15e-47b6-81a9-0225cadc9824"
      },
      "outputs": [],
      "source": [
        "fastq_folder = \"bwa_unmapped_reads_raw\"\n",
        "\n",
        "fastqs = []\n",
        "for filename in glob.glob(f\"{fastq_folder}/*.fastq\"):\n",
        "    fastqs.append(filename.split(\"/\")[-1])\n",
        "\n",
        "fastqs.sort()"
      ]
    },
    {
      "cell_type": "code",
      "execution_count": null,
      "id": "1db8bbb5-43cd-43f2-9e0f-2f846ef0661c",
      "metadata": {
        "id": "1db8bbb5-43cd-43f2-9e0f-2f846ef0661c"
      },
      "outputs": [],
      "source": [
        "len(fastqs)"
      ]
    },
    {
      "cell_type": "code",
      "execution_count": null,
      "id": "984b4db6-3251-4511-9936-58ab0c880c99",
      "metadata": {
        "id": "984b4db6-3251-4511-9936-58ab0c880c99"
      },
      "outputs": [],
      "source": [
        "samples = []\n",
        "for fastq in fastqs:\n",
        "    samples.append(fastq.split(\"_\")[0])\n",
        "\n",
        "samples = list(set(samples))\n",
        "len(samples)"
      ]
    },
    {
      "cell_type": "code",
      "execution_count": null,
      "id": "6e2836ff-7126-4290-8259-08806b4796b0",
      "metadata": {
        "id": "6e2836ff-7126-4290-8259-08806b4796b0"
      },
      "outputs": [],
      "source": [
        "sample_batch_file = \"batch.txt\"\n",
        "with open(sample_batch_file, \"w\") as batch_file:\n",
        "    for sample in samples:\n",
        "        fastq1 = sample + \"_1.fastq\"\n",
        "        fastq2 = sample + \"_2.fastq\"\n",
        "        batch_file.write(sample + \"\\t\" + fastq_folder + \"/\" + fastq1 + \"\\t\" + fastq_folder + \"/\" + fastq2 + \"\\n\")"
      ]
    },
    {
      "cell_type": "markdown",
      "id": "f0353728-0f36-45f9-8f68-830c086de61d",
      "metadata": {
        "id": "f0353728-0f36-45f9-8f68-830c086de61d"
      },
      "source": [
        "Generate virus reference index (no masking):"
      ]
    },
    {
      "cell_type": "code",
      "execution_count": null,
      "id": "808c42e0-67b6-4a4c-a4f5-e7da96c06957",
      "metadata": {
        "id": "808c42e0-67b6-4a4c-a4f5-e7da96c06957"
      },
      "outputs": [],
      "source": [
        "virus_index = \"virus_index.idx\"\n",
        "\n",
        "!$kallisto index \\\n",
        "    --aa \\\n",
        "    -t $threads \\\n",
        "    -i $virus_index \\\n",
        "    $virus_fasta"
      ]
    },
    {
      "cell_type": "markdown",
      "id": "3dfe6aa8-11ad-4391-bc96-cb0bed9c92e7",
      "metadata": {
        "id": "3dfe6aa8-11ad-4391-bc96-cb0bed9c92e7"
      },
      "source": [
        "Align files and correct barcodes based on host cell barcode onlist:"
      ]
    },
    {
      "cell_type": "code",
      "source": [
        "!wget https://raw.githubusercontent.com/pachterlab/LSCHWCP_2023/main/Notebooks/align_macaque_PBMC_data/bustools_onlist.txt"
      ],
      "metadata": {
        "id": "hBcvFPR7DkDt"
      },
      "id": "hBcvFPR7DkDt",
      "execution_count": null,
      "outputs": []
    },
    {
      "cell_type": "code",
      "source": [
        "out_folder = \"virus_bwa_alignment_results\""
      ],
      "metadata": {
        "id": "oVWMw5BoDvyN"
      },
      "id": "oVWMw5BoDvyN",
      "execution_count": null,
      "outputs": []
    },
    {
      "cell_type": "code",
      "execution_count": null,
      "id": "21b42c02-8149-4ec4-91e3-0d92a4ece7a1",
      "metadata": {
        "id": "21b42c02-8149-4ec4-91e3-0d92a4ece7a1"
      },
      "outputs": [],
      "source": [
        "!$kallisto bus \\\n",
        "        -i $virus_index \\\n",
        "        -o $out_folder \\\n",
        "        --aa \\\n",
        "        -t $threads \\\n",
        "        -B $sample_batch_file \\\n",
        "        --batch-barcodes \\\n",
        "        -x 0,0,12:0,12,20:1,0,0"
      ]
    },
    {
      "cell_type": "code",
      "execution_count": null,
      "id": "0fb6a377-5005-499c-8292-71069d14f1b2",
      "metadata": {
        "id": "0fb6a377-5005-499c-8292-71069d14f1b2"
      },
      "outputs": [],
      "source": [
        "%%time\n",
        "!$bustools sort \\\n",
        "    -m 4G \\\n",
        "    -t $threads \\\n",
        "    -o $out_folder/output_sorted.bus \\\n",
        "    $out_folder/output.bus\n",
        "\n",
        "!$bustools correct \\\n",
        "    -w bustools_onlist.txt \\\n",
        "    -o $out_folder/output_sorted_corrected.bus \\\n",
        "    $out_folder/output_sorted.bus\n",
        "\n",
        "!$bustools sort \\\n",
        "    -m 4G \\\n",
        "    -t $threads \\\n",
        "    -o $out_folder/output_sorted_corrected_sorted.bus \\\n",
        "    $out_folder/output_sorted_corrected.bus\n",
        "\n",
        "!$bustools count \\\n",
        "    --genecounts \\\n",
        "    -o $out_folder/bustools_count/ \\\n",
        "    -g $virus_t2g \\\n",
        "    -e $out_folder/matrix.ec \\\n",
        "    -t $out_folder/transcripts.txt \\\n",
        "    $out_folder/output_sorted_corrected_sorted.bus"
      ]
    },
    {
      "cell_type": "code",
      "execution_count": null,
      "id": "f92ad4b4-171b-4cc1-82b8-2238521e2167",
      "metadata": {
        "id": "f92ad4b4-171b-4cc1-82b8-2238521e2167"
      },
      "outputs": [],
      "source": []
    }
  ],
  "metadata": {
    "kernelspec": {
      "display_name": "Python 3 (ipykernel)",
      "language": "python",
      "name": "python3"
    },
    "language_info": {
      "codemirror_mode": {
        "name": "ipython",
        "version": 3
      },
      "file_extension": ".py",
      "mimetype": "text/x-python",
      "name": "python",
      "nbconvert_exporter": "python",
      "pygments_lexer": "ipython3",
      "version": "3.9.12"
    },
    "colab": {
      "provenance": [],
      "include_colab_link": true
    }
  },
  "nbformat": 4,
  "nbformat_minor": 5
}