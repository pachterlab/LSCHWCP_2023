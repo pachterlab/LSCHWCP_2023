{
  "cells": [
    {
      "cell_type": "markdown",
      "metadata": {
        "id": "view-in-github",
        "colab_type": "text"
      },
      "source": [
        "<a href=\"https://colab.research.google.com/github/pachterlab/LSCHWCP_2023/blob/main/Notebooks/align_macaque_PBMC_data/8_virus_bwa/1_remove_host_reads_with_bwa.ipynb\" target=\"_parent\"><img src=\"https://colab.research.google.com/assets/colab-badge.svg\" alt=\"Open In Colab\"/></a>"
      ]
    },
    {
      "cell_type": "markdown",
      "id": "8b82213e-33f8-48ba-a3f9-17ff197ef91c",
      "metadata": {
        "id": "8b82213e-33f8-48ba-a3f9-17ff197ef91c"
      },
      "source": [
        "# Install [bwa](https://github.com/lh3/bwa)"
      ]
    },
    {
      "cell_type": "code",
      "execution_count": null,
      "id": "3616745c-84aa-43fd-9d1b-b7d8aa6953ad",
      "metadata": {
        "id": "3616745c-84aa-43fd-9d1b-b7d8aa6953ad"
      },
      "outputs": [],
      "source": [
        "!git clone https://github.com/lh3/bwa.git\n",
        "!cd bwa; make\n",
        "bwa = \"bwa/bwa\""
      ]
    },
    {
      "cell_type": "markdown",
      "source": [
        "# Install [seqtk](https://github.com/lh3/seqtk)"
      ],
      "metadata": {
        "id": "9TTXYOun07V5"
      },
      "id": "9TTXYOun07V5"
    },
    {
      "cell_type": "code",
      "source": [
        "!git clone https://github.com/lh3/seqtk.git\n",
        "!cd seqtk; make\n",
        "seqtk = \"seqtk/seqtk\""
      ],
      "metadata": {
        "id": "xdrrfTqR062v"
      },
      "id": "xdrrfTqR062v",
      "execution_count": null,
      "outputs": []
    },
    {
      "cell_type": "markdown",
      "source": [
        "# Install [Samtools](https://www.htslib.org/)"
      ],
      "metadata": {
        "id": "eChIICAZ2JQq"
      },
      "id": "eChIICAZ2JQq"
    },
    {
      "cell_type": "code",
      "source": [
        "!wget https://github.com/samtools/samtools/releases/download/1.6/samtools-1.6.tar.bz2\n",
        "!tar -vxjf samtools-1.6.tar.bz2\n",
        "!cd samtools-1.6; make\n",
        "samtools = \"samtools/samtools\""
      ],
      "metadata": {
        "id": "N-uokmH62HUT"
      },
      "id": "N-uokmH62HUT",
      "execution_count": null,
      "outputs": []
    },
    {
      "cell_type": "markdown",
      "id": "1b589844-7af1-4729-adfe-b2e97e05e216",
      "metadata": {
        "id": "1b589844-7af1-4729-adfe-b2e97e05e216"
      },
      "source": [
        "# Create bwa index using macaque and dog genomes"
      ]
    },
    {
      "cell_type": "code",
      "source": [
        "# Download macaque and dog reference genomes and gtf files\n",
        "!gget ref -w dna -r 110 -d macaca_mulatta\n",
        "!gget ref -w dna -r 110 -d canis_lupus_familiaris\n",
        "\n",
        "combined_genomes = \"combined_genomes.dna.toplevel.fa\"\n",
        "!cat \"Macaca_mulatta.Mmul_10.dna.toplevel.fa.gz\" \"Canis_lupus_familiaris.ROS_Cfam_1.0.dna.toplevel.fa.gz\" > $combined_genomes"
      ],
      "metadata": {
        "id": "GSj9cybF0f3_"
      },
      "id": "GSj9cybF0f3_",
      "execution_count": null,
      "outputs": []
    },
    {
      "cell_type": "code",
      "execution_count": null,
      "id": "3d08b814-c874-4f3a-8f6f-28f46a26ebef",
      "metadata": {
        "id": "3d08b814-c874-4f3a-8f6f-28f46a26ebef"
      },
      "outputs": [],
      "source": [
        "%%time\n",
        "!$bwa index $combined_genomes"
      ]
    },
    {
      "cell_type": "markdown",
      "id": "07cc2324-1c09-4186-a275-0a34773d0cab",
      "metadata": {
        "id": "07cc2324-1c09-4186-a275-0a34773d0cab"
      },
      "source": [
        "# Align sequences"
      ]
    },
    {
      "cell_type": "code",
      "execution_count": null,
      "id": "3441a6d9-c833-4286-83f1-1a7993d3bf3c",
      "metadata": {
        "id": "3441a6d9-c833-4286-83f1-1a7993d3bf3c"
      },
      "outputs": [],
      "source": [
        "!pip install -q ffq\n",
        "import json\n",
        "import os\n",
        "import glob\n",
        "from tqdm import tqdm\n",
        "\n",
        "TQDM_BAR_FORMAT = (\n",
        "    \"{l_bar}{bar}| {n_fmt}/{total_fmt} [elapsed: {elapsed} remaining: {remaining}]\"\n",
        ")"
      ]
    },
    {
      "cell_type": "markdown",
      "source": [
        "Download raw sequencing data:"
      ],
      "metadata": {
        "id": "gLl072Xc3iMY"
      },
      "id": "gLl072Xc3iMY"
    },
    {
      "cell_type": "code",
      "execution_count": null,
      "id": "394d53fc-0c08-4be3-aca3-67fe693c9129",
      "metadata": {
        "id": "394d53fc-0c08-4be3-aca3-67fe693c9129"
      },
      "outputs": [],
      "source": [
        "# Use ffq to get all FTP download links\n",
        "out = \"GSE158390_data.json\"\n",
        "!ffq GSE158390 --ftp -o $out\n",
        "\n",
        "f = open(out)\n",
        "data = json.load(f)\n",
        "f.close()\n",
        "\n",
        "print(len(data))\n",
        "\n",
        "# # Download the complete dataset (106 paired fastqs containing a total of 30 billion reads)\n",
        "# for dataset in data:\n",
        "#     url = dataset[\"url\"]\n",
        "#     !curl -O $url\n",
        "\n",
        "# Download only two datasets to demonstrate this notebook\n",
        "for dataset in data[:2]:\n",
        "    url = dataset[\"url\"]\n",
        "    !curl -O $url"
      ]
    },
    {
      "cell_type": "markdown",
      "source": [
        "Align data to the comined macaque and dog genome using bwa:"
      ],
      "metadata": {
        "id": "hpBPAtgJ3vei"
      },
      "id": "hpBPAtgJ3vei"
    },
    {
      "cell_type": "code",
      "source": [
        "bwa_outfolder = \"bwa_unmapped_reads\"\n",
        "!mkdir $bwa_outfolder\n",
        "\n",
        "filenames = glob.glob(\"*_2.fastq.gz\")\n",
        "\n",
        "len(filenames)"
      ],
      "metadata": {
        "id": "6LqR4qM33tDa"
      },
      "id": "6LqR4qM33tDa",
      "execution_count": null,
      "outputs": []
    },
    {
      "cell_type": "code",
      "source": [
        "# Number of threads to use during alignment\n",
        "threads = 8"
      ],
      "metadata": {
        "id": "PB6wmG4u4ILz"
      },
      "id": "PB6wmG4u4ILz",
      "execution_count": null,
      "outputs": []
    },
    {
      "cell_type": "code",
      "execution_count": null,
      "id": "75b02bb4-5905-41fa-9caa-6d030725c631",
      "metadata": {
        "id": "75b02bb4-5905-41fa-9caa-6d030725c631"
      },
      "outputs": [],
      "source": [
        "%%time\n",
        "processed_srrs = [i.split(\"/\")[-1].split(\".sam.gz\")[0] for i in glob.glob(f\"{bwa_outfolder}/*.sam.gz\")]\n",
        "\n",
        "with tqdm(total=len(filenames), bar_format=TQDM_BAR_FORMAT) as pbar:\n",
        "    pbar.set_description(\"Files processed\")\n",
        "    for file in filenames:\n",
        "        # Check if file was already processed\n",
        "        if file.split(\"/\")[-1].split(\".fastq.gz\")[0] not in processed_srrs:\n",
        "            print(file.split(\"/\")[-1].split(\".fastq.gz\")[0])\n",
        "            bwa_out = f\"{bwa_outfolder}/{file.split('/')[-1].replace('.fastq.gz', '')}.sam.gz\"\n",
        "            sam_out = f\"{bwa_outfolder}/{file.split('/')[-1].replace('.fastq.gz', '')}_unmapped.txt\"\n",
        "            new_file = f\"{bwa_outfolder}/raw/{file.split('/')[-1].replace('.gz', '')}\"\n",
        "\n",
        "            # Align to reference using bwa\n",
        "            !$bwa mem \\\n",
        "                -t $threads \\\n",
        "                $canine_macaque_fasta \\\n",
        "                $file | gzip -3 > $bwa_out\n",
        "\n",
        "            # Get names of all UNMAPPED reads using samtools\n",
        "            !samtools view \\\n",
        "                --threads $threads \\\n",
        "                -f 4 \\\n",
        "                $bwa_out | cut -f 1 > $sam_out\n",
        "\n",
        "            # Create new fastq file including only UNMAPPED sequences using seqtk\n",
        "            !$seqtk subseq $file $sam_out > $new_file\n",
        "\n",
        "            pbar.update(n=1)"
      ]
    },
    {
      "cell_type": "markdown",
      "id": "ef561fed-f04d-48ff-95ec-402cb690b510",
      "metadata": {
        "id": "ef561fed-f04d-48ff-95ec-402cb690b510"
      },
      "source": [
        "Also remove reads from barcode files:"
      ]
    },
    {
      "cell_type": "code",
      "execution_count": null,
      "id": "f1ba5615-b6b3-43fc-bd81-ea8a6805608d",
      "metadata": {
        "id": "f1ba5615-b6b3-43fc-bd81-ea8a6805608d"
      },
      "outputs": [],
      "source": [
        "%%time\n",
        "barcode_files = glob.glob(f\"*_1.fastq.gz\")\n",
        "\n",
        "with tqdm(total=len(filenames), bar_format=TQDM_BAR_FORMAT) as pbar:\n",
        "    pbar.set_description(\"Barcode files processed\")\n",
        "\n",
        "    for bc_file in barcode_files:\n",
        "        sam_out = f\"{bwa_outfolder}/{bc_file.split('/')[-1].replace('.fastq.gz', '').replace('_1', '_2')}_unmapped.txt\"\n",
        "        new_bc_file = f\"{bwa_outfolder}/raw/{bc_file.split('/')[-1].replace('.gz', '')}\"\n",
        "\n",
        "        # Create new fastq file including only unmapped sequences\n",
        "        !$seqtk subseq $bc_file $sam_out > $new_bc_file\n",
        "\n",
        "        pbar.update(n=1)"
      ]
    },
    {
      "cell_type": "code",
      "execution_count": null,
      "id": "31af5401-8753-4782-8933-331193e639bf",
      "metadata": {
        "id": "31af5401-8753-4782-8933-331193e639bf"
      },
      "outputs": [],
      "source": []
    }
  ],
  "metadata": {
    "kernelspec": {
      "display_name": "Python 3 (ipykernel)",
      "language": "python",
      "name": "python3"
    },
    "language_info": {
      "codemirror_mode": {
        "name": "ipython",
        "version": 3
      },
      "file_extension": ".py",
      "mimetype": "text/x-python",
      "name": "python",
      "nbconvert_exporter": "python",
      "pygments_lexer": "ipython3",
      "version": "3.9.12"
    },
    "colab": {
      "provenance": [],
      "include_colab_link": true
    }
  },
  "nbformat": 4,
  "nbformat_minor": 5
}