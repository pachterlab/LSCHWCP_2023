{
 "cells": [
  {
   "cell_type": "markdown",
   "id": "e8ef6419-dd14-4729-9ea2-cb9fa4796794",
   "metadata": {},
   "source": [
    "# Align to combined macaque and canine reference"
   ]
  },
  {
   "cell_type": "code",
   "execution_count": 2,
   "id": "a4824ed9-3ed9-4bea-9142-0325580190be",
   "metadata": {},
   "outputs": [],
   "source": [
    "bp = \"PRJNA665227\"\n",
    "fastq_folder = f\"/home/laura/projects/virus-watch-data/{bp}/raw\"\n",
    "sample_batch_file = f\"{fastq_folder}/batch.txt\""
   ]
  },
  {
   "cell_type": "code",
   "execution_count": 11,
   "id": "09c83abf-5137-443e-b9df-1f7066110955",
   "metadata": {},
   "outputs": [],
   "source": [
    "# Ensembl version 110\n",
    "canine_cdna = \"/home/laura/projects/virus-watch-data/canine_ref/Canis_lupus_familiaris.ROS_Cfam_1.0.cdna.all.fa.gz\"\n",
    "canine_cdna_amb = \"/home/laura/projects/virus-watch-data/canine_ref/ambigious_Canis_lupus_familiaris.ROS_Cfam_1.0.cdna.all.fa.gz\"\n",
    "macaque_cdna = \"/home/laura/projects/virus-watch-data/rhesus_ref/Macaca_mulatta.Mmul_10.cdna.all.fa.gz\"\n",
    "macaque_cdna_amb = \"/home/laura/projects/virus-watch-data/rhesus_ref/ambigious_Macaca_mulatta.Mmul_10.cdna.all.fa.gz\"\n",
    "# Ensembl version 109\n",
    "canine_dna = \"/home/laura/projects/virus-watch-data/canine_ref/Canis_lupus_familiaris.ROS_Cfam_1.0.dna.toplevel.fa.gz\"\n",
    "canine_dna_amb = \"/home/laura/projects/virus-watch-data/canine_ref/ambigious_Canis_lupus_familiaris.ROS_Cfam_1.0.dna.toplevel.fa.gz\"\n",
    "macaque_dna = \"/home/laura/projects/virus-watch-data/rhesus_ref/Macaca_mulatta.Mmul_10.dna.toplevel.fa.gz\"\n",
    "macaque_dna_amb = \"/home/laura/projects/virus-watch-data/rhesus_ref/ambigious_Macaca_mulatta.Mmul_10.dna.toplevel.fa.gz\"\n",
    "\n",
    "canine_macaque_fasta = \"/home/laura/projects/virus-watch-data/canine_macaque_ref/combined.cdna_dna_ambigious.fa.gz\"\n",
    "\n",
    "kallisto = \"/home/laura/projects/kallisto/build/src/kallisto\"\n",
    "bustools = \"/home/laura/projects/bustools/build/src/bustools\""
   ]
  },
  {
   "cell_type": "markdown",
   "id": "13d0336f-1735-431b-826b-74468bed273d",
   "metadata": {},
   "source": [
    "### Align to PalmDB with new dlist implementation that also masks ambigious kmers (kallisto in branch new2)"
   ]
  },
  {
   "cell_type": "markdown",
   "id": "20291fe9-e15d-4b74-af23-715235d294f1",
   "metadata": {},
   "source": [
    "Create dlist files:"
   ]
  },
  {
   "cell_type": "code",
   "execution_count": 12,
   "id": "41522ecf-9536-4ca2-b94e-f7cabd1bea49",
   "metadata": {},
   "outputs": [
    {
     "name": "stdout",
     "output_type": "stream",
     "text": [
      "CPU times: user 21.4 s, sys: 4.82 s, total: 26.2 s\n",
      "Wall time: 19min 59s\n"
     ]
    }
   ],
   "source": [
    "%%time\n",
    "# Replace all headers from \">string\" to \">>\" to tell kallisto we want to extract ambigious kmers from these\n",
    "!gzip -dc $canine_cdna | sed '/^>/ s/.*/>>/' | gzip -c > $canine_cdna_amb\n",
    "!gzip -dc $macaque_cdna | sed '/^>/ s/.*/>>/' | gzip -c > $macaque_cdna_amb\n",
    "!gzip -dc $canine_dna | sed '/^>/ s/.*/>>/' | gzip -c > $canine_dna_amb\n",
    "!gzip -dc $macaque_dna | sed '/^>/ s/.*/>>/' | gzip -c > $macaque_dna_amb"
   ]
  },
  {
   "cell_type": "code",
   "execution_count": 13,
   "id": "38514414-a64c-43d2-8f3c-46a7cb19682f",
   "metadata": {},
   "outputs": [
    {
     "name": "stdout",
     "output_type": "stream",
     "text": [
      "CPU times: user 57.9 ms, sys: 14.2 ms, total: 72.1 ms\n",
      "Wall time: 3.24 s\n"
     ]
    }
   ],
   "source": [
    "%%time\n",
    "# Concatenate normal + ambigious cdna and dna from macaque and dog\n",
    "!cat $canine_cdna $macaque_cdna $canine_dna $macaque_dna $canine_cdna_amb $macaque_cdna_amb $canine_dna_amb $macaque_dna_amb > $canine_macaque_fasta"
   ]
  },
  {
   "cell_type": "markdown",
   "id": "1ab61263-64f3-4a03-b909-e8d4a990cfa4",
   "metadata": {},
   "source": [
    "Generate virus index:"
   ]
  },
  {
   "cell_type": "code",
   "execution_count": 14,
   "id": "db743ece-2f41-4b6d-b828-b6aaef4d03a3",
   "metadata": {},
   "outputs": [],
   "source": [
    "virus_fasta = \"/home/laura/projects/virus-watch-data/virus_ref/uniques_noduplicates.fa\"\n",
    "virus_index = \"/home/laura/projects/virus-watch-data/virus_ref/kallisto_aa/noduplicates_rhesus_canine_cdna_dna_ambigious.idx\"\n",
    "virus_t2g = \"/home/laura/projects/virus-watch-data/virus_ref/nodup_clu_t2g.txt\""
   ]
  },
  {
   "cell_type": "code",
   "execution_count": 23,
   "id": "227af422-8b38-4c62-9835-d11c5682c715",
   "metadata": {},
   "outputs": [
    {
     "name": "stdout",
     "output_type": "stream",
     "text": [
      "\n",
      "[index] --d-list-overhang was set to 3 (with --aa, the d-list overhang must be >= 3)\n",
      "[build] loading fasta file /home/laura/projects/virus-watch-data/virus_ref/uniques_noduplicates.fa\n",
      "[build] k-mer length: 31\n",
      "KmerStream::KmerStream(): Start computing k-mer cardinality estimations (1/2)\n",
      "KmerStream::KmerStream(): Start computing k-mer cardinality estimations (1/2)\n",
      "KmerStream::KmerStream(): Finished\n",
      "CompactedDBG::build(): Estimated number of k-mers occurring at least once: 37641510\n",
      "CompactedDBG::build(): Estimated number of minimizer occurring at least once: 7877811\n",
      "CompactedDBG::filter(): Processed 87630084 k-mers in 296561 reads\n",
      "CompactedDBG::filter(): Found 37508840 unique k-mers\n",
      "CompactedDBG::filter(): Number of blocks in Bloom filter is 257317\n",
      "CompactedDBG::construct(): Extract approximate unitigs (1/2)\n",
      "CompactedDBG::construct(): Extract approximate unitigs (2/2)\n",
      "CompactedDBG::construct(): Closed all input files\n",
      "\n",
      "CompactedDBG::construct(): Splitting unitigs (1/2)\n",
      "\n",
      "CompactedDBG::construct(): Splitting unitigs (2/2)\n",
      "CompactedDBG::construct(): Before split: 2040511 unitigs\n",
      "CompactedDBG::construct(): After split (1/1): 2040511 unitigs\n",
      "CompactedDBG::construct(): Unitigs split: 1566\n",
      "CompactedDBG::construct(): Unitigs deleted: 0\n",
      "\n",
      "CompactedDBG::construct(): Joining unitigs\n",
      "CompactedDBG::construct(): After join: 2021701 unitigs\n",
      "CompactedDBG::construct(): Joined 19171 unitigs\n",
      "[build] extracting D-list k-mers from \"/home/laura/projects/virus-watch-data/canine_macaque_ref/combined.cdna_dna_ambigious.fa.gz\"\n",
      "[build] identified 90815 distinguishing flanking k-mers\n",
      "[build] building MPHF\n",
      "[build] creating equivalence classes ... \n",
      "[build] target de Bruijn graph has k-mer length 31 and minimizer length 23\n",
      "[build] target de Bruijn graph has 2021702 contigs and contains 37541757 k-mers \n",
      "\n",
      "\tCommand being timed: \"/home/laura/projects/kallisto/build/src/kallisto index -t 30 --aa --d-list=/home/laura/projects/virus-watch-data/canine_macaque_ref/combined.cdna_dna_ambigious.fa.gz -i /home/laura/projects/virus-watch-data/virus_ref/kallisto_aa/noduplicates_rhesus_canine_cdna_dna_ambigious.idx /home/laura/projects/virus-watch-data/virus_ref/uniques_noduplicates.fa\"\n",
      "\tUser time (seconds): 20499.16\n",
      "\tSystem time (seconds): 337.60\n",
      "\tPercent of CPU this job got: 159%\n",
      "\tElapsed (wall clock) time (h:mm:ss or m:ss): 3:37:50\n",
      "\tAverage shared text size (kbytes): 0\n",
      "\tAverage unshared data size (kbytes): 0\n",
      "\tAverage stack size (kbytes): 0\n",
      "\tAverage total size (kbytes): 0\n",
      "\tMaximum resident set size (kbytes): 5090672\n",
      "\tAverage resident set size (kbytes): 0\n",
      "\tMajor (requiring I/O) page faults: 0\n",
      "\tMinor (reclaiming a frame) page faults: 112879296\n",
      "\tVoluntary context switches: 104912\n",
      "\tInvoluntary context switches: 15680\n",
      "\tSwaps: 0\n",
      "\tFile system inputs: 520\n",
      "\tFile system outputs: 199643320\n",
      "\tSocket messages sent: 0\n",
      "\tSocket messages received: 0\n",
      "\tSignals delivered: 0\n",
      "\tPage size (bytes): 4096\n",
      "\tExit status: 0\n"
     ]
    }
   ],
   "source": [
    "# Generate virus reference index (with default d-list-overhang = 3)\n",
    "!/usr/bin/time -v $kallisto index \\\n",
    "    -t 30 \\\n",
    "    --aa \\\n",
    "    --d-list=$canine_macaque_fasta \\\n",
    "    -i $virus_index \\\n",
    "    $virus_fasta"
   ]
  },
  {
   "cell_type": "markdown",
   "id": "7faf8797-a842-4254-8741-8f7923223563",
   "metadata": {},
   "source": [
    "Align to PalmDB and correct barcodes using host onlist:"
   ]
  },
  {
   "cell_type": "code",
   "execution_count": 24,
   "id": "d834169c-5dda-486a-8ae5-b29572d7f9d1",
   "metadata": {},
   "outputs": [],
   "source": [
    "out_folder = f\"{fastq_folder}/../full_index_dna_cdna_amb/virus\""
   ]
  },
  {
   "cell_type": "code",
   "execution_count": 25,
   "id": "ba0e4621-fd11-4ef3-aaa5-84fddd61c7ff",
   "metadata": {},
   "outputs": [
    {
     "data": {
      "text/plain": [
       "'/home/laura/projects/virus-watch-data/PRJNA665227/raw/batch.txt'"
      ]
     },
     "execution_count": 25,
     "metadata": {},
     "output_type": "execute_result"
    }
   ],
   "source": [
    "sample_batch_file"
   ]
  },
  {
   "cell_type": "code",
   "execution_count": 26,
   "id": "1be8eee3-0a2f-4b12-8454-7f150ad560a1",
   "metadata": {},
   "outputs": [
    {
     "name": "stdout",
     "output_type": "stream",
     "text": [
      "\n",
      "[bus] will try running read files supplied in batch file\n",
      "[bus] Note: Strand option was not specified; setting it to --unstranded for specified technology\n",
      "[index] k-mer length: 31\n",
      "[index] number of targets: 296,561\n",
      "[index] number of k-mers: 37,541,757\n",
      "[index] number of D-list k-mers: 90,815\n",
      "[quant] running in single-end mode\n",
      "[quant] will process file 1: /home/laura/projects/virus-watch-data/PRJNA665227/raw/SRR12698516_1.fastq.gz\n",
      "[quant] will process file 2: /home/laura/projects/virus-watch-data/PRJNA665227/raw/SRR12698516_2.fastq.gz\n",
      "[quant] will process file 1: /home/laura/projects/virus-watch-data/PRJNA665227/raw/SRR12698524_1.fastq.gz\n",
      "[quant] will process file 2: /home/laura/projects/virus-watch-data/PRJNA665227/raw/SRR12698524_2.fastq.gz\n",
      "[quant] will process file 1: /home/laura/projects/virus-watch-data/PRJNA665227/raw/SRR12698536_1.fastq.gz\n",
      "[quant] will process file 2: /home/laura/projects/virus-watch-data/PRJNA665227/raw/SRR12698536_2.fastq.gz\n",
      "[quant] will process file 1: /home/laura/projects/virus-watch-data/PRJNA665227/raw/SRR12698560_1.fastq.gz\n",
      "[quant] will process file 2: /home/laura/projects/virus-watch-data/PRJNA665227/raw/SRR12698560_2.fastq.gz\n",
      "[quant] will process file 1: /home/laura/projects/virus-watch-data/PRJNA665227/raw/SRR12698542_1.fastq.gz\n",
      "[quant] will process file 2: /home/laura/projects/virus-watch-data/PRJNA665227/raw/SRR12698542_2.fastq.gz\n",
      "[quant] will process file 1: /home/laura/projects/virus-watch-data/PRJNA665227/raw/SRR12698571_1.fastq.gz\n",
      "[quant] will process file 2: /home/laura/projects/virus-watch-data/PRJNA665227/raw/SRR12698571_2.fastq.gz\n",
      "[quant] will process file 1: /home/laura/projects/virus-watch-data/PRJNA665227/raw/SRR12698569_1.fastq.gz\n",
      "[quant] will process file 2: /home/laura/projects/virus-watch-data/PRJNA665227/raw/SRR12698569_2.fastq.gz\n",
      "[quant] will process file 1: /home/laura/projects/virus-watch-data/PRJNA665227/raw/SRR12698518_1.fastq.gz\n",
      "[quant] will process file 2: /home/laura/projects/virus-watch-data/PRJNA665227/raw/SRR12698518_2.fastq.gz\n",
      "[quant] will process file 1: /home/laura/projects/virus-watch-data/PRJNA665227/raw/SRR12698541_1.fastq.gz\n",
      "[quant] will process file 2: /home/laura/projects/virus-watch-data/PRJNA665227/raw/SRR12698541_2.fastq.gz\n",
      "[quant] will process file 1: /home/laura/projects/virus-watch-data/PRJNA665227/raw/SRR12698556_1.fastq.gz\n",
      "[quant] will process file 2: /home/laura/projects/virus-watch-data/PRJNA665227/raw/SRR12698556_2.fastq.gz\n",
      "[quant] will process file 1: /home/laura/projects/virus-watch-data/PRJNA665227/raw/SRR12698573_1.fastq.gz\n",
      "[quant] will process file 2: /home/laura/projects/virus-watch-data/PRJNA665227/raw/SRR12698573_2.fastq.gz\n",
      "[quant] will process file 1: /home/laura/projects/virus-watch-data/PRJNA665227/raw/SRR12698520_1.fastq.gz\n",
      "[quant] will process file 2: /home/laura/projects/virus-watch-data/PRJNA665227/raw/SRR12698520_2.fastq.gz\n",
      "[quant] will process file 1: /home/laura/projects/virus-watch-data/PRJNA665227/raw/SRR12698507_1.fastq.gz\n",
      "[quant] will process file 2: /home/laura/projects/virus-watch-data/PRJNA665227/raw/SRR12698507_2.fastq.gz\n",
      "[quant] will process file 1: /home/laura/projects/virus-watch-data/PRJNA665227/raw/SRR12698528_1.fastq.gz\n",
      "[quant] will process file 2: /home/laura/projects/virus-watch-data/PRJNA665227/raw/SRR12698528_2.fastq.gz\n",
      "[quant] will process file 1: /home/laura/projects/virus-watch-data/PRJNA665227/raw/SRR12698581_1.fastq.gz\n",
      "[quant] will process file 2: /home/laura/projects/virus-watch-data/PRJNA665227/raw/SRR12698581_2.fastq.gz\n",
      "[quant] will process file 1: /home/laura/projects/virus-watch-data/PRJNA665227/raw/SRR12698501_1.fastq.gz\n",
      "[quant] will process file 2: /home/laura/projects/virus-watch-data/PRJNA665227/raw/SRR12698501_2.fastq.gz\n",
      "[quant] will process file 1: /home/laura/projects/virus-watch-data/PRJNA665227/raw/SRR12698523_1.fastq.gz\n",
      "[quant] will process file 2: /home/laura/projects/virus-watch-data/PRJNA665227/raw/SRR12698523_2.fastq.gz\n",
      "[quant] will process file 1: /home/laura/projects/virus-watch-data/PRJNA665227/raw/SRR12698530_1.fastq.gz\n",
      "[quant] will process file 2: /home/laura/projects/virus-watch-data/PRJNA665227/raw/SRR12698530_2.fastq.gz\n",
      "[quant] will process file 1: /home/laura/projects/virus-watch-data/PRJNA665227/raw/SRR12698583_1.fastq.gz\n",
      "[quant] will process file 2: /home/laura/projects/virus-watch-data/PRJNA665227/raw/SRR12698583_2.fastq.gz\n",
      "[quant] will process file 1: /home/laura/projects/virus-watch-data/PRJNA665227/raw/SRR12698500_1.fastq.gz\n",
      "[quant] will process file 2: /home/laura/projects/virus-watch-data/PRJNA665227/raw/SRR12698500_2.fastq.gz\n",
      "[quant] will process file 1: /home/laura/projects/virus-watch-data/PRJNA665227/raw/SRR12698601_1.fastq.gz\n",
      "[quant] will process file 2: /home/laura/projects/virus-watch-data/PRJNA665227/raw/SRR12698601_2.fastq.gz\n",
      "[quant] will process file 1: /home/laura/projects/virus-watch-data/PRJNA665227/raw/SRR12698592_1.fastq.gz\n",
      "[quant] will process file 2: /home/laura/projects/virus-watch-data/PRJNA665227/raw/SRR12698592_2.fastq.gz\n",
      "[quant] will process file 1: /home/laura/projects/virus-watch-data/PRJNA665227/raw/SRR12698519_1.fastq.gz\n",
      "[quant] will process file 2: /home/laura/projects/virus-watch-data/PRJNA665227/raw/SRR12698519_2.fastq.gz\n",
      "[quant] will process file 1: /home/laura/projects/virus-watch-data/PRJNA665227/raw/SRR12698510_1.fastq.gz\n",
      "[quant] will process file 2: /home/laura/projects/virus-watch-data/PRJNA665227/raw/SRR12698510_2.fastq.gz\n",
      "[quant] will process file 1: /home/laura/projects/virus-watch-data/PRJNA665227/raw/SRR12698544_1.fastq.gz\n",
      "[quant] will process file 2: /home/laura/projects/virus-watch-data/PRJNA665227/raw/SRR12698544_2.fastq.gz\n",
      "[quant] will process file 1: /home/laura/projects/virus-watch-data/PRJNA665227/raw/SRR12698551_1.fastq.gz\n",
      "[quant] will process file 2: /home/laura/projects/virus-watch-data/PRJNA665227/raw/SRR12698551_2.fastq.gz\n",
      "[quant] will process file 1: /home/laura/projects/virus-watch-data/PRJNA665227/raw/SRR12698555_1.fastq.gz\n",
      "[quant] will process file 2: /home/laura/projects/virus-watch-data/PRJNA665227/raw/SRR12698555_2.fastq.gz\n",
      "[quant] will process file 1: /home/laura/projects/virus-watch-data/PRJNA665227/raw/SRR12698546_1.fastq.gz\n",
      "[quant] will process file 2: /home/laura/projects/virus-watch-data/PRJNA665227/raw/SRR12698546_2.fastq.gz\n",
      "[quant] will process file 1: /home/laura/projects/virus-watch-data/PRJNA665227/raw/SRR12698570_1.fastq.gz\n",
      "[quant] will process file 2: /home/laura/projects/virus-watch-data/PRJNA665227/raw/SRR12698570_2.fastq.gz\n",
      "[quant] will process file 1: /home/laura/projects/virus-watch-data/PRJNA665227/raw/SRR12698499_1.fastq.gz\n",
      "[quant] will process file 2: /home/laura/projects/virus-watch-data/PRJNA665227/raw/SRR12698499_2.fastq.gz\n",
      "[quant] will process file 1: /home/laura/projects/virus-watch-data/PRJNA665227/raw/SRR12698563_1.fastq.gz\n",
      "[quant] will process file 2: /home/laura/projects/virus-watch-data/PRJNA665227/raw/SRR12698563_2.fastq.gz\n",
      "[quant] will process file 1: /home/laura/projects/virus-watch-data/PRJNA665227/raw/SRR12698568_1.fastq.gz\n",
      "[quant] will process file 2: /home/laura/projects/virus-watch-data/PRJNA665227/raw/SRR12698568_2.fastq.gz\n",
      "[quant] will process file 1: /home/laura/projects/virus-watch-data/PRJNA665227/raw/SRR12698593_1.fastq.gz\n",
      "[quant] will process file 2: /home/laura/projects/virus-watch-data/PRJNA665227/raw/SRR12698593_2.fastq.gz\n",
      "[quant] will process file 1: /home/laura/projects/virus-watch-data/PRJNA665227/raw/SRR12698603_1.fastq.gz\n",
      "[quant] will process file 2: /home/laura/projects/virus-watch-data/PRJNA665227/raw/SRR12698603_2.fastq.gz\n",
      "[quant] will process file 1: /home/laura/projects/virus-watch-data/PRJNA665227/raw/SRR12698515_1.fastq.gz\n",
      "[quant] will process file 2: /home/laura/projects/virus-watch-data/PRJNA665227/raw/SRR12698515_2.fastq.gz\n",
      "[quant] will process file 1: /home/laura/projects/virus-watch-data/PRJNA665227/raw/SRR12698561_1.fastq.gz\n",
      "[quant] will process file 2: /home/laura/projects/virus-watch-data/PRJNA665227/raw/SRR12698561_2.fastq.gz\n",
      "[quant] will process file 1: /home/laura/projects/virus-watch-data/PRJNA665227/raw/SRR12698545_1.fastq.gz\n",
      "[quant] will process file 2: /home/laura/projects/virus-watch-data/PRJNA665227/raw/SRR12698545_2.fastq.gz\n",
      "[quant] will process file 1: /home/laura/projects/virus-watch-data/PRJNA665227/raw/SRR12698549_1.fastq.gz\n",
      "[quant] will process file 2: /home/laura/projects/virus-watch-data/PRJNA665227/raw/SRR12698549_2.fastq.gz\n",
      "[quant] will process file 1: /home/laura/projects/virus-watch-data/PRJNA665227/raw/SRR12698538_1.fastq.gz\n",
      "[quant] will process file 2: /home/laura/projects/virus-watch-data/PRJNA665227/raw/SRR12698538_2.fastq.gz\n",
      "[quant] will process file 1: /home/laura/projects/virus-watch-data/PRJNA665227/raw/SRR12698554_1.fastq.gz\n",
      "[quant] will process file 2: /home/laura/projects/virus-watch-data/PRJNA665227/raw/SRR12698554_2.fastq.gz\n",
      "[quant] will process file 1: /home/laura/projects/virus-watch-data/PRJNA665227/raw/SRR12698565_1.fastq.gz\n",
      "[quant] will process file 2: /home/laura/projects/virus-watch-data/PRJNA665227/raw/SRR12698565_2.fastq.gz\n",
      "[quant] will process file 1: /home/laura/projects/virus-watch-data/PRJNA665227/raw/SRR12698535_1.fastq.gz\n",
      "[quant] will process file 2: /home/laura/projects/virus-watch-data/PRJNA665227/raw/SRR12698535_2.fastq.gz\n",
      "[quant] will process file 1: /home/laura/projects/virus-watch-data/PRJNA665227/raw/SRR12698589_1.fastq.gz\n",
      "[quant] will process file 2: /home/laura/projects/virus-watch-data/PRJNA665227/raw/SRR12698589_2.fastq.gz\n",
      "[quant] will process file 1: /home/laura/projects/virus-watch-data/PRJNA665227/raw/SRR12698539_1.fastq.gz\n",
      "[quant] will process file 2: /home/laura/projects/virus-watch-data/PRJNA665227/raw/SRR12698539_2.fastq.gz\n",
      "[quant] will process file 1: /home/laura/projects/virus-watch-data/PRJNA665227/raw/SRR12698578_1.fastq.gz\n",
      "[quant] will process file 2: /home/laura/projects/virus-watch-data/PRJNA665227/raw/SRR12698578_2.fastq.gz\n",
      "[quant] will process file 1: /home/laura/projects/virus-watch-data/PRJNA665227/raw/SRR12698588_1.fastq.gz\n",
      "[quant] will process file 2: /home/laura/projects/virus-watch-data/PRJNA665227/raw/SRR12698588_2.fastq.gz\n",
      "[quant] will process file 1: /home/laura/projects/virus-watch-data/PRJNA665227/raw/SRR12698596_1.fastq.gz\n",
      "[quant] will process file 2: /home/laura/projects/virus-watch-data/PRJNA665227/raw/SRR12698596_2.fastq.gz\n",
      "[quant] will process file 1: /home/laura/projects/virus-watch-data/PRJNA665227/raw/SRR12698599_1.fastq.gz\n",
      "[quant] will process file 2: /home/laura/projects/virus-watch-data/PRJNA665227/raw/SRR12698599_2.fastq.gz\n",
      "[quant] will process file 1: /home/laura/projects/virus-watch-data/PRJNA665227/raw/SRR12698584_1.fastq.gz\n",
      "[quant] will process file 2: /home/laura/projects/virus-watch-data/PRJNA665227/raw/SRR12698584_2.fastq.gz\n",
      "[quant] will process file 1: /home/laura/projects/virus-watch-data/PRJNA665227/raw/SRR12698512_1.fastq.gz\n",
      "[quant] will process file 2: /home/laura/projects/virus-watch-data/PRJNA665227/raw/SRR12698512_2.fastq.gz\n",
      "[quant] will process file 1: /home/laura/projects/virus-watch-data/PRJNA665227/raw/SRR12698511_1.fastq.gz\n",
      "[quant] will process file 2: /home/laura/projects/virus-watch-data/PRJNA665227/raw/SRR12698511_2.fastq.gz\n",
      "[quant] will process file 1: /home/laura/projects/virus-watch-data/PRJNA665227/raw/SRR12698527_1.fastq.gz\n",
      "[quant] will process file 2: /home/laura/projects/virus-watch-data/PRJNA665227/raw/SRR12698527_2.fastq.gz\n",
      "[quant] will process file 1: /home/laura/projects/virus-watch-data/PRJNA665227/raw/SRR12698547_1.fastq.gz\n",
      "[quant] will process file 2: /home/laura/projects/virus-watch-data/PRJNA665227/raw/SRR12698547_2.fastq.gz\n",
      "[quant] will process file 1: /home/laura/projects/virus-watch-data/PRJNA665227/raw/SRR12698594_1.fastq.gz\n",
      "[quant] will process file 2: /home/laura/projects/virus-watch-data/PRJNA665227/raw/SRR12698594_2.fastq.gz\n",
      "[quant] will process file 1: /home/laura/projects/virus-watch-data/PRJNA665227/raw/SRR12698566_1.fastq.gz\n",
      "[quant] will process file 2: /home/laura/projects/virus-watch-data/PRJNA665227/raw/SRR12698566_2.fastq.gz\n",
      "[quant] will process file 1: /home/laura/projects/virus-watch-data/PRJNA665227/raw/SRR12698532_1.fastq.gz\n",
      "[quant] will process file 2: /home/laura/projects/virus-watch-data/PRJNA665227/raw/SRR12698532_2.fastq.gz\n",
      "[quant] will process file 1: /home/laura/projects/virus-watch-data/PRJNA665227/raw/SRR12698526_1.fastq.gz\n",
      "[quant] will process file 2: /home/laura/projects/virus-watch-data/PRJNA665227/raw/SRR12698526_2.fastq.gz\n",
      "[quant] will process file 1: /home/laura/projects/virus-watch-data/PRJNA665227/raw/SRR12698574_1.fastq.gz\n",
      "[quant] will process file 2: /home/laura/projects/virus-watch-data/PRJNA665227/raw/SRR12698574_2.fastq.gz\n",
      "[quant] will process file 1: /home/laura/projects/virus-watch-data/PRJNA665227/raw/SRR12698600_1.fastq.gz\n",
      "[quant] will process file 2: /home/laura/projects/virus-watch-data/PRJNA665227/raw/SRR12698600_2.fastq.gz\n",
      "[quant] will process file 1: /home/laura/projects/virus-watch-data/PRJNA665227/raw/SRR12698567_1.fastq.gz\n",
      "[quant] will process file 2: /home/laura/projects/virus-watch-data/PRJNA665227/raw/SRR12698567_2.fastq.gz\n",
      "[quant] will process file 1: /home/laura/projects/virus-watch-data/PRJNA665227/raw/SRR12698529_1.fastq.gz\n",
      "[quant] will process file 2: /home/laura/projects/virus-watch-data/PRJNA665227/raw/SRR12698529_2.fastq.gz\n",
      "[quant] will process file 1: /home/laura/projects/virus-watch-data/PRJNA665227/raw/SRR12698572_1.fastq.gz\n",
      "[quant] will process file 2: /home/laura/projects/virus-watch-data/PRJNA665227/raw/SRR12698572_2.fastq.gz\n",
      "[quant] will process file 1: /home/laura/projects/virus-watch-data/PRJNA665227/raw/SRR12698534_1.fastq.gz\n",
      "[quant] will process file 2: /home/laura/projects/virus-watch-data/PRJNA665227/raw/SRR12698534_2.fastq.gz\n",
      "[quant] will process file 1: /home/laura/projects/virus-watch-data/PRJNA665227/raw/SRR12698587_1.fastq.gz\n",
      "[quant] will process file 2: /home/laura/projects/virus-watch-data/PRJNA665227/raw/SRR12698587_2.fastq.gz\n",
      "[quant] will process file 1: /home/laura/projects/virus-watch-data/PRJNA665227/raw/SRR12698598_1.fastq.gz\n",
      "[quant] will process file 2: /home/laura/projects/virus-watch-data/PRJNA665227/raw/SRR12698598_2.fastq.gz\n",
      "[quant] will process file 1: /home/laura/projects/virus-watch-data/PRJNA665227/raw/SRR12698540_1.fastq.gz\n",
      "[quant] will process file 2: /home/laura/projects/virus-watch-data/PRJNA665227/raw/SRR12698540_2.fastq.gz\n",
      "[quant] will process file 1: /home/laura/projects/virus-watch-data/PRJNA665227/raw/SRR12698525_1.fastq.gz\n",
      "[quant] will process file 2: /home/laura/projects/virus-watch-data/PRJNA665227/raw/SRR12698525_2.fastq.gz\n",
      "[quant] will process file 1: /home/laura/projects/virus-watch-data/PRJNA665227/raw/SRR12698509_1.fastq.gz\n",
      "[quant] will process file 2: /home/laura/projects/virus-watch-data/PRJNA665227/raw/SRR12698509_2.fastq.gz\n",
      "[quant] will process file 1: /home/laura/projects/virus-watch-data/PRJNA665227/raw/SRR12698602_1.fastq.gz\n",
      "[quant] will process file 2: /home/laura/projects/virus-watch-data/PRJNA665227/raw/SRR12698602_2.fastq.gz\n",
      "[quant] will process file 1: /home/laura/projects/virus-watch-data/PRJNA665227/raw/SRR12698505_1.fastq.gz\n",
      "[quant] will process file 2: /home/laura/projects/virus-watch-data/PRJNA665227/raw/SRR12698505_2.fastq.gz\n",
      "[quant] will process file 1: /home/laura/projects/virus-watch-data/PRJNA665227/raw/SRR12698508_1.fastq.gz\n",
      "[quant] will process file 2: /home/laura/projects/virus-watch-data/PRJNA665227/raw/SRR12698508_2.fastq.gz\n",
      "[quant] will process file 1: /home/laura/projects/virus-watch-data/PRJNA665227/raw/SRR12698522_1.fastq.gz\n",
      "[quant] will process file 2: /home/laura/projects/virus-watch-data/PRJNA665227/raw/SRR12698522_2.fastq.gz\n",
      "[quant] will process file 1: /home/laura/projects/virus-watch-data/PRJNA665227/raw/SRR12698597_1.fastq.gz\n",
      "[quant] will process file 2: /home/laura/projects/virus-watch-data/PRJNA665227/raw/SRR12698597_2.fastq.gz\n",
      "[quant] will process file 1: /home/laura/projects/virus-watch-data/PRJNA665227/raw/SRR12698595_1.fastq.gz\n",
      "[quant] will process file 2: /home/laura/projects/virus-watch-data/PRJNA665227/raw/SRR12698595_2.fastq.gz\n",
      "[quant] will process file 1: /home/laura/projects/virus-watch-data/PRJNA665227/raw/SRR12698521_1.fastq.gz\n",
      "[quant] will process file 2: /home/laura/projects/virus-watch-data/PRJNA665227/raw/SRR12698521_2.fastq.gz\n",
      "[quant] will process file 1: /home/laura/projects/virus-watch-data/PRJNA665227/raw/SRR12698562_1.fastq.gz\n",
      "[quant] will process file 2: /home/laura/projects/virus-watch-data/PRJNA665227/raw/SRR12698562_2.fastq.gz\n",
      "[quant] will process file 1: /home/laura/projects/virus-watch-data/PRJNA665227/raw/SRR12698548_1.fastq.gz\n",
      "[quant] will process file 2: /home/laura/projects/virus-watch-data/PRJNA665227/raw/SRR12698548_2.fastq.gz\n",
      "[quant] will process file 1: /home/laura/projects/virus-watch-data/PRJNA665227/raw/SRR12698576_1.fastq.gz\n",
      "[quant] will process file 2: /home/laura/projects/virus-watch-data/PRJNA665227/raw/SRR12698576_2.fastq.gz\n",
      "[quant] will process file 1: /home/laura/projects/virus-watch-data/PRJNA665227/raw/SRR12698543_1.fastq.gz\n",
      "[quant] will process file 2: /home/laura/projects/virus-watch-data/PRJNA665227/raw/SRR12698543_2.fastq.gz\n",
      "[quant] will process file 1: /home/laura/projects/virus-watch-data/PRJNA665227/raw/SRR12698591_1.fastq.gz\n",
      "[quant] will process file 2: /home/laura/projects/virus-watch-data/PRJNA665227/raw/SRR12698591_2.fastq.gz\n",
      "[quant] will process file 1: /home/laura/projects/virus-watch-data/PRJNA665227/raw/SRR12698557_1.fastq.gz\n",
      "[quant] will process file 2: /home/laura/projects/virus-watch-data/PRJNA665227/raw/SRR12698557_2.fastq.gz\n",
      "[quant] will process file 1: /home/laura/projects/virus-watch-data/PRJNA665227/raw/SRR12698517_1.fastq.gz\n",
      "[quant] will process file 2: /home/laura/projects/virus-watch-data/PRJNA665227/raw/SRR12698517_2.fastq.gz\n",
      "[quant] will process file 1: /home/laura/projects/virus-watch-data/PRJNA665227/raw/SRR12698586_1.fastq.gz\n",
      "[quant] will process file 2: /home/laura/projects/virus-watch-data/PRJNA665227/raw/SRR12698586_2.fastq.gz\n",
      "[quant] will process file 1: /home/laura/projects/virus-watch-data/PRJNA665227/raw/SRR12698579_1.fastq.gz\n",
      "[quant] will process file 2: /home/laura/projects/virus-watch-data/PRJNA665227/raw/SRR12698579_2.fastq.gz\n",
      "[quant] will process file 1: /home/laura/projects/virus-watch-data/PRJNA665227/raw/SRR12698531_1.fastq.gz\n",
      "[quant] will process file 2: /home/laura/projects/virus-watch-data/PRJNA665227/raw/SRR12698531_2.fastq.gz\n",
      "[quant] will process file 1: /home/laura/projects/virus-watch-data/PRJNA665227/raw/SRR12698552_1.fastq.gz\n",
      "[quant] will process file 2: /home/laura/projects/virus-watch-data/PRJNA665227/raw/SRR12698552_2.fastq.gz\n",
      "[quant] will process file 1: /home/laura/projects/virus-watch-data/PRJNA665227/raw/SRR12698585_1.fastq.gz\n",
      "[quant] will process file 2: /home/laura/projects/virus-watch-data/PRJNA665227/raw/SRR12698585_2.fastq.gz\n",
      "[quant] will process file 1: /home/laura/projects/virus-watch-data/PRJNA665227/raw/SRR12698558_1.fastq.gz\n",
      "[quant] will process file 2: /home/laura/projects/virus-watch-data/PRJNA665227/raw/SRR12698558_2.fastq.gz\n",
      "[quant] will process file 1: /home/laura/projects/virus-watch-data/PRJNA665227/raw/SRR12698559_1.fastq.gz\n",
      "[quant] will process file 2: /home/laura/projects/virus-watch-data/PRJNA665227/raw/SRR12698559_2.fastq.gz\n",
      "[quant] will process file 1: /home/laura/projects/virus-watch-data/PRJNA665227/raw/SRR12698503_1.fastq.gz\n",
      "[quant] will process file 2: /home/laura/projects/virus-watch-data/PRJNA665227/raw/SRR12698503_2.fastq.gz\n",
      "[quant] will process file 1: /home/laura/projects/virus-watch-data/PRJNA665227/raw/SRR12698564_1.fastq.gz\n",
      "[quant] will process file 2: /home/laura/projects/virus-watch-data/PRJNA665227/raw/SRR12698564_2.fastq.gz\n",
      "[quant] will process file 1: /home/laura/projects/virus-watch-data/PRJNA665227/raw/SRR12698537_1.fastq.gz\n",
      "[quant] will process file 2: /home/laura/projects/virus-watch-data/PRJNA665227/raw/SRR12698537_2.fastq.gz\n",
      "[quant] will process file 1: /home/laura/projects/virus-watch-data/PRJNA665227/raw/SRR12698590_1.fastq.gz\n",
      "[quant] will process file 2: /home/laura/projects/virus-watch-data/PRJNA665227/raw/SRR12698590_2.fastq.gz\n",
      "[quant] will process file 1: /home/laura/projects/virus-watch-data/PRJNA665227/raw/SRR12698604_1.fastq.gz\n",
      "[quant] will process file 2: /home/laura/projects/virus-watch-data/PRJNA665227/raw/SRR12698604_2.fastq.gz\n",
      "[quant] will process file 1: /home/laura/projects/virus-watch-data/PRJNA665227/raw/SRR12698580_1.fastq.gz\n",
      "[quant] will process file 2: /home/laura/projects/virus-watch-data/PRJNA665227/raw/SRR12698580_2.fastq.gz\n",
      "[quant] will process file 1: /home/laura/projects/virus-watch-data/PRJNA665227/raw/SRR12698533_1.fastq.gz\n",
      "[quant] will process file 2: /home/laura/projects/virus-watch-data/PRJNA665227/raw/SRR12698533_2.fastq.gz\n",
      "[quant] will process file 1: /home/laura/projects/virus-watch-data/PRJNA665227/raw/SRR12698513_1.fastq.gz\n",
      "[quant] will process file 2: /home/laura/projects/virus-watch-data/PRJNA665227/raw/SRR12698513_2.fastq.gz\n",
      "[quant] will process file 1: /home/laura/projects/virus-watch-data/PRJNA665227/raw/SRR12698502_1.fastq.gz\n",
      "[quant] will process file 2: /home/laura/projects/virus-watch-data/PRJNA665227/raw/SRR12698502_2.fastq.gz\n",
      "[quant] will process file 1: /home/laura/projects/virus-watch-data/PRJNA665227/raw/SRR12698504_1.fastq.gz\n",
      "[quant] will process file 2: /home/laura/projects/virus-watch-data/PRJNA665227/raw/SRR12698504_2.fastq.gz\n",
      "[quant] will process file 1: /home/laura/projects/virus-watch-data/PRJNA665227/raw/SRR12698575_1.fastq.gz\n",
      "[quant] will process file 2: /home/laura/projects/virus-watch-data/PRJNA665227/raw/SRR12698575_2.fastq.gz\n",
      "[quant] will process file 1: /home/laura/projects/virus-watch-data/PRJNA665227/raw/SRR12698506_1.fastq.gz\n",
      "[quant] will process file 2: /home/laura/projects/virus-watch-data/PRJNA665227/raw/SRR12698506_2.fastq.gz\n",
      "[quant] will process file 1: /home/laura/projects/virus-watch-data/PRJNA665227/raw/SRR12698577_1.fastq.gz\n",
      "[quant] will process file 2: /home/laura/projects/virus-watch-data/PRJNA665227/raw/SRR12698577_2.fastq.gz\n",
      "[quant] will process file 1: /home/laura/projects/virus-watch-data/PRJNA665227/raw/SRR12698582_1.fastq.gz\n",
      "[quant] will process file 2: /home/laura/projects/virus-watch-data/PRJNA665227/raw/SRR12698582_2.fastq.gz\n",
      "[quant] will process file 1: /home/laura/projects/virus-watch-data/PRJNA665227/raw/SRR12698514_1.fastq.gz\n",
      "[quant] will process file 2: /home/laura/projects/virus-watch-data/PRJNA665227/raw/SRR12698514_2.fastq.gz\n",
      "[quant] will process file 1: /home/laura/projects/virus-watch-data/PRJNA665227/raw/SRR12698553_1.fastq.gz\n",
      "[quant] will process file 2: /home/laura/projects/virus-watch-data/PRJNA665227/raw/SRR12698553_2.fastq.gz\n",
      "[quant] will process file 1: /home/laura/projects/virus-watch-data/PRJNA665227/raw/SRR12698550_1.fastq.gz\n",
      "[quant] will process file 2: /home/laura/projects/virus-watch-data/PRJNA665227/raw/SRR12698550_2.fastq.gz\n",
      "[progress] 30593M reads processed (0.8% mapped)             7% mapped)             0.7% mapped)             0.7% mapped)             0.7% mapped)             0.7% mapped)             0.7% mapped)             0.7% mapped)             0.7% mapped)             0.7% mapped)             0.7% mapped)             0.7% mapped)             0.7% mapped)             0.7% mapped)             0.7% mapped)             0.7% mapped)             0.7% mapped)             0.7% mapped)             0.7% mapped)             0.7% mapped)             0.7% mapped)             0.7% mapped)             0.7% mapped)             0.7% mapped)             0.7% mapped)             0.7% mapped)             0.7% mapped)             0.7% mapped)             0.7% mapped)             0.7% mapped)             0.7% mapped)             0.7% mapped)             0.7% mapped)             0.7% mapped)             0.7% mapped)             0.7% mapped)             0.7% mapped)             0.7% mapped)             0.7% mapped)             0.7% mapped)             0.7% mapped)             0.7% mapped)             0.7% mapped)              (0.7% mapped)             0.7% mapped)             % mapped)             % mapped)             0.7% mapped)             0.7% mapped)             % mapped)             0.8% mapped)             0.8% mapped)             0.8% mapped)             0.8% mapped)             0.8% mapped)             0.8% mapped)             0.8% mapped)             0.9% mapped)             0.9% mapped)             0.9% mapped)             0.9% mapped)             0.9% mapped)             0.9% mapped)             0.9% mapped)             0.9% mapped)             0.9% mapped)             0.9% mapped)             0.9% mapped)             0.9% mapped)             % mapped)             0.9% mapped)             0.9% mapped)             0.9% mapped)             0.9% mapped)             0.9% mapped)             0.9% mapped)             0.9% mapped)             0.9% mapped)             0.9% mapped)             0.9% mapped)             0.9% mapped)             0.9% mapped)             0.9% mapped)             0.9% mapped)             0.9% mapped)             0.9% mapped)             0.9% mapped)             0.9% mapped)             0.9% mapped)             0.9% mapped)             0.9% mapped)             0.9% mapped)             0.9% mapped)             0.9% mapped)             0.9% mapped)             0.9% mapped)             0.9% mapped)             0.9% mapped)             0.9% mapped)             0.9% mapped)             0.9% mapped)             % mapped)             0.9% mapped)             0.9% mapped)             0.9% mapped)             0.9% mapped)             0.9% mapped)             0.9% mapped)             0.9% mapped)             0.9% mapped)             0.9% mapped)             0.9% mapped)             0.9% mapped)             0.9% mapped)             0.8% mapped)             0.8% mapped)             0.8% mapped)             0.8% mapped)             0.8% mapped)             0.8% mapped)             0.8% mapped)             0.8% mapped)             0.8% mapped)             0.8% mapped)             0.8% mapped)             % mapped)             0.8% mapped)             0.8% mapped)             0.8% mapped)             0.8% mapped)             0.8% mapped)             0.8% mapped)             % mapped)             0.8% mapped)             0.8% mapped)             0.8% mapped)             0.8% mapped)             0.8% mapped)             0.8% mapped)             0.8% mapped)             0.8% mapped)             0.8% mapped)             0.8% mapped)             0.8% mapped)             0.8% mapped)             0.8% mapped)             0.8% mapped)             0.8% mapped)             0.8% mapped)             % mapped)             0.8% mapped)             0.8% mapped)             0.8% mapped)             0.8% mapped)             0.8% mapped)             0.8% mapped)             % mapped)             0.8% mapped)             0.8% mapped)             0.8% mapped)             0.8% mapped)             0.8% mapped)             0.8% mapped)             % mapped)             0.8% mapped)             0.8% mapped)             0.8% mapped)             0.8% mapped)             0.8% mapped)             0.8% mapped)             0.8% mapped)             % mapped)             % mapped)             0.8% mapped)             0.8% mapped)             0.8% mapped)             0.8% mapped)             0.8% mapped)             0.8% mapped)             0.8% mapped)             0.8% mapped)             0.8% mapped)             0.8% mapped)             % mapped)             0.8% mapped)             0.8% mapped)             0.8% mapped)             0.8% mapped)             0.8% mapped)             % mapped)             0.9% mapped)             0.9% mapped)             0.9% mapped)             0.9% mapped)             0.9% mapped)             0.9% mapped)             0.9% mapped)             0.9% mapped)             0.9% mapped)             0.9% mapped)             0.9% mapped)             0.9% mapped)             0.9% mapped)             0.9% mapped)             0.9% mapped)             0.9% mapped)             % mapped)             % mapped)             0.9% mapped)             0.9% mapped)             0.9% mapped)             0.9% mapped)             0.9% mapped)             0.9% mapped)             0.9% mapped)             0.9% mapped)             0.9% mapped)             % mapped)             % mapped)             0.9% mapped)             0.9% mapped)             % mapped)             0.9% mapped)             0.8% mapped)             0.8% mapped)             0.8% mapped)             0.8% mapped)             0.8% mapped)             0.8% mapped)             % mapped)             0.8% mapped)             0.8% mapped)             0.8% mapped)             0.8% mapped)             0.8% mapped)             0.8% mapped)             0.8% mapped)             % mapped)             0.8% mapped)             0.8% mapped)             0.8% mapped)             0.8% mapped)             0.8% mapped)             0.8% mapped)             0.8% mapped)             0.8% mapped)             0.8% mapped)             0.8% mapped)             0.8% mapped)             0.8% mapped)             0.8% mapped)             0.8% mapped)             0.8% mapped)             0.8% mapped)             0.8% mapped)             0.8% mapped)             0.8% mapped)             0.8% mapped)             0.8% mapped)             % mapped)             0.8% mapped)             0.8% mapped)             0.8% mapped)             0.8% mapped)             0.8% mapped)             0.8% mapped)             0.8% mapped)             0.8% mapped)             0.8% mapped)             0.8% mapped)             0.8% mapped)             0.8% mapped)             0.8% mapped)             0.8% mapped)             0.8% mapped)             0.8% mapped)             0.8% mapped)             0.8% mapped)             0.8% mapped)             0.8% mapped)             0.8% mapped)             0.8% mapped)             0.8% mapped)             0.8% mapped)             0.8% mapped)             0.8% mapped)             0.8% mapped)             % mapped)             0.8% mapped)             0.8% mapped)             0.8% mapped)             0.8% mapped)             0.8% mapped)             0.8% mapped)             0.8% mapped)             0.8% mapped)             0.8% mapped)             0.8% mapped)             0.8% mapped)             0.8% mapped)             0.8% mapped)             0.8% mapped)             0.8% mapped)             0.8% mapped)             0.8% mapped)             0.8% mapped)             0.8% mapped)             0.8% mapped)             0.8% mapped)             0.8% mapped)             0.8% mapped)             0.8% mapped)             0.8% mapped)             0.8% mapped)             0.8% mapped)             0.8% mapped)             0.8% mapped)             0.8% mapped)             0.8% mapped)             0.8% mapped)             0.8% mapped)             0.8% mapped)             0.8% mapped)             0.8% mapped)             % mapped)             0.8% mapped)             0.8% mapped)             0.8% mapped)             0.8% mapped)             0.8% mapped)             0.8% mapped)             0.8% mapped)             0.8% mapped)             0.8% mapped)             0.8% mapped)             0.8% mapped)             0.8% mapped)             0.8% mapped)             0.8% mapped)             % mapped)             0.8% mapped)             0.8% mapped)             0.8% mapped)             0.8% mapped)             0.8% mapped)             0.8% mapped)             0.8% mapped)             0.8% mapped)             0.8% mapped)             0.8% mapped)             0.8% mapped)             0.8% mapped)             0.8% mapped)             0.8% mapped)             0.8% mapped)             % mapped)             0.8% mapped)             0.8% mapped)             0.8% mapped)             0.8% mapped)             0.8% mapped)             0.8% mapped)             0.8% mapped)             0.8% mapped)             0.8% mapped)             0.8% mapped)             0.8% mapped)             % mapped)             % mapped)             0.8% mapped)             0.8% mapped)             % mapped)             0.8% mapped)             0.8% mapped)             % mapped)             0.8% mapped)             0.8% mapped)             % mapped)             0.8% mapped)             0.8% mapped)             0.8% mapped)             0.8% mapped)             0.8% mapped)             0.8% mapped)             0.8% mapped)             0.8% mapped)             0.8% mapped)             % mapped)             0.8% mapped)             0.8% mapped)             0.8% mapped)             0.8% mapped)              done\n",
      "[quant] processed 30,594,130,037 reads, 236,602,929 reads pseudoaligned\n",
      "\n",
      "\tCommand being timed: \"/home/laura/projects/kallisto/build/src/kallisto bus -i /home/laura/projects/virus-watch-data/virus_ref/kallisto_aa/noduplicates_rhesus_canine_cdna_dna_ambigious.idx -o /home/laura/projects/virus-watch-data/PRJNA665227/raw/../full_index_dna_cdna_amb/virus --aa -t 30 -B /home/laura/projects/virus-watch-data/PRJNA665227/raw/batch.txt --batch-barcodes -x 0,0,12:0,12,20:1,0,0\"\n",
      "\tUser time (seconds): 3970910.49\n",
      "\tSystem time (seconds): 3990.89\n",
      "\tPercent of CPU this job got: 2997%\n",
      "\tElapsed (wall clock) time (h:mm:ss or m:ss): 36:49:57\n",
      "\tAverage shared text size (kbytes): 0\n",
      "\tAverage unshared data size (kbytes): 0\n",
      "\tAverage stack size (kbytes): 0\n",
      "\tAverage total size (kbytes): 0\n",
      "\tMaximum resident set size (kbytes): 1532044\n",
      "\tAverage resident set size (kbytes): 0\n",
      "\tMajor (requiring I/O) page faults: 89\n",
      "\tMinor (reclaiming a frame) page faults: 1510243646\n",
      "\tVoluntary context switches: 392805\n",
      "\tInvoluntary context switches: 11074915\n",
      "\tSwaps: 0\n",
      "\tFile system inputs: 3407498928\n",
      "\tFile system outputs: 14957816\n",
      "\tSocket messages sent: 0\n",
      "\tSocket messages received: 0\n",
      "\tSignals delivered: 0\n",
      "\tPage size (bytes): 4096\n",
      "\tExit status: 0\n",
      "CPU times: user 35min 9s, sys: 8min 34s, total: 43min 44s\n",
      "Wall time: 1d 12h 49min 57s\n"
     ]
    }
   ],
   "source": [
    "%%time\n",
    "!/usr/bin/time -v $kallisto bus \\\n",
    "        -i $virus_index \\\n",
    "        -o $out_folder \\\n",
    "        --aa \\\n",
    "        -t 30 \\\n",
    "        -B $sample_batch_file \\\n",
    "        --batch-barcodes \\\n",
    "        -x 0,0,12:0,12,20:1,0,0"
   ]
  },
  {
   "cell_type": "code",
   "execution_count": 27,
   "id": "ca87874a-ec22-4da4-af05-a7c2ec65c480",
   "metadata": {},
   "outputs": [],
   "source": [
    "host_out_folder = f\"/home/laura/projects/virus-watch-data/{bp}/full_index_stringent_dlist_flank1/host_canine\""
   ]
  },
  {
   "cell_type": "code",
   "execution_count": 28,
   "id": "49ebbc06-8654-4864-93a6-4b8345a23d84",
   "metadata": {},
   "outputs": [
    {
     "name": "stdout",
     "output_type": "stream",
     "text": [
      "partition time: 4s\n",
      "partition time: 2.84s\n",
      "Read in 236602929 BUS records\n",
      "reading time 6.48s\n",
      "sorting time 66.39s\n",
      "writing time 0s\n",
      "Found 775516 barcodes in the on-list\n",
      "Processed 66670658 BUS records\n",
      "In on-list = 13884218\n",
      "Corrected    = 15683555\n",
      "Uncorrected  = 37102885\n",
      "partition time: 0.78s\n",
      " all fits in buffer\n",
      "Read in 29567773 BUS records\n",
      "reading time 0.6s\n",
      "sorting time 6.52s\n",
      "writing time 1.05s\n",
      "CPU times: user 3.57 s, sys: 767 ms, total: 4.34 s\n",
      "Wall time: 2min 58s\n"
     ]
    }
   ],
   "source": [
    "%%time\n",
    "!$bustools sort \\\n",
    "    -m 4G \\\n",
    "    -t 40 \\\n",
    "    -o $out_folder/output_sorted.bus \\\n",
    "    $out_folder/output.bus\n",
    "\n",
    "!$bustools correct \\\n",
    "    -w $host_out_folder/bustools_whitelist.txt \\\n",
    "    -o $out_folder/output_sorted_corrected.bus \\\n",
    "    $out_folder/output_sorted.bus\n",
    "\n",
    "!$bustools sort \\\n",
    "    -m 4G \\\n",
    "    -t 40 \\\n",
    "    -o $out_folder/output_sorted_corrected_sorted.bus \\\n",
    "    $out_folder/output_sorted_corrected.bus\n",
    "\n",
    "!$bustools count \\\n",
    "    --genecounts \\\n",
    "    -o $out_folder/bustools_count/ \\\n",
    "    -g $virus_t2g \\\n",
    "    -e $out_folder/matrix.ec \\\n",
    "    -t $out_folder/transcripts.txt \\\n",
    "    $out_folder/output_sorted_corrected_sorted.bus"
   ]
  },
  {
   "cell_type": "markdown",
   "id": "05516ce4-cdd4-44be-82dc-f2d3f98105cc",
   "metadata": {},
   "source": [
    "Sort and count without barcode correction to retain all cells:"
   ]
  },
  {
   "cell_type": "code",
   "execution_count": 29,
   "id": "63d407e4-58bf-4f86-864e-d87012e6b132",
   "metadata": {},
   "outputs": [],
   "source": [
    "out_folder_uncorrected = f\"{fastq_folder}/../full_index_dna_cdna_amb/virus_uncorrected\""
   ]
  },
  {
   "cell_type": "code",
   "execution_count": 30,
   "id": "e091564a-7b0e-4cce-80e0-b0ea4aeac218",
   "metadata": {},
   "outputs": [
    {
     "name": "stdout",
     "output_type": "stream",
     "text": [
      "partition time: 4.49s\n",
      "partition time: 2.67s\n",
      "Read in 236602929 BUS records\n",
      "reading time 3.48s\n",
      "sorting time 69.04s\n",
      "writing time 0s\n"
     ]
    }
   ],
   "source": [
    "!$bustools sort \\\n",
    "    -m 4G \\\n",
    "    -t 40 \\\n",
    "    -o $out_folder_uncorrected/output_sorted.bus \\\n",
    "    $out_folder/output.bus\n",
    "\n",
    "!$bustools count \\\n",
    "    --genecounts \\\n",
    "    -o $out_folder_uncorrected/bustools_count/ \\\n",
    "    -g $virus_t2g \\\n",
    "    -e $out_folder/matrix.ec \\\n",
    "    -t $out_folder/transcripts.txt \\\n",
    "    $out_folder_uncorrected/output_sorted.bus"
   ]
  },
  {
   "cell_type": "code",
   "execution_count": null,
   "id": "1a603c5e-2071-4530-9916-db3baa41fd86",
   "metadata": {},
   "outputs": [],
   "source": []
  }
 ],
 "metadata": {
  "kernelspec": {
   "display_name": "Python 3 (ipykernel)",
   "language": "python",
   "name": "python3"
  },
  "language_info": {
   "codemirror_mode": {
    "name": "ipython",
    "version": 3
   },
   "file_extension": ".py",
   "mimetype": "text/x-python",
   "name": "python",
   "nbconvert_exporter": "python",
   "pygments_lexer": "ipython3",
   "version": "3.9.12"
  }
 },
 "nbformat": 4,
 "nbformat_minor": 5
}
