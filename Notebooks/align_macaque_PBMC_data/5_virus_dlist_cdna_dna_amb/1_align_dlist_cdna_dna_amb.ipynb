{
  "cells": [
    {
      "cell_type": "markdown",
      "metadata": {
        "id": "view-in-github",
        "colab_type": "text"
      },
      "source": [
        "<a href=\"https://colab.research.google.com/github/pachterlab/LSCHWCP_2023/blob/main/Notebooks/align_macaque_PBMC_data/5_virus_dlist_cdna_dna_amb/1_align_dlist_cdna_dna_amb.ipynb\" target=\"_parent\"><img src=\"https://colab.research.google.com/assets/colab-badge.svg\" alt=\"Open In Colab\"/></a>"
      ]
    },
    {
      "cell_type": "markdown",
      "id": "e8ef6419-dd14-4729-9ea2-cb9fa4796794",
      "metadata": {
        "id": "e8ef6419-dd14-4729-9ea2-cb9fa4796794"
      },
      "source": [
        "# Align sequencing reads to PalmDB with kallisto translated search masking host genomes and transcriptomes using the D-list + discard ambigious reads as host instead of assigning them to virus\n",
        "This feature is based on an unreleased version of kallisto which is stored in the [dlist_discard_ambiguities](https://github.com/pachterlab/kallisto/tree/dlist_discard_ambiguities) branch of the GitHub repository and we will install it below."
      ]
    },
    {
      "cell_type": "code",
      "source": [
        "# Install kallisto from the dlist_discard_ambiguities branch\n",
        "!git clone -q https://github.com/pachterlab/kallisto.git --branch dlist_discard_ambiguities\n",
        "!cd kallisto && mkdir build && cd build && cmake .. && make\n",
        "\n",
        "# Install bustools from source\n",
        "!git clone -q https://github.com/BUStools/bustools.git\n",
        "!cd bustools && mkdir build && cd build && cmake .. && make\n",
        "\n",
        "# Define paths to kallisto and bustools binaries\n",
        "kallisto = \"/content/kallisto/build/src/kallisto\"\n",
        "bustools = \"/content/bustools/build/src/bustools\""
      ],
      "metadata": {
        "id": "G0ppuQ16qScg"
      },
      "id": "G0ppuQ16qScg",
      "execution_count": null,
      "outputs": []
    },
    {
      "cell_type": "code",
      "source": [
        "# Download the customized transcripts to gene mapping\n",
        "!wget https://raw.githubusercontent.com/pachterlab/LSCHWCP_2023/main/PalmDB/palmdb_clustered_t2g.txt\n",
        "# Download the RdRP amino acid sequences\n",
        "!wget https://raw.githubusercontent.com/pachterlab/LSCHWCP_2023/main/PalmDB/palmdb_rdrp_seqs.fa\n",
        "\n",
        "virus_fasta = \"palmdb_rdrp_seqs.fa\"\n",
        "virus_t2g = \"palmdb_clustered_t2g.txt\""
      ],
      "metadata": {
        "id": "twVLQ3Exrvre"
      },
      "id": "twVLQ3Exrvre",
      "execution_count": null,
      "outputs": []
    },
    {
      "cell_type": "code",
      "source": [
        "# Number of threads to use in alignment\n",
        "threads = 2"
      ],
      "metadata": {
        "id": "UaOC9MyErxpu"
      },
      "id": "UaOC9MyErxpu",
      "execution_count": null,
      "outputs": []
    },
    {
      "cell_type": "markdown",
      "source": [
        "### Download raw sequencing data"
      ],
      "metadata": {
        "id": "TbGE16murzFq"
      },
      "id": "TbGE16murzFq"
    },
    {
      "cell_type": "code",
      "source": [
        "!pip install -q ffq\n",
        "import json\n",
        "\n",
        "out = \"GSE158390_data.json\"\n",
        "\n",
        "# # Download the complete dataset (106 paired fastqs containing a total of 30 billion reads)\n",
        "# !ffq GSE158390 --ftp -o $out\n",
        "\n",
        "# Download only two fastq pairs to demonstrate this notebook\n",
        "!ffq SRR12698499 SRR12698500 --ftp -o $out\n",
        "\n",
        "f = open(out)\n",
        "data = json.load(f)\n",
        "f.close()\n",
        "\n",
        "print(len(data))\n",
        "\n",
        "for dataset in data:\n",
        "    url = dataset[\"url\"]\n",
        "    !curl -O $url"
      ],
      "metadata": {
        "id": "pzN5jLCfrzKg"
      },
      "id": "pzN5jLCfrzKg",
      "execution_count": null,
      "outputs": []
    },
    {
      "cell_type": "markdown",
      "source": [
        "Generate sample batch file to align all fastq files simultaneously:"
      ],
      "metadata": {
        "id": "xzT8J90jr3e8"
      },
      "id": "xzT8J90jr3e8"
    },
    {
      "cell_type": "code",
      "source": [
        "import glob\n",
        "\n",
        "fastqs = []\n",
        "for filename in glob.glob(\"*.fastq.gz\"):\n",
        "    fastqs.append(filename.split(\"/\")[-1])\n",
        "\n",
        "fastqs.sort()\n",
        "\n",
        "# Get sample names\n",
        "samples = []\n",
        "for fastq in fastqs:\n",
        "    samples.append(fastq.split(\"_\")[0])\n",
        "\n",
        "samples = list(set(samples))\n",
        "\n",
        "# Generate sample batch file\n",
        "sample_batch_file = \"batch.txt\"\n",
        "with open(sample_batch_file, \"w\") as batch_file:\n",
        "    for sample in samples:\n",
        "        fastq1 = sample + \"_1.fastq.gz\"\n",
        "        fastq2 = sample + \"_2.fastq.gz\"\n",
        "        batch_file.write(sample + \"\\t\" + fastq1 + \"\\t\" + fastq2 + \"\\n\")"
      ],
      "metadata": {
        "id": "aomZYk4yr2Oa"
      },
      "id": "aomZYk4yr2Oa",
      "execution_count": null,
      "outputs": []
    },
    {
      "cell_type": "markdown",
      "id": "13d0336f-1735-431b-826b-74468bed273d",
      "metadata": {
        "id": "13d0336f-1735-431b-826b-74468bed273d"
      },
      "source": [
        "### Align to PalmDB with a D-list implementation that also masks ambiguous kmers"
      ]
    },
    {
      "cell_type": "code",
      "source": [
        "# Get host genomes and transcriptomes\n",
        "!pip install -q gget\n",
        "!gget ref -w cdna,dna -r 110 -d canis_lupus_familiaris\n",
        "!gget ref -w cdna,dna -r 110 -d macaca_mulatta\n",
        "\n",
        "canine_cdna = \"Canis_lupus_familiaris.ROS_Cfam_1.0.cdna.all.fa.gz\"\n",
        "macaque_cdna = \"Macaca_mulatta.Mmul_10.cdna.all.fa.gz\"\n",
        "canine_dna = \"Canis_lupus_familiaris.ROS_Cfam_1.0.dna.toplevel.fa.gz\"\n",
        "macaque_dna = \"Macaca_mulatta.Mmul_10.dna.toplevel.fa.gz\""
      ],
      "metadata": {
        "id": "L1u5sZj3sMfg"
      },
      "id": "L1u5sZj3sMfg",
      "execution_count": null,
      "outputs": []
    },
    {
      "cell_type": "markdown",
      "id": "20291fe9-e15d-4b74-af23-715235d294f1",
      "metadata": {
        "id": "20291fe9-e15d-4b74-af23-715235d294f1"
      },
      "source": [
        "Create modified D-list files. We will create copies of the genome and transcriptome in which each fasta header is changed to \">>\". This tells the D-list in this modified version of kallisto that we want to throw out ambiguous D-list sequences for these sequences:"
      ]
    },
    {
      "cell_type": "code",
      "execution_count": null,
      "id": "09c83abf-5137-443e-b9df-1f7066110955",
      "metadata": {
        "id": "09c83abf-5137-443e-b9df-1f7066110955"
      },
      "outputs": [],
      "source": [
        "canine_cdna_amb = \"ambigious_Canis_lupus_familiaris.ROS_Cfam_1.0.cdna.all.fa.gz\"\n",
        "macaque_cdna_amb = \"ambigious_Macaca_mulatta.Mmul_10.cdna.all.fa.gz\"\n",
        "canine_dna_amb = \"ambigious_Canis_lupus_familiaris.ROS_Cfam_1.0.dna.toplevel.fa.gz\"\n",
        "macaque_dna_amb = \"ambigious_Macaca_mulatta.Mmul_10.dna.toplevel.fa.gz\"\n",
        "\n",
        "canine_macaque_fasta = \"combined.cdna_dna_ambigious.fa.gz\""
      ]
    },
    {
      "cell_type": "code",
      "execution_count": null,
      "id": "41522ecf-9536-4ca2-b94e-f7cabd1bea49",
      "metadata": {
        "id": "41522ecf-9536-4ca2-b94e-f7cabd1bea49"
      },
      "outputs": [],
      "source": [
        "%%time\n",
        "# Replace all headers from \">string\" to \">>\" to tell kallisto we want to extract ambigious kmers from these\n",
        "!gzip -dc $canine_cdna | sed '/^>/ s/.*/>>/' | gzip -c > $canine_cdna_amb\n",
        "!gzip -dc $macaque_cdna | sed '/^>/ s/.*/>>/' | gzip -c > $macaque_cdna_amb\n",
        "!gzip -dc $canine_dna | sed '/^>/ s/.*/>>/' | gzip -c > $canine_dna_amb\n",
        "!gzip -dc $macaque_dna | sed '/^>/ s/.*/>>/' | gzip -c > $macaque_dna_amb"
      ]
    },
    {
      "cell_type": "code",
      "execution_count": null,
      "id": "38514414-a64c-43d2-8f3c-46a7cb19682f",
      "metadata": {
        "id": "38514414-a64c-43d2-8f3c-46a7cb19682f"
      },
      "outputs": [],
      "source": [
        "# Concatenate normal + ambigious cdna and dna from macaque and dog into a single file\n",
        "!cat $canine_cdna $macaque_cdna $canine_dna $macaque_dna $canine_cdna_amb $macaque_cdna_amb $canine_dna_amb $macaque_dna_amb > $canine_macaque_fasta"
      ]
    },
    {
      "cell_type": "markdown",
      "id": "1ab61263-64f3-4a03-b909-e8d4a990cfa4",
      "metadata": {
        "id": "1ab61263-64f3-4a03-b909-e8d4a990cfa4"
      },
      "source": [
        "Generate virus index:"
      ]
    },
    {
      "cell_type": "code",
      "execution_count": null,
      "id": "227af422-8b38-4c62-9835-d11c5682c715",
      "metadata": {
        "id": "227af422-8b38-4c62-9835-d11c5682c715"
      },
      "outputs": [],
      "source": [
        "virus_index = \"virus_index.idx\"\n",
        "\n",
        "# Generate virus reference index\n",
        "!$kallisto index \\\n",
        "    --aa \\\n",
        "    -t $threads \\\n",
        "    --d-list=$canine_macaque_fasta \\\n",
        "    -i $virus_index \\\n",
        "    $virus_fasta"
      ]
    },
    {
      "cell_type": "markdown",
      "id": "7faf8797-a842-4254-8741-8f7923223563",
      "metadata": {
        "id": "7faf8797-a842-4254-8741-8f7923223563"
      },
      "source": [
        "Align to PalmDB and correct barcodes using host onlist:"
      ]
    },
    {
      "cell_type": "code",
      "execution_count": null,
      "id": "d834169c-5dda-486a-8ae5-b29572d7f9d1",
      "metadata": {
        "id": "d834169c-5dda-486a-8ae5-b29572d7f9d1"
      },
      "outputs": [],
      "source": [
        "out_folder = \"virus_dlist_cdna_dna_amb_alignment_results\""
      ]
    },
    {
      "cell_type": "code",
      "execution_count": null,
      "id": "1be8eee3-0a2f-4b12-8454-7f150ad560a1",
      "metadata": {
        "id": "1be8eee3-0a2f-4b12-8454-7f150ad560a1"
      },
      "outputs": [],
      "source": [
        "%%time\n",
        "!$kallisto bus \\\n",
        "        -i $virus_index \\\n",
        "        -o $out_folder \\\n",
        "        --aa \\\n",
        "        -t $threads \\\n",
        "        -B $sample_batch_file \\\n",
        "        --batch-barcodes \\\n",
        "        -x 0,0,12:0,12,20:1,0,0"
      ]
    },
    {
      "cell_type": "code",
      "execution_count": null,
      "id": "ca87874a-ec22-4da4-af05-a7c2ec65c480",
      "metadata": {
        "id": "ca87874a-ec22-4da4-af05-a7c2ec65c480"
      },
      "outputs": [],
      "source": [
        "# Download cell barcode onlist generated during alignment to host\n",
        "!wget https://raw.githubusercontent.com/pachterlab/LSCHWCP_2023/main/Notebooks/align_macaque_PBMC_data/bustools_onlist.txt"
      ]
    },
    {
      "cell_type": "code",
      "execution_count": null,
      "id": "49ebbc06-8654-4864-93a6-4b8345a23d84",
      "metadata": {
        "id": "49ebbc06-8654-4864-93a6-4b8345a23d84"
      },
      "outputs": [],
      "source": [
        "%%time\n",
        "!$bustools sort \\\n",
        "    -m 4G \\\n",
        "    -t $threads \\\n",
        "    -o $out_folder/output_sorted.bus \\\n",
        "    $out_folder/output.bus\n",
        "\n",
        "!$bustools correct \\\n",
        "    -w bustools_onlist.txt \\\n",
        "    -o $out_folder/output_sorted_corrected.bus \\\n",
        "    $out_folder/output_sorted.bus\n",
        "\n",
        "!$bustools sort \\\n",
        "    -m 4G \\\n",
        "    -t $threads \\\n",
        "    -o $out_folder/output_sorted_corrected_sorted.bus \\\n",
        "    $out_folder/output_sorted_corrected.bus\n",
        "\n",
        "!$bustools count \\\n",
        "    --genecounts \\\n",
        "    -o $out_folder/bustools_count/ \\\n",
        "    -g $virus_t2g \\\n",
        "    -e $out_folder/matrix.ec \\\n",
        "    -t $out_folder/transcripts.txt \\\n",
        "    $out_folder/output_sorted_corrected_sorted.bus"
      ]
    },
    {
      "cell_type": "code",
      "execution_count": null,
      "id": "1a603c5e-2071-4530-9916-db3baa41fd86",
      "metadata": {
        "id": "1a603c5e-2071-4530-9916-db3baa41fd86"
      },
      "outputs": [],
      "source": []
    }
  ],
  "metadata": {
    "kernelspec": {
      "display_name": "Python 3 (ipykernel)",
      "language": "python",
      "name": "python3"
    },
    "language_info": {
      "codemirror_mode": {
        "name": "ipython",
        "version": 3
      },
      "file_extension": ".py",
      "mimetype": "text/x-python",
      "name": "python",
      "nbconvert_exporter": "python",
      "pygments_lexer": "ipython3",
      "version": "3.9.12"
    },
    "colab": {
      "provenance": [],
      "include_colab_link": true
    }
  },
  "nbformat": 4,
  "nbformat_minor": 5
}