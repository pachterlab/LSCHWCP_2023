{
 "cells": [
  {
   "cell_type": "markdown",
   "id": "90b54af5-7ced-4c88-9274-59cf3e2ec2d6",
   "metadata": {},
   "source": [
    "# Remove host reads from virus bus file using flag"
   ]
  },
  {
   "cell_type": "markdown",
   "id": "cf2b64a4-c3eb-4fad-96f2-3fbb19223259",
   "metadata": {},
   "source": [
    "Align to host with -n column in bus file:"
   ]
  },
  {
   "cell_type": "code",
   "execution_count": 1,
   "id": "04cad68a-9bd4-43e0-91fd-fc03fdfdf793",
   "metadata": {},
   "outputs": [],
   "source": [
    "import glob"
   ]
  },
  {
   "cell_type": "code",
   "execution_count": 13,
   "id": "af8b6584-0670-44f5-9c4c-837b9788effc",
   "metadata": {},
   "outputs": [],
   "source": [
    "bp = \"PRJNA665227\"\n",
    "fastq_folder = f\"/home/laura/projects/virus-watch-data/{bp}/raw\"\n",
    "sample_batch_file = f\"{fastq_folder}/batch.txt\""
   ]
  },
  {
   "cell_type": "code",
   "execution_count": 3,
   "id": "d8f3b362-4b24-4609-996c-f28d27afac6e",
   "metadata": {},
   "outputs": [],
   "source": [
    "# host_fasta = \"/home/laura/projects/virus-watch-data/rhesus_ref/Macaca_mulatta.Mmul_10.dna.toplevel.fa.gz\"\n",
    "# host_gtf = \"/home/laura/projects/virus-watch-data/rhesus_ref/Macaca_mulatta.Mmul_10.109.gtf.gz\"\n",
    "\n",
    "# canine_fasta = \"/home/laura/projects/virus-watch-data/canine_ref/Canis_lupus_familiaris.ROS_Cfam_1.0.dna.toplevel.fa.gz\"\n",
    "# canine_gtf = \"/home/laura/projects/virus-watch-data/canine_ref/Canis_lupus_familiaris.ROS_Cfam_1.0.109.gtf.gz\"\n",
    "\n",
    "# canine_macaque_fasta = \"/home/laura/projects/virus-watch-data/canine_macaque_ref/combined_genomes.dna.toplevel.fa.gz\"\n",
    "\n",
    "index = \"/home/laura/projects/virus-watch-data/canine_macaque_ref/index.idx\"\n",
    "t2g = \"/home/laura/projects/virus-watch-data/canine_macaque_ref/t2g.txt\"\n",
    "fa = \"/home/laura/projects/virus-watch-data/canine_macaque_ref/transcriptome.fa\"\n",
    "\n",
    "kallisto = \"/home/laura/temp/kallisto/build/src/kallisto\"\n",
    "bustools = \"/home/laura/projects/bustools/build/src/bustools\""
   ]
  },
  {
   "cell_type": "code",
   "execution_count": 4,
   "id": "1c1fecb3-2d72-413b-a4a8-235e4e68603b",
   "metadata": {},
   "outputs": [],
   "source": [
    "host_out_folder = f\"{fastq_folder}/../host_flag/host\""
   ]
  },
  {
   "cell_type": "code",
   "execution_count": 5,
   "id": "06933db7-6c08-4dc2-bb0c-1b89b5cb41f9",
   "metadata": {},
   "outputs": [],
   "source": [
    "# %%time\n",
    "# !/usr/bin/time -v $kallisto bus \\\n",
    "#         -n \\\n",
    "#         -i $index \\\n",
    "#         -o $host_out_folder \\\n",
    "#         -t 40 \\\n",
    "#         -B $sample_batch_file \\\n",
    "#         --batch-barcodes \\\n",
    "#         -x 0,0,12:0,12,20:1,0,0"
   ]
  },
  {
   "cell_type": "markdown",
   "id": "aaccd3b0-7f3a-480f-bf6f-9b4d8d50c477",
   "metadata": {},
   "source": [
    "Align to virus with -n column in bus file + index masked with d-list cdna + dna:"
   ]
  },
  {
   "cell_type": "code",
   "execution_count": 6,
   "id": "98f3ee66-ae73-4e9e-b709-1cd4b22ebca7",
   "metadata": {},
   "outputs": [],
   "source": [
    "out_folder = f\"{fastq_folder}/../host_flag/virus_cdna_dna\""
   ]
  },
  {
   "cell_type": "code",
   "execution_count": 17,
   "id": "cdc61556-45ef-4918-a150-adc575de2666",
   "metadata": {},
   "outputs": [],
   "source": [
    "virus_fasta = \"/home/laura/projects/virus-watch-data/virus_ref/uniques_noduplicates.fa\"\n",
    "virus_index = \"/home/laura/projects/virus-watch-data/virus_ref/kallisto_aa/noduplicates_rhesus_canine_cdna_dna.idx\"\n",
    "virus_t2g = \"/home/laura/projects/virus-watch-data/virus_ref/nodup_clu_t2g.txt\""
   ]
  },
  {
   "cell_type": "code",
   "execution_count": 18,
   "id": "22236da2-e0e6-44a6-aeb1-f0df0c029d17",
   "metadata": {},
   "outputs": [
    {
     "name": "stdout",
     "output_type": "stream",
     "text": [
      "\n",
      "[bus] will try running read files supplied in batch file\n",
      "[bus] Note: Strand option was not specified; setting it to --unstranded for specified technology\n",
      "[index] k-mer length: 31\n",
      "[index] number of targets: 296,561\n",
      "[index] number of k-mers: 37,632,571\n",
      "[index] number of distinguishing flanking k-mers: 91,841\n",
      "[quant] running in single-end mode\n",
      "[quant] will process file 1: /home/laura/projects/virus-watch-data/PRJNA665227/raw/SRR12698516_1.fastq.gz\n",
      "[quant] will process file 2: /home/laura/projects/virus-watch-data/PRJNA665227/raw/SRR12698516_2.fastq.gz\n",
      "[quant] will process file 1: /home/laura/projects/virus-watch-data/PRJNA665227/raw/SRR12698524_1.fastq.gz\n",
      "[quant] will process file 2: /home/laura/projects/virus-watch-data/PRJNA665227/raw/SRR12698524_2.fastq.gz\n",
      "[quant] will process file 1: /home/laura/projects/virus-watch-data/PRJNA665227/raw/SRR12698536_1.fastq.gz\n",
      "[quant] will process file 2: /home/laura/projects/virus-watch-data/PRJNA665227/raw/SRR12698536_2.fastq.gz\n",
      "[quant] will process file 1: /home/laura/projects/virus-watch-data/PRJNA665227/raw/SRR12698560_1.fastq.gz\n",
      "[quant] will process file 2: /home/laura/projects/virus-watch-data/PRJNA665227/raw/SRR12698560_2.fastq.gz\n",
      "[quant] will process file 1: /home/laura/projects/virus-watch-data/PRJNA665227/raw/SRR12698542_1.fastq.gz\n",
      "[quant] will process file 2: /home/laura/projects/virus-watch-data/PRJNA665227/raw/SRR12698542_2.fastq.gz\n",
      "[quant] will process file 1: /home/laura/projects/virus-watch-data/PRJNA665227/raw/SRR12698571_1.fastq.gz\n",
      "[quant] will process file 2: /home/laura/projects/virus-watch-data/PRJNA665227/raw/SRR12698571_2.fastq.gz\n",
      "[quant] will process file 1: /home/laura/projects/virus-watch-data/PRJNA665227/raw/SRR12698569_1.fastq.gz\n",
      "[quant] will process file 2: /home/laura/projects/virus-watch-data/PRJNA665227/raw/SRR12698569_2.fastq.gz\n",
      "[quant] will process file 1: /home/laura/projects/virus-watch-data/PRJNA665227/raw/SRR12698518_1.fastq.gz\n",
      "[quant] will process file 2: /home/laura/projects/virus-watch-data/PRJNA665227/raw/SRR12698518_2.fastq.gz\n",
      "[quant] will process file 1: /home/laura/projects/virus-watch-data/PRJNA665227/raw/SRR12698541_1.fastq.gz\n",
      "[quant] will process file 2: /home/laura/projects/virus-watch-data/PRJNA665227/raw/SRR12698541_2.fastq.gz\n",
      "[quant] will process file 1: /home/laura/projects/virus-watch-data/PRJNA665227/raw/SRR12698556_1.fastq.gz\n",
      "[quant] will process file 2: /home/laura/projects/virus-watch-data/PRJNA665227/raw/SRR12698556_2.fastq.gz\n",
      "[quant] will process file 1: /home/laura/projects/virus-watch-data/PRJNA665227/raw/SRR12698573_1.fastq.gz\n",
      "[quant] will process file 2: /home/laura/projects/virus-watch-data/PRJNA665227/raw/SRR12698573_2.fastq.gz\n",
      "[quant] will process file 1: /home/laura/projects/virus-watch-data/PRJNA665227/raw/SRR12698520_1.fastq.gz\n",
      "[quant] will process file 2: /home/laura/projects/virus-watch-data/PRJNA665227/raw/SRR12698520_2.fastq.gz\n",
      "[quant] will process file 1: /home/laura/projects/virus-watch-data/PRJNA665227/raw/SRR12698507_1.fastq.gz\n",
      "[quant] will process file 2: /home/laura/projects/virus-watch-data/PRJNA665227/raw/SRR12698507_2.fastq.gz\n",
      "[quant] will process file 1: /home/laura/projects/virus-watch-data/PRJNA665227/raw/SRR12698528_1.fastq.gz\n",
      "[quant] will process file 2: /home/laura/projects/virus-watch-data/PRJNA665227/raw/SRR12698528_2.fastq.gz\n",
      "[quant] will process file 1: /home/laura/projects/virus-watch-data/PRJNA665227/raw/SRR12698581_1.fastq.gz\n",
      "[quant] will process file 2: /home/laura/projects/virus-watch-data/PRJNA665227/raw/SRR12698581_2.fastq.gz\n",
      "[quant] will process file 1: /home/laura/projects/virus-watch-data/PRJNA665227/raw/SRR12698501_1.fastq.gz\n",
      "[quant] will process file 2: /home/laura/projects/virus-watch-data/PRJNA665227/raw/SRR12698501_2.fastq.gz\n",
      "[quant] will process file 1: /home/laura/projects/virus-watch-data/PRJNA665227/raw/SRR12698523_1.fastq.gz\n",
      "[quant] will process file 2: /home/laura/projects/virus-watch-data/PRJNA665227/raw/SRR12698523_2.fastq.gz\n",
      "[quant] will process file 1: /home/laura/projects/virus-watch-data/PRJNA665227/raw/SRR12698530_1.fastq.gz\n",
      "[quant] will process file 2: /home/laura/projects/virus-watch-data/PRJNA665227/raw/SRR12698530_2.fastq.gz\n",
      "[quant] will process file 1: /home/laura/projects/virus-watch-data/PRJNA665227/raw/SRR12698583_1.fastq.gz\n",
      "[quant] will process file 2: /home/laura/projects/virus-watch-data/PRJNA665227/raw/SRR12698583_2.fastq.gz\n",
      "[quant] will process file 1: /home/laura/projects/virus-watch-data/PRJNA665227/raw/SRR12698500_1.fastq.gz\n",
      "[quant] will process file 2: /home/laura/projects/virus-watch-data/PRJNA665227/raw/SRR12698500_2.fastq.gz\n",
      "[quant] will process file 1: /home/laura/projects/virus-watch-data/PRJNA665227/raw/SRR12698601_1.fastq.gz\n",
      "[quant] will process file 2: /home/laura/projects/virus-watch-data/PRJNA665227/raw/SRR12698601_2.fastq.gz\n",
      "[quant] will process file 1: /home/laura/projects/virus-watch-data/PRJNA665227/raw/SRR12698592_1.fastq.gz\n",
      "[quant] will process file 2: /home/laura/projects/virus-watch-data/PRJNA665227/raw/SRR12698592_2.fastq.gz\n",
      "[quant] will process file 1: /home/laura/projects/virus-watch-data/PRJNA665227/raw/SRR12698519_1.fastq.gz\n",
      "[quant] will process file 2: /home/laura/projects/virus-watch-data/PRJNA665227/raw/SRR12698519_2.fastq.gz\n",
      "[quant] will process file 1: /home/laura/projects/virus-watch-data/PRJNA665227/raw/SRR12698510_1.fastq.gz\n",
      "[quant] will process file 2: /home/laura/projects/virus-watch-data/PRJNA665227/raw/SRR12698510_2.fastq.gz\n",
      "[quant] will process file 1: /home/laura/projects/virus-watch-data/PRJNA665227/raw/SRR12698544_1.fastq.gz\n",
      "[quant] will process file 2: /home/laura/projects/virus-watch-data/PRJNA665227/raw/SRR12698544_2.fastq.gz\n",
      "[quant] will process file 1: /home/laura/projects/virus-watch-data/PRJNA665227/raw/SRR12698551_1.fastq.gz\n",
      "[quant] will process file 2: /home/laura/projects/virus-watch-data/PRJNA665227/raw/SRR12698551_2.fastq.gz\n",
      "[quant] will process file 1: /home/laura/projects/virus-watch-data/PRJNA665227/raw/SRR12698555_1.fastq.gz\n",
      "[quant] will process file 2: /home/laura/projects/virus-watch-data/PRJNA665227/raw/SRR12698555_2.fastq.gz\n",
      "[quant] will process file 1: /home/laura/projects/virus-watch-data/PRJNA665227/raw/SRR12698546_1.fastq.gz\n",
      "[quant] will process file 2: /home/laura/projects/virus-watch-data/PRJNA665227/raw/SRR12698546_2.fastq.gz\n",
      "[quant] will process file 1: /home/laura/projects/virus-watch-data/PRJNA665227/raw/SRR12698570_1.fastq.gz\n",
      "[quant] will process file 2: /home/laura/projects/virus-watch-data/PRJNA665227/raw/SRR12698570_2.fastq.gz\n",
      "[quant] will process file 1: /home/laura/projects/virus-watch-data/PRJNA665227/raw/SRR12698499_1.fastq.gz\n",
      "[quant] will process file 2: /home/laura/projects/virus-watch-data/PRJNA665227/raw/SRR12698499_2.fastq.gz\n",
      "[quant] will process file 1: /home/laura/projects/virus-watch-data/PRJNA665227/raw/SRR12698563_1.fastq.gz\n",
      "[quant] will process file 2: /home/laura/projects/virus-watch-data/PRJNA665227/raw/SRR12698563_2.fastq.gz\n",
      "[quant] will process file 1: /home/laura/projects/virus-watch-data/PRJNA665227/raw/SRR12698568_1.fastq.gz\n",
      "[quant] will process file 2: /home/laura/projects/virus-watch-data/PRJNA665227/raw/SRR12698568_2.fastq.gz\n",
      "[quant] will process file 1: /home/laura/projects/virus-watch-data/PRJNA665227/raw/SRR12698593_1.fastq.gz\n",
      "[quant] will process file 2: /home/laura/projects/virus-watch-data/PRJNA665227/raw/SRR12698593_2.fastq.gz\n",
      "[quant] will process file 1: /home/laura/projects/virus-watch-data/PRJNA665227/raw/SRR12698603_1.fastq.gz\n",
      "[quant] will process file 2: /home/laura/projects/virus-watch-data/PRJNA665227/raw/SRR12698603_2.fastq.gz\n",
      "[quant] will process file 1: /home/laura/projects/virus-watch-data/PRJNA665227/raw/SRR12698515_1.fastq.gz\n",
      "[quant] will process file 2: /home/laura/projects/virus-watch-data/PRJNA665227/raw/SRR12698515_2.fastq.gz\n",
      "[quant] will process file 1: /home/laura/projects/virus-watch-data/PRJNA665227/raw/SRR12698561_1.fastq.gz\n",
      "[quant] will process file 2: /home/laura/projects/virus-watch-data/PRJNA665227/raw/SRR12698561_2.fastq.gz\n",
      "[quant] will process file 1: /home/laura/projects/virus-watch-data/PRJNA665227/raw/SRR12698545_1.fastq.gz\n",
      "[quant] will process file 2: /home/laura/projects/virus-watch-data/PRJNA665227/raw/SRR12698545_2.fastq.gz\n",
      "[quant] will process file 1: /home/laura/projects/virus-watch-data/PRJNA665227/raw/SRR12698549_1.fastq.gz\n",
      "[quant] will process file 2: /home/laura/projects/virus-watch-data/PRJNA665227/raw/SRR12698549_2.fastq.gz\n",
      "[quant] will process file 1: /home/laura/projects/virus-watch-data/PRJNA665227/raw/SRR12698538_1.fastq.gz\n",
      "[quant] will process file 2: /home/laura/projects/virus-watch-data/PRJNA665227/raw/SRR12698538_2.fastq.gz\n",
      "[quant] will process file 1: /home/laura/projects/virus-watch-data/PRJNA665227/raw/SRR12698554_1.fastq.gz\n",
      "[quant] will process file 2: /home/laura/projects/virus-watch-data/PRJNA665227/raw/SRR12698554_2.fastq.gz\n",
      "[quant] will process file 1: /home/laura/projects/virus-watch-data/PRJNA665227/raw/SRR12698565_1.fastq.gz\n",
      "[quant] will process file 2: /home/laura/projects/virus-watch-data/PRJNA665227/raw/SRR12698565_2.fastq.gz\n",
      "[quant] will process file 1: /home/laura/projects/virus-watch-data/PRJNA665227/raw/SRR12698535_1.fastq.gz\n",
      "[quant] will process file 2: /home/laura/projects/virus-watch-data/PRJNA665227/raw/SRR12698535_2.fastq.gz\n",
      "[quant] will process file 1: /home/laura/projects/virus-watch-data/PRJNA665227/raw/SRR12698589_1.fastq.gz\n",
      "[quant] will process file 2: /home/laura/projects/virus-watch-data/PRJNA665227/raw/SRR12698589_2.fastq.gz\n",
      "[quant] will process file 1: /home/laura/projects/virus-watch-data/PRJNA665227/raw/SRR12698539_1.fastq.gz\n",
      "[quant] will process file 2: /home/laura/projects/virus-watch-data/PRJNA665227/raw/SRR12698539_2.fastq.gz\n",
      "[quant] will process file 1: /home/laura/projects/virus-watch-data/PRJNA665227/raw/SRR12698578_1.fastq.gz\n",
      "[quant] will process file 2: /home/laura/projects/virus-watch-data/PRJNA665227/raw/SRR12698578_2.fastq.gz\n",
      "[quant] will process file 1: /home/laura/projects/virus-watch-data/PRJNA665227/raw/SRR12698588_1.fastq.gz\n",
      "[quant] will process file 2: /home/laura/projects/virus-watch-data/PRJNA665227/raw/SRR12698588_2.fastq.gz\n",
      "[quant] will process file 1: /home/laura/projects/virus-watch-data/PRJNA665227/raw/SRR12698596_1.fastq.gz\n",
      "[quant] will process file 2: /home/laura/projects/virus-watch-data/PRJNA665227/raw/SRR12698596_2.fastq.gz\n",
      "[quant] will process file 1: /home/laura/projects/virus-watch-data/PRJNA665227/raw/SRR12698599_1.fastq.gz\n",
      "[quant] will process file 2: /home/laura/projects/virus-watch-data/PRJNA665227/raw/SRR12698599_2.fastq.gz\n",
      "[quant] will process file 1: /home/laura/projects/virus-watch-data/PRJNA665227/raw/SRR12698584_1.fastq.gz\n",
      "[quant] will process file 2: /home/laura/projects/virus-watch-data/PRJNA665227/raw/SRR12698584_2.fastq.gz\n",
      "[quant] will process file 1: /home/laura/projects/virus-watch-data/PRJNA665227/raw/SRR12698512_1.fastq.gz\n",
      "[quant] will process file 2: /home/laura/projects/virus-watch-data/PRJNA665227/raw/SRR12698512_2.fastq.gz\n",
      "[quant] will process file 1: /home/laura/projects/virus-watch-data/PRJNA665227/raw/SRR12698511_1.fastq.gz\n",
      "[quant] will process file 2: /home/laura/projects/virus-watch-data/PRJNA665227/raw/SRR12698511_2.fastq.gz\n",
      "[quant] will process file 1: /home/laura/projects/virus-watch-data/PRJNA665227/raw/SRR12698527_1.fastq.gz\n",
      "[quant] will process file 2: /home/laura/projects/virus-watch-data/PRJNA665227/raw/SRR12698527_2.fastq.gz\n",
      "[quant] will process file 1: /home/laura/projects/virus-watch-data/PRJNA665227/raw/SRR12698547_1.fastq.gz\n",
      "[quant] will process file 2: /home/laura/projects/virus-watch-data/PRJNA665227/raw/SRR12698547_2.fastq.gz\n",
      "[quant] will process file 1: /home/laura/projects/virus-watch-data/PRJNA665227/raw/SRR12698594_1.fastq.gz\n",
      "[quant] will process file 2: /home/laura/projects/virus-watch-data/PRJNA665227/raw/SRR12698594_2.fastq.gz\n",
      "[quant] will process file 1: /home/laura/projects/virus-watch-data/PRJNA665227/raw/SRR12698566_1.fastq.gz\n",
      "[quant] will process file 2: /home/laura/projects/virus-watch-data/PRJNA665227/raw/SRR12698566_2.fastq.gz\n",
      "[quant] will process file 1: /home/laura/projects/virus-watch-data/PRJNA665227/raw/SRR12698532_1.fastq.gz\n",
      "[quant] will process file 2: /home/laura/projects/virus-watch-data/PRJNA665227/raw/SRR12698532_2.fastq.gz\n",
      "[quant] will process file 1: /home/laura/projects/virus-watch-data/PRJNA665227/raw/SRR12698526_1.fastq.gz\n",
      "[quant] will process file 2: /home/laura/projects/virus-watch-data/PRJNA665227/raw/SRR12698526_2.fastq.gz\n",
      "[quant] will process file 1: /home/laura/projects/virus-watch-data/PRJNA665227/raw/SRR12698574_1.fastq.gz\n",
      "[quant] will process file 2: /home/laura/projects/virus-watch-data/PRJNA665227/raw/SRR12698574_2.fastq.gz\n",
      "[quant] will process file 1: /home/laura/projects/virus-watch-data/PRJNA665227/raw/SRR12698600_1.fastq.gz\n",
      "[quant] will process file 2: /home/laura/projects/virus-watch-data/PRJNA665227/raw/SRR12698600_2.fastq.gz\n",
      "[quant] will process file 1: /home/laura/projects/virus-watch-data/PRJNA665227/raw/SRR12698567_1.fastq.gz\n",
      "[quant] will process file 2: /home/laura/projects/virus-watch-data/PRJNA665227/raw/SRR12698567_2.fastq.gz\n",
      "[quant] will process file 1: /home/laura/projects/virus-watch-data/PRJNA665227/raw/SRR12698529_1.fastq.gz\n",
      "[quant] will process file 2: /home/laura/projects/virus-watch-data/PRJNA665227/raw/SRR12698529_2.fastq.gz\n",
      "[quant] will process file 1: /home/laura/projects/virus-watch-data/PRJNA665227/raw/SRR12698572_1.fastq.gz\n",
      "[quant] will process file 2: /home/laura/projects/virus-watch-data/PRJNA665227/raw/SRR12698572_2.fastq.gz\n",
      "[quant] will process file 1: /home/laura/projects/virus-watch-data/PRJNA665227/raw/SRR12698534_1.fastq.gz\n",
      "[quant] will process file 2: /home/laura/projects/virus-watch-data/PRJNA665227/raw/SRR12698534_2.fastq.gz\n",
      "[quant] will process file 1: /home/laura/projects/virus-watch-data/PRJNA665227/raw/SRR12698587_1.fastq.gz\n",
      "[quant] will process file 2: /home/laura/projects/virus-watch-data/PRJNA665227/raw/SRR12698587_2.fastq.gz\n",
      "[quant] will process file 1: /home/laura/projects/virus-watch-data/PRJNA665227/raw/SRR12698598_1.fastq.gz\n",
      "[quant] will process file 2: /home/laura/projects/virus-watch-data/PRJNA665227/raw/SRR12698598_2.fastq.gz\n",
      "[quant] will process file 1: /home/laura/projects/virus-watch-data/PRJNA665227/raw/SRR12698540_1.fastq.gz\n",
      "[quant] will process file 2: /home/laura/projects/virus-watch-data/PRJNA665227/raw/SRR12698540_2.fastq.gz\n",
      "[quant] will process file 1: /home/laura/projects/virus-watch-data/PRJNA665227/raw/SRR12698525_1.fastq.gz\n",
      "[quant] will process file 2: /home/laura/projects/virus-watch-data/PRJNA665227/raw/SRR12698525_2.fastq.gz\n",
      "[quant] will process file 1: /home/laura/projects/virus-watch-data/PRJNA665227/raw/SRR12698509_1.fastq.gz\n",
      "[quant] will process file 2: /home/laura/projects/virus-watch-data/PRJNA665227/raw/SRR12698509_2.fastq.gz\n",
      "[quant] will process file 1: /home/laura/projects/virus-watch-data/PRJNA665227/raw/SRR12698602_1.fastq.gz\n",
      "[quant] will process file 2: /home/laura/projects/virus-watch-data/PRJNA665227/raw/SRR12698602_2.fastq.gz\n",
      "[quant] will process file 1: /home/laura/projects/virus-watch-data/PRJNA665227/raw/SRR12698505_1.fastq.gz\n",
      "[quant] will process file 2: /home/laura/projects/virus-watch-data/PRJNA665227/raw/SRR12698505_2.fastq.gz\n",
      "[quant] will process file 1: /home/laura/projects/virus-watch-data/PRJNA665227/raw/SRR12698508_1.fastq.gz\n",
      "[quant] will process file 2: /home/laura/projects/virus-watch-data/PRJNA665227/raw/SRR12698508_2.fastq.gz\n",
      "[quant] will process file 1: /home/laura/projects/virus-watch-data/PRJNA665227/raw/SRR12698522_1.fastq.gz\n",
      "[quant] will process file 2: /home/laura/projects/virus-watch-data/PRJNA665227/raw/SRR12698522_2.fastq.gz\n",
      "[quant] will process file 1: /home/laura/projects/virus-watch-data/PRJNA665227/raw/SRR12698597_1.fastq.gz\n",
      "[quant] will process file 2: /home/laura/projects/virus-watch-data/PRJNA665227/raw/SRR12698597_2.fastq.gz\n",
      "[quant] will process file 1: /home/laura/projects/virus-watch-data/PRJNA665227/raw/SRR12698595_1.fastq.gz\n",
      "[quant] will process file 2: /home/laura/projects/virus-watch-data/PRJNA665227/raw/SRR12698595_2.fastq.gz\n",
      "[quant] will process file 1: /home/laura/projects/virus-watch-data/PRJNA665227/raw/SRR12698521_1.fastq.gz\n",
      "[quant] will process file 2: /home/laura/projects/virus-watch-data/PRJNA665227/raw/SRR12698521_2.fastq.gz\n",
      "[quant] will process file 1: /home/laura/projects/virus-watch-data/PRJNA665227/raw/SRR12698562_1.fastq.gz\n",
      "[quant] will process file 2: /home/laura/projects/virus-watch-data/PRJNA665227/raw/SRR12698562_2.fastq.gz\n",
      "[quant] will process file 1: /home/laura/projects/virus-watch-data/PRJNA665227/raw/SRR12698548_1.fastq.gz\n",
      "[quant] will process file 2: /home/laura/projects/virus-watch-data/PRJNA665227/raw/SRR12698548_2.fastq.gz\n",
      "[quant] will process file 1: /home/laura/projects/virus-watch-data/PRJNA665227/raw/SRR12698576_1.fastq.gz\n",
      "[quant] will process file 2: /home/laura/projects/virus-watch-data/PRJNA665227/raw/SRR12698576_2.fastq.gz\n",
      "[quant] will process file 1: /home/laura/projects/virus-watch-data/PRJNA665227/raw/SRR12698543_1.fastq.gz\n",
      "[quant] will process file 2: /home/laura/projects/virus-watch-data/PRJNA665227/raw/SRR12698543_2.fastq.gz\n",
      "[quant] will process file 1: /home/laura/projects/virus-watch-data/PRJNA665227/raw/SRR12698591_1.fastq.gz\n",
      "[quant] will process file 2: /home/laura/projects/virus-watch-data/PRJNA665227/raw/SRR12698591_2.fastq.gz\n",
      "[quant] will process file 1: /home/laura/projects/virus-watch-data/PRJNA665227/raw/SRR12698557_1.fastq.gz\n",
      "[quant] will process file 2: /home/laura/projects/virus-watch-data/PRJNA665227/raw/SRR12698557_2.fastq.gz\n",
      "[quant] will process file 1: /home/laura/projects/virus-watch-data/PRJNA665227/raw/SRR12698517_1.fastq.gz\n",
      "[quant] will process file 2: /home/laura/projects/virus-watch-data/PRJNA665227/raw/SRR12698517_2.fastq.gz\n",
      "[quant] will process file 1: /home/laura/projects/virus-watch-data/PRJNA665227/raw/SRR12698586_1.fastq.gz\n",
      "[quant] will process file 2: /home/laura/projects/virus-watch-data/PRJNA665227/raw/SRR12698586_2.fastq.gz\n",
      "[quant] will process file 1: /home/laura/projects/virus-watch-data/PRJNA665227/raw/SRR12698579_1.fastq.gz\n",
      "[quant] will process file 2: /home/laura/projects/virus-watch-data/PRJNA665227/raw/SRR12698579_2.fastq.gz\n",
      "[quant] will process file 1: /home/laura/projects/virus-watch-data/PRJNA665227/raw/SRR12698531_1.fastq.gz\n",
      "[quant] will process file 2: /home/laura/projects/virus-watch-data/PRJNA665227/raw/SRR12698531_2.fastq.gz\n",
      "[quant] will process file 1: /home/laura/projects/virus-watch-data/PRJNA665227/raw/SRR12698552_1.fastq.gz\n",
      "[quant] will process file 2: /home/laura/projects/virus-watch-data/PRJNA665227/raw/SRR12698552_2.fastq.gz\n",
      "[quant] will process file 1: /home/laura/projects/virus-watch-data/PRJNA665227/raw/SRR12698585_1.fastq.gz\n",
      "[quant] will process file 2: /home/laura/projects/virus-watch-data/PRJNA665227/raw/SRR12698585_2.fastq.gz\n",
      "[quant] will process file 1: /home/laura/projects/virus-watch-data/PRJNA665227/raw/SRR12698558_1.fastq.gz\n",
      "[quant] will process file 2: /home/laura/projects/virus-watch-data/PRJNA665227/raw/SRR12698558_2.fastq.gz\n",
      "[quant] will process file 1: /home/laura/projects/virus-watch-data/PRJNA665227/raw/SRR12698559_1.fastq.gz\n",
      "[quant] will process file 2: /home/laura/projects/virus-watch-data/PRJNA665227/raw/SRR12698559_2.fastq.gz\n",
      "[quant] will process file 1: /home/laura/projects/virus-watch-data/PRJNA665227/raw/SRR12698503_1.fastq.gz\n",
      "[quant] will process file 2: /home/laura/projects/virus-watch-data/PRJNA665227/raw/SRR12698503_2.fastq.gz\n",
      "[quant] will process file 1: /home/laura/projects/virus-watch-data/PRJNA665227/raw/SRR12698564_1.fastq.gz\n",
      "[quant] will process file 2: /home/laura/projects/virus-watch-data/PRJNA665227/raw/SRR12698564_2.fastq.gz\n",
      "[quant] will process file 1: /home/laura/projects/virus-watch-data/PRJNA665227/raw/SRR12698537_1.fastq.gz\n",
      "[quant] will process file 2: /home/laura/projects/virus-watch-data/PRJNA665227/raw/SRR12698537_2.fastq.gz\n",
      "[quant] will process file 1: /home/laura/projects/virus-watch-data/PRJNA665227/raw/SRR12698590_1.fastq.gz\n",
      "[quant] will process file 2: /home/laura/projects/virus-watch-data/PRJNA665227/raw/SRR12698590_2.fastq.gz\n",
      "[quant] will process file 1: /home/laura/projects/virus-watch-data/PRJNA665227/raw/SRR12698604_1.fastq.gz\n",
      "[quant] will process file 2: /home/laura/projects/virus-watch-data/PRJNA665227/raw/SRR12698604_2.fastq.gz\n",
      "[quant] will process file 1: /home/laura/projects/virus-watch-data/PRJNA665227/raw/SRR12698580_1.fastq.gz\n",
      "[quant] will process file 2: /home/laura/projects/virus-watch-data/PRJNA665227/raw/SRR12698580_2.fastq.gz\n",
      "[quant] will process file 1: /home/laura/projects/virus-watch-data/PRJNA665227/raw/SRR12698533_1.fastq.gz\n",
      "[quant] will process file 2: /home/laura/projects/virus-watch-data/PRJNA665227/raw/SRR12698533_2.fastq.gz\n",
      "[quant] will process file 1: /home/laura/projects/virus-watch-data/PRJNA665227/raw/SRR12698513_1.fastq.gz\n",
      "[quant] will process file 2: /home/laura/projects/virus-watch-data/PRJNA665227/raw/SRR12698513_2.fastq.gz\n",
      "[quant] will process file 1: /home/laura/projects/virus-watch-data/PRJNA665227/raw/SRR12698502_1.fastq.gz\n",
      "[quant] will process file 2: /home/laura/projects/virus-watch-data/PRJNA665227/raw/SRR12698502_2.fastq.gz\n",
      "[quant] will process file 1: /home/laura/projects/virus-watch-data/PRJNA665227/raw/SRR12698504_1.fastq.gz\n",
      "[quant] will process file 2: /home/laura/projects/virus-watch-data/PRJNA665227/raw/SRR12698504_2.fastq.gz\n",
      "[quant] will process file 1: /home/laura/projects/virus-watch-data/PRJNA665227/raw/SRR12698575_1.fastq.gz\n",
      "[quant] will process file 2: /home/laura/projects/virus-watch-data/PRJNA665227/raw/SRR12698575_2.fastq.gz\n",
      "[quant] will process file 1: /home/laura/projects/virus-watch-data/PRJNA665227/raw/SRR12698506_1.fastq.gz\n",
      "[quant] will process file 2: /home/laura/projects/virus-watch-data/PRJNA665227/raw/SRR12698506_2.fastq.gz\n",
      "[quant] will process file 1: /home/laura/projects/virus-watch-data/PRJNA665227/raw/SRR12698577_1.fastq.gz\n",
      "[quant] will process file 2: /home/laura/projects/virus-watch-data/PRJNA665227/raw/SRR12698577_2.fastq.gz\n",
      "[quant] will process file 1: /home/laura/projects/virus-watch-data/PRJNA665227/raw/SRR12698582_1.fastq.gz\n",
      "[quant] will process file 2: /home/laura/projects/virus-watch-data/PRJNA665227/raw/SRR12698582_2.fastq.gz\n",
      "[quant] will process file 1: /home/laura/projects/virus-watch-data/PRJNA665227/raw/SRR12698514_1.fastq.gz\n",
      "[quant] will process file 2: /home/laura/projects/virus-watch-data/PRJNA665227/raw/SRR12698514_2.fastq.gz\n",
      "[quant] will process file 1: /home/laura/projects/virus-watch-data/PRJNA665227/raw/SRR12698553_1.fastq.gz\n",
      "[quant] will process file 2: /home/laura/projects/virus-watch-data/PRJNA665227/raw/SRR12698553_2.fastq.gz\n",
      "[quant] will process file 1: /home/laura/projects/virus-watch-data/PRJNA665227/raw/SRR12698550_1.fastq.gz\n",
      "[quant] will process file 2: /home/laura/projects/virus-watch-data/PRJNA665227/raw/SRR12698550_2.fastq.gz\n",
      "[progress] 30593M reads processed (0.8% mapped)             mapped)             % mapped)             0.7% mapped)             0.7% mapped)              (0.7% mapped)             0.7% mapped)             % mapped)             0.7% mapped)             0.7% mapped)             0.7% mapped)             0.7% mapped)             1809M reads processed (0.7% mapped)             0.7% mapped)             0.7% mapped)             0.7% mapped)             % mapped)             0.7% mapped)             0.7% mapped)             0.7% mapped)             0.7% mapped)             0.7% mapped)             0.7% mapped)             % mapped)             0.7% mapped)             0.7% mapped)             % mapped)             % mapped)             0.7% mapped)             0.7% mapped)             0.7% mapped)             0.7% mapped)             0.7% mapped)             0.7% mapped)             0.7% mapped)             0.7% mapped)             % mapped)             0.7% mapped)             0.6% mapped)             0.6% mapped)             0.7% mapped)             0.7% mapped)             0.7% mapped)             0.7% mapped)             0.7% mapped)             0.7% mapped)             0.7% mapped)             0.7% mapped)             0.7% mapped)             0.7% mapped)             0.7% mapped)             0.7% mapped)             0.7% mapped)             0.7% mapped)             0.7% mapped)             0.7% mapped)             0.7% mapped)             0.7% mapped)             0.7% mapped)             0.7% mapped)             % mapped)             0.7% mapped)             0.6% mapped)             0.6% mapped)             0.6% mapped)             0.6% mapped)             0.6% mapped)             0.6% mapped)             0.6% mapped)             0.6% mapped)             0.6% mapped)             0.6% mapped)             0.6% mapped)             0.6% mapped)             0.6% mapped)             0.6% mapped)             0.6% mapped)             0.6% mapped)             0.6% mapped)             0.6% mapped)             0.6% mapped)             0.6% mapped)             0.6% mapped)             0.6% mapped)             0.6% mapped)             0.6% mapped)             % mapped)             0.6% mapped)             0.6% mapped)             % mapped)             0.7% mapped)             % mapped)             % mapped)             0.7% mapped)             0.7% mapped)             0.7% mapped)             0.7% mapped)             0.7% mapped)             0.7% mapped)             0.7% mapped)             0.7% mapped)             0.7% mapped)             % mapped)             % mapped)             0.8% mapped)             0.8% mapped)             0.8% mapped)             0.8% mapped)             0.9% mapped)             0.9% mapped)             0.9% mapped)             0.9% mapped)             0.9% mapped)             0.9% mapped)             0.9% mapped)             0.9% mapped)             0.9% mapped)             0.9% mapped)             0.9% mapped)             0.9% mapped)             0.9% mapped)             0.9% mapped)             0.9% mapped)             0.9% mapped)             0.9% mapped)             0.9% mapped)             0.9% mapped)             % mapped)             0.9% mapped)             0.9% mapped)             0.9% mapped)             0.9% mapped)             0.9% mapped)             0.9% mapped)             0.9% mapped)             0.9% mapped)             % mapped)             0.9% mapped)             0.9% mapped)             0.9% mapped)             % mapped)             0.9% mapped)             0.9% mapped)             % mapped)             0.9% mapped)             % mapped)             % mapped)             0.9% mapped)             0.9% mapped)             0.9% mapped)             0.9% mapped)             0.9% mapped)             0.9% mapped)             0.9% mapped)             0.9% mapped)             0.9% mapped)             0.9% mapped)             0.9% mapped)             0.9% mapped)             0.9% mapped)             0.9% mapped)             0.9% mapped)             0.9% mapped)             0.9% mapped)             % mapped)             0.9% mapped)             % mapped)             0.9% mapped)             0.9% mapped)             0.9% mapped)             0.9% mapped)             0.9% mapped)             0.9% mapped)             0.9% mapped)             0.9% mapped)             0.9% mapped)             0.9% mapped)             0.9% mapped)             0.9% mapped)             0.9% mapped)             0.9% mapped)             0.9% mapped)             0.9% mapped)             0.9% mapped)             0.9% mapped)             0.9% mapped)             0.9% mapped)             0.9% mapped)             0.9% mapped)             0.9% mapped)             0.9% mapped)             0.9% mapped)             0.9% mapped)             0.9% mapped)             0.9% mapped)             0.9% mapped)             0.9% mapped)             0.9% mapped)             0.9% mapped)             0.9% mapped)             0.9% mapped)             0.9% mapped)             0.9% mapped)             0.9% mapped)             0.9% mapped)             0.9% mapped)             0.9% mapped)             0.9% mapped)             0.9% mapped)             0.9% mapped)             % mapped)             % mapped)             0.9% mapped)             0.9% mapped)             0.9% mapped)             0.9% mapped)             0.9% mapped)             0.9% mapped)             0.9% mapped)             0.9% mapped)             0.9% mapped)             0.9% mapped)             % mapped)             % mapped)             0.9% mapped)             0.9% mapped)             0.9% mapped)             0.9% mapped)             0.9% mapped)             % mapped)             0.9% mapped)             0.9% mapped)             0.9% mapped)             0.9% mapped)             0.9% mapped)             0.9% mapped)             0.9% mapped)             0.9% mapped)             0.9% mapped)             0.9% mapped)             % mapped)             0.9% mapped)             0.9% mapped)             0.9% mapped)             0.9% mapped)             0.9% mapped)             0.9% mapped)             0.9% mapped)             0.9% mapped)             0.9% mapped)             0.9% mapped)             0.9% mapped)             0.9% mapped)             0.9% mapped)             0.9% mapped)             0.9% mapped)             0.9% mapped)             0.9% mapped)             0.9% mapped)             0.9% mapped)             0.9% mapped)             % mapped)             0.9% mapped)             0.9% mapped)             0.9% mapped)             0.9% mapped)             0.9% mapped)             0.9% mapped)             % mapped)             0.9% mapped)             0.9% mapped)             0.9% mapped)             % mapped)             0.9% mapped)             0.9% mapped)             0.9% mapped)             0.9% mapped)             0.9% mapped)             % mapped)             % mapped)             0.9% mapped)             0.9% mapped)             0.9% mapped)             0.9% mapped)             0.9% mapped)             0.9% mapped)             0.9% mapped)             0.9% mapped)             0.9% mapped)             0.9% mapped)             0.9% mapped)             0.9% mapped)             0.9% mapped)             0.9% mapped)             0.9% mapped)             0.9% mapped)             0.9% mapped)             0.9% mapped)             0.9% mapped)             % mapped)             0.8% mapped)             0.8% mapped)             0.8% mapped)             0.8% mapped)             0.8% mapped)             0.8% mapped)             0.8% mapped)             0.8% mapped)             0.8% mapped)             0.8% mapped)             0.8% mapped)             0.8% mapped)             0.8% mapped)             0.8% mapped)             0.8% mapped)             0.8% mapped)             0.8% mapped)             % mapped)             0.8% mapped)             0.8% mapped)             % mapped)             0.8% mapped)             0.8% mapped)             0.8% mapped)             0.8% mapped)             % mapped)             % mapped)             0.8% mapped)             0.8% mapped)             % mapped)             0.8% mapped)             0.8% mapped)             0.8% mapped)             0.8% mapped)             0.8% mapped)             0.8% mapped)             0.8% mapped)             0.8% mapped)             0.8% mapped)             % mapped)             % mapped)             0.8% mapped)             0.8% mapped)             0.8% mapped)             0.8% mapped)             0.8% mapped)             0.8% mapped)             0.8% mapped)             0.8% mapped)             0.8% mapped)             0.8% mapped)             0.8% mapped)             0.8% mapped)             0.8% mapped)             0.8% mapped)             0.8% mapped)             0.8% mapped)             0.8% mapped)             0.8% mapped)             0.8% mapped)             0.8% mapped)             0.8% mapped)             0.8% mapped)             0.8% mapped)             0.8% mapped)             0.8% mapped)             0.8% mapped)             0.8% mapped)             0.8% mapped)             0.8% mapped)             % mapped)             0.8% mapped)             0.8% mapped)             0.8% mapped)             0.8% mapped)             0.8% mapped)             0.8% mapped)             0.8% mapped)             0.8% mapped)             0.8% mapped)             0.8% mapped)             0.8% mapped)             0.8% mapped)             0.8% mapped)             0.8% mapped)             0.8% mapped)             0.8% mapped)             0.8% mapped)             % mapped)             0.8% mapped)             0.8% mapped)             0.8% mapped)             0.8% mapped)             0.8% mapped)             0.8% mapped)             0.8% mapped)             0.8% mapped)             0.8% mapped)             0.8% mapped)             0.8% mapped)             0.8% mapped)             0.8% mapped)             0.8% mapped)             0.8% mapped)             0.8% mapped)             0.8% mapped)             0.8% mapped)             0.8% mapped)             % mapped)             0.8% mapped)             0.8% mapped)             0.8% mapped)             0.8% mapped)             0.8% mapped)             0.8% mapped)             0.8% mapped)             0.8% mapped)             0.8% mapped)             0.8% mapped)             0.8% mapped)             0.8% mapped)             0.8% mapped)             0.8% mapped)             0.8% mapped)             0.8% mapped)             0.8% mapped)             0.8% mapped)             0.8% mapped)             0.8% mapped)             0.8% mapped)             0.8% mapped)             0.8% mapped)             0.8% mapped)             0.8% mapped)             0.8% mapped)             % mapped)             0.8% mapped)             0.8% mapped)             0.8% mapped)             0.8% mapped)             0.8% mapped)             0.8% mapped)             0.8% mapped)             0.8% mapped)             0.8% mapped)             0.8% mapped)             0.8% mapped)             0.8% mapped)             % mapped)             0.8% mapped)             0.8% mapped)             0.8% mapped)             0.8% mapped)             0.8% mapped)             0.8% mapped)             0.8% mapped)             0.8% mapped)              done\n",
      "[quant] processed 30,594,130,037 reads, 236,692,562 reads pseudoaligned\n",
      "\n",
      "\tCommand being timed: \"/home/laura/temp/kallisto/build/src/kallisto bus -n -i /home/laura/projects/virus-watch-data/virus_ref/kallisto_aa/noduplicates_rhesus_canine_cdna_dna.idx -o /home/laura/projects/virus-watch-data/PRJNA665227/raw/../host_flag/virus_cdna_dna --aa -t 40 -B /home/laura/projects/virus-watch-data/PRJNA665227/raw/batch.txt --batch-barcodes -x 0,0,12:0,12,20:1,0,0\"\n",
      "\tUser time (seconds): 4205129.56\n",
      "\tSystem time (seconds): 5227.87\n",
      "\tPercent of CPU this job got: 3992%\n",
      "\tElapsed (wall clock) time (h:mm:ss or m:ss): 29:17:47\n",
      "\tAverage shared text size (kbytes): 0\n",
      "\tAverage unshared data size (kbytes): 0\n",
      "\tAverage stack size (kbytes): 0\n",
      "\tAverage total size (kbytes): 0\n",
      "\tMaximum resident set size (kbytes): 1672928\n",
      "\tAverage resident set size (kbytes): 0\n",
      "\tMajor (requiring I/O) page faults: 6\n",
      "\tMinor (reclaiming a frame) page faults: 801896604\n",
      "\tVoluntary context switches: 352512\n",
      "\tInvoluntary context switches: 6395210\n",
      "\tSwaps: 0\n",
      "\tFile system inputs: 3561007456\n",
      "\tFile system outputs: 15224864\n",
      "\tSocket messages sent: 0\n",
      "\tSocket messages received: 0\n",
      "\tSignals delivered: 0\n",
      "\tPage size (bytes): 4096\n",
      "\tExit status: 0\n",
      "CPU times: user 26min 18s, sys: 6min 49s, total: 33min 7s\n",
      "Wall time: 1d 5h 17min 47s\n"
     ]
    }
   ],
   "source": [
    "%%time\n",
    "!/usr/bin/time -v $kallisto bus \\\n",
    "        -n \\\n",
    "        -i $virus_index \\\n",
    "        -o $out_folder \\\n",
    "        --aa \\\n",
    "        -t 40 \\\n",
    "        -B $sample_batch_file \\\n",
    "        --batch-barcodes \\\n",
    "        -x 0,0,12:0,12,20:1,0,0"
   ]
  },
  {
   "cell_type": "markdown",
   "id": "e097f3f7-46f2-4de3-a0fc-22891539b6a4",
   "metadata": {},
   "source": [
    "### Split virus matrix into reads seen in host and those not seen in host\n",
    "This has to be done for each batch (SRR library) separately, since the read numbers reset for each batch:"
   ]
  },
  {
   "cell_type": "code",
   "execution_count": 19,
   "id": "f9daa8a1-bf05-4232-b167-716f145594bf",
   "metadata": {},
   "outputs": [],
   "source": [
    "from tqdm import tqdm"
   ]
  },
  {
   "cell_type": "code",
   "execution_count": 20,
   "id": "4bc1c10e-0fb0-4459-8804-08cc4960dbf6",
   "metadata": {},
   "outputs": [
    {
     "data": {
      "text/plain": [
       "['AAAAAAAAAAAAAAAA',\n",
       " 'AAAAAAAAAAAAAAAC',\n",
       " 'AAAAAAAAAAAAAAAG',\n",
       " 'AAAAAAAAAAAAAAAT',\n",
       " 'AAAAAAAAAAAAAACA',\n",
       " 'AAAAAAAAAAAAAACC',\n",
       " 'AAAAAAAAAAAAAACG',\n",
       " 'AAAAAAAAAAAAAACT',\n",
       " 'AAAAAAAAAAAAAAGA',\n",
       " 'AAAAAAAAAAAAAAGC']"
      ]
     },
     "execution_count": 20,
     "metadata": {},
     "output_type": "execute_result"
    }
   ],
   "source": [
    "# Get list of sample barcodes\n",
    "sb_file = f\"{host_out_folder}/matrix.sample.barcodes\"\n",
    "\n",
    "with open(sb_file, \"r\") as sb:\n",
    "    sample_barcodes = sb.read().splitlines()\n",
    "    \n",
    "sample_barcodes[:10]"
   ]
  },
  {
   "cell_type": "code",
   "execution_count": 22,
   "id": "3250a162-e013-4a95-b612-4f9d9536c068",
   "metadata": {},
   "outputs": [
    {
     "name": "stderr",
     "output_type": "stream",
     "text": [
      "  0%|                                                                                                                           | 0/106 [elapsed: 00:00 remaining: ?]"
     ]
    },
    {
     "name": "stdout",
     "output_type": "stream",
     "text": [
      "Capture reads for batch AAAAAAAAAAAAAAAA for virus and host alignments...\n",
      "Read in 236692562 BUS records, wrote 2120107 BUS records\n",
      "Read in 8828381950 BUS records, wrote 90771029 BUS records\n",
      "Split viral alignments into host/masked for batch AAAAAAAAAAAAAAAA...\n",
      "Read in 90771029 BUS records\n",
      "Read in 2120107 BUS records, wrote 1220 BUS records\n",
      "Read in 90771029 BUS records\n",
      "Read in 2120107 BUS records, wrote 2118887 BUS records\n"
     ]
    },
    {
     "name": "stderr",
     "output_type": "stream",
     "text": [
      "  1%|█                                                                                                                   | 1/106 [elapsed: 10:43 remaining: 18:46:45]"
     ]
    },
    {
     "name": "stdout",
     "output_type": "stream",
     "text": [
      "Capture reads for batch AAAAAAAAAAAAAAAC for virus and host alignments...\n",
      "Read in 236692562 BUS records, wrote 470933 BUS records\n",
      "Read in 8828381950 BUS records, wrote 68474890 BUS records\n",
      "Split viral alignments into host/masked for batch AAAAAAAAAAAAAAAC...\n",
      "Read in 68474890 BUS records\n",
      "Read in 470933 BUS records, wrote 1596 BUS records\n",
      "Read in 68474890 BUS records\n",
      "Read in 470933 BUS records, wrote 469337 BUS records\n"
     ]
    },
    {
     "name": "stderr",
     "output_type": "stream",
     "text": [
      "  2%|██▏                                                                                                                 | 2/106 [elapsed: 20:57 remaining: 18:05:02]"
     ]
    },
    {
     "name": "stdout",
     "output_type": "stream",
     "text": [
      "Capture reads for batch AAAAAAAAAAAAAAAG for virus and host alignments...\n",
      "Read in 236692562 BUS records, wrote 2589203 BUS records\n",
      "Read in 8828381950 BUS records, wrote 35613726 BUS records\n",
      "Split viral alignments into host/masked for batch AAAAAAAAAAAAAAAG...\n",
      "Read in 35613726 BUS records\n",
      "Read in 2589203 BUS records, wrote 1158 BUS records\n",
      "Read in 35613726 BUS records\n",
      "Read in 2589203 BUS records, wrote 2588045 BUS records\n"
     ]
    },
    {
     "name": "stderr",
     "output_type": "stream",
     "text": [
      "  3%|███▎                                                                                                                | 3/106 [elapsed: 33:40 remaining: 19:42:04]"
     ]
    },
    {
     "name": "stdout",
     "output_type": "stream",
     "text": [
      "Capture reads for batch AAAAAAAAAAAAAAAT for virus and host alignments...\n",
      "Read in 236692562 BUS records, wrote 1507457 BUS records\n",
      "Read in 8828381950 BUS records, wrote 65468031 BUS records\n",
      "Split viral alignments into host/masked for batch AAAAAAAAAAAAAAAT...\n",
      "Read in 65468031 BUS records\n",
      "Read in 1507457 BUS records, wrote 1058 BUS records\n",
      "Read in 65468031 BUS records\n",
      "Read in 1507457 BUS records, wrote 1506399 BUS records\n"
     ]
    },
    {
     "name": "stderr",
     "output_type": "stream",
     "text": [
      "  4%|████▍                                                                                                               | 4/106 [elapsed: 43:39 remaining: 18:30:17]"
     ]
    },
    {
     "name": "stdout",
     "output_type": "stream",
     "text": [
      "Capture reads for batch AAAAAAAAAAAAAACA for virus and host alignments...\n",
      "Read in 236692562 BUS records, wrote 4152546 BUS records\n",
      "Read in 8828381950 BUS records, wrote 49239394 BUS records\n",
      "Split viral alignments into host/masked for batch AAAAAAAAAAAAAACA...\n",
      "Read in 49239394 BUS records\n",
      "Read in 4152546 BUS records, wrote 814 BUS records\n",
      "Read in 49239394 BUS records\n",
      "Read in 4152546 BUS records, wrote 4151732 BUS records\n"
     ]
    },
    {
     "name": "stderr",
     "output_type": "stream",
     "text": [
      "  5%|█████▍                                                                                                              | 5/106 [elapsed: 53:06 remaining: 17:27:36]"
     ]
    },
    {
     "name": "stdout",
     "output_type": "stream",
     "text": [
      "Capture reads for batch AAAAAAAAAAAAAACC for virus and host alignments...\n",
      "Read in 236692562 BUS records, wrote 594982 BUS records\n",
      "Read in 8828381950 BUS records, wrote 33011073 BUS records\n",
      "Split viral alignments into host/masked for batch AAAAAAAAAAAAAACC...\n",
      "Read in 33011073 BUS records\n",
      "Read in 594982 BUS records, wrote 645 BUS records\n",
      "Read in 33011073 BUS records\n",
      "Read in 594982 BUS records, wrote 594337 BUS records\n"
     ]
    },
    {
     "name": "stderr",
     "output_type": "stream",
     "text": [
      "  6%|██████▍                                                                                                           | 6/106 [elapsed: 1:02:01 remaining: 16:27:37]"
     ]
    },
    {
     "name": "stdout",
     "output_type": "stream",
     "text": [
      "Capture reads for batch AAAAAAAAAAAAAACG for virus and host alignments...\n",
      "Read in 236692562 BUS records, wrote 687699 BUS records\n",
      "Read in 8828381950 BUS records, wrote 28976665 BUS records\n",
      "Split viral alignments into host/masked for batch AAAAAAAAAAAAAACG...\n",
      "Read in 28976665 BUS records\n",
      "Read in 687699 BUS records, wrote 582 BUS records\n",
      "Read in 28976665 BUS records\n",
      "Read in 687699 BUS records, wrote 687117 BUS records\n"
     ]
    },
    {
     "name": "stderr",
     "output_type": "stream",
     "text": [
      "  7%|███████▌                                                                                                          | 7/106 [elapsed: 1:10:57 remaining: 15:47:04]"
     ]
    },
    {
     "name": "stdout",
     "output_type": "stream",
     "text": [
      "Capture reads for batch AAAAAAAAAAAAAACT for virus and host alignments...\n",
      "Read in 236692562 BUS records, wrote 2620752 BUS records\n",
      "Read in 8828381950 BUS records, wrote 119855175 BUS records\n",
      "Split viral alignments into host/masked for batch AAAAAAAAAAAAAACT...\n",
      "Read in 119855175 BUS records\n",
      "Read in 2620752 BUS records, wrote 1807 BUS records\n",
      "Read in 119855175 BUS records\n",
      "Read in 2620752 BUS records, wrote 2618945 BUS records\n"
     ]
    },
    {
     "name": "stderr",
     "output_type": "stream",
     "text": [
      "  8%|████████▌                                                                                                         | 8/106 [elapsed: 1:21:19 remaining: 16:02:21]"
     ]
    },
    {
     "name": "stdout",
     "output_type": "stream",
     "text": [
      "Capture reads for batch AAAAAAAAAAAAAAGA for virus and host alignments...\n",
      "Read in 236692562 BUS records, wrote 186012 BUS records\n",
      "Read in 8828381950 BUS records, wrote 196808014 BUS records\n",
      "Split viral alignments into host/masked for batch AAAAAAAAAAAAAAGA...\n",
      "Read in 196808014 BUS records\n",
      "Read in 186012 BUS records, wrote 12238 BUS records\n",
      "Read in 196808014 BUS records\n",
      "Read in 186012 BUS records, wrote 173774 BUS records\n"
     ]
    },
    {
     "name": "stderr",
     "output_type": "stream",
     "text": [
      "  8%|█████████▋                                                                                                        | 9/106 [elapsed: 1:33:47 remaining: 17:13:08]"
     ]
    },
    {
     "name": "stdout",
     "output_type": "stream",
     "text": [
      "Capture reads for batch AAAAAAAAAAAAAAGC for virus and host alignments...\n",
      "Read in 236692562 BUS records, wrote 747194 BUS records\n",
      "Read in 8828381950 BUS records, wrote 38797053 BUS records\n",
      "Split viral alignments into host/masked for batch AAAAAAAAAAAAAAGC...\n",
      "Read in 38797053 BUS records\n",
      "Read in 747194 BUS records, wrote 923 BUS records\n",
      "Read in 38797053 BUS records\n",
      "Read in 747194 BUS records, wrote 746271 BUS records\n"
     ]
    },
    {
     "name": "stderr",
     "output_type": "stream",
     "text": [
      "  9%|██████████▋                                                                                                      | 10/106 [elapsed: 1:43:18 remaining: 16:28:35]"
     ]
    },
    {
     "name": "stdout",
     "output_type": "stream",
     "text": [
      "Capture reads for batch AAAAAAAAAAAAAAGG for virus and host alignments...\n",
      "Read in 236692562 BUS records, wrote 488294 BUS records\n",
      "Read in 8828381950 BUS records, wrote 53728343 BUS records\n",
      "Split viral alignments into host/masked for batch AAAAAAAAAAAAAAGG...\n",
      "Read in 53728343 BUS records\n",
      "Read in 488294 BUS records, wrote 1183 BUS records\n",
      "Read in 53728343 BUS records\n",
      "Read in 488294 BUS records, wrote 487111 BUS records\n"
     ]
    },
    {
     "name": "stderr",
     "output_type": "stream",
     "text": [
      " 10%|███████████▋                                                                                                     | 11/106 [elapsed: 1:52:47 remaining: 15:54:54]"
     ]
    },
    {
     "name": "stdout",
     "output_type": "stream",
     "text": [
      "Capture reads for batch AAAAAAAAAAAAAAGT for virus and host alignments...\n",
      "Read in 236692562 BUS records, wrote 1778891 BUS records\n",
      "Read in 8828381950 BUS records, wrote 140126786 BUS records\n",
      "Split viral alignments into host/masked for batch AAAAAAAAAAAAAAGT...\n",
      "Read in 140126786 BUS records\n",
      "Read in 1778891 BUS records, wrote 2114 BUS records\n",
      "Read in 140126786 BUS records\n",
      "Read in 1778891 BUS records, wrote 1776777 BUS records\n"
     ]
    },
    {
     "name": "stderr",
     "output_type": "stream",
     "text": [
      " 11%|████████████▊                                                                                                    | 12/106 [elapsed: 2:03:33 remaining: 16:05:07]"
     ]
    },
    {
     "name": "stdout",
     "output_type": "stream",
     "text": [
      "Capture reads for batch AAAAAAAAAAAAAATA for virus and host alignments...\n",
      "Read in 236692562 BUS records, wrote 6069362 BUS records\n",
      "Read in 8828381950 BUS records, wrote 163926393 BUS records\n",
      "Split viral alignments into host/masked for batch AAAAAAAAAAAAAATA...\n",
      "Read in 163926393 BUS records\n",
      "Read in 6069362 BUS records, wrote 2457 BUS records\n",
      "Read in 163926393 BUS records\n",
      "Read in 6069362 BUS records, wrote 6066905 BUS records\n"
     ]
    },
    {
     "name": "stderr",
     "output_type": "stream",
     "text": [
      " 12%|█████████████▊                                                                                                   | 13/106 [elapsed: 2:15:24 remaining: 16:39:20]"
     ]
    },
    {
     "name": "stdout",
     "output_type": "stream",
     "text": [
      "Capture reads for batch AAAAAAAAAAAAAATC for virus and host alignments...\n",
      "Read in 236692562 BUS records, wrote 1109729 BUS records\n",
      "Read in 8828381950 BUS records, wrote 23861384 BUS records\n",
      "Split viral alignments into host/masked for batch AAAAAAAAAAAAAATC...\n",
      "Read in 23861384 BUS records\n",
      "Read in 1109729 BUS records, wrote 610 BUS records\n",
      "Read in 23861384 BUS records\n",
      "Read in 1109729 BUS records, wrote 1109119 BUS records\n"
     ]
    },
    {
     "name": "stderr",
     "output_type": "stream",
     "text": [
      " 13%|██████████████▉                                                                                                  | 14/106 [elapsed: 2:23:15 remaining: 15:08:22]"
     ]
    },
    {
     "name": "stdout",
     "output_type": "stream",
     "text": [
      "Capture reads for batch AAAAAAAAAAAAAATG for virus and host alignments...\n",
      "Read in 236692562 BUS records, wrote 1037291 BUS records\n",
      "Read in 8828381950 BUS records, wrote 33675428 BUS records\n",
      "Split viral alignments into host/masked for batch AAAAAAAAAAAAAATG...\n",
      "Read in 33675428 BUS records\n",
      "Read in 1037291 BUS records, wrote 746 BUS records\n",
      "Read in 33675428 BUS records\n",
      "Read in 1037291 BUS records, wrote 1036545 BUS records\n"
     ]
    },
    {
     "name": "stderr",
     "output_type": "stream",
     "text": [
      " 14%|███████████████▉                                                                                                 | 15/106 [elapsed: 2:33:25 remaining: 15:06:13]"
     ]
    },
    {
     "name": "stdout",
     "output_type": "stream",
     "text": [
      "Capture reads for batch AAAAAAAAAAAAAATT for virus and host alignments...\n",
      "Read in 236692562 BUS records, wrote 2570978 BUS records\n",
      "Read in 8828381950 BUS records, wrote 120090474 BUS records\n",
      "Split viral alignments into host/masked for batch AAAAAAAAAAAAAATT...\n",
      "Read in 120090474 BUS records\n",
      "Read in 2570978 BUS records, wrote 1980 BUS records\n",
      "Read in 120090474 BUS records\n",
      "Read in 2570978 BUS records, wrote 2568998 BUS records\n"
     ]
    },
    {
     "name": "stderr",
     "output_type": "stream",
     "text": [
      " 15%|█████████████████                                                                                                | 16/106 [elapsed: 2:44:12 remaining: 15:18:44]"
     ]
    },
    {
     "name": "stdout",
     "output_type": "stream",
     "text": [
      "Capture reads for batch AAAAAAAAAAAAACAA for virus and host alignments...\n",
      "Read in 236692562 BUS records, wrote 397956 BUS records\n",
      "Read in 8828381950 BUS records, wrote 37352445 BUS records\n",
      "Split viral alignments into host/masked for batch AAAAAAAAAAAAACAA...\n",
      "Read in 37352445 BUS records\n",
      "Read in 397956 BUS records, wrote 835 BUS records\n",
      "Read in 37352445 BUS records\n",
      "Read in 397956 BUS records, wrote 397121 BUS records\n"
     ]
    },
    {
     "name": "stderr",
     "output_type": "stream",
     "text": [
      " 16%|██████████████████                                                                                               | 17/106 [elapsed: 2:53:11 remaining: 14:35:40]"
     ]
    },
    {
     "name": "stdout",
     "output_type": "stream",
     "text": [
      "Capture reads for batch AAAAAAAAAAAAACAC for virus and host alignments...\n",
      "Read in 236692562 BUS records, wrote 910811 BUS records\n",
      "Read in 8828381950 BUS records, wrote 31806892 BUS records\n",
      "Split viral alignments into host/masked for batch AAAAAAAAAAAAACAC...\n",
      "Read in 31806892 BUS records\n",
      "Read in 910811 BUS records, wrote 833 BUS records\n",
      "Read in 31806892 BUS records\n",
      "Read in 910811 BUS records, wrote 909978 BUS records\n"
     ]
    },
    {
     "name": "stderr",
     "output_type": "stream",
     "text": [
      " 17%|███████████████████▏                                                                                             | 18/106 [elapsed: 3:01:59 remaining: 13:58:38]"
     ]
    },
    {
     "name": "stdout",
     "output_type": "stream",
     "text": [
      "Capture reads for batch AAAAAAAAAAAAACAG for virus and host alignments...\n",
      "Read in 236692562 BUS records, wrote 472731 BUS records\n",
      "Read in 8828381950 BUS records, wrote 52562892 BUS records\n",
      "Split viral alignments into host/masked for batch AAAAAAAAAAAAACAG...\n",
      "Read in 52562892 BUS records\n",
      "Read in 472731 BUS records, wrote 974 BUS records\n",
      "Read in 52562892 BUS records\n",
      "Read in 472731 BUS records, wrote 471757 BUS records\n"
     ]
    },
    {
     "name": "stderr",
     "output_type": "stream",
     "text": [
      " 18%|████████████████████▎                                                                                            | 19/106 [elapsed: 3:11:30 remaining: 13:48:30]"
     ]
    },
    {
     "name": "stdout",
     "output_type": "stream",
     "text": [
      "Capture reads for batch AAAAAAAAAAAAACAT for virus and host alignments...\n",
      "Read in 236692562 BUS records, wrote 1415136 BUS records\n",
      "Read in 8828381950 BUS records, wrote 150335471 BUS records\n",
      "Split viral alignments into host/masked for batch AAAAAAAAAAAAACAT...\n",
      "Read in 150335471 BUS records\n",
      "Read in 1415136 BUS records, wrote 2864 BUS records\n",
      "Read in 150335471 BUS records\n",
      "Read in 1415136 BUS records, wrote 1412272 BUS records\n"
     ]
    },
    {
     "name": "stderr",
     "output_type": "stream",
     "text": [
      " 19%|█████████████████████▎                                                                                           | 20/106 [elapsed: 3:23:02 remaining: 14:31:01]"
     ]
    },
    {
     "name": "stdout",
     "output_type": "stream",
     "text": [
      "Capture reads for batch AAAAAAAAAAAAACCA for virus and host alignments...\n",
      "Read in 236692562 BUS records, wrote 3158330 BUS records\n",
      "Read in 8828381950 BUS records, wrote 112459582 BUS records\n",
      "Split viral alignments into host/masked for batch AAAAAAAAAAAAACCA...\n",
      "Read in 112459582 BUS records\n",
      "Read in 3158330 BUS records, wrote 24360 BUS records\n",
      "Read in 112459582 BUS records\n",
      "Read in 3158330 BUS records, wrote 3133970 BUS records\n"
     ]
    },
    {
     "name": "stderr",
     "output_type": "stream",
     "text": [
      " 20%|██████████████████████▍                                                                                          | 21/106 [elapsed: 3:33:21 remaining: 14:25:42]"
     ]
    },
    {
     "name": "stdout",
     "output_type": "stream",
     "text": [
      "Capture reads for batch AAAAAAAAAAAAACCC for virus and host alignments...\n",
      "Read in 236692562 BUS records, wrote 5859828 BUS records\n",
      "Read in 8828381950 BUS records, wrote 273658017 BUS records\n",
      "Split viral alignments into host/masked for batch AAAAAAAAAAAAACCC...\n",
      "Read in 273658017 BUS records\n",
      "Read in 5859828 BUS records, wrote 9061 BUS records\n",
      "Read in 273658017 BUS records\n",
      "Read in 5859828 BUS records, wrote 5850767 BUS records\n"
     ]
    },
    {
     "name": "stderr",
     "output_type": "stream",
     "text": [
      " 21%|███████████████████████▍                                                                                         | 22/106 [elapsed: 3:47:42 remaining: 16:00:15]"
     ]
    },
    {
     "name": "stdout",
     "output_type": "stream",
     "text": [
      "Capture reads for batch AAAAAAAAAAAAACCG for virus and host alignments...\n",
      "Read in 236692562 BUS records, wrote 3390382 BUS records\n",
      "Read in 8828381950 BUS records, wrote 131430849 BUS records\n",
      "Split viral alignments into host/masked for batch AAAAAAAAAAAAACCG...\n",
      "Read in 131430849 BUS records\n",
      "Read in 3390382 BUS records, wrote 1858 BUS records\n",
      "Read in 131430849 BUS records\n",
      "Read in 3390382 BUS records, wrote 3388524 BUS records\n"
     ]
    },
    {
     "name": "stderr",
     "output_type": "stream",
     "text": [
      " 22%|████████████████████████▌                                                                                        | 23/106 [elapsed: 3:59:02 remaining: 15:46:31]"
     ]
    },
    {
     "name": "stdout",
     "output_type": "stream",
     "text": [
      "Capture reads for batch AAAAAAAAAAAAACCT for virus and host alignments...\n",
      "Read in 236692562 BUS records, wrote 4122677 BUS records\n",
      "Read in 8828381950 BUS records, wrote 129456560 BUS records\n",
      "Split viral alignments into host/masked for batch AAAAAAAAAAAAACCT...\n",
      "Read in 129456560 BUS records\n",
      "Read in 4122677 BUS records, wrote 2525 BUS records\n",
      "Read in 129456560 BUS records\n",
      "Read in 4122677 BUS records, wrote 4120152 BUS records\n"
     ]
    },
    {
     "name": "stderr",
     "output_type": "stream",
     "text": [
      " 23%|█████████████████████████▌                                                                                       | 24/106 [elapsed: 4:10:48 remaining: 15:44:05]"
     ]
    },
    {
     "name": "stdout",
     "output_type": "stream",
     "text": [
      "Capture reads for batch AAAAAAAAAAAAACGA for virus and host alignments...\n",
      "Read in 236692562 BUS records, wrote 2234597 BUS records\n",
      "Read in 8828381950 BUS records, wrote 70500301 BUS records\n",
      "Split viral alignments into host/masked for batch AAAAAAAAAAAAACGA...\n",
      "Read in 70500301 BUS records\n",
      "Read in 2234597 BUS records, wrote 1136 BUS records\n",
      "Read in 70500301 BUS records\n",
      "Read in 2234597 BUS records, wrote 2233461 BUS records\n"
     ]
    },
    {
     "name": "stderr",
     "output_type": "stream",
     "text": [
      " 24%|██████████████████████████▋                                                                                      | 25/106 [elapsed: 4:20:28 remaining: 14:47:32]"
     ]
    },
    {
     "name": "stdout",
     "output_type": "stream",
     "text": [
      "Capture reads for batch AAAAAAAAAAAAACGC for virus and host alignments...\n",
      "Read in 236692562 BUS records, wrote 1108225 BUS records\n",
      "Read in 8828381950 BUS records, wrote 33367025 BUS records\n",
      "Split viral alignments into host/masked for batch AAAAAAAAAAAAACGC...\n",
      "Read in 33367025 BUS records\n",
      "Read in 1108225 BUS records, wrote 469 BUS records\n",
      "Read in 33367025 BUS records\n",
      "Read in 1108225 BUS records, wrote 1107756 BUS records\n"
     ]
    },
    {
     "name": "stderr",
     "output_type": "stream",
     "text": [
      " 25%|███████████████████████████▋                                                                                     | 26/106 [elapsed: 4:29:23 remaining: 13:47:43]"
     ]
    },
    {
     "name": "stdout",
     "output_type": "stream",
     "text": [
      "Capture reads for batch AAAAAAAAAAAAACGG for virus and host alignments...\n",
      "Read in 236692562 BUS records, wrote 3017594 BUS records\n",
      "Read in 8828381950 BUS records, wrote 120563997 BUS records\n",
      "Split viral alignments into host/masked for batch AAAAAAAAAAAAACGG...\n",
      "Read in 120563997 BUS records\n",
      "Read in 3017594 BUS records, wrote 2666 BUS records\n",
      "Read in 120563997 BUS records\n",
      "Read in 3017594 BUS records, wrote 3014928 BUS records\n"
     ]
    },
    {
     "name": "stderr",
     "output_type": "stream",
     "text": [
      " 25%|████████████████████████████▊                                                                                    | 27/106 [elapsed: 4:40:43 remaining: 14:00:52]"
     ]
    },
    {
     "name": "stdout",
     "output_type": "stream",
     "text": [
      "Capture reads for batch AAAAAAAAAAAAACGT for virus and host alignments...\n",
      "Read in 236692562 BUS records, wrote 1463604 BUS records\n",
      "Read in 8828381950 BUS records, wrote 20857560 BUS records\n",
      "Split viral alignments into host/masked for batch AAAAAAAAAAAAACGT...\n",
      "Read in 20857560 BUS records\n",
      "Read in 1463604 BUS records, wrote 422 BUS records\n",
      "Read in 20857560 BUS records\n",
      "Read in 1463604 BUS records, wrote 1463182 BUS records\n"
     ]
    },
    {
     "name": "stderr",
     "output_type": "stream",
     "text": [
      " 26%|█████████████████████████████▊                                                                                   | 28/106 [elapsed: 4:50:10 remaining: 13:22:21]"
     ]
    },
    {
     "name": "stdout",
     "output_type": "stream",
     "text": [
      "Capture reads for batch AAAAAAAAAAAAACTA for virus and host alignments...\n",
      "Read in 236692562 BUS records, wrote 635893 BUS records\n",
      "Read in 8828381950 BUS records, wrote 42651108 BUS records\n",
      "Split viral alignments into host/masked for batch AAAAAAAAAAAAACTA...\n",
      "Read in 42651108 BUS records\n",
      "Read in 635893 BUS records, wrote 1015 BUS records\n",
      "Read in 42651108 BUS records\n",
      "Read in 635893 BUS records, wrote 634878 BUS records\n"
     ]
    },
    {
     "name": "stderr",
     "output_type": "stream",
     "text": [
      " 27%|██████████████████████████████▉                                                                                  | 29/106 [elapsed: 5:00:15 remaining: 13:07:24]"
     ]
    },
    {
     "name": "stdout",
     "output_type": "stream",
     "text": [
      "Capture reads for batch AAAAAAAAAAAAACTC for virus and host alignments...\n",
      "Read in 236692562 BUS records, wrote 2905156 BUS records\n",
      "Read in 8828381950 BUS records, wrote 149524311 BUS records\n",
      "Split viral alignments into host/masked for batch AAAAAAAAAAAAACTC...\n",
      "Read in 149524311 BUS records\n",
      "Read in 2905156 BUS records, wrote 2337 BUS records\n",
      "Read in 149524311 BUS records\n",
      "Read in 2905156 BUS records, wrote 2902819 BUS records\n"
     ]
    },
    {
     "name": "stderr",
     "output_type": "stream",
     "text": [
      " 28%|███████████████████████████████▉                                                                                 | 30/106 [elapsed: 5:12:46 remaining: 13:49:20]"
     ]
    },
    {
     "name": "stdout",
     "output_type": "stream",
     "text": [
      "Capture reads for batch AAAAAAAAAAAAACTG for virus and host alignments...\n",
      "Read in 236692562 BUS records, wrote 1770548 BUS records\n",
      "Read in 8828381950 BUS records, wrote 74037785 BUS records\n",
      "Split viral alignments into host/masked for batch AAAAAAAAAAAAACTG...\n",
      "Read in 74037785 BUS records\n",
      "Read in 1770548 BUS records, wrote 1223 BUS records\n",
      "Read in 74037785 BUS records\n",
      "Read in 1770548 BUS records, wrote 1769325 BUS records\n"
     ]
    },
    {
     "name": "stderr",
     "output_type": "stream",
     "text": [
      " 29%|█████████████████████████████████                                                                                | 31/106 [elapsed: 5:23:42 remaining: 13:38:37]"
     ]
    },
    {
     "name": "stdout",
     "output_type": "stream",
     "text": [
      "Capture reads for batch AAAAAAAAAAAAACTT for virus and host alignments...\n",
      "Read in 236692562 BUS records, wrote 826263 BUS records\n",
      "Read in 8828381950 BUS records, wrote 68940633 BUS records\n",
      "Split viral alignments into host/masked for batch AAAAAAAAAAAAACTT...\n",
      "Read in 68940633 BUS records\n",
      "Read in 826263 BUS records, wrote 1651 BUS records\n",
      "Read in 68940633 BUS records\n",
      "Read in 826263 BUS records, wrote 824612 BUS records\n"
     ]
    },
    {
     "name": "stderr",
     "output_type": "stream",
     "text": [
      " 30%|██████████████████████████████████                                                                               | 32/106 [elapsed: 5:34:30 remaining: 13:25:11]"
     ]
    },
    {
     "name": "stdout",
     "output_type": "stream",
     "text": [
      "Capture reads for batch AAAAAAAAAAAAAGAA for virus and host alignments...\n",
      "Read in 236692562 BUS records, wrote 1179451 BUS records\n",
      "Read in 8828381950 BUS records, wrote 54767075 BUS records\n",
      "Split viral alignments into host/masked for batch AAAAAAAAAAAAAGAA...\n",
      "Read in 54767075 BUS records\n",
      "Read in 1179451 BUS records, wrote 1682 BUS records\n",
      "Read in 54767075 BUS records\n",
      "Read in 1179451 BUS records, wrote 1177769 BUS records\n"
     ]
    },
    {
     "name": "stderr",
     "output_type": "stream",
     "text": [
      " 31%|███████████████████████████████████▏                                                                             | 33/106 [elapsed: 5:45:48 remaining: 13:23:45]"
     ]
    },
    {
     "name": "stdout",
     "output_type": "stream",
     "text": [
      "Capture reads for batch AAAAAAAAAAAAAGAC for virus and host alignments...\n",
      "Read in 236692562 BUS records, wrote 613583 BUS records\n",
      "Read in 8828381950 BUS records, wrote 205193764 BUS records\n",
      "Split viral alignments into host/masked for batch AAAAAAAAAAAAAGAC...\n",
      "Read in 205193764 BUS records\n",
      "Read in 613583 BUS records, wrote 8180 BUS records\n",
      "Read in 205193764 BUS records\n",
      "Read in 613583 BUS records, wrote 605403 BUS records\n"
     ]
    },
    {
     "name": "stderr",
     "output_type": "stream",
     "text": [
      " 32%|████████████████████████████████████▏                                                                            | 34/106 [elapsed: 6:01:14 remaining: 14:48:11]"
     ]
    },
    {
     "name": "stdout",
     "output_type": "stream",
     "text": [
      "Capture reads for batch AAAAAAAAAAAAAGAG for virus and host alignments...\n",
      "Read in 236692562 BUS records, wrote 3965407 BUS records\n",
      "Read in 8828381950 BUS records, wrote 97785625 BUS records\n",
      "Split viral alignments into host/masked for batch AAAAAAAAAAAAAGAG...\n",
      "Read in 97785625 BUS records\n",
      "Read in 3965407 BUS records, wrote 1537 BUS records\n",
      "Read in 97785625 BUS records\n",
      "Read in 3965407 BUS records, wrote 3963870 BUS records\n"
     ]
    },
    {
     "name": "stderr",
     "output_type": "stream",
     "text": [
      " 33%|█████████████████████████████████████▎                                                                           | 35/106 [elapsed: 6:15:06 remaining: 15:08:32]"
     ]
    },
    {
     "name": "stdout",
     "output_type": "stream",
     "text": [
      "Capture reads for batch AAAAAAAAAAAAAGAT for virus and host alignments...\n",
      "Read in 236692562 BUS records, wrote 906567 BUS records\n",
      "Read in 8828381950 BUS records, wrote 70940374 BUS records\n",
      "Split viral alignments into host/masked for batch AAAAAAAAAAAAAGAT...\n",
      "Read in 70940374 BUS records\n",
      "Read in 906567 BUS records, wrote 1265 BUS records\n",
      "Read in 70940374 BUS records\n",
      "Read in 906567 BUS records, wrote 905302 BUS records\n"
     ]
    },
    {
     "name": "stderr",
     "output_type": "stream",
     "text": [
      " 34%|██████████████████████████████████████▍                                                                          | 36/106 [elapsed: 6:25:03 remaining: 13:55:49]"
     ]
    },
    {
     "name": "stdout",
     "output_type": "stream",
     "text": [
      "Capture reads for batch AAAAAAAAAAAAAGCA for virus and host alignments...\n",
      "Read in 236692562 BUS records, wrote 1715392 BUS records\n",
      "Read in 8828381950 BUS records, wrote 17918528 BUS records\n",
      "Split viral alignments into host/masked for batch AAAAAAAAAAAAAGCA...\n",
      "Read in 17918528 BUS records\n",
      "Read in 1715392 BUS records, wrote 347 BUS records\n",
      "Read in 17918528 BUS records\n",
      "Read in 1715392 BUS records, wrote 1715045 BUS records\n"
     ]
    },
    {
     "name": "stderr",
     "output_type": "stream",
     "text": [
      " 35%|███████████████████████████████████████▍                                                                         | 37/106 [elapsed: 6:33:38 remaining: 12:34:29]"
     ]
    },
    {
     "name": "stdout",
     "output_type": "stream",
     "text": [
      "Capture reads for batch AAAAAAAAAAAAAGCC for virus and host alignments...\n",
      "Read in 236692562 BUS records, wrote 2514896 BUS records\n",
      "Read in 8828381950 BUS records, wrote 56820228 BUS records\n",
      "Split viral alignments into host/masked for batch AAAAAAAAAAAAAGCC...\n",
      "Read in 56820228 BUS records\n",
      "Read in 2514896 BUS records, wrote 901 BUS records\n",
      "Read in 56820228 BUS records\n",
      "Read in 2514896 BUS records, wrote 2513995 BUS records\n"
     ]
    },
    {
     "name": "stderr",
     "output_type": "stream",
     "text": [
      " 36%|████████████████████████████████████████▌                                                                        | 38/106 [elapsed: 6:45:45 remaining: 12:47:40]"
     ]
    },
    {
     "name": "stdout",
     "output_type": "stream",
     "text": [
      "Capture reads for batch AAAAAAAAAAAAAGCG for virus and host alignments...\n",
      "Read in 236692562 BUS records, wrote 37069 BUS records\n",
      "Read in 8828381950 BUS records, wrote 72578274 BUS records\n",
      "Split viral alignments into host/masked for batch AAAAAAAAAAAAAGCG...\n",
      "Read in 72578274 BUS records\n",
      "Read in 37069 BUS records, wrote 3704 BUS records\n",
      "Read in 72578274 BUS records\n",
      "Read in 37069 BUS records, wrote 33365 BUS records\n"
     ]
    },
    {
     "name": "stderr",
     "output_type": "stream",
     "text": [
      " 37%|█████████████████████████████████████████▌                                                                       | 39/106 [elapsed: 6:55:30 remaining: 12:05:31]"
     ]
    },
    {
     "name": "stdout",
     "output_type": "stream",
     "text": [
      "Capture reads for batch AAAAAAAAAAAAAGCT for virus and host alignments...\n",
      "Read in 236692562 BUS records, wrote 1502952 BUS records\n",
      "Read in 8828381950 BUS records, wrote 83997111 BUS records\n",
      "Split viral alignments into host/masked for batch AAAAAAAAAAAAAGCT...\n",
      "Read in 83997111 BUS records\n",
      "Read in 1502952 BUS records, wrote 1764 BUS records\n",
      "Read in 83997111 BUS records\n",
      "Read in 1502952 BUS records, wrote 1501188 BUS records\n"
     ]
    },
    {
     "name": "stderr",
     "output_type": "stream",
     "text": [
      " 38%|██████████████████████████████████████████▋                                                                      | 40/106 [elapsed: 7:05:38 remaining: 11:40:50]"
     ]
    },
    {
     "name": "stdout",
     "output_type": "stream",
     "text": [
      "Capture reads for batch AAAAAAAAAAAAAGGA for virus and host alignments...\n",
      "Read in 236692562 BUS records, wrote 1806434 BUS records\n",
      "Read in 8828381950 BUS records, wrote 55969577 BUS records\n",
      "Split viral alignments into host/masked for batch AAAAAAAAAAAAAGGA...\n",
      "Read in 55969577 BUS records\n",
      "Read in 1806434 BUS records, wrote 945 BUS records\n",
      "Read in 55969577 BUS records\n",
      "Read in 1806434 BUS records, wrote 1805489 BUS records\n"
     ]
    },
    {
     "name": "stderr",
     "output_type": "stream",
     "text": [
      " 39%|███████████████████████████████████████████▋                                                                     | 41/106 [elapsed: 7:15:39 remaining: 11:18:19]"
     ]
    },
    {
     "name": "stdout",
     "output_type": "stream",
     "text": [
      "Capture reads for batch AAAAAAAAAAAAAGGC for virus and host alignments...\n",
      "Read in 236692562 BUS records, wrote 570198 BUS records\n",
      "Read in 8828381950 BUS records, wrote 59286031 BUS records\n",
      "Split viral alignments into host/masked for batch AAAAAAAAAAAAAGGC...\n",
      "Read in 59286031 BUS records\n",
      "Read in 570198 BUS records, wrote 979 BUS records\n",
      "Read in 59286031 BUS records\n",
      "Read in 570198 BUS records, wrote 569219 BUS records\n"
     ]
    },
    {
     "name": "stderr",
     "output_type": "stream",
     "text": [
      " 40%|████████████████████████████████████████████▊                                                                    | 42/106 [elapsed: 7:27:06 remaining: 11:27:25]"
     ]
    },
    {
     "name": "stdout",
     "output_type": "stream",
     "text": [
      "Capture reads for batch AAAAAAAAAAAAAGGG for virus and host alignments...\n",
      "Read in 236692562 BUS records, wrote 2639303 BUS records\n",
      "Read in 8828381950 BUS records, wrote 49017613 BUS records\n",
      "Split viral alignments into host/masked for batch AAAAAAAAAAAAAGGG...\n",
      "Read in 49017613 BUS records\n",
      "Read in 2639303 BUS records, wrote 1130 BUS records\n",
      "Read in 49017613 BUS records\n",
      "Read in 2639303 BUS records, wrote 2638173 BUS records\n"
     ]
    },
    {
     "name": "stderr",
     "output_type": "stream",
     "text": [
      " 41%|█████████████████████████████████████████████▊                                                                   | 43/106 [elapsed: 7:38:02 remaining: 11:20:16]"
     ]
    },
    {
     "name": "stdout",
     "output_type": "stream",
     "text": [
      "Capture reads for batch AAAAAAAAAAAAAGGT for virus and host alignments...\n",
      "Read in 236692562 BUS records, wrote 65353 BUS records\n",
      "Read in 8828381950 BUS records, wrote 248827902 BUS records\n",
      "Split viral alignments into host/masked for batch AAAAAAAAAAAAAGGT...\n",
      "Read in 248827902 BUS records\n",
      "Read in 65353 BUS records, wrote 15628 BUS records\n",
      "Read in 248827902 BUS records\n",
      "Read in 65353 BUS records, wrote 49725 BUS records\n"
     ]
    },
    {
     "name": "stderr",
     "output_type": "stream",
     "text": [
      " 42%|██████████████████████████████████████████████▉                                                                  | 44/106 [elapsed: 7:52:34 remaining: 12:19:01]"
     ]
    },
    {
     "name": "stdout",
     "output_type": "stream",
     "text": [
      "Capture reads for batch AAAAAAAAAAAAAGTA for virus and host alignments...\n",
      "Read in 236692562 BUS records, wrote 1075786 BUS records\n",
      "Read in 8828381950 BUS records, wrote 51622612 BUS records\n",
      "Split viral alignments into host/masked for batch AAAAAAAAAAAAAGTA...\n",
      "Read in 51622612 BUS records\n",
      "Read in 1075786 BUS records, wrote 991 BUS records\n",
      "Read in 51622612 BUS records\n",
      "Read in 1075786 BUS records, wrote 1074795 BUS records\n"
     ]
    },
    {
     "name": "stderr",
     "output_type": "stream",
     "text": [
      " 42%|███████████████████████████████████████████████▉                                                                 | 45/106 [elapsed: 8:03:03 remaining: 11:40:43]"
     ]
    },
    {
     "name": "stdout",
     "output_type": "stream",
     "text": [
      "Capture reads for batch AAAAAAAAAAAAAGTC for virus and host alignments...\n",
      "Read in 236692562 BUS records, wrote 2930624 BUS records\n",
      "Read in 8828381950 BUS records, wrote 152776283 BUS records\n",
      "Split viral alignments into host/masked for batch AAAAAAAAAAAAAGTC...\n",
      "Read in 152776283 BUS records\n",
      "Read in 2930624 BUS records, wrote 9582 BUS records\n",
      "Read in 152776283 BUS records\n",
      "Read in 2930624 BUS records, wrote 2921042 BUS records\n"
     ]
    },
    {
     "name": "stderr",
     "output_type": "stream",
     "text": [
      " 43%|█████████████████████████████████████████████████                                                                | 46/106 [elapsed: 8:16:21 remaining: 12:01:52]"
     ]
    },
    {
     "name": "stdout",
     "output_type": "stream",
     "text": [
      "Capture reads for batch AAAAAAAAAAAAAGTG for virus and host alignments...\n",
      "Read in 236692562 BUS records, wrote 5838647 BUS records\n",
      "Read in 8828381950 BUS records, wrote 75873759 BUS records\n",
      "Split viral alignments into host/masked for batch AAAAAAAAAAAAAGTG...\n",
      "Read in 75873759 BUS records\n",
      "Read in 5838647 BUS records, wrote 27051 BUS records\n",
      "Read in 75873759 BUS records\n",
      "Read in 5838647 BUS records, wrote 5811596 BUS records\n"
     ]
    },
    {
     "name": "stderr",
     "output_type": "stream",
     "text": [
      " 44%|██████████████████████████████████████████████████                                                               | 47/106 [elapsed: 8:27:13 remaining: 11:29:16]"
     ]
    },
    {
     "name": "stdout",
     "output_type": "stream",
     "text": [
      "Capture reads for batch AAAAAAAAAAAAAGTT for virus and host alignments...\n",
      "Read in 236692562 BUS records, wrote 13927422 BUS records\n",
      "Read in 8828381950 BUS records, wrote 28462191 BUS records\n",
      "Split viral alignments into host/masked for batch AAAAAAAAAAAAAGTT...\n",
      "Read in 28462191 BUS records\n",
      "Read in 13927422 BUS records, wrote 838 BUS records\n",
      "Read in 28462191 BUS records\n",
      "Read in 13927422 BUS records, wrote 13926584 BUS records\n"
     ]
    },
    {
     "name": "stderr",
     "output_type": "stream",
     "text": [
      " 45%|███████████████████████████████████████████████████▏                                                             | 48/106 [elapsed: 8:37:39 remaining: 10:55:57]"
     ]
    },
    {
     "name": "stdout",
     "output_type": "stream",
     "text": [
      "Capture reads for batch AAAAAAAAAAAAATAA for virus and host alignments...\n",
      "Read in 236692562 BUS records, wrote 1056071 BUS records\n",
      "Read in 8828381950 BUS records, wrote 55501755 BUS records\n",
      "Split viral alignments into host/masked for batch AAAAAAAAAAAAATAA...\n",
      "Read in 55501755 BUS records\n",
      "Read in 1056071 BUS records, wrote 999 BUS records\n",
      "Read in 55501755 BUS records\n",
      "Read in 1056071 BUS records, wrote 1055072 BUS records\n"
     ]
    },
    {
     "name": "stderr",
     "output_type": "stream",
     "text": [
      " 46%|████████████████████████████████████████████████████▏                                                            | 49/106 [elapsed: 8:49:14 remaining: 10:49:18]"
     ]
    },
    {
     "name": "stdout",
     "output_type": "stream",
     "text": [
      "Capture reads for batch AAAAAAAAAAAAATAC for virus and host alignments...\n",
      "Read in 236692562 BUS records, wrote 2748214 BUS records\n",
      "Read in 8828381950 BUS records, wrote 89436032 BUS records\n",
      "Split viral alignments into host/masked for batch AAAAAAAAAAAAATAC...\n",
      "Read in 89436032 BUS records\n",
      "Read in 2748214 BUS records, wrote 1181 BUS records\n",
      "Read in 89436032 BUS records\n",
      "Read in 2748214 BUS records, wrote 2747033 BUS records\n"
     ]
    },
    {
     "name": "stderr",
     "output_type": "stream",
     "text": [
      " 47%|█████████████████████████████████████████████████████▎                                                           | 50/106 [elapsed: 9:01:10 remaining: 10:46:50]"
     ]
    },
    {
     "name": "stdout",
     "output_type": "stream",
     "text": [
      "Capture reads for batch AAAAAAAAAAAAATAG for virus and host alignments...\n",
      "Read in 236692562 BUS records, wrote 2983422 BUS records\n",
      "Read in 8828381950 BUS records, wrote 88204432 BUS records\n",
      "Split viral alignments into host/masked for batch AAAAAAAAAAAAATAG...\n",
      "Read in 88204432 BUS records\n",
      "Read in 2983422 BUS records, wrote 1272 BUS records\n",
      "Read in 88204432 BUS records\n",
      "Read in 2983422 BUS records, wrote 2982150 BUS records\n"
     ]
    },
    {
     "name": "stderr",
     "output_type": "stream",
     "text": [
      " 48%|██████████████████████████████████████████████████████▎                                                          | 51/106 [elapsed: 9:13:19 remaining: 10:45:16]"
     ]
    },
    {
     "name": "stdout",
     "output_type": "stream",
     "text": [
      "Capture reads for batch AAAAAAAAAAAAATAT for virus and host alignments...\n",
      "Read in 236692562 BUS records, wrote 645762 BUS records\n",
      "Read in 8828381950 BUS records, wrote 22731158 BUS records\n",
      "Split viral alignments into host/masked for batch AAAAAAAAAAAAATAT...\n",
      "Read in 22731158 BUS records\n",
      "Read in 645762 BUS records, wrote 520 BUS records\n",
      "Read in 22731158 BUS records\n",
      "Read in 645762 BUS records, wrote 645242 BUS records\n"
     ]
    },
    {
     "name": "stderr",
     "output_type": "stream",
     "text": [
      " 49%|███████████████████████████████████████████████████████▍                                                         | 52/106 [elapsed: 9:23:15 remaining: 10:04:23]"
     ]
    },
    {
     "name": "stdout",
     "output_type": "stream",
     "text": [
      "Capture reads for batch AAAAAAAAAAAAATCA for virus and host alignments...\n",
      "Read in 236692562 BUS records, wrote 1403038 BUS records\n",
      "Read in 8828381950 BUS records, wrote 19781671 BUS records\n",
      "Split viral alignments into host/masked for batch AAAAAAAAAAAAATCA...\n",
      "Read in 19781671 BUS records\n",
      "Read in 1403038 BUS records, wrote 317 BUS records\n",
      "Read in 19781671 BUS records\n",
      "Read in 1403038 BUS records, wrote 1402721 BUS records\n"
     ]
    },
    {
     "name": "stderr",
     "output_type": "stream",
     "text": [
      " 50%|█████████████████████████████████████████████████████████                                                         | 53/106 [elapsed: 9:32:36 remaining: 9:23:57]"
     ]
    },
    {
     "name": "stdout",
     "output_type": "stream",
     "text": [
      "Capture reads for batch AAAAAAAAAAAAATCC for virus and host alignments...\n",
      "Read in 236692562 BUS records, wrote 4420457 BUS records\n",
      "Read in 8828381950 BUS records, wrote 124538268 BUS records\n",
      "Split viral alignments into host/masked for batch AAAAAAAAAAAAATCC...\n",
      "Read in 124538268 BUS records\n",
      "Read in 4420457 BUS records, wrote 2894 BUS records\n",
      "Read in 124538268 BUS records\n",
      "Read in 4420457 BUS records, wrote 4417563 BUS records\n"
     ]
    },
    {
     "name": "stderr",
     "output_type": "stream",
     "text": [
      " 51%|██████████████████████████████████████████████████████████                                                        | 54/106 [elapsed: 9:44:55 remaining: 9:39:34]"
     ]
    },
    {
     "name": "stdout",
     "output_type": "stream",
     "text": [
      "Capture reads for batch AAAAAAAAAAAAATCG for virus and host alignments...\n",
      "Read in 236692562 BUS records, wrote 492505 BUS records\n",
      "Read in 8828381950 BUS records, wrote 33268192 BUS records\n",
      "Split viral alignments into host/masked for batch AAAAAAAAAAAAATCG...\n",
      "Read in 33268192 BUS records\n",
      "Read in 492505 BUS records, wrote 840 BUS records\n",
      "Read in 33268192 BUS records\n",
      "Read in 492505 BUS records, wrote 491665 BUS records\n"
     ]
    },
    {
     "name": "stderr",
     "output_type": "stream",
     "text": [
      " 52%|███████████████████████████████████████████████████████████▏                                                      | 55/106 [elapsed: 9:55:18 remaining: 9:16:31]"
     ]
    },
    {
     "name": "stdout",
     "output_type": "stream",
     "text": [
      "Capture reads for batch AAAAAAAAAAAAATCT for virus and host alignments...\n",
      "Read in 236692562 BUS records, wrote 369187 BUS records\n",
      "Read in 8828381950 BUS records, wrote 69008852 BUS records\n",
      "Split viral alignments into host/masked for batch AAAAAAAAAAAAATCT...\n",
      "Read in 69008852 BUS records\n",
      "Read in 369187 BUS records, wrote 1276 BUS records\n",
      "Read in 69008852 BUS records\n",
      "Read in 369187 BUS records, wrote 367911 BUS records\n"
     ]
    },
    {
     "name": "stderr",
     "output_type": "stream",
     "text": [
      " 53%|███████████████████████████████████████████████████████████▋                                                     | 56/106 [elapsed: 10:06:06 remaining: 9:04:08]"
     ]
    },
    {
     "name": "stdout",
     "output_type": "stream",
     "text": [
      "Capture reads for batch AAAAAAAAAAAAATGA for virus and host alignments...\n",
      "Read in 236692562 BUS records, wrote 562009 BUS records\n",
      "Read in 8828381950 BUS records, wrote 26196176 BUS records\n",
      "Split viral alignments into host/masked for batch AAAAAAAAAAAAATGA...\n",
      "Read in 26196176 BUS records\n",
      "Read in 562009 BUS records, wrote 702 BUS records\n",
      "Read in 26196176 BUS records\n",
      "Read in 562009 BUS records, wrote 561307 BUS records\n"
     ]
    },
    {
     "name": "stderr",
     "output_type": "stream",
     "text": [
      " 54%|████████████████████████████████████████████████████████████▊                                                    | 57/106 [elapsed: 10:15:56 remaining: 8:37:39]"
     ]
    },
    {
     "name": "stdout",
     "output_type": "stream",
     "text": [
      "Capture reads for batch AAAAAAAAAAAAATGC for virus and host alignments...\n",
      "Read in 236692562 BUS records, wrote 811982 BUS records\n",
      "Read in 8828381950 BUS records, wrote 81477471 BUS records\n",
      "Split viral alignments into host/masked for batch AAAAAAAAAAAAATGC...\n",
      "Read in 81477471 BUS records\n",
      "Read in 811982 BUS records, wrote 1777 BUS records\n",
      "Read in 81477471 BUS records\n",
      "Read in 811982 BUS records, wrote 810205 BUS records\n"
     ]
    },
    {
     "name": "stderr",
     "output_type": "stream",
     "text": [
      " 55%|█████████████████████████████████████████████████████████████▊                                                   | 58/106 [elapsed: 10:26:51 remaining: 8:32:12]"
     ]
    },
    {
     "name": "stdout",
     "output_type": "stream",
     "text": [
      "Capture reads for batch AAAAAAAAAAAAATGG for virus and host alignments...\n",
      "Read in 236692562 BUS records, wrote 20282420 BUS records\n",
      "Read in 8828381950 BUS records, wrote 97344342 BUS records\n",
      "Split viral alignments into host/masked for batch AAAAAAAAAAAAATGG...\n",
      "Read in 97344342 BUS records\n",
      "Read in 20282420 BUS records, wrote 3093 BUS records\n",
      "Read in 97344342 BUS records\n",
      "Read in 20282420 BUS records, wrote 20279327 BUS records\n"
     ]
    },
    {
     "name": "stderr",
     "output_type": "stream",
     "text": [
      " 56%|██████████████████████████████████████████████████████████████▉                                                  | 59/106 [elapsed: 10:37:49 remaining: 8:25:43]"
     ]
    },
    {
     "name": "stdout",
     "output_type": "stream",
     "text": [
      "Capture reads for batch AAAAAAAAAAAAATGT for virus and host alignments...\n",
      "Read in 236692562 BUS records, wrote 206693 BUS records\n",
      "Read in 8828381950 BUS records, wrote 20993485 BUS records\n",
      "Split viral alignments into host/masked for batch AAAAAAAAAAAAATGT...\n",
      "Read in 20993485 BUS records\n",
      "Read in 206693 BUS records, wrote 437 BUS records\n",
      "Read in 20993485 BUS records\n",
      "Read in 206693 BUS records, wrote 206256 BUS records\n"
     ]
    },
    {
     "name": "stderr",
     "output_type": "stream",
     "text": [
      " 57%|███████████████████████████████████████████████████████████████▉                                                 | 60/106 [elapsed: 10:47:18 remaining: 7:57:17]"
     ]
    },
    {
     "name": "stdout",
     "output_type": "stream",
     "text": [
      "Capture reads for batch AAAAAAAAAAAAATTA for virus and host alignments...\n",
      "Read in 236692562 BUS records, wrote 2126193 BUS records\n",
      "Read in 8828381950 BUS records, wrote 31959305 BUS records\n",
      "Split viral alignments into host/masked for batch AAAAAAAAAAAAATTA...\n",
      "Read in 31959305 BUS records\n",
      "Read in 2126193 BUS records, wrote 668 BUS records\n",
      "Read in 31959305 BUS records\n",
      "Read in 2126193 BUS records, wrote 2125525 BUS records\n"
     ]
    },
    {
     "name": "stderr",
     "output_type": "stream",
     "text": [
      " 58%|█████████████████████████████████████████████████████████████████                                                | 61/106 [elapsed: 10:56:35 remaining: 7:32:16]"
     ]
    },
    {
     "name": "stdout",
     "output_type": "stream",
     "text": [
      "Capture reads for batch AAAAAAAAAAAAATTC for virus and host alignments...\n",
      "Read in 236692562 BUS records, wrote 503639 BUS records\n",
      "Read in 8828381950 BUS records, wrote 50797409 BUS records\n",
      "Split viral alignments into host/masked for batch AAAAAAAAAAAAATTC...\n",
      "Read in 50797409 BUS records\n",
      "Read in 503639 BUS records, wrote 1080 BUS records\n",
      "Read in 50797409 BUS records\n",
      "Read in 503639 BUS records, wrote 502559 BUS records\n"
     ]
    },
    {
     "name": "stderr",
     "output_type": "stream",
     "text": [
      " 58%|██████████████████████████████████████████████████████████████████                                               | 62/106 [elapsed: 11:06:48 remaining: 7:24:20]"
     ]
    },
    {
     "name": "stdout",
     "output_type": "stream",
     "text": [
      "Capture reads for batch AAAAAAAAAAAAATTG for virus and host alignments...\n",
      "Read in 236692562 BUS records, wrote 1532852 BUS records\n",
      "Read in 8828381950 BUS records, wrote 46209396 BUS records\n",
      "Split viral alignments into host/masked for batch AAAAAAAAAAAAATTG...\n",
      "Read in 46209396 BUS records\n",
      "Read in 1532852 BUS records, wrote 1065 BUS records\n",
      "Read in 46209396 BUS records\n",
      "Read in 1532852 BUS records, wrote 1531787 BUS records\n"
     ]
    },
    {
     "name": "stderr",
     "output_type": "stream",
     "text": [
      " 59%|███████████████████████████████████████████████████████████████████▏                                             | 63/106 [elapsed: 11:16:40 remaining: 7:11:20]"
     ]
    },
    {
     "name": "stdout",
     "output_type": "stream",
     "text": [
      "Capture reads for batch AAAAAAAAAAAAATTT for virus and host alignments...\n",
      "Read in 236692562 BUS records, wrote 910334 BUS records\n",
      "Read in 8828381950 BUS records, wrote 78880144 BUS records\n",
      "Split viral alignments into host/masked for batch AAAAAAAAAAAAATTT...\n",
      "Read in 78880144 BUS records\n",
      "Read in 910334 BUS records, wrote 1905 BUS records\n",
      "Read in 78880144 BUS records\n",
      "Read in 910334 BUS records, wrote 908429 BUS records\n"
     ]
    },
    {
     "name": "stderr",
     "output_type": "stream",
     "text": [
      " 60%|████████████████████████████████████████████████████████████████████▏                                            | 64/106 [elapsed: 11:26:58 remaining: 7:04:32]"
     ]
    },
    {
     "name": "stdout",
     "output_type": "stream",
     "text": [
      "Capture reads for batch AAAAAAAAAAAACAAA for virus and host alignments...\n",
      "Read in 236692562 BUS records, wrote 4755837 BUS records\n",
      "Read in 8828381950 BUS records, wrote 52836258 BUS records\n",
      "Split viral alignments into host/masked for batch AAAAAAAAAAAACAAA...\n",
      "Read in 52836258 BUS records\n",
      "Read in 4755837 BUS records, wrote 1121 BUS records\n",
      "Read in 52836258 BUS records\n",
      "Read in 4755837 BUS records, wrote 4754716 BUS records\n"
     ]
    },
    {
     "name": "stderr",
     "output_type": "stream",
     "text": [
      " 61%|█████████████████████████████████████████████████████████████████████▎                                           | 65/106 [elapsed: 11:37:13 remaining: 6:56:21]"
     ]
    },
    {
     "name": "stdout",
     "output_type": "stream",
     "text": [
      "Capture reads for batch AAAAAAAAAAAACAAC for virus and host alignments...\n",
      "Read in 236692562 BUS records, wrote 117163 BUS records\n",
      "Read in 8828381950 BUS records, wrote 146625507 BUS records\n",
      "Split viral alignments into host/masked for batch AAAAAAAAAAAACAAC...\n",
      "Read in 146625507 BUS records\n",
      "Read in 117163 BUS records, wrote 8868 BUS records\n",
      "Read in 146625507 BUS records\n",
      "Read in 117163 BUS records, wrote 108295 BUS records\n"
     ]
    },
    {
     "name": "stderr",
     "output_type": "stream",
     "text": [
      " 62%|██████████████████████████████████████████████████████████████████████▎                                          | 66/106 [elapsed: 11:49:22 remaining: 7:10:04]"
     ]
    },
    {
     "name": "stdout",
     "output_type": "stream",
     "text": [
      "Capture reads for batch AAAAAAAAAAAACAAG for virus and host alignments...\n",
      "Read in 236692562 BUS records, wrote 813805 BUS records\n",
      "Read in 8828381950 BUS records, wrote 122064622 BUS records\n",
      "Split viral alignments into host/masked for batch AAAAAAAAAAAACAAG...\n",
      "Read in 122064622 BUS records\n",
      "Read in 813805 BUS records, wrote 3341 BUS records\n",
      "Read in 122064622 BUS records\n",
      "Read in 813805 BUS records, wrote 810464 BUS records\n"
     ]
    },
    {
     "name": "stderr",
     "output_type": "stream",
     "text": [
      " 63%|███████████████████████████████████████████████████████████████████████▍                                         | 67/106 [elapsed: 12:01:37 remaining: 7:16:48]"
     ]
    },
    {
     "name": "stdout",
     "output_type": "stream",
     "text": [
      "Capture reads for batch AAAAAAAAAAAACAAT for virus and host alignments...\n",
      "Read in 236692562 BUS records, wrote 2857625 BUS records\n",
      "Read in 8828381950 BUS records, wrote 114145636 BUS records\n",
      "Split viral alignments into host/masked for batch AAAAAAAAAAAACAAT...\n",
      "Read in 114145636 BUS records\n",
      "Read in 2857625 BUS records, wrote 1986 BUS records\n",
      "Read in 114145636 BUS records\n",
      "Read in 2857625 BUS records, wrote 2855639 BUS records\n"
     ]
    },
    {
     "name": "stderr",
     "output_type": "stream",
     "text": [
      " 64%|████████████████████████████████████████████████████████████████████████▍                                        | 68/106 [elapsed: 12:13:17 remaining: 7:10:55]"
     ]
    },
    {
     "name": "stdout",
     "output_type": "stream",
     "text": [
      "Capture reads for batch AAAAAAAAAAAACACA for virus and host alignments...\n",
      "Read in 236692562 BUS records, wrote 1957980 BUS records\n",
      "Read in 8828381950 BUS records, wrote 57061930 BUS records\n",
      "Split viral alignments into host/masked for batch AAAAAAAAAAAACACA...\n",
      "Read in 57061930 BUS records\n",
      "Read in 1957980 BUS records, wrote 22429 BUS records\n",
      "Read in 57061930 BUS records\n",
      "Read in 1957980 BUS records, wrote 1935551 BUS records\n"
     ]
    },
    {
     "name": "stderr",
     "output_type": "stream",
     "text": [
      " 65%|█████████████████████████████████████████████████████████████████████████▌                                       | 69/106 [elapsed: 12:23:37 remaining: 6:48:29]"
     ]
    },
    {
     "name": "stdout",
     "output_type": "stream",
     "text": [
      "Capture reads for batch AAAAAAAAAAAACACC for virus and host alignments...\n",
      "Read in 236692562 BUS records, wrote 3451667 BUS records\n",
      "Read in 8828381950 BUS records, wrote 184919486 BUS records\n",
      "Split viral alignments into host/masked for batch AAAAAAAAAAAACACC...\n",
      "Read in 184919486 BUS records\n",
      "Read in 3451667 BUS records, wrote 3163 BUS records\n",
      "Read in 184919486 BUS records\n",
      "Read in 3451667 BUS records, wrote 3448504 BUS records\n"
     ]
    },
    {
     "name": "stderr",
     "output_type": "stream",
     "text": [
      " 66%|██████████████████████████████████████████████████████████████████████████▌                                      | 70/106 [elapsed: 12:37:33 remaining: 7:08:42]"
     ]
    },
    {
     "name": "stdout",
     "output_type": "stream",
     "text": [
      "Capture reads for batch AAAAAAAAAAAACACG for virus and host alignments...\n",
      "Read in 236692562 BUS records, wrote 4145573 BUS records\n",
      "Read in 8828381950 BUS records, wrote 139225215 BUS records\n",
      "Split viral alignments into host/masked for batch AAAAAAAAAAAACACG...\n",
      "Read in 139225215 BUS records\n",
      "Read in 4145573 BUS records, wrote 2000 BUS records\n",
      "Read in 139225215 BUS records\n",
      "Read in 4145573 BUS records, wrote 4143573 BUS records\n"
     ]
    },
    {
     "name": "stderr",
     "output_type": "stream",
     "text": [
      " 67%|███████████████████████████████████████████████████████████████████████████▋                                     | 71/106 [elapsed: 12:49:37 remaining: 6:58:24]"
     ]
    },
    {
     "name": "stdout",
     "output_type": "stream",
     "text": [
      "Capture reads for batch AAAAAAAAAAAACACT for virus and host alignments...\n",
      "Read in 236692562 BUS records, wrote 2914675 BUS records\n",
      "Read in 8828381950 BUS records, wrote 127866169 BUS records\n",
      "Split viral alignments into host/masked for batch AAAAAAAAAAAACACT...\n",
      "Read in 127866169 BUS records\n",
      "Read in 2914675 BUS records, wrote 1744 BUS records\n",
      "Read in 127866169 BUS records\n",
      "Read in 2914675 BUS records, wrote 2912931 BUS records\n"
     ]
    },
    {
     "name": "stderr",
     "output_type": "stream",
     "text": [
      " 68%|████████████████████████████████████████████████████████████████████████████▊                                    | 72/106 [elapsed: 13:01:29 remaining: 6:45:34]"
     ]
    },
    {
     "name": "stdout",
     "output_type": "stream",
     "text": [
      "Capture reads for batch AAAAAAAAAAAACAGA for virus and host alignments...\n",
      "Read in 236692562 BUS records, wrote 5381499 BUS records\n",
      "Read in 8828381950 BUS records, wrote 257403557 BUS records\n",
      "Split viral alignments into host/masked for batch AAAAAAAAAAAACAGA...\n",
      "Read in 257403557 BUS records\n",
      "Read in 5381499 BUS records, wrote 11726 BUS records\n",
      "Read in 257403557 BUS records\n",
      "Read in 5381499 BUS records, wrote 5369773 BUS records\n"
     ]
    },
    {
     "name": "stderr",
     "output_type": "stream",
     "text": [
      " 69%|█████████████████████████████████████████████████████████████████████████████▊                                   | 73/106 [elapsed: 13:16:53 remaining: 7:07:57]"
     ]
    },
    {
     "name": "stdout",
     "output_type": "stream",
     "text": [
      "Capture reads for batch AAAAAAAAAAAACAGC for virus and host alignments...\n",
      "Read in 236692562 BUS records, wrote 13963406 BUS records\n",
      "Read in 8828381950 BUS records, wrote 58268481 BUS records\n",
      "Split viral alignments into host/masked for batch AAAAAAAAAAAACAGC...\n",
      "Read in 58268481 BUS records\n",
      "Read in 13963406 BUS records, wrote 1518 BUS records\n",
      "Read in 58268481 BUS records\n",
      "Read in 13963406 BUS records, wrote 13961888 BUS records\n"
     ]
    },
    {
     "name": "stderr",
     "output_type": "stream",
     "text": [
      " 70%|██████████████████████████████████████████████████████████████████████████████▉                                  | 74/106 [elapsed: 13:27:53 remaining: 6:36:10]"
     ]
    },
    {
     "name": "stdout",
     "output_type": "stream",
     "text": [
      "Capture reads for batch AAAAAAAAAAAACAGG for virus and host alignments...\n",
      "Read in 236692562 BUS records, wrote 1599249 BUS records\n",
      "Read in 8828381950 BUS records, wrote 115611532 BUS records\n",
      "Split viral alignments into host/masked for batch AAAAAAAAAAAACAGG...\n",
      "Read in 115611532 BUS records\n",
      "Read in 1599249 BUS records, wrote 1664 BUS records\n",
      "Read in 115611532 BUS records\n",
      "Read in 1599249 BUS records, wrote 1597585 BUS records\n"
     ]
    },
    {
     "name": "stderr",
     "output_type": "stream",
     "text": [
      " 71%|███████████████████████████████████████████████████████████████████████████████▉                                 | 75/106 [elapsed: 13:41:45 remaining: 6:37:30]"
     ]
    },
    {
     "name": "stdout",
     "output_type": "stream",
     "text": [
      "Capture reads for batch AAAAAAAAAAAACAGT for virus and host alignments...\n",
      "Read in 236692562 BUS records, wrote 890300 BUS records\n",
      "Read in 8828381950 BUS records, wrote 65214304 BUS records\n",
      "Split viral alignments into host/masked for batch AAAAAAAAAAAACAGT...\n",
      "Read in 65214304 BUS records\n",
      "Read in 890300 BUS records, wrote 1261 BUS records\n",
      "Read in 65214304 BUS records\n",
      "Read in 890300 BUS records, wrote 889039 BUS records\n"
     ]
    },
    {
     "name": "stderr",
     "output_type": "stream",
     "text": [
      " 72%|█████████████████████████████████████████████████████████████████████████████████                                | 76/106 [elapsed: 13:52:14 remaining: 6:03:42]"
     ]
    },
    {
     "name": "stdout",
     "output_type": "stream",
     "text": [
      "Capture reads for batch AAAAAAAAAAAACATA for virus and host alignments...\n",
      "Read in 236692562 BUS records, wrote 757176 BUS records\n",
      "Read in 8828381950 BUS records, wrote 57685287 BUS records\n",
      "Split viral alignments into host/masked for batch AAAAAAAAAAAACATA...\n",
      "Read in 57685287 BUS records\n",
      "Read in 757176 BUS records, wrote 896 BUS records\n",
      "Read in 57685287 BUS records\n",
      "Read in 757176 BUS records, wrote 756280 BUS records\n"
     ]
    },
    {
     "name": "stderr",
     "output_type": "stream",
     "text": [
      " 73%|██████████████████████████████████████████████████████████████████████████████████                               | 77/106 [elapsed: 14:02:34 remaining: 5:36:00]"
     ]
    },
    {
     "name": "stdout",
     "output_type": "stream",
     "text": [
      "Capture reads for batch AAAAAAAAAAAACATC for virus and host alignments...\n",
      "Read in 236692562 BUS records, wrote 678869 BUS records\n",
      "Read in 8828381950 BUS records, wrote 74930488 BUS records\n",
      "Split viral alignments into host/masked for batch AAAAAAAAAAAACATC...\n",
      "Read in 74930488 BUS records\n",
      "Read in 678869 BUS records, wrote 1763 BUS records\n",
      "Read in 74930488 BUS records\n",
      "Read in 678869 BUS records, wrote 677106 BUS records\n"
     ]
    },
    {
     "name": "stderr",
     "output_type": "stream",
     "text": [
      " 74%|███████████████████████████████████████████████████████████████████████████████████▏                             | 78/106 [elapsed: 14:13:01 remaining: 5:14:51]"
     ]
    },
    {
     "name": "stdout",
     "output_type": "stream",
     "text": [
      "Capture reads for batch AAAAAAAAAAAACATG for virus and host alignments...\n",
      "Read in 236692562 BUS records, wrote 3794321 BUS records\n",
      "Read in 8828381950 BUS records, wrote 84613566 BUS records\n",
      "Split viral alignments into host/masked for batch AAAAAAAAAAAACATG...\n",
      "Read in 84613566 BUS records\n",
      "Read in 3794321 BUS records, wrote 1646 BUS records\n",
      "Read in 84613566 BUS records\n",
      "Read in 3794321 BUS records, wrote 3792675 BUS records\n"
     ]
    },
    {
     "name": "stderr",
     "output_type": "stream",
     "text": [
      " 75%|████████████████████████████████████████████████████████████████████████████████████▏                            | 79/106 [elapsed: 14:23:41 remaining: 4:58:51]"
     ]
    },
    {
     "name": "stdout",
     "output_type": "stream",
     "text": [
      "Capture reads for batch AAAAAAAAAAAACATT for virus and host alignments...\n",
      "Read in 236692562 BUS records, wrote 9478410 BUS records\n",
      "Read in 8828381950 BUS records, wrote 42379686 BUS records\n",
      "Split viral alignments into host/masked for batch AAAAAAAAAAAACATT...\n",
      "Read in 42379686 BUS records\n",
      "Read in 9478410 BUS records, wrote 1053 BUS records\n",
      "Read in 42379686 BUS records\n",
      "Read in 9478410 BUS records, wrote 9477357 BUS records\n"
     ]
    },
    {
     "name": "stderr",
     "output_type": "stream",
     "text": [
      " 75%|█████████████████████████████████████████████████████████████████████████████████████▎                           | 80/106 [elapsed: 14:33:04 remaining: 4:34:39]"
     ]
    },
    {
     "name": "stdout",
     "output_type": "stream",
     "text": [
      "Capture reads for batch AAAAAAAAAAAACCAA for virus and host alignments...\n",
      "Read in 236692562 BUS records, wrote 1468882 BUS records\n",
      "Read in 8828381950 BUS records, wrote 69350878 BUS records\n",
      "Split viral alignments into host/masked for batch AAAAAAAAAAAACCAA...\n",
      "Read in 69350878 BUS records\n",
      "Read in 1468882 BUS records, wrote 1614 BUS records\n",
      "Read in 69350878 BUS records\n",
      "Read in 1468882 BUS records, wrote 1467268 BUS records\n"
     ]
    },
    {
     "name": "stderr",
     "output_type": "stream",
     "text": [
      " 76%|██████████████████████████████████████████████████████████████████████████████████████▎                          | 81/106 [elapsed: 14:43:08 remaining: 4:20:25]"
     ]
    },
    {
     "name": "stdout",
     "output_type": "stream",
     "text": [
      "Capture reads for batch AAAAAAAAAAAACCAC for virus and host alignments...\n",
      "Read in 236692562 BUS records, wrote 1364785 BUS records\n",
      "Read in 8828381950 BUS records, wrote 77563517 BUS records\n",
      "Split viral alignments into host/masked for batch AAAAAAAAAAAACCAC...\n",
      "Read in 77563517 BUS records\n",
      "Read in 1364785 BUS records, wrote 991 BUS records\n",
      "Read in 77563517 BUS records\n",
      "Read in 1364785 BUS records, wrote 1363794 BUS records\n"
     ]
    },
    {
     "name": "stderr",
     "output_type": "stream",
     "text": [
      " 77%|███████████████████████████████████████████████████████████████████████████████████████▍                         | 82/106 [elapsed: 14:54:08 remaining: 4:14:09]"
     ]
    },
    {
     "name": "stdout",
     "output_type": "stream",
     "text": [
      "Capture reads for batch AAAAAAAAAAAACCAG for virus and host alignments...\n",
      "Read in 236692562 BUS records, wrote 521294 BUS records\n",
      "Read in 8828381950 BUS records, wrote 67211886 BUS records\n",
      "Split viral alignments into host/masked for batch AAAAAAAAAAAACCAG...\n",
      "Read in 67211886 BUS records\n",
      "Read in 521294 BUS records, wrote 1088 BUS records\n",
      "Read in 67211886 BUS records\n",
      "Read in 521294 BUS records, wrote 520206 BUS records\n"
     ]
    },
    {
     "name": "stderr",
     "output_type": "stream",
     "text": [
      " 78%|████████████████████████████████████████████████████████████████████████████████████████▍                        | 83/106 [elapsed: 15:04:42 remaining: 4:03:29]"
     ]
    },
    {
     "name": "stdout",
     "output_type": "stream",
     "text": [
      "Capture reads for batch AAAAAAAAAAAACCAT for virus and host alignments...\n",
      "Read in 236692562 BUS records, wrote 882155 BUS records\n",
      "Read in 8828381950 BUS records, wrote 35096036 BUS records\n",
      "Split viral alignments into host/masked for batch AAAAAAAAAAAACCAT...\n",
      "Read in 35096036 BUS records\n",
      "Read in 882155 BUS records, wrote 587 BUS records\n",
      "Read in 35096036 BUS records\n",
      "Read in 882155 BUS records, wrote 881568 BUS records\n"
     ]
    },
    {
     "name": "stderr",
     "output_type": "stream",
     "text": [
      " 79%|█████████████████████████████████████████████████████████████████████████████████████████▌                       | 84/106 [elapsed: 15:15:13 remaining: 3:52:26]"
     ]
    },
    {
     "name": "stdout",
     "output_type": "stream",
     "text": [
      "Capture reads for batch AAAAAAAAAAAACCCA for virus and host alignments...\n",
      "Read in 236692562 BUS records, wrote 543637 BUS records\n",
      "Read in 8828381950 BUS records, wrote 55561813 BUS records\n",
      "Split viral alignments into host/masked for batch AAAAAAAAAAAACCCA...\n",
      "Read in 55561813 BUS records\n",
      "Read in 543637 BUS records, wrote 1633 BUS records\n",
      "Read in 55561813 BUS records\n",
      "Read in 543637 BUS records, wrote 542004 BUS records\n"
     ]
    },
    {
     "name": "stderr",
     "output_type": "stream",
     "text": [
      " 80%|██████████████████████████████████████████████████████████████████████████████████████████▌                      | 85/106 [elapsed: 15:25:53 remaining: 3:42:25]"
     ]
    },
    {
     "name": "stdout",
     "output_type": "stream",
     "text": [
      "Capture reads for batch AAAAAAAAAAAACCCC for virus and host alignments...\n",
      "Read in 236692562 BUS records, wrote 1076855 BUS records\n",
      "Read in 8828381950 BUS records, wrote 35952484 BUS records\n",
      "Split viral alignments into host/masked for batch AAAAAAAAAAAACCCC...\n",
      "Read in 35952484 BUS records\n",
      "Read in 1076855 BUS records, wrote 721 BUS records\n",
      "Read in 35952484 BUS records\n",
      "Read in 1076855 BUS records, wrote 1076134 BUS records\n"
     ]
    },
    {
     "name": "stderr",
     "output_type": "stream",
     "text": [
      " 81%|███████████████████████████████████████████████████████████████████████████████████████████▋                     | 86/106 [elapsed: 15:36:52 remaining: 3:34:16]"
     ]
    },
    {
     "name": "stdout",
     "output_type": "stream",
     "text": [
      "Capture reads for batch AAAAAAAAAAAACCCG for virus and host alignments...\n",
      "Read in 236692562 BUS records, wrote 465744 BUS records\n",
      "Read in 8828381950 BUS records, wrote 51890879 BUS records\n",
      "Split viral alignments into host/masked for batch AAAAAAAAAAAACCCG...\n",
      "Read in 51890879 BUS records\n",
      "Read in 465744 BUS records, wrote 1049 BUS records\n",
      "Read in 51890879 BUS records\n",
      "Read in 465744 BUS records, wrote 464695 BUS records\n"
     ]
    },
    {
     "name": "stderr",
     "output_type": "stream",
     "text": [
      " 82%|████████████████████████████████████████████████████████████████████████████████████████████▋                    | 87/106 [elapsed: 15:47:32 remaining: 3:23:13]"
     ]
    },
    {
     "name": "stdout",
     "output_type": "stream",
     "text": [
      "Capture reads for batch AAAAAAAAAAAACCCT for virus and host alignments...\n",
      "Read in 236692562 BUS records, wrote 365738 BUS records\n",
      "Read in 8828381950 BUS records, wrote 29274912 BUS records\n",
      "Split viral alignments into host/masked for batch AAAAAAAAAAAACCCT...\n",
      "Read in 29274912 BUS records\n",
      "Read in 365738 BUS records, wrote 481 BUS records\n",
      "Read in 29274912 BUS records\n",
      "Read in 365738 BUS records, wrote 365257 BUS records\n"
     ]
    },
    {
     "name": "stderr",
     "output_type": "stream",
     "text": [
      " 83%|█████████████████████████████████████████████████████████████████████████████████████████████▊                   | 88/106 [elapsed: 15:57:57 remaining: 3:11:00]"
     ]
    },
    {
     "name": "stdout",
     "output_type": "stream",
     "text": [
      "Capture reads for batch AAAAAAAAAAAACCGA for virus and host alignments...\n",
      "Read in 236692562 BUS records, wrote 882857 BUS records\n",
      "Read in 8828381950 BUS records, wrote 35470119 BUS records\n",
      "Split viral alignments into host/masked for batch AAAAAAAAAAAACCGA...\n",
      "Read in 35470119 BUS records\n",
      "Read in 882857 BUS records, wrote 561 BUS records\n",
      "Read in 35470119 BUS records\n",
      "Read in 882857 BUS records, wrote 882296 BUS records\n"
     ]
    },
    {
     "name": "stderr",
     "output_type": "stream",
     "text": [
      " 84%|██████████████████████████████████████████████████████████████████████████████████████████████▉                  | 89/106 [elapsed: 16:08:29 remaining: 3:00:02]"
     ]
    },
    {
     "name": "stdout",
     "output_type": "stream",
     "text": [
      "Capture reads for batch AAAAAAAAAAAACCGC for virus and host alignments...\n",
      "Read in 236692562 BUS records, wrote 1018655 BUS records\n",
      "Read in 8828381950 BUS records, wrote 130361841 BUS records\n",
      "Split viral alignments into host/masked for batch AAAAAAAAAAAACCGC...\n",
      "Read in 130361841 BUS records\n",
      "Read in 1018655 BUS records, wrote 2345 BUS records\n",
      "Read in 130361841 BUS records\n",
      "Read in 1018655 BUS records, wrote 1016310 BUS records\n"
     ]
    },
    {
     "name": "stderr",
     "output_type": "stream",
     "text": [
      " 85%|███████████████████████████████████████████████████████████████████████████████████████████████▉                 | 90/106 [elapsed: 16:20:54 remaining: 2:58:13]"
     ]
    },
    {
     "name": "stdout",
     "output_type": "stream",
     "text": [
      "Capture reads for batch AAAAAAAAAAAACCGG for virus and host alignments...\n",
      "Read in 236692562 BUS records, wrote 1065360 BUS records\n",
      "Read in 8828381950 BUS records, wrote 42674949 BUS records\n",
      "Split viral alignments into host/masked for batch AAAAAAAAAAAACCGG...\n",
      "Read in 42674949 BUS records\n",
      "Read in 1065360 BUS records, wrote 747 BUS records\n",
      "Read in 42674949 BUS records\n",
      "Read in 1065360 BUS records, wrote 1064613 BUS records\n"
     ]
    },
    {
     "name": "stderr",
     "output_type": "stream",
     "text": [
      " 86%|█████████████████████████████████████████████████████████████████████████████████████████████████                | 91/106 [elapsed: 16:33:43 remaining: 2:54:35]"
     ]
    },
    {
     "name": "stdout",
     "output_type": "stream",
     "text": [
      "Capture reads for batch AAAAAAAAAAAACCGT for virus and host alignments...\n",
      "Read in 236692562 BUS records, wrote 30078 BUS records\n",
      "Read in 8828381950 BUS records, wrote 94278041 BUS records\n",
      "Split viral alignments into host/masked for batch AAAAAAAAAAAACCGT...\n",
      "Read in 94278041 BUS records\n",
      "Read in 30078 BUS records, wrote 4538 BUS records\n",
      "Read in 94278041 BUS records\n",
      "Read in 30078 BUS records, wrote 25540 BUS records\n"
     ]
    },
    {
     "name": "stderr",
     "output_type": "stream",
     "text": [
      " 87%|██████████████████████████████████████████████████████████████████████████████████████████████████               | 92/106 [elapsed: 16:47:34 remaining: 2:52:16]"
     ]
    },
    {
     "name": "stdout",
     "output_type": "stream",
     "text": [
      "Capture reads for batch AAAAAAAAAAAACCTA for virus and host alignments...\n",
      "Read in 236692562 BUS records, wrote 2029340 BUS records\n",
      "Read in 8828381950 BUS records, wrote 123183736 BUS records\n",
      "Split viral alignments into host/masked for batch AAAAAAAAAAAACCTA...\n",
      "Read in 123183736 BUS records\n",
      "Read in 2029340 BUS records, wrote 3291 BUS records\n",
      "Read in 123183736 BUS records\n",
      "Read in 2029340 BUS records, wrote 2026049 BUS records\n"
     ]
    },
    {
     "name": "stderr",
     "output_type": "stream",
     "text": [
      " 88%|███████████████████████████████████████████████████████████████████████████████████████████████████▏             | 93/106 [elapsed: 17:01:38 remaining: 2:46:47]"
     ]
    },
    {
     "name": "stdout",
     "output_type": "stream",
     "text": [
      "Capture reads for batch AAAAAAAAAAAACCTC for virus and host alignments...\n",
      "Read in 236692562 BUS records, wrote 1301145 BUS records\n",
      "Read in 8828381950 BUS records, wrote 220239913 BUS records\n",
      "Split viral alignments into host/masked for batch AAAAAAAAAAAACCTC...\n",
      "Read in 220239913 BUS records\n",
      "Read in 1301145 BUS records, wrote 9035 BUS records\n",
      "Read in 220239913 BUS records\n",
      "Read in 1301145 BUS records, wrote 1292110 BUS records\n"
     ]
    },
    {
     "name": "stderr",
     "output_type": "stream",
     "text": [
      " 89%|████████████████████████████████████████████████████████████████████████████████████████████████████▏            | 94/106 [elapsed: 17:17:22 remaining: 2:44:26]"
     ]
    },
    {
     "name": "stdout",
     "output_type": "stream",
     "text": [
      "Capture reads for batch AAAAAAAAAAAACCTG for virus and host alignments...\n",
      "Read in 236692562 BUS records, wrote 1230856 BUS records\n",
      "Read in 8828381950 BUS records, wrote 124835564 BUS records\n",
      "Split viral alignments into host/masked for batch AAAAAAAAAAAACCTG...\n",
      "Read in 124835564 BUS records\n",
      "Read in 1230856 BUS records, wrote 2767 BUS records\n",
      "Read in 124835564 BUS records\n",
      "Read in 1230856 BUS records, wrote 1228089 BUS records\n"
     ]
    },
    {
     "name": "stderr",
     "output_type": "stream",
     "text": [
      " 90%|█████████████████████████████████████████████████████████████████████████████████████████████████████▎           | 95/106 [elapsed: 17:30:09 remaining: 2:27:41]"
     ]
    },
    {
     "name": "stdout",
     "output_type": "stream",
     "text": [
      "Capture reads for batch AAAAAAAAAAAACCTT for virus and host alignments...\n",
      "Read in 236692562 BUS records, wrote 437374 BUS records\n",
      "Read in 8828381950 BUS records, wrote 28574655 BUS records\n",
      "Split viral alignments into host/masked for batch AAAAAAAAAAAACCTT...\n",
      "Read in 28574655 BUS records\n",
      "Read in 437374 BUS records, wrote 740 BUS records\n",
      "Read in 28574655 BUS records\n",
      "Read in 437374 BUS records, wrote 436634 BUS records\n"
     ]
    },
    {
     "name": "stderr",
     "output_type": "stream",
     "text": [
      " 91%|██████████████████████████████████████████████████████████████████████████████████████████████████████▎          | 96/106 [elapsed: 17:39:40 remaining: 2:02:32]"
     ]
    },
    {
     "name": "stdout",
     "output_type": "stream",
     "text": [
      "Capture reads for batch AAAAAAAAAAAACGAA for virus and host alignments...\n",
      "Read in 236692562 BUS records, wrote 2280745 BUS records\n",
      "Read in 8828381950 BUS records, wrote 118611382 BUS records\n",
      "Split viral alignments into host/masked for batch AAAAAAAAAAAACGAA...\n",
      "Read in 118611382 BUS records\n",
      "Read in 2280745 BUS records, wrote 2053 BUS records\n",
      "Read in 118611382 BUS records\n",
      "Read in 2280745 BUS records, wrote 2278692 BUS records\n"
     ]
    },
    {
     "name": "stderr",
     "output_type": "stream",
     "text": [
      " 92%|███████████████████████████████████████████████████████████████████████████████████████████████████████▍         | 97/106 [elapsed: 17:51:47 remaining: 1:49:54]"
     ]
    },
    {
     "name": "stdout",
     "output_type": "stream",
     "text": [
      "Capture reads for batch AAAAAAAAAAAACGAC for virus and host alignments...\n",
      "Read in 236692562 BUS records, wrote 1324653 BUS records\n",
      "Read in 8828381950 BUS records, wrote 118425407 BUS records\n",
      "Split viral alignments into host/masked for batch AAAAAAAAAAAACGAC...\n",
      "Read in 118425407 BUS records\n",
      "Read in 1324653 BUS records, wrote 2722 BUS records\n",
      "Read in 118425407 BUS records\n",
      "Read in 1324653 BUS records, wrote 1321931 BUS records\n"
     ]
    },
    {
     "name": "stderr",
     "output_type": "stream",
     "text": [
      " 92%|████████████████████████████████████████████████████████████████████████████████████████████████████████▍        | 98/106 [elapsed: 18:03:36 remaining: 1:36:46]"
     ]
    },
    {
     "name": "stdout",
     "output_type": "stream",
     "text": [
      "Capture reads for batch AAAAAAAAAAAACGAG for virus and host alignments...\n",
      "Read in 236692562 BUS records, wrote 2000874 BUS records\n",
      "Read in 8828381950 BUS records, wrote 147969088 BUS records\n",
      "Split viral alignments into host/masked for batch AAAAAAAAAAAACGAG...\n",
      "Read in 147969088 BUS records\n",
      "Read in 2000874 BUS records, wrote 2255 BUS records\n",
      "Read in 147969088 BUS records\n",
      "Read in 2000874 BUS records, wrote 1998619 BUS records\n"
     ]
    },
    {
     "name": "stderr",
     "output_type": "stream",
     "text": [
      " 93%|█████████████████████████████████████████████████████████████████████████████████████████████████████████▌       | 99/106 [elapsed: 18:16:11 remaining: 1:25:40]"
     ]
    },
    {
     "name": "stdout",
     "output_type": "stream",
     "text": [
      "Capture reads for batch AAAAAAAAAAAACGAT for virus and host alignments...\n",
      "Read in 236692562 BUS records, wrote 898943 BUS records\n",
      "Read in 8828381950 BUS records, wrote 71003495 BUS records\n",
      "Split viral alignments into host/masked for batch AAAAAAAAAAAACGAT...\n",
      "Read in 71003495 BUS records\n",
      "Read in 898943 BUS records, wrote 1616 BUS records\n",
      "Read in 71003495 BUS records\n",
      "Read in 898943 BUS records, wrote 897327 BUS records\n"
     ]
    },
    {
     "name": "stderr",
     "output_type": "stream",
     "text": [
      " 94%|█████████████████████████████████████████████████████████████████████████████████████████████████████████▋      | 100/106 [elapsed: 18:27:21 remaining: 1:11:31]"
     ]
    },
    {
     "name": "stdout",
     "output_type": "stream",
     "text": [
      "Capture reads for batch AAAAAAAAAAAACGCA for virus and host alignments...\n",
      "Read in 236692562 BUS records, wrote 4856287 BUS records\n",
      "Read in 8828381950 BUS records, wrote 111290688 BUS records\n",
      "Split viral alignments into host/masked for batch AAAAAAAAAAAACGCA...\n",
      "Read in 111290688 BUS records\n",
      "Read in 4856287 BUS records, wrote 1855 BUS records\n",
      "Read in 111290688 BUS records\n",
      "Read in 4856287 BUS records, wrote 4854432 BUS records\n"
     ]
    },
    {
     "name": "stderr",
     "output_type": "stream",
     "text": [
      " 95%|████████████████████████████████████████████████████████████████████████████████████████████████████████████▌     | 101/106 [elapsed: 18:39:04 remaining: 59:16]"
     ]
    },
    {
     "name": "stdout",
     "output_type": "stream",
     "text": [
      "Capture reads for batch AAAAAAAAAAAACGCC for virus and host alignments...\n",
      "Read in 236692562 BUS records, wrote 348603 BUS records\n",
      "Read in 8828381950 BUS records, wrote 30035732 BUS records\n",
      "Split viral alignments into host/masked for batch AAAAAAAAAAAACGCC...\n",
      "Read in 30035732 BUS records\n",
      "Read in 348603 BUS records, wrote 643 BUS records\n",
      "Read in 30035732 BUS records\n",
      "Read in 348603 BUS records, wrote 347960 BUS records\n"
     ]
    },
    {
     "name": "stderr",
     "output_type": "stream",
     "text": [
      " 96%|█████████████████████████████████████████████████████████████████████████████████████████████████████████████▋    | 102/106 [elapsed: 18:49:03 remaining: 45:10]"
     ]
    },
    {
     "name": "stdout",
     "output_type": "stream",
     "text": [
      "Capture reads for batch AAAAAAAAAAAACGCG for virus and host alignments...\n",
      "Read in 236692562 BUS records, wrote 3396000 BUS records\n",
      "Read in 8828381950 BUS records, wrote 78799736 BUS records\n",
      "Split viral alignments into host/masked for batch AAAAAAAAAAAACGCG...\n",
      "Read in 78799736 BUS records\n",
      "Read in 3396000 BUS records, wrote 1549 BUS records\n",
      "Read in 78799736 BUS records\n",
      "Read in 3396000 BUS records, wrote 3394451 BUS records\n"
     ]
    },
    {
     "name": "stderr",
     "output_type": "stream",
     "text": [
      " 97%|██████████████████████████████████████████████████████████████████████████████████████████████████████████████▊   | 103/106 [elapsed: 19:00:32 remaining: 34:03]"
     ]
    },
    {
     "name": "stdout",
     "output_type": "stream",
     "text": [
      "Capture reads for batch AAAAAAAAAAAACGCT for virus and host alignments...\n",
      "Read in 236692562 BUS records, wrote 2550444 BUS records\n",
      "Read in 8828381950 BUS records, wrote 80673537 BUS records\n",
      "Split viral alignments into host/masked for batch AAAAAAAAAAAACGCT...\n",
      "Read in 80673537 BUS records\n",
      "Read in 2550444 BUS records, wrote 1369 BUS records\n",
      "Read in 80673537 BUS records\n",
      "Read in 2550444 BUS records, wrote 2549075 BUS records\n"
     ]
    },
    {
     "name": "stderr",
     "output_type": "stream",
     "text": [
      " 98%|███████████████████████████████████████████████████████████████████████████████████████████████████████████████▊  | 104/106 [elapsed: 19:11:56 remaining: 22:43]"
     ]
    },
    {
     "name": "stdout",
     "output_type": "stream",
     "text": [
      "Capture reads for batch AAAAAAAAAAAACGGA for virus and host alignments...\n",
      "Read in 236692562 BUS records, wrote 855724 BUS records\n",
      "Read in 8828381950 BUS records, wrote 30617474 BUS records\n",
      "Split viral alignments into host/masked for batch AAAAAAAAAAAACGGA...\n",
      "Read in 30617474 BUS records\n",
      "Read in 855724 BUS records, wrote 639 BUS records\n",
      "Read in 30617474 BUS records\n",
      "Read in 855724 BUS records, wrote 855085 BUS records\n"
     ]
    },
    {
     "name": "stderr",
     "output_type": "stream",
     "text": [
      " 99%|████████████████████████████████████████████████████████████████████████████████████████████████████████████████▉ | 105/106 [elapsed: 19:22:22 remaining: 11:05]"
     ]
    },
    {
     "name": "stdout",
     "output_type": "stream",
     "text": [
      "Capture reads for batch AAAAAAAAAAAACGGC for virus and host alignments...\n",
      "Read in 236692562 BUS records, wrote 1172956 BUS records\n",
      "Read in 8828381950 BUS records, wrote 38488143 BUS records\n",
      "Split viral alignments into host/masked for batch AAAAAAAAAAAACGGC...\n",
      "Read in 38488143 BUS records\n",
      "Read in 1172956 BUS records, wrote 549 BUS records\n",
      "Read in 38488143 BUS records\n",
      "Read in 1172956 BUS records, wrote 1172407 BUS records\n"
     ]
    },
    {
     "name": "stderr",
     "output_type": "stream",
     "text": [
      "100%|██████████████████████████████████████████████████████████████████████████████████████████████████████████████████| 106/106 [elapsed: 19:32:58 remaining: 00:00]"
     ]
    },
    {
     "name": "stdout",
     "output_type": "stream",
     "text": [
      "CPU times: user 22min 48s, sys: 5min 3s, total: 27min 51s\n",
      "Wall time: 19h 32min 58s\n"
     ]
    },
    {
     "name": "stderr",
     "output_type": "stream",
     "text": [
      "\n"
     ]
    }
   ],
   "source": [
    "%%time\n",
    "sample_barcodes_star = f\"{host_out_folder}/matrix.sample.barcodes.tmp\"\n",
    "\n",
    "TQDM_BAR_FORMAT = (\n",
    "    \"{l_bar}{bar}| {n_fmt}/{total_fmt} [elapsed: {elapsed} remaining: {remaining}]\"\n",
    ")\n",
    "\n",
    "with tqdm(total=len(sample_barcodes), bar_format=TQDM_BAR_FORMAT) as pbar:\n",
    "    for sb in sample_barcodes:\n",
    "        with open(sample_barcodes_star, \"w\") as sbs_file:\n",
    "            sbs_file.write(sb + \"*\")\n",
    "\n",
    "        print(f\"Capture reads for batch {sb} for virus and host alignments...\")\n",
    "        # Capture records for this batch from virus and host bus files\n",
    "        !$bustools capture \\\n",
    "            $out_folder/output.bus \\\n",
    "            --capture $sample_barcodes_star \\\n",
    "            --barcode \\\n",
    "            -o $out_folder/output_sample_tmp.bus\n",
    "\n",
    "        !$bustools capture \\\n",
    "            $host_out_folder/output.bus \\\n",
    "            --capture $sample_barcodes_star \\\n",
    "            --barcode \\\n",
    "            -o $host_out_folder/output_sample_tmp.bus\n",
    "\n",
    "        print(f\"Split viral alignments into host/masked for batch {sb}...\")\n",
    "        # Capture records from virus reads also mapped to host\n",
    "        bus_name = f\"output_{sb}_host.bus\"\n",
    "        !$bustools capture \\\n",
    "            $out_folder/output_sample_tmp.bus \\\n",
    "            --capture <($bustools text -pf $host_out_folder/output_sample_tmp.bus | cut -d$'\\t' -f5)  \\\n",
    "            --flags \\\n",
    "            -o $out_folder/$bus_name\n",
    "\n",
    "        # Capture records from virus reads that did not map to host\n",
    "        bus_name = f\"output_{sb}_virus.bus\"\n",
    "        !$bustools capture \\\n",
    "            $out_folder/output_sample_tmp.bus \\\n",
    "            --capture <($bustools text -pf $host_out_folder/output_sample_tmp.bus | cut -d$'\\t' -f5)  \\\n",
    "            --complement \\\n",
    "            --flags \\\n",
    "            -o $out_folder/$bus_name\n",
    "        \n",
    "        pbar.update(n=1)"
   ]
  },
  {
   "cell_type": "markdown",
   "id": "bc5fa23b-1051-46c3-9ae5-fff4e6e2536b",
   "metadata": {},
   "source": [
    "### Clean up cell barcodes using host cell whitelist generated by bustools"
   ]
  },
  {
   "cell_type": "code",
   "execution_count": 23,
   "id": "d4bf2028-216c-4c08-a624-0ee612039800",
   "metadata": {},
   "outputs": [],
   "source": [
    "host_whitelist_folder = f\"/home/laura/projects/virus-watch-data/{bp}/full_index_stringent_dlist_flank1/host_canine\""
   ]
  },
  {
   "cell_type": "code",
   "execution_count": 24,
   "id": "93fc9250-6e16-45f3-b073-939f45678c78",
   "metadata": {},
   "outputs": [],
   "source": [
    "import os"
   ]
  },
  {
   "cell_type": "code",
   "execution_count": 25,
   "id": "e79fe1a6-d4ff-4fe3-8756-6eabf5d3a134",
   "metadata": {
    "tags": []
   },
   "outputs": [
    {
     "name": "stderr",
     "output_type": "stream",
     "text": [
      "  0%|                                                                                                                           | 0/106 [elapsed: 00:00 remaining: ?]"
     ]
    },
    {
     "name": "stdout",
     "output_type": "stream",
     "text": [
      "Found 775516 barcodes in the on-list\n",
      "Processed 1220 BUS records\n",
      "In on-list = 903\n",
      "Corrected    = 90\n",
      "Uncorrected  = 227\n",
      "Read in 993 BUS records\n",
      "Read in 993 text records\n",
      " all fits in buffer\n",
      "Read in 993 BUS records\n",
      "reading time 0s\n",
      "sorting time 0s\n",
      "writing time 0s\n",
      "Found 775516 barcodes in the on-list\n",
      "Processed 2118887 BUS records\n",
      "In on-list = 246632\n",
      "Corrected    = 566522\n",
      "Uncorrected  = 1305733\n",
      "Read in 813154 BUS records\n",
      "Read in 813154 text records\n",
      "partition time: 0.03s\n",
      " all fits in buffer\n",
      "Read in 813154 BUS records\n",
      "reading time 0.01s\n",
      "sorting time 0.5s\n",
      "writing time 0.02s\n"
     ]
    },
    {
     "name": "stderr",
     "output_type": "stream",
     "text": [
      "  1%|█                                                                                                                      | 1/106 [elapsed: 00:18 remaining: 32:47]"
     ]
    },
    {
     "name": "stdout",
     "output_type": "stream",
     "text": [
      "Found 775516 barcodes in the on-list\n",
      "Processed 1596 BUS records\n",
      "In on-list = 973\n",
      "Corrected    = 184\n",
      "Uncorrected  = 439\n",
      "Read in 1157 BUS records\n",
      "Read in 1157 text records\n",
      " all fits in buffer\n",
      "Read in 1157 BUS records\n",
      "reading time 0s\n",
      "sorting time 0s\n",
      "writing time 0s\n",
      "Found 775516 barcodes in the on-list\n",
      "Processed 469337 BUS records\n",
      "In on-list = 73108\n",
      "Corrected    = 114247\n",
      "Uncorrected  = 281982\n",
      "Read in 187355 BUS records\n",
      "Read in 187355 text records\n",
      "partition time: 0.01s\n",
      " all fits in buffer\n",
      "Read in 187355 BUS records\n",
      "reading time 0s\n",
      "sorting time 0.08s\n",
      "writing time 0s\n"
     ]
    },
    {
     "name": "stderr",
     "output_type": "stream",
     "text": [
      "  2%|██▏                                                                                                                    | 2/106 [elapsed: 00:33 remaining: 28:18]"
     ]
    },
    {
     "name": "stdout",
     "output_type": "stream",
     "text": [
      "Found 775516 barcodes in the on-list\n",
      "Processed 1158 BUS records\n",
      "In on-list = 677\n",
      "Corrected    = 148\n",
      "Uncorrected  = 333\n",
      "Read in 825 BUS records\n",
      "Read in 825 text records\n",
      " all fits in buffer\n",
      "Read in 825 BUS records\n",
      "reading time 0s\n",
      "sorting time 0s\n",
      "writing time 0s\n",
      "Found 775516 barcodes in the on-list\n",
      "Processed 2588045 BUS records\n",
      "In on-list = 192313\n",
      "Corrected    = 716795\n",
      "Uncorrected  = 1678937\n",
      "Read in 909108 BUS records\n",
      "Read in 909108 text records\n",
      "partition time: 0.02s\n",
      " all fits in buffer\n",
      "Read in 909108 BUS records\n",
      "reading time 0.01s\n",
      "sorting time 0.84s\n",
      "writing time 0.01s\n"
     ]
    },
    {
     "name": "stderr",
     "output_type": "stream",
     "text": [
      "  3%|███▎                                                                                                                   | 3/106 [elapsed: 00:53 remaining: 30:53]"
     ]
    },
    {
     "name": "stdout",
     "output_type": "stream",
     "text": [
      "Found 775516 barcodes in the on-list\n",
      "Processed 1058 BUS records\n",
      "In on-list = 651\n",
      "Corrected    = 110\n",
      "Uncorrected  = 297\n",
      "Read in 761 BUS records\n",
      "Read in 761 text records\n",
      " all fits in buffer\n",
      "Read in 761 BUS records\n",
      "reading time 0s\n",
      "sorting time 0s\n",
      "writing time 0s\n",
      "Found 775516 barcodes in the on-list\n",
      "Processed 1506399 BUS records\n",
      "In on-list = 143152\n",
      "Corrected    = 410713\n",
      "Uncorrected  = 952534\n",
      "Read in 553865 BUS records\n",
      "Read in 553865 text records\n",
      "partition time: 0.01s\n",
      " all fits in buffer\n",
      "Read in 553865 BUS records\n",
      "reading time 0s\n",
      "sorting time 0.18s\n",
      "writing time 0.01s\n"
     ]
    },
    {
     "name": "stderr",
     "output_type": "stream",
     "text": [
      "  4%|████▍                                                                                                                  | 4/106 [elapsed: 01:09 remaining: 29:18]"
     ]
    },
    {
     "name": "stdout",
     "output_type": "stream",
     "text": [
      "Found 775516 barcodes in the on-list\n",
      "Processed 814 BUS records\n",
      "In on-list = 502\n",
      "Corrected    = 78\n",
      "Uncorrected  = 234\n",
      "Read in 580 BUS records\n",
      "Read in 580 text records\n",
      " all fits in buffer\n",
      "Read in 580 BUS records\n",
      "reading time 0s\n",
      "sorting time 0s\n",
      "writing time 0s\n",
      "Found 775516 barcodes in the on-list\n",
      "Processed 4151732 BUS records\n",
      "In on-list = 372116\n",
      "Corrected    = 1153696\n",
      "Uncorrected  = 2625920\n",
      "Read in 1525812 BUS records\n",
      "Read in 1525812 text records\n",
      "partition time: 0.05s\n",
      " all fits in buffer\n",
      "Read in 1525812 BUS records\n",
      "reading time 0.03s\n",
      "sorting time 0.68s\n",
      "writing time 0.03s\n"
     ]
    },
    {
     "name": "stderr",
     "output_type": "stream",
     "text": [
      "  5%|█████▌                                                                                                                 | 5/106 [elapsed: 01:32 remaining: 32:41]"
     ]
    },
    {
     "name": "stdout",
     "output_type": "stream",
     "text": [
      "Found 775516 barcodes in the on-list\n",
      "Processed 645 BUS records\n",
      "In on-list = 463\n",
      "Corrected    = 49\n",
      "Uncorrected  = 133\n",
      "Read in 512 BUS records\n",
      "Read in 512 text records\n",
      " all fits in buffer\n",
      "Read in 512 BUS records\n",
      "reading time 0s\n",
      "sorting time 0s\n",
      "writing time 0s\n",
      "Found 775516 barcodes in the on-list\n",
      "Processed 594337 BUS records\n",
      "In on-list = 61704\n",
      "Corrected    = 155821\n",
      "Uncorrected  = 376812\n",
      "Read in 217525 BUS records\n",
      "Read in 217525 text records\n",
      "partition time: 0.01s\n",
      " all fits in buffer\n",
      "Read in 217525 BUS records\n",
      "reading time 0s\n",
      "sorting time 0.08s\n",
      "writing time 0s\n"
     ]
    },
    {
     "name": "stderr",
     "output_type": "stream",
     "text": [
      "  6%|██████▋                                                                                                                | 6/106 [elapsed: 01:47 remaining: 29:39]"
     ]
    },
    {
     "name": "stdout",
     "output_type": "stream",
     "text": [
      "Found 775516 barcodes in the on-list\n",
      "Processed 582 BUS records\n",
      "In on-list = 302\n",
      "Corrected    = 75\n",
      "Uncorrected  = 205\n",
      "Read in 377 BUS records\n",
      "Read in 377 text records\n",
      " all fits in buffer\n",
      "Read in 377 BUS records\n",
      "reading time 0s\n",
      "sorting time 0s\n",
      "writing time 0s\n",
      "Found 775516 barcodes in the on-list\n",
      "Processed 687117 BUS records\n",
      "In on-list = 61410\n",
      "Corrected    = 186080\n",
      "Uncorrected  = 439627\n",
      "Read in 247490 BUS records\n",
      "Read in 247490 text records\n",
      "partition time: 0.01s\n",
      " all fits in buffer\n",
      "Read in 247490 BUS records\n",
      "reading time 0s\n",
      "sorting time 0.4s\n",
      "writing time 0.01s\n"
     ]
    },
    {
     "name": "stderr",
     "output_type": "stream",
     "text": [
      "  7%|███████▊                                                                                                               | 7/106 [elapsed: 02:02 remaining: 27:49]"
     ]
    },
    {
     "name": "stdout",
     "output_type": "stream",
     "text": [
      "Found 775516 barcodes in the on-list\n",
      "Processed 1807 BUS records\n",
      "In on-list = 1383\n",
      "Corrected    = 93\n",
      "Uncorrected  = 331\n",
      "Read in 1476 BUS records\n",
      "Read in 1476 text records\n",
      " all fits in buffer\n",
      "Read in 1476 BUS records\n",
      "reading time 0s\n",
      "sorting time 0s\n",
      "writing time 0s\n",
      "Found 775516 barcodes in the on-list\n",
      "Processed 2618945 BUS records\n",
      "In on-list = 455011\n",
      "Corrected    = 657490\n",
      "Uncorrected  = 1506444\n",
      "Read in 1112501 BUS records\n",
      "Read in 1112501 text records\n",
      "partition time: 0.04s\n",
      " all fits in buffer\n",
      "Read in 1112501 BUS records\n",
      "reading time 0.02s\n",
      "sorting time 0.64s\n",
      "writing time 0.04s\n"
     ]
    },
    {
     "name": "stderr",
     "output_type": "stream",
     "text": [
      "  8%|████████▉                                                                                                              | 8/106 [elapsed: 02:22 remaining: 29:03]"
     ]
    },
    {
     "name": "stdout",
     "output_type": "stream",
     "text": [
      "Found 775516 barcodes in the on-list\n",
      "Processed 12238 BUS records\n",
      "In on-list = 9478\n",
      "Corrected    = 686\n",
      "Uncorrected  = 2074\n",
      "Read in 10164 BUS records\n",
      "Read in 10164 text records\n",
      " all fits in buffer\n",
      "Read in 10164 BUS records\n",
      "reading time 0s\n",
      "sorting time 0s\n",
      "writing time 0s\n",
      "Found 775516 barcodes in the on-list\n",
      "Processed 173774 BUS records\n",
      "In on-list = 41740\n",
      "Corrected    = 38736\n",
      "Uncorrected  = 93298\n",
      "Read in 80476 BUS records\n",
      "Read in 80476 text records\n",
      " all fits in buffer\n",
      "Read in 80476 BUS records\n",
      "reading time 0s\n",
      "sorting time 0.01s\n",
      "writing time 0.01s\n"
     ]
    },
    {
     "name": "stderr",
     "output_type": "stream",
     "text": [
      "  8%|██████████                                                                                                             | 9/106 [elapsed: 02:35 remaining: 26:21]"
     ]
    },
    {
     "name": "stdout",
     "output_type": "stream",
     "text": [
      "Found 775516 barcodes in the on-list\n",
      "Processed 923 BUS records\n",
      "In on-list = 513\n",
      "Corrected    = 100\n",
      "Uncorrected  = 310\n",
      "Read in 613 BUS records\n",
      "Read in 613 text records\n",
      " all fits in buffer\n",
      "Read in 613 BUS records\n",
      "reading time 0s\n",
      "sorting time 0s\n",
      "writing time 0s\n",
      "Found 775516 barcodes in the on-list\n",
      "Processed 746271 BUS records\n",
      "In on-list = 88093\n",
      "Corrected    = 196647\n",
      "Uncorrected  = 461531\n",
      "Read in 284740 BUS records\n",
      "Read in 284740 text records\n",
      "partition time: 0.01s\n",
      " all fits in buffer\n",
      "Read in 284740 BUS records\n",
      "reading time 0.01s\n",
      "sorting time 0.09s\n",
      "writing time 0.01s\n"
     ]
    },
    {
     "name": "stderr",
     "output_type": "stream",
     "text": [
      "  9%|███████████▏                                                                                                          | 10/106 [elapsed: 02:49 remaining: 24:58]"
     ]
    },
    {
     "name": "stdout",
     "output_type": "stream",
     "text": [
      "Found 775516 barcodes in the on-list\n",
      "Processed 1183 BUS records\n",
      "In on-list = 721\n",
      "Corrected    = 150\n",
      "Uncorrected  = 312\n",
      "Read in 871 BUS records\n",
      "Read in 871 text records\n",
      " all fits in buffer\n",
      "Read in 871 BUS records\n",
      "reading time 0s\n",
      "sorting time 0s\n",
      "writing time 0s\n",
      "Found 775516 barcodes in the on-list\n",
      "Processed 487111 BUS records\n",
      "In on-list = 56830\n",
      "Corrected    = 128080\n",
      "Uncorrected  = 302201\n",
      "Read in 184910 BUS records\n",
      "Read in 184910 text records\n",
      "partition time: 0s\n",
      " all fits in buffer\n",
      "Read in 184910 BUS records\n",
      "reading time 0s\n",
      "sorting time 0.48s\n",
      "writing time 0.01s\n"
     ]
    },
    {
     "name": "stderr",
     "output_type": "stream",
     "text": [
      " 10%|████████████▏                                                                                                         | 11/106 [elapsed: 03:03 remaining: 24:07]"
     ]
    },
    {
     "name": "stdout",
     "output_type": "stream",
     "text": [
      "Found 775516 barcodes in the on-list\n",
      "Processed 2114 BUS records\n",
      "In on-list = 1790\n",
      "Corrected    = 108\n",
      "Uncorrected  = 216\n",
      "Read in 1898 BUS records\n",
      "Read in 1898 text records\n",
      " all fits in buffer\n",
      "Read in 1898 BUS records\n",
      "reading time 0s\n",
      "sorting time 0s\n",
      "writing time 0s\n",
      "Found 775516 barcodes in the on-list\n",
      "Processed 1776777 BUS records\n",
      "In on-list = 299759\n",
      "Corrected    = 439662\n",
      "Uncorrected  = 1037356\n",
      "Read in 739421 BUS records\n",
      "Read in 739421 text records\n",
      "partition time: 0.03s\n",
      " all fits in buffer\n",
      "Read in 739421 BUS records\n",
      "reading time 0.01s\n",
      "sorting time 0.25s\n",
      "writing time 0.01s\n"
     ]
    },
    {
     "name": "stderr",
     "output_type": "stream",
     "text": [
      " 11%|█████████████▎                                                                                                        | 12/106 [elapsed: 03:20 remaining: 24:32]"
     ]
    },
    {
     "name": "stdout",
     "output_type": "stream",
     "text": [
      "Found 775516 barcodes in the on-list\n",
      "Processed 2457 BUS records\n",
      "In on-list = 2015\n",
      "Corrected    = 98\n",
      "Uncorrected  = 344\n",
      "Read in 2113 BUS records\n",
      "Read in 2113 text records\n",
      " all fits in buffer\n",
      "Read in 2113 BUS records\n",
      "reading time 0s\n",
      "sorting time 0s\n",
      "writing time 0s\n",
      "Found 775516 barcodes in the on-list\n",
      "Processed 6066905 BUS records\n",
      "In on-list = 958368\n",
      "Corrected    = 1538010\n",
      "Uncorrected  = 3570527\n",
      "Read in 2496378 BUS records\n",
      "Read in 2496378 text records\n",
      "partition time: 0.08s\n",
      " all fits in buffer\n",
      "Read in 2496378 BUS records\n",
      "reading time 0.03s\n",
      "sorting time 0.8s\n",
      "writing time 0.05s\n"
     ]
    },
    {
     "name": "stderr",
     "output_type": "stream",
     "text": [
      " 12%|██████████████▍                                                                                                       | 13/106 [elapsed: 03:47 remaining: 29:54]"
     ]
    },
    {
     "name": "stdout",
     "output_type": "stream",
     "text": [
      "Found 775516 barcodes in the on-list\n",
      "Processed 610 BUS records\n",
      "In on-list = 366\n",
      "Corrected    = 60\n",
      "Uncorrected  = 184\n",
      "Read in 426 BUS records\n",
      "Read in 426 text records\n",
      " all fits in buffer\n",
      "Read in 426 BUS records\n",
      "reading time 0s\n",
      "sorting time 0s\n",
      "writing time 0s\n",
      "Found 775516 barcodes in the on-list\n",
      "Processed 1109119 BUS records\n",
      "In on-list = 117422\n",
      "Corrected    = 294885\n",
      "Uncorrected  = 696812\n",
      "Read in 412307 BUS records\n",
      "Read in 412307 text records\n",
      "partition time: 0.01s\n",
      " all fits in buffer\n",
      "Read in 412307 BUS records\n",
      "reading time 0.01s\n",
      "sorting time 0.13s\n",
      "writing time 0.01s\n"
     ]
    },
    {
     "name": "stderr",
     "output_type": "stream",
     "text": [
      " 13%|███████████████▌                                                                                                      | 14/106 [elapsed: 04:04 remaining: 28:08]"
     ]
    },
    {
     "name": "stdout",
     "output_type": "stream",
     "text": [
      "Found 775516 barcodes in the on-list\n",
      "Processed 746 BUS records\n",
      "In on-list = 387\n",
      "Corrected    = 133\n",
      "Uncorrected  = 226\n",
      "Read in 520 BUS records\n",
      "Read in 520 text records\n",
      " all fits in buffer\n",
      "Read in 520 BUS records\n",
      "reading time 0s\n",
      "sorting time 0s\n",
      "writing time 0s\n",
      "Found 775516 barcodes in the on-list\n",
      "Processed 1036545 BUS records\n",
      "In on-list = 82775\n",
      "Corrected    = 284997\n",
      "Uncorrected  = 668773\n",
      "Read in 367772 BUS records\n",
      "Read in 367772 text records\n",
      "partition time: 0.01s\n",
      " all fits in buffer\n",
      "Read in 367772 BUS records\n",
      "reading time 0.01s\n",
      "sorting time 0.45s\n",
      "writing time 0s\n"
     ]
    },
    {
     "name": "stderr",
     "output_type": "stream",
     "text": [
      " 14%|████████████████▋                                                                                                     | 15/106 [elapsed: 04:19 remaining: 26:34]"
     ]
    },
    {
     "name": "stdout",
     "output_type": "stream",
     "text": [
      "Found 775516 barcodes in the on-list\n",
      "Processed 1980 BUS records\n",
      "In on-list = 1550\n",
      "Corrected    = 125\n",
      "Uncorrected  = 305\n",
      "Read in 1675 BUS records\n",
      "Read in 1675 text records\n",
      " all fits in buffer\n",
      "Read in 1675 BUS records\n",
      "reading time 0s\n",
      "sorting time 0s\n",
      "writing time 0s\n",
      "Found 775516 barcodes in the on-list\n",
      "Processed 2568998 BUS records\n",
      "In on-list = 387241\n",
      "Corrected    = 648107\n",
      "Uncorrected  = 1533650\n",
      "Read in 1035348 BUS records\n",
      "Read in 1035348 text records\n",
      "partition time: 0.04s\n",
      " all fits in buffer\n",
      "Read in 1035348 BUS records\n",
      "reading time 0.01s\n",
      "sorting time 0.73s\n",
      "writing time 0.02s\n"
     ]
    },
    {
     "name": "stderr",
     "output_type": "stream",
     "text": [
      " 15%|█████████████████▊                                                                                                    | 16/106 [elapsed: 04:38 remaining: 27:03]"
     ]
    },
    {
     "name": "stdout",
     "output_type": "stream",
     "text": [
      "Found 775516 barcodes in the on-list\n",
      "Processed 835 BUS records\n",
      "In on-list = 446\n",
      "Corrected    = 131\n",
      "Uncorrected  = 258\n",
      "Read in 577 BUS records\n",
      "Read in 577 text records\n",
      " all fits in buffer\n",
      "Read in 577 BUS records\n",
      "reading time 0s\n",
      "sorting time 0s\n",
      "writing time 0s\n",
      "Found 775516 barcodes in the on-list\n",
      "Processed 397121 BUS records\n",
      "In on-list = 43547\n",
      "Corrected    = 95939\n",
      "Uncorrected  = 257635\n",
      "Read in 139486 BUS records\n",
      "Read in 139486 text records\n",
      "partition time: 0s\n",
      " all fits in buffer\n",
      "Read in 139486 BUS records\n",
      "reading time 0s\n",
      "sorting time 0.05s\n",
      "writing time 0s\n"
     ]
    },
    {
     "name": "stderr",
     "output_type": "stream",
     "text": [
      " 16%|██████████████████▉                                                                                                   | 17/106 [elapsed: 04:53 remaining: 25:01]"
     ]
    },
    {
     "name": "stdout",
     "output_type": "stream",
     "text": [
      "Found 775516 barcodes in the on-list\n",
      "Processed 833 BUS records\n",
      "In on-list = 387\n",
      "Corrected    = 108\n",
      "Uncorrected  = 338\n",
      "Read in 495 BUS records\n",
      "Read in 495 text records\n",
      " all fits in buffer\n",
      "Read in 495 BUS records\n",
      "reading time 0s\n",
      "sorting time 0s\n",
      "writing time 0s\n",
      "Found 775516 barcodes in the on-list\n",
      "Processed 909978 BUS records\n",
      "In on-list = 108815\n",
      "Corrected    = 235858\n",
      "Uncorrected  = 565305\n",
      "Read in 344673 BUS records\n",
      "Read in 344673 text records\n",
      "partition time: 0.01s\n",
      " all fits in buffer\n",
      "Read in 344673 BUS records\n",
      "reading time 0s\n",
      "sorting time 0.44s\n",
      "writing time 0.01s\n"
     ]
    },
    {
     "name": "stderr",
     "output_type": "stream",
     "text": [
      " 17%|████████████████████                                                                                                  | 18/106 [elapsed: 05:09 remaining: 24:32]"
     ]
    },
    {
     "name": "stdout",
     "output_type": "stream",
     "text": [
      "Found 775516 barcodes in the on-list\n",
      "Processed 974 BUS records\n",
      "In on-list = 683\n",
      "Corrected    = 72\n",
      "Uncorrected  = 219\n",
      "Read in 755 BUS records\n",
      "Read in 755 text records\n",
      " all fits in buffer\n",
      "Read in 755 BUS records\n",
      "reading time 0s\n",
      "sorting time 0s\n",
      "writing time 0s\n",
      "Found 775516 barcodes in the on-list\n",
      "Processed 471757 BUS records\n",
      "In on-list = 70912\n",
      "Corrected    = 115255\n",
      "Uncorrected  = 285590\n",
      "Read in 186167 BUS records\n",
      "Read in 186167 text records\n",
      "partition time: 0s\n",
      " all fits in buffer\n",
      "Read in 186167 BUS records\n",
      "reading time 0s\n",
      "sorting time 0.07s\n",
      "writing time 0.01s\n"
     ]
    },
    {
     "name": "stderr",
     "output_type": "stream",
     "text": [
      " 18%|█████████████████████▏                                                                                                | 19/106 [elapsed: 05:23 remaining: 23:05]"
     ]
    },
    {
     "name": "stdout",
     "output_type": "stream",
     "text": [
      "Found 775516 barcodes in the on-list\n",
      "Processed 2864 BUS records\n",
      "In on-list = 2295\n",
      "Corrected    = 135\n",
      "Uncorrected  = 434\n",
      "Read in 2430 BUS records\n",
      "Read in 2430 text records\n",
      " all fits in buffer\n",
      "Read in 2430 BUS records\n",
      "reading time 0s\n",
      "sorting time 0s\n",
      "writing time 0s\n",
      "Found 775516 barcodes in the on-list\n",
      "Processed 1412272 BUS records\n",
      "In on-list = 280737\n",
      "Corrected    = 332212\n",
      "Uncorrected  = 799323\n",
      "Read in 612949 BUS records\n",
      "Read in 612949 text records\n",
      "partition time: 0.02s\n",
      " all fits in buffer\n",
      "Read in 612949 BUS records\n",
      "reading time 0s\n",
      "sorting time 0.95s\n",
      "writing time 0.01s\n"
     ]
    },
    {
     "name": "stderr",
     "output_type": "stream",
     "text": [
      " 19%|██████████████████████▎                                                                                               | 20/106 [elapsed: 05:41 remaining: 23:44]"
     ]
    },
    {
     "name": "stdout",
     "output_type": "stream",
     "text": [
      "Found 775516 barcodes in the on-list\n",
      "Processed 24360 BUS records\n",
      "In on-list = 19250\n",
      "Corrected    = 1276\n",
      "Uncorrected  = 3834\n",
      "Read in 20526 BUS records\n",
      "Read in 20526 text records\n",
      " all fits in buffer\n",
      "Read in 20526 BUS records\n",
      "reading time 0s\n",
      "sorting time 0.01s\n",
      "writing time 0s\n",
      "Found 775516 barcodes in the on-list\n",
      "Processed 3133970 BUS records\n",
      "In on-list = 476917\n",
      "Corrected    = 781612\n",
      "Uncorrected  = 1875441\n",
      "Read in 1258529 BUS records\n",
      "Read in 1258529 text records\n",
      "partition time: 0.04s\n",
      " all fits in buffer\n",
      "Read in 1258529 BUS records\n",
      "reading time 0.03s\n",
      "sorting time 0.88s\n",
      "writing time 0.04s\n"
     ]
    },
    {
     "name": "stderr",
     "output_type": "stream",
     "text": [
      " 20%|███████████████████████▍                                                                                              | 21/106 [elapsed: 06:03 remaining: 25:57]"
     ]
    },
    {
     "name": "stdout",
     "output_type": "stream",
     "text": [
      "Found 775516 barcodes in the on-list\n",
      "Processed 9061 BUS records\n",
      "In on-list = 6775\n",
      "Corrected    = 550\n",
      "Uncorrected  = 1736\n",
      "Read in 7325 BUS records\n",
      "Read in 7325 text records\n",
      " all fits in buffer\n",
      "Read in 7325 BUS records\n",
      "reading time 0s\n",
      "sorting time 0s\n",
      "writing time 0s\n",
      "Found 775516 barcodes in the on-list\n",
      "Processed 5850767 BUS records\n",
      "In on-list = 923040\n",
      "Corrected    = 1461897\n",
      "Uncorrected  = 3465830\n",
      "Read in 2384937 BUS records\n",
      "Read in 2384937 text records\n",
      "partition time: 0.08s\n",
      " all fits in buffer\n",
      "Read in 2384937 BUS records\n",
      "reading time 0.04s\n",
      "sorting time 0.96s\n",
      "writing time 0.08s\n"
     ]
    },
    {
     "name": "stderr",
     "output_type": "stream",
     "text": [
      " 21%|████████████████████████▍                                                                                             | 22/106 [elapsed: 06:32 remaining: 29:50]"
     ]
    },
    {
     "name": "stdout",
     "output_type": "stream",
     "text": [
      "Found 775516 barcodes in the on-list\n",
      "Processed 1858 BUS records\n",
      "In on-list = 1447\n",
      "Corrected    = 105\n",
      "Uncorrected  = 306\n",
      "Read in 1552 BUS records\n",
      "Read in 1552 text records\n",
      " all fits in buffer\n",
      "Read in 1552 BUS records\n",
      "reading time 0s\n",
      "sorting time 0s\n",
      "writing time 0s\n",
      "Found 775516 barcodes in the on-list\n",
      "Processed 3388524 BUS records\n",
      "In on-list = 564765\n",
      "Corrected    = 840790\n",
      "Uncorrected  = 1982969\n",
      "Read in 1405555 BUS records\n",
      "Read in 1405555 text records\n",
      "partition time: 0.05s\n",
      " all fits in buffer\n",
      "Read in 1405555 BUS records\n",
      "reading time 0.02s\n",
      "sorting time 0.69s\n",
      "writing time 0.04s\n"
     ]
    },
    {
     "name": "stderr",
     "output_type": "stream",
     "text": [
      " 22%|█████████████████████████▌                                                                                            | 23/106 [elapsed: 06:53 remaining: 29:28]"
     ]
    },
    {
     "name": "stdout",
     "output_type": "stream",
     "text": [
      "Found 775516 barcodes in the on-list\n",
      "Processed 2525 BUS records\n",
      "In on-list = 2028\n",
      "Corrected    = 119\n",
      "Uncorrected  = 378\n",
      "Read in 2147 BUS records\n",
      "Read in 2147 text records\n",
      " all fits in buffer\n",
      "Read in 2147 BUS records\n",
      "reading time 0s\n",
      "sorting time 0s\n",
      "writing time 0s\n",
      "Found 775516 barcodes in the on-list\n",
      "Processed 4120152 BUS records\n",
      "In on-list = 667128\n",
      "Corrected    = 1051615\n",
      "Uncorrected  = 2401409\n",
      "Read in 1718743 BUS records\n",
      "Read in 1718743 text records\n",
      "partition time: 0.05s\n",
      " all fits in buffer\n",
      "Read in 1718743 BUS records\n",
      "reading time 0.03s\n",
      "sorting time 1s\n",
      "writing time 0.04s\n"
     ]
    },
    {
     "name": "stderr",
     "output_type": "stream",
     "text": [
      " 23%|██████████████████████████▋                                                                                           | 24/106 [elapsed: 07:16 remaining: 29:49]"
     ]
    },
    {
     "name": "stdout",
     "output_type": "stream",
     "text": [
      "Found 775516 barcodes in the on-list\n",
      "Processed 1136 BUS records\n",
      "In on-list = 838\n",
      "Corrected    = 91\n",
      "Uncorrected  = 207\n",
      "Read in 929 BUS records\n",
      "Read in 929 text records\n",
      " all fits in buffer\n",
      "Read in 929 BUS records\n",
      "reading time 0s\n",
      "sorting time 0s\n",
      "writing time 0s\n",
      "Found 775516 barcodes in the on-list\n",
      "Processed 2233461 BUS records\n",
      "In on-list = 230732\n",
      "Corrected    = 605721\n",
      "Uncorrected  = 1397008\n",
      "Read in 836453 BUS records\n",
      "Read in 836453 text records\n",
      "partition time: 0.03s\n",
      " all fits in buffer\n",
      "Read in 836453 BUS records\n",
      "reading time 0.01s\n",
      "sorting time 0.79s\n",
      "writing time 0.02s\n"
     ]
    },
    {
     "name": "stderr",
     "output_type": "stream",
     "text": [
      " 24%|███████████████████████████▊                                                                                          | 25/106 [elapsed: 07:35 remaining: 28:21]"
     ]
    },
    {
     "name": "stdout",
     "output_type": "stream",
     "text": [
      "Found 775516 barcodes in the on-list\n",
      "Processed 469 BUS records\n",
      "In on-list = 206\n",
      "Corrected    = 63\n",
      "Uncorrected  = 200\n",
      "Read in 269 BUS records\n",
      "Read in 269 text records\n",
      " all fits in buffer\n",
      "Read in 269 BUS records\n",
      "reading time 0s\n",
      "sorting time 0s\n",
      "writing time 0s\n",
      "Found 775516 barcodes in the on-list\n",
      "Processed 1107756 BUS records\n",
      "In on-list = 118135\n",
      "Corrected    = 291675\n",
      "Uncorrected  = 697946\n",
      "Read in 409810 BUS records\n",
      "Read in 409810 text records\n",
      "partition time: 0.01s\n",
      " all fits in buffer\n",
      "Read in 409810 BUS records\n",
      "reading time 0.01s\n",
      "sorting time 0.37s\n",
      "writing time 0.01s\n"
     ]
    },
    {
     "name": "stderr",
     "output_type": "stream",
     "text": [
      " 25%|████████████████████████████▉                                                                                         | 26/106 [elapsed: 07:51 remaining: 26:07]"
     ]
    },
    {
     "name": "stdout",
     "output_type": "stream",
     "text": [
      "Found 775516 barcodes in the on-list\n",
      "Processed 2666 BUS records\n",
      "In on-list = 1963\n",
      "Corrected    = 256\n",
      "Uncorrected  = 447\n",
      "Read in 2219 BUS records\n",
      "Read in 2219 text records\n",
      " all fits in buffer\n",
      "Read in 2219 BUS records\n",
      "reading time 0s\n",
      "sorting time 0s\n",
      "writing time 0s\n",
      "Found 775516 barcodes in the on-list\n",
      "Processed 3014928 BUS records\n",
      "In on-list = 382683\n",
      "Corrected    = 789669\n",
      "Uncorrected  = 1842576\n",
      "Read in 1172352 BUS records\n",
      "Read in 1172352 text records\n",
      "partition time: 0.03s\n",
      " all fits in buffer\n",
      "Read in 1172352 BUS records\n",
      "reading time 0.01s\n",
      "sorting time 0.42s\n",
      "writing time 0.03s\n"
     ]
    },
    {
     "name": "stderr",
     "output_type": "stream",
     "text": [
      " 25%|██████████████████████████████                                                                                        | 27/106 [elapsed: 08:11 remaining: 25:56]"
     ]
    },
    {
     "name": "stdout",
     "output_type": "stream",
     "text": [
      "Found 775516 barcodes in the on-list\n",
      "Processed 422 BUS records\n",
      "In on-list = 146\n",
      "Corrected    = 86\n",
      "Uncorrected  = 190\n",
      "Read in 232 BUS records\n",
      "Read in 232 text records\n",
      " all fits in buffer\n",
      "Read in 232 BUS records\n",
      "reading time 0s\n",
      "sorting time 0s\n",
      "writing time 0s\n",
      "Found 775516 barcodes in the on-list\n",
      "Processed 1463182 BUS records\n",
      "In on-list = 116349\n",
      "Corrected    = 405695\n",
      "Uncorrected  = 941138\n",
      "Read in 522044 BUS records\n",
      "Read in 522044 text records\n",
      "partition time: 0.01s\n",
      " all fits in buffer\n",
      "Read in 522044 BUS records\n",
      "reading time 0s\n",
      "sorting time 0.93s\n",
      "writing time 0.02s\n"
     ]
    },
    {
     "name": "stderr",
     "output_type": "stream",
     "text": [
      " 26%|███████████████████████████████▏                                                                                      | 28/106 [elapsed: 08:29 remaining: 24:51]"
     ]
    },
    {
     "name": "stdout",
     "output_type": "stream",
     "text": [
      "Found 775516 barcodes in the on-list\n",
      "Processed 1015 BUS records\n",
      "In on-list = 681\n",
      "Corrected    = 101\n",
      "Uncorrected  = 233\n",
      "Read in 782 BUS records\n",
      "Read in 782 text records\n",
      " all fits in buffer\n",
      "Read in 782 BUS records\n",
      "reading time 0s\n",
      "sorting time 0s\n",
      "writing time 0s\n",
      "Found 775516 barcodes in the on-list\n",
      "Processed 634878 BUS records\n",
      "In on-list = 53493\n",
      "Corrected    = 173339\n",
      "Uncorrected  = 408046\n",
      "Read in 226832 BUS records\n",
      "Read in 226832 text records\n",
      "partition time: 0s\n",
      " all fits in buffer\n",
      "Read in 226832 BUS records\n",
      "reading time 0.01s\n",
      "sorting time 0.39s\n",
      "writing time 0s\n"
     ]
    },
    {
     "name": "stderr",
     "output_type": "stream",
     "text": [
      " 27%|████████████████████████████████▎                                                                                     | 29/106 [elapsed: 08:45 remaining: 23:07]"
     ]
    },
    {
     "name": "stdout",
     "output_type": "stream",
     "text": [
      "Found 775516 barcodes in the on-list\n",
      "Processed 2337 BUS records\n",
      "In on-list = 1925\n",
      "Corrected    = 97\n",
      "Uncorrected  = 315\n",
      "Read in 2022 BUS records\n",
      "Read in 2022 text records\n",
      " all fits in buffer\n",
      "Read in 2022 BUS records\n",
      "reading time 0s\n",
      "sorting time 0s\n",
      "writing time 0s\n",
      "Found 775516 barcodes in the on-list\n",
      "Processed 2902819 BUS records\n",
      "In on-list = 543032\n",
      "Corrected    = 705726\n",
      "Uncorrected  = 1654061\n",
      "Read in 1248758 BUS records\n",
      "Read in 1248758 text records\n",
      "partition time: 0.06s\n",
      " all fits in buffer\n",
      "Read in 1248758 BUS records\n",
      "reading time 0.02s\n",
      "sorting time 0.6s\n",
      "writing time 0.03s\n"
     ]
    },
    {
     "name": "stderr",
     "output_type": "stream",
     "text": [
      " 28%|█████████████████████████████████▍                                                                                    | 30/106 [elapsed: 09:04 remaining: 23:30]"
     ]
    },
    {
     "name": "stdout",
     "output_type": "stream",
     "text": [
      "Found 775516 barcodes in the on-list\n",
      "Processed 1223 BUS records\n",
      "In on-list = 804\n",
      "Corrected    = 141\n",
      "Uncorrected  = 278\n",
      "Read in 945 BUS records\n",
      "Read in 945 text records\n",
      " all fits in buffer\n",
      "Read in 945 BUS records\n",
      "reading time 0s\n",
      "sorting time 0s\n",
      "writing time 0s\n",
      "Found 775516 barcodes in the on-list\n",
      "Processed 1769325 BUS records\n",
      "In on-list = 219818\n",
      "Corrected    = 460737\n",
      "Uncorrected  = 1088770\n",
      "Read in 680555 BUS records\n",
      "Read in 680555 text records\n",
      "partition time: 0.02s\n",
      " all fits in buffer\n",
      "Read in 680555 BUS records\n",
      "reading time 0.01s\n",
      "sorting time 0.5s\n",
      "writing time 0.01s\n"
     ]
    },
    {
     "name": "stderr",
     "output_type": "stream",
     "text": [
      " 29%|██████████████████████████████████▌                                                                                   | 31/106 [elapsed: 09:22 remaining: 22:59]"
     ]
    },
    {
     "name": "stdout",
     "output_type": "stream",
     "text": [
      "Found 775516 barcodes in the on-list\n",
      "Processed 1651 BUS records\n",
      "In on-list = 1418\n",
      "Corrected    = 45\n",
      "Uncorrected  = 188\n",
      "Read in 1463 BUS records\n",
      "Read in 1463 text records\n",
      " all fits in buffer\n",
      "Read in 1463 BUS records\n",
      "reading time 0s\n",
      "sorting time 0s\n",
      "writing time 0s\n",
      "Found 775516 barcodes in the on-list\n",
      "Processed 824612 BUS records\n",
      "In on-list = 109527\n",
      "Corrected    = 221547\n",
      "Uncorrected  = 493538\n",
      "Read in 331074 BUS records\n",
      "Read in 331074 text records\n",
      "partition time: 0.01s\n",
      " all fits in buffer\n",
      "Read in 331074 BUS records\n",
      "reading time 0.01s\n",
      "sorting time 0.11s\n",
      "writing time 0.01s\n"
     ]
    },
    {
     "name": "stderr",
     "output_type": "stream",
     "text": [
      " 30%|███████████████████████████████████▌                                                                                  | 32/106 [elapsed: 09:39 remaining: 21:52]"
     ]
    },
    {
     "name": "stdout",
     "output_type": "stream",
     "text": [
      "Found 775516 barcodes in the on-list\n",
      "Processed 1682 BUS records\n",
      "In on-list = 708\n",
      "Corrected    = 272\n",
      "Uncorrected  = 702\n",
      "Read in 980 BUS records\n",
      "Read in 980 text records\n",
      " all fits in buffer\n",
      "Read in 980 BUS records\n",
      "reading time 0s\n",
      "sorting time 0s\n",
      "writing time 0s\n",
      "Found 775516 barcodes in the on-list\n",
      "Processed 1177769 BUS records\n",
      "In on-list = 130621\n",
      "Corrected    = 321331\n",
      "Uncorrected  = 725817\n",
      "Read in 451952 BUS records\n",
      "Read in 451952 text records\n",
      "partition time: 0.02s\n",
      " all fits in buffer\n",
      "Read in 451952 BUS records\n",
      "reading time 0.01s\n",
      "sorting time 0.58s\n",
      "writing time 0.01s\n"
     ]
    },
    {
     "name": "stderr",
     "output_type": "stream",
     "text": [
      " 31%|████████████████████████████████████▋                                                                                 | 33/106 [elapsed: 09:56 remaining: 21:19]"
     ]
    },
    {
     "name": "stdout",
     "output_type": "stream",
     "text": [
      "Found 775516 barcodes in the on-list\n",
      "Processed 8180 BUS records\n",
      "In on-list = 6777\n",
      "Corrected    = 295\n",
      "Uncorrected  = 1108\n",
      "Read in 7072 BUS records\n",
      "Read in 7072 text records\n",
      " all fits in buffer\n",
      "Read in 7072 BUS records\n",
      "reading time 0s\n",
      "sorting time 0s\n",
      "writing time 0s\n",
      "Found 775516 barcodes in the on-list\n",
      "Processed 605403 BUS records\n",
      "In on-list = 58903\n",
      "Corrected    = 161683\n",
      "Uncorrected  = 384817\n",
      "Read in 220586 BUS records\n",
      "Read in 220586 text records\n",
      "partition time: 0.01s\n",
      " all fits in buffer\n",
      "Read in 220586 BUS records\n",
      "reading time 0s\n",
      "sorting time 0.15s\n",
      "writing time 0.02s\n"
     ]
    },
    {
     "name": "stderr",
     "output_type": "stream",
     "text": [
      " 32%|█████████████████████████████████████▊                                                                                | 34/106 [elapsed: 10:11 remaining: 20:21]"
     ]
    },
    {
     "name": "stdout",
     "output_type": "stream",
     "text": [
      "Found 775516 barcodes in the on-list\n",
      "Processed 1537 BUS records\n",
      "In on-list = 1185\n",
      "Corrected    = 78\n",
      "Uncorrected  = 274\n",
      "Read in 1263 BUS records\n",
      "Read in 1263 text records\n",
      " all fits in buffer\n",
      "Read in 1263 BUS records\n",
      "reading time 0s\n",
      "sorting time 0s\n",
      "writing time 0s\n",
      "Found 775516 barcodes in the on-list\n",
      "Processed 3963870 BUS records\n",
      "In on-list = 536797\n",
      "Corrected    = 1029331\n",
      "Uncorrected  = 2397742\n",
      "Read in 1566128 BUS records\n",
      "Read in 1566128 text records\n",
      "partition time: 0.05s\n",
      " all fits in buffer\n",
      "Read in 1566128 BUS records\n",
      "reading time 0.03s\n",
      "sorting time 0.7s\n",
      "writing time 0.02s\n"
     ]
    },
    {
     "name": "stderr",
     "output_type": "stream",
     "text": [
      " 33%|██████████████████████████████████████▉                                                                               | 35/106 [elapsed: 10:35 remaining: 22:34]"
     ]
    },
    {
     "name": "stdout",
     "output_type": "stream",
     "text": [
      "Found 775516 barcodes in the on-list\n",
      "Processed 1265 BUS records\n",
      "In on-list = 889\n",
      "Corrected    = 89\n",
      "Uncorrected  = 287\n",
      "Read in 978 BUS records\n",
      "Read in 978 text records\n",
      " all fits in buffer\n",
      "Read in 978 BUS records\n",
      "reading time 0s\n",
      "sorting time 0s\n",
      "writing time 0s\n",
      "Found 775516 barcodes in the on-list\n",
      "Processed 905302 BUS records\n",
      "In on-list = 90749\n",
      "Corrected    = 242633\n",
      "Uncorrected  = 571920\n",
      "Read in 333382 BUS records\n",
      "Read in 333382 text records\n",
      "partition time: 0.01s\n",
      " all fits in buffer\n",
      "Read in 333382 BUS records\n",
      "reading time 0.01s\n",
      "sorting time 0.1s\n",
      "writing time 0s\n"
     ]
    },
    {
     "name": "stderr",
     "output_type": "stream",
     "text": [
      " 34%|████████████████████████████████████████                                                                              | 36/106 [elapsed: 10:52 remaining: 21:15]"
     ]
    },
    {
     "name": "stdout",
     "output_type": "stream",
     "text": [
      "Found 775516 barcodes in the on-list\n",
      "Processed 347 BUS records\n",
      "In on-list = 114\n",
      "Corrected    = 74\n",
      "Uncorrected  = 159\n",
      "Read in 188 BUS records\n",
      "Read in 188 text records\n",
      " all fits in buffer\n",
      "Read in 188 BUS records\n",
      "reading time 0s\n",
      "sorting time 0s\n",
      "writing time 0s\n",
      "Found 775516 barcodes in the on-list\n",
      "Processed 1715045 BUS records\n",
      "In on-list = 127099\n",
      "Corrected    = 484036\n",
      "Uncorrected  = 1103910\n",
      "Read in 611135 BUS records\n",
      "Read in 611135 text records\n",
      "partition time: 0.02s\n",
      " all fits in buffer\n",
      "Read in 611135 BUS records\n",
      "reading time 0.01s\n",
      "sorting time 0.93s\n",
      "writing time 0.01s\n"
     ]
    },
    {
     "name": "stderr",
     "output_type": "stream",
     "text": [
      " 35%|█████████████████████████████████████████▏                                                                            | 37/106 [elapsed: 11:10 remaining: 20:56]"
     ]
    },
    {
     "name": "stdout",
     "output_type": "stream",
     "text": [
      "Found 775516 barcodes in the on-list\n",
      "Processed 901 BUS records\n",
      "In on-list = 608\n",
      "Corrected    = 82\n",
      "Uncorrected  = 211\n",
      "Read in 690 BUS records\n",
      "Read in 690 text records\n",
      " all fits in buffer\n",
      "Read in 690 BUS records\n",
      "reading time 0s\n",
      "sorting time 0s\n",
      "writing time 0s\n",
      "Found 775516 barcodes in the on-list\n",
      "Processed 2513995 BUS records\n",
      "In on-list = 294241\n",
      "Corrected    = 669704\n",
      "Uncorrected  = 1550050\n",
      "Read in 963945 BUS records\n",
      "Read in 963945 text records\n",
      "partition time: 0.03s\n",
      " all fits in buffer\n",
      "Read in 963945 BUS records\n",
      "reading time 0.02s\n",
      "sorting time 0.76s\n",
      "writing time 0.02s\n"
     ]
    },
    {
     "name": "stderr",
     "output_type": "stream",
     "text": [
      " 36%|██████████████████████████████████████████▎                                                                           | 38/106 [elapsed: 11:30 remaining: 21:14]"
     ]
    },
    {
     "name": "stdout",
     "output_type": "stream",
     "text": [
      "Found 775516 barcodes in the on-list\n",
      "Processed 3704 BUS records\n",
      "In on-list = 2755\n",
      "Corrected    = 261\n",
      "Uncorrected  = 688\n",
      "Read in 3016 BUS records\n",
      "Read in 3016 text records\n",
      " all fits in buffer\n",
      "Read in 3016 BUS records\n",
      "reading time 0s\n",
      "sorting time 0s\n",
      "writing time 0s\n",
      "Found 775516 barcodes in the on-list\n",
      "Processed 33365 BUS records\n",
      "In on-list = 6669\n",
      "Corrected    = 7969\n",
      "Uncorrected  = 18727\n",
      "Read in 14638 BUS records\n",
      "Read in 14638 text records\n",
      " all fits in buffer\n",
      "Read in 14638 BUS records\n",
      "reading time 0s\n",
      "sorting time 0s\n",
      "writing time 0s\n"
     ]
    },
    {
     "name": "stderr",
     "output_type": "stream",
     "text": [
      " 37%|███████████████████████████████████████████▍                                                                          | 39/106 [elapsed: 11:43 remaining: 19:08]"
     ]
    },
    {
     "name": "stdout",
     "output_type": "stream",
     "text": [
      "Found 775516 barcodes in the on-list\n",
      "Processed 1764 BUS records\n",
      "In on-list = 1139\n",
      "Corrected    = 195\n",
      "Uncorrected  = 430\n",
      "Read in 1334 BUS records\n",
      "Read in 1334 text records\n",
      " all fits in buffer\n",
      "Read in 1334 BUS records\n",
      "reading time 0s\n",
      "sorting time 0s\n",
      "writing time 0s\n",
      "Found 775516 barcodes in the on-list\n",
      "Processed 1501188 BUS records\n",
      "In on-list = 160069\n",
      "Corrected    = 401920\n",
      "Uncorrected  = 939199\n",
      "Read in 561989 BUS records\n",
      "Read in 561989 text records\n",
      "partition time: 0.02s\n",
      " all fits in buffer\n",
      "Read in 561989 BUS records\n",
      "reading time 0.01s\n",
      "sorting time 0.5s\n",
      "writing time 0.02s\n"
     ]
    },
    {
     "name": "stderr",
     "output_type": "stream",
     "text": [
      " 38%|████████████████████████████████████████████▌                                                                         | 40/106 [elapsed: 12:01 remaining: 19:04]"
     ]
    },
    {
     "name": "stdout",
     "output_type": "stream",
     "text": [
      "Found 775516 barcodes in the on-list\n",
      "Processed 945 BUS records\n",
      "In on-list = 629\n",
      "Corrected    = 101\n",
      "Uncorrected  = 215\n",
      "Read in 730 BUS records\n",
      "Read in 730 text records\n",
      " all fits in buffer\n",
      "Read in 730 BUS records\n",
      "reading time 0s\n",
      "sorting time 0s\n",
      "writing time 0s\n",
      "Found 775516 barcodes in the on-list\n",
      "Processed 1805489 BUS records\n",
      "In on-list = 201155\n",
      "Corrected    = 479076\n",
      "Uncorrected  = 1125258\n",
      "Read in 680231 BUS records\n",
      "Read in 680231 text records\n",
      "partition time: 0.02s\n",
      " all fits in buffer\n",
      "Read in 680231 BUS records\n",
      "reading time 0.01s\n",
      "sorting time 0.47s\n",
      "writing time 0.03s\n"
     ]
    },
    {
     "name": "stderr",
     "output_type": "stream",
     "text": [
      " 39%|█████████████████████████████████████████████▋                                                                        | 41/106 [elapsed: 12:19 remaining: 19:08]"
     ]
    },
    {
     "name": "stdout",
     "output_type": "stream",
     "text": [
      "Found 775516 barcodes in the on-list\n",
      "Processed 979 BUS records\n",
      "In on-list = 646\n",
      "Corrected    = 82\n",
      "Uncorrected  = 251\n",
      "Read in 728 BUS records\n",
      "Read in 728 text records\n",
      " all fits in buffer\n",
      "Read in 728 BUS records\n",
      "reading time 0s\n",
      "sorting time 0s\n",
      "writing time 0s\n",
      "Found 775516 barcodes in the on-list\n",
      "Processed 569219 BUS records\n",
      "In on-list = 42704\n",
      "Corrected    = 155202\n",
      "Uncorrected  = 371313\n",
      "Read in 197906 BUS records\n",
      "Read in 197906 text records\n",
      "partition time: 0.01s\n",
      " all fits in buffer\n",
      "Read in 197906 BUS records\n",
      "reading time 0s\n",
      "sorting time 0.07s\n",
      "writing time 0.01s\n"
     ]
    },
    {
     "name": "stderr",
     "output_type": "stream",
     "text": [
      " 40%|██████████████████████████████████████████████▊                                                                       | 42/106 [elapsed: 12:34 remaining: 17:57]"
     ]
    },
    {
     "name": "stdout",
     "output_type": "stream",
     "text": [
      "Found 775516 barcodes in the on-list\n",
      "Processed 1130 BUS records\n",
      "In on-list = 423\n",
      "Corrected    = 233\n",
      "Uncorrected  = 474\n",
      "Read in 656 BUS records\n",
      "Read in 656 text records\n",
      " all fits in buffer\n",
      "Read in 656 BUS records\n",
      "reading time 0s\n",
      "sorting time 0s\n",
      "writing time 0s\n",
      "Found 775516 barcodes in the on-list\n",
      "Processed 2638173 BUS records\n",
      "In on-list = 259268\n",
      "Corrected    = 705343\n",
      "Uncorrected  = 1673562\n",
      "Read in 964611 BUS records\n",
      "Read in 964611 text records\n",
      "partition time: 0.03s\n",
      " all fits in buffer\n",
      "Read in 964611 BUS records\n",
      "reading time 0.03s\n",
      "sorting time 0.61s\n",
      "writing time 0.02s\n"
     ]
    },
    {
     "name": "stderr",
     "output_type": "stream",
     "text": [
      " 41%|███████████████████████████████████████████████▊                                                                      | 43/106 [elapsed: 12:54 remaining: 18:39]"
     ]
    },
    {
     "name": "stdout",
     "output_type": "stream",
     "text": [
      "Found 775516 barcodes in the on-list\n",
      "Processed 15628 BUS records\n",
      "In on-list = 13986\n",
      "Corrected    = 372\n",
      "Uncorrected  = 1270\n",
      "Read in 14358 BUS records\n",
      "Read in 14358 text records\n",
      " all fits in buffer\n",
      "Read in 14358 BUS records\n",
      "reading time 0s\n",
      "sorting time 0s\n",
      "writing time 0s\n",
      "Found 775516 barcodes in the on-list\n",
      "Processed 49725 BUS records\n",
      "In on-list = 20178\n",
      "Corrected    = 9729\n",
      "Uncorrected  = 19818\n",
      "Read in 29907 BUS records\n",
      "Read in 29907 text records\n",
      " all fits in buffer\n",
      "Read in 29907 BUS records\n",
      "reading time 0s\n",
      "sorting time 0s\n",
      "writing time 0s\n"
     ]
    },
    {
     "name": "stderr",
     "output_type": "stream",
     "text": [
      " 42%|████████████████████████████████████████████████▉                                                                     | 44/106 [elapsed: 13:08 remaining: 17:08]"
     ]
    },
    {
     "name": "stdout",
     "output_type": "stream",
     "text": [
      "Found 775516 barcodes in the on-list\n",
      "Processed 991 BUS records\n",
      "In on-list = 807\n",
      "Corrected    = 54\n",
      "Uncorrected  = 130\n",
      "Read in 861 BUS records\n",
      "Read in 861 text records\n",
      " all fits in buffer\n",
      "Read in 861 BUS records\n",
      "reading time 0s\n",
      "sorting time 0s\n",
      "writing time 0s\n",
      "Found 775516 barcodes in the on-list\n",
      "Processed 1074795 BUS records\n",
      "In on-list = 131480\n",
      "Corrected    = 274145\n",
      "Uncorrected  = 669170\n",
      "Read in 405625 BUS records\n",
      "Read in 405625 text records\n",
      "partition time: 0.02s\n",
      " all fits in buffer\n",
      "Read in 405625 BUS records\n",
      "reading time 0.01s\n",
      "sorting time 0.38s\n",
      "writing time 0s\n"
     ]
    },
    {
     "name": "stderr",
     "output_type": "stream",
     "text": [
      " 42%|██████████████████████████████████████████████████                                                                    | 45/106 [elapsed: 13:25 remaining: 17:00]"
     ]
    },
    {
     "name": "stdout",
     "output_type": "stream",
     "text": [
      "Found 775516 barcodes in the on-list\n",
      "Processed 9582 BUS records\n",
      "In on-list = 7447\n",
      "Corrected    = 605\n",
      "Uncorrected  = 1530\n",
      "Read in 8052 BUS records\n",
      "Read in 8052 text records\n",
      " all fits in buffer\n",
      "Read in 8052 BUS records\n",
      "reading time 0s\n",
      "sorting time 0s\n",
      "writing time 0s\n",
      "Found 775516 barcodes in the on-list\n",
      "Processed 2921042 BUS records\n",
      "In on-list = 519127\n",
      "Corrected    = 708904\n",
      "Uncorrected  = 1693011\n",
      "Read in 1228031 BUS records\n",
      "Read in 1228031 text records\n",
      "partition time: 0.04s\n",
      " all fits in buffer\n",
      "Read in 1228031 BUS records\n",
      "reading time 0.02s\n",
      "sorting time 1s\n",
      "writing time 0.04s\n"
     ]
    },
    {
     "name": "stderr",
     "output_type": "stream",
     "text": [
      " 43%|███████████████████████████████████████████████████▏                                                                  | 46/106 [elapsed: 13:46 remaining: 18:00]"
     ]
    },
    {
     "name": "stdout",
     "output_type": "stream",
     "text": [
      "Found 775516 barcodes in the on-list\n",
      "Processed 27051 BUS records\n",
      "In on-list = 22091\n",
      "Corrected    = 1266\n",
      "Uncorrected  = 3694\n",
      "Read in 23357 BUS records\n",
      "Read in 23357 text records\n",
      " all fits in buffer\n",
      "Read in 23357 BUS records\n",
      "reading time 0s\n",
      "sorting time 0s\n",
      "writing time 0s\n",
      "Found 775516 barcodes in the on-list\n",
      "Processed 5811596 BUS records\n",
      "In on-list = 1246691\n",
      "Corrected    = 1404557\n",
      "Uncorrected  = 3160348\n",
      "Read in 2651248 BUS records\n",
      "Read in 2651248 text records\n",
      "partition time: 0.08s\n",
      " all fits in buffer\n",
      "Read in 2651248 BUS records\n",
      "reading time 0.04s\n",
      "sorting time 1.61s\n",
      "writing time 0.09s\n"
     ]
    },
    {
     "name": "stderr",
     "output_type": "stream",
     "text": [
      " 44%|████████████████████████████████████████████████████▎                                                                 | 47/106 [elapsed: 14:16 remaining: 21:11]"
     ]
    },
    {
     "name": "stdout",
     "output_type": "stream",
     "text": [
      "Found 775516 barcodes in the on-list\n",
      "Processed 838 BUS records\n",
      "In on-list = 356\n",
      "Corrected    = 192\n",
      "Uncorrected  = 290\n",
      "Read in 548 BUS records\n",
      "Read in 548 text records\n",
      " all fits in buffer\n",
      "Read in 548 BUS records\n",
      "reading time 0s\n",
      "sorting time 0s\n",
      "writing time 0s\n",
      "Found 775516 barcodes in the on-list\n",
      "Processed 13926584 BUS records\n",
      "In on-list = 1108104\n",
      "Corrected    = 3930503\n",
      "Uncorrected  = 8887977\n",
      "Read in 5038607 BUS records\n",
      "Read in 5038607 text records\n",
      "partition time: 0.17s\n",
      " all fits in buffer\n",
      "Read in 5038607 BUS records\n",
      "reading time 0.07s\n",
      "sorting time 1.6s\n",
      "writing time 0.06s\n"
     ]
    },
    {
     "name": "stderr",
     "output_type": "stream",
     "text": [
      " 45%|█████████████████████████████████████████████████████▍                                                                | 48/106 [elapsed: 15:04 remaining: 28:34]"
     ]
    },
    {
     "name": "stdout",
     "output_type": "stream",
     "text": [
      "Found 775516 barcodes in the on-list\n",
      "Processed 999 BUS records\n",
      "In on-list = 706\n",
      "Corrected    = 56\n",
      "Uncorrected  = 237\n",
      "Read in 762 BUS records\n",
      "Read in 762 text records\n",
      " all fits in buffer\n",
      "Read in 762 BUS records\n",
      "reading time 0s\n",
      "sorting time 0s\n",
      "writing time 0s\n",
      "Found 775516 barcodes in the on-list\n",
      "Processed 1055072 BUS records\n",
      "In on-list = 129862\n",
      "Corrected    = 269313\n",
      "Uncorrected  = 655897\n",
      "Read in 399175 BUS records\n",
      "Read in 399175 text records\n",
      "partition time: 0.01s\n",
      " all fits in buffer\n",
      "Read in 399175 BUS records\n",
      "reading time 0.01s\n",
      "sorting time 0.13s\n",
      "writing time 0.02s\n"
     ]
    },
    {
     "name": "stderr",
     "output_type": "stream",
     "text": [
      " 46%|██████████████████████████████████████████████████████▌                                                               | 49/106 [elapsed: 15:21 remaining: 24:24]"
     ]
    },
    {
     "name": "stdout",
     "output_type": "stream",
     "text": [
      "Found 775516 barcodes in the on-list\n",
      "Processed 1181 BUS records\n",
      "In on-list = 937\n",
      "Corrected    = 51\n",
      "Uncorrected  = 193\n",
      "Read in 988 BUS records\n",
      "Read in 988 text records\n",
      " all fits in buffer\n",
      "Read in 988 BUS records\n",
      "reading time 0s\n",
      "sorting time 0s\n",
      "writing time 0s\n",
      "Found 775516 barcodes in the on-list\n",
      "Processed 2747033 BUS records\n",
      "In on-list = 393767\n",
      "Corrected    = 709576\n",
      "Uncorrected  = 1643690\n",
      "Read in 1103343 BUS records\n",
      "Read in 1103343 text records\n",
      "partition time: 0.04s\n",
      " all fits in buffer\n",
      "Read in 1103343 BUS records\n",
      "reading time 0.02s\n",
      "sorting time 0.36s\n",
      "writing time 0.03s\n"
     ]
    },
    {
     "name": "stderr",
     "output_type": "stream",
     "text": [
      " 47%|███████████████████████████████████████████████████████▋                                                              | 50/106 [elapsed: 15:46 remaining: 23:53]"
     ]
    },
    {
     "name": "stdout",
     "output_type": "stream",
     "text": [
      "Found 775516 barcodes in the on-list\n",
      "Processed 1272 BUS records\n",
      "In on-list = 975\n",
      "Corrected    = 101\n",
      "Uncorrected  = 196\n",
      "Read in 1076 BUS records\n",
      "Read in 1076 text records\n",
      " all fits in buffer\n",
      "Read in 1076 BUS records\n",
      "reading time 0s\n",
      "sorting time 0s\n",
      "writing time 0s\n",
      "Found 775516 barcodes in the on-list\n",
      "Processed 2982150 BUS records\n",
      "In on-list = 399353\n",
      "Corrected    = 784421\n",
      "Uncorrected  = 1798376\n",
      "Read in 1183774 BUS records\n",
      "Read in 1183774 text records\n",
      "partition time: 0.04s\n",
      " all fits in buffer\n",
      "Read in 1183774 BUS records\n",
      "reading time 0.01s\n",
      "sorting time 0.39s\n",
      "writing time 0.02s\n"
     ]
    },
    {
     "name": "stderr",
     "output_type": "stream",
     "text": [
      " 48%|████████████████████████████████████████████████████████▊                                                             | 51/106 [elapsed: 16:06 remaining: 21:56]"
     ]
    },
    {
     "name": "stdout",
     "output_type": "stream",
     "text": [
      "Found 775516 barcodes in the on-list\n",
      "Processed 520 BUS records\n",
      "In on-list = 266\n",
      "Corrected    = 82\n",
      "Uncorrected  = 172\n",
      "Read in 348 BUS records\n",
      "Read in 348 text records\n",
      " all fits in buffer\n",
      "Read in 348 BUS records\n",
      "reading time 0s\n",
      "sorting time 0s\n",
      "writing time 0s\n",
      "Found 775516 barcodes in the on-list\n",
      "Processed 645242 BUS records\n",
      "In on-list = 65546\n",
      "Corrected    = 173355\n",
      "Uncorrected  = 406341\n",
      "Read in 238901 BUS records\n",
      "Read in 238901 text records\n",
      "partition time: 0.01s\n",
      " all fits in buffer\n",
      "Read in 238901 BUS records\n",
      "reading time 0.01s\n",
      "sorting time 0.08s\n",
      "writing time 0.01s\n"
     ]
    },
    {
     "name": "stderr",
     "output_type": "stream",
     "text": [
      " 49%|█████████████████████████████████████████████████████████▉                                                            | 52/106 [elapsed: 16:21 remaining: 18:54]"
     ]
    },
    {
     "name": "stdout",
     "output_type": "stream",
     "text": [
      "Found 775516 barcodes in the on-list\n",
      "Processed 317 BUS records\n",
      "In on-list = 145\n",
      "Corrected    = 63\n",
      "Uncorrected  = 109\n",
      "Read in 208 BUS records\n",
      "Read in 208 text records\n",
      " all fits in buffer\n",
      "Read in 208 BUS records\n",
      "reading time 0s\n",
      "sorting time 0s\n",
      "writing time 0s\n",
      "Found 775516 barcodes in the on-list\n",
      "Processed 1402721 BUS records\n",
      "In on-list = 114016\n",
      "Corrected    = 389775\n",
      "Uncorrected  = 898930\n",
      "Read in 503791 BUS records\n",
      "Read in 503791 text records\n",
      "partition time: 0.01s\n",
      " all fits in buffer\n",
      "Read in 503791 BUS records\n",
      "reading time 0.01s\n",
      "sorting time 0.53s\n",
      "writing time 0.01s\n"
     ]
    },
    {
     "name": "stderr",
     "output_type": "stream",
     "text": [
      " 50%|███████████████████████████████████████████████████████████                                                           | 53/106 [elapsed: 16:38 remaining: 17:34]"
     ]
    },
    {
     "name": "stdout",
     "output_type": "stream",
     "text": [
      "Found 775516 barcodes in the on-list\n",
      "Processed 2894 BUS records\n",
      "In on-list = 1785\n",
      "Corrected    = 303\n",
      "Uncorrected  = 806\n",
      "Read in 2088 BUS records\n",
      "Read in 2088 text records\n",
      " all fits in buffer\n",
      "Read in 2088 BUS records\n",
      "reading time 0s\n",
      "sorting time 0s\n",
      "writing time 0s\n",
      "Found 775516 barcodes in the on-list\n",
      "Processed 4417563 BUS records\n",
      "In on-list = 454567\n",
      "Corrected    = 1184781\n",
      "Uncorrected  = 2778215\n",
      "Read in 1639348 BUS records\n",
      "Read in 1639348 text records\n",
      "partition time: 0.05s\n",
      " all fits in buffer\n",
      "Read in 1639348 BUS records\n",
      "reading time 0.02s\n",
      "sorting time 0.78s\n",
      "writing time 0.03s\n"
     ]
    },
    {
     "name": "stderr",
     "output_type": "stream",
     "text": [
      " 51%|████████████████████████████████████████████████████████████                                                          | 54/106 [elapsed: 17:02 remaining: 18:27]"
     ]
    },
    {
     "name": "stdout",
     "output_type": "stream",
     "text": [
      "Found 775516 barcodes in the on-list\n",
      "Processed 840 BUS records\n",
      "In on-list = 468\n",
      "Corrected    = 100\n",
      "Uncorrected  = 272\n",
      "Read in 568 BUS records\n",
      "Read in 568 text records\n",
      " all fits in buffer\n",
      "Read in 568 BUS records\n",
      "reading time 0s\n",
      "sorting time 0s\n",
      "writing time 0s\n",
      "Found 775516 barcodes in the on-list\n",
      "Processed 491665 BUS records\n",
      "In on-list = 38319\n",
      "Corrected    = 133230\n",
      "Uncorrected  = 320116\n",
      "Read in 171549 BUS records\n",
      "Read in 171549 text records\n",
      "partition time: 0.01s\n",
      " all fits in buffer\n",
      "Read in 171549 BUS records\n",
      "reading time 0s\n",
      "sorting time 0.07s\n",
      "writing time 0s\n"
     ]
    },
    {
     "name": "stderr",
     "output_type": "stream",
     "text": [
      " 52%|█████████████████████████████████████████████████████████████▏                                                        | 55/106 [elapsed: 17:17 remaining: 16:26]"
     ]
    },
    {
     "name": "stdout",
     "output_type": "stream",
     "text": [
      "Found 775516 barcodes in the on-list\n",
      "Processed 1276 BUS records\n",
      "In on-list = 733\n",
      "Corrected    = 145\n",
      "Uncorrected  = 398\n",
      "Read in 878 BUS records\n",
      "Read in 878 text records\n",
      " all fits in buffer\n",
      "Read in 878 BUS records\n",
      "reading time 0s\n",
      "sorting time 0s\n",
      "writing time 0s\n",
      "Found 775516 barcodes in the on-list\n",
      "Processed 367911 BUS records\n",
      "In on-list = 38978\n",
      "Corrected    = 104046\n",
      "Uncorrected  = 224887\n",
      "Read in 143024 BUS records\n",
      "Read in 143024 text records\n",
      "partition time: 0s\n",
      " all fits in buffer\n",
      "Read in 143024 BUS records\n",
      "reading time 0s\n",
      "sorting time 0.57s\n",
      "writing time 0s\n"
     ]
    },
    {
     "name": "stderr",
     "output_type": "stream",
     "text": [
      " 53%|██████████████████████████████████████████████████████████████▎                                                       | 56/106 [elapsed: 17:33 remaining: 15:12]"
     ]
    },
    {
     "name": "stdout",
     "output_type": "stream",
     "text": [
      "Found 775516 barcodes in the on-list\n",
      "Processed 702 BUS records\n",
      "In on-list = 371\n",
      "Corrected    = 94\n",
      "Uncorrected  = 237\n",
      "Read in 465 BUS records\n",
      "Read in 465 text records\n",
      " all fits in buffer\n",
      "Read in 465 BUS records\n",
      "reading time 0s\n",
      "sorting time 0s\n",
      "writing time 0s\n",
      "Found 775516 barcodes in the on-list\n",
      "Processed 561307 BUS records\n",
      "In on-list = 71466\n",
      "Corrected    = 144262\n",
      "Uncorrected  = 345579\n",
      "Read in 215728 BUS records\n",
      "Read in 215728 text records\n",
      "partition time: 0.01s\n",
      " all fits in buffer\n",
      "Read in 215728 BUS records\n",
      "reading time 0s\n",
      "sorting time 0.35s\n",
      "writing time 0.02s\n"
     ]
    },
    {
     "name": "stderr",
     "output_type": "stream",
     "text": [
      " 54%|███████████████████████████████████████████████████████████████▍                                                      | 57/106 [elapsed: 17:48 remaining: 14:10]"
     ]
    },
    {
     "name": "stdout",
     "output_type": "stream",
     "text": [
      "Found 775516 barcodes in the on-list\n",
      "Processed 1777 BUS records\n",
      "In on-list = 1356\n",
      "Corrected    = 122\n",
      "Uncorrected  = 299\n",
      "Read in 1478 BUS records\n",
      "Read in 1478 text records\n",
      " all fits in buffer\n",
      "Read in 1478 BUS records\n",
      "reading time 0s\n",
      "sorting time 0s\n",
      "writing time 0s\n",
      "Found 775516 barcodes in the on-list\n",
      "Processed 810205 BUS records\n",
      "In on-list = 113237\n",
      "Corrected    = 203507\n",
      "Uncorrected  = 493461\n",
      "Read in 316744 BUS records\n",
      "Read in 316744 text records\n",
      "partition time: 0.01s\n",
      " all fits in buffer\n",
      "Read in 316744 BUS records\n",
      "reading time 0s\n",
      "sorting time 0.12s\n",
      "writing time 0s\n"
     ]
    },
    {
     "name": "stderr",
     "output_type": "stream",
     "text": [
      " 55%|████████████████████████████████████████████████████████████████▌                                                     | 58/106 [elapsed: 18:04 remaining: 13:24]"
     ]
    },
    {
     "name": "stdout",
     "output_type": "stream",
     "text": [
      "Found 775516 barcodes in the on-list\n",
      "Processed 3093 BUS records\n",
      "In on-list = 2044\n",
      "Corrected    = 286\n",
      "Uncorrected  = 763\n",
      "Read in 2330 BUS records\n",
      "Read in 2330 text records\n",
      " all fits in buffer\n",
      "Read in 2330 BUS records\n",
      "reading time 0s\n",
      "sorting time 0s\n",
      "writing time 0s\n",
      "Found 775516 barcodes in the on-list\n",
      "Processed 20279327 BUS records\n",
      "In on-list = 2208973\n",
      "Corrected    = 5245974\n",
      "Uncorrected  = 12824380\n",
      "Read in 7454947 BUS records\n",
      "Read in 7454947 text records\n",
      "partition time: 0.26s\n",
      " all fits in buffer\n",
      "Read in 7454947 BUS records\n",
      "reading time 0.11s\n",
      "sorting time 2.32s\n",
      "writing time 0.1s\n"
     ]
    },
    {
     "name": "stderr",
     "output_type": "stream",
     "text": [
      " 56%|█████████████████████████████████████████████████████████████████▋                                                    | 59/106 [elapsed: 19:06 remaining: 23:53]"
     ]
    },
    {
     "name": "stdout",
     "output_type": "stream",
     "text": [
      "Found 775516 barcodes in the on-list\n",
      "Processed 437 BUS records\n",
      "In on-list = 274\n",
      "Corrected    = 41\n",
      "Uncorrected  = 122\n",
      "Read in 315 BUS records\n",
      "Read in 315 text records\n",
      " all fits in buffer\n",
      "Read in 315 BUS records\n",
      "reading time 0s\n",
      "sorting time 0s\n",
      "writing time 0s\n",
      "Found 775516 barcodes in the on-list\n",
      "Processed 206256 BUS records\n",
      "In on-list = 17622\n",
      "Corrected    = 55728\n",
      "Uncorrected  = 132906\n",
      "Read in 73350 BUS records\n",
      "Read in 73350 text records\n",
      " all fits in buffer\n",
      "Read in 73350 BUS records\n",
      "reading time 0s\n",
      "sorting time 0.01s\n",
      "writing time 0s\n"
     ]
    },
    {
     "name": "stderr",
     "output_type": "stream",
     "text": [
      " 57%|██████████████████████████████████████████████████████████████████▊                                                   | 60/106 [elapsed: 19:19 remaining: 19:18]"
     ]
    },
    {
     "name": "stdout",
     "output_type": "stream",
     "text": [
      "Found 775516 barcodes in the on-list\n",
      "Processed 668 BUS records\n",
      "In on-list = 483\n",
      "Corrected    = 53\n",
      "Uncorrected  = 132\n",
      "Read in 536 BUS records\n",
      "Read in 536 text records\n",
      " all fits in buffer\n",
      "Read in 536 BUS records\n",
      "reading time 0s\n",
      "sorting time 0s\n",
      "writing time 0.01s\n",
      "Found 775516 barcodes in the on-list\n",
      "Processed 2125525 BUS records\n",
      "In on-list = 340381\n",
      "Corrected    = 539227\n",
      "Uncorrected  = 1245917\n",
      "Read in 879608 BUS records\n",
      "Read in 879608 text records\n",
      "partition time: 0.02s\n",
      " all fits in buffer\n",
      "Read in 879608 BUS records\n",
      "reading time 0.01s\n",
      "sorting time 0.31s\n",
      "writing time 0.02s\n"
     ]
    },
    {
     "name": "stderr",
     "output_type": "stream",
     "text": [
      " 58%|███████████████████████████████████████████████████████████████████▉                                                  | 61/106 [elapsed: 19:36 remaining: 17:06]"
     ]
    },
    {
     "name": "stdout",
     "output_type": "stream",
     "text": [
      "Found 775516 barcodes in the on-list\n",
      "Processed 1080 BUS records\n",
      "In on-list = 661\n",
      "Corrected    = 120\n",
      "Uncorrected  = 299\n",
      "Read in 781 BUS records\n",
      "Read in 781 text records\n",
      " all fits in buffer\n",
      "Read in 781 BUS records\n",
      "reading time 0s\n",
      "sorting time 0s\n",
      "writing time 0s\n",
      "Found 775516 barcodes in the on-list\n",
      "Processed 502559 BUS records\n",
      "In on-list = 54772\n",
      "Corrected    = 134961\n",
      "Uncorrected  = 312826\n",
      "Read in 189733 BUS records\n",
      "Read in 189733 text records\n",
      "partition time: 0.01s\n",
      " all fits in buffer\n",
      "Read in 189733 BUS records\n",
      "reading time 0.01s\n",
      "sorting time 0.06s\n",
      "writing time 0.01s\n"
     ]
    },
    {
     "name": "stderr",
     "output_type": "stream",
     "text": [
      " 58%|█████████████████████████████████████████████████████████████████████                                                 | 62/106 [elapsed: 19:51 remaining: 14:59]"
     ]
    },
    {
     "name": "stdout",
     "output_type": "stream",
     "text": [
      "Found 775516 barcodes in the on-list\n",
      "Processed 1065 BUS records\n",
      "In on-list = 620\n",
      "Corrected    = 132\n",
      "Uncorrected  = 313\n",
      "Read in 752 BUS records\n",
      "Read in 752 text records\n",
      " all fits in buffer\n",
      "Read in 752 BUS records\n",
      "reading time 0s\n",
      "sorting time 0s\n",
      "writing time 0s\n",
      "Found 775516 barcodes in the on-list\n",
      "Processed 1531787 BUS records\n",
      "In on-list = 147563\n",
      "Corrected    = 413076\n",
      "Uncorrected  = 971148\n",
      "Read in 560639 BUS records\n",
      "Read in 560639 text records\n",
      "partition time: 0.02s\n",
      " all fits in buffer\n",
      "Read in 560639 BUS records\n",
      "reading time 0.01s\n",
      "sorting time 0.19s\n",
      "writing time 0.01s\n"
     ]
    },
    {
     "name": "stderr",
     "output_type": "stream",
     "text": [
      " 59%|██████████████████████████████████████████████████████████████████████▏                                               | 63/106 [elapsed: 20:08 remaining: 13:51]"
     ]
    },
    {
     "name": "stdout",
     "output_type": "stream",
     "text": [
      "Found 775516 barcodes in the on-list\n",
      "Processed 1905 BUS records\n",
      "In on-list = 1632\n",
      "Corrected    = 75\n",
      "Uncorrected  = 198\n",
      "Read in 1707 BUS records\n",
      "Read in 1707 text records\n",
      " all fits in buffer\n",
      "Read in 1707 BUS records\n",
      "reading time 0s\n",
      "sorting time 0s\n",
      "writing time 0s\n",
      "Found 775516 barcodes in the on-list\n",
      "Processed 908429 BUS records\n",
      "In on-list = 90306\n",
      "Corrected    = 245164\n",
      "Uncorrected  = 572959\n",
      "Read in 335470 BUS records\n",
      "Read in 335470 text records\n",
      "partition time: 0.01s\n",
      " all fits in buffer\n",
      "Read in 335470 BUS records\n",
      "reading time 0.01s\n",
      "sorting time 0.11s\n",
      "writing time 0s\n"
     ]
    },
    {
     "name": "stderr",
     "output_type": "stream",
     "text": [
      " 60%|███████████████████████████████████████████████████████████████████████▏                                              | 64/106 [elapsed: 20:23 remaining: 12:39]"
     ]
    },
    {
     "name": "stdout",
     "output_type": "stream",
     "text": [
      "Found 775516 barcodes in the on-list\n",
      "Processed 1121 BUS records\n",
      "In on-list = 675\n",
      "Corrected    = 147\n",
      "Uncorrected  = 299\n",
      "Read in 822 BUS records\n",
      "Read in 822 text records\n",
      " all fits in buffer\n",
      "Read in 822 BUS records\n",
      "reading time 0s\n",
      "sorting time 0s\n",
      "writing time 0s\n",
      "Found 775516 barcodes in the on-list\n",
      "Processed 4754716 BUS records\n",
      "In on-list = 806608\n",
      "Corrected    = 1141958\n",
      "Uncorrected  = 2806150\n",
      "Read in 1948566 BUS records\n",
      "Read in 1948566 text records\n",
      "partition time: 0.06s\n",
      " all fits in buffer\n",
      "Read in 1948566 BUS records\n",
      "reading time 0.03s\n",
      "sorting time 0.82s\n",
      "writing time 0.03s\n"
     ]
    },
    {
     "name": "stderr",
     "output_type": "stream",
     "text": [
      " 61%|████████████████████████████████████████████████████████████████████████▎                                             | 65/106 [elapsed: 20:47 remaining: 13:37]"
     ]
    },
    {
     "name": "stdout",
     "output_type": "stream",
     "text": [
      "Found 775516 barcodes in the on-list\n",
      "Processed 8868 BUS records\n",
      "In on-list = 7344\n",
      "Corrected    = 379\n",
      "Uncorrected  = 1145\n",
      "Read in 7723 BUS records\n",
      "Read in 7723 text records\n",
      " all fits in buffer\n",
      "Read in 7723 BUS records\n",
      "reading time 0s\n",
      "sorting time 0s\n",
      "writing time 0s\n",
      "Found 775516 barcodes in the on-list\n",
      "Processed 108295 BUS records\n",
      "In on-list = 29004\n",
      "Corrected    = 24514\n",
      "Uncorrected  = 54777\n",
      "Read in 53518 BUS records\n",
      "Read in 53518 text records\n",
      " all fits in buffer\n",
      "Read in 53518 BUS records\n",
      "reading time 0s\n",
      "sorting time 0.01s\n",
      "writing time 0.01s\n"
     ]
    },
    {
     "name": "stderr",
     "output_type": "stream",
     "text": [
      " 62%|█████████████████████████████████████████████████████████████████████████▍                                            | 66/106 [elapsed: 21:01 remaining: 11:57]"
     ]
    },
    {
     "name": "stdout",
     "output_type": "stream",
     "text": [
      "Found 775516 barcodes in the on-list\n",
      "Processed 3341 BUS records\n",
      "In on-list = 2419\n",
      "Corrected    = 256\n",
      "Uncorrected  = 666\n",
      "Read in 2675 BUS records\n",
      "Read in 2675 text records\n",
      " all fits in buffer\n",
      "Read in 2675 BUS records\n",
      "reading time 0s\n",
      "sorting time 0s\n",
      "writing time 0s\n",
      "Found 775516 barcodes in the on-list\n",
      "Processed 810464 BUS records\n",
      "In on-list = 137264\n",
      "Corrected    = 195337\n",
      "Uncorrected  = 477863\n",
      "Read in 332601 BUS records\n",
      "Read in 332601 text records\n",
      "partition time: 0.01s\n",
      " all fits in buffer\n",
      "Read in 332601 BUS records\n",
      "reading time 0s\n",
      "sorting time 0.11s\n",
      "writing time 0.02s\n"
     ]
    },
    {
     "name": "stderr",
     "output_type": "stream",
     "text": [
      " 63%|██████████████████████████████████████████████████████████████████████████▌                                           | 67/106 [elapsed: 21:15 remaining: 10:57]"
     ]
    },
    {
     "name": "stdout",
     "output_type": "stream",
     "text": [
      "Found 775516 barcodes in the on-list\n",
      "Processed 1986 BUS records\n",
      "In on-list = 1573\n",
      "Corrected    = 103\n",
      "Uncorrected  = 310\n",
      "Read in 1676 BUS records\n",
      "Read in 1676 text records\n",
      " all fits in buffer\n",
      "Read in 1676 BUS records\n",
      "reading time 0s\n",
      "sorting time 0s\n",
      "writing time 0s\n",
      "Found 775516 barcodes in the on-list\n",
      "Processed 2855639 BUS records\n",
      "In on-list = 432404\n",
      "Corrected    = 725405\n",
      "Uncorrected  = 1697830\n",
      "Read in 1157809 BUS records\n",
      "Read in 1157809 text records\n",
      "partition time: 0.04s\n",
      " all fits in buffer\n",
      "Read in 1157809 BUS records\n",
      "reading time 0.01s\n",
      "sorting time 0.66s\n",
      "writing time 0.03s\n"
     ]
    },
    {
     "name": "stderr",
     "output_type": "stream",
     "text": [
      " 64%|███████████████████████████████████████████████████████████████████████████▋                                          | 68/106 [elapsed: 21:34 remaining: 11:10]"
     ]
    },
    {
     "name": "stdout",
     "output_type": "stream",
     "text": [
      "Found 775516 barcodes in the on-list\n",
      "Processed 22429 BUS records\n",
      "In on-list = 18959\n",
      "Corrected    = 892\n",
      "Uncorrected  = 2578\n",
      "Read in 19851 BUS records\n",
      "Read in 19851 text records\n",
      " all fits in buffer\n",
      "Read in 19851 BUS records\n",
      "reading time 0s\n",
      "sorting time 0s\n",
      "writing time 0s\n",
      "Found 775516 barcodes in the on-list\n",
      "Processed 1935551 BUS records\n",
      "In on-list = 458790\n",
      "Corrected    = 440525\n",
      "Uncorrected  = 1036236\n",
      "Read in 899315 BUS records\n",
      "Read in 899315 text records\n",
      "partition time: 0.03s\n",
      " all fits in buffer\n",
      "Read in 899315 BUS records\n",
      "reading time 0.01s\n",
      "sorting time 0.32s\n",
      "writing time 0.02s\n"
     ]
    },
    {
     "name": "stderr",
     "output_type": "stream",
     "text": [
      " 65%|████████████████████████████████████████████████████████████████████████████▊                                         | 69/106 [elapsed: 21:52 remaining: 10:54]"
     ]
    },
    {
     "name": "stdout",
     "output_type": "stream",
     "text": [
      "Found 775516 barcodes in the on-list\n",
      "Processed 3163 BUS records\n",
      "In on-list = 2579\n",
      "Corrected    = 150\n",
      "Uncorrected  = 434\n",
      "Read in 2729 BUS records\n",
      "Read in 2729 text records\n",
      " all fits in buffer\n",
      "Read in 2729 BUS records\n",
      "reading time 0s\n",
      "sorting time 0s\n",
      "writing time 0s\n",
      "Found 775516 barcodes in the on-list\n",
      "Processed 3448504 BUS records\n",
      "In on-list = 621480\n",
      "Corrected    = 848668\n",
      "Uncorrected  = 1978356\n",
      "Read in 1470148 BUS records\n",
      "Read in 1470148 text records\n",
      "partition time: 0.06s\n",
      " all fits in buffer\n",
      "Read in 1470148 BUS records\n",
      "reading time 0.03s\n",
      "sorting time 0.72s\n",
      "writing time 0.02s\n"
     ]
    },
    {
     "name": "stderr",
     "output_type": "stream",
     "text": [
      " 66%|█████████████████████████████████████████████████████████████████████████████▉                                        | 70/106 [elapsed: 22:14 remaining: 11:19]"
     ]
    },
    {
     "name": "stdout",
     "output_type": "stream",
     "text": [
      "Found 775516 barcodes in the on-list\n",
      "Processed 2000 BUS records\n",
      "In on-list = 1596\n",
      "Corrected    = 106\n",
      "Uncorrected  = 298\n",
      "Read in 1702 BUS records\n",
      "Read in 1702 text records\n",
      " all fits in buffer\n",
      "Read in 1702 BUS records\n",
      "reading time 0s\n",
      "sorting time 0s\n",
      "writing time 0s\n",
      "Found 775516 barcodes in the on-list\n",
      "Processed 4143573 BUS records\n",
      "In on-list = 652565\n",
      "Corrected    = 1069357\n",
      "Uncorrected  = 2421651\n",
      "Read in 1721922 BUS records\n",
      "Read in 1721922 text records\n",
      "partition time: 0.06s\n",
      " all fits in buffer\n",
      "Read in 1721922 BUS records\n",
      "reading time 0.02s\n",
      "sorting time 0.87s\n",
      "writing time 0.02s\n"
     ]
    },
    {
     "name": "stderr",
     "output_type": "stream",
     "text": [
      " 67%|███████████████████████████████████████████████████████████████████████████████                                       | 71/106 [elapsed: 22:37 remaining: 11:48]"
     ]
    },
    {
     "name": "stdout",
     "output_type": "stream",
     "text": [
      "Found 775516 barcodes in the on-list\n",
      "Processed 1744 BUS records\n",
      "In on-list = 1410\n",
      "Corrected    = 101\n",
      "Uncorrected  = 233\n",
      "Read in 1511 BUS records\n",
      "Read in 1511 text records\n",
      " all fits in buffer\n",
      "Read in 1511 BUS records\n",
      "reading time 0s\n",
      "sorting time 0s\n",
      "writing time 0s\n",
      "Found 775516 barcodes in the on-list\n",
      "Processed 2912931 BUS records\n",
      "In on-list = 406163\n",
      "Corrected    = 759317\n",
      "Uncorrected  = 1747451\n",
      "Read in 1165480 BUS records\n",
      "Read in 1165480 text records\n",
      "partition time: 0.04s\n",
      " all fits in buffer\n",
      "Read in 1165480 BUS records\n",
      "reading time 0.01s\n",
      "sorting time 0.61s\n",
      "writing time 0.03s\n"
     ]
    },
    {
     "name": "stderr",
     "output_type": "stream",
     "text": [
      " 68%|████████████████████████████████████████████████████████████████████████████████▏                                     | 72/106 [elapsed: 22:57 remaining: 11:21]"
     ]
    },
    {
     "name": "stdout",
     "output_type": "stream",
     "text": [
      "Found 775516 barcodes in the on-list\n",
      "Processed 11726 BUS records\n",
      "In on-list = 9755\n",
      "Corrected    = 452\n",
      "Uncorrected  = 1519\n",
      "Read in 10207 BUS records\n",
      "Read in 10207 text records\n",
      " all fits in buffer\n",
      "Read in 10207 BUS records\n",
      "reading time 0s\n",
      "sorting time 0s\n",
      "writing time 0s\n",
      "Found 775516 barcodes in the on-list\n",
      "Processed 5369773 BUS records\n",
      "In on-list = 997987\n",
      "Corrected    = 1212050\n",
      "Uncorrected  = 3159736\n",
      "Read in 2210037 BUS records\n",
      "Read in 2210037 text records\n",
      "partition time: 0.09s\n",
      " all fits in buffer\n",
      "Read in 2210037 BUS records\n",
      "reading time 0.05s\n",
      "sorting time 0.84s\n",
      "writing time 0.03s\n"
     ]
    },
    {
     "name": "stderr",
     "output_type": "stream",
     "text": [
      " 69%|█████████████████████████████████████████████████████████████████████████████████▎                                    | 73/106 [elapsed: 23:25 remaining: 12:23]"
     ]
    },
    {
     "name": "stdout",
     "output_type": "stream",
     "text": [
      "Found 775516 barcodes in the on-list\n",
      "Processed 1518 BUS records\n",
      "In on-list = 795\n",
      "Corrected    = 219\n",
      "Uncorrected  = 504\n",
      "Read in 1014 BUS records\n",
      "Read in 1014 text records\n",
      " all fits in buffer\n",
      "Read in 1014 BUS records\n",
      "reading time 0s\n",
      "sorting time 0s\n",
      "writing time 0s\n",
      "Found 775516 barcodes in the on-list\n",
      "Processed 13961888 BUS records\n",
      "In on-list = 1237422\n",
      "Corrected    = 3824716\n",
      "Uncorrected  = 8899750\n",
      "Read in 5062138 BUS records\n",
      "Read in 5062138 text records\n",
      "partition time: 0.17s\n",
      " all fits in buffer\n",
      "Read in 5062138 BUS records\n",
      "reading time 0.07s\n",
      "sorting time 1.78s\n",
      "writing time 0.11s\n"
     ]
    },
    {
     "name": "stderr",
     "output_type": "stream",
     "text": [
      " 70%|██████████████████████████████████████████████████████████████████████████████████▍                                   | 74/106 [elapsed: 24:13 remaining: 16:06]"
     ]
    },
    {
     "name": "stdout",
     "output_type": "stream",
     "text": [
      "Found 775516 barcodes in the on-list\n",
      "Processed 1664 BUS records\n",
      "In on-list = 1308\n",
      "Corrected    = 74\n",
      "Uncorrected  = 282\n",
      "Read in 1382 BUS records\n",
      "Read in 1382 text records\n",
      " all fits in buffer\n",
      "Read in 1382 BUS records\n",
      "reading time 0s\n",
      "sorting time 0s\n",
      "writing time 0s\n",
      "Found 775516 barcodes in the on-list\n",
      "Processed 1597585 BUS records\n",
      "In on-list = 251049\n",
      "Corrected    = 395440\n",
      "Uncorrected  = 951096\n",
      "Read in 646489 BUS records\n",
      "Read in 646489 text records\n",
      "partition time: 0.02s\n",
      " all fits in buffer\n",
      "Read in 646489 BUS records\n",
      "reading time 0.02s\n",
      "sorting time 0.22s\n",
      "writing time 0.01s\n"
     ]
    },
    {
     "name": "stderr",
     "output_type": "stream",
     "text": [
      " 71%|███████████████████████████████████████████████████████████████████████████████████▍                                  | 75/106 [elapsed: 24:31 remaining: 13:39]"
     ]
    },
    {
     "name": "stdout",
     "output_type": "stream",
     "text": [
      "Found 775516 barcodes in the on-list\n",
      "Processed 1261 BUS records\n",
      "In on-list = 900\n",
      "Corrected    = 92\n",
      "Uncorrected  = 269\n",
      "Read in 992 BUS records\n",
      "Read in 992 text records\n",
      " all fits in buffer\n",
      "Read in 992 BUS records\n",
      "reading time 0s\n",
      "sorting time 0s\n",
      "writing time 0s\n",
      "Found 775516 barcodes in the on-list\n",
      "Processed 889039 BUS records\n",
      "In on-list = 85138\n",
      "Corrected    = 241678\n",
      "Uncorrected  = 562223\n",
      "Read in 326816 BUS records\n",
      "Read in 326816 text records\n",
      "partition time: 0.01s\n",
      " all fits in buffer\n",
      "Read in 326816 BUS records\n",
      "reading time 0.01s\n",
      "sorting time 0.88s\n",
      "writing time 0.01s\n"
     ]
    },
    {
     "name": "stderr",
     "output_type": "stream",
     "text": [
      " 72%|████████████████████████████████████████████████████████████████████████████████████▌                                 | 76/106 [elapsed: 24:47 remaining: 11:37]"
     ]
    },
    {
     "name": "stdout",
     "output_type": "stream",
     "text": [
      "Found 775516 barcodes in the on-list\n",
      "Processed 896 BUS records\n",
      "In on-list = 759\n",
      "Corrected    = 28\n",
      "Uncorrected  = 109\n",
      "Read in 787 BUS records\n",
      "Read in 787 text records\n",
      " all fits in buffer\n",
      "Read in 787 BUS records\n",
      "reading time 0s\n",
      "sorting time 0s\n",
      "writing time 0s\n",
      "Found 775516 barcodes in the on-list\n",
      "Processed 756280 BUS records\n",
      "In on-list = 146815\n",
      "Corrected    = 177283\n",
      "Uncorrected  = 432182\n",
      "Read in 324098 BUS records\n",
      "Read in 324098 text records\n",
      "partition time: 0.01s\n",
      " all fits in buffer\n",
      "Read in 324098 BUS records\n",
      "reading time 0.01s\n",
      "sorting time 0.26s\n",
      "writing time 0.01s\n"
     ]
    },
    {
     "name": "stderr",
     "output_type": "stream",
     "text": [
      " 73%|█████████████████████████████████████████████████████████████████████████████████████▋                                | 77/106 [elapsed: 25:01 remaining: 09:58]"
     ]
    },
    {
     "name": "stdout",
     "output_type": "stream",
     "text": [
      "Found 775516 barcodes in the on-list\n",
      "Processed 1763 BUS records\n",
      "In on-list = 1339\n",
      "Corrected    = 121\n",
      "Uncorrected  = 303\n",
      "Read in 1460 BUS records\n",
      "Read in 1460 text records\n",
      " all fits in buffer\n",
      "Read in 1460 BUS records\n",
      "reading time 0s\n",
      "sorting time 0s\n",
      "writing time 0s\n",
      "Found 775516 barcodes in the on-list\n",
      "Processed 677106 BUS records\n",
      "In on-list = 77239\n",
      "Corrected    = 180795\n",
      "Uncorrected  = 419072\n",
      "Read in 258034 BUS records\n",
      "Read in 258034 text records\n",
      "partition time: 0.01s\n",
      " all fits in buffer\n",
      "Read in 258034 BUS records\n",
      "reading time 0.01s\n",
      "sorting time 0.32s\n",
      "writing time 0s\n"
     ]
    },
    {
     "name": "stderr",
     "output_type": "stream",
     "text": [
      " 74%|██████████████████████████████████████████████████████████████████████████████████████▊                               | 78/106 [elapsed: 25:16 remaining: 08:50]"
     ]
    },
    {
     "name": "stdout",
     "output_type": "stream",
     "text": [
      "Found 775516 barcodes in the on-list\n",
      "Processed 1646 BUS records\n",
      "In on-list = 1312\n",
      "Corrected    = 91\n",
      "Uncorrected  = 243\n",
      "Read in 1403 BUS records\n",
      "Read in 1403 text records\n",
      " all fits in buffer\n",
      "Read in 1403 BUS records\n",
      "reading time 0s\n",
      "sorting time 0.01s\n",
      "writing time 0s\n",
      "Found 775516 barcodes in the on-list\n",
      "Processed 3792675 BUS records\n",
      "In on-list = 428101\n",
      "Corrected    = 1015099\n",
      "Uncorrected  = 2349475\n",
      "Read in 1443200 BUS records\n",
      "Read in 1443200 text records\n",
      "partition time: 0.05s\n",
      " all fits in buffer\n",
      "Read in 1443200 BUS records\n",
      "reading time 0.02s\n",
      "sorting time 1.04s\n",
      "writing time 0.07s\n"
     ]
    },
    {
     "name": "stderr",
     "output_type": "stream",
     "text": [
      " 75%|███████████████████████████████████████████████████████████████████████████████████████▉                              | 79/106 [elapsed: 25:40 remaining: 09:11]"
     ]
    },
    {
     "name": "stdout",
     "output_type": "stream",
     "text": [
      "Found 775516 barcodes in the on-list\n",
      "Processed 1053 BUS records\n",
      "In on-list = 730\n",
      "Corrected    = 78\n",
      "Uncorrected  = 245\n",
      "Read in 808 BUS records\n",
      "Read in 808 text records\n",
      " all fits in buffer\n",
      "Read in 808 BUS records\n",
      "reading time 0s\n",
      "sorting time 0s\n",
      "writing time 0s\n",
      "Found 775516 barcodes in the on-list\n",
      "Processed 9477357 BUS records\n",
      "In on-list = 1990453\n",
      "Corrected    = 2192009\n",
      "Uncorrected  = 5294895\n",
      "Read in 4182462 BUS records\n",
      "Read in 4182462 text records\n",
      "partition time: 0.16s\n",
      " all fits in buffer\n",
      "Read in 4182462 BUS records\n",
      "reading time 0.06s\n",
      "sorting time 1.15s\n",
      "writing time 0.04s\n"
     ]
    },
    {
     "name": "stderr",
     "output_type": "stream",
     "text": [
      " 75%|█████████████████████████████████████████████████████████████████████████████████████████                             | 80/106 [elapsed: 26:17 remaining: 10:58]"
     ]
    },
    {
     "name": "stdout",
     "output_type": "stream",
     "text": [
      "Found 775516 barcodes in the on-list\n",
      "Processed 1614 BUS records\n",
      "In on-list = 1058\n",
      "Corrected    = 158\n",
      "Uncorrected  = 398\n",
      "Read in 1216 BUS records\n",
      "Read in 1216 text records\n",
      " all fits in buffer\n",
      "Read in 1216 BUS records\n",
      "reading time 0s\n",
      "sorting time 0s\n",
      "writing time 0s\n",
      "Found 775516 barcodes in the on-list\n",
      "Processed 1467268 BUS records\n",
      "In on-list = 154208\n",
      "Corrected    = 392902\n",
      "Uncorrected  = 920158\n",
      "Read in 547110 BUS records\n",
      "Read in 547110 text records\n",
      "partition time: 0.02s\n",
      " all fits in buffer\n",
      "Read in 547110 BUS records\n",
      "reading time 0s\n",
      "sorting time 0.18s\n",
      "writing time 0.02s\n"
     ]
    },
    {
     "name": "stderr",
     "output_type": "stream",
     "text": [
      " 76%|██████████████████████████████████████████████████████████████████████████████████████████▏                           | 81/106 [elapsed: 26:33 remaining: 09:23]"
     ]
    },
    {
     "name": "stdout",
     "output_type": "stream",
     "text": [
      "Found 775516 barcodes in the on-list\n",
      "Processed 991 BUS records\n",
      "In on-list = 780\n",
      "Corrected    = 43\n",
      "Uncorrected  = 168\n",
      "Read in 823 BUS records\n",
      "Read in 823 text records\n",
      " all fits in buffer\n",
      "Read in 823 BUS records\n",
      "reading time 0s\n",
      "sorting time 0s\n",
      "writing time 0s\n",
      "Found 775516 barcodes in the on-list\n",
      "Processed 1363794 BUS records\n",
      "In on-list = 192620\n",
      "Corrected    = 350946\n",
      "Uncorrected  = 820228\n",
      "Read in 543566 BUS records\n",
      "Read in 543566 text records\n",
      "partition time: 0.02s\n",
      " all fits in buffer\n",
      "Read in 543566 BUS records\n",
      "reading time 0s\n",
      "sorting time 0.39s\n",
      "writing time 0s\n"
     ]
    },
    {
     "name": "stderr",
     "output_type": "stream",
     "text": [
      " 77%|███████████████████████████████████████████████████████████████████████████████████████████▎                          | 82/106 [elapsed: 26:49 remaining: 08:17]"
     ]
    },
    {
     "name": "stdout",
     "output_type": "stream",
     "text": [
      "Found 775516 barcodes in the on-list\n",
      "Processed 1088 BUS records\n",
      "In on-list = 806\n",
      "Corrected    = 62\n",
      "Uncorrected  = 220\n",
      "Read in 868 BUS records\n",
      "Read in 868 text records\n",
      " all fits in buffer\n",
      "Read in 868 BUS records\n",
      "reading time 0s\n",
      "sorting time 0s\n",
      "writing time 0s\n",
      "Found 775516 barcodes in the on-list\n",
      "Processed 520206 BUS records\n",
      "In on-list = 76248\n",
      "Corrected    = 126820\n",
      "Uncorrected  = 317138\n",
      "Read in 203068 BUS records\n",
      "Read in 203068 text records\n",
      "partition time: 0.01s\n",
      " all fits in buffer\n",
      "Read in 203068 BUS records\n",
      "reading time 0.01s\n",
      "sorting time 0.5s\n",
      "writing time 0s\n"
     ]
    },
    {
     "name": "stderr",
     "output_type": "stream",
     "text": [
      " 78%|████████████████████████████████████████████████████████████████████████████████████████████▍                         | 83/106 [elapsed: 27:05 remaining: 07:21]"
     ]
    },
    {
     "name": "stdout",
     "output_type": "stream",
     "text": [
      "Found 775516 barcodes in the on-list\n",
      "Processed 587 BUS records\n",
      "In on-list = 377\n",
      "Corrected    = 60\n",
      "Uncorrected  = 150\n",
      "Read in 437 BUS records\n",
      "Read in 437 text records\n",
      " all fits in buffer\n",
      "Read in 437 BUS records\n",
      "reading time 0s\n",
      "sorting time 0s\n",
      "writing time 0s\n",
      "Found 775516 barcodes in the on-list\n",
      "Processed 881568 BUS records\n",
      "In on-list = 69514\n",
      "Corrected    = 239514\n",
      "Uncorrected  = 572540\n",
      "Read in 309028 BUS records\n",
      "Read in 309028 text records\n",
      "partition time: 0.01s\n",
      " all fits in buffer\n",
      "Read in 309028 BUS records\n",
      "reading time 0s\n",
      "sorting time 0.47s\n",
      "writing time 0.01s\n"
     ]
    },
    {
     "name": "stderr",
     "output_type": "stream",
     "text": [
      " 79%|█████████████████████████████████████████████████████████████████████████████████████████████▌                        | 84/106 [elapsed: 27:21 remaining: 06:42]"
     ]
    },
    {
     "name": "stdout",
     "output_type": "stream",
     "text": [
      "Found 775516 barcodes in the on-list\n",
      "Processed 1633 BUS records\n",
      "In on-list = 1062\n",
      "Corrected    = 179\n",
      "Uncorrected  = 392\n",
      "Read in 1241 BUS records\n",
      "Read in 1241 text records\n",
      " all fits in buffer\n",
      "Read in 1241 BUS records\n",
      "reading time 0s\n",
      "sorting time 0s\n",
      "writing time 0s\n",
      "Found 775516 barcodes in the on-list\n",
      "Processed 542004 BUS records\n",
      "In on-list = 96725\n",
      "Corrected    = 130185\n",
      "Uncorrected  = 315094\n",
      "Read in 226910 BUS records\n",
      "Read in 226910 text records\n",
      "partition time: 0s\n",
      " all fits in buffer\n",
      "Read in 226910 BUS records\n",
      "reading time 0.01s\n",
      "sorting time 0.33s\n",
      "writing time 0.01s\n"
     ]
    },
    {
     "name": "stderr",
     "output_type": "stream",
     "text": [
      " 80%|██████████████████████████████████████████████████████████████████████████████████████████████▌                       | 85/106 [elapsed: 27:36 remaining: 06:00]"
     ]
    },
    {
     "name": "stdout",
     "output_type": "stream",
     "text": [
      "Found 775516 barcodes in the on-list\n",
      "Processed 721 BUS records\n",
      "In on-list = 310\n",
      "Corrected    = 77\n",
      "Uncorrected  = 334\n",
      "Read in 387 BUS records\n",
      "Read in 387 text records\n",
      " all fits in buffer\n",
      "Read in 387 BUS records\n",
      "reading time 0s\n",
      "sorting time 0s\n",
      "writing time 0s\n",
      "Found 775516 barcodes in the on-list\n",
      "Processed 1076134 BUS records\n",
      "In on-list = 138990\n",
      "Corrected    = 277999\n",
      "Uncorrected  = 659145\n",
      "Read in 416989 BUS records\n",
      "Read in 416989 text records\n",
      "partition time: 0.01s\n",
      " all fits in buffer\n",
      "Read in 416989 BUS records\n",
      "reading time 0.01s\n",
      "sorting time 0.13s\n",
      "writing time 0.02s\n"
     ]
    },
    {
     "name": "stderr",
     "output_type": "stream",
     "text": [
      " 81%|███████████████████████████████████████████████████████████████████████████████████████████████▋                      | 86/106 [elapsed: 27:51 remaining: 05:29]"
     ]
    },
    {
     "name": "stdout",
     "output_type": "stream",
     "text": [
      "Found 775516 barcodes in the on-list\n",
      "Processed 1049 BUS records\n",
      "In on-list = 631\n",
      "Corrected    = 123\n",
      "Uncorrected  = 295\n",
      "Read in 754 BUS records\n",
      "Read in 754 text records\n",
      " all fits in buffer\n",
      "Read in 754 BUS records\n",
      "reading time 0s\n",
      "sorting time 0s\n",
      "writing time 0s\n",
      "Found 775516 barcodes in the on-list\n",
      "Processed 464695 BUS records\n",
      "In on-list = 50501\n",
      "Corrected    = 121559\n",
      "Uncorrected  = 292635\n",
      "Read in 172060 BUS records\n",
      "Read in 172060 text records\n",
      "partition time: 0.01s\n",
      " all fits in buffer\n",
      "Read in 172060 BUS records\n",
      "reading time 0.01s\n",
      "sorting time 0.06s\n",
      "writing time 0.01s\n"
     ]
    },
    {
     "name": "stderr",
     "output_type": "stream",
     "text": [
      " 82%|████████████████████████████████████████████████████████████████████████████████████████████████▊                     | 87/106 [elapsed: 28:05 remaining: 04:58]"
     ]
    },
    {
     "name": "stdout",
     "output_type": "stream",
     "text": [
      "Found 775516 barcodes in the on-list\n",
      "Processed 481 BUS records\n",
      "In on-list = 297\n",
      "Corrected    = 50\n",
      "Uncorrected  = 134\n",
      "Read in 347 BUS records\n",
      "Read in 347 text records\n",
      " all fits in buffer\n",
      "Read in 347 BUS records\n",
      "reading time 0s\n",
      "sorting time 0s\n",
      "writing time 0s\n",
      "Found 775516 barcodes in the on-list\n",
      "Processed 365257 BUS records\n",
      "In on-list = 30435\n",
      "Corrected    = 98714\n",
      "Uncorrected  = 236108\n",
      "Read in 129149 BUS records\n",
      "Read in 129149 text records\n",
      "partition time: 0s\n",
      " all fits in buffer\n",
      "Read in 129149 BUS records\n",
      "reading time 0s\n",
      "sorting time 0.05s\n",
      "writing time 0s\n"
     ]
    },
    {
     "name": "stderr",
     "output_type": "stream",
     "text": [
      " 83%|█████████████████████████████████████████████████████████████████████████████████████████████████▉                    | 88/106 [elapsed: 28:18 remaining: 04:29]"
     ]
    },
    {
     "name": "stdout",
     "output_type": "stream",
     "text": [
      "Found 775516 barcodes in the on-list\n",
      "Processed 561 BUS records\n",
      "In on-list = 366\n",
      "Corrected    = 71\n",
      "Uncorrected  = 124\n",
      "Read in 437 BUS records\n",
      "Read in 437 text records\n",
      " all fits in buffer\n",
      "Read in 437 BUS records\n",
      "reading time 0s\n",
      "sorting time 0s\n",
      "writing time 0s\n",
      "Found 775516 barcodes in the on-list\n",
      "Processed 882296 BUS records\n",
      "In on-list = 77548\n",
      "Corrected    = 242034\n",
      "Uncorrected  = 562714\n",
      "Read in 319582 BUS records\n",
      "Read in 319582 text records\n",
      "partition time: 0.01s\n",
      " all fits in buffer\n",
      "Read in 319582 BUS records\n",
      "reading time 0.01s\n",
      "sorting time 0.09s\n",
      "writing time 0.01s\n"
     ]
    },
    {
     "name": "stderr",
     "output_type": "stream",
     "text": [
      " 84%|███████████████████████████████████████████████████████████████████████████████████████████████████                   | 89/106 [elapsed: 28:34 remaining: 04:18]"
     ]
    },
    {
     "name": "stdout",
     "output_type": "stream",
     "text": [
      "Found 775516 barcodes in the on-list\n",
      "Processed 2345 BUS records\n",
      "In on-list = 1915\n",
      "Corrected    = 108\n",
      "Uncorrected  = 322\n",
      "Read in 2023 BUS records\n",
      "Read in 2023 text records\n",
      " all fits in buffer\n",
      "Read in 2023 BUS records\n",
      "reading time 0s\n",
      "sorting time 0s\n",
      "writing time 0s\n",
      "Found 775516 barcodes in the on-list\n",
      "Processed 1016310 BUS records\n",
      "In on-list = 167707\n",
      "Corrected    = 253442\n",
      "Uncorrected  = 595161\n",
      "Read in 421149 BUS records\n",
      "Read in 421149 text records\n",
      "partition time: 0.02s\n",
      " all fits in buffer\n",
      "Read in 421149 BUS records\n",
      "reading time 0.01s\n",
      "sorting time 0.14s\n",
      "writing time 0.01s\n"
     ]
    },
    {
     "name": "stderr",
     "output_type": "stream",
     "text": [
      " 85%|████████████████████████████████████████████████████████████████████████████████████████████████████▏                 | 90/106 [elapsed: 28:51 remaining: 04:12]"
     ]
    },
    {
     "name": "stdout",
     "output_type": "stream",
     "text": [
      "Found 775516 barcodes in the on-list\n",
      "Processed 747 BUS records\n",
      "In on-list = 426\n",
      "Corrected    = 123\n",
      "Uncorrected  = 198\n",
      "Read in 549 BUS records\n",
      "Read in 549 text records\n",
      " all fits in buffer\n",
      "Read in 549 BUS records\n",
      "reading time 0s\n",
      "sorting time 0s\n",
      "writing time 0s\n",
      "Found 775516 barcodes in the on-list\n",
      "Processed 1064613 BUS records\n",
      "In on-list = 97587\n",
      "Corrected    = 289193\n",
      "Uncorrected  = 677833\n",
      "Read in 386780 BUS records\n",
      "Read in 386780 text records\n",
      "partition time: 0.02s\n",
      " all fits in buffer\n",
      "Read in 386780 BUS records\n",
      "reading time 0.01s\n",
      "sorting time 0.14s\n",
      "writing time 0.01s\n"
     ]
    },
    {
     "name": "stderr",
     "output_type": "stream",
     "text": [
      " 86%|█████████████████████████████████████████████████████████████████████████████████████████████████████▎                | 91/106 [elapsed: 29:08 remaining: 04:04]"
     ]
    },
    {
     "name": "stdout",
     "output_type": "stream",
     "text": [
      "Found 775516 barcodes in the on-list\n",
      "Processed 4538 BUS records\n",
      "In on-list = 3584\n",
      "Corrected    = 258\n",
      "Uncorrected  = 696\n",
      "Read in 3842 BUS records\n",
      "Read in 3842 text records\n",
      " all fits in buffer\n",
      "Read in 3842 BUS records\n",
      "reading time 0s\n",
      "sorting time 0s\n",
      "writing time 0s\n",
      "Found 775516 barcodes in the on-list\n",
      "Processed 25540 BUS records\n",
      "In on-list = 8949\n",
      "Corrected    = 5325\n",
      "Uncorrected  = 11266\n",
      "Read in 14274 BUS records\n",
      "Read in 14274 text records\n",
      " all fits in buffer\n",
      "Read in 14274 BUS records\n",
      "reading time 0s\n",
      "sorting time 0s\n",
      "writing time 0.01s\n"
     ]
    },
    {
     "name": "stderr",
     "output_type": "stream",
     "text": [
      " 87%|██████████████████████████████████████████████████████████████████████████████████████████████████████▍               | 92/106 [elapsed: 29:22 remaining: 03:36]"
     ]
    },
    {
     "name": "stdout",
     "output_type": "stream",
     "text": [
      "Found 775516 barcodes in the on-list\n",
      "Processed 3291 BUS records\n",
      "In on-list = 2668\n",
      "Corrected    = 175\n",
      "Uncorrected  = 448\n",
      "Read in 2843 BUS records\n",
      "Read in 2843 text records\n",
      " all fits in buffer\n",
      "Read in 2843 BUS records\n",
      "reading time 0s\n",
      "sorting time 0s\n",
      "writing time 0s\n",
      "Found 775516 barcodes in the on-list\n",
      "Processed 2026049 BUS records\n",
      "In on-list = 356110\n",
      "Corrected    = 452431\n",
      "Uncorrected  = 1217508\n",
      "Read in 808541 BUS records\n",
      "Read in 808541 text records\n",
      "partition time: 0.03s\n",
      " all fits in buffer\n",
      "Read in 808541 BUS records\n",
      "reading time 0.02s\n",
      "sorting time 0.49s\n",
      "writing time 0.02s\n"
     ]
    },
    {
     "name": "stderr",
     "output_type": "stream",
     "text": [
      " 88%|███████████████████████████████████████████████████████████████████████████████████████████████████████▌              | 93/106 [elapsed: 29:41 remaining: 03:35]"
     ]
    },
    {
     "name": "stdout",
     "output_type": "stream",
     "text": [
      "Found 775516 barcodes in the on-list\n",
      "Processed 9035 BUS records\n",
      "In on-list = 7048\n",
      "Corrected    = 540\n",
      "Uncorrected  = 1447\n",
      "Read in 7588 BUS records\n",
      "Read in 7588 text records\n",
      " all fits in buffer\n",
      "Read in 7588 BUS records\n",
      "reading time 0s\n",
      "sorting time 0s\n",
      "writing time 0s\n",
      "Found 775516 barcodes in the on-list\n",
      "Processed 1292110 BUS records\n",
      "In on-list = 139882\n",
      "Corrected    = 327678\n",
      "Uncorrected  = 824550\n",
      "Read in 467560 BUS records\n",
      "Read in 467560 text records\n",
      "partition time: 0.01s\n",
      " all fits in buffer\n",
      "Read in 467560 BUS records\n",
      "reading time 0.01s\n",
      "sorting time 0.16s\n",
      "writing time 0.01s\n"
     ]
    },
    {
     "name": "stderr",
     "output_type": "stream",
     "text": [
      " 89%|████████████████████████████████████████████████████████████████████████████████████████████████████████▋             | 94/106 [elapsed: 29:57 remaining: 03:17]"
     ]
    },
    {
     "name": "stdout",
     "output_type": "stream",
     "text": [
      "Found 775516 barcodes in the on-list\n",
      "Processed 2767 BUS records\n",
      "In on-list = 2371\n",
      "Corrected    = 96\n",
      "Uncorrected  = 300\n",
      "Read in 2467 BUS records\n",
      "Read in 2467 text records\n",
      " all fits in buffer\n",
      "Read in 2467 BUS records\n",
      "reading time 0s\n",
      "sorting time 0s\n",
      "writing time 0s\n",
      "Found 775516 barcodes in the on-list\n",
      "Processed 1228089 BUS records\n",
      "In on-list = 144051\n",
      "Corrected    = 328016\n",
      "Uncorrected  = 756022\n",
      "Read in 472067 BUS records\n",
      "Read in 472067 text records\n",
      "partition time: 0.02s\n",
      " all fits in buffer\n",
      "Read in 472067 BUS records\n",
      "reading time 0.01s\n",
      "sorting time 0.15s\n",
      "writing time 0.01s\n"
     ]
    },
    {
     "name": "stderr",
     "output_type": "stream",
     "text": [
      " 90%|█████████████████████████████████████████████████████████████████████████████████████████████████████████▊            | 95/106 [elapsed: 30:13 remaining: 03:00]"
     ]
    },
    {
     "name": "stdout",
     "output_type": "stream",
     "text": [
      "Found 775516 barcodes in the on-list\n",
      "Processed 740 BUS records\n",
      "In on-list = 348\n",
      "Corrected    = 125\n",
      "Uncorrected  = 267\n",
      "Read in 473 BUS records\n",
      "Read in 473 text records\n",
      " all fits in buffer\n",
      "Read in 473 BUS records\n",
      "reading time 0s\n",
      "sorting time 0s\n",
      "writing time 0s\n",
      "Found 775516 barcodes in the on-list\n",
      "Processed 436634 BUS records\n",
      "In on-list = 38372\n",
      "Corrected    = 120204\n",
      "Uncorrected  = 278058\n",
      "Read in 158576 BUS records\n",
      "Read in 158576 text records\n",
      "partition time: 0.01s\n",
      " all fits in buffer\n",
      "Read in 158576 BUS records\n",
      "reading time 0.01s\n",
      "sorting time 0.35s\n",
      "writing time 0.01s\n"
     ]
    },
    {
     "name": "stderr",
     "output_type": "stream",
     "text": [
      " 91%|██████████████████████████████████████████████████████████████████████████████████████████████████████████▊           | 96/106 [elapsed: 30:28 remaining: 02:38]"
     ]
    },
    {
     "name": "stdout",
     "output_type": "stream",
     "text": [
      "Found 775516 barcodes in the on-list\n",
      "Processed 2053 BUS records\n",
      "In on-list = 1615\n",
      "Corrected    = 112\n",
      "Uncorrected  = 326\n",
      "Read in 1727 BUS records\n",
      "Read in 1727 text records\n",
      " all fits in buffer\n",
      "Read in 1727 BUS records\n",
      "reading time 0s\n",
      "sorting time 0s\n",
      "writing time 0s\n",
      "Found 775516 barcodes in the on-list\n",
      "Processed 2278692 BUS records\n",
      "In on-list = 376309\n",
      "Corrected    = 572516\n",
      "Uncorrected  = 1329867\n",
      "Read in 948825 BUS records\n",
      "Read in 948825 text records\n",
      "partition time: 0.03s\n",
      " all fits in buffer\n",
      "Read in 948825 BUS records\n",
      "reading time 0.02s\n",
      "sorting time 0.68s\n",
      "writing time 0.02s\n"
     ]
    },
    {
     "name": "stderr",
     "output_type": "stream",
     "text": [
      " 92%|███████████████████████████████████████████████████████████████████████████████████████████████████████████▉          | 97/106 [elapsed: 30:47 remaining: 02:31]"
     ]
    },
    {
     "name": "stdout",
     "output_type": "stream",
     "text": [
      "Found 775516 barcodes in the on-list\n",
      "Processed 2722 BUS records\n",
      "In on-list = 2153\n",
      "Corrected    = 130\n",
      "Uncorrected  = 439\n",
      "Read in 2283 BUS records\n",
      "Read in 2283 text records\n",
      " all fits in buffer\n",
      "Read in 2283 BUS records\n",
      "reading time 0s\n",
      "sorting time 0s\n",
      "writing time 0s\n",
      "Found 775516 barcodes in the on-list\n",
      "Processed 1321931 BUS records\n",
      "In on-list = 214278\n",
      "Corrected    = 326607\n",
      "Uncorrected  = 781046\n",
      "Read in 540885 BUS records\n",
      "Read in 540885 text records\n",
      "partition time: 0.02s\n",
      " all fits in buffer\n",
      "Read in 540885 BUS records\n",
      "reading time 0.01s\n",
      "sorting time 0.87s\n",
      "writing time 0.02s\n"
     ]
    },
    {
     "name": "stderr",
     "output_type": "stream",
     "text": [
      " 92%|█████████████████████████████████████████████████████████████████████████████████████████████████████████████         | 98/106 [elapsed: 31:05 remaining: 02:18]"
     ]
    },
    {
     "name": "stdout",
     "output_type": "stream",
     "text": [
      "Found 775516 barcodes in the on-list\n",
      "Processed 2255 BUS records\n",
      "In on-list = 1747\n",
      "Corrected    = 136\n",
      "Uncorrected  = 372\n",
      "Read in 1883 BUS records\n",
      "Read in 1883 text records\n",
      " all fits in buffer\n",
      "Read in 1883 BUS records\n",
      "reading time 0s\n",
      "sorting time 0s\n",
      "writing time 0s\n",
      "Found 775516 barcodes in the on-list\n",
      "Processed 1998619 BUS records\n",
      "In on-list = 329498\n",
      "Corrected    = 493170\n",
      "Uncorrected  = 1175951\n",
      "Read in 822668 BUS records\n",
      "Read in 822668 text records\n",
      "partition time: 0.03s\n",
      " all fits in buffer\n",
      "Read in 822668 BUS records\n",
      "reading time 0.02s\n",
      "sorting time 0.56s\n",
      "writing time 0.02s\n"
     ]
    },
    {
     "name": "stderr",
     "output_type": "stream",
     "text": [
      " 93%|██████████████████████████████████████████████████████████████████████████████████████████████████████████████▏       | 99/106 [elapsed: 31:25 remaining: 02:05]"
     ]
    },
    {
     "name": "stdout",
     "output_type": "stream",
     "text": [
      "Found 775516 barcodes in the on-list\n",
      "Processed 1616 BUS records\n",
      "In on-list = 1150\n",
      "Corrected    = 147\n",
      "Uncorrected  = 319\n",
      "Read in 1297 BUS records\n",
      "Read in 1297 text records\n",
      " all fits in buffer\n",
      "Read in 1297 BUS records\n",
      "reading time 0s\n",
      "sorting time 0s\n",
      "writing time 0s\n",
      "Found 775516 barcodes in the on-list\n",
      "Processed 897327 BUS records\n",
      "In on-list = 100556\n",
      "Corrected    = 238168\n",
      "Uncorrected  = 558603\n",
      "Read in 338724 BUS records\n",
      "Read in 338724 text records\n",
      "partition time: 0.01s\n",
      " all fits in buffer\n",
      "Read in 338724 BUS records\n",
      "reading time 0.01s\n",
      "sorting time 1.16s\n",
      "writing time 0.01s\n"
     ]
    },
    {
     "name": "stderr",
     "output_type": "stream",
     "text": [
      " 94%|██████████████████████████████████████████████████████████████████████████████████████████████████████████████▍      | 100/106 [elapsed: 31:42 remaining: 01:45]"
     ]
    },
    {
     "name": "stdout",
     "output_type": "stream",
     "text": [
      "Found 775516 barcodes in the on-list\n",
      "Processed 1855 BUS records\n",
      "In on-list = 1509\n",
      "Corrected    = 87\n",
      "Uncorrected  = 259\n",
      "Read in 1596 BUS records\n",
      "Read in 1596 text records\n",
      " all fits in buffer\n",
      "Read in 1596 BUS records\n",
      "reading time 0s\n",
      "sorting time 0s\n",
      "writing time 0s\n",
      "Found 775516 barcodes in the on-list\n",
      "Processed 4854432 BUS records\n",
      "In on-list = 722626\n",
      "Corrected    = 1238873\n",
      "Uncorrected  = 2892933\n",
      "Read in 1961499 BUS records\n",
      "Read in 1961499 text records\n",
      "partition time: 0.07s\n",
      " all fits in buffer\n",
      "Read in 1961499 BUS records\n",
      "reading time 0.03s\n",
      "sorting time 0.8s\n",
      "writing time 0.03s\n"
     ]
    },
    {
     "name": "stderr",
     "output_type": "stream",
     "text": [
      " 95%|███████████████████████████████████████████████████████████████████████████████████████████████████████████████▍     | 101/106 [elapsed: 32:07 remaining: 01:40]"
     ]
    },
    {
     "name": "stdout",
     "output_type": "stream",
     "text": [
      "Found 775516 barcodes in the on-list\n",
      "Processed 643 BUS records\n",
      "In on-list = 446\n",
      "Corrected    = 44\n",
      "Uncorrected  = 153\n",
      "Read in 490 BUS records\n",
      "Read in 490 text records\n",
      " all fits in buffer\n",
      "Read in 490 BUS records\n",
      "reading time 0s\n",
      "sorting time 0s\n",
      "writing time 0s\n",
      "Found 775516 barcodes in the on-list\n",
      "Processed 347960 BUS records\n",
      "In on-list = 35348\n",
      "Corrected    = 93778\n",
      "Uncorrected  = 218834\n",
      "Read in 129126 BUS records\n",
      "Read in 129126 text records\n",
      "partition time: 0s\n",
      " all fits in buffer\n",
      "Read in 129126 BUS records\n",
      "reading time 0.01s\n",
      "sorting time 0.04s\n",
      "writing time 0s\n"
     ]
    },
    {
     "name": "stderr",
     "output_type": "stream",
     "text": [
      " 96%|████████████████████████████████████████████████████████████████████████████████████████████████████████████████▌    | 102/106 [elapsed: 32:20 remaining: 01:11]"
     ]
    },
    {
     "name": "stdout",
     "output_type": "stream",
     "text": [
      "Found 775516 barcodes in the on-list\n",
      "Processed 1549 BUS records\n",
      "In on-list = 1142\n",
      "Corrected    = 160\n",
      "Uncorrected  = 247\n",
      "Read in 1302 BUS records\n",
      "Read in 1302 text records\n",
      " all fits in buffer\n",
      "Read in 1302 BUS records\n",
      "reading time 0s\n",
      "sorting time 0s\n",
      "writing time 0s\n",
      "Found 775516 barcodes in the on-list\n",
      "Processed 3394451 BUS records\n",
      "In on-list = 303384\n",
      "Corrected    = 938447\n",
      "Uncorrected  = 2152620\n",
      "Read in 1241831 BUS records\n",
      "Read in 1241831 text records\n",
      "partition time: 0.05s\n",
      " all fits in buffer\n",
      "Read in 1241831 BUS records\n",
      "reading time 0.01s\n",
      "sorting time 0.41s\n",
      "writing time 0.02s\n"
     ]
    },
    {
     "name": "stderr",
     "output_type": "stream",
     "text": [
      " 97%|█████████████████████████████████████████████████████████████████████████████████████████████████████████████████▋   | 103/106 [elapsed: 32:42 remaining: 00:57]"
     ]
    },
    {
     "name": "stdout",
     "output_type": "stream",
     "text": [
      "Found 775516 barcodes in the on-list\n",
      "Processed 1369 BUS records\n",
      "In on-list = 1059\n",
      "Corrected    = 82\n",
      "Uncorrected  = 228\n",
      "Read in 1141 BUS records\n",
      "Read in 1141 text records\n",
      " all fits in buffer\n",
      "Read in 1141 BUS records\n",
      "reading time 0s\n",
      "sorting time 0s\n",
      "writing time 0s\n",
      "Found 775516 barcodes in the on-list\n",
      "Processed 2549075 BUS records\n",
      "In on-list = 358551\n",
      "Corrected    = 652740\n",
      "Uncorrected  = 1537784\n",
      "Read in 1011291 BUS records\n",
      "Read in 1011291 text records\n",
      "partition time: 0.03s\n",
      " all fits in buffer\n",
      "Read in 1011291 BUS records\n",
      "reading time 0.02s\n",
      "sorting time 0.43s\n",
      "writing time 0.02s\n"
     ]
    },
    {
     "name": "stderr",
     "output_type": "stream",
     "text": [
      " 98%|██████████████████████████████████████████████████████████████████████████████████████████████████████████████████▊  | 104/106 [elapsed: 33:01 remaining: 00:37]"
     ]
    },
    {
     "name": "stdout",
     "output_type": "stream",
     "text": [
      "Found 775516 barcodes in the on-list\n",
      "Processed 639 BUS records\n",
      "In on-list = 331\n",
      "Corrected    = 107\n",
      "Uncorrected  = 201\n",
      "Read in 438 BUS records\n",
      "Read in 438 text records\n",
      " all fits in buffer\n",
      "Read in 438 BUS records\n",
      "reading time 0s\n",
      "sorting time 0s\n",
      "writing time 0s\n",
      "Found 775516 barcodes in the on-list\n",
      "Processed 855085 BUS records\n",
      "In on-list = 102272\n",
      "Corrected    = 223308\n",
      "Uncorrected  = 529505\n",
      "Read in 325580 BUS records\n",
      "Read in 325580 text records\n",
      "partition time: 0.01s\n",
      " all fits in buffer\n",
      "Read in 325580 BUS records\n",
      "reading time 0.01s\n",
      "sorting time 0.11s\n",
      "writing time 0.01s\n"
     ]
    },
    {
     "name": "stderr",
     "output_type": "stream",
     "text": [
      " 99%|███████████████████████████████████████████████████████████████████████████████████████████████████████████████████▉ | 105/106 [elapsed: 33:16 remaining: 00:17]"
     ]
    },
    {
     "name": "stdout",
     "output_type": "stream",
     "text": [
      "Found 775516 barcodes in the on-list\n",
      "Processed 549 BUS records\n",
      "In on-list = 344\n",
      "Corrected    = 67\n",
      "Uncorrected  = 138\n",
      "Read in 411 BUS records\n",
      "Read in 411 text records\n",
      " all fits in buffer\n",
      "Read in 411 BUS records\n",
      "reading time 0s\n",
      "sorting time 0s\n",
      "writing time 0.01s\n",
      "Found 775516 barcodes in the on-list\n",
      "Processed 1172407 BUS records\n",
      "In on-list = 168432\n",
      "Corrected    = 294007\n",
      "Uncorrected  = 709968\n",
      "Read in 462439 BUS records\n",
      "Read in 462439 text records\n",
      "partition time: 0.03s\n",
      " all fits in buffer\n",
      "Read in 462439 BUS records\n",
      "reading time 0.01s\n",
      "sorting time 0.45s\n",
      "writing time 0.01s\n"
     ]
    },
    {
     "name": "stderr",
     "output_type": "stream",
     "text": [
      "100%|█████████████████████████████████████████████████████████████████████████████████████████████████████████████████████| 106/106 [elapsed: 33:34 remaining: 00:00]"
     ]
    },
    {
     "name": "stdout",
     "output_type": "stream",
     "text": [
      "CPU times: user 39.2 s, sys: 14 s, total: 53.2 s\n",
      "Wall time: 33min 34s\n"
     ]
    },
    {
     "name": "stderr",
     "output_type": "stream",
     "text": [
      "\n"
     ]
    }
   ],
   "source": [
    "%%time\n",
    "with tqdm(total=len(sample_barcodes), bar_format=TQDM_BAR_FORMAT) as pbar:\n",
    "    for sb in sample_barcodes:\n",
    "        for ent in [\"host\", \"virus\"]:\n",
    "            bus_name = f\"output_{sb}_{ent}.bus\"\n",
    "            \n",
    "            # Correct barcodes (no need to sort first)\n",
    "            # This needs to be done before removing the flag column since adding the sample barcodes to the cell barcodes will confuse bustools correct\n",
    "            !$bustools correct \\\n",
    "                -w $host_whitelist_folder/bustools_whitelist.txt \\\n",
    "                -o $out_folder/output_temp1.bus \\\n",
    "                $out_folder/$bus_name\n",
    "\n",
    "            # Remove flag column so bustools count does not get confused\n",
    "            # -a retains the sample barcodes and adds them to the normal cell barcodes\n",
    "            !$bustools text \\\n",
    "                -apf $out_folder/output_temp1.bus | cut -d$'\\t' -f1,2,3,4 \\\n",
    "                | $bustools fromtext -o $out_folder/output_temp2.bus -\n",
    "\n",
    "            # Sort and count\n",
    "            !$bustools sort \\\n",
    "                -m 4G \\\n",
    "                -t 30 \\\n",
    "                -o $out_folder/output_temp3.bus \\\n",
    "                $out_folder/output_temp2.bus\n",
    "\n",
    "            os.makedirs(f\"{out_folder}/{sb}/{ent}\", exist_ok=True)\n",
    "            !$bustools count \\\n",
    "                --genecounts \\\n",
    "                -o $out_folder/$sb/$ent/bustools_count/ \\\n",
    "                -g $virus_t2g \\\n",
    "                -e $out_folder/matrix.ec \\\n",
    "                -t $out_folder/transcripts.txt \\\n",
    "                $out_folder/output_temp3.bus\n",
    "        \n",
    "        pbar.update(n=1)"
   ]
  },
  {
   "cell_type": "code",
   "execution_count": null,
   "id": "037dd530-998c-4ef1-9206-88000e94c44d",
   "metadata": {},
   "outputs": [],
   "source": []
  }
 ],
 "metadata": {
  "kernelspec": {
   "display_name": "Python 3 (ipykernel)",
   "language": "python",
   "name": "python3"
  },
  "language_info": {
   "codemirror_mode": {
    "name": "ipython",
    "version": 3
   },
   "file_extension": ".py",
   "mimetype": "text/x-python",
   "name": "python",
   "nbconvert_exporter": "python",
   "pygments_lexer": "ipython3",
   "version": "3.9.12"
  }
 },
 "nbformat": 4,
 "nbformat_minor": 5
}
