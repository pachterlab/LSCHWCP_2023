{
  "cells": [
    {
      "cell_type": "markdown",
      "metadata": {
        "id": "view-in-github",
        "colab_type": "text"
      },
      "source": [
        "<a href=\"https://colab.research.google.com/github/pachterlab/LSCHWCP_2023/blob/main/Notebooks/align_macaque_PBMC_data/1_align_to_host.ipynb\" target=\"_parent\"><img src=\"https://colab.research.google.com/assets/colab-badge.svg\" alt=\"Open In Colab\"/></a>"
      ]
    },
    {
      "cell_type": "markdown",
      "source": [
        "# Download raw data"
      ],
      "metadata": {
        "id": "hD54QPwCKVdt"
      },
      "id": "hD54QPwCKVdt"
    },
    {
      "cell_type": "code",
      "source": [
        "!pip install -q ffq\n",
        "import json"
      ],
      "metadata": {
        "id": "tTyXu6yvKYMn"
      },
      "id": "tTyXu6yvKYMn",
      "execution_count": null,
      "outputs": []
    },
    {
      "cell_type": "code",
      "source": [
        "# Use ffq to get all FTP download links\n",
        "out = \"GSE158390_data.json\"\n",
        "!ffq GSE158390 --ftp -o $out\n",
        "\n",
        "f = open(out)\n",
        "data = json.load(f)\n",
        "f.close()\n",
        "\n",
        "print(len(data))\n",
        "data[0]"
      ],
      "metadata": {
        "id": "zXUAPo5nKZrU"
      },
      "id": "zXUAPo5nKZrU",
      "execution_count": null,
      "outputs": []
    },
    {
      "cell_type": "code",
      "source": [
        "%%time\n",
        "# # Download the complete dataset (106 paired fastqs containing a total of 30 billion reads)\n",
        "# for dataset in data:\n",
        "#     url = dataset[\"url\"]\n",
        "#     !curl -O $url\n",
        "\n",
        "# Download only two datasets to demonstrate this notebook\n",
        "for dataset in data[:2]:\n",
        "    url = dataset[\"url\"]\n",
        "    !curl -O $url"
      ],
      "metadata": {
        "id": "_hZR1lRxKkCj"
      },
      "id": "_hZR1lRxKkCj",
      "execution_count": null,
      "outputs": []
    },
    {
      "cell_type": "markdown",
      "id": "e8ef6419-dd14-4729-9ea2-cb9fa4796794",
      "metadata": {
        "id": "e8ef6419-dd14-4729-9ea2-cb9fa4796794"
      },
      "source": [
        "# Align to the macaque and dog (to account for the MDCK spike-in) reference genomes"
      ]
    },
    {
      "cell_type": "code",
      "execution_count": null,
      "id": "560c5f4b-871c-420f-ae05-846ac2048104",
      "metadata": {
        "id": "560c5f4b-871c-420f-ae05-846ac2048104"
      },
      "outputs": [],
      "source": [
        "!pip install -q gget kb_python\n",
        "import os\n",
        "import glob\n",
        "# Number of threads used for the alignment\n",
        "threads = 8 # Set to 2 if not using a TPU runtime"
      ]
    },
    {
      "cell_type": "markdown",
      "source": [
        "Generate batch file so we can align all fastq files at once:"
      ],
      "metadata": {
        "id": "fw_nWuW4NOQG"
      },
      "id": "fw_nWuW4NOQG"
    },
    {
      "cell_type": "code",
      "execution_count": null,
      "id": "c7fa30fa-8b32-4ffc-a772-f2b7c3410921",
      "metadata": {
        "id": "c7fa30fa-8b32-4ffc-a772-f2b7c3410921"
      },
      "outputs": [],
      "source": [
        "fastqs = []\n",
        "for filename in glob.glob(\"*.fastq.gz\"):\n",
        "    fastqs.append(filename.split(\"/\")[-1])\n",
        "\n",
        "fastqs.sort()"
      ]
    },
    {
      "cell_type": "code",
      "execution_count": null,
      "id": "baa65c7c-248e-4aae-89a9-90cf2c6df1d2",
      "metadata": {
        "id": "baa65c7c-248e-4aae-89a9-90cf2c6df1d2"
      },
      "outputs": [],
      "source": [
        "len(fastqs)"
      ]
    },
    {
      "cell_type": "code",
      "source": [
        "samples = []\n",
        "for fastq in fastqs:\n",
        "    samples.append(fastq.split(\"_\")[0])\n",
        "\n",
        "samples = list(set(samples))\n",
        "len(samples)"
      ],
      "metadata": {
        "id": "4QsDTK1ANDcj"
      },
      "id": "4QsDTK1ANDcj",
      "execution_count": null,
      "outputs": []
    },
    {
      "cell_type": "code",
      "source": [
        "sample_batch_file = \"batch.txt\"\n",
        "with open(sample_batch_file, \"w\") as batch_file:\n",
        "    for sample in samples:\n",
        "        fastq1 = sample + \"_1.fastq.gz\"\n",
        "        fastq2 = sample + \"_2.fastq.gz\"\n",
        "        batch_file.write(sample + \"\\t\" + fastq1 + \"\\t\" + fastq2 + \"\\n\")"
      ],
      "metadata": {
        "id": "8Gaq3A3HNE6Q"
      },
      "id": "8Gaq3A3HNE6Q",
      "execution_count": null,
      "outputs": []
    },
    {
      "cell_type": "markdown",
      "id": "a8af1e70-b630-4b61-b967-4257d85a28da",
      "metadata": {
        "id": "a8af1e70-b630-4b61-b967-4257d85a28da"
      },
      "source": [
        "### Generate combined macaque / canine reference index"
      ]
    },
    {
      "cell_type": "code",
      "source": [
        "# Download macaque and dog reference genomes and gtf files\n",
        "!gget ref -w dna,gtf -r 110 -d macaca_mulatta\n",
        "!gget ref -w dna,gtf -r 110 -d canis_lupus_familiaris\n",
        "\n",
        "macaque_fasta = \"Macaca_mulatta.Mmul_10.dna.toplevel.fa.gz\"\n",
        "macaque_gtf = \"Macaca_mulatta.Mmul_10.110.gtf.gz\"\n",
        "canine_fasta = \"Canis_lupus_familiaris.ROS_Cfam_1.0.dna.toplevel.fa.gz\"\n",
        "canine_gtf = \"Canis_lupus_familiaris.ROS_Cfam_1.0.110.gtf.gz\""
      ],
      "metadata": {
        "id": "rwk8BtK0MWvf"
      },
      "id": "rwk8BtK0MWvf",
      "execution_count": null,
      "outputs": []
    },
    {
      "cell_type": "code",
      "execution_count": null,
      "id": "9dc5959a-5b9f-4c0e-a342-4b02533b2587",
      "metadata": {
        "id": "9dc5959a-5b9f-4c0e-a342-4b02533b2587"
      },
      "outputs": [],
      "source": [
        "index = \"host_index.idx\"\n",
        "t2g = \"host_t2g.txt\"\n",
        "fa = \"host_transcriptome.fa\"\n",
        "\n",
        "!kb ref \\\n",
        "    -t $threads \\\n",
        "    -i $index \\\n",
        "    -g $t2g \\\n",
        "    -f1 $fa \\\n",
        "    $canine_fasta,$macaque_fasta $canine_gtf,$macaque_gtf"
      ]
    },
    {
      "cell_type": "markdown",
      "id": "16b60cc4-c5a3-4e3e-b973-0e27ed7efb22",
      "metadata": {
        "id": "16b60cc4-c5a3-4e3e-b973-0e27ed7efb22"
      },
      "source": [
        "### Align to combined macaque and canine reference index"
      ]
    },
    {
      "cell_type": "code",
      "execution_count": null,
      "id": "f3666977-d63e-4337-b565-2d9d2345fd07",
      "metadata": {
        "id": "f3666977-d63e-4337-b565-2d9d2345fd07"
      },
      "outputs": [],
      "source": [
        "host_out_folder = \"host\""
      ]
    },
    {
      "cell_type": "code",
      "source": [
        "# Install kallisto from source\n",
        "!git clone -q https://github.com/pachterlab/kallisto.git\n",
        "!cd kallisto && mkdir build && cd build && cmake .. && make\n",
        "\n",
        "# Install bustools from source\n",
        "!git clone -q https://github.com/BUStools/bustools.git\n",
        "!cd bustools && mkdir build && cd build && cmake .. && make\n",
        "\n",
        "# Define paths to kallisto and bustools binaries\n",
        "kallisto = \"/content/kallisto/build/src/kallisto\"\n",
        "bustools = \"/content/bustools/build/src/bustools\""
      ],
      "metadata": {
        "id": "2IzLwkLKP13h"
      },
      "id": "2IzLwkLKP13h",
      "execution_count": null,
      "outputs": []
    },
    {
      "cell_type": "code",
      "execution_count": null,
      "id": "81222734-7557-4e0d-abec-4e403388065e",
      "metadata": {
        "id": "81222734-7557-4e0d-abec-4e403388065e"
      },
      "outputs": [],
      "source": [
        "%%time\n",
        "# Align\n",
        "!$kallisto bus \\\n",
        "      -i $index \\\n",
        "      -o $host_out_folder \\\n",
        "      -t $threads \\\n",
        "      -B $sample_batch_file \\\n",
        "      --batch-barcodes \\\n",
        "      -x 0,0,12:0,12,20:1,0,0"
      ]
    },
    {
      "cell_type": "code",
      "execution_count": null,
      "id": "d72e6b9d-5987-422e-9d3f-5400bbea88e4",
      "metadata": {
        "id": "d72e6b9d-5987-422e-9d3f-5400bbea88e4"
      },
      "outputs": [],
      "source": [
        "%%time\n",
        "# Sort bus file\n",
        "!$bustools sort \\\n",
        "    -m 4G \\\n",
        "    -t $threads \\\n",
        "    -o $host_out_folder/output_sorted.bus \\\n",
        "    $host_out_folder/output.bus"
      ]
    },
    {
      "cell_type": "code",
      "execution_count": null,
      "id": "6843eafe-426f-400f-a17e-408fdb8399df",
      "metadata": {
        "id": "6843eafe-426f-400f-a17e-408fdb8399df"
      },
      "outputs": [],
      "source": [
        "%%time\n",
        "# Generate a barcode onlist from data since SeqWell does not have an onlist\n",
        "# threshold: Minimum number of times a barcode must appear to be included in the onlist\n",
        "!$bustools allowlist \\\n",
        "    --threshold 1000 \\\n",
        "    -o $host_out_folder/bustools_onlist.txt \\\n",
        "    $host_out_folder/output_sorted.bus"
      ]
    },
    {
      "cell_type": "code",
      "execution_count": null,
      "id": "4749cde7-c136-4243-a1cd-d155dbd14df7",
      "metadata": {
        "id": "4749cde7-c136-4243-a1cd-d155dbd14df7"
      },
      "outputs": [],
      "source": [
        "%%time\n",
        "# Correct barcodes based on generated onlist\n",
        "!$bustools correct \\\n",
        "    -w $host_out_folder/bustools_onlist.txt \\\n",
        "    -o $host_out_folder/output_sorted_corrected.bus \\\n",
        "    $host_out_folder/output_sorted.bus"
      ]
    },
    {
      "cell_type": "code",
      "execution_count": null,
      "id": "11a795cb-75a5-43ae-b7a0-1b2cf02e3c00",
      "metadata": {
        "id": "11a795cb-75a5-43ae-b7a0-1b2cf02e3c00"
      },
      "outputs": [],
      "source": [
        "%%time\n",
        "# Sort corrected bus file\n",
        "!$bustools sort \\\n",
        "    -m 4G \\\n",
        "    -t $threads \\\n",
        "    -o $host_out_folder/output_sorted_corrected_sorted.bus \\\n",
        "    $host_out_folder/output_sorted_corrected.bus"
      ]
    },
    {
      "cell_type": "code",
      "execution_count": null,
      "id": "c9ffd455-005d-4ff4-9406-9c913652d6fe",
      "metadata": {
        "tags": [],
        "id": "c9ffd455-005d-4ff4-9406-9c913652d6fe"
      },
      "outputs": [],
      "source": [
        "%%time\n",
        "# Generate count matrix\n",
        "!$bustools count \\\n",
        "    --genecounts \\\n",
        "    -o $host_out_folder/bustools_count/ \\\n",
        "    -g $t2g \\\n",
        "    -e $host_out_folder/matrix.ec \\\n",
        "    -t $host_out_folder/transcripts.txt \\\n",
        "    $host_out_folder/output_sorted_corrected_sorted.bus"
      ]
    },
    {
      "cell_type": "code",
      "execution_count": null,
      "id": "e091564a-7b0e-4cce-80e0-b0ea4aeac218",
      "metadata": {
        "id": "e091564a-7b0e-4cce-80e0-b0ea4aeac218"
      },
      "outputs": [],
      "source": []
    }
  ],
  "metadata": {
    "kernelspec": {
      "display_name": "Python 3 (ipykernel)",
      "language": "python",
      "name": "python3"
    },
    "language_info": {
      "codemirror_mode": {
        "name": "ipython",
        "version": 3
      },
      "file_extension": ".py",
      "mimetype": "text/x-python",
      "name": "python",
      "nbconvert_exporter": "python",
      "pygments_lexer": "ipython3",
      "version": "3.9.12"
    },
    "colab": {
      "provenance": [],
      "include_colab_link": true
    }
  },
  "nbformat": 4,
  "nbformat_minor": 5
}