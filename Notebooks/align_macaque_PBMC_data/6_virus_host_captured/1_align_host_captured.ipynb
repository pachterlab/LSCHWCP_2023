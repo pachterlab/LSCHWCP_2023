{
  "cells": [
    {
      "cell_type": "markdown",
      "metadata": {
        "id": "view-in-github",
        "colab_type": "text"
      },
      "source": [
        "<a href=\"https://colab.research.google.com/github/pachterlab/LSCHWCP_2023/blob/main/Notebooks/align_macaque_PBMC_data/6_virus_host_captured/1_align_host_captured.ipynb\" target=\"_parent\"><img src=\"https://colab.research.google.com/assets/colab-badge.svg\" alt=\"Open In Colab\"/></a>"
      ]
    },
    {
      "cell_type": "markdown",
      "id": "90b54af5-7ced-4c88-9274-59cf3e2ec2d6",
      "metadata": {
        "id": "90b54af5-7ced-4c88-9274-59cf3e2ec2d6"
      },
      "source": [
        "# Capture host reads before aligning sequencing reads to PalmDB with kallisto translated search"
      ]
    },
    {
      "cell_type": "code",
      "source": [
        "# Install kallisto from source\n",
        "!git clone -q https://github.com/pachterlab/kallisto.git\n",
        "!cd kallisto && mkdir build && cd build && cmake .. && make\n",
        "\n",
        "# Install bustools from source\n",
        "!git clone -q https://github.com/BUStools/bustools.git\n",
        "!cd bustools && mkdir build && cd build && cmake .. && make\n",
        "\n",
        "# Define paths to kallisto and bustools binaries\n",
        "kallisto = \"/content/kallisto/build/src/kallisto\"\n",
        "bustools = \"/content/bustools/build/src/bustools\""
      ],
      "metadata": {
        "id": "p3Z88IOf0let"
      },
      "id": "p3Z88IOf0let",
      "execution_count": null,
      "outputs": []
    },
    {
      "cell_type": "code",
      "source": [
        "# Download the customized transcripts to gene mapping\n",
        "!wget https://raw.githubusercontent.com/pachterlab/LSCHWCP_2023/main/PalmDB/palmdb_clustered_t2g.txt\n",
        "# Download the RdRP amino acid sequences\n",
        "!wget https://raw.githubusercontent.com/pachterlab/LSCHWCP_2023/main/PalmDB/palmdb_rdrp_seqs.fa\n",
        "\n",
        "virus_fasta = \"palmdb_rdrp_seqs.fa\"\n",
        "virus_t2g = \"palmdb_clustered_t2g.txt\""
      ],
      "metadata": {
        "id": "Fyqt59o00vs4"
      },
      "id": "Fyqt59o00vs4",
      "execution_count": null,
      "outputs": []
    },
    {
      "cell_type": "code",
      "source": [
        "# Number of threads to use in alignment\n",
        "threads = 2"
      ],
      "metadata": {
        "id": "nIvpMI5R0w7Z"
      },
      "id": "nIvpMI5R0w7Z",
      "execution_count": null,
      "outputs": []
    },
    {
      "cell_type": "markdown",
      "source": [
        "### Download raw sequencing data"
      ],
      "metadata": {
        "id": "wsH4W1TE0x75"
      },
      "id": "wsH4W1TE0x75"
    },
    {
      "cell_type": "code",
      "source": [
        "!pip install -q ffq\n",
        "import json\n",
        "\n",
        "out = \"GSE158390_data.json\"\n",
        "\n",
        "# # Download the complete dataset (106 paired fastqs containing a total of 30 billion reads)\n",
        "# !ffq GSE158390 --ftp -o $out\n",
        "\n",
        "# Download only two fastq pairs to demonstrate this notebook\n",
        "!ffq SRR12698499 SRR12698500 --ftp -o $out\n",
        "\n",
        "f = open(out)\n",
        "data = json.load(f)\n",
        "f.close()\n",
        "\n",
        "print(len(data))\n",
        "\n",
        "for dataset in data:\n",
        "    url = dataset[\"url\"]\n",
        "    !curl -O $url"
      ],
      "metadata": {
        "id": "C0RWzRoG0yAe"
      },
      "id": "C0RWzRoG0yAe",
      "execution_count": null,
      "outputs": []
    },
    {
      "cell_type": "markdown",
      "source": [
        "Generate sample batch file to align all fastq files simultaneously:"
      ],
      "metadata": {
        "id": "oW_oUSPS05tS"
      },
      "id": "oW_oUSPS05tS"
    },
    {
      "cell_type": "code",
      "source": [
        "import glob\n",
        "\n",
        "fastqs = []\n",
        "for filename in glob.glob(\"*.fastq.gz\"):\n",
        "    fastqs.append(filename.split(\"/\")[-1])\n",
        "\n",
        "fastqs.sort()\n",
        "\n",
        "# Get sample names\n",
        "samples = []\n",
        "for fastq in fastqs:\n",
        "    samples.append(fastq.split(\"_\")[0])\n",
        "\n",
        "samples = list(set(samples))\n",
        "\n",
        "# Generate sample batch file\n",
        "sample_batch_file = \"batch.txt\"\n",
        "with open(sample_batch_file, \"w\") as batch_file:\n",
        "    for sample in samples:\n",
        "        fastq1 = sample + \"_1.fastq.gz\"\n",
        "        fastq2 = sample + \"_2.fastq.gz\"\n",
        "        batch_file.write(sample + \"\\t\" + fastq1 + \"\\t\" + fastq2 + \"\\n\")"
      ],
      "metadata": {
        "id": "ucbddebK06XL"
      },
      "id": "ucbddebK06XL",
      "execution_count": null,
      "outputs": []
    },
    {
      "cell_type": "markdown",
      "id": "cf2b64a4-c3eb-4fad-96f2-3fbb19223259",
      "metadata": {
        "id": "cf2b64a4-c3eb-4fad-96f2-3fbb19223259"
      },
      "source": [
        "### Align to host with `-n` flag to keep track of aligned reads:"
      ]
    },
    {
      "cell_type": "code",
      "execution_count": null,
      "id": "04cad68a-9bd4-43e0-91fd-fc03fdfdf793",
      "metadata": {
        "id": "04cad68a-9bd4-43e0-91fd-fc03fdfdf793"
      },
      "outputs": [],
      "source": [
        "# Download macaque and dog reference genomes and gtf files\n",
        "!pip install -q gget\n",
        "!gget ref -w dna,gtf -r 110 -d macaca_mulatta\n",
        "!gget ref -w dna,gtf -r 110 -d canis_lupus_familiaris\n",
        "\n",
        "macaque_fasta = \"Macaca_mulatta.Mmul_10.dna.toplevel.fa.gz\"\n",
        "macaque_gtf = \"Macaca_mulatta.Mmul_10.110.gtf.gz\"\n",
        "canine_fasta = \"Canis_lupus_familiaris.ROS_Cfam_1.0.dna.toplevel.fa.gz\"\n",
        "canine_gtf = \"Canis_lupus_familiaris.ROS_Cfam_1.0.110.gtf.gz\""
      ]
    },
    {
      "cell_type": "code",
      "execution_count": null,
      "id": "af8b6584-0670-44f5-9c4c-837b9788effc",
      "metadata": {
        "id": "af8b6584-0670-44f5-9c4c-837b9788effc"
      },
      "outputs": [],
      "source": [
        "index = \"host_index.idx\"\n",
        "t2g = \"host_t2g.txt\"\n",
        "fa = \"host_transcriptome.fa\"\n",
        "\n",
        "!kb ref \\\n",
        "    -t $threads \\\n",
        "    -i $index \\\n",
        "    -g $t2g \\\n",
        "    -f1 $fa \\\n",
        "    $canine_fasta,$macaque_fasta $canine_gtf,$macaque_gtf"
      ]
    },
    {
      "cell_type": "code",
      "execution_count": null,
      "id": "1c1fecb3-2d72-413b-a4a8-235e4e68603b",
      "metadata": {
        "id": "1c1fecb3-2d72-413b-a4a8-235e4e68603b"
      },
      "outputs": [],
      "source": [
        "host_out_folder = \"virus_host_capture_alignment_results/host\""
      ]
    },
    {
      "cell_type": "code",
      "execution_count": null,
      "id": "06933db7-6c08-4dc2-bb0c-1b89b5cb41f9",
      "metadata": {
        "id": "06933db7-6c08-4dc2-bb0c-1b89b5cb41f9"
      },
      "outputs": [],
      "source": [
        "%%time\n",
        "!$kallisto bus \\\n",
        "        -n \\\n",
        "        -i $index \\\n",
        "        -o $host_out_folder \\\n",
        "        -t $threads \\\n",
        "        -B $sample_batch_file \\\n",
        "        --batch-barcodes \\\n",
        "        -x 0,0,12:0,12,20:1,0,0"
      ]
    },
    {
      "cell_type": "markdown",
      "id": "aaccd3b0-7f3a-480f-bf6f-9b4d8d50c477",
      "metadata": {
        "id": "aaccd3b0-7f3a-480f-bf6f-9b4d8d50c477"
      },
      "source": [
        "### Align to optimized PalmDB with `-n` flag to keep track of aligned reads:"
      ]
    },
    {
      "cell_type": "code",
      "execution_count": null,
      "id": "98f3ee66-ae73-4e9e-b709-1cd4b22ebca7",
      "metadata": {
        "id": "98f3ee66-ae73-4e9e-b709-1cd4b22ebca7"
      },
      "outputs": [],
      "source": [
        "out_folder = \"virus_host_capture_alignment_results/virus\""
      ]
    },
    {
      "cell_type": "code",
      "execution_count": null,
      "id": "cdc61556-45ef-4918-a150-adc575de2666",
      "metadata": {
        "id": "cdc61556-45ef-4918-a150-adc575de2666"
      },
      "outputs": [],
      "source": [
        "# Generate virus reference index\n",
        "virus_index = \"virus_index.idx\"\n",
        "!$kallisto index \\\n",
        "    --aa \\\n",
        "    -t $threads \\\n",
        "    -i $virus_index \\\n",
        "    $virus_fasta"
      ]
    },
    {
      "cell_type": "code",
      "execution_count": null,
      "id": "22236da2-e0e6-44a6-aeb1-f0df0c029d17",
      "metadata": {
        "id": "22236da2-e0e6-44a6-aeb1-f0df0c029d17"
      },
      "outputs": [],
      "source": [
        "%%time\n",
        "!$kallisto bus \\\n",
        "      -n \\\n",
        "      --aa \\\n",
        "      -i $virus_index \\\n",
        "      -o $out_folder \\\n",
        "      -t $threads \\\n",
        "      -B $sample_batch_file \\\n",
        "      --batch-barcodes \\\n",
        "      -x 0,0,12:0,12,20:1,0,0"
      ]
    },
    {
      "cell_type": "markdown",
      "id": "e097f3f7-46f2-4de3-a0fc-22891539b6a4",
      "metadata": {
        "id": "e097f3f7-46f2-4de3-a0fc-22891539b6a4"
      },
      "source": [
        "### Split virus matrix into reads seen in host and those not seen in host\n",
        "This has to be done for each batch (SRR library) separately, since the read numbers reset for each batch:"
      ]
    },
    {
      "cell_type": "code",
      "execution_count": null,
      "id": "f9daa8a1-bf05-4232-b167-716f145594bf",
      "metadata": {
        "id": "f9daa8a1-bf05-4232-b167-716f145594bf"
      },
      "outputs": [],
      "source": [
        "from tqdm import tqdm"
      ]
    },
    {
      "cell_type": "code",
      "execution_count": null,
      "id": "4bc1c10e-0fb0-4459-8804-08cc4960dbf6",
      "metadata": {
        "id": "4bc1c10e-0fb0-4459-8804-08cc4960dbf6"
      },
      "outputs": [],
      "source": [
        "# Get list of sample barcodes\n",
        "sb_file = f\"{host_out_folder}/matrix.sample.barcodes\"\n",
        "\n",
        "with open(sb_file, \"r\") as sb:\n",
        "    sample_barcodes = sb.read().splitlines()\n",
        "\n",
        "sample_barcodes[:10]"
      ]
    },
    {
      "cell_type": "code",
      "execution_count": null,
      "id": "3250a162-e013-4a95-b612-4f9d9536c068",
      "metadata": {
        "id": "3250a162-e013-4a95-b612-4f9d9536c068"
      },
      "outputs": [],
      "source": [
        "%%time\n",
        "sample_barcodes_star = f\"{host_out_folder}/matrix.sample.barcodes.tmp\"\n",
        "\n",
        "TQDM_BAR_FORMAT = (\n",
        "    \"{l_bar}{bar}| {n_fmt}/{total_fmt} [elapsed: {elapsed} remaining: {remaining}]\"\n",
        ")\n",
        "\n",
        "with tqdm(total=len(sample_barcodes), bar_format=TQDM_BAR_FORMAT) as pbar:\n",
        "    for sb in sample_barcodes:\n",
        "        with open(sample_barcodes_star, \"w\") as sbs_file:\n",
        "            sbs_file.write(sb + \"*\")\n",
        "\n",
        "        print(f\"Capture reads for batch {sb} for virus and host alignments...\")\n",
        "        # Capture records for this batch from virus and host bus files\n",
        "        !$bustools capture \\\n",
        "            $out_folder/output.bus \\\n",
        "            --capture $sample_barcodes_star \\\n",
        "            --barcode \\\n",
        "            -o $out_folder/output_sample_tmp.bus\n",
        "\n",
        "        !$bustools capture \\\n",
        "            $host_out_folder/output.bus \\\n",
        "            --capture $sample_barcodes_star \\\n",
        "            --barcode \\\n",
        "            -o $host_out_folder/output_sample_tmp.bus\n",
        "\n",
        "        print(f\"Split viral alignments into host/masked for batch {sb}...\")\n",
        "        # Capture records from virus reads also mapped to host\n",
        "        bus_name = f\"output_{sb}_host.bus\"\n",
        "        !$bustools capture \\\n",
        "            $out_folder/output_sample_tmp.bus \\\n",
        "            --capture <($bustools text -pf $host_out_folder/output_sample_tmp.bus | cut -d$'\\t' -f5)  \\\n",
        "            --flags \\\n",
        "            -o $out_folder/$bus_name\n",
        "\n",
        "        # Capture records from virus reads that did not map to host\n",
        "        bus_name = f\"output_{sb}_virus.bus\"\n",
        "        !$bustools capture \\\n",
        "            $out_folder/output_sample_tmp.bus \\\n",
        "            --capture <($bustools text -pf $host_out_folder/output_sample_tmp.bus | cut -d$'\\t' -f5)  \\\n",
        "            --complement \\\n",
        "            --flags \\\n",
        "            -o $out_folder/$bus_name\n",
        "\n",
        "        pbar.update(n=1)"
      ]
    },
    {
      "cell_type": "markdown",
      "id": "bc5fa23b-1051-46c3-9ae5-fff4e6e2536b",
      "metadata": {
        "id": "bc5fa23b-1051-46c3-9ae5-fff4e6e2536b"
      },
      "source": [
        "### Clean up cell barcodes using host cell whitelist generated by bustools"
      ]
    },
    {
      "cell_type": "code",
      "execution_count": null,
      "id": "d4bf2028-216c-4c08-a624-0ee612039800",
      "metadata": {
        "id": "d4bf2028-216c-4c08-a624-0ee612039800"
      },
      "outputs": [],
      "source": [
        "# Download cell barcode onlist generated during alignment to host\n",
        "!wget https://raw.githubusercontent.com/pachterlab/LSCHWCP_2023/main/Notebooks/align_macaque_PBMC_data/bustools_onlist.txt"
      ]
    },
    {
      "cell_type": "code",
      "execution_count": null,
      "id": "93fc9250-6e16-45f3-b073-939f45678c78",
      "metadata": {
        "id": "93fc9250-6e16-45f3-b073-939f45678c78"
      },
      "outputs": [],
      "source": [
        "import os"
      ]
    },
    {
      "cell_type": "code",
      "execution_count": null,
      "id": "e79fe1a6-d4ff-4fe3-8756-6eabf5d3a134",
      "metadata": {
        "id": "e79fe1a6-d4ff-4fe3-8756-6eabf5d3a134"
      },
      "outputs": [],
      "source": [
        "%%time\n",
        "with tqdm(total=len(sample_barcodes), bar_format=TQDM_BAR_FORMAT) as pbar:\n",
        "    for sb in sample_barcodes:\n",
        "        for ent in [\"host\", \"virus\"]:\n",
        "            bus_name = f\"output_{sb}_{ent}.bus\"\n",
        "\n",
        "            # Correct barcodes (no need to sort first)\n",
        "            # This needs to be done before removing the flag column since adding the sample barcodes to the cell barcodes will confuse bustools correct\n",
        "            !$bustools correct \\\n",
        "                -w bustools_onlist.txt \\\n",
        "                -o $out_folder/output_temp1.bus \\\n",
        "                $out_folder/$bus_name\n",
        "\n",
        "            # Remove flag column so bustools count does not get confused\n",
        "            # -a retains the sample barcodes and adds them to the normal cell barcodes\n",
        "            !$bustools text \\\n",
        "                -apf $out_folder/output_temp1.bus | cut -d$'\\t' -f1,2,3,4 \\\n",
        "                | $bustools fromtext -o $out_folder/output_temp2.bus -\n",
        "\n",
        "            # Sort and count\n",
        "            !$bustools sort \\\n",
        "                -m 4G \\\n",
        "                -t $threads \\\n",
        "                -o $out_folder/output_temp3.bus \\\n",
        "                $out_folder/output_temp2.bus\n",
        "\n",
        "            os.makedirs(f\"{out_folder}/{sb}/{ent}\", exist_ok=True)\n",
        "            !$bustools count \\\n",
        "                --genecounts \\\n",
        "                -o $out_folder/$sb/$ent/bustools_count/ \\\n",
        "                -g $virus_t2g \\\n",
        "                -e $out_folder/matrix.ec \\\n",
        "                -t $out_folder/transcripts.txt \\\n",
        "                $out_folder/output_temp3.bus\n",
        "\n",
        "        pbar.update(n=1)"
      ]
    },
    {
      "cell_type": "code",
      "execution_count": null,
      "id": "037dd530-998c-4ef1-9206-88000e94c44d",
      "metadata": {
        "id": "037dd530-998c-4ef1-9206-88000e94c44d"
      },
      "outputs": [],
      "source": []
    }
  ],
  "metadata": {
    "kernelspec": {
      "display_name": "Python 3 (ipykernel)",
      "language": "python",
      "name": "python3"
    },
    "language_info": {
      "codemirror_mode": {
        "name": "ipython",
        "version": 3
      },
      "file_extension": ".py",
      "mimetype": "text/x-python",
      "name": "python",
      "nbconvert_exporter": "python",
      "pygments_lexer": "ipython3",
      "version": "3.9.12"
    },
    "colab": {
      "provenance": [],
      "include_colab_link": true
    }
  },
  "nbformat": 4,
  "nbformat_minor": 5
}