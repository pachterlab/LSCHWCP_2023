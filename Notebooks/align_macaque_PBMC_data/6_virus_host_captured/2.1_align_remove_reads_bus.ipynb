{
 "cells": [
  {
   "cell_type": "markdown",
   "id": "90b54af5-7ced-4c88-9274-59cf3e2ec2d6",
   "metadata": {},
   "source": [
    "# Remove host reads from virus bus file using flag"
   ]
  },
  {
   "cell_type": "markdown",
   "id": "cf2b64a4-c3eb-4fad-96f2-3fbb19223259",
   "metadata": {},
   "source": [
    "Align to host with -n column in bus file:"
   ]
  },
  {
   "cell_type": "code",
   "execution_count": 1,
   "id": "04cad68a-9bd4-43e0-91fd-fc03fdfdf793",
   "metadata": {},
   "outputs": [],
   "source": [
    "import glob"
   ]
  },
  {
   "cell_type": "code",
   "execution_count": 2,
   "id": "af8b6584-0670-44f5-9c4c-837b9788effc",
   "metadata": {},
   "outputs": [],
   "source": [
    "bp = \"PRJNA665227\"\n",
    "fastq_folder = f\"/home/laura/projects/virus-watch-data/{bp}/raw\"\n",
    "# sample_batch_file = f\"{fastq_folder}/batch.txt\""
   ]
  },
  {
   "cell_type": "code",
   "execution_count": 3,
   "id": "d8f3b362-4b24-4609-996c-f28d27afac6e",
   "metadata": {},
   "outputs": [],
   "source": [
    "# host_fasta = \"/home/laura/projects/virus-watch-data/rhesus_ref/Macaca_mulatta.Mmul_10.dna.toplevel.fa.gz\"\n",
    "# host_gtf = \"/home/laura/projects/virus-watch-data/rhesus_ref/Macaca_mulatta.Mmul_10.109.gtf.gz\"\n",
    "\n",
    "# canine_fasta = \"/home/laura/projects/virus-watch-data/canine_ref/Canis_lupus_familiaris.ROS_Cfam_1.0.dna.toplevel.fa.gz\"\n",
    "# canine_gtf = \"/home/laura/projects/virus-watch-data/canine_ref/Canis_lupus_familiaris.ROS_Cfam_1.0.109.gtf.gz\"\n",
    "\n",
    "# canine_macaque_fasta = \"/home/laura/projects/virus-watch-data/canine_macaque_ref/combined_genomes.dna.toplevel.fa.gz\"\n",
    "\n",
    "index = \"/home/laura/projects/virus-watch-data/canine_macaque_ref/index.idx\"\n",
    "t2g = \"/home/laura/projects/virus-watch-data/canine_macaque_ref/t2g.txt\"\n",
    "fa = \"/home/laura/projects/virus-watch-data/canine_macaque_ref/transcriptome.fa\"\n",
    "\n",
    "kallisto = \"/home/laura/temp/kallisto/build/src/kallisto\"\n",
    "bustools = \"/home/laura/projects/bustools/build/src/bustools\""
   ]
  },
  {
   "cell_type": "code",
   "execution_count": 4,
   "id": "1c1fecb3-2d72-413b-a4a8-235e4e68603b",
   "metadata": {},
   "outputs": [],
   "source": [
    "host_out_folder = f\"{fastq_folder}/../host_flag/host\""
   ]
  },
  {
   "cell_type": "code",
   "execution_count": null,
   "id": "06933db7-6c08-4dc2-bb0c-1b89b5cb41f9",
   "metadata": {},
   "outputs": [],
   "source": [
    "%%time\n",
    "!/usr/bin/time -v $kallisto bus \\\n",
    "        -n \\\n",
    "        -i $index \\\n",
    "        -o $host_out_folder \\\n",
    "        -t 40 \\\n",
    "        -B $sample_batch_file \\\n",
    "        --batch-barcodes \\\n",
    "        -x 0,0,12:0,12,20:1,0,0"
   ]
  },
  {
   "cell_type": "markdown",
   "id": "aaccd3b0-7f3a-480f-bf6f-9b4d8d50c477",
   "metadata": {},
   "source": [
    "Align to virus with -n column in bus file (without masking):"
   ]
  },
  {
   "cell_type": "code",
   "execution_count": 5,
   "id": "98f3ee66-ae73-4e9e-b709-1cd4b22ebca7",
   "metadata": {},
   "outputs": [],
   "source": [
    "out_folder = f\"{fastq_folder}/../host_flag/virus\""
   ]
  },
  {
   "cell_type": "code",
   "execution_count": 6,
   "id": "cdc61556-45ef-4918-a150-adc575de2666",
   "metadata": {},
   "outputs": [],
   "source": [
    "virus_fasta = \"/home/laura/projects/virus-watch-data/virus_ref/uniques_noduplicates.fa\"\n",
    "virus_index = \"/home/laura/projects/virus-watch-data/virus_ref/kallisto_aa/noduplicates_no-host-mask.idx\"\n",
    "virus_t2g = \"/home/laura/projects/virus-watch-data/virus_ref/nodup_clu_t2g.txt\""
   ]
  },
  {
   "cell_type": "code",
   "execution_count": null,
   "id": "22236da2-e0e6-44a6-aeb1-f0df0c029d17",
   "metadata": {},
   "outputs": [],
   "source": [
    "%%time\n",
    "!/usr/bin/time -v $kallisto bus \\\n",
    "        -n \\\n",
    "        -i $virus_index \\\n",
    "        -o $out_folder \\\n",
    "        --aa \\\n",
    "        -t 40 \\\n",
    "        -B $sample_batch_file \\\n",
    "        --batch-barcodes \\\n",
    "        -x 0,0,12:0,12,20:1,0,0"
   ]
  },
  {
   "cell_type": "markdown",
   "id": "e097f3f7-46f2-4de3-a0fc-22891539b6a4",
   "metadata": {},
   "source": [
    "### Split virus matrix into reads seen in host and those not seen in host\n",
    "This has to be done for each batch (SRR library) separately, since the read numbers reset for each batch:"
   ]
  },
  {
   "cell_type": "code",
   "execution_count": 17,
   "id": "f9daa8a1-bf05-4232-b167-716f145594bf",
   "metadata": {},
   "outputs": [],
   "source": [
    "from tqdm import tqdm"
   ]
  },
  {
   "cell_type": "code",
   "execution_count": 9,
   "id": "4bc1c10e-0fb0-4459-8804-08cc4960dbf6",
   "metadata": {},
   "outputs": [
    {
     "data": {
      "text/plain": [
       "['AAAAAAAAAAAAAAAA',\n",
       " 'AAAAAAAAAAAAAAAC',\n",
       " 'AAAAAAAAAAAAAAAG',\n",
       " 'AAAAAAAAAAAAAAAT',\n",
       " 'AAAAAAAAAAAAAACA',\n",
       " 'AAAAAAAAAAAAAACC',\n",
       " 'AAAAAAAAAAAAAACG',\n",
       " 'AAAAAAAAAAAAAACT',\n",
       " 'AAAAAAAAAAAAAAGA',\n",
       " 'AAAAAAAAAAAAAAGC']"
      ]
     },
     "execution_count": 9,
     "metadata": {},
     "output_type": "execute_result"
    }
   ],
   "source": [
    "# Get list of sample barcodes\n",
    "sb_file = f\"{host_out_folder}/matrix.sample.barcodes\"\n",
    "\n",
    "with open(sb_file, \"r\") as sb:\n",
    "    sample_barcodes = sb.read().splitlines()\n",
    "    \n",
    "sample_barcodes[:10]"
   ]
  },
  {
   "cell_type": "code",
   "execution_count": 18,
   "id": "3250a162-e013-4a95-b612-4f9d9536c068",
   "metadata": {},
   "outputs": [
    {
     "name": "stderr",
     "output_type": "stream",
     "text": [
      "  0%|                                                                                                                           | 0/106 [elapsed: 00:00 remaining: ?]"
     ]
    },
    {
     "name": "stdout",
     "output_type": "stream",
     "text": [
      "Capture reads for batch AAAAAAAAAAAAAAAA for virus and host alignments...\n",
      "Read in 271350844 BUS records, wrote 2453071 BUS records\n",
      "Read in 8828381950 BUS records, wrote 90771029 BUS records\n",
      "Split viral alignments into host/masked for batch AAAAAAAAAAAAAAAA...\n",
      "Read in 90771029 BUS records\n",
      "Read in 2453071 BUS records, wrote 44924 BUS records\n",
      "Read in 90771029 BUS records\n",
      "Read in 2453071 BUS records, wrote 2408147 BUS records\n"
     ]
    },
    {
     "name": "stderr",
     "output_type": "stream",
     "text": [
      "  1%|█                                                                                                                   | 1/106 [elapsed: 07:20 remaining: 12:50:24]"
     ]
    },
    {
     "name": "stdout",
     "output_type": "stream",
     "text": [
      "Capture reads for batch AAAAAAAAAAAAAAAC for virus and host alignments...\n",
      "Read in 271350844 BUS records, wrote 666473 BUS records\n",
      "Read in 8828381950 BUS records, wrote 68474890 BUS records\n",
      "Split viral alignments into host/masked for batch AAAAAAAAAAAAAAAC...\n",
      "Read in 68474890 BUS records\n",
      "Read in 666473 BUS records, wrote 18498 BUS records\n",
      "Read in 68474890 BUS records\n",
      "Read in 666473 BUS records, wrote 647975 BUS records\n"
     ]
    },
    {
     "name": "stderr",
     "output_type": "stream",
     "text": [
      "  2%|██▏                                                                                                                 | 2/106 [elapsed: 13:58 remaining: 11:59:48]"
     ]
    },
    {
     "name": "stdout",
     "output_type": "stream",
     "text": [
      "Capture reads for batch AAAAAAAAAAAAAAAG for virus and host alignments...\n",
      "Read in 271350844 BUS records, wrote 2751082 BUS records\n",
      "Read in 8828381950 BUS records, wrote 35613726 BUS records\n",
      "Split viral alignments into host/masked for batch AAAAAAAAAAAAAAAG...\n",
      "Read in 35613726 BUS records\n",
      "Read in 2751082 BUS records, wrote 17195 BUS records\n",
      "Read in 35613726 BUS records\n",
      "Read in 2751082 BUS records, wrote 2733887 BUS records\n"
     ]
    },
    {
     "name": "stderr",
     "output_type": "stream",
     "text": [
      "  3%|███▎                                                                                                                | 3/106 [elapsed: 19:36 remaining: 10:52:22]"
     ]
    },
    {
     "name": "stdout",
     "output_type": "stream",
     "text": [
      "Capture reads for batch AAAAAAAAAAAAAAAT for virus and host alignments...\n",
      "Read in 271350844 BUS records, wrote 1820411 BUS records\n",
      "Read in 8828381950 BUS records, wrote 65468031 BUS records\n",
      "Split viral alignments into host/masked for batch AAAAAAAAAAAAAAAT...\n",
      "Read in 65468031 BUS records\n",
      "Read in 1820411 BUS records, wrote 49469 BUS records\n",
      "Read in 65468031 BUS records\n",
      "Read in 1820411 BUS records, wrote 1770942 BUS records\n"
     ]
    },
    {
     "name": "stderr",
     "output_type": "stream",
     "text": [
      "  4%|████▍                                                                                                               | 4/106 [elapsed: 25:56 remaining: 10:46:18]"
     ]
    },
    {
     "name": "stdout",
     "output_type": "stream",
     "text": [
      "Capture reads for batch AAAAAAAAAAAAAACA for virus and host alignments...\n",
      "Read in 271350844 BUS records, wrote 4608946 BUS records\n",
      "Read in 8828381950 BUS records, wrote 49239394 BUS records\n",
      "Split viral alignments into host/masked for batch AAAAAAAAAAAAAACA...\n",
      "Read in 49239394 BUS records\n",
      "Read in 4608946 BUS records, wrote 56402 BUS records\n",
      "Read in 49239394 BUS records\n",
      "Read in 4608946 BUS records, wrote 4552544 BUS records\n"
     ]
    },
    {
     "name": "stderr",
     "output_type": "stream",
     "text": [
      "  5%|█████▍                                                                                                              | 5/106 [elapsed: 32:03 remaining: 10:32:08]"
     ]
    },
    {
     "name": "stdout",
     "output_type": "stream",
     "text": [
      "Capture reads for batch AAAAAAAAAAAAAACC for virus and host alignments...\n",
      "Read in 271350844 BUS records, wrote 784498 BUS records\n",
      "Read in 8828381950 BUS records, wrote 33011073 BUS records\n",
      "Split viral alignments into host/masked for batch AAAAAAAAAAAAAACC...\n",
      "Read in 33011073 BUS records\n",
      "Read in 784498 BUS records, wrote 22444 BUS records\n",
      "Read in 33011073 BUS records\n",
      "Read in 784498 BUS records, wrote 762054 BUS records\n"
     ]
    },
    {
     "name": "stderr",
     "output_type": "stream",
     "text": [
      "  6%|██████▌                                                                                                             | 6/106 [elapsed: 37:45 remaining: 10:06:51]"
     ]
    },
    {
     "name": "stdout",
     "output_type": "stream",
     "text": [
      "Capture reads for batch AAAAAAAAAAAAAACG for virus and host alignments...\n",
      "Read in 271350844 BUS records, wrote 902723 BUS records\n",
      "Read in 8828381950 BUS records, wrote 28976665 BUS records\n",
      "Split viral alignments into host/masked for batch AAAAAAAAAAAAAACG...\n",
      "Read in 28976665 BUS records\n",
      "Read in 902723 BUS records, wrote 23833 BUS records\n",
      "Read in 28976665 BUS records\n",
      "Read in 902723 BUS records, wrote 878890 BUS records\n"
     ]
    },
    {
     "name": "stderr",
     "output_type": "stream",
     "text": [
      "  7%|███████▋                                                                                                             | 7/106 [elapsed: 43:30 remaining: 9:50:22]"
     ]
    },
    {
     "name": "stdout",
     "output_type": "stream",
     "text": [
      "Capture reads for batch AAAAAAAAAAAAAACT for virus and host alignments...\n",
      "Read in 271350844 BUS records, wrote 2973181 BUS records\n",
      "Read in 8828381950 BUS records, wrote 119855175 BUS records\n",
      "Split viral alignments into host/masked for batch AAAAAAAAAAAAAACT...\n",
      "Read in 119855175 BUS records\n",
      "Read in 2973181 BUS records, wrote 64918 BUS records\n",
      "Read in 119855175 BUS records\n",
      "Read in 2973181 BUS records, wrote 2908263 BUS records\n"
     ]
    },
    {
     "name": "stderr",
     "output_type": "stream",
     "text": [
      "  8%|████████▊                                                                                                           | 8/106 [elapsed: 50:42 remaining: 10:22:43]"
     ]
    },
    {
     "name": "stdout",
     "output_type": "stream",
     "text": [
      "Capture reads for batch AAAAAAAAAAAAAAGA for virus and host alignments...\n",
      "Read in 271350844 BUS records, wrote 586342 BUS records\n",
      "Read in 8828381950 BUS records, wrote 196808014 BUS records\n",
      "Split viral alignments into host/masked for batch AAAAAAAAAAAAAAGA...\n",
      "Read in 196808014 BUS records\n",
      "Read in 586342 BUS records, wrote 83284 BUS records\n",
      "Read in 196808014 BUS records\n",
      "Read in 586342 BUS records, wrote 503058 BUS records\n"
     ]
    },
    {
     "name": "stderr",
     "output_type": "stream",
     "text": [
      "  8%|█████████▋                                                                                                        | 9/106 [elapsed: 1:01:45 remaining: 12:38:54]"
     ]
    },
    {
     "name": "stdout",
     "output_type": "stream",
     "text": [
      "Capture reads for batch AAAAAAAAAAAAAAGC for virus and host alignments...\n",
      "Read in 271350844 BUS records, wrote 988346 BUS records\n",
      "Read in 8828381950 BUS records, wrote 38797053 BUS records\n",
      "Split viral alignments into host/masked for batch AAAAAAAAAAAAAAGC...\n",
      "Read in 38797053 BUS records\n",
      "Read in 988346 BUS records, wrote 30479 BUS records\n",
      "Read in 38797053 BUS records\n",
      "Read in 988346 BUS records, wrote 957867 BUS records\n"
     ]
    },
    {
     "name": "stderr",
     "output_type": "stream",
     "text": [
      "  9%|██████████▋                                                                                                      | 10/106 [elapsed: 1:08:32 remaining: 12:00:33]"
     ]
    },
    {
     "name": "stdout",
     "output_type": "stream",
     "text": [
      "Capture reads for batch AAAAAAAAAAAAAAGG for virus and host alignments...\n",
      "Read in 271350844 BUS records, wrote 650950 BUS records\n",
      "Read in 8828381950 BUS records, wrote 53728343 BUS records\n",
      "Split viral alignments into host/masked for batch AAAAAAAAAAAAAAGG...\n",
      "Read in 53728343 BUS records\n",
      "Read in 650950 BUS records, wrote 26508 BUS records\n",
      "Read in 53728343 BUS records\n",
      "Read in 650950 BUS records, wrote 624442 BUS records\n"
     ]
    },
    {
     "name": "stderr",
     "output_type": "stream",
     "text": [
      " 10%|███████████▋                                                                                                     | 11/106 [elapsed: 1:15:46 remaining: 11:44:52]"
     ]
    },
    {
     "name": "stdout",
     "output_type": "stream",
     "text": [
      "Capture reads for batch AAAAAAAAAAAAAAGT for virus and host alignments...\n",
      "Read in 271350844 BUS records, wrote 2047569 BUS records\n",
      "Read in 8828381950 BUS records, wrote 140126786 BUS records\n",
      "Split viral alignments into host/masked for batch AAAAAAAAAAAAAAGT...\n",
      "Read in 140126786 BUS records\n",
      "Read in 2047569 BUS records, wrote 57918 BUS records\n",
      "Read in 140126786 BUS records\n",
      "Read in 2047569 BUS records, wrote 1989651 BUS records\n"
     ]
    },
    {
     "name": "stderr",
     "output_type": "stream",
     "text": [
      " 11%|████████████▊                                                                                                    | 12/106 [elapsed: 1:25:23 remaining: 12:40:19]"
     ]
    },
    {
     "name": "stdout",
     "output_type": "stream",
     "text": [
      "Capture reads for batch AAAAAAAAAAAAAATA for virus and host alignments...\n",
      "Read in 271350844 BUS records, wrote 6601156 BUS records\n",
      "Read in 8828381950 BUS records, wrote 163926393 BUS records\n",
      "Split viral alignments into host/masked for batch AAAAAAAAAAAAAATA...\n",
      "Read in 163926393 BUS records\n",
      "Read in 6601156 BUS records, wrote 85814 BUS records\n",
      "Read in 163926393 BUS records\n",
      "Read in 6601156 BUS records, wrote 6515342 BUS records\n"
     ]
    },
    {
     "name": "stderr",
     "output_type": "stream",
     "text": [
      " 12%|█████████████▊                                                                                                   | 13/106 [elapsed: 1:35:42 remaining: 13:35:10]"
     ]
    },
    {
     "name": "stdout",
     "output_type": "stream",
     "text": [
      "Capture reads for batch AAAAAAAAAAAAAATC for virus and host alignments...\n",
      "Read in 271350844 BUS records, wrote 1321470 BUS records\n",
      "Read in 8828381950 BUS records, wrote 23861384 BUS records\n",
      "Split viral alignments into host/masked for batch AAAAAAAAAAAAAATC...\n",
      "Read in 23861384 BUS records\n",
      "Read in 1321470 BUS records, wrote 7413 BUS records\n",
      "Read in 23861384 BUS records\n",
      "Read in 1321470 BUS records, wrote 1314057 BUS records\n"
     ]
    },
    {
     "name": "stderr",
     "output_type": "stream",
     "text": [
      " 13%|██████████████▉                                                                                                  | 14/106 [elapsed: 1:41:59 remaining: 12:17:23]"
     ]
    },
    {
     "name": "stdout",
     "output_type": "stream",
     "text": [
      "Capture reads for batch AAAAAAAAAAAAAATG for virus and host alignments...\n",
      "Read in 271350844 BUS records, wrote 1283453 BUS records\n",
      "Read in 8828381950 BUS records, wrote 33675428 BUS records\n",
      "Split viral alignments into host/masked for batch AAAAAAAAAAAAAATG...\n",
      "Read in 33675428 BUS records\n",
      "Read in 1283453 BUS records, wrote 30107 BUS records\n",
      "Read in 33675428 BUS records\n",
      "Read in 1283453 BUS records, wrote 1253346 BUS records\n"
     ]
    },
    {
     "name": "stderr",
     "output_type": "stream",
     "text": [
      " 14%|███████████████▉                                                                                                 | 15/106 [elapsed: 1:48:32 remaining: 11:28:55]"
     ]
    },
    {
     "name": "stdout",
     "output_type": "stream",
     "text": [
      "Capture reads for batch AAAAAAAAAAAAAATT for virus and host alignments...\n",
      "Read in 271350844 BUS records, wrote 3094947 BUS records\n",
      "Read in 8828381950 BUS records, wrote 120090474 BUS records\n",
      "Split viral alignments into host/masked for batch AAAAAAAAAAAAAATT...\n",
      "Read in 120090474 BUS records\n",
      "Read in 3094947 BUS records, wrote 86550 BUS records\n",
      "Read in 120090474 BUS records\n",
      "Read in 3094947 BUS records, wrote 3008397 BUS records\n"
     ]
    },
    {
     "name": "stderr",
     "output_type": "stream",
     "text": [
      " 15%|█████████████████                                                                                                | 16/106 [elapsed: 1:57:39 remaining: 12:03:25]"
     ]
    },
    {
     "name": "stdout",
     "output_type": "stream",
     "text": [
      "Capture reads for batch AAAAAAAAAAAAACAA for virus and host alignments...\n",
      "Read in 271350844 BUS records, wrote 561038 BUS records\n",
      "Read in 8828381950 BUS records, wrote 37352445 BUS records\n",
      "Split viral alignments into host/masked for batch AAAAAAAAAAAAACAA...\n",
      "Read in 37352445 BUS records\n",
      "Read in 561038 BUS records, wrote 10802 BUS records\n",
      "Read in 37352445 BUS records\n",
      "Read in 561038 BUS records, wrote 550236 BUS records\n"
     ]
    },
    {
     "name": "stderr",
     "output_type": "stream",
     "text": [
      " 16%|██████████████████                                                                                               | 17/106 [elapsed: 2:04:41 remaining: 11:28:30]"
     ]
    },
    {
     "name": "stdout",
     "output_type": "stream",
     "text": [
      "Capture reads for batch AAAAAAAAAAAAACAC for virus and host alignments...\n",
      "Read in 271350844 BUS records, wrote 1055313 BUS records\n",
      "Read in 8828381950 BUS records, wrote 31806892 BUS records\n",
      "Split viral alignments into host/masked for batch AAAAAAAAAAAAACAC...\n",
      "Read in 31806892 BUS records\n",
      "Read in 1055313 BUS records, wrote 6443 BUS records\n",
      "Read in 31806892 BUS records\n",
      "Read in 1055313 BUS records, wrote 1048870 BUS records\n"
     ]
    },
    {
     "name": "stderr",
     "output_type": "stream",
     "text": [
      " 17%|███████████████████▏                                                                                             | 18/106 [elapsed: 2:11:29 remaining: 10:56:03]"
     ]
    },
    {
     "name": "stdout",
     "output_type": "stream",
     "text": [
      "Capture reads for batch AAAAAAAAAAAAACAG for virus and host alignments...\n",
      "Read in 271350844 BUS records, wrote 621288 BUS records\n",
      "Read in 8828381950 BUS records, wrote 52562892 BUS records\n",
      "Split viral alignments into host/masked for batch AAAAAAAAAAAAACAG...\n",
      "Read in 52562892 BUS records\n",
      "Read in 621288 BUS records, wrote 23694 BUS records\n",
      "Read in 52562892 BUS records\n",
      "Read in 621288 BUS records, wrote 597594 BUS records\n"
     ]
    },
    {
     "name": "stderr",
     "output_type": "stream",
     "text": [
      " 18%|████████████████████▎                                                                                            | 19/106 [elapsed: 2:18:16 remaining: 10:30:47]"
     ]
    },
    {
     "name": "stdout",
     "output_type": "stream",
     "text": [
      "Capture reads for batch AAAAAAAAAAAAACAT for virus and host alignments...\n",
      "Read in 271350844 BUS records, wrote 1674707 BUS records\n",
      "Read in 8828381950 BUS records, wrote 150335471 BUS records\n",
      "Split viral alignments into host/masked for batch AAAAAAAAAAAAACAT...\n",
      "Read in 150335471 BUS records\n",
      "Read in 1674707 BUS records, wrote 60229 BUS records\n",
      "Read in 150335471 BUS records\n",
      "Read in 1674707 BUS records, wrote 1614478 BUS records\n"
     ]
    },
    {
     "name": "stderr",
     "output_type": "stream",
     "text": [
      " 19%|█████████████████████▎                                                                                           | 20/106 [elapsed: 2:27:59 remaining: 11:27:20]"
     ]
    },
    {
     "name": "stdout",
     "output_type": "stream",
     "text": [
      "Capture reads for batch AAAAAAAAAAAAACCA for virus and host alignments...\n",
      "Read in 271350844 BUS records, wrote 3811539 BUS records\n",
      "Read in 8828381950 BUS records, wrote 112459582 BUS records\n",
      "Split viral alignments into host/masked for batch AAAAAAAAAAAAACCA...\n",
      "Read in 112459582 BUS records\n",
      "Read in 3811539 BUS records, wrote 53266 BUS records\n",
      "Read in 112459582 BUS records\n",
      "Read in 3811539 BUS records, wrote 3758273 BUS records\n"
     ]
    },
    {
     "name": "stderr",
     "output_type": "stream",
     "text": [
      " 20%|██████████████████████▍                                                                                          | 21/106 [elapsed: 2:36:46 remaining: 11:39:45]"
     ]
    },
    {
     "name": "stdout",
     "output_type": "stream",
     "text": [
      "Capture reads for batch AAAAAAAAAAAAACCC for virus and host alignments...\n",
      "Read in 271350844 BUS records, wrote 6852991 BUS records\n",
      "Read in 8828381950 BUS records, wrote 273658017 BUS records\n",
      "Split viral alignments into host/masked for batch AAAAAAAAAAAAACCC...\n",
      "Read in 273658017 BUS records\n",
      "Read in 6852991 BUS records, wrote 109640 BUS records\n",
      "Read in 273658017 BUS records\n",
      "Read in 6852991 BUS records, wrote 6743351 BUS records\n"
     ]
    },
    {
     "name": "stderr",
     "output_type": "stream",
     "text": [
      " 21%|███████████████████████▍                                                                                         | 22/106 [elapsed: 2:50:49 remaining: 13:57:58]"
     ]
    },
    {
     "name": "stdout",
     "output_type": "stream",
     "text": [
      "Capture reads for batch AAAAAAAAAAAAACCG for virus and host alignments...\n",
      "Read in 271350844 BUS records, wrote 3933426 BUS records\n",
      "Read in 8828381950 BUS records, wrote 131430849 BUS records\n",
      "Split viral alignments into host/masked for batch AAAAAAAAAAAAACCG...\n",
      "Read in 131430849 BUS records\n",
      "Read in 3933426 BUS records, wrote 86186 BUS records\n",
      "Read in 131430849 BUS records\n",
      "Read in 3933426 BUS records, wrote 3847240 BUS records\n"
     ]
    },
    {
     "name": "stderr",
     "output_type": "stream",
     "text": [
      " 22%|████████████████████████▌                                                                                        | 23/106 [elapsed: 3:00:17 remaining: 13:35:11]"
     ]
    },
    {
     "name": "stdout",
     "output_type": "stream",
     "text": [
      "Capture reads for batch AAAAAAAAAAAAACCT for virus and host alignments...\n",
      "Read in 271350844 BUS records, wrote 4699017 BUS records\n",
      "Read in 8828381950 BUS records, wrote 129456560 BUS records\n",
      "Split viral alignments into host/masked for batch AAAAAAAAAAAAACCT...\n",
      "Read in 129456560 BUS records\n",
      "Read in 4699017 BUS records, wrote 90373 BUS records\n",
      "Read in 129456560 BUS records\n",
      "Read in 4699017 BUS records, wrote 4608644 BUS records\n"
     ]
    },
    {
     "name": "stderr",
     "output_type": "stream",
     "text": [
      " 23%|█████████████████████████▌                                                                                       | 24/106 [elapsed: 3:09:28 remaining: 13:09:41]"
     ]
    },
    {
     "name": "stdout",
     "output_type": "stream",
     "text": [
      "Capture reads for batch AAAAAAAAAAAAACGA for virus and host alignments...\n",
      "Read in 271350844 BUS records, wrote 2745695 BUS records\n",
      "Read in 8828381950 BUS records, wrote 70500301 BUS records\n",
      "Split viral alignments into host/masked for batch AAAAAAAAAAAAACGA...\n",
      "Read in 70500301 BUS records\n",
      "Read in 2745695 BUS records, wrote 76057 BUS records\n",
      "Read in 70500301 BUS records\n",
      "Read in 2745695 BUS records, wrote 2669638 BUS records\n"
     ]
    },
    {
     "name": "stderr",
     "output_type": "stream",
     "text": [
      " 24%|██████████████████████████▋                                                                                      | 25/106 [elapsed: 3:17:06 remaining: 12:11:29]"
     ]
    },
    {
     "name": "stdout",
     "output_type": "stream",
     "text": [
      "Capture reads for batch AAAAAAAAAAAAACGC for virus and host alignments...\n",
      "Read in 271350844 BUS records, wrote 1482177 BUS records\n",
      "Read in 8828381950 BUS records, wrote 33367025 BUS records\n",
      "Split viral alignments into host/masked for batch AAAAAAAAAAAAACGC...\n",
      "Read in 33367025 BUS records\n",
      "Read in 1482177 BUS records, wrote 26158 BUS records\n",
      "Read in 33367025 BUS records\n",
      "Read in 1482177 BUS records, wrote 1456019 BUS records\n"
     ]
    },
    {
     "name": "stderr",
     "output_type": "stream",
     "text": [
      " 25%|███████████████████████████▋                                                                                     | 26/106 [elapsed: 3:23:45 remaining: 11:05:33]"
     ]
    },
    {
     "name": "stdout",
     "output_type": "stream",
     "text": [
      "Capture reads for batch AAAAAAAAAAAAACGG for virus and host alignments...\n",
      "Read in 271350844 BUS records, wrote 3571559 BUS records\n",
      "Read in 8828381950 BUS records, wrote 120563997 BUS records\n",
      "Split viral alignments into host/masked for batch AAAAAAAAAAAAACGG...\n",
      "Read in 120563997 BUS records\n",
      "Read in 3571559 BUS records, wrote 94708 BUS records\n",
      "Read in 120563997 BUS records\n",
      "Read in 3571559 BUS records, wrote 3476851 BUS records\n"
     ]
    },
    {
     "name": "stderr",
     "output_type": "stream",
     "text": [
      " 25%|████████████████████████████▊                                                                                    | 27/106 [elapsed: 3:33:04 remaining: 11:20:55]"
     ]
    },
    {
     "name": "stdout",
     "output_type": "stream",
     "text": [
      "Capture reads for batch AAAAAAAAAAAAACGT for virus and host alignments...\n",
      "Read in 271350844 BUS records, wrote 1762956 BUS records\n",
      "Read in 8828381950 BUS records, wrote 20857560 BUS records\n",
      "Split viral alignments into host/masked for batch AAAAAAAAAAAAACGT...\n",
      "Read in 20857560 BUS records\n",
      "Read in 1762956 BUS records, wrote 26564 BUS records\n",
      "Read in 20857560 BUS records\n",
      "Read in 1762956 BUS records, wrote 1736392 BUS records\n"
     ]
    },
    {
     "name": "stderr",
     "output_type": "stream",
     "text": [
      " 26%|█████████████████████████████▊                                                                                   | 28/106 [elapsed: 3:39:31 remaining: 10:21:13]"
     ]
    },
    {
     "name": "stdout",
     "output_type": "stream",
     "text": [
      "Capture reads for batch AAAAAAAAAAAAACTA for virus and host alignments...\n",
      "Read in 271350844 BUS records, wrote 831575 BUS records\n",
      "Read in 8828381950 BUS records, wrote 42651108 BUS records\n",
      "Split viral alignments into host/masked for batch AAAAAAAAAAAAACTA...\n",
      "Read in 42651108 BUS records\n",
      "Read in 831575 BUS records, wrote 30939 BUS records\n",
      "Read in 42651108 BUS records\n",
      "Read in 831575 BUS records, wrote 800636 BUS records\n"
     ]
    },
    {
     "name": "stderr",
     "output_type": "stream",
     "text": [
      " 27%|██████████████████████████████▉                                                                                  | 29/106 [elapsed: 3:47:01 remaining: 10:02:34]"
     ]
    },
    {
     "name": "stdout",
     "output_type": "stream",
     "text": [
      "Capture reads for batch AAAAAAAAAAAAACTC for virus and host alignments...\n",
      "Read in 271350844 BUS records, wrote 3327671 BUS records\n",
      "Read in 8828381950 BUS records, wrote 149524311 BUS records\n",
      "Split viral alignments into host/masked for batch AAAAAAAAAAAAACTC...\n",
      "Read in 149524311 BUS records\n",
      "Read in 3327671 BUS records, wrote 75507 BUS records\n",
      "Read in 149524311 BUS records\n",
      "Read in 3327671 BUS records, wrote 3252164 BUS records\n"
     ]
    },
    {
     "name": "stderr",
     "output_type": "stream",
     "text": [
      " 28%|███████████████████████████████▉                                                                                 | 30/106 [elapsed: 3:56:22 remaining: 10:29:32]"
     ]
    },
    {
     "name": "stdout",
     "output_type": "stream",
     "text": [
      "Capture reads for batch AAAAAAAAAAAAACTG for virus and host alignments...\n",
      "Read in 271350844 BUS records, wrote 2291527 BUS records\n",
      "Read in 8828381950 BUS records, wrote 74037785 BUS records\n",
      "Split viral alignments into host/masked for batch AAAAAAAAAAAAACTG...\n",
      "Read in 74037785 BUS records\n",
      "Read in 2291527 BUS records, wrote 68072 BUS records\n",
      "Read in 74037785 BUS records\n",
      "Read in 2291527 BUS records, wrote 2223455 BUS records\n"
     ]
    },
    {
     "name": "stderr",
     "output_type": "stream",
     "text": [
      " 29%|█████████████████████████████████                                                                                | 31/106 [elapsed: 4:04:07 remaining: 10:09:22]"
     ]
    },
    {
     "name": "stdout",
     "output_type": "stream",
     "text": [
      "Capture reads for batch AAAAAAAAAAAAACTT for virus and host alignments...\n",
      "Read in 271350844 BUS records, wrote 998833 BUS records\n",
      "Read in 8828381950 BUS records, wrote 68940633 BUS records\n",
      "Split viral alignments into host/masked for batch AAAAAAAAAAAAACTT...\n",
      "Read in 68940633 BUS records\n",
      "Read in 998833 BUS records, wrote 45240 BUS records\n",
      "Read in 68940633 BUS records\n",
      "Read in 998833 BUS records, wrote 953593 BUS records\n"
     ]
    },
    {
     "name": "stderr",
     "output_type": "stream",
     "text": [
      " 30%|██████████████████████████████████▍                                                                               | 32/106 [elapsed: 4:11:27 remaining: 9:43:42]"
     ]
    },
    {
     "name": "stdout",
     "output_type": "stream",
     "text": [
      "Capture reads for batch AAAAAAAAAAAAAGAA for virus and host alignments...\n",
      "Read in 271350844 BUS records, wrote 1379788 BUS records\n",
      "Read in 8828381950 BUS records, wrote 54767075 BUS records\n",
      "Split viral alignments into host/masked for batch AAAAAAAAAAAAAGAA...\n",
      "Read in 54767075 BUS records\n",
      "Read in 1379788 BUS records, wrote 12922 BUS records\n",
      "Read in 54767075 BUS records\n",
      "Read in 1379788 BUS records, wrote 1366866 BUS records\n"
     ]
    },
    {
     "name": "stderr",
     "output_type": "stream",
     "text": [
      " 31%|███████████████████████████████████▍                                                                              | 33/106 [elapsed: 4:18:56 remaining: 9:26:48]"
     ]
    },
    {
     "name": "stdout",
     "output_type": "stream",
     "text": [
      "Capture reads for batch AAAAAAAAAAAAAGAC for virus and host alignments...\n",
      "Read in 271350844 BUS records, wrote 1110284 BUS records\n",
      "Read in 8828381950 BUS records, wrote 205193764 BUS records\n",
      "Split viral alignments into host/masked for batch AAAAAAAAAAAAAGAC...\n",
      "Read in 205193764 BUS records\n",
      "Read in 1110284 BUS records, wrote 83507 BUS records\n",
      "Read in 205193764 BUS records\n",
      "Read in 1110284 BUS records, wrote 1026777 BUS records\n"
     ]
    },
    {
     "name": "stderr",
     "output_type": "stream",
     "text": [
      " 32%|████████████████████████████████████▏                                                                            | 34/106 [elapsed: 4:30:54 remaining: 10:49:46]"
     ]
    },
    {
     "name": "stdout",
     "output_type": "stream",
     "text": [
      "Capture reads for batch AAAAAAAAAAAAAGAG for virus and host alignments...\n",
      "Read in 271350844 BUS records, wrote 4542388 BUS records\n",
      "Read in 8828381950 BUS records, wrote 97785625 BUS records\n",
      "Split viral alignments into host/masked for batch AAAAAAAAAAAAAGAG...\n",
      "Read in 97785625 BUS records\n",
      "Read in 4542388 BUS records, wrote 73817 BUS records\n",
      "Read in 97785625 BUS records\n",
      "Read in 4542388 BUS records, wrote 4468571 BUS records\n"
     ]
    },
    {
     "name": "stderr",
     "output_type": "stream",
     "text": [
      " 33%|█████████████████████████████████████▎                                                                           | 35/106 [elapsed: 4:39:24 remaining: 10:29:41]"
     ]
    },
    {
     "name": "stdout",
     "output_type": "stream",
     "text": [
      "Capture reads for batch AAAAAAAAAAAAAGAT for virus and host alignments...\n",
      "Read in 271350844 BUS records, wrote 1198203 BUS records\n",
      "Read in 8828381950 BUS records, wrote 70940374 BUS records\n",
      "Split viral alignments into host/masked for batch AAAAAAAAAAAAAGAT...\n",
      "Read in 70940374 BUS records\n",
      "Read in 1198203 BUS records, wrote 51435 BUS records\n",
      "Read in 70940374 BUS records\n",
      "Read in 1198203 BUS records, wrote 1146768 BUS records\n"
     ]
    },
    {
     "name": "stderr",
     "output_type": "stream",
     "text": [
      " 34%|██████████████████████████████████████▋                                                                           | 36/106 [elapsed: 4:46:58 remaining: 9:53:27]"
     ]
    },
    {
     "name": "stdout",
     "output_type": "stream",
     "text": [
      "Capture reads for batch AAAAAAAAAAAAAGCA for virus and host alignments...\n",
      "Read in 271350844 BUS records, wrote 2104254 BUS records\n",
      "Read in 8828381950 BUS records, wrote 17918528 BUS records\n",
      "Split viral alignments into host/masked for batch AAAAAAAAAAAAAGCA...\n",
      "Read in 17918528 BUS records\n",
      "Read in 2104254 BUS records, wrote 34698 BUS records\n",
      "Read in 17918528 BUS records\n",
      "Read in 2104254 BUS records, wrote 2069556 BUS records\n"
     ]
    },
    {
     "name": "stderr",
     "output_type": "stream",
     "text": [
      " 35%|███████████████████████████████████████▊                                                                          | 37/106 [elapsed: 4:53:05 remaining: 8:56:08]"
     ]
    },
    {
     "name": "stdout",
     "output_type": "stream",
     "text": [
      "Capture reads for batch AAAAAAAAAAAAAGCC for virus and host alignments...\n",
      "Read in 271350844 BUS records, wrote 2914589 BUS records\n",
      "Read in 8828381950 BUS records, wrote 56820228 BUS records\n",
      "Split viral alignments into host/masked for batch AAAAAAAAAAAAAGCC...\n",
      "Read in 56820228 BUS records\n",
      "Read in 2914589 BUS records, wrote 46963 BUS records\n",
      "Read in 56820228 BUS records\n",
      "Read in 2914589 BUS records, wrote 2867626 BUS records\n"
     ]
    },
    {
     "name": "stderr",
     "output_type": "stream",
     "text": [
      " 36%|████████████████████████████████████████▊                                                                         | 38/106 [elapsed: 5:00:23 remaining: 8:38:36]"
     ]
    },
    {
     "name": "stdout",
     "output_type": "stream",
     "text": [
      "Capture reads for batch AAAAAAAAAAAAAGCG for virus and host alignments...\n",
      "Read in 271350844 BUS records, wrote 144848 BUS records\n",
      "Read in 8828381950 BUS records, wrote 72578274 BUS records\n",
      "Split viral alignments into host/masked for batch AAAAAAAAAAAAAGCG...\n",
      "Read in 72578274 BUS records\n",
      "Read in 144848 BUS records, wrote 17569 BUS records\n",
      "Read in 72578274 BUS records\n",
      "Read in 144848 BUS records, wrote 127279 BUS records\n"
     ]
    },
    {
     "name": "stderr",
     "output_type": "stream",
     "text": [
      " 37%|█████████████████████████████████████████▉                                                                        | 39/106 [elapsed: 5:08:13 remaining: 8:35:17]"
     ]
    },
    {
     "name": "stdout",
     "output_type": "stream",
     "text": [
      "Capture reads for batch AAAAAAAAAAAAAGCT for virus and host alignments...\n",
      "Read in 271350844 BUS records, wrote 1868701 BUS records\n",
      "Read in 8828381950 BUS records, wrote 83997111 BUS records\n",
      "Split viral alignments into host/masked for batch AAAAAAAAAAAAAGCT...\n",
      "Read in 83997111 BUS records\n",
      "Read in 1868701 BUS records, wrote 60556 BUS records\n",
      "Read in 83997111 BUS records\n",
      "Read in 1868701 BUS records, wrote 1808145 BUS records\n"
     ]
    },
    {
     "name": "stderr",
     "output_type": "stream",
     "text": [
      " 38%|███████████████████████████████████████████                                                                       | 40/106 [elapsed: 5:16:43 remaining: 8:43:38]"
     ]
    },
    {
     "name": "stdout",
     "output_type": "stream",
     "text": [
      "Capture reads for batch AAAAAAAAAAAAAGGA for virus and host alignments...\n",
      "Read in 271350844 BUS records, wrote 2363453 BUS records\n",
      "Read in 8828381950 BUS records, wrote 55969577 BUS records\n",
      "Split viral alignments into host/masked for batch AAAAAAAAAAAAAGGA...\n",
      "Read in 55969577 BUS records\n",
      "Read in 2363453 BUS records, wrote 64474 BUS records\n",
      "Read in 55969577 BUS records\n",
      "Read in 2363453 BUS records, wrote 2298979 BUS records\n"
     ]
    },
    {
     "name": "stderr",
     "output_type": "stream",
     "text": [
      " 39%|████████████████████████████████████████████                                                                      | 41/106 [elapsed: 5:23:36 remaining: 8:15:17]"
     ]
    },
    {
     "name": "stdout",
     "output_type": "stream",
     "text": [
      "Capture reads for batch AAAAAAAAAAAAAGGC for virus and host alignments...\n",
      "Read in 271350844 BUS records, wrote 763658 BUS records\n",
      "Read in 8828381950 BUS records, wrote 59286031 BUS records\n",
      "Split viral alignments into host/masked for batch AAAAAAAAAAAAAGGC...\n",
      "Read in 59286031 BUS records\n",
      "Read in 763658 BUS records, wrote 30002 BUS records\n",
      "Read in 59286031 BUS records\n",
      "Read in 763658 BUS records, wrote 733656 BUS records\n"
     ]
    },
    {
     "name": "stderr",
     "output_type": "stream",
     "text": [
      " 40%|█████████████████████████████████████████████▏                                                                    | 42/106 [elapsed: 5:30:58 remaining: 8:02:39]"
     ]
    },
    {
     "name": "stdout",
     "output_type": "stream",
     "text": [
      "Capture reads for batch AAAAAAAAAAAAAGGG for virus and host alignments...\n",
      "Read in 271350844 BUS records, wrote 2893827 BUS records\n",
      "Read in 8828381950 BUS records, wrote 49017613 BUS records\n",
      "Split viral alignments into host/masked for batch AAAAAAAAAAAAAGGG...\n",
      "Read in 49017613 BUS records\n",
      "Read in 2893827 BUS records, wrote 14977 BUS records\n",
      "Read in 49017613 BUS records\n",
      "Read in 2893827 BUS records, wrote 2878850 BUS records\n"
     ]
    },
    {
     "name": "stderr",
     "output_type": "stream",
     "text": [
      " 41%|██████████████████████████████████████████████▏                                                                   | 43/106 [elapsed: 5:38:11 remaining: 7:48:58]"
     ]
    },
    {
     "name": "stdout",
     "output_type": "stream",
     "text": [
      "Capture reads for batch AAAAAAAAAAAAAGGT for virus and host alignments...\n",
      "Read in 271350844 BUS records, wrote 174259 BUS records\n",
      "Read in 8828381950 BUS records, wrote 248827902 BUS records\n",
      "Split viral alignments into host/masked for batch AAAAAAAAAAAAAGGT...\n",
      "Read in 248827902 BUS records\n",
      "Read in 174259 BUS records, wrote 76194 BUS records\n",
      "Read in 248827902 BUS records\n",
      "Read in 174259 BUS records, wrote 98065 BUS records\n"
     ]
    },
    {
     "name": "stderr",
     "output_type": "stream",
     "text": [
      " 42%|███████████████████████████████████████████████▎                                                                  | 44/106 [elapsed: 5:50:28 remaining: 9:11:39]"
     ]
    },
    {
     "name": "stdout",
     "output_type": "stream",
     "text": [
      "Capture reads for batch AAAAAAAAAAAAAGTA for virus and host alignments...\n",
      "Read in 271350844 BUS records, wrote 1327200 BUS records\n",
      "Read in 8828381950 BUS records, wrote 51622612 BUS records\n",
      "Split viral alignments into host/masked for batch AAAAAAAAAAAAAGTA...\n",
      "Read in 51622612 BUS records\n",
      "Read in 1327200 BUS records, wrote 37910 BUS records\n",
      "Read in 51622612 BUS records\n",
      "Read in 1327200 BUS records, wrote 1289290 BUS records\n"
     ]
    },
    {
     "name": "stderr",
     "output_type": "stream",
     "text": [
      " 42%|████████████████████████████████████████████████▍                                                                 | 45/106 [elapsed: 5:57:43 remaining: 8:32:32]"
     ]
    },
    {
     "name": "stdout",
     "output_type": "stream",
     "text": [
      "Capture reads for batch AAAAAAAAAAAAAGTC for virus and host alignments...\n",
      "Read in 271350844 BUS records, wrote 4042051 BUS records\n",
      "Read in 8828381950 BUS records, wrote 152776283 BUS records\n",
      "Split viral alignments into host/masked for batch AAAAAAAAAAAAAGTC...\n",
      "Read in 152776283 BUS records\n",
      "Read in 4042051 BUS records, wrote 52727 BUS records\n",
      "Read in 152776283 BUS records\n",
      "Read in 4042051 BUS records, wrote 3989324 BUS records\n"
     ]
    },
    {
     "name": "stderr",
     "output_type": "stream",
     "text": [
      " 43%|█████████████████████████████████████████████████▍                                                                | 46/106 [elapsed: 6:08:22 remaining: 9:04:39]"
     ]
    },
    {
     "name": "stdout",
     "output_type": "stream",
     "text": [
      "Capture reads for batch AAAAAAAAAAAAAGTG for virus and host alignments...\n",
      "Read in 271350844 BUS records, wrote 6741474 BUS records\n",
      "Read in 8828381950 BUS records, wrote 75873759 BUS records\n",
      "Split viral alignments into host/masked for batch AAAAAAAAAAAAAGTG...\n",
      "Read in 75873759 BUS records\n",
      "Read in 6741474 BUS records, wrote 60278 BUS records\n",
      "Read in 75873759 BUS records\n",
      "Read in 6741474 BUS records, wrote 6681196 BUS records\n"
     ]
    },
    {
     "name": "stderr",
     "output_type": "stream",
     "text": [
      " 44%|██████████████████████████████████████████████████▌                                                               | 47/106 [elapsed: 6:16:30 remaining: 8:38:55]"
     ]
    },
    {
     "name": "stdout",
     "output_type": "stream",
     "text": [
      "Capture reads for batch AAAAAAAAAAAAAGTT for virus and host alignments...\n",
      "Read in 271350844 BUS records, wrote 14070175 BUS records\n",
      "Read in 8828381950 BUS records, wrote 28462191 BUS records\n",
      "Split viral alignments into host/masked for batch AAAAAAAAAAAAAGTT...\n",
      "Read in 28462191 BUS records\n",
      "Read in 14070175 BUS records, wrote 10686 BUS records\n",
      "Read in 28462191 BUS records\n",
      "Read in 14070175 BUS records, wrote 14059489 BUS records\n"
     ]
    },
    {
     "name": "stderr",
     "output_type": "stream",
     "text": [
      " 45%|███████████████████████████████████████████████████▌                                                              | 48/106 [elapsed: 6:23:04 remaining: 7:51:08]"
     ]
    },
    {
     "name": "stdout",
     "output_type": "stream",
     "text": [
      "Capture reads for batch AAAAAAAAAAAAATAA for virus and host alignments...\n",
      "Read in 271350844 BUS records, wrote 1304847 BUS records\n",
      "Read in 8828381950 BUS records, wrote 55501755 BUS records\n",
      "Split viral alignments into host/masked for batch AAAAAAAAAAAAATAA...\n",
      "Read in 55501755 BUS records\n",
      "Read in 1304847 BUS records, wrote 29914 BUS records\n",
      "Read in 55501755 BUS records\n",
      "Read in 1304847 BUS records, wrote 1274933 BUS records\n"
     ]
    },
    {
     "name": "stderr",
     "output_type": "stream",
     "text": [
      " 46%|████████████████████████████████████████████████████▋                                                             | 49/106 [elapsed: 6:30:23 remaining: 7:29:25]"
     ]
    },
    {
     "name": "stdout",
     "output_type": "stream",
     "text": [
      "Capture reads for batch AAAAAAAAAAAAATAC for virus and host alignments...\n",
      "Read in 271350844 BUS records, wrote 3271323 BUS records\n",
      "Read in 8828381950 BUS records, wrote 89436032 BUS records\n",
      "Split viral alignments into host/masked for batch AAAAAAAAAAAAATAC...\n",
      "Read in 89436032 BUS records\n",
      "Read in 3271323 BUS records, wrote 71149 BUS records\n",
      "Read in 89436032 BUS records\n",
      "Read in 3271323 BUS records, wrote 3200174 BUS records\n"
     ]
    },
    {
     "name": "stderr",
     "output_type": "stream",
     "text": [
      " 47%|█████████████████████████████████████████████████████▊                                                            | 50/106 [elapsed: 6:38:49 remaining: 7:30:46]"
     ]
    },
    {
     "name": "stdout",
     "output_type": "stream",
     "text": [
      "Capture reads for batch AAAAAAAAAAAAATAG for virus and host alignments...\n",
      "Read in 271350844 BUS records, wrote 3432092 BUS records\n",
      "Read in 8828381950 BUS records, wrote 88204432 BUS records\n",
      "Split viral alignments into host/masked for batch AAAAAAAAAAAAATAG...\n",
      "Read in 88204432 BUS records\n",
      "Read in 3432092 BUS records, wrote 67446 BUS records\n",
      "Read in 88204432 BUS records\n",
      "Read in 3432092 BUS records, wrote 3364646 BUS records\n"
     ]
    },
    {
     "name": "stderr",
     "output_type": "stream",
     "text": [
      " 48%|██████████████████████████████████████████████████████▊                                                           | 51/106 [elapsed: 6:46:49 remaining: 7:21:42]"
     ]
    },
    {
     "name": "stdout",
     "output_type": "stream",
     "text": [
      "Capture reads for batch AAAAAAAAAAAAATAT for virus and host alignments...\n",
      "Read in 271350844 BUS records, wrote 816356 BUS records\n",
      "Read in 8828381950 BUS records, wrote 22731158 BUS records\n",
      "Split viral alignments into host/masked for batch AAAAAAAAAAAAATAT...\n",
      "Read in 22731158 BUS records\n",
      "Read in 816356 BUS records, wrote 6238 BUS records\n",
      "Read in 22731158 BUS records\n",
      "Read in 816356 BUS records, wrote 810118 BUS records\n"
     ]
    },
    {
     "name": "stderr",
     "output_type": "stream",
     "text": [
      " 49%|███████████████████████████████████████████████████████▉                                                          | 52/106 [elapsed: 6:52:49 remaining: 6:40:56]"
     ]
    },
    {
     "name": "stdout",
     "output_type": "stream",
     "text": [
      "Capture reads for batch AAAAAAAAAAAAATCA for virus and host alignments...\n",
      "Read in 271350844 BUS records, wrote 1714239 BUS records\n",
      "Read in 8828381950 BUS records, wrote 19781671 BUS records\n",
      "Split viral alignments into host/masked for batch AAAAAAAAAAAAATCA...\n",
      "Read in 19781671 BUS records\n",
      "Read in 1714239 BUS records, wrote 25649 BUS records\n",
      "Read in 19781671 BUS records\n",
      "Read in 1714239 BUS records, wrote 1688590 BUS records\n"
     ]
    },
    {
     "name": "stderr",
     "output_type": "stream",
     "text": [
      " 50%|█████████████████████████████████████████████████████████                                                         | 53/106 [elapsed: 6:59:02 remaining: 6:14:14]"
     ]
    },
    {
     "name": "stdout",
     "output_type": "stream",
     "text": [
      "Capture reads for batch AAAAAAAAAAAAATCC for virus and host alignments...\n",
      "Read in 271350844 BUS records, wrote 4543157 BUS records\n",
      "Read in 8828381950 BUS records, wrote 124538268 BUS records\n",
      "Split viral alignments into host/masked for batch AAAAAAAAAAAAATCC...\n",
      "Read in 124538268 BUS records\n",
      "Read in 4543157 BUS records, wrote 32354 BUS records\n",
      "Read in 124538268 BUS records\n",
      "Read in 4543157 BUS records, wrote 4510803 BUS records\n"
     ]
    },
    {
     "name": "stderr",
     "output_type": "stream",
     "text": [
      " 51%|██████████████████████████████████████████████████████████                                                        | 54/106 [elapsed: 7:08:11 remaining: 6:39:45]"
     ]
    },
    {
     "name": "stdout",
     "output_type": "stream",
     "text": [
      "Capture reads for batch AAAAAAAAAAAAATCG for virus and host alignments...\n",
      "Read in 271350844 BUS records, wrote 700352 BUS records\n",
      "Read in 8828381950 BUS records, wrote 33268192 BUS records\n",
      "Split viral alignments into host/masked for batch AAAAAAAAAAAAATCG...\n",
      "Read in 33268192 BUS records\n",
      "Read in 700352 BUS records, wrote 27566 BUS records\n",
      "Read in 33268192 BUS records\n",
      "Read in 700352 BUS records, wrote 672786 BUS records\n"
     ]
    },
    {
     "name": "stderr",
     "output_type": "stream",
     "text": [
      " 52%|███████████████████████████████████████████████████████████▏                                                      | 55/106 [elapsed: 7:14:53 remaining: 6:17:04]"
     ]
    },
    {
     "name": "stdout",
     "output_type": "stream",
     "text": [
      "Capture reads for batch AAAAAAAAAAAAATCT for virus and host alignments...\n",
      "Read in 271350844 BUS records, wrote 432797 BUS records\n",
      "Read in 8828381950 BUS records, wrote 69008852 BUS records\n",
      "Split viral alignments into host/masked for batch AAAAAAAAAAAAATCT...\n",
      "Read in 69008852 BUS records\n",
      "Read in 432797 BUS records, wrote 21156 BUS records\n",
      "Read in 69008852 BUS records\n",
      "Read in 432797 BUS records, wrote 411641 BUS records\n"
     ]
    },
    {
     "name": "stderr",
     "output_type": "stream",
     "text": [
      " 53%|████████████████████████████████████████████████████████████▏                                                     | 56/106 [elapsed: 7:22:32 remaining: 6:13:26]"
     ]
    },
    {
     "name": "stdout",
     "output_type": "stream",
     "text": [
      "Capture reads for batch AAAAAAAAAAAAATGA for virus and host alignments...\n",
      "Read in 271350844 BUS records, wrote 697485 BUS records\n",
      "Read in 8828381950 BUS records, wrote 26196176 BUS records\n",
      "Split viral alignments into host/masked for batch AAAAAAAAAAAAATGA...\n",
      "Read in 26196176 BUS records\n",
      "Read in 697485 BUS records, wrote 8559 BUS records\n",
      "Read in 26196176 BUS records\n",
      "Read in 697485 BUS records, wrote 688926 BUS records\n"
     ]
    },
    {
     "name": "stderr",
     "output_type": "stream",
     "text": [
      " 54%|█████████████████████████████████████████████████████████████▎                                                    | 57/106 [elapsed: 7:29:02 remaining: 5:51:42]"
     ]
    },
    {
     "name": "stdout",
     "output_type": "stream",
     "text": [
      "Capture reads for batch AAAAAAAAAAAAATGC for virus and host alignments...\n",
      "Read in 271350844 BUS records, wrote 1044344 BUS records\n",
      "Read in 8828381950 BUS records, wrote 81477471 BUS records\n",
      "Split viral alignments into host/masked for batch AAAAAAAAAAAAATGC...\n",
      "Read in 81477471 BUS records\n",
      "Read in 1044344 BUS records, wrote 58525 BUS records\n",
      "Read in 81477471 BUS records\n",
      "Read in 1044344 BUS records, wrote 985819 BUS records\n"
     ]
    },
    {
     "name": "stderr",
     "output_type": "stream",
     "text": [
      " 55%|██████████████████████████████████████████████████████████████▍                                                   | 58/106 [elapsed: 7:36:57 remaining: 5:55:07]"
     ]
    },
    {
     "name": "stdout",
     "output_type": "stream",
     "text": [
      "Capture reads for batch AAAAAAAAAAAAATGG for virus and host alignments...\n",
      "Read in 271350844 BUS records, wrote 20623045 BUS records\n",
      "Read in 8828381950 BUS records, wrote 97344342 BUS records\n",
      "Split viral alignments into host/masked for batch AAAAAAAAAAAAATGG...\n",
      "Read in 97344342 BUS records\n",
      "Read in 20623045 BUS records, wrote 42015 BUS records\n",
      "Read in 97344342 BUS records\n",
      "Read in 20623045 BUS records, wrote 20581030 BUS records\n"
     ]
    },
    {
     "name": "stderr",
     "output_type": "stream",
     "text": [
      " 56%|███████████████████████████████████████████████████████████████▍                                                  | 59/106 [elapsed: 7:45:44 remaining: 6:07:14]"
     ]
    },
    {
     "name": "stdout",
     "output_type": "stream",
     "text": [
      "Capture reads for batch AAAAAAAAAAAAATGT for virus and host alignments...\n",
      "Read in 271350844 BUS records, wrote 299875 BUS records\n",
      "Read in 8828381950 BUS records, wrote 20993485 BUS records\n",
      "Split viral alignments into host/masked for batch AAAAAAAAAAAAATGT...\n",
      "Read in 20993485 BUS records\n",
      "Read in 299875 BUS records, wrote 15679 BUS records\n",
      "Read in 20993485 BUS records\n",
      "Read in 299875 BUS records, wrote 284196 BUS records\n"
     ]
    },
    {
     "name": "stderr",
     "output_type": "stream",
     "text": [
      " 57%|████████████████████████████████████████████████████████████████▌                                                 | 60/106 [elapsed: 7:52:07 remaining: 5:39:42]"
     ]
    },
    {
     "name": "stdout",
     "output_type": "stream",
     "text": [
      "Capture reads for batch AAAAAAAAAAAAATTA for virus and host alignments...\n",
      "Read in 271350844 BUS records, wrote 2607050 BUS records\n",
      "Read in 8828381950 BUS records, wrote 31959305 BUS records\n",
      "Split viral alignments into host/masked for batch AAAAAAAAAAAAATTA...\n",
      "Read in 31959305 BUS records\n",
      "Read in 2607050 BUS records, wrote 16907 BUS records\n",
      "Read in 31959305 BUS records\n",
      "Read in 2607050 BUS records, wrote 2590143 BUS records\n"
     ]
    },
    {
     "name": "stderr",
     "output_type": "stream",
     "text": [
      " 58%|█████████████████████████████████████████████████████████████████▌                                                | 61/106 [elapsed: 7:58:34 remaining: 5:19:42]"
     ]
    },
    {
     "name": "stdout",
     "output_type": "stream",
     "text": [
      "Capture reads for batch AAAAAAAAAAAAATTC for virus and host alignments...\n",
      "Read in 271350844 BUS records, wrote 690053 BUS records\n",
      "Read in 8828381950 BUS records, wrote 50797409 BUS records\n",
      "Split viral alignments into host/masked for batch AAAAAAAAAAAAATTC...\n",
      "Read in 50797409 BUS records\n",
      "Read in 690053 BUS records, wrote 27053 BUS records\n",
      "Read in 50797409 BUS records\n",
      "Read in 690053 BUS records, wrote 663000 BUS records\n"
     ]
    },
    {
     "name": "stderr",
     "output_type": "stream",
     "text": [
      " 58%|██████████████████████████████████████████████████████████████████▋                                               | 62/106 [elapsed: 8:05:40 remaining: 5:12:39]"
     ]
    },
    {
     "name": "stdout",
     "output_type": "stream",
     "text": [
      "Capture reads for batch AAAAAAAAAAAAATTG for virus and host alignments...\n",
      "Read in 271350844 BUS records, wrote 1717507 BUS records\n",
      "Read in 8828381950 BUS records, wrote 46209396 BUS records\n",
      "Split viral alignments into host/masked for batch AAAAAAAAAAAAATTG...\n",
      "Read in 46209396 BUS records\n",
      "Read in 1717507 BUS records, wrote 24252 BUS records\n",
      "Read in 46209396 BUS records\n",
      "Read in 1717507 BUS records, wrote 1693255 BUS records\n"
     ]
    },
    {
     "name": "stderr",
     "output_type": "stream",
     "text": [
      " 59%|███████████████████████████████████████████████████████████████████▊                                              | 63/106 [elapsed: 8:12:10 remaining: 4:57:44]"
     ]
    },
    {
     "name": "stdout",
     "output_type": "stream",
     "text": [
      "Capture reads for batch AAAAAAAAAAAAATTT for virus and host alignments...\n",
      "Read in 271350844 BUS records, wrote 1080280 BUS records\n",
      "Read in 8828381950 BUS records, wrote 78880144 BUS records\n",
      "Split viral alignments into host/masked for batch AAAAAAAAAAAAATTT...\n",
      "Read in 78880144 BUS records\n",
      "Read in 1080280 BUS records, wrote 54063 BUS records\n",
      "Read in 78880144 BUS records\n",
      "Read in 1080280 BUS records, wrote 1026217 BUS records\n"
     ]
    },
    {
     "name": "stderr",
     "output_type": "stream",
     "text": [
      " 60%|████████████████████████████████████████████████████████████████████▊                                             | 64/106 [elapsed: 8:20:03 remaining: 5:02:45]"
     ]
    },
    {
     "name": "stdout",
     "output_type": "stream",
     "text": [
      "Capture reads for batch AAAAAAAAAAAACAAA for virus and host alignments...\n",
      "Read in 271350844 BUS records, wrote 4901222 BUS records\n",
      "Read in 8828381950 BUS records, wrote 52836258 BUS records\n",
      "Split viral alignments into host/masked for batch AAAAAAAAAAAACAAA...\n",
      "Read in 52836258 BUS records\n",
      "Read in 4901222 BUS records, wrote 11453 BUS records\n",
      "Read in 52836258 BUS records\n",
      "Read in 4901222 BUS records, wrote 4889769 BUS records\n"
     ]
    },
    {
     "name": "stderr",
     "output_type": "stream",
     "text": [
      " 61%|█████████████████████████████████████████████████████████████████████▉                                            | 65/106 [elapsed: 8:27:11 remaining: 4:54:42]"
     ]
    },
    {
     "name": "stdout",
     "output_type": "stream",
     "text": [
      "Capture reads for batch AAAAAAAAAAAACAAC for virus and host alignments...\n",
      "Read in 271350844 BUS records, wrote 272915 BUS records\n",
      "Read in 8828381950 BUS records, wrote 146625507 BUS records\n",
      "Split viral alignments into host/masked for batch AAAAAAAAAAAACAAC...\n",
      "Read in 146625507 BUS records\n",
      "Read in 272915 BUS records, wrote 54005 BUS records\n",
      "Read in 146625507 BUS records\n",
      "Read in 272915 BUS records, wrote 218910 BUS records\n"
     ]
    },
    {
     "name": "stderr",
     "output_type": "stream",
     "text": [
      " 62%|██████████████████████████████████████████████████████████████████████▉                                           | 66/106 [elapsed: 8:36:50 remaining: 5:17:03]"
     ]
    },
    {
     "name": "stdout",
     "output_type": "stream",
     "text": [
      "Capture reads for batch AAAAAAAAAAAACAAG for virus and host alignments...\n",
      "Read in 271350844 BUS records, wrote 1113334 BUS records\n",
      "Read in 8828381950 BUS records, wrote 122064622 BUS records\n",
      "Split viral alignments into host/masked for batch AAAAAAAAAAAACAAG...\n",
      "Read in 122064622 BUS records\n",
      "Read in 1113334 BUS records, wrote 35788 BUS records\n",
      "Read in 122064622 BUS records\n",
      "Read in 1113334 BUS records, wrote 1077546 BUS records\n"
     ]
    },
    {
     "name": "stderr",
     "output_type": "stream",
     "text": [
      " 63%|████████████████████████████████████████████████████████████████████████                                          | 67/106 [elapsed: 8:45:53 remaining: 5:22:16]"
     ]
    },
    {
     "name": "stdout",
     "output_type": "stream",
     "text": [
      "Capture reads for batch AAAAAAAAAAAACAAT for virus and host alignments...\n",
      "Read in 271350844 BUS records, wrote 3230239 BUS records\n",
      "Read in 8828381950 BUS records, wrote 114145636 BUS records\n",
      "Split viral alignments into host/masked for batch AAAAAAAAAAAACAAT...\n",
      "Read in 114145636 BUS records\n",
      "Read in 3230239 BUS records, wrote 63120 BUS records\n",
      "Read in 114145636 BUS records\n",
      "Read in 3230239 BUS records, wrote 3167119 BUS records\n"
     ]
    },
    {
     "name": "stderr",
     "output_type": "stream",
     "text": [
      " 64%|█████████████████████████████████████████████████████████████████████████▏                                        | 68/106 [elapsed: 8:54:46 remaining: 5:20:57]"
     ]
    },
    {
     "name": "stdout",
     "output_type": "stream",
     "text": [
      "Capture reads for batch AAAAAAAAAAAACACA for virus and host alignments...\n",
      "Read in 271350844 BUS records, wrote 2349316 BUS records\n",
      "Read in 8828381950 BUS records, wrote 57061930 BUS records\n",
      "Split viral alignments into host/masked for batch AAAAAAAAAAAACACA...\n",
      "Read in 57061930 BUS records\n",
      "Read in 2349316 BUS records, wrote 41603 BUS records\n",
      "Read in 57061930 BUS records\n",
      "Read in 2349316 BUS records, wrote 2307713 BUS records\n"
     ]
    },
    {
     "name": "stderr",
     "output_type": "stream",
     "text": [
      " 65%|██████████████████████████████████████████████████████████████████████████▏                                       | 69/106 [elapsed: 9:01:55 remaining: 4:58:17]"
     ]
    },
    {
     "name": "stdout",
     "output_type": "stream",
     "text": [
      "Capture reads for batch AAAAAAAAAAAACACC for virus and host alignments...\n",
      "Read in 271350844 BUS records, wrote 3900912 BUS records\n",
      "Read in 8828381950 BUS records, wrote 184919486 BUS records\n",
      "Split viral alignments into host/masked for batch AAAAAAAAAAAACACC...\n",
      "Read in 184919486 BUS records\n",
      "Read in 3900912 BUS records, wrote 92352 BUS records\n",
      "Read in 184919486 BUS records\n",
      "Read in 3900912 BUS records, wrote 3808560 BUS records\n"
     ]
    },
    {
     "name": "stderr",
     "output_type": "stream",
     "text": [
      " 66%|███████████████████████████████████████████████████████████████████████████▎                                      | 70/106 [elapsed: 9:12:32 remaining: 5:17:44]"
     ]
    },
    {
     "name": "stdout",
     "output_type": "stream",
     "text": [
      "Capture reads for batch AAAAAAAAAAAACACG for virus and host alignments...\n",
      "Read in 271350844 BUS records, wrote 4464672 BUS records\n",
      "Read in 8828381950 BUS records, wrote 139225215 BUS records\n",
      "Split viral alignments into host/masked for batch AAAAAAAAAAAACACG...\n",
      "Read in 139225215 BUS records\n",
      "Read in 4464672 BUS records, wrote 59866 BUS records\n",
      "Read in 139225215 BUS records\n",
      "Read in 4464672 BUS records, wrote 4404806 BUS records\n"
     ]
    },
    {
     "name": "stderr",
     "output_type": "stream",
     "text": [
      " 67%|████████████████████████████████████████████████████████████████████████████▎                                     | 71/106 [elapsed: 9:22:01 remaining: 5:15:51]"
     ]
    },
    {
     "name": "stdout",
     "output_type": "stream",
     "text": [
      "Capture reads for batch AAAAAAAAAAAACACT for virus and host alignments...\n",
      "Read in 271350844 BUS records, wrote 3219320 BUS records\n",
      "Read in 8828381950 BUS records, wrote 127866169 BUS records\n",
      "Split viral alignments into host/masked for batch AAAAAAAAAAAACACT...\n",
      "Read in 127866169 BUS records\n",
      "Read in 3219320 BUS records, wrote 55313 BUS records\n",
      "Read in 127866169 BUS records\n",
      "Read in 3219320 BUS records, wrote 3164007 BUS records\n"
     ]
    },
    {
     "name": "stderr",
     "output_type": "stream",
     "text": [
      " 68%|█████████████████████████████████████████████████████████████████████████████▍                                    | 72/106 [elapsed: 9:31:03 remaining: 5:06:52]"
     ]
    },
    {
     "name": "stdout",
     "output_type": "stream",
     "text": [
      "Capture reads for batch AAAAAAAAAAAACAGA for virus and host alignments...\n",
      "Read in 271350844 BUS records, wrote 6298639 BUS records\n",
      "Read in 8828381950 BUS records, wrote 257403557 BUS records\n",
      "Split viral alignments into host/masked for batch AAAAAAAAAAAACAGA...\n",
      "Read in 257403557 BUS records\n",
      "Read in 6298639 BUS records, wrote 94693 BUS records\n",
      "Read in 257403557 BUS records\n",
      "Read in 6298639 BUS records, wrote 6203946 BUS records\n"
     ]
    },
    {
     "name": "stderr",
     "output_type": "stream",
     "text": [
      " 69%|██████████████████████████████████████████████████████████████████████████████▌                                   | 73/106 [elapsed: 9:43:51 remaining: 5:35:11]"
     ]
    },
    {
     "name": "stdout",
     "output_type": "stream",
     "text": [
      "Capture reads for batch AAAAAAAAAAAACAGC for virus and host alignments...\n",
      "Read in 271350844 BUS records, wrote 14244107 BUS records\n",
      "Read in 8828381950 BUS records, wrote 58268481 BUS records\n",
      "Split viral alignments into host/masked for batch AAAAAAAAAAAACAGC...\n",
      "Read in 58268481 BUS records\n",
      "Read in 14244107 BUS records, wrote 18409 BUS records\n",
      "Read in 58268481 BUS records\n",
      "Read in 14244107 BUS records, wrote 14225698 BUS records\n"
     ]
    },
    {
     "name": "stderr",
     "output_type": "stream",
     "text": [
      " 70%|███████████████████████████████████████████████████████████████████████████████▌                                  | 74/106 [elapsed: 9:51:00 remaining: 4:56:07]"
     ]
    },
    {
     "name": "stdout",
     "output_type": "stream",
     "text": [
      "Capture reads for batch AAAAAAAAAAAACAGG for virus and host alignments...\n",
      "Read in 271350844 BUS records, wrote 1906937 BUS records\n",
      "Read in 8828381950 BUS records, wrote 115611532 BUS records\n",
      "Split viral alignments into host/masked for batch AAAAAAAAAAAACAGG...\n",
      "Read in 115611532 BUS records\n",
      "Read in 1906937 BUS records, wrote 56873 BUS records\n",
      "Read in 115611532 BUS records\n",
      "Read in 1906937 BUS records, wrote 1850064 BUS records\n"
     ]
    },
    {
     "name": "stderr",
     "output_type": "stream",
     "text": [
      " 71%|████████████████████████████████████████████████████████████████████████████████▋                                 | 75/106 [elapsed: 9:59:44 remaining: 4:42:08]"
     ]
    },
    {
     "name": "stdout",
     "output_type": "stream",
     "text": [
      "Capture reads for batch AAAAAAAAAAAACAGT for virus and host alignments...\n",
      "Read in 271350844 BUS records, wrote 1153241 BUS records\n",
      "Read in 8828381950 BUS records, wrote 65214304 BUS records\n",
      "Split viral alignments into host/masked for batch AAAAAAAAAAAACAGT...\n",
      "Read in 65214304 BUS records\n",
      "Read in 1153241 BUS records, wrote 50175 BUS records\n",
      "Read in 65214304 BUS records\n",
      "Read in 1153241 BUS records, wrote 1103066 BUS records\n"
     ]
    },
    {
     "name": "stderr",
     "output_type": "stream",
     "text": [
      " 72%|█████████████████████████████████████████████████████████████████████████████████                                | 76/106 [elapsed: 10:07:14 remaining: 4:18:35]"
     ]
    },
    {
     "name": "stdout",
     "output_type": "stream",
     "text": [
      "Capture reads for batch AAAAAAAAAAAACATA for virus and host alignments...\n",
      "Read in 271350844 BUS records, wrote 1020547 BUS records\n",
      "Read in 8828381950 BUS records, wrote 57685287 BUS records\n",
      "Split viral alignments into host/masked for batch AAAAAAAAAAAACATA...\n",
      "Read in 57685287 BUS records\n",
      "Read in 1020547 BUS records, wrote 38280 BUS records\n",
      "Read in 57685287 BUS records\n",
      "Read in 1020547 BUS records, wrote 982267 BUS records\n"
     ]
    },
    {
     "name": "stderr",
     "output_type": "stream",
     "text": [
      " 73%|██████████████████████████████████████████████████████████████████████████████████                               | 77/106 [elapsed: 10:14:37 remaining: 3:59:15]"
     ]
    },
    {
     "name": "stdout",
     "output_type": "stream",
     "text": [
      "Capture reads for batch AAAAAAAAAAAACATC for virus and host alignments...\n",
      "Read in 271350844 BUS records, wrote 878495 BUS records\n",
      "Read in 8828381950 BUS records, wrote 74930488 BUS records\n",
      "Split viral alignments into host/masked for batch AAAAAAAAAAAACATC...\n",
      "Read in 74930488 BUS records\n",
      "Read in 878495 BUS records, wrote 47410 BUS records\n",
      "Read in 74930488 BUS records\n",
      "Read in 878495 BUS records, wrote 831085 BUS records\n"
     ]
    },
    {
     "name": "stderr",
     "output_type": "stream",
     "text": [
      " 74%|███████████████████████████████████████████████████████████████████████████████████▏                             | 78/106 [elapsed: 10:22:41 remaining: 3:49:28]"
     ]
    },
    {
     "name": "stdout",
     "output_type": "stream",
     "text": [
      "Capture reads for batch AAAAAAAAAAAACATG for virus and host alignments...\n",
      "Read in 271350844 BUS records, wrote 4384353 BUS records\n",
      "Read in 8828381950 BUS records, wrote 84613566 BUS records\n",
      "Split viral alignments into host/masked for batch AAAAAAAAAAAACATG...\n",
      "Read in 84613566 BUS records\n",
      "Read in 4384353 BUS records, wrote 87340 BUS records\n",
      "Read in 84613566 BUS records\n",
      "Read in 4384353 BUS records, wrote 4297013 BUS records\n"
     ]
    },
    {
     "name": "stderr",
     "output_type": "stream",
     "text": [
      " 75%|████████████████████████████████████████████████████████████████████████████████████▏                            | 79/106 [elapsed: 10:31:08 remaining: 3:43:19]"
     ]
    },
    {
     "name": "stdout",
     "output_type": "stream",
     "text": [
      "Capture reads for batch AAAAAAAAAAAACATT for virus and host alignments...\n",
      "Read in 271350844 BUS records, wrote 9638860 BUS records\n",
      "Read in 8828381950 BUS records, wrote 42379686 BUS records\n",
      "Split viral alignments into host/masked for batch AAAAAAAAAAAACATT...\n",
      "Read in 42379686 BUS records\n",
      "Read in 9638860 BUS records, wrote 11634 BUS records\n",
      "Read in 42379686 BUS records\n",
      "Read in 9638860 BUS records, wrote 9627226 BUS records\n"
     ]
    },
    {
     "name": "stderr",
     "output_type": "stream",
     "text": [
      " 75%|█████████████████████████████████████████████████████████████████████████████████████▎                           | 80/106 [elapsed: 10:38:16 remaining: 3:26:10]"
     ]
    },
    {
     "name": "stdout",
     "output_type": "stream",
     "text": [
      "Capture reads for batch AAAAAAAAAAAACCAA for virus and host alignments...\n",
      "Read in 271350844 BUS records, wrote 1979058 BUS records\n",
      "Read in 8828381950 BUS records, wrote 69350878 BUS records\n",
      "Split viral alignments into host/masked for batch AAAAAAAAAAAACCAA...\n",
      "Read in 69350878 BUS records\n",
      "Read in 1979058 BUS records, wrote 60610 BUS records\n",
      "Read in 69350878 BUS records\n",
      "Read in 1979058 BUS records, wrote 1918448 BUS records\n"
     ]
    },
    {
     "name": "stderr",
     "output_type": "stream",
     "text": [
      " 76%|██████████████████████████████████████████████████████████████████████████████████████▎                          | 81/106 [elapsed: 10:45:58 remaining: 3:16:31]"
     ]
    },
    {
     "name": "stdout",
     "output_type": "stream",
     "text": [
      "Capture reads for batch AAAAAAAAAAAACCAC for virus and host alignments...\n",
      "Read in 271350844 BUS records, wrote 1626925 BUS records\n",
      "Read in 8828381950 BUS records, wrote 77563517 BUS records\n",
      "Split viral alignments into host/masked for batch AAAAAAAAAAAACCAC...\n",
      "Read in 77563517 BUS records\n",
      "Read in 1626925 BUS records, wrote 41847 BUS records\n",
      "Read in 77563517 BUS records\n",
      "Read in 1626925 BUS records, wrote 1585078 BUS records\n"
     ]
    },
    {
     "name": "stderr",
     "output_type": "stream",
     "text": [
      " 77%|███████████████████████████████████████████████████████████████████████████████████████▍                         | 82/106 [elapsed: 10:54:00 remaining: 3:09:52]"
     ]
    },
    {
     "name": "stdout",
     "output_type": "stream",
     "text": [
      "Capture reads for batch AAAAAAAAAAAACCAG for virus and host alignments...\n",
      "Read in 271350844 BUS records, wrote 726526 BUS records\n",
      "Read in 8828381950 BUS records, wrote 67211886 BUS records\n",
      "Split viral alignments into host/masked for batch AAAAAAAAAAAACCAG...\n",
      "Read in 67211886 BUS records\n",
      "Read in 726526 BUS records, wrote 36776 BUS records\n",
      "Read in 67211886 BUS records\n",
      "Read in 726526 BUS records, wrote 689750 BUS records\n"
     ]
    },
    {
     "name": "stderr",
     "output_type": "stream",
     "text": [
      " 78%|████████████████████████████████████████████████████████████████████████████████████████▍                        | 83/106 [elapsed: 11:01:33 remaining: 2:59:28]"
     ]
    },
    {
     "name": "stdout",
     "output_type": "stream",
     "text": [
      "Capture reads for batch AAAAAAAAAAAACCAT for virus and host alignments...\n",
      "Read in 271350844 BUS records, wrote 1147636 BUS records\n",
      "Read in 8828381950 BUS records, wrote 35096036 BUS records\n",
      "Split viral alignments into host/masked for batch AAAAAAAAAAAACCAT...\n",
      "Read in 35096036 BUS records\n",
      "Read in 1147636 BUS records, wrote 38187 BUS records\n",
      "Read in 35096036 BUS records\n",
      "Read in 1147636 BUS records, wrote 1109449 BUS records\n"
     ]
    },
    {
     "name": "stderr",
     "output_type": "stream",
     "text": [
      " 79%|█████████████████████████████████████████████████████████████████████████████████████████▌                       | 84/106 [elapsed: 11:08:08 remaining: 2:43:36]"
     ]
    },
    {
     "name": "stdout",
     "output_type": "stream",
     "text": [
      "Capture reads for batch AAAAAAAAAAAACCCA for virus and host alignments...\n",
      "Read in 271350844 BUS records, wrote 685218 BUS records\n",
      "Read in 8828381950 BUS records, wrote 55561813 BUS records\n",
      "Split viral alignments into host/masked for batch AAAAAAAAAAAACCCA...\n",
      "Read in 55561813 BUS records\n",
      "Read in 685218 BUS records, wrote 14282 BUS records\n",
      "Read in 55561813 BUS records\n",
      "Read in 685218 BUS records, wrote 670936 BUS records\n"
     ]
    },
    {
     "name": "stderr",
     "output_type": "stream",
     "text": [
      " 80%|██████████████████████████████████████████████████████████████████████████████████████████▌                      | 85/106 [elapsed: 11:15:01 remaining: 2:32:40]"
     ]
    },
    {
     "name": "stdout",
     "output_type": "stream",
     "text": [
      "Capture reads for batch AAAAAAAAAAAACCCC for virus and host alignments...\n",
      "Read in 271350844 BUS records, wrote 1418738 BUS records\n",
      "Read in 8828381950 BUS records, wrote 35952484 BUS records\n",
      "Split viral alignments into host/masked for batch AAAAAAAAAAAACCCC...\n",
      "Read in 35952484 BUS records\n",
      "Read in 1418738 BUS records, wrote 28171 BUS records\n",
      "Read in 35952484 BUS records\n",
      "Read in 1418738 BUS records, wrote 1390567 BUS records\n"
     ]
    },
    {
     "name": "stderr",
     "output_type": "stream",
     "text": [
      " 81%|███████████████████████████████████████████████████████████████████████████████████████████▋                     | 86/106 [elapsed: 11:21:45 remaining: 2:22:10]"
     ]
    },
    {
     "name": "stdout",
     "output_type": "stream",
     "text": [
      "Capture reads for batch AAAAAAAAAAAACCCG for virus and host alignments...\n",
      "Read in 271350844 BUS records, wrote 662047 BUS records\n",
      "Read in 8828381950 BUS records, wrote 51890879 BUS records\n",
      "Split viral alignments into host/masked for batch AAAAAAAAAAAACCCG...\n",
      "Read in 51890879 BUS records\n",
      "Read in 662047 BUS records, wrote 29590 BUS records\n",
      "Read in 51890879 BUS records\n",
      "Read in 662047 BUS records, wrote 632457 BUS records\n"
     ]
    },
    {
     "name": "stderr",
     "output_type": "stream",
     "text": [
      " 82%|████████████████████████████████████████████████████████████████████████████████████████████▋                    | 87/106 [elapsed: 11:28:51 remaining: 2:15:03]"
     ]
    },
    {
     "name": "stdout",
     "output_type": "stream",
     "text": [
      "Capture reads for batch AAAAAAAAAAAACCCT for virus and host alignments...\n",
      "Read in 271350844 BUS records, wrote 505452 BUS records\n",
      "Read in 8828381950 BUS records, wrote 29274912 BUS records\n",
      "Split viral alignments into host/masked for batch AAAAAAAAAAAACCCT...\n",
      "Read in 29274912 BUS records\n",
      "Read in 505452 BUS records, wrote 18373 BUS records\n",
      "Read in 29274912 BUS records\n",
      "Read in 505452 BUS records, wrote 487079 BUS records\n"
     ]
    },
    {
     "name": "stderr",
     "output_type": "stream",
     "text": [
      " 83%|█████████████████████████████████████████████████████████████████████████████████████████████▊                   | 88/106 [elapsed: 11:35:30 remaining: 2:05:24]"
     ]
    },
    {
     "name": "stdout",
     "output_type": "stream",
     "text": [
      "Capture reads for batch AAAAAAAAAAAACCGA for virus and host alignments...\n",
      "Read in 271350844 BUS records, wrote 1147945 BUS records\n",
      "Read in 8828381950 BUS records, wrote 35470119 BUS records\n",
      "Split viral alignments into host/masked for batch AAAAAAAAAAAACCGA...\n",
      "Read in 35470119 BUS records\n",
      "Read in 1147945 BUS records, wrote 32038 BUS records\n",
      "Read in 35470119 BUS records\n",
      "Read in 1147945 BUS records, wrote 1115907 BUS records\n"
     ]
    },
    {
     "name": "stderr",
     "output_type": "stream",
     "text": [
      " 84%|██████████████████████████████████████████████████████████████████████████████████████████████▉                  | 89/106 [elapsed: 11:42:04 remaining: 1:56:27]"
     ]
    },
    {
     "name": "stdout",
     "output_type": "stream",
     "text": [
      "Capture reads for batch AAAAAAAAAAAACCGC for virus and host alignments...\n",
      "Read in 271350844 BUS records, wrote 1235006 BUS records\n",
      "Read in 8828381950 BUS records, wrote 130361841 BUS records\n",
      "Split viral alignments into host/masked for batch AAAAAAAAAAAACCGC...\n",
      "Read in 130361841 BUS records\n",
      "Read in 1235006 BUS records, wrote 45527 BUS records\n",
      "Read in 130361841 BUS records\n",
      "Read in 1235006 BUS records, wrote 1189479 BUS records\n"
     ]
    },
    {
     "name": "stderr",
     "output_type": "stream",
     "text": [
      " 85%|███████████████████████████████████████████████████████████████████████████████████████████████▉                 | 90/106 [elapsed: 11:51:07 remaining: 2:00:06]"
     ]
    },
    {
     "name": "stdout",
     "output_type": "stream",
     "text": [
      "Capture reads for batch AAAAAAAAAAAACCGG for virus and host alignments...\n",
      "Read in 271350844 BUS records, wrote 1446038 BUS records\n",
      "Read in 8828381950 BUS records, wrote 42674949 BUS records\n",
      "Split viral alignments into host/masked for batch AAAAAAAAAAAACCGG...\n",
      "Read in 42674949 BUS records\n",
      "Read in 1446038 BUS records, wrote 43882 BUS records\n",
      "Read in 42674949 BUS records\n",
      "Read in 1446038 BUS records, wrote 1402156 BUS records\n"
     ]
    },
    {
     "name": "stderr",
     "output_type": "stream",
     "text": [
      " 86%|█████████████████████████████████████████████████████████████████████████████████████████████████                | 91/106 [elapsed: 11:57:59 remaining: 1:49:47]"
     ]
    },
    {
     "name": "stdout",
     "output_type": "stream",
     "text": [
      "Capture reads for batch AAAAAAAAAAAACCGT for virus and host alignments...\n",
      "Read in 271350844 BUS records, wrote 141577 BUS records\n",
      "Read in 8828381950 BUS records, wrote 94278041 BUS records\n",
      "Split viral alignments into host/masked for batch AAAAAAAAAAAACCGT...\n",
      "Read in 94278041 BUS records\n",
      "Read in 141577 BUS records, wrote 27790 BUS records\n",
      "Read in 94278041 BUS records\n",
      "Read in 141577 BUS records, wrote 113787 BUS records\n"
     ]
    },
    {
     "name": "stderr",
     "output_type": "stream",
     "text": [
      " 87%|██████████████████████████████████████████████████████████████████████████████████████████████████               | 92/106 [elapsed: 12:06:10 remaining: 1:46:04]"
     ]
    },
    {
     "name": "stdout",
     "output_type": "stream",
     "text": [
      "Capture reads for batch AAAAAAAAAAAACCTA for virus and host alignments...\n",
      "Read in 271350844 BUS records, wrote 2273868 BUS records\n",
      "Read in 8828381950 BUS records, wrote 123183736 BUS records\n",
      "Split viral alignments into host/masked for batch AAAAAAAAAAAACCTA...\n",
      "Read in 123183736 BUS records\n",
      "Read in 2273868 BUS records, wrote 66548 BUS records\n",
      "Read in 123183736 BUS records\n",
      "Read in 2273868 BUS records, wrote 2207320 BUS records\n"
     ]
    },
    {
     "name": "stderr",
     "output_type": "stream",
     "text": [
      " 88%|███████████████████████████████████████████████████████████████████████████████████████████████████▏             | 93/106 [elapsed: 12:14:55 remaining: 1:43:02]"
     ]
    },
    {
     "name": "stdout",
     "output_type": "stream",
     "text": [
      "Capture reads for batch AAAAAAAAAAAACCTC for virus and host alignments...\n",
      "Read in 271350844 BUS records, wrote 1896898 BUS records\n",
      "Read in 8828381950 BUS records, wrote 220239913 BUS records\n",
      "Split viral alignments into host/masked for batch AAAAAAAAAAAACCTC...\n",
      "Read in 220239913 BUS records\n",
      "Read in 1896898 BUS records, wrote 81345 BUS records\n",
      "Read in 220239913 BUS records\n",
      "Read in 1896898 BUS records, wrote 1815553 BUS records\n"
     ]
    },
    {
     "name": "stderr",
     "output_type": "stream",
     "text": [
      " 89%|████████████████████████████████████████████████████████████████████████████████████████████████████▏            | 94/106 [elapsed: 12:27:06 remaining: 1:50:27]"
     ]
    },
    {
     "name": "stdout",
     "output_type": "stream",
     "text": [
      "Capture reads for batch AAAAAAAAAAAACCTG for virus and host alignments...\n",
      "Read in 271350844 BUS records, wrote 1477782 BUS records\n",
      "Read in 8828381950 BUS records, wrote 124835564 BUS records\n",
      "Split viral alignments into host/masked for batch AAAAAAAAAAAACCTG...\n",
      "Read in 124835564 BUS records\n",
      "Read in 1477782 BUS records, wrote 83508 BUS records\n",
      "Read in 124835564 BUS records\n",
      "Read in 1477782 BUS records, wrote 1394274 BUS records\n"
     ]
    },
    {
     "name": "stderr",
     "output_type": "stream",
     "text": [
      " 90%|█████████████████████████████████████████████████████████████████████████████████████████████████████▎           | 95/106 [elapsed: 12:36:46 remaining: 1:42:45]"
     ]
    },
    {
     "name": "stdout",
     "output_type": "stream",
     "text": [
      "Capture reads for batch AAAAAAAAAAAACCTT for virus and host alignments...\n",
      "Read in 271350844 BUS records, wrote 549508 BUS records\n",
      "Read in 8828381950 BUS records, wrote 28574655 BUS records\n",
      "Split viral alignments into host/masked for batch AAAAAAAAAAAACCTT...\n",
      "Read in 28574655 BUS records\n",
      "Read in 549508 BUS records, wrote 10569 BUS records\n",
      "Read in 28574655 BUS records\n",
      "Read in 549508 BUS records, wrote 538939 BUS records\n"
     ]
    },
    {
     "name": "stderr",
     "output_type": "stream",
     "text": [
      " 91%|██████████████████████████████████████████████████████████████████████████████████████████████████████▎          | 96/106 [elapsed: 12:42:53 remaining: 1:23:45]"
     ]
    },
    {
     "name": "stdout",
     "output_type": "stream",
     "text": [
      "Capture reads for batch AAAAAAAAAAAACGAA for virus and host alignments...\n",
      "Read in 271350844 BUS records, wrote 2726623 BUS records\n",
      "Read in 8828381950 BUS records, wrote 118611382 BUS records\n",
      "Split viral alignments into host/masked for batch AAAAAAAAAAAACGAA...\n",
      "Read in 118611382 BUS records\n",
      "Read in 2726623 BUS records, wrote 70564 BUS records\n",
      "Read in 118611382 BUS records\n",
      "Read in 2726623 BUS records, wrote 2656059 BUS records\n"
     ]
    },
    {
     "name": "stderr",
     "output_type": "stream",
     "text": [
      " 92%|███████████████████████████████████████████████████████████████████████████████████████████████████████▍         | 97/106 [elapsed: 12:51:49 remaining: 1:16:54]"
     ]
    },
    {
     "name": "stdout",
     "output_type": "stream",
     "text": [
      "Capture reads for batch AAAAAAAAAAAACGAC for virus and host alignments...\n",
      "Read in 271350844 BUS records, wrote 1661417 BUS records\n",
      "Read in 8828381950 BUS records, wrote 118425407 BUS records\n",
      "Split viral alignments into host/masked for batch AAAAAAAAAAAACGAC...\n",
      "Read in 118425407 BUS records\n",
      "Read in 1661417 BUS records, wrote 52944 BUS records\n",
      "Read in 118425407 BUS records\n",
      "Read in 1661417 BUS records, wrote 1608473 BUS records\n"
     ]
    },
    {
     "name": "stderr",
     "output_type": "stream",
     "text": [
      " 92%|████████████████████████████████████████████████████████████████████████████████████████████████████████▍        | 98/106 [elapsed: 13:00:45 remaining: 1:09:16]"
     ]
    },
    {
     "name": "stdout",
     "output_type": "stream",
     "text": [
      "Capture reads for batch AAAAAAAAAAAACGAG for virus and host alignments...\n",
      "Read in 271350844 BUS records, wrote 2372076 BUS records\n",
      "Read in 8828381950 BUS records, wrote 147969088 BUS records\n",
      "Split viral alignments into host/masked for batch AAAAAAAAAAAACGAG...\n",
      "Read in 147969088 BUS records\n",
      "Read in 2372076 BUS records, wrote 70429 BUS records\n",
      "Read in 147969088 BUS records\n",
      "Read in 2372076 BUS records, wrote 2301647 BUS records\n"
     ]
    },
    {
     "name": "stderr",
     "output_type": "stream",
     "text": [
      " 93%|█████████████████████████████████████████████████████████████████████████████████████████████████████████▌       | 99/106 [elapsed: 13:10:06 remaining: 1:02:04]"
     ]
    },
    {
     "name": "stdout",
     "output_type": "stream",
     "text": [
      "Capture reads for batch AAAAAAAAAAAACGAT for virus and host alignments...\n",
      "Read in 271350844 BUS records, wrote 1158466 BUS records\n",
      "Read in 8828381950 BUS records, wrote 71003495 BUS records\n",
      "Split viral alignments into host/masked for batch AAAAAAAAAAAACGAT...\n",
      "Read in 71003495 BUS records\n",
      "Read in 1158466 BUS records, wrote 52457 BUS records\n",
      "Read in 71003495 BUS records\n",
      "Read in 1158466 BUS records, wrote 1106009 BUS records\n"
     ]
    },
    {
     "name": "stderr",
     "output_type": "stream",
     "text": [
      " 94%|███████████████████████████████████████████████████████████████████████████████████████████████████████████▌      | 100/106 [elapsed: 13:17:43 remaining: 50:57]"
     ]
    },
    {
     "name": "stdout",
     "output_type": "stream",
     "text": [
      "Capture reads for batch AAAAAAAAAAAACGCA for virus and host alignments...\n",
      "Read in 271350844 BUS records, wrote 5335062 BUS records\n",
      "Read in 8828381950 BUS records, wrote 111290688 BUS records\n",
      "Split viral alignments into host/masked for batch AAAAAAAAAAAACGCA...\n",
      "Read in 111290688 BUS records\n",
      "Read in 5335062 BUS records, wrote 68992 BUS records\n",
      "Read in 111290688 BUS records\n",
      "Read in 5335062 BUS records, wrote 5266070 BUS records\n"
     ]
    },
    {
     "name": "stderr",
     "output_type": "stream",
     "text": [
      " 95%|████████████████████████████████████████████████████████████████████████████████████████████████████████████▌     | 101/106 [elapsed: 13:26:23 remaining: 42:43]"
     ]
    },
    {
     "name": "stdout",
     "output_type": "stream",
     "text": [
      "Capture reads for batch AAAAAAAAAAAACGCC for virus and host alignments...\n",
      "Read in 271350844 BUS records, wrote 469956 BUS records\n",
      "Read in 8828381950 BUS records, wrote 30035732 BUS records\n",
      "Split viral alignments into host/masked for batch AAAAAAAAAAAACGCC...\n",
      "Read in 30035732 BUS records\n",
      "Read in 469956 BUS records, wrote 18724 BUS records\n",
      "Read in 30035732 BUS records\n",
      "Read in 469956 BUS records, wrote 451232 BUS records\n"
     ]
    },
    {
     "name": "stderr",
     "output_type": "stream",
     "text": [
      " 96%|█████████████████████████████████████████████████████████████████████████████████████████████████████████████▋    | 102/106 [elapsed: 13:32:54 remaining: 31:44]"
     ]
    },
    {
     "name": "stdout",
     "output_type": "stream",
     "text": [
      "Capture reads for batch AAAAAAAAAAAACGCG for virus and host alignments...\n",
      "Read in 271350844 BUS records, wrote 3816243 BUS records\n",
      "Read in 8828381950 BUS records, wrote 78799736 BUS records\n",
      "Split viral alignments into host/masked for batch AAAAAAAAAAAACGCG...\n",
      "Read in 78799736 BUS records\n",
      "Read in 3816243 BUS records, wrote 72432 BUS records\n",
      "Read in 78799736 BUS records\n",
      "Read in 3816243 BUS records, wrote 3743811 BUS records\n"
     ]
    },
    {
     "name": "stderr",
     "output_type": "stream",
     "text": [
      " 97%|██████████████████████████████████████████████████████████████████████████████████████████████████████████████▊   | 103/106 [elapsed: 13:40:59 remaining: 23:56]"
     ]
    },
    {
     "name": "stdout",
     "output_type": "stream",
     "text": [
      "Capture reads for batch AAAAAAAAAAAACGCT for virus and host alignments...\n",
      "Read in 271350844 BUS records, wrote 2961507 BUS records\n",
      "Read in 8828381950 BUS records, wrote 80673537 BUS records\n",
      "Split viral alignments into host/masked for batch AAAAAAAAAAAACGCT...\n",
      "Read in 80673537 BUS records\n",
      "Read in 2961507 BUS records, wrote 61300 BUS records\n",
      "Read in 80673537 BUS records\n",
      "Read in 2961507 BUS records, wrote 2900207 BUS records\n"
     ]
    },
    {
     "name": "stderr",
     "output_type": "stream",
     "text": [
      " 98%|███████████████████████████████████████████████████████████████████████████████████████████████████████████████▊  | 104/106 [elapsed: 13:49:14 remaining: 16:07]"
     ]
    },
    {
     "name": "stdout",
     "output_type": "stream",
     "text": [
      "Capture reads for batch AAAAAAAAAAAACGGA for virus and host alignments...\n",
      "Read in 271350844 BUS records, wrote 1099633 BUS records\n",
      "Read in 8828381950 BUS records, wrote 30617474 BUS records\n",
      "Split viral alignments into host/masked for batch AAAAAAAAAAAACGGA...\n",
      "Read in 30617474 BUS records\n",
      "Read in 1099633 BUS records, wrote 20022 BUS records\n",
      "Read in 30617474 BUS records\n",
      "Read in 1099633 BUS records, wrote 1079611 BUS records\n"
     ]
    },
    {
     "name": "stderr",
     "output_type": "stream",
     "text": [
      " 99%|████████████████████████████████████████████████████████████████████████████████████████████████████████████████▉ | 105/106 [elapsed: 13:55:44 remaining: 07:35]"
     ]
    },
    {
     "name": "stdout",
     "output_type": "stream",
     "text": [
      "Capture reads for batch AAAAAAAAAAAACGGC for virus and host alignments...\n",
      "Read in 271350844 BUS records, wrote 1482646 BUS records\n",
      "Read in 8828381950 BUS records, wrote 38488143 BUS records\n",
      "Split viral alignments into host/masked for batch AAAAAAAAAAAACGGC...\n",
      "Read in 38488143 BUS records\n",
      "Read in 1482646 BUS records, wrote 28897 BUS records\n",
      "Read in 38488143 BUS records\n",
      "Read in 1482646 BUS records, wrote 1453749 BUS records\n"
     ]
    },
    {
     "name": "stderr",
     "output_type": "stream",
     "text": [
      "100%|██████████████████████████████████████████████████████████████████████████████████████████████████████████████████| 106/106 [elapsed: 14:02:39 remaining: 00:00]"
     ]
    },
    {
     "name": "stdout",
     "output_type": "stream",
     "text": [
      "CPU times: user 11min 20s, sys: 2min 47s, total: 14min 8s\n",
      "Wall time: 14h 2min 39s\n"
     ]
    },
    {
     "name": "stderr",
     "output_type": "stream",
     "text": [
      "\n"
     ]
    }
   ],
   "source": [
    "%%time\n",
    "sample_barcodes_star = f\"{host_out_folder}/matrix.sample.barcodes.tmp\"\n",
    "\n",
    "TQDM_BAR_FORMAT = (\n",
    "    \"{l_bar}{bar}| {n_fmt}/{total_fmt} [elapsed: {elapsed} remaining: {remaining}]\"\n",
    ")\n",
    "\n",
    "with tqdm(total=len(sample_barcodes), bar_format=TQDM_BAR_FORMAT) as pbar:\n",
    "    for sb in sample_barcodes:\n",
    "        with open(sample_barcodes_star, \"w\") as sbs_file:\n",
    "            sbs_file.write(sb + \"*\")\n",
    "\n",
    "        print(f\"Capture reads for batch {sb} for virus and host alignments...\")\n",
    "        # Capture records for this batch from virus and host bus files\n",
    "        !$bustools capture \\\n",
    "            $out_folder/output.bus \\\n",
    "            --capture $sample_barcodes_star \\\n",
    "            --barcode \\\n",
    "            -o $out_folder/output_sample_tmp.bus\n",
    "\n",
    "        !$bustools capture \\\n",
    "            $host_out_folder/output.bus \\\n",
    "            --capture $sample_barcodes_star \\\n",
    "            --barcode \\\n",
    "            -o $host_out_folder/output_sample_tmp.bus\n",
    "\n",
    "        print(f\"Split viral alignments into host/masked for batch {sb}...\")\n",
    "        # Capture records from virus reads also mapped to host\n",
    "        bus_name = f\"output_{sb}_host.bus\"\n",
    "        !$bustools capture \\\n",
    "            $out_folder/output_sample_tmp.bus \\\n",
    "            --capture <($bustools text -pf $host_out_folder/output_sample_tmp.bus | cut -d$'\\t' -f5)  \\\n",
    "            --flags \\\n",
    "            -o $out_folder/$bus_name\n",
    "\n",
    "        # Capture records from virus reads that did not map to host\n",
    "        bus_name = f\"output_{sb}_virus.bus\"\n",
    "        !$bustools capture \\\n",
    "            $out_folder/output_sample_tmp.bus \\\n",
    "            --capture <($bustools text -pf $host_out_folder/output_sample_tmp.bus | cut -d$'\\t' -f5)  \\\n",
    "            --complement \\\n",
    "            --flags \\\n",
    "            -o $out_folder/$bus_name\n",
    "        \n",
    "        pbar.update(n=1)"
   ]
  },
  {
   "cell_type": "markdown",
   "id": "bc5fa23b-1051-46c3-9ae5-fff4e6e2536b",
   "metadata": {},
   "source": [
    "### Clean up cell barcodes using host cell whitelist generated by bustools"
   ]
  },
  {
   "cell_type": "code",
   "execution_count": 19,
   "id": "d4bf2028-216c-4c08-a624-0ee612039800",
   "metadata": {},
   "outputs": [],
   "source": [
    "host_whitelist_folder = f\"/home/laura/projects/virus-watch-data/{bp}/full_index_stringent_dlist_flank1/host_canine\""
   ]
  },
  {
   "cell_type": "code",
   "execution_count": 21,
   "id": "93fc9250-6e16-45f3-b073-939f45678c78",
   "metadata": {},
   "outputs": [],
   "source": [
    "import os"
   ]
  },
  {
   "cell_type": "code",
   "execution_count": 26,
   "id": "e79fe1a6-d4ff-4fe3-8756-6eabf5d3a134",
   "metadata": {},
   "outputs": [
    {
     "name": "stderr",
     "output_type": "stream",
     "text": [
      "  0%|                                                                                                                           | 0/106 [elapsed: 00:00 remaining: ?]"
     ]
    },
    {
     "name": "stdout",
     "output_type": "stream",
     "text": [
      "Found 775516 barcodes in the on-list\n",
      "Processed 44924 BUS records\n",
      "In on-list = 27663\n",
      "Corrected    = 4781\n",
      "Uncorrected  = 12480\n",
      "Read in 32444 BUS records\n",
      "Read in 32444 text records\n",
      " all fits in buffer\n",
      "Read in 32444 BUS records\n",
      "reading time 0s\n",
      "sorting time 0.01s\n",
      "writing time 0s\n",
      "Found 775516 barcodes in the on-list\n",
      "Processed 2408147 BUS records\n",
      "In on-list = 366450\n",
      "Corrected    = 616539\n",
      "Uncorrected  = 1425158\n",
      "Read in 982989 BUS records\n",
      "Read in 982989 text records\n",
      "partition time: 0.05s\n",
      " all fits in buffer\n",
      "Read in 982989 BUS records\n",
      "reading time 0.04s\n",
      "sorting time 0.4s\n",
      "writing time 0.02s\n"
     ]
    },
    {
     "name": "stderr",
     "output_type": "stream",
     "text": [
      "  1%|█                                                                                                                      | 1/106 [elapsed: 00:21 remaining: 38:11]"
     ]
    },
    {
     "name": "stdout",
     "output_type": "stream",
     "text": [
      "Found 775516 barcodes in the on-list\n",
      "Processed 18498 BUS records\n",
      "In on-list = 13032\n",
      "Corrected    = 1699\n",
      "Uncorrected  = 3767\n",
      "Read in 14731 BUS records\n",
      "Read in 14731 text records\n",
      " all fits in buffer\n",
      "Read in 14731 BUS records\n",
      "reading time 0s\n",
      "sorting time 0s\n",
      "writing time 0s\n",
      "Found 775516 barcodes in the on-list\n",
      "Processed 647975 BUS records\n",
      "In on-list = 151626\n",
      "Corrected    = 144271\n",
      "Uncorrected  = 352078\n",
      "Read in 295897 BUS records\n",
      "Read in 295897 text records\n",
      "partition time: 0.01s\n",
      " all fits in buffer\n",
      "Read in 295897 BUS records\n",
      "reading time 0.01s\n",
      "sorting time 0.41s\n",
      "writing time 0.02s\n"
     ]
    },
    {
     "name": "stderr",
     "output_type": "stream",
     "text": [
      "  2%|██▏                                                                                                                    | 2/106 [elapsed: 00:38 remaining: 32:51]"
     ]
    },
    {
     "name": "stdout",
     "output_type": "stream",
     "text": [
      "Found 775516 barcodes in the on-list\n",
      "Processed 17195 BUS records\n",
      "In on-list = 8793\n",
      "Corrected    = 2428\n",
      "Uncorrected  = 5974\n",
      "Read in 11221 BUS records\n",
      "Read in 11221 text records\n",
      " all fits in buffer\n",
      "Read in 11221 BUS records\n",
      "reading time 0s\n",
      "sorting time 0s\n",
      "writing time 0s\n",
      "Found 775516 barcodes in the on-list\n",
      "Processed 2733887 BUS records\n",
      "In on-list = 223592\n",
      "Corrected    = 751121\n",
      "Uncorrected  = 1759174\n",
      "Read in 974713 BUS records\n",
      "Read in 974713 text records\n",
      "partition time: 0.04s\n",
      " all fits in buffer\n",
      "Read in 974713 BUS records\n",
      "reading time 0.02s\n",
      "sorting time 0.24s\n",
      "writing time 0.02s\n"
     ]
    },
    {
     "name": "stderr",
     "output_type": "stream",
     "text": [
      "  3%|███▎                                                                                                                   | 3/106 [elapsed: 01:02 remaining: 36:22]"
     ]
    },
    {
     "name": "stdout",
     "output_type": "stream",
     "text": [
      "Found 775516 barcodes in the on-list\n",
      "Processed 49469 BUS records\n",
      "In on-list = 29240\n",
      "Corrected    = 5916\n",
      "Uncorrected  = 14313\n",
      "Read in 35156 BUS records\n",
      "Read in 35156 text records\n",
      " all fits in buffer\n",
      "Read in 35156 BUS records\n",
      "reading time 0s\n",
      "sorting time 0s\n",
      "writing time 0s\n",
      "Found 775516 barcodes in the on-list\n",
      "Processed 1770942 BUS records\n",
      "In on-list = 218032\n",
      "Corrected    = 468576\n",
      "Uncorrected  = 1084334\n",
      "Read in 686608 BUS records\n",
      "Read in 686608 text records\n",
      "partition time: 0.04s\n",
      " all fits in buffer\n",
      "Read in 686608 BUS records\n",
      "reading time 0.02s\n",
      "sorting time 0.18s\n",
      "writing time 0.01s\n"
     ]
    },
    {
     "name": "stderr",
     "output_type": "stream",
     "text": [
      "  4%|████▍                                                                                                                  | 4/106 [elapsed: 01:22 remaining: 35:14]"
     ]
    },
    {
     "name": "stdout",
     "output_type": "stream",
     "text": [
      "Found 775516 barcodes in the on-list\n",
      "Processed 56402 BUS records\n",
      "In on-list = 27779\n",
      "Corrected    = 8123\n",
      "Uncorrected  = 20500\n",
      "Read in 35902 BUS records\n",
      "Read in 35902 text records\n",
      " all fits in buffer\n",
      "Read in 35902 BUS records\n",
      "reading time 0s\n",
      "sorting time 0.01s\n",
      "writing time 0s\n",
      "Found 775516 barcodes in the on-list\n",
      "Processed 4552544 BUS records\n",
      "In on-list = 487073\n",
      "Corrected    = 1240169\n",
      "Uncorrected  = 2825302\n",
      "Read in 1727242 BUS records\n",
      "Read in 1727242 text records\n",
      "partition time: 0.07s\n",
      " all fits in buffer\n",
      "Read in 1727242 BUS records\n",
      "reading time 0.03s\n",
      "sorting time 0.59s\n",
      "writing time 0.04s\n"
     ]
    },
    {
     "name": "stderr",
     "output_type": "stream",
     "text": [
      "  5%|█████▌                                                                                                                 | 5/106 [elapsed: 01:51 remaining: 39:46]"
     ]
    },
    {
     "name": "stdout",
     "output_type": "stream",
     "text": [
      "Found 775516 barcodes in the on-list\n",
      "Processed 22444 BUS records\n",
      "In on-list = 16232\n",
      "Corrected    = 1649\n",
      "Uncorrected  = 4563\n",
      "Read in 17881 BUS records\n",
      "Read in 17881 text records\n",
      " all fits in buffer\n",
      "Read in 17881 BUS records\n",
      "reading time 0s\n",
      "sorting time 0s\n",
      "writing time 0s\n",
      "Found 775516 barcodes in the on-list\n",
      "Processed 762054 BUS records\n",
      "In on-list = 119339\n",
      "Corrected    = 188289\n",
      "Uncorrected  = 454426\n",
      "Read in 307628 BUS records\n",
      "Read in 307628 text records\n",
      "partition time: 0.01s\n",
      " all fits in buffer\n",
      "Read in 307628 BUS records\n",
      "reading time 0s\n",
      "sorting time 0.07s\n",
      "writing time 0.02s\n"
     ]
    },
    {
     "name": "stderr",
     "output_type": "stream",
     "text": [
      "  6%|██████▋                                                                                                                | 6/106 [elapsed: 02:07 remaining: 35:16]"
     ]
    },
    {
     "name": "stdout",
     "output_type": "stream",
     "text": [
      "Found 775516 barcodes in the on-list\n",
      "Processed 23833 BUS records\n",
      "In on-list = 12463\n",
      "Corrected    = 3208\n",
      "Uncorrected  = 8162\n",
      "Read in 15671 BUS records\n",
      "Read in 15671 text records\n",
      " all fits in buffer\n",
      "Read in 15671 BUS records\n",
      "reading time 0s\n",
      "sorting time 0.01s\n",
      "writing time 0s\n",
      "Found 775516 barcodes in the on-list\n",
      "Processed 878890 BUS records\n",
      "In on-list = 108047\n",
      "Corrected    = 229070\n",
      "Uncorrected  = 541773\n",
      "Read in 337117 BUS records\n",
      "Read in 337117 text records\n",
      "partition time: 0.01s\n",
      " all fits in buffer\n",
      "Read in 337117 BUS records\n",
      "reading time 0.01s\n",
      "sorting time 0.38s\n",
      "writing time 0.01s\n"
     ]
    },
    {
     "name": "stderr",
     "output_type": "stream",
     "text": [
      "  7%|███████▊                                                                                                               | 7/106 [elapsed: 02:25 remaining: 33:07]"
     ]
    },
    {
     "name": "stdout",
     "output_type": "stream",
     "text": [
      "Found 775516 barcodes in the on-list\n",
      "Processed 64918 BUS records\n",
      "In on-list = 44384\n",
      "Corrected    = 5500\n",
      "Uncorrected  = 15034\n",
      "Read in 49884 BUS records\n",
      "Read in 49884 text records\n",
      " all fits in buffer\n",
      "Read in 49884 BUS records\n",
      "reading time 0s\n",
      "sorting time 0.01s\n",
      "writing time 0s\n",
      "Found 775516 barcodes in the on-list\n",
      "Processed 2908263 BUS records\n",
      "In on-list = 615258\n",
      "Corrected    = 695439\n",
      "Uncorrected  = 1597566\n",
      "Read in 1310697 BUS records\n",
      "Read in 1310697 text records\n",
      "partition time: 0.05s\n",
      " all fits in buffer\n",
      "Read in 1310697 BUS records\n",
      "reading time 0.02s\n",
      "sorting time 0.4s\n",
      "writing time 0.03s\n"
     ]
    },
    {
     "name": "stderr",
     "output_type": "stream",
     "text": [
      "  8%|████████▉                                                                                                              | 8/106 [elapsed: 02:50 remaining: 35:26]"
     ]
    },
    {
     "name": "stdout",
     "output_type": "stream",
     "text": [
      "Found 775516 barcodes in the on-list\n",
      "Processed 83284 BUS records\n",
      "In on-list = 59976\n",
      "Corrected    = 5492\n",
      "Uncorrected  = 17816\n",
      "Read in 65468 BUS records\n",
      "Read in 65468 text records\n",
      " all fits in buffer\n",
      "Read in 65468 BUS records\n",
      "reading time 0s\n",
      "sorting time 0.01s\n",
      "writing time 0s\n",
      "Found 775516 barcodes in the on-list\n",
      "Processed 503058 BUS records\n",
      "In on-list = 205730\n",
      "Corrected    = 84765\n",
      "Uncorrected  = 212563\n",
      "Read in 290495 BUS records\n",
      "Read in 290495 text records\n",
      "partition time: 0.01s\n",
      " all fits in buffer\n",
      "Read in 290495 BUS records\n",
      "reading time 0.01s\n",
      "sorting time 0.2s\n",
      "writing time 0.02s\n"
     ]
    },
    {
     "name": "stderr",
     "output_type": "stream",
     "text": [
      "  8%|██████████                                                                                                             | 9/106 [elapsed: 03:07 remaining: 32:46]"
     ]
    },
    {
     "name": "stdout",
     "output_type": "stream",
     "text": [
      "Found 775516 barcodes in the on-list\n",
      "Processed 30479 BUS records\n",
      "In on-list = 15227\n",
      "Corrected    = 4489\n",
      "Uncorrected  = 10763\n",
      "Read in 19716 BUS records\n",
      "Read in 19716 text records\n",
      " all fits in buffer\n",
      "Read in 19716 BUS records\n",
      "reading time 0s\n",
      "sorting time 0s\n",
      "writing time 0s\n",
      "Found 775516 barcodes in the on-list\n",
      "Processed 957867 BUS records\n",
      "In on-list = 160149\n",
      "Corrected    = 238551\n",
      "Uncorrected  = 559167\n",
      "Read in 398700 BUS records\n",
      "Read in 398700 text records\n",
      "partition time: 0.02s\n",
      " all fits in buffer\n",
      "Read in 398700 BUS records\n",
      "reading time 0.01s\n",
      "sorting time 0.1s\n",
      "writing time 0.01s\n"
     ]
    },
    {
     "name": "stderr",
     "output_type": "stream",
     "text": [
      "  9%|███████████▏                                                                                                          | 10/106 [elapsed: 03:26 remaining: 31:27]"
     ]
    },
    {
     "name": "stdout",
     "output_type": "stream",
     "text": [
      "Found 775516 barcodes in the on-list\n",
      "Processed 26508 BUS records\n",
      "In on-list = 17820\n",
      "Corrected    = 2479\n",
      "Uncorrected  = 6209\n",
      "Read in 20299 BUS records\n",
      "Read in 20299 text records\n",
      " all fits in buffer\n",
      "Read in 20299 BUS records\n",
      "reading time 0s\n",
      "sorting time 0s\n",
      "writing time 0s\n",
      "Found 775516 barcodes in the on-list\n",
      "Processed 624442 BUS records\n",
      "In on-list = 105619\n",
      "Corrected    = 155137\n",
      "Uncorrected  = 363686\n",
      "Read in 260756 BUS records\n",
      "Read in 260756 text records\n",
      "partition time: 0.01s\n",
      " all fits in buffer\n",
      "Read in 260756 BUS records\n",
      "reading time 0.01s\n",
      "sorting time 0.54s\n",
      "writing time 0.01s\n"
     ]
    },
    {
     "name": "stderr",
     "output_type": "stream",
     "text": [
      " 10%|████████████▏                                                                                                         | 11/106 [elapsed: 03:43 remaining: 29:56]"
     ]
    },
    {
     "name": "stdout",
     "output_type": "stream",
     "text": [
      "Found 775516 barcodes in the on-list\n",
      "Processed 57918 BUS records\n",
      "In on-list = 48063\n",
      "Corrected    = 2560\n",
      "Uncorrected  = 7295\n",
      "Read in 50623 BUS records\n",
      "Read in 50623 text records\n",
      " all fits in buffer\n",
      "Read in 50623 BUS records\n",
      "reading time 0s\n",
      "sorting time 0.01s\n",
      "writing time 0s\n",
      "Found 775516 barcodes in the on-list\n",
      "Processed 1989651 BUS records\n",
      "In on-list = 445549\n",
      "Corrected    = 458317\n",
      "Uncorrected  = 1085785\n",
      "Read in 903866 BUS records\n",
      "Read in 903866 text records\n",
      "partition time: 0.04s\n",
      " all fits in buffer\n",
      "Read in 903866 BUS records\n",
      "reading time 0.01s\n",
      "sorting time 0.31s\n",
      "writing time 0.02s\n"
     ]
    },
    {
     "name": "stderr",
     "output_type": "stream",
     "text": [
      " 11%|█████████████▎                                                                                                        | 12/106 [elapsed: 04:05 remaining: 31:02]"
     ]
    },
    {
     "name": "stdout",
     "output_type": "stream",
     "text": [
      "Found 775516 barcodes in the on-list\n",
      "Processed 85814 BUS records\n",
      "In on-list = 62197\n",
      "Corrected    = 6078\n",
      "Uncorrected  = 17539\n",
      "Read in 68275 BUS records\n",
      "Read in 68275 text records\n",
      " all fits in buffer\n",
      "Read in 68275 BUS records\n",
      "reading time 0s\n",
      "sorting time 0s\n",
      "writing time 0s\n",
      "Found 775516 barcodes in the on-list\n",
      "Processed 6515342 BUS records\n",
      "In on-list = 1217611\n",
      "Corrected    = 1592413\n",
      "Uncorrected  = 3705318\n",
      "Read in 2810024 BUS records\n",
      "Read in 2810024 text records\n",
      "partition time: 0.11s\n",
      " all fits in buffer\n",
      "Read in 2810024 BUS records\n",
      "reading time 0.04s\n",
      "sorting time 0.64s\n",
      "writing time 0.07s\n"
     ]
    },
    {
     "name": "stderr",
     "output_type": "stream",
     "text": [
      " 12%|██████████████▍                                                                                                       | 13/106 [elapsed: 04:41 remaining: 38:19]"
     ]
    },
    {
     "name": "stdout",
     "output_type": "stream",
     "text": [
      "Found 775516 barcodes in the on-list\n",
      "Processed 7413 BUS records\n",
      "In on-list = 4570\n",
      "Corrected    = 787\n",
      "Uncorrected  = 2056\n",
      "Read in 5357 BUS records\n",
      "Read in 5357 text records\n",
      " all fits in buffer\n",
      "Read in 5357 BUS records\n",
      "reading time 0s\n",
      "sorting time 0s\n",
      "writing time 0s\n",
      "Found 775516 barcodes in the on-list\n",
      "Processed 1314057 BUS records\n",
      "In on-list = 173340\n",
      "Corrected    = 338714\n",
      "Uncorrected  = 802003\n",
      "Read in 512054 BUS records\n",
      "Read in 512054 text records\n",
      "partition time: 0.02s\n",
      " all fits in buffer\n",
      "Read in 512054 BUS records\n",
      "reading time 0.01s\n",
      "sorting time 0.45s\n",
      "writing time 0.02s\n"
     ]
    },
    {
     "name": "stderr",
     "output_type": "stream",
     "text": [
      " 13%|███████████████▌                                                                                                      | 14/106 [elapsed: 04:59 remaining: 35:05]"
     ]
    },
    {
     "name": "stdout",
     "output_type": "stream",
     "text": [
      "Found 775516 barcodes in the on-list\n",
      "Processed 30107 BUS records\n",
      "In on-list = 13478\n",
      "Corrected    = 4839\n",
      "Uncorrected  = 11790\n",
      "Read in 18317 BUS records\n",
      "Read in 18317 text records\n",
      " all fits in buffer\n",
      "Read in 18317 BUS records\n",
      "reading time 0s\n",
      "sorting time 0s\n",
      "writing time 0s\n",
      "Found 775516 barcodes in the on-list\n",
      "Processed 1253346 BUS records\n",
      "In on-list = 123785\n",
      "Corrected    = 338572\n",
      "Uncorrected  = 790989\n",
      "Read in 462357 BUS records\n",
      "Read in 462357 text records\n",
      "partition time: 0.02s\n",
      " all fits in buffer\n",
      "Read in 462357 BUS records\n",
      "reading time 0s\n",
      "sorting time 0.16s\n",
      "writing time 0.02s\n"
     ]
    },
    {
     "name": "stderr",
     "output_type": "stream",
     "text": [
      " 14%|████████████████▋                                                                                                     | 15/106 [elapsed: 05:18 remaining: 32:39]"
     ]
    },
    {
     "name": "stdout",
     "output_type": "stream",
     "text": [
      "Found 775516 barcodes in the on-list\n",
      "Processed 86550 BUS records\n",
      "In on-list = 51574\n",
      "Corrected    = 9198\n",
      "Uncorrected  = 25778\n",
      "Read in 60772 BUS records\n",
      "Read in 60772 text records\n",
      " all fits in buffer\n",
      "Read in 60772 BUS records\n",
      "reading time 0.01s\n",
      "sorting time 0.01s\n",
      "writing time 0s\n",
      "Found 775516 barcodes in the on-list\n",
      "Processed 3008397 BUS records\n",
      "In on-list = 590001\n",
      "Corrected    = 714538\n",
      "Uncorrected  = 1703858\n",
      "Read in 1304539 BUS records\n",
      "Read in 1304539 text records\n",
      "partition time: 0.05s\n",
      " all fits in buffer\n",
      "Read in 1304539 BUS records\n",
      "reading time 0.02s\n",
      "sorting time 0.64s\n",
      "writing time 0.03s\n"
     ]
    },
    {
     "name": "stderr",
     "output_type": "stream",
     "text": [
      " 15%|█████████████████▊                                                                                                    | 16/106 [elapsed: 05:43 remaining: 33:44]"
     ]
    },
    {
     "name": "stdout",
     "output_type": "stream",
     "text": [
      "Found 775516 barcodes in the on-list\n",
      "Processed 10802 BUS records\n",
      "In on-list = 6821\n",
      "Corrected    = 1162\n",
      "Uncorrected  = 2819\n",
      "Read in 7983 BUS records\n",
      "Read in 7983 text records\n",
      " all fits in buffer\n",
      "Read in 7983 BUS records\n",
      "reading time 0s\n",
      "sorting time 0s\n",
      "writing time 0s\n",
      "Found 775516 barcodes in the on-list\n",
      "Processed 550236 BUS records\n",
      "In on-list = 88687\n",
      "Corrected    = 128611\n",
      "Uncorrected  = 332938\n",
      "Read in 217298 BUS records\n",
      "Read in 217298 text records\n",
      "partition time: 0.01s\n",
      " all fits in buffer\n",
      "Read in 217298 BUS records\n",
      "reading time 0.01s\n",
      "sorting time 0.13s\n",
      "writing time 0.02s\n"
     ]
    },
    {
     "name": "stderr",
     "output_type": "stream",
     "text": [
      " 16%|██████████████████▉                                                                                                   | 17/106 [elapsed: 05:59 remaining: 30:40]"
     ]
    },
    {
     "name": "stdout",
     "output_type": "stream",
     "text": [
      "Found 775516 barcodes in the on-list\n",
      "Processed 6443 BUS records\n",
      "In on-list = 3428\n",
      "Corrected    = 945\n",
      "Uncorrected  = 2070\n",
      "Read in 4373 BUS records\n",
      "Read in 4373 text records\n",
      " all fits in buffer\n",
      "Read in 4373 BUS records\n",
      "reading time 0s\n",
      "sorting time 0s\n",
      "writing time 0s\n",
      "Found 775516 barcodes in the on-list\n",
      "Processed 1048870 BUS records\n",
      "In on-list = 152368\n",
      "Corrected    = 264559\n",
      "Uncorrected  = 631943\n",
      "Read in 416927 BUS records\n",
      "Read in 416927 text records\n",
      "partition time: 0.02s\n",
      " all fits in buffer\n",
      "Read in 416927 BUS records\n",
      "reading time 0.01s\n",
      "sorting time 0.22s\n",
      "writing time 0.01s\n"
     ]
    },
    {
     "name": "stderr",
     "output_type": "stream",
     "text": [
      " 17%|████████████████████                                                                                                  | 18/106 [elapsed: 06:17 remaining: 29:10]"
     ]
    },
    {
     "name": "stdout",
     "output_type": "stream",
     "text": [
      "Found 775516 barcodes in the on-list\n",
      "Processed 23694 BUS records\n",
      "In on-list = 17798\n",
      "Corrected    = 1326\n",
      "Uncorrected  = 4570\n",
      "Read in 19124 BUS records\n",
      "Read in 19124 text records\n",
      " all fits in buffer\n",
      "Read in 19124 BUS records\n",
      "reading time 0s\n",
      "sorting time 0s\n",
      "writing time 0s\n",
      "Found 775516 barcodes in the on-list\n",
      "Processed 597594 BUS records\n",
      "In on-list = 128489\n",
      "Corrected    = 134897\n",
      "Uncorrected  = 334208\n",
      "Read in 263386 BUS records\n",
      "Read in 263386 text records\n",
      "partition time: 0.01s\n",
      " all fits in buffer\n",
      "Read in 263386 BUS records\n",
      "reading time 0s\n",
      "sorting time 0.39s\n",
      "writing time 0s\n"
     ]
    },
    {
     "name": "stderr",
     "output_type": "stream",
     "text": [
      " 18%|█████████████████████▏                                                                                                | 19/106 [elapsed: 06:34 remaining: 27:19]"
     ]
    },
    {
     "name": "stdout",
     "output_type": "stream",
     "text": [
      "Found 775516 barcodes in the on-list\n",
      "Processed 60229 BUS records\n",
      "In on-list = 47704\n",
      "Corrected    = 3279\n",
      "Uncorrected  = 9246\n",
      "Read in 50983 BUS records\n",
      "Read in 50983 text records\n",
      " all fits in buffer\n",
      "Read in 50983 BUS records\n",
      "reading time 0s\n",
      "sorting time 0s\n",
      "writing time 0.01s\n",
      "Found 775516 barcodes in the on-list\n",
      "Processed 1614478 BUS records\n",
      "In on-list = 416500\n",
      "Corrected    = 350503\n",
      "Uncorrected  = 847475\n",
      "Read in 767003 BUS records\n",
      "Read in 767003 text records\n",
      "partition time: 0.04s\n",
      " all fits in buffer\n",
      "Read in 767003 BUS records\n",
      "reading time 0.01s\n",
      "sorting time 0.38s\n",
      "writing time 0.01s\n"
     ]
    },
    {
     "name": "stderr",
     "output_type": "stream",
     "text": [
      " 19%|██████████████████████▎                                                                                               | 20/106 [elapsed: 06:53 remaining: 27:25]"
     ]
    },
    {
     "name": "stdout",
     "output_type": "stream",
     "text": [
      "Found 775516 barcodes in the on-list\n",
      "Processed 53266 BUS records\n",
      "In on-list = 39310\n",
      "Corrected    = 3719\n",
      "Uncorrected  = 10237\n",
      "Read in 43029 BUS records\n",
      "Read in 43029 text records\n",
      " all fits in buffer\n",
      "Read in 43029 BUS records\n",
      "reading time 0s\n",
      "sorting time 0s\n",
      "writing time 0s\n",
      "Found 775516 barcodes in the on-list\n",
      "Processed 3758273 BUS records\n",
      "In on-list = 754765\n",
      "Corrected    = 883523\n",
      "Uncorrected  = 2119985\n",
      "Read in 1638288 BUS records\n",
      "Read in 1638288 text records\n",
      "partition time: 0.07s\n",
      " all fits in buffer\n",
      "Read in 1638288 BUS records\n",
      "reading time 0.03s\n",
      "sorting time 0.49s\n",
      "writing time 0.06s\n"
     ]
    },
    {
     "name": "stderr",
     "output_type": "stream",
     "text": [
      " 20%|███████████████████████▍                                                                                              | 21/106 [elapsed: 07:21 remaining: 30:33]"
     ]
    },
    {
     "name": "stdout",
     "output_type": "stream",
     "text": [
      "Found 775516 barcodes in the on-list\n",
      "Processed 109640 BUS records\n",
      "In on-list = 67557\n",
      "Corrected    = 10902\n",
      "Uncorrected  = 31181\n",
      "Read in 78459 BUS records\n",
      "Read in 78459 text records\n",
      " all fits in buffer\n",
      "Read in 78459 BUS records\n",
      "reading time 0s\n",
      "sorting time 0.01s\n",
      "writing time 0.01s\n",
      "Found 775516 barcodes in the on-list\n",
      "Processed 6743351 BUS records\n",
      "In on-list = 1361081\n",
      "Corrected    = 1589130\n",
      "Uncorrected  = 3793140\n",
      "Read in 2950211 BUS records\n",
      "Read in 2950211 text records\n",
      "partition time: 0.12s\n",
      " all fits in buffer\n",
      "Read in 2950211 BUS records\n",
      "reading time 0.04s\n",
      "sorting time 1.02s\n",
      "writing time 0.08s\n"
     ]
    },
    {
     "name": "stderr",
     "output_type": "stream",
     "text": [
      " 21%|████████████████████████▍                                                                                             | 22/106 [elapsed: 07:57 remaining: 36:16]"
     ]
    },
    {
     "name": "stdout",
     "output_type": "stream",
     "text": [
      "Found 775516 barcodes in the on-list\n",
      "Processed 86186 BUS records\n",
      "In on-list = 53470\n",
      "Corrected    = 8477\n",
      "Uncorrected  = 24239\n",
      "Read in 61947 BUS records\n",
      "Read in 61947 text records\n",
      " all fits in buffer\n",
      "Read in 61947 BUS records\n",
      "reading time 0s\n",
      "sorting time 0s\n",
      "writing time 0s\n",
      "Found 775516 barcodes in the on-list\n",
      "Processed 3847240 BUS records\n",
      "In on-list = 812513\n",
      "Corrected    = 900469\n",
      "Uncorrected  = 2134258\n",
      "Read in 1712982 BUS records\n",
      "Read in 1712982 text records\n",
      "partition time: 0.08s\n",
      " all fits in buffer\n",
      "Read in 1712982 BUS records\n",
      "reading time 0.02s\n",
      "sorting time 0.89s\n",
      "writing time 0.04s\n"
     ]
    },
    {
     "name": "stderr",
     "output_type": "stream",
     "text": [
      " 22%|█████████████████████████▌                                                                                            | 23/106 [elapsed: 08:24 remaining: 36:24]"
     ]
    },
    {
     "name": "stdout",
     "output_type": "stream",
     "text": [
      "Found 775516 barcodes in the on-list\n",
      "Processed 90373 BUS records\n",
      "In on-list = 59015\n",
      "Corrected    = 8380\n",
      "Uncorrected  = 22978\n",
      "Read in 67395 BUS records\n",
      "Read in 67395 text records\n",
      " all fits in buffer\n",
      "Read in 67395 BUS records\n",
      "reading time 0s\n",
      "sorting time 0s\n",
      "writing time 0.01s\n",
      "Found 775516 barcodes in the on-list\n",
      "Processed 4608644 BUS records\n",
      "In on-list = 932945\n",
      "Corrected    = 1115469\n",
      "Uncorrected  = 2560230\n",
      "Read in 2048414 BUS records\n",
      "Read in 2048414 text records\n",
      "partition time: 0.08s\n",
      " all fits in buffer\n",
      "Read in 2048414 BUS records\n",
      "reading time 0.04s\n",
      "sorting time 0.46s\n",
      "writing time 0.05s\n"
     ]
    },
    {
     "name": "stderr",
     "output_type": "stream",
     "text": [
      " 23%|██████████████████████████▋                                                                                           | 24/106 [elapsed: 08:53 remaining: 37:07]"
     ]
    },
    {
     "name": "stdout",
     "output_type": "stream",
     "text": [
      "Found 775516 barcodes in the on-list\n",
      "Processed 76057 BUS records\n",
      "In on-list = 45255\n",
      "Corrected    = 8300\n",
      "Uncorrected  = 22502\n",
      "Read in 53555 BUS records\n",
      "Read in 53555 text records\n",
      " all fits in buffer\n",
      "Read in 53555 BUS records\n",
      "reading time 0.02s\n",
      "sorting time 0s\n",
      "writing time 0s\n",
      "Found 775516 barcodes in the on-list\n",
      "Processed 2669638 BUS records\n",
      "In on-list = 382180\n",
      "Corrected    = 688796\n",
      "Uncorrected  = 1598662\n",
      "Read in 1070976 BUS records\n",
      "Read in 1070976 text records\n",
      "partition time: 0.04s\n",
      " all fits in buffer\n",
      "Read in 1070976 BUS records\n",
      "reading time 0.02s\n",
      "sorting time 0.98s\n",
      "writing time 0.02s\n"
     ]
    },
    {
     "name": "stderr",
     "output_type": "stream",
     "text": [
      " 24%|███████████████████████████▊                                                                                          | 25/106 [elapsed: 09:16 remaining: 35:09]"
     ]
    },
    {
     "name": "stdout",
     "output_type": "stream",
     "text": [
      "Found 775516 barcodes in the on-list\n",
      "Processed 26158 BUS records\n",
      "In on-list = 10657\n",
      "Corrected    = 4381\n",
      "Uncorrected  = 11120\n",
      "Read in 15038 BUS records\n",
      "Read in 15038 text records\n",
      " all fits in buffer\n",
      "Read in 15038 BUS records\n",
      "reading time 0s\n",
      "sorting time 0s\n",
      "writing time 0s\n",
      "Found 775516 barcodes in the on-list\n",
      "Processed 1456019 BUS records\n",
      "In on-list = 237016\n",
      "Corrected    = 360114\n",
      "Uncorrected  = 858889\n",
      "Read in 597130 BUS records\n",
      "Read in 597130 text records\n",
      "partition time: 0.03s\n",
      " all fits in buffer\n",
      "Read in 597130 BUS records\n",
      "reading time 0.01s\n",
      "sorting time 0.2s\n",
      "writing time 0.01s\n"
     ]
    },
    {
     "name": "stderr",
     "output_type": "stream",
     "text": [
      " 25%|████████████████████████████▉                                                                                         | 26/106 [elapsed: 09:35 remaining: 31:51]"
     ]
    },
    {
     "name": "stdout",
     "output_type": "stream",
     "text": [
      "Found 775516 barcodes in the on-list\n",
      "Processed 94708 BUS records\n",
      "In on-list = 61221\n",
      "Corrected    = 9939\n",
      "Uncorrected  = 23548\n",
      "Read in 71160 BUS records\n",
      "Read in 71160 text records\n",
      " all fits in buffer\n",
      "Read in 71160 BUS records\n",
      "reading time 0s\n",
      "sorting time 0.01s\n",
      "writing time 0.01s\n",
      "Found 775516 barcodes in the on-list\n",
      "Processed 3476851 BUS records\n",
      "In on-list = 556176\n",
      "Corrected    = 876848\n",
      "Uncorrected  = 2043827\n",
      "Read in 1433024 BUS records\n",
      "Read in 1433024 text records\n",
      "partition time: 0.06s\n",
      " all fits in buffer\n",
      "Read in 1433024 BUS records\n",
      "reading time 0.02s\n",
      "sorting time 0.65s\n",
      "writing time 0.04s\n"
     ]
    },
    {
     "name": "stderr",
     "output_type": "stream",
     "text": [
      " 25%|██████████████████████████████                                                                                        | 27/106 [elapsed: 10:01 remaining: 32:11]"
     ]
    },
    {
     "name": "stdout",
     "output_type": "stream",
     "text": [
      "Found 775516 barcodes in the on-list\n",
      "Processed 26564 BUS records\n",
      "In on-list = 7405\n",
      "Corrected    = 5800\n",
      "Uncorrected  = 13359\n",
      "Read in 13205 BUS records\n",
      "Read in 13205 text records\n",
      " all fits in buffer\n",
      "Read in 13205 BUS records\n",
      "reading time 0s\n",
      "sorting time 0.01s\n",
      "writing time 0s\n",
      "Found 775516 barcodes in the on-list\n",
      "Processed 1736392 BUS records\n",
      "In on-list = 167006\n",
      "Corrected    = 473797\n",
      "Uncorrected  = 1095589\n",
      "Read in 640803 BUS records\n",
      "Read in 640803 text records\n",
      "partition time: 0.03s\n",
      " all fits in buffer\n",
      "Read in 640803 BUS records\n",
      "reading time 0.01s\n",
      "sorting time 0.31s\n",
      "writing time 0.03s\n"
     ]
    },
    {
     "name": "stderr",
     "output_type": "stream",
     "text": [
      " 26%|███████████████████████████████▏                                                                                      | 28/106 [elapsed: 10:21 remaining: 29:54]"
     ]
    },
    {
     "name": "stdout",
     "output_type": "stream",
     "text": [
      "Found 775516 barcodes in the on-list\n",
      "Processed 30939 BUS records\n",
      "In on-list = 22344\n",
      "Corrected    = 2415\n",
      "Uncorrected  = 6180\n",
      "Read in 24759 BUS records\n",
      "Read in 24759 text records\n",
      " all fits in buffer\n",
      "Read in 24759 BUS records\n",
      "reading time 0s\n",
      "sorting time 0s\n",
      "writing time 0s\n",
      "Found 775516 barcodes in the on-list\n",
      "Processed 800636 BUS records\n",
      "In on-list = 93922\n",
      "Corrected    = 211455\n",
      "Uncorrected  = 495259\n",
      "Read in 305377 BUS records\n",
      "Read in 305377 text records\n",
      "partition time: 0.01s\n",
      " all fits in buffer\n",
      "Read in 305377 BUS records\n",
      "reading time 0s\n",
      "sorting time 0.58s\n",
      "writing time 0s\n"
     ]
    },
    {
     "name": "stderr",
     "output_type": "stream",
     "text": [
      " 27%|████████████████████████████████▎                                                                                     | 29/106 [elapsed: 10:38 remaining: 27:18]"
     ]
    },
    {
     "name": "stdout",
     "output_type": "stream",
     "text": [
      "Found 775516 barcodes in the on-list\n",
      "Processed 75507 BUS records\n",
      "In on-list = 53865\n",
      "Corrected    = 5656\n",
      "Uncorrected  = 15986\n",
      "Read in 59521 BUS records\n",
      "Read in 59521 text records\n",
      " all fits in buffer\n",
      "Read in 59521 BUS records\n",
      "reading time 0s\n",
      "sorting time 0.01s\n",
      "writing time 0s\n",
      "Found 775516 barcodes in the on-list\n",
      "Processed 3252164 BUS records\n",
      "In on-list = 755178\n",
      "Corrected    = 744278\n",
      "Uncorrected  = 1752708\n",
      "Read in 1499456 BUS records\n",
      "Read in 1499456 text records\n",
      "partition time: 0.06s\n",
      " all fits in buffer\n",
      "Read in 1499456 BUS records\n",
      "reading time 0.03s\n",
      "sorting time 0.37s\n",
      "writing time 0.05s\n"
     ]
    },
    {
     "name": "stderr",
     "output_type": "stream",
     "text": [
      " 28%|█████████████████████████████████▍                                                                                    | 30/106 [elapsed: 11:03 remaining: 28:28]"
     ]
    },
    {
     "name": "stdout",
     "output_type": "stream",
     "text": [
      "Found 775516 barcodes in the on-list\n",
      "Processed 68072 BUS records\n",
      "In on-list = 33426\n",
      "Corrected    = 9924\n",
      "Uncorrected  = 24722\n",
      "Read in 43350 BUS records\n",
      "Read in 43350 text records\n",
      " all fits in buffer\n",
      "Read in 43350 BUS records\n",
      "reading time 0s\n",
      "sorting time 0s\n",
      "writing time 0.01s\n",
      "Found 775516 barcodes in the on-list\n",
      "Processed 2223455 BUS records\n",
      "In on-list = 399568\n",
      "Corrected    = 540866\n",
      "Uncorrected  = 1283021\n",
      "Read in 940434 BUS records\n",
      "Read in 940434 text records\n",
      "partition time: 0.04s\n",
      " all fits in buffer\n",
      "Read in 940434 BUS records\n",
      "reading time 0.02s\n",
      "sorting time 0.35s\n",
      "writing time 0.03s\n"
     ]
    },
    {
     "name": "stderr",
     "output_type": "stream",
     "text": [
      " 29%|██████████████████████████████████▌                                                                                   | 31/106 [elapsed: 11:25 remaining: 27:51]"
     ]
    },
    {
     "name": "stdout",
     "output_type": "stream",
     "text": [
      "Found 775516 barcodes in the on-list\n",
      "Processed 45240 BUS records\n",
      "In on-list = 39837\n",
      "Corrected    = 1321\n",
      "Uncorrected  = 4082\n",
      "Read in 41158 BUS records\n",
      "Read in 41158 text records\n",
      " all fits in buffer\n",
      "Read in 41158 BUS records\n",
      "reading time 0s\n",
      "sorting time 0s\n",
      "writing time 0s\n",
      "Found 775516 barcodes in the on-list\n",
      "Processed 953593 BUS records\n",
      "In on-list = 169062\n",
      "Corrected    = 241995\n",
      "Uncorrected  = 542536\n",
      "Read in 411057 BUS records\n",
      "Read in 411057 text records\n",
      "partition time: 0.02s\n",
      " all fits in buffer\n",
      "Read in 411057 BUS records\n",
      "reading time 0.01s\n",
      "sorting time 0.1s\n",
      "writing time 0s\n"
     ]
    },
    {
     "name": "stderr",
     "output_type": "stream",
     "text": [
      " 30%|███████████████████████████████████▌                                                                                  | 32/106 [elapsed: 11:42 remaining: 25:27]"
     ]
    },
    {
     "name": "stdout",
     "output_type": "stream",
     "text": [
      "Found 775516 barcodes in the on-list\n",
      "Processed 12922 BUS records\n",
      "In on-list = 6741\n",
      "Corrected    = 1706\n",
      "Uncorrected  = 4475\n",
      "Read in 8447 BUS records\n",
      "Read in 8447 text records\n",
      " all fits in buffer\n",
      "Read in 8447 BUS records\n",
      "reading time 0s\n",
      "sorting time 0s\n",
      "writing time 0s\n",
      "Found 775516 barcodes in the on-list\n",
      "Processed 1366866 BUS records\n",
      "In on-list = 185949\n",
      "Corrected    = 361470\n",
      "Uncorrected  = 819447\n",
      "Read in 547419 BUS records\n",
      "Read in 547419 text records\n",
      "partition time: 0.02s\n",
      " all fits in buffer\n",
      "Read in 547419 BUS records\n",
      "reading time 0s\n",
      "sorting time 0.41s\n",
      "writing time 0.02s\n"
     ]
    },
    {
     "name": "stderr",
     "output_type": "stream",
     "text": [
      " 31%|████████████████████████████████████▋                                                                                 | 33/106 [elapsed: 12:00 remaining: 24:15]"
     ]
    },
    {
     "name": "stdout",
     "output_type": "stream",
     "text": [
      "Found 775516 barcodes in the on-list\n",
      "Processed 83507 BUS records\n",
      "In on-list = 56620\n",
      "Corrected    = 7504\n",
      "Uncorrected  = 19383\n",
      "Read in 64124 BUS records\n",
      "Read in 64124 text records\n",
      " all fits in buffer\n",
      "Read in 64124 BUS records\n",
      "reading time 0s\n",
      "sorting time 0s\n",
      "writing time 0s\n",
      "Found 775516 barcodes in the on-list\n",
      "Processed 1026777 BUS records\n",
      "In on-list = 203867\n",
      "Corrected    = 242677\n",
      "Uncorrected  = 580233\n",
      "Read in 446544 BUS records\n",
      "Read in 446544 text records\n",
      "partition time: 0.02s\n",
      " all fits in buffer\n",
      "Read in 446544 BUS records\n",
      "reading time 0.01s\n",
      "sorting time 0.49s\n",
      "writing time 0.02s\n"
     ]
    },
    {
     "name": "stderr",
     "output_type": "stream",
     "text": [
      " 32%|█████████████████████████████████████▊                                                                                | 34/106 [elapsed: 12:18 remaining: 23:14]"
     ]
    },
    {
     "name": "stdout",
     "output_type": "stream",
     "text": [
      "Found 775516 barcodes in the on-list\n",
      "Processed 73817 BUS records\n",
      "In on-list = 43493\n",
      "Corrected    = 8265\n",
      "Uncorrected  = 22059\n",
      "Read in 51758 BUS records\n",
      "Read in 51758 text records\n",
      " all fits in buffer\n",
      "Read in 51758 BUS records\n",
      "reading time 0s\n",
      "sorting time 0s\n",
      "writing time 0s\n",
      "Found 775516 barcodes in the on-list\n",
      "Processed 4468571 BUS records\n",
      "In on-list = 773770\n",
      "Corrected    = 1106379\n",
      "Uncorrected  = 2588422\n",
      "Read in 1880149 BUS records\n",
      "Read in 1880149 text records\n",
      "partition time: 0.08s\n",
      " all fits in buffer\n",
      "Read in 1880149 BUS records\n",
      "reading time 0.03s\n",
      "sorting time 0.49s\n",
      "writing time 0.05s\n"
     ]
    },
    {
     "name": "stderr",
     "output_type": "stream",
     "text": [
      " 33%|██████████████████████████████████████▉                                                                               | 35/106 [elapsed: 12:47 remaining: 26:09]"
     ]
    },
    {
     "name": "stdout",
     "output_type": "stream",
     "text": [
      "Found 775516 barcodes in the on-list\n",
      "Processed 51435 BUS records\n",
      "In on-list = 33622\n",
      "Corrected    = 5101\n",
      "Uncorrected  = 12712\n",
      "Read in 38723 BUS records\n",
      "Read in 38723 text records\n",
      " all fits in buffer\n",
      "Read in 38723 BUS records\n",
      "reading time 0s\n",
      "sorting time 0s\n",
      "writing time 0s\n",
      "Found 775516 barcodes in the on-list\n",
      "Processed 1146768 BUS records\n",
      "In on-list = 160197\n",
      "Corrected    = 294818\n",
      "Uncorrected  = 691753\n",
      "Read in 455015 BUS records\n",
      "Read in 455015 text records\n",
      "partition time: 0.02s\n",
      " all fits in buffer\n",
      "Read in 455015 BUS records\n",
      "reading time 0.01s\n",
      "sorting time 0.37s\n",
      "writing time 0.01s\n"
     ]
    },
    {
     "name": "stderr",
     "output_type": "stream",
     "text": [
      " 34%|████████████████████████████████████████                                                                              | 36/106 [elapsed: 13:04 remaining: 24:13]"
     ]
    },
    {
     "name": "stdout",
     "output_type": "stream",
     "text": [
      "Found 775516 barcodes in the on-list\n",
      "Processed 34698 BUS records\n",
      "In on-list = 9485\n",
      "Corrected    = 7265\n",
      "Uncorrected  = 17948\n",
      "Read in 16750 BUS records\n",
      "Read in 16750 text records\n",
      " all fits in buffer\n",
      "Read in 16750 BUS records\n",
      "reading time 0s\n",
      "sorting time 0s\n",
      "writing time 0s\n",
      "Found 775516 barcodes in the on-list\n",
      "Processed 2069556 BUS records\n",
      "In on-list = 200560\n",
      "Corrected    = 568570\n",
      "Uncorrected  = 1300426\n",
      "Read in 769130 BUS records\n",
      "Read in 769130 text records\n",
      "partition time: 0.03s\n",
      " all fits in buffer\n",
      "Read in 769130 BUS records\n",
      "reading time 0.01s\n",
      "sorting time 0.53s\n",
      "writing time 0.02s\n"
     ]
    },
    {
     "name": "stderr",
     "output_type": "stream",
     "text": [
      " 35%|█████████████████████████████████████████▏                                                                            | 37/106 [elapsed: 13:25 remaining: 23:53]"
     ]
    },
    {
     "name": "stdout",
     "output_type": "stream",
     "text": [
      "Found 775516 barcodes in the on-list\n",
      "Processed 46963 BUS records\n",
      "In on-list = 26567\n",
      "Corrected    = 5428\n",
      "Uncorrected  = 14968\n",
      "Read in 31995 BUS records\n",
      "Read in 31995 text records\n",
      " all fits in buffer\n",
      "Read in 31995 BUS records\n",
      "reading time 0s\n",
      "sorting time 0s\n",
      "writing time 0s\n",
      "Found 775516 barcodes in the on-list\n",
      "Processed 2867626 BUS records\n",
      "In on-list = 433949\n",
      "Corrected    = 730882\n",
      "Uncorrected  = 1702795\n",
      "Read in 1164831 BUS records\n",
      "Read in 1164831 text records\n",
      "partition time: 0.05s\n",
      " all fits in buffer\n",
      "Read in 1164831 BUS records\n",
      "reading time 0.01s\n",
      "sorting time 0.37s\n",
      "writing time 0.06s\n"
     ]
    },
    {
     "name": "stderr",
     "output_type": "stream",
     "text": [
      " 36%|██████████████████████████████████████████▎                                                                           | 38/106 [elapsed: 13:48 remaining: 24:17]"
     ]
    },
    {
     "name": "stdout",
     "output_type": "stream",
     "text": [
      "Found 775516 barcodes in the on-list\n",
      "Processed 17569 BUS records\n",
      "In on-list = 13064\n",
      "Corrected    = 1297\n",
      "Uncorrected  = 3208\n",
      "Read in 14361 BUS records\n",
      "Read in 14361 text records\n",
      " all fits in buffer\n",
      "Read in 14361 BUS records\n",
      "reading time 0s\n",
      "sorting time 0s\n",
      "writing time 0s\n",
      "Found 775516 barcodes in the on-list\n",
      "Processed 127279 BUS records\n",
      "In on-list = 39812\n",
      "Corrected    = 27699\n",
      "Uncorrected  = 59768\n",
      "Read in 67511 BUS records\n",
      "Read in 67511 text records\n",
      " all fits in buffer\n",
      "Read in 67511 BUS records\n",
      "reading time 0s\n",
      "sorting time 0.01s\n",
      "writing time 0.01s\n"
     ]
    },
    {
     "name": "stderr",
     "output_type": "stream",
     "text": [
      " 37%|███████████████████████████████████████████▍                                                                          | 39/106 [elapsed: 14:02 remaining: 21:27]"
     ]
    },
    {
     "name": "stdout",
     "output_type": "stream",
     "text": [
      "Found 775516 barcodes in the on-list\n",
      "Processed 60556 BUS records\n",
      "In on-list = 35962\n",
      "Corrected    = 6910\n",
      "Uncorrected  = 17684\n",
      "Read in 42872 BUS records\n",
      "Read in 42872 text records\n",
      " all fits in buffer\n",
      "Read in 42872 BUS records\n",
      "reading time 0s\n",
      "sorting time 0.01s\n",
      "writing time 0s\n",
      "Found 775516 barcodes in the on-list\n",
      "Processed 1808145 BUS records\n",
      "In on-list = 247246\n",
      "Corrected    = 468651\n",
      "Uncorrected  = 1092248\n",
      "Read in 715897 BUS records\n",
      "Read in 715897 text records\n",
      "partition time: 0.03s\n",
      " all fits in buffer\n",
      "Read in 715897 BUS records\n",
      "reading time 0.01s\n",
      "sorting time 0.29s\n",
      "writing time 0.02s\n"
     ]
    },
    {
     "name": "stderr",
     "output_type": "stream",
     "text": [
      " 38%|████████████████████████████████████████████▌                                                                         | 40/106 [elapsed: 14:22 remaining: 21:20]"
     ]
    },
    {
     "name": "stdout",
     "output_type": "stream",
     "text": [
      "Found 775516 barcodes in the on-list\n",
      "Processed 64474 BUS records\n",
      "In on-list = 26800\n",
      "Corrected    = 10732\n",
      "Uncorrected  = 26942\n",
      "Read in 37532 BUS records\n",
      "Read in 37532 text records\n",
      " all fits in buffer\n",
      "Read in 37532 BUS records\n",
      "reading time 0s\n",
      "sorting time 0s\n",
      "writing time 0s\n",
      "Found 775516 barcodes in the on-list\n",
      "Processed 2298979 BUS records\n",
      "In on-list = 371824\n",
      "Corrected    = 575354\n",
      "Uncorrected  = 1351801\n",
      "Read in 947178 BUS records\n",
      "Read in 947178 text records\n",
      "partition time: 0.04s\n",
      " all fits in buffer\n",
      "Read in 947178 BUS records\n",
      "reading time 0.02s\n",
      "sorting time 0.46s\n",
      "writing time 0.02s\n"
     ]
    },
    {
     "name": "stderr",
     "output_type": "stream",
     "text": [
      " 39%|█████████████████████████████████████████████▋                                                                        | 41/106 [elapsed: 14:44 remaining: 21:42]"
     ]
    },
    {
     "name": "stdout",
     "output_type": "stream",
     "text": [
      "Found 775516 barcodes in the on-list\n",
      "Processed 30002 BUS records\n",
      "In on-list = 15248\n",
      "Corrected    = 3913\n",
      "Uncorrected  = 10841\n",
      "Read in 19161 BUS records\n",
      "Read in 19161 text records\n",
      " all fits in buffer\n",
      "Read in 19161 BUS records\n",
      "reading time 0s\n",
      "sorting time 0s\n",
      "writing time 0s\n",
      "Found 775516 barcodes in the on-list\n",
      "Processed 733656 BUS records\n",
      "In on-list = 90152\n",
      "Corrected    = 188564\n",
      "Uncorrected  = 454940\n",
      "Read in 278716 BUS records\n",
      "Read in 278716 text records\n",
      "partition time: 0.01s\n",
      " all fits in buffer\n",
      "Read in 278716 BUS records\n",
      "reading time 0s\n",
      "sorting time 0.07s\n",
      "writing time 0.01s\n"
     ]
    },
    {
     "name": "stderr",
     "output_type": "stream",
     "text": [
      " 40%|██████████████████████████████████████████████▊                                                                       | 42/106 [elapsed: 14:59 remaining: 20:02]"
     ]
    },
    {
     "name": "stdout",
     "output_type": "stream",
     "text": [
      "Found 775516 barcodes in the on-list\n",
      "Processed 14977 BUS records\n",
      "In on-list = 6120\n",
      "Corrected    = 2548\n",
      "Uncorrected  = 6309\n",
      "Read in 8668 BUS records\n",
      "Read in 8668 text records\n",
      " all fits in buffer\n",
      "Read in 8668 BUS records\n",
      "reading time 0s\n",
      "sorting time 0s\n",
      "writing time 0s\n",
      "Found 775516 barcodes in the on-list\n",
      "Processed 2878850 BUS records\n",
      "In on-list = 310276\n",
      "Corrected    = 762407\n",
      "Uncorrected  = 1806167\n",
      "Read in 1072683 BUS records\n",
      "Read in 1072683 text records\n",
      "partition time: 0.06s\n",
      " all fits in buffer\n",
      "Read in 1072683 BUS records\n",
      "reading time 0.05s\n",
      "sorting time 0.27s\n",
      "writing time 0.03s\n"
     ]
    },
    {
     "name": "stderr",
     "output_type": "stream",
     "text": [
      " 41%|███████████████████████████████████████████████▊                                                                      | 43/106 [elapsed: 15:22 remaining: 21:01]"
     ]
    },
    {
     "name": "stdout",
     "output_type": "stream",
     "text": [
      "Found 775516 barcodes in the on-list\n",
      "Processed 76194 BUS records\n",
      "In on-list = 69269\n",
      "Corrected    = 1817\n",
      "Uncorrected  = 5108\n",
      "Read in 71086 BUS records\n",
      "Read in 71086 text records\n",
      " all fits in buffer\n",
      "Read in 71086 BUS records\n",
      "reading time 0s\n",
      "sorting time 0.01s\n",
      "writing time 0s\n",
      "Found 775516 barcodes in the on-list\n",
      "Processed 98065 BUS records\n",
      "In on-list = 55925\n",
      "Corrected    = 13277\n",
      "Uncorrected  = 28863\n",
      "Read in 69202 BUS records\n",
      "Read in 69202 text records\n",
      " all fits in buffer\n",
      "Read in 69202 BUS records\n",
      "reading time 0s\n",
      "sorting time 0.01s\n",
      "writing time 0s\n"
     ]
    },
    {
     "name": "stderr",
     "output_type": "stream",
     "text": [
      " 42%|████████████████████████████████████████████████▉                                                                     | 44/106 [elapsed: 15:36 remaining: 18:49]"
     ]
    },
    {
     "name": "stdout",
     "output_type": "stream",
     "text": [
      "Found 775516 barcodes in the on-list\n",
      "Processed 37910 BUS records\n",
      "In on-list = 27928\n",
      "Corrected    = 2570\n",
      "Uncorrected  = 7412\n",
      "Read in 30498 BUS records\n",
      "Read in 30498 text records\n",
      " all fits in buffer\n",
      "Read in 30498 BUS records\n",
      "reading time 0s\n",
      "sorting time 0.01s\n",
      "writing time 0s\n",
      "Found 775516 barcodes in the on-list\n",
      "Processed 1289290 BUS records\n",
      "In on-list = 213371\n",
      "Corrected    = 313169\n",
      "Uncorrected  = 762750\n",
      "Read in 526540 BUS records\n",
      "Read in 526540 text records\n",
      "partition time: 0.02s\n",
      " all fits in buffer\n",
      "Read in 526540 BUS records\n",
      "reading time 0.01s\n",
      "sorting time 0.38s\n",
      "writing time 0.02s\n"
     ]
    },
    {
     "name": "stderr",
     "output_type": "stream",
     "text": [
      " 42%|██████████████████████████████████████████████████                                                                    | 45/106 [elapsed: 15:54 remaining: 18:19]"
     ]
    },
    {
     "name": "stdout",
     "output_type": "stream",
     "text": [
      "Found 775516 barcodes in the on-list\n",
      "Processed 52727 BUS records\n",
      "In on-list = 40946\n",
      "Corrected    = 3193\n",
      "Uncorrected  = 8588\n",
      "Read in 44139 BUS records\n",
      "Read in 44139 text records\n",
      " all fits in buffer\n",
      "Read in 44139 BUS records\n",
      "reading time 0s\n",
      "sorting time 0s\n",
      "writing time 0s\n",
      "Found 775516 barcodes in the on-list\n",
      "Processed 3989324 BUS records\n",
      "In on-list = 1033190\n",
      "Corrected    = 872059\n",
      "Uncorrected  = 2084075\n",
      "Read in 1905249 BUS records\n",
      "Read in 1905249 text records\n",
      "partition time: 0.08s\n",
      " all fits in buffer\n",
      "Read in 1905249 BUS records\n",
      "reading time 0.03s\n",
      "sorting time 0.73s\n",
      "writing time 0.06s\n"
     ]
    },
    {
     "name": "stderr",
     "output_type": "stream",
     "text": [
      " 43%|███████████████████████████████████████████████████▏                                                                  | 46/106 [elapsed: 16:22 remaining: 20:59]"
     ]
    },
    {
     "name": "stdout",
     "output_type": "stream",
     "text": [
      "Found 775516 barcodes in the on-list\n",
      "Processed 60278 BUS records\n",
      "In on-list = 48681\n",
      "Corrected    = 2838\n",
      "Uncorrected  = 8759\n",
      "Read in 51519 BUS records\n",
      "Read in 51519 text records\n",
      " all fits in buffer\n",
      "Read in 51519 BUS records\n",
      "reading time 0.01s\n",
      "sorting time 0.01s\n",
      "writing time 0s\n",
      "Found 775516 barcodes in the on-list\n",
      "Processed 6681196 BUS records\n",
      "In on-list = 1790198\n",
      "Corrected    = 1496468\n",
      "Uncorrected  = 3394530\n",
      "Read in 3286666 BUS records\n",
      "Read in 3286666 text records\n",
      "partition time: 0.14s\n",
      " all fits in buffer\n",
      "Read in 3286666 BUS records\n",
      "reading time 0.05s\n",
      "sorting time 0.81s\n",
      "writing time 0.2s\n"
     ]
    },
    {
     "name": "stderr",
     "output_type": "stream",
     "text": [
      " 44%|████████████████████████████████████████████████████▎                                                                 | 47/106 [elapsed: 16:57 remaining: 24:54]"
     ]
    },
    {
     "name": "stdout",
     "output_type": "stream",
     "text": [
      "Found 775516 barcodes in the on-list\n",
      "Processed 10686 BUS records\n",
      "In on-list = 5843\n",
      "Corrected    = 1599\n",
      "Uncorrected  = 3244\n",
      "Read in 7442 BUS records\n",
      "Read in 7442 text records\n",
      " all fits in buffer\n",
      "Read in 7442 BUS records\n",
      "reading time 0s\n",
      "sorting time 0s\n",
      "writing time 0s\n",
      "Found 775516 barcodes in the on-list\n",
      "Processed 14059489 BUS records\n",
      "In on-list = 1129712\n",
      "Corrected    = 3965097\n",
      "Uncorrected  = 8964680\n",
      "Read in 5094809 BUS records\n",
      "Read in 5094809 text records\n",
      "partition time: 0.21s\n",
      " all fits in buffer\n",
      "Read in 5094809 BUS records\n",
      "reading time 0.07s\n",
      "sorting time 1.42s\n",
      "writing time 0.11s\n"
     ]
    },
    {
     "name": "stderr",
     "output_type": "stream",
     "text": [
      " 45%|█████████████████████████████████████████████████████▍                                                                | 48/106 [elapsed: 17:54 remaining: 33:38]"
     ]
    },
    {
     "name": "stdout",
     "output_type": "stream",
     "text": [
      "Found 775516 barcodes in the on-list\n",
      "Processed 29914 BUS records\n",
      "In on-list = 18453\n",
      "Corrected    = 3106\n",
      "Uncorrected  = 8355\n",
      "Read in 21559 BUS records\n",
      "Read in 21559 text records\n",
      " all fits in buffer\n",
      "Read in 21559 BUS records\n",
      "reading time 0s\n",
      "sorting time 0s\n",
      "writing time 0s\n",
      "Found 775516 barcodes in the on-list\n",
      "Processed 1274933 BUS records\n",
      "In on-list = 213180\n",
      "Corrected    = 308750\n",
      "Uncorrected  = 753003\n",
      "Read in 521930 BUS records\n",
      "Read in 521930 text records\n",
      "partition time: 0.02s\n",
      " all fits in buffer\n",
      "Read in 521930 BUS records\n",
      "reading time 0.01s\n",
      "sorting time 0.13s\n",
      "writing time 0.02s\n"
     ]
    },
    {
     "name": "stderr",
     "output_type": "stream",
     "text": [
      " 46%|██████████████████████████████████████████████████████▌                                                               | 49/106 [elapsed: 18:12 remaining: 28:16]"
     ]
    },
    {
     "name": "stdout",
     "output_type": "stream",
     "text": [
      "Found 775516 barcodes in the on-list\n",
      "Processed 71149 BUS records\n",
      "In on-list = 38257\n",
      "Corrected    = 8934\n",
      "Uncorrected  = 23958\n",
      "Read in 47191 BUS records\n",
      "Read in 47191 text records\n",
      " all fits in buffer\n",
      "Read in 47191 BUS records\n",
      "reading time 0s\n",
      "sorting time 0s\n",
      "writing time 0s\n",
      "Found 775516 barcodes in the on-list\n",
      "Processed 3200174 BUS records\n",
      "In on-list = 593241\n",
      "Corrected    = 783413\n",
      "Uncorrected  = 1823520\n",
      "Read in 1376654 BUS records\n",
      "Read in 1376654 text records\n",
      "partition time: 0.06s\n",
      " all fits in buffer\n",
      "Read in 1376654 BUS records\n",
      "reading time 0.03s\n",
      "sorting time 0.38s\n",
      "writing time 0.04s\n"
     ]
    },
    {
     "name": "stderr",
     "output_type": "stream",
     "text": [
      " 47%|███████████████████████████████████████████████████████▋                                                              | 50/106 [elapsed: 18:36 remaining: 26:07]"
     ]
    },
    {
     "name": "stdout",
     "output_type": "stream",
     "text": [
      "Found 775516 barcodes in the on-list\n",
      "Processed 67446 BUS records\n",
      "In on-list = 38482\n",
      "Corrected    = 7840\n",
      "Uncorrected  = 21124\n",
      "Read in 46322 BUS records\n",
      "Read in 46322 text records\n",
      " all fits in buffer\n",
      "Read in 46322 BUS records\n",
      "reading time 0s\n",
      "sorting time 0s\n",
      "writing time 0s\n",
      "Found 775516 barcodes in the on-list\n",
      "Processed 3364646 BUS records\n",
      "In on-list = 568929\n",
      "Corrected    = 845067\n",
      "Uncorrected  = 1950650\n",
      "Read in 1413996 BUS records\n",
      "Read in 1413996 text records\n",
      "partition time: 0.06s\n",
      " all fits in buffer\n",
      "Read in 1413996 BUS records\n",
      "reading time 0.02s\n",
      "sorting time 0.37s\n",
      "writing time 0.03s\n"
     ]
    },
    {
     "name": "stderr",
     "output_type": "stream",
     "text": [
      " 48%|████████████████████████████████████████████████████████▊                                                             | 51/106 [elapsed: 19:00 remaining: 24:37]"
     ]
    },
    {
     "name": "stdout",
     "output_type": "stream",
     "text": [
      "Found 775516 barcodes in the on-list\n",
      "Processed 6238 BUS records\n",
      "In on-list = 3613\n",
      "Corrected    = 804\n",
      "Uncorrected  = 1821\n",
      "Read in 4417 BUS records\n",
      "Read in 4417 text records\n",
      " all fits in buffer\n",
      "Read in 4417 BUS records\n",
      "reading time 0s\n",
      "sorting time 0s\n",
      "writing time 0s\n",
      "Found 775516 barcodes in the on-list\n",
      "Processed 810118 BUS records\n",
      "In on-list = 106388\n",
      "Corrected    = 211602\n",
      "Uncorrected  = 492128\n",
      "Read in 317990 BUS records\n",
      "Read in 317990 text records\n",
      "partition time: 0.02s\n",
      " all fits in buffer\n",
      "Read in 317990 BUS records\n",
      "reading time 0s\n",
      "sorting time 0.09s\n",
      "writing time 0s\n"
     ]
    },
    {
     "name": "stderr",
     "output_type": "stream",
     "text": [
      " 49%|█████████████████████████████████████████████████████████▉                                                            | 52/106 [elapsed: 19:16 remaining: 21:12]"
     ]
    },
    {
     "name": "stdout",
     "output_type": "stream",
     "text": [
      "Found 775516 barcodes in the on-list\n",
      "Processed 25649 BUS records\n",
      "In on-list = 8106\n",
      "Corrected    = 5145\n",
      "Uncorrected  = 12398\n",
      "Read in 13251 BUS records\n",
      "Read in 13251 text records\n",
      " all fits in buffer\n",
      "Read in 13251 BUS records\n",
      "reading time 0s\n",
      "sorting time 0s\n",
      "writing time 0s\n",
      "Found 775516 barcodes in the on-list\n",
      "Processed 1688590 BUS records\n",
      "In on-list = 174978\n",
      "Corrected    = 457759\n",
      "Uncorrected  = 1055853\n",
      "Read in 632737 BUS records\n",
      "Read in 632737 text records\n",
      "partition time: 0.03s\n",
      " all fits in buffer\n",
      "Read in 632737 BUS records\n",
      "reading time 0.01s\n",
      "sorting time 0.2s\n",
      "writing time 0.01s\n"
     ]
    },
    {
     "name": "stderr",
     "output_type": "stream",
     "text": [
      " 50%|███████████████████████████████████████████████████████████                                                           | 53/106 [elapsed: 19:36 remaining: 19:43]"
     ]
    },
    {
     "name": "stdout",
     "output_type": "stream",
     "text": [
      "Found 775516 barcodes in the on-list\n",
      "Processed 32354 BUS records\n",
      "In on-list = 22740\n",
      "Corrected    = 2474\n",
      "Uncorrected  = 7140\n",
      "Read in 25214 BUS records\n",
      "Read in 25214 text records\n",
      " all fits in buffer\n",
      "Read in 25214 BUS records\n",
      "reading time 0s\n",
      "sorting time 0s\n",
      "writing time 0s\n",
      "Found 775516 barcodes in the on-list\n",
      "Processed 4510803 BUS records\n",
      "In on-list = 486004\n",
      "Corrected    = 1202787\n",
      "Uncorrected  = 2822012\n",
      "Read in 1688791 BUS records\n",
      "Read in 1688791 text records\n",
      "partition time: 0.07s\n",
      " all fits in buffer\n",
      "Read in 1688791 BUS records\n",
      "reading time 0.03s\n",
      "sorting time 0.37s\n",
      "writing time 0.03s\n"
     ]
    },
    {
     "name": "stderr",
     "output_type": "stream",
     "text": [
      " 51%|████████████████████████████████████████████████████████████                                                          | 54/106 [elapsed: 20:03 remaining: 20:43]"
     ]
    },
    {
     "name": "stdout",
     "output_type": "stream",
     "text": [
      "Found 775516 barcodes in the on-list\n",
      "Processed 27566 BUS records\n",
      "In on-list = 16851\n",
      "Corrected    = 2999\n",
      "Uncorrected  = 7716\n",
      "Read in 19850 BUS records\n",
      "Read in 19850 text records\n",
      " all fits in buffer\n",
      "Read in 19850 BUS records\n",
      "reading time 0s\n",
      "sorting time 0s\n",
      "writing time 0s\n",
      "Found 775516 barcodes in the on-list\n",
      "Processed 672786 BUS records\n",
      "In on-list = 76800\n",
      "Corrected    = 175706\n",
      "Uncorrected  = 420280\n",
      "Read in 252506 BUS records\n",
      "Read in 252506 text records\n",
      "partition time: 0.01s\n",
      " all fits in buffer\n",
      "Read in 252506 BUS records\n",
      "reading time 0.01s\n",
      "sorting time 0.34s\n",
      "writing time 0.01s\n"
     ]
    },
    {
     "name": "stderr",
     "output_type": "stream",
     "text": [
      " 52%|█████████████████████████████████████████████████████████████▏                                                        | 55/106 [elapsed: 20:20 remaining: 18:27]"
     ]
    },
    {
     "name": "stdout",
     "output_type": "stream",
     "text": [
      "Found 775516 barcodes in the on-list\n",
      "Processed 21156 BUS records\n",
      "In on-list = 14354\n",
      "Corrected    = 1873\n",
      "Uncorrected  = 4929\n",
      "Read in 16227 BUS records\n",
      "Read in 16227 text records\n",
      " all fits in buffer\n",
      "Read in 16227 BUS records\n",
      "reading time 0s\n",
      "sorting time 0s\n",
      "writing time 0s\n",
      "Found 775516 barcodes in the on-list\n",
      "Processed 411641 BUS records\n",
      "In on-list = 53722\n",
      "Corrected    = 112818\n",
      "Uncorrected  = 245101\n",
      "Read in 166540 BUS records\n",
      "Read in 166540 text records\n",
      "partition time: 0.01s\n",
      " all fits in buffer\n",
      "Read in 166540 BUS records\n",
      "reading time 0s\n",
      "sorting time 0.3s\n",
      "writing time 0s\n"
     ]
    },
    {
     "name": "stderr",
     "output_type": "stream",
     "text": [
      " 53%|██████████████████████████████████████████████████████████████▎                                                       | 56/106 [elapsed: 20:35 remaining: 16:26]"
     ]
    },
    {
     "name": "stdout",
     "output_type": "stream",
     "text": [
      "Found 775516 barcodes in the on-list\n",
      "Processed 8559 BUS records\n",
      "In on-list = 5490\n",
      "Corrected    = 895\n",
      "Uncorrected  = 2174\n",
      "Read in 6385 BUS records\n",
      "Read in 6385 text records\n",
      " all fits in buffer\n",
      "Read in 6385 BUS records\n",
      "reading time 0s\n",
      "sorting time 0.01s\n",
      "writing time 0s\n",
      "Found 775516 barcodes in the on-list\n",
      "Processed 688926 BUS records\n",
      "In on-list = 114185\n",
      "Corrected    = 170021\n",
      "Uncorrected  = 404720\n",
      "Read in 284206 BUS records\n",
      "Read in 284206 text records\n",
      "partition time: 0.01s\n",
      " all fits in buffer\n",
      "Read in 284206 BUS records\n",
      "reading time 0s\n",
      "sorting time 0.08s\n",
      "writing time 0.01s\n"
     ]
    },
    {
     "name": "stderr",
     "output_type": "stream",
     "text": [
      " 54%|███████████████████████████████████████████████████████████████▍                                                      | 57/106 [elapsed: 20:50 remaining: 14:56]"
     ]
    },
    {
     "name": "stdout",
     "output_type": "stream",
     "text": [
      "Found 775516 barcodes in the on-list\n",
      "Processed 58525 BUS records\n",
      "In on-list = 46100\n",
      "Corrected    = 3318\n",
      "Uncorrected  = 9107\n",
      "Read in 49418 BUS records\n",
      "Read in 49418 text records\n",
      " all fits in buffer\n",
      "Read in 49418 BUS records\n",
      "reading time 0s\n",
      "sorting time 0s\n",
      "writing time 0.01s\n",
      "Found 775516 barcodes in the on-list\n",
      "Processed 985819 BUS records\n",
      "In on-list = 187297\n",
      "Corrected    = 233649\n",
      "Uncorrected  = 564873\n",
      "Read in 420946 BUS records\n",
      "Read in 420946 text records\n",
      "partition time: 0.01s\n",
      " all fits in buffer\n",
      "Read in 420946 BUS records\n",
      "reading time 0.01s\n",
      "sorting time 0.09s\n",
      "writing time 0.01s\n"
     ]
    },
    {
     "name": "stderr",
     "output_type": "stream",
     "text": [
      " 55%|████████████████████████████████████████████████████████████████▌                                                     | 58/106 [elapsed: 21:06 remaining: 14:15]"
     ]
    },
    {
     "name": "stdout",
     "output_type": "stream",
     "text": [
      "Found 775516 barcodes in the on-list\n",
      "Processed 42015 BUS records\n",
      "In on-list = 30086\n",
      "Corrected    = 3377\n",
      "Uncorrected  = 8552\n",
      "Read in 33463 BUS records\n",
      "Read in 33463 text records\n",
      " all fits in buffer\n",
      "Read in 33463 BUS records\n",
      "reading time 0s\n",
      "sorting time 0.02s\n",
      "writing time 0s\n",
      "Found 775516 barcodes in the on-list\n",
      "Processed 20581030 BUS records\n",
      "In on-list = 2319506\n",
      "Corrected    = 5302184\n",
      "Uncorrected  = 12959340\n",
      "Read in 7621690 BUS records\n",
      "Read in 7621690 text records\n",
      "partition time: 0.36s\n",
      " all fits in buffer\n",
      "Read in 7621690 BUS records\n",
      "reading time 0.19s\n",
      "sorting time 2.05s\n",
      "writing time 0.18s\n"
     ]
    },
    {
     "name": "stderr",
     "output_type": "stream",
     "text": [
      " 56%|█████████████████████████████████████████████████████████████████▋                                                    | 59/106 [elapsed: 22:24 remaining: 27:59]"
     ]
    },
    {
     "name": "stdout",
     "output_type": "stream",
     "text": [
      "Found 775516 barcodes in the on-list\n",
      "Processed 15679 BUS records\n",
      "In on-list = 10530\n",
      "Corrected    = 1467\n",
      "Uncorrected  = 3682\n",
      "Read in 11997 BUS records\n",
      "Read in 11997 text records\n",
      " all fits in buffer\n",
      "Read in 11997 BUS records\n",
      "reading time 0s\n",
      "sorting time 0s\n",
      "writing time 0.01s\n",
      "Found 775516 barcodes in the on-list\n",
      "Processed 284196 BUS records\n",
      "In on-list = 38524\n",
      "Corrected    = 73252\n",
      "Uncorrected  = 172420\n",
      "Read in 111776 BUS records\n",
      "Read in 111776 text records\n",
      "partition time: 0s\n",
      " all fits in buffer\n",
      "Read in 111776 BUS records\n",
      "reading time 0s\n",
      "sorting time 0.02s\n",
      "writing time 0.01s\n"
     ]
    },
    {
     "name": "stderr",
     "output_type": "stream",
     "text": [
      " 57%|██████████████████████████████████████████████████████████████████▊                                                   | 60/106 [elapsed: 22:39 remaining: 22:33]"
     ]
    },
    {
     "name": "stdout",
     "output_type": "stream",
     "text": [
      "Found 775516 barcodes in the on-list\n",
      "Processed 16907 BUS records\n",
      "In on-list = 12446\n",
      "Corrected    = 1240\n",
      "Uncorrected  = 3221\n",
      "Read in 13686 BUS records\n",
      "Read in 13686 text records\n",
      " all fits in buffer\n",
      "Read in 13686 BUS records\n",
      "reading time 0s\n",
      "sorting time 0s\n",
      "writing time 0s\n",
      "Found 775516 barcodes in the on-list\n",
      "Processed 2590143 BUS records\n",
      "In on-list = 535963\n",
      "Corrected    = 619913\n",
      "Uncorrected  = 1434267\n",
      "Read in 1155876 BUS records\n",
      "Read in 1155876 text records\n",
      "partition time: 0.05s\n",
      " all fits in buffer\n",
      "Read in 1155876 BUS records\n",
      "reading time 0.02s\n",
      "sorting time 0.42s\n",
      "writing time 0.04s\n"
     ]
    },
    {
     "name": "stderr",
     "output_type": "stream",
     "text": [
      " 58%|███████████████████████████████████████████████████████████████████▉                                                  | 61/106 [elapsed: 23:01 remaining: 20:23]"
     ]
    },
    {
     "name": "stdout",
     "output_type": "stream",
     "text": [
      "Found 775516 barcodes in the on-list\n",
      "Processed 27053 BUS records\n",
      "In on-list = 17431\n",
      "Corrected    = 2842\n",
      "Uncorrected  = 6780\n",
      "Read in 20273 BUS records\n",
      "Read in 20273 text records\n",
      " all fits in buffer\n",
      "Read in 20273 BUS records\n",
      "reading time 0s\n",
      "sorting time 0s\n",
      "writing time 0s\n",
      "Found 775516 barcodes in the on-list\n",
      "Processed 663000 BUS records\n",
      "In on-list = 107320\n",
      "Corrected    = 167432\n",
      "Uncorrected  = 388248\n",
      "Read in 274752 BUS records\n",
      "Read in 274752 text records\n",
      "partition time: 0.01s\n",
      " all fits in buffer\n",
      "Read in 274752 BUS records\n",
      "reading time 0s\n",
      "sorting time 0.26s\n",
      "writing time 0s\n"
     ]
    },
    {
     "name": "stderr",
     "output_type": "stream",
     "text": [
      " 58%|█████████████████████████████████████████████████████████████████████                                                 | 62/106 [elapsed: 23:16 remaining: 17:25]"
     ]
    },
    {
     "name": "stdout",
     "output_type": "stream",
     "text": [
      "Found 775516 barcodes in the on-list\n",
      "Processed 24252 BUS records\n",
      "In on-list = 12550\n",
      "Corrected    = 2985\n",
      "Uncorrected  = 8717\n",
      "Read in 15535 BUS records\n",
      "Read in 15535 text records\n",
      " all fits in buffer\n",
      "Read in 15535 BUS records\n",
      "reading time 0s\n",
      "sorting time 0.01s\n",
      "writing time 0s\n",
      "Found 775516 barcodes in the on-list\n",
      "Processed 1693255 BUS records\n",
      "In on-list = 189324\n",
      "Corrected    = 447900\n",
      "Uncorrected  = 1056031\n",
      "Read in 637224 BUS records\n",
      "Read in 637224 text records\n",
      "partition time: 0.03s\n",
      " all fits in buffer\n",
      "Read in 637224 BUS records\n",
      "reading time 0.01s\n",
      "sorting time 0.31s\n",
      "writing time 0.03s\n"
     ]
    },
    {
     "name": "stderr",
     "output_type": "stream",
     "text": [
      " 59%|██████████████████████████████████████████████████████████████████████▏                                               | 63/106 [elapsed: 23:35 remaining: 15:56]"
     ]
    },
    {
     "name": "stdout",
     "output_type": "stream",
     "text": [
      "Found 775516 barcodes in the on-list\n",
      "Processed 54063 BUS records\n",
      "In on-list = 47007\n",
      "Corrected    = 1831\n",
      "Uncorrected  = 5225\n",
      "Read in 48838 BUS records\n",
      "Read in 48838 text records\n",
      " all fits in buffer\n",
      "Read in 48838 BUS records\n",
      "reading time 0s\n",
      "sorting time 0.01s\n",
      "writing time 0s\n",
      "Found 775516 barcodes in the on-list\n",
      "Processed 1026217 BUS records\n",
      "In on-list = 125615\n",
      "Corrected    = 270194\n",
      "Uncorrected  = 630408\n",
      "Read in 395809 BUS records\n",
      "Read in 395809 text records\n",
      "partition time: 0.02s\n",
      " all fits in buffer\n",
      "Read in 395809 BUS records\n",
      "reading time 0.01s\n",
      "sorting time 0.38s\n",
      "writing time 0.01s\n"
     ]
    },
    {
     "name": "stderr",
     "output_type": "stream",
     "text": [
      " 60%|███████████████████████████████████████████████████████████████████████▏                                              | 64/106 [elapsed: 23:53 remaining: 14:33]"
     ]
    },
    {
     "name": "stdout",
     "output_type": "stream",
     "text": [
      "Found 775516 barcodes in the on-list\n",
      "Processed 11453 BUS records\n",
      "In on-list = 8202\n",
      "Corrected    = 819\n",
      "Uncorrected  = 2432\n",
      "Read in 9021 BUS records\n",
      "Read in 9021 text records\n",
      " all fits in buffer\n",
      "Read in 9021 BUS records\n",
      "reading time 0s\n",
      "sorting time 0s\n",
      "writing time 0s\n",
      "Found 775516 barcodes in the on-list\n",
      "Processed 4889769 BUS records\n",
      "In on-list = 868915\n",
      "Corrected    = 1163223\n",
      "Uncorrected  = 2857631\n",
      "Read in 2032138 BUS records\n",
      "Read in 2032138 text records\n",
      "partition time: 0.09s\n",
      " all fits in buffer\n",
      "Read in 2032138 BUS records\n",
      "reading time 0.04s\n",
      "sorting time 0.74s\n",
      "writing time 0.03s\n"
     ]
    },
    {
     "name": "stderr",
     "output_type": "stream",
     "text": [
      " 61%|████████████████████████████████████████████████████████████████████████▎                                             | 65/106 [elapsed: 24:21 remaining: 15:46]"
     ]
    },
    {
     "name": "stdout",
     "output_type": "stream",
     "text": [
      "Found 775516 barcodes in the on-list\n",
      "Processed 54005 BUS records\n",
      "In on-list = 44838\n",
      "Corrected    = 2146\n",
      "Uncorrected  = 7021\n",
      "Read in 46984 BUS records\n",
      "Read in 46984 text records\n",
      " all fits in buffer\n",
      "Read in 46984 BUS records\n",
      "reading time 0s\n",
      "sorting time 0.01s\n",
      "writing time 0s\n",
      "Found 775516 barcodes in the on-list\n",
      "Processed 218910 BUS records\n",
      "In on-list = 100599\n",
      "Corrected    = 35215\n",
      "Uncorrected  = 83096\n",
      "Read in 135814 BUS records\n",
      "Read in 135814 text records\n",
      "partition time: 0.01s\n",
      " all fits in buffer\n",
      "Read in 135814 BUS records\n",
      "reading time 0.01s\n",
      "sorting time 0.6s\n",
      "writing time 0s\n"
     ]
    },
    {
     "name": "stderr",
     "output_type": "stream",
     "text": [
      " 62%|█████████████████████████████████████████████████████████████████████████▍                                            | 66/106 [elapsed: 24:36 remaining: 13:42]"
     ]
    },
    {
     "name": "stdout",
     "output_type": "stream",
     "text": [
      "Found 775516 barcodes in the on-list\n",
      "Processed 35788 BUS records\n",
      "In on-list = 28987\n",
      "Corrected    = 1860\n",
      "Uncorrected  = 4941\n",
      "Read in 30847 BUS records\n",
      "Read in 30847 text records\n",
      " all fits in buffer\n",
      "Read in 30847 BUS records\n",
      "reading time 0s\n",
      "sorting time 0.01s\n",
      "writing time 0s\n",
      "Found 775516 barcodes in the on-list\n",
      "Processed 1077546 BUS records\n",
      "In on-list = 273393\n",
      "Corrected    = 234728\n",
      "Uncorrected  = 569425\n",
      "Read in 508121 BUS records\n",
      "Read in 508121 text records\n",
      "partition time: 0.02s\n",
      " all fits in buffer\n",
      "Read in 508121 BUS records\n",
      "reading time 0.01s\n",
      "sorting time 0.54s\n",
      "writing time 0.01s\n"
     ]
    },
    {
     "name": "stderr",
     "output_type": "stream",
     "text": [
      " 63%|██████████████████████████████████████████████████████████████████████████▌                                           | 67/106 [elapsed: 24:53 remaining: 12:49]"
     ]
    },
    {
     "name": "stdout",
     "output_type": "stream",
     "text": [
      "Found 775516 barcodes in the on-list\n",
      "Processed 63120 BUS records\n",
      "In on-list = 42523\n",
      "Corrected    = 5382\n",
      "Uncorrected  = 15215\n",
      "Read in 47905 BUS records\n",
      "Read in 47905 text records\n",
      " all fits in buffer\n",
      "Read in 47905 BUS records\n",
      "reading time 0s\n",
      "sorting time 0s\n",
      "writing time 0.01s\n",
      "Found 775516 barcodes in the on-list\n",
      "Processed 3167119 BUS records\n",
      "In on-list = 589121\n",
      "Corrected    = 770530\n",
      "Uncorrected  = 1807468\n",
      "Read in 1359651 BUS records\n",
      "Read in 1359651 text records\n",
      "partition time: 0.06s\n",
      " all fits in buffer\n",
      "Read in 1359651 BUS records\n",
      "reading time 0.02s\n",
      "sorting time 0.43s\n",
      "writing time 0.05s\n"
     ]
    },
    {
     "name": "stderr",
     "output_type": "stream",
     "text": [
      " 64%|███████████████████████████████████████████████████████████████████████████▋                                          | 68/106 [elapsed: 25:17 remaining: 13:12]"
     ]
    },
    {
     "name": "stdout",
     "output_type": "stream",
     "text": [
      "Found 775516 barcodes in the on-list\n",
      "Processed 41603 BUS records\n",
      "In on-list = 34463\n",
      "Corrected    = 1888\n",
      "Uncorrected  = 5252\n",
      "Read in 36351 BUS records\n",
      "Read in 36351 text records\n",
      " all fits in buffer\n",
      "Read in 36351 BUS records\n",
      "reading time 0s\n",
      "sorting time 0s\n",
      "writing time 0s\n",
      "Found 775516 barcodes in the on-list\n",
      "Processed 2307713 BUS records\n",
      "In on-list = 694342\n",
      "Corrected    = 479884\n",
      "Uncorrected  = 1133487\n",
      "Read in 1174226 BUS records\n",
      "Read in 1174226 text records\n",
      "partition time: 0.05s\n",
      " all fits in buffer\n",
      "Read in 1174226 BUS records\n",
      "reading time 0.02s\n",
      "sorting time 0.41s\n",
      "writing time 0.05s\n"
     ]
    },
    {
     "name": "stderr",
     "output_type": "stream",
     "text": [
      " 65%|████████████████████████████████████████████████████████████████████████████▊                                         | 69/106 [elapsed: 25:39 remaining: 13:02]"
     ]
    },
    {
     "name": "stdout",
     "output_type": "stream",
     "text": [
      "Found 775516 barcodes in the on-list\n",
      "Processed 92352 BUS records\n",
      "In on-list = 69234\n",
      "Corrected    = 6045\n",
      "Uncorrected  = 17073\n",
      "Read in 75279 BUS records\n",
      "Read in 75279 text records\n",
      " all fits in buffer\n",
      "Read in 75279 BUS records\n",
      "reading time 0s\n",
      "sorting time 0.01s\n",
      "writing time 0s\n",
      "Found 775516 barcodes in the on-list\n",
      "Processed 3808560 BUS records\n",
      "In on-list = 839953\n",
      "Corrected    = 888469\n",
      "Uncorrected  = 2080138\n",
      "Read in 1728422 BUS records\n",
      "Read in 1728422 text records\n",
      "partition time: 0.07s\n",
      " all fits in buffer\n",
      "Read in 1728422 BUS records\n",
      "reading time 0.03s\n",
      "sorting time 0.43s\n",
      "writing time 0.05s\n"
     ]
    },
    {
     "name": "stderr",
     "output_type": "stream",
     "text": [
      " 66%|█████████████████████████████████████████████████████████████████████████████▉                                        | 70/106 [elapsed: 26:05 remaining: 13:37]"
     ]
    },
    {
     "name": "stdout",
     "output_type": "stream",
     "text": [
      "Found 775516 barcodes in the on-list\n",
      "Processed 59866 BUS records\n",
      "In on-list = 47436\n",
      "Corrected    = 3175\n",
      "Uncorrected  = 9255\n",
      "Read in 50611 BUS records\n",
      "Read in 50611 text records\n",
      " all fits in buffer\n",
      "Read in 50611 BUS records\n",
      "reading time 0s\n",
      "sorting time 0.01s\n",
      "writing time 0s\n",
      "Found 775516 barcodes in the on-list\n",
      "Processed 4404806 BUS records\n",
      "In on-list = 812848\n",
      "Corrected    = 1098280\n",
      "Uncorrected  = 2493678\n",
      "Read in 1911128 BUS records\n",
      "Read in 1911128 text records\n",
      "partition time: 0.08s\n",
      " all fits in buffer\n",
      "Read in 1911128 BUS records\n",
      "reading time 0.03s\n",
      "sorting time 0.53s\n",
      "writing time 0.05s\n"
     ]
    },
    {
     "name": "stderr",
     "output_type": "stream",
     "text": [
      " 67%|███████████████████████████████████████████████████████████████████████████████                                       | 71/106 [elapsed: 26:33 remaining: 14:06]"
     ]
    },
    {
     "name": "stdout",
     "output_type": "stream",
     "text": [
      "Found 775516 barcodes in the on-list\n",
      "Processed 55313 BUS records\n",
      "In on-list = 42198\n",
      "Corrected    = 3645\n",
      "Uncorrected  = 9470\n",
      "Read in 45843 BUS records\n",
      "Read in 45843 text records\n",
      " all fits in buffer\n",
      "Read in 45843 BUS records\n",
      "reading time 0s\n",
      "sorting time 0s\n",
      "writing time 0.01s\n",
      "Found 775516 barcodes in the on-list\n",
      "Processed 3164007 BUS records\n",
      "In on-list = 549060\n",
      "Corrected    = 791457\n",
      "Uncorrected  = 1823490\n",
      "Read in 1340517 BUS records\n",
      "Read in 1340517 text records\n",
      "partition time: 0.06s\n",
      " all fits in buffer\n",
      "Read in 1340517 BUS records\n",
      "reading time 0.02s\n",
      "sorting time 1.15s\n",
      "writing time 0.04s\n"
     ]
    },
    {
     "name": "stderr",
     "output_type": "stream",
     "text": [
      " 68%|████████████████████████████████████████████████████████████████████████████████▏                                     | 72/106 [elapsed: 26:57 remaining: 13:44]"
     ]
    },
    {
     "name": "stdout",
     "output_type": "stream",
     "text": [
      "Found 775516 barcodes in the on-list\n",
      "Processed 94693 BUS records\n",
      "In on-list = 78463\n",
      "Corrected    = 4070\n",
      "Uncorrected  = 12160\n",
      "Read in 82533 BUS records\n",
      "Read in 82533 text records\n",
      " all fits in buffer\n",
      "Read in 82533 BUS records\n",
      "reading time 0s\n",
      "sorting time 0.01s\n",
      "writing time 0s\n",
      "Found 775516 barcodes in the on-list\n",
      "Processed 6203946 BUS records\n",
      "In on-list = 1525975\n",
      "Corrected    = 1300735\n",
      "Uncorrected  = 3377236\n",
      "Read in 2826710 BUS records\n",
      "Read in 2826710 text records\n",
      "partition time: 0.12s\n",
      " all fits in buffer\n",
      "Read in 2826710 BUS records\n",
      "reading time 0.05s\n",
      "sorting time 1.13s\n",
      "writing time 0.08s\n"
     ]
    },
    {
     "name": "stderr",
     "output_type": "stream",
     "text": [
      " 69%|█████████████████████████████████████████████████████████████████████████████████▎                                    | 73/106 [elapsed: 27:32 remaining: 15:00]"
     ]
    },
    {
     "name": "stdout",
     "output_type": "stream",
     "text": [
      "Found 775516 barcodes in the on-list\n",
      "Processed 18409 BUS records\n",
      "In on-list = 11153\n",
      "Corrected    = 2016\n",
      "Uncorrected  = 5240\n",
      "Read in 13169 BUS records\n",
      "Read in 13169 text records\n",
      " all fits in buffer\n",
      "Read in 13169 BUS records\n",
      "reading time 0s\n",
      "sorting time 0s\n",
      "writing time 0.01s\n",
      "Found 775516 barcodes in the on-list\n",
      "Processed 14225698 BUS records\n",
      "In on-list = 1294704\n",
      "Corrected    = 3886511\n",
      "Uncorrected  = 9044483\n",
      "Read in 5181215 BUS records\n",
      "Read in 5181215 text records\n",
      "partition time: 0.23s\n",
      " all fits in buffer\n",
      "Read in 5181215 BUS records\n",
      "reading time 0.09s\n",
      "sorting time 1.36s\n",
      "writing time 0.09s\n"
     ]
    },
    {
     "name": "stderr",
     "output_type": "stream",
     "text": [
      " 70%|██████████████████████████████████████████████████████████████████████████████████▍                                   | 74/106 [elapsed: 28:30 remaining: 19:29]"
     ]
    },
    {
     "name": "stdout",
     "output_type": "stream",
     "text": [
      "Found 775516 barcodes in the on-list\n",
      "Processed 56873 BUS records\n",
      "In on-list = 40302\n",
      "Corrected    = 4662\n",
      "Uncorrected  = 11909\n",
      "Read in 44964 BUS records\n",
      "Read in 44964 text records\n",
      " all fits in buffer\n",
      "Read in 44964 BUS records\n",
      "reading time 0s\n",
      "sorting time 0.01s\n",
      "writing time 0s\n",
      "Found 775516 barcodes in the on-list\n",
      "Processed 1850064 BUS records\n",
      "In on-list = 391116\n",
      "Corrected    = 428153\n",
      "Uncorrected  = 1030795\n",
      "Read in 819269 BUS records\n",
      "Read in 819269 text records\n",
      "partition time: 0.03s\n",
      " all fits in buffer\n",
      "Read in 819269 BUS records\n",
      "reading time 0.01s\n",
      "sorting time 0.17s\n",
      "writing time 0.02s\n"
     ]
    },
    {
     "name": "stderr",
     "output_type": "stream",
     "text": [
      " 71%|███████████████████████████████████████████████████████████████████████████████████▍                                  | 75/106 [elapsed: 28:49 remaining: 16:15]"
     ]
    },
    {
     "name": "stdout",
     "output_type": "stream",
     "text": [
      "Found 775516 barcodes in the on-list\n",
      "Processed 50175 BUS records\n",
      "In on-list = 32467\n",
      "Corrected    = 4985\n",
      "Uncorrected  = 12723\n",
      "Read in 37452 BUS records\n",
      "Read in 37452 text records\n",
      " all fits in buffer\n",
      "Read in 37452 BUS records\n",
      "reading time 0s\n",
      "sorting time 0s\n",
      "writing time 0s\n",
      "Found 775516 barcodes in the on-list\n",
      "Processed 1103066 BUS records\n",
      "In on-list = 143044\n",
      "Corrected    = 289369\n",
      "Uncorrected  = 670653\n",
      "Read in 432413 BUS records\n",
      "Read in 432413 text records\n",
      "partition time: 0.02s\n",
      " all fits in buffer\n",
      "Read in 432413 BUS records\n",
      "reading time 0.01s\n",
      "sorting time 0.09s\n",
      "writing time 0.02s\n"
     ]
    },
    {
     "name": "stderr",
     "output_type": "stream",
     "text": [
      " 72%|████████████████████████████████████████████████████████████████████████████████████▌                                 | 76/106 [elapsed: 29:06 remaining: 13:33]"
     ]
    },
    {
     "name": "stdout",
     "output_type": "stream",
     "text": [
      "Found 775516 barcodes in the on-list\n",
      "Processed 38280 BUS records\n",
      "In on-list = 29477\n",
      "Corrected    = 2244\n",
      "Uncorrected  = 6559\n",
      "Read in 31721 BUS records\n",
      "Read in 31721 text records\n",
      " all fits in buffer\n",
      "Read in 31721 BUS records\n",
      "reading time 0s\n",
      "sorting time 0.01s\n",
      "writing time 0s\n",
      "Found 775516 barcodes in the on-list\n",
      "Processed 982267 BUS records\n",
      "In on-list = 292719\n",
      "Corrected    = 199719\n",
      "Uncorrected  = 489829\n",
      "Read in 492438 BUS records\n",
      "Read in 492438 text records\n",
      "partition time: 0.02s\n",
      " all fits in buffer\n",
      "Read in 492438 BUS records\n",
      "reading time 0s\n",
      "sorting time 0.11s\n",
      "writing time 0.02s\n"
     ]
    },
    {
     "name": "stderr",
     "output_type": "stream",
     "text": [
      " 73%|█████████████████████████████████████████████████████████████████████████████████████▋                                | 77/106 [elapsed: 29:23 remaining: 11:34]"
     ]
    },
    {
     "name": "stdout",
     "output_type": "stream",
     "text": [
      "Found 775516 barcodes in the on-list\n",
      "Processed 47410 BUS records\n",
      "In on-list = 37568\n",
      "Corrected    = 2515\n",
      "Uncorrected  = 7327\n",
      "Read in 40083 BUS records\n",
      "Read in 40083 text records\n",
      " all fits in buffer\n",
      "Read in 40083 BUS records\n",
      "reading time 0s\n",
      "sorting time 0.01s\n",
      "writing time 0.01s\n",
      "Found 775516 barcodes in the on-list\n",
      "Processed 831085 BUS records\n",
      "In on-list = 131129\n",
      "Corrected    = 210938\n",
      "Uncorrected  = 489018\n",
      "Read in 342067 BUS records\n",
      "Read in 342067 text records\n",
      "partition time: 0.02s\n",
      " all fits in buffer\n",
      "Read in 342067 BUS records\n",
      "reading time 0s\n",
      "sorting time 0.44s\n",
      "writing time 0.02s\n"
     ]
    },
    {
     "name": "stderr",
     "output_type": "stream",
     "text": [
      " 74%|██████████████████████████████████████████████████████████████████████████████████████▊                               | 78/106 [elapsed: 29:39 remaining: 10:05]"
     ]
    },
    {
     "name": "stdout",
     "output_type": "stream",
     "text": [
      "Found 775516 barcodes in the on-list\n",
      "Processed 87340 BUS records\n",
      "In on-list = 56168\n",
      "Corrected    = 8340\n",
      "Uncorrected  = 22832\n",
      "Read in 64508 BUS records\n",
      "Read in 64508 text records\n",
      " all fits in buffer\n",
      "Read in 64508 BUS records\n",
      "reading time 0s\n",
      "sorting time 0s\n",
      "writing time 0.01s\n",
      "Found 775516 barcodes in the on-list\n",
      "Processed 4297013 BUS records\n",
      "In on-list = 613523\n",
      "Corrected    = 1109392\n",
      "Uncorrected  = 2574098\n",
      "Read in 1722915 BUS records\n",
      "Read in 1722915 text records\n",
      "partition time: 0.07s\n",
      " all fits in buffer\n",
      "Read in 1722915 BUS records\n",
      "reading time 0.03s\n",
      "sorting time 0.74s\n",
      "writing time 0.05s\n"
     ]
    },
    {
     "name": "stderr",
     "output_type": "stream",
     "text": [
      " 75%|███████████████████████████████████████████████████████████████████████████████████████▉                              | 79/106 [elapsed: 30:06 remaining: 10:29]"
     ]
    },
    {
     "name": "stdout",
     "output_type": "stream",
     "text": [
      "Found 775516 barcodes in the on-list\n",
      "Processed 11634 BUS records\n",
      "In on-list = 9545\n",
      "Corrected    = 582\n",
      "Uncorrected  = 1507\n",
      "Read in 10127 BUS records\n",
      "Read in 10127 text records\n",
      " all fits in buffer\n",
      "Read in 10127 BUS records\n",
      "reading time 0s\n",
      "sorting time 0s\n",
      "writing time 0s\n",
      "Found 775516 barcodes in the on-list\n",
      "Processed 9627226 BUS records\n",
      "In on-list = 2083559\n",
      "Corrected    = 2208619\n",
      "Uncorrected  = 5335048\n",
      "Read in 4292178 BUS records\n",
      "Read in 4292178 text records\n",
      "partition time: 0.2s\n",
      " all fits in buffer\n",
      "Read in 4292178 BUS records\n",
      "reading time 0.07s\n",
      "sorting time 0.95s\n",
      "writing time 0.04s\n"
     ]
    },
    {
     "name": "stderr",
     "output_type": "stream",
     "text": [
      " 75%|█████████████████████████████████████████████████████████████████████████████████████████                             | 80/106 [elapsed: 30:48 remaining: 12:31]"
     ]
    },
    {
     "name": "stdout",
     "output_type": "stream",
     "text": [
      "Found 775516 barcodes in the on-list\n",
      "Processed 60610 BUS records\n",
      "In on-list = 26349\n",
      "Corrected    = 10280\n",
      "Uncorrected  = 23981\n",
      "Read in 36629 BUS records\n",
      "Read in 36629 text records\n",
      " all fits in buffer\n",
      "Read in 36629 BUS records\n",
      "reading time 0s\n",
      "sorting time 0s\n",
      "writing time 0s\n",
      "Found 775516 barcodes in the on-list\n",
      "Processed 1918448 BUS records\n",
      "In on-list = 293275\n",
      "Corrected    = 487325\n",
      "Uncorrected  = 1137848\n",
      "Read in 780600 BUS records\n",
      "Read in 780600 text records\n",
      "partition time: 0.03s\n",
      " all fits in buffer\n",
      "Read in 780600 BUS records\n",
      "reading time 0.01s\n",
      "sorting time 0.33s\n",
      "writing time 0.03s\n"
     ]
    },
    {
     "name": "stderr",
     "output_type": "stream",
     "text": [
      " 76%|██████████████████████████████████████████████████████████████████████████████████████████▏                           | 81/106 [elapsed: 31:08 remaining: 10:53]"
     ]
    },
    {
     "name": "stdout",
     "output_type": "stream",
     "text": [
      "Found 775516 barcodes in the on-list\n",
      "Processed 41847 BUS records\n",
      "In on-list = 26638\n",
      "Corrected    = 3817\n",
      "Uncorrected  = 11392\n",
      "Read in 30455 BUS records\n",
      "Read in 30455 text records\n",
      " all fits in buffer\n",
      "Read in 30455 BUS records\n",
      "reading time 0s\n",
      "sorting time 0s\n",
      "writing time 0s\n",
      "Found 775516 barcodes in the on-list\n",
      "Processed 1585078 BUS records\n",
      "In on-list = 304015\n",
      "Corrected    = 382819\n",
      "Uncorrected  = 898244\n",
      "Read in 686834 BUS records\n",
      "Read in 686834 text records\n",
      "partition time: 0.03s\n",
      " all fits in buffer\n",
      "Read in 686834 BUS records\n",
      "reading time 0.01s\n",
      "sorting time 0.17s\n",
      "writing time 0.02s\n"
     ]
    },
    {
     "name": "stderr",
     "output_type": "stream",
     "text": [
      " 77%|███████████████████████████████████████████████████████████████████████████████████████████▎                          | 82/106 [elapsed: 31:27 remaining: 09:32]"
     ]
    },
    {
     "name": "stdout",
     "output_type": "stream",
     "text": [
      "Found 775516 barcodes in the on-list\n",
      "Processed 36776 BUS records\n",
      "In on-list = 26646\n",
      "Corrected    = 2658\n",
      "Uncorrected  = 7472\n",
      "Read in 29304 BUS records\n",
      "Read in 29304 text records\n",
      " all fits in buffer\n",
      "Read in 29304 BUS records\n",
      "reading time 0s\n",
      "sorting time 0s\n",
      "writing time 0s\n",
      "Found 775516 barcodes in the on-list\n",
      "Processed 689750 BUS records\n",
      "In on-list = 151455\n",
      "Corrected    = 154518\n",
      "Uncorrected  = 383777\n",
      "Read in 305973 BUS records\n",
      "Read in 305973 text records\n",
      "partition time: 0.01s\n",
      " all fits in buffer\n",
      "Read in 305973 BUS records\n",
      "reading time 0.01s\n",
      "sorting time 0.07s\n",
      "writing time 0.02s\n"
     ]
    },
    {
     "name": "stderr",
     "output_type": "stream",
     "text": [
      " 78%|████████████████████████████████████████████████████████████████████████████████████████████▍                         | 83/106 [elapsed: 31:42 remaining: 08:12]"
     ]
    },
    {
     "name": "stdout",
     "output_type": "stream",
     "text": [
      "Found 775516 barcodes in the on-list\n",
      "Processed 38187 BUS records\n",
      "In on-list = 18421\n",
      "Corrected    = 5419\n",
      "Uncorrected  = 14347\n",
      "Read in 23840 BUS records\n",
      "Read in 23840 text records\n",
      " all fits in buffer\n",
      "Read in 23840 BUS records\n",
      "reading time 0s\n",
      "sorting time 0s\n",
      "writing time 0s\n",
      "Found 775516 barcodes in the on-list\n",
      "Processed 1109449 BUS records\n",
      "In on-list = 114255\n",
      "Corrected    = 294279\n",
      "Uncorrected  = 700915\n",
      "Read in 408534 BUS records\n",
      "Read in 408534 text records\n",
      "partition time: 0.02s\n",
      " all fits in buffer\n",
      "Read in 408534 BUS records\n",
      "reading time 0.01s\n",
      "sorting time 0.27s\n",
      "writing time 0.01s\n"
     ]
    },
    {
     "name": "stderr",
     "output_type": "stream",
     "text": [
      " 79%|█████████████████████████████████████████████████████████████████████████████████████████████▌                        | 84/106 [elapsed: 31:59 remaining: 07:22]"
     ]
    },
    {
     "name": "stdout",
     "output_type": "stream",
     "text": [
      "Found 775516 barcodes in the on-list\n",
      "Processed 14282 BUS records\n",
      "In on-list = 10530\n",
      "Corrected    = 1062\n",
      "Uncorrected  = 2690\n",
      "Read in 11592 BUS records\n",
      "Read in 11592 text records\n",
      " all fits in buffer\n",
      "Read in 11592 BUS records\n",
      "reading time 0s\n",
      "sorting time 0s\n",
      "writing time 0.01s\n",
      "Found 775516 barcodes in the on-list\n",
      "Processed 670936 BUS records\n",
      "In on-list = 162933\n",
      "Corrected    = 148358\n",
      "Uncorrected  = 359645\n",
      "Read in 311291 BUS records\n",
      "Read in 311291 text records\n",
      "partition time: 0.01s\n",
      " all fits in buffer\n",
      "Read in 311291 BUS records\n",
      "reading time 0s\n",
      "sorting time 0.24s\n",
      "writing time 0.01s\n"
     ]
    },
    {
     "name": "stderr",
     "output_type": "stream",
     "text": [
      " 80%|██████████████████████████████████████████████████████████████████████████████████████████████▌                       | 85/106 [elapsed: 32:15 remaining: 06:33]"
     ]
    },
    {
     "name": "stdout",
     "output_type": "stream",
     "text": [
      "Found 775516 barcodes in the on-list\n",
      "Processed 28171 BUS records\n",
      "In on-list = 13271\n",
      "Corrected    = 4138\n",
      "Uncorrected  = 10762\n",
      "Read in 17409 BUS records\n",
      "Read in 17409 text records\n",
      " all fits in buffer\n",
      "Read in 17409 BUS records\n",
      "reading time 0s\n",
      "sorting time 0s\n",
      "writing time 0s\n",
      "Found 775516 barcodes in the on-list\n",
      "Processed 1390567 BUS records\n",
      "In on-list = 272993\n",
      "Corrected    = 331281\n",
      "Uncorrected  = 786293\n",
      "Read in 604274 BUS records\n",
      "Read in 604274 text records\n",
      "partition time: 0.02s\n",
      " all fits in buffer\n",
      "Read in 604274 BUS records\n",
      "reading time 0.01s\n",
      "sorting time 0.29s\n",
      "writing time 0.02s\n"
     ]
    },
    {
     "name": "stderr",
     "output_type": "stream",
     "text": [
      " 81%|███████████████████████████████████████████████████████████████████████████████████████████████▋                      | 86/106 [elapsed: 32:33 remaining: 06:10]"
     ]
    },
    {
     "name": "stdout",
     "output_type": "stream",
     "text": [
      "Found 775516 barcodes in the on-list\n",
      "Processed 29590 BUS records\n",
      "In on-list = 16429\n",
      "Corrected    = 3587\n",
      "Uncorrected  = 9574\n",
      "Read in 20016 BUS records\n",
      "Read in 20016 text records\n",
      " all fits in buffer\n",
      "Read in 20016 BUS records\n",
      "reading time 0s\n",
      "sorting time 0s\n",
      "writing time 0.01s\n",
      "Found 775516 barcodes in the on-list\n",
      "Processed 632457 BUS records\n",
      "In on-list = 98723\n",
      "Corrected    = 157523\n",
      "Uncorrected  = 376211\n",
      "Read in 256246 BUS records\n",
      "Read in 256246 text records\n",
      "partition time: 0.01s\n",
      " all fits in buffer\n",
      "Read in 256246 BUS records\n",
      "reading time 0s\n",
      "sorting time 0.34s\n",
      "writing time 0.02s\n"
     ]
    },
    {
     "name": "stderr",
     "output_type": "stream",
     "text": [
      " 82%|████████████████████████████████████████████████████████████████████████████████████████████████▊                     | 87/106 [elapsed: 32:49 remaining: 05:36]"
     ]
    },
    {
     "name": "stdout",
     "output_type": "stream",
     "text": [
      "Found 775516 barcodes in the on-list\n",
      "Processed 18373 BUS records\n",
      "In on-list = 8430\n",
      "Corrected    = 2854\n",
      "Uncorrected  = 7089\n",
      "Read in 11284 BUS records\n",
      "Read in 11284 text records\n",
      " all fits in buffer\n",
      "Read in 11284 BUS records\n",
      "reading time 0s\n",
      "sorting time 0s\n",
      "writing time 0.02s\n",
      "Found 775516 barcodes in the on-list\n",
      "Processed 487079 BUS records\n",
      "In on-list = 58771\n",
      "Corrected    = 126702\n",
      "Uncorrected  = 301606\n",
      "Read in 185473 BUS records\n",
      "Read in 185473 text records\n",
      "partition time: 0s\n",
      " all fits in buffer\n",
      "Read in 185473 BUS records\n",
      "reading time 0s\n",
      "sorting time 0.17s\n",
      "writing time 0s\n"
     ]
    },
    {
     "name": "stderr",
     "output_type": "stream",
     "text": [
      " 83%|█████████████████████████████████████████████████████████████████████████████████████████████████▉                    | 88/106 [elapsed: 33:04 remaining: 05:04]"
     ]
    },
    {
     "name": "stdout",
     "output_type": "stream",
     "text": [
      "Found 775516 barcodes in the on-list\n",
      "Processed 32038 BUS records\n",
      "In on-list = 12997\n",
      "Corrected    = 5414\n",
      "Uncorrected  = 13627\n",
      "Read in 18411 BUS records\n",
      "Read in 18411 text records\n",
      " all fits in buffer\n",
      "Read in 18411 BUS records\n",
      "reading time 0s\n",
      "sorting time 0s\n",
      "writing time 0s\n",
      "Found 775516 barcodes in the on-list\n",
      "Processed 1115907 BUS records\n",
      "In on-list = 138401\n",
      "Corrected    = 293243\n",
      "Uncorrected  = 684263\n",
      "Read in 431644 BUS records\n",
      "Read in 431644 text records\n",
      "partition time: 0.01s\n",
      " all fits in buffer\n",
      "Read in 431644 BUS records\n",
      "reading time 0s\n",
      "sorting time 0.23s\n",
      "writing time 0.02s\n"
     ]
    },
    {
     "name": "stderr",
     "output_type": "stream",
     "text": [
      " 84%|███████████████████████████████████████████████████████████████████████████████████████████████████                   | 89/106 [elapsed: 33:21 remaining: 04:47]"
     ]
    },
    {
     "name": "stdout",
     "output_type": "stream",
     "text": [
      "Found 775516 barcodes in the on-list\n",
      "Processed 45527 BUS records\n",
      "In on-list = 35723\n",
      "Corrected    = 2705\n",
      "Uncorrected  = 7099\n",
      "Read in 38428 BUS records\n",
      "Read in 38428 text records\n",
      " all fits in buffer\n",
      "Read in 38428 BUS records\n",
      "reading time 0s\n",
      "sorting time 0.01s\n",
      "writing time 0s\n",
      "Found 775516 barcodes in the on-list\n",
      "Processed 1189479 BUS records\n",
      "In on-list = 269966\n",
      "Corrected    = 273914\n",
      "Uncorrected  = 645599\n",
      "Read in 543880 BUS records\n",
      "Read in 543880 text records\n",
      "partition time: 0.02s\n",
      " all fits in buffer\n",
      "Read in 543880 BUS records\n",
      "reading time 0.01s\n",
      "sorting time 0.38s\n",
      "writing time 0.03s\n"
     ]
    },
    {
     "name": "stderr",
     "output_type": "stream",
     "text": [
      " 85%|████████████████████████████████████████████████████████████████████████████████████████████████████▏                 | 90/106 [elapsed: 33:38 remaining: 04:32]"
     ]
    },
    {
     "name": "stdout",
     "output_type": "stream",
     "text": [
      "Found 775516 barcodes in the on-list\n",
      "Processed 43882 BUS records\n",
      "In on-list = 17438\n",
      "Corrected    = 7461\n",
      "Uncorrected  = 18983\n",
      "Read in 24899 BUS records\n",
      "Read in 24899 text records\n",
      " all fits in buffer\n",
      "Read in 24899 BUS records\n",
      "reading time 0s\n",
      "sorting time 0.01s\n",
      "writing time 0s\n",
      "Found 775516 barcodes in the on-list\n",
      "Processed 1402156 BUS records\n",
      "In on-list = 196534\n",
      "Corrected    = 359255\n",
      "Uncorrected  = 846367\n",
      "Read in 555789 BUS records\n",
      "Read in 555789 text records\n",
      "partition time: 0.03s\n",
      " all fits in buffer\n",
      "Read in 555789 BUS records\n",
      "reading time 0.01s\n",
      "sorting time 0.57s\n",
      "writing time 0.02s\n"
     ]
    },
    {
     "name": "stderr",
     "output_type": "stream",
     "text": [
      " 86%|█████████████████████████████████████████████████████████████████████████████████████████████████████▎                | 91/106 [elapsed: 33:56 remaining: 04:19]"
     ]
    },
    {
     "name": "stdout",
     "output_type": "stream",
     "text": [
      "Found 775516 barcodes in the on-list\n",
      "Processed 27790 BUS records\n",
      "In on-list = 21624\n",
      "Corrected    = 2043\n",
      "Uncorrected  = 4123\n",
      "Read in 23667 BUS records\n",
      "Read in 23667 text records\n",
      " all fits in buffer\n",
      "Read in 23667 BUS records\n",
      "reading time 0s\n",
      "sorting time 0s\n",
      "writing time 0s\n",
      "Found 775516 barcodes in the on-list\n",
      "Processed 113787 BUS records\n",
      "In on-list = 48666\n",
      "Corrected    = 20046\n",
      "Uncorrected  = 45075\n",
      "Read in 68712 BUS records\n",
      "Read in 68712 text records\n",
      " all fits in buffer\n",
      "Read in 68712 BUS records\n",
      "reading time 0.01s\n",
      "sorting time 0.01s\n",
      "writing time 0s\n"
     ]
    },
    {
     "name": "stderr",
     "output_type": "stream",
     "text": [
      " 87%|██████████████████████████████████████████████████████████████████████████████████████████████████████▍               | 92/106 [elapsed: 34:10 remaining: 03:47]"
     ]
    },
    {
     "name": "stdout",
     "output_type": "stream",
     "text": [
      "Found 775516 barcodes in the on-list\n",
      "Processed 66548 BUS records\n",
      "In on-list = 57900\n",
      "Corrected    = 2259\n",
      "Uncorrected  = 6389\n",
      "Read in 60159 BUS records\n",
      "Read in 60159 text records\n",
      " all fits in buffer\n",
      "Read in 60159 BUS records\n",
      "reading time 0.01s\n",
      "sorting time 0s\n",
      "writing time 0s\n",
      "Found 775516 barcodes in the on-list\n",
      "Processed 2207320 BUS records\n",
      "In on-list = 458705\n",
      "Corrected    = 475876\n",
      "Uncorrected  = 1272739\n",
      "Read in 934581 BUS records\n",
      "Read in 934581 text records\n",
      "partition time: 0.04s\n",
      " all fits in buffer\n",
      "Read in 934581 BUS records\n",
      "reading time 0.02s\n",
      "sorting time 0.3s\n",
      "writing time 0.02s\n"
     ]
    },
    {
     "name": "stderr",
     "output_type": "stream",
     "text": [
      " 88%|███████████████████████████████████████████████████████████████████████████████████████████████████████▌              | 93/106 [elapsed: 34:30 remaining: 03:46]"
     ]
    },
    {
     "name": "stdout",
     "output_type": "stream",
     "text": [
      "Found 775516 barcodes in the on-list\n",
      "Processed 81345 BUS records\n",
      "In on-list = 48308\n",
      "Corrected    = 9081\n",
      "Uncorrected  = 23956\n",
      "Read in 57389 BUS records\n",
      "Read in 57389 text records\n",
      " all fits in buffer\n",
      "Read in 57389 BUS records\n",
      "reading time 0s\n",
      "sorting time 0s\n",
      "writing time 0s\n",
      "Found 775516 barcodes in the on-list\n",
      "Processed 1815553 BUS records\n",
      "In on-list = 337992\n",
      "Corrected    = 419950\n",
      "Uncorrected  = 1057611\n",
      "Read in 757942 BUS records\n",
      "Read in 757942 text records\n",
      "partition time: 0.03s\n",
      " all fits in buffer\n",
      "Read in 757942 BUS records\n",
      "reading time 0.01s\n",
      "sorting time 0.4s\n",
      "writing time 0.02s\n"
     ]
    },
    {
     "name": "stderr",
     "output_type": "stream",
     "text": [
      " 89%|████████████████████████████████████████████████████████████████████████████████████████████████████████▋             | 94/106 [elapsed: 34:49 remaining: 03:37]"
     ]
    },
    {
     "name": "stdout",
     "output_type": "stream",
     "text": [
      "Found 775516 barcodes in the on-list\n",
      "Processed 83508 BUS records\n",
      "In on-list = 71554\n",
      "Corrected    = 3212\n",
      "Uncorrected  = 8742\n",
      "Read in 74766 BUS records\n",
      "Read in 74766 text records\n",
      " all fits in buffer\n",
      "Read in 74766 BUS records\n",
      "reading time 0.01s\n",
      "sorting time 0.01s\n",
      "writing time 0s\n",
      "Found 775516 barcodes in the on-list\n",
      "Processed 1394274 BUS records\n",
      "In on-list = 206754\n",
      "Corrected    = 358455\n",
      "Uncorrected  = 829065\n",
      "Read in 565209 BUS records\n",
      "Read in 565209 text records\n",
      "partition time: 0.02s\n",
      " all fits in buffer\n",
      "Read in 565209 BUS records\n",
      "reading time 0.01s\n",
      "sorting time 0.59s\n",
      "writing time 0.01s\n"
     ]
    },
    {
     "name": "stderr",
     "output_type": "stream",
     "text": [
      " 90%|█████████████████████████████████████████████████████████████████████████████████████████████████████████▊            | 95/106 [elapsed: 35:08 remaining: 03:20]"
     ]
    },
    {
     "name": "stdout",
     "output_type": "stream",
     "text": [
      "Found 775516 barcodes in the on-list\n",
      "Processed 10569 BUS records\n",
      "In on-list = 4860\n",
      "Corrected    = 1663\n",
      "Uncorrected  = 4046\n",
      "Read in 6523 BUS records\n",
      "Read in 6523 text records\n",
      " all fits in buffer\n",
      "Read in 6523 BUS records\n",
      "reading time 0s\n",
      "sorting time 0s\n",
      "writing time 0s\n",
      "Found 775516 barcodes in the on-list\n",
      "Processed 538939 BUS records\n",
      "In on-list = 59088\n",
      "Corrected    = 145238\n",
      "Uncorrected  = 334613\n",
      "Read in 204326 BUS records\n",
      "Read in 204326 text records\n",
      "partition time: 0s\n",
      " all fits in buffer\n",
      "Read in 204326 BUS records\n",
      "reading time 0s\n",
      "sorting time 0.42s\n",
      "writing time 0s\n"
     ]
    },
    {
     "name": "stderr",
     "output_type": "stream",
     "text": [
      " 91%|██████████████████████████████████████████████████████████████████████████████████████████████████████████▊           | 96/106 [elapsed: 35:23 remaining: 02:54]"
     ]
    },
    {
     "name": "stdout",
     "output_type": "stream",
     "text": [
      "Found 775516 barcodes in the on-list\n",
      "Processed 70564 BUS records\n",
      "In on-list = 44976\n",
      "Corrected    = 7060\n",
      "Uncorrected  = 18528\n",
      "Read in 52036 BUS records\n",
      "Read in 52036 text records\n",
      " all fits in buffer\n",
      "Read in 52036 BUS records\n",
      "reading time 0s\n",
      "sorting time 0.01s\n",
      "writing time 0s\n",
      "Found 775516 barcodes in the on-list\n",
      "Processed 2656059 BUS records\n",
      "In on-list = 570973\n",
      "Corrected    = 625876\n",
      "Uncorrected  = 1459210\n",
      "Read in 1196849 BUS records\n",
      "Read in 1196849 text records\n",
      "partition time: 0.05s\n",
      " all fits in buffer\n",
      "Read in 1196849 BUS records\n",
      "reading time 0.02s\n",
      "sorting time 0.41s\n",
      "writing time 0.04s\n"
     ]
    },
    {
     "name": "stderr",
     "output_type": "stream",
     "text": [
      " 92%|███████████████████████████████████████████████████████████████████████████████████████████████████████████▉          | 97/106 [elapsed: 35:46 remaining: 02:49]"
     ]
    },
    {
     "name": "stdout",
     "output_type": "stream",
     "text": [
      "Found 775516 barcodes in the on-list\n",
      "Processed 52944 BUS records\n",
      "In on-list = 39204\n",
      "Corrected    = 3483\n",
      "Uncorrected  = 10257\n",
      "Read in 42687 BUS records\n",
      "Read in 42687 text records\n",
      " all fits in buffer\n",
      "Read in 42687 BUS records\n",
      "reading time 0s\n",
      "sorting time 0s\n",
      "writing time 0s\n",
      "Found 775516 barcodes in the on-list\n",
      "Processed 1608473 BUS records\n",
      "In on-list = 370372\n",
      "Corrected    = 364951\n",
      "Uncorrected  = 873150\n",
      "Read in 735323 BUS records\n",
      "Read in 735323 text records\n",
      "partition time: 0.03s\n",
      " all fits in buffer\n",
      "Read in 735323 BUS records\n",
      "reading time 0.01s\n",
      "sorting time 0.42s\n",
      "writing time 0.02s\n"
     ]
    },
    {
     "name": "stderr",
     "output_type": "stream",
     "text": [
      " 92%|█████████████████████████████████████████████████████████████████████████████████████████████████████████████         | 98/106 [elapsed: 36:05 remaining: 02:31]"
     ]
    },
    {
     "name": "stdout",
     "output_type": "stream",
     "text": [
      "Found 775516 barcodes in the on-list\n",
      "Processed 70429 BUS records\n",
      "In on-list = 50913\n",
      "Corrected    = 4998\n",
      "Uncorrected  = 14518\n",
      "Read in 55911 BUS records\n",
      "Read in 55911 text records\n",
      " all fits in buffer\n",
      "Read in 55911 BUS records\n",
      "reading time 0s\n",
      "sorting time 0.01s\n",
      "writing time 0s\n",
      "Found 775516 barcodes in the on-list\n",
      "Processed 2301647 BUS records\n",
      "In on-list = 498572\n",
      "Corrected    = 531224\n",
      "Uncorrected  = 1271851\n",
      "Read in 1029796 BUS records\n",
      "Read in 1029796 text records\n",
      "partition time: 0.04s\n",
      " all fits in buffer\n",
      "Read in 1029796 BUS records\n",
      "reading time 0.02s\n",
      "sorting time 0.36s\n",
      "writing time 0.03s\n"
     ]
    },
    {
     "name": "stderr",
     "output_type": "stream",
     "text": [
      " 93%|██████████████████████████████████████████████████████████████████████████████████████████████████████████████▏       | 99/106 [elapsed: 36:26 remaining: 02:16]"
     ]
    },
    {
     "name": "stdout",
     "output_type": "stream",
     "text": [
      "Found 775516 barcodes in the on-list\n",
      "Processed 52457 BUS records\n",
      "In on-list = 36655\n",
      "Corrected    = 4246\n",
      "Uncorrected  = 11556\n",
      "Read in 40901 BUS records\n",
      "Read in 40901 text records\n",
      " all fits in buffer\n",
      "Read in 40901 BUS records\n",
      "reading time 0s\n",
      "sorting time 0s\n",
      "writing time 0s\n",
      "Found 775516 barcodes in the on-list\n",
      "Processed 1106009 BUS records\n",
      "In on-list = 169424\n",
      "Corrected    = 279347\n",
      "Uncorrected  = 657238\n",
      "Read in 448771 BUS records\n",
      "Read in 448771 text records\n",
      "partition time: 0.02s\n",
      " all fits in buffer\n",
      "Read in 448771 BUS records\n",
      "reading time 0s\n",
      "sorting time 0.41s\n",
      "writing time 0.06s\n"
     ]
    },
    {
     "name": "stderr",
     "output_type": "stream",
     "text": [
      " 94%|██████████████████████████████████████████████████████████████████████████████████████████████████████████████▍      | 100/106 [elapsed: 36:43 remaining: 01:52]"
     ]
    },
    {
     "name": "stdout",
     "output_type": "stream",
     "text": [
      "Found 775516 barcodes in the on-list\n",
      "Processed 68992 BUS records\n",
      "In on-list = 45224\n",
      "Corrected    = 6108\n",
      "Uncorrected  = 17660\n",
      "Read in 51332 BUS records\n",
      "Read in 51332 text records\n",
      " all fits in buffer\n",
      "Read in 51332 BUS records\n",
      "reading time 0s\n",
      "sorting time 0s\n",
      "writing time 0s\n",
      "Found 775516 barcodes in the on-list\n",
      "Processed 5266070 BUS records\n",
      "In on-list = 934888\n",
      "Corrected    = 1297092\n",
      "Uncorrected  = 3034090\n",
      "Read in 2231980 BUS records\n",
      "Read in 2231980 text records\n",
      "partition time: 0.1s\n",
      " all fits in buffer\n",
      "Read in 2231980 BUS records\n",
      "reading time 0.04s\n",
      "sorting time 0.7s\n",
      "writing time 0.05s\n"
     ]
    },
    {
     "name": "stderr",
     "output_type": "stream",
     "text": [
      " 95%|███████████████████████████████████████████████████████████████████████████████████████████████████████████████▍     | 101/106 [elapsed: 37:13 remaining: 01:50]"
     ]
    },
    {
     "name": "stdout",
     "output_type": "stream",
     "text": [
      "Found 775516 barcodes in the on-list\n",
      "Processed 18724 BUS records\n",
      "In on-list = 13104\n",
      "Corrected    = 1438\n",
      "Uncorrected  = 4182\n",
      "Read in 14542 BUS records\n",
      "Read in 14542 text records\n",
      " all fits in buffer\n",
      "Read in 14542 BUS records\n",
      "reading time 0s\n",
      "sorting time 0s\n",
      "writing time 0s\n",
      "Found 775516 barcodes in the on-list\n",
      "Processed 451232 BUS records\n",
      "In on-list = 63245\n",
      "Corrected    = 116905\n",
      "Uncorrected  = 271082\n",
      "Read in 180150 BUS records\n",
      "Read in 180150 text records\n",
      "partition time: 0s\n",
      " all fits in buffer\n",
      "Read in 180150 BUS records\n",
      "reading time 0s\n",
      "sorting time 0.04s\n",
      "writing time 0.01s\n"
     ]
    },
    {
     "name": "stderr",
     "output_type": "stream",
     "text": [
      " 96%|████████████████████████████████████████████████████████████████████████████████████████████████████████████████▌    | 102/106 [elapsed: 37:27 remaining: 01:19]"
     ]
    },
    {
     "name": "stdout",
     "output_type": "stream",
     "text": [
      "Found 775516 barcodes in the on-list\n",
      "Processed 72432 BUS records\n",
      "In on-list = 44732\n",
      "Corrected    = 7551\n",
      "Uncorrected  = 20149\n",
      "Read in 52283 BUS records\n",
      "Read in 52283 text records\n",
      " all fits in buffer\n",
      "Read in 52283 BUS records\n",
      "reading time 0.01s\n",
      "sorting time 0.01s\n",
      "writing time 0s\n",
      "Found 775516 barcodes in the on-list\n",
      "Processed 3743811 BUS records\n",
      "In on-list = 387788\n",
      "Corrected    = 1016588\n",
      "Uncorrected  = 2339435\n",
      "Read in 1404376 BUS records\n",
      "Read in 1404376 text records\n",
      "partition time: 0.06s\n",
      " all fits in buffer\n",
      "Read in 1404376 BUS records\n",
      "reading time 0.02s\n",
      "sorting time 0.45s\n",
      "writing time 0.04s\n"
     ]
    },
    {
     "name": "stderr",
     "output_type": "stream",
     "text": [
      " 97%|█████████████████████████████████████████████████████████████████████████████████████████████████████████████████▋   | 103/106 [elapsed: 37:53 remaining: 01:04]"
     ]
    },
    {
     "name": "stdout",
     "output_type": "stream",
     "text": [
      "Found 775516 barcodes in the on-list\n",
      "Processed 61300 BUS records\n",
      "In on-list = 36891\n",
      "Corrected    = 6423\n",
      "Uncorrected  = 17986\n",
      "Read in 43314 BUS records\n",
      "Read in 43314 text records\n",
      " all fits in buffer\n",
      "Read in 43314 BUS records\n",
      "reading time 0s\n",
      "sorting time 0.01s\n",
      "writing time 0s\n",
      "Found 775516 barcodes in the on-list\n",
      "Processed 2900207 BUS records\n",
      "In on-list = 535167\n",
      "Corrected    = 702930\n",
      "Uncorrected  = 1662110\n",
      "Read in 1238097 BUS records\n",
      "Read in 1238097 text records\n",
      "partition time: 0.05s\n",
      " all fits in buffer\n",
      "Read in 1238097 BUS records\n",
      "reading time 0.01s\n",
      "sorting time 0.38s\n",
      "writing time 0.03s\n"
     ]
    },
    {
     "name": "stderr",
     "output_type": "stream",
     "text": [
      " 98%|██████████████████████████████████████████████████████████████████████████████████████████████████████████████████▊  | 104/106 [elapsed: 38:15 remaining: 00:43]"
     ]
    },
    {
     "name": "stdout",
     "output_type": "stream",
     "text": [
      "Found 775516 barcodes in the on-list\n",
      "Processed 20022 BUS records\n",
      "In on-list = 9531\n",
      "Corrected    = 2900\n",
      "Uncorrected  = 7591\n",
      "Read in 12431 BUS records\n",
      "Read in 12431 text records\n",
      " all fits in buffer\n",
      "Read in 12431 BUS records\n",
      "reading time 0.01s\n",
      "sorting time 0s\n",
      "writing time 0s\n",
      "Found 775516 barcodes in the on-list\n",
      "Processed 1079611 BUS records\n",
      "In on-list = 188331\n",
      "Corrected    = 264462\n",
      "Uncorrected  = 626818\n",
      "Read in 452793 BUS records\n",
      "Read in 452793 text records\n",
      "partition time: 0.01s\n",
      " all fits in buffer\n",
      "Read in 452793 BUS records\n",
      "reading time 0s\n",
      "sorting time 0.14s\n",
      "writing time 0.01s\n"
     ]
    },
    {
     "name": "stderr",
     "output_type": "stream",
     "text": [
      " 99%|███████████████████████████████████████████████████████████████████████████████████████████████████████████████████▉ | 105/106 [elapsed: 38:32 remaining: 00:20]"
     ]
    },
    {
     "name": "stdout",
     "output_type": "stream",
     "text": [
      "Found 775516 barcodes in the on-list\n",
      "Processed 28897 BUS records\n",
      "In on-list = 16161\n",
      "Corrected    = 3480\n",
      "Uncorrected  = 9256\n",
      "Read in 19641 BUS records\n",
      "Read in 19641 text records\n",
      " all fits in buffer\n",
      "Read in 19641 BUS records\n",
      "reading time 0s\n",
      "sorting time 0s\n",
      "writing time 0s\n",
      "Found 775516 barcodes in the on-list\n",
      "Processed 1453749 BUS records\n",
      "In on-list = 304618\n",
      "Corrected    = 335196\n",
      "Uncorrected  = 813935\n",
      "Read in 639814 BUS records\n",
      "Read in 639814 text records\n",
      "partition time: 0.02s\n",
      " all fits in buffer\n",
      "Read in 639814 BUS records\n",
      "reading time 0.01s\n",
      "sorting time 0.15s\n",
      "writing time 0.01s\n"
     ]
    },
    {
     "name": "stderr",
     "output_type": "stream",
     "text": [
      "100%|█████████████████████████████████████████████████████████████████████████████████████████████████████████████████████| 106/106 [elapsed: 38:50 remaining: 00:00]"
     ]
    },
    {
     "name": "stdout",
     "output_type": "stream",
     "text": [
      "CPU times: user 34.6 s, sys: 12.2 s, total: 46.8 s\n",
      "Wall time: 38min 50s\n"
     ]
    },
    {
     "name": "stderr",
     "output_type": "stream",
     "text": [
      "\n"
     ]
    }
   ],
   "source": [
    "%%time\n",
    "with tqdm(total=len(sample_barcodes), bar_format=TQDM_BAR_FORMAT) as pbar:\n",
    "    for sb in sample_barcodes:\n",
    "        for ent in [\"host\", \"virus\"]:\n",
    "            bus_name = f\"output_{sb}_{ent}.bus\"\n",
    "            \n",
    "            # Correct barcodes (no need to sort first)\n",
    "            # This needs to be done before removing the flag column since adding the sample barcodes to the cell barcodes will confuse bustools correct\n",
    "            !$bustools correct \\\n",
    "                -w $host_whitelist_folder/bustools_whitelist.txt \\\n",
    "                -o $out_folder/output_temp1.bus \\\n",
    "                $out_folder/$bus_name\n",
    "\n",
    "            # Remove flag column so bustools count does not get confused\n",
    "            # -a retains the sample barcodes and adds them to the normal cell barcodes\n",
    "            !$bustools text \\\n",
    "                -apf $out_folder/output_temp1.bus | cut -d$'\\t' -f1,2,3,4 \\\n",
    "                | $bustools fromtext -o $out_folder/output_temp2.bus -\n",
    "\n",
    "            # Sort and count\n",
    "            !$bustools sort \\\n",
    "                -m 4G \\\n",
    "                -t 30 \\\n",
    "                -o $out_folder/output_temp3.bus \\\n",
    "                $out_folder/output_temp2.bus\n",
    "\n",
    "            os.makedirs(f\"{out_folder}/{sb}/{ent}\", exist_ok=True)\n",
    "            !$bustools count \\\n",
    "                --genecounts \\\n",
    "                -o $out_folder/$sb/$ent/bustools_count/ \\\n",
    "                -g $virus_t2g \\\n",
    "                -e $out_folder/matrix.ec \\\n",
    "                -t $out_folder/transcripts.txt \\\n",
    "                $out_folder/output_temp3.bus\n",
    "        \n",
    "        pbar.update(n=1)"
   ]
  },
  {
   "cell_type": "code",
   "execution_count": null,
   "id": "037dd530-998c-4ef1-9206-88000e94c44d",
   "metadata": {},
   "outputs": [],
   "source": []
  }
 ],
 "metadata": {
  "kernelspec": {
   "display_name": "Python 3 (ipykernel)",
   "language": "python",
   "name": "python3"
  },
  "language_info": {
   "codemirror_mode": {
    "name": "ipython",
    "version": 3
   },
   "file_extension": ".py",
   "mimetype": "text/x-python",
   "name": "python",
   "nbconvert_exporter": "python",
   "pygments_lexer": "ipython3",
   "version": "3.9.12"
  }
 },
 "nbformat": 4,
 "nbformat_minor": 5
}
