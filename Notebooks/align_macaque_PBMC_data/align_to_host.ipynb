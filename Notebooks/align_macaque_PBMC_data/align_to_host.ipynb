{
  "cells": [
    {
      "cell_type": "markdown",
      "metadata": {
        "id": "view-in-github",
        "colab_type": "text"
      },
      "source": [
        "<a href=\"https://colab.research.google.com/github/pachterlab/LSCHWCP_2023/blob/main/Notebooks/align_macaque_PBMC_data/align_to_host.ipynb\" target=\"_parent\"><img src=\"https://colab.research.google.com/assets/colab-badge.svg\" alt=\"Open In Colab\"/></a>"
      ]
    },
    {
      "cell_type": "markdown",
      "source": [
        "# Align the data from Kotliar *et al.* to the hosts, macaque and dog (to account for the MDCK spike-in)"
      ],
      "metadata": {
        "id": "dv7pMH2FC6c8"
      },
      "id": "dv7pMH2FC6c8"
    },
    {
      "cell_type": "markdown",
      "source": [
        "# Download raw data"
      ],
      "metadata": {
        "id": "hD54QPwCKVdt"
      },
      "id": "hD54QPwCKVdt"
    },
    {
      "cell_type": "code",
      "source": [
        "!pip install -q ffq\n",
        "import json\n",
        "\n",
        "out = \"GSE158390_data.json\"\n",
        "\n",
        "# # Download the complete dataset (106 paired fastqs containing a total of 30 billion reads)\n",
        "# !ffq GSE158390 --ftp -o $out\n",
        "\n",
        "# Download only two fastq pairs to demonstrate this notebook\n",
        "!ffq SRR12698499 SRR12698500 --ftp -o $out\n",
        "\n",
        "f = open(out)\n",
        "data = json.load(f)\n",
        "f.close()\n",
        "\n",
        "print(len(data))\n",
        "\n",
        "for dataset in data:\n",
        "    url = dataset[\"url\"]\n",
        "    !curl -O $url"
      ],
      "metadata": {
        "id": "zXUAPo5nKZrU",
        "outputId": "ed828630-0fb5-42a0-e62c-9b3246723cc9",
        "colab": {
          "base_uri": "https://localhost:8080/"
        }
      },
      "id": "zXUAPo5nKZrU",
      "execution_count": 1,
      "outputs": [
        {
          "output_type": "stream",
          "name": "stdout",
          "text": [
            "[2023-12-13 04:56:38,436]    INFO Parsing run SRR12698499\n",
            "[2023-12-13 04:56:40,716]    INFO Parsing run SRR12698500\n",
            "4\n",
            "  % Total    % Received % Xferd  Average Speed   Time    Time     Time  Current\n",
            "                                 Dload  Upload   Total   Spent    Left  Speed\n",
            "100 4558M  100 4558M    0     0  45.4M      0  0:01:40  0:01:40 --:--:-- 43.6M\n",
            "  % Total    % Received % Xferd  Average Speed   Time    Time     Time  Current\n",
            "                                 Dload  Upload   Total   Spent    Left  Speed\n",
            "100 11.9G  100 11.9G    0     0  42.4M      0  0:04:47  0:04:47 --:--:-- 42.3M\n",
            "  % Total    % Received % Xferd  Average Speed   Time    Time     Time  Current\n",
            "                                 Dload  Upload   Total   Spent    Left  Speed\n",
            "100 4046M  100 4046M    0     0  45.9M      0  0:01:28  0:01:28 --:--:-- 47.2M\n",
            "  % Total    % Received % Xferd  Average Speed   Time    Time     Time  Current\n",
            "                                 Dload  Upload   Total   Spent    Left  Speed\n",
            "100 10.6G  100 10.6G    0     0  41.3M      0  0:04:23  0:04:23 --:--:-- 42.3M\n"
          ]
        }
      ]
    },
    {
      "cell_type": "markdown",
      "id": "e8ef6419-dd14-4729-9ea2-cb9fa4796794",
      "metadata": {
        "id": "e8ef6419-dd14-4729-9ea2-cb9fa4796794"
      },
      "source": [
        "# Align to the macaque and dog reference genomes"
      ]
    },
    {
      "cell_type": "code",
      "execution_count": 2,
      "id": "560c5f4b-871c-420f-ae05-846ac2048104",
      "metadata": {
        "id": "560c5f4b-871c-420f-ae05-846ac2048104",
        "outputId": "328fd5d0-8a14-40ff-d563-9e4b80aa5021",
        "colab": {
          "base_uri": "https://localhost:8080/"
        }
      },
      "outputs": [
        {
          "output_type": "stream",
          "name": "stdout",
          "text": [
            "\u001b[2K     \u001b[90m━━━━━━━━━━━━━━━━━━━━━━━━━━━━━━━━━━━━━━━━\u001b[0m \u001b[32m43.1/43.1 MB\u001b[0m \u001b[31m17.9 MB/s\u001b[0m eta \u001b[36m0:00:00\u001b[0m\n",
            "\u001b[2K     \u001b[90m━━━━━━━━━━━━━━━━━━━━━━━━━━━━━━━━━━━━━━━━\u001b[0m \u001b[32m13.1/13.1 MB\u001b[0m \u001b[31m32.6 MB/s\u001b[0m eta \u001b[36m0:00:00\u001b[0m\n",
            "\u001b[2K     \u001b[90m━━━━━━━━━━━━━━━━━━━━━━━━━━━━━━━━━━━━━━━━\u001b[0m \u001b[32m25.2/25.2 MB\u001b[0m \u001b[31m10.7 MB/s\u001b[0m eta \u001b[36m0:00:00\u001b[0m\n",
            "\u001b[2K     \u001b[90m━━━━━━━━━━━━━━━━━━━━━━━━━━━━━━━━━━━━━━━━\u001b[0m \u001b[32m119.2/119.2 kB\u001b[0m \u001b[31m9.3 MB/s\u001b[0m eta \u001b[36m0:00:00\u001b[0m\n",
            "\u001b[2K     \u001b[90m━━━━━━━━━━━━━━━━━━━━━━━━━━━━━━━━━━━━━━━━\u001b[0m \u001b[32m4.8/4.8 MB\u001b[0m \u001b[31m51.1 MB/s\u001b[0m eta \u001b[36m0:00:00\u001b[0m\n",
            "\u001b[?25h  Preparing metadata (setup.py) ... \u001b[?25l\u001b[?25hdone\n",
            "\u001b[2K     \u001b[90m━━━━━━━━━━━━━━━━━━━━━━━━━━━━━━━━━━━━━━━━\u001b[0m \u001b[32m45.2/45.2 MB\u001b[0m \u001b[31m12.1 MB/s\u001b[0m eta \u001b[36m0:00:00\u001b[0m\n",
            "\u001b[2K     \u001b[90m━━━━━━━━━━━━━━━━━━━━━━━━━━━━━━━━━━━━━━━━\u001b[0m \u001b[32m2.0/2.0 MB\u001b[0m \u001b[31m84.4 MB/s\u001b[0m eta \u001b[36m0:00:00\u001b[0m\n",
            "\u001b[2K     \u001b[90m━━━━━━━━━━━━━━━━━━━━━━━━━━━━━━━━━━━━━━━━\u001b[0m \u001b[32m21.9/21.9 MB\u001b[0m \u001b[31m68.2 MB/s\u001b[0m eta \u001b[36m0:00:00\u001b[0m\n",
            "\u001b[?25h  Preparing metadata (setup.py) ... \u001b[?25l\u001b[?25hdone\n",
            "\u001b[2K     \u001b[90m━━━━━━━━━━━━━━━━━━━━━━━━━━━━━━━━━━━━━━━━\u001b[0m \u001b[32m90.9/90.9 kB\u001b[0m \u001b[31m9.7 MB/s\u001b[0m eta \u001b[36m0:00:00\u001b[0m\n",
            "\u001b[?25h  Preparing metadata (setup.py) ... \u001b[?25l\u001b[?25hdone\n",
            "\u001b[2K     \u001b[90m━━━━━━━━━━━━━━━━━━━━━━━━━━━━━━━━━━━━━━━━\u001b[0m \u001b[32m1.6/1.6 MB\u001b[0m \u001b[31m67.0 MB/s\u001b[0m eta \u001b[36m0:00:00\u001b[0m\n",
            "\u001b[2K     \u001b[90m━━━━━━━━━━━━━━━━━━━━━━━━━━━━━━━━━━━━━━━━\u001b[0m \u001b[32m55.8/55.8 kB\u001b[0m \u001b[31m6.7 MB/s\u001b[0m eta \u001b[36m0:00:00\u001b[0m\n",
            "\u001b[2K     \u001b[90m━━━━━━━━━━━━━━━━━━━━━━━━━━━━━━━━━━━━━━━━\u001b[0m \u001b[32m79.8/79.8 kB\u001b[0m \u001b[31m10.6 MB/s\u001b[0m eta \u001b[36m0:00:00\u001b[0m\n",
            "\u001b[?25h  Building wheel for loompy (setup.py) ... \u001b[?25l\u001b[?25hdone\n",
            "  Building wheel for umap-learn (setup.py) ... \u001b[?25l\u001b[?25hdone\n",
            "  Building wheel for session-info (setup.py) ... \u001b[?25l\u001b[?25hdone\n"
          ]
        }
      ],
      "source": [
        "!pip install -q gget kb_python\n",
        "import os\n",
        "import glob\n",
        "# Number of threads used for the alignment\n",
        "threads = 8 # Set to 2 if not using a TPU runtime"
      ]
    },
    {
      "cell_type": "markdown",
      "source": [
        "Generate batch file so we can align all fastq files at once:"
      ],
      "metadata": {
        "id": "fw_nWuW4NOQG"
      },
      "id": "fw_nWuW4NOQG"
    },
    {
      "cell_type": "code",
      "execution_count": 3,
      "id": "c7fa30fa-8b32-4ffc-a772-f2b7c3410921",
      "metadata": {
        "id": "c7fa30fa-8b32-4ffc-a772-f2b7c3410921"
      },
      "outputs": [],
      "source": [
        "fastqs = []\n",
        "for filename in glob.glob(\"*.fastq.gz\"):\n",
        "    fastqs.append(filename.split(\"/\")[-1])\n",
        "\n",
        "fastqs.sort()"
      ]
    },
    {
      "cell_type": "code",
      "execution_count": 4,
      "id": "baa65c7c-248e-4aae-89a9-90cf2c6df1d2",
      "metadata": {
        "id": "baa65c7c-248e-4aae-89a9-90cf2c6df1d2",
        "outputId": "34641c51-4ce0-417f-d2fe-2b93ebc92e34",
        "colab": {
          "base_uri": "https://localhost:8080/"
        }
      },
      "outputs": [
        {
          "output_type": "execute_result",
          "data": {
            "text/plain": [
              "4"
            ]
          },
          "metadata": {},
          "execution_count": 4
        }
      ],
      "source": [
        "len(fastqs)"
      ]
    },
    {
      "cell_type": "code",
      "source": [
        "samples = []\n",
        "for fastq in fastqs:\n",
        "    samples.append(fastq.split(\"_\")[0])\n",
        "\n",
        "samples = list(set(samples))\n",
        "len(samples)"
      ],
      "metadata": {
        "id": "4QsDTK1ANDcj",
        "outputId": "92d36587-9ae6-4ff2-a703-661ab7074e05",
        "colab": {
          "base_uri": "https://localhost:8080/"
        }
      },
      "id": "4QsDTK1ANDcj",
      "execution_count": 5,
      "outputs": [
        {
          "output_type": "execute_result",
          "data": {
            "text/plain": [
              "2"
            ]
          },
          "metadata": {},
          "execution_count": 5
        }
      ]
    },
    {
      "cell_type": "code",
      "source": [
        "sample_batch_file = \"batch.txt\"\n",
        "with open(sample_batch_file, \"w\") as batch_file:\n",
        "    for sample in samples:\n",
        "        fastq1 = sample + \"_1.fastq.gz\"\n",
        "        fastq2 = sample + \"_2.fastq.gz\"\n",
        "        batch_file.write(sample + \"\\t\" + fastq1 + \"\\t\" + fastq2 + \"\\n\")"
      ],
      "metadata": {
        "id": "8Gaq3A3HNE6Q"
      },
      "id": "8Gaq3A3HNE6Q",
      "execution_count": 6,
      "outputs": []
    },
    {
      "cell_type": "markdown",
      "id": "a8af1e70-b630-4b61-b967-4257d85a28da",
      "metadata": {
        "id": "a8af1e70-b630-4b61-b967-4257d85a28da"
      },
      "source": [
        "### Generate combined macaque / canine reference index"
      ]
    },
    {
      "cell_type": "code",
      "source": [
        "# Download macaque and dog reference genomes and gtf files\n",
        "!gget ref -w dna,gtf -r 110 -d macaca_mulatta\n",
        "!gget ref -w dna,gtf -r 110 -d canis_lupus_familiaris\n",
        "\n",
        "macaque_fasta = \"Macaca_mulatta.Mmul_10.dna.toplevel.fa.gz\"\n",
        "macaque_gtf = \"Macaca_mulatta.Mmul_10.110.gtf.gz\"\n",
        "canine_fasta = \"Canis_lupus_familiaris.ROS_Cfam_1.0.dna.toplevel.fa.gz\"\n",
        "canine_gtf = \"Canis_lupus_familiaris.ROS_Cfam_1.0.110.gtf.gz\""
      ],
      "metadata": {
        "id": "rwk8BtK0MWvf",
        "outputId": "3b80223b-540f-4d32-a7fb-2c19b832961f",
        "colab": {
          "base_uri": "https://localhost:8080/"
        }
      },
      "id": "rwk8BtK0MWvf",
      "execution_count": 7,
      "outputs": [
        {
          "output_type": "stream",
          "name": "stdout",
          "text": [
            "Wed Dec 13 05:09:40 2023 INFO Fetching reference information for macaca_mulatta from Ensembl release: 110.\n",
            "{\n",
            "    \"macaca_mulatta\": {\n",
            "        \"genome_dna\": {\n",
            "            \"ftp\": \"http://ftp.ensembl.org/pub/release-110/fasta/macaca_mulatta/dna/Macaca_mulatta.Mmul_10.dna.toplevel.fa.gz\",\n",
            "            \"ensembl_release\": 110,\n",
            "            \"release_date\": \"2023-04-21\",\n",
            "            \"release_time\": \"17:52\",\n",
            "            \"bytes\": \"832M\"\n",
            "        },\n",
            "        \"annotation_gtf\": {\n",
            "            \"ftp\": \"http://ftp.ensembl.org/pub/release-110/gtf/macaca_mulatta/Macaca_mulatta.Mmul_10.110.gtf.gz\",\n",
            "            \"ensembl_release\": 110,\n",
            "            \"release_date\": \"2023-04-26\",\n",
            "            \"release_time\": \"11:45\",\n",
            "            \"bytes\": \"19M\"\n",
            "        }\n",
            "    }\n",
            "}\n",
            "  % Total    % Received % Xferd  Average Speed   Time    Time     Time  Current\n",
            "                                 Dload  Upload   Total   Spent    Left  Speed\n",
            "100  832M  100  832M    0     0   687k      0  0:20:39  0:20:39 --:--:--  687k\n",
            "  % Total    % Received % Xferd  Average Speed   Time    Time     Time  Current\n",
            "                                 Dload  Upload   Total   Spent    Left  Speed\n",
            "100 18.8M  100 18.8M    0     0   673k      0  0:00:28  0:00:28 --:--:--  690k\n",
            "Wed Dec 13 05:30:56 2023 INFO Fetching reference information for canis_lupus_familiaris from Ensembl release: 110.\n",
            "{\n",
            "    \"canis_lupus_familiaris\": {\n",
            "        \"genome_dna\": {\n",
            "            \"ftp\": \"http://ftp.ensembl.org/pub/release-110/fasta/canis_lupus_familiaris/dna/Canis_lupus_familiaris.ROS_Cfam_1.0.dna.toplevel.fa.gz\",\n",
            "            \"ensembl_release\": 110,\n",
            "            \"release_date\": \"2023-04-21\",\n",
            "            \"release_time\": \"17:46\",\n",
            "            \"bytes\": \"693M\"\n",
            "        },\n",
            "        \"annotation_gtf\": {\n",
            "            \"ftp\": \"http://ftp.ensembl.org/pub/release-110/gtf/canis_lupus_familiaris/Canis_lupus_familiaris.ROS_Cfam_1.0.110.gtf.gz\",\n",
            "            \"ensembl_release\": 110,\n",
            "            \"release_date\": \"2023-04-26\",\n",
            "            \"release_time\": \"01:18\",\n",
            "            \"bytes\": \"16M\"\n",
            "        }\n",
            "    }\n",
            "}\n",
            "  % Total    % Received % Xferd  Average Speed   Time    Time     Time  Current\n",
            "                                 Dload  Upload   Total   Spent    Left  Speed\n",
            "100  692M  100  692M    0     0   684k      0  0:17:16  0:17:16 --:--:--  687k\n",
            "  % Total    % Received % Xferd  Average Speed   Time    Time     Time  Current\n",
            "                                 Dload  Upload   Total   Spent    Left  Speed\n",
            "100 15.9M  100 15.9M    0     0   674k      0  0:00:24  0:00:24 --:--:--  696k\n"
          ]
        }
      ]
    },
    {
      "cell_type": "code",
      "execution_count": 8,
      "id": "9dc5959a-5b9f-4c0e-a342-4b02533b2587",
      "metadata": {
        "id": "9dc5959a-5b9f-4c0e-a342-4b02533b2587",
        "outputId": "aa8a77b7-5d22-4910-a57c-5e1c58219462",
        "colab": {
          "base_uri": "https://localhost:8080/"
        }
      },
      "outputs": [
        {
          "metadata": {
            "tags": null
          },
          "name": "stdout",
          "output_type": "stream",
          "text": [
            "[2023-12-13 05:48:49,496]    INFO [ref] Preparing Canis_lupus_familiaris.ROS_Cfam_1.0.dna.toplevel.fa.gz, Canis_lupus_familiaris.ROS_Cfam_1.0.110.gtf.gz\n",
            "[2023-12-13 05:49:28,082]    INFO [ref] Splitting genome Canis_lupus_familiaris.ROS_Cfam_1.0.dna.toplevel.fa.gz into cDNA at /content/tmp/tmpinekqsth\n",
            "[2023-12-13 05:50:46,307]    INFO [ref] Preparing Macaca_mulatta.Mmul_10.dna.toplevel.fa.gz, Macaca_mulatta.Mmul_10.110.gtf.gz\n",
            "[2023-12-13 05:51:29,833]    INFO [ref] Splitting genome Macaca_mulatta.Mmul_10.dna.toplevel.fa.gz into cDNA at /content/tmp/tmp2nvjiol7\n",
            "[2023-12-13 05:55:11,349]    INFO [ref] Concatenating 2 cDNAs to host_transcriptome.fa\n",
            "[2023-12-13 05:55:12,690]    INFO [ref] Creating transcript-to-gene mapping at host_t2g.txt\n",
            "[2023-12-13 05:55:16,041]    INFO [ref] Indexing host_transcriptome.fa to host_index.idx\n"
          ]
        }
      ],
      "source": [
        "index = \"host_index.idx\"\n",
        "t2g = \"host_t2g.txt\"\n",
        "fa = \"host_transcriptome.fa\"\n",
        "\n",
        "!kb ref \\\n",
        "    -t $threads \\\n",
        "    -i $index \\\n",
        "    -g $t2g \\\n",
        "    -f1 $fa \\\n",
        "    $canine_fasta,$macaque_fasta $canine_gtf,$macaque_gtf"
      ]
    },
    {
      "cell_type": "markdown",
      "id": "16b60cc4-c5a3-4e3e-b973-0e27ed7efb22",
      "metadata": {
        "id": "16b60cc4-c5a3-4e3e-b973-0e27ed7efb22"
      },
      "source": [
        "### Align to combined macaque and canine reference index"
      ]
    },
    {
      "cell_type": "code",
      "execution_count": 9,
      "id": "f3666977-d63e-4337-b565-2d9d2345fd07",
      "metadata": {
        "id": "f3666977-d63e-4337-b565-2d9d2345fd07"
      },
      "outputs": [],
      "source": [
        "host_out_folder = \"host\""
      ]
    },
    {
      "cell_type": "code",
      "source": [
        "# Install kallisto from source\n",
        "!git clone -q https://github.com/pachterlab/kallisto.git\n",
        "!cd kallisto && mkdir build && cd build && cmake .. && make\n",
        "\n",
        "# Install bustools from source\n",
        "!git clone -q https://github.com/BUStools/bustools.git\n",
        "!cd bustools && mkdir build && cd build && cmake .. && make\n",
        "\n",
        "# Define paths to kallisto and bustools binaries\n",
        "kallisto = \"/content/kallisto/build/src/kallisto\"\n",
        "bustools = \"/content/bustools/build/src/bustools\""
      ],
      "metadata": {
        "id": "2IzLwkLKP13h",
        "outputId": "02f5af2c-a063-4163-daa2-94e98acd6008",
        "colab": {
          "base_uri": "https://localhost:8080/"
        }
      },
      "id": "2IzLwkLKP13h",
      "execution_count": 10,
      "outputs": [
        {
          "output_type": "stream",
          "name": "stdout",
          "text": [
            "\u001b[0mCMake Deprecation Warning at CMakeLists.txt:1 (cmake_minimum_required):\n",
            "  Compatibility with CMake < 3.5 will be removed from a future version of\n",
            "  CMake.\n",
            "\n",
            "  Update the VERSION argument <min> value or use a ...<max> suffix to tell\n",
            "  CMake that the project does not need compatibility with older versions.\n",
            "\n",
            "\u001b[0m\n",
            "-- The C compiler identification is GNU 11.4.0\n",
            "-- The CXX compiler identification is GNU 11.4.0\n",
            "-- Detecting C compiler ABI info\n",
            "-- Detecting C compiler ABI info - done\n",
            "-- Check for working C compiler: /usr/bin/cc - skipped\n",
            "-- Detecting C compile features\n",
            "-- Detecting C compile features - done\n",
            "-- Detecting CXX compiler ABI info\n",
            "-- Detecting CXX compiler ABI info - done\n",
            "-- Check for working CXX compiler: /usr/bin/c++ - skipped\n",
            "-- Detecting CXX compile features\n",
            "-- Detecting CXX compile features - done\n",
            "-- Performing Test COMPILER_SUPPORTS_CXX17\n",
            "-- Performing Test COMPILER_SUPPORTS_CXX17 - Success\n",
            "\u001b[0mshared build\u001b[0m\n",
            "-- Performing Test CMAKE_HAVE_LIBC_PTHREAD\n",
            "-- Performing Test CMAKE_HAVE_LIBC_PTHREAD - Success\n",
            "-- Found Threads: TRUE  \n",
            "-- Found ZLIB: /usr/lib/x86_64-linux-gnu/libz.so (found version \"1.2.11\")  \n",
            "-- Configuring done (1.4s)\n",
            "-- Generating done (0.0s)\n",
            "-- Build files have been written to: /content/kallisto/build\n",
            "[  3%] \u001b[34m\u001b[1mCreating directories for 'bifrost'\u001b[0m\n",
            "[  7%] \u001b[34m\u001b[1mNo download step for 'bifrost'\u001b[0m\n",
            "[ 11%] \u001b[34m\u001b[1mNo update step for 'bifrost'\u001b[0m\n",
            "[ 15%] \u001b[34m\u001b[1mNo patch step for 'bifrost'\u001b[0m\n",
            "[ 19%] \u001b[34m\u001b[1mPerforming configure step for 'bifrost'\u001b[0m\n",
            "\u001b[0mCMake Deprecation Warning at CMakeLists.txt:1 (cmake_minimum_required):\n",
            "  Compatibility with CMake < 3.5 will be removed from a future version of\n",
            "  CMake.\n",
            "\n",
            "  Update the VERSION argument <min> value or use a ...<max> suffix to tell\n",
            "  CMake that the project does not need compatibility with older versions.\n",
            "\n",
            "\u001b[0m\n",
            "-- The C compiler identification is GNU 11.4.0\n",
            "-- The CXX compiler identification is GNU 11.4.0\n",
            "-- Detecting C compiler ABI info\n",
            "-- Detecting C compiler ABI info - done\n",
            "-- Check for working C compiler: /usr/bin/cc - skipped\n",
            "-- Detecting C compile features\n",
            "-- Detecting C compile features - done\n",
            "-- Detecting CXX compiler ABI info\n",
            "-- Detecting CXX compiler ABI info - done\n",
            "-- Check for working CXX compiler: /usr/bin/c++ - skipped\n",
            "-- Detecting CXX compile features\n",
            "-- Detecting CXX compile features - done\n",
            "-- Performing Test CMAKE_HAVE_LIBC_PTHREAD\n",
            "-- Performing Test CMAKE_HAVE_LIBC_PTHREAD - Success\n",
            "-- Found Threads: TRUE  \n",
            "\u001b[0mCompilation architecture: native\u001b[0m\n",
            "\u001b[0mBuild type: Release\u001b[0m\n",
            "\u001b[0mMaximum k-mer size: 31\u001b[0m\n",
            "\u001b[0mMaximum g-mer size: 31\u001b[0m\n",
            "-- Found ZLIB: /usr/lib/x86_64-linux-gnu/libz.so (found version \"1.2.11\")  \n",
            "-- Configuring done (0.5s)\n",
            "-- Generating done (0.0s)\n",
            "-- Build files have been written to: /content/kallisto/ext/bifrost/build\n",
            "[ 23%] \u001b[34m\u001b[1mPerforming build step for 'bifrost'\u001b[0m\n",
            "[  3%] \u001b[32mBuilding CXX object src/CMakeFiles/bifrost_static.dir/Bifrost.cpp.o\u001b[0m\n",
            "[  6%] \u001b[32mBuilding CXX object src/CMakeFiles/bifrost_static.dir/BitContainer.cpp.o\u001b[0m\n",
            "[  9%] \u001b[32mBuilding CXX object src/CMakeFiles/bifrost_static.dir/BlockedBloomFilter.cpp.o\u001b[0m\n",
            "[ 12%] \u001b[32mBuilding CXX object src/CMakeFiles/bifrost_static.dir/ColorSet.cpp.o\u001b[0m\n",
            "[ 15%] \u001b[32mBuilding CXX object src/CMakeFiles/bifrost_static.dir/CompressedCoverage.cpp.o\u001b[0m\n",
            "[ 18%] \u001b[32mBuilding CXX object src/CMakeFiles/bifrost_static.dir/CompressedSequence.cpp.o\u001b[0m\n",
            "[ 21%] \u001b[32mBuilding CXX object src/CMakeFiles/bifrost_static.dir/FASTX_Parser.cpp.o\u001b[0m\n",
            "[ 25%] \u001b[32mBuilding CXX object src/CMakeFiles/bifrost_static.dir/GFA_Parser.cpp.o\u001b[0m\n",
            "[ 28%] \u001b[32mBuilding CXX object src/CMakeFiles/bifrost_static.dir/Kmer.cpp.o\u001b[0m\n",
            "[ 31%] \u001b[32mBuilding CXX object src/CMakeFiles/bifrost_static.dir/KmerIterator.cpp.o\u001b[0m\n",
            "[ 34%] \u001b[32mBuilding CXX object src/CMakeFiles/bifrost_static.dir/MinimizerIndex.cpp.o\u001b[0m\n",
            "[ 37%] \u001b[32mBuilding CXX object src/CMakeFiles/bifrost_static.dir/TinyBitmap.cpp.o\u001b[0m\n",
            "[ 40%] \u001b[32mBuilding CXX object src/CMakeFiles/bifrost_static.dir/UnitigMap.cpp.o\u001b[0m\n",
            "[ 43%] \u001b[32mBuilding C object src/CMakeFiles/bifrost_static.dir/roaring.c.o\u001b[0m\n",
            "[ 46%] \u001b[32m\u001b[1mLinking CXX static library libbifrost.a\u001b[0m\n",
            "[ 46%] Built target bifrost_static\n",
            "[ 50%] \u001b[32mBuilding CXX object src/CMakeFiles/bifrost_dynamic.dir/Bifrost.cpp.o\u001b[0m\n",
            "[ 53%] \u001b[32mBuilding CXX object src/CMakeFiles/bifrost_dynamic.dir/BitContainer.cpp.o\u001b[0m\n",
            "[ 56%] \u001b[32mBuilding CXX object src/CMakeFiles/bifrost_dynamic.dir/BlockedBloomFilter.cpp.o\u001b[0m\n",
            "[ 59%] \u001b[32mBuilding CXX object src/CMakeFiles/bifrost_dynamic.dir/ColorSet.cpp.o\u001b[0m\n",
            "[ 62%] \u001b[32mBuilding CXX object src/CMakeFiles/bifrost_dynamic.dir/CompressedCoverage.cpp.o\u001b[0m\n",
            "[ 65%] \u001b[32mBuilding CXX object src/CMakeFiles/bifrost_dynamic.dir/CompressedSequence.cpp.o\u001b[0m\n",
            "[ 68%] \u001b[32mBuilding CXX object src/CMakeFiles/bifrost_dynamic.dir/FASTX_Parser.cpp.o\u001b[0m\n",
            "[ 71%] \u001b[32mBuilding CXX object src/CMakeFiles/bifrost_dynamic.dir/GFA_Parser.cpp.o\u001b[0m\n",
            "[ 75%] \u001b[32mBuilding CXX object src/CMakeFiles/bifrost_dynamic.dir/Kmer.cpp.o\u001b[0m\n",
            "[ 78%] \u001b[32mBuilding CXX object src/CMakeFiles/bifrost_dynamic.dir/KmerIterator.cpp.o\u001b[0m\n",
            "[ 81%] \u001b[32mBuilding CXX object src/CMakeFiles/bifrost_dynamic.dir/MinimizerIndex.cpp.o\u001b[0m\n",
            "[ 84%] \u001b[32mBuilding CXX object src/CMakeFiles/bifrost_dynamic.dir/TinyBitmap.cpp.o\u001b[0m\n",
            "[ 87%] \u001b[32mBuilding CXX object src/CMakeFiles/bifrost_dynamic.dir/UnitigMap.cpp.o\u001b[0m\n",
            "[ 90%] \u001b[32mBuilding C object src/CMakeFiles/bifrost_dynamic.dir/roaring.c.o\u001b[0m\n",
            "[ 93%] \u001b[32m\u001b[1mLinking CXX shared library libbifrost.so\u001b[0m\n",
            "[ 93%] Built target bifrost_dynamic\n",
            "[ 96%] \u001b[32mBuilding CXX object src/CMakeFiles/Bifrost.dir/Bifrost.cpp.o\u001b[0m\n",
            "[100%] \u001b[32m\u001b[1mLinking CXX executable Bifrost\u001b[0m\n",
            "[100%] Built target Bifrost\n",
            "[ 26%] \u001b[34m\u001b[1mNo install step for 'bifrost'\u001b[0m\n",
            "[ 30%] \u001b[34m\u001b[1mCompleted 'bifrost'\u001b[0m\n",
            "[ 30%] Built target bifrost\n",
            "[ 34%] \u001b[32mBuilding CXX object src/CMakeFiles/kallisto_core.dir/BUSData.cpp.o\u001b[0m\n",
            "[ 38%] \u001b[32mBuilding CXX object src/CMakeFiles/kallisto_core.dir/BUSTools.cpp.o\u001b[0m\n",
            "[ 42%] \u001b[32mBuilding CXX object src/CMakeFiles/kallisto_core.dir/Bootstrap.cpp.o\u001b[0m\n",
            "[ 46%] \u001b[32mBuilding CXX object src/CMakeFiles/kallisto_core.dir/GeneModel.cpp.o\u001b[0m\n",
            "[ 50%] \u001b[32mBuilding CXX object src/CMakeFiles/kallisto_core.dir/H5Writer.cpp.o\u001b[0m\n",
            "[ 53%] \u001b[32mBuilding CXX object src/CMakeFiles/kallisto_core.dir/KmerIndex.cpp.o\u001b[0m\n",
            "[ 57%] \u001b[32mBuilding CXX object src/CMakeFiles/kallisto_core.dir/MinCollector.cpp.o\u001b[0m\n",
            "[ 61%] \u001b[32mBuilding CXX object src/CMakeFiles/kallisto_core.dir/PlaintextWriter.cpp.o\u001b[0m\n",
            "[ 65%] \u001b[32mBuilding CXX object src/CMakeFiles/kallisto_core.dir/ProcessReads.cpp.o\u001b[0m\n",
            "[ 69%] \u001b[32mBuilding CXX object src/CMakeFiles/kallisto_core.dir/PseudoBam.cpp.o\u001b[0m\n",
            "[ 73%] \u001b[32mBuilding CXX object src/CMakeFiles/kallisto_core.dir/common.cpp.o\u001b[0m\n",
            "[ 76%] \u001b[32mBuilding CXX object src/CMakeFiles/kallisto_core.dir/h5utils.cpp.o\u001b[0m\n",
            "[ 80%] \u001b[32mBuilding CXX object src/CMakeFiles/kallisto_core.dir/hash.cpp.o\u001b[0m\n",
            "[ 84%] \u001b[32mBuilding CXX object src/CMakeFiles/kallisto_core.dir/main.cpp.o\u001b[0m\n",
            "[ 88%] \u001b[32mBuilding CXX object src/CMakeFiles/kallisto_core.dir/weights.cpp.o\u001b[0m\n",
            "[ 92%] \u001b[32m\u001b[1mLinking CXX static library libkallisto_core.a\u001b[0m\n",
            "[ 92%] Built target kallisto_core\n",
            "[ 96%] \u001b[32mBuilding CXX object src/CMakeFiles/kallisto.dir/main.cpp.o\u001b[0m\n",
            "[100%] \u001b[32m\u001b[1mLinking CXX executable kallisto\u001b[0m\n",
            "[100%] Built target kallisto\n",
            "\u001b[0mCMake Deprecation Warning at CMakeLists.txt:1 (cmake_minimum_required):\n",
            "  Compatibility with CMake < 3.5 will be removed from a future version of\n",
            "  CMake.\n",
            "\n",
            "  Update the VERSION argument <min> value or use a ...<max> suffix to tell\n",
            "  CMake that the project does not need compatibility with older versions.\n",
            "\n",
            "\u001b[0m\n",
            "-- The C compiler identification is GNU 11.4.0\n",
            "-- The CXX compiler identification is GNU 11.4.0\n",
            "-- Detecting C compiler ABI info\n",
            "-- Detecting C compiler ABI info - done\n",
            "-- Check for working C compiler: /usr/bin/cc - skipped\n",
            "-- Detecting C compile features\n",
            "-- Detecting C compile features - done\n",
            "-- Detecting CXX compiler ABI info\n",
            "-- Detecting CXX compiler ABI info - done\n",
            "-- Check for working CXX compiler: /usr/bin/c++ - skipped\n",
            "-- Detecting CXX compile features\n",
            "-- Detecting CXX compile features - done\n",
            "\u001b[0mrelease mode\u001b[0m\n",
            "-- Performing Test CMAKE_HAVE_LIBC_PTHREAD\n",
            "-- Performing Test CMAKE_HAVE_LIBC_PTHREAD - Success\n",
            "-- Found Threads: TRUE  \n",
            "-- Found ZLIB: /usr/lib/x86_64-linux-gnu/libz.so (found version \"1.2.11\")  \n",
            "-- Configuring done (0.5s)\n",
            "-- Generating done (0.0s)\n",
            "-- Build files have been written to: /content/bustools/build\n",
            "[  3%] \u001b[32mBuilding CXX object src/CMakeFiles/bustools_core.dir/BUSData.cpp.o\u001b[0m\n",
            "[  7%] \u001b[32mBuilding CXX object src/CMakeFiles/bustools_core.dir/Common.cpp.o\u001b[0m\n",
            "[ 11%] \u001b[32mBuilding CXX object src/CMakeFiles/bustools_core.dir/bustools_capture.cpp.o\u001b[0m\n",
            "[ 15%] \u001b[32mBuilding CXX object src/CMakeFiles/bustools_core.dir/bustools_clusterhist.cpp.o\u001b[0m\n",
            "[ 19%] \u001b[32mBuilding CXX object src/CMakeFiles/bustools_core.dir/bustools_collapse.cpp.o\u001b[0m\n",
            "[ 23%] \u001b[32mBuilding CXX object src/CMakeFiles/bustools_core.dir/bustools_compress.cpp.o\u001b[0m\n",
            "[ 26%] \u001b[32mBuilding CXX object src/CMakeFiles/bustools_core.dir/bustools_correct.cpp.o\u001b[0m\n",
            "[ 30%] \u001b[32mBuilding CXX object src/CMakeFiles/bustools_core.dir/bustools_count.cpp.o\u001b[0m\n",
            "[ 34%] \u001b[32mBuilding CXX object src/CMakeFiles/bustools_core.dir/bustools_decompress.cpp.o\u001b[0m\n",
            "[ 38%] \u001b[32mBuilding CXX object src/CMakeFiles/bustools_core.dir/bustools_extract.cpp.o\u001b[0m\n",
            "[ 42%] \u001b[32mBuilding CXX object src/CMakeFiles/bustools_core.dir/bustools_inspect.cpp.o\u001b[0m\n",
            "[ 46%] \u001b[32mBuilding CXX object src/CMakeFiles/bustools_core.dir/bustools_linker.cpp.o\u001b[0m\n",
            "[ 50%] \u001b[32mBuilding CXX object src/CMakeFiles/bustools_core.dir/bustools_main.cpp.o\u001b[0m\n",
            "[ 53%] \u001b[32mBuilding CXX object src/CMakeFiles/bustools_core.dir/bustools_mash.cpp.o\u001b[0m\n",
            "[ 57%] \u001b[32mBuilding CXX object src/CMakeFiles/bustools_core.dir/bustools_merge.cpp.o\u001b[0m\n",
            "[ 61%] \u001b[32mBuilding CXX object src/CMakeFiles/bustools_core.dir/bustools_predict.cpp.o\u001b[0m\n",
            "[ 65%] \u001b[32mBuilding CXX object src/CMakeFiles/bustools_core.dir/bustools_project.cpp.o\u001b[0m\n",
            "[ 69%] \u001b[32mBuilding CXX object src/CMakeFiles/bustools_core.dir/bustools_sort.cpp.o\u001b[0m\n",
            "[ 73%] \u001b[32mBuilding CXX object src/CMakeFiles/bustools_core.dir/bustools_text.cpp.o\u001b[0m\n",
            "[ 76%] \u001b[32mBuilding CXX object src/CMakeFiles/bustools_core.dir/bustools_umicorrect.cpp.o\u001b[0m\n",
            "[ 80%] \u001b[32mBuilding CXX object src/CMakeFiles/bustools_core.dir/bustools_whitelist.cpp.o\u001b[0m\n",
            "[ 84%] \u001b[32mBuilding CXX object src/CMakeFiles/bustools_core.dir/hash.cpp.o\u001b[0m\n",
            "[ 88%] \u001b[32mBuilding C object src/CMakeFiles/bustools_core.dir/roaring.c.o\u001b[0m\n",
            "[ 92%] \u001b[32m\u001b[1mLinking CXX static library libbustools_core.a\u001b[0m\n",
            "[ 92%] Built target bustools_core\n",
            "[ 96%] \u001b[32mBuilding CXX object src/CMakeFiles/bustools.dir/bustools_main.cpp.o\u001b[0m\n",
            "[100%] \u001b[32m\u001b[1mLinking CXX executable bustools\u001b[0m\n",
            "[100%] Built target bustools\n"
          ]
        }
      ]
    },
    {
      "cell_type": "code",
      "execution_count": 11,
      "id": "81222734-7557-4e0d-abec-4e403388065e",
      "metadata": {
        "id": "81222734-7557-4e0d-abec-4e403388065e",
        "outputId": "b5e573f6-3ffb-48b8-c080-4c8c5c7425fa",
        "colab": {
          "base_uri": "https://localhost:8080/"
        }
      },
      "outputs": [
        {
          "output_type": "stream",
          "name": "stdout",
          "text": [
            "\n",
            "Warning: you asked for 8, but only 2 cores on the machine\n",
            "[bus] will try running read files supplied in batch file\n",
            "[bus] Note: Strand option was not specified; setting it to --unstranded for specified technology\n",
            "[index] k-mer length: 31\n",
            "[index] number of targets: 119,563\n",
            "[index] number of k-mers: 146,102,401\n",
            "[index] number of D-list k-mers: 5,872,378\n",
            "[quant] running in single-end mode\n",
            "[quant] will process file 1: SRR12698500_1.fastq.gz\n",
            "[quant] will process file 2: SRR12698500_2.fastq.gz\n",
            "[quant] will process file 1: SRR12698499_1.fastq.gz\n",
            "[quant] will process file 2: SRR12698499_2.fastq.gz\n",
            "[progress] 575M reads processed (52.0% mapped)              done\n",
            "[quant] processed 575,902,616 reads, 299,180,862 reads pseudoaligned\n",
            "\n",
            "CPU times: user 1min 57s, sys: 15.2 s, total: 2min 12s\n",
            "Wall time: 5h 48min 30s\n"
          ]
        }
      ],
      "source": [
        "%%time\n",
        "# Align\n",
        "!$kallisto bus \\\n",
        "      -i $index \\\n",
        "      -o $host_out_folder \\\n",
        "      -t $threads \\\n",
        "      -B $sample_batch_file \\\n",
        "      --batch-barcodes \\\n",
        "      -x 0,0,12:0,12,20:1,0,0"
      ]
    },
    {
      "cell_type": "code",
      "execution_count": 12,
      "id": "d72e6b9d-5987-422e-9d3f-5400bbea88e4",
      "metadata": {
        "id": "d72e6b9d-5987-422e-9d3f-5400bbea88e4",
        "outputId": "381ad1ce-9ddc-417f-ae02-42f39436ac69",
        "colab": {
          "base_uri": "https://localhost:8080/"
        }
      },
      "outputs": [
        {
          "output_type": "stream",
          "name": "stdout",
          "text": [
            "Warning: Number of threads cannot be greater than or equal to 2. Setting number of threads to 2\n",
            "partition time: 0.941355s\n",
            "partition time: 0.868547s\n",
            "partition time: 0.331474s\n",
            "Read in 299180862 BUS records\n",
            "reading time 5.92495s\n",
            "sorting time 88.7832s\n",
            "writing time 0s\n",
            "CPU times: user 970 ms, sys: 121 ms, total: 1.09 s\n",
            "Wall time: 2min 46s\n"
          ]
        }
      ],
      "source": [
        "%%time\n",
        "# Sort bus file\n",
        "!$bustools sort \\\n",
        "    -m 4G \\\n",
        "    -t $threads \\\n",
        "    -o $host_out_folder/output_sorted.bus \\\n",
        "    $host_out_folder/output.bus"
      ]
    },
    {
      "cell_type": "code",
      "execution_count": 13,
      "id": "6843eafe-426f-400f-a17e-408fdb8399df",
      "metadata": {
        "id": "6843eafe-426f-400f-a17e-408fdb8399df",
        "outputId": "20ae879b-5218-4c0b-affc-d53a9ea1eb8b",
        "colab": {
          "base_uri": "https://localhost:8080/"
        }
      },
      "outputs": [
        {
          "output_type": "stream",
          "name": "stdout",
          "text": [
            "Read in 79373167 BUS records, wrote 34678 barcodes to on-list with threshold 1000\n",
            "CPU times: user 14.1 ms, sys: 1.95 ms, total: 16.1 ms\n",
            "Wall time: 1.01 s\n"
          ]
        }
      ],
      "source": [
        "%%time\n",
        "# Generate a barcode onlist from data since SeqWell does not have an onlist\n",
        "# threshold: Minimum number of times a barcode must appear to be included in the onlist\n",
        "!$bustools allowlist \\\n",
        "    --threshold 1000 \\\n",
        "    -o $host_out_folder/bustools_onlist.txt \\\n",
        "    $host_out_folder/output_sorted.bus"
      ]
    },
    {
      "cell_type": "code",
      "execution_count": 14,
      "id": "4749cde7-c136-4243-a1cd-d155dbd14df7",
      "metadata": {
        "id": "4749cde7-c136-4243-a1cd-d155dbd14df7",
        "outputId": "13dbc5a4-6394-4a2b-e44e-6e7883ce5538",
        "colab": {
          "base_uri": "https://localhost:8080/"
        }
      },
      "outputs": [
        {
          "output_type": "stream",
          "name": "stdout",
          "text": [
            "Found 34624 barcodes in the on-list\n",
            "Processed 79373167 BUS records\n",
            "In on-list = 59409606\n",
            "Corrected    = 9088773\n",
            "Uncorrected  = 10874788\n",
            "CPU times: user 134 ms, sys: 13.6 ms, total: 148 ms\n",
            "Wall time: 23.4 s\n"
          ]
        }
      ],
      "source": [
        "%%time\n",
        "# Correct barcodes based on generated onlist\n",
        "!$bustools correct \\\n",
        "    -w $host_out_folder/bustools_onlist.txt \\\n",
        "    -o $host_out_folder/output_sorted_corrected.bus \\\n",
        "    $host_out_folder/output_sorted.bus"
      ]
    },
    {
      "cell_type": "code",
      "execution_count": 15,
      "id": "11a795cb-75a5-43ae-b7a0-1b2cf02e3c00",
      "metadata": {
        "id": "11a795cb-75a5-43ae-b7a0-1b2cf02e3c00",
        "outputId": "dee70486-4da9-46f3-eda4-bee11596f2cd",
        "colab": {
          "base_uri": "https://localhost:8080/"
        }
      },
      "outputs": [
        {
          "output_type": "stream",
          "name": "stdout",
          "text": [
            "Warning: Number of threads cannot be greater than or equal to 2. Setting number of threads to 2\n",
            "partition time: 0.368369s\n",
            " all fits in buffer\n",
            "Read in 68498379 BUS records\n",
            "reading time 0.65573s\n",
            "sorting time 13.8489s\n",
            "writing time 3.8505s\n",
            "CPU times: user 146 ms, sys: 17 ms, total: 163 ms\n",
            "Wall time: 24.3 s\n"
          ]
        }
      ],
      "source": [
        "%%time\n",
        "# Sort corrected bus file\n",
        "!$bustools sort \\\n",
        "    -m 4G \\\n",
        "    -t $threads \\\n",
        "    -o $host_out_folder/output_sorted_corrected_sorted.bus \\\n",
        "    $host_out_folder/output_sorted_corrected.bus"
      ]
    },
    {
      "cell_type": "code",
      "execution_count": 16,
      "id": "c9ffd455-005d-4ff4-9406-9c913652d6fe",
      "metadata": {
        "tags": [],
        "id": "c9ffd455-005d-4ff4-9406-9c913652d6fe",
        "outputId": "e3d1e2ff-10cd-4311-8eb7-dc49b0300609",
        "colab": {
          "base_uri": "https://localhost:8080/"
        }
      },
      "outputs": [
        {
          "output_type": "stream",
          "name": "stdout",
          "text": [
            "CPU times: user 120 ms, sys: 13.4 ms, total: 133 ms\n",
            "Wall time: 21.4 s\n"
          ]
        }
      ],
      "source": [
        "%%time\n",
        "# Generate count matrix\n",
        "!$bustools count \\\n",
        "    --genecounts \\\n",
        "    -o $host_out_folder/bustools_count/ \\\n",
        "    -g $t2g \\\n",
        "    -e $host_out_folder/matrix.ec \\\n",
        "    -t $host_out_folder/transcripts.txt \\\n",
        "    $host_out_folder/output_sorted_corrected_sorted.bus"
      ]
    },
    {
      "cell_type": "code",
      "execution_count": 16,
      "id": "e091564a-7b0e-4cce-80e0-b0ea4aeac218",
      "metadata": {
        "id": "e091564a-7b0e-4cce-80e0-b0ea4aeac218"
      },
      "outputs": [],
      "source": []
    }
  ],
  "metadata": {
    "kernelspec": {
      "display_name": "Python 3 (ipykernel)",
      "language": "python",
      "name": "python3"
    },
    "language_info": {
      "codemirror_mode": {
        "name": "ipython",
        "version": 3
      },
      "file_extension": ".py",
      "mimetype": "text/x-python",
      "name": "python",
      "nbconvert_exporter": "python",
      "pygments_lexer": "ipython3",
      "version": "3.9.12"
    },
    "colab": {
      "provenance": [],
      "include_colab_link": true
    }
  },
  "nbformat": 4,
  "nbformat_minor": 5
}