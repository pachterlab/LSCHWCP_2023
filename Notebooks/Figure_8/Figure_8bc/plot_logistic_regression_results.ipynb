{
  "cells": [
    {
      "cell_type": "markdown",
      "metadata": {
        "id": "view-in-github",
        "colab_type": "text"
      },
      "source": [
        "<a href=\"https://colab.research.google.com/github/pachterlab/LSCHWCP_2023/blob/main/Notebooks/Figure_8/Figure_8bc/plot_logistic_regression_results.ipynb\" target=\"_parent\"><img src=\"https://colab.research.google.com/assets/colab-badge.svg\" alt=\"Open In Colab\"/></a>"
      ]
    },
    {
      "cell_type": "markdown",
      "source": [
        "# Plot results from logistic regression models"
      ],
      "metadata": {
        "id": "FPxq6IL6SJrc"
      }
    },
    {
      "cell_type": "code",
      "execution_count": null,
      "metadata": {
        "id": "_fmcs6BVSH12"
      },
      "outputs": [],
      "source": [
        "import sys,os\n",
        "import numpy as np\n",
        "import pandas as pd\n",
        "import pickle\n",
        "\n",
        "import scipy\n",
        "import scipy.stats\n",
        "\n",
        "import matplotlib.pyplot as plt\n",
        "import seaborn as sns\n",
        "import matplotlib\n",
        "%config InlineBackend.figure_format='retina'"
      ]
    },
    {
      "cell_type": "code",
      "execution_count": null,
      "metadata": {
        "id": "z8CY5qJkSH15"
      },
      "outputs": [],
      "source": [
        "top_viruses = ['u10', 'u102540', 'u11150', 'u202260', 'u39566', 'u134800', 'u102324']"
      ]
    },
    {
      "cell_type": "markdown",
      "source": [
        "### Load results from Caltech Data\n",
        "The models were built and tested in [this notebok](https://github.com/pachterlab/LSCHWCP_2023/blob/main/Notebooks/Figure_8/Figure_8bc/run_regressions.ipynb)."
      ],
      "metadata": {
        "id": "SvnlHuORS-MB"
      }
    },
    {
      "cell_type": "code",
      "source": [],
      "metadata": {
        "id": "dZJl9nYeTAET"
      },
      "execution_count": null,
      "outputs": []
    },
    {
      "cell_type": "markdown",
      "source": [
        "### Plot accuracy across models"
      ],
      "metadata": {
        "id": "9i55UWVSTAOv"
      }
    },
    {
      "cell_type": "code",
      "execution_count": null,
      "metadata": {
        "id": "AdvD6yxYSH17"
      },
      "outputs": [],
      "source": [
        "models_to_compare = [\n",
        "        'supp_viruses_hv_genes_fullM_cov_donor_time_l2_nocontrol.pickle',\n",
        "        'supp_viruses_hv_genes_fullM_cov_none_l2_nocontrol.pickle',\n",
        "        'supp_viruses_all_genes_fullM_cov_donor_time_l2_nocontrol.pickle',\n",
        "        'supp_viruses_all_genes_fullM_cov_none_l2_nocontrol.pickle',\n",
        "]\n",
        "\n",
        "model_names = [\n",
        "    'HV genes,\\nCov',\n",
        "    'HV genes,\\nNo cov',\n",
        "    'All genes,\\nCov',\n",
        "    'All genes,\\nNo cov',\n",
        "]\n",
        "\n",
        "accuracy_array = np.ones((len(top_viruses),len(models_to_compare)))\n",
        "\n",
        "for m, model in enumerate(models_to_compare):\n",
        "\n",
        "    with open(model, 'rb') as handle:\n",
        "        results_dict =  pickle.load(handle)\n",
        "\n",
        "    ind = [v in top_viruses for v in results_dict['viruses']]\n",
        "\n",
        "    for v,virus in enumerate(top_viruses):\n",
        "        ind = [v_ == virus for v_ in results_dict['viruses']]\n",
        "        accuracy_array[v,m] = results_dict['test_score'][ind]"
      ]
    },
    {
      "cell_type": "code",
      "execution_count": null,
      "metadata": {
        "id": "I4M4tVQkSH18"
      },
      "outputs": [],
      "source": [
        "def heatmap(data, row_labels, col_labels, cmap, ax=None,\n",
        "            cbar_kw=None, cbarlabel=\"\", fontsize=15,\n",
        "            aspect = 1.0, **kwargs):\n",
        "    \"\"\"\n",
        "    Create a heatmap from a numpy array and two lists of labels.\n",
        "\n",
        "    Parameters\n",
        "    ----------\n",
        "    data\n",
        "        A 2D numpy array of shape (M, N).\n",
        "    row_labels\n",
        "        A list or array of length M with the labels for the rows.\n",
        "    col_labels\n",
        "        A list or array of length N with the labels for the columns.\n",
        "    ax\n",
        "        A `matplotlib.axes.Axes` instance to which the heatmap is plotted.  If\n",
        "        not provided, use current axes or create a new one.  Optional.\n",
        "    cbar_kw\n",
        "        A dictionary with arguments to `matplotlib.Figure.colorbar`.  Optional.\n",
        "    cbarlabel\n",
        "        The label for the colorbar.  Optional.\n",
        "    **kwargs\n",
        "        All other arguments are forwarded to `imshow`.\n",
        "    \"\"\"\n",
        "\n",
        "    if ax is None:\n",
        "        ax = plt.gca()\n",
        "\n",
        "    if cbar_kw is None:\n",
        "        cbar_kw = {}\n",
        "\n",
        "    # Plot the heatmap\n",
        "    im = ax.imshow(data.T, aspect = aspect, cmap=cmap, vmin=50, vmax=100)\n",
        "\n",
        "    # Create colorbar\n",
        "    cbar = ax.figure.colorbar(im, ax=ax, **cbar_kw, shrink=0.92, pad=0.01)\n",
        "    cbar.ax.set_ylabel(cbarlabel, rotation=-90, va=\"bottom\", fontsize = fontsize+2)\n",
        "    for t in cbar.ax.get_yticklabels():\n",
        "        t.set_fontsize(fontsize)\n",
        "\n",
        "    # Show all ticks and label them with the respective list entries.\n",
        "    ax.set_yticks(np.arange(data.shape[1]), labels=col_labels, fontsize = fontsize)\n",
        "    ax.set_xticks(np.arange(data.shape[0]), labels=row_labels, fontsize = fontsize)\n",
        "\n",
        "    # Let the horizontal axes labeling appear on top.\n",
        "    ax.tick_params(top=False, bottom=True,\n",
        "                   labeltop=False, labelbottom=True)\n",
        "\n",
        "    # Rotate the tick labels and set their alignment.\n",
        "    plt.setp(ax.get_xticklabels(), rotation=45, ha=\"right\",\n",
        "             rotation_mode=\"anchor\")\n",
        "\n",
        "    # Turn spines off and create white grid.\n",
        "    ax.spines[:].set_visible(False)\n",
        "\n",
        "    ax.set_yticks(np.arange(data.shape[1]+1)-.5, minor=True)\n",
        "    ax.set_xticks(np.arange(data.shape[0]+1)-.5, minor=True)\n",
        "    ax.grid(which=\"minor\", color=\"w\", linestyle='-', linewidth=3)\n",
        "    ax.tick_params(which=\"minor\", bottom=False, left=False)\n",
        "\n",
        "    return im, cbar\n",
        "\n",
        "def annotate_heatmap(im, data=None, valfmt=\"{x:.2f}\",\n",
        "                     textcolors=(\"black\", \"white\"),\n",
        "                     threshold=None, **textkw):\n",
        "    \"\"\"\n",
        "    A function to annotate a heatmap.\n",
        "\n",
        "    Parameters\n",
        "    ----------\n",
        "    im\n",
        "        The AxesImage to be labeled.\n",
        "    data\n",
        "        Data used to annotate.  If None, the image's data is used.  Optional.\n",
        "    valfmt\n",
        "        The format of the annotations inside the heatmap.  This should either\n",
        "        use the string format method, e.g. \"$ {x:.2f}\", or be a\n",
        "        `matplotlib.ticker.Formatter`.  Optional.\n",
        "    textcolors\n",
        "        A pair of colors.  The first is used for values below a threshold,\n",
        "        the second for those above.  Optional.\n",
        "    threshold\n",
        "        Value in data units according to which the colors from textcolors are\n",
        "        applied.  If None (the default) uses the middle of the colormap as\n",
        "        separation.  Optional.\n",
        "    **kwargs\n",
        "        All other arguments are forwarded to each call to `text` used to create\n",
        "        the text labels.\n",
        "    \"\"\"\n",
        "\n",
        "    if not isinstance(data, (list, np.ndarray)):\n",
        "        data = im.get_array()\n",
        "\n",
        "    # Normalize the threshold to the images color range.\n",
        "    if threshold is not None:\n",
        "        threshold = im.norm(threshold)\n",
        "    else:\n",
        "        threshold = im.norm(data.max())/2.\n",
        "\n",
        "    # Set default alignment to center, but allow it to be\n",
        "    # overwritten by textkw.\n",
        "    kw = dict(horizontalalignment=\"center\",\n",
        "              verticalalignment=\"center\")\n",
        "    kw.update(textkw)\n",
        "\n",
        "    # Get the formatter in case a string is supplied\n",
        "    if isinstance(valfmt, str):\n",
        "        valfmt = matplotlib.ticker.StrMethodFormatter(valfmt)\n",
        "\n",
        "    # Loop over the data and create a `Text` for each \"pixel\".\n",
        "    # Change the text's color depending on the data.\n",
        "    texts = []\n",
        "    for i in range(data.shape[0]):\n",
        "        for j in range(data.shape[1]):\n",
        "            kw.update(color=textcolors[int(im.norm(data[i, j]) > threshold)])\n",
        "            text = im.axes.text(j, i, valfmt(data[i, j], None), fontsize = fontsize,  **kw)\n",
        "            texts.append(text)\n",
        "\n",
        "    return texts"
      ]
    },
    {
      "cell_type": "code",
      "execution_count": null,
      "metadata": {
        "id": "SfR81-zfSH19"
      },
      "outputs": [],
      "source": [
        "fig, ax = plt.subplots(figsize=(15,8))\n",
        "fontsize = 22\n",
        "\n",
        "cmap = matplotlib.colors.LinearSegmentedColormap.from_list(\"\", ['white','#003049'])\n",
        "\n",
        "im, cbar = heatmap(accuracy_array*100, top_viruses, model_names, ax=ax,\n",
        "                   cmap=cmap, cbarlabel=\"Accuracy (%)\",fontsize=fontsize, aspect=1)\n",
        "\n",
        "texts = annotate_heatmap(im, valfmt=\"{x:.1f}%\")\n",
        "\n",
        "fig.tight_layout()\n",
        "plt.xlabel('Virus ID',fontsize=fontsize+2)\n",
        "plt.ylabel('Model',fontsize=fontsize+2)\n",
        "plt.savefig('logreg_accuracy_heatmap', dpi=300, bbox_inches= 'tight', transparent=True)\n",
        "fig.show()"
      ]
    },
    {
      "cell_type": "code",
      "execution_count": null,
      "metadata": {
        "id": "KCHl1aFFSH1-"
      },
      "outputs": [],
      "source": [
        "# comparing scramble to no scramble with bar plots\n",
        "def grouped_barplot(x_labels, data1, data2, bar_width=0.35,\n",
        "                    label1='Data 1', label2='Data 2',\n",
        "                    x_label='X Axis', y_label='Y Axis',\n",
        "                    fontsize=15, save_as=None):\n",
        "    \"\"\"\n",
        "    Create a double barplot to compare two sets of data.\n",
        "    \"\"\"\n",
        "    x = np.arange(len(x_labels))\n",
        "\n",
        "    fig, axs = plt.subplots(figsize=(18, 10), nrows=3, sharex=True, gridspec_kw={'height_ratios': [2, 1, 1], 'hspace': 0.1})\n",
        "\n",
        "    margin = 0.01\n",
        "\n",
        "    ax = axs[0]\n",
        "\n",
        "    rects1 = ax.bar(x - bar_width/2, data1, bar_width, label=label1, color = '#003049')\n",
        "    rects2 = ax.bar(x + bar_width/2, data2, bar_width, label=label2, color = 'lightgray')\n",
        "\n",
        "    ax.axhline(50, ls=\"--\", color=\"tab:red\", lw=2)\n",
        "\n",
        "    # ax.legend(fontsize=fontsize, loc='upper left', bbox_to_anchor=(1, 1), title=\"Labels\", title_fontsize=fontsize)\n",
        "    ax.legend(fontsize=fontsize, loc='upper right')\n",
        "\n",
        "    ax.tick_params(which='both', labelsize=fontsize)\n",
        "    ax.set_ylabel(y_label,fontsize=fontsize+2)\n",
        "    ax.set_xticklabels([])\n",
        "\n",
        "    ax.grid(True, which=\"both\", color='lightgray', ls=\"--\", lw=1)\n",
        "    ax.set_axisbelow(True)\n",
        "    ax.xaxis.grid(False)\n",
        "\n",
        "    ax.set_ylim(0,100)\n",
        "\n",
        "    for container in ax.containers:\n",
        "        ax.bar_label(container, fmt='%.1f',color='k',fontsize=fontsize-3)\n",
        "    ax.margins(x=margin)\n",
        "\n",
        "    ax2 = axs[1]\n",
        "\n",
        "    ax2.bar(top_viruses, num_train,\n",
        "             bar_width*2,\n",
        "             color='grey',label='Virus negative cells')\n",
        "\n",
        "    ax2.set_xticklabels([])\n",
        "\n",
        "    ax2.set_ylabel('# training\\ncells',fontsize=fontsize+2)\n",
        "    ax2.set_yscale('log')\n",
        "\n",
        "    ax2.tick_params(which='both', labelsize=fontsize)\n",
        "\n",
        "    ax2.grid(True, which=\"both\", color='lightgray', ls=\"--\", lw=1)\n",
        "    ax2.set_axisbelow(True)\n",
        "    ax2.xaxis.grid(False)\n",
        "\n",
        "    ax2.set_ylim(1,120000)\n",
        "\n",
        "    for container in ax2.containers:\n",
        "        ax2.bar_label(container,\n",
        "                      labels=[f'{x:,.0f}' for x in container.datavalues],color='k',fontsize=fontsize-3)\n",
        "\n",
        "    ax2.margins(x=margin)\n",
        "\n",
        "    ax3 = axs[2]\n",
        "\n",
        "    ax3.bar(top_viruses, num_test,\n",
        "             bar_width*2,\n",
        "             color='grey',label='Virus negative cells')\n",
        "\n",
        "    ax3.set_ylabel('# testing\\ncells',fontsize=fontsize+2)\n",
        "    ax3.set_yscale('log')\n",
        "\n",
        "    ax3.set_xlabel(x_label,fontsize=fontsize+2)\n",
        "\n",
        "    ax3.set_xticks(x, x_labels, fontsize=fontsize)\n",
        "\n",
        "    ax3.tick_params(which='both', labelsize=fontsize)\n",
        "\n",
        "    ax3.grid(True, which=\"both\", color='lightgray', ls=\"--\", lw=1)\n",
        "    ax3.set_axisbelow(True)\n",
        "    ax3.xaxis.grid(False)\n",
        "\n",
        "    ax3.set_ylim(1,1500000)\n",
        "\n",
        "    for container in ax3.containers:\n",
        "        ax3.bar_label(container,\n",
        "                      labels=[f'{x:,.0f}' for x in container.datavalues],\n",
        "                      color='k',fontsize=fontsize-3)\n",
        "\n",
        "    ax3.margins(x=margin)\n",
        "\n",
        "    # plt.tight_layout()\n",
        "\n",
        "    if save_as:\n",
        "        fig.savefig(f'logreg_scrambled_vs_true{save_as}', dpi=300, bbox_inches= 'tight')\n",
        "    else:\n",
        "        fig.savefig(f'logreg_scrambled_vs_true', dpi=300, bbox_inches= 'tight')\n",
        "    fig.show()"
      ]
    },
    {
      "cell_type": "code",
      "execution_count": null,
      "metadata": {
        "id": "t9Pb_WQYSH1_"
      },
      "outputs": [],
      "source": [
        "with open('supp_viruses_hv_genes_fullM_cov_donor_time_l2_nocontrol.pickle', 'rb') as handle:\n",
        "    results_dict =  pickle.load(handle)\n",
        "with open('supp_viruses_hv_genes_fullM_cov_donor_time_l2_scramble.pickle', 'rb') as handle:\n",
        "    results_dict_scramble =  pickle.load(handle)\n",
        "\n",
        "unscrambled_accuracy = np.ones(len(top_viruses))\n",
        "scrambled_accuracy = np.ones(len(top_viruses))\n",
        "num_training_cells = np.ones(len(top_viruses))\n",
        "num_train = np.ones(len(top_viruses))\n",
        "num_neg_train = np.ones(len(top_viruses))\n",
        "num_test = np.ones(len(top_viruses))\n",
        "num_neg_test = np.ones(len(top_viruses))\n",
        "\n",
        "for v,virus in enumerate(top_viruses):\n",
        "    ind = [v_ == virus for v_ in results_dict['viruses']]\n",
        "    ind2 = [v_ == virus for v_ in results_dict_scramble['viruses']]\n",
        "    unscrambled_accuracy[v] = results_dict['test_score'][ind]\n",
        "    scrambled_accuracy[v] = results_dict_scramble['test_score'][ind2]\n",
        "    num_train[v] = results_dict['num_training'][ind]\n",
        "    num_neg_train[v] = results_dict['num_training'][ind]/2\n",
        "\n",
        "    ind_test = np.where(np.array(results_dict['viruses'])==virus)[0][0]\n",
        "    num_test[v] = len(results_dict['true_all'][ind_test])\n",
        "    num_neg_test[v] = sum(results_dict['true_all'][ind_test]==0)"
      ]
    },
    {
      "cell_type": "code",
      "execution_count": null,
      "metadata": {
        "id": "ME1LtYDqSH1_"
      },
      "outputs": [],
      "source": [
        "grouped_barplot(top_viruses,\n",
        "                unscrambled_accuracy*100, scrambled_accuracy*100,\n",
        "                label1='True labels', label2='Scrambled labels',\n",
        "                x_label='Virus ID',\n",
        "                y_label='Accuracy (%)', fontsize = 20)"
      ]
    },
    {
      "cell_type": "markdown",
      "metadata": {
        "id": "O5GOEG4USH2A"
      },
      "source": [
        "### Generate table with numbers of positive/negative cells in training and testing sets"
      ]
    },
    {
      "cell_type": "code",
      "execution_count": null,
      "metadata": {
        "id": "B3BGR47qSH2C"
      },
      "outputs": [],
      "source": [
        "df_num_cells = pd.DataFrame()\n",
        "\n",
        "df_num_cells[\"Virus ID\"] = top_viruses\n",
        "\n",
        "df_num_cells[\"# training cells\"] = num_train\n",
        "df_num_cells[\"# virus-negative training cells\"] = num_neg_train\n",
        "df_num_cells[\"# virus-positive training cells\"] = num_train - num_neg_train\n",
        "\n",
        "df_num_cells[\"# testing cells\"] = num_test\n",
        "df_num_cells[\"# virus-negative testing cells\"] = num_neg_test\n",
        "df_num_cells[\"# virus-positive testing cells\"] = num_test - num_neg_test\n",
        "\n",
        "df_num_cells.to_csv(\"logreg_cell_nums.csv\", index=False)\n",
        "\n",
        "df_num_cells"
      ]
    },
    {
      "cell_type": "markdown",
      "metadata": {
        "id": "7dfEKA3ESH2C"
      },
      "source": [
        "### Plot sensitivity, specificity, accuracy across models"
      ]
    },
    {
      "cell_type": "code",
      "execution_count": null,
      "metadata": {
        "id": "ZP0_d9ySSH2C"
      },
      "outputs": [],
      "source": [
        "# first, accuracy of best model vs best model with scramble\n",
        "models_to_compare = [\n",
        "        'supp_viruses_hv_genes_fullM_cov_donor_time_l2_nocontrol.pickle',\n",
        "        'supp_viruses_hv_genes_fullM_cov_none_l2_nocontrol.pickle',\n",
        "        'supp_viruses_all_genes_fullM_cov_donor_time_l2_nocontrol.pickle',\n",
        "        'supp_viruses_all_genes_fullM_cov_none_l2_nocontrol.pickle',\n",
        "        'supp_viruses_hv_genes_fullM_cov_donor_time_l2_scramble.pickle'\n",
        "                    ]\n",
        "\n",
        "model_names = ['HV genes, Cov',\n",
        "               'HV genes, No cov',\n",
        "               'All genes, Cov',\n",
        "               'All genes, No cov',\n",
        "               'Scrambled labels'\n",
        "              ]\n",
        "\n",
        "model_list = []\n",
        "\n",
        "sens = []\n",
        "spec = []\n",
        "acc = []\n",
        "\n",
        "for m,model in enumerate(models_to_compare):\n",
        "\n",
        "    with open(model, 'rb') as handle:\n",
        "        results_dict =  pickle.load(handle)\n",
        "\n",
        "\n",
        "    for v,virus in enumerate(top_viruses):\n",
        "        ind = [v_ == virus for v_ in results_dict['viruses']]\n",
        "\n",
        "        sens.append(results_dict['test_sensitivity'][ind])\n",
        "        spec.append(results_dict['test_specificity'][ind])\n",
        "        acc.append(results_dict['test_score'][ind])\n",
        "        model_list.append(model_names[m])"
      ]
    },
    {
      "cell_type": "code",
      "execution_count": null,
      "metadata": {
        "id": "_FwRkGp-SH2D"
      },
      "outputs": [],
      "source": [
        "df_plot = pd.DataFrame(\n",
        "    {\n",
        "        'Percent accuracy' : np.array(acc).flatten()*100,\n",
        "        'Percent sensitivity' : np.array(sens).flatten()*100,\n",
        "        'Percent specificity' : np.array(spec).flatten()*100,\n",
        "        'Model' : model_list,\n",
        "        'Virus ID' : top_viruses*5\n",
        "    }\n",
        ")"
      ]
    },
    {
      "cell_type": "code",
      "execution_count": null,
      "metadata": {
        "id": "kixNixYNSH2D"
      },
      "outputs": [],
      "source": [
        "fs = 14\n",
        "plt.figure(figsize=(13,5))\n",
        "sens_colors = ['#9ecae1','#6baed6','#4292c6','#2171b5'][::-1]+['lightgrey']\n",
        "ax = sns.barplot(data=df_plot, x=\"Virus ID\", y=\"Percent sensitivity\", hue=\"Model\", palette=sens_colors)\n",
        "sns.move_legend(ax, \"lower left\", fontsize=fs)\n",
        "plt.setp(ax.get_legend().get_title(), fontsize=fs)\n",
        "ax.grid(True, which=\"both\", color='lightgray', ls=\"--\", lw=1)\n",
        "for container in ax.containers:\n",
        "    ax.bar_label(container, fmt='%.0f',color='k', fontsize=fs-2)\n",
        "ax.set_axisbelow(True)\n",
        "ax.axhline(50, ls=\"--\", color=\"tab:red\", lw=2)\n",
        "ax.xaxis.grid(False)\n",
        "plt.xlabel('')\n",
        "ax.set_xticklabels([])\n",
        "plt.ylabel('Sensitivity (%)',fontsize=fs+2)\n",
        "plt.xticks(rotation=45,fontsize=fs,ha='right')\n",
        "plt.yticks(fontsize=fs)\n",
        "plt.savefig('logreg_test_sens', dpi=300, bbox_inches= 'tight')"
      ]
    },
    {
      "cell_type": "code",
      "execution_count": null,
      "metadata": {
        "id": "zkNgsGTUSH2D"
      },
      "outputs": [],
      "source": [
        "plt.figure(figsize=(13,5))\n",
        "# spec_colors = ['#bcbddc','#9e9ac8','#807dba','#6a51a3'][::-1]+['#fdae6b']\n",
        "spec_colors = sens_colors\n",
        "ax = sns.barplot(data=df_plot, x=\"Virus ID\", y=\"Percent specificity\", hue=\"Model\", palette=spec_colors)\n",
        "# sns.move_legend(ax, \"lower left\", fontsize=fs)\n",
        "plt.legend([],[], frameon=False) # remove legend\n",
        "plt.setp(ax.get_legend().get_title(), fontsize=fs)\n",
        "ax.grid(True, which=\"both\", color='lightgray', ls=\"--\", lw=1)\n",
        "ax.axhline(50, ls=\"--\", color=\"tab:red\", lw=2)\n",
        "ax.set_axisbelow(True)\n",
        "ax.xaxis.grid(False)\n",
        "for container in ax.containers:\n",
        "    ax.bar_label(container, fmt='%.0f',color='k', fontsize=fs-2)\n",
        "plt.xlabel('')\n",
        "ax.set_xticklabels([])\n",
        "plt.ylabel('Specificity (%)',fontsize=fs+2)\n",
        "plt.xticks(rotation=45,fontsize=fs,ha='right')\n",
        "plt.yticks(fontsize=fs)\n",
        "plt.savefig('logreg_test_spec', dpi=300, bbox_inches= 'tight');"
      ]
    },
    {
      "cell_type": "code",
      "execution_count": null,
      "metadata": {
        "id": "lNPNMf0KSH2D"
      },
      "outputs": [],
      "source": [
        "plt.figure(figsize=(13,5))\n",
        "# acc_colors = ['#a1d99b','#74c476','#41ab5d','#238b45',][::-1]+['#fdae6b']\n",
        "acc_colors = sens_colors\n",
        "ax = sns.barplot(data=df_plot, x=\"Virus ID\", y=\"Percent accuracy\", hue=\"Model\", palette=acc_colors)\n",
        "# sns.move_legend(ax, \"lower left\", fontsize=fs)\n",
        "plt.legend([],[], frameon=False)\n",
        "ax.axhline(50, ls=\"--\", color=\"tab:red\", lw=2)\n",
        "plt.setp(ax.get_legend().get_title(), fontsize=fs)\n",
        "ax.grid(True, which=\"both\", color='lightgray', ls=\"--\", lw=1)\n",
        "ax.set_axisbelow(True)\n",
        "ax.xaxis.grid(False)\n",
        "for container in ax.containers:\n",
        "    ax.bar_label(container, fmt='%.0f',color='k', fontsize=fs-2)\n",
        "plt.xlabel('Virus ID',fontsize=fs+2)\n",
        "plt.ylabel('Accuracy (%)',fontsize=fs+2)\n",
        "plt.xticks(fontsize=fs)\n",
        "plt.yticks(fontsize=fs)\n",
        "plt.savefig('logreg_test_acc', dpi=300, bbox_inches= 'tight');"
      ]
    },
    {
      "cell_type": "markdown",
      "metadata": {
        "id": "z6ODQjZASH2D"
      },
      "source": [
        "# Accuracy on ALL viruses,\n",
        "HV, L2, convariates vs same but scrambled"
      ]
    },
    {
      "cell_type": "code",
      "execution_count": null,
      "metadata": {
        "id": "WcUIudEdSH2E"
      },
      "outputs": [],
      "source": [
        "with open('supp_viruses_hv_genes_fullM_cov_donor_time_l2_nocontrol.pickle', 'rb') as handle:\n",
        "    results_dict_1 =  pickle.load(handle)\n",
        "with open('supp_viruses_hv_genes_fullM_cov_donor_time_l2_scramble.pickle', 'rb') as handle:\n",
        "    results_dict_2 =  pickle.load(handle)\n",
        "\n",
        "label_1 = 'True labels'\n",
        "label_2 = 'Scrambled labels'\n",
        "metric_varied = 'Model'\n",
        "viruses = results_dict_1['viruses']"
      ]
    },
    {
      "cell_type": "code",
      "execution_count": null,
      "metadata": {
        "id": "Rnm9KdTXSH2E"
      },
      "outputs": [],
      "source": [
        "results_df_1 = pd.DataFrame({'virus' : results_dict_1['viruses'],\n",
        "                           'num_training' : results_dict_1['num_training'],\n",
        "                           'test_sensitivity' : results_dict_1['test_sensitivity'],\n",
        "                           'test_specificity' : results_dict_1['test_specificity'],\n",
        "                           'test_score' : results_dict_1['test_score']*100,\n",
        "                           metric_varied : [label_1]*len(results_dict_1['viruses'])})\n",
        "\n",
        "\n",
        "results_df_2 = pd.DataFrame({'virus' : results_dict_2['viruses'],\n",
        "                           'num_training' : results_dict_2['num_training'],\n",
        "                           'test_sensitivity' : results_dict_2['test_sensitivity'],\n",
        "                           'test_specificity' : results_dict_2['test_specificity'],\n",
        "                           'test_score' : results_dict_2['test_score']*100,\n",
        "                           metric_varied : [label_2]*len(results_dict_2['viruses'])})\n",
        "\n",
        "\n",
        "# sort in descending order of viral abudance\n",
        "custom_order = viruses\n",
        "# Create a custom order index based on the list\n",
        "custom_order_index = {value: index for index, value in enumerate(custom_order)}\n",
        "    # Add a temporary column for sorting\n",
        "results_df_1['CustomOrderIndex'] = results_df_1['virus'].map(custom_order_index)\n",
        "# Sort the DataFrame based on the custom order index\n",
        "results_df_1 = results_df_1.sort_values(by='CustomOrderIndex')\n",
        "results_df_1.drop('CustomOrderIndex', axis=1, inplace=True)\n",
        "\n",
        "\n",
        "    # same for df2\n",
        "results_df_2['CustomOrderIndex'] = results_df_2['virus'].map(custom_order_index)\n",
        "results_df_2 = results_df_2.sort_values(by='CustomOrderIndex')\n",
        "results_df_2.drop('CustomOrderIndex', axis=1, inplace=True)\n",
        "\n",
        "\n",
        "plot_df_1 = results_df_1.melt(id_vars=['virus','num_training',metric_varied],\n",
        "                          value_vars=['test_specificity','test_sensitivity','test_score'],\n",
        "                          var_name='metric', value_name='metric_value')\n",
        "plot_df_2 = results_df_2.melt(id_vars=['virus','num_training',metric_varied],\n",
        "                          value_vars=['test_specificity','test_sensitivity','test_score'],\n",
        "                          var_name='metric', value_name='metric_value')\n",
        "\n",
        "plot_df = pd.concat([results_df_1,results_df_2])"
      ]
    },
    {
      "cell_type": "code",
      "execution_count": null,
      "metadata": {
        "id": "-XHoAvi9SH2E"
      },
      "outputs": [],
      "source": [
        "fig,ax = plt.subplots(figsize=(30,8))\n",
        "\n",
        "sns.barplot(data=plot_df,x='virus',y='test_score',hue = metric_varied,\n",
        "            ax=ax,palette=['#003049','lightgrey'])\n",
        "\n",
        "ax.tick_params(labelsize=18)\n",
        "ax.axhline(50, ls=\"--\", color=\"tab:red\", lw=1.5)\n",
        "plt.legend(fontsize=18)\n",
        "plt.setp(ax.get_legend().get_title(), fontsize='20')\n",
        "plt.xlabel('Virus ID',fontsize=22)\n",
        "plt.ylabel('Accuracy (%)',fontsize=22)\n",
        "\n",
        "for container in ax.containers:\n",
        "        ax.bar_label(container, fmt='%.0f',color='k',fontsize=10)\n",
        "\n",
        "plt.xticks(rotation=45, ha=\"right\")\n",
        "plt.ylim(0,100)\n",
        "ax.grid(True, which=\"both\", color='lightgray', ls=\"--\", lw=1)\n",
        "ax.set_axisbelow(True)\n",
        "ax.xaxis.grid(False)\n",
        "\n",
        "plt.savefig(os.path.join('logreg_test_accuracy_supp_virus.png'),dpi=300,bbox_inches='tight')\n",
        "\n",
        "plt.show()"
      ]
    },
    {
      "cell_type": "markdown",
      "metadata": {
        "id": "32b83VEUSH2E"
      },
      "source": [
        "### Plot gene weight correlations"
      ]
    },
    {
      "cell_type": "code",
      "source": [
        "!pip install -q anndata\n",
        "import anndata"
      ],
      "metadata": {
        "id": "RXXAontqUozK"
      },
      "execution_count": null,
      "outputs": []
    },
    {
      "cell_type": "code",
      "source": [
        "# Load virus and host count matrices from Caltech Data\n",
        "\n"
      ],
      "metadata": {
        "id": "5HC-mEz_UvCW"
      },
      "execution_count": null,
      "outputs": []
    },
    {
      "cell_type": "code",
      "execution_count": null,
      "metadata": {
        "id": "oFKEMbn3SH2E"
      },
      "outputs": [],
      "source": [
        "genes_kind = 'hv'\n",
        "viruses_kind = 'mac'\n",
        "\n",
        "virus_data_path = 'virus_no_mask.h5ad'\n",
        "host_data_path = 'macaque_QC_norm_leiden_celltypes.h5ad'\n",
        "\n",
        "virus_adata = anndata.read_h5ad(virus_data_path)\n",
        "host_adata = anndata.read_h5ad(host_data_path)\n",
        "\n",
        "# add unique barcode column\n",
        "host_adata.obs['unique_bc'] = host_adata.obs['sample_barcode'].astype('str') + host_adata.obs['barcode'].astype('str')\n",
        "\n",
        "print(host_adata.shape)\n",
        "virus_adata.obs['unique_bc'] = virus_adata.obs['sample_barcode'].astype('str') + virus_adata.obs.index.astype('str')\n",
        "host_adata.obs.index = host_adata.obs['unique_bc']\n",
        "virus_adata.obs.index = virus_adata.obs['unique_bc']\n",
        "\n",
        "# remove non macaque genes\n",
        "host_adata = host_adata[host_adata.obs[\"species\"] == \"macaca_mulatta\" , host_adata.var[\"species\"] == \"macaca_mulatta\"]\n",
        "# remove non macaque viruses and non null cell types\n",
        "virus_adata = virus_adata[virus_adata.obs[\"celltype\"].notnull(), :]\n",
        "# remove undefined cell types annd B cells 3 and 7\n",
        "undefined = ['Undefined 1']\n",
        "virus_adata = virus_adata[~virus_adata.obs[\"celltype_clusters\"].isin(undefined), :]\n",
        "\n",
        "\n",
        "all_genes = host_adata.var.index\n",
        "\n",
        "# filter the host anndata matrix to only contain macaque genes and the viral cells\n",
        "if genes_kind == 'all': # options: 'all', 'hv', 'threshN' with N being the lowest count sum over all cells to keep a gene\n",
        "    host_adata = host_adata[host_adata.obs.unique_bc.isin(virus_adata.obs.unique_bc),:]\n",
        "elif genes_kind == 'hv':\n",
        "    host_adata = host_adata[host_adata.obs.unique_bc.isin(virus_adata.obs.unique_bc),host_adata.var.highly_variable==True]\n",
        "elif 'thresh' in genes_kind:\n",
        "    thresh = int(genes_kind[6:])\n",
        "    host_adata = host_adata[host_adata.obs.unique_bc.isin(virus_adata.obs.unique_bc),host_adata.X.sum(axis=0)>=thresh]\n",
        "\n",
        "\n",
        "# only take top half expressing cells\n",
        "summed_raw_counts  = np.array(host_adata.raw.X.sum(axis=1)).flatten()\n",
        "thresh = np.quantile(summed_raw_counts ,0.5)\n",
        "host_adata = host_adata[summed_raw_counts>thresh]\n",
        "virus_adata = virus_adata[summed_raw_counts>thresh]\n",
        "\n",
        "hv_genes = host_adata.var.index"
      ]
    },
    {
      "cell_type": "code",
      "execution_count": null,
      "metadata": {
        "id": "hnmbX8jJSH2F"
      },
      "outputs": [],
      "source": [
        "gene_weights = {}\n",
        "num_genes = 2822\n",
        "\n",
        "models_to_compare = ['supp_viruses_hv_genes_fullM_cov_donor_time_l2_nocontrol.pickle',\n",
        "                     'supp_viruses_hv_genes_fullM_cov_none_l2_nocontrol.pickle',\n",
        "                     'supp_viruses_hv_genes_fullM_cov_donor_time_l2_scramble.pickle',]\n",
        "\n",
        "for v,virus in enumerate(top_viruses):\n",
        "    gene_weights[virus] = np.ones((len(models_to_compare), num_genes))\n",
        "\n",
        "    for m,model in enumerate(models_to_compare):\n",
        "\n",
        "        with open(model, 'rb') as handle:\n",
        "            results_dict =  pickle.load(handle)\n",
        "\n",
        "        ind = np.where(np.array(results_dict['viruses']) == virus)[0][0]\n",
        "\n",
        "        num_genes = len(hv_genes)\n",
        "        gene_weights[virus][m,:] = results_dict['weights'][ind,:num_genes]"
      ]
    },
    {
      "cell_type": "code",
      "execution_count": null,
      "metadata": {
        "id": "NTWe_D-7SH2F"
      },
      "outputs": [],
      "source": [
        "fig, ax = plt.subplots(7,2, figsize = (5, 12))\n",
        "fs = 12\n",
        "\n",
        "for v, virus in enumerate(top_viruses):\n",
        "\n",
        "    color = '#003049'\n",
        "    color2 = 'grey'\n",
        "    r1,p1 = scipy.stats.pearsonr(gene_weights[virus][0,:],gene_weights[virus][1,:])\n",
        "    ax[v,0].scatter(gene_weights[virus][0,:],gene_weights[virus][1,:],s=2,color=color,alpha=0.5)\n",
        "\n",
        "    ax[v,0].grid(True, which=\"both\", color='lightgray', ls=\"--\", lw=1)\n",
        "    ax[v,0].set_axisbelow(True)\n",
        "    ax[v,0].set_title(f'Pearson R: {r1:.3f}', fontsize=fs)\n",
        "\n",
        "    ax[v,0].set_ylabel(f'Gene weights\\nHV, No cov', fontsize=fs)\n",
        "\n",
        "    if v == len(top_viruses)-1:\n",
        "        ax[v,0].set_xlabel(f'Gene weights\\nHV, Cov', fontsize=fs)\n",
        "\n",
        "\n",
        "    r2,p2 = scipy.stats.pearsonr(gene_weights[virus][0,:],gene_weights[virus][-1,:])\n",
        "\n",
        "    ax[v,1].scatter(gene_weights[virus][0,:],gene_weights[virus][-1,:],s=2, color=color2,alpha=0.5)\n",
        "    ax[v,1].grid(True, which=\"both\", color='lightgray', ls=\"--\", lw=1)\n",
        "    ax[v,1].set_axisbelow(True)\n",
        "\n",
        "    ax[v,1].set_title(f'Pearson R: {r2:.3f}', fontsize=fs)\n",
        "    ax[v,1].set_ylabel(f'Scrambled labels', fontsize=fs)\n",
        "    if v == len(top_viruses)-1:\n",
        "        ax[v,1].set_xlabel(f'Gene weights\\nHV, Cov', fontsize=fs)\n",
        "\n",
        "\n",
        "plt.tight_layout()\n",
        "plt.savefig('logreg_gene_weight_scatter', dpi=300, bbox_inches= 'tight')"
      ]
    },
    {
      "cell_type": "markdown",
      "metadata": {
        "id": "sKyMEPOXSH2F"
      },
      "source": [
        "# Predictions modeled using negative training cells that were the same cell types as positive training cells\n",
        "Also tried modeling using only neutrophils but that left us with too few cells."
      ]
    },
    {
      "cell_type": "markdown",
      "metadata": {
        "id": "8VhRiEEaSH2G"
      },
      "source": [
        "### Generate table with numbers of positive/negative cells in training and testing sets\n",
        "The number of cells might be slightly reduced for the models trained on only the top 50% of cells based on sequencing depth."
      ]
    },
    {
      "cell_type": "code",
      "source": [
        "with open('top7_viruses_hv_genes_halfM_cov_donor_time_l2_equalprop.pickle', 'rb') as handle:\n",
        "    results_dict =  pickle.load(handle)\n",
        "with open('top7_viruses_hv_genes_halfM_cov_donor_time_l2_equalprop_scramble.pickle', 'rb') as handle:\n",
        "    results_dict_scramble =  pickle.load(handle)\n",
        "\n",
        "# # Data NOT subset to top 50% based on sequencing depth\n",
        "# with open('top7_viruses_hv_genes_fullM_cov_donor_time_l2_equalprop.pickle', 'rb') as handle:\n",
        "#     results_dict =  pickle.load(handle)\n",
        "# with open('top7_viruses_hv_genes_fullM_cov_donor_time_l2_equalprop_scramble.pickle', 'rb') as handle:\n",
        "#     results_dict_scramble =  pickle.load(handle)\n",
        "\n",
        "unscrambled_accuracy = np.ones(len(top_viruses))\n",
        "scrambled_accuracy = np.ones(len(top_viruses))\n",
        "num_training_cells = np.ones(len(top_viruses))\n",
        "num_train = np.ones(len(top_viruses))\n",
        "num_neg_train = np.ones(len(top_viruses))\n",
        "num_test = np.ones(len(top_viruses))\n",
        "num_neg_test = np.ones(len(top_viruses))\n",
        "\n",
        "for v,virus in enumerate(top_viruses):\n",
        "    ind = [v_ == virus for v_ in results_dict['viruses']]\n",
        "    ind2 = [v_ == virus for v_ in results_dict_scramble['viruses']]\n",
        "    unscrambled_accuracy[v] = results_dict['test_score'][ind]\n",
        "    scrambled_accuracy[v] = results_dict_scramble['test_score'][ind2]\n",
        "    num_train[v] = results_dict['num_training'][ind]\n",
        "    num_neg_train[v] = results_dict['num_training'][ind]/2\n",
        "\n",
        "    ind_test = np.where(np.array(results_dict['viruses'])==virus)[0][0]\n",
        "    num_test[v] = len(results_dict['true_all'][ind_test])\n",
        "    num_neg_test[v] = sum(results_dict['true_all'][ind_test]==0)"
      ],
      "metadata": {
        "id": "q_3Q2kingZAb"
      },
      "execution_count": null,
      "outputs": []
    },
    {
      "cell_type": "code",
      "execution_count": null,
      "metadata": {
        "id": "C_EfryWXSH2G"
      },
      "outputs": [],
      "source": [
        "df_num_cells = pd.DataFrame()\n",
        "\n",
        "df_num_cells[\"Virus ID\"] = top_viruses\n",
        "\n",
        "df_num_cells[\"# training cells\"] = num_train\n",
        "df_num_cells[\"# virus-negative training cells\"] = num_neg_train\n",
        "df_num_cells[\"# virus-positive training cells\"] = num_train - num_neg_train\n",
        "\n",
        "df_num_cells[\"# testing cells\"] = num_test\n",
        "df_num_cells[\"# virus-negative testing cells\"] = num_neg_test\n",
        "df_num_cells[\"# virus-positive testing cells\"] = num_test - num_neg_test\n",
        "\n",
        "df_num_cells"
      ]
    },
    {
      "cell_type": "markdown",
      "metadata": {
        "id": "DBcL79dZSH2G"
      },
      "source": [
        "### Plot sensitivity, specificity, and accuracy for models tested on cells with equal cell types as training cells"
      ]
    },
    {
      "cell_type": "code",
      "execution_count": null,
      "metadata": {
        "id": "-Drni1OHSH2G"
      },
      "outputs": [],
      "source": [
        "models_to_compare = [\n",
        "        'top7_viruses_hv_genes_halfM_cov_donor_time_l2_equalprop.pickle',\n",
        "        'top7_viruses_all_genes_halfM_cov_donor_time_l2_equalprop.pickle',\n",
        "        'top7_viruses_hv_genes_halfM_cov_donor_time_l2_equalprop_scramble.pickle'\n",
        "                    ]\n",
        "\n",
        "# # Data NOT subset to top 50% based on sequencing depth\n",
        "# models_to_compare = [\n",
        "#         'top7_viruses_hv_genes_fullM_cov_donor_time_l2_equalprop.pickle',\n",
        "#         'top7_viruses_all_genes_fullM_cov_donor_time_l2_equalprop.pickle',\n",
        "#         'top7_viruses_hv_genes_fullM_cov_donor_time_l2_equalprop_scramble.pickle'\n",
        "#                     ]\n",
        "\n",
        "model_names = [\n",
        "    'HV genes, Cov',\n",
        "    'All genes, Cov',\n",
        "    'Scrambled labels'\n",
        "              ]\n",
        "\n",
        "model_list = []\n",
        "\n",
        "sens = []\n",
        "spec = []\n",
        "acc = []\n",
        "\n",
        "for m,model in enumerate(models_to_compare):\n",
        "\n",
        "    with open(model, 'rb') as handle:\n",
        "        results_dict =  pickle.load(handle)\n",
        "\n",
        "\n",
        "    for v,virus in enumerate(top_viruses):\n",
        "        ind = [v_ == virus for v_ in results_dict['viruses']]\n",
        "\n",
        "        sens.append(results_dict['test_sensitivity'][ind])\n",
        "        spec.append(results_dict['test_specificity'][ind])\n",
        "        acc.append(results_dict['test_score'][ind])\n",
        "        model_list.append(model_names[m])"
      ]
    },
    {
      "cell_type": "code",
      "execution_count": null,
      "metadata": {
        "id": "sdCeEBoVSH2H"
      },
      "outputs": [],
      "source": [
        "df_plot = pd.DataFrame(\n",
        "    {\n",
        "        'Percent accuracy' : np.array(acc).flatten()*100,\n",
        "        'Percent sensitivity' : np.array(sens).flatten()*100,\n",
        "        'Percent specificity' : np.array(spec).flatten()*100,\n",
        "        'Model' : model_list,\n",
        "        'Virus ID' : top_viruses*len(models_to_compare)\n",
        "    }\n",
        ")"
      ]
    },
    {
      "cell_type": "code",
      "execution_count": null,
      "metadata": {
        "id": "mEOWRcNfSH2H"
      },
      "outputs": [],
      "source": [
        "fs = 14\n",
        "plt.figure(figsize=(10,5))\n",
        "# sens_colors = ['#9ecae1','#6baed6','#4292c6','#2171b5'][::-1]+['lightgrey']\n",
        "sens_colors = ['#9ecae1','#4292c6'][::-1]+['lightgrey']\n",
        "ax = sns.barplot(data=df_plot, x=\"Virus ID\", y=\"Percent sensitivity\", hue=\"Model\", palette=sens_colors)\n",
        "sns.move_legend(ax, \"lower left\", fontsize=fs)\n",
        "plt.setp(ax.get_legend().get_title(), fontsize=fs)\n",
        "ax.grid(True, which=\"both\", color='lightgray', ls=\"--\", lw=1)\n",
        "for container in ax.containers:\n",
        "    ax.bar_label(container, fmt='%.0f',color='k', fontsize=fs-2)\n",
        "ax.set_axisbelow(True)\n",
        "ax.axhline(50, ls=\"--\", color=\"tab:red\", lw=2)\n",
        "ax.xaxis.grid(False)\n",
        "# plt.xlabel('')\n",
        "# ax.set_xticklabels([])\n",
        "plt.xlabel('Virus ID',fontsize=fs+2)\n",
        "plt.ylabel('Sensitivity (%)',fontsize=fs+2)\n",
        "plt.xticks(fontsize=fs)\n",
        "plt.yticks(fontsize=fs)\n",
        "plt.savefig('logreg_test_sens_equalprop', dpi=300, bbox_inches= 'tight')"
      ]
    },
    {
      "cell_type": "code",
      "execution_count": null,
      "metadata": {
        "id": "zniNDPXiSH2H"
      },
      "outputs": [],
      "source": [
        "plt.figure(figsize=(10,5))\n",
        "# spec_colors = ['#bcbddc','#9e9ac8','#807dba','#6a51a3'][::-1]+['#fdae6b']\n",
        "spec_colors = sens_colors\n",
        "ax = sns.barplot(data=df_plot, x=\"Virus ID\", y=\"Percent specificity\", hue=\"Model\", palette=spec_colors)\n",
        "# sns.move_legend(ax, \"lower left\", fontsize=fs)\n",
        "plt.legend([],[], frameon=False) # remove legend\n",
        "plt.setp(ax.get_legend().get_title(), fontsize=fs)\n",
        "ax.grid(True, which=\"both\", color='lightgray', ls=\"--\", lw=1)\n",
        "ax.axhline(50, ls=\"--\", color=\"tab:red\", lw=2)\n",
        "ax.set_axisbelow(True)\n",
        "ax.xaxis.grid(False)\n",
        "for container in ax.containers:\n",
        "    ax.bar_label(container, fmt='%.0f',color='k', fontsize=fs-2)\n",
        "# plt.xlabel('')\n",
        "# ax.set_xticklabels([])\n",
        "plt.xlabel('Virus ID',fontsize=fs+2)\n",
        "plt.ylabel('Specificity (%)',fontsize=fs+2)\n",
        "plt.xticks(fontsize=fs)\n",
        "plt.yticks(fontsize=fs)\n",
        "plt.savefig('logreg_test_spec_equalprop', dpi=300, bbox_inches= 'tight');"
      ]
    },
    {
      "cell_type": "code",
      "execution_count": null,
      "metadata": {
        "id": "nYDEa4oDSH2H"
      },
      "outputs": [],
      "source": [
        "plt.figure(figsize=(10, 5))\n",
        "# acc_colors = ['#a1d99b','#74c476','#41ab5d','#238b45',][::-1]+['#fdae6b']\n",
        "acc_colors = sens_colors\n",
        "ax = sns.barplot(data=df_plot, x=\"Virus ID\", y=\"Percent accuracy\", hue=\"Model\", palette=acc_colors)\n",
        "# sns.move_legend(ax, \"lower left\", fontsize=fs)\n",
        "plt.legend([],[], frameon=False)\n",
        "ax.axhline(50, ls=\"--\", color=\"tab:red\", lw=2)\n",
        "plt.setp(ax.get_legend().get_title(), fontsize=fs)\n",
        "\n",
        "ax.grid(True, which=\"both\", color='lightgray', ls=\"--\", lw=1)\n",
        "ax.set_axisbelow(True)\n",
        "ax.xaxis.grid(False)\n",
        "for container in ax.containers:\n",
        "    ax.bar_label(container, fmt='%.0f',color='k', fontsize=fs-2)\n",
        "\n",
        "plt.xlabel('Virus ID',fontsize=fs+2)\n",
        "plt.ylabel('Accuracy (%)',fontsize=fs+2)\n",
        "plt.xticks(fontsize=fs)\n",
        "plt.yticks(fontsize=fs)\n",
        "plt.savefig('logreg_test_acc_equalprop', dpi=300, bbox_inches= 'tight');"
      ]
    },
    {
      "cell_type": "markdown",
      "metadata": {
        "id": "v9uFAMAUSH2I"
      },
      "source": [
        "Show cell type breakdown of training cells in this model:"
      ]
    },
    {
      "cell_type": "code",
      "execution_count": null,
      "metadata": {
        "id": "XtTVeg-0SH2I"
      },
      "outputs": [],
      "source": [
        "# Get the total number of training cells per cell type for each virus\n",
        "ct_nums = {}\n",
        "for m,model in enumerate(models_to_compare):\n",
        "\n",
        "    with open(model, 'rb') as handle:\n",
        "        results_dict =  pickle.load(handle)\n",
        "\n",
        "    for v, virus in enumerate(top_viruses):\n",
        "        ind = results_dict['viruses'].index(virus)\n",
        "\n",
        "        host_adata.obs[host_adata.obs.index.isin(results_dict['training_idx'][ind].values)]\n",
        "\n",
        "        ct_nums[virus] = host_adata.obs[host_adata.obs.index.isin(results_dict['training_idx'][ind].values)].groupby(\"celltype\").count()[\"unique_bc\"].to_dict()"
      ]
    },
    {
      "cell_type": "code",
      "source": [
        "ct_nums"
      ],
      "metadata": {
        "id": "OmMBWHIYwu7Z"
      },
      "execution_count": null,
      "outputs": []
    },
    {
      "cell_type": "code",
      "execution_count": null,
      "metadata": {
        "id": "LN08M1tYSH2I"
      },
      "outputs": [],
      "source": [
        "celltypes = [\"B cells\", \"T cells\", \"Natural killer\", \"Monocytes\", \"Immature neutrophils\", \"Undefined\"]\n",
        "colors = ['powderblue', '#9ecae1','#6baed6','#4292c6','#2171b5', \"#003049\"]\n",
        "width = 0.15\n",
        "positions = [-2.5*width, -1.5*width, -width/2, width/2, 1.5*width, 2.5*width]\n",
        "\n",
        "fig, ax = plt.subplots(figsize=(10, 5))\n",
        "x = 0\n",
        "fontsize = 14\n",
        "for vir in top_viruses:\n",
        "    for i, (pos, ct) in enumerate(zip(positions, celltypes)):\n",
        "        if vir == top_viruses[0]:\n",
        "            ax.bar(x+pos, ct_nums[vir][ct], width=width, color=colors[i], label=ct)\n",
        "        else:\n",
        "            ax.bar(x+pos, ct_nums[vir][ct], color=colors[i], width=width)\n",
        "\n",
        "        # Add number above bar\n",
        "        ax.text(x+pos, ct_nums[vir][ct]+0.2*ct_nums[vir][ct], '{:,}'.format(ct_nums[vir][ct]), fontsize=fontsize-3, rotation=90, ha=\"center\")\n",
        "\n",
        "    x += 1\n",
        "\n",
        "ax.set_xticks(np.arange(len(top_viruses)), top_viruses)\n",
        "\n",
        "ax.grid(True, which=\"both\", color='lightgray', ls=\"--\", lw=1)\n",
        "ax.set_axisbelow(True)\n",
        "ax.xaxis.grid(False)\n",
        "\n",
        "ax.tick_params(axis=\"both\", labelsize=fontsize)\n",
        "\n",
        "ax.set_ylim(0, 80000)\n",
        "\n",
        "ax.set_yscale(\"symlog\")\n",
        "ax.legend(fontsize=fontsize-3, loc=\"upper left\")\n",
        "\n",
        "ax.margins(x=0.02)\n",
        "\n",
        "plt.xlabel('Virus ID',fontsize=fontsize+2)\n",
        "plt.ylabel('# training cells',fontsize=fontsize+2)\n",
        "\n",
        "plt.savefig('logreg_equalprop_celltypes.png', dpi=300, bbox_inches= 'tight')\n",
        "\n",
        "fig.show()"
      ]
    },
    {
      "cell_type": "code",
      "execution_count": null,
      "metadata": {
        "id": "_CSUR-48SH2N"
      },
      "outputs": [],
      "source": []
    }
  ],
  "metadata": {
    "kernelspec": {
      "display_name": "Python 3 (ipykernel)",
      "language": "python",
      "name": "python3"
    },
    "language_info": {
      "codemirror_mode": {
        "name": "ipython",
        "version": 3
      },
      "file_extension": ".py",
      "mimetype": "text/x-python",
      "name": "python",
      "nbconvert_exporter": "python",
      "pygments_lexer": "ipython3",
      "version": "3.9.12"
    },
    "colab": {
      "provenance": [],
      "include_colab_link": true
    }
  },
  "nbformat": 4,
  "nbformat_minor": 0
}