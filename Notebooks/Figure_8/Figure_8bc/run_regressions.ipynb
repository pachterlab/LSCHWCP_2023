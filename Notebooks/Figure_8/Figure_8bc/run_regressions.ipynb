{
  "nbformat": 4,
  "nbformat_minor": 0,
  "metadata": {
    "colab": {
      "provenance": [],
      "authorship_tag": "ABX9TyNxGZruUpgCtptGfDETWmDI",
      "include_colab_link": true
    },
    "kernelspec": {
      "name": "python3",
      "display_name": "Python 3"
    },
    "language_info": {
      "name": "python"
    }
  },
  "cells": [
    {
      "cell_type": "markdown",
      "metadata": {
        "id": "view-in-github",
        "colab_type": "text"
      },
      "source": [
        "<a href=\"https://colab.research.google.com/github/pachterlab/LSCHWCP_2023/blob/main/Notebooks/Figure_8/Figure_8bc/run_regressions.ipynb\" target=\"_parent\"><img src=\"https://colab.research.google.com/assets/colab-badge.svg\" alt=\"Open In Colab\"/></a>"
      ]
    },
    {
      "cell_type": "markdown",
      "source": [
        "# Logistic regressions to predict virus presence based on host gene expression\n",
        "\n",
        "### NOTE: Running this notebook requires a large amount of memory (32 GB of RAM), exceeding Googla Colab memory limits."
      ],
      "metadata": {
        "id": "P1FxalOsKVgS"
      }
    },
    {
      "cell_type": "code",
      "source": [
        "!pip install -q anndata"
      ],
      "metadata": {
        "id": "a9UUR9DCLASJ"
      },
      "execution_count": null,
      "outputs": []
    },
    {
      "cell_type": "markdown",
      "source": [
        "### Download data\n",
        "Download count matrices (generated [here](https://github.com/pachterlab/LSCHWCP_2023/tree/main/Notebooks/align_macaque_PBMC_data/1_virus_no_mask) (virus) and [here](https://github.com/pachterlab/LSCHWCP_2023/tree/main/Notebooks/Supp_Fig_3/Supp_Fig_3abc) (macaque):"
      ],
      "metadata": {
        "id": "11SuoH9gKasC"
      }
    },
    {
      "cell_type": "code",
      "source": [
        "# Download data from Caltech Data\n",
        "!wget https://data.caltech.edu/records/sh33z-hrx98/files/virus_no_mask.h5ad?download=1\n",
        "!mv virus_no_mask.h5ad?download=1 virus_no_mask.h5ad\n",
        "!wget https://data.caltech.edu/records/sh33z-hrx98/files/macaque_QC_norm_leiden_celltypes.h5ad?download=1\n",
        "!mv macaque_QC_norm_leiden_celltypes.h5ad?download=1 macaque_QC_norm_leiden_celltypes.h5ad"
      ],
      "metadata": {
        "id": "59T7oUzjKa2f"
      },
      "execution_count": null,
      "outputs": []
    },
    {
      "cell_type": "markdown",
      "source": [
        "Download code to run logistic regressions:"
      ],
      "metadata": {
        "id": "8dG9htJ6KPJj"
      }
    },
    {
      "cell_type": "code",
      "execution_count": null,
      "metadata": {
        "id": "GgPlC36xAyD4"
      },
      "outputs": [],
      "source": [
        "!wget https://raw.githubusercontent.com/pachterlab/LSCHWCP_2023/main/Notebooks/Figure_8/Figure_8bc/logisticRegression.py"
      ]
    },
    {
      "cell_type": "markdown",
      "source": [
        "### Build models"
      ],
      "metadata": {
        "id": "ojod1fpEIdIw"
      }
    },
    {
      "cell_type": "markdown",
      "source": [
        "For all models, negative trainig cells are selected such that they are of the same cell types as the positive training cells. All models are trained and tested using only the top 50% of cells in terms of sequencing depth to reduce the occurence of false viral absence labels. All models are generated for all 'macaque only' and 'shared' viruses."
      ],
      "metadata": {
        "id": "n8CEej3QzM4W"
      }
    },
    {
      "cell_type": "code",
      "source": [
        "# Define random seeds (based on https://www.kaggle.com/code/residentmario/kernel16e284dcb7)\n",
        "random_seeds = [0, 1, 10, 42, 100, 1234]"
      ],
      "metadata": {
        "id": "eBy1pbkX0VvS"
      },
      "execution_count": null,
      "outputs": []
    },
    {
      "cell_type": "code",
      "source": [
        "%%time\n",
        "for seed in random_seeds:\n",
        "    # Run the regression on highly variable (hv) macaque genes with covariates (time point and donor animal)\n",
        "    !python3 logisticRegression.py \\\n",
        "        --covariates_kind \"donor_time\" \\\n",
        "        --genes_kind \"hv\" \\\n",
        "        --regularization \"l2\" \\\n",
        "        --viruses_kind \"supp\" \\\n",
        "        --control \"equalprop\" \\\n",
        "        --matrix \"halfM\" \\\n",
        "        --random_seed $seed\n",
        "\n",
        "    # Run the regression on highly variable macaque genes without covariates\n",
        "    !python3 logisticRegression.py \\\n",
        "        --covariates_kind \"none\" \\\n",
        "        --genes_kind \"hv\" \\\n",
        "        --regularization \"l2\" \\\n",
        "        --viruses_kind \"supp\" \\\n",
        "        --control \"equalprop\" \\\n",
        "        --matrix \"halfM\" \\\n",
        "        --random_seed $seed\n",
        "\n",
        "    # Run the regression on all macaque genes with covariates (time point and donor animal)\n",
        "    !python3 logisticRegression.py \\\n",
        "        --covariates_kind \"donor_time\" \\\n",
        "        --genes_kind \"all\" \\\n",
        "        --regularization \"l2\" \\\n",
        "        --viruses_kind \"supp\" \\\n",
        "        --control \"equalprop\" \\\n",
        "        --matrix \"halfM\" \\\n",
        "        --random_seed $seed\n",
        "\n",
        "    # Run the regression on all macaque genes without covariates\n",
        "    !python3 logisticRegression.py \\\n",
        "    --covariates_kind \"none\" \\\n",
        "    --genes_kind \"all\" \\\n",
        "    --regularization \"l2\" \\\n",
        "    --viruses_kind \"supp\" \\\n",
        "    --control \"equalprop\" \\\n",
        "    --matrix \"halfM\" \\\n",
        "    --random_seed $seed\n",
        "\n",
        "    # Run the regression on all macaque genes with covariates (time point and donor animal)\n",
        "    # but scramble the virus presence/absence labels\n",
        "    !python3 logisticRegression.py \\\n",
        "    --covariates_kind \"donor_time\" \\\n",
        "    --genes_kind \"all\" \\\n",
        "    --regularization \"l2\" \\\n",
        "    --viruses_kind \"supp\" \\\n",
        "    --control \"equalprop\" \\\n",
        "    --matrix \"halfM\" \\\n",
        "    --random_seed $seed \\\n",
        "    --scramble True\n",
        "\n",
        "    # Run the regression on highly variable macaque genes with covariates (time point and donor animal)\n",
        "    # but scramble the virus presence/absence labels\n",
        "    !python3 logisticRegression.py \\\n",
        "    --covariates_kind \"donor_time\" \\\n",
        "    --genes_kind \"hv\" \\\n",
        "    --regularization \"l2\" \\\n",
        "    --viruses_kind \"supp\" \\\n",
        "    --control \"equalprop\" \\\n",
        "    --matrix \"halfM\" \\\n",
        "    --random_seed $seed \\\n",
        "    --scramble True\n",
        "\n",
        "# Zip the models into a compressed file\n",
        "!zip models.zip *.pickle"
      ],
      "metadata": {
        "id": "KZZhEhE_ydIK"
      },
      "execution_count": null,
      "outputs": []
    }
  ]
}