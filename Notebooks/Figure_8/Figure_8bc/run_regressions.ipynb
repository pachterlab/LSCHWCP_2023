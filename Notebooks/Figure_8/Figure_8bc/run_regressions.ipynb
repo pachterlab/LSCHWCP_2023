{
  "nbformat": 4,
  "nbformat_minor": 0,
  "metadata": {
    "colab": {
      "provenance": [],
      "authorship_tag": "ABX9TyPSzRQmyaNNA0c9Uwuy+UpI",
      "include_colab_link": true
    },
    "kernelspec": {
      "name": "python3",
      "display_name": "Python 3"
    },
    "language_info": {
      "name": "python"
    }
  },
  "cells": [
    {
      "cell_type": "markdown",
      "metadata": {
        "id": "view-in-github",
        "colab_type": "text"
      },
      "source": [
        "<a href=\"https://colab.research.google.com/github/pachterlab/LSCHWCP_2023/blob/main/Notebooks/Figure_8%20/Figure_8bc/run_regressions.ipynb\" target=\"_parent\"><img src=\"https://colab.research.google.com/assets/colab-badge.svg\" alt=\"Open In Colab\"/></a>"
      ]
    },
    {
      "cell_type": "markdown",
      "source": [
        "# Logistic regressions to predict virus presence based on host gene expression"
      ],
      "metadata": {
        "id": "P1FxalOsKVgS"
      }
    },
    {
      "cell_type": "markdown",
      "source": [
        "### Download data\n",
        "Download count matrices:"
      ],
      "metadata": {
        "id": "11SuoH9gKasC"
      }
    },
    {
      "cell_type": "code",
      "source": [
        "# Download data from Caltech Data\n",
        "# !wget virus_no_mask.h5ad\n",
        "# !wget macaque_QC_norm_leiden_celltypes.h5ad"
      ],
      "metadata": {
        "id": "59T7oUzjKa2f"
      },
      "execution_count": null,
      "outputs": []
    },
    {
      "cell_type": "markdown",
      "source": [
        "Download code to run logistic regressions:"
      ],
      "metadata": {
        "id": "8dG9htJ6KPJj"
      }
    },
    {
      "cell_type": "code",
      "execution_count": null,
      "metadata": {
        "id": "GgPlC36xAyD4"
      },
      "outputs": [],
      "source": [
        "!wget https://raw.githubusercontent.com/pachterlab/LSCHWCP_2023/main/Notebooks/Figure_8/Figure_8bc/logisticRegression.py"
      ]
    },
    {
      "cell_type": "markdown",
      "source": [
        "### Build models"
      ],
      "metadata": {
        "id": "ojod1fpEIdIw"
      }
    },
    {
      "cell_type": "code",
      "source": [
        "!pip install -q anndata"
      ],
      "metadata": {
        "id": "a9UUR9DCLASJ"
      },
      "execution_count": null,
      "outputs": []
    },
    {
      "cell_type": "markdown",
      "source": [
        "Run the regression on highly variable macaque genes with and without covariates (for all 'macaque only' and 'shared' viruses):"
      ],
      "metadata": {
        "id": "ZbetMverLDpQ"
      }
    },
    {
      "cell_type": "code",
      "source": [
        "!python3 logisticRegression.py --covariates_kind 'donor_time' --genes_kind 'hv' --regularization 'l2' --viruses_kind \"supp\"\n",
        "!python3 logisticRegression.py --covariates_kind 'none' --genes_kind 'hv' --regularization 'l2' --viruses_kind \"supp\""
      ],
      "metadata": {
        "id": "wjWmFsS5Il6d"
      },
      "execution_count": null,
      "outputs": []
    },
    {
      "cell_type": "markdown",
      "source": [
        "Run the regression on highly variable macaque genes with and without covariates but scrambling the virus presence/absence labels in the training data (for all 'macaque only' and 'shared' viruses):"
      ],
      "metadata": {
        "id": "ggew5GM5Iqst"
      }
    },
    {
      "cell_type": "code",
      "source": [
        "!python3 logisticRegression.py --covariates_kind 'donor_time' --genes_kind 'hv' --regularization 'l2' --viruses_kind \"supp\" --scramble True\n",
        "!python3 logisticRegression.py --covariates_kind 'none' --genes_kind 'hv' --regularization 'l2' --viruses_kind \"supp\" --scramble True"
      ],
      "metadata": {
        "id": "9DtjrXbAIom8"
      },
      "execution_count": null,
      "outputs": []
    },
    {
      "cell_type": "markdown",
      "source": [
        "Run the regression on all macaque genes with and without covariates (for all 'macaque only' and 'shared' viruses):"
      ],
      "metadata": {
        "id": "AcOCNMEMJv5r"
      }
    },
    {
      "cell_type": "code",
      "source": [
        "!python3 logisticRegression.py --covariates_kind 'donor_time' --genes_kind 'all' --regularization 'l2' --viruses_kind \"supp\"\n",
        "!python3 logisticRegression.py --covariates_kind 'none' --genes_kind 'all' --regularization 'l2' --viruses_kind \"supp\""
      ],
      "metadata": {
        "id": "Rk9KGStHJwGs"
      },
      "execution_count": null,
      "outputs": []
    },
    {
      "cell_type": "markdown",
      "source": [
        "Run the regression on all macaque genes with and without covariates but scrambling the virus presence/absence labels in the training data (for all 'macaque only' and 'shared' viruses):"
      ],
      "metadata": {
        "id": "R-cFGDgLJ-KH"
      }
    },
    {
      "cell_type": "code",
      "source": [
        "!python3 logisticRegression.py --covariates_kind 'donor_time' --genes_kind 'all' --regularization 'l2' --viruses_kind \"supp\" --scramble True\n",
        "!python3 logisticRegression.py --covariates_kind 'none' --genes_kind 'all' --regularization 'l2' --viruses_kind \"supp\" --scramble True"
      ],
      "metadata": {
        "id": "OIOYizX2J-cy"
      },
      "execution_count": null,
      "outputs": []
    },
    {
      "cell_type": "markdown",
      "source": [
        "Run the regression on highly variable macaque genes with covariates and select testing cells such that they are of the same cell type ratios as the training cells (only for the 7 viruses featured in the main figures of the manuscript):"
      ],
      "metadata": {
        "id": "6ID0QKMnI7_2"
      }
    },
    {
      "cell_type": "code",
      "source": [
        "!python3 logisticRegression.py --covariates_kind 'donor_time' --genes_kind 'hv' --regularization 'l2' --viruses_kind \"top7\" --control \"equalprop\""
      ],
      "metadata": {
        "id": "nvicRunkI8LF"
      },
      "execution_count": null,
      "outputs": []
    },
    {
      "cell_type": "markdown",
      "source": [
        "Run the regression on highly variable macaque genes with covariates and select testing cells such that they are of the same cell type ratios as the training cells but scrambling virus presence/absence labels in the training data (only for the 7 viruses featured in the main figures of the manuscript):"
      ],
      "metadata": {
        "id": "m2P93QB1I1AY"
      }
    },
    {
      "cell_type": "code",
      "source": [
        "!python3 logisticRegression.py --covariates_kind 'donor_time' --genes_kind 'hv' --regularization 'l2' --viruses_kind \"top7\" --control \"equalprop\" --scramble True"
      ],
      "metadata": {
        "id": "3_gmGQC4I1Ms"
      },
      "execution_count": null,
      "outputs": []
    },
    {
      "cell_type": "markdown",
      "source": [
        "Run the regression on all macaque genes with covariates and select testing cells such that they are of the same cell type ratios as the training cells but scrambling virus presence/absence labels in the training data (only for the 7 viruses featured in the main figures of the manuscript):"
      ],
      "metadata": {
        "id": "vXcmUPSdKGbt"
      }
    },
    {
      "cell_type": "code",
      "source": [
        "!python3 logisticRegression.py --covariates_kind 'donor_time' --genes_kind 'all' --regularization 'l2' --viruses_kind \"top7\" --control \"equalprop\""
      ],
      "metadata": {
        "id": "aaTwtiu6KGsr"
      },
      "execution_count": null,
      "outputs": []
    },
    {
      "cell_type": "markdown",
      "source": [
        "Run the regression on all macaque genes with covariates and select testing cells such that they are of the same cell type ratios as the training cells but scrambling virus presence/absence labels in the training data (only for the 7 viruses featured in the main figures of the manuscript):"
      ],
      "metadata": {
        "id": "ISIRPpDUKHKr"
      }
    },
    {
      "cell_type": "code",
      "source": [
        "!python3 logisticRegression.py --covariates_kind 'donor_time' --genes_kind 'all' --regularization 'l2' --viruses_kind \"top7\" --control \"equalprop\" --scramble True"
      ],
      "metadata": {
        "id": "rTEbdrC7KHW_"
      },
      "execution_count": null,
      "outputs": []
    }
  ]
}
