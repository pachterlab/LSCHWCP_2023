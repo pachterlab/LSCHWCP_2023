{
  "cells": [
    {
      "cell_type": "markdown",
      "metadata": {
        "id": "view-in-github",
        "colab_type": "text"
      },
      "source": [
        "<a href=\"https://colab.research.google.com/github/pachterlab/LSCHWCP_2023/blob/main/Notebooks/krona_plot/generate_krona_plot.ipynb\" target=\"_parent\"><img src=\"https://colab.research.google.com/assets/colab-badge.svg\" alt=\"Open In Colab\"/></a>"
      ]
    },
    {
      "cell_type": "markdown",
      "id": "210dc559-9078-463f-9ea4-92fdcf5a4aa7",
      "metadata": {
        "id": "210dc559-9078-463f-9ea4-92fdcf5a4aa7"
      },
      "source": [
        "# Create a Krona plot for all viruses across all cells grouped by animal and timepoint:"
      ]
    },
    {
      "cell_type": "code",
      "execution_count": null,
      "id": "6f314d09-f98e-4a02-880e-391976195296",
      "metadata": {
        "id": "6f314d09-f98e-4a02-880e-391976195296"
      },
      "outputs": [],
      "source": [
        "!pip install -q anndata\n",
        "import anndata\n",
        "import pandas as pd\n",
        "import numpy as np\n",
        "\n",
        "def nd(arr):\n",
        "    \"\"\"\n",
        "    Function to transform numpy matrix to nd array.\n",
        "    \"\"\"\n",
        "    return np.asarray(arr).reshape(-1)"
      ]
    },
    {
      "cell_type": "markdown",
      "source": [
        "___\n",
        "# Install Krona\n",
        "Also see:  \n",
        "https://github.com/marbl/Krona/wiki/Installing  \n",
        "https://github.com/marbl/Krona/wiki/Importing-text-and-XML-data"
      ],
      "metadata": {
        "id": "6OWL84sxCiup"
      },
      "id": "6OWL84sxCiup"
    },
    {
      "cell_type": "code",
      "source": [
        "# Download release\n",
        "!wget https://github.com/marbl/Krona/releases/download/v2.8.1/KronaTools-2.8.1.tar\n",
        "# Untar\n",
        "!tar -xvf KronaTools-2.8.1.tar\n",
        "# Install\n",
        "!cd KronaTools-2.8.1 && ./install.pl --prefix ./\n",
        "\n",
        "# Path to Krona tool\n",
        "ktImportText = \"/content/KronaTools-2.8.1/bin/ktImportText\""
      ],
      "metadata": {
        "id": "hTTzmIEmCi2F"
      },
      "id": "hTTzmIEmCi2F",
      "execution_count": null,
      "outputs": []
    },
    {
      "cell_type": "markdown",
      "id": "0d59ddee-1037-4544-84a3-855927a851e2",
      "metadata": {
        "id": "0d59ddee-1037-4544-84a3-855927a851e2"
      },
      "source": [
        "___\n",
        "# Load data\n",
        "The count matrix was generated as shown [here](https://github.com/pachterlab/LSCHWCP_2023/tree/main/Notebooks/align_macaque_PBMC_data/7_virus_host_captured_dlist_cdna_dna)."
      ]
    },
    {
      "cell_type": "code",
      "source": [
        "# Download count matrix from Caltech Data\n"
      ],
      "metadata": {
        "id": "q8ZXIYPsDUs8"
      },
      "id": "q8ZXIYPsDUs8",
      "execution_count": null,
      "outputs": []
    },
    {
      "cell_type": "code",
      "execution_count": null,
      "id": "d11f8130-1b0d-4156-a788-2822c8ffc7d0",
      "metadata": {
        "id": "d11f8130-1b0d-4156-a788-2822c8ffc7d0"
      },
      "outputs": [],
      "source": [
        "palmdb_adata = anndata.read(\"virus_host-captured_dlist_cdna_dna.h5ad\")\n",
        "palmdb_adata"
      ]
    },
    {
      "cell_type": "markdown",
      "id": "6ba0fb21-df3d-4211-8305-14fc2b6f2540",
      "metadata": {
        "id": "6ba0fb21-df3d-4211-8305-14fc2b6f2540"
      },
      "source": [
        "Only keep macaque viruses and cells that passed QC:"
      ]
    },
    {
      "cell_type": "code",
      "execution_count": null,
      "id": "8c31df21-bddc-40ed-93d8-17d1e1696bd6",
      "metadata": {
        "id": "8c31df21-bddc-40ed-93d8-17d1e1696bd6"
      },
      "outputs": [],
      "source": [
        "palmdb_adata = palmdb_adata[palmdb_adata.obs[\"celltype\"].notnull(), palmdb_adata.var[\"v_type\"] != \"below_threshold\"].copy()\n",
        "palmdb_adata"
      ]
    },
    {
      "cell_type": "markdown",
      "id": "50215e1d-d35d-40ca-ac14-ea86039c6962",
      "metadata": {
        "id": "50215e1d-d35d-40ca-ac14-ea86039c6962"
      },
      "source": [
        "Load ID to phylogeny mapping:"
      ]
    },
    {
      "cell_type": "code",
      "execution_count": null,
      "id": "17c62507-5143-4a5a-9431-e076ea02b87b",
      "metadata": {
        "id": "17c62507-5143-4a5a-9431-e076ea02b87b"
      },
      "outputs": [],
      "source": [
        "# Load virus ID to taxonomy mapping\n",
        "!wget https://raw.githubusercontent.com/pachterlab/LSCHWCP_2023/main/PalmDB/ID_to_taxonomy_mapping.csv\n",
        "id2tax = pd.read_csv(\"ID_to_taxonomy_mapping.csv\")\n",
        "\n",
        "# Drop columns not needed here and drop taxonomyduplicates\n",
        "id2tax = id2tax.drop(\"ID\", axis=1).drop(\"strandedness\", axis=1)\n",
        "id2tax = id2tax.drop_duplicates()\n",
        "\n",
        "id2tax"
      ]
    },
    {
      "cell_type": "markdown",
      "id": "d0085c9f-550c-4bb7-b789-956f9b6765fb",
      "metadata": {
        "id": "d0085c9f-550c-4bb7-b789-956f9b6765fb"
      },
      "source": [
        "___\n",
        "# Generate Krona html"
      ]
    },
    {
      "cell_type": "code",
      "execution_count": null,
      "id": "7a61fe4d-5301-4339-a978-dc24493304c4",
      "metadata": {
        "id": "7a61fe4d-5301-4339-a978-dc24493304c4"
      },
      "outputs": [],
      "source": [
        "%%time\n",
        "master = pd.DataFrame()\n",
        "for idx, timepoint in enumerate(palmdb_adata.obs[\"dpi_clean_merged\"].unique()):\n",
        "    for animal_id in palmdb_adata.obs[palmdb_adata.obs[\"dpi_clean_merged\"] == timepoint][\"donor_animal\"].unique():\n",
        "        adata_temp = palmdb_adata[(palmdb_adata.obs[\"dpi_clean_merged\"] == timepoint) & (palmdb_adata.obs[\"donor_animal\"] == animal_id), :]\n",
        "\n",
        "        # Add total number of counts (across all cells) for each virus ID to phylogeny data temp\n",
        "        virus_ids = adata_temp.var.index.values\n",
        "        total_counts = nd(adata_temp.X.sum(axis=0))\n",
        "        total_count_dict = {virus_ids[i]: total_counts[i] for i in range(len(virus_ids))}\n",
        "\n",
        "        phylogeny_data_temp = id2tax.copy()\n",
        "        phylogeny_data_temp['total_count'] = phylogeny_data_temp['rep_ID'].map(total_count_dict)\n",
        "\n",
        "        # Drop viruses not in filter list\n",
        "        phylogeny_data_temp = phylogeny_data_temp.dropna()\n",
        "\n",
        "        # Remove non-relevent columns and change order of columns\n",
        "        phylogeny_data_temp = phylogeny_data_temp[[\"total_count\", \"phylum\", \"class\", \"order\", \"family\", \"genus\", \"species\", \"rep_ID\"]]\n",
        "\n",
        "        # Replace dots with NaN\n",
        "        phylogeny_data_temp = phylogeny_data_temp.replace(\".\", np.nan)\n",
        "\n",
        "        # Add column with timepoint\n",
        "        phylogeny_data_temp[\"timepoint\"] = timepoint\n",
        "\n",
        "        # Add column with animal id\n",
        "        phylogeny_data_temp[\"animal_id\"] = animal_id\n",
        "\n",
        "        # Append to master dataframe\n",
        "        if idx == 0:\n",
        "            master = phylogeny_data_temp.copy()\n",
        "        else:\n",
        "            master = pd.concat([master, phylogeny_data_temp])\n",
        "\n",
        "# Save counts + taxnomomies data to txt\n",
        "master.to_csv(f'krona.txt', sep ='\\t', header=None, index=False)\n",
        "\n",
        "# Generate Krona plot\n",
        "krona_out = \"krona.html\"\n",
        "!$ktImportText krona.txt -o $krona_out -n \"Virus-positive cells\""
      ]
    },
    {
      "cell_type": "markdown",
      "source": [
        "You can view the pre-computed Krona plot [here](https://htmlpreview.github.io/?https://github.com/pachterlab/LSCHWCP_2023/blob/main/krona_plot.html)."
      ],
      "metadata": {
        "id": "imJsVLOuD4yx"
      },
      "id": "imJsVLOuD4yx"
    },
    {
      "cell_type": "code",
      "execution_count": null,
      "id": "33dfd28b-5e5d-4009-8ef8-588dc042d0cb",
      "metadata": {
        "id": "33dfd28b-5e5d-4009-8ef8-588dc042d0cb"
      },
      "outputs": [],
      "source": []
    }
  ],
  "metadata": {
    "kernelspec": {
      "display_name": "Python 3 (ipykernel)",
      "language": "python",
      "name": "python3"
    },
    "language_info": {
      "codemirror_mode": {
        "name": "ipython",
        "version": 3
      },
      "file_extension": ".py",
      "mimetype": "text/x-python",
      "name": "python",
      "nbconvert_exporter": "python",
      "pygments_lexer": "ipython3",
      "version": "3.9.12"
    },
    "colab": {
      "provenance": [],
      "include_colab_link": true
    }
  },
  "nbformat": 4,
  "nbformat_minor": 5
}