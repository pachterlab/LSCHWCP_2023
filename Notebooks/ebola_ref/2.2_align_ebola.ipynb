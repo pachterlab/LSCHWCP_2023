{
 "cells": [
  {
   "cell_type": "markdown",
   "id": "42299743-d5d4-4622-85ff-ee7bb0554223",
   "metadata": {},
   "source": [
    "Align to Ebola genome to see how many cells were missed when aligning to RdRP only. "
   ]
  },
  {
   "cell_type": "code",
   "execution_count": 41,
   "id": "c8be11ee-0016-4441-8774-daff41302f44",
   "metadata": {},
   "outputs": [],
   "source": [
    "bp = \"PRJNA665227\"\n",
    "fastq_folder = f\"/home/laura/projects/virus-watch-data/{bp}/raw\"\n",
    "out_folder = f\"{fastq_folder}/../ebola\""
   ]
  },
  {
   "cell_type": "markdown",
   "id": "aea1736a-0a87-4e81-afba-976fd3027539",
   "metadata": {},
   "source": [
    "### Build Ebola genome fasta and gtf\n",
    "We will split the complete genome into 500 bp pieces and give each of them a number stored in the gtf.\n",
    "\n",
    "Ebola genome ViralProj14703 (linked to NC_002549.1) downloaded from https://www.ncbi.nlm.nih.gov/data-hub/genome/?taxon=186538\n",
    "\n",
    "Raw file:  \n",
    "/home/laura/projects/kraken2-2.1.2/ebov_fna/ncbi_dataset/data/GCA_000848505.1/GCA_000848505.1_ViralProj14703_genomic.fna"
   ]
  },
  {
   "cell_type": "code",
   "execution_count": 42,
   "id": "73cbfa48-0879-4566-8193-3fa565da3b27",
   "metadata": {},
   "outputs": [
    {
     "name": "stdout",
     "output_type": "stream",
     "text": [
      "1\n"
     ]
    }
   ],
   "source": [
    "ebov_fna = \"/home/laura/projects/kraken2-2.1.2/ebov_fna/ncbi_dataset/data/GCA_000848505.1/GCA_000848505.1_ViralProj14703_genomic.fna\"\n",
    "\n",
    "!grep -o '>' $ebov_fna  | wc -l"
   ]
  },
  {
   "cell_type": "code",
   "execution_count": 43,
   "id": "922bae6a-fddf-4a5c-908b-0163cb4a7620",
   "metadata": {},
   "outputs": [],
   "source": [
    "from Bio import SeqIO\n",
    "import textwrap"
   ]
  },
  {
   "cell_type": "code",
   "execution_count": 44,
   "id": "f841f266-61f7-44fc-961e-90806194863d",
   "metadata": {},
   "outputs": [
    {
     "name": "stdout",
     "output_type": "stream",
     "text": [
      "AF086833.2\n",
      "genome length:  18959\n"
     ]
    }
   ],
   "source": [
    "# Load raw genome\n",
    "records = list(SeqIO.parse(ebov_fna, \"fasta\"))\n",
    "print(records[0].id)\n",
    "print(\"genome length: \", len(records[0].seq))"
   ]
  },
  {
   "cell_type": "code",
   "execution_count": 45,
   "id": "39772cf5-a614-4850-8722-afa96f2effb2",
   "metadata": {},
   "outputs": [],
   "source": [
    "ebola_fasta = \"/home/laura/projects/virus-watch-data/ebola_ref/ebov_GCA_000848505.fasta\"\n",
    "ebola_gtf = \"/home/laura/projects/virus-watch-data/ebola_ref/ebov_GCA_000848505.gtf\""
   ]
  },
  {
   "cell_type": "code",
   "execution_count": 46,
   "id": "f84bee4e-92e1-4c39-96fb-fc615d90e1bd",
   "metadata": {},
   "outputs": [],
   "source": [
    "# Split genome into 500 bp pieces\n",
    "sequences = textwrap.wrap(str(records[0].seq), 500)"
   ]
  },
  {
   "cell_type": "markdown",
   "id": "c37fd91d-9994-4542-bdc9-fd8e63b4d179",
   "metadata": {},
   "source": [
    "Create new fasta and gtf files:"
   ]
  },
  {
   "cell_type": "code",
   "execution_count": 47,
   "id": "562a0b82-578e-41bc-87d5-2325b1549f3b",
   "metadata": {},
   "outputs": [],
   "source": [
    "with open(ebola_gtf, \"w\") as gtf, open(ebola_fasta, \"w\") as dna:\n",
    "    genome_name = \"GCA_000848505\"\n",
    "    genome_date = \"Oct_2000\"\n",
    "\n",
    "    # Add header lines to GTF\n",
    "    gtf.write(\n",
    "        f\"#!genome-build {genome_name}.1\\n#!genome-version {genome_name}\\n#!genome-date {genome_date}\\n#!genome-build-accession {genome_name}\\n#!genebuild-last-updated {genome_date}\\n\")\n",
    "\n",
    "    start = 1\n",
    "    for i, seq in enumerate(sequences):\n",
    "        source = genome_name\n",
    "        features = [\"gene\", \"transcript\", \"exon\", \"CDS\"]\n",
    "        frames = [\".\", \".\", \".\", \"0\"]\n",
    "        end = start  + len(seq)\n",
    "        gene_id = i\n",
    "\n",
    "        for feature, frame in zip(features, frames):\n",
    "            if feature == \"gene\":\n",
    "                gtf.write(\n",
    "                    f'{gene_id}\\t{source}\\t{feature}\\t{start} {end} .\\t+\\t{frame}\\tgene_id \"{gene_id}\"; gene_version \"1\"; gene_name \"{gene_id}\"; gene_source \"palmdb\"; gene_biotype \"protein_coding\";\\n'\n",
    "                    )\n",
    "            if feature == \"transcript\":\n",
    "                gtf.write(\n",
    "                    f'{gene_id}\\t{source}\\t{feature}\\t{start} {end} .\\t+\\t{frame}\\tgene_id \"{gene_id}\"; gene_version \"1\"; transcript_id \"{gene_id}T\"; transcript_version \"1\"; gene_name \"{gene_id}\"; gene_source \"palmdb\"; gene_biotype \"protein_coding\"; transcript_name \"{gene_id}\"; transcript_source \"palmdb\"; transcript_biotype \"protein_coding\"; tag \"CCDS\"; ccds_id \"CCDS{gene_id}\"; tag \"basic\";\\n'\n",
    "                )\n",
    "            if feature == \"exon\":\n",
    "                gtf.write(\n",
    "                    f'{gene_id}\\t{source}\\t{feature}\\t{start} {end} .\\t+\\t{frame}\\tgene_id \"{gene_id}\"; gene_version \"1\"; transcript_id \"{gene_id}T\"; transcript_version \"1\"; exon_number \"1\"; gene_name \"{gene_id}\"; gene_source \"palmdb\"; gene_biotype \"protein_coding\"; transcript_name \"{gene_id}\"; transcript_source \"palmdb\"; transcript_biotype \"protein_coding\"; tag \"CCDS\"; ccds_id \"CCDS{gene_id}\"; exon_id \"{gene_id}E\"; exon_version \"1\"; tag \"basic\";\\n'\n",
    "                )\n",
    "            if feature == \"CDS\":\n",
    "                gtf.write(\n",
    "                    f'{gene_id}\\t{source}\\t{feature}\\t{start} {end} .\\t+\\t{frame}\\tgene_id \"{gene_id}\"; gene_version \"1\"; transcript_id \"{gene_id}T\"; transcript_version \"1\"; exon_number \"1\"; gene_name \"{gene_id}\"; gene_source \"palmdb\"; gene_biotype \"protein_coding\"; transcript_name \"{gene_id}\"; transcript_source \"palmdb\"; transcript_biotype \"protein_coding\"; tag \"CCDS\"; ccds_id \"CCDS{gene_id}\"; protein_id \"{gene_id}P\"; protein_version \"1\"; tag \"basic\";\\n'\n",
    "                    )\n",
    "                \n",
    "        # Build dna/genome file\n",
    "        dna.write(f\">{gene_id} dna:chromosome chromosome:{genome_name}:{gene_id}:{start}:{end}:1 REF\\n\")\n",
    "        dna.write(f\"{seq}\\n\")"
   ]
  },
  {
   "cell_type": "markdown",
   "id": "9a6866bd-fe58-453d-8ad9-22ab2f4b9a13",
   "metadata": {},
   "source": [
    "### Generate Ebola reference index"
   ]
  },
  {
   "cell_type": "code",
   "execution_count": 48,
   "id": "d569e98e-e2cc-420e-953b-ed8f2be3bd4c",
   "metadata": {},
   "outputs": [],
   "source": [
    "ebola_index = \"/home/laura/projects/virus-watch-data/ebola_ref/ebov_GCA_000848505.idx\"\n",
    "ebola_t2g = \"/home/laura/projects/virus-watch-data/ebola_ref/ebov_GCA_000848505_t2g.txt\"\n",
    "ebola_f1 = \"/home/laura/projects/virus-watch-data/ebola_ref/ebov_GCA_000848505_f1.fa\""
   ]
  },
  {
   "cell_type": "code",
   "execution_count": 49,
   "id": "d9113843-bb85-4897-ab2f-e421bcade33c",
   "metadata": {},
   "outputs": [
    {
     "name": "stdout",
     "output_type": "stream",
     "text": [
      "[2023-04-15 13:46:12,161]    INFO [ref] Preparing /home/laura/projects/virus-watch-data/ebola_ref/ebov_GCA_000848505.fasta, /home/laura/projects/virus-watch-data/ebola_ref/ebov_GCA_000848505.gtf\n",
      "[2023-04-15 13:46:12,173]    INFO [ref] Splitting genome /home/laura/projects/virus-watch-data/ebola_ref/ebov_GCA_000848505.fasta into cDNA at /home/laura/projects/virus-watch/seqwell/ebola_PRJNA665227/tmp/tmpo8m8kn5c\n",
      "[2023-04-15 13:46:12,233]    INFO [ref] Concatenating 1 cDNAs to /home/laura/projects/virus-watch-data/ebola_ref/ebov_GCA_000848505_f1.fa\n",
      "[2023-04-15 13:46:12,235]    INFO [ref] Creating transcript-to-gene mapping at /home/laura/projects/virus-watch-data/ebola_ref/ebov_GCA_000848505_t2g.txt\n",
      "[2023-04-15 13:46:12,237]    INFO [ref] Indexing /home/laura/projects/virus-watch-data/ebola_ref/ebov_GCA_000848505_f1.fa to /home/laura/projects/virus-watch-data/ebola_ref/ebov_GCA_000848505.idx\n",
      "\tCommand being timed: \"kb ref -i /home/laura/projects/virus-watch-data/ebola_ref/ebov_GCA_000848505.idx -g /home/laura/projects/virus-watch-data/ebola_ref/ebov_GCA_000848505_t2g.txt -f1 /home/laura/projects/virus-watch-data/ebola_ref/ebov_GCA_000848505_f1.fa -t 50 --kallisto /home/laura/bin/kallisto --bustools /home/laura/anaconda3/bin/bustools /home/laura/projects/virus-watch-data/ebola_ref/ebov_GCA_000848505.fasta /home/laura/projects/virus-watch-data/ebola_ref/ebov_GCA_000848505.gtf\"\n",
      "\tUser time (seconds): 9.63\n",
      "\tSystem time (seconds): 9.76\n",
      "\tPercent of CPU this job got: 333%\n",
      "\tElapsed (wall clock) time (h:mm:ss or m:ss): 0:05.82\n",
      "\tAverage shared text size (kbytes): 0\n",
      "\tAverage unshared data size (kbytes): 0\n",
      "\tAverage stack size (kbytes): 0\n",
      "\tAverage total size (kbytes): 0\n",
      "\tMaximum resident set size (kbytes): 142636\n",
      "\tAverage resident set size (kbytes): 0\n",
      "\tMajor (requiring I/O) page faults: 0\n",
      "\tMinor (reclaiming a frame) page faults: 82408\n",
      "\tVoluntary context switches: 34708\n",
      "\tInvoluntary context switches: 201\n",
      "\tSwaps: 0\n",
      "\tFile system inputs: 0\n",
      "\tFile system outputs: 176\n",
      "\tSocket messages sent: 0\n",
      "\tSocket messages received: 0\n",
      "\tSignals delivered: 0\n",
      "\tPage size (bytes): 4096\n",
      "\tExit status: 0\n"
     ]
    }
   ],
   "source": [
    "!/usr/bin/time -v kb ref \\\n",
    "    -i $ebola_index \\\n",
    "    -g $ebola_t2g \\\n",
    "    -f1 $ebola_f1 \\\n",
    "    -t 50 \\\n",
    "    --kallisto \"/home/laura/bin/kallisto\" \\\n",
    "    --bustools \"/home/laura/anaconda3/bin/bustools\" \\\n",
    "    $ebola_fasta $ebola_gtf"
   ]
  },
  {
   "cell_type": "markdown",
   "id": "eee33d92-5fbc-4274-8ac4-415bf9f5f8f9",
   "metadata": {},
   "source": [
    "### Align fastqs to Ebola index"
   ]
  },
  {
   "cell_type": "code",
   "execution_count": 50,
   "id": "1831edd5-ac71-4ce4-9821-606e2f24f10b",
   "metadata": {},
   "outputs": [],
   "source": [
    "import os\n",
    "import glob"
   ]
  },
  {
   "cell_type": "code",
   "execution_count": 51,
   "id": "3441c261-19a5-4147-84da-1935690105c0",
   "metadata": {},
   "outputs": [
    {
     "data": {
      "text/plain": [
       "['SRR12698499_1.fastq.gz',\n",
       " 'SRR12698499_2.fastq.gz',\n",
       " 'SRR12698500_1.fastq.gz',\n",
       " 'SRR12698500_2.fastq.gz',\n",
       " 'SRR12698501_1.fastq.gz',\n",
       " 'SRR12698501_2.fastq.gz',\n",
       " 'SRR12698502_1.fastq.gz',\n",
       " 'SRR12698502_2.fastq.gz',\n",
       " 'SRR12698503_1.fastq.gz',\n",
       " 'SRR12698503_2.fastq.gz',\n",
       " 'SRR12698504_1.fastq.gz',\n",
       " 'SRR12698504_2.fastq.gz',\n",
       " 'SRR12698505_1.fastq.gz',\n",
       " 'SRR12698505_2.fastq.gz',\n",
       " 'SRR12698506_1.fastq.gz',\n",
       " 'SRR12698506_2.fastq.gz',\n",
       " 'SRR12698507_1.fastq.gz',\n",
       " 'SRR12698507_2.fastq.gz',\n",
       " 'SRR12698508_1.fastq.gz',\n",
       " 'SRR12698508_2.fastq.gz',\n",
       " 'SRR12698509_1.fastq.gz',\n",
       " 'SRR12698509_2.fastq.gz',\n",
       " 'SRR12698510_1.fastq.gz',\n",
       " 'SRR12698510_2.fastq.gz',\n",
       " 'SRR12698511_1.fastq.gz',\n",
       " 'SRR12698511_2.fastq.gz',\n",
       " 'SRR12698512_1.fastq.gz',\n",
       " 'SRR12698512_2.fastq.gz',\n",
       " 'SRR12698513_1.fastq.gz',\n",
       " 'SRR12698513_2.fastq.gz',\n",
       " 'SRR12698514_1.fastq.gz',\n",
       " 'SRR12698514_2.fastq.gz',\n",
       " 'SRR12698515_1.fastq.gz',\n",
       " 'SRR12698515_2.fastq.gz',\n",
       " 'SRR12698516_1.fastq.gz',\n",
       " 'SRR12698516_2.fastq.gz',\n",
       " 'SRR12698517_1.fastq.gz',\n",
       " 'SRR12698517_2.fastq.gz',\n",
       " 'SRR12698518_1.fastq.gz',\n",
       " 'SRR12698518_2.fastq.gz',\n",
       " 'SRR12698519_1.fastq.gz',\n",
       " 'SRR12698519_2.fastq.gz',\n",
       " 'SRR12698520_1.fastq.gz',\n",
       " 'SRR12698520_2.fastq.gz',\n",
       " 'SRR12698521_1.fastq.gz',\n",
       " 'SRR12698521_2.fastq.gz',\n",
       " 'SRR12698522_1.fastq.gz',\n",
       " 'SRR12698522_2.fastq.gz',\n",
       " 'SRR12698523_1.fastq.gz',\n",
       " 'SRR12698523_2.fastq.gz',\n",
       " 'SRR12698524_1.fastq.gz',\n",
       " 'SRR12698524_2.fastq.gz',\n",
       " 'SRR12698525_1.fastq.gz',\n",
       " 'SRR12698525_2.fastq.gz',\n",
       " 'SRR12698526_1.fastq.gz',\n",
       " 'SRR12698526_2.fastq.gz',\n",
       " 'SRR12698527_1.fastq.gz',\n",
       " 'SRR12698527_2.fastq.gz',\n",
       " 'SRR12698528_1.fastq.gz',\n",
       " 'SRR12698528_2.fastq.gz',\n",
       " 'SRR12698529_1.fastq.gz',\n",
       " 'SRR12698529_2.fastq.gz',\n",
       " 'SRR12698530_1.fastq.gz',\n",
       " 'SRR12698530_2.fastq.gz',\n",
       " 'SRR12698531_1.fastq.gz',\n",
       " 'SRR12698531_2.fastq.gz',\n",
       " 'SRR12698532_1.fastq.gz',\n",
       " 'SRR12698532_2.fastq.gz',\n",
       " 'SRR12698533_1.fastq.gz',\n",
       " 'SRR12698533_2.fastq.gz',\n",
       " 'SRR12698534_1.fastq.gz',\n",
       " 'SRR12698534_2.fastq.gz',\n",
       " 'SRR12698535_1.fastq.gz',\n",
       " 'SRR12698535_2.fastq.gz',\n",
       " 'SRR12698536_1.fastq.gz',\n",
       " 'SRR12698536_2.fastq.gz',\n",
       " 'SRR12698537_1.fastq.gz',\n",
       " 'SRR12698537_2.fastq.gz',\n",
       " 'SRR12698538_1.fastq.gz',\n",
       " 'SRR12698538_2.fastq.gz',\n",
       " 'SRR12698539_1.fastq.gz',\n",
       " 'SRR12698539_2.fastq.gz',\n",
       " 'SRR12698540_1.fastq.gz',\n",
       " 'SRR12698540_2.fastq.gz',\n",
       " 'SRR12698541_1.fastq.gz',\n",
       " 'SRR12698541_2.fastq.gz',\n",
       " 'SRR12698542_1.fastq.gz',\n",
       " 'SRR12698542_2.fastq.gz',\n",
       " 'SRR12698543_1.fastq.gz',\n",
       " 'SRR12698543_2.fastq.gz',\n",
       " 'SRR12698544_1.fastq.gz',\n",
       " 'SRR12698544_2.fastq.gz',\n",
       " 'SRR12698545_1.fastq.gz',\n",
       " 'SRR12698545_2.fastq.gz',\n",
       " 'SRR12698546_1.fastq.gz',\n",
       " 'SRR12698546_2.fastq.gz',\n",
       " 'SRR12698547_1.fastq.gz',\n",
       " 'SRR12698547_2.fastq.gz',\n",
       " 'SRR12698548_1.fastq.gz',\n",
       " 'SRR12698548_2.fastq.gz',\n",
       " 'SRR12698549_1.fastq.gz',\n",
       " 'SRR12698549_2.fastq.gz',\n",
       " 'SRR12698550_1.fastq.gz',\n",
       " 'SRR12698550_2.fastq.gz',\n",
       " 'SRR12698551_1.fastq.gz',\n",
       " 'SRR12698551_2.fastq.gz',\n",
       " 'SRR12698552_1.fastq.gz',\n",
       " 'SRR12698552_2.fastq.gz',\n",
       " 'SRR12698553_1.fastq.gz',\n",
       " 'SRR12698553_2.fastq.gz',\n",
       " 'SRR12698554_1.fastq.gz',\n",
       " 'SRR12698554_2.fastq.gz',\n",
       " 'SRR12698555_1.fastq.gz',\n",
       " 'SRR12698555_2.fastq.gz',\n",
       " 'SRR12698556_1.fastq.gz',\n",
       " 'SRR12698556_2.fastq.gz',\n",
       " 'SRR12698557_1.fastq.gz',\n",
       " 'SRR12698557_2.fastq.gz',\n",
       " 'SRR12698558_1.fastq.gz',\n",
       " 'SRR12698558_2.fastq.gz',\n",
       " 'SRR12698559_1.fastq.gz',\n",
       " 'SRR12698559_2.fastq.gz',\n",
       " 'SRR12698560_1.fastq.gz',\n",
       " 'SRR12698560_2.fastq.gz',\n",
       " 'SRR12698561_1.fastq.gz',\n",
       " 'SRR12698561_2.fastq.gz',\n",
       " 'SRR12698562_1.fastq.gz',\n",
       " 'SRR12698562_2.fastq.gz',\n",
       " 'SRR12698563_1.fastq.gz',\n",
       " 'SRR12698563_2.fastq.gz',\n",
       " 'SRR12698564_1.fastq.gz',\n",
       " 'SRR12698564_2.fastq.gz',\n",
       " 'SRR12698565_1.fastq.gz',\n",
       " 'SRR12698565_2.fastq.gz',\n",
       " 'SRR12698566_1.fastq.gz',\n",
       " 'SRR12698566_2.fastq.gz',\n",
       " 'SRR12698567_1.fastq.gz',\n",
       " 'SRR12698567_2.fastq.gz',\n",
       " 'SRR12698568_1.fastq.gz',\n",
       " 'SRR12698568_2.fastq.gz',\n",
       " 'SRR12698569_1.fastq.gz',\n",
       " 'SRR12698569_2.fastq.gz',\n",
       " 'SRR12698570_1.fastq.gz',\n",
       " 'SRR12698570_2.fastq.gz',\n",
       " 'SRR12698571_1.fastq.gz',\n",
       " 'SRR12698571_2.fastq.gz',\n",
       " 'SRR12698572_1.fastq.gz',\n",
       " 'SRR12698572_2.fastq.gz',\n",
       " 'SRR12698573_1.fastq.gz',\n",
       " 'SRR12698573_2.fastq.gz',\n",
       " 'SRR12698574_1.fastq.gz',\n",
       " 'SRR12698574_2.fastq.gz',\n",
       " 'SRR12698575_1.fastq.gz',\n",
       " 'SRR12698575_2.fastq.gz',\n",
       " 'SRR12698576_1.fastq.gz',\n",
       " 'SRR12698576_2.fastq.gz',\n",
       " 'SRR12698577_1.fastq.gz',\n",
       " 'SRR12698577_2.fastq.gz',\n",
       " 'SRR12698578_1.fastq.gz',\n",
       " 'SRR12698578_2.fastq.gz',\n",
       " 'SRR12698579_1.fastq.gz',\n",
       " 'SRR12698579_2.fastq.gz',\n",
       " 'SRR12698580_1.fastq.gz',\n",
       " 'SRR12698580_2.fastq.gz',\n",
       " 'SRR12698581_1.fastq.gz',\n",
       " 'SRR12698581_2.fastq.gz',\n",
       " 'SRR12698582_1.fastq.gz',\n",
       " 'SRR12698582_2.fastq.gz',\n",
       " 'SRR12698583_1.fastq.gz',\n",
       " 'SRR12698583_2.fastq.gz',\n",
       " 'SRR12698584_1.fastq.gz',\n",
       " 'SRR12698584_2.fastq.gz',\n",
       " 'SRR12698585_1.fastq.gz',\n",
       " 'SRR12698585_2.fastq.gz',\n",
       " 'SRR12698586_1.fastq.gz',\n",
       " 'SRR12698586_2.fastq.gz',\n",
       " 'SRR12698587_1.fastq.gz',\n",
       " 'SRR12698587_2.fastq.gz',\n",
       " 'SRR12698588_1.fastq.gz',\n",
       " 'SRR12698588_2.fastq.gz',\n",
       " 'SRR12698589_1.fastq.gz',\n",
       " 'SRR12698589_2.fastq.gz',\n",
       " 'SRR12698590_1.fastq.gz',\n",
       " 'SRR12698590_2.fastq.gz',\n",
       " 'SRR12698591_1.fastq.gz',\n",
       " 'SRR12698591_2.fastq.gz',\n",
       " 'SRR12698592_1.fastq.gz',\n",
       " 'SRR12698592_2.fastq.gz',\n",
       " 'SRR12698593_1.fastq.gz',\n",
       " 'SRR12698593_2.fastq.gz',\n",
       " 'SRR12698594_1.fastq.gz',\n",
       " 'SRR12698594_2.fastq.gz',\n",
       " 'SRR12698595_1.fastq.gz',\n",
       " 'SRR12698595_2.fastq.gz',\n",
       " 'SRR12698596_1.fastq.gz',\n",
       " 'SRR12698596_2.fastq.gz',\n",
       " 'SRR12698597_1.fastq.gz',\n",
       " 'SRR12698597_2.fastq.gz',\n",
       " 'SRR12698598_1.fastq.gz',\n",
       " 'SRR12698598_2.fastq.gz',\n",
       " 'SRR12698599_1.fastq.gz',\n",
       " 'SRR12698599_2.fastq.gz',\n",
       " 'SRR12698600_1.fastq.gz',\n",
       " 'SRR12698600_2.fastq.gz',\n",
       " 'SRR12698601_1.fastq.gz',\n",
       " 'SRR12698601_2.fastq.gz',\n",
       " 'SRR12698602_1.fastq.gz',\n",
       " 'SRR12698602_2.fastq.gz',\n",
       " 'SRR12698603_1.fastq.gz',\n",
       " 'SRR12698603_2.fastq.gz',\n",
       " 'SRR12698604_1.fastq.gz',\n",
       " 'SRR12698604_2.fastq.gz']"
      ]
     },
     "execution_count": 51,
     "metadata": {},
     "output_type": "execute_result"
    }
   ],
   "source": [
    "fastqs = []\n",
    "for filename in glob.glob(f\"{fastq_folder}/*.fastq.gz\"):\n",
    "    fastqs.append(filename.split(\"/\")[-1])\n",
    "    \n",
    "fastqs.sort()\n",
    "fastqs"
   ]
  },
  {
   "cell_type": "code",
   "execution_count": 52,
   "id": "dd5a8427-5e20-460b-916c-0c1ccbe345bb",
   "metadata": {},
   "outputs": [
    {
     "data": {
      "text/plain": [
       "212"
      ]
     },
     "execution_count": 52,
     "metadata": {},
     "output_type": "execute_result"
    }
   ],
   "source": [
    "len(fastqs)"
   ]
  },
  {
   "cell_type": "markdown",
   "id": "0392199c-b7e3-4f39-9d9f-befe7def2ae6",
   "metadata": {},
   "source": [
    "Loop over files and align one at a time:"
   ]
  },
  {
   "cell_type": "code",
   "execution_count": 53,
   "id": "afdb10bd-e53c-42e7-a633-afe8128053ce",
   "metadata": {},
   "outputs": [],
   "source": [
    "samples = []\n",
    "for fastq in fastqs:\n",
    "    samples.append(fastq.split(\"_\")[0])"
   ]
  },
  {
   "cell_type": "code",
   "execution_count": 54,
   "id": "709ed062-7de3-42d0-bec0-cefcf6fa9e9d",
   "metadata": {},
   "outputs": [
    {
     "data": {
      "text/plain": [
       "106"
      ]
     },
     "execution_count": 54,
     "metadata": {},
     "output_type": "execute_result"
    }
   ],
   "source": [
    "samples = list(set(samples))\n",
    "len(samples)"
   ]
  },
  {
   "cell_type": "markdown",
   "id": "1d978780-ceec-4b62-b2d8-269cb6289874",
   "metadata": {},
   "source": [
    "Align to Ebola index:"
   ]
  },
  {
   "cell_type": "code",
   "execution_count": 55,
   "id": "310df6cc-0b97-4200-b6cf-793c4b0493ae",
   "metadata": {},
   "outputs": [
    {
     "name": "stdout",
     "output_type": "stream",
     "text": [
      "Read in 6 BUS records\n",
      "Read in 2613 BUS records\n",
      "Read in 6623 BUS records\n",
      "Read in 10 BUS records\n",
      "Read in 442 BUS records\n",
      "Read in 840 BUS records\n",
      "Read in 4751 BUS records\n",
      "Read in 31224 BUS records\n",
      "Read in 11752 BUS records\n",
      "Read in 13348 BUS records\n",
      "Read in 1123 BUS records\n",
      "Read in 37 BUS records\n",
      "Read in 47 BUS records\n",
      "Read in 2210 BUS records\n",
      "Read in 2207 BUS records\n",
      "Read in 808413 BUS records\n",
      "Read in 7 BUS records\n",
      "Read in 5688 BUS records\n",
      "Read in 18373 BUS records\n",
      "Read in 644805 BUS records\n",
      "Read in 16718 BUS records\n",
      "Read in 756 BUS records\n",
      "Read in 3659 BUS records\n",
      "Read in 2502 BUS records\n",
      "Read in 6553 BUS records\n",
      "Read in 37 BUS records\n",
      "Read in 9 BUS records\n",
      "Read in 118 BUS records\n",
      "Read in 7 BUS records\n",
      "Read in 6 BUS records\n",
      "Read in 8901 BUS records\n",
      "Read in 47402 BUS records\n",
      "Read in 5924 BUS records\n",
      "Read in 2313 BUS records\n",
      "Read in 10344 BUS records\n",
      "Read in 45 BUS records\n",
      "Read in 1161806 BUS records\n",
      "Read in 10874 BUS records\n",
      "Read in 3577 BUS records\n",
      "Read in 543 BUS records\n",
      "Read in 62 BUS records\n",
      "Read in 28981 BUS records\n",
      "Read in 1700987 BUS records\n",
      "Read in 47130 BUS records\n",
      "Read in 10 BUS records\n",
      "Read in 3635 BUS records\n",
      "Read in 11062 BUS records\n",
      "Read in 7793 BUS records\n",
      "Read in 6211 BUS records\n",
      "Read in 2 BUS records\n",
      "Read in 3 BUS records\n",
      "Read in 20329 BUS records\n",
      "Read in 12870 BUS records\n",
      "Read in 38 BUS records\n",
      "Read in 499 BUS records\n",
      "Read in 755280 BUS records\n",
      "Read in 4442 BUS records\n",
      "Read in 2651 BUS records\n",
      "Read in 5674 BUS records\n",
      "Read in 5848 BUS records\n",
      "Read in 57 BUS records\n",
      "Read in 32222 BUS records\n",
      "Read in 45 BUS records\n",
      "Read in 20456 BUS records\n",
      "Read in 87724 BUS records\n",
      "Read in 704328 BUS records\n",
      "Read in 1158 BUS records\n",
      "Read in 3 BUS records\n",
      "Read in 51 BUS records\n",
      "Read in 11 BUS records\n",
      "Read in 4 BUS records\n",
      "Read in 1139494 BUS records\n",
      "Read in 350 BUS records\n",
      "Read in 423 BUS records\n",
      "Read in 433 BUS records\n",
      "Read in 4825 BUS records\n",
      "Read in 4334 BUS records\n",
      "Read in 250 BUS records\n",
      "Read in 40 BUS records\n",
      "Read in 625843 BUS records\n",
      "Read in 79035 BUS records\n",
      "Read in 10 BUS records\n",
      "Read in 34 BUS records\n",
      "Read in 95 BUS records\n",
      "Read in 6847 BUS records\n",
      "Read in 6 BUS records\n",
      "Read in 12171 BUS records\n",
      "Read in 3564 BUS records\n",
      "Read in 133 BUS records\n",
      "Read in 504 BUS records\n",
      "Read in 5289 BUS records\n",
      "Read in 6 BUS records\n",
      "Read in 101743 BUS records\n",
      "Read in 43 BUS records\n",
      "Read in 365 BUS records\n",
      "Read in 13919 BUS records\n",
      "Read in 8434 BUS records\n",
      "Read in 488 BUS records\n",
      "Read in 957 BUS records\n",
      "Read in 699 BUS records\n",
      "Read in 5978 BUS records\n",
      "Read in 5063 BUS records\n",
      "Read in 1048 BUS records\n",
      "Read in 4 BUS records\n",
      "Read in 2300 BUS records\n",
      "Read in 598 BUS records\n",
      "CPU times: user 20min 23s, sys: 4min 51s, total: 25min 14s\n",
      "Wall time: 21h 14min 40s\n"
     ]
    }
   ],
   "source": [
    "%%time\n",
    "\n",
    "for sample in samples:\n",
    "    fastq1 = sample + \"_1.fastq.gz\"\n",
    "    fastq2 = sample + \"_2.fastq.gz\"\n",
    "    \n",
    "    !mkdir -p $out_folder/$sample\n",
    "    \n",
    "    !/usr/bin/time -v kallisto bus \\\n",
    "            -i $ebola_index \\\n",
    "            -o $out_folder/$sample/ \\\n",
    "            -t 50 \\\n",
    "            -x 0,0,12:0,12,20:1,0,0 \\\n",
    "            $fastq_folder/$fastq1 $fastq_folder/$fastq2 \\\n",
    "            &> $out_folder/$sample/kb_out.txt \n",
    "        \n",
    "    !bustools sort -o $out_folder/$sample/output_sorted.bus $out_folder/$sample/output.bus\n",
    "\n",
    "    !bustools count \\\n",
    "        --genecounts \\\n",
    "        --cm -m \\\n",
    "        -o $out_folder/$sample/bustools_count/ \\\n",
    "        -g $ebola_t2g \\\n",
    "        -e $out_folder/$sample/matrix.ec \\\n",
    "        -t $out_folder/$sample/transcripts.txt \\\n",
    "        $out_folder/$sample/output_sorted.bus"
   ]
  },
  {
   "cell_type": "code",
   "execution_count": null,
   "id": "a895fa58-55a7-4d88-a4d8-6268ce9086c8",
   "metadata": {},
   "outputs": [],
   "source": []
  }
 ],
 "metadata": {
  "kernelspec": {
   "display_name": "Python 3 (ipykernel)",
   "language": "python",
   "name": "python3"
  },
  "language_info": {
   "codemirror_mode": {
    "name": "ipython",
    "version": 3
   },
   "file_extension": ".py",
   "mimetype": "text/x-python",
   "name": "python",
   "nbconvert_exporter": "python",
   "pygments_lexer": "ipython3",
   "version": "3.9.12"
  }
 },
 "nbformat": 4,
 "nbformat_minor": 5
}
