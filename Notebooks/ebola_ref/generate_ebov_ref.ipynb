{
  "cells": [
    {
      "cell_type": "markdown",
      "metadata": {
        "id": "view-in-github",
        "colab_type": "text"
      },
      "source": [
        "<a href=\"https://colab.research.google.com/github/pachterlab/LSCHWCP_2023/blob/main/Notebooks/ebola_ref/generate_ebov_ref.ipynb\" target=\"_parent\"><img src=\"https://colab.research.google.com/assets/colab-badge.svg\" alt=\"Open In Colab\"/></a>"
      ]
    },
    {
      "cell_type": "code",
      "execution_count": null,
      "id": "c8be11ee-0016-4441-8774-daff41302f44",
      "metadata": {
        "id": "c8be11ee-0016-4441-8774-daff41302f44"
      },
      "outputs": [],
      "source": [
        "bp = \"PRJNA665227\"\n",
        "fastq_folder = f\"/home/laura/projects/virus-watch-data/{bp}/raw\"\n",
        "out_folder = f\"{fastq_folder}/../ebola\""
      ]
    },
    {
      "cell_type": "markdown",
      "id": "aea1736a-0a87-4e81-afba-976fd3027539",
      "metadata": {
        "id": "aea1736a-0a87-4e81-afba-976fd3027539"
      },
      "source": [
        "### Build Ebola genome fasta and gtf\n",
        "We will split the complete genome into 500 bp pieces and give each of them a number stored in the gtf.\n",
        "\n",
        "Ebola genome ViralProj14703 (linked to NC_002549.1) downloaded from https://www.ncbi.nlm.nih.gov/data-hub/genome/?taxon=186538"
      ]
    },
    {
      "cell_type": "code",
      "execution_count": 1,
      "id": "73cbfa48-0879-4566-8193-3fa565da3b27",
      "metadata": {
        "id": "73cbfa48-0879-4566-8193-3fa565da3b27",
        "outputId": "580af635-5905-4119-a15b-3f0608755bf5",
        "colab": {
          "base_uri": "https://localhost:8080/"
        }
      },
      "outputs": [
        {
          "output_type": "stream",
          "name": "stdout",
          "text": [
            "--2023-12-08 01:41:25--  https://raw.githubusercontent.com/pachterlab/LSCHWCP_2023/main/Notebooks/ebola_ref/GCA_000848505.1_ViralProj14703_genomic.fna\n",
            "Resolving raw.githubusercontent.com (raw.githubusercontent.com)... 185.199.108.133, 185.199.109.133, 185.199.110.133, ...\n",
            "Connecting to raw.githubusercontent.com (raw.githubusercontent.com)|185.199.108.133|:443... connected.\n",
            "HTTP request sent, awaiting response... 200 OK\n",
            "Length: 19260 (19K) [text/plain]\n",
            "Saving to: ‘GCA_000848505.1_ViralProj14703_genomic.fna’\n",
            "\n",
            "\r          GCA_00084   0%[                    ]       0  --.-KB/s               \rGCA_000848505.1_Vir 100%[===================>]  18.81K  --.-KB/s    in 0.004s  \n",
            "\n",
            "2023-12-08 01:41:25 (5.03 MB/s) - ‘GCA_000848505.1_ViralProj14703_genomic.fna’ saved [19260/19260]\n",
            "\n"
          ]
        }
      ],
      "source": [
        "!wget https://raw.githubusercontent.com/pachterlab/LSCHWCP_2023/main/Notebooks/ebola_ref/GCA_000848505.1_ViralProj14703_genomic.fna\n",
        "ebov_fna = \"GCA_000848505.1_ViralProj14703_genomic.fna\""
      ]
    },
    {
      "cell_type": "code",
      "execution_count": 3,
      "id": "922bae6a-fddf-4a5c-908b-0163cb4a7620",
      "metadata": {
        "id": "922bae6a-fddf-4a5c-908b-0163cb4a7620",
        "outputId": "58277231-b3be-4ab4-9f68-0c599666ce1f",
        "colab": {
          "base_uri": "https://localhost:8080/"
        }
      },
      "outputs": [
        {
          "output_type": "stream",
          "name": "stdout",
          "text": [
            "\u001b[2K     \u001b[90m━━━━━━━━━━━━━━━━━━━━━━━━━━━━━━━━━━━━━━━━\u001b[0m \u001b[32m3.1/3.1 MB\u001b[0m \u001b[31m10.1 MB/s\u001b[0m eta \u001b[36m0:00:00\u001b[0m\n",
            "\u001b[?25h"
          ]
        }
      ],
      "source": [
        "!pip install -q biopython\n",
        "from Bio import SeqIO\n",
        "import textwrap"
      ]
    },
    {
      "cell_type": "code",
      "execution_count": 4,
      "id": "f841f266-61f7-44fc-961e-90806194863d",
      "metadata": {
        "id": "f841f266-61f7-44fc-961e-90806194863d",
        "outputId": "9bb41b55-b9ac-4f91-d744-81767dec21a8",
        "colab": {
          "base_uri": "https://localhost:8080/"
        }
      },
      "outputs": [
        {
          "output_type": "stream",
          "name": "stdout",
          "text": [
            "AF086833.2\n",
            "genome length:  18959\n"
          ]
        }
      ],
      "source": [
        "# Load raw genome\n",
        "records = list(SeqIO.parse(ebov_fna, \"fasta\"))\n",
        "print(records[0].id)\n",
        "print(\"genome length: \", len(records[0].seq))"
      ]
    },
    {
      "cell_type": "code",
      "execution_count": 5,
      "id": "39772cf5-a614-4850-8722-afa96f2effb2",
      "metadata": {
        "id": "39772cf5-a614-4850-8722-afa96f2effb2"
      },
      "outputs": [],
      "source": [
        "ebola_fasta = \"ebov_GCA_000848505.fasta\"\n",
        "ebola_gtf = \"ebov_GCA_000848505.gtf\""
      ]
    },
    {
      "cell_type": "code",
      "execution_count": 6,
      "id": "f84bee4e-92e1-4c39-96fb-fc615d90e1bd",
      "metadata": {
        "id": "f84bee4e-92e1-4c39-96fb-fc615d90e1bd"
      },
      "outputs": [],
      "source": [
        "# Split genome into 500 bp pieces\n",
        "sequences = textwrap.wrap(str(records[0].seq), 500)"
      ]
    },
    {
      "cell_type": "markdown",
      "id": "c37fd91d-9994-4542-bdc9-fd8e63b4d179",
      "metadata": {
        "id": "c37fd91d-9994-4542-bdc9-fd8e63b4d179"
      },
      "source": [
        "Create new fasta and gtf files:"
      ]
    },
    {
      "cell_type": "code",
      "execution_count": 7,
      "id": "562a0b82-578e-41bc-87d5-2325b1549f3b",
      "metadata": {
        "id": "562a0b82-578e-41bc-87d5-2325b1549f3b"
      },
      "outputs": [],
      "source": [
        "with open(ebola_gtf, \"w\") as gtf, open(ebola_fasta, \"w\") as dna:\n",
        "    genome_name = \"GCA_000848505\"\n",
        "    genome_date = \"Oct_2000\"\n",
        "\n",
        "    # Add header lines to GTF\n",
        "    gtf.write(\n",
        "        f\"#!genome-build {genome_name}.1\\n#!genome-version {genome_name}\\n#!genome-date {genome_date}\\n#!genome-build-accession {genome_name}\\n#!genebuild-last-updated {genome_date}\\n\")\n",
        "\n",
        "    start = 1\n",
        "    for i, seq in enumerate(sequences):\n",
        "        source = genome_name\n",
        "        features = [\"gene\", \"transcript\", \"exon\", \"CDS\"]\n",
        "        frames = [\".\", \".\", \".\", \"0\"]\n",
        "        end = start  + len(seq)\n",
        "        gene_id = i\n",
        "\n",
        "        for feature, frame in zip(features, frames):\n",
        "            if feature == \"gene\":\n",
        "                gtf.write(\n",
        "                    f'{gene_id}\\t{source}\\t{feature}\\t{start} {end} .\\t+\\t{frame}\\tgene_id \"{gene_id}\"; gene_version \"1\"; gene_name \"{gene_id}\"; gene_source \"palmdb\"; gene_biotype \"protein_coding\";\\n'\n",
        "                    )\n",
        "            if feature == \"transcript\":\n",
        "                gtf.write(\n",
        "                    f'{gene_id}\\t{source}\\t{feature}\\t{start} {end} .\\t+\\t{frame}\\tgene_id \"{gene_id}\"; gene_version \"1\"; transcript_id \"{gene_id}T\"; transcript_version \"1\"; gene_name \"{gene_id}\"; gene_source \"palmdb\"; gene_biotype \"protein_coding\"; transcript_name \"{gene_id}\"; transcript_source \"palmdb\"; transcript_biotype \"protein_coding\"; tag \"CCDS\"; ccds_id \"CCDS{gene_id}\"; tag \"basic\";\\n'\n",
        "                )\n",
        "            if feature == \"exon\":\n",
        "                gtf.write(\n",
        "                    f'{gene_id}\\t{source}\\t{feature}\\t{start} {end} .\\t+\\t{frame}\\tgene_id \"{gene_id}\"; gene_version \"1\"; transcript_id \"{gene_id}T\"; transcript_version \"1\"; exon_number \"1\"; gene_name \"{gene_id}\"; gene_source \"palmdb\"; gene_biotype \"protein_coding\"; transcript_name \"{gene_id}\"; transcript_source \"palmdb\"; transcript_biotype \"protein_coding\"; tag \"CCDS\"; ccds_id \"CCDS{gene_id}\"; exon_id \"{gene_id}E\"; exon_version \"1\"; tag \"basic\";\\n'\n",
        "                )\n",
        "            if feature == \"CDS\":\n",
        "                gtf.write(\n",
        "                    f'{gene_id}\\t{source}\\t{feature}\\t{start} {end} .\\t+\\t{frame}\\tgene_id \"{gene_id}\"; gene_version \"1\"; transcript_id \"{gene_id}T\"; transcript_version \"1\"; exon_number \"1\"; gene_name \"{gene_id}\"; gene_source \"palmdb\"; gene_biotype \"protein_coding\"; transcript_name \"{gene_id}\"; transcript_source \"palmdb\"; transcript_biotype \"protein_coding\"; tag \"CCDS\"; ccds_id \"CCDS{gene_id}\"; protein_id \"{gene_id}P\"; protein_version \"1\"; tag \"basic\";\\n'\n",
        "                    )\n",
        "\n",
        "        # Build dna/genome file\n",
        "        dna.write(f\">{gene_id} dna:chromosome chromosome:{genome_name}:{gene_id}:{start}:{end}:1 REF\\n\")\n",
        "        dna.write(f\"{seq}\\n\")"
      ]
    },
    {
      "cell_type": "markdown",
      "id": "9a6866bd-fe58-453d-8ad9-22ab2f4b9a13",
      "metadata": {
        "id": "9a6866bd-fe58-453d-8ad9-22ab2f4b9a13"
      },
      "source": [
        "### Generate Ebola reference index"
      ]
    },
    {
      "cell_type": "code",
      "execution_count": 8,
      "id": "d569e98e-e2cc-420e-953b-ed8f2be3bd4c",
      "metadata": {
        "id": "d569e98e-e2cc-420e-953b-ed8f2be3bd4c"
      },
      "outputs": [],
      "source": [
        "ebola_index = \"ebov_GCA_000848505.idx\"\n",
        "ebola_t2g = \"ebov_GCA_000848505_t2g.txt\"\n",
        "ebola_f1 = \"ebov_GCA_000848505_f1.fa\""
      ]
    },
    {
      "cell_type": "code",
      "source": [
        "!pip install -q kb-python"
      ],
      "metadata": {
        "id": "XsKpiN6UFyA6"
      },
      "id": "XsKpiN6UFyA6",
      "execution_count": null,
      "outputs": []
    },
    {
      "cell_type": "code",
      "execution_count": 10,
      "id": "d9113843-bb85-4897-ab2f-e421bcade33c",
      "metadata": {
        "id": "d9113843-bb85-4897-ab2f-e421bcade33c",
        "outputId": "d9719142-3f13-4a4b-f1c3-dc07fc93be8f",
        "colab": {
          "base_uri": "https://localhost:8080/"
        }
      },
      "outputs": [
        {
          "output_type": "stream",
          "name": "stdout",
          "text": [
            "[2023-12-08 01:43:08,022]    INFO [ref] Preparing ebov_GCA_000848505.fasta, ebov_GCA_000848505.gtf\n",
            "[2023-12-08 01:43:08,031]    INFO [ref] Splitting genome ebov_GCA_000848505.fasta into cDNA at /content/tmp/tmpxncz8n5q\n",
            "[2023-12-08 01:43:08,037]    INFO [ref] Concatenating 1 cDNAs to ebov_GCA_000848505_f1.fa\n",
            "[2023-12-08 01:43:08,039]    INFO [ref] Creating transcript-to-gene mapping at ebov_GCA_000848505_t2g.txt\n",
            "[2023-12-08 01:43:08,040]    INFO [ref] Indexing ebov_GCA_000848505_f1.fa to ebov_GCA_000848505.idx\n"
          ]
        }
      ],
      "source": [
        "!kb ref \\\n",
        "    -i $ebola_index \\\n",
        "    -g $ebola_t2g \\\n",
        "    -f1 $ebola_f1 \\\n",
        "    -t 2 \\\n",
        "    $ebola_fasta $ebola_gtf"
      ]
    },
    {
      "cell_type": "code",
      "execution_count": null,
      "id": "a895fa58-55a7-4d88-a4d8-6268ce9086c8",
      "metadata": {
        "id": "a895fa58-55a7-4d88-a4d8-6268ce9086c8"
      },
      "outputs": [],
      "source": []
    }
  ],
  "metadata": {
    "kernelspec": {
      "display_name": "Python 3 (ipykernel)",
      "language": "python",
      "name": "python3"
    },
    "language_info": {
      "codemirror_mode": {
        "name": "ipython",
        "version": 3
      },
      "file_extension": ".py",
      "mimetype": "text/x-python",
      "name": "python",
      "nbconvert_exporter": "python",
      "pygments_lexer": "ipython3",
      "version": "3.9.12"
    },
    "colab": {
      "provenance": [],
      "include_colab_link": true
    }
  },
  "nbformat": 4,
  "nbformat_minor": 5
}