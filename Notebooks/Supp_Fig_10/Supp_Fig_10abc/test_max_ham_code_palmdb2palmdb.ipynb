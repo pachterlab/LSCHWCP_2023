{
  "cells": [
    {
      "cell_type": "markdown",
      "metadata": {
        "id": "view-in-github",
        "colab_type": "text"
      },
      "source": [
        "<a href=\"https://colab.research.google.com/github/pachterlab/LSCHWCP_2023/blob/main/Notebooks/Supp_Fig_10/Supp_Fig_10abc/test_max_ham_code_palmdb2palmdb.ipynb\" target=\"_parent\"><img src=\"https://colab.research.google.com/assets/colab-badge.svg\" alt=\"Open In Colab\"/></a>"
      ]
    },
    {
      "cell_type": "markdown",
      "id": "08091169-961e-45ee-98c4-952609e33e19",
      "metadata": {
        "id": "08091169-961e-45ee-98c4-952609e33e19"
      },
      "source": [
        "# Check detection of reverse translated RdRP sequences using a code that maximizes Hamming distances"
      ]
    },
    {
      "cell_type": "code",
      "source": [
        "# Download the customized transcripts to gene mapping\n",
        "!wget https://raw.githubusercontent.com/pachterlab/LSCHWCP_2023/main/PalmDB/palmdb_clustered_t2g.txt\n",
        "# Download the RdRP amino acid sequences\n",
        "!wget https://raw.githubusercontent.com/pachterlab/LSCHWCP_2023/main/PalmDB/palmdb_rdrp_seqs.fa\n",
        "\n",
        "palmdb = \"palmdb_rdrp_seqs.fa\"\n",
        "virus_t2g = \"palmdb_clustered_t2g.txt\""
      ],
      "metadata": {
        "id": "KsjpWJ-ezDEy",
        "outputId": "ea5cd7f5-a4d8-4fb5-8023-ef7bceb0536b",
        "colab": {
          "base_uri": "https://localhost:8080/"
        }
      },
      "id": "KsjpWJ-ezDEy",
      "execution_count": 1,
      "outputs": [
        {
          "output_type": "stream",
          "name": "stdout",
          "text": [
            "--2023-12-11 20:05:20--  https://raw.githubusercontent.com/pachterlab/LSCHWCP_2023/main/PalmDB/palmdb_clustered_t2g.txt\n",
            "Resolving raw.githubusercontent.com (raw.githubusercontent.com)... 185.199.110.133, 185.199.111.133, 185.199.108.133, ...\n",
            "Connecting to raw.githubusercontent.com (raw.githubusercontent.com)|185.199.110.133|:443... connected.\n",
            "HTTP request sent, awaiting response... 200 OK\n",
            "Length: 4561689 (4.3M) [text/plain]\n",
            "Saving to: ‘palmdb_clustered_t2g.txt’\n",
            "\n",
            "palmdb_clustered_t2 100%[===================>]   4.35M  --.-KB/s    in 0.05s   \n",
            "\n",
            "2023-12-11 20:05:21 (89.7 MB/s) - ‘palmdb_clustered_t2g.txt’ saved [4561689/4561689]\n",
            "\n",
            "--2023-12-11 20:05:21--  https://raw.githubusercontent.com/pachterlab/LSCHWCP_2023/main/PalmDB/palmdb_rdrp_seqs.fa\n",
            "Resolving raw.githubusercontent.com (raw.githubusercontent.com)... 185.199.108.133, 185.199.109.133, 185.199.110.133, ...\n",
            "Connecting to raw.githubusercontent.com (raw.githubusercontent.com)|185.199.108.133|:443... connected.\n",
            "HTTP request sent, awaiting response... 200 OK\n",
            "Length: 35361991 (34M) [text/plain]\n",
            "Saving to: ‘palmdb_rdrp_seqs.fa’\n",
            "\n",
            "palmdb_rdrp_seqs.fa 100%[===================>]  33.72M  --.-KB/s    in 0.1s    \n",
            "\n",
            "2023-12-11 20:05:22 (226 MB/s) - ‘palmdb_rdrp_seqs.fa’ saved [35361991/35361991]\n",
            "\n"
          ]
        }
      ]
    },
    {
      "cell_type": "markdown",
      "source": [
        "We will install an **unreleased version of kallisto which implements a different code for the translation of amino acid and nucleotide sequences** and subsequent alignment. This code maximizes the distances between amino acids that occur most frequently to increase the differences between reference sequences:"
      ],
      "metadata": {
        "id": "T-vBX5nG1jaW"
      },
      "id": "T-vBX5nG1jaW"
    },
    {
      "cell_type": "code",
      "source": [
        "# Install kallisto from the max_ham_code branch\n",
        "!git clone -q https://github.com/pachterlab/kallisto.git --branch max_ham_code\n",
        "!cd kallisto && mkdir build && cd build && cmake .. && make\n",
        "\n",
        "# Install bustools from source\n",
        "!git clone -q https://github.com/BUStools/bustools.git\n",
        "!cd bustools && mkdir build && cd build && cmake .. && make\n",
        "\n",
        "# Define paths to kallisto and bustools binaries\n",
        "kallisto = \"/content/kallisto/build/src/kallisto\"\n",
        "bustools = \"/content/bustools/build/src/bustools\""
      ],
      "metadata": {
        "id": "AUHmlk_Czan8",
        "outputId": "99dc31bf-424f-4a70-e87b-a75d079d5440",
        "colab": {
          "base_uri": "https://localhost:8080/"
        }
      },
      "id": "AUHmlk_Czan8",
      "execution_count": 2,
      "outputs": [
        {
          "output_type": "stream",
          "name": "stdout",
          "text": [
            "\u001b[0mCMake Deprecation Warning at CMakeLists.txt:1 (cmake_minimum_required):\n",
            "  Compatibility with CMake < 3.5 will be removed from a future version of\n",
            "  CMake.\n",
            "\n",
            "  Update the VERSION argument <min> value or use a ...<max> suffix to tell\n",
            "  CMake that the project does not need compatibility with older versions.\n",
            "\n",
            "\u001b[0m\n",
            "-- The C compiler identification is GNU 11.4.0\n",
            "-- The CXX compiler identification is GNU 11.4.0\n",
            "-- Detecting C compiler ABI info\n",
            "-- Detecting C compiler ABI info - done\n",
            "-- Check for working C compiler: /usr/bin/cc - skipped\n",
            "-- Detecting C compile features\n",
            "-- Detecting C compile features - done\n",
            "-- Detecting CXX compiler ABI info\n",
            "-- Detecting CXX compiler ABI info - done\n",
            "-- Check for working CXX compiler: /usr/bin/c++ - skipped\n",
            "-- Detecting CXX compile features\n",
            "-- Detecting CXX compile features - done\n",
            "-- Performing Test COMPILER_SUPPORTS_CXX17\n",
            "-- Performing Test COMPILER_SUPPORTS_CXX17 - Success\n",
            "\u001b[0mshared build\u001b[0m\n",
            "-- Performing Test CMAKE_HAVE_LIBC_PTHREAD\n",
            "-- Performing Test CMAKE_HAVE_LIBC_PTHREAD - Success\n",
            "-- Found Threads: TRUE  \n",
            "-- Found ZLIB: /usr/lib/x86_64-linux-gnu/libz.so (found version \"1.2.11\")  \n",
            "-- Configuring done (1.0s)\n",
            "-- Generating done (0.0s)\n",
            "-- Build files have been written to: /content/kallisto/build\n",
            "[  3%] \u001b[34m\u001b[1mCreating directories for 'bifrost'\u001b[0m\n",
            "[  7%] \u001b[34m\u001b[1mNo download step for 'bifrost'\u001b[0m\n",
            "[ 11%] \u001b[34m\u001b[1mNo update step for 'bifrost'\u001b[0m\n",
            "[ 15%] \u001b[34m\u001b[1mNo patch step for 'bifrost'\u001b[0m\n",
            "[ 19%] \u001b[34m\u001b[1mPerforming configure step for 'bifrost'\u001b[0m\n",
            "\u001b[0mCMake Deprecation Warning at CMakeLists.txt:1 (cmake_minimum_required):\n",
            "  Compatibility with CMake < 3.5 will be removed from a future version of\n",
            "  CMake.\n",
            "\n",
            "  Update the VERSION argument <min> value or use a ...<max> suffix to tell\n",
            "  CMake that the project does not need compatibility with older versions.\n",
            "\n",
            "\u001b[0m\n",
            "-- The C compiler identification is GNU 11.4.0\n",
            "-- The CXX compiler identification is GNU 11.4.0\n",
            "-- Detecting C compiler ABI info\n",
            "-- Detecting C compiler ABI info - done\n",
            "-- Check for working C compiler: /usr/bin/cc - skipped\n",
            "-- Detecting C compile features\n",
            "-- Detecting C compile features - done\n",
            "-- Detecting CXX compiler ABI info\n",
            "-- Detecting CXX compiler ABI info - done\n",
            "-- Check for working CXX compiler: /usr/bin/c++ - skipped\n",
            "-- Detecting CXX compile features\n",
            "-- Detecting CXX compile features - done\n",
            "-- Performing Test CMAKE_HAVE_LIBC_PTHREAD\n",
            "-- Performing Test CMAKE_HAVE_LIBC_PTHREAD - Success\n",
            "-- Found Threads: TRUE  \n",
            "\u001b[0mCompilation architecture: native\u001b[0m\n",
            "\u001b[0mBuild type: Release\u001b[0m\n",
            "\u001b[0mMaximum k-mer size: 31\u001b[0m\n",
            "\u001b[0mMaximum g-mer size: 31\u001b[0m\n",
            "-- Found ZLIB: /usr/lib/x86_64-linux-gnu/libz.so (found version \"1.2.11\")  \n",
            "-- Configuring done (0.4s)\n",
            "-- Generating done (0.0s)\n",
            "-- Build files have been written to: /content/kallisto/ext/bifrost/build\n",
            "[ 23%] \u001b[34m\u001b[1mPerforming build step for 'bifrost'\u001b[0m\n",
            "[  3%] \u001b[32mBuilding CXX object src/CMakeFiles/bifrost_static.dir/Bifrost.cpp.o\u001b[0m\n",
            "[  6%] \u001b[32mBuilding CXX object src/CMakeFiles/bifrost_static.dir/BitContainer.cpp.o\u001b[0m\n",
            "[  9%] \u001b[32mBuilding CXX object src/CMakeFiles/bifrost_static.dir/BlockedBloomFilter.cpp.o\u001b[0m\n",
            "[ 12%] \u001b[32mBuilding CXX object src/CMakeFiles/bifrost_static.dir/ColorSet.cpp.o\u001b[0m\n",
            "[ 15%] \u001b[32mBuilding CXX object src/CMakeFiles/bifrost_static.dir/CompressedCoverage.cpp.o\u001b[0m\n",
            "[ 18%] \u001b[32mBuilding CXX object src/CMakeFiles/bifrost_static.dir/CompressedSequence.cpp.o\u001b[0m\n",
            "[ 21%] \u001b[32mBuilding CXX object src/CMakeFiles/bifrost_static.dir/FASTX_Parser.cpp.o\u001b[0m\n",
            "[ 25%] \u001b[32mBuilding CXX object src/CMakeFiles/bifrost_static.dir/GFA_Parser.cpp.o\u001b[0m\n",
            "[ 28%] \u001b[32mBuilding CXX object src/CMakeFiles/bifrost_static.dir/Kmer.cpp.o\u001b[0m\n",
            "[ 31%] \u001b[32mBuilding CXX object src/CMakeFiles/bifrost_static.dir/KmerIterator.cpp.o\u001b[0m\n",
            "[ 34%] \u001b[32mBuilding CXX object src/CMakeFiles/bifrost_static.dir/MinimizerIndex.cpp.o\u001b[0m\n",
            "[ 37%] \u001b[32mBuilding CXX object src/CMakeFiles/bifrost_static.dir/TinyBitmap.cpp.o\u001b[0m\n",
            "[ 40%] \u001b[32mBuilding CXX object src/CMakeFiles/bifrost_static.dir/UnitigMap.cpp.o\u001b[0m\n",
            "[ 43%] \u001b[32mBuilding C object src/CMakeFiles/bifrost_static.dir/roaring.c.o\u001b[0m\n",
            "[ 46%] \u001b[32m\u001b[1mLinking CXX static library libbifrost.a\u001b[0m\n",
            "[ 46%] Built target bifrost_static\n",
            "[ 50%] \u001b[32mBuilding CXX object src/CMakeFiles/bifrost_dynamic.dir/Bifrost.cpp.o\u001b[0m\n",
            "[ 53%] \u001b[32mBuilding CXX object src/CMakeFiles/bifrost_dynamic.dir/BitContainer.cpp.o\u001b[0m\n",
            "[ 56%] \u001b[32mBuilding CXX object src/CMakeFiles/bifrost_dynamic.dir/BlockedBloomFilter.cpp.o\u001b[0m\n",
            "[ 59%] \u001b[32mBuilding CXX object src/CMakeFiles/bifrost_dynamic.dir/ColorSet.cpp.o\u001b[0m\n",
            "[ 62%] \u001b[32mBuilding CXX object src/CMakeFiles/bifrost_dynamic.dir/CompressedCoverage.cpp.o\u001b[0m\n",
            "[ 65%] \u001b[32mBuilding CXX object src/CMakeFiles/bifrost_dynamic.dir/CompressedSequence.cpp.o\u001b[0m\n",
            "[ 68%] \u001b[32mBuilding CXX object src/CMakeFiles/bifrost_dynamic.dir/FASTX_Parser.cpp.o\u001b[0m\n",
            "[ 71%] \u001b[32mBuilding CXX object src/CMakeFiles/bifrost_dynamic.dir/GFA_Parser.cpp.o\u001b[0m\n",
            "[ 75%] \u001b[32mBuilding CXX object src/CMakeFiles/bifrost_dynamic.dir/Kmer.cpp.o\u001b[0m\n",
            "[ 78%] \u001b[32mBuilding CXX object src/CMakeFiles/bifrost_dynamic.dir/KmerIterator.cpp.o\u001b[0m\n",
            "[ 81%] \u001b[32mBuilding CXX object src/CMakeFiles/bifrost_dynamic.dir/MinimizerIndex.cpp.o\u001b[0m\n",
            "[ 84%] \u001b[32mBuilding CXX object src/CMakeFiles/bifrost_dynamic.dir/TinyBitmap.cpp.o\u001b[0m\n",
            "[ 87%] \u001b[32mBuilding CXX object src/CMakeFiles/bifrost_dynamic.dir/UnitigMap.cpp.o\u001b[0m\n",
            "[ 90%] \u001b[32mBuilding C object src/CMakeFiles/bifrost_dynamic.dir/roaring.c.o\u001b[0m\n",
            "[ 93%] \u001b[32m\u001b[1mLinking CXX shared library libbifrost.so\u001b[0m\n",
            "[ 93%] Built target bifrost_dynamic\n",
            "[ 96%] \u001b[32mBuilding CXX object src/CMakeFiles/Bifrost.dir/Bifrost.cpp.o\u001b[0m\n",
            "[100%] \u001b[32m\u001b[1mLinking CXX executable Bifrost\u001b[0m\n",
            "[100%] Built target Bifrost\n",
            "[ 26%] \u001b[34m\u001b[1mNo install step for 'bifrost'\u001b[0m\n",
            "[ 30%] \u001b[34m\u001b[1mCompleted 'bifrost'\u001b[0m\n",
            "[ 30%] Built target bifrost\n",
            "[ 34%] \u001b[32mBuilding CXX object src/CMakeFiles/kallisto_core.dir/BUSData.cpp.o\u001b[0m\n",
            "[ 38%] \u001b[32mBuilding CXX object src/CMakeFiles/kallisto_core.dir/BUSTools.cpp.o\u001b[0m\n",
            "[ 42%] \u001b[32mBuilding CXX object src/CMakeFiles/kallisto_core.dir/Bootstrap.cpp.o\u001b[0m\n",
            "[ 46%] \u001b[32mBuilding CXX object src/CMakeFiles/kallisto_core.dir/GeneModel.cpp.o\u001b[0m\n",
            "[ 50%] \u001b[32mBuilding CXX object src/CMakeFiles/kallisto_core.dir/H5Writer.cpp.o\u001b[0m\n",
            "[ 53%] \u001b[32mBuilding CXX object src/CMakeFiles/kallisto_core.dir/KmerIndex.cpp.o\u001b[0m\n",
            "[ 57%] \u001b[32mBuilding CXX object src/CMakeFiles/kallisto_core.dir/MinCollector.cpp.o\u001b[0m\n",
            "[ 61%] \u001b[32mBuilding CXX object src/CMakeFiles/kallisto_core.dir/PlaintextWriter.cpp.o\u001b[0m\n",
            "[ 65%] \u001b[32mBuilding CXX object src/CMakeFiles/kallisto_core.dir/ProcessReads.cpp.o\u001b[0m\n",
            "[ 69%] \u001b[32mBuilding CXX object src/CMakeFiles/kallisto_core.dir/PseudoBam.cpp.o\u001b[0m\n",
            "[ 73%] \u001b[32mBuilding CXX object src/CMakeFiles/kallisto_core.dir/common.cpp.o\u001b[0m\n",
            "[ 76%] \u001b[32mBuilding CXX object src/CMakeFiles/kallisto_core.dir/h5utils.cpp.o\u001b[0m\n",
            "[ 80%] \u001b[32mBuilding CXX object src/CMakeFiles/kallisto_core.dir/hash.cpp.o\u001b[0m\n",
            "[ 84%] \u001b[32mBuilding CXX object src/CMakeFiles/kallisto_core.dir/main.cpp.o\u001b[0m\n",
            "[ 88%] \u001b[32mBuilding CXX object src/CMakeFiles/kallisto_core.dir/weights.cpp.o\u001b[0m\n",
            "[ 92%] \u001b[32m\u001b[1mLinking CXX static library libkallisto_core.a\u001b[0m\n",
            "[ 92%] Built target kallisto_core\n",
            "[ 96%] \u001b[32mBuilding CXX object src/CMakeFiles/kallisto.dir/main.cpp.o\u001b[0m\n",
            "[100%] \u001b[32m\u001b[1mLinking CXX executable kallisto\u001b[0m\n",
            "[100%] Built target kallisto\n",
            "\u001b[0mCMake Deprecation Warning at CMakeLists.txt:1 (cmake_minimum_required):\n",
            "  Compatibility with CMake < 3.5 will be removed from a future version of\n",
            "  CMake.\n",
            "\n",
            "  Update the VERSION argument <min> value or use a ...<max> suffix to tell\n",
            "  CMake that the project does not need compatibility with older versions.\n",
            "\n",
            "\u001b[0m\n",
            "-- The C compiler identification is GNU 11.4.0\n",
            "-- The CXX compiler identification is GNU 11.4.0\n",
            "-- Detecting C compiler ABI info\n",
            "-- Detecting C compiler ABI info - done\n",
            "-- Check for working C compiler: /usr/bin/cc - skipped\n",
            "-- Detecting C compile features\n",
            "-- Detecting C compile features - done\n",
            "-- Detecting CXX compiler ABI info\n",
            "-- Detecting CXX compiler ABI info - done\n",
            "-- Check for working CXX compiler: /usr/bin/c++ - skipped\n",
            "-- Detecting CXX compile features\n",
            "-- Detecting CXX compile features - done\n",
            "\u001b[0mrelease mode\u001b[0m\n",
            "-- Performing Test CMAKE_HAVE_LIBC_PTHREAD\n",
            "-- Performing Test CMAKE_HAVE_LIBC_PTHREAD - Success\n",
            "-- Found Threads: TRUE  \n",
            "-- Found ZLIB: /usr/lib/x86_64-linux-gnu/libz.so (found version \"1.2.11\")  \n",
            "-- Configuring done (0.4s)\n",
            "-- Generating done (0.0s)\n",
            "-- Build files have been written to: /content/bustools/build\n",
            "[  3%] \u001b[32mBuilding CXX object src/CMakeFiles/bustools_core.dir/BUSData.cpp.o\u001b[0m\n",
            "[  7%] \u001b[32mBuilding CXX object src/CMakeFiles/bustools_core.dir/Common.cpp.o\u001b[0m\n",
            "[ 11%] \u001b[32mBuilding CXX object src/CMakeFiles/bustools_core.dir/bustools_capture.cpp.o\u001b[0m\n",
            "[ 15%] \u001b[32mBuilding CXX object src/CMakeFiles/bustools_core.dir/bustools_clusterhist.cpp.o\u001b[0m\n",
            "[ 19%] \u001b[32mBuilding CXX object src/CMakeFiles/bustools_core.dir/bustools_collapse.cpp.o\u001b[0m\n",
            "[ 23%] \u001b[32mBuilding CXX object src/CMakeFiles/bustools_core.dir/bustools_compress.cpp.o\u001b[0m\n",
            "[ 26%] \u001b[32mBuilding CXX object src/CMakeFiles/bustools_core.dir/bustools_correct.cpp.o\u001b[0m\n",
            "[ 30%] \u001b[32mBuilding CXX object src/CMakeFiles/bustools_core.dir/bustools_count.cpp.o\u001b[0m\n",
            "[ 34%] \u001b[32mBuilding CXX object src/CMakeFiles/bustools_core.dir/bustools_decompress.cpp.o\u001b[0m\n",
            "[ 38%] \u001b[32mBuilding CXX object src/CMakeFiles/bustools_core.dir/bustools_extract.cpp.o\u001b[0m\n",
            "[ 42%] \u001b[32mBuilding CXX object src/CMakeFiles/bustools_core.dir/bustools_inspect.cpp.o\u001b[0m\n",
            "[ 46%] \u001b[32mBuilding CXX object src/CMakeFiles/bustools_core.dir/bustools_linker.cpp.o\u001b[0m\n",
            "[ 50%] \u001b[32mBuilding CXX object src/CMakeFiles/bustools_core.dir/bustools_main.cpp.o\u001b[0m\n",
            "[ 53%] \u001b[32mBuilding CXX object src/CMakeFiles/bustools_core.dir/bustools_mash.cpp.o\u001b[0m\n",
            "[ 57%] \u001b[32mBuilding CXX object src/CMakeFiles/bustools_core.dir/bustools_merge.cpp.o\u001b[0m\n",
            "[ 61%] \u001b[32mBuilding CXX object src/CMakeFiles/bustools_core.dir/bustools_predict.cpp.o\u001b[0m\n",
            "[ 65%] \u001b[32mBuilding CXX object src/CMakeFiles/bustools_core.dir/bustools_project.cpp.o\u001b[0m\n",
            "[ 69%] \u001b[32mBuilding CXX object src/CMakeFiles/bustools_core.dir/bustools_sort.cpp.o\u001b[0m\n",
            "[ 73%] \u001b[32mBuilding CXX object src/CMakeFiles/bustools_core.dir/bustools_text.cpp.o\u001b[0m\n",
            "[ 76%] \u001b[32mBuilding CXX object src/CMakeFiles/bustools_core.dir/bustools_umicorrect.cpp.o\u001b[0m\n",
            "[ 80%] \u001b[32mBuilding CXX object src/CMakeFiles/bustools_core.dir/bustools_whitelist.cpp.o\u001b[0m\n",
            "[ 84%] \u001b[32mBuilding CXX object src/CMakeFiles/bustools_core.dir/hash.cpp.o\u001b[0m\n",
            "[ 88%] \u001b[32mBuilding C object src/CMakeFiles/bustools_core.dir/roaring.c.o\u001b[0m\n",
            "[ 92%] \u001b[32m\u001b[1mLinking CXX static library libbustools_core.a\u001b[0m\n",
            "[ 92%] Built target bustools_core\n",
            "[ 96%] \u001b[32mBuilding CXX object src/CMakeFiles/bustools.dir/bustools_main.cpp.o\u001b[0m\n",
            "[100%] \u001b[32m\u001b[1mLinking CXX executable bustools\u001b[0m\n",
            "[100%] Built target bustools\n"
          ]
        }
      ]
    },
    {
      "cell_type": "code",
      "source": [
        "# Number of threads used for alignments\n",
        "threads = 2"
      ],
      "metadata": {
        "id": "RbgHf5Xoznw4"
      },
      "id": "RbgHf5Xoznw4",
      "execution_count": 3,
      "outputs": []
    },
    {
      "cell_type": "markdown",
      "source": [
        "### Download PalmDB RdRP sequences reverse transalted to nucleotides as shown [here](https://github.com/pachterlab/LSCHWCP_2023/blob/main/Notebooks/Figure_3/Figure_3b/validate_palmdb2palmdb.ipynb):"
      ],
      "metadata": {
        "id": "EHJoq-1Y0NQT"
      },
      "id": "EHJoq-1Y0NQT"
    },
    {
      "cell_type": "code",
      "source": [
        "!wget https://github.com/pachterlab/LSCHWCP_2023/raw/main/Notebooks/Figure_3/Figure_3b/palmdb_rdrp_seqs_nucleotides.fasta.zip\n",
        "!unzip palmdb_rdrp_seqs_nucleotides.fasta.zip\n",
        "palmdb_nn_fasta = \"palmdb_rdrp_seqs_nucleotides.fasta\""
      ],
      "metadata": {
        "id": "69ZdmTBlzznr",
        "outputId": "cac3f551-0071-4c47-abc4-f3b7b438473a",
        "colab": {
          "base_uri": "https://localhost:8080/"
        }
      },
      "id": "69ZdmTBlzznr",
      "execution_count": 4,
      "outputs": [
        {
          "output_type": "stream",
          "name": "stdout",
          "text": [
            "--2023-12-11 20:09:50--  https://github.com/pachterlab/LSCHWCP_2023/raw/main/Notebooks/Figure_3/Figure_3b/palmdb_rdrp_seqs_nucleotides.fasta.zip\n",
            "Resolving github.com (github.com)... 192.30.255.112\n",
            "Connecting to github.com (github.com)|192.30.255.112|:443... connected.\n",
            "HTTP request sent, awaiting response... 302 Found\n",
            "Location: https://raw.githubusercontent.com/pachterlab/LSCHWCP_2023/main/Notebooks/Figure_3/Figure_3b/palmdb_rdrp_seqs_nucleotides.fasta.zip [following]\n",
            "--2023-12-11 20:09:50--  https://raw.githubusercontent.com/pachterlab/LSCHWCP_2023/main/Notebooks/Figure_3/Figure_3b/palmdb_rdrp_seqs_nucleotides.fasta.zip\n",
            "Resolving raw.githubusercontent.com (raw.githubusercontent.com)... 185.199.108.133, 185.199.109.133, 185.199.110.133, ...\n",
            "Connecting to raw.githubusercontent.com (raw.githubusercontent.com)|185.199.108.133|:443... connected.\n",
            "HTTP request sent, awaiting response... 200 OK\n",
            "Length: 23125673 (22M) [application/zip]\n",
            "Saving to: ‘palmdb_rdrp_seqs_nucleotides.fasta.zip’\n",
            "\n",
            "palmdb_rdrp_seqs_nu 100%[===================>]  22.05M  --.-KB/s    in 0.1s    \n",
            "\n",
            "2023-12-11 20:09:51 (215 MB/s) - ‘palmdb_rdrp_seqs_nucleotides.fasta.zip’ saved [23125673/23125673]\n",
            "\n",
            "Archive:  palmdb_rdrp_seqs_nucleotides.fasta.zip\n",
            "  inflating: palmdb_rdrp_seqs_nucleotides.fasta  \n",
            "  inflating: __MACOSX/._palmdb_rdrp_seqs_nucleotides.fasta  \n"
          ]
        }
      ]
    },
    {
      "cell_type": "markdown",
      "source": [
        "### Generate reference index from PalmDB amino acid sequences:"
      ],
      "metadata": {
        "id": "Y73XPMM3zezy"
      },
      "id": "Y73XPMM3zezy"
    },
    {
      "cell_type": "code",
      "source": [
        "out_folder = \"testing_cfc\"\n",
        "sample = \"palmdb_vs_palmdb\""
      ],
      "metadata": {
        "id": "fNx1H8d1zsei"
      },
      "id": "fNx1H8d1zsei",
      "execution_count": 5,
      "outputs": []
    },
    {
      "cell_type": "markdown",
      "source": [
        "Since this branch of kallisto does not automatically set the D-list overhang to 3 when used in combination with `--aa`, we will specify it as 3 here:"
      ],
      "metadata": {
        "id": "EMbWqgCUexrQ"
      },
      "id": "EMbWqgCUexrQ"
    },
    {
      "cell_type": "code",
      "execution_count": 9,
      "id": "6eadf00a-94d9-40d3-8d06-e08a561b57af",
      "metadata": {
        "id": "6eadf00a-94d9-40d3-8d06-e08a561b57af",
        "outputId": "bd7c4e4d-d6f9-445c-89ac-fe0024ba1937",
        "colab": {
          "base_uri": "https://localhost:8080/"
        }
      },
      "outputs": [
        {
          "output_type": "stream",
          "name": "stdout",
          "text": [
            "\n",
            "[build] loading fasta file palmdb_rdrp_seqs.fa\n",
            "[build] k-mer length: 31\n",
            "KmerStream::KmerStream(): Start computing k-mer cardinality estimations (1/2)\n",
            "KmerStream::KmerStream(): Start computing k-mer cardinality estimations (1/2)\n",
            "KmerStream::KmerStream(): Finished\n",
            "CompactedDBG::build(): Estimated number of k-mers occurring at least once: 38022726\n",
            "CompactedDBG::build(): Estimated number of minimizer occurring at least once: 8020656\n",
            "CompactedDBG::filter(): Processed 87630084 k-mers in 296561 reads\n",
            "CompactedDBG::filter(): Found 37937748 unique k-mers\n",
            "CompactedDBG::filter(): Number of blocks in Bloom filter is 259922\n",
            "CompactedDBG::construct(): Extract approximate unitigs (1/2)\n",
            "CompactedDBG::construct(): Extract approximate unitigs (2/2)\n",
            "CompactedDBG::construct(): Closed all input files\n",
            "\n",
            "CompactedDBG::construct(): Splitting unitigs (1/2)\n",
            "\n",
            "CompactedDBG::construct(): Splitting unitigs (2/2)\n",
            "CompactedDBG::construct(): Before split: 1955467 unitigs\n",
            "CompactedDBG::construct(): After split (1/1): 1955467 unitigs\n",
            "CompactedDBG::construct(): Unitigs split: 1514\n",
            "CompactedDBG::construct(): Unitigs deleted: 0\n",
            "\n",
            "CompactedDBG::construct(): Joining unitigs\n",
            "CompactedDBG::construct(): After join: 1936391 unitigs\n",
            "CompactedDBG::construct(): Joined 19137 unitigs\n",
            "[build] building MPHF\n",
            "[build] creating equivalence classes ... \n",
            "[build] target de Bruijn graph has k-mer length 31 and minimizer length 23\n",
            "[build] target de Bruijn graph has 1936391 contigs and contains 37971144 k-mers \n",
            "\n"
          ]
        }
      ],
      "source": [
        "# Generate virus reference index\n",
        "virus_index = \"index.idx\"\n",
        "!$kallisto index \\\n",
        "    --aa \\\n",
        "    --d-list-overhang 3 \\\n",
        "    -t $threads \\\n",
        "    -i $virus_index \\\n",
        "    $palmdb"
      ]
    },
    {
      "cell_type": "markdown",
      "source": [
        "### Align using comma-free code:"
      ],
      "metadata": {
        "id": "ejumLgcw0ZrJ"
      },
      "id": "ejumLgcw0ZrJ"
    },
    {
      "cell_type": "code",
      "execution_count": 10,
      "id": "9da725dd-d5c6-456a-be19-5f2223454a7e",
      "metadata": {
        "id": "9da725dd-d5c6-456a-be19-5f2223454a7e",
        "outputId": "961504d7-83a5-42ad-f7bc-b4f00882501c",
        "colab": {
          "base_uri": "https://localhost:8080/"
        }
      },
      "outputs": [
        {
          "output_type": "stream",
          "name": "stdout",
          "text": [
            "\n",
            "[index] k-mer length: 31\n",
            "[index] number of targets: 296,561\n",
            "[index] number of k-mers: 37,971,144\n",
            "[quant] running in single-end mode\n",
            "[quant] will process file 1: palmdb_rdrp_seqs_nucleotides.fasta\n",
            "[quant] finding pseudoalignments for all files ... done\n",
            "[quant] processed 296,561 reads, 288,226 reads pseudoaligned\n",
            "\n",
            " all fits in buffer\n",
            "Read in 288226 BUS records\n",
            "reading time 0.002467s\n",
            "sorting time 0.025842s\n",
            "writing time 0.013976s\n"
          ]
        }
      ],
      "source": [
        "!mkdir -p $out_folder\n",
        "\n",
        "!$kallisto bus \\\n",
        "        -i $virus_index \\\n",
        "        -o $out_folder/$sample \\\n",
        "        --aa \\\n",
        "        -t $threads  \\\n",
        "        -x bulk \\\n",
        "        $palmdb_nn_fasta\n",
        "\n",
        "!$bustools sort -o $out_folder/$sample/output_sorted.bus $out_folder/$sample/output.bus\n",
        "\n",
        "!$bustools count \\\n",
        "    --genecounts \\\n",
        "    --cm -m \\\n",
        "    -o $out_folder/$sample/bustools_count/ \\\n",
        "    -g $virus_t2g \\\n",
        "    -e $out_folder/$sample/matrix.ec \\\n",
        "    -t $out_folder/$sample/transcripts.txt \\\n",
        "    $out_folder/$sample/output_sorted.bus"
      ]
    },
    {
      "cell_type": "markdown",
      "source": [
        "### Load and plot results:"
      ],
      "metadata": {
        "id": "WiYtb1mb0h3G"
      },
      "id": "WiYtb1mb0h3G"
    },
    {
      "cell_type": "code",
      "source": [
        "!pip install -q kb_python\n",
        "import kb_python.utils as kb_utils\n",
        "import pandas as pd\n",
        "import numpy as np\n",
        "import matplotlib\n",
        "import matplotlib.pyplot as plt\n",
        "%config InlineBackend.figure_format='retina'"
      ],
      "metadata": {
        "id": "dxkULt1R0ky8",
        "outputId": "7a60775b-e9ea-495b-e59a-f81aa2d5d75e",
        "colab": {
          "base_uri": "https://localhost:8080/"
        }
      },
      "id": "dxkULt1R0ky8",
      "execution_count": 11,
      "outputs": [
        {
          "output_type": "stream",
          "name": "stdout",
          "text": [
            "\u001b[2K     \u001b[90m━━━━━━━━━━━━━━━━━━━━━━━━━━━━━━━━━━━━━━━━\u001b[0m \u001b[32m13.1/13.1 MB\u001b[0m \u001b[31m46.9 MB/s\u001b[0m eta \u001b[36m0:00:00\u001b[0m\n",
            "\u001b[2K     \u001b[90m━━━━━━━━━━━━━━━━━━━━━━━━━━━━━━━━━━━━━━━━\u001b[0m \u001b[32m119.2/119.2 kB\u001b[0m \u001b[31m13.9 MB/s\u001b[0m eta \u001b[36m0:00:00\u001b[0m\n",
            "\u001b[2K     \u001b[90m━━━━━━━━━━━━━━━━━━━━━━━━━━━━━━━━━━━━━━━━\u001b[0m \u001b[32m4.8/4.8 MB\u001b[0m \u001b[31m84.6 MB/s\u001b[0m eta \u001b[36m0:00:00\u001b[0m\n",
            "\u001b[?25h  Preparing metadata (setup.py) ... \u001b[?25l\u001b[?25hdone\n",
            "\u001b[2K     \u001b[90m━━━━━━━━━━━━━━━━━━━━━━━━━━━━━━━━━━━━━━━━\u001b[0m \u001b[32m45.2/45.2 MB\u001b[0m \u001b[31m10.1 MB/s\u001b[0m eta \u001b[36m0:00:00\u001b[0m\n",
            "\u001b[2K     \u001b[90m━━━━━━━━━━━━━━━━━━━━━━━━━━━━━━━━━━━━━━━━\u001b[0m \u001b[32m2.0/2.0 MB\u001b[0m \u001b[31m90.2 MB/s\u001b[0m eta \u001b[36m0:00:00\u001b[0m\n",
            "\u001b[2K     \u001b[90m━━━━━━━━━━━━━━━━━━━━━━━━━━━━━━━━━━━━━━━━\u001b[0m \u001b[32m21.9/21.9 MB\u001b[0m \u001b[31m77.4 MB/s\u001b[0m eta \u001b[36m0:00:00\u001b[0m\n",
            "\u001b[?25h  Preparing metadata (setup.py) ... \u001b[?25l\u001b[?25hdone\n",
            "\u001b[2K     \u001b[90m━━━━━━━━━━━━━━━━━━━━━━━━━━━━━━━━━━━━━━━━\u001b[0m \u001b[32m90.9/90.9 kB\u001b[0m \u001b[31m12.0 MB/s\u001b[0m eta \u001b[36m0:00:00\u001b[0m\n",
            "\u001b[?25h  Preparing metadata (setup.py) ... \u001b[?25l\u001b[?25hdone\n",
            "\u001b[2K     \u001b[90m━━━━━━━━━━━━━━━━━━━━━━━━━━━━━━━━━━━━━━━━\u001b[0m \u001b[32m55.8/55.8 kB\u001b[0m \u001b[31m7.7 MB/s\u001b[0m eta \u001b[36m0:00:00\u001b[0m\n",
            "\u001b[2K     \u001b[90m━━━━━━━━━━━━━━━━━━━━━━━━━━━━━━━━━━━━━━━━\u001b[0m \u001b[32m79.8/79.8 kB\u001b[0m \u001b[31m10.6 MB/s\u001b[0m eta \u001b[36m0:00:00\u001b[0m\n",
            "\u001b[?25h  Building wheel for loompy (setup.py) ... \u001b[?25l\u001b[?25hdone\n",
            "  Building wheel for umap-learn (setup.py) ... \u001b[?25l\u001b[?25hdone\n",
            "  Building wheel for session-info (setup.py) ... \u001b[?25l\u001b[?25hdone\n"
          ]
        }
      ]
    },
    {
      "cell_type": "code",
      "execution_count": 12,
      "id": "460aa9a1-097f-4d84-874a-c0eb4bc834ae",
      "metadata": {
        "id": "460aa9a1-097f-4d84-874a-c0eb4bc834ae",
        "outputId": "c282c413-de14-4641-8632-83c88f4bf6e0",
        "colab": {
          "base_uri": "https://localhost:8080/"
        }
      },
      "outputs": [
        {
          "output_type": "execute_result",
          "data": {
            "text/plain": [
              "AnnData object with n_obs × n_vars = 1 × 99228"
            ]
          },
          "metadata": {},
          "execution_count": 12
        }
      ],
      "source": [
        "# Load count matrix\n",
        "# Filepath to counts\n",
        "X = f\"{out_folder}/{sample}/bustools_count/output.mtx\"\n",
        "# Filepath to barcode metadata\n",
        "var_path = f\"{out_folder}/{sample}/bustools_count/output.genes.txt\"\n",
        "# Filepath to gene metadata\n",
        "obs_path = f\"{out_folder}/{sample}/bustools_count/output.barcodes.txt\"\n",
        "\n",
        "# Create AnnData object\n",
        "adata = kb_utils.import_matrix_as_anndata(X, obs_path, var_path)\n",
        "adata"
      ]
    },
    {
      "cell_type": "code",
      "execution_count": 13,
      "id": "696bc599-ab1c-43da-b5a7-5b54be2f0abe",
      "metadata": {
        "id": "696bc599-ab1c-43da-b5a7-5b54be2f0abe",
        "outputId": "06b74926-787b-4242-d9cd-8100b94f23fa",
        "colab": {
          "base_uri": "https://localhost:8080/",
          "height": 620
        }
      },
      "outputs": [
        {
          "output_type": "stream",
          "name": "stdout",
          "text": [
            "--2023-12-11 20:18:37--  https://raw.githubusercontent.com/pachterlab/LSCHWCP_2023/main/PalmDB/ID_to_taxonomy_mapping.csv\n",
            "Resolving raw.githubusercontent.com (raw.githubusercontent.com)... 185.199.110.133, 185.199.111.133, 185.199.109.133, ...\n",
            "Connecting to raw.githubusercontent.com (raw.githubusercontent.com)|185.199.110.133|:443... connected.\n",
            "HTTP request sent, awaiting response... 200 OK\n",
            "Length: 19705497 (19M) [text/plain]\n",
            "Saving to: ‘ID_to_taxonomy_mapping.csv’\n",
            "\n",
            "ID_to_taxonomy_mapp 100%[===================>]  18.79M  --.-KB/s    in 0.09s   \n",
            "\n",
            "2023-12-11 20:18:38 (202 MB/s) - ‘ID_to_taxonomy_mapping.csv’ saved [19705497/19705497]\n",
            "\n"
          ]
        },
        {
          "output_type": "execute_result",
          "data": {
            "text/plain": [
              "             ID   rep_ID        phylum            class        order  \\\n",
              "0            u1       u1  Pisuviricota  Pisoniviricetes  Nidovirales   \n",
              "1        u10066       u1  Pisuviricota  Pisoniviricetes  Nidovirales   \n",
              "2        u10121       u1  Pisuviricota  Pisoniviricetes  Nidovirales   \n",
              "3        u10124       u1  Pisuviricota  Pisoniviricetes  Nidovirales   \n",
              "4       u102609       u1  Pisuviricota  Pisoniviricetes  Nidovirales   \n",
              "...         ...      ...           ...              ...          ...   \n",
              "296556  u296608  u296608             .                .            .   \n",
              "296557  u296609  u296609             .                .            .   \n",
              "296558  u296613  u296613             .                .            .   \n",
              "296559  u296616  u296616             .                .            .   \n",
              "296560  u296623  u296623             .                .            .   \n",
              "\n",
              "               family            genus  \\\n",
              "0       Coronaviridae  Betacoronavirus   \n",
              "1       Coronaviridae  Betacoronavirus   \n",
              "2       Coronaviridae  Betacoronavirus   \n",
              "3       Coronaviridae  Betacoronavirus   \n",
              "4       Coronaviridae  Betacoronavirus   \n",
              "...               ...              ...   \n",
              "296556              .                .   \n",
              "296557              .                .   \n",
              "296558              .                .   \n",
              "296559              .                .   \n",
              "296560              .                .   \n",
              "\n",
              "                                                  species strandedness  \n",
              "0       Severe acute respiratory syndrome-related coro...       +ssRNA  \n",
              "1       Severe acute respiratory syndrome-related coro...       +ssRNA  \n",
              "2       Severe acute respiratory syndrome-related coro...       +ssRNA  \n",
              "3       Severe acute respiratory syndrome-related coro...       +ssRNA  \n",
              "4       Severe acute respiratory syndrome-related coro...       +ssRNA  \n",
              "...                                                   ...          ...  \n",
              "296556                                                  .      unknown  \n",
              "296557                                                  .      unknown  \n",
              "296558                                                  .      unknown  \n",
              "296559                                                  .      unknown  \n",
              "296560                                                  .      unknown  \n",
              "\n",
              "[296561 rows x 9 columns]"
            ],
            "text/html": [
              "\n",
              "  <div id=\"df-391d8687-a1c2-4c64-b49a-09c6772f7099\" class=\"colab-df-container\">\n",
              "    <div>\n",
              "<style scoped>\n",
              "    .dataframe tbody tr th:only-of-type {\n",
              "        vertical-align: middle;\n",
              "    }\n",
              "\n",
              "    .dataframe tbody tr th {\n",
              "        vertical-align: top;\n",
              "    }\n",
              "\n",
              "    .dataframe thead th {\n",
              "        text-align: right;\n",
              "    }\n",
              "</style>\n",
              "<table border=\"1\" class=\"dataframe\">\n",
              "  <thead>\n",
              "    <tr style=\"text-align: right;\">\n",
              "      <th></th>\n",
              "      <th>ID</th>\n",
              "      <th>rep_ID</th>\n",
              "      <th>phylum</th>\n",
              "      <th>class</th>\n",
              "      <th>order</th>\n",
              "      <th>family</th>\n",
              "      <th>genus</th>\n",
              "      <th>species</th>\n",
              "      <th>strandedness</th>\n",
              "    </tr>\n",
              "  </thead>\n",
              "  <tbody>\n",
              "    <tr>\n",
              "      <th>0</th>\n",
              "      <td>u1</td>\n",
              "      <td>u1</td>\n",
              "      <td>Pisuviricota</td>\n",
              "      <td>Pisoniviricetes</td>\n",
              "      <td>Nidovirales</td>\n",
              "      <td>Coronaviridae</td>\n",
              "      <td>Betacoronavirus</td>\n",
              "      <td>Severe acute respiratory syndrome-related coro...</td>\n",
              "      <td>+ssRNA</td>\n",
              "    </tr>\n",
              "    <tr>\n",
              "      <th>1</th>\n",
              "      <td>u10066</td>\n",
              "      <td>u1</td>\n",
              "      <td>Pisuviricota</td>\n",
              "      <td>Pisoniviricetes</td>\n",
              "      <td>Nidovirales</td>\n",
              "      <td>Coronaviridae</td>\n",
              "      <td>Betacoronavirus</td>\n",
              "      <td>Severe acute respiratory syndrome-related coro...</td>\n",
              "      <td>+ssRNA</td>\n",
              "    </tr>\n",
              "    <tr>\n",
              "      <th>2</th>\n",
              "      <td>u10121</td>\n",
              "      <td>u1</td>\n",
              "      <td>Pisuviricota</td>\n",
              "      <td>Pisoniviricetes</td>\n",
              "      <td>Nidovirales</td>\n",
              "      <td>Coronaviridae</td>\n",
              "      <td>Betacoronavirus</td>\n",
              "      <td>Severe acute respiratory syndrome-related coro...</td>\n",
              "      <td>+ssRNA</td>\n",
              "    </tr>\n",
              "    <tr>\n",
              "      <th>3</th>\n",
              "      <td>u10124</td>\n",
              "      <td>u1</td>\n",
              "      <td>Pisuviricota</td>\n",
              "      <td>Pisoniviricetes</td>\n",
              "      <td>Nidovirales</td>\n",
              "      <td>Coronaviridae</td>\n",
              "      <td>Betacoronavirus</td>\n",
              "      <td>Severe acute respiratory syndrome-related coro...</td>\n",
              "      <td>+ssRNA</td>\n",
              "    </tr>\n",
              "    <tr>\n",
              "      <th>4</th>\n",
              "      <td>u102609</td>\n",
              "      <td>u1</td>\n",
              "      <td>Pisuviricota</td>\n",
              "      <td>Pisoniviricetes</td>\n",
              "      <td>Nidovirales</td>\n",
              "      <td>Coronaviridae</td>\n",
              "      <td>Betacoronavirus</td>\n",
              "      <td>Severe acute respiratory syndrome-related coro...</td>\n",
              "      <td>+ssRNA</td>\n",
              "    </tr>\n",
              "    <tr>\n",
              "      <th>...</th>\n",
              "      <td>...</td>\n",
              "      <td>...</td>\n",
              "      <td>...</td>\n",
              "      <td>...</td>\n",
              "      <td>...</td>\n",
              "      <td>...</td>\n",
              "      <td>...</td>\n",
              "      <td>...</td>\n",
              "      <td>...</td>\n",
              "    </tr>\n",
              "    <tr>\n",
              "      <th>296556</th>\n",
              "      <td>u296608</td>\n",
              "      <td>u296608</td>\n",
              "      <td>.</td>\n",
              "      <td>.</td>\n",
              "      <td>.</td>\n",
              "      <td>.</td>\n",
              "      <td>.</td>\n",
              "      <td>.</td>\n",
              "      <td>unknown</td>\n",
              "    </tr>\n",
              "    <tr>\n",
              "      <th>296557</th>\n",
              "      <td>u296609</td>\n",
              "      <td>u296609</td>\n",
              "      <td>.</td>\n",
              "      <td>.</td>\n",
              "      <td>.</td>\n",
              "      <td>.</td>\n",
              "      <td>.</td>\n",
              "      <td>.</td>\n",
              "      <td>unknown</td>\n",
              "    </tr>\n",
              "    <tr>\n",
              "      <th>296558</th>\n",
              "      <td>u296613</td>\n",
              "      <td>u296613</td>\n",
              "      <td>.</td>\n",
              "      <td>.</td>\n",
              "      <td>.</td>\n",
              "      <td>.</td>\n",
              "      <td>.</td>\n",
              "      <td>.</td>\n",
              "      <td>unknown</td>\n",
              "    </tr>\n",
              "    <tr>\n",
              "      <th>296559</th>\n",
              "      <td>u296616</td>\n",
              "      <td>u296616</td>\n",
              "      <td>.</td>\n",
              "      <td>.</td>\n",
              "      <td>.</td>\n",
              "      <td>.</td>\n",
              "      <td>.</td>\n",
              "      <td>.</td>\n",
              "      <td>unknown</td>\n",
              "    </tr>\n",
              "    <tr>\n",
              "      <th>296560</th>\n",
              "      <td>u296623</td>\n",
              "      <td>u296623</td>\n",
              "      <td>.</td>\n",
              "      <td>.</td>\n",
              "      <td>.</td>\n",
              "      <td>.</td>\n",
              "      <td>.</td>\n",
              "      <td>.</td>\n",
              "      <td>unknown</td>\n",
              "    </tr>\n",
              "  </tbody>\n",
              "</table>\n",
              "<p>296561 rows × 9 columns</p>\n",
              "</div>\n",
              "    <div class=\"colab-df-buttons\">\n",
              "\n",
              "  <div class=\"colab-df-container\">\n",
              "    <button class=\"colab-df-convert\" onclick=\"convertToInteractive('df-391d8687-a1c2-4c64-b49a-09c6772f7099')\"\n",
              "            title=\"Convert this dataframe to an interactive table.\"\n",
              "            style=\"display:none;\">\n",
              "\n",
              "  <svg xmlns=\"http://www.w3.org/2000/svg\" height=\"24px\" viewBox=\"0 -960 960 960\">\n",
              "    <path d=\"M120-120v-720h720v720H120Zm60-500h600v-160H180v160Zm220 220h160v-160H400v160Zm0 220h160v-160H400v160ZM180-400h160v-160H180v160Zm440 0h160v-160H620v160ZM180-180h160v-160H180v160Zm440 0h160v-160H620v160Z\"/>\n",
              "  </svg>\n",
              "    </button>\n",
              "\n",
              "  <style>\n",
              "    .colab-df-container {\n",
              "      display:flex;\n",
              "      gap: 12px;\n",
              "    }\n",
              "\n",
              "    .colab-df-convert {\n",
              "      background-color: #E8F0FE;\n",
              "      border: none;\n",
              "      border-radius: 50%;\n",
              "      cursor: pointer;\n",
              "      display: none;\n",
              "      fill: #1967D2;\n",
              "      height: 32px;\n",
              "      padding: 0 0 0 0;\n",
              "      width: 32px;\n",
              "    }\n",
              "\n",
              "    .colab-df-convert:hover {\n",
              "      background-color: #E2EBFA;\n",
              "      box-shadow: 0px 1px 2px rgba(60, 64, 67, 0.3), 0px 1px 3px 1px rgba(60, 64, 67, 0.15);\n",
              "      fill: #174EA6;\n",
              "    }\n",
              "\n",
              "    .colab-df-buttons div {\n",
              "      margin-bottom: 4px;\n",
              "    }\n",
              "\n",
              "    [theme=dark] .colab-df-convert {\n",
              "      background-color: #3B4455;\n",
              "      fill: #D2E3FC;\n",
              "    }\n",
              "\n",
              "    [theme=dark] .colab-df-convert:hover {\n",
              "      background-color: #434B5C;\n",
              "      box-shadow: 0px 1px 3px 1px rgba(0, 0, 0, 0.15);\n",
              "      filter: drop-shadow(0px 1px 2px rgba(0, 0, 0, 0.3));\n",
              "      fill: #FFFFFF;\n",
              "    }\n",
              "  </style>\n",
              "\n",
              "    <script>\n",
              "      const buttonEl =\n",
              "        document.querySelector('#df-391d8687-a1c2-4c64-b49a-09c6772f7099 button.colab-df-convert');\n",
              "      buttonEl.style.display =\n",
              "        google.colab.kernel.accessAllowed ? 'block' : 'none';\n",
              "\n",
              "      async function convertToInteractive(key) {\n",
              "        const element = document.querySelector('#df-391d8687-a1c2-4c64-b49a-09c6772f7099');\n",
              "        const dataTable =\n",
              "          await google.colab.kernel.invokeFunction('convertToInteractive',\n",
              "                                                    [key], {});\n",
              "        if (!dataTable) return;\n",
              "\n",
              "        const docLinkHtml = 'Like what you see? Visit the ' +\n",
              "          '<a target=\"_blank\" href=https://colab.research.google.com/notebooks/data_table.ipynb>data table notebook</a>'\n",
              "          + ' to learn more about interactive tables.';\n",
              "        element.innerHTML = '';\n",
              "        dataTable['output_type'] = 'display_data';\n",
              "        await google.colab.output.renderOutput(dataTable, element);\n",
              "        const docLink = document.createElement('div');\n",
              "        docLink.innerHTML = docLinkHtml;\n",
              "        element.appendChild(docLink);\n",
              "      }\n",
              "    </script>\n",
              "  </div>\n",
              "\n",
              "\n",
              "<div id=\"df-53a72767-40e5-4835-9778-288224a70b85\">\n",
              "  <button class=\"colab-df-quickchart\" onclick=\"quickchart('df-53a72767-40e5-4835-9778-288224a70b85')\"\n",
              "            title=\"Suggest charts\"\n",
              "            style=\"display:none;\">\n",
              "\n",
              "<svg xmlns=\"http://www.w3.org/2000/svg\" height=\"24px\"viewBox=\"0 0 24 24\"\n",
              "     width=\"24px\">\n",
              "    <g>\n",
              "        <path d=\"M19 3H5c-1.1 0-2 .9-2 2v14c0 1.1.9 2 2 2h14c1.1 0 2-.9 2-2V5c0-1.1-.9-2-2-2zM9 17H7v-7h2v7zm4 0h-2V7h2v10zm4 0h-2v-4h2v4z\"/>\n",
              "    </g>\n",
              "</svg>\n",
              "  </button>\n",
              "\n",
              "<style>\n",
              "  .colab-df-quickchart {\n",
              "      --bg-color: #E8F0FE;\n",
              "      --fill-color: #1967D2;\n",
              "      --hover-bg-color: #E2EBFA;\n",
              "      --hover-fill-color: #174EA6;\n",
              "      --disabled-fill-color: #AAA;\n",
              "      --disabled-bg-color: #DDD;\n",
              "  }\n",
              "\n",
              "  [theme=dark] .colab-df-quickchart {\n",
              "      --bg-color: #3B4455;\n",
              "      --fill-color: #D2E3FC;\n",
              "      --hover-bg-color: #434B5C;\n",
              "      --hover-fill-color: #FFFFFF;\n",
              "      --disabled-bg-color: #3B4455;\n",
              "      --disabled-fill-color: #666;\n",
              "  }\n",
              "\n",
              "  .colab-df-quickchart {\n",
              "    background-color: var(--bg-color);\n",
              "    border: none;\n",
              "    border-radius: 50%;\n",
              "    cursor: pointer;\n",
              "    display: none;\n",
              "    fill: var(--fill-color);\n",
              "    height: 32px;\n",
              "    padding: 0;\n",
              "    width: 32px;\n",
              "  }\n",
              "\n",
              "  .colab-df-quickchart:hover {\n",
              "    background-color: var(--hover-bg-color);\n",
              "    box-shadow: 0 1px 2px rgba(60, 64, 67, 0.3), 0 1px 3px 1px rgba(60, 64, 67, 0.15);\n",
              "    fill: var(--button-hover-fill-color);\n",
              "  }\n",
              "\n",
              "  .colab-df-quickchart-complete:disabled,\n",
              "  .colab-df-quickchart-complete:disabled:hover {\n",
              "    background-color: var(--disabled-bg-color);\n",
              "    fill: var(--disabled-fill-color);\n",
              "    box-shadow: none;\n",
              "  }\n",
              "\n",
              "  .colab-df-spinner {\n",
              "    border: 2px solid var(--fill-color);\n",
              "    border-color: transparent;\n",
              "    border-bottom-color: var(--fill-color);\n",
              "    animation:\n",
              "      spin 1s steps(1) infinite;\n",
              "  }\n",
              "\n",
              "  @keyframes spin {\n",
              "    0% {\n",
              "      border-color: transparent;\n",
              "      border-bottom-color: var(--fill-color);\n",
              "      border-left-color: var(--fill-color);\n",
              "    }\n",
              "    20% {\n",
              "      border-color: transparent;\n",
              "      border-left-color: var(--fill-color);\n",
              "      border-top-color: var(--fill-color);\n",
              "    }\n",
              "    30% {\n",
              "      border-color: transparent;\n",
              "      border-left-color: var(--fill-color);\n",
              "      border-top-color: var(--fill-color);\n",
              "      border-right-color: var(--fill-color);\n",
              "    }\n",
              "    40% {\n",
              "      border-color: transparent;\n",
              "      border-right-color: var(--fill-color);\n",
              "      border-top-color: var(--fill-color);\n",
              "    }\n",
              "    60% {\n",
              "      border-color: transparent;\n",
              "      border-right-color: var(--fill-color);\n",
              "    }\n",
              "    80% {\n",
              "      border-color: transparent;\n",
              "      border-right-color: var(--fill-color);\n",
              "      border-bottom-color: var(--fill-color);\n",
              "    }\n",
              "    90% {\n",
              "      border-color: transparent;\n",
              "      border-bottom-color: var(--fill-color);\n",
              "    }\n",
              "  }\n",
              "</style>\n",
              "\n",
              "  <script>\n",
              "    async function quickchart(key) {\n",
              "      const quickchartButtonEl =\n",
              "        document.querySelector('#' + key + ' button');\n",
              "      quickchartButtonEl.disabled = true;  // To prevent multiple clicks.\n",
              "      quickchartButtonEl.classList.add('colab-df-spinner');\n",
              "      try {\n",
              "        const charts = await google.colab.kernel.invokeFunction(\n",
              "            'suggestCharts', [key], {});\n",
              "      } catch (error) {\n",
              "        console.error('Error during call to suggestCharts:', error);\n",
              "      }\n",
              "      quickchartButtonEl.classList.remove('colab-df-spinner');\n",
              "      quickchartButtonEl.classList.add('colab-df-quickchart-complete');\n",
              "    }\n",
              "    (() => {\n",
              "      let quickchartButtonEl =\n",
              "        document.querySelector('#df-53a72767-40e5-4835-9778-288224a70b85 button');\n",
              "      quickchartButtonEl.style.display =\n",
              "        google.colab.kernel.accessAllowed ? 'block' : 'none';\n",
              "    })();\n",
              "  </script>\n",
              "</div>\n",
              "\n",
              "  <div id=\"id_94f1856b-4db2-46b8-b1f7-f4d42861ff77\">\n",
              "    <style>\n",
              "      .colab-df-generate {\n",
              "        background-color: #E8F0FE;\n",
              "        border: none;\n",
              "        border-radius: 50%;\n",
              "        cursor: pointer;\n",
              "        display: none;\n",
              "        fill: #1967D2;\n",
              "        height: 32px;\n",
              "        padding: 0 0 0 0;\n",
              "        width: 32px;\n",
              "      }\n",
              "\n",
              "      .colab-df-generate:hover {\n",
              "        background-color: #E2EBFA;\n",
              "        box-shadow: 0px 1px 2px rgba(60, 64, 67, 0.3), 0px 1px 3px 1px rgba(60, 64, 67, 0.15);\n",
              "        fill: #174EA6;\n",
              "      }\n",
              "\n",
              "      [theme=dark] .colab-df-generate {\n",
              "        background-color: #3B4455;\n",
              "        fill: #D2E3FC;\n",
              "      }\n",
              "\n",
              "      [theme=dark] .colab-df-generate:hover {\n",
              "        background-color: #434B5C;\n",
              "        box-shadow: 0px 1px 3px 1px rgba(0, 0, 0, 0.15);\n",
              "        filter: drop-shadow(0px 1px 2px rgba(0, 0, 0, 0.3));\n",
              "        fill: #FFFFFF;\n",
              "      }\n",
              "    </style>\n",
              "    <button class=\"colab-df-generate\" onclick=\"generateWithVariable('rep_id_df')\"\n",
              "            title=\"Generate code using this dataframe.\"\n",
              "            style=\"display:none;\">\n",
              "\n",
              "  <svg xmlns=\"http://www.w3.org/2000/svg\" height=\"24px\"viewBox=\"0 0 24 24\"\n",
              "       width=\"24px\">\n",
              "    <path d=\"M7,19H8.4L18.45,9,17,7.55,7,17.6ZM5,21V16.75L18.45,3.32a2,2,0,0,1,2.83,0l1.4,1.43a1.91,1.91,0,0,1,.58,1.4,1.91,1.91,0,0,1-.58,1.4L9.25,21ZM18.45,9,17,7.55Zm-12,3A5.31,5.31,0,0,0,4.9,8.1,5.31,5.31,0,0,0,1,6.5,5.31,5.31,0,0,0,4.9,4.9,5.31,5.31,0,0,0,6.5,1,5.31,5.31,0,0,0,8.1,4.9,5.31,5.31,0,0,0,12,6.5,5.46,5.46,0,0,0,6.5,12Z\"/>\n",
              "  </svg>\n",
              "    </button>\n",
              "    <script>\n",
              "      (() => {\n",
              "      const buttonEl =\n",
              "        document.querySelector('#id_94f1856b-4db2-46b8-b1f7-f4d42861ff77 button.colab-df-generate');\n",
              "      buttonEl.style.display =\n",
              "        google.colab.kernel.accessAllowed ? 'block' : 'none';\n",
              "\n",
              "      buttonEl.onclick = () => {\n",
              "        google.colab.notebook.generateWithVariable('rep_id_df');\n",
              "      }\n",
              "      })();\n",
              "    </script>\n",
              "  </div>\n",
              "\n",
              "    </div>\n",
              "  </div>\n"
            ]
          },
          "metadata": {},
          "execution_count": 13
        }
      ],
      "source": [
        "# Load virus ID to taxonomy mapping\n",
        "!wget https://raw.githubusercontent.com/pachterlab/LSCHWCP_2023/main/PalmDB/ID_to_taxonomy_mapping.csv\n",
        "rep_id_df = pd.read_csv(\"ID_to_taxonomy_mapping.csv\")\n",
        "rep_id_df"
      ]
    },
    {
      "cell_type": "markdown",
      "source": [
        "Record expected and observed counts for each virus ID (since the virus IDs are grouped based on taxonomy like transcripts of the same gene, we expect different numbers of counts for each representative virus ID):"
      ],
      "metadata": {
        "id": "XtAhoVxq01Pv"
      },
      "id": "XtAhoVxq01Pv"
    },
    {
      "cell_type": "code",
      "execution_count": 14,
      "id": "8ac13837-764a-4b88-a796-d2671e4dfa95",
      "metadata": {
        "id": "8ac13837-764a-4b88-a796-d2671e4dfa95",
        "outputId": "b1182cfe-7a70-4de3-d167-bdf58b62dbf5",
        "colab": {
          "base_uri": "https://localhost:8080/"
        }
      },
      "outputs": [
        {
          "output_type": "stream",
          "name": "stdout",
          "text": [
            "CPU times: user 49min 36s, sys: 5.33 s, total: 49min 42s\n",
            "Wall time: 50min 3s\n"
          ]
        }
      ],
      "source": [
        "%%time\n",
        "counts = []\n",
        "expected_counts = []\n",
        "for virus_id in adata.var.index:\n",
        "    counts.append(adata[:, adata.var.index==virus_id].X.sum())\n",
        "    expected_counts.append(len(rep_id_df[rep_id_df[\"rep_ID\"]==virus_id]))"
      ]
    },
    {
      "cell_type": "code",
      "execution_count": 15,
      "id": "140b7ec8-7b38-452f-aab5-cf1f1fd228ee",
      "metadata": {
        "id": "140b7ec8-7b38-452f-aab5-cf1f1fd228ee",
        "outputId": "7db3190a-d79a-46ff-8358-0da39dcebe26",
        "colab": {
          "base_uri": "https://localhost:8080/",
          "height": 866
        }
      },
      "outputs": [
        {
          "output_type": "display_data",
          "data": {
            "text/plain": [
              "<Figure size 1200x1000 with 2 Axes>"
            ],
            "image/png": "[encoded data removed]"
          },
          "metadata": {
            "image/png": {
              "width": 999,
              "height": 849
            }
          }
        }
      ],
      "source": [
        "fig, ax = plt.subplots(figsize=(12,10))\n",
        "fontsize = 16\n",
        "\n",
        "x = np.array(counts)\n",
        "y = np.array(expected_counts)\n",
        "\n",
        "# Histogram data to show point density\n",
        "bins = [1500, 1500]\n",
        "hh, locx, locy = np.histogram2d(x, y, bins=bins)\n",
        "z = np.array([hh[np.argmax(a<=locx[1:]),np.argmax(b<=locy[1:])] for a,b in zip(x,y)])\n",
        "idx = z.argsort()\n",
        "x2, y2, z2 = x[idx], y[idx], z[idx]\n",
        "\n",
        "scatter = ax.scatter(x2, y2, c=z2, cmap=\"viridis\", norm=matplotlib.colors.LogNorm(), s=75)\n",
        "\n",
        "# Add colorbar\n",
        "cbar = fig.colorbar(scatter, ax=ax, pad=0.01)\n",
        "cbar.ax.tick_params(axis=\"both\", labelsize=fontsize)\n",
        "cbar.ax.set_ylabel(f\"# of sOTUs\", fontsize=fontsize)\n",
        "\n",
        "ax.set_ylim(bottom=-0.5, top=50000)\n",
        "ax.set_xlim(left=-0.5, right=50000)\n",
        "\n",
        "ax.set_yscale(\"symlog\")\n",
        "ax.set_xscale(\"symlog\")\n",
        "\n",
        "ax.grid(True, which=\"both\", color=\"lightgray\", ls=\"--\", lw=1)\n",
        "ax.set_axisbelow(True)\n",
        "\n",
        "ax.tick_params(axis=\"both\", labelsize=fontsize)\n",
        "ax.set_ylabel(\"Expected counts\", fontsize=fontsize)\n",
        "ax.set_xlabel(\"Observed counts\", fontsize=fontsize)\n",
        "\n",
        "plt.savefig(f\"expected_vs_observed_vir_counts_{sample}.png\", dpi=300, bbox_inches=\"tight\")\n",
        "\n",
        "fig.show()"
      ]
    },
    {
      "cell_type": "markdown",
      "source": [
        "Pearson and Spearman correlations between expected and observed counts:"
      ],
      "metadata": {
        "id": "iFYABdycgqRW"
      },
      "id": "iFYABdycgqRW"
    },
    {
      "cell_type": "code",
      "execution_count": 22,
      "id": "2d06a59a-92a3-49c1-865a-799e037feb1d",
      "metadata": {
        "id": "2d06a59a-92a3-49c1-865a-799e037feb1d"
      },
      "outputs": [],
      "source": [
        "from scipy.stats import pearsonr,spearmanr"
      ]
    },
    {
      "cell_type": "code",
      "source": [
        "pearsonr(np.array(counts), np.array(expected_counts))"
      ],
      "metadata": {
        "id": "byP3NUXmgm6r",
        "outputId": "e010b108-5485-47e8-d703-9b61731624bc",
        "colab": {
          "base_uri": "https://localhost:8080/"
        }
      },
      "id": "byP3NUXmgm6r",
      "execution_count": 21,
      "outputs": [
        {
          "output_type": "execute_result",
          "data": {
            "text/plain": [
              "PearsonRResult(statistic=0.992817351791723, pvalue=0.0)"
            ]
          },
          "metadata": {},
          "execution_count": 21
        }
      ]
    },
    {
      "cell_type": "code",
      "source": [
        "spearmanr(np.array(counts), np.array(expected_counts))"
      ],
      "metadata": {
        "id": "zQRdsuJrgn2T",
        "outputId": "819045ee-0707-4a06-cf8b-f0496d49e2f1",
        "colab": {
          "base_uri": "https://localhost:8080/"
        }
      },
      "id": "zQRdsuJrgn2T",
      "execution_count": 23,
      "outputs": [
        {
          "output_type": "execute_result",
          "data": {
            "text/plain": [
              "SignificanceResult(statistic=0.7791531684556423, pvalue=0.0)"
            ]
          },
          "metadata": {},
          "execution_count": 23
        }
      ]
    },
    {
      "cell_type": "code",
      "source": [],
      "metadata": {
        "id": "lS5LWwFjgpDq"
      },
      "id": "lS5LWwFjgpDq",
      "execution_count": null,
      "outputs": []
    }
  ],
  "metadata": {
    "kernelspec": {
      "display_name": "Python 3",
      "name": "python3"
    },
    "language_info": {
      "codemirror_mode": {
        "name": "ipython",
        "version": 3
      },
      "file_extension": ".py",
      "mimetype": "text/x-python",
      "name": "python",
      "nbconvert_exporter": "python",
      "pygments_lexer": "ipython3",
      "version": "3.9.12"
    },
    "colab": {
      "provenance": [],
      "gpuType": "T4",
      "include_colab_link": true
    },
    "accelerator": "GPU"
  },
  "nbformat": 4,
  "nbformat_minor": 5
}