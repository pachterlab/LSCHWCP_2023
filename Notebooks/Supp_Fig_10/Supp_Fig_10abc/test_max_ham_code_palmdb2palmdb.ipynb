{
  "cells": [
    {
      "cell_type": "markdown",
      "metadata": {
        "id": "view-in-github",
        "colab_type": "text"
      },
      "source": [
        "<a href=\"https://colab.research.google.com/github/pachterlab/LSCHWCP_2023/blob/main/Notebooks/Supp_Fig_10/Supp_Fig_10abc/test_max_ham_code_palmdb2palmdb.ipynb\" target=\"_parent\"><img src=\"https://colab.research.google.com/assets/colab-badge.svg\" alt=\"Open In Colab\"/></a>"
      ]
    },
    {
      "cell_type": "markdown",
      "id": "08091169-961e-45ee-98c4-952609e33e19",
      "metadata": {
        "id": "08091169-961e-45ee-98c4-952609e33e19"
      },
      "source": [
        "# Check detection of reverse translated RdRP sequences using a code that maximizes Hamming distances"
      ]
    },
    {
      "cell_type": "code",
      "source": [
        "# Download the customized transcripts to gene mapping\n",
        "!wget https://raw.githubusercontent.com/pachterlab/LSCHWCP_2023/main/PalmDB/palmdb_clustered_t2g.txt\n",
        "# Download the RdRP amino acid sequences\n",
        "!wget https://raw.githubusercontent.com/pachterlab/LSCHWCP_2023/main/PalmDB/palmdb_rdrp_seqs.fa\n",
        "\n",
        "palmdb = \"palmdb_rdrp_seqs.fa\"\n",
        "virus_t2g = \"palmdb_clustered_t2g.txt\""
      ],
      "metadata": {
        "id": "KsjpWJ-ezDEy"
      },
      "id": "KsjpWJ-ezDEy",
      "execution_count": null,
      "outputs": []
    },
    {
      "cell_type": "markdown",
      "source": [
        "We will install an unreleased version of kallisto which implements a different code for the translation of amino acid and nucleotide sequences and subsequent alignment. This code maximizes the distances between amino acids that occur most frequently to increase the differences between reference sequences:"
      ],
      "metadata": {
        "id": "T-vBX5nG1jaW"
      },
      "id": "T-vBX5nG1jaW"
    },
    {
      "cell_type": "code",
      "source": [
        "# Install kallisto from the max_ham_code branch\n",
        "!git clone -q https://github.com/pachterlab/kallisto.git --branch max_ham_code\n",
        "!cd kallisto && mkdir build && cd build && cmake .. && make\n",
        "\n",
        "# Install bustools from source\n",
        "!git clone -q https://github.com/BUStools/bustools.git\n",
        "!cd bustools && mkdir build && cd build && cmake .. && make\n",
        "\n",
        "# Define paths to kallisto and bustools binaries\n",
        "kallisto = \"/content/kallisto/build/src/kallisto\"\n",
        "bustools = \"/content/bustools/build/src/bustools\""
      ],
      "metadata": {
        "id": "AUHmlk_Czan8"
      },
      "id": "AUHmlk_Czan8",
      "execution_count": null,
      "outputs": []
    },
    {
      "cell_type": "code",
      "source": [
        "# Number of threads used for alignments\n",
        "threads = 2"
      ],
      "metadata": {
        "id": "RbgHf5Xoznw4"
      },
      "id": "RbgHf5Xoznw4",
      "execution_count": null,
      "outputs": []
    },
    {
      "cell_type": "markdown",
      "source": [
        "### Download PalmDB RdRP sequences reverse transalted to nucleotides as shown [here](https://github.com/pachterlab/LSCHWCP_2023/blob/main/Notebooks/Figure_3/Figure_3b/validate_palmdb2palmdb.ipynb):"
      ],
      "metadata": {
        "id": "EHJoq-1Y0NQT"
      },
      "id": "EHJoq-1Y0NQT"
    },
    {
      "cell_type": "code",
      "source": [
        "!wget https://github.com/pachterlab/LSCHWCP_2023/raw/main/Notebooks/Figure_3/Figure_3b/palmdb_rdrp_seqs_nucleotides.fasta.zip\n",
        "!unzip palmdb_rdrp_seqs_nucleotides.fasta.zip\n",
        "palmdb_nn_fasta = \"palmdb_rdrp_seqs_nucleotides.fasta\""
      ],
      "metadata": {
        "id": "69ZdmTBlzznr"
      },
      "id": "69ZdmTBlzznr",
      "execution_count": null,
      "outputs": []
    },
    {
      "cell_type": "markdown",
      "source": [
        "### Generate reference index from PalmDB amino acid sequences:"
      ],
      "metadata": {
        "id": "Y73XPMM3zezy"
      },
      "id": "Y73XPMM3zezy"
    },
    {
      "cell_type": "code",
      "source": [
        "out_folder = \"testing_cfc\"\n",
        "sample = \"palmdb_vs_palmdb\""
      ],
      "metadata": {
        "id": "fNx1H8d1zsei"
      },
      "id": "fNx1H8d1zsei",
      "execution_count": null,
      "outputs": []
    },
    {
      "cell_type": "code",
      "execution_count": null,
      "id": "6eadf00a-94d9-40d3-8d06-e08a561b57af",
      "metadata": {
        "id": "6eadf00a-94d9-40d3-8d06-e08a561b57af"
      },
      "outputs": [],
      "source": [
        "# Generate virus reference index\n",
        "virus_index = \"index.idx\"\n",
        "!/usr/bin/time -v $kallisto index \\\n",
        "    --aa \\\n",
        "    -t $threads \\\n",
        "    -i $virus_index \\\n",
        "    $palmdb"
      ]
    },
    {
      "cell_type": "markdown",
      "source": [
        "### Align using comma-free code:"
      ],
      "metadata": {
        "id": "ejumLgcw0ZrJ"
      },
      "id": "ejumLgcw0ZrJ"
    },
    {
      "cell_type": "code",
      "execution_count": null,
      "id": "9da725dd-d5c6-456a-be19-5f2223454a7e",
      "metadata": {
        "id": "9da725dd-d5c6-456a-be19-5f2223454a7e"
      },
      "outputs": [],
      "source": [
        "!$kallisto bus \\\n",
        "        -i $virus_index \\\n",
        "        -o $out_folder/$sample \\\n",
        "        --aa \\\n",
        "        -t $threads  \\\n",
        "        $palmdb_nn_fasta\n",
        "\n",
        "!$bustools sort -o $out_folder/$sample/output_sorted.bus $out_folder/$sample/output.bus\n",
        "\n",
        "!$bustools count \\\n",
        "    --genecounts \\\n",
        "    --cm -m \\\n",
        "    -o $out_folder/$sample/bustools_count/ \\\n",
        "    -g $virus_t2g \\\n",
        "    -e $out_folder/$sample/matrix.ec \\\n",
        "    -t $out_folder/$sample/transcripts.txt \\\n",
        "    $out_folder/$sample/output_sorted.bus"
      ]
    },
    {
      "cell_type": "markdown",
      "source": [
        "### Load and plot results:"
      ],
      "metadata": {
        "id": "WiYtb1mb0h3G"
      },
      "id": "WiYtb1mb0h3G"
    },
    {
      "cell_type": "code",
      "source": [
        "!pip install -q kb_python\n",
        "import kb_python.utils as kb_utils\n",
        "import pandas as pd\n",
        "import numpy as np\n",
        "import matplotlib\n",
        "import matplotlib.pyplot as plt\n",
        "%config InlineBackend.figure_format='retina'"
      ],
      "metadata": {
        "id": "dxkULt1R0ky8"
      },
      "id": "dxkULt1R0ky8",
      "execution_count": null,
      "outputs": []
    },
    {
      "cell_type": "code",
      "execution_count": null,
      "id": "460aa9a1-097f-4d84-874a-c0eb4bc834ae",
      "metadata": {
        "id": "460aa9a1-097f-4d84-874a-c0eb4bc834ae"
      },
      "outputs": [],
      "source": [
        "# Load count matrix\n",
        "# Filepath to counts\n",
        "X = f\"{out_folder}/{sample}/bustools_count/output.mtx\"\n",
        "# Filepath to barcode metadata\n",
        "var_path = f\"{out_folder}/{sample}/bustools_count/output.genes.txt\"\n",
        "# Filepath to gene metadata\n",
        "obs_path = f\"{out_folder}/{sample}/bustools_count/output.barcodes.txt\"\n",
        "\n",
        "# Create AnnData object\n",
        "adata = kb_utils.import_matrix_as_anndata(X, obs_path, var_path)\n",
        "adata"
      ]
    },
    {
      "cell_type": "code",
      "execution_count": null,
      "id": "696bc599-ab1c-43da-b5a7-5b54be2f0abe",
      "metadata": {
        "id": "696bc599-ab1c-43da-b5a7-5b54be2f0abe"
      },
      "outputs": [],
      "source": [
        "# Load virus ID to taxonomy mapping\n",
        "!wget https://raw.githubusercontent.com/pachterlab/LSCHWCP_2023/main/PalmDB/ID_to_taxonomy_mapping.csv\n",
        "rep_id_df = pd.read_csv(\"ID_to_taxonomy_mapping.csv\")\n",
        "rep_id_df"
      ]
    },
    {
      "cell_type": "markdown",
      "source": [
        "Record expected and observed counts for each virus ID:"
      ],
      "metadata": {
        "id": "XtAhoVxq01Pv"
      },
      "id": "XtAhoVxq01Pv"
    },
    {
      "cell_type": "code",
      "execution_count": null,
      "id": "8ac13837-764a-4b88-a796-d2671e4dfa95",
      "metadata": {
        "id": "8ac13837-764a-4b88-a796-d2671e4dfa95"
      },
      "outputs": [],
      "source": [
        "%%time\n",
        "counts = []\n",
        "expected_counts = []\n",
        "for virus_id in adata.var.index:\n",
        "    counts.append(adata[:, adata.var.index==virus_id].X.sum())\n",
        "    expected_counts.append(len(rep_id_df[rep_id_df[\"rep_ID\"]==virus_id]))"
      ]
    },
    {
      "cell_type": "code",
      "execution_count": null,
      "id": "140b7ec8-7b38-452f-aab5-cf1f1fd228ee",
      "metadata": {
        "id": "140b7ec8-7b38-452f-aab5-cf1f1fd228ee"
      },
      "outputs": [],
      "source": [
        "fig, ax = plt.subplots(figsize=(12,10))\n",
        "fontsize = 16\n",
        "\n",
        "x = np.array(counts)\n",
        "y = np.array(expected_counts)\n",
        "\n",
        "# Histogram data to show point density\n",
        "bins = [1500, 1500]\n",
        "hh, locx, locy = np.histogram2d(x, y, bins=bins)\n",
        "z = np.array([hh[np.argmax(a<=locx[1:]),np.argmax(b<=locy[1:])] for a,b in zip(x,y)])\n",
        "idx = z.argsort()\n",
        "x2, y2, z2 = x[idx], y[idx], z[idx]\n",
        "\n",
        "scatter = ax.scatter(x2, y2, c=z2, cmap=\"viridis\", norm=matplotlib.colors.LogNorm(), s=75)\n",
        "\n",
        "# Add colorbar\n",
        "cbar = fig.colorbar(scatter, ax=ax, pad=0.01)\n",
        "cbar.ax.tick_params(axis=\"both\", labelsize=fontsize)\n",
        "cbar.ax.set_ylabel(f\"# of sOTUs\", fontsize=fontsize)\n",
        "\n",
        "ax.set_ylim(bottom=-0.5, top=50000)\n",
        "ax.set_xlim(left=-0.5, right=50000)\n",
        "\n",
        "ax.set_yscale(\"symlog\")\n",
        "ax.set_xscale(\"symlog\")\n",
        "\n",
        "ax.grid(True, which=\"both\", color=\"lightgray\", ls=\"--\", lw=1)\n",
        "ax.set_axisbelow(True)\n",
        "\n",
        "ax.tick_params(axis=\"both\", labelsize=fontsize)\n",
        "ax.set_ylabel(\"Expected counts\", fontsize=fontsize)\n",
        "ax.set_xlabel(\"Observed counts\", fontsize=fontsize)\n",
        "\n",
        "plt.savefig(f\"expected_vs_observed_vir_counts_{sample}.png\", dpi=300, bbox_inches=\"tight\")\n",
        "\n",
        "fig.show()"
      ]
    },
    {
      "cell_type": "code",
      "execution_count": null,
      "id": "2d06a59a-92a3-49c1-865a-799e037feb1d",
      "metadata": {
        "id": "2d06a59a-92a3-49c1-865a-799e037feb1d"
      },
      "outputs": [],
      "source": []
    }
  ],
  "metadata": {
    "kernelspec": {
      "display_name": "Python 3 (ipykernel)",
      "language": "python",
      "name": "python3"
    },
    "language_info": {
      "codemirror_mode": {
        "name": "ipython",
        "version": 3
      },
      "file_extension": ".py",
      "mimetype": "text/x-python",
      "name": "python",
      "nbconvert_exporter": "python",
      "pygments_lexer": "ipython3",
      "version": "3.9.12"
    },
    "colab": {
      "provenance": [],
      "include_colab_link": true
    }
  },
  "nbformat": 4,
  "nbformat_minor": 5
}