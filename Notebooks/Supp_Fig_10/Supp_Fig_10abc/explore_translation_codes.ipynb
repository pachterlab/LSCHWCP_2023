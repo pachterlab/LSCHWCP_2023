{
  "cells": [
    {
      "cell_type": "markdown",
      "metadata": {
        "id": "view-in-github",
        "colab_type": "text"
      },
      "source": [
        "<a href=\"https://colab.research.google.com/github/pachterlab/LSCHWCP_2023/blob/main/Notebooks/Supp_Fig_10/Supp_Fig_10abc/explore_translation_codes.ipynb\" target=\"_parent\"><img src=\"https://colab.research.google.com/assets/colab-badge.svg\" alt=\"Open In Colab\"/></a>"
      ]
    },
    {
      "cell_type": "markdown",
      "id": "9303ba1b-9ce3-405a-9c1d-7a6cd14f4960",
      "metadata": {
        "id": "9303ba1b-9ce3-405a-9c1d-7a6cd14f4960"
      },
      "source": [
        "# Explore difference codes for the translation of amino acid and nucleotides sequences for translated alignment"
      ]
    },
    {
      "cell_type": "code",
      "execution_count": null,
      "id": "431c3040-94b5-429c-9adf-f958eef1699b",
      "metadata": {
        "id": "431c3040-94b5-429c-9adf-f958eef1699b"
      },
      "outputs": [],
      "source": [
        "%config InlineBackend.figure_format='retina'\n",
        "import matplotlib\n",
        "import matplotlib.pyplot as plt\n",
        "import numpy as np\n",
        "import random\n",
        "from scipy.spatial.distance import hamming\n",
        "import pandas as pd"
      ]
    },
    {
      "cell_type": "code",
      "execution_count": null,
      "id": "e15f8322-9772-46c7-87ee-2139e4c9f44c",
      "metadata": {
        "id": "e15f8322-9772-46c7-87ee-2139e4c9f44c"
      },
      "outputs": [],
      "source": [
        "# Download the PalmDB RdRP amino acid sequences\n",
        "!wget https://raw.githubusercontent.com/pachterlab/LSCHWCP_2023/main/PalmDB/palmdb_rdrp_seqs.fa\n",
        "palmdb = \"palmdb_rdrp_seqs.fa\""
      ]
    },
    {
      "cell_type": "markdown",
      "source": [
        "### Plot occurence of each amino acid in PalmDB sequences"
      ],
      "metadata": {
        "id": "98ZWzl5y8Goy"
      },
      "id": "98ZWzl5y8Goy"
    },
    {
      "cell_type": "code",
      "execution_count": null,
      "id": "d568bc74-4513-4c13-8a6c-ff4592f975bb",
      "metadata": {
        "id": "d568bc74-4513-4c13-8a6c-ff4592f975bb"
      },
      "outputs": [],
      "source": [
        "aa_list = [\"F\", \"L\", \"I\", \"M\", \"V\", \"S\", \"P\", \"T\", \"A\", \"Y\", \"H\", \"Q\", \"N\", \"K\", \"D\", \"E\", \"C\", \"W\", \"R\", \"G\", \"X\", \"B\", \"J\", \"Z\"]\n",
        "\n",
        "aa_counts = []\n",
        "for aa in aa_list:\n",
        "    aa_count = !grep -v \">\" $palmdb | grep -E -o $aa | wc -l\n",
        "    print(aa_count[0])\n",
        "    aa_counts.append(aa_count[0])"
      ]
    },
    {
      "cell_type": "code",
      "execution_count": null,
      "id": "53554a9a-8afb-4411-aeae-036d743f5c9f",
      "metadata": {
        "id": "53554a9a-8afb-4411-aeae-036d743f5c9f"
      },
      "outputs": [],
      "source": [
        "df = pd.DataFrame()\n",
        "df[\"aa\"] = aa_list\n",
        "df[\"aa_count\"] =  np.array(aa_counts).astype(int)\n",
        "df = df.sort_values(\"aa_count\", ascending=False)"
      ]
    },
    {
      "cell_type": "code",
      "execution_count": null,
      "id": "f9c49009-6a85-4989-850d-f25591b3b4a4",
      "metadata": {
        "id": "f9c49009-6a85-4989-850d-f25591b3b4a4"
      },
      "outputs": [],
      "source": [
        "fig, ax = plt.subplots(figsize=(3.5, 10))\n",
        "fontsize = 16\n",
        "\n",
        "ax.barh(df[\"aa\"].values, df[\"aa_count\"].values)\n",
        "\n",
        "ax.set_xlabel(\"Counts in PalmDB\", fontsize=fontsize)\n",
        "\n",
        "ax.tick_params(axis=\"both\", labelsize=fontsize)\n",
        "\n",
        "ax.grid(True, which=\"both\", color=\"lightgray\", ls=\"--\", lw=1)\n",
        "ax.set_axisbelow(True)\n",
        "ax.yaxis.grid(False)\n",
        "ax.spines[['right', 'top']].set_visible(False)\n",
        "ax.margins(y=0.01)\n",
        "\n",
        "ax.set_xlim(right=4*10**6)\n",
        "plt.gca().invert_yaxis()\n",
        "\n",
        "# plt.tight_layout()\n",
        "plt.savefig(f\"figures/palmdb_char_counts.png\", dpi=300, bbox_inches=\"tight\")\n",
        "\n",
        "fig.show()"
      ]
    },
    {
      "cell_type": "markdown",
      "id": "94e78590-dc20-4842-801b-9ec4b4a3a480",
      "metadata": {
        "id": "94e78590-dc20-4842-801b-9ec4b4a3a480"
      },
      "source": [
        "### Plot Hamming distance between amino acids after reverse translation into comma free code:"
      ]
    },
    {
      "cell_type": "code",
      "execution_count": null,
      "id": "5bf46cd1-923a-4898-bdfe-f8cbe4bbb314",
      "metadata": {
        "id": "5bf46cd1-923a-4898-bdfe-f8cbe4bbb314"
      },
      "outputs": [],
      "source": [
        "# comma-free code AA dictionary\n",
        "cfcode = {\n",
        "    \"F\": \"ACC\",\n",
        "    \"L\": \"ACA\",\n",
        "    \"I\": \"ATA\",\n",
        "    \"M\": \"ATC\",\n",
        "    \"V\": \"ATT\",\n",
        "    \"S\": \"CTA\",\n",
        "    \"P\": \"CTC\",\n",
        "    \"T\": \"CTT\",\n",
        "    \"A\": \"AGA\",\n",
        "    \"Y\": \"AGC\",\n",
        "    \"H\": \"AGT\",\n",
        "    \"Q\": \"AGG\",\n",
        "    \"N\": \"CGA\",\n",
        "    \"K\": \"CGC\",\n",
        "    \"D\": \"CGT\",\n",
        "    \"E\": \"CGG\",\n",
        "    \"C\": \"TGA\",\n",
        "    \"W\": \"TGC\",\n",
        "    \"R\": \"TGT\",\n",
        "    \"G\": \"TGG\",\n",
        "    \"X\": \"NNN\",  # Amino acid not known\n",
        "    \"B\": \"CGT\",  # Represents either N or D - will translate as D here (N is only off by one base)\n",
        "    \"J\": \"ACA\",  # Represents either L or I - will translate as L here (I is only off by one base)\n",
        "    \"Z\": \"CGG\"   # Represents either E or Q - will translate as E here (Q is only off by one base)\n",
        "}"
      ]
    },
    {
      "cell_type": "markdown",
      "source": [
        "Plot Hamming distances between amino acids:"
      ],
      "metadata": {
        "id": "7C9EjsGu8mYc"
      },
      "id": "7C9EjsGu8mYc"
    },
    {
      "cell_type": "code",
      "execution_count": null,
      "id": "fc2a9a3d-fb89-4788-bb98-3bb22a253884",
      "metadata": {
        "id": "fc2a9a3d-fb89-4788-bb98-3bb22a253884"
      },
      "outputs": [],
      "source": [
        "# Get distances between amino acids\n",
        "n = len(df[\"aa\"].values)\n",
        "hamming_mtx = np.zeros((n,n))\n",
        "\n",
        "for x_idx, aa1 in enumerate(df[\"aa\"].values):\n",
        "    for y_idx, aa2 in enumerate(df[\"aa\"].values):\n",
        "        hamming_mtx[x_idx, y_idx] = hamming(list(cfcode[aa1]), list(cfcode[aa2])) * 3"
      ]
    },
    {
      "cell_type": "code",
      "execution_count": null,
      "id": "e8c71d9c-4b05-476b-8302-b86abf38cc52",
      "metadata": {
        "id": "e8c71d9c-4b05-476b-8302-b86abf38cc52"
      },
      "outputs": [],
      "source": [
        "fig, ax = plt.subplots(figsize=(12.2, 10))\n",
        "fontsize = 16\n",
        "\n",
        "mask = np.tri(hamming_mtx.shape[0], k=-1)\n",
        "data = np.ma.array(hamming_mtx, mask=mask)\n",
        "\n",
        "cmap_reversed = matplotlib.cm.get_cmap(\"Reds_r\")\n",
        "im = ax.imshow(data.T[:-4, :-4], cmap=cmap_reversed)\n",
        "cbar = fig.colorbar(im, ax=ax, ticks=[0, 1, 2 ,3])\n",
        "cbar.set_label(\"Hamming distance\", fontsize=fontsize)\n",
        "cbar.ax.tick_params(labelsize=fontsize)\n",
        "\n",
        "ax.spines[['right', 'top']].set_visible(False)\n",
        "\n",
        "ax.set_xticks(np.arange(len(df[\"aa\"].values)-4))\n",
        "ax.set_yticks(np.arange(len(df[\"aa\"].values)-4))\n",
        "ax.set_xticklabels(df[\"aa\"].values[:-4])\n",
        "ax.set_yticklabels(df[\"aa\"].values[:-4])\n",
        "\n",
        "ax.set_ylabel(\"Amino acid\", fontsize=fontsize)\n",
        "ax.set_xlabel(\"Amino acid\", fontsize=fontsize)\n",
        "\n",
        "ax.tick_params(axis=\"both\", labelsize=fontsize)\n",
        "\n",
        "plt.savefig(\"cfc_hamming_dists.png\", dpi=300, bbox_inches=\"tight\", transparent=True)\n",
        "\n",
        "fig.show()"
      ]
    },
    {
      "cell_type": "markdown",
      "id": "b5f1fbe2-41c8-4c43-bfea-07529846be52",
      "metadata": {
        "id": "b5f1fbe2-41c8-4c43-bfea-07529846be52"
      },
      "source": [
        "### Generate a new code where amino acids that occur more often have a larger Hamming distance ('max ham code'):"
      ]
    },
    {
      "cell_type": "code",
      "execution_count": null,
      "id": "43d5d1c0-465d-471c-b7bf-8e51cae68b5e",
      "metadata": {
        "id": "43d5d1c0-465d-471c-b7bf-8e51cae68b5e"
      },
      "outputs": [],
      "source": [
        "max_ham_code = {\n",
        "    'L': \"GGG\",\n",
        "    'S': \"TTC\",\n",
        "    'D': \"CTA\",\n",
        "    'G': \"GCT\",\n",
        "    'A': \"TCG\",\n",
        "    'V': \"AGC\",\n",
        "    'I': \"GTG\",\n",
        "    'T': \"GAC\",\n",
        "    'F': \"TAG\",\n",
        "    'R': \"ATG\",\n",
        "    'E': \"CGA\",\n",
        "    'N': \"GTA\",\n",
        "    'Y': \"TAC\",\n",
        "    'K': \"CAT\",\n",
        "    'M': \"CAG\",\n",
        "    'P': \"AGT\",\n",
        "    'Q': \"TGA\",\n",
        "    'C': \"CGT\",\n",
        "    'H': \"GCA\",\n",
        "    'W': \"ACT\",\n",
        "    \"X\": \"NNN\",  # Amino acid not known\n",
        "    \"B\": \"CTA\",  # Represents either N or D - will translate as D here (N is only off by one base)\n",
        "    \"J\": \"GGG\",  # Represents either L or I - will translate as L here (I is only off by one base)\n",
        "    \"Z\": \"CGA\"   # Represents either E or Q - will translate as E here (Q is only off by one base)\n",
        "}"
      ]
    },
    {
      "cell_type": "code",
      "execution_count": null,
      "id": "05723611-054d-4f4c-9344-722d6540e01a",
      "metadata": {
        "id": "05723611-054d-4f4c-9344-722d6540e01a"
      },
      "outputs": [],
      "source": [
        "n = len(df[\"aa\"].values)\n",
        "hamming_mtx = np.zeros((n,n))\n",
        "\n",
        "for x_idx, aa1 in enumerate(df[\"aa\"].values):\n",
        "    for y_idx, aa2 in enumerate(df[\"aa\"].values):\n",
        "        hamming_mtx[x_idx, y_idx] = hamming(list(max_ham_code[aa1]), list(max_ham_code[aa2])) * 3"
      ]
    },
    {
      "cell_type": "code",
      "execution_count": null,
      "id": "fe7b4fe0-9d85-4d2c-a704-72764a41862a",
      "metadata": {
        "id": "fe7b4fe0-9d85-4d2c-a704-72764a41862a"
      },
      "outputs": [],
      "source": [
        "fig, ax = plt.subplots(figsize=(12.2, 10))\n",
        "fontsize = 16\n",
        "\n",
        "mask = np.tri(hamming_mtx.shape[0], k=-1)\n",
        "data = np.ma.array(hamming_mtx, mask=mask)\n",
        "\n",
        "cmap_reversed = matplotlib.cm.get_cmap(\"Reds_r\")\n",
        "im = ax.imshow(data.T[:-4, :-4], cmap=cmap_reversed)\n",
        "cbar = fig.colorbar(im, ax=ax, ticks=[0, 1, 2 ,3])\n",
        "cbar.set_label(\"Hamming distance\", fontsize=fontsize)\n",
        "cbar.ax.tick_params(labelsize=fontsize)\n",
        "\n",
        "ax.spines[[\"right\", \"top\"]].set_visible(False)\n",
        "\n",
        "ax.set_xticks(np.arange(len(df[\"aa\"].values)-4))\n",
        "ax.set_yticks(np.arange(len(df[\"aa\"].values)-4))\n",
        "ax.set_xticklabels(df[\"aa\"].values[:-4])\n",
        "ax.set_yticklabels(df[\"aa\"].values[:-4])\n",
        "\n",
        "ax.tick_params(axis=\"both\", labelsize=fontsize)\n",
        "\n",
        "ax.set_ylabel(\"Amino acid\", fontsize=fontsize)\n",
        "ax.set_xlabel(\"Amino acid\", fontsize=fontsize)\n",
        "\n",
        "plt.savefig(\"max_ham_code_hamming_dists.png\", dpi=300, bbox_inches=\"tight\", transparent=True)\n",
        "\n",
        "fig.show()"
      ]
    },
    {
      "cell_type": "code",
      "execution_count": null,
      "id": "67dc3391-3416-42de-9ff6-d792ceeead2d",
      "metadata": {
        "id": "67dc3391-3416-42de-9ff6-d792ceeead2d"
      },
      "outputs": [],
      "source": []
    }
  ],
  "metadata": {
    "kernelspec": {
      "display_name": "Python 3 (ipykernel)",
      "language": "python",
      "name": "python3"
    },
    "language_info": {
      "codemirror_mode": {
        "name": "ipython",
        "version": 3
      },
      "file_extension": ".py",
      "mimetype": "text/x-python",
      "name": "python",
      "nbconvert_exporter": "python",
      "pygments_lexer": "ipython3",
      "version": "3.9.12"
    },
    "colab": {
      "provenance": [],
      "include_colab_link": true
    }
  },
  "nbformat": 4,
  "nbformat_minor": 5
}