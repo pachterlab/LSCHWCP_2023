{
  "cells": [
    {
      "cell_type": "markdown",
      "metadata": {
        "id": "view-in-github",
        "colab_type": "text"
      },
      "source": [
        "<a href=\"https://colab.research.google.com/github/pachterlab/LSCHWCP_2023/blob/main/Notebooks/Supp_Fig_10/Supp_Fig_10e/3_visualize_clustering_taxonomy_heatmap.ipynb\" target=\"_parent\"><img src=\"https://colab.research.google.com/assets/colab-badge.svg\" alt=\"Open In Colab\"/></a>"
      ]
    },
    {
      "cell_type": "markdown",
      "source": [
        "# Visualize which taxonomies clustered together\n",
        "If the clustering was done correctly, we expect that sequences with similar taxonomies based on the virus ID to sOTU mapping were clustered together, since those sequences should be more similar to each other."
      ],
      "metadata": {
        "id": "bM1E0szVVSPC"
      },
      "id": "bM1E0szVVSPC"
    },
    {
      "cell_type": "code",
      "execution_count": null,
      "id": "431eabaf-05a2-497e-9daa-825cf525aac1",
      "metadata": {
        "id": "431eabaf-05a2-497e-9daa-825cf525aac1"
      },
      "outputs": [],
      "source": [
        "import pandas as pd\n",
        "import numpy as np\n",
        "from matplotlib import pyplot as plt\n",
        "%config InlineBackend.figure_format='retina'"
      ]
    },
    {
      "cell_type": "markdown",
      "source": [
        "Download PalmDB RdRP sequences reverse translated to nucleotides as shown in [this notebook](https://github.com/pachterlab/LSCHWCP_2023/blob/main/Notebooks/Figure_3/Figure_3b/validate_palmdb2palmdb.ipynb):"
      ],
      "metadata": {
        "id": "vR-oyZ5dU_zB"
      },
      "id": "vR-oyZ5dU_zB"
    },
    {
      "cell_type": "code",
      "execution_count": null,
      "id": "7173e4ea-f2d2-413a-aa7f-1856bba0a890",
      "metadata": {
        "id": "7173e4ea-f2d2-413a-aa7f-1856bba0a890"
      },
      "outputs": [],
      "source": [
        "!wget https://github.com/pachterlab/LSCHWCP_2023/raw/main/Notebooks/Figure_3/Figure_3b/palmdb_rdrp_seqs_nucleotides.fasta.zip\n",
        "!unzip palmdb_rdrp_seqs_nucleotides.fasta.zip\n",
        "palmdb_nn_fasta = \"palmdb_rdrp_seqs_nucleotides.fasta\""
      ]
    },
    {
      "cell_type": "markdown",
      "source": [
        "Download the original virus ID t0 sOTU mapping as provided by Edgar et al.\n",
        "The file was originally downloaded from here: https://github.com/rcedgar/palmdb/blob/main/2021-03-14/u_tax.tsv"
      ],
      "metadata": {
        "id": "4cl2XHoQVOfS"
      },
      "id": "4cl2XHoQVOfS"
    },
    {
      "cell_type": "code",
      "source": [
        "!wget https://raw.githubusercontent.com/pachterlab/LSCHWCP_2023/main/Notebooks/create_optimized_palmdb/u_tax.tsv"
      ],
      "metadata": {
        "id": "8CkrvfBxU7dF"
      },
      "id": "8CkrvfBxU7dF",
      "execution_count": null,
      "outputs": []
    },
    {
      "cell_type": "markdown",
      "id": "34d4c231-a48b-46e0-a3ea-367c40f2db53",
      "metadata": {
        "id": "34d4c231-a48b-46e0-a3ea-367c40f2db53"
      },
      "source": [
        "### Load original taxonomies (pre-clustering):"
      ]
    },
    {
      "cell_type": "code",
      "execution_count": null,
      "id": "b28d06c3-0d22-44df-806f-90aa8b222396",
      "metadata": {
        "id": "b28d06c3-0d22-44df-806f-90aa8b222396"
      },
      "outputs": [],
      "source": [
        "# Load original taxonomies\n",
        "df_tax = pd.read_csv(\"u_tax.tsv\", sep=\"\\t\")\n",
        "df_tax = df_tax.set_index(\"Label\")\n",
        "\n",
        "df_tax"
      ]
    },
    {
      "cell_type": "markdown",
      "id": "34f226b9-6d2e-4770-879e-6de7d0df1d59",
      "metadata": {
        "id": "34f226b9-6d2e-4770-879e-6de7d0df1d59"
      },
      "source": [
        "### Load cluster members returned by mmseqs2:"
      ]
    },
    {
      "cell_type": "code",
      "execution_count": null,
      "id": "63323485-343c-4506-979b-23a97dc9ef65",
      "metadata": {
        "id": "63323485-343c-4506-979b-23a97dc9ef65"
      },
      "outputs": [],
      "source": [
        "df_clu_1 = pd.read_csv(palmdb_clu_tsv_1, sep=\"\\t\", header=None)\n",
        "# Rename columns\n",
        "df_clu_1.columns = [\"representative\", \"member\"]"
      ]
    },
    {
      "cell_type": "code",
      "execution_count": null,
      "id": "92dbcb25-1871-45b0-bc87-aa5b9fa0e45c",
      "metadata": {
        "id": "92dbcb25-1871-45b0-bc87-aa5b9fa0e45c"
      },
      "outputs": [],
      "source": [
        "codes, uniques = df_clu_1[\"representative\"].factorize()\n",
        "df_clu_1[\"cluster\"] = codes\n",
        "df_clu_1"
      ]
    },
    {
      "cell_type": "markdown",
      "id": "e9b1883e-d186-4c3e-93c9-4d803a52f9c4",
      "metadata": {
        "id": "e9b1883e-d186-4c3e-93c9-4d803a52f9c4"
      },
      "source": [
        "___"
      ]
    },
    {
      "cell_type": "markdown",
      "id": "58cb7b2d-ef10-4aea-b423-b2a87133896d",
      "metadata": {
        "id": "58cb7b2d-ef10-4aea-b423-b2a87133896d"
      },
      "source": [
        "### Build data frame with clustered virus IDs and their taxonomies"
      ]
    },
    {
      "cell_type": "code",
      "execution_count": null,
      "id": "9b890395-20e9-4eba-a529-51eb6a9313da",
      "metadata": {
        "id": "9b890395-20e9-4eba-a529-51eb6a9313da"
      },
      "outputs": [],
      "source": [
        "# Change order of IDs so IDs that are clustered together appear in succession\n",
        "df_tax_pivoted = df_tax_pivoted.reindex(df_clu_1[\"member\"].values)"
      ]
    },
    {
      "cell_type": "code",
      "execution_count": null,
      "id": "f245b440-6e95-40b2-ac16-80af0c8d2138",
      "metadata": {
        "id": "f245b440-6e95-40b2-ac16-80af0c8d2138"
      },
      "outputs": [],
      "source": [
        "df_tax_pivoted = df_tax_pivoted.reset_index()\n",
        "\n",
        "df_tax_pivoted = df_tax_pivoted.merge(\n",
        "    df_clu_1,\n",
        "    left_on = \"Label\",\n",
        "    right_on = \"member\",\n",
        "    how = \"outer\"\n",
        ")\n",
        "\n",
        "df_tax_pivoted = df_tax_pivoted.drop([\"representative\", \"member\"], axis=1)\n",
        "df_tax_pivoted"
      ]
    },
    {
      "cell_type": "code",
      "execution_count": null,
      "id": "7f402187-0af8-433e-b402-fccc14144856",
      "metadata": {
        "id": "7f402187-0af8-433e-b402-fccc14144856"
      },
      "outputs": [],
      "source": [
        "df_tax_pivoted = df_tax_pivoted.set_index([\"cluster\", \"Label\"])\n",
        "df_tax_pivoted"
      ]
    },
    {
      "cell_type": "code",
      "execution_count": null,
      "id": "a40e97f7-3b7b-4af9-bb7c-e86f4114fc12",
      "metadata": {
        "id": "a40e97f7-3b7b-4af9-bb7c-e86f4114fc12"
      },
      "outputs": [],
      "source": [
        "df_tax_pivoted = df_tax_pivoted.sort_values(list(df_tax_pivoted.columns.values), ascending=False)"
      ]
    },
    {
      "cell_type": "code",
      "execution_count": null,
      "id": "1060d999-33b8-4668-9158-2e01139d8e62",
      "metadata": {
        "id": "1060d999-33b8-4668-9158-2e01139d8e62"
      },
      "outputs": [],
      "source": [
        "df_tax_pivoted = df_tax_pivoted.drop([\".\"], axis=1)\n",
        "df_tax_pivoted = df_tax_pivoted.loc[~(df_tax_pivoted==0).all(axis=1)]"
      ]
    },
    {
      "cell_type": "code",
      "source": [
        "df_tax_pivoted"
      ],
      "metadata": {
        "id": "3z3aYNo8VkiF"
      },
      "id": "3z3aYNo8VkiF",
      "execution_count": null,
      "outputs": []
    },
    {
      "cell_type": "markdown",
      "id": "7d322a79-5e55-4cc4-825a-c12e95fe20fb",
      "metadata": {
        "id": "7d322a79-5e55-4cc4-825a-c12e95fe20fb"
      },
      "source": [
        "___"
      ]
    },
    {
      "cell_type": "markdown",
      "id": "53b48921-b767-482f-995b-7347abd07f22",
      "metadata": {
        "id": "53b48921-b767-482f-995b-7347abd07f22"
      },
      "source": [
        "### Generate heatmaps for each taxonomy level:"
      ]
    },
    {
      "cell_type": "code",
      "execution_count": null,
      "id": "009738b0-fa4d-4d8e-85d0-8adb838f595d",
      "metadata": {
        "id": "009738b0-fa4d-4d8e-85d0-8adb838f595d"
      },
      "outputs": [],
      "source": [
        "%%time\n",
        "fontsize = 12\n",
        "\n",
        "for i, group_by in enumerate(df_tax.columns.values):\n",
        "    # Create a copy of df_tax keeping only the index\n",
        "    df_tax_pivoted = pd.DataFrame(df_tax.reset_index()[\"Label\"])\n",
        "    df_tax_pivoted = df_tax_pivoted.set_index(\"Label\")\n",
        "\n",
        "    # Convert to boolean dataframe by grouping\n",
        "    for group in np.unique(df_tax[f\"{group_by}\"].values):\n",
        "        df_tax_pivoted[group] = pd.DataFrame(df_tax[f\"{group_by}\"] == group)[f\"{group_by}\"].values.astype(int)\n",
        "\n",
        "    # Change order of IDs so IDs that are clustered together appear in succession\n",
        "    df_tax_pivoted = df_tax_pivoted.reindex(df_clu_1[\"member\"].values)\n",
        "\n",
        "    # Add cluster labels\n",
        "    df_tax_pivoted = df_tax_pivoted.reset_index()\n",
        "    df_tax_pivoted = df_tax_pivoted.merge(\n",
        "        df_clu_1,\n",
        "        left_on = \"Label\",\n",
        "        right_on = \"member\",\n",
        "        how = \"outer\"\n",
        "    )\n",
        "    df_tax_pivoted = df_tax_pivoted.drop([\"representative\", \"member\"], axis=1)\n",
        "    df_tax_pivoted = df_tax_pivoted.set_index([\"cluster\", \"Label\"])\n",
        "\n",
        "    # Sort values\n",
        "    df_tax_pivoted = df_tax_pivoted.sort_values(list(df_tax_pivoted.columns.values), ascending=False)\n",
        "\n",
        "    # Drop \".\" and sequences that have no annotation after dropping \".\"\n",
        "    df_tax_pivoted = df_tax_pivoted.drop([\".\"], axis=1)\n",
        "    df_tax_pivoted = df_tax_pivoted.loc[~(df_tax_pivoted==0).all(axis=1)]\n",
        "\n",
        "    print(f\"Plotting {group_by}...\")\n",
        "\n",
        "    # Plot and save heatmap\n",
        "    fig, ax = plt.subplots(figsize = (10, 9))\n",
        "\n",
        "    # clusters = df_tax_pivoted.index.get_level_values(0).values\n",
        "    # cluster_colors = [plt.cm.Spectral(color_idx) for color_idx in clusters]\n",
        "\n",
        "    # x = [\"∎\"] * len(df_tax_pivoted)\n",
        "    y = df_tax_pivoted.columns\n",
        "    values = df_tax_pivoted.values.T\n",
        "\n",
        "    im = ax.imshow(values, cmap=\"inferno\", vmin=0, vmax=1, aspect=\"auto\")\n",
        "\n",
        "    # Add tick labels\n",
        "    if group_by != \"genus\" and group_by != \"species\":\n",
        "        ax.set_yticks(np.arange(len(y)), labels=y)\n",
        "    # ax.set_xticks(np.arange(len(x)), labels=x)\n",
        "    # for xtick, color in zip(ax.get_xticklabels(), cluster_colors):\n",
        "    #     xtick.set_color(color)\n",
        "\n",
        "    # # Add lines to delienate clusters\n",
        "    # for i, cluster_end in enumerate(df_tax_pivoted.reset_index().groupby(\"cluster\", sort=False).count()[\"Label\"].values):\n",
        "    #     if i == 0:\n",
        "    #         counter = cluster_end\n",
        "    #         ax.axvline(counter, color=\"white\", lw=0.1)\n",
        "    #     else:\n",
        "    #         counter += cluster_end\n",
        "    #         ax.axvline(counter, color=\"white\", lw=0.1)\n",
        "\n",
        "    ax.set_xlabel(\"RdRP sequence\", fontsize=fontsize)\n",
        "    ax.set_title(f\"Clustered sequences by virus {group_by}\", fontsize=fontsize+2)\n",
        "\n",
        "    plt.savefig(f\"{group_by}_seqclusters_heatmaps.png\", dpi=300, bbox_inches=\"tight\")\n",
        "\n",
        "    fig.tight_layout()\n",
        "    fig.show()"
      ]
    },
    {
      "cell_type": "markdown",
      "id": "fb5e5166-6571-4f07-abf5-8b6da30ff69c",
      "metadata": {
        "id": "fb5e5166-6571-4f07-abf5-8b6da30ff69c"
      },
      "source": [
        "___"
      ]
    },
    {
      "cell_type": "code",
      "execution_count": null,
      "id": "1b31f9a3-61e3-4c57-9c3a-fc42eab40bea",
      "metadata": {
        "id": "1b31f9a3-61e3-4c57-9c3a-fc42eab40bea"
      },
      "outputs": [],
      "source": []
    }
  ],
  "metadata": {
    "kernelspec": {
      "display_name": "Python 3 (ipykernel)",
      "language": "python",
      "name": "python3"
    },
    "language_info": {
      "codemirror_mode": {
        "name": "ipython",
        "version": 3
      },
      "file_extension": ".py",
      "mimetype": "text/x-python",
      "name": "python",
      "nbconvert_exporter": "python",
      "pygments_lexer": "ipython3",
      "version": "3.9.12"
    },
    "colab": {
      "provenance": [],
      "include_colab_link": true
    }
  },
  "nbformat": 4,
  "nbformat_minor": 5
}