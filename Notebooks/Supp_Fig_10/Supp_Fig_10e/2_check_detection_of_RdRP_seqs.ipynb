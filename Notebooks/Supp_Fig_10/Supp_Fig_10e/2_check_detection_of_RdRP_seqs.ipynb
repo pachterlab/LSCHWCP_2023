{
  "cells": [
    {
      "cell_type": "markdown",
      "metadata": {
        "id": "view-in-github",
        "colab_type": "text"
      },
      "source": [
        "<a href=\"https://colab.research.google.com/github/pachterlab/LSCHWCP_2023/blob/main/Notebooks/Supp_Fig_10/Supp_Fig_10e/2_check_detection_of_RdRP_seqs.ipynb\" target=\"_parent\"><img src=\"https://colab.research.google.com/assets/colab-badge.svg\" alt=\"Open In Colab\"/></a>"
      ]
    },
    {
      "cell_type": "markdown",
      "id": "08091169-961e-45ee-98c4-952609e33e19",
      "metadata": {
        "id": "08091169-961e-45ee-98c4-952609e33e19"
      },
      "source": [
        "# Check if all original PalmDB RdRP sequences can be detected when using the sequences clustered with MMseqs2 as reference index"
      ]
    },
    {
      "cell_type": "code",
      "execution_count": null,
      "id": "f3f4fd16-6b8f-4f85-9dc4-15f59d2ad4e0",
      "metadata": {
        "id": "f3f4fd16-6b8f-4f85-9dc4-15f59d2ad4e0"
      },
      "outputs": [],
      "source": [
        "!pip install -q biopython kb_python\n",
        "import pandas as pd\n",
        "from Bio import SeqIO\n",
        "import kb_python.utils as kb_utils"
      ]
    },
    {
      "cell_type": "code",
      "source": [
        "# Install kallisto from source\n",
        "!git clone -q https://github.com/pachterlab/kallisto.git\n",
        "!cd kallisto && mkdir build && cd build && cmake .. && make\n",
        "\n",
        "# Install bustools from source\n",
        "!git clone -q https://github.com/BUStools/bustools.git\n",
        "!cd bustools && mkdir build && cd build && cmake .. && make\n",
        "\n",
        "# Define paths to kallisto and bustools binaries\n",
        "kallisto = \"/content/kallisto/build/src/kallisto\"\n",
        "bustools = \"/content/bustools/build/src/bustools\""
      ],
      "metadata": {
        "id": "pceNfa1URNi-"
      },
      "id": "pceNfa1URNi-",
      "execution_count": null,
      "outputs": []
    },
    {
      "cell_type": "markdown",
      "source": [
        "Download the original PalmDB file containing amino acid RdRP sequences as provided by Edgar et al. The file was originally downloaded from here: https://github.com/rcedgar/palmdb/blob/main/2021-03-14/uniques.fa.gz"
      ],
      "metadata": {
        "id": "H3YPTFHOR2yr"
      },
      "id": "H3YPTFHOR2yr"
    },
    {
      "cell_type": "code",
      "source": [
        "!wget https://github.com/pachterlab/LSCHWCP_2023/blob/main/Notebooks/create_optimized_palmdb/uniques.fa\n",
        "palmdb = \"uniques.fa\""
      ],
      "metadata": {
        "id": "lcyFwp_OR23E"
      },
      "id": "lcyFwp_OR23E",
      "execution_count": null,
      "outputs": []
    },
    {
      "cell_type": "markdown",
      "source": [
        "Download PalmDB RdRP sequences reverse translated to nucleotides as shown in [this notebook](https://github.com/pachterlab/LSCHWCP_2023/blob/main/Notebooks/Figure_3/Figure_3b/validate_palmdb2palmdb.ipynb):"
      ],
      "metadata": {
        "id": "fGzkZxOxSC75"
      },
      "id": "fGzkZxOxSC75"
    },
    {
      "cell_type": "code",
      "source": [
        "!wget https://github.com/pachterlab/LSCHWCP_2023/raw/main/Notebooks/Figure_3/Figure_3b/palmdb_rdrp_seqs_nucleotides.fasta.zip\n",
        "!unzip palmdb_rdrp_seqs_nucleotides.fasta.zip\n",
        "palmdb_nn_fasta = \"palmdb_rdrp_seqs_nucleotides.fasta\""
      ],
      "metadata": {
        "id": "P6a0tyfBSDC6"
      },
      "id": "P6a0tyfBSDC6",
      "execution_count": null,
      "outputs": []
    },
    {
      "cell_type": "markdown",
      "source": [
        "Download file created in [the previous MMseqs2 notebook](https://github.com/pachterlab/LSCHWCP_2023/blob/main/Notebooks/Supp_Fig_10/Supp_Fig_10e/1_cluster_palmdb_seqs.ipynb):"
      ],
      "metadata": {
        "id": "KAbw37TuRWoH"
      },
      "id": "KAbw37TuRWoH"
    },
    {
      "cell_type": "code",
      "source": [
        "# Virus IDs representing the clustered sequences\n",
        "!wget https://raw.githubusercontent.com/pachterlab/LSCHWCP_2023/main/Notebooks/Supp_Fig_10/Supp_Fig_10e/palmdb_DB_clu.tsv\n",
        "rep_ids = \"palmdb_DB_clu.tsv\""
      ],
      "metadata": {
        "id": "ryJDybUURWHm"
      },
      "id": "ryJDybUURWHm",
      "execution_count": null,
      "outputs": []
    },
    {
      "cell_type": "code",
      "execution_count": null,
      "id": "e880b2c2-0546-4815-a70c-c6f0c5190e82",
      "metadata": {
        "id": "e880b2c2-0546-4815-a70c-c6f0c5190e82"
      },
      "outputs": [],
      "source": [
        "# Files generated in this notebook\n",
        "palmdb_mmseqs_nn = \"uniques_mmseqs_nn.fasta\"\n",
        "virus_t2g = \"cfc_PalmDBclu_t2g.txt\"\n",
        "\n",
        "virus_index = \"virus_index.idx\"\n",
        "out_folder = \"testing\"\n",
        "sample = \"palmdb_vs_palmdb\""
      ]
    },
    {
      "cell_type": "markdown",
      "id": "d52f1252-f3e5-44b3-bb25-3bd1dc6f9fe8",
      "metadata": {
        "id": "d52f1252-f3e5-44b3-bb25-3bd1dc6f9fe8"
      },
      "source": [
        "___"
      ]
    },
    {
      "cell_type": "markdown",
      "id": "b47d031a-3715-4e38-8156-e64db1cd8132",
      "metadata": {
        "id": "b47d031a-3715-4e38-8156-e64db1cd8132"
      },
      "source": [
        "### Create fasta file containing amino acid sequences from representative sequence IDs obtained by MMseqs2 clustering in the comma-free space:"
      ]
    },
    {
      "cell_type": "code",
      "execution_count": null,
      "id": "f4d86744-47c7-43f4-aad2-fb53c0c03d9b",
      "metadata": {
        "id": "f4d86744-47c7-43f4-aad2-fb53c0c03d9b",
        "outputId": "bf82fbf8-e794-4626-db22-dd4e94f882f6"
      },
      "outputs": [
        {
          "data": {
            "text/html": [
              "<div>\n",
              "<style scoped>\n",
              "    .dataframe tbody tr th:only-of-type {\n",
              "        vertical-align: middle;\n",
              "    }\n",
              "\n",
              "    .dataframe tbody tr th {\n",
              "        vertical-align: top;\n",
              "    }\n",
              "\n",
              "    .dataframe thead th {\n",
              "        text-align: right;\n",
              "    }\n",
              "</style>\n",
              "<table border=\"1\" class=\"dataframe\">\n",
              "  <thead>\n",
              "    <tr style=\"text-align: right;\">\n",
              "      <th></th>\n",
              "      <th>0</th>\n",
              "      <th>1</th>\n",
              "    </tr>\n",
              "  </thead>\n",
              "  <tbody>\n",
              "    <tr>\n",
              "      <th>0</th>\n",
              "      <td>u114232</td>\n",
              "      <td>u114232</td>\n",
              "    </tr>\n",
              "    <tr>\n",
              "      <th>1</th>\n",
              "      <td>u114328</td>\n",
              "      <td>u114328</td>\n",
              "    </tr>\n",
              "    <tr>\n",
              "      <th>2</th>\n",
              "      <td>u114328</td>\n",
              "      <td>u246949</td>\n",
              "    </tr>\n",
              "    <tr>\n",
              "      <th>3</th>\n",
              "      <td>u114328</td>\n",
              "      <td>u33194</td>\n",
              "    </tr>\n",
              "    <tr>\n",
              "      <th>4</th>\n",
              "      <td>u114328</td>\n",
              "      <td>u289771</td>\n",
              "    </tr>\n",
              "    <tr>\n",
              "      <th>...</th>\n",
              "      <td>...</td>\n",
              "      <td>...</td>\n",
              "    </tr>\n",
              "    <tr>\n",
              "      <th>296618</th>\n",
              "      <td>u32986</td>\n",
              "      <td>u32986</td>\n",
              "    </tr>\n",
              "    <tr>\n",
              "      <th>296619</th>\n",
              "      <td>u33626</td>\n",
              "      <td>u33626</td>\n",
              "    </tr>\n",
              "    <tr>\n",
              "      <th>296620</th>\n",
              "      <td>u33690</td>\n",
              "      <td>u33690</td>\n",
              "    </tr>\n",
              "    <tr>\n",
              "      <th>296621</th>\n",
              "      <td>u33690</td>\n",
              "      <td>u32713</td>\n",
              "    </tr>\n",
              "    <tr>\n",
              "      <th>296622</th>\n",
              "      <td>u33690</td>\n",
              "      <td>u34127</td>\n",
              "    </tr>\n",
              "  </tbody>\n",
              "</table>\n",
              "<p>296623 rows × 2 columns</p>\n",
              "</div>"
            ],
            "text/plain": [
              "              0        1\n",
              "0       u114232  u114232\n",
              "1       u114328  u114328\n",
              "2       u114328  u246949\n",
              "3       u114328   u33194\n",
              "4       u114328  u289771\n",
              "...         ...      ...\n",
              "296618   u32986   u32986\n",
              "296619   u33626   u33626\n",
              "296620   u33690   u33690\n",
              "296621   u33690   u32713\n",
              "296622   u33690   u34127\n",
              "\n",
              "[296623 rows x 2 columns]"
            ]
          },
          "execution_count": 3,
          "metadata": {},
          "output_type": "execute_result"
        }
      ],
      "source": [
        "mmseqs_reps = pd.read_csv(rep_ids, sep=\"\\t\", header=None)\n",
        "mmseqs_reps"
      ]
    },
    {
      "cell_type": "code",
      "execution_count": null,
      "id": "b1e8a1b3-bee4-4758-afe7-dedf53e2754c",
      "metadata": {
        "id": "b1e8a1b3-bee4-4758-afe7-dedf53e2754c",
        "outputId": "c1f893e7-9852-4f93-f71d-9984d45bc6de"
      },
      "outputs": [
        {
          "name": "stdout",
          "output_type": "stream",
          "text": [
            "CPU times: user 1h 18s, sys: 7min 3s, total: 1h 7min 22s\n",
            "Wall time: 1h 7min 21s\n"
          ]
        }
      ],
      "source": [
        "%%time\n",
        "rep_seqs =  mmseqs_reps[0].unique()\n",
        "with open(palmdb_mmseqs_nn, \"w\") as palmdb_clu, open(virus_t2g, \"w\") as palmdb_t2g:\n",
        "    for record in SeqIO.parse(palmdb, \"fasta\"):\n",
        "        if record.id in rep_seqs:\n",
        "            palmdb_clu.write(\">\" + record.id + \"\\n\")\n",
        "            palmdb_clu.write(str(record.seq) + \"\\n\")\n",
        "\n",
        "            palmdb_t2g.write(record.id + \"\\t\" + record.id + \"\\n\")"
      ]
    },
    {
      "cell_type": "markdown",
      "id": "fe17b6a6-8512-4ebb-b606-c733aedd2966",
      "metadata": {
        "id": "fe17b6a6-8512-4ebb-b606-c733aedd2966"
      },
      "source": [
        "___"
      ]
    },
    {
      "cell_type": "markdown",
      "source": [
        "### Generate reference index using representative amino acid sequences"
      ],
      "metadata": {
        "id": "zmGmQaK1SxrN"
      },
      "id": "zmGmQaK1SxrN"
    },
    {
      "cell_type": "code",
      "source": [
        "threads = 2"
      ],
      "metadata": {
        "id": "Tb27Hl8wS1h4"
      },
      "id": "Tb27Hl8wS1h4",
      "execution_count": null,
      "outputs": []
    },
    {
      "cell_type": "code",
      "execution_count": null,
      "id": "6eadf00a-94d9-40d3-8d06-e08a561b57af",
      "metadata": {
        "id": "6eadf00a-94d9-40d3-8d06-e08a561b57af",
        "outputId": "3fc2f9c9-c888-4378-a616-6dae0ad27342"
      },
      "outputs": [
        {
          "name": "stdout",
          "output_type": "stream",
          "text": [
            "\n",
            "[build] loading fasta file /home/laura/projects/virus-watch-data/virus_ref/mmseqs_nn/uniques_mmseqs_nn.fasta\n",
            "[build] k-mer length: 31\n",
            "KmerStream::KmerStream(): Start computing k-mer cardinality estimations (1/2)\n",
            "KmerStream::KmerStream(): Start computing k-mer cardinality estimations (1/2)\n",
            "KmerStream::KmerStream(): Finished\n",
            "CompactedDBG::build(): Estimated number of k-mers occurring at least once: 4706171\n",
            "CompactedDBG::build(): Estimated number of minimizer occurring at least once: 1129096\n",
            "CompactedDBG::filter(): Processed 4963482 k-mers in 15251 reads\n",
            "CompactedDBG::filter(): Found 4694671 unique k-mers\n",
            "CompactedDBG::filter(): Number of blocks in Bloom filter is 32173\n",
            "CompactedDBG::construct(): Extract approximate unitigs (1/2)\n",
            "CompactedDBG::construct(): Extract approximate unitigs (2/2)\n",
            "CompactedDBG::construct(): Closed all input files\n",
            "\n",
            "CompactedDBG::construct(): Splitting unitigs (1/2)\n",
            "\n",
            "CompactedDBG::construct(): Splitting unitigs (2/2)\n",
            "CompactedDBG::construct(): Before split: 73941 unitigs\n",
            "CompactedDBG::construct(): After split (1/1): 73941 unitigs\n",
            "CompactedDBG::construct(): Unitigs split: 414\n",
            "CompactedDBG::construct(): Unitigs deleted: 0\n",
            "\n",
            "CompactedDBG::construct(): Joining unitigs\n",
            "CompactedDBG::construct(): After join: 71618 unitigs\n",
            "CompactedDBG::construct(): Joined 2362 unitigs\n",
            "[build] building MPHF\n",
            "[build] creating equivalence classes ... \n",
            "[build] target de Bruijn graph has k-mer length 31 and minimizer length 23\n",
            "[build] target de Bruijn graph has 71618 contigs and contains 4698795 k-mers \n",
            "\n",
            "\tCommand being timed: \"/home/laura/projects/kallisto-D/build/src/kallisto index -t 32 --aa -i /home/laura/projects/virus-watch-data/virus_ref/testing/index_mmseqs_nn.idx /home/laura/projects/virus-watch-data/virus_ref/mmseqs_nn/uniques_mmseqs_nn.fasta\"\n",
            "\tUser time (seconds): 18.51\n",
            "\tSystem time (seconds): 0.53\n",
            "\tPercent of CPU this job got: 408%\n",
            "\tElapsed (wall clock) time (h:mm:ss or m:ss): 0:04.66\n",
            "\tAverage shared text size (kbytes): 0\n",
            "\tAverage unshared data size (kbytes): 0\n",
            "\tAverage stack size (kbytes): 0\n",
            "\tAverage total size (kbytes): 0\n",
            "\tMaximum resident set size (kbytes): 117536\n",
            "\tAverage resident set size (kbytes): 0\n",
            "\tMajor (requiring I/O) page faults: 0\n",
            "\tMinor (reclaiming a frame) page faults: 39625\n",
            "\tVoluntary context switches: 3512\n",
            "\tInvoluntary context switches: 92\n",
            "\tSwaps: 0\n",
            "\tFile system inputs: 0\n",
            "\tFile system outputs: 34944\n",
            "\tSocket messages sent: 0\n",
            "\tSocket messages received: 0\n",
            "\tSignals delivered: 0\n",
            "\tPage size (bytes): 4096\n",
            "\tExit status: 0\n"
          ]
        }
      ],
      "source": [
        "# Generate virus reference index\n",
        "!$kallisto index \\\n",
        "    -t $threads \\\n",
        "    --aa \\\n",
        "    -i $virus_index \\\n",
        "    $palmdb_mmseqs_nn"
      ]
    },
    {
      "cell_type": "markdown",
      "id": "fa090816-6972-477e-9289-a809d6d4bc50",
      "metadata": {
        "id": "fa090816-6972-477e-9289-a809d6d4bc50"
      },
      "source": [
        "### Align the reverse translated RdRP sequences to the new index containing only representative sequences:"
      ]
    },
    {
      "cell_type": "code",
      "execution_count": null,
      "id": "9da725dd-d5c6-456a-be19-5f2223454a7e",
      "metadata": {
        "id": "9da725dd-d5c6-456a-be19-5f2223454a7e",
        "outputId": "8a3d0101-5209-41c1-a98d-3411d147f7a4"
      },
      "outputs": [
        {
          "name": "stdout",
          "output_type": "stream",
          "text": [
            " all fits in buffer\n",
            "Read in 73979 BUS records\n",
            "reading time 0s\n",
            "sorting time 0.01s\n",
            "writing time 0s\n"
          ]
        }
      ],
      "source": [
        "# Align\n",
        "!$kallisto bus \\\n",
        "        -i $virus_index \\\n",
        "        -o $out_folder/$sample \\\n",
        "        --aa \\\n",
        "        -t $threads \\\n",
        "        $palmdb_nn_fasta\n",
        "\n",
        "# Sort bus file\n",
        "!$bustools sort -o $out_folder/$sample/output_sorted.bus $out_folder/$sample/output.bus\n",
        "\n",
        "# Generate count matrix\n",
        "!$bustools count \\\n",
        "    --genecounts \\\n",
        "    --cm -m \\\n",
        "    -o $out_folder/$sample/bustools_count/ \\\n",
        "    -g $virus_t2g \\\n",
        "    -e $out_folder/$sample/matrix.ec \\\n",
        "    -t $out_folder/$sample/transcripts.txt \\\n",
        "    $out_folder/$sample/output_sorted.bus"
      ]
    },
    {
      "cell_type": "code",
      "execution_count": null,
      "id": "460aa9a1-097f-4d84-874a-c0eb4bc834ae",
      "metadata": {
        "id": "460aa9a1-097f-4d84-874a-c0eb4bc834ae",
        "outputId": "70823525-5ac7-4a41-973b-ffce56ba17ca"
      },
      "outputs": [
        {
          "name": "stderr",
          "output_type": "stream",
          "text": [
            "/home/laura/anaconda3/lib/python3.9/site-packages/kb_python/utils.py:652: FutureWarning: X.dtype being converted to np.float32 from float64. In the next version of anndata (0.9) conversion will not be automatic. Pass dtype explicitly to avoid this warning. Pass `AnnData(X, dtype=X.dtype, ...)` to get the future behavour.\n",
            "  anndata.AnnData(X=mtx.tocsr(), obs=df_barcodes, var=df_genes)\n"
          ]
        },
        {
          "data": {
            "text/plain": [
              "AnnData object with n_obs × n_vars = 1 × 15251"
            ]
          },
          "execution_count": 14,
          "metadata": {},
          "output_type": "execute_result"
        }
      ],
      "source": [
        "# Load count matrix\n",
        "# Filepath to counts\n",
        "X = f\"{out_folder}/{sample}/bustools_count/output.mtx\"\n",
        "# Filepath to barcode metadata\n",
        "var_path = f\"{out_folder}/{sample}/bustools_count/output.genes.txt\"\n",
        "# Filepath to gene metadata\n",
        "obs_path = f\"{out_folder}/{sample}/bustools_count/output.barcodes.txt\"\n",
        "\n",
        "# Create AnnData object\n",
        "adata = kb_utils.import_matrix_as_anndata(X, obs_path, var_path)\n",
        "adata"
      ]
    },
    {
      "cell_type": "code",
      "execution_count": null,
      "id": "696bc599-ab1c-43da-b5a7-5b54be2f0abe",
      "metadata": {
        "id": "696bc599-ab1c-43da-b5a7-5b54be2f0abe",
        "outputId": "89ba52bd-c9be-4fe4-b992-4caa13d0661e"
      },
      "outputs": [
        {
          "data": {
            "text/html": [
              "<div>\n",
              "<style scoped>\n",
              "    .dataframe tbody tr th:only-of-type {\n",
              "        vertical-align: middle;\n",
              "    }\n",
              "\n",
              "    .dataframe tbody tr th {\n",
              "        vertical-align: top;\n",
              "    }\n",
              "\n",
              "    .dataframe thead th {\n",
              "        text-align: right;\n",
              "    }\n",
              "</style>\n",
              "<table border=\"1\" class=\"dataframe\">\n",
              "  <thead>\n",
              "    <tr style=\"text-align: right;\">\n",
              "      <th></th>\n",
              "      <th>0</th>\n",
              "      <th>1</th>\n",
              "    </tr>\n",
              "  </thead>\n",
              "  <tbody>\n",
              "    <tr>\n",
              "      <th>0</th>\n",
              "      <td>u114232</td>\n",
              "      <td>u114232</td>\n",
              "    </tr>\n",
              "    <tr>\n",
              "      <th>1</th>\n",
              "      <td>u114328</td>\n",
              "      <td>u114328</td>\n",
              "    </tr>\n",
              "    <tr>\n",
              "      <th>2</th>\n",
              "      <td>u114328</td>\n",
              "      <td>u246949</td>\n",
              "    </tr>\n",
              "    <tr>\n",
              "      <th>3</th>\n",
              "      <td>u114328</td>\n",
              "      <td>u33194</td>\n",
              "    </tr>\n",
              "    <tr>\n",
              "      <th>4</th>\n",
              "      <td>u114328</td>\n",
              "      <td>u289771</td>\n",
              "    </tr>\n",
              "    <tr>\n",
              "      <th>...</th>\n",
              "      <td>...</td>\n",
              "      <td>...</td>\n",
              "    </tr>\n",
              "    <tr>\n",
              "      <th>296618</th>\n",
              "      <td>u32986</td>\n",
              "      <td>u32986</td>\n",
              "    </tr>\n",
              "    <tr>\n",
              "      <th>296619</th>\n",
              "      <td>u33626</td>\n",
              "      <td>u33626</td>\n",
              "    </tr>\n",
              "    <tr>\n",
              "      <th>296620</th>\n",
              "      <td>u33690</td>\n",
              "      <td>u33690</td>\n",
              "    </tr>\n",
              "    <tr>\n",
              "      <th>296621</th>\n",
              "      <td>u33690</td>\n",
              "      <td>u32713</td>\n",
              "    </tr>\n",
              "    <tr>\n",
              "      <th>296622</th>\n",
              "      <td>u33690</td>\n",
              "      <td>u34127</td>\n",
              "    </tr>\n",
              "  </tbody>\n",
              "</table>\n",
              "<p>296623 rows × 2 columns</p>\n",
              "</div>"
            ],
            "text/plain": [
              "              0        1\n",
              "0       u114232  u114232\n",
              "1       u114328  u114328\n",
              "2       u114328  u246949\n",
              "3       u114328   u33194\n",
              "4       u114328  u289771\n",
              "...         ...      ...\n",
              "296618   u32986   u32986\n",
              "296619   u33626   u33626\n",
              "296620   u33690   u33690\n",
              "296621   u33690   u32713\n",
              "296622   u33690   u34127\n",
              "\n",
              "[296623 rows x 2 columns]"
            ]
          },
          "execution_count": 15,
          "metadata": {},
          "output_type": "execute_result"
        }
      ],
      "source": [
        "# Load number of expected matches per representative sequence\n",
        "rep_id_df = pd.read_csv(rep_ids, sep=\"\\t\", header=None)\n",
        "rep_id_df"
      ]
    },
    {
      "cell_type": "code",
      "execution_count": null,
      "id": "8ac13837-764a-4b88-a796-d2671e4dfa95",
      "metadata": {
        "id": "8ac13837-764a-4b88-a796-d2671e4dfa95",
        "outputId": "4cacab33-f7cf-4e22-ed40-47e139f3829d"
      },
      "outputs": [
        {
          "name": "stdout",
          "output_type": "stream",
          "text": [
            "CPU times: user 3min 41s, sys: 47.7 ms, total: 3min 41s\n",
            "Wall time: 3min 41s\n"
          ]
        }
      ],
      "source": [
        "%%time\n",
        "# Get expected and observed counts for each virus ID\n",
        "counts = []\n",
        "expected_counts = []\n",
        "for virus_id in adata.var.index:\n",
        "    counts.append(adata[:, adata.var.index==virus_id].X.sum())\n",
        "    expected_counts.append(len(rep_id_df[rep_id_df[0]==virus_id]))"
      ]
    },
    {
      "cell_type": "markdown",
      "source": [
        "Plot expected over obeserved counts for each virus ID:"
      ],
      "metadata": {
        "id": "MwmqDXUOTid2"
      },
      "id": "MwmqDXUOTid2"
    },
    {
      "cell_type": "code",
      "execution_count": null,
      "id": "140b7ec8-7b38-452f-aab5-cf1f1fd228ee",
      "metadata": {
        "id": "140b7ec8-7b38-452f-aab5-cf1f1fd228ee",
        "outputId": "b515e561-d464-420b-b4b4-6969fc35f5ef"
      },
      "outputs": [
        {
          "data": {
            "image/png": "[encoded data removed]",
            "text/plain": [
              "<Figure size 360x360 with 1 Axes>"
            ]
          },
          "metadata": {
            "image/png": {
              "height": 322,
              "width": 340
            },
            "needs_background": "light"
          },
          "output_type": "display_data"
        }
      ],
      "source": [
        "import matplotlib.pyplot as plt\n",
        "%config InlineBackend.figure_format='retina'\n",
        "\n",
        "fig, ax = plt.subplots(figsize=(5,5))\n",
        "ax.scatter(counts, expected_counts, s=15, alpha=0.5)\n",
        "ax.set_xlabel(\"Observed counts\")\n",
        "ax.set_ylabel(\"Expected counts\")\n",
        "\n",
        "ax.set_xscale(\"symlog\")\n",
        "ax.set_yscale(\"symlog\")\n",
        "\n",
        "ax.set_ylim(bottom=-0.5, top=10000)\n",
        "ax.set_xlim(left=-0.5, right=10000)\n",
        "\n",
        "plt.savefig(f\"figures/1.2_{sample}.png\", dpi=300, bbox_inches=\"tight\")\n",
        "\n",
        "fig.show()"
      ]
    },
    {
      "cell_type": "markdown",
      "source": [
        "A lot of sequences are not aligned anymore when the RdRP sequences are clustered prior to making the index."
      ],
      "metadata": {
        "id": "ee9aicSUTlXD"
      },
      "id": "ee9aicSUTlXD"
    },
    {
      "cell_type": "code",
      "execution_count": null,
      "id": "57707845-6431-481d-b125-0957ed85b3b8",
      "metadata": {
        "id": "57707845-6431-481d-b125-0957ed85b3b8"
      },
      "outputs": [],
      "source": []
    }
  ],
  "metadata": {
    "kernelspec": {
      "display_name": "Python 3 (ipykernel)",
      "language": "python",
      "name": "python3"
    },
    "language_info": {
      "codemirror_mode": {
        "name": "ipython",
        "version": 3
      },
      "file_extension": ".py",
      "mimetype": "text/x-python",
      "name": "python",
      "nbconvert_exporter": "python",
      "pygments_lexer": "ipython3",
      "version": "3.9.12"
    },
    "colab": {
      "provenance": [],
      "include_colab_link": true
    }
  },
  "nbformat": 4,
  "nbformat_minor": 5
}