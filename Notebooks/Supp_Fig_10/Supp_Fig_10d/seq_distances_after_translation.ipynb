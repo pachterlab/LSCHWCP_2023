{
  "cells": [
    {
      "cell_type": "markdown",
      "metadata": {
        "id": "view-in-github",
        "colab_type": "text"
      },
      "source": [
        "<a href=\"https://colab.research.google.com/github/pachterlab/LSCHWCP_2023/blob/main/Notebooks/Supp_Fig_10/Supp_Fig_10d/seq_distances_after_translation.ipynb\" target=\"_parent\"><img src=\"https://colab.research.google.com/assets/colab-badge.svg\" alt=\"Open In Colab\"/></a>"
      ]
    },
    {
      "cell_type": "markdown",
      "metadata": {
        "id": "fx0D2x4P97-e"
      },
      "source": [
        "# Plot distances between PalmDB sequences after translation"
      ]
    },
    {
      "cell_type": "code",
      "execution_count": null,
      "metadata": {
        "id": "QdR5uqEY97-h"
      },
      "outputs": [],
      "source": [
        "!pip install -q biopython\n",
        "from Bio import SeqIO\n",
        "from scipy.spatial.distance import hamming\n",
        "import itertools\n",
        "from random import sample\n",
        "import matplotlib.pyplot as plt\n",
        "from tqdm import tqdm\n",
        "\n",
        "TQDM_BAR_FORMAT = (\n",
        "    \"{l_bar}{bar}| {n_fmt}/{total_fmt} [elapsed: {elapsed} remaining: {remaining}]\"\n",
        ")\n",
        "\n",
        "%load_ext blackcellmagic\n",
        "%config InlineBackend.figure_format='retina'"
      ]
    },
    {
      "cell_type": "markdown",
      "source": [
        "Define codes:"
      ],
      "metadata": {
        "id": "EzQaKuUdCnGC"
      }
    },
    {
      "cell_type": "code",
      "execution_count": null,
      "metadata": {
        "id": "AEcgojfB97-j"
      },
      "outputs": [],
      "source": [
        "# comme-free code AA dictionary\n",
        "cfcode = {\n",
        "    \"F\": \"ACC\",\n",
        "    \"L\": \"ACA\",\n",
        "    \"I\": \"ATA\",\n",
        "    \"M\": \"ATC\",\n",
        "    \"V\": \"ATT\",\n",
        "    \"S\": \"CTA\",\n",
        "    \"P\": \"CTC\",\n",
        "    \"T\": \"CTT\",\n",
        "    \"A\": \"AGA\",\n",
        "    \"Y\": \"AGC\",\n",
        "    \"H\": \"AGT\",\n",
        "    \"Q\": \"AGG\",\n",
        "    \"N\": \"CGA\",\n",
        "    \"K\": \"CGC\",\n",
        "    \"D\": \"CGT\",\n",
        "    \"E\": \"CGG\",\n",
        "    \"C\": \"TGA\",\n",
        "    \"W\": \"TGC\",\n",
        "    \"R\": \"TGT\",\n",
        "    \"G\": \"TGG\",\n",
        "    \"X\": \"NNN\",  # Amino acid not known\n",
        "    \"B\": \"CGT\",  # Represents either N or D - will translate as D here (N is only off by one base)\n",
        "    \"J\": \"ACA\",  # Represents either L or I - will translate as L here (I is only off by one base)\n",
        "    \"Z\": \"CGG\"   # Represents either E or Q - will translate as E here (Q is only off by one base)\n",
        "}"
      ]
    },
    {
      "cell_type": "code",
      "execution_count": null,
      "metadata": {
        "id": "S3ots-2q97-k"
      },
      "outputs": [],
      "source": [
        "# Standard human genetic code\n",
        "# Also see:\n",
        "# https://www.biostars.org/p/432189/\n",
        "# https://www.ncbi.nlm.nih.gov/pmc/articles/PMC4253638/\n",
        "\n",
        "dnacode = {\n",
        "    \"A\": \"GCC\",\n",
        "    \"C\": \"TGC\",\n",
        "    \"D\": \"GAC\",\n",
        "    \"E\": \"GAG\",\n",
        "    \"F\": \"TTC\",\n",
        "    \"G\": \"GGC\",\n",
        "    \"H\": \"CAC\",\n",
        "    \"I\": \"ATC\",\n",
        "    \"K\": \"AAG\",\n",
        "    \"L\": \"CTG\",\n",
        "    \"M\": \"ATG\",\n",
        "    \"N\": \"AAC\",\n",
        "    \"P\": \"CCC\",\n",
        "    \"Q\": \"CAG\",\n",
        "    \"R\": \"AGA\",\n",
        "    \"S\": \"TCC\",\n",
        "    \"T\": \"ACC\",\n",
        "    \"V\": \"GTG\",\n",
        "    \"W\": \"TGG\",\n",
        "    \"Y\": \"TAC\",\n",
        "    \"X\": \"NNN\",  # Amino acid not known\n",
        "    \"B\": \"AAC\",  # Represents either N or D\n",
        "    \"J\": \"CTG\",  # Represents either L or I\n",
        "    \"Z\": \"GAG\",  # Represents either E or Q\n",
        "}"
      ]
    },
    {
      "cell_type": "markdown",
      "source": [
        "Reverse translate RdRP amino acid sequences in the PalmDB:"
      ],
      "metadata": {
        "id": "m33Jvjj5CjJ8"
      }
    },
    {
      "cell_type": "code",
      "source": [
        "# Download the RdRP amino acid sequences\n",
        "!wget https://raw.githubusercontent.com/pachterlab/LSCHWCP_2023/main/PalmDB/palmdb_rdrp_seqs.fa\n",
        "\n",
        "fasta = \"palmdb_rdrp_seqs.fa\""
      ],
      "metadata": {
        "id": "ZSUQGh19CKxt"
      },
      "execution_count": null,
      "outputs": []
    },
    {
      "cell_type": "code",
      "execution_count": null,
      "metadata": {
        "id": "9F4S6fnQ97-k"
      },
      "outputs": [],
      "source": [
        "ids = []\n",
        "seqs = []\n",
        "nn_seqs = []\n",
        "cfc_seqs = []\n",
        "seq_lens = []\n",
        "for record in SeqIO.parse(fasta, \"fasta\"):\n",
        "    # Translate AA sequence to comma-free\n",
        "    cfc_seq_temp = []\n",
        "    for aa in record.seq:\n",
        "        # Capitalize amino acid\n",
        "        aa = aa.capitalize()\n",
        "\n",
        "        # Rev translate to comme-free code\n",
        "        cfc_seq_temp.append(cfcode[aa])\n",
        "\n",
        "    cfc_seqs.append(\"\".join(cfc_seq_temp))\n",
        "\n",
        "\n",
        "    # Reverse translate AA sequence using standard dna code\n",
        "    nn_seq_temp = []\n",
        "    for aa in record.seq:\n",
        "        # Capitalize amino acid\n",
        "        aa = aa.capitalize()\n",
        "\n",
        "        # Reverse translate\n",
        "        nn_seq_temp.append(dnacode[aa])\n",
        "\n",
        "    # Standard reverse translation\n",
        "    nn_seqs.append(\"\".join(nn_seq_temp))\n",
        "\n",
        "\n",
        "    # Record original amino acid seq\n",
        "    seqs.append(record.seq)\n",
        "    # Record original sequence length\n",
        "    seq_lens.append(len(record.seq))\n",
        "\n",
        "    # Record IDs\n",
        "    ids.append(record.id)"
      ]
    },
    {
      "cell_type": "code",
      "execution_count": null,
      "metadata": {
        "id": "0Hog3rGi97-l"
      },
      "outputs": [],
      "source": [
        "print(f\"Number of sequences: {len(ids)}\")\n",
        "print(f\"AA sequence lengths (min-max): {min(seq_lens)} - {max(seq_lens)}\")\n",
        "# Check if all IDs are unique\n",
        "print(\"IDs are unique: \",len(ids) == len(set(ids)))\n",
        "# Check if all sequences are unique\n",
        "print(\"Sequences are unique: \", len(cfc_seqs) == len(set(cfc_seqs)))\n",
        "print(\"Number of shared sequences: \", len(cfc_seqs) - len(set(cfc_seqs)))"
      ]
    },
    {
      "cell_type": "markdown",
      "metadata": {
        "id": "GSszU1uH97-m"
      },
      "source": [
        "### Plot the distances between sequences in each code space:"
      ]
    },
    {
      "cell_type": "code",
      "execution_count": null,
      "metadata": {
        "id": "sPmEH5Xd97-o"
      },
      "outputs": [],
      "source": [
        "# Define number of sequences to compare (will be randomly selected)\n",
        "n = 10000\n",
        "\n",
        "def get_dist_perc(seqs):\n",
        "    dist_perc = []\n",
        "    with tqdm(total=len(itertools.combinations(sample(seqs, n), 2)), bar_format=TQDM_BAR_FORMAT) as pbar:\n",
        "        for seq1, seq2 in itertools.combinations(sample(seqs, n), 2):\n",
        "            if len(seq1) > len(seq2):\n",
        "                # Compute Hamming distance (returns percentage that can be converted to Hamming distance by multiplying by length of array)\n",
        "                hamming_distance = hamming(list(seq1[:len(seq2)]), list(seq2))\n",
        "            elif len(seq2) > len(seq1):\n",
        "                hamming_distance = hamming(list(seq1), list(seq2[:len(seq1)]))\n",
        "            else:\n",
        "                hamming_distance = hamming(list(seq1), list(seq2))\n",
        "            dist_perc.append(hamming_distance)\n",
        "\n",
        "            pbar.update(1)\n",
        "\n",
        "    return dist_perc\n",
        "\n",
        "# Get Hamming distances between first n AA sequences\n",
        "dist_perc = get_dist_perc(seqs)\n",
        "\n",
        "# Get Hamming distances between first n standard nucleotide sequences\n",
        "dist_perc_nn = get_dist_perc(nn_seqs)\n",
        "\n",
        "# Get Hamming distances between first n cfc sequences\n",
        "dist_perc_cfc = get_dist_perc(cfc_seqs)"
      ]
    },
    {
      "cell_type": "code",
      "execution_count": null,
      "metadata": {
        "id": "rmC8MY0b97-o"
      },
      "outputs": [],
      "source": [
        "# Plot Hamming distances\n",
        "fig, axs = plt.subplots(figsize=(10,5), ncols=3, sharey=True)\n",
        "\n",
        "fig.suptitle(f\"Hamming distance between {n} sequences\\nrandomly selected from the PalmDB\", fontsize=16)\n",
        "\n",
        "ax=axs[0]\n",
        "ax.hist(dist_perc, 100)\n",
        "ax.set_title(f\"Amino acids\")\n",
        "ax.set_xlabel(\"% differing amino acids\")\n",
        "ax.set_ylabel(\"Frequency\")\n",
        "ax.set_xlim(0,1.0)\n",
        "\n",
        "ax=axs[1]\n",
        "ax.hist(dist_perc_nn, 100)\n",
        "ax.set_title(f\"After reverse translation\\n(using human optimized code)\")\n",
        "ax.set_xlabel(\"% differing nucleotides\")\n",
        "# ax.set_ylabel(\"Frequency\")\n",
        "ax.set_xlim(0,1.0)\n",
        "\n",
        "ax=axs[2]\n",
        "ax.hist(dist_perc_cfc, 100)\n",
        "ax.set_title(f\"After reverse translation\\nto comma-free code\")\n",
        "ax.set_xlabel(\"% differing nucleotides\")\n",
        "# ax.set_ylabel(\"Frequency\")\n",
        "ax.set_xlim(0,1.0)\n",
        "\n",
        "plt.tight_layout()\n",
        "\n",
        "fig.savefig(\"palmdb_dists.png\", dpi=300, bbox_inches=\"tight\")\n",
        "\n",
        "fig.show()"
      ]
    },
    {
      "cell_type": "code",
      "execution_count": null,
      "metadata": {
        "id": "hkiT_ARl97-q"
      },
      "outputs": [],
      "source": []
    }
  ],
  "metadata": {
    "kernelspec": {
      "display_name": "Python 3 (ipykernel)",
      "language": "python",
      "name": "python3"
    },
    "language_info": {
      "codemirror_mode": {
        "name": "ipython",
        "version": 3
      },
      "file_extension": ".py",
      "mimetype": "text/x-python",
      "name": "python",
      "nbconvert_exporter": "python",
      "pygments_lexer": "ipython3",
      "version": "3.9.12"
    },
    "vscode": {
      "interpreter": {
        "hash": "dd19f4a025a239cd738138a9cfd973ebc04741b3d7e2339b3ee95d5c6fc3738f"
      }
    },
    "colab": {
      "provenance": [],
      "include_colab_link": true
    }
  },
  "nbformat": 4,
  "nbformat_minor": 0
}