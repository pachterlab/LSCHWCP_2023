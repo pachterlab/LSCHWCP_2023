{
 "cells": [
  {
   "cell_type": "code",
   "execution_count": 1,
   "id": "872de9b7-c4d2-4f91-bc90-b1e526117ce9",
   "metadata": {},
   "outputs": [],
   "source": [
    "from Bio import SeqIO\n",
    "import pandas as pd\n",
    "import numpy as np\n",
    "from itertools import product\n",
    "import kb_python.utils as kb_utils\n",
    "%config InlineBackend.figure_format='retina'\n",
    "import matplotlib.pyplot as plt\n",
    "from tqdm import tqdm\n",
    "TQDM_BAR_FORMAT = (\n",
    "    \"{l_bar}{bar}| {n_fmt}/{total_fmt} [elapsed: {elapsed} remaining: {remaining}]\"\n",
    ")\n",
    "\n",
    "def nd(arr):\n",
    "    \"\"\"\n",
    "    Function to transform numpy matrix to nd array.\n",
    "    \"\"\"\n",
    "    return np.asarray(arr).reshape(-1)"
   ]
  },
  {
   "cell_type": "code",
   "execution_count": 2,
   "id": "00e1fd01-1749-4ea5-81eb-7de1aa97b7d7",
   "metadata": {},
   "outputs": [],
   "source": [
    "virus_fasta = \"/home/laura/projects/virus-watch-data/virus_ref/uniques_noduplicates.fa\"\n",
    "virus_t2g = \"/home/laura/projects/virus-watch-data/virus_ref/nodup_clu_t2g.txt\"\n",
    "u_tax_dp = \"/home/laura/projects/virus-watch-data/virus_ref/u_tax_nodup_clu.csv\"\n",
    "\n",
    "out_folder = \"/home/laura/projects/virus-watch-data/benchmarking/remove_target_from_ref\"\n",
    "\n",
    "kallisto = \"/home/laura/projects/kallisto/build/src/kallisto\"\n",
    "bustools = \"/home/laura/projects/bustools/build/src/bustools\""
   ]
  },
  {
   "cell_type": "markdown",
   "id": "86037557-8ff1-4771-a659-9daaf641ff0c",
   "metadata": {},
   "source": [
    "Define targets to be removed from index:"
   ]
  },
  {
   "cell_type": "code",
   "execution_count": 315,
   "id": "1fb5fd6f-5c67-4d8c-bf38-b53519d99ab7",
   "metadata": {},
   "outputs": [],
   "source": [
    "# records = SeqIO.parse(\"/home/laura/projects/virus-watch-data/benchmarking/mutations/kraken_test_nn.fa\", \"fasta\")\n",
    "\n",
    "# targets = []\n",
    "# for record in records:\n",
    "#     targets.append(record.id)\n",
    "    \n",
    "# targets"
   ]
  },
  {
   "cell_type": "markdown",
   "id": "a2747a7f-156d-4621-9721-8f181a5f2314",
   "metadata": {},
   "source": [
    "Create new fasta excluding all sequences associated with these species:"
   ]
  },
  {
   "cell_type": "code",
   "execution_count": 8,
   "id": "20890675-eb82-40bf-98b0-2f83c5e75a2a",
   "metadata": {},
   "outputs": [
    {
     "data": {
      "text/html": [
       "<div>\n",
       "<style scoped>\n",
       "    .dataframe tbody tr th:only-of-type {\n",
       "        vertical-align: middle;\n",
       "    }\n",
       "\n",
       "    .dataframe tbody tr th {\n",
       "        vertical-align: top;\n",
       "    }\n",
       "\n",
       "    .dataframe thead th {\n",
       "        text-align: right;\n",
       "    }\n",
       "</style>\n",
       "<table border=\"1\" class=\"dataframe\">\n",
       "  <thead>\n",
       "    <tr style=\"text-align: right;\">\n",
       "      <th></th>\n",
       "      <th>ID</th>\n",
       "      <th>rep_ID</th>\n",
       "      <th>phylum</th>\n",
       "      <th>class</th>\n",
       "      <th>order</th>\n",
       "      <th>family</th>\n",
       "      <th>genus</th>\n",
       "      <th>species</th>\n",
       "      <th>strandedness</th>\n",
       "    </tr>\n",
       "  </thead>\n",
       "  <tbody>\n",
       "    <tr>\n",
       "      <th>0</th>\n",
       "      <td>u1</td>\n",
       "      <td>u1</td>\n",
       "      <td>Pisuviricota</td>\n",
       "      <td>Pisoniviricetes</td>\n",
       "      <td>Nidovirales</td>\n",
       "      <td>Coronaviridae</td>\n",
       "      <td>Betacoronavirus</td>\n",
       "      <td>Severe acute respiratory syndrome-related coro...</td>\n",
       "      <td>+ssRNA</td>\n",
       "    </tr>\n",
       "    <tr>\n",
       "      <th>1</th>\n",
       "      <td>u10066</td>\n",
       "      <td>u1</td>\n",
       "      <td>Pisuviricota</td>\n",
       "      <td>Pisoniviricetes</td>\n",
       "      <td>Nidovirales</td>\n",
       "      <td>Coronaviridae</td>\n",
       "      <td>Betacoronavirus</td>\n",
       "      <td>Severe acute respiratory syndrome-related coro...</td>\n",
       "      <td>+ssRNA</td>\n",
       "    </tr>\n",
       "    <tr>\n",
       "      <th>2</th>\n",
       "      <td>u10121</td>\n",
       "      <td>u1</td>\n",
       "      <td>Pisuviricota</td>\n",
       "      <td>Pisoniviricetes</td>\n",
       "      <td>Nidovirales</td>\n",
       "      <td>Coronaviridae</td>\n",
       "      <td>Betacoronavirus</td>\n",
       "      <td>Severe acute respiratory syndrome-related coro...</td>\n",
       "      <td>+ssRNA</td>\n",
       "    </tr>\n",
       "    <tr>\n",
       "      <th>3</th>\n",
       "      <td>u10124</td>\n",
       "      <td>u1</td>\n",
       "      <td>Pisuviricota</td>\n",
       "      <td>Pisoniviricetes</td>\n",
       "      <td>Nidovirales</td>\n",
       "      <td>Coronaviridae</td>\n",
       "      <td>Betacoronavirus</td>\n",
       "      <td>Severe acute respiratory syndrome-related coro...</td>\n",
       "      <td>+ssRNA</td>\n",
       "    </tr>\n",
       "    <tr>\n",
       "      <th>4</th>\n",
       "      <td>u102609</td>\n",
       "      <td>u1</td>\n",
       "      <td>Pisuviricota</td>\n",
       "      <td>Pisoniviricetes</td>\n",
       "      <td>Nidovirales</td>\n",
       "      <td>Coronaviridae</td>\n",
       "      <td>Betacoronavirus</td>\n",
       "      <td>Severe acute respiratory syndrome-related coro...</td>\n",
       "      <td>+ssRNA</td>\n",
       "    </tr>\n",
       "    <tr>\n",
       "      <th>...</th>\n",
       "      <td>...</td>\n",
       "      <td>...</td>\n",
       "      <td>...</td>\n",
       "      <td>...</td>\n",
       "      <td>...</td>\n",
       "      <td>...</td>\n",
       "      <td>...</td>\n",
       "      <td>...</td>\n",
       "      <td>...</td>\n",
       "    </tr>\n",
       "    <tr>\n",
       "      <th>296556</th>\n",
       "      <td>u296608</td>\n",
       "      <td>u296608</td>\n",
       "      <td>.</td>\n",
       "      <td>.</td>\n",
       "      <td>.</td>\n",
       "      <td>.</td>\n",
       "      <td>.</td>\n",
       "      <td>.</td>\n",
       "      <td>unknown</td>\n",
       "    </tr>\n",
       "    <tr>\n",
       "      <th>296557</th>\n",
       "      <td>u296609</td>\n",
       "      <td>u296609</td>\n",
       "      <td>.</td>\n",
       "      <td>.</td>\n",
       "      <td>.</td>\n",
       "      <td>.</td>\n",
       "      <td>.</td>\n",
       "      <td>.</td>\n",
       "      <td>unknown</td>\n",
       "    </tr>\n",
       "    <tr>\n",
       "      <th>296558</th>\n",
       "      <td>u296613</td>\n",
       "      <td>u296613</td>\n",
       "      <td>.</td>\n",
       "      <td>.</td>\n",
       "      <td>.</td>\n",
       "      <td>.</td>\n",
       "      <td>.</td>\n",
       "      <td>.</td>\n",
       "      <td>unknown</td>\n",
       "    </tr>\n",
       "    <tr>\n",
       "      <th>296559</th>\n",
       "      <td>u296616</td>\n",
       "      <td>u296616</td>\n",
       "      <td>.</td>\n",
       "      <td>.</td>\n",
       "      <td>.</td>\n",
       "      <td>.</td>\n",
       "      <td>.</td>\n",
       "      <td>.</td>\n",
       "      <td>unknown</td>\n",
       "    </tr>\n",
       "    <tr>\n",
       "      <th>296560</th>\n",
       "      <td>u296623</td>\n",
       "      <td>u296623</td>\n",
       "      <td>.</td>\n",
       "      <td>.</td>\n",
       "      <td>.</td>\n",
       "      <td>.</td>\n",
       "      <td>.</td>\n",
       "      <td>.</td>\n",
       "      <td>unknown</td>\n",
       "    </tr>\n",
       "  </tbody>\n",
       "</table>\n",
       "<p>296561 rows × 9 columns</p>\n",
       "</div>"
      ],
      "text/plain": [
       "             ID   rep_ID        phylum            class        order  \\\n",
       "0            u1       u1  Pisuviricota  Pisoniviricetes  Nidovirales   \n",
       "1        u10066       u1  Pisuviricota  Pisoniviricetes  Nidovirales   \n",
       "2        u10121       u1  Pisuviricota  Pisoniviricetes  Nidovirales   \n",
       "3        u10124       u1  Pisuviricota  Pisoniviricetes  Nidovirales   \n",
       "4       u102609       u1  Pisuviricota  Pisoniviricetes  Nidovirales   \n",
       "...         ...      ...           ...              ...          ...   \n",
       "296556  u296608  u296608             .                .            .   \n",
       "296557  u296609  u296609             .                .            .   \n",
       "296558  u296613  u296613             .                .            .   \n",
       "296559  u296616  u296616             .                .            .   \n",
       "296560  u296623  u296623             .                .            .   \n",
       "\n",
       "               family            genus  \\\n",
       "0       Coronaviridae  Betacoronavirus   \n",
       "1       Coronaviridae  Betacoronavirus   \n",
       "2       Coronaviridae  Betacoronavirus   \n",
       "3       Coronaviridae  Betacoronavirus   \n",
       "4       Coronaviridae  Betacoronavirus   \n",
       "...               ...              ...   \n",
       "296556              .                .   \n",
       "296557              .                .   \n",
       "296558              .                .   \n",
       "296559              .                .   \n",
       "296560              .                .   \n",
       "\n",
       "                                                  species strandedness  \n",
       "0       Severe acute respiratory syndrome-related coro...       +ssRNA  \n",
       "1       Severe acute respiratory syndrome-related coro...       +ssRNA  \n",
       "2       Severe acute respiratory syndrome-related coro...       +ssRNA  \n",
       "3       Severe acute respiratory syndrome-related coro...       +ssRNA  \n",
       "4       Severe acute respiratory syndrome-related coro...       +ssRNA  \n",
       "...                                                   ...          ...  \n",
       "296556                                                  .      unknown  \n",
       "296557                                                  .      unknown  \n",
       "296558                                                  .      unknown  \n",
       "296559                                                  .      unknown  \n",
       "296560                                                  .      unknown  \n",
       "\n",
       "[296561 rows x 9 columns]"
      ]
     },
     "execution_count": 8,
     "metadata": {},
     "output_type": "execute_result"
    }
   ],
   "source": [
    "taxmap = pd.read_csv(u_tax_dp)\n",
    "taxmap"
   ]
  },
  {
   "cell_type": "code",
   "execution_count": 317,
   "id": "ea13c9df-f8f2-4690-ab2f-782e4bfe83dd",
   "metadata": {},
   "outputs": [],
   "source": [
    "# def flatten(l):\n",
    "#     return [item for sublist in l for item in sublist]"
   ]
  },
  {
   "cell_type": "code",
   "execution_count": 318,
   "id": "f538c785-2930-4138-b610-51a26d425e4e",
   "metadata": {},
   "outputs": [],
   "source": [
    "# targets_all = []\n",
    "# for id_ in targets:\n",
    "#     targets_all.append(taxmap[taxmap[\"rep_ID\"] == id_][\"ID\"].values)\n",
    "    \n",
    "# targets_all = flatten(targets_all)"
   ]
  },
  {
   "cell_type": "code",
   "execution_count": 319,
   "id": "350cc25f-fc32-46df-8f78-6f9fa9866294",
   "metadata": {},
   "outputs": [],
   "source": [
    "targets_all = taxmap[taxmap[\"genus\"].str.contains(\"Ebolavirus\")][\"ID\"].values"
   ]
  },
  {
   "cell_type": "code",
   "execution_count": 320,
   "id": "62e33f42-5a5c-42c1-9ea8-78a9da0728cd",
   "metadata": {},
   "outputs": [],
   "source": [
    "test_fasta = f\"{out_folder}/uniques_nodup_targets_removed.fa\""
   ]
  },
  {
   "cell_type": "code",
   "execution_count": 321,
   "id": "15e21306-34a5-4bf8-9034-66573828ed94",
   "metadata": {},
   "outputs": [
    {
     "name": "stdout",
     "output_type": "stream",
     "text": [
      "CPU times: user 3.69 s, sys: 57.6 ms, total: 3.74 s\n",
      "Wall time: 3.83 s\n"
     ]
    }
   ],
   "source": [
    "%%time\n",
    "records = SeqIO.parse(virus_fasta, \"fasta\")\n",
    "\n",
    "with open(test_fasta, \"w\") as new_fasta:\n",
    "    for record in records:\n",
    "        if record.id not in targets_all:\n",
    "            new_fasta.write(\">\" + record.id + \"\\n\")\n",
    "            new_fasta.write(str(record.seq) + \"\\n\")"
   ]
  },
  {
   "cell_type": "markdown",
   "id": "012b65ee-e63f-4bea-be54-df6fd84daa00",
   "metadata": {},
   "source": [
    "Generate index with new fasta:"
   ]
  },
  {
   "cell_type": "code",
   "execution_count": 322,
   "id": "1904d388-67dd-41ca-a785-bbcb99e36dd5",
   "metadata": {},
   "outputs": [],
   "source": [
    "virus_index = f\"{out_folder}/uniques_nodup_targets_removed.idx\""
   ]
  },
  {
   "cell_type": "code",
   "execution_count": 323,
   "id": "c4557fa8-d098-4be8-8493-ced80611927e",
   "metadata": {},
   "outputs": [
    {
     "name": "stdout",
     "output_type": "stream",
     "text": [
      "\n",
      "[build] loading fasta file /home/laura/projects/virus-watch-data/benchmarking/remove_target_from_ref/uniques_nodup_targets_removed.fa\n",
      "[build] k-mer length: 31\n",
      "KmerStream::KmerStream(): Start computing k-mer cardinality estimations (1/2)\n",
      "KmerStream::KmerStream(): Start computing k-mer cardinality estimations (1/2)\n",
      "KmerStream::KmerStream(): Finished\n",
      "CompactedDBG::build(): Estimated number of k-mers occurring at least once: 37640331\n",
      "CompactedDBG::build(): Estimated number of minimizer occurring at least once: 7877361\n",
      "CompactedDBG::filter(): Processed 87606558 k-mers in 296482 reads\n",
      "CompactedDBG::filter(): Found 37506216 unique k-mers\n",
      "CompactedDBG::filter(): Number of blocks in Bloom filter is 257308\n",
      "CompactedDBG::construct(): Extract approximate unitigs (1/2)\n",
      "CompactedDBG::construct(): Extract approximate unitigs (2/2)\n",
      "CompactedDBG::construct(): Closed all input files\n",
      "\n",
      "CompactedDBG::construct(): Splitting unitigs (1/2)\n",
      "\n",
      "CompactedDBG::construct(): Splitting unitigs (2/2)\n",
      "CompactedDBG::construct(): Before split: 2040282 unitigs\n",
      "CompactedDBG::construct(): After split (1/1): 2040282 unitigs\n",
      "CompactedDBG::construct(): Unitigs split: 1555\n",
      "CompactedDBG::construct(): Unitigs deleted: 0\n",
      "\n",
      "CompactedDBG::construct(): Joining unitigs\n",
      "CompactedDBG::construct(): After join: 2021502 unitigs\n",
      "CompactedDBG::construct(): Joined 19162 unitigs\n",
      "[build] building MPHF\n",
      "[build] creating equivalence classes ... \n",
      "[build] target de Bruijn graph has k-mer length 31 and minimizer length 23\n",
      "[build] target de Bruijn graph has 2021502 contigs and contains 37539216 k-mers \n",
      "\n"
     ]
    }
   ],
   "source": [
    "!$kallisto index \\\n",
    "    -t 12 \\\n",
    "    --aa \\\n",
    "    -i $virus_index \\\n",
    "    $test_fasta"
   ]
  },
  {
   "cell_type": "markdown",
   "id": "3cd11978-ed03-4da5-a7ba-f853631cf839",
   "metadata": {},
   "source": [
    "Align fasta with nucleotide sequences of species removed from index:"
   ]
  },
  {
   "cell_type": "code",
   "execution_count": 324,
   "id": "1d7baf99-7430-4227-8848-4474908d4001",
   "metadata": {},
   "outputs": [],
   "source": [
    "# nn_fasta = \"/home/laura/projects/virus-watch-data/benchmarking/mutations/kraken_test_nn.fa\"\n",
    "# nn_fasta_R1 = \"/home/laura/projects/virus-watch-data/benchmarking/mutations/kraken_test_nn_R1.fa\"\n",
    "\n",
    "nn_fasta = \"/home/laura/projects/virus-watch-data/PRJNA665227/raw/SRR12698539_2_extracted_u10.fa\""
   ]
  },
  {
   "cell_type": "code",
   "execution_count": 325,
   "id": "9ee9b696-1c3a-49ef-a5f6-1a7af6799db6",
   "metadata": {},
   "outputs": [],
   "source": [
    "# # Create a fake barcode for each sequence in the PalmDB\n",
    "# barcodes = [''.join(i) for i in product([\"A\", \"C\", \"G\", \"T\"], repeat=3)]\n",
    "\n",
    "# print(len(barcodes))"
   ]
  },
  {
   "cell_type": "code",
   "execution_count": 326,
   "id": "c386ba5f-20e2-4468-b1f7-85220d9430e9",
   "metadata": {},
   "outputs": [],
   "source": [
    "# # Create fake R1 file with barcodes\n",
    "# virus_ids = []\n",
    "# with open(nn_fasta_R1, \"w\") as fake_R1:\n",
    "#     for (barcode, record) in zip(barcodes[:30], SeqIO.parse(nn_fasta, \"fasta\")):\n",
    "#         fake_R1.write(\">\" + record.id + \"\\n\")\n",
    "#         fake_R1.write(barcode + \"\\n\")\n",
    "#         virus_ids.append(record.id)"
   ]
  },
  {
   "cell_type": "code",
   "execution_count": 327,
   "id": "0f5a8533-6d43-4ff2-a484-6271c9b80848",
   "metadata": {},
   "outputs": [],
   "source": [
    "# bc2virus = pd.DataFrame()\n",
    "# bc2virus[\"virus_ID\"] = virus_ids\n",
    "# bc2virus[\"barcode\"] = barcodes[:30]\n",
    "# bc2virus"
   ]
  },
  {
   "cell_type": "code",
   "execution_count": 328,
   "id": "62ab8f48-3ff6-48ba-96aa-bc3df7fe9cf1",
   "metadata": {},
   "outputs": [
    {
     "name": "stdout",
     "output_type": "stream",
     "text": [
      "\n",
      "[index] k-mer length: 31\n",
      "[index] number of targets: 296,482\n",
      "[index] number of k-mers: 37,539,216\n",
      "[quant] running in single-end mode\n",
      "[quant] will process file 1: /home/laura/projects/virus-watch-data/PRJNA665227/raw/SRR12698539_2_extracted_u10.fa\n",
      "[quant] finding pseudoalignments for all files ... done\n",
      "[quant] processed 676 reads, 127 reads pseudoaligned\n",
      "\n",
      " all fits in buffer\n",
      "Read in 127 BUS records\n",
      "reading time 0s\n",
      "sorting time 0s\n",
      "writing time 0s\n"
     ]
    }
   ],
   "source": [
    "# # Align with fake barcodes so we can see which sequence was aligned to which taxonomy\n",
    "# !$kallisto bus \\\n",
    "#         -i $virus_index \\\n",
    "#         -o $out_folder/kallisto \\\n",
    "#         --aa \\\n",
    "#         -x 0,0,0:0,0,3:1,0,0 \\\n",
    "#         -t 5 \\\n",
    "#         $nn_fasta_R1 $nn_fasta\n",
    "\n",
    "!$kallisto bus \\\n",
    "        -i $virus_index \\\n",
    "        -o $out_folder/kallisto \\\n",
    "        --aa \\\n",
    "        -x bulk \\\n",
    "        -t 5 \\\n",
    "        $nn_fasta\n",
    "\n",
    "!$bustools sort -o $out_folder/kallisto/output_sorted.bus $out_folder/kallisto/output.bus\n",
    "\n",
    "!$bustools count \\\n",
    "    --genecounts \\\n",
    "    --cm \\\n",
    "    -o $out_folder/kallisto/bustools_count/ \\\n",
    "    -g $virus_t2g \\\n",
    "    -e $out_folder/kallisto/matrix.ec \\\n",
    "    -t $out_folder/kallisto/transcripts.txt \\\n",
    "    $out_folder/kallisto/output_sorted.bus"
   ]
  },
  {
   "cell_type": "markdown",
   "id": "bc086598-7402-4df5-96b2-506cb38b09e2",
   "metadata": {},
   "source": [
    "# Same but remove up to virus family"
   ]
  },
  {
   "cell_type": "code",
   "execution_count": 329,
   "id": "5fb7c273-11b8-4af2-a2db-9c2bf8e208d5",
   "metadata": {},
   "outputs": [],
   "source": [
    "targets_all = taxmap[taxmap[\"family\"].str.contains(\"Filoviridae\")][\"ID\"].values"
   ]
  },
  {
   "cell_type": "code",
   "execution_count": 330,
   "id": "1ecd3de8-f47e-430f-9659-00dcac936fc3",
   "metadata": {},
   "outputs": [],
   "source": [
    "test_fasta = f\"{out_folder}/uniques_nodup_targets_removed_3.fa\""
   ]
  },
  {
   "cell_type": "code",
   "execution_count": 331,
   "id": "5914bb6a-0a17-410f-96d2-cc91b008b771",
   "metadata": {},
   "outputs": [
    {
     "name": "stdout",
     "output_type": "stream",
     "text": [
      "CPU times: user 4.02 s, sys: 51.9 ms, total: 4.07 s\n",
      "Wall time: 4.16 s\n"
     ]
    }
   ],
   "source": [
    "%%time\n",
    "records = SeqIO.parse(virus_fasta, \"fasta\")\n",
    "\n",
    "with open(test_fasta, \"w\") as new_fasta:\n",
    "    for record in records:\n",
    "        if record.id not in targets_all:\n",
    "            new_fasta.write(\">\" + record.id + \"\\n\")\n",
    "            new_fasta.write(str(record.seq) + \"\\n\")"
   ]
  },
  {
   "cell_type": "markdown",
   "id": "2df337dd-ac3e-43fd-a1d2-524d39ec782e",
   "metadata": {},
   "source": [
    "Generate index with new fasta:"
   ]
  },
  {
   "cell_type": "code",
   "execution_count": 332,
   "id": "aead5024-13b5-49e0-8d95-08c202b62c18",
   "metadata": {},
   "outputs": [],
   "source": [
    "virus_index = f\"{out_folder}/uniques_nodup_targets_removed_3.idx\""
   ]
  },
  {
   "cell_type": "code",
   "execution_count": 333,
   "id": "be3acdf3-6fc9-4913-93d6-e081103620ee",
   "metadata": {},
   "outputs": [
    {
     "name": "stdout",
     "output_type": "stream",
     "text": [
      "\n",
      "[build] loading fasta file /home/laura/projects/virus-watch-data/benchmarking/remove_target_from_ref/uniques_nodup_targets_removed_3.fa\n",
      "[build] k-mer length: 31\n",
      "KmerStream::KmerStream(): Start computing k-mer cardinality estimations (1/2)\n",
      "KmerStream::KmerStream(): Start computing k-mer cardinality estimations (1/2)\n",
      "KmerStream::KmerStream(): Finished\n",
      "CompactedDBG::build(): Estimated number of k-mers occurring at least once: 37637384\n",
      "CompactedDBG::build(): Estimated number of minimizer occurring at least once: 7876665\n",
      "CompactedDBG::filter(): Processed 87601434 k-mers in 296466 reads\n",
      "CompactedDBG::filter(): Found 37504068 unique k-mers\n",
      "CompactedDBG::filter(): Number of blocks in Bloom filter is 257288\n",
      "CompactedDBG::construct(): Extract approximate unitigs (1/2)\n",
      "CompactedDBG::construct(): Extract approximate unitigs (2/2)\n",
      "CompactedDBG::construct(): Closed all input files\n",
      "\n",
      "CompactedDBG::construct(): Splitting unitigs (1/2)\n",
      "\n",
      "CompactedDBG::construct(): Splitting unitigs (2/2)\n",
      "CompactedDBG::construct(): Before split: 2040284 unitigs\n",
      "CompactedDBG::construct(): After split (1/1): 2040284 unitigs\n",
      "CompactedDBG::construct(): Unitigs split: 1542\n",
      "CompactedDBG::construct(): Unitigs deleted: 0\n",
      "\n",
      "CompactedDBG::construct(): Joining unitigs\n",
      "CompactedDBG::construct(): After join: 2021430 unitigs\n",
      "CompactedDBG::construct(): Joined 19202 unitigs\n",
      "[build] building MPHF\n",
      "[build] creating equivalence classes ... \n",
      "[build] target de Bruijn graph has k-mer length 31 and minimizer length 23\n",
      "[build] target de Bruijn graph has 2021430 contigs and contains 37536591 k-mers \n",
      "\n"
     ]
    }
   ],
   "source": [
    "!$kallisto index \\\n",
    "    -t 12 \\\n",
    "    --aa \\\n",
    "    -i $virus_index \\\n",
    "    $test_fasta"
   ]
  },
  {
   "cell_type": "markdown",
   "id": "cd77ce11-6803-466a-8617-e5a5d5a2c71e",
   "metadata": {},
   "source": [
    "Align fasta with nucleotide sequences of species removed from index:"
   ]
  },
  {
   "cell_type": "code",
   "execution_count": 334,
   "id": "2dfdf486-e192-441b-97f9-7e6bea34113b",
   "metadata": {},
   "outputs": [],
   "source": [
    "nn_fasta = \"/home/laura/projects/virus-watch-data/PRJNA665227/raw/SRR12698539_2_extracted_u10.fa\""
   ]
  },
  {
   "cell_type": "code",
   "execution_count": 335,
   "id": "5d022d41-96bb-4d5d-bd49-7b1ae5a2ae44",
   "metadata": {},
   "outputs": [
    {
     "name": "stdout",
     "output_type": "stream",
     "text": [
      "\n",
      "[index] k-mer length: 31\n",
      "[index] number of targets: 296,466\n",
      "[index] number of k-mers: 37,536,591\n",
      "[quant] running in single-end mode\n",
      "[quant] will process file 1: /home/laura/projects/virus-watch-data/PRJNA665227/raw/SRR12698539_2_extracted_u10.fa\n",
      "[quant] finding pseudoalignments for all files ... done\n",
      "[quant] processed 676 reads, 142 reads pseudoaligned\n",
      "\n",
      " all fits in buffer\n",
      "Read in 142 BUS records\n",
      "reading time 0s\n",
      "sorting time 0s\n",
      "writing time 0s\n"
     ]
    }
   ],
   "source": [
    "!$kallisto bus \\\n",
    "        -i $virus_index \\\n",
    "        -o $out_folder/kallisto3 \\\n",
    "        --aa \\\n",
    "        -x bulk \\\n",
    "        -t 5 \\\n",
    "        $nn_fasta\n",
    "\n",
    "!$bustools sort -o $out_folder/kallisto3/output_sorted.bus $out_folder/kallisto3/output.bus\n",
    "\n",
    "!$bustools count \\\n",
    "    --genecounts \\\n",
    "    --cm \\\n",
    "    -o $out_folder/kallisto3/bustools_count/ \\\n",
    "    -g $virus_t2g \\\n",
    "    -e $out_folder/kallisto3/matrix.ec \\\n",
    "    -t $out_folder/kallisto3/transcripts.txt \\\n",
    "    $out_folder/kallisto3/output_sorted.bus"
   ]
  },
  {
   "cell_type": "markdown",
   "id": "b0f5dc05-c50c-4b8c-9613-4bdbeb94011b",
   "metadata": {},
   "source": [
    "### Load results and see which taxonomies the sequences were aligned to"
   ]
  },
  {
   "cell_type": "markdown",
   "id": "0276052f-e3f6-4159-bc60-552837530ffd",
   "metadata": {},
   "source": [
    "Load data where ebola genera were removed:"
   ]
  },
  {
   "cell_type": "code",
   "execution_count": 15,
   "id": "ae4dbb1c-6e89-48c0-9b41-39c30382fe0d",
   "metadata": {},
   "outputs": [
    {
     "name": "stderr",
     "output_type": "stream",
     "text": [
      "/home/laura/anaconda3/lib/python3.9/site-packages/kb_python/utils.py:673: FutureWarning: X.dtype being converted to np.float32 from float64. In the next version of anndata (0.9) conversion will not be automatic. Pass dtype explicitly to avoid this warning. Pass `AnnData(X, dtype=X.dtype, ...)` to get the future behavour.\n",
      "  anndata.AnnData(X=mtx.tocsr(), obs=df_barcodes, var=df_genes)\n"
     ]
    },
    {
     "data": {
      "text/plain": [
       "AnnData object with n_obs × n_vars = 1 × 99221"
      ]
     },
     "execution_count": 15,
     "metadata": {},
     "output_type": "execute_result"
    }
   ],
   "source": [
    "# Filepath to counts\n",
    "X = f\"{out_folder}/kallisto/bustools_count/output.mtx\"\n",
    "# Filepath to barcode metadata\n",
    "var_path = f\"{out_folder}/kallisto/bustools_count/output.genes.txt\"\n",
    "# Filepath to gene metadata\n",
    "obs_path = f\"{out_folder}/kallisto/bustools_count/output.barcodes.txt\" \n",
    "\n",
    "# Create AnnData object\n",
    "adata = kb_utils.import_matrix_as_anndata(X, obs_path, var_path)\n",
    "adata"
   ]
  },
  {
   "cell_type": "code",
   "execution_count": 337,
   "id": "b9956a8b-181c-47f2-83a2-25bd02e093bc",
   "metadata": {},
   "outputs": [],
   "source": [
    "# Add sequence IDs based on fake barcode\n",
    "# adata.obs = adata.obs.merge(bc2virus, on=\"barcode\").set_index(\"barcode\")"
   ]
  },
  {
   "cell_type": "code",
   "execution_count": 338,
   "id": "38d7f741-668e-46d6-b718-6bccb996cff0",
   "metadata": {},
   "outputs": [
    {
     "data": {
      "text/plain": [
       "array(['u102797', 'u133417'], dtype=object)"
      ]
     },
     "execution_count": 338,
     "metadata": {},
     "output_type": "execute_result"
    }
   ],
   "source": [
    "ids_seen = adata.var[nd(adata.X.sum(axis=0) > 0)].index.values\n",
    "ids_seen"
   ]
  },
  {
   "cell_type": "code",
   "execution_count": 339,
   "id": "d600cca0-75a2-420d-8c10-b98ee3f58d9b",
   "metadata": {},
   "outputs": [
    {
     "data": {
      "text/html": [
       "<div>\n",
       "<style scoped>\n",
       "    .dataframe tbody tr th:only-of-type {\n",
       "        vertical-align: middle;\n",
       "    }\n",
       "\n",
       "    .dataframe tbody tr th {\n",
       "        vertical-align: top;\n",
       "    }\n",
       "\n",
       "    .dataframe thead th {\n",
       "        text-align: right;\n",
       "    }\n",
       "</style>\n",
       "<table border=\"1\" class=\"dataframe\">\n",
       "  <thead>\n",
       "    <tr style=\"text-align: right;\">\n",
       "      <th></th>\n",
       "      <th>ID</th>\n",
       "      <th>rep_ID</th>\n",
       "      <th>phylum</th>\n",
       "      <th>class</th>\n",
       "      <th>order</th>\n",
       "      <th>family</th>\n",
       "      <th>genus</th>\n",
       "      <th>species</th>\n",
       "      <th>strandedness</th>\n",
       "    </tr>\n",
       "  </thead>\n",
       "  <tbody>\n",
       "    <tr>\n",
       "      <th>218192</th>\n",
       "      <td>u102797</td>\n",
       "      <td>u102797</td>\n",
       "      <td>Negarnaviricota</td>\n",
       "      <td>Monjiviricetes</td>\n",
       "      <td>Mononegavirales</td>\n",
       "      <td>Filoviridae</td>\n",
       "      <td>Marburgvirus</td>\n",
       "      <td>Marburg marburgvirus</td>\n",
       "      <td>-ssRNA</td>\n",
       "    </tr>\n",
       "    <tr>\n",
       "      <th>218193</th>\n",
       "      <td>u1158</td>\n",
       "      <td>u102797</td>\n",
       "      <td>Negarnaviricota</td>\n",
       "      <td>Monjiviricetes</td>\n",
       "      <td>Mononegavirales</td>\n",
       "      <td>Filoviridae</td>\n",
       "      <td>Marburgvirus</td>\n",
       "      <td>Marburg marburgvirus</td>\n",
       "      <td>-ssRNA</td>\n",
       "    </tr>\n",
       "    <tr>\n",
       "      <th>218194</th>\n",
       "      <td>u15480</td>\n",
       "      <td>u102797</td>\n",
       "      <td>Negarnaviricota</td>\n",
       "      <td>Monjiviricetes</td>\n",
       "      <td>Mononegavirales</td>\n",
       "      <td>Filoviridae</td>\n",
       "      <td>Marburgvirus</td>\n",
       "      <td>Marburg marburgvirus</td>\n",
       "      <td>-ssRNA</td>\n",
       "    </tr>\n",
       "    <tr>\n",
       "      <th>218195</th>\n",
       "      <td>u15788</td>\n",
       "      <td>u102797</td>\n",
       "      <td>Negarnaviricota</td>\n",
       "      <td>Monjiviricetes</td>\n",
       "      <td>Mononegavirales</td>\n",
       "      <td>Filoviridae</td>\n",
       "      <td>Marburgvirus</td>\n",
       "      <td>Marburg marburgvirus</td>\n",
       "      <td>-ssRNA</td>\n",
       "    </tr>\n",
       "    <tr>\n",
       "      <th>218196</th>\n",
       "      <td>u20644</td>\n",
       "      <td>u102797</td>\n",
       "      <td>Negarnaviricota</td>\n",
       "      <td>Monjiviricetes</td>\n",
       "      <td>Mononegavirales</td>\n",
       "      <td>Filoviridae</td>\n",
       "      <td>Marburgvirus</td>\n",
       "      <td>Marburg marburgvirus</td>\n",
       "      <td>-ssRNA</td>\n",
       "    </tr>\n",
       "    <tr>\n",
       "      <th>218197</th>\n",
       "      <td>u21217</td>\n",
       "      <td>u102797</td>\n",
       "      <td>Negarnaviricota</td>\n",
       "      <td>Monjiviricetes</td>\n",
       "      <td>Mononegavirales</td>\n",
       "      <td>Filoviridae</td>\n",
       "      <td>Marburgvirus</td>\n",
       "      <td>Marburg marburgvirus</td>\n",
       "      <td>-ssRNA</td>\n",
       "    </tr>\n",
       "    <tr>\n",
       "      <th>218198</th>\n",
       "      <td>u424</td>\n",
       "      <td>u102797</td>\n",
       "      <td>Negarnaviricota</td>\n",
       "      <td>Monjiviricetes</td>\n",
       "      <td>Mononegavirales</td>\n",
       "      <td>Filoviridae</td>\n",
       "      <td>Marburgvirus</td>\n",
       "      <td>Marburg marburgvirus</td>\n",
       "      <td>-ssRNA</td>\n",
       "    </tr>\n",
       "    <tr>\n",
       "      <th>218199</th>\n",
       "      <td>u444</td>\n",
       "      <td>u102797</td>\n",
       "      <td>Negarnaviricota</td>\n",
       "      <td>Monjiviricetes</td>\n",
       "      <td>Mononegavirales</td>\n",
       "      <td>Filoviridae</td>\n",
       "      <td>Marburgvirus</td>\n",
       "      <td>Marburg marburgvirus</td>\n",
       "      <td>-ssRNA</td>\n",
       "    </tr>\n",
       "    <tr>\n",
       "      <th>237814</th>\n",
       "      <td>u133417</td>\n",
       "      <td>u133417</td>\n",
       "      <td>Negarnaviricota</td>\n",
       "      <td>Monjiviricetes</td>\n",
       "      <td>Mononegavirales</td>\n",
       "      <td>Filoviridae</td>\n",
       "      <td>.</td>\n",
       "      <td>.</td>\n",
       "      <td>-ssRNA</td>\n",
       "    </tr>\n",
       "    <tr>\n",
       "      <th>237815</th>\n",
       "      <td>u14593</td>\n",
       "      <td>u133417</td>\n",
       "      <td>Negarnaviricota</td>\n",
       "      <td>Monjiviricetes</td>\n",
       "      <td>Mononegavirales</td>\n",
       "      <td>Filoviridae</td>\n",
       "      <td>.</td>\n",
       "      <td>.</td>\n",
       "      <td>-ssRNA</td>\n",
       "    </tr>\n",
       "    <tr>\n",
       "      <th>237816</th>\n",
       "      <td>u15425</td>\n",
       "      <td>u133417</td>\n",
       "      <td>Negarnaviricota</td>\n",
       "      <td>Monjiviricetes</td>\n",
       "      <td>Mononegavirales</td>\n",
       "      <td>Filoviridae</td>\n",
       "      <td>.</td>\n",
       "      <td>.</td>\n",
       "      <td>-ssRNA</td>\n",
       "    </tr>\n",
       "    <tr>\n",
       "      <th>237817</th>\n",
       "      <td>u24916</td>\n",
       "      <td>u133417</td>\n",
       "      <td>Negarnaviricota</td>\n",
       "      <td>Monjiviricetes</td>\n",
       "      <td>Mononegavirales</td>\n",
       "      <td>Filoviridae</td>\n",
       "      <td>.</td>\n",
       "      <td>.</td>\n",
       "      <td>-ssRNA</td>\n",
       "    </tr>\n",
       "    <tr>\n",
       "      <th>237818</th>\n",
       "      <td>u253355</td>\n",
       "      <td>u133417</td>\n",
       "      <td>Negarnaviricota</td>\n",
       "      <td>Monjiviricetes</td>\n",
       "      <td>Mononegavirales</td>\n",
       "      <td>Filoviridae</td>\n",
       "      <td>.</td>\n",
       "      <td>.</td>\n",
       "      <td>-ssRNA</td>\n",
       "    </tr>\n",
       "    <tr>\n",
       "      <th>237819</th>\n",
       "      <td>u26750</td>\n",
       "      <td>u133417</td>\n",
       "      <td>Negarnaviricota</td>\n",
       "      <td>Monjiviricetes</td>\n",
       "      <td>Mononegavirales</td>\n",
       "      <td>Filoviridae</td>\n",
       "      <td>.</td>\n",
       "      <td>.</td>\n",
       "      <td>-ssRNA</td>\n",
       "    </tr>\n",
       "    <tr>\n",
       "      <th>237820</th>\n",
       "      <td>u6111</td>\n",
       "      <td>u133417</td>\n",
       "      <td>Negarnaviricota</td>\n",
       "      <td>Monjiviricetes</td>\n",
       "      <td>Mononegavirales</td>\n",
       "      <td>Filoviridae</td>\n",
       "      <td>.</td>\n",
       "      <td>.</td>\n",
       "      <td>-ssRNA</td>\n",
       "    </tr>\n",
       "  </tbody>\n",
       "</table>\n",
       "</div>"
      ],
      "text/plain": [
       "             ID   rep_ID           phylum           class            order  \\\n",
       "218192  u102797  u102797  Negarnaviricota  Monjiviricetes  Mononegavirales   \n",
       "218193    u1158  u102797  Negarnaviricota  Monjiviricetes  Mononegavirales   \n",
       "218194   u15480  u102797  Negarnaviricota  Monjiviricetes  Mononegavirales   \n",
       "218195   u15788  u102797  Negarnaviricota  Monjiviricetes  Mononegavirales   \n",
       "218196   u20644  u102797  Negarnaviricota  Monjiviricetes  Mononegavirales   \n",
       "218197   u21217  u102797  Negarnaviricota  Monjiviricetes  Mononegavirales   \n",
       "218198     u424  u102797  Negarnaviricota  Monjiviricetes  Mononegavirales   \n",
       "218199     u444  u102797  Negarnaviricota  Monjiviricetes  Mononegavirales   \n",
       "237814  u133417  u133417  Negarnaviricota  Monjiviricetes  Mononegavirales   \n",
       "237815   u14593  u133417  Negarnaviricota  Monjiviricetes  Mononegavirales   \n",
       "237816   u15425  u133417  Negarnaviricota  Monjiviricetes  Mononegavirales   \n",
       "237817   u24916  u133417  Negarnaviricota  Monjiviricetes  Mononegavirales   \n",
       "237818  u253355  u133417  Negarnaviricota  Monjiviricetes  Mononegavirales   \n",
       "237819   u26750  u133417  Negarnaviricota  Monjiviricetes  Mononegavirales   \n",
       "237820    u6111  u133417  Negarnaviricota  Monjiviricetes  Mononegavirales   \n",
       "\n",
       "             family         genus               species strandedness  \n",
       "218192  Filoviridae  Marburgvirus  Marburg marburgvirus       -ssRNA  \n",
       "218193  Filoviridae  Marburgvirus  Marburg marburgvirus       -ssRNA  \n",
       "218194  Filoviridae  Marburgvirus  Marburg marburgvirus       -ssRNA  \n",
       "218195  Filoviridae  Marburgvirus  Marburg marburgvirus       -ssRNA  \n",
       "218196  Filoviridae  Marburgvirus  Marburg marburgvirus       -ssRNA  \n",
       "218197  Filoviridae  Marburgvirus  Marburg marburgvirus       -ssRNA  \n",
       "218198  Filoviridae  Marburgvirus  Marburg marburgvirus       -ssRNA  \n",
       "218199  Filoviridae  Marburgvirus  Marburg marburgvirus       -ssRNA  \n",
       "237814  Filoviridae             .                     .       -ssRNA  \n",
       "237815  Filoviridae             .                     .       -ssRNA  \n",
       "237816  Filoviridae             .                     .       -ssRNA  \n",
       "237817  Filoviridae             .                     .       -ssRNA  \n",
       "237818  Filoviridae             .                     .       -ssRNA  \n",
       "237819  Filoviridae             .                     .       -ssRNA  \n",
       "237820  Filoviridae             .                     .       -ssRNA  "
      ]
     },
     "execution_count": 339,
     "metadata": {},
     "output_type": "execute_result"
    }
   ],
   "source": [
    "taxmap[taxmap[\"rep_ID\"].isin(ids_seen)]"
   ]
  },
  {
   "cell_type": "markdown",
   "id": "6fa2bfa7-b8e0-4b28-8463-c3ae77e54639",
   "metadata": {},
   "source": [
    "Load data where ebola species were removed:"
   ]
  },
  {
   "cell_type": "code",
   "execution_count": 5,
   "id": "cf4537f9-6148-4033-b8ae-b1e5755f9a34",
   "metadata": {},
   "outputs": [
    {
     "name": "stderr",
     "output_type": "stream",
     "text": [
      "/home/laura/anaconda3/lib/python3.9/site-packages/kb_python/utils.py:673: FutureWarning: X.dtype being converted to np.float32 from float64. In the next version of anndata (0.9) conversion will not be automatic. Pass dtype explicitly to avoid this warning. Pass `AnnData(X, dtype=X.dtype, ...)` to get the future behavour.\n",
      "  anndata.AnnData(X=mtx.tocsr(), obs=df_barcodes, var=df_genes)\n"
     ]
    },
    {
     "data": {
      "text/plain": [
       "AnnData object with n_obs × n_vars = 1 × 99222"
      ]
     },
     "execution_count": 5,
     "metadata": {},
     "output_type": "execute_result"
    }
   ],
   "source": [
    "# Filepath to counts\n",
    "X = f\"{out_folder}/kallisto2/bustools_count/output.mtx\"\n",
    "# Filepath to barcode metadata\n",
    "var_path = f\"{out_folder}/kallisto2/bustools_count/output.genes.txt\"\n",
    "# Filepath to gene metadata\n",
    "obs_path = f\"{out_folder}/kallisto2/bustools_count/output.barcodes.txt\" \n",
    "\n",
    "# Create AnnData object\n",
    "adata2 = kb_utils.import_matrix_as_anndata(X, obs_path, var_path)\n",
    "adata2"
   ]
  },
  {
   "cell_type": "code",
   "execution_count": 6,
   "id": "ffedc075-c7bb-4af8-932c-952a729456d9",
   "metadata": {
    "tags": []
   },
   "outputs": [
    {
     "data": {
      "text/plain": [
       "array(['u14834', 'u102797'], dtype=object)"
      ]
     },
     "execution_count": 6,
     "metadata": {},
     "output_type": "execute_result"
    }
   ],
   "source": [
    "ids_seen2 = adata2.var[nd(adata2.X.sum(axis=0) > 0)].index.values\n",
    "ids_seen2"
   ]
  },
  {
   "cell_type": "code",
   "execution_count": 9,
   "id": "7f78ccb2-b509-43f0-b719-3d8d6bfcc4ac",
   "metadata": {},
   "outputs": [
    {
     "data": {
      "text/html": [
       "<div>\n",
       "<style scoped>\n",
       "    .dataframe tbody tr th:only-of-type {\n",
       "        vertical-align: middle;\n",
       "    }\n",
       "\n",
       "    .dataframe tbody tr th {\n",
       "        vertical-align: top;\n",
       "    }\n",
       "\n",
       "    .dataframe thead th {\n",
       "        text-align: right;\n",
       "    }\n",
       "</style>\n",
       "<table border=\"1\" class=\"dataframe\">\n",
       "  <thead>\n",
       "    <tr style=\"text-align: right;\">\n",
       "      <th></th>\n",
       "      <th>ID</th>\n",
       "      <th>rep_ID</th>\n",
       "      <th>phylum</th>\n",
       "      <th>class</th>\n",
       "      <th>order</th>\n",
       "      <th>family</th>\n",
       "      <th>genus</th>\n",
       "      <th>species</th>\n",
       "      <th>strandedness</th>\n",
       "    </tr>\n",
       "  </thead>\n",
       "  <tbody>\n",
       "    <tr>\n",
       "      <th>32024</th>\n",
       "      <td>u14834</td>\n",
       "      <td>u14834</td>\n",
       "      <td>Negarnaviricota</td>\n",
       "      <td>Monjiviricetes</td>\n",
       "      <td>Mononegavirales</td>\n",
       "      <td>Filoviridae</td>\n",
       "      <td>Ebolavirus</td>\n",
       "      <td>.</td>\n",
       "      <td>-ssRNA</td>\n",
       "    </tr>\n",
       "    <tr>\n",
       "      <th>32025</th>\n",
       "      <td>u190559</td>\n",
       "      <td>u14834</td>\n",
       "      <td>Negarnaviricota</td>\n",
       "      <td>Monjiviricetes</td>\n",
       "      <td>Mononegavirales</td>\n",
       "      <td>Filoviridae</td>\n",
       "      <td>Ebolavirus</td>\n",
       "      <td>.</td>\n",
       "      <td>-ssRNA</td>\n",
       "    </tr>\n",
       "    <tr>\n",
       "      <th>218192</th>\n",
       "      <td>u102797</td>\n",
       "      <td>u102797</td>\n",
       "      <td>Negarnaviricota</td>\n",
       "      <td>Monjiviricetes</td>\n",
       "      <td>Mononegavirales</td>\n",
       "      <td>Filoviridae</td>\n",
       "      <td>Marburgvirus</td>\n",
       "      <td>Marburg marburgvirus</td>\n",
       "      <td>-ssRNA</td>\n",
       "    </tr>\n",
       "    <tr>\n",
       "      <th>218193</th>\n",
       "      <td>u1158</td>\n",
       "      <td>u102797</td>\n",
       "      <td>Negarnaviricota</td>\n",
       "      <td>Monjiviricetes</td>\n",
       "      <td>Mononegavirales</td>\n",
       "      <td>Filoviridae</td>\n",
       "      <td>Marburgvirus</td>\n",
       "      <td>Marburg marburgvirus</td>\n",
       "      <td>-ssRNA</td>\n",
       "    </tr>\n",
       "    <tr>\n",
       "      <th>218194</th>\n",
       "      <td>u15480</td>\n",
       "      <td>u102797</td>\n",
       "      <td>Negarnaviricota</td>\n",
       "      <td>Monjiviricetes</td>\n",
       "      <td>Mononegavirales</td>\n",
       "      <td>Filoviridae</td>\n",
       "      <td>Marburgvirus</td>\n",
       "      <td>Marburg marburgvirus</td>\n",
       "      <td>-ssRNA</td>\n",
       "    </tr>\n",
       "    <tr>\n",
       "      <th>218195</th>\n",
       "      <td>u15788</td>\n",
       "      <td>u102797</td>\n",
       "      <td>Negarnaviricota</td>\n",
       "      <td>Monjiviricetes</td>\n",
       "      <td>Mononegavirales</td>\n",
       "      <td>Filoviridae</td>\n",
       "      <td>Marburgvirus</td>\n",
       "      <td>Marburg marburgvirus</td>\n",
       "      <td>-ssRNA</td>\n",
       "    </tr>\n",
       "    <tr>\n",
       "      <th>218196</th>\n",
       "      <td>u20644</td>\n",
       "      <td>u102797</td>\n",
       "      <td>Negarnaviricota</td>\n",
       "      <td>Monjiviricetes</td>\n",
       "      <td>Mononegavirales</td>\n",
       "      <td>Filoviridae</td>\n",
       "      <td>Marburgvirus</td>\n",
       "      <td>Marburg marburgvirus</td>\n",
       "      <td>-ssRNA</td>\n",
       "    </tr>\n",
       "    <tr>\n",
       "      <th>218197</th>\n",
       "      <td>u21217</td>\n",
       "      <td>u102797</td>\n",
       "      <td>Negarnaviricota</td>\n",
       "      <td>Monjiviricetes</td>\n",
       "      <td>Mononegavirales</td>\n",
       "      <td>Filoviridae</td>\n",
       "      <td>Marburgvirus</td>\n",
       "      <td>Marburg marburgvirus</td>\n",
       "      <td>-ssRNA</td>\n",
       "    </tr>\n",
       "    <tr>\n",
       "      <th>218198</th>\n",
       "      <td>u424</td>\n",
       "      <td>u102797</td>\n",
       "      <td>Negarnaviricota</td>\n",
       "      <td>Monjiviricetes</td>\n",
       "      <td>Mononegavirales</td>\n",
       "      <td>Filoviridae</td>\n",
       "      <td>Marburgvirus</td>\n",
       "      <td>Marburg marburgvirus</td>\n",
       "      <td>-ssRNA</td>\n",
       "    </tr>\n",
       "    <tr>\n",
       "      <th>218199</th>\n",
       "      <td>u444</td>\n",
       "      <td>u102797</td>\n",
       "      <td>Negarnaviricota</td>\n",
       "      <td>Monjiviricetes</td>\n",
       "      <td>Mononegavirales</td>\n",
       "      <td>Filoviridae</td>\n",
       "      <td>Marburgvirus</td>\n",
       "      <td>Marburg marburgvirus</td>\n",
       "      <td>-ssRNA</td>\n",
       "    </tr>\n",
       "  </tbody>\n",
       "</table>\n",
       "</div>"
      ],
      "text/plain": [
       "             ID   rep_ID           phylum           class            order  \\\n",
       "32024    u14834   u14834  Negarnaviricota  Monjiviricetes  Mononegavirales   \n",
       "32025   u190559   u14834  Negarnaviricota  Monjiviricetes  Mononegavirales   \n",
       "218192  u102797  u102797  Negarnaviricota  Monjiviricetes  Mononegavirales   \n",
       "218193    u1158  u102797  Negarnaviricota  Monjiviricetes  Mononegavirales   \n",
       "218194   u15480  u102797  Negarnaviricota  Monjiviricetes  Mononegavirales   \n",
       "218195   u15788  u102797  Negarnaviricota  Monjiviricetes  Mononegavirales   \n",
       "218196   u20644  u102797  Negarnaviricota  Monjiviricetes  Mononegavirales   \n",
       "218197   u21217  u102797  Negarnaviricota  Monjiviricetes  Mononegavirales   \n",
       "218198     u424  u102797  Negarnaviricota  Monjiviricetes  Mononegavirales   \n",
       "218199     u444  u102797  Negarnaviricota  Monjiviricetes  Mononegavirales   \n",
       "\n",
       "             family         genus               species strandedness  \n",
       "32024   Filoviridae    Ebolavirus                     .       -ssRNA  \n",
       "32025   Filoviridae    Ebolavirus                     .       -ssRNA  \n",
       "218192  Filoviridae  Marburgvirus  Marburg marburgvirus       -ssRNA  \n",
       "218193  Filoviridae  Marburgvirus  Marburg marburgvirus       -ssRNA  \n",
       "218194  Filoviridae  Marburgvirus  Marburg marburgvirus       -ssRNA  \n",
       "218195  Filoviridae  Marburgvirus  Marburg marburgvirus       -ssRNA  \n",
       "218196  Filoviridae  Marburgvirus  Marburg marburgvirus       -ssRNA  \n",
       "218197  Filoviridae  Marburgvirus  Marburg marburgvirus       -ssRNA  \n",
       "218198  Filoviridae  Marburgvirus  Marburg marburgvirus       -ssRNA  \n",
       "218199  Filoviridae  Marburgvirus  Marburg marburgvirus       -ssRNA  "
      ]
     },
     "execution_count": 9,
     "metadata": {},
     "output_type": "execute_result"
    }
   ],
   "source": [
    "taxmap[taxmap[\"rep_ID\"].isin(ids_seen2)]"
   ]
  },
  {
   "cell_type": "markdown",
   "id": "5778336a-56b3-49e9-a67e-3983631ebdba",
   "metadata": {},
   "source": [
    "Load data where ebola family were removed:"
   ]
  },
  {
   "cell_type": "code",
   "execution_count": 10,
   "id": "7d4bc702-7aea-46b5-88d5-1b9268b3fe54",
   "metadata": {},
   "outputs": [
    {
     "name": "stderr",
     "output_type": "stream",
     "text": [
      "/home/laura/anaconda3/lib/python3.9/site-packages/kb_python/utils.py:673: FutureWarning: X.dtype being converted to np.float32 from float64. In the next version of anndata (0.9) conversion will not be automatic. Pass dtype explicitly to avoid this warning. Pass `AnnData(X, dtype=X.dtype, ...)` to get the future behavour.\n",
      "  anndata.AnnData(X=mtx.tocsr(), obs=df_barcodes, var=df_genes)\n"
     ]
    },
    {
     "data": {
      "text/plain": [
       "AnnData object with n_obs × n_vars = 1 × 99218"
      ]
     },
     "execution_count": 10,
     "metadata": {},
     "output_type": "execute_result"
    }
   ],
   "source": [
    "# Filepath to counts\n",
    "X = f\"{out_folder}/kallisto3/bustools_count/output.mtx\"\n",
    "# Filepath to barcode metadata\n",
    "var_path = f\"{out_folder}/kallisto3/bustools_count/output.genes.txt\"\n",
    "# Filepath to gene metadata\n",
    "obs_path = f\"{out_folder}/kallisto3/bustools_count/output.barcodes.txt\" \n",
    "\n",
    "# Create AnnData object\n",
    "adata3 = kb_utils.import_matrix_as_anndata(X, obs_path, var_path)\n",
    "adata3"
   ]
  },
  {
   "cell_type": "code",
   "execution_count": 11,
   "id": "c854ce89-7629-454f-8392-addf7f4109a5",
   "metadata": {
    "tags": []
   },
   "outputs": [
    {
     "data": {
      "text/plain": [
       "array(['u11295'], dtype=object)"
      ]
     },
     "execution_count": 11,
     "metadata": {},
     "output_type": "execute_result"
    }
   ],
   "source": [
    "ids_seen3 = adata3.var[nd(adata3.X.sum(axis=0) > 0)].index.values\n",
    "ids_seen3"
   ]
  },
  {
   "cell_type": "code",
   "execution_count": 12,
   "id": "d0ec0ff2-f6ac-4ed6-97bb-1f455f01f8a6",
   "metadata": {},
   "outputs": [
    {
     "data": {
      "text/html": [
       "<div>\n",
       "<style scoped>\n",
       "    .dataframe tbody tr th:only-of-type {\n",
       "        vertical-align: middle;\n",
       "    }\n",
       "\n",
       "    .dataframe tbody tr th {\n",
       "        vertical-align: top;\n",
       "    }\n",
       "\n",
       "    .dataframe thead th {\n",
       "        text-align: right;\n",
       "    }\n",
       "</style>\n",
       "<table border=\"1\" class=\"dataframe\">\n",
       "  <thead>\n",
       "    <tr style=\"text-align: right;\">\n",
       "      <th></th>\n",
       "      <th>ID</th>\n",
       "      <th>rep_ID</th>\n",
       "      <th>phylum</th>\n",
       "      <th>class</th>\n",
       "      <th>order</th>\n",
       "      <th>family</th>\n",
       "      <th>genus</th>\n",
       "      <th>species</th>\n",
       "      <th>strandedness</th>\n",
       "    </tr>\n",
       "  </thead>\n",
       "  <tbody>\n",
       "    <tr>\n",
       "      <th>29331</th>\n",
       "      <td>u11295</td>\n",
       "      <td>u11295</td>\n",
       "      <td>Negarnaviricota</td>\n",
       "      <td>Monjiviricetes</td>\n",
       "      <td>Mononegavirales</td>\n",
       "      <td>Paramyxoviridae</td>\n",
       "      <td>Paraavulavirus</td>\n",
       "      <td>Avian paraavulavirus 4</td>\n",
       "      <td>-ssRNA</td>\n",
       "    </tr>\n",
       "    <tr>\n",
       "      <th>29332</th>\n",
       "      <td>u17489</td>\n",
       "      <td>u11295</td>\n",
       "      <td>Negarnaviricota</td>\n",
       "      <td>Monjiviricetes</td>\n",
       "      <td>Mononegavirales</td>\n",
       "      <td>Paramyxoviridae</td>\n",
       "      <td>Paraavulavirus</td>\n",
       "      <td>Avian paraavulavirus 4</td>\n",
       "      <td>-ssRNA</td>\n",
       "    </tr>\n",
       "    <tr>\n",
       "      <th>29333</th>\n",
       "      <td>u2062</td>\n",
       "      <td>u11295</td>\n",
       "      <td>Negarnaviricota</td>\n",
       "      <td>Monjiviricetes</td>\n",
       "      <td>Mononegavirales</td>\n",
       "      <td>Paramyxoviridae</td>\n",
       "      <td>Paraavulavirus</td>\n",
       "      <td>Avian paraavulavirus 4</td>\n",
       "      <td>-ssRNA</td>\n",
       "    </tr>\n",
       "    <tr>\n",
       "      <th>29334</th>\n",
       "      <td>u20957</td>\n",
       "      <td>u11295</td>\n",
       "      <td>Negarnaviricota</td>\n",
       "      <td>Monjiviricetes</td>\n",
       "      <td>Mononegavirales</td>\n",
       "      <td>Paramyxoviridae</td>\n",
       "      <td>Paraavulavirus</td>\n",
       "      <td>Avian paraavulavirus 4</td>\n",
       "      <td>-ssRNA</td>\n",
       "    </tr>\n",
       "    <tr>\n",
       "      <th>29335</th>\n",
       "      <td>u27987</td>\n",
       "      <td>u11295</td>\n",
       "      <td>Negarnaviricota</td>\n",
       "      <td>Monjiviricetes</td>\n",
       "      <td>Mononegavirales</td>\n",
       "      <td>Paramyxoviridae</td>\n",
       "      <td>Paraavulavirus</td>\n",
       "      <td>Avian paraavulavirus 4</td>\n",
       "      <td>-ssRNA</td>\n",
       "    </tr>\n",
       "    <tr>\n",
       "      <th>29336</th>\n",
       "      <td>u44973</td>\n",
       "      <td>u11295</td>\n",
       "      <td>Negarnaviricota</td>\n",
       "      <td>Monjiviricetes</td>\n",
       "      <td>Mononegavirales</td>\n",
       "      <td>Paramyxoviridae</td>\n",
       "      <td>Paraavulavirus</td>\n",
       "      <td>Avian paraavulavirus 4</td>\n",
       "      <td>-ssRNA</td>\n",
       "    </tr>\n",
       "    <tr>\n",
       "      <th>29337</th>\n",
       "      <td>u6240</td>\n",
       "      <td>u11295</td>\n",
       "      <td>Negarnaviricota</td>\n",
       "      <td>Monjiviricetes</td>\n",
       "      <td>Mononegavirales</td>\n",
       "      <td>Paramyxoviridae</td>\n",
       "      <td>Paraavulavirus</td>\n",
       "      <td>Avian paraavulavirus 4</td>\n",
       "      <td>-ssRNA</td>\n",
       "    </tr>\n",
       "    <tr>\n",
       "      <th>29338</th>\n",
       "      <td>u9587</td>\n",
       "      <td>u11295</td>\n",
       "      <td>Negarnaviricota</td>\n",
       "      <td>Monjiviricetes</td>\n",
       "      <td>Mononegavirales</td>\n",
       "      <td>Paramyxoviridae</td>\n",
       "      <td>Paraavulavirus</td>\n",
       "      <td>Avian paraavulavirus 4</td>\n",
       "      <td>-ssRNA</td>\n",
       "    </tr>\n",
       "  </tbody>\n",
       "</table>\n",
       "</div>"
      ],
      "text/plain": [
       "           ID  rep_ID           phylum           class            order  \\\n",
       "29331  u11295  u11295  Negarnaviricota  Monjiviricetes  Mononegavirales   \n",
       "29332  u17489  u11295  Negarnaviricota  Monjiviricetes  Mononegavirales   \n",
       "29333   u2062  u11295  Negarnaviricota  Monjiviricetes  Mononegavirales   \n",
       "29334  u20957  u11295  Negarnaviricota  Monjiviricetes  Mononegavirales   \n",
       "29335  u27987  u11295  Negarnaviricota  Monjiviricetes  Mononegavirales   \n",
       "29336  u44973  u11295  Negarnaviricota  Monjiviricetes  Mononegavirales   \n",
       "29337   u6240  u11295  Negarnaviricota  Monjiviricetes  Mononegavirales   \n",
       "29338   u9587  u11295  Negarnaviricota  Monjiviricetes  Mononegavirales   \n",
       "\n",
       "                family           genus                 species strandedness  \n",
       "29331  Paramyxoviridae  Paraavulavirus  Avian paraavulavirus 4       -ssRNA  \n",
       "29332  Paramyxoviridae  Paraavulavirus  Avian paraavulavirus 4       -ssRNA  \n",
       "29333  Paramyxoviridae  Paraavulavirus  Avian paraavulavirus 4       -ssRNA  \n",
       "29334  Paramyxoviridae  Paraavulavirus  Avian paraavulavirus 4       -ssRNA  \n",
       "29335  Paramyxoviridae  Paraavulavirus  Avian paraavulavirus 4       -ssRNA  \n",
       "29336  Paramyxoviridae  Paraavulavirus  Avian paraavulavirus 4       -ssRNA  \n",
       "29337  Paramyxoviridae  Paraavulavirus  Avian paraavulavirus 4       -ssRNA  \n",
       "29338  Paramyxoviridae  Paraavulavirus  Avian paraavulavirus 4       -ssRNA  "
      ]
     },
     "execution_count": 12,
     "metadata": {},
     "output_type": "execute_result"
    }
   ],
   "source": [
    "taxmap[taxmap[\"rep_ID\"].isin(ids_seen3)]"
   ]
  },
  {
   "cell_type": "markdown",
   "id": "6f9165cd-cba1-4173-9df8-7dcde4d0e3d0",
   "metadata": {},
   "source": [
    "# Plot bar plots"
   ]
  },
  {
   "cell_type": "code",
   "execution_count": 37,
   "id": "ca1def23-e0fd-426b-9e18-62c27b337fb7",
   "metadata": {},
   "outputs": [],
   "source": [
    "# total number of sequences\n",
    "total = 676"
   ]
  },
  {
   "cell_type": "code",
   "execution_count": 56,
   "id": "19b356db-4504-4d01-bb8c-70226dc541aa",
   "metadata": {},
   "outputs": [],
   "source": [
    "colors = [\"#003049\", \"#4b8eb3\", \"#8fc0de\"]"
   ]
  },
  {
   "cell_type": "code",
   "execution_count": 83,
   "id": "84e3de60-e8e4-4041-85c0-6969524d9f79",
   "metadata": {},
   "outputs": [],
   "source": [
    "def barplot(tax_level, expected_tax):\n",
    "    fig, ax = plt.subplots(figsize=(5,7))\n",
    "    fontsize=18\n",
    "    \n",
    "    correct = adata2[:, adata2.var.index.isin(taxmap[taxmap[tax_level] == expected_tax][\"rep_ID\"].unique())].X.sum()\n",
    "    # incorrect = adata2.X.sum() - correct\n",
    "    ax.bar(0, correct, color=colors[0], edgecolor=\"black\")\n",
    "    not_aligned = total - correct\n",
    "    if tax_level == \"phylum\":\n",
    "        ax.bar(0, not_aligned, bottom=correct, color=\"white\", edgecolor=\"black\", hatch=\"/\")\n",
    "        \n",
    "    if tax_level == \"phylum\":\n",
    "        ax.text(0, correct-correct/2, str(int(correct)), fontsize=fontsize, ha=\"center\", color=\"white\")\n",
    "    else:\n",
    "        if correct > 0:\n",
    "            ax.text(0, correct+10, str(int(correct)), fontsize=fontsize, ha=\"center\")\n",
    "\n",
    "\n",
    "    total_aligned = 145\n",
    "    correct = adata[:, adata.var.index.isin(taxmap[taxmap[tax_level] == expected_tax][\"rep_ID\"].unique())].X.sum()\n",
    "    # incorrect = adata.X.sum() - correct\n",
    "    # multimapped = total_aligned - adata.X.sum()\n",
    "    ax.bar(1, correct, color=colors[1], edgecolor=\"black\")\n",
    "    not_aligned = total - correct\n",
    "    if tax_level == \"phylum\":\n",
    "        ax.bar(1, not_aligned, bottom=correct, color=\"white\", edgecolor=\"black\", hatch=\"/\")\n",
    "    if tax_level == \"phylum\":\n",
    "        ax.text(1, correct-correct/2, str(int(correct)), fontsize=fontsize, ha=\"center\")\n",
    "    else:\n",
    "        if correct > 0:\n",
    "            ax.text(1, correct+10, str(int(correct)), fontsize=fontsize, ha=\"center\")\n",
    "    # ax.bar(1, incorrect, bottom=correct, color=\"white\", edgecolor=\"black\", hatch=\"+\")\n",
    "    # ax.bar(1, multimapped, bottom=incorrect+correct, color=\"white\", edgecolor=\"black\", hatch=\"//\")\n",
    "\n",
    "    correct = adata3[:, adata3.var.index.isin(taxmap[taxmap[tax_level] == expected_tax][\"rep_ID\"].unique())].X.sum()\n",
    "    # incorrect = adata3.X.sum() - correct\n",
    "    not_aligned = total - correct\n",
    "    if tax_level == \"phylum\":\n",
    "        ax.bar(2, not_aligned, bottom=correct, color=\"white\", edgecolor=\"black\", hatch=\"/\")\n",
    "    ax.bar(2, correct, color=colors[2], edgecolor=\"black\")\n",
    "    if tax_level == \"phylum\":\n",
    "        ax.text(2, correct-correct/2, str(int(correct)), fontsize=fontsize, ha=\"center\")\n",
    "    else:\n",
    "        if correct > 0:\n",
    "            ax.text(2, correct+10, str(int(correct)), fontsize=fontsize, ha=\"center\")\n",
    "    # ax.bar(2, incorrect, bottom=correct, color=\"white\", edgecolor=\"black\", hatch=\"+\")\n",
    "    \n",
    "    ax.axhline(total, color=\"black\", ls=\"--\")\n",
    "\n",
    "    # x_labels = [\"All Ebolavirus\\nspecies excluded\", \"All Ebolavirus\\ngenera excluded\", \"All Filoviridae\\nexcluded\"]\n",
    "    # ax.set_xticks([0,1,2], x_labels)\n",
    "    ax.set_xticks([])\n",
    "    \n",
    "    if tax_level == \"phylum\":\n",
    "        ax.set_ylabel(\"Counts\", fontsize=fontsize)\n",
    "    else:\n",
    "        ax.set_yticks([0,100,200,300,400,500,600,700], [\"\",\"\",\"\",\"\",\"\",\"\",\"\",\"\"])\n",
    "    \n",
    "    ax.spines.right.set_visible(False)\n",
    "    ax.spines.top.set_visible(False)\n",
    "\n",
    "    ax.tick_params(axis=\"both\", labelsize=fontsize)\n",
    "\n",
    "    ax.grid(True, which=\"both\", color=\"lightgray\", ls=\"--\", lw=1)\n",
    "    ax.set_axisbelow(True)\n",
    "\n",
    "    plt.savefig(f\"figures/targets_removed_ontarget_{tax_level}.png\", dpi=300, bbox_inches=\"tight\")\n",
    "\n",
    "    fig.show()"
   ]
  },
  {
   "cell_type": "code",
   "execution_count": 84,
   "id": "5dfb30f5-7ccb-4739-8fe3-a705ac8b7651",
   "metadata": {},
   "outputs": [
    {
     "data": {
      "image/png": "[encoded data removed]",
      "text/plain": [
       "<Figure size 360x504 with 1 Axes>"
      ]
     },
     "metadata": {
      "image/png": {
       "height": 406,
       "width": 355
      },
      "needs_background": "light"
     },
     "output_type": "display_data"
    }
   ],
   "source": [
    "barplot(\"phylum\", \"Negarnaviricota\")"
   ]
  },
  {
   "cell_type": "code",
   "execution_count": 59,
   "id": "e035772d-11e2-4305-b8b8-8933a68d6aba",
   "metadata": {},
   "outputs": [
    {
     "data": {
      "image/png": "[encoded data removed]",
      "text/plain": [
       "<Figure size 360x504 with 1 Axes>"
      ]
     },
     "metadata": {
      "image/png": {
       "height": 394,
       "width": 296
      },
      "needs_background": "light"
     },
     "output_type": "display_data"
    }
   ],
   "source": [
    "barplot(\"class\", \"Monjiviricetes\")"
   ]
  },
  {
   "cell_type": "code",
   "execution_count": 60,
   "id": "bb2696e5-fe97-40cc-ba11-4d78b8f21267",
   "metadata": {},
   "outputs": [
    {
     "data": {
      "image/png": "[encoded data removed]",
      "text/plain": [
       "<Figure size 360x504 with 1 Axes>"
      ]
     },
     "metadata": {
      "image/png": {
       "height": 394,
       "width": 296
      },
      "needs_background": "light"
     },
     "output_type": "display_data"
    }
   ],
   "source": [
    "barplot(\"order\", \"Mononegavirales\")"
   ]
  },
  {
   "cell_type": "code",
   "execution_count": 61,
   "id": "062ae6fb-64d4-4bc2-8435-5ff986cb7544",
   "metadata": {},
   "outputs": [
    {
     "data": {
      "image/png": "[encoded data removed]",
      "text/plain": [
       "<Figure size 360x504 with 1 Axes>"
      ]
     },
     "metadata": {
      "image/png": {
       "height": 394,
       "width": 296
      },
      "needs_background": "light"
     },
     "output_type": "display_data"
    }
   ],
   "source": [
    "barplot(\"family\", \"Filoviridae\")"
   ]
  },
  {
   "cell_type": "code",
   "execution_count": 62,
   "id": "65a7dcc8-f33f-4a0b-862e-047b17c5a48f",
   "metadata": {},
   "outputs": [
    {
     "data": {
      "image/png": "[encoded data removed]",
      "text/plain": [
       "<Figure size 360x504 with 1 Axes>"
      ]
     },
     "metadata": {
      "image/png": {
       "height": 394,
       "width": 296
      },
      "needs_background": "light"
     },
     "output_type": "display_data"
    }
   ],
   "source": [
    "barplot(\"genus\", \"Ebolavirus\")"
   ]
  },
  {
   "cell_type": "code",
   "execution_count": 63,
   "id": "614233fe-ca62-4690-b6ea-b0d163ced81a",
   "metadata": {},
   "outputs": [],
   "source": [
    "def barplot_incorrects(tax_level, expected_tax):\n",
    "    fig, ax = plt.subplots(figsize=(5,7))\n",
    "    fontsize=18\n",
    "\n",
    "    correct = adata2[:, adata2.var.index.isin(taxmap[taxmap[tax_level].isin(expected_tax)][\"rep_ID\"].unique())].X.sum()\n",
    "    ax.bar(0, correct, color=colors[0], edgecolor=\"black\")\n",
    "    if correct > 0:\n",
    "        ax.text(0, correct+10, str(int(correct)), fontsize=fontsize, ha=\"center\")\n",
    "\n",
    "\n",
    "    correct = adata[:, adata.var.index.isin(taxmap[taxmap[tax_level].isin(expected_tax)][\"rep_ID\"].unique())].X.sum()\n",
    "    ax.bar(1, correct, color=colors[1], edgecolor=\"black\")\n",
    "    if correct > 0:\n",
    "        ax.text(1, correct+10, str(int(correct)), fontsize=fontsize, ha=\"center\")\n",
    "\n",
    "    correct = adata3[:, adata3.var.index.isin(taxmap[taxmap[tax_level].isin(expected_tax)][\"rep_ID\"].unique())].X.sum()\n",
    "    ax.bar(2, correct, color=colors[2], edgecolor=\"black\")\n",
    "    if correct > 0:\n",
    "        ax.text(2, correct+10, str(int(correct)), fontsize=fontsize, ha=\"center\")\n",
    "    \n",
    "    ax.axhline(total, color=\"black\", ls=\"--\")\n",
    "\n",
    "    # x_labels = [\"All Ebolavirus\\nspecies excluded\", \"All Ebolavirus\\ngenera excluded\", \"All Filoviridae\\nexcluded\"]\n",
    "    # ax.set_xticks([0,1,2], x_labels)\n",
    "    ax.set_xticks([])\n",
    "    \n",
    "    if tax_level == \"phylum\":\n",
    "        ax.set_ylabel(\"Counts\", fontsize=fontsize)\n",
    "    else:\n",
    "        ax.set_yticks([0,100,200,300,400,500,600,700], [\"\",\"\",\"\",\"\",\"\",\"\",\"\",\"\"])\n",
    "    \n",
    "    ax.spines.right.set_visible(False)\n",
    "    ax.spines.top.set_visible(False)\n",
    "\n",
    "    ax.tick_params(axis=\"both\", labelsize=fontsize)\n",
    "\n",
    "    ax.grid(True, which=\"both\", color=\"lightgray\", ls=\"--\", lw=1)\n",
    "    ax.set_axisbelow(True)\n",
    "\n",
    "    plt.savefig(f\"figures/targets_removed_offtarget_{tax_level}_{expected_tax[0]}.png\", dpi=300, bbox_inches=\"tight\")\n",
    "\n",
    "    fig.show()"
   ]
  },
  {
   "cell_type": "code",
   "execution_count": 64,
   "id": "489e7b1d-dc41-470f-9a30-43d033b7baf9",
   "metadata": {},
   "outputs": [
    {
     "data": {
      "image/png": "[encoded data removed]",
      "text/plain": [
       "<Figure size 360x504 with 1 Axes>"
      ]
     },
     "metadata": {
      "image/png": {
       "height": 394,
       "width": 296
      },
      "needs_background": "light"
     },
     "output_type": "display_data"
    }
   ],
   "source": [
    "barplot_incorrects(\"species\", [\"Marburg marburgvirus\"])"
   ]
  },
  {
   "cell_type": "code",
   "execution_count": 65,
   "id": "76b3ea94-a0bd-4a9c-a932-1e929ec33b7d",
   "metadata": {},
   "outputs": [
    {
     "data": {
      "image/png": "[encoded data removed]",
      "text/plain": [
       "<Figure size 360x504 with 1 Axes>"
      ]
     },
     "metadata": {
      "image/png": {
       "height": 394,
       "width": 296
      },
      "needs_background": "light"
     },
     "output_type": "display_data"
    }
   ],
   "source": [
    "barplot_incorrects(\"genus\", [\"Marburgvirus\"])"
   ]
  },
  {
   "cell_type": "code",
   "execution_count": 66,
   "id": "e6ef02ea-b123-4e41-a51d-d11757b95ca4",
   "metadata": {},
   "outputs": [
    {
     "data": {
      "image/png": "[encoded data removed]",
      "text/plain": [
       "<Figure size 360x504 with 1 Axes>"
      ]
     },
     "metadata": {
      "image/png": {
       "height": 394,
       "width": 296
      },
      "needs_background": "light"
     },
     "output_type": "display_data"
    }
   ],
   "source": [
    "barplot_incorrects(\"family\", [\"Paramyxoviridae\"])"
   ]
  },
  {
   "cell_type": "code",
   "execution_count": 67,
   "id": "64f4bd87-39e6-42e1-b3a2-ea4868554bcc",
   "metadata": {},
   "outputs": [],
   "source": [
    "def barplot_incorrects2(tax_level1, expected_tax1, tax_level2, expected_tax2):\n",
    "    fig, ax = plt.subplots(figsize=(5,7))\n",
    "    fontsize=18\n",
    "\n",
    "    correct = adata2[:, adata2.var.index.isin(taxmap[(taxmap[tax_level1].isin(expected_tax1)) & (taxmap[tax_level2].isin(expected_tax2))][\"rep_ID\"].unique())].X.sum()\n",
    "    ax.bar(0, correct, color=colors[0], edgecolor=\"black\")\n",
    "    if correct > 0:\n",
    "        ax.text(0, correct+10, str(int(correct)), fontsize=fontsize, ha=\"center\")\n",
    "\n",
    "\n",
    "    correct = adata[:, adata.var.index.isin(taxmap[(taxmap[tax_level1].isin(expected_tax1)) & (taxmap[tax_level2].isin(expected_tax2))][\"rep_ID\"].unique())].X.sum()\n",
    "    ax.bar(1, correct, color=colors[1], edgecolor=\"black\")\n",
    "    if correct > 0:\n",
    "        ax.text(1, correct+10, str(int(correct)), fontsize=fontsize, ha=\"center\")\n",
    "\n",
    "    correct = adata3[:, adata3.var.index.isin(taxmap[(taxmap[tax_level1].isin(expected_tax1)) & (taxmap[tax_level2].isin(expected_tax2))][\"rep_ID\"].unique())].X.sum()\n",
    "    ax.bar(2, correct, color=colors[2], edgecolor=\"black\")\n",
    "    if correct > 0:\n",
    "        ax.text(2, correct+10, str(int(correct)), fontsize=fontsize, ha=\"center\")\n",
    "    \n",
    "    ax.axhline(total, color=\"black\", ls=\"--\")\n",
    "\n",
    "    # x_labels = [\"All Ebolavirus\\nspecies excluded\", \"All Ebolavirus\\ngenera excluded\", \"All Filoviridae\\nexcluded\"]\n",
    "    # ax.set_xticks([0,1,2], x_labels)\n",
    "    ax.set_xticks([])\n",
    "    \n",
    "    ax.set_yticks([0,100,200,300,400,500,600,700], [\"\",\"\",\"\",\"\",\"\",\"\",\"\",\"\"])\n",
    "    \n",
    "    ax.spines.right.set_visible(False)\n",
    "    ax.spines.top.set_visible(False)\n",
    "\n",
    "    ax.tick_params(axis=\"both\", labelsize=fontsize)\n",
    "\n",
    "    ax.grid(True, which=\"both\", color=\"lightgray\", ls=\"--\", lw=1)\n",
    "    ax.set_axisbelow(True)\n",
    "\n",
    "    plt.savefig(f\"figures/targets_removed_offtarget_{tax_level1}_{tax_level2}.png\", dpi=300, bbox_inches=\"tight\")\n",
    "\n",
    "    fig.show()"
   ]
  },
  {
   "cell_type": "code",
   "execution_count": 68,
   "id": "416f225b-eade-45c9-bac5-dac6f3170e03",
   "metadata": {},
   "outputs": [
    {
     "data": {
      "image/png": "[encoded data removed]",
      "text/plain": [
       "<Figure size 360x504 with 1 Axes>"
      ]
     },
     "metadata": {
      "image/png": {
       "height": 394,
       "width": 296
      },
      "needs_background": "light"
     },
     "output_type": "display_data"
    }
   ],
   "source": [
    "barplot_incorrects2(\"genus\", [\"Ebolavirus\"], \"species\", [\".\"])"
   ]
  },
  {
   "cell_type": "code",
   "execution_count": 69,
   "id": "bc8e8426-e81e-4a24-97bb-9d7a7f36dea8",
   "metadata": {},
   "outputs": [
    {
     "data": {
      "image/png": "[encoded data removed]",
      "text/plain": [
       "<Figure size 360x504 with 1 Axes>"
      ]
     },
     "metadata": {
      "image/png": {
       "height": 394,
       "width": 296
      },
      "needs_background": "light"
     },
     "output_type": "display_data"
    }
   ],
   "source": [
    "barplot_incorrects2(\"genus\", [\".\"], \"species\", [\".\"])"
   ]
  },
  {
   "cell_type": "code",
   "execution_count": 70,
   "id": "9a1e1554-efd0-4d98-8cc9-12ac38beb25f",
   "metadata": {},
   "outputs": [],
   "source": [
    "# # Create legend\n",
    "# import matplotlib.patches as mpatches\n",
    "# import matplotlib.pyplot as plt\n",
    "\n",
    "# fig,ax = plt.subplots(figsize=(7,7))\n",
    "# fontsize=14\n",
    "\n",
    "# c_patch = mpatches.Patch(facecolor='white', edgecolor=\"black\", label='Correct')\n",
    "# i_patch = mpatches.Patch(facecolor='white', edgecolor=\"black\", hatch=\"++\", label=\"Incorrect\")\n",
    "# m_patch = mpatches.Patch(facecolor='white', edgecolor=\"black\", hatch=\"//\", label=\"Multimapped\")\n",
    "# ax.legend(handles=[c_patch, i_patch, m_patch], fontsize=fontsize)\n",
    "\n",
    "# plt.savefig(f\"figures/targets_removed_legend.png\", dpi=300, bbox_inches=\"tight\")\n",
    "\n",
    "# fig.show()"
   ]
  },
  {
   "cell_type": "markdown",
   "id": "a7468772-abe7-4c41-bb8d-3ff93cdd79d4",
   "metadata": {},
   "source": [
    "# Plot tree"
   ]
  },
  {
   "cell_type": "code",
   "execution_count": 360,
   "id": "1b3573c0-5d3b-4ff0-acb8-0c000f839124",
   "metadata": {},
   "outputs": [],
   "source": [
    "def df_to_dict(df):\n",
    "    \"\"\"\n",
    "    Convert data frame to node_to_children dictionary as a first step to converting it to Newick format. \n",
    "    \n",
    "    Every row in the data frame (df) should stand for one complete branch of the tree from the root to the leaves in order\n",
    "    from left to right. \n",
    "    \n",
    "    Returns formatted dictionary.\n",
    "    \n",
    "    Source:\n",
    "    https://stackoverflow.com/questions/65017040/how-to-convert-pandas-dataframe-to-dictionary-for-newick-format\n",
    "    \"\"\"\n",
    "    node_to_children = {}\n",
    "\n",
    "    # Setting arbritrary branch length 1\n",
    "    branch_length = 1\n",
    "\n",
    "    # Iterate over dataframe row-wise, assuming that every row stands for one complete branch of the tree\n",
    "    for row in df.itertuples():\n",
    "        # Remove index at position 0 and elements that contain no child (\".\")\n",
    "        row_list = [element for element in row[1:] if element != \".\"]\n",
    "\n",
    "        for i in range(len(row_list)-1):\n",
    "            if row_list[i] in node_to_children.keys():\n",
    "                # Check if parent entry already existing \n",
    "                if row_list[i+1] in node_to_children[row_list[i]].keys():\n",
    "                    # If already exists --> next\n",
    "                    continue\n",
    "                else:\n",
    "                    # If entry does not exist --> update dict and add the connection\n",
    "                    node_to_children[row_list[i]].update({row_list[i+1]:branch_length})\n",
    "            else:\n",
    "                # Add the branching point\n",
    "                node_to_children[row_list[i]] = {row_list[i+1]:branch_length}\n",
    "    \n",
    "    return node_to_children\n",
    "\n",
    "\n",
    "def newickify(node_to_children, root_node) -> str:\n",
    "    \"\"\"\n",
    "    Function to convert a dictionary to Newick format.\n",
    "    \n",
    "    Source:\n",
    "    https://stackoverflow.com/questions/50003007/how-to-convert-python-dictionary-to-newick-form-format\n",
    "    \"\"\"\n",
    "    # Setting arbritrary branch length 1\n",
    "    branch_length = 1\n",
    "    \n",
    "    visited_nodes = set()\n",
    "\n",
    "    def newick_render_node(name, distance: float) -> str:\n",
    "        assert name not in visited_nodes, \"Error: The tree may not be circular!\"\n",
    "\n",
    "        if name not in node_to_children:\n",
    "            # Leafs\n",
    "            return F'{name}:{distance}'\n",
    "        else:\n",
    "            # Nodes\n",
    "            visited_nodes.add(name)\n",
    "            children = node_to_children[name]\n",
    "            children_strings = [newick_render_node(child, children[child]) for child in children.keys()]\n",
    "            children_strings = \",\".join(children_strings)\n",
    "            return F'({children_strings}){name}:{distance}'\n",
    "\n",
    "    newick_string = newick_render_node(root_node, branch_length) + ';'\n",
    "\n",
    "    # Ensure no entries in the dictionary were left unused\n",
    "    assert visited_nodes == set(node_to_children.keys()), \"Error: some nodes aren't in the tree\"\n",
    "\n",
    "    return newick_string"
   ]
  },
  {
   "cell_type": "code",
   "execution_count": 361,
   "id": "a14169d5-df4e-41ec-8c57-3306c6e96c94",
   "metadata": {},
   "outputs": [],
   "source": [
    "# Combine phylogenies returned by both conditions\n",
    "t1 = taxmap[taxmap[\"rep_ID\"].isin(ids_seen)].drop([\"ID\", \"rep_ID\", \"strandedness\"], axis=1).drop_duplicates()\n",
    "t2 = taxmap[taxmap[\"rep_ID\"].isin(ids_seen2)].drop([\"ID\", \"rep_ID\", \"strandedness\"], axis=1).drop_duplicates()\n",
    "t3 = taxmap[taxmap[\"rep_ID\"].isin([\"u10\"])].drop([\"ID\", \"rep_ID\", \"strandedness\"], axis=1).drop_duplicates()"
   ]
  },
  {
   "cell_type": "code",
   "execution_count": 362,
   "id": "92c91729-993a-4026-a2f5-285bea928e08",
   "metadata": {},
   "outputs": [
    {
     "data": {
      "text/html": [
       "<div>\n",
       "<style scoped>\n",
       "    .dataframe tbody tr th:only-of-type {\n",
       "        vertical-align: middle;\n",
       "    }\n",
       "\n",
       "    .dataframe tbody tr th {\n",
       "        vertical-align: top;\n",
       "    }\n",
       "\n",
       "    .dataframe thead th {\n",
       "        text-align: right;\n",
       "    }\n",
       "</style>\n",
       "<table border=\"1\" class=\"dataframe\">\n",
       "  <thead>\n",
       "    <tr style=\"text-align: right;\">\n",
       "      <th></th>\n",
       "      <th>realm</th>\n",
       "      <th>phylum</th>\n",
       "      <th>class</th>\n",
       "      <th>order</th>\n",
       "      <th>family</th>\n",
       "      <th>genus</th>\n",
       "      <th>species</th>\n",
       "    </tr>\n",
       "  </thead>\n",
       "  <tbody>\n",
       "    <tr>\n",
       "      <th>218192</th>\n",
       "      <td>Riboviria</td>\n",
       "      <td>Negarnaviricota</td>\n",
       "      <td>Monjiviricetes</td>\n",
       "      <td>Mononegavirales</td>\n",
       "      <td>Filoviridae</td>\n",
       "      <td>Marburgvirus</td>\n",
       "      <td>Marburg marburgvirus</td>\n",
       "    </tr>\n",
       "    <tr>\n",
       "      <th>237814</th>\n",
       "      <td>Riboviria</td>\n",
       "      <td>Negarnaviricota</td>\n",
       "      <td>Monjiviricetes</td>\n",
       "      <td>Mononegavirales</td>\n",
       "      <td>Filoviridae</td>\n",
       "      <td>.</td>\n",
       "      <td>.</td>\n",
       "    </tr>\n",
       "    <tr>\n",
       "      <th>32024</th>\n",
       "      <td>Riboviria</td>\n",
       "      <td>Negarnaviricota</td>\n",
       "      <td>Monjiviricetes</td>\n",
       "      <td>Mononegavirales</td>\n",
       "      <td>Filoviridae</td>\n",
       "      <td>Ebolavirus</td>\n",
       "      <td>.</td>\n",
       "    </tr>\n",
       "    <tr>\n",
       "      <th>218192</th>\n",
       "      <td>Riboviria</td>\n",
       "      <td>Negarnaviricota</td>\n",
       "      <td>Monjiviricetes</td>\n",
       "      <td>Mononegavirales</td>\n",
       "      <td>Filoviridae</td>\n",
       "      <td>Marburgvirus</td>\n",
       "      <td>Marburg marburgvirus</td>\n",
       "    </tr>\n",
       "    <tr>\n",
       "      <th>409</th>\n",
       "      <td>Riboviria</td>\n",
       "      <td>Negarnaviricota</td>\n",
       "      <td>Monjiviricetes</td>\n",
       "      <td>Mononegavirales</td>\n",
       "      <td>Filoviridae</td>\n",
       "      <td>Ebolavirus</td>\n",
       "      <td>Zaire ebolavirus</td>\n",
       "    </tr>\n",
       "  </tbody>\n",
       "</table>\n",
       "</div>"
      ],
      "text/plain": [
       "            realm           phylum           class            order  \\\n",
       "218192  Riboviria  Negarnaviricota  Monjiviricetes  Mononegavirales   \n",
       "237814  Riboviria  Negarnaviricota  Monjiviricetes  Mononegavirales   \n",
       "32024   Riboviria  Negarnaviricota  Monjiviricetes  Mononegavirales   \n",
       "218192  Riboviria  Negarnaviricota  Monjiviricetes  Mononegavirales   \n",
       "409     Riboviria  Negarnaviricota  Monjiviricetes  Mononegavirales   \n",
       "\n",
       "             family         genus               species  \n",
       "218192  Filoviridae  Marburgvirus  Marburg marburgvirus  \n",
       "237814  Filoviridae             .                     .  \n",
       "32024   Filoviridae    Ebolavirus                     .  \n",
       "218192  Filoviridae  Marburgvirus  Marburg marburgvirus  \n",
       "409     Filoviridae    Ebolavirus      Zaire ebolavirus  "
      ]
     },
     "execution_count": 362,
     "metadata": {},
     "output_type": "execute_result"
    }
   ],
   "source": [
    "# Add root node\n",
    "final_df = t1.append(t2).append(t3)\n",
    "final_df.insert(loc=0, column=\"realm\", value=\"Riboviria\")\n",
    "final_df"
   ]
  },
  {
   "cell_type": "code",
   "execution_count": 363,
   "id": "1c652ebb-4c18-414b-b847-f6a44f39e202",
   "metadata": {},
   "outputs": [
    {
     "data": {
      "text/plain": [
       "'((((((Marburg marburgvirus:1)Marburgvirus:1,(Zaire ebolavirus:1)Ebolavirus:1)Filoviridae:1)Mononegavirales:1)Monjiviricetes:1)Negarnaviricota:1)Riboviria:1;'"
      ]
     },
     "execution_count": 363,
     "metadata": {},
     "output_type": "execute_result"
    }
   ],
   "source": [
    "# Convert to Newick format\n",
    "n_string = newickify(df_to_dict(final_df), \"Riboviria\")\n",
    "n_string"
   ]
  },
  {
   "cell_type": "markdown",
   "id": "0d6076ce-c902-42ab-852c-8e8ebe7f9b79",
   "metadata": {},
   "source": [
    "Plot tree:"
   ]
  },
  {
   "cell_type": "code",
   "execution_count": 364,
   "id": "e34cd06e-02f0-4e67-a24c-fc37d3e598a0",
   "metadata": {},
   "outputs": [],
   "source": [
    "from ete3 import Tree, faces, AttrFace, TreeStyle, NodeStyle\n",
    "import os\n",
    "os.environ['QT_QPA_PLATFORM']='offscreen'"
   ]
  },
  {
   "cell_type": "code",
   "execution_count": 365,
   "id": "982a950d-9b53-430e-b149-e48ef635ad78",
   "metadata": {},
   "outputs": [
    {
     "data": {
      "image/png": "[encoded data removed]",
      "text/plain": [
       "<IPython.core.display.Image object>"
      ]
     },
     "execution_count": 365,
     "metadata": {},
     "output_type": "execute_result"
    }
   ],
   "source": [
    "def layout(node):\n",
    "    # If node is a leaf, add the nodes name and a its scientific name\n",
    "    if node.is_leaf():\n",
    "        faces.add_face_to_node(AttrFace(\"name\"), node, column=0)\n",
    "\n",
    "t = Tree(n_string, format=1)\n",
    "\n",
    "# Node style handling is no longer limited to layout functions. You\n",
    "# can now create fixed node styles and use them many times, save them\n",
    "# or even add them to nodes before drawing (this allows to save and\n",
    "# reproduce an tree image design)\n",
    "\n",
    "# # Set bold red branch to the root node\n",
    "# style = NodeStyle()\n",
    "# style[\"fgcolor\"] = \"#0f0f0f\"\n",
    "# style[\"size\"] = 0\n",
    "# style[\"vt_line_color\"] = \"#ff0000\"\n",
    "# style[\"hz_line_color\"] = \"#ff0000\"\n",
    "# style[\"vt_line_width\"] = 8\n",
    "# style[\"hz_line_width\"] = 8\n",
    "# style[\"vt_line_type\"] = 0 # 0 solid, 1 dashed, 2 dotted\n",
    "# style[\"hz_line_type\"] = 0\n",
    "# t.set_style(style)\n",
    "\n",
    "# #Set dotted red lines to the first two branches\n",
    "# style1 = NodeStyle()\n",
    "# style1[\"fgcolor\"] = \"#0f0f0f\"\n",
    "# style1[\"size\"] = 0\n",
    "# style1[\"vt_line_color\"] = \"#ff0000\"\n",
    "# style1[\"hz_line_color\"] = \"#ff0000\"\n",
    "# style1[\"vt_line_width\"] = 2\n",
    "# style1[\"hz_line_width\"] = 2\n",
    "# style1[\"vt_line_type\"] = 2 # 0 solid, 1 dashed, 2 dotted\n",
    "# style1[\"hz_line_type\"] = 2\n",
    "# t.children[0].img_style = style1\n",
    "# t.children[1].img_style = style1\n",
    "\n",
    "# # Set dashed blue lines in all leaves\n",
    "# style2 = NodeStyle()\n",
    "# style2[\"fgcolor\"] = \"#000000\"\n",
    "# style2[\"shape\"] = \"circle\"\n",
    "# style2[\"vt_line_color\"] = \"#0000aa\"\n",
    "# style2[\"hz_line_color\"] = \"#0000aa\"\n",
    "# style2[\"vt_line_width\"] = 2\n",
    "# style2[\"hz_line_width\"] = 2\n",
    "# style2[\"vt_line_type\"] = 1 # 0 solid, 1 dashed, 2 dotted\n",
    "# style2[\"hz_line_type\"] = 1\n",
    "# for l in t.iter_leaves():\n",
    "#     l.img_style = style2\n",
    "\n",
    "ts = TreeStyle()\n",
    "ts.layout_fn = layout\n",
    "ts.show_leaf_name = False\n",
    "\n",
    "t.render(\"%%inline\", tree_style=ts)"
   ]
  },
  {
   "cell_type": "code",
   "execution_count": null,
   "id": "56e671ee-8964-43a9-ad5e-f44d216b873b",
   "metadata": {},
   "outputs": [],
   "source": []
  }
 ],
 "metadata": {
  "kernelspec": {
   "display_name": "Python 3 (ipykernel)",
   "language": "python",
   "name": "python3"
  },
  "language_info": {
   "codemirror_mode": {
    "name": "ipython",
    "version": 3
   },
   "file_extension": ".py",
   "mimetype": "text/x-python",
   "name": "python",
   "nbconvert_exporter": "python",
   "pygments_lexer": "ipython3",
   "version": "3.9.12"
  }
 },
 "nbformat": 4,
 "nbformat_minor": 5
}
