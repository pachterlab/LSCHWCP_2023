{
  "cells": [
    {
      "cell_type": "markdown",
      "metadata": {
        "id": "view-in-github",
        "colab_type": "text"
      },
      "source": [
        "<a href=\"https://colab.research.google.com/github/pachterlab/LSCHWCP_2023/blob/main/Notebooks/Supp_Fig_1/remove_targets_from_ref.ipynb\" target=\"_parent\"><img src=\"https://colab.research.google.com/assets/colab-badge.svg\" alt=\"Open In Colab\"/></a>"
      ]
    },
    {
      "cell_type": "markdown",
      "source": [
        "# Remove target virus species, genus and family from reference index prior to performing alignment\n",
        "\n",
        "### Install software and download data"
      ],
      "metadata": {
        "id": "yPagf0-0_RsM"
      },
      "id": "yPagf0-0_RsM"
    },
    {
      "cell_type": "code",
      "source": [
        "!pip install -q kb_python biopython"
      ],
      "metadata": {
        "colab": {
          "base_uri": "https://localhost:8080/"
        },
        "id": "J1_IPM0M_I9v",
        "outputId": "a1ddcf5b-ed2f-4303-839c-b3379ceda012"
      },
      "id": "J1_IPM0M_I9v",
      "execution_count": 1,
      "outputs": [
        {
          "output_type": "stream",
          "name": "stdout",
          "text": [
            "\u001b[2K     \u001b[90m━━━━━━━━━━━━━━━━━━━━━━━━━━━━━━━━━━━━━━━━\u001b[0m \u001b[32m13.1/13.1 MB\u001b[0m \u001b[31m42.3 MB/s\u001b[0m eta \u001b[36m0:00:00\u001b[0m\n",
            "\u001b[2K     \u001b[90m━━━━━━━━━━━━━━━━━━━━━━━━━━━━━━━━━━━━━━━━\u001b[0m \u001b[32m3.1/3.1 MB\u001b[0m \u001b[31m71.1 MB/s\u001b[0m eta \u001b[36m0:00:00\u001b[0m\n",
            "\u001b[2K     \u001b[90m━━━━━━━━━━━━━━━━━━━━━━━━━━━━━━━━━━━━━━━━\u001b[0m \u001b[32m119.2/119.2 kB\u001b[0m \u001b[31m14.8 MB/s\u001b[0m eta \u001b[36m0:00:00\u001b[0m\n",
            "\u001b[2K     \u001b[90m━━━━━━━━━━━━━━━━━━━━━━━━━━━━━━━━━━━━━━━━\u001b[0m \u001b[32m4.8/4.8 MB\u001b[0m \u001b[31m80.8 MB/s\u001b[0m eta \u001b[36m0:00:00\u001b[0m\n",
            "\u001b[?25h  Preparing metadata (setup.py) ... \u001b[?25l\u001b[?25hdone\n",
            "\u001b[2K     \u001b[90m━━━━━━━━━━━━━━━━━━━━━━━━━━━━━━━━━━━━━━━━\u001b[0m \u001b[32m45.2/45.2 MB\u001b[0m \u001b[31m14.1 MB/s\u001b[0m eta \u001b[36m0:00:00\u001b[0m\n",
            "\u001b[2K     \u001b[90m━━━━━━━━━━━━━━━━━━━━━━━━━━━━━━━━━━━━━━━━\u001b[0m \u001b[32m2.0/2.0 MB\u001b[0m \u001b[31m44.8 MB/s\u001b[0m eta \u001b[36m0:00:00\u001b[0m\n",
            "\u001b[2K     \u001b[90m━━━━━━━━━━━━━━━━━━━━━━━━━━━━━━━━━━━━━━━━\u001b[0m \u001b[32m21.9/21.9 MB\u001b[0m \u001b[31m36.5 MB/s\u001b[0m eta \u001b[36m0:00:00\u001b[0m\n",
            "\u001b[?25h  Preparing metadata (setup.py) ... \u001b[?25l\u001b[?25hdone\n",
            "\u001b[2K     \u001b[90m━━━━━━━━━━━━━━━━━━━━━━━━━━━━━━━━━━━━━━━━\u001b[0m \u001b[32m90.9/90.9 kB\u001b[0m \u001b[31m5.6 MB/s\u001b[0m eta \u001b[36m0:00:00\u001b[0m\n",
            "\u001b[?25h  Preparing metadata (setup.py) ... \u001b[?25l\u001b[?25hdone\n",
            "\u001b[2K     \u001b[90m━━━━━━━━━━━━━━━━━━━━━━━━━━━━━━━━━━━━━━━━\u001b[0m \u001b[32m55.8/55.8 kB\u001b[0m \u001b[31m5.1 MB/s\u001b[0m eta \u001b[36m0:00:00\u001b[0m\n",
            "\u001b[2K     \u001b[90m━━━━━━━━━━━━━━━━━━━━━━━━━━━━━━━━━━━━━━━━\u001b[0m \u001b[32m79.8/79.8 kB\u001b[0m \u001b[31m10.6 MB/s\u001b[0m eta \u001b[36m0:00:00\u001b[0m\n",
            "\u001b[?25h  Building wheel for loompy (setup.py) ... \u001b[?25l\u001b[?25hdone\n",
            "  Building wheel for umap-learn (setup.py) ... \u001b[?25l\u001b[?25hdone\n",
            "  Building wheel for session-info (setup.py) ... \u001b[?25l\u001b[?25hdone\n"
          ]
        }
      ]
    },
    {
      "cell_type": "code",
      "execution_count": 2,
      "id": "872de9b7-c4d2-4f91-bc90-b1e526117ce9",
      "metadata": {
        "id": "872de9b7-c4d2-4f91-bc90-b1e526117ce9"
      },
      "outputs": [],
      "source": [
        "from Bio import SeqIO\n",
        "import pandas as pd\n",
        "import numpy as np\n",
        "from itertools import product\n",
        "import kb_python.utils as kb_utils\n",
        "%config InlineBackend.figure_format='retina'\n",
        "import matplotlib.pyplot as plt\n",
        "from tqdm import tqdm\n",
        "TQDM_BAR_FORMAT = (\n",
        "    \"{l_bar}{bar}| {n_fmt}/{total_fmt} [elapsed: {elapsed} remaining: {remaining}]\"\n",
        ")\n",
        "\n",
        "def nd(arr):\n",
        "    \"\"\"\n",
        "    Function to transform numpy matrix to nd array.\n",
        "    \"\"\"\n",
        "    return np.asarray(arr).reshape(-1)"
      ]
    },
    {
      "cell_type": "code",
      "source": [
        "# Install kallisto from source\n",
        "!git clone -q https://github.com/pachterlab/kallisto.git\n",
        "!cd kallisto && mkdir build && cd build && cmake .. && make\n",
        "\n",
        "# Install bustools from source\n",
        "!git clone -q https://github.com/BUStools/bustools.git\n",
        "!cd bustools && mkdir build && cd build && cmake .. && make\n",
        "\n",
        "# Define paths to kallisto and bustools binaries\n",
        "kallisto = \"/content/kallisto/build/src/kallisto\"\n",
        "bustools = \"/content/bustools/build/src/bustools\""
      ],
      "metadata": {
        "colab": {
          "base_uri": "https://localhost:8080/"
        },
        "id": "BktiEDlv_3El",
        "outputId": "f1849c7c-bc09-4bc5-f2f2-c74968faf75a"
      },
      "id": "BktiEDlv_3El",
      "execution_count": 3,
      "outputs": [
        {
          "output_type": "stream",
          "name": "stdout",
          "text": [
            "\u001b[0mCMake Deprecation Warning at CMakeLists.txt:1 (cmake_minimum_required):\n",
            "  Compatibility with CMake < 3.5 will be removed from a future version of\n",
            "  CMake.\n",
            "\n",
            "  Update the VERSION argument <min> value or use a ...<max> suffix to tell\n",
            "  CMake that the project does not need compatibility with older versions.\n",
            "\n",
            "\u001b[0m\n",
            "-- The C compiler identification is GNU 11.4.0\n",
            "-- The CXX compiler identification is GNU 11.4.0\n",
            "-- Detecting C compiler ABI info\n",
            "-- Detecting C compiler ABI info - done\n",
            "-- Check for working C compiler: /usr/bin/cc - skipped\n",
            "-- Detecting C compile features\n",
            "-- Detecting C compile features - done\n",
            "-- Detecting CXX compiler ABI info\n",
            "-- Detecting CXX compiler ABI info - done\n",
            "-- Check for working CXX compiler: /usr/bin/c++ - skipped\n",
            "-- Detecting CXX compile features\n",
            "-- Detecting CXX compile features - done\n",
            "-- Performing Test COMPILER_SUPPORTS_CXX17\n",
            "-- Performing Test COMPILER_SUPPORTS_CXX17 - Success\n",
            "\u001b[0mshared build\u001b[0m\n",
            "-- Performing Test CMAKE_HAVE_LIBC_PTHREAD\n",
            "-- Performing Test CMAKE_HAVE_LIBC_PTHREAD - Success\n",
            "-- Found Threads: TRUE  \n",
            "-- Found ZLIB: /usr/lib/x86_64-linux-gnu/libz.so (found version \"1.2.11\")  \n",
            "-- Configuring done (1.4s)\n",
            "-- Generating done (0.0s)\n",
            "-- Build files have been written to: /content/kallisto/build\n",
            "[  3%] \u001b[34m\u001b[1mCreating directories for 'bifrost'\u001b[0m\n",
            "[  7%] \u001b[34m\u001b[1mNo download step for 'bifrost'\u001b[0m\n",
            "[ 11%] \u001b[34m\u001b[1mNo update step for 'bifrost'\u001b[0m\n",
            "[ 15%] \u001b[34m\u001b[1mNo patch step for 'bifrost'\u001b[0m\n",
            "[ 19%] \u001b[34m\u001b[1mPerforming configure step for 'bifrost'\u001b[0m\n",
            "\u001b[0mCMake Deprecation Warning at CMakeLists.txt:1 (cmake_minimum_required):\n",
            "  Compatibility with CMake < 3.5 will be removed from a future version of\n",
            "  CMake.\n",
            "\n",
            "  Update the VERSION argument <min> value or use a ...<max> suffix to tell\n",
            "  CMake that the project does not need compatibility with older versions.\n",
            "\n",
            "\u001b[0m\n",
            "-- The C compiler identification is GNU 11.4.0\n",
            "-- The CXX compiler identification is GNU 11.4.0\n",
            "-- Detecting C compiler ABI info\n",
            "-- Detecting C compiler ABI info - done\n",
            "-- Check for working C compiler: /usr/bin/cc - skipped\n",
            "-- Detecting C compile features\n",
            "-- Detecting C compile features - done\n",
            "-- Detecting CXX compiler ABI info\n",
            "-- Detecting CXX compiler ABI info - done\n",
            "-- Check for working CXX compiler: /usr/bin/c++ - skipped\n",
            "-- Detecting CXX compile features\n",
            "-- Detecting CXX compile features - done\n",
            "-- Performing Test CMAKE_HAVE_LIBC_PTHREAD\n",
            "-- Performing Test CMAKE_HAVE_LIBC_PTHREAD - Success\n",
            "-- Found Threads: TRUE  \n",
            "\u001b[0mCompilation architecture: native\u001b[0m\n",
            "\u001b[0mBuild type: Release\u001b[0m\n",
            "\u001b[0mMaximum k-mer size: 31\u001b[0m\n",
            "\u001b[0mMaximum g-mer size: 31\u001b[0m\n",
            "-- Found ZLIB: /usr/lib/x86_64-linux-gnu/libz.so (found version \"1.2.11\")  \n",
            "-- Configuring done (0.4s)\n",
            "-- Generating done (0.0s)\n",
            "-- Build files have been written to: /content/kallisto/ext/bifrost/build\n",
            "[ 23%] \u001b[34m\u001b[1mPerforming build step for 'bifrost'\u001b[0m\n",
            "[  3%] \u001b[32mBuilding CXX object src/CMakeFiles/bifrost_static.dir/Bifrost.cpp.o\u001b[0m\n",
            "[  6%] \u001b[32mBuilding CXX object src/CMakeFiles/bifrost_static.dir/BitContainer.cpp.o\u001b[0m\n",
            "[  9%] \u001b[32mBuilding CXX object src/CMakeFiles/bifrost_static.dir/BlockedBloomFilter.cpp.o\u001b[0m\n",
            "[ 12%] \u001b[32mBuilding CXX object src/CMakeFiles/bifrost_static.dir/ColorSet.cpp.o\u001b[0m\n",
            "[ 15%] \u001b[32mBuilding CXX object src/CMakeFiles/bifrost_static.dir/CompressedCoverage.cpp.o\u001b[0m\n",
            "[ 18%] \u001b[32mBuilding CXX object src/CMakeFiles/bifrost_static.dir/CompressedSequence.cpp.o\u001b[0m\n",
            "[ 21%] \u001b[32mBuilding CXX object src/CMakeFiles/bifrost_static.dir/FASTX_Parser.cpp.o\u001b[0m\n",
            "[ 25%] \u001b[32mBuilding CXX object src/CMakeFiles/bifrost_static.dir/GFA_Parser.cpp.o\u001b[0m\n",
            "[ 28%] \u001b[32mBuilding CXX object src/CMakeFiles/bifrost_static.dir/Kmer.cpp.o\u001b[0m\n",
            "[ 31%] \u001b[32mBuilding CXX object src/CMakeFiles/bifrost_static.dir/KmerIterator.cpp.o\u001b[0m\n",
            "[ 34%] \u001b[32mBuilding CXX object src/CMakeFiles/bifrost_static.dir/MinimizerIndex.cpp.o\u001b[0m\n",
            "[ 37%] \u001b[32mBuilding CXX object src/CMakeFiles/bifrost_static.dir/TinyBitmap.cpp.o\u001b[0m\n",
            "[ 40%] \u001b[32mBuilding CXX object src/CMakeFiles/bifrost_static.dir/UnitigMap.cpp.o\u001b[0m\n",
            "[ 43%] \u001b[32mBuilding C object src/CMakeFiles/bifrost_static.dir/roaring.c.o\u001b[0m\n",
            "[ 46%] \u001b[32m\u001b[1mLinking CXX static library libbifrost.a\u001b[0m\n",
            "[ 46%] Built target bifrost_static\n",
            "[ 50%] \u001b[32mBuilding CXX object src/CMakeFiles/bifrost_dynamic.dir/Bifrost.cpp.o\u001b[0m\n",
            "[ 53%] \u001b[32mBuilding CXX object src/CMakeFiles/bifrost_dynamic.dir/BitContainer.cpp.o\u001b[0m\n",
            "[ 56%] \u001b[32mBuilding CXX object src/CMakeFiles/bifrost_dynamic.dir/BlockedBloomFilter.cpp.o\u001b[0m\n",
            "[ 59%] \u001b[32mBuilding CXX object src/CMakeFiles/bifrost_dynamic.dir/ColorSet.cpp.o\u001b[0m\n",
            "[ 62%] \u001b[32mBuilding CXX object src/CMakeFiles/bifrost_dynamic.dir/CompressedCoverage.cpp.o\u001b[0m\n",
            "[ 65%] \u001b[32mBuilding CXX object src/CMakeFiles/bifrost_dynamic.dir/CompressedSequence.cpp.o\u001b[0m\n",
            "[ 68%] \u001b[32mBuilding CXX object src/CMakeFiles/bifrost_dynamic.dir/FASTX_Parser.cpp.o\u001b[0m\n",
            "[ 71%] \u001b[32mBuilding CXX object src/CMakeFiles/bifrost_dynamic.dir/GFA_Parser.cpp.o\u001b[0m\n",
            "[ 75%] \u001b[32mBuilding CXX object src/CMakeFiles/bifrost_dynamic.dir/Kmer.cpp.o\u001b[0m\n",
            "[ 78%] \u001b[32mBuilding CXX object src/CMakeFiles/bifrost_dynamic.dir/KmerIterator.cpp.o\u001b[0m\n",
            "[ 81%] \u001b[32mBuilding CXX object src/CMakeFiles/bifrost_dynamic.dir/MinimizerIndex.cpp.o\u001b[0m\n",
            "[ 84%] \u001b[32mBuilding CXX object src/CMakeFiles/bifrost_dynamic.dir/TinyBitmap.cpp.o\u001b[0m\n",
            "[ 87%] \u001b[32mBuilding CXX object src/CMakeFiles/bifrost_dynamic.dir/UnitigMap.cpp.o\u001b[0m\n",
            "[ 90%] \u001b[32mBuilding C object src/CMakeFiles/bifrost_dynamic.dir/roaring.c.o\u001b[0m\n",
            "[ 93%] \u001b[32m\u001b[1mLinking CXX shared library libbifrost.so\u001b[0m\n",
            "[ 93%] Built target bifrost_dynamic\n",
            "[ 96%] \u001b[32mBuilding CXX object src/CMakeFiles/Bifrost.dir/Bifrost.cpp.o\u001b[0m\n",
            "[100%] \u001b[32m\u001b[1mLinking CXX executable Bifrost\u001b[0m\n",
            "[100%] Built target Bifrost\n",
            "[ 26%] \u001b[34m\u001b[1mNo install step for 'bifrost'\u001b[0m\n",
            "[ 30%] \u001b[34m\u001b[1mCompleted 'bifrost'\u001b[0m\n",
            "[ 30%] Built target bifrost\n",
            "[ 34%] \u001b[32mBuilding CXX object src/CMakeFiles/kallisto_core.dir/BUSData.cpp.o\u001b[0m\n",
            "[ 38%] \u001b[32mBuilding CXX object src/CMakeFiles/kallisto_core.dir/BUSTools.cpp.o\u001b[0m\n",
            "[ 42%] \u001b[32mBuilding CXX object src/CMakeFiles/kallisto_core.dir/Bootstrap.cpp.o\u001b[0m\n",
            "[ 46%] \u001b[32mBuilding CXX object src/CMakeFiles/kallisto_core.dir/GeneModel.cpp.o\u001b[0m\n",
            "[ 50%] \u001b[32mBuilding CXX object src/CMakeFiles/kallisto_core.dir/H5Writer.cpp.o\u001b[0m\n",
            "[ 53%] \u001b[32mBuilding CXX object src/CMakeFiles/kallisto_core.dir/KmerIndex.cpp.o\u001b[0m\n",
            "[ 57%] \u001b[32mBuilding CXX object src/CMakeFiles/kallisto_core.dir/MinCollector.cpp.o\u001b[0m\n",
            "[ 61%] \u001b[32mBuilding CXX object src/CMakeFiles/kallisto_core.dir/PlaintextWriter.cpp.o\u001b[0m\n",
            "[ 65%] \u001b[32mBuilding CXX object src/CMakeFiles/kallisto_core.dir/ProcessReads.cpp.o\u001b[0m\n",
            "[ 69%] \u001b[32mBuilding CXX object src/CMakeFiles/kallisto_core.dir/PseudoBam.cpp.o\u001b[0m\n",
            "[ 73%] \u001b[32mBuilding CXX object src/CMakeFiles/kallisto_core.dir/common.cpp.o\u001b[0m\n",
            "[ 76%] \u001b[32mBuilding CXX object src/CMakeFiles/kallisto_core.dir/h5utils.cpp.o\u001b[0m\n",
            "[ 80%] \u001b[32mBuilding CXX object src/CMakeFiles/kallisto_core.dir/hash.cpp.o\u001b[0m\n",
            "[ 84%] \u001b[32mBuilding CXX object src/CMakeFiles/kallisto_core.dir/main.cpp.o\u001b[0m\n",
            "[ 88%] \u001b[32mBuilding CXX object src/CMakeFiles/kallisto_core.dir/weights.cpp.o\u001b[0m\n",
            "[ 92%] \u001b[32m\u001b[1mLinking CXX static library libkallisto_core.a\u001b[0m\n",
            "[ 92%] Built target kallisto_core\n",
            "[ 96%] \u001b[32mBuilding CXX object src/CMakeFiles/kallisto.dir/main.cpp.o\u001b[0m\n",
            "[100%] \u001b[32m\u001b[1mLinking CXX executable kallisto\u001b[0m\n",
            "[100%] Built target kallisto\n",
            "\u001b[0mCMake Deprecation Warning at CMakeLists.txt:1 (cmake_minimum_required):\n",
            "  Compatibility with CMake < 3.5 will be removed from a future version of\n",
            "  CMake.\n",
            "\n",
            "  Update the VERSION argument <min> value or use a ...<max> suffix to tell\n",
            "  CMake that the project does not need compatibility with older versions.\n",
            "\n",
            "\u001b[0m\n",
            "-- The C compiler identification is GNU 11.4.0\n",
            "-- The CXX compiler identification is GNU 11.4.0\n",
            "-- Detecting C compiler ABI info\n",
            "-- Detecting C compiler ABI info - done\n",
            "-- Check for working C compiler: /usr/bin/cc - skipped\n",
            "-- Detecting C compile features\n",
            "-- Detecting C compile features - done\n",
            "-- Detecting CXX compiler ABI info\n",
            "-- Detecting CXX compiler ABI info - done\n",
            "-- Check for working CXX compiler: /usr/bin/c++ - skipped\n",
            "-- Detecting CXX compile features\n",
            "-- Detecting CXX compile features - done\n",
            "\u001b[0mrelease mode\u001b[0m\n",
            "-- Performing Test CMAKE_HAVE_LIBC_PTHREAD\n",
            "-- Performing Test CMAKE_HAVE_LIBC_PTHREAD - Success\n",
            "-- Found Threads: TRUE  \n",
            "-- Found ZLIB: /usr/lib/x86_64-linux-gnu/libz.so (found version \"1.2.11\")  \n",
            "-- Configuring done (0.4s)\n",
            "-- Generating done (0.0s)\n",
            "-- Build files have been written to: /content/bustools/build\n",
            "[  3%] \u001b[32mBuilding CXX object src/CMakeFiles/bustools_core.dir/BUSData.cpp.o\u001b[0m\n",
            "[  7%] \u001b[32mBuilding CXX object src/CMakeFiles/bustools_core.dir/Common.cpp.o\u001b[0m\n",
            "[ 11%] \u001b[32mBuilding CXX object src/CMakeFiles/bustools_core.dir/bustools_capture.cpp.o\u001b[0m\n",
            "[ 15%] \u001b[32mBuilding CXX object src/CMakeFiles/bustools_core.dir/bustools_clusterhist.cpp.o\u001b[0m\n",
            "[ 19%] \u001b[32mBuilding CXX object src/CMakeFiles/bustools_core.dir/bustools_collapse.cpp.o\u001b[0m\n",
            "[ 23%] \u001b[32mBuilding CXX object src/CMakeFiles/bustools_core.dir/bustools_compress.cpp.o\u001b[0m\n",
            "[ 26%] \u001b[32mBuilding CXX object src/CMakeFiles/bustools_core.dir/bustools_correct.cpp.o\u001b[0m\n",
            "[ 30%] \u001b[32mBuilding CXX object src/CMakeFiles/bustools_core.dir/bustools_count.cpp.o\u001b[0m\n",
            "[ 34%] \u001b[32mBuilding CXX object src/CMakeFiles/bustools_core.dir/bustools_decompress.cpp.o\u001b[0m\n",
            "[ 38%] \u001b[32mBuilding CXX object src/CMakeFiles/bustools_core.dir/bustools_extract.cpp.o\u001b[0m\n",
            "[ 42%] \u001b[32mBuilding CXX object src/CMakeFiles/bustools_core.dir/bustools_inspect.cpp.o\u001b[0m\n",
            "[ 46%] \u001b[32mBuilding CXX object src/CMakeFiles/bustools_core.dir/bustools_linker.cpp.o\u001b[0m\n",
            "[ 50%] \u001b[32mBuilding CXX object src/CMakeFiles/bustools_core.dir/bustools_main.cpp.o\u001b[0m\n",
            "[ 53%] \u001b[32mBuilding CXX object src/CMakeFiles/bustools_core.dir/bustools_mash.cpp.o\u001b[0m\n",
            "[ 57%] \u001b[32mBuilding CXX object src/CMakeFiles/bustools_core.dir/bustools_merge.cpp.o\u001b[0m\n",
            "[ 61%] \u001b[32mBuilding CXX object src/CMakeFiles/bustools_core.dir/bustools_predict.cpp.o\u001b[0m\n",
            "[ 65%] \u001b[32mBuilding CXX object src/CMakeFiles/bustools_core.dir/bustools_project.cpp.o\u001b[0m\n",
            "[ 69%] \u001b[32mBuilding CXX object src/CMakeFiles/bustools_core.dir/bustools_sort.cpp.o\u001b[0m\n",
            "[ 73%] \u001b[32mBuilding CXX object src/CMakeFiles/bustools_core.dir/bustools_text.cpp.o\u001b[0m\n",
            "[ 76%] \u001b[32mBuilding CXX object src/CMakeFiles/bustools_core.dir/bustools_umicorrect.cpp.o\u001b[0m\n",
            "[ 80%] \u001b[32mBuilding CXX object src/CMakeFiles/bustools_core.dir/bustools_whitelist.cpp.o\u001b[0m\n",
            "[ 84%] \u001b[32mBuilding CXX object src/CMakeFiles/bustools_core.dir/hash.cpp.o\u001b[0m\n",
            "[ 88%] \u001b[32mBuilding C object src/CMakeFiles/bustools_core.dir/roaring.c.o\u001b[0m\n",
            "[ 92%] \u001b[32m\u001b[1mLinking CXX static library libbustools_core.a\u001b[0m\n",
            "[ 92%] Built target bustools_core\n",
            "[ 96%] \u001b[32mBuilding CXX object src/CMakeFiles/bustools.dir/bustools_main.cpp.o\u001b[0m\n",
            "[100%] \u001b[32m\u001b[1mLinking CXX executable bustools\u001b[0m\n",
            "[100%] Built target bustools\n"
          ]
        }
      ]
    },
    {
      "cell_type": "code",
      "source": [
        "# Download the customized transcripts to gene mapping\n",
        "!wget https://raw.githubusercontent.com/pachterlab/LSCHWCP_2023/main/PalmDB/palmdb_clustered_t2g.txt\n",
        "# Download the RdRP amino acid sequences\n",
        "!wget https://raw.githubusercontent.com/pachterlab/LSCHWCP_2023/main/PalmDB/palmdb_rdrp_seqs.fa\n",
        "\n",
        "virus_fasta = \"palmdb_rdrp_seqs.fa\"\n",
        "virus_t2g = \"palmdb_clustered_t2g.txt\""
      ],
      "metadata": {
        "colab": {
          "base_uri": "https://localhost:8080/"
        },
        "id": "QJ7vq3lp_3SP",
        "outputId": "0e31f56b-d6be-420b-ac2e-577dea6f12c7"
      },
      "id": "QJ7vq3lp_3SP",
      "execution_count": 4,
      "outputs": [
        {
          "output_type": "stream",
          "name": "stdout",
          "text": [
            "--2023-12-11 03:35:10--  https://raw.githubusercontent.com/pachterlab/LSCHWCP_2023/main/PalmDB/palmdb_clustered_t2g.txt\n",
            "Resolving raw.githubusercontent.com (raw.githubusercontent.com)... 185.199.108.133, 185.199.109.133, 185.199.110.133, ...\n",
            "Connecting to raw.githubusercontent.com (raw.githubusercontent.com)|185.199.108.133|:443... connected.\n",
            "HTTP request sent, awaiting response... 200 OK\n",
            "Length: 4561689 (4.3M) [text/plain]\n",
            "Saving to: ‘palmdb_clustered_t2g.txt’\n",
            "\n",
            "palmdb_clustered_t2 100%[===================>]   4.35M  --.-KB/s    in 0.06s   \n",
            "\n",
            "2023-12-11 03:35:11 (68.2 MB/s) - ‘palmdb_clustered_t2g.txt’ saved [4561689/4561689]\n",
            "\n",
            "--2023-12-11 03:35:11--  https://raw.githubusercontent.com/pachterlab/LSCHWCP_2023/main/PalmDB/palmdb_rdrp_seqs.fa\n",
            "Resolving raw.githubusercontent.com (raw.githubusercontent.com)... 185.199.109.133, 185.199.111.133, 185.199.110.133, ...\n",
            "Connecting to raw.githubusercontent.com (raw.githubusercontent.com)|185.199.109.133|:443... connected.\n",
            "HTTP request sent, awaiting response... 200 OK\n",
            "Length: 35361991 (34M) [text/plain]\n",
            "Saving to: ‘palmdb_rdrp_seqs.fa’\n",
            "\n",
            "palmdb_rdrp_seqs.fa 100%[===================>]  33.72M  --.-KB/s    in 0.1s    \n",
            "\n",
            "2023-12-11 03:35:12 (234 MB/s) - ‘palmdb_rdrp_seqs.fa’ saved [35361991/35361991]\n",
            "\n"
          ]
        }
      ]
    },
    {
      "cell_type": "code",
      "execution_count": 5,
      "id": "20890675-eb82-40bf-98b0-2f83c5e75a2a",
      "metadata": {
        "colab": {
          "base_uri": "https://localhost:8080/",
          "height": 620
        },
        "id": "20890675-eb82-40bf-98b0-2f83c5e75a2a",
        "outputId": "49924bfa-03cc-4d21-ab99-d82a78374c7b"
      },
      "outputs": [
        {
          "output_type": "stream",
          "name": "stdout",
          "text": [
            "--2023-12-11 03:35:13--  https://raw.githubusercontent.com/pachterlab/LSCHWCP_2023/main/PalmDB/ID_to_taxonomy_mapping.csv\n",
            "Resolving raw.githubusercontent.com (raw.githubusercontent.com)... 185.199.108.133, 185.199.109.133, 185.199.110.133, ...\n",
            "Connecting to raw.githubusercontent.com (raw.githubusercontent.com)|185.199.108.133|:443... connected.\n",
            "HTTP request sent, awaiting response... 200 OK\n",
            "Length: 19705497 (19M) [text/plain]\n",
            "Saving to: ‘ID_to_taxonomy_mapping.csv’\n",
            "\n",
            "ID_to_taxonomy_mapp 100%[===================>]  18.79M  --.-KB/s    in 0.1s    \n",
            "\n",
            "2023-12-11 03:35:13 (186 MB/s) - ‘ID_to_taxonomy_mapping.csv’ saved [19705497/19705497]\n",
            "\n"
          ]
        },
        {
          "output_type": "execute_result",
          "data": {
            "text/plain": [
              "             ID   rep_ID        phylum            class        order  \\\n",
              "0            u1       u1  Pisuviricota  Pisoniviricetes  Nidovirales   \n",
              "1        u10066       u1  Pisuviricota  Pisoniviricetes  Nidovirales   \n",
              "2        u10121       u1  Pisuviricota  Pisoniviricetes  Nidovirales   \n",
              "3        u10124       u1  Pisuviricota  Pisoniviricetes  Nidovirales   \n",
              "4       u102609       u1  Pisuviricota  Pisoniviricetes  Nidovirales   \n",
              "...         ...      ...           ...              ...          ...   \n",
              "296556  u296608  u296608             .                .            .   \n",
              "296557  u296609  u296609             .                .            .   \n",
              "296558  u296613  u296613             .                .            .   \n",
              "296559  u296616  u296616             .                .            .   \n",
              "296560  u296623  u296623             .                .            .   \n",
              "\n",
              "               family            genus  \\\n",
              "0       Coronaviridae  Betacoronavirus   \n",
              "1       Coronaviridae  Betacoronavirus   \n",
              "2       Coronaviridae  Betacoronavirus   \n",
              "3       Coronaviridae  Betacoronavirus   \n",
              "4       Coronaviridae  Betacoronavirus   \n",
              "...               ...              ...   \n",
              "296556              .                .   \n",
              "296557              .                .   \n",
              "296558              .                .   \n",
              "296559              .                .   \n",
              "296560              .                .   \n",
              "\n",
              "                                                  species strandedness  \n",
              "0       Severe acute respiratory syndrome-related coro...       +ssRNA  \n",
              "1       Severe acute respiratory syndrome-related coro...       +ssRNA  \n",
              "2       Severe acute respiratory syndrome-related coro...       +ssRNA  \n",
              "3       Severe acute respiratory syndrome-related coro...       +ssRNA  \n",
              "4       Severe acute respiratory syndrome-related coro...       +ssRNA  \n",
              "...                                                   ...          ...  \n",
              "296556                                                  .      unknown  \n",
              "296557                                                  .      unknown  \n",
              "296558                                                  .      unknown  \n",
              "296559                                                  .      unknown  \n",
              "296560                                                  .      unknown  \n",
              "\n",
              "[296561 rows x 9 columns]"
            ],
            "text/html": [
              "\n",
              "  <div id=\"df-f4261863-ea08-42f7-8953-73abc4c1a9ff\" class=\"colab-df-container\">\n",
              "    <div>\n",
              "<style scoped>\n",
              "    .dataframe tbody tr th:only-of-type {\n",
              "        vertical-align: middle;\n",
              "    }\n",
              "\n",
              "    .dataframe tbody tr th {\n",
              "        vertical-align: top;\n",
              "    }\n",
              "\n",
              "    .dataframe thead th {\n",
              "        text-align: right;\n",
              "    }\n",
              "</style>\n",
              "<table border=\"1\" class=\"dataframe\">\n",
              "  <thead>\n",
              "    <tr style=\"text-align: right;\">\n",
              "      <th></th>\n",
              "      <th>ID</th>\n",
              "      <th>rep_ID</th>\n",
              "      <th>phylum</th>\n",
              "      <th>class</th>\n",
              "      <th>order</th>\n",
              "      <th>family</th>\n",
              "      <th>genus</th>\n",
              "      <th>species</th>\n",
              "      <th>strandedness</th>\n",
              "    </tr>\n",
              "  </thead>\n",
              "  <tbody>\n",
              "    <tr>\n",
              "      <th>0</th>\n",
              "      <td>u1</td>\n",
              "      <td>u1</td>\n",
              "      <td>Pisuviricota</td>\n",
              "      <td>Pisoniviricetes</td>\n",
              "      <td>Nidovirales</td>\n",
              "      <td>Coronaviridae</td>\n",
              "      <td>Betacoronavirus</td>\n",
              "      <td>Severe acute respiratory syndrome-related coro...</td>\n",
              "      <td>+ssRNA</td>\n",
              "    </tr>\n",
              "    <tr>\n",
              "      <th>1</th>\n",
              "      <td>u10066</td>\n",
              "      <td>u1</td>\n",
              "      <td>Pisuviricota</td>\n",
              "      <td>Pisoniviricetes</td>\n",
              "      <td>Nidovirales</td>\n",
              "      <td>Coronaviridae</td>\n",
              "      <td>Betacoronavirus</td>\n",
              "      <td>Severe acute respiratory syndrome-related coro...</td>\n",
              "      <td>+ssRNA</td>\n",
              "    </tr>\n",
              "    <tr>\n",
              "      <th>2</th>\n",
              "      <td>u10121</td>\n",
              "      <td>u1</td>\n",
              "      <td>Pisuviricota</td>\n",
              "      <td>Pisoniviricetes</td>\n",
              "      <td>Nidovirales</td>\n",
              "      <td>Coronaviridae</td>\n",
              "      <td>Betacoronavirus</td>\n",
              "      <td>Severe acute respiratory syndrome-related coro...</td>\n",
              "      <td>+ssRNA</td>\n",
              "    </tr>\n",
              "    <tr>\n",
              "      <th>3</th>\n",
              "      <td>u10124</td>\n",
              "      <td>u1</td>\n",
              "      <td>Pisuviricota</td>\n",
              "      <td>Pisoniviricetes</td>\n",
              "      <td>Nidovirales</td>\n",
              "      <td>Coronaviridae</td>\n",
              "      <td>Betacoronavirus</td>\n",
              "      <td>Severe acute respiratory syndrome-related coro...</td>\n",
              "      <td>+ssRNA</td>\n",
              "    </tr>\n",
              "    <tr>\n",
              "      <th>4</th>\n",
              "      <td>u102609</td>\n",
              "      <td>u1</td>\n",
              "      <td>Pisuviricota</td>\n",
              "      <td>Pisoniviricetes</td>\n",
              "      <td>Nidovirales</td>\n",
              "      <td>Coronaviridae</td>\n",
              "      <td>Betacoronavirus</td>\n",
              "      <td>Severe acute respiratory syndrome-related coro...</td>\n",
              "      <td>+ssRNA</td>\n",
              "    </tr>\n",
              "    <tr>\n",
              "      <th>...</th>\n",
              "      <td>...</td>\n",
              "      <td>...</td>\n",
              "      <td>...</td>\n",
              "      <td>...</td>\n",
              "      <td>...</td>\n",
              "      <td>...</td>\n",
              "      <td>...</td>\n",
              "      <td>...</td>\n",
              "      <td>...</td>\n",
              "    </tr>\n",
              "    <tr>\n",
              "      <th>296556</th>\n",
              "      <td>u296608</td>\n",
              "      <td>u296608</td>\n",
              "      <td>.</td>\n",
              "      <td>.</td>\n",
              "      <td>.</td>\n",
              "      <td>.</td>\n",
              "      <td>.</td>\n",
              "      <td>.</td>\n",
              "      <td>unknown</td>\n",
              "    </tr>\n",
              "    <tr>\n",
              "      <th>296557</th>\n",
              "      <td>u296609</td>\n",
              "      <td>u296609</td>\n",
              "      <td>.</td>\n",
              "      <td>.</td>\n",
              "      <td>.</td>\n",
              "      <td>.</td>\n",
              "      <td>.</td>\n",
              "      <td>.</td>\n",
              "      <td>unknown</td>\n",
              "    </tr>\n",
              "    <tr>\n",
              "      <th>296558</th>\n",
              "      <td>u296613</td>\n",
              "      <td>u296613</td>\n",
              "      <td>.</td>\n",
              "      <td>.</td>\n",
              "      <td>.</td>\n",
              "      <td>.</td>\n",
              "      <td>.</td>\n",
              "      <td>.</td>\n",
              "      <td>unknown</td>\n",
              "    </tr>\n",
              "    <tr>\n",
              "      <th>296559</th>\n",
              "      <td>u296616</td>\n",
              "      <td>u296616</td>\n",
              "      <td>.</td>\n",
              "      <td>.</td>\n",
              "      <td>.</td>\n",
              "      <td>.</td>\n",
              "      <td>.</td>\n",
              "      <td>.</td>\n",
              "      <td>unknown</td>\n",
              "    </tr>\n",
              "    <tr>\n",
              "      <th>296560</th>\n",
              "      <td>u296623</td>\n",
              "      <td>u296623</td>\n",
              "      <td>.</td>\n",
              "      <td>.</td>\n",
              "      <td>.</td>\n",
              "      <td>.</td>\n",
              "      <td>.</td>\n",
              "      <td>.</td>\n",
              "      <td>unknown</td>\n",
              "    </tr>\n",
              "  </tbody>\n",
              "</table>\n",
              "<p>296561 rows × 9 columns</p>\n",
              "</div>\n",
              "    <div class=\"colab-df-buttons\">\n",
              "\n",
              "  <div class=\"colab-df-container\">\n",
              "    <button class=\"colab-df-convert\" onclick=\"convertToInteractive('df-f4261863-ea08-42f7-8953-73abc4c1a9ff')\"\n",
              "            title=\"Convert this dataframe to an interactive table.\"\n",
              "            style=\"display:none;\">\n",
              "\n",
              "  <svg xmlns=\"http://www.w3.org/2000/svg\" height=\"24px\" viewBox=\"0 -960 960 960\">\n",
              "    <path d=\"M120-120v-720h720v720H120Zm60-500h600v-160H180v160Zm220 220h160v-160H400v160Zm0 220h160v-160H400v160ZM180-400h160v-160H180v160Zm440 0h160v-160H620v160ZM180-180h160v-160H180v160Zm440 0h160v-160H620v160Z\"/>\n",
              "  </svg>\n",
              "    </button>\n",
              "\n",
              "  <style>\n",
              "    .colab-df-container {\n",
              "      display:flex;\n",
              "      gap: 12px;\n",
              "    }\n",
              "\n",
              "    .colab-df-convert {\n",
              "      background-color: #E8F0FE;\n",
              "      border: none;\n",
              "      border-radius: 50%;\n",
              "      cursor: pointer;\n",
              "      display: none;\n",
              "      fill: #1967D2;\n",
              "      height: 32px;\n",
              "      padding: 0 0 0 0;\n",
              "      width: 32px;\n",
              "    }\n",
              "\n",
              "    .colab-df-convert:hover {\n",
              "      background-color: #E2EBFA;\n",
              "      box-shadow: 0px 1px 2px rgba(60, 64, 67, 0.3), 0px 1px 3px 1px rgba(60, 64, 67, 0.15);\n",
              "      fill: #174EA6;\n",
              "    }\n",
              "\n",
              "    .colab-df-buttons div {\n",
              "      margin-bottom: 4px;\n",
              "    }\n",
              "\n",
              "    [theme=dark] .colab-df-convert {\n",
              "      background-color: #3B4455;\n",
              "      fill: #D2E3FC;\n",
              "    }\n",
              "\n",
              "    [theme=dark] .colab-df-convert:hover {\n",
              "      background-color: #434B5C;\n",
              "      box-shadow: 0px 1px 3px 1px rgba(0, 0, 0, 0.15);\n",
              "      filter: drop-shadow(0px 1px 2px rgba(0, 0, 0, 0.3));\n",
              "      fill: #FFFFFF;\n",
              "    }\n",
              "  </style>\n",
              "\n",
              "    <script>\n",
              "      const buttonEl =\n",
              "        document.querySelector('#df-f4261863-ea08-42f7-8953-73abc4c1a9ff button.colab-df-convert');\n",
              "      buttonEl.style.display =\n",
              "        google.colab.kernel.accessAllowed ? 'block' : 'none';\n",
              "\n",
              "      async function convertToInteractive(key) {\n",
              "        const element = document.querySelector('#df-f4261863-ea08-42f7-8953-73abc4c1a9ff');\n",
              "        const dataTable =\n",
              "          await google.colab.kernel.invokeFunction('convertToInteractive',\n",
              "                                                    [key], {});\n",
              "        if (!dataTable) return;\n",
              "\n",
              "        const docLinkHtml = 'Like what you see? Visit the ' +\n",
              "          '<a target=\"_blank\" href=https://colab.research.google.com/notebooks/data_table.ipynb>data table notebook</a>'\n",
              "          + ' to learn more about interactive tables.';\n",
              "        element.innerHTML = '';\n",
              "        dataTable['output_type'] = 'display_data';\n",
              "        await google.colab.output.renderOutput(dataTable, element);\n",
              "        const docLink = document.createElement('div');\n",
              "        docLink.innerHTML = docLinkHtml;\n",
              "        element.appendChild(docLink);\n",
              "      }\n",
              "    </script>\n",
              "  </div>\n",
              "\n",
              "\n",
              "<div id=\"df-e7a68166-a182-40b2-87e7-5321d54aab10\">\n",
              "  <button class=\"colab-df-quickchart\" onclick=\"quickchart('df-e7a68166-a182-40b2-87e7-5321d54aab10')\"\n",
              "            title=\"Suggest charts\"\n",
              "            style=\"display:none;\">\n",
              "\n",
              "<svg xmlns=\"http://www.w3.org/2000/svg\" height=\"24px\"viewBox=\"0 0 24 24\"\n",
              "     width=\"24px\">\n",
              "    <g>\n",
              "        <path d=\"M19 3H5c-1.1 0-2 .9-2 2v14c0 1.1.9 2 2 2h14c1.1 0 2-.9 2-2V5c0-1.1-.9-2-2-2zM9 17H7v-7h2v7zm4 0h-2V7h2v10zm4 0h-2v-4h2v4z\"/>\n",
              "    </g>\n",
              "</svg>\n",
              "  </button>\n",
              "\n",
              "<style>\n",
              "  .colab-df-quickchart {\n",
              "      --bg-color: #E8F0FE;\n",
              "      --fill-color: #1967D2;\n",
              "      --hover-bg-color: #E2EBFA;\n",
              "      --hover-fill-color: #174EA6;\n",
              "      --disabled-fill-color: #AAA;\n",
              "      --disabled-bg-color: #DDD;\n",
              "  }\n",
              "\n",
              "  [theme=dark] .colab-df-quickchart {\n",
              "      --bg-color: #3B4455;\n",
              "      --fill-color: #D2E3FC;\n",
              "      --hover-bg-color: #434B5C;\n",
              "      --hover-fill-color: #FFFFFF;\n",
              "      --disabled-bg-color: #3B4455;\n",
              "      --disabled-fill-color: #666;\n",
              "  }\n",
              "\n",
              "  .colab-df-quickchart {\n",
              "    background-color: var(--bg-color);\n",
              "    border: none;\n",
              "    border-radius: 50%;\n",
              "    cursor: pointer;\n",
              "    display: none;\n",
              "    fill: var(--fill-color);\n",
              "    height: 32px;\n",
              "    padding: 0;\n",
              "    width: 32px;\n",
              "  }\n",
              "\n",
              "  .colab-df-quickchart:hover {\n",
              "    background-color: var(--hover-bg-color);\n",
              "    box-shadow: 0 1px 2px rgba(60, 64, 67, 0.3), 0 1px 3px 1px rgba(60, 64, 67, 0.15);\n",
              "    fill: var(--button-hover-fill-color);\n",
              "  }\n",
              "\n",
              "  .colab-df-quickchart-complete:disabled,\n",
              "  .colab-df-quickchart-complete:disabled:hover {\n",
              "    background-color: var(--disabled-bg-color);\n",
              "    fill: var(--disabled-fill-color);\n",
              "    box-shadow: none;\n",
              "  }\n",
              "\n",
              "  .colab-df-spinner {\n",
              "    border: 2px solid var(--fill-color);\n",
              "    border-color: transparent;\n",
              "    border-bottom-color: var(--fill-color);\n",
              "    animation:\n",
              "      spin 1s steps(1) infinite;\n",
              "  }\n",
              "\n",
              "  @keyframes spin {\n",
              "    0% {\n",
              "      border-color: transparent;\n",
              "      border-bottom-color: var(--fill-color);\n",
              "      border-left-color: var(--fill-color);\n",
              "    }\n",
              "    20% {\n",
              "      border-color: transparent;\n",
              "      border-left-color: var(--fill-color);\n",
              "      border-top-color: var(--fill-color);\n",
              "    }\n",
              "    30% {\n",
              "      border-color: transparent;\n",
              "      border-left-color: var(--fill-color);\n",
              "      border-top-color: var(--fill-color);\n",
              "      border-right-color: var(--fill-color);\n",
              "    }\n",
              "    40% {\n",
              "      border-color: transparent;\n",
              "      border-right-color: var(--fill-color);\n",
              "      border-top-color: var(--fill-color);\n",
              "    }\n",
              "    60% {\n",
              "      border-color: transparent;\n",
              "      border-right-color: var(--fill-color);\n",
              "    }\n",
              "    80% {\n",
              "      border-color: transparent;\n",
              "      border-right-color: var(--fill-color);\n",
              "      border-bottom-color: var(--fill-color);\n",
              "    }\n",
              "    90% {\n",
              "      border-color: transparent;\n",
              "      border-bottom-color: var(--fill-color);\n",
              "    }\n",
              "  }\n",
              "</style>\n",
              "\n",
              "  <script>\n",
              "    async function quickchart(key) {\n",
              "      const quickchartButtonEl =\n",
              "        document.querySelector('#' + key + ' button');\n",
              "      quickchartButtonEl.disabled = true;  // To prevent multiple clicks.\n",
              "      quickchartButtonEl.classList.add('colab-df-spinner');\n",
              "      try {\n",
              "        const charts = await google.colab.kernel.invokeFunction(\n",
              "            'suggestCharts', [key], {});\n",
              "      } catch (error) {\n",
              "        console.error('Error during call to suggestCharts:', error);\n",
              "      }\n",
              "      quickchartButtonEl.classList.remove('colab-df-spinner');\n",
              "      quickchartButtonEl.classList.add('colab-df-quickchart-complete');\n",
              "    }\n",
              "    (() => {\n",
              "      let quickchartButtonEl =\n",
              "        document.querySelector('#df-e7a68166-a182-40b2-87e7-5321d54aab10 button');\n",
              "      quickchartButtonEl.style.display =\n",
              "        google.colab.kernel.accessAllowed ? 'block' : 'none';\n",
              "    })();\n",
              "  </script>\n",
              "</div>\n",
              "\n",
              "  <div id=\"id_6d39b192-7da1-4d37-8e2e-23ed5895ee37\">\n",
              "    <style>\n",
              "      .colab-df-generate {\n",
              "        background-color: #E8F0FE;\n",
              "        border: none;\n",
              "        border-radius: 50%;\n",
              "        cursor: pointer;\n",
              "        display: none;\n",
              "        fill: #1967D2;\n",
              "        height: 32px;\n",
              "        padding: 0 0 0 0;\n",
              "        width: 32px;\n",
              "      }\n",
              "\n",
              "      .colab-df-generate:hover {\n",
              "        background-color: #E2EBFA;\n",
              "        box-shadow: 0px 1px 2px rgba(60, 64, 67, 0.3), 0px 1px 3px 1px rgba(60, 64, 67, 0.15);\n",
              "        fill: #174EA6;\n",
              "      }\n",
              "\n",
              "      [theme=dark] .colab-df-generate {\n",
              "        background-color: #3B4455;\n",
              "        fill: #D2E3FC;\n",
              "      }\n",
              "\n",
              "      [theme=dark] .colab-df-generate:hover {\n",
              "        background-color: #434B5C;\n",
              "        box-shadow: 0px 1px 3px 1px rgba(0, 0, 0, 0.15);\n",
              "        filter: drop-shadow(0px 1px 2px rgba(0, 0, 0, 0.3));\n",
              "        fill: #FFFFFF;\n",
              "      }\n",
              "    </style>\n",
              "    <button class=\"colab-df-generate\" onclick=\"generateWithVariable('taxmap')\"\n",
              "            title=\"Generate code using this dataframe.\"\n",
              "            style=\"display:none;\">\n",
              "\n",
              "  <svg xmlns=\"http://www.w3.org/2000/svg\" height=\"24px\"viewBox=\"0 0 24 24\"\n",
              "       width=\"24px\">\n",
              "    <path d=\"M7,19H8.4L18.45,9,17,7.55,7,17.6ZM5,21V16.75L18.45,3.32a2,2,0,0,1,2.83,0l1.4,1.43a1.91,1.91,0,0,1,.58,1.4,1.91,1.91,0,0,1-.58,1.4L9.25,21ZM18.45,9,17,7.55Zm-12,3A5.31,5.31,0,0,0,4.9,8.1,5.31,5.31,0,0,0,1,6.5,5.31,5.31,0,0,0,4.9,4.9,5.31,5.31,0,0,0,6.5,1,5.31,5.31,0,0,0,8.1,4.9,5.31,5.31,0,0,0,12,6.5,5.46,5.46,0,0,0,6.5,12Z\"/>\n",
              "  </svg>\n",
              "    </button>\n",
              "    <script>\n",
              "      (() => {\n",
              "      const buttonEl =\n",
              "        document.querySelector('#id_6d39b192-7da1-4d37-8e2e-23ed5895ee37 button.colab-df-generate');\n",
              "      buttonEl.style.display =\n",
              "        google.colab.kernel.accessAllowed ? 'block' : 'none';\n",
              "\n",
              "      buttonEl.onclick = () => {\n",
              "        google.colab.notebook.generateWithVariable('taxmap');\n",
              "      }\n",
              "      })();\n",
              "    </script>\n",
              "  </div>\n",
              "\n",
              "    </div>\n",
              "  </div>\n"
            ]
          },
          "metadata": {},
          "execution_count": 5
        }
      ],
      "source": [
        "# Load virus ID to taxonomy mapping\n",
        "!wget https://raw.githubusercontent.com/pachterlab/LSCHWCP_2023/main/PalmDB/ID_to_taxonomy_mapping.csv\n",
        "taxmap = pd.read_csv(\"ID_to_taxonomy_mapping.csv\")\n",
        "taxmap"
      ]
    },
    {
      "cell_type": "code",
      "execution_count": 6,
      "id": "1d7baf99-7430-4227-8848-4474908d4001",
      "metadata": {
        "colab": {
          "base_uri": "https://localhost:8080/"
        },
        "id": "1d7baf99-7430-4227-8848-4474908d4001",
        "outputId": "1700e836-dc5e-4574-8923-41a1a0a4fb6b"
      },
      "outputs": [
        {
          "output_type": "stream",
          "name": "stdout",
          "text": [
            "--2023-12-11 03:35:13--  https://raw.githubusercontent.com/pachterlab/LSCHWCP_2023/main/Notebooks/Figure_2/Figure_2c/SRR12698539_2_extracted_u10.fa\n",
            "Resolving raw.githubusercontent.com (raw.githubusercontent.com)... 185.199.109.133, 185.199.108.133, 185.199.110.133, ...\n",
            "Connecting to raw.githubusercontent.com (raw.githubusercontent.com)|185.199.109.133|:443... connected.\n",
            "HTTP request sent, awaiting response... 200 OK\n",
            "Length: 75549 (74K) [text/plain]\n",
            "Saving to: ‘SRR12698539_2_extracted_u10.fa’\n",
            "\n",
            "\r          SRR126985   0%[                    ]       0  --.-KB/s               \rSRR12698539_2_extra 100%[===================>]  73.78K  --.-KB/s    in 0.02s   \n",
            "\n",
            "2023-12-11 03:35:13 (3.97 MB/s) - ‘SRR12698539_2_extracted_u10.fa’ saved [75549/75549]\n",
            "\n"
          ]
        }
      ],
      "source": [
        "# Get fasta file containing ZEBOV RdRP sequences\n",
        "!wget https://raw.githubusercontent.com/pachterlab/LSCHWCP_2023/main/Notebooks/Figure_2/Figure_2c/SRR12698539_2_extracted_u10.fa\n",
        "nn_fasta = \"SRR12698539_2_extracted_u10.fa\""
      ]
    },
    {
      "cell_type": "code",
      "source": [
        "# Number of threads used for alignments\n",
        "threads = 2"
      ],
      "metadata": {
        "id": "PuHXGM-eAE-9"
      },
      "id": "PuHXGM-eAE-9",
      "execution_count": 7,
      "outputs": []
    },
    {
      "cell_type": "code",
      "source": [
        "out_folder = \"remove_targets_from_ref\"\n",
        "!mkdir $out_folder"
      ],
      "metadata": {
        "id": "LEbZ3VkoAzy4"
      },
      "id": "LEbZ3VkoAzy4",
      "execution_count": 8,
      "outputs": []
    },
    {
      "cell_type": "markdown",
      "source": [
        "____\n",
        "# Remove all sequences linked to the genus *Ebolavirus* from the reference index"
      ],
      "metadata": {
        "id": "l3c_JpzaA_Fu"
      },
      "id": "l3c_JpzaA_Fu"
    },
    {
      "cell_type": "markdown",
      "id": "a2747a7f-156d-4621-9721-8f181a5f2314",
      "metadata": {
        "id": "a2747a7f-156d-4621-9721-8f181a5f2314"
      },
      "source": [
        "Create new fasta excluding all sequences associated with the Ebolavirus genus:"
      ]
    },
    {
      "cell_type": "code",
      "execution_count": 9,
      "id": "350cc25f-fc32-46df-8f78-6f9fa9866294",
      "metadata": {
        "id": "350cc25f-fc32-46df-8f78-6f9fa9866294"
      },
      "outputs": [],
      "source": [
        "targets_all = taxmap[taxmap[\"genus\"].str.contains(\"Ebolavirus\")][\"ID\"].values"
      ]
    },
    {
      "cell_type": "code",
      "execution_count": 10,
      "id": "15e21306-34a5-4bf8-9034-66573828ed94",
      "metadata": {
        "colab": {
          "base_uri": "https://localhost:8080/"
        },
        "id": "15e21306-34a5-4bf8-9034-66573828ed94",
        "outputId": "fecd95b8-eac2-4844-8682-93f579e874b6"
      },
      "outputs": [
        {
          "output_type": "stream",
          "name": "stdout",
          "text": [
            "CPU times: user 3.31 s, sys: 98.7 ms, total: 3.41 s\n",
            "Wall time: 3.42 s\n"
          ]
        }
      ],
      "source": [
        "%%time\n",
        "records = SeqIO.parse(virus_fasta, \"fasta\")\n",
        "\n",
        "test_fasta = f\"{out_folder}/uniques_nodup_targets_removed.fa\"\n",
        "with open(test_fasta, \"w\") as new_fasta:\n",
        "    for record in records:\n",
        "        if record.id not in targets_all:\n",
        "            new_fasta.write(\">\" + record.id + \"\\n\")\n",
        "            new_fasta.write(str(record.seq) + \"\\n\")"
      ]
    },
    {
      "cell_type": "markdown",
      "id": "012b65ee-e63f-4bea-be54-df6fd84daa00",
      "metadata": {
        "id": "012b65ee-e63f-4bea-be54-df6fd84daa00"
      },
      "source": [
        "Generate reference index using this new fasta:"
      ]
    },
    {
      "cell_type": "code",
      "execution_count": 11,
      "id": "c4557fa8-d098-4be8-8493-ced80611927e",
      "metadata": {
        "colab": {
          "base_uri": "https://localhost:8080/"
        },
        "id": "c4557fa8-d098-4be8-8493-ced80611927e",
        "outputId": "ca9de1c8-8337-4a93-bfc7-87a76014814d"
      },
      "outputs": [
        {
          "output_type": "stream",
          "name": "stdout",
          "text": [
            "\n",
            "[build] loading fasta file remove_targets_from_ref/uniques_nodup_targets_removed.fa\n",
            "[build] k-mer length: 31\n",
            "KmerStream::KmerStream(): Start computing k-mer cardinality estimations (1/2)\n",
            "KmerStream::KmerStream(): Start computing k-mer cardinality estimations (1/2)\n",
            "KmerStream::KmerStream(): Finished\n",
            "CompactedDBG::build(): Estimated number of k-mers occurring at least once: 37640331\n",
            "CompactedDBG::build(): Estimated number of minimizer occurring at least once: 7877361\n",
            "CompactedDBG::filter(): Processed 87606558 k-mers in 296482 reads\n",
            "CompactedDBG::filter(): Found 37506262 unique k-mers\n",
            "CompactedDBG::filter(): Number of blocks in Bloom filter is 257308\n",
            "CompactedDBG::construct(): Extract approximate unitigs (1/2)\n",
            "CompactedDBG::construct(): Extract approximate unitigs (2/2)\n",
            "CompactedDBG::construct(): Closed all input files\n",
            "\n",
            "CompactedDBG::construct(): Splitting unitigs (1/2)\n",
            "\n",
            "CompactedDBG::construct(): Splitting unitigs (2/2)\n",
            "CompactedDBG::construct(): Before split: 2040316 unitigs\n",
            "CompactedDBG::construct(): After split (1/1): 2040316 unitigs\n",
            "CompactedDBG::construct(): Unitigs split: 1571\n",
            "CompactedDBG::construct(): Unitigs deleted: 0\n",
            "\n",
            "CompactedDBG::construct(): Joining unitigs\n",
            "CompactedDBG::construct(): After join: 2021502 unitigs\n",
            "CompactedDBG::construct(): Joined 19169 unitigs\n",
            "[build] building MPHF\n",
            "[build] creating equivalence classes ... \n",
            "[build] target de Bruijn graph has k-mer length 31 and minimizer length 23\n",
            "[build] target de Bruijn graph has 2021502 contigs and contains 37539216 k-mers \n",
            "\n"
          ]
        }
      ],
      "source": [
        "virus_index = f\"{out_folder}/uniques_nodup_targets_removed.idx\"\n",
        "\n",
        "!$kallisto index \\\n",
        "    --aa \\\n",
        "    -t $threads \\\n",
        "    -i $virus_index \\\n",
        "    $test_fasta"
      ]
    },
    {
      "cell_type": "markdown",
      "id": "3cd11978-ed03-4da5-a7ba-f853631cf839",
      "metadata": {
        "id": "3cd11978-ed03-4da5-a7ba-f853631cf839"
      },
      "source": [
        "Align ZEBOV RdRP nucleotide sequences to the new index:"
      ]
    },
    {
      "cell_type": "code",
      "execution_count": 12,
      "id": "62ab8f48-3ff6-48ba-96aa-bc3df7fe9cf1",
      "metadata": {
        "colab": {
          "base_uri": "https://localhost:8080/"
        },
        "id": "62ab8f48-3ff6-48ba-96aa-bc3df7fe9cf1",
        "outputId": "ebb852ee-4920-4c28-d1c3-c0769eacb4f7"
      },
      "outputs": [
        {
          "output_type": "stream",
          "name": "stdout",
          "text": [
            "\n",
            "[index] k-mer length: 31\n",
            "[index] number of targets: 296,482\n",
            "[index] number of k-mers: 37,539,216\n",
            "[quant] running in single-end mode\n",
            "[quant] will process file 1: SRR12698539_2_extracted_u10.fa\n",
            "[quant] finding pseudoalignments for all files ... done\n",
            "[quant] processed 676 reads, 127 reads pseudoaligned\n",
            "\n",
            " all fits in buffer\n",
            "Read in 127 BUS records\n",
            "reading time 5e-06s\n",
            "sorting time 6e-06s\n",
            "writing time 3.7e-05s\n"
          ]
        }
      ],
      "source": [
        "!$kallisto bus \\\n",
        "        --aa \\\n",
        "        -i $virus_index \\\n",
        "        -o $out_folder/kallisto \\\n",
        "        -x bulk \\\n",
        "        -t $threads \\\n",
        "        $nn_fasta\n",
        "\n",
        "!$bustools sort -o $out_folder/kallisto/output_sorted.bus $out_folder/kallisto/output.bus\n",
        "\n",
        "!$bustools count \\\n",
        "    --genecounts \\\n",
        "    --cm \\\n",
        "    -o $out_folder/kallisto/bustools_count/ \\\n",
        "    -g $virus_t2g \\\n",
        "    -e $out_folder/kallisto/matrix.ec \\\n",
        "    -t $out_folder/kallisto/transcripts.txt \\\n",
        "    $out_folder/kallisto/output_sorted.bus"
      ]
    },
    {
      "cell_type": "markdown",
      "source": [
        "____\n",
        "# Remove all sequences linked to species names containing \"ebolavirus\" from the reference index"
      ],
      "metadata": {
        "id": "9_LzFDTgC79B"
      },
      "id": "9_LzFDTgC79B"
    },
    {
      "cell_type": "code",
      "source": [
        "targets_all = taxmap[taxmap[\"species\"].str.contains(\"ebolavirus\")][\"ID\"].values"
      ],
      "metadata": {
        "id": "xLie2Mc0DDX9"
      },
      "id": "xLie2Mc0DDX9",
      "execution_count": 13,
      "outputs": []
    },
    {
      "cell_type": "code",
      "source": [
        "%%time\n",
        "records = SeqIO.parse(virus_fasta, \"fasta\")\n",
        "\n",
        "test_fasta = f\"{out_folder}/uniques_nodup_targets_removed_2.fa\"\n",
        "with open(test_fasta, \"w\") as new_fasta:\n",
        "    for record in records:\n",
        "        if record.id not in targets_all:\n",
        "            new_fasta.write(\">\" + record.id + \"\\n\")\n",
        "            new_fasta.write(str(record.seq) + \"\\n\")"
      ],
      "metadata": {
        "colab": {
          "base_uri": "https://localhost:8080/"
        },
        "id": "V69XXc_mDByZ",
        "outputId": "ce3c4bdd-9fcb-4121-95bd-88ea05cd5fa1"
      },
      "id": "V69XXc_mDByZ",
      "execution_count": 14,
      "outputs": [
        {
          "output_type": "stream",
          "name": "stdout",
          "text": [
            "CPU times: user 3.27 s, sys: 93.7 ms, total: 3.37 s\n",
            "Wall time: 3.37 s\n"
          ]
        }
      ]
    },
    {
      "cell_type": "markdown",
      "source": [
        "Generate index with new fasta:"
      ],
      "metadata": {
        "id": "eql8GYdxDH_0"
      },
      "id": "eql8GYdxDH_0"
    },
    {
      "cell_type": "code",
      "source": [
        "virus_index = f\"{out_folder}/uniques_nodup_targets_removed_2.idx\"\n",
        "\n",
        "!$kallisto index \\\n",
        "    -t $threads \\\n",
        "    --aa \\\n",
        "    -i $virus_index \\\n",
        "    $test_fasta"
      ],
      "metadata": {
        "colab": {
          "base_uri": "https://localhost:8080/"
        },
        "id": "IwcH4fJRDFfO",
        "outputId": "1e801475-d501-4924-bb3a-b5e8bb94d4c2"
      },
      "id": "IwcH4fJRDFfO",
      "execution_count": 15,
      "outputs": [
        {
          "output_type": "stream",
          "name": "stdout",
          "text": [
            "\n",
            "[build] loading fasta file remove_targets_from_ref/uniques_nodup_targets_removed_2.fa\n",
            "[build] k-mer length: 31\n",
            "KmerStream::KmerStream(): Start computing k-mer cardinality estimations (1/2)\n",
            "KmerStream::KmerStream(): Start computing k-mer cardinality estimations (1/2)\n",
            "KmerStream::KmerStream(): Finished\n",
            "CompactedDBG::build(): Estimated number of k-mers occurring at least once: 37640528\n",
            "CompactedDBG::build(): Estimated number of minimizer occurring at least once: 7877484\n",
            "CompactedDBG::filter(): Processed 87607206 k-mers in 296484 reads\n",
            "CompactedDBG::filter(): Found 37506628 unique k-mers\n",
            "CompactedDBG::filter(): Number of blocks in Bloom filter is 257310\n",
            "CompactedDBG::construct(): Extract approximate unitigs (1/2)\n",
            "CompactedDBG::construct(): Extract approximate unitigs (2/2)\n",
            "CompactedDBG::construct(): Closed all input files\n",
            "\n",
            "CompactedDBG::construct(): Splitting unitigs (1/2)\n",
            "\n",
            "CompactedDBG::construct(): Splitting unitigs (2/2)\n",
            "CompactedDBG::construct(): Before split: 2040564 unitigs\n",
            "CompactedDBG::construct(): After split (1/1): 2040564 unitigs\n",
            "CompactedDBG::construct(): Unitigs split: 1543\n",
            "CompactedDBG::construct(): Unitigs deleted: 0\n",
            "\n",
            "CompactedDBG::construct(): Joining unitigs\n",
            "CompactedDBG::construct(): After join: 2021517 unitigs\n",
            "CompactedDBG::construct(): Joined 19408 unitigs\n",
            "[build] building MPHF\n",
            "[build] creating equivalence classes ... \n",
            "[build] target de Bruijn graph has k-mer length 31 and minimizer length 23\n",
            "[build] target de Bruijn graph has 2021517 contigs and contains 37539777 k-mers \n",
            "\n"
          ]
        }
      ]
    },
    {
      "cell_type": "markdown",
      "source": [
        "Align fasta with ZEBOV RdRP nucleotide sequences:"
      ],
      "metadata": {
        "id": "Qzs5YES9DJ73"
      },
      "id": "Qzs5YES9DJ73"
    },
    {
      "cell_type": "code",
      "source": [
        "!$kallisto bus \\\n",
        "        -i $virus_index \\\n",
        "        -o $out_folder/kallisto2 \\\n",
        "        --aa \\\n",
        "        -x bulk \\\n",
        "        -t $threads \\\n",
        "        $nn_fasta\n",
        "\n",
        "!$bustools sort -o $out_folder/kallisto2/output_sorted.bus $out_folder/kallisto2/output.bus\n",
        "\n",
        "!$bustools count \\\n",
        "    --genecounts \\\n",
        "    --cm \\\n",
        "    -o $out_folder/kallisto2/bustools_count/ \\\n",
        "    -g $virus_t2g \\\n",
        "    -e $out_folder/kallisto2/matrix.ec \\\n",
        "    -t $out_folder/kallisto2/transcripts.txt \\\n",
        "    $out_folder/kallisto2/output_sorted.bus"
      ],
      "metadata": {
        "colab": {
          "base_uri": "https://localhost:8080/"
        },
        "id": "piqD5chIDKC4",
        "outputId": "48611245-2a4c-43f3-d522-b06c5be9b16d"
      },
      "id": "piqD5chIDKC4",
      "execution_count": 16,
      "outputs": [
        {
          "output_type": "stream",
          "name": "stdout",
          "text": [
            "\n",
            "[index] k-mer length: 31\n",
            "[index] number of targets: 296,484\n",
            "[index] number of k-mers: 37,539,777\n",
            "[quant] running in single-end mode\n",
            "[quant] will process file 1: SRR12698539_2_extracted_u10.fa\n",
            "[quant] finding pseudoalignments for all files ... done\n",
            "[quant] processed 676 reads, 483 reads pseudoaligned\n",
            "\n",
            " all fits in buffer\n",
            "Read in 483 BUS records\n",
            "reading time 7e-06s\n",
            "sorting time 1.6e-05s\n",
            "writing time 3.9e-05s\n"
          ]
        }
      ]
    },
    {
      "cell_type": "markdown",
      "id": "bc086598-7402-4df5-96b2-506cb38b09e2",
      "metadata": {
        "id": "bc086598-7402-4df5-96b2-506cb38b09e2"
      },
      "source": [
        "____\n",
        "# Remove sequences linked to the family *Filoviridae* from the reference index"
      ]
    },
    {
      "cell_type": "code",
      "execution_count": 17,
      "id": "5fb7c273-11b8-4af2-a2db-9c2bf8e208d5",
      "metadata": {
        "id": "5fb7c273-11b8-4af2-a2db-9c2bf8e208d5"
      },
      "outputs": [],
      "source": [
        "targets_all = taxmap[taxmap[\"family\"].str.contains(\"Filoviridae\")][\"ID\"].values"
      ]
    },
    {
      "cell_type": "code",
      "execution_count": 18,
      "id": "5914bb6a-0a17-410f-96d2-cc91b008b771",
      "metadata": {
        "colab": {
          "base_uri": "https://localhost:8080/"
        },
        "id": "5914bb6a-0a17-410f-96d2-cc91b008b771",
        "outputId": "854ed42b-4ecb-4fa9-d4a3-9ded943e701c"
      },
      "outputs": [
        {
          "output_type": "stream",
          "name": "stdout",
          "text": [
            "CPU times: user 3.91 s, sys: 99.3 ms, total: 4.01 s\n",
            "Wall time: 4.05 s\n"
          ]
        }
      ],
      "source": [
        "%%time\n",
        "records = SeqIO.parse(virus_fasta, \"fasta\")\n",
        "\n",
        "test_fasta = f\"{out_folder}/uniques_nodup_targets_removed_3.fa\"\n",
        "with open(test_fasta, \"w\") as new_fasta:\n",
        "    for record in records:\n",
        "        if record.id not in targets_all:\n",
        "            new_fasta.write(\">\" + record.id + \"\\n\")\n",
        "            new_fasta.write(str(record.seq) + \"\\n\")"
      ]
    },
    {
      "cell_type": "markdown",
      "id": "2df337dd-ac3e-43fd-a1d2-524d39ec782e",
      "metadata": {
        "id": "2df337dd-ac3e-43fd-a1d2-524d39ec782e"
      },
      "source": [
        "Generate index with new fasta:"
      ]
    },
    {
      "cell_type": "code",
      "execution_count": 19,
      "id": "be3acdf3-6fc9-4913-93d6-e081103620ee",
      "metadata": {
        "colab": {
          "base_uri": "https://localhost:8080/"
        },
        "id": "be3acdf3-6fc9-4913-93d6-e081103620ee",
        "outputId": "4bc311b6-e4cd-4965-e2a2-81da5b2bd06a"
      },
      "outputs": [
        {
          "output_type": "stream",
          "name": "stdout",
          "text": [
            "\n",
            "[build] loading fasta file remove_targets_from_ref/uniques_nodup_targets_removed_3.fa\n",
            "[build] k-mer length: 31\n",
            "KmerStream::KmerStream(): Start computing k-mer cardinality estimations (1/2)\n",
            "KmerStream::KmerStream(): Start computing k-mer cardinality estimations (1/2)\n",
            "KmerStream::KmerStream(): Finished\n",
            "CompactedDBG::build(): Estimated number of k-mers occurring at least once: 37637384\n",
            "CompactedDBG::build(): Estimated number of minimizer occurring at least once: 7876665\n",
            "CompactedDBG::filter(): Processed 87601434 k-mers in 296466 reads\n",
            "CompactedDBG::filter(): Found 37503650 unique k-mers\n",
            "CompactedDBG::filter(): Number of blocks in Bloom filter is 257288\n",
            "CompactedDBG::construct(): Extract approximate unitigs (1/2)\n",
            "CompactedDBG::construct(): Extract approximate unitigs (2/2)\n",
            "CompactedDBG::construct(): Closed all input files\n",
            "\n",
            "CompactedDBG::construct(): Splitting unitigs (1/2)\n",
            "\n",
            "CompactedDBG::construct(): Splitting unitigs (2/2)\n",
            "CompactedDBG::construct(): Before split: 2040600 unitigs\n",
            "CompactedDBG::construct(): After split (1/1): 2040600 unitigs\n",
            "CompactedDBG::construct(): Unitigs split: 1550\n",
            "CompactedDBG::construct(): Unitigs deleted: 0\n",
            "\n",
            "CompactedDBG::construct(): Joining unitigs\n",
            "CompactedDBG::construct(): After join: 2021430 unitigs\n",
            "CompactedDBG::construct(): Joined 19529 unitigs\n",
            "[build] building MPHF\n",
            "[build] creating equivalence classes ... \n",
            "[build] target de Bruijn graph has k-mer length 31 and minimizer length 23\n",
            "[build] target de Bruijn graph has 2021430 contigs and contains 37536591 k-mers \n",
            "\n"
          ]
        }
      ],
      "source": [
        "virus_index = f\"{out_folder}/uniques_nodup_targets_removed_3.idx\"\n",
        "\n",
        "!$kallisto index \\\n",
        "    -t $threads \\\n",
        "    --aa \\\n",
        "    -i $virus_index \\\n",
        "    $test_fasta"
      ]
    },
    {
      "cell_type": "markdown",
      "id": "cd77ce11-6803-466a-8617-e5a5d5a2c71e",
      "metadata": {
        "id": "cd77ce11-6803-466a-8617-e5a5d5a2c71e"
      },
      "source": [
        "Align fasta with ZEBOV RdRP nucleotide sequences:"
      ]
    },
    {
      "cell_type": "code",
      "execution_count": 20,
      "id": "5d022d41-96bb-4d5d-bd49-7b1ae5a2ae44",
      "metadata": {
        "colab": {
          "base_uri": "https://localhost:8080/"
        },
        "id": "5d022d41-96bb-4d5d-bd49-7b1ae5a2ae44",
        "outputId": "d840e1a9-ee3b-48c5-958d-b0d30bcba38b"
      },
      "outputs": [
        {
          "output_type": "stream",
          "name": "stdout",
          "text": [
            "\n",
            "[index] k-mer length: 31\n",
            "[index] number of targets: 296,466\n",
            "[index] number of k-mers: 37,536,591\n",
            "[quant] running in single-end mode\n",
            "[quant] will process file 1: SRR12698539_2_extracted_u10.fa\n",
            "[quant] finding pseudoalignments for all files ... done\n",
            "[quant] processed 676 reads, 142 reads pseudoaligned\n",
            "\n",
            " all fits in buffer\n",
            "Read in 142 BUS records\n",
            "reading time 4e-06s\n",
            "sorting time 5e-06s\n",
            "writing time 3e-05s\n"
          ]
        }
      ],
      "source": [
        "!$kallisto bus \\\n",
        "        -i $virus_index \\\n",
        "        -o $out_folder/kallisto3 \\\n",
        "        --aa \\\n",
        "        -x bulk \\\n",
        "        -t $threads \\\n",
        "        $nn_fasta\n",
        "\n",
        "!$bustools sort -o $out_folder/kallisto3/output_sorted.bus $out_folder/kallisto3/output.bus\n",
        "\n",
        "!$bustools count \\\n",
        "    --genecounts \\\n",
        "    --cm \\\n",
        "    -o $out_folder/kallisto3/bustools_count/ \\\n",
        "    -g $virus_t2g \\\n",
        "    -e $out_folder/kallisto3/matrix.ec \\\n",
        "    -t $out_folder/kallisto3/transcripts.txt \\\n",
        "    $out_folder/kallisto3/output_sorted.bus"
      ]
    },
    {
      "cell_type": "markdown",
      "id": "b0f5dc05-c50c-4b8c-9613-4bdbeb94011b",
      "metadata": {
        "id": "b0f5dc05-c50c-4b8c-9613-4bdbeb94011b"
      },
      "source": [
        "___\n",
        "# Load results and plot which taxonomies the sequences were aligned to"
      ]
    },
    {
      "cell_type": "markdown",
      "id": "6fa2bfa7-b8e0-4b28-8463-c3ae77e54639",
      "metadata": {
        "id": "6fa2bfa7-b8e0-4b28-8463-c3ae77e54639"
      },
      "source": [
        "Load data where all sequences linked to Ebolavirus species were removed:"
      ]
    },
    {
      "cell_type": "code",
      "execution_count": 21,
      "id": "cf4537f9-6148-4033-b8ae-b1e5755f9a34",
      "metadata": {
        "colab": {
          "base_uri": "https://localhost:8080/"
        },
        "id": "cf4537f9-6148-4033-b8ae-b1e5755f9a34",
        "outputId": "2db784a3-5581-4c6a-e036-51c31c248cb7"
      },
      "outputs": [
        {
          "output_type": "execute_result",
          "data": {
            "text/plain": [
              "AnnData object with n_obs × n_vars = 1 × 99222"
            ]
          },
          "metadata": {},
          "execution_count": 21
        }
      ],
      "source": [
        "# Filepath to counts\n",
        "X = f\"{out_folder}/kallisto2/bustools_count/output.mtx\"\n",
        "# Filepath to barcode metadata\n",
        "var_path = f\"{out_folder}/kallisto2/bustools_count/output.genes.txt\"\n",
        "# Filepath to gene metadata\n",
        "obs_path = f\"{out_folder}/kallisto2/bustools_count/output.barcodes.txt\"\n",
        "\n",
        "# Create AnnData object\n",
        "adata2 = kb_utils.import_matrix_as_anndata(X, obs_path, var_path)\n",
        "adata2"
      ]
    },
    {
      "cell_type": "code",
      "execution_count": 22,
      "id": "ffedc075-c7bb-4af8-932c-952a729456d9",
      "metadata": {
        "tags": [],
        "colab": {
          "base_uri": "https://localhost:8080/"
        },
        "id": "ffedc075-c7bb-4af8-932c-952a729456d9",
        "outputId": "f55deb7a-7568-4496-c7e6-a0f78d772c54"
      },
      "outputs": [
        {
          "output_type": "execute_result",
          "data": {
            "text/plain": [
              "array(['u14834', 'u102797'], dtype=object)"
            ]
          },
          "metadata": {},
          "execution_count": 22
        }
      ],
      "source": [
        "ids_seen2 = adata2.var[nd(adata2.X.sum(axis=0) > 0)].index.values\n",
        "ids_seen2"
      ]
    },
    {
      "cell_type": "code",
      "execution_count": 23,
      "id": "7f78ccb2-b509-43f0-b719-3d8d6bfcc4ac",
      "metadata": {
        "colab": {
          "base_uri": "https://localhost:8080/",
          "height": 363
        },
        "id": "7f78ccb2-b509-43f0-b719-3d8d6bfcc4ac",
        "outputId": "2f446738-c4b3-45db-add1-baaf95e21b7e"
      },
      "outputs": [
        {
          "output_type": "execute_result",
          "data": {
            "text/plain": [
              "             ID   rep_ID           phylum           class            order  \\\n",
              "32024    u14834   u14834  Negarnaviricota  Monjiviricetes  Mononegavirales   \n",
              "32025   u190559   u14834  Negarnaviricota  Monjiviricetes  Mononegavirales   \n",
              "218192  u102797  u102797  Negarnaviricota  Monjiviricetes  Mononegavirales   \n",
              "218193    u1158  u102797  Negarnaviricota  Monjiviricetes  Mononegavirales   \n",
              "218194   u15480  u102797  Negarnaviricota  Monjiviricetes  Mononegavirales   \n",
              "218195   u15788  u102797  Negarnaviricota  Monjiviricetes  Mononegavirales   \n",
              "218196   u20644  u102797  Negarnaviricota  Monjiviricetes  Mononegavirales   \n",
              "218197   u21217  u102797  Negarnaviricota  Monjiviricetes  Mononegavirales   \n",
              "218198     u424  u102797  Negarnaviricota  Monjiviricetes  Mononegavirales   \n",
              "218199     u444  u102797  Negarnaviricota  Monjiviricetes  Mononegavirales   \n",
              "\n",
              "             family         genus               species strandedness  \n",
              "32024   Filoviridae    Ebolavirus                     .       -ssRNA  \n",
              "32025   Filoviridae    Ebolavirus                     .       -ssRNA  \n",
              "218192  Filoviridae  Marburgvirus  Marburg marburgvirus       -ssRNA  \n",
              "218193  Filoviridae  Marburgvirus  Marburg marburgvirus       -ssRNA  \n",
              "218194  Filoviridae  Marburgvirus  Marburg marburgvirus       -ssRNA  \n",
              "218195  Filoviridae  Marburgvirus  Marburg marburgvirus       -ssRNA  \n",
              "218196  Filoviridae  Marburgvirus  Marburg marburgvirus       -ssRNA  \n",
              "218197  Filoviridae  Marburgvirus  Marburg marburgvirus       -ssRNA  \n",
              "218198  Filoviridae  Marburgvirus  Marburg marburgvirus       -ssRNA  \n",
              "218199  Filoviridae  Marburgvirus  Marburg marburgvirus       -ssRNA  "
            ],
            "text/html": [
              "\n",
              "  <div id=\"df-f21d84d5-c197-47b7-b150-b887e46a76e5\" class=\"colab-df-container\">\n",
              "    <div>\n",
              "<style scoped>\n",
              "    .dataframe tbody tr th:only-of-type {\n",
              "        vertical-align: middle;\n",
              "    }\n",
              "\n",
              "    .dataframe tbody tr th {\n",
              "        vertical-align: top;\n",
              "    }\n",
              "\n",
              "    .dataframe thead th {\n",
              "        text-align: right;\n",
              "    }\n",
              "</style>\n",
              "<table border=\"1\" class=\"dataframe\">\n",
              "  <thead>\n",
              "    <tr style=\"text-align: right;\">\n",
              "      <th></th>\n",
              "      <th>ID</th>\n",
              "      <th>rep_ID</th>\n",
              "      <th>phylum</th>\n",
              "      <th>class</th>\n",
              "      <th>order</th>\n",
              "      <th>family</th>\n",
              "      <th>genus</th>\n",
              "      <th>species</th>\n",
              "      <th>strandedness</th>\n",
              "    </tr>\n",
              "  </thead>\n",
              "  <tbody>\n",
              "    <tr>\n",
              "      <th>32024</th>\n",
              "      <td>u14834</td>\n",
              "      <td>u14834</td>\n",
              "      <td>Negarnaviricota</td>\n",
              "      <td>Monjiviricetes</td>\n",
              "      <td>Mononegavirales</td>\n",
              "      <td>Filoviridae</td>\n",
              "      <td>Ebolavirus</td>\n",
              "      <td>.</td>\n",
              "      <td>-ssRNA</td>\n",
              "    </tr>\n",
              "    <tr>\n",
              "      <th>32025</th>\n",
              "      <td>u190559</td>\n",
              "      <td>u14834</td>\n",
              "      <td>Negarnaviricota</td>\n",
              "      <td>Monjiviricetes</td>\n",
              "      <td>Mononegavirales</td>\n",
              "      <td>Filoviridae</td>\n",
              "      <td>Ebolavirus</td>\n",
              "      <td>.</td>\n",
              "      <td>-ssRNA</td>\n",
              "    </tr>\n",
              "    <tr>\n",
              "      <th>218192</th>\n",
              "      <td>u102797</td>\n",
              "      <td>u102797</td>\n",
              "      <td>Negarnaviricota</td>\n",
              "      <td>Monjiviricetes</td>\n",
              "      <td>Mononegavirales</td>\n",
              "      <td>Filoviridae</td>\n",
              "      <td>Marburgvirus</td>\n",
              "      <td>Marburg marburgvirus</td>\n",
              "      <td>-ssRNA</td>\n",
              "    </tr>\n",
              "    <tr>\n",
              "      <th>218193</th>\n",
              "      <td>u1158</td>\n",
              "      <td>u102797</td>\n",
              "      <td>Negarnaviricota</td>\n",
              "      <td>Monjiviricetes</td>\n",
              "      <td>Mononegavirales</td>\n",
              "      <td>Filoviridae</td>\n",
              "      <td>Marburgvirus</td>\n",
              "      <td>Marburg marburgvirus</td>\n",
              "      <td>-ssRNA</td>\n",
              "    </tr>\n",
              "    <tr>\n",
              "      <th>218194</th>\n",
              "      <td>u15480</td>\n",
              "      <td>u102797</td>\n",
              "      <td>Negarnaviricota</td>\n",
              "      <td>Monjiviricetes</td>\n",
              "      <td>Mononegavirales</td>\n",
              "      <td>Filoviridae</td>\n",
              "      <td>Marburgvirus</td>\n",
              "      <td>Marburg marburgvirus</td>\n",
              "      <td>-ssRNA</td>\n",
              "    </tr>\n",
              "    <tr>\n",
              "      <th>218195</th>\n",
              "      <td>u15788</td>\n",
              "      <td>u102797</td>\n",
              "      <td>Negarnaviricota</td>\n",
              "      <td>Monjiviricetes</td>\n",
              "      <td>Mononegavirales</td>\n",
              "      <td>Filoviridae</td>\n",
              "      <td>Marburgvirus</td>\n",
              "      <td>Marburg marburgvirus</td>\n",
              "      <td>-ssRNA</td>\n",
              "    </tr>\n",
              "    <tr>\n",
              "      <th>218196</th>\n",
              "      <td>u20644</td>\n",
              "      <td>u102797</td>\n",
              "      <td>Negarnaviricota</td>\n",
              "      <td>Monjiviricetes</td>\n",
              "      <td>Mononegavirales</td>\n",
              "      <td>Filoviridae</td>\n",
              "      <td>Marburgvirus</td>\n",
              "      <td>Marburg marburgvirus</td>\n",
              "      <td>-ssRNA</td>\n",
              "    </tr>\n",
              "    <tr>\n",
              "      <th>218197</th>\n",
              "      <td>u21217</td>\n",
              "      <td>u102797</td>\n",
              "      <td>Negarnaviricota</td>\n",
              "      <td>Monjiviricetes</td>\n",
              "      <td>Mononegavirales</td>\n",
              "      <td>Filoviridae</td>\n",
              "      <td>Marburgvirus</td>\n",
              "      <td>Marburg marburgvirus</td>\n",
              "      <td>-ssRNA</td>\n",
              "    </tr>\n",
              "    <tr>\n",
              "      <th>218198</th>\n",
              "      <td>u424</td>\n",
              "      <td>u102797</td>\n",
              "      <td>Negarnaviricota</td>\n",
              "      <td>Monjiviricetes</td>\n",
              "      <td>Mononegavirales</td>\n",
              "      <td>Filoviridae</td>\n",
              "      <td>Marburgvirus</td>\n",
              "      <td>Marburg marburgvirus</td>\n",
              "      <td>-ssRNA</td>\n",
              "    </tr>\n",
              "    <tr>\n",
              "      <th>218199</th>\n",
              "      <td>u444</td>\n",
              "      <td>u102797</td>\n",
              "      <td>Negarnaviricota</td>\n",
              "      <td>Monjiviricetes</td>\n",
              "      <td>Mononegavirales</td>\n",
              "      <td>Filoviridae</td>\n",
              "      <td>Marburgvirus</td>\n",
              "      <td>Marburg marburgvirus</td>\n",
              "      <td>-ssRNA</td>\n",
              "    </tr>\n",
              "  </tbody>\n",
              "</table>\n",
              "</div>\n",
              "    <div class=\"colab-df-buttons\">\n",
              "\n",
              "  <div class=\"colab-df-container\">\n",
              "    <button class=\"colab-df-convert\" onclick=\"convertToInteractive('df-f21d84d5-c197-47b7-b150-b887e46a76e5')\"\n",
              "            title=\"Convert this dataframe to an interactive table.\"\n",
              "            style=\"display:none;\">\n",
              "\n",
              "  <svg xmlns=\"http://www.w3.org/2000/svg\" height=\"24px\" viewBox=\"0 -960 960 960\">\n",
              "    <path d=\"M120-120v-720h720v720H120Zm60-500h600v-160H180v160Zm220 220h160v-160H400v160Zm0 220h160v-160H400v160ZM180-400h160v-160H180v160Zm440 0h160v-160H620v160ZM180-180h160v-160H180v160Zm440 0h160v-160H620v160Z\"/>\n",
              "  </svg>\n",
              "    </button>\n",
              "\n",
              "  <style>\n",
              "    .colab-df-container {\n",
              "      display:flex;\n",
              "      gap: 12px;\n",
              "    }\n",
              "\n",
              "    .colab-df-convert {\n",
              "      background-color: #E8F0FE;\n",
              "      border: none;\n",
              "      border-radius: 50%;\n",
              "      cursor: pointer;\n",
              "      display: none;\n",
              "      fill: #1967D2;\n",
              "      height: 32px;\n",
              "      padding: 0 0 0 0;\n",
              "      width: 32px;\n",
              "    }\n",
              "\n",
              "    .colab-df-convert:hover {\n",
              "      background-color: #E2EBFA;\n",
              "      box-shadow: 0px 1px 2px rgba(60, 64, 67, 0.3), 0px 1px 3px 1px rgba(60, 64, 67, 0.15);\n",
              "      fill: #174EA6;\n",
              "    }\n",
              "\n",
              "    .colab-df-buttons div {\n",
              "      margin-bottom: 4px;\n",
              "    }\n",
              "\n",
              "    [theme=dark] .colab-df-convert {\n",
              "      background-color: #3B4455;\n",
              "      fill: #D2E3FC;\n",
              "    }\n",
              "\n",
              "    [theme=dark] .colab-df-convert:hover {\n",
              "      background-color: #434B5C;\n",
              "      box-shadow: 0px 1px 3px 1px rgba(0, 0, 0, 0.15);\n",
              "      filter: drop-shadow(0px 1px 2px rgba(0, 0, 0, 0.3));\n",
              "      fill: #FFFFFF;\n",
              "    }\n",
              "  </style>\n",
              "\n",
              "    <script>\n",
              "      const buttonEl =\n",
              "        document.querySelector('#df-f21d84d5-c197-47b7-b150-b887e46a76e5 button.colab-df-convert');\n",
              "      buttonEl.style.display =\n",
              "        google.colab.kernel.accessAllowed ? 'block' : 'none';\n",
              "\n",
              "      async function convertToInteractive(key) {\n",
              "        const element = document.querySelector('#df-f21d84d5-c197-47b7-b150-b887e46a76e5');\n",
              "        const dataTable =\n",
              "          await google.colab.kernel.invokeFunction('convertToInteractive',\n",
              "                                                    [key], {});\n",
              "        if (!dataTable) return;\n",
              "\n",
              "        const docLinkHtml = 'Like what you see? Visit the ' +\n",
              "          '<a target=\"_blank\" href=https://colab.research.google.com/notebooks/data_table.ipynb>data table notebook</a>'\n",
              "          + ' to learn more about interactive tables.';\n",
              "        element.innerHTML = '';\n",
              "        dataTable['output_type'] = 'display_data';\n",
              "        await google.colab.output.renderOutput(dataTable, element);\n",
              "        const docLink = document.createElement('div');\n",
              "        docLink.innerHTML = docLinkHtml;\n",
              "        element.appendChild(docLink);\n",
              "      }\n",
              "    </script>\n",
              "  </div>\n",
              "\n",
              "\n",
              "<div id=\"df-a9670906-9c17-43fc-85d4-6bcc1cfd1be1\">\n",
              "  <button class=\"colab-df-quickchart\" onclick=\"quickchart('df-a9670906-9c17-43fc-85d4-6bcc1cfd1be1')\"\n",
              "            title=\"Suggest charts\"\n",
              "            style=\"display:none;\">\n",
              "\n",
              "<svg xmlns=\"http://www.w3.org/2000/svg\" height=\"24px\"viewBox=\"0 0 24 24\"\n",
              "     width=\"24px\">\n",
              "    <g>\n",
              "        <path d=\"M19 3H5c-1.1 0-2 .9-2 2v14c0 1.1.9 2 2 2h14c1.1 0 2-.9 2-2V5c0-1.1-.9-2-2-2zM9 17H7v-7h2v7zm4 0h-2V7h2v10zm4 0h-2v-4h2v4z\"/>\n",
              "    </g>\n",
              "</svg>\n",
              "  </button>\n",
              "\n",
              "<style>\n",
              "  .colab-df-quickchart {\n",
              "      --bg-color: #E8F0FE;\n",
              "      --fill-color: #1967D2;\n",
              "      --hover-bg-color: #E2EBFA;\n",
              "      --hover-fill-color: #174EA6;\n",
              "      --disabled-fill-color: #AAA;\n",
              "      --disabled-bg-color: #DDD;\n",
              "  }\n",
              "\n",
              "  [theme=dark] .colab-df-quickchart {\n",
              "      --bg-color: #3B4455;\n",
              "      --fill-color: #D2E3FC;\n",
              "      --hover-bg-color: #434B5C;\n",
              "      --hover-fill-color: #FFFFFF;\n",
              "      --disabled-bg-color: #3B4455;\n",
              "      --disabled-fill-color: #666;\n",
              "  }\n",
              "\n",
              "  .colab-df-quickchart {\n",
              "    background-color: var(--bg-color);\n",
              "    border: none;\n",
              "    border-radius: 50%;\n",
              "    cursor: pointer;\n",
              "    display: none;\n",
              "    fill: var(--fill-color);\n",
              "    height: 32px;\n",
              "    padding: 0;\n",
              "    width: 32px;\n",
              "  }\n",
              "\n",
              "  .colab-df-quickchart:hover {\n",
              "    background-color: var(--hover-bg-color);\n",
              "    box-shadow: 0 1px 2px rgba(60, 64, 67, 0.3), 0 1px 3px 1px rgba(60, 64, 67, 0.15);\n",
              "    fill: var(--button-hover-fill-color);\n",
              "  }\n",
              "\n",
              "  .colab-df-quickchart-complete:disabled,\n",
              "  .colab-df-quickchart-complete:disabled:hover {\n",
              "    background-color: var(--disabled-bg-color);\n",
              "    fill: var(--disabled-fill-color);\n",
              "    box-shadow: none;\n",
              "  }\n",
              "\n",
              "  .colab-df-spinner {\n",
              "    border: 2px solid var(--fill-color);\n",
              "    border-color: transparent;\n",
              "    border-bottom-color: var(--fill-color);\n",
              "    animation:\n",
              "      spin 1s steps(1) infinite;\n",
              "  }\n",
              "\n",
              "  @keyframes spin {\n",
              "    0% {\n",
              "      border-color: transparent;\n",
              "      border-bottom-color: var(--fill-color);\n",
              "      border-left-color: var(--fill-color);\n",
              "    }\n",
              "    20% {\n",
              "      border-color: transparent;\n",
              "      border-left-color: var(--fill-color);\n",
              "      border-top-color: var(--fill-color);\n",
              "    }\n",
              "    30% {\n",
              "      border-color: transparent;\n",
              "      border-left-color: var(--fill-color);\n",
              "      border-top-color: var(--fill-color);\n",
              "      border-right-color: var(--fill-color);\n",
              "    }\n",
              "    40% {\n",
              "      border-color: transparent;\n",
              "      border-right-color: var(--fill-color);\n",
              "      border-top-color: var(--fill-color);\n",
              "    }\n",
              "    60% {\n",
              "      border-color: transparent;\n",
              "      border-right-color: var(--fill-color);\n",
              "    }\n",
              "    80% {\n",
              "      border-color: transparent;\n",
              "      border-right-color: var(--fill-color);\n",
              "      border-bottom-color: var(--fill-color);\n",
              "    }\n",
              "    90% {\n",
              "      border-color: transparent;\n",
              "      border-bottom-color: var(--fill-color);\n",
              "    }\n",
              "  }\n",
              "</style>\n",
              "\n",
              "  <script>\n",
              "    async function quickchart(key) {\n",
              "      const quickchartButtonEl =\n",
              "        document.querySelector('#' + key + ' button');\n",
              "      quickchartButtonEl.disabled = true;  // To prevent multiple clicks.\n",
              "      quickchartButtonEl.classList.add('colab-df-spinner');\n",
              "      try {\n",
              "        const charts = await google.colab.kernel.invokeFunction(\n",
              "            'suggestCharts', [key], {});\n",
              "      } catch (error) {\n",
              "        console.error('Error during call to suggestCharts:', error);\n",
              "      }\n",
              "      quickchartButtonEl.classList.remove('colab-df-spinner');\n",
              "      quickchartButtonEl.classList.add('colab-df-quickchart-complete');\n",
              "    }\n",
              "    (() => {\n",
              "      let quickchartButtonEl =\n",
              "        document.querySelector('#df-a9670906-9c17-43fc-85d4-6bcc1cfd1be1 button');\n",
              "      quickchartButtonEl.style.display =\n",
              "        google.colab.kernel.accessAllowed ? 'block' : 'none';\n",
              "    })();\n",
              "  </script>\n",
              "</div>\n",
              "\n",
              "    </div>\n",
              "  </div>\n"
            ]
          },
          "metadata": {},
          "execution_count": 23
        }
      ],
      "source": [
        "taxmap[taxmap[\"rep_ID\"].isin(ids_seen2)]"
      ]
    },
    {
      "cell_type": "markdown",
      "id": "0276052f-e3f6-4159-bc60-552837530ffd",
      "metadata": {
        "id": "0276052f-e3f6-4159-bc60-552837530ffd"
      },
      "source": [
        "Load alignment data where all sequences linked to Ebolavirus genera were removed from the reference:"
      ]
    },
    {
      "cell_type": "code",
      "execution_count": 24,
      "id": "ae4dbb1c-6e89-48c0-9b41-39c30382fe0d",
      "metadata": {
        "colab": {
          "base_uri": "https://localhost:8080/"
        },
        "id": "ae4dbb1c-6e89-48c0-9b41-39c30382fe0d",
        "outputId": "50f3ba7a-c122-47d4-8e90-872ee5c30db6"
      },
      "outputs": [
        {
          "output_type": "execute_result",
          "data": {
            "text/plain": [
              "AnnData object with n_obs × n_vars = 1 × 99221"
            ]
          },
          "metadata": {},
          "execution_count": 24
        }
      ],
      "source": [
        "# Filepath to counts\n",
        "X = f\"{out_folder}/kallisto/bustools_count/output.mtx\"\n",
        "# Filepath to barcode metadata\n",
        "var_path = f\"{out_folder}/kallisto/bustools_count/output.genes.txt\"\n",
        "# Filepath to gene metadata\n",
        "obs_path = f\"{out_folder}/kallisto/bustools_count/output.barcodes.txt\"\n",
        "\n",
        "# Create AnnData object\n",
        "adata = kb_utils.import_matrix_as_anndata(X, obs_path, var_path)\n",
        "adata"
      ]
    },
    {
      "cell_type": "code",
      "execution_count": 25,
      "id": "38d7f741-668e-46d6-b718-6bccb996cff0",
      "metadata": {
        "colab": {
          "base_uri": "https://localhost:8080/"
        },
        "id": "38d7f741-668e-46d6-b718-6bccb996cff0",
        "outputId": "faa86fd7-3a6a-4312-a9fb-1f2ca79333cb"
      },
      "outputs": [
        {
          "output_type": "execute_result",
          "data": {
            "text/plain": [
              "array(['u102797', 'u133417'], dtype=object)"
            ]
          },
          "metadata": {},
          "execution_count": 25
        }
      ],
      "source": [
        "ids_seen = adata.var[nd(adata.X.sum(axis=0) > 0)].index.values\n",
        "ids_seen"
      ]
    },
    {
      "cell_type": "code",
      "execution_count": 26,
      "id": "d600cca0-75a2-420d-8c10-b98ee3f58d9b",
      "metadata": {
        "colab": {
          "base_uri": "https://localhost:8080/",
          "height": 520
        },
        "id": "d600cca0-75a2-420d-8c10-b98ee3f58d9b",
        "outputId": "be9fefc1-1704-48a8-870e-0862c1b19cf9"
      },
      "outputs": [
        {
          "output_type": "execute_result",
          "data": {
            "text/plain": [
              "             ID   rep_ID           phylum           class            order  \\\n",
              "218192  u102797  u102797  Negarnaviricota  Monjiviricetes  Mononegavirales   \n",
              "218193    u1158  u102797  Negarnaviricota  Monjiviricetes  Mononegavirales   \n",
              "218194   u15480  u102797  Negarnaviricota  Monjiviricetes  Mononegavirales   \n",
              "218195   u15788  u102797  Negarnaviricota  Monjiviricetes  Mononegavirales   \n",
              "218196   u20644  u102797  Negarnaviricota  Monjiviricetes  Mononegavirales   \n",
              "218197   u21217  u102797  Negarnaviricota  Monjiviricetes  Mononegavirales   \n",
              "218198     u424  u102797  Negarnaviricota  Monjiviricetes  Mononegavirales   \n",
              "218199     u444  u102797  Negarnaviricota  Monjiviricetes  Mononegavirales   \n",
              "237814  u133417  u133417  Negarnaviricota  Monjiviricetes  Mononegavirales   \n",
              "237815   u14593  u133417  Negarnaviricota  Monjiviricetes  Mononegavirales   \n",
              "237816   u15425  u133417  Negarnaviricota  Monjiviricetes  Mononegavirales   \n",
              "237817   u24916  u133417  Negarnaviricota  Monjiviricetes  Mononegavirales   \n",
              "237818  u253355  u133417  Negarnaviricota  Monjiviricetes  Mononegavirales   \n",
              "237819   u26750  u133417  Negarnaviricota  Monjiviricetes  Mononegavirales   \n",
              "237820    u6111  u133417  Negarnaviricota  Monjiviricetes  Mononegavirales   \n",
              "\n",
              "             family         genus               species strandedness  \n",
              "218192  Filoviridae  Marburgvirus  Marburg marburgvirus       -ssRNA  \n",
              "218193  Filoviridae  Marburgvirus  Marburg marburgvirus       -ssRNA  \n",
              "218194  Filoviridae  Marburgvirus  Marburg marburgvirus       -ssRNA  \n",
              "218195  Filoviridae  Marburgvirus  Marburg marburgvirus       -ssRNA  \n",
              "218196  Filoviridae  Marburgvirus  Marburg marburgvirus       -ssRNA  \n",
              "218197  Filoviridae  Marburgvirus  Marburg marburgvirus       -ssRNA  \n",
              "218198  Filoviridae  Marburgvirus  Marburg marburgvirus       -ssRNA  \n",
              "218199  Filoviridae  Marburgvirus  Marburg marburgvirus       -ssRNA  \n",
              "237814  Filoviridae             .                     .       -ssRNA  \n",
              "237815  Filoviridae             .                     .       -ssRNA  \n",
              "237816  Filoviridae             .                     .       -ssRNA  \n",
              "237817  Filoviridae             .                     .       -ssRNA  \n",
              "237818  Filoviridae             .                     .       -ssRNA  \n",
              "237819  Filoviridae             .                     .       -ssRNA  \n",
              "237820  Filoviridae             .                     .       -ssRNA  "
            ],
            "text/html": [
              "\n",
              "  <div id=\"df-99b47e9f-8a2b-4544-bbf3-4fa279184aa5\" class=\"colab-df-container\">\n",
              "    <div>\n",
              "<style scoped>\n",
              "    .dataframe tbody tr th:only-of-type {\n",
              "        vertical-align: middle;\n",
              "    }\n",
              "\n",
              "    .dataframe tbody tr th {\n",
              "        vertical-align: top;\n",
              "    }\n",
              "\n",
              "    .dataframe thead th {\n",
              "        text-align: right;\n",
              "    }\n",
              "</style>\n",
              "<table border=\"1\" class=\"dataframe\">\n",
              "  <thead>\n",
              "    <tr style=\"text-align: right;\">\n",
              "      <th></th>\n",
              "      <th>ID</th>\n",
              "      <th>rep_ID</th>\n",
              "      <th>phylum</th>\n",
              "      <th>class</th>\n",
              "      <th>order</th>\n",
              "      <th>family</th>\n",
              "      <th>genus</th>\n",
              "      <th>species</th>\n",
              "      <th>strandedness</th>\n",
              "    </tr>\n",
              "  </thead>\n",
              "  <tbody>\n",
              "    <tr>\n",
              "      <th>218192</th>\n",
              "      <td>u102797</td>\n",
              "      <td>u102797</td>\n",
              "      <td>Negarnaviricota</td>\n",
              "      <td>Monjiviricetes</td>\n",
              "      <td>Mononegavirales</td>\n",
              "      <td>Filoviridae</td>\n",
              "      <td>Marburgvirus</td>\n",
              "      <td>Marburg marburgvirus</td>\n",
              "      <td>-ssRNA</td>\n",
              "    </tr>\n",
              "    <tr>\n",
              "      <th>218193</th>\n",
              "      <td>u1158</td>\n",
              "      <td>u102797</td>\n",
              "      <td>Negarnaviricota</td>\n",
              "      <td>Monjiviricetes</td>\n",
              "      <td>Mononegavirales</td>\n",
              "      <td>Filoviridae</td>\n",
              "      <td>Marburgvirus</td>\n",
              "      <td>Marburg marburgvirus</td>\n",
              "      <td>-ssRNA</td>\n",
              "    </tr>\n",
              "    <tr>\n",
              "      <th>218194</th>\n",
              "      <td>u15480</td>\n",
              "      <td>u102797</td>\n",
              "      <td>Negarnaviricota</td>\n",
              "      <td>Monjiviricetes</td>\n",
              "      <td>Mononegavirales</td>\n",
              "      <td>Filoviridae</td>\n",
              "      <td>Marburgvirus</td>\n",
              "      <td>Marburg marburgvirus</td>\n",
              "      <td>-ssRNA</td>\n",
              "    </tr>\n",
              "    <tr>\n",
              "      <th>218195</th>\n",
              "      <td>u15788</td>\n",
              "      <td>u102797</td>\n",
              "      <td>Negarnaviricota</td>\n",
              "      <td>Monjiviricetes</td>\n",
              "      <td>Mononegavirales</td>\n",
              "      <td>Filoviridae</td>\n",
              "      <td>Marburgvirus</td>\n",
              "      <td>Marburg marburgvirus</td>\n",
              "      <td>-ssRNA</td>\n",
              "    </tr>\n",
              "    <tr>\n",
              "      <th>218196</th>\n",
              "      <td>u20644</td>\n",
              "      <td>u102797</td>\n",
              "      <td>Negarnaviricota</td>\n",
              "      <td>Monjiviricetes</td>\n",
              "      <td>Mononegavirales</td>\n",
              "      <td>Filoviridae</td>\n",
              "      <td>Marburgvirus</td>\n",
              "      <td>Marburg marburgvirus</td>\n",
              "      <td>-ssRNA</td>\n",
              "    </tr>\n",
              "    <tr>\n",
              "      <th>218197</th>\n",
              "      <td>u21217</td>\n",
              "      <td>u102797</td>\n",
              "      <td>Negarnaviricota</td>\n",
              "      <td>Monjiviricetes</td>\n",
              "      <td>Mononegavirales</td>\n",
              "      <td>Filoviridae</td>\n",
              "      <td>Marburgvirus</td>\n",
              "      <td>Marburg marburgvirus</td>\n",
              "      <td>-ssRNA</td>\n",
              "    </tr>\n",
              "    <tr>\n",
              "      <th>218198</th>\n",
              "      <td>u424</td>\n",
              "      <td>u102797</td>\n",
              "      <td>Negarnaviricota</td>\n",
              "      <td>Monjiviricetes</td>\n",
              "      <td>Mononegavirales</td>\n",
              "      <td>Filoviridae</td>\n",
              "      <td>Marburgvirus</td>\n",
              "      <td>Marburg marburgvirus</td>\n",
              "      <td>-ssRNA</td>\n",
              "    </tr>\n",
              "    <tr>\n",
              "      <th>218199</th>\n",
              "      <td>u444</td>\n",
              "      <td>u102797</td>\n",
              "      <td>Negarnaviricota</td>\n",
              "      <td>Monjiviricetes</td>\n",
              "      <td>Mononegavirales</td>\n",
              "      <td>Filoviridae</td>\n",
              "      <td>Marburgvirus</td>\n",
              "      <td>Marburg marburgvirus</td>\n",
              "      <td>-ssRNA</td>\n",
              "    </tr>\n",
              "    <tr>\n",
              "      <th>237814</th>\n",
              "      <td>u133417</td>\n",
              "      <td>u133417</td>\n",
              "      <td>Negarnaviricota</td>\n",
              "      <td>Monjiviricetes</td>\n",
              "      <td>Mononegavirales</td>\n",
              "      <td>Filoviridae</td>\n",
              "      <td>.</td>\n",
              "      <td>.</td>\n",
              "      <td>-ssRNA</td>\n",
              "    </tr>\n",
              "    <tr>\n",
              "      <th>237815</th>\n",
              "      <td>u14593</td>\n",
              "      <td>u133417</td>\n",
              "      <td>Negarnaviricota</td>\n",
              "      <td>Monjiviricetes</td>\n",
              "      <td>Mononegavirales</td>\n",
              "      <td>Filoviridae</td>\n",
              "      <td>.</td>\n",
              "      <td>.</td>\n",
              "      <td>-ssRNA</td>\n",
              "    </tr>\n",
              "    <tr>\n",
              "      <th>237816</th>\n",
              "      <td>u15425</td>\n",
              "      <td>u133417</td>\n",
              "      <td>Negarnaviricota</td>\n",
              "      <td>Monjiviricetes</td>\n",
              "      <td>Mononegavirales</td>\n",
              "      <td>Filoviridae</td>\n",
              "      <td>.</td>\n",
              "      <td>.</td>\n",
              "      <td>-ssRNA</td>\n",
              "    </tr>\n",
              "    <tr>\n",
              "      <th>237817</th>\n",
              "      <td>u24916</td>\n",
              "      <td>u133417</td>\n",
              "      <td>Negarnaviricota</td>\n",
              "      <td>Monjiviricetes</td>\n",
              "      <td>Mononegavirales</td>\n",
              "      <td>Filoviridae</td>\n",
              "      <td>.</td>\n",
              "      <td>.</td>\n",
              "      <td>-ssRNA</td>\n",
              "    </tr>\n",
              "    <tr>\n",
              "      <th>237818</th>\n",
              "      <td>u253355</td>\n",
              "      <td>u133417</td>\n",
              "      <td>Negarnaviricota</td>\n",
              "      <td>Monjiviricetes</td>\n",
              "      <td>Mononegavirales</td>\n",
              "      <td>Filoviridae</td>\n",
              "      <td>.</td>\n",
              "      <td>.</td>\n",
              "      <td>-ssRNA</td>\n",
              "    </tr>\n",
              "    <tr>\n",
              "      <th>237819</th>\n",
              "      <td>u26750</td>\n",
              "      <td>u133417</td>\n",
              "      <td>Negarnaviricota</td>\n",
              "      <td>Monjiviricetes</td>\n",
              "      <td>Mononegavirales</td>\n",
              "      <td>Filoviridae</td>\n",
              "      <td>.</td>\n",
              "      <td>.</td>\n",
              "      <td>-ssRNA</td>\n",
              "    </tr>\n",
              "    <tr>\n",
              "      <th>237820</th>\n",
              "      <td>u6111</td>\n",
              "      <td>u133417</td>\n",
              "      <td>Negarnaviricota</td>\n",
              "      <td>Monjiviricetes</td>\n",
              "      <td>Mononegavirales</td>\n",
              "      <td>Filoviridae</td>\n",
              "      <td>.</td>\n",
              "      <td>.</td>\n",
              "      <td>-ssRNA</td>\n",
              "    </tr>\n",
              "  </tbody>\n",
              "</table>\n",
              "</div>\n",
              "    <div class=\"colab-df-buttons\">\n",
              "\n",
              "  <div class=\"colab-df-container\">\n",
              "    <button class=\"colab-df-convert\" onclick=\"convertToInteractive('df-99b47e9f-8a2b-4544-bbf3-4fa279184aa5')\"\n",
              "            title=\"Convert this dataframe to an interactive table.\"\n",
              "            style=\"display:none;\">\n",
              "\n",
              "  <svg xmlns=\"http://www.w3.org/2000/svg\" height=\"24px\" viewBox=\"0 -960 960 960\">\n",
              "    <path d=\"M120-120v-720h720v720H120Zm60-500h600v-160H180v160Zm220 220h160v-160H400v160Zm0 220h160v-160H400v160ZM180-400h160v-160H180v160Zm440 0h160v-160H620v160ZM180-180h160v-160H180v160Zm440 0h160v-160H620v160Z\"/>\n",
              "  </svg>\n",
              "    </button>\n",
              "\n",
              "  <style>\n",
              "    .colab-df-container {\n",
              "      display:flex;\n",
              "      gap: 12px;\n",
              "    }\n",
              "\n",
              "    .colab-df-convert {\n",
              "      background-color: #E8F0FE;\n",
              "      border: none;\n",
              "      border-radius: 50%;\n",
              "      cursor: pointer;\n",
              "      display: none;\n",
              "      fill: #1967D2;\n",
              "      height: 32px;\n",
              "      padding: 0 0 0 0;\n",
              "      width: 32px;\n",
              "    }\n",
              "\n",
              "    .colab-df-convert:hover {\n",
              "      background-color: #E2EBFA;\n",
              "      box-shadow: 0px 1px 2px rgba(60, 64, 67, 0.3), 0px 1px 3px 1px rgba(60, 64, 67, 0.15);\n",
              "      fill: #174EA6;\n",
              "    }\n",
              "\n",
              "    .colab-df-buttons div {\n",
              "      margin-bottom: 4px;\n",
              "    }\n",
              "\n",
              "    [theme=dark] .colab-df-convert {\n",
              "      background-color: #3B4455;\n",
              "      fill: #D2E3FC;\n",
              "    }\n",
              "\n",
              "    [theme=dark] .colab-df-convert:hover {\n",
              "      background-color: #434B5C;\n",
              "      box-shadow: 0px 1px 3px 1px rgba(0, 0, 0, 0.15);\n",
              "      filter: drop-shadow(0px 1px 2px rgba(0, 0, 0, 0.3));\n",
              "      fill: #FFFFFF;\n",
              "    }\n",
              "  </style>\n",
              "\n",
              "    <script>\n",
              "      const buttonEl =\n",
              "        document.querySelector('#df-99b47e9f-8a2b-4544-bbf3-4fa279184aa5 button.colab-df-convert');\n",
              "      buttonEl.style.display =\n",
              "        google.colab.kernel.accessAllowed ? 'block' : 'none';\n",
              "\n",
              "      async function convertToInteractive(key) {\n",
              "        const element = document.querySelector('#df-99b47e9f-8a2b-4544-bbf3-4fa279184aa5');\n",
              "        const dataTable =\n",
              "          await google.colab.kernel.invokeFunction('convertToInteractive',\n",
              "                                                    [key], {});\n",
              "        if (!dataTable) return;\n",
              "\n",
              "        const docLinkHtml = 'Like what you see? Visit the ' +\n",
              "          '<a target=\"_blank\" href=https://colab.research.google.com/notebooks/data_table.ipynb>data table notebook</a>'\n",
              "          + ' to learn more about interactive tables.';\n",
              "        element.innerHTML = '';\n",
              "        dataTable['output_type'] = 'display_data';\n",
              "        await google.colab.output.renderOutput(dataTable, element);\n",
              "        const docLink = document.createElement('div');\n",
              "        docLink.innerHTML = docLinkHtml;\n",
              "        element.appendChild(docLink);\n",
              "      }\n",
              "    </script>\n",
              "  </div>\n",
              "\n",
              "\n",
              "<div id=\"df-72e987c2-ef51-41e8-bc43-bec7b2a78a5f\">\n",
              "  <button class=\"colab-df-quickchart\" onclick=\"quickchart('df-72e987c2-ef51-41e8-bc43-bec7b2a78a5f')\"\n",
              "            title=\"Suggest charts\"\n",
              "            style=\"display:none;\">\n",
              "\n",
              "<svg xmlns=\"http://www.w3.org/2000/svg\" height=\"24px\"viewBox=\"0 0 24 24\"\n",
              "     width=\"24px\">\n",
              "    <g>\n",
              "        <path d=\"M19 3H5c-1.1 0-2 .9-2 2v14c0 1.1.9 2 2 2h14c1.1 0 2-.9 2-2V5c0-1.1-.9-2-2-2zM9 17H7v-7h2v7zm4 0h-2V7h2v10zm4 0h-2v-4h2v4z\"/>\n",
              "    </g>\n",
              "</svg>\n",
              "  </button>\n",
              "\n",
              "<style>\n",
              "  .colab-df-quickchart {\n",
              "      --bg-color: #E8F0FE;\n",
              "      --fill-color: #1967D2;\n",
              "      --hover-bg-color: #E2EBFA;\n",
              "      --hover-fill-color: #174EA6;\n",
              "      --disabled-fill-color: #AAA;\n",
              "      --disabled-bg-color: #DDD;\n",
              "  }\n",
              "\n",
              "  [theme=dark] .colab-df-quickchart {\n",
              "      --bg-color: #3B4455;\n",
              "      --fill-color: #D2E3FC;\n",
              "      --hover-bg-color: #434B5C;\n",
              "      --hover-fill-color: #FFFFFF;\n",
              "      --disabled-bg-color: #3B4455;\n",
              "      --disabled-fill-color: #666;\n",
              "  }\n",
              "\n",
              "  .colab-df-quickchart {\n",
              "    background-color: var(--bg-color);\n",
              "    border: none;\n",
              "    border-radius: 50%;\n",
              "    cursor: pointer;\n",
              "    display: none;\n",
              "    fill: var(--fill-color);\n",
              "    height: 32px;\n",
              "    padding: 0;\n",
              "    width: 32px;\n",
              "  }\n",
              "\n",
              "  .colab-df-quickchart:hover {\n",
              "    background-color: var(--hover-bg-color);\n",
              "    box-shadow: 0 1px 2px rgba(60, 64, 67, 0.3), 0 1px 3px 1px rgba(60, 64, 67, 0.15);\n",
              "    fill: var(--button-hover-fill-color);\n",
              "  }\n",
              "\n",
              "  .colab-df-quickchart-complete:disabled,\n",
              "  .colab-df-quickchart-complete:disabled:hover {\n",
              "    background-color: var(--disabled-bg-color);\n",
              "    fill: var(--disabled-fill-color);\n",
              "    box-shadow: none;\n",
              "  }\n",
              "\n",
              "  .colab-df-spinner {\n",
              "    border: 2px solid var(--fill-color);\n",
              "    border-color: transparent;\n",
              "    border-bottom-color: var(--fill-color);\n",
              "    animation:\n",
              "      spin 1s steps(1) infinite;\n",
              "  }\n",
              "\n",
              "  @keyframes spin {\n",
              "    0% {\n",
              "      border-color: transparent;\n",
              "      border-bottom-color: var(--fill-color);\n",
              "      border-left-color: var(--fill-color);\n",
              "    }\n",
              "    20% {\n",
              "      border-color: transparent;\n",
              "      border-left-color: var(--fill-color);\n",
              "      border-top-color: var(--fill-color);\n",
              "    }\n",
              "    30% {\n",
              "      border-color: transparent;\n",
              "      border-left-color: var(--fill-color);\n",
              "      border-top-color: var(--fill-color);\n",
              "      border-right-color: var(--fill-color);\n",
              "    }\n",
              "    40% {\n",
              "      border-color: transparent;\n",
              "      border-right-color: var(--fill-color);\n",
              "      border-top-color: var(--fill-color);\n",
              "    }\n",
              "    60% {\n",
              "      border-color: transparent;\n",
              "      border-right-color: var(--fill-color);\n",
              "    }\n",
              "    80% {\n",
              "      border-color: transparent;\n",
              "      border-right-color: var(--fill-color);\n",
              "      border-bottom-color: var(--fill-color);\n",
              "    }\n",
              "    90% {\n",
              "      border-color: transparent;\n",
              "      border-bottom-color: var(--fill-color);\n",
              "    }\n",
              "  }\n",
              "</style>\n",
              "\n",
              "  <script>\n",
              "    async function quickchart(key) {\n",
              "      const quickchartButtonEl =\n",
              "        document.querySelector('#' + key + ' button');\n",
              "      quickchartButtonEl.disabled = true;  // To prevent multiple clicks.\n",
              "      quickchartButtonEl.classList.add('colab-df-spinner');\n",
              "      try {\n",
              "        const charts = await google.colab.kernel.invokeFunction(\n",
              "            'suggestCharts', [key], {});\n",
              "      } catch (error) {\n",
              "        console.error('Error during call to suggestCharts:', error);\n",
              "      }\n",
              "      quickchartButtonEl.classList.remove('colab-df-spinner');\n",
              "      quickchartButtonEl.classList.add('colab-df-quickchart-complete');\n",
              "    }\n",
              "    (() => {\n",
              "      let quickchartButtonEl =\n",
              "        document.querySelector('#df-72e987c2-ef51-41e8-bc43-bec7b2a78a5f button');\n",
              "      quickchartButtonEl.style.display =\n",
              "        google.colab.kernel.accessAllowed ? 'block' : 'none';\n",
              "    })();\n",
              "  </script>\n",
              "</div>\n",
              "\n",
              "    </div>\n",
              "  </div>\n"
            ]
          },
          "metadata": {},
          "execution_count": 26
        }
      ],
      "source": [
        "taxmap[taxmap[\"rep_ID\"].isin(ids_seen)]"
      ]
    },
    {
      "cell_type": "markdown",
      "id": "5778336a-56b3-49e9-a67e-3983631ebdba",
      "metadata": {
        "id": "5778336a-56b3-49e9-a67e-3983631ebdba"
      },
      "source": [
        "Load data where all sequences linked to the Filoviridae family were removed:"
      ]
    },
    {
      "cell_type": "code",
      "execution_count": 27,
      "id": "7d4bc702-7aea-46b5-88d5-1b9268b3fe54",
      "metadata": {
        "colab": {
          "base_uri": "https://localhost:8080/"
        },
        "id": "7d4bc702-7aea-46b5-88d5-1b9268b3fe54",
        "outputId": "a793ac09-6ba6-4ad4-df7f-3dbb34b3cf58"
      },
      "outputs": [
        {
          "output_type": "execute_result",
          "data": {
            "text/plain": [
              "AnnData object with n_obs × n_vars = 1 × 99218"
            ]
          },
          "metadata": {},
          "execution_count": 27
        }
      ],
      "source": [
        "# Filepath to counts\n",
        "X = f\"{out_folder}/kallisto3/bustools_count/output.mtx\"\n",
        "# Filepath to barcode metadata\n",
        "var_path = f\"{out_folder}/kallisto3/bustools_count/output.genes.txt\"\n",
        "# Filepath to gene metadata\n",
        "obs_path = f\"{out_folder}/kallisto3/bustools_count/output.barcodes.txt\"\n",
        "\n",
        "# Create AnnData object\n",
        "adata3 = kb_utils.import_matrix_as_anndata(X, obs_path, var_path)\n",
        "adata3"
      ]
    },
    {
      "cell_type": "code",
      "execution_count": 28,
      "id": "c854ce89-7629-454f-8392-addf7f4109a5",
      "metadata": {
        "tags": [],
        "colab": {
          "base_uri": "https://localhost:8080/"
        },
        "id": "c854ce89-7629-454f-8392-addf7f4109a5",
        "outputId": "daecebc3-96ca-418b-985b-41dd03ccebc7"
      },
      "outputs": [
        {
          "output_type": "execute_result",
          "data": {
            "text/plain": [
              "array(['u11295'], dtype=object)"
            ]
          },
          "metadata": {},
          "execution_count": 28
        }
      ],
      "source": [
        "ids_seen3 = adata3.var[nd(adata3.X.sum(axis=0) > 0)].index.values\n",
        "ids_seen3"
      ]
    },
    {
      "cell_type": "code",
      "execution_count": 29,
      "id": "d0ec0ff2-f6ac-4ed6-97bb-1f455f01f8a6",
      "metadata": {
        "colab": {
          "base_uri": "https://localhost:8080/",
          "height": 300
        },
        "id": "d0ec0ff2-f6ac-4ed6-97bb-1f455f01f8a6",
        "outputId": "a664ba70-648b-44a1-8722-ae53e7a3fd65"
      },
      "outputs": [
        {
          "output_type": "execute_result",
          "data": {
            "text/plain": [
              "           ID  rep_ID           phylum           class            order  \\\n",
              "29331  u11295  u11295  Negarnaviricota  Monjiviricetes  Mononegavirales   \n",
              "29332  u17489  u11295  Negarnaviricota  Monjiviricetes  Mononegavirales   \n",
              "29333   u2062  u11295  Negarnaviricota  Monjiviricetes  Mononegavirales   \n",
              "29334  u20957  u11295  Negarnaviricota  Monjiviricetes  Mononegavirales   \n",
              "29335  u27987  u11295  Negarnaviricota  Monjiviricetes  Mononegavirales   \n",
              "29336  u44973  u11295  Negarnaviricota  Monjiviricetes  Mononegavirales   \n",
              "29337   u6240  u11295  Negarnaviricota  Monjiviricetes  Mononegavirales   \n",
              "29338   u9587  u11295  Negarnaviricota  Monjiviricetes  Mononegavirales   \n",
              "\n",
              "                family           genus                 species strandedness  \n",
              "29331  Paramyxoviridae  Paraavulavirus  Avian paraavulavirus 4       -ssRNA  \n",
              "29332  Paramyxoviridae  Paraavulavirus  Avian paraavulavirus 4       -ssRNA  \n",
              "29333  Paramyxoviridae  Paraavulavirus  Avian paraavulavirus 4       -ssRNA  \n",
              "29334  Paramyxoviridae  Paraavulavirus  Avian paraavulavirus 4       -ssRNA  \n",
              "29335  Paramyxoviridae  Paraavulavirus  Avian paraavulavirus 4       -ssRNA  \n",
              "29336  Paramyxoviridae  Paraavulavirus  Avian paraavulavirus 4       -ssRNA  \n",
              "29337  Paramyxoviridae  Paraavulavirus  Avian paraavulavirus 4       -ssRNA  \n",
              "29338  Paramyxoviridae  Paraavulavirus  Avian paraavulavirus 4       -ssRNA  "
            ],
            "text/html": [
              "\n",
              "  <div id=\"df-26f043f0-7f5e-44ad-b777-02ee16f196cc\" class=\"colab-df-container\">\n",
              "    <div>\n",
              "<style scoped>\n",
              "    .dataframe tbody tr th:only-of-type {\n",
              "        vertical-align: middle;\n",
              "    }\n",
              "\n",
              "    .dataframe tbody tr th {\n",
              "        vertical-align: top;\n",
              "    }\n",
              "\n",
              "    .dataframe thead th {\n",
              "        text-align: right;\n",
              "    }\n",
              "</style>\n",
              "<table border=\"1\" class=\"dataframe\">\n",
              "  <thead>\n",
              "    <tr style=\"text-align: right;\">\n",
              "      <th></th>\n",
              "      <th>ID</th>\n",
              "      <th>rep_ID</th>\n",
              "      <th>phylum</th>\n",
              "      <th>class</th>\n",
              "      <th>order</th>\n",
              "      <th>family</th>\n",
              "      <th>genus</th>\n",
              "      <th>species</th>\n",
              "      <th>strandedness</th>\n",
              "    </tr>\n",
              "  </thead>\n",
              "  <tbody>\n",
              "    <tr>\n",
              "      <th>29331</th>\n",
              "      <td>u11295</td>\n",
              "      <td>u11295</td>\n",
              "      <td>Negarnaviricota</td>\n",
              "      <td>Monjiviricetes</td>\n",
              "      <td>Mononegavirales</td>\n",
              "      <td>Paramyxoviridae</td>\n",
              "      <td>Paraavulavirus</td>\n",
              "      <td>Avian paraavulavirus 4</td>\n",
              "      <td>-ssRNA</td>\n",
              "    </tr>\n",
              "    <tr>\n",
              "      <th>29332</th>\n",
              "      <td>u17489</td>\n",
              "      <td>u11295</td>\n",
              "      <td>Negarnaviricota</td>\n",
              "      <td>Monjiviricetes</td>\n",
              "      <td>Mononegavirales</td>\n",
              "      <td>Paramyxoviridae</td>\n",
              "      <td>Paraavulavirus</td>\n",
              "      <td>Avian paraavulavirus 4</td>\n",
              "      <td>-ssRNA</td>\n",
              "    </tr>\n",
              "    <tr>\n",
              "      <th>29333</th>\n",
              "      <td>u2062</td>\n",
              "      <td>u11295</td>\n",
              "      <td>Negarnaviricota</td>\n",
              "      <td>Monjiviricetes</td>\n",
              "      <td>Mononegavirales</td>\n",
              "      <td>Paramyxoviridae</td>\n",
              "      <td>Paraavulavirus</td>\n",
              "      <td>Avian paraavulavirus 4</td>\n",
              "      <td>-ssRNA</td>\n",
              "    </tr>\n",
              "    <tr>\n",
              "      <th>29334</th>\n",
              "      <td>u20957</td>\n",
              "      <td>u11295</td>\n",
              "      <td>Negarnaviricota</td>\n",
              "      <td>Monjiviricetes</td>\n",
              "      <td>Mononegavirales</td>\n",
              "      <td>Paramyxoviridae</td>\n",
              "      <td>Paraavulavirus</td>\n",
              "      <td>Avian paraavulavirus 4</td>\n",
              "      <td>-ssRNA</td>\n",
              "    </tr>\n",
              "    <tr>\n",
              "      <th>29335</th>\n",
              "      <td>u27987</td>\n",
              "      <td>u11295</td>\n",
              "      <td>Negarnaviricota</td>\n",
              "      <td>Monjiviricetes</td>\n",
              "      <td>Mononegavirales</td>\n",
              "      <td>Paramyxoviridae</td>\n",
              "      <td>Paraavulavirus</td>\n",
              "      <td>Avian paraavulavirus 4</td>\n",
              "      <td>-ssRNA</td>\n",
              "    </tr>\n",
              "    <tr>\n",
              "      <th>29336</th>\n",
              "      <td>u44973</td>\n",
              "      <td>u11295</td>\n",
              "      <td>Negarnaviricota</td>\n",
              "      <td>Monjiviricetes</td>\n",
              "      <td>Mononegavirales</td>\n",
              "      <td>Paramyxoviridae</td>\n",
              "      <td>Paraavulavirus</td>\n",
              "      <td>Avian paraavulavirus 4</td>\n",
              "      <td>-ssRNA</td>\n",
              "    </tr>\n",
              "    <tr>\n",
              "      <th>29337</th>\n",
              "      <td>u6240</td>\n",
              "      <td>u11295</td>\n",
              "      <td>Negarnaviricota</td>\n",
              "      <td>Monjiviricetes</td>\n",
              "      <td>Mononegavirales</td>\n",
              "      <td>Paramyxoviridae</td>\n",
              "      <td>Paraavulavirus</td>\n",
              "      <td>Avian paraavulavirus 4</td>\n",
              "      <td>-ssRNA</td>\n",
              "    </tr>\n",
              "    <tr>\n",
              "      <th>29338</th>\n",
              "      <td>u9587</td>\n",
              "      <td>u11295</td>\n",
              "      <td>Negarnaviricota</td>\n",
              "      <td>Monjiviricetes</td>\n",
              "      <td>Mononegavirales</td>\n",
              "      <td>Paramyxoviridae</td>\n",
              "      <td>Paraavulavirus</td>\n",
              "      <td>Avian paraavulavirus 4</td>\n",
              "      <td>-ssRNA</td>\n",
              "    </tr>\n",
              "  </tbody>\n",
              "</table>\n",
              "</div>\n",
              "    <div class=\"colab-df-buttons\">\n",
              "\n",
              "  <div class=\"colab-df-container\">\n",
              "    <button class=\"colab-df-convert\" onclick=\"convertToInteractive('df-26f043f0-7f5e-44ad-b777-02ee16f196cc')\"\n",
              "            title=\"Convert this dataframe to an interactive table.\"\n",
              "            style=\"display:none;\">\n",
              "\n",
              "  <svg xmlns=\"http://www.w3.org/2000/svg\" height=\"24px\" viewBox=\"0 -960 960 960\">\n",
              "    <path d=\"M120-120v-720h720v720H120Zm60-500h600v-160H180v160Zm220 220h160v-160H400v160Zm0 220h160v-160H400v160ZM180-400h160v-160H180v160Zm440 0h160v-160H620v160ZM180-180h160v-160H180v160Zm440 0h160v-160H620v160Z\"/>\n",
              "  </svg>\n",
              "    </button>\n",
              "\n",
              "  <style>\n",
              "    .colab-df-container {\n",
              "      display:flex;\n",
              "      gap: 12px;\n",
              "    }\n",
              "\n",
              "    .colab-df-convert {\n",
              "      background-color: #E8F0FE;\n",
              "      border: none;\n",
              "      border-radius: 50%;\n",
              "      cursor: pointer;\n",
              "      display: none;\n",
              "      fill: #1967D2;\n",
              "      height: 32px;\n",
              "      padding: 0 0 0 0;\n",
              "      width: 32px;\n",
              "    }\n",
              "\n",
              "    .colab-df-convert:hover {\n",
              "      background-color: #E2EBFA;\n",
              "      box-shadow: 0px 1px 2px rgba(60, 64, 67, 0.3), 0px 1px 3px 1px rgba(60, 64, 67, 0.15);\n",
              "      fill: #174EA6;\n",
              "    }\n",
              "\n",
              "    .colab-df-buttons div {\n",
              "      margin-bottom: 4px;\n",
              "    }\n",
              "\n",
              "    [theme=dark] .colab-df-convert {\n",
              "      background-color: #3B4455;\n",
              "      fill: #D2E3FC;\n",
              "    }\n",
              "\n",
              "    [theme=dark] .colab-df-convert:hover {\n",
              "      background-color: #434B5C;\n",
              "      box-shadow: 0px 1px 3px 1px rgba(0, 0, 0, 0.15);\n",
              "      filter: drop-shadow(0px 1px 2px rgba(0, 0, 0, 0.3));\n",
              "      fill: #FFFFFF;\n",
              "    }\n",
              "  </style>\n",
              "\n",
              "    <script>\n",
              "      const buttonEl =\n",
              "        document.querySelector('#df-26f043f0-7f5e-44ad-b777-02ee16f196cc button.colab-df-convert');\n",
              "      buttonEl.style.display =\n",
              "        google.colab.kernel.accessAllowed ? 'block' : 'none';\n",
              "\n",
              "      async function convertToInteractive(key) {\n",
              "        const element = document.querySelector('#df-26f043f0-7f5e-44ad-b777-02ee16f196cc');\n",
              "        const dataTable =\n",
              "          await google.colab.kernel.invokeFunction('convertToInteractive',\n",
              "                                                    [key], {});\n",
              "        if (!dataTable) return;\n",
              "\n",
              "        const docLinkHtml = 'Like what you see? Visit the ' +\n",
              "          '<a target=\"_blank\" href=https://colab.research.google.com/notebooks/data_table.ipynb>data table notebook</a>'\n",
              "          + ' to learn more about interactive tables.';\n",
              "        element.innerHTML = '';\n",
              "        dataTable['output_type'] = 'display_data';\n",
              "        await google.colab.output.renderOutput(dataTable, element);\n",
              "        const docLink = document.createElement('div');\n",
              "        docLink.innerHTML = docLinkHtml;\n",
              "        element.appendChild(docLink);\n",
              "      }\n",
              "    </script>\n",
              "  </div>\n",
              "\n",
              "\n",
              "<div id=\"df-6ce5b529-9c45-41ba-a411-9fd1f6506bc7\">\n",
              "  <button class=\"colab-df-quickchart\" onclick=\"quickchart('df-6ce5b529-9c45-41ba-a411-9fd1f6506bc7')\"\n",
              "            title=\"Suggest charts\"\n",
              "            style=\"display:none;\">\n",
              "\n",
              "<svg xmlns=\"http://www.w3.org/2000/svg\" height=\"24px\"viewBox=\"0 0 24 24\"\n",
              "     width=\"24px\">\n",
              "    <g>\n",
              "        <path d=\"M19 3H5c-1.1 0-2 .9-2 2v14c0 1.1.9 2 2 2h14c1.1 0 2-.9 2-2V5c0-1.1-.9-2-2-2zM9 17H7v-7h2v7zm4 0h-2V7h2v10zm4 0h-2v-4h2v4z\"/>\n",
              "    </g>\n",
              "</svg>\n",
              "  </button>\n",
              "\n",
              "<style>\n",
              "  .colab-df-quickchart {\n",
              "      --bg-color: #E8F0FE;\n",
              "      --fill-color: #1967D2;\n",
              "      --hover-bg-color: #E2EBFA;\n",
              "      --hover-fill-color: #174EA6;\n",
              "      --disabled-fill-color: #AAA;\n",
              "      --disabled-bg-color: #DDD;\n",
              "  }\n",
              "\n",
              "  [theme=dark] .colab-df-quickchart {\n",
              "      --bg-color: #3B4455;\n",
              "      --fill-color: #D2E3FC;\n",
              "      --hover-bg-color: #434B5C;\n",
              "      --hover-fill-color: #FFFFFF;\n",
              "      --disabled-bg-color: #3B4455;\n",
              "      --disabled-fill-color: #666;\n",
              "  }\n",
              "\n",
              "  .colab-df-quickchart {\n",
              "    background-color: var(--bg-color);\n",
              "    border: none;\n",
              "    border-radius: 50%;\n",
              "    cursor: pointer;\n",
              "    display: none;\n",
              "    fill: var(--fill-color);\n",
              "    height: 32px;\n",
              "    padding: 0;\n",
              "    width: 32px;\n",
              "  }\n",
              "\n",
              "  .colab-df-quickchart:hover {\n",
              "    background-color: var(--hover-bg-color);\n",
              "    box-shadow: 0 1px 2px rgba(60, 64, 67, 0.3), 0 1px 3px 1px rgba(60, 64, 67, 0.15);\n",
              "    fill: var(--button-hover-fill-color);\n",
              "  }\n",
              "\n",
              "  .colab-df-quickchart-complete:disabled,\n",
              "  .colab-df-quickchart-complete:disabled:hover {\n",
              "    background-color: var(--disabled-bg-color);\n",
              "    fill: var(--disabled-fill-color);\n",
              "    box-shadow: none;\n",
              "  }\n",
              "\n",
              "  .colab-df-spinner {\n",
              "    border: 2px solid var(--fill-color);\n",
              "    border-color: transparent;\n",
              "    border-bottom-color: var(--fill-color);\n",
              "    animation:\n",
              "      spin 1s steps(1) infinite;\n",
              "  }\n",
              "\n",
              "  @keyframes spin {\n",
              "    0% {\n",
              "      border-color: transparent;\n",
              "      border-bottom-color: var(--fill-color);\n",
              "      border-left-color: var(--fill-color);\n",
              "    }\n",
              "    20% {\n",
              "      border-color: transparent;\n",
              "      border-left-color: var(--fill-color);\n",
              "      border-top-color: var(--fill-color);\n",
              "    }\n",
              "    30% {\n",
              "      border-color: transparent;\n",
              "      border-left-color: var(--fill-color);\n",
              "      border-top-color: var(--fill-color);\n",
              "      border-right-color: var(--fill-color);\n",
              "    }\n",
              "    40% {\n",
              "      border-color: transparent;\n",
              "      border-right-color: var(--fill-color);\n",
              "      border-top-color: var(--fill-color);\n",
              "    }\n",
              "    60% {\n",
              "      border-color: transparent;\n",
              "      border-right-color: var(--fill-color);\n",
              "    }\n",
              "    80% {\n",
              "      border-color: transparent;\n",
              "      border-right-color: var(--fill-color);\n",
              "      border-bottom-color: var(--fill-color);\n",
              "    }\n",
              "    90% {\n",
              "      border-color: transparent;\n",
              "      border-bottom-color: var(--fill-color);\n",
              "    }\n",
              "  }\n",
              "</style>\n",
              "\n",
              "  <script>\n",
              "    async function quickchart(key) {\n",
              "      const quickchartButtonEl =\n",
              "        document.querySelector('#' + key + ' button');\n",
              "      quickchartButtonEl.disabled = true;  // To prevent multiple clicks.\n",
              "      quickchartButtonEl.classList.add('colab-df-spinner');\n",
              "      try {\n",
              "        const charts = await google.colab.kernel.invokeFunction(\n",
              "            'suggestCharts', [key], {});\n",
              "      } catch (error) {\n",
              "        console.error('Error during call to suggestCharts:', error);\n",
              "      }\n",
              "      quickchartButtonEl.classList.remove('colab-df-spinner');\n",
              "      quickchartButtonEl.classList.add('colab-df-quickchart-complete');\n",
              "    }\n",
              "    (() => {\n",
              "      let quickchartButtonEl =\n",
              "        document.querySelector('#df-6ce5b529-9c45-41ba-a411-9fd1f6506bc7 button');\n",
              "      quickchartButtonEl.style.display =\n",
              "        google.colab.kernel.accessAllowed ? 'block' : 'none';\n",
              "    })();\n",
              "  </script>\n",
              "</div>\n",
              "\n",
              "    </div>\n",
              "  </div>\n"
            ]
          },
          "metadata": {},
          "execution_count": 29
        }
      ],
      "source": [
        "taxmap[taxmap[\"rep_ID\"].isin(ids_seen3)]"
      ]
    },
    {
      "cell_type": "markdown",
      "id": "6f9165cd-cba1-4173-9df8-7dcde4d0e3d0",
      "metadata": {
        "id": "6f9165cd-cba1-4173-9df8-7dcde4d0e3d0"
      },
      "source": [
        "# Plot bar plots"
      ]
    },
    {
      "cell_type": "code",
      "execution_count": 30,
      "id": "ca1def23-e0fd-426b-9e18-62c27b337fb7",
      "metadata": {
        "id": "ca1def23-e0fd-426b-9e18-62c27b337fb7"
      },
      "outputs": [],
      "source": [
        "# total number of RdRP nucleotide sequences that were aligned to each reference index\n",
        "total = 676"
      ]
    },
    {
      "cell_type": "code",
      "execution_count": 31,
      "id": "19b356db-4504-4d01-bb8c-70226dc541aa",
      "metadata": {
        "id": "19b356db-4504-4d01-bb8c-70226dc541aa"
      },
      "outputs": [],
      "source": [
        "colors = [\"#003049\", \"#4b8eb3\", \"#8fc0de\"]"
      ]
    },
    {
      "cell_type": "code",
      "execution_count": 32,
      "id": "84e3de60-e8e4-4041-85c0-6969524d9f79",
      "metadata": {
        "id": "84e3de60-e8e4-4041-85c0-6969524d9f79"
      },
      "outputs": [],
      "source": [
        "def barplot(tax_level, expected_tax):\n",
        "    fig, ax = plt.subplots(figsize=(5,7))\n",
        "    fontsize=18\n",
        "\n",
        "    correct = adata2[:, adata2.var.index.isin(taxmap[taxmap[tax_level] == expected_tax][\"rep_ID\"].unique())].X.sum()\n",
        "    # incorrect = adata2.X.sum() - correct\n",
        "    ax.bar(0, correct, color=colors[0], edgecolor=\"black\")\n",
        "    not_aligned = total - correct\n",
        "    if tax_level == \"phylum\":\n",
        "        ax.bar(0, not_aligned, bottom=correct, color=\"white\", edgecolor=\"black\", hatch=\"/\")\n",
        "\n",
        "    if tax_level == \"phylum\":\n",
        "        ax.text(0, correct-correct/2, str(int(correct)), fontsize=fontsize, ha=\"center\", color=\"white\")\n",
        "    else:\n",
        "        if correct > 0:\n",
        "            ax.text(0, correct+10, str(int(correct)), fontsize=fontsize, ha=\"center\")\n",
        "\n",
        "\n",
        "    total_aligned = 145\n",
        "    correct = adata[:, adata.var.index.isin(taxmap[taxmap[tax_level] == expected_tax][\"rep_ID\"].unique())].X.sum()\n",
        "    # incorrect = adata.X.sum() - correct\n",
        "    # multimapped = total_aligned - adata.X.sum()\n",
        "    ax.bar(1, correct, color=colors[1], edgecolor=\"black\")\n",
        "    not_aligned = total - correct\n",
        "    if tax_level == \"phylum\":\n",
        "        ax.bar(1, not_aligned, bottom=correct, color=\"white\", edgecolor=\"black\", hatch=\"/\")\n",
        "    if tax_level == \"phylum\":\n",
        "        ax.text(1, correct-correct/2, str(int(correct)), fontsize=fontsize, ha=\"center\")\n",
        "    else:\n",
        "        if correct > 0:\n",
        "            ax.text(1, correct+10, str(int(correct)), fontsize=fontsize, ha=\"center\")\n",
        "    # ax.bar(1, incorrect, bottom=correct, color=\"white\", edgecolor=\"black\", hatch=\"+\")\n",
        "    # ax.bar(1, multimapped, bottom=incorrect+correct, color=\"white\", edgecolor=\"black\", hatch=\"//\")\n",
        "\n",
        "    correct = adata3[:, adata3.var.index.isin(taxmap[taxmap[tax_level] == expected_tax][\"rep_ID\"].unique())].X.sum()\n",
        "    # incorrect = adata3.X.sum() - correct\n",
        "    not_aligned = total - correct\n",
        "    if tax_level == \"phylum\":\n",
        "        ax.bar(2, not_aligned, bottom=correct, color=\"white\", edgecolor=\"black\", hatch=\"/\")\n",
        "    ax.bar(2, correct, color=colors[2], edgecolor=\"black\")\n",
        "    if tax_level == \"phylum\":\n",
        "        ax.text(2, correct-correct/2, str(int(correct)), fontsize=fontsize, ha=\"center\")\n",
        "    else:\n",
        "        if correct > 0:\n",
        "            ax.text(2, correct+10, str(int(correct)), fontsize=fontsize, ha=\"center\")\n",
        "    # ax.bar(2, incorrect, bottom=correct, color=\"white\", edgecolor=\"black\", hatch=\"+\")\n",
        "\n",
        "    ax.axhline(total, color=\"black\", ls=\"--\")\n",
        "\n",
        "    # x_labels = [\"All Ebolavirus\\nspecies excluded\", \"All Ebolavirus\\ngenera excluded\", \"All Filoviridae\\nexcluded\"]\n",
        "    # ax.set_xticks([0,1,2], x_labels)\n",
        "    ax.set_xticks([])\n",
        "\n",
        "    if tax_level == \"phylum\":\n",
        "        ax.set_ylabel(\"Counts\", fontsize=fontsize)\n",
        "    else:\n",
        "        ax.set_yticks([0,100,200,300,400,500,600,700], [\"\",\"\",\"\",\"\",\"\",\"\",\"\",\"\"])\n",
        "\n",
        "    ax.spines.right.set_visible(False)\n",
        "    ax.spines.top.set_visible(False)\n",
        "\n",
        "    ax.tick_params(axis=\"both\", labelsize=fontsize)\n",
        "\n",
        "    ax.grid(True, which=\"both\", color=\"lightgray\", ls=\"--\", lw=1)\n",
        "    ax.set_axisbelow(True)\n",
        "\n",
        "    plt.savefig(f\"targets_removed_ontarget_{tax_level}.png\", dpi=300, bbox_inches=\"tight\")\n",
        "\n",
        "    fig.show()"
      ]
    },
    {
      "cell_type": "code",
      "execution_count": 33,
      "id": "5dfb30f5-7ccb-4739-8fe3-a705ac8b7651",
      "metadata": {
        "colab": {
          "base_uri": "https://localhost:8080/",
          "height": 592
        },
        "id": "5dfb30f5-7ccb-4739-8fe3-a705ac8b7651",
        "outputId": "43b0aca5-8b23-4219-84fd-0c7d684f3068"
      },
      "outputs": [
        {
          "output_type": "display_data",
          "data": {
            "text/plain": [
              "<Figure size 500x700 with 1 Axes>"
            ],
            "image/png": "[encoded data removed]"
          },
          "metadata": {
            "image/png": {
              "width": 494,
              "height": 575
            }
          }
        }
      ],
      "source": [
        "barplot(\"phylum\", \"Negarnaviricota\")"
      ]
    },
    {
      "cell_type": "code",
      "execution_count": 34,
      "id": "e035772d-11e2-4305-b8b8-8933a68d6aba",
      "metadata": {
        "colab": {
          "base_uri": "https://localhost:8080/",
          "height": 576
        },
        "id": "e035772d-11e2-4305-b8b8-8933a68d6aba",
        "outputId": "c49e1468-d740-4e48-afa1-318ccc15c233"
      },
      "outputs": [
        {
          "output_type": "display_data",
          "data": {
            "text/plain": [
              "<Figure size 500x700 with 1 Axes>"
            ],
            "image/png": "[encoded data removed]"
          },
          "metadata": {
            "image/png": {
              "width": 412,
              "height": 559
            }
          }
        }
      ],
      "source": [
        "barplot(\"class\", \"Monjiviricetes\")"
      ]
    },
    {
      "cell_type": "code",
      "execution_count": 35,
      "id": "bb2696e5-fe97-40cc-ba11-4d78b8f21267",
      "metadata": {
        "colab": {
          "base_uri": "https://localhost:8080/",
          "height": 576
        },
        "id": "bb2696e5-fe97-40cc-ba11-4d78b8f21267",
        "outputId": "ea1dd752-ea42-441c-bae3-b242f7a38ed8"
      },
      "outputs": [
        {
          "output_type": "display_data",
          "data": {
            "text/plain": [
              "<Figure size 500x700 with 1 Axes>"
            ],
            "image/png": "[encoded data removed]"
          },
          "metadata": {
            "image/png": {
              "width": 412,
              "height": 559
            }
          }
        }
      ],
      "source": [
        "barplot(\"order\", \"Mononegavirales\")"
      ]
    },
    {
      "cell_type": "code",
      "execution_count": 36,
      "id": "062ae6fb-64d4-4bc2-8435-5ff986cb7544",
      "metadata": {
        "colab": {
          "base_uri": "https://localhost:8080/",
          "height": 576
        },
        "id": "062ae6fb-64d4-4bc2-8435-5ff986cb7544",
        "outputId": "76c92073-6a77-4af5-e660-7ffafa7f6b26"
      },
      "outputs": [
        {
          "output_type": "display_data",
          "data": {
            "text/plain": [
              "<Figure size 500x700 with 1 Axes>"
            ],
            "image/png": "[encoded data removed]"
          },
          "metadata": {
            "image/png": {
              "width": 412,
              "height": 559
            }
          }
        }
      ],
      "source": [
        "barplot(\"family\", \"Filoviridae\")"
      ]
    },
    {
      "cell_type": "code",
      "execution_count": 37,
      "id": "65a7dcc8-f33f-4a0b-862e-047b17c5a48f",
      "metadata": {
        "colab": {
          "base_uri": "https://localhost:8080/",
          "height": 576
        },
        "id": "65a7dcc8-f33f-4a0b-862e-047b17c5a48f",
        "outputId": "f79ee806-1350-4c11-84df-568ba4d4dc93"
      },
      "outputs": [
        {
          "output_type": "display_data",
          "data": {
            "text/plain": [
              "<Figure size 500x700 with 1 Axes>"
            ],
            "image/png": "[encoded data removed]"
          },
          "metadata": {
            "image/png": {
              "width": 412,
              "height": 559
            }
          }
        }
      ],
      "source": [
        "barplot(\"genus\", \"Ebolavirus\")"
      ]
    },
    {
      "cell_type": "code",
      "execution_count": 38,
      "id": "614233fe-ca62-4690-b6ea-b0d163ced81a",
      "metadata": {
        "id": "614233fe-ca62-4690-b6ea-b0d163ced81a"
      },
      "outputs": [],
      "source": [
        "def barplot_incorrects(tax_level, expected_tax):\n",
        "    fig, ax = plt.subplots(figsize=(5,7))\n",
        "    fontsize=18\n",
        "\n",
        "    correct = adata2[:, adata2.var.index.isin(taxmap[taxmap[tax_level].isin(expected_tax)][\"rep_ID\"].unique())].X.sum()\n",
        "    ax.bar(0, correct, color=colors[0], edgecolor=\"black\")\n",
        "    if correct > 0:\n",
        "        ax.text(0, correct+10, str(int(correct)), fontsize=fontsize, ha=\"center\")\n",
        "\n",
        "\n",
        "    correct = adata[:, adata.var.index.isin(taxmap[taxmap[tax_level].isin(expected_tax)][\"rep_ID\"].unique())].X.sum()\n",
        "    ax.bar(1, correct, color=colors[1], edgecolor=\"black\")\n",
        "    if correct > 0:\n",
        "        ax.text(1, correct+10, str(int(correct)), fontsize=fontsize, ha=\"center\")\n",
        "\n",
        "    correct = adata3[:, adata3.var.index.isin(taxmap[taxmap[tax_level].isin(expected_tax)][\"rep_ID\"].unique())].X.sum()\n",
        "    ax.bar(2, correct, color=colors[2], edgecolor=\"black\")\n",
        "    if correct > 0:\n",
        "        ax.text(2, correct+10, str(int(correct)), fontsize=fontsize, ha=\"center\")\n",
        "\n",
        "    ax.axhline(total, color=\"black\", ls=\"--\")\n",
        "\n",
        "    # x_labels = [\"All Ebolavirus\\nspecies excluded\", \"All Ebolavirus\\ngenera excluded\", \"All Filoviridae\\nexcluded\"]\n",
        "    # ax.set_xticks([0,1,2], x_labels)\n",
        "    ax.set_xticks([])\n",
        "\n",
        "    if tax_level == \"phylum\":\n",
        "        ax.set_ylabel(\"Counts\", fontsize=fontsize)\n",
        "    else:\n",
        "        ax.set_yticks([0,100,200,300,400,500,600,700], [\"\",\"\",\"\",\"\",\"\",\"\",\"\",\"\"])\n",
        "\n",
        "    ax.spines.right.set_visible(False)\n",
        "    ax.spines.top.set_visible(False)\n",
        "\n",
        "    ax.tick_params(axis=\"both\", labelsize=fontsize)\n",
        "\n",
        "    ax.grid(True, which=\"both\", color=\"lightgray\", ls=\"--\", lw=1)\n",
        "    ax.set_axisbelow(True)\n",
        "\n",
        "    plt.savefig(f\"targets_removed_offtarget_{tax_level}_{expected_tax[0]}.png\", dpi=300, bbox_inches=\"tight\")\n",
        "\n",
        "    fig.show()"
      ]
    },
    {
      "cell_type": "code",
      "execution_count": 39,
      "id": "489e7b1d-dc41-470f-9a30-43d033b7baf9",
      "metadata": {
        "colab": {
          "base_uri": "https://localhost:8080/",
          "height": 576
        },
        "id": "489e7b1d-dc41-470f-9a30-43d033b7baf9",
        "outputId": "0f9bc7d4-eb7c-4052-d5c4-232e74d39408"
      },
      "outputs": [
        {
          "output_type": "display_data",
          "data": {
            "text/plain": [
              "<Figure size 500x700 with 1 Axes>"
            ],
            "image/png": "[encoded data removed]"
          },
          "metadata": {
            "image/png": {
              "width": 412,
              "height": 559
            }
          }
        }
      ],
      "source": [
        "barplot_incorrects(\"species\", [\"Marburg marburgvirus\"])"
      ]
    },
    {
      "cell_type": "code",
      "execution_count": 40,
      "id": "76b3ea94-a0bd-4a9c-a932-1e929ec33b7d",
      "metadata": {
        "colab": {
          "base_uri": "https://localhost:8080/",
          "height": 576
        },
        "id": "76b3ea94-a0bd-4a9c-a932-1e929ec33b7d",
        "outputId": "6a141283-e148-4379-fbbf-e144fe0649c4"
      },
      "outputs": [
        {
          "output_type": "display_data",
          "data": {
            "text/plain": [
              "<Figure size 500x700 with 1 Axes>"
            ],
            "image/png": "[encoded data removed]"
          },
          "metadata": {
            "image/png": {
              "width": 412,
              "height": 559
            }
          }
        }
      ],
      "source": [
        "barplot_incorrects(\"genus\", [\"Marburgvirus\"])"
      ]
    },
    {
      "cell_type": "code",
      "execution_count": 41,
      "id": "e6ef02ea-b123-4e41-a51d-d11757b95ca4",
      "metadata": {
        "colab": {
          "base_uri": "https://localhost:8080/",
          "height": 576
        },
        "id": "e6ef02ea-b123-4e41-a51d-d11757b95ca4",
        "outputId": "962a8369-3d32-4c66-893a-d8fbdddc0ccb"
      },
      "outputs": [
        {
          "output_type": "display_data",
          "data": {
            "text/plain": [
              "<Figure size 500x700 with 1 Axes>"
            ],
            "image/png": "[encoded data removed]"
          },
          "metadata": {
            "image/png": {
              "width": 412,
              "height": 559
            }
          }
        }
      ],
      "source": [
        "barplot_incorrects(\"family\", [\"Paramyxoviridae\"])"
      ]
    },
    {
      "cell_type": "code",
      "execution_count": 42,
      "id": "64f4bd87-39e6-42e1-b3a2-ea4868554bcc",
      "metadata": {
        "id": "64f4bd87-39e6-42e1-b3a2-ea4868554bcc"
      },
      "outputs": [],
      "source": [
        "def barplot_incorrects2(tax_level1, expected_tax1, tax_level2, expected_tax2):\n",
        "    fig, ax = plt.subplots(figsize=(5,7))\n",
        "    fontsize=18\n",
        "\n",
        "    correct = adata2[:, adata2.var.index.isin(taxmap[(taxmap[tax_level1].isin(expected_tax1)) & (taxmap[tax_level2].isin(expected_tax2))][\"rep_ID\"].unique())].X.sum()\n",
        "    ax.bar(0, correct, color=colors[0], edgecolor=\"black\")\n",
        "    if correct > 0:\n",
        "        ax.text(0, correct+10, str(int(correct)), fontsize=fontsize, ha=\"center\")\n",
        "\n",
        "\n",
        "    correct = adata[:, adata.var.index.isin(taxmap[(taxmap[tax_level1].isin(expected_tax1)) & (taxmap[tax_level2].isin(expected_tax2))][\"rep_ID\"].unique())].X.sum()\n",
        "    ax.bar(1, correct, color=colors[1], edgecolor=\"black\")\n",
        "    if correct > 0:\n",
        "        ax.text(1, correct+10, str(int(correct)), fontsize=fontsize, ha=\"center\")\n",
        "\n",
        "    correct = adata3[:, adata3.var.index.isin(taxmap[(taxmap[tax_level1].isin(expected_tax1)) & (taxmap[tax_level2].isin(expected_tax2))][\"rep_ID\"].unique())].X.sum()\n",
        "    ax.bar(2, correct, color=colors[2], edgecolor=\"black\")\n",
        "    if correct > 0:\n",
        "        ax.text(2, correct+10, str(int(correct)), fontsize=fontsize, ha=\"center\")\n",
        "\n",
        "    ax.axhline(total, color=\"black\", ls=\"--\")\n",
        "\n",
        "    # x_labels = [\"All Ebolavirus\\nspecies excluded\", \"All Ebolavirus\\ngenera excluded\", \"All Filoviridae\\nexcluded\"]\n",
        "    # ax.set_xticks([0,1,2], x_labels)\n",
        "    ax.set_xticks([])\n",
        "\n",
        "    ax.set_yticks([0,100,200,300,400,500,600,700], [\"\",\"\",\"\",\"\",\"\",\"\",\"\",\"\"])\n",
        "\n",
        "    ax.spines.right.set_visible(False)\n",
        "    ax.spines.top.set_visible(False)\n",
        "\n",
        "    ax.tick_params(axis=\"both\", labelsize=fontsize)\n",
        "\n",
        "    ax.grid(True, which=\"both\", color=\"lightgray\", ls=\"--\", lw=1)\n",
        "    ax.set_axisbelow(True)\n",
        "\n",
        "    plt.savefig(f\"targets_removed_offtarget_{tax_level1}_{tax_level2}.png\", dpi=300, bbox_inches=\"tight\")\n",
        "\n",
        "    fig.show()"
      ]
    },
    {
      "cell_type": "code",
      "execution_count": 43,
      "id": "416f225b-eade-45c9-bac5-dac6f3170e03",
      "metadata": {
        "colab": {
          "base_uri": "https://localhost:8080/",
          "height": 576
        },
        "id": "416f225b-eade-45c9-bac5-dac6f3170e03",
        "outputId": "9414defa-cbf5-479a-c3a4-8c0d071a9e59"
      },
      "outputs": [
        {
          "output_type": "display_data",
          "data": {
            "text/plain": [
              "<Figure size 500x700 with 1 Axes>"
            ],
            "image/png": "[encoded data removed]"
          },
          "metadata": {
            "image/png": {
              "width": 412,
              "height": 559
            }
          }
        }
      ],
      "source": [
        "barplot_incorrects2(\"genus\", [\"Ebolavirus\"], \"species\", [\".\"])"
      ]
    },
    {
      "cell_type": "code",
      "execution_count": 44,
      "id": "bc8e8426-e81e-4a24-97bb-9d7a7f36dea8",
      "metadata": {
        "colab": {
          "base_uri": "https://localhost:8080/",
          "height": 576
        },
        "id": "bc8e8426-e81e-4a24-97bb-9d7a7f36dea8",
        "outputId": "90e19210-83fb-42e6-d433-0b18d60b5a02"
      },
      "outputs": [
        {
          "output_type": "display_data",
          "data": {
            "text/plain": [
              "<Figure size 500x700 with 1 Axes>"
            ],
            "image/png": "[encoded data removed]"
          },
          "metadata": {
            "image/png": {
              "width": 412,
              "height": 559
            }
          }
        }
      ],
      "source": [
        "barplot_incorrects2(\"genus\", [\".\"], \"species\", [\".\"])"
      ]
    },
    {
      "cell_type": "code",
      "execution_count": 44,
      "id": "56e671ee-8964-43a9-ad5e-f44d216b873b",
      "metadata": {
        "id": "56e671ee-8964-43a9-ad5e-f44d216b873b"
      },
      "outputs": [],
      "source": []
    }
  ],
  "metadata": {
    "kernelspec": {
      "display_name": "Python 3 (ipykernel)",
      "language": "python",
      "name": "python3"
    },
    "language_info": {
      "codemirror_mode": {
        "name": "ipython",
        "version": 3
      },
      "file_extension": ".py",
      "mimetype": "text/x-python",
      "name": "python",
      "nbconvert_exporter": "python",
      "pygments_lexer": "ipython3",
      "version": "3.9.12"
    },
    "colab": {
      "provenance": [],
      "include_colab_link": true
    }
  },
  "nbformat": 4,
  "nbformat_minor": 5
}