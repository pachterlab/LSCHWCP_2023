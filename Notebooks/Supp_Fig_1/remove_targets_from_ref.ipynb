{
  "cells": [
    {
      "cell_type": "markdown",
      "metadata": {
        "id": "view-in-github",
        "colab_type": "text"
      },
      "source": [
        "<a href=\"https://colab.research.google.com/github/pachterlab/LSCHWCP_2023/blob/main/Notebooks/Supp_Fig_1/remove_targets_from_ref.ipynb\" target=\"_parent\"><img src=\"https://colab.research.google.com/assets/colab-badge.svg\" alt=\"Open In Colab\"/></a>"
      ]
    },
    {
      "cell_type": "markdown",
      "source": [
        "# Remove target virus species, genus and family from reference index prior to performing alignment"
      ],
      "metadata": {
        "id": "yPagf0-0_RsM"
      },
      "id": "yPagf0-0_RsM"
    },
    {
      "cell_type": "code",
      "source": [
        "!pip install -q kb_python biopython"
      ],
      "metadata": {
        "id": "J1_IPM0M_I9v"
      },
      "id": "J1_IPM0M_I9v",
      "execution_count": null,
      "outputs": []
    },
    {
      "cell_type": "code",
      "execution_count": null,
      "id": "872de9b7-c4d2-4f91-bc90-b1e526117ce9",
      "metadata": {
        "id": "872de9b7-c4d2-4f91-bc90-b1e526117ce9"
      },
      "outputs": [],
      "source": [
        "from Bio import SeqIO\n",
        "import pandas as pd\n",
        "import numpy as np\n",
        "from itertools import product\n",
        "import kb_python.utils as kb_utils\n",
        "%config InlineBackend.figure_format='retina'\n",
        "import matplotlib.pyplot as plt\n",
        "from tqdm import tqdm\n",
        "TQDM_BAR_FORMAT = (\n",
        "    \"{l_bar}{bar}| {n_fmt}/{total_fmt} [elapsed: {elapsed} remaining: {remaining}]\"\n",
        ")\n",
        "\n",
        "def nd(arr):\n",
        "    \"\"\"\n",
        "    Function to transform numpy matrix to nd array.\n",
        "    \"\"\"\n",
        "    return np.asarray(arr).reshape(-1)"
      ]
    },
    {
      "cell_type": "code",
      "source": [
        "# Install kallisto from source\n",
        "!git clone -q https://github.com/pachterlab/kallisto.git\n",
        "!cd kallisto && mkdir build && cd build && cmake .. && make\n",
        "\n",
        "# Install bustools from source\n",
        "!git clone -q https://github.com/BUStools/bustools.git\n",
        "!cd bustools && mkdir build && cd build && cmake .. && make\n",
        "\n",
        "# Define paths to kallisto and bustools binaries\n",
        "kallisto = \"/content/kallisto/build/src/kallisto\"\n",
        "bustools = \"/content/bustools/build/src/bustools\""
      ],
      "metadata": {
        "id": "BktiEDlv_3El"
      },
      "id": "BktiEDlv_3El",
      "execution_count": null,
      "outputs": []
    },
    {
      "cell_type": "code",
      "source": [
        "# Download the customized transcripts to gene mapping\n",
        "!wget https://raw.githubusercontent.com/pachterlab/LSCHWCP_2023/main/PalmDB/palmdb_clustered_t2g.txt\n",
        "# Download the RdRP amino acid sequences\n",
        "!wget https://raw.githubusercontent.com/pachterlab/LSCHWCP_2023/main/PalmDB/palmdb_rdrp_seqs.fa\n",
        "\n",
        "virus_fasta = \"palmdb_rdrp_seqs.fa\"\n",
        "virus_t2g = \"palmdb_clustered_t2g.txt\""
      ],
      "metadata": {
        "id": "QJ7vq3lp_3SP"
      },
      "id": "QJ7vq3lp_3SP",
      "execution_count": null,
      "outputs": []
    },
    {
      "cell_type": "code",
      "execution_count": null,
      "id": "20890675-eb82-40bf-98b0-2f83c5e75a2a",
      "metadata": {
        "id": "20890675-eb82-40bf-98b0-2f83c5e75a2a"
      },
      "outputs": [],
      "source": [
        "# Load virus ID to taxonomy mapping\n",
        "!wget https://raw.githubusercontent.com/pachterlab/LSCHWCP_2023/main/PalmDB/ID_to_taxonomy_mapping.csv\n",
        "taxmap = pd.read_csv(\"ID_to_taxonomy_mapping.csv\")\n",
        "taxmap"
      ]
    },
    {
      "cell_type": "code",
      "execution_count": null,
      "id": "1d7baf99-7430-4227-8848-4474908d4001",
      "metadata": {
        "id": "1d7baf99-7430-4227-8848-4474908d4001"
      },
      "outputs": [],
      "source": [
        "# Get fasta file containing ZEBOV RdRP sequences\n",
        "!wget https://raw.githubusercontent.com/pachterlab/LSCHWCP_2023/main/Notebooks/Figure_2/Figure_2c/SRR12698539_2_extracted_u10.fa\n",
        "nn_fasta = \"SRR12698539_2_extracted_u10.fa\""
      ]
    },
    {
      "cell_type": "code",
      "source": [
        "# Number of threads used for alignments\n",
        "threads = 2"
      ],
      "metadata": {
        "id": "PuHXGM-eAE-9"
      },
      "id": "PuHXGM-eAE-9",
      "execution_count": null,
      "outputs": []
    },
    {
      "cell_type": "code",
      "source": [
        "out_folder = \"remove_targets_from_ref\""
      ],
      "metadata": {
        "id": "LEbZ3VkoAzy4"
      },
      "id": "LEbZ3VkoAzy4",
      "execution_count": null,
      "outputs": []
    },
    {
      "cell_type": "markdown",
      "source": [
        "____\n",
        "# Remove all sequences linked to the genus *Ebolavirus* from the reference index"
      ],
      "metadata": {
        "id": "l3c_JpzaA_Fu"
      },
      "id": "l3c_JpzaA_Fu"
    },
    {
      "cell_type": "markdown",
      "id": "a2747a7f-156d-4621-9721-8f181a5f2314",
      "metadata": {
        "id": "a2747a7f-156d-4621-9721-8f181a5f2314"
      },
      "source": [
        "Create new fasta excluding all sequences associated with the Ebolavirus genus:"
      ]
    },
    {
      "cell_type": "code",
      "execution_count": null,
      "id": "350cc25f-fc32-46df-8f78-6f9fa9866294",
      "metadata": {
        "id": "350cc25f-fc32-46df-8f78-6f9fa9866294"
      },
      "outputs": [],
      "source": [
        "targets_all = taxmap[taxmap[\"genus\"].str.contains(\"Ebolavirus\")][\"ID\"].values"
      ]
    },
    {
      "cell_type": "code",
      "execution_count": null,
      "id": "15e21306-34a5-4bf8-9034-66573828ed94",
      "metadata": {
        "id": "15e21306-34a5-4bf8-9034-66573828ed94"
      },
      "outputs": [],
      "source": [
        "%%time\n",
        "records = SeqIO.parse(virus_fasta, \"fasta\")\n",
        "\n",
        "test_fasta = f\"{out_folder}/uniques_nodup_targets_removed.fa\"\n",
        "with open(test_fasta, \"w\") as new_fasta:\n",
        "    for record in records:\n",
        "        if record.id not in targets_all:\n",
        "            new_fasta.write(\">\" + record.id + \"\\n\")\n",
        "            new_fasta.write(str(record.seq) + \"\\n\")"
      ]
    },
    {
      "cell_type": "markdown",
      "id": "012b65ee-e63f-4bea-be54-df6fd84daa00",
      "metadata": {
        "id": "012b65ee-e63f-4bea-be54-df6fd84daa00"
      },
      "source": [
        "Generate reference index using this new fasta:"
      ]
    },
    {
      "cell_type": "code",
      "execution_count": null,
      "id": "c4557fa8-d098-4be8-8493-ced80611927e",
      "metadata": {
        "id": "c4557fa8-d098-4be8-8493-ced80611927e"
      },
      "outputs": [],
      "source": [
        "virus_index = f\"{out_folder}/uniques_nodup_targets_removed.idx\"\n",
        "\n",
        "!$kallisto index \\\n",
        "    --aa \\\n",
        "    -t $threads \\\n",
        "    -i $virus_index \\\n",
        "    $test_fasta"
      ]
    },
    {
      "cell_type": "markdown",
      "id": "3cd11978-ed03-4da5-a7ba-f853631cf839",
      "metadata": {
        "id": "3cd11978-ed03-4da5-a7ba-f853631cf839"
      },
      "source": [
        "Align ZEBOV RdRP nucleotide sequences to the new index:"
      ]
    },
    {
      "cell_type": "code",
      "execution_count": null,
      "id": "62ab8f48-3ff6-48ba-96aa-bc3df7fe9cf1",
      "metadata": {
        "id": "62ab8f48-3ff6-48ba-96aa-bc3df7fe9cf1"
      },
      "outputs": [],
      "source": [
        "!$kallisto bus \\\n",
        "        --aa \\\n",
        "        -i $virus_index \\\n",
        "        -o $out_folder/kallisto \\\n",
        "        -x bulk \\\n",
        "        -t $threads \\\n",
        "        $nn_fasta\n",
        "\n",
        "!$bustools sort -o $out_folder/kallisto/output_sorted.bus $out_folder/kallisto/output.bus\n",
        "\n",
        "!$bustools count \\\n",
        "    --genecounts \\\n",
        "    --cm \\\n",
        "    -o $out_folder/kallisto/bustools_count/ \\\n",
        "    -g $virus_t2g \\\n",
        "    -e $out_folder/kallisto/matrix.ec \\\n",
        "    -t $out_folder/kallisto/transcripts.txt \\\n",
        "    $out_folder/kallisto/output_sorted.bus"
      ]
    },
    {
      "cell_type": "markdown",
      "source": [
        "____\n",
        "# Remove all *Ebolavirus* species sequences from the reference index"
      ],
      "metadata": {
        "id": "9_LzFDTgC79B"
      },
      "id": "9_LzFDTgC79B"
    },
    {
      "cell_type": "code",
      "source": [
        "targets_all = taxmap[taxmap[\"species\"].str.contains(\"Ebolavirus\")][\"ID\"].values"
      ],
      "metadata": {
        "id": "xLie2Mc0DDX9"
      },
      "id": "xLie2Mc0DDX9",
      "execution_count": null,
      "outputs": []
    },
    {
      "cell_type": "code",
      "source": [
        "%%time\n",
        "records = SeqIO.parse(virus_fasta, \"fasta\")\n",
        "\n",
        "test_fasta = f\"{out_folder}/uniques_nodup_targets_removed_2.fa\"\n",
        "with open(test_fasta, \"w\") as new_fasta:\n",
        "    for record in records:\n",
        "        if record.id not in targets_all:\n",
        "            new_fasta.write(\">\" + record.id + \"\\n\")\n",
        "            new_fasta.write(str(record.seq) + \"\\n\")"
      ],
      "metadata": {
        "id": "V69XXc_mDByZ"
      },
      "id": "V69XXc_mDByZ",
      "execution_count": null,
      "outputs": []
    },
    {
      "cell_type": "markdown",
      "source": [
        "Generate index with new fasta:"
      ],
      "metadata": {
        "id": "eql8GYdxDH_0"
      },
      "id": "eql8GYdxDH_0"
    },
    {
      "cell_type": "code",
      "source": [
        "virus_index = f\"{out_folder}/uniques_nodup_targets_removed_2.idx\"\n",
        "\n",
        "!$kallisto index \\\n",
        "    -t $threads \\\n",
        "    --aa \\\n",
        "    -i $virus_index \\\n",
        "    $test_fasta"
      ],
      "metadata": {
        "id": "IwcH4fJRDFfO"
      },
      "id": "IwcH4fJRDFfO",
      "execution_count": null,
      "outputs": []
    },
    {
      "cell_type": "markdown",
      "source": [
        "Align fasta with ZEBOV RdRP nucleotide sequences:"
      ],
      "metadata": {
        "id": "Qzs5YES9DJ73"
      },
      "id": "Qzs5YES9DJ73"
    },
    {
      "cell_type": "code",
      "source": [
        "!$kallisto bus \\\n",
        "        -i $virus_index \\\n",
        "        -o $out_folder/kallisto2 \\\n",
        "        --aa \\\n",
        "        -x bulk \\\n",
        "        -t $threads \\\n",
        "        $nn_fasta\n",
        "\n",
        "!$bustools sort -o $out_folder/kallisto2/output_sorted.bus $out_folder/kallisto2/output.bus\n",
        "\n",
        "!$bustools count \\\n",
        "    --genecounts \\\n",
        "    --cm \\\n",
        "    -o $out_folder/kallisto2/bustools_count/ \\\n",
        "    -g $virus_t2g \\\n",
        "    -e $out_folder/kallisto2/matrix.ec \\\n",
        "    -t $out_folder/kallisto2/transcripts.txt \\\n",
        "    $out_folder/kallisto2/output_sorted.bus"
      ],
      "metadata": {
        "id": "piqD5chIDKC4"
      },
      "id": "piqD5chIDKC4",
      "execution_count": null,
      "outputs": []
    },
    {
      "cell_type": "markdown",
      "id": "bc086598-7402-4df5-96b2-506cb38b09e2",
      "metadata": {
        "id": "bc086598-7402-4df5-96b2-506cb38b09e2"
      },
      "source": [
        "____\n",
        "# Remove sequences linked to the family *Filoviridae* from the reference index"
      ]
    },
    {
      "cell_type": "code",
      "execution_count": null,
      "id": "5fb7c273-11b8-4af2-a2db-9c2bf8e208d5",
      "metadata": {
        "id": "5fb7c273-11b8-4af2-a2db-9c2bf8e208d5"
      },
      "outputs": [],
      "source": [
        "targets_all = taxmap[taxmap[\"family\"].str.contains(\"Filoviridae\")][\"ID\"].values"
      ]
    },
    {
      "cell_type": "code",
      "execution_count": null,
      "id": "5914bb6a-0a17-410f-96d2-cc91b008b771",
      "metadata": {
        "id": "5914bb6a-0a17-410f-96d2-cc91b008b771"
      },
      "outputs": [],
      "source": [
        "%%time\n",
        "records = SeqIO.parse(virus_fasta, \"fasta\")\n",
        "\n",
        "test_fasta = f\"{out_folder}/uniques_nodup_targets_removed_3.fa\"\n",
        "with open(test_fasta, \"w\") as new_fasta:\n",
        "    for record in records:\n",
        "        if record.id not in targets_all:\n",
        "            new_fasta.write(\">\" + record.id + \"\\n\")\n",
        "            new_fasta.write(str(record.seq) + \"\\n\")"
      ]
    },
    {
      "cell_type": "markdown",
      "id": "2df337dd-ac3e-43fd-a1d2-524d39ec782e",
      "metadata": {
        "id": "2df337dd-ac3e-43fd-a1d2-524d39ec782e"
      },
      "source": [
        "Generate index with new fasta:"
      ]
    },
    {
      "cell_type": "code",
      "execution_count": null,
      "id": "be3acdf3-6fc9-4913-93d6-e081103620ee",
      "metadata": {
        "id": "be3acdf3-6fc9-4913-93d6-e081103620ee"
      },
      "outputs": [],
      "source": [
        "virus_index = f\"{out_folder}/uniques_nodup_targets_removed_3.idx\"\n",
        "\n",
        "!$kallisto index \\\n",
        "    -t $threads \\\n",
        "    --aa \\\n",
        "    -i $virus_index \\\n",
        "    $test_fasta"
      ]
    },
    {
      "cell_type": "markdown",
      "id": "cd77ce11-6803-466a-8617-e5a5d5a2c71e",
      "metadata": {
        "id": "cd77ce11-6803-466a-8617-e5a5d5a2c71e"
      },
      "source": [
        "Align fasta with ZEBOV RdRP nucleotide sequences:"
      ]
    },
    {
      "cell_type": "code",
      "execution_count": null,
      "id": "5d022d41-96bb-4d5d-bd49-7b1ae5a2ae44",
      "metadata": {
        "id": "5d022d41-96bb-4d5d-bd49-7b1ae5a2ae44"
      },
      "outputs": [],
      "source": [
        "!$kallisto bus \\\n",
        "        -i $virus_index \\\n",
        "        -o $out_folder/kallisto3 \\\n",
        "        --aa \\\n",
        "        -x bulk \\\n",
        "        -t $threads \\\n",
        "        $nn_fasta\n",
        "\n",
        "!$bustools sort -o $out_folder/kallisto3/output_sorted.bus $out_folder/kallisto3/output.bus\n",
        "\n",
        "!$bustools count \\\n",
        "    --genecounts \\\n",
        "    --cm \\\n",
        "    -o $out_folder/kallisto3/bustools_count/ \\\n",
        "    -g $virus_t2g \\\n",
        "    -e $out_folder/kallisto3/matrix.ec \\\n",
        "    -t $out_folder/kallisto3/transcripts.txt \\\n",
        "    $out_folder/kallisto3/output_sorted.bus"
      ]
    },
    {
      "cell_type": "markdown",
      "id": "b0f5dc05-c50c-4b8c-9613-4bdbeb94011b",
      "metadata": {
        "id": "b0f5dc05-c50c-4b8c-9613-4bdbeb94011b"
      },
      "source": [
        "___\n",
        "# Load results and plot which taxonomies the sequences were aligned to"
      ]
    },
    {
      "cell_type": "markdown",
      "id": "0276052f-e3f6-4159-bc60-552837530ffd",
      "metadata": {
        "id": "0276052f-e3f6-4159-bc60-552837530ffd"
      },
      "source": [
        "Load alignment data where all sequences linked to Ebolavirus genera were removed from the reference:"
      ]
    },
    {
      "cell_type": "code",
      "execution_count": null,
      "id": "ae4dbb1c-6e89-48c0-9b41-39c30382fe0d",
      "metadata": {
        "id": "ae4dbb1c-6e89-48c0-9b41-39c30382fe0d"
      },
      "outputs": [],
      "source": [
        "# Filepath to counts\n",
        "X = f\"{out_folder}/kallisto/bustools_count/output.mtx\"\n",
        "# Filepath to barcode metadata\n",
        "var_path = f\"{out_folder}/kallisto/bustools_count/output.genes.txt\"\n",
        "# Filepath to gene metadata\n",
        "obs_path = f\"{out_folder}/kallisto/bustools_count/output.barcodes.txt\"\n",
        "\n",
        "# Create AnnData object\n",
        "adata = kb_utils.import_matrix_as_anndata(X, obs_path, var_path)\n",
        "adata"
      ]
    },
    {
      "cell_type": "code",
      "execution_count": null,
      "id": "38d7f741-668e-46d6-b718-6bccb996cff0",
      "metadata": {
        "id": "38d7f741-668e-46d6-b718-6bccb996cff0"
      },
      "outputs": [],
      "source": [
        "ids_seen = adata.var[nd(adata.X.sum(axis=0) > 0)].index.values\n",
        "ids_seen"
      ]
    },
    {
      "cell_type": "code",
      "execution_count": null,
      "id": "d600cca0-75a2-420d-8c10-b98ee3f58d9b",
      "metadata": {
        "id": "d600cca0-75a2-420d-8c10-b98ee3f58d9b"
      },
      "outputs": [],
      "source": [
        "taxmap[taxmap[\"rep_ID\"].isin(ids_seen)]"
      ]
    },
    {
      "cell_type": "markdown",
      "id": "6fa2bfa7-b8e0-4b28-8463-c3ae77e54639",
      "metadata": {
        "id": "6fa2bfa7-b8e0-4b28-8463-c3ae77e54639"
      },
      "source": [
        "Load data where all sequences linked to Ebolavirus species were removed:"
      ]
    },
    {
      "cell_type": "code",
      "execution_count": null,
      "id": "cf4537f9-6148-4033-b8ae-b1e5755f9a34",
      "metadata": {
        "id": "cf4537f9-6148-4033-b8ae-b1e5755f9a34"
      },
      "outputs": [],
      "source": [
        "# Filepath to counts\n",
        "X = f\"{out_folder}/kallisto2/bustools_count/output.mtx\"\n",
        "# Filepath to barcode metadata\n",
        "var_path = f\"{out_folder}/kallisto2/bustools_count/output.genes.txt\"\n",
        "# Filepath to gene metadata\n",
        "obs_path = f\"{out_folder}/kallisto2/bustools_count/output.barcodes.txt\"\n",
        "\n",
        "# Create AnnData object\n",
        "adata2 = kb_utils.import_matrix_as_anndata(X, obs_path, var_path)\n",
        "adata2"
      ]
    },
    {
      "cell_type": "code",
      "execution_count": null,
      "id": "ffedc075-c7bb-4af8-932c-952a729456d9",
      "metadata": {
        "tags": [],
        "id": "ffedc075-c7bb-4af8-932c-952a729456d9"
      },
      "outputs": [],
      "source": [
        "ids_seen2 = adata2.var[nd(adata2.X.sum(axis=0) > 0)].index.values\n",
        "ids_seen2"
      ]
    },
    {
      "cell_type": "code",
      "execution_count": null,
      "id": "7f78ccb2-b509-43f0-b719-3d8d6bfcc4ac",
      "metadata": {
        "id": "7f78ccb2-b509-43f0-b719-3d8d6bfcc4ac"
      },
      "outputs": [],
      "source": [
        "taxmap[taxmap[\"rep_ID\"].isin(ids_seen2)]"
      ]
    },
    {
      "cell_type": "markdown",
      "id": "5778336a-56b3-49e9-a67e-3983631ebdba",
      "metadata": {
        "id": "5778336a-56b3-49e9-a67e-3983631ebdba"
      },
      "source": [
        "Load data where all sequences linked to the Filoviridae family were removed:"
      ]
    },
    {
      "cell_type": "code",
      "execution_count": null,
      "id": "7d4bc702-7aea-46b5-88d5-1b9268b3fe54",
      "metadata": {
        "id": "7d4bc702-7aea-46b5-88d5-1b9268b3fe54"
      },
      "outputs": [],
      "source": [
        "# Filepath to counts\n",
        "X = f\"{out_folder}/kallisto3/bustools_count/output.mtx\"\n",
        "# Filepath to barcode metadata\n",
        "var_path = f\"{out_folder}/kallisto3/bustools_count/output.genes.txt\"\n",
        "# Filepath to gene metadata\n",
        "obs_path = f\"{out_folder}/kallisto3/bustools_count/output.barcodes.txt\"\n",
        "\n",
        "# Create AnnData object\n",
        "adata3 = kb_utils.import_matrix_as_anndata(X, obs_path, var_path)\n",
        "adata3"
      ]
    },
    {
      "cell_type": "code",
      "execution_count": null,
      "id": "c854ce89-7629-454f-8392-addf7f4109a5",
      "metadata": {
        "tags": [],
        "id": "c854ce89-7629-454f-8392-addf7f4109a5"
      },
      "outputs": [],
      "source": [
        "ids_seen3 = adata3.var[nd(adata3.X.sum(axis=0) > 0)].index.values\n",
        "ids_seen3"
      ]
    },
    {
      "cell_type": "code",
      "execution_count": null,
      "id": "d0ec0ff2-f6ac-4ed6-97bb-1f455f01f8a6",
      "metadata": {
        "id": "d0ec0ff2-f6ac-4ed6-97bb-1f455f01f8a6"
      },
      "outputs": [],
      "source": [
        "taxmap[taxmap[\"rep_ID\"].isin(ids_seen3)]"
      ]
    },
    {
      "cell_type": "markdown",
      "id": "6f9165cd-cba1-4173-9df8-7dcde4d0e3d0",
      "metadata": {
        "id": "6f9165cd-cba1-4173-9df8-7dcde4d0e3d0"
      },
      "source": [
        "# Plot bar plots"
      ]
    },
    {
      "cell_type": "code",
      "execution_count": null,
      "id": "ca1def23-e0fd-426b-9e18-62c27b337fb7",
      "metadata": {
        "id": "ca1def23-e0fd-426b-9e18-62c27b337fb7"
      },
      "outputs": [],
      "source": [
        "# total number of sequences\n",
        "total = 676"
      ]
    },
    {
      "cell_type": "code",
      "execution_count": null,
      "id": "19b356db-4504-4d01-bb8c-70226dc541aa",
      "metadata": {
        "id": "19b356db-4504-4d01-bb8c-70226dc541aa"
      },
      "outputs": [],
      "source": [
        "colors = [\"#003049\", \"#4b8eb3\", \"#8fc0de\"]"
      ]
    },
    {
      "cell_type": "code",
      "execution_count": null,
      "id": "84e3de60-e8e4-4041-85c0-6969524d9f79",
      "metadata": {
        "id": "84e3de60-e8e4-4041-85c0-6969524d9f79"
      },
      "outputs": [],
      "source": [
        "def barplot(tax_level, expected_tax):\n",
        "    fig, ax = plt.subplots(figsize=(5,7))\n",
        "    fontsize=18\n",
        "\n",
        "    correct = adata2[:, adata2.var.index.isin(taxmap[taxmap[tax_level] == expected_tax][\"rep_ID\"].unique())].X.sum()\n",
        "    # incorrect = adata2.X.sum() - correct\n",
        "    ax.bar(0, correct, color=colors[0], edgecolor=\"black\")\n",
        "    not_aligned = total - correct\n",
        "    if tax_level == \"phylum\":\n",
        "        ax.bar(0, not_aligned, bottom=correct, color=\"white\", edgecolor=\"black\", hatch=\"/\")\n",
        "\n",
        "    if tax_level == \"phylum\":\n",
        "        ax.text(0, correct-correct/2, str(int(correct)), fontsize=fontsize, ha=\"center\", color=\"white\")\n",
        "    else:\n",
        "        if correct > 0:\n",
        "            ax.text(0, correct+10, str(int(correct)), fontsize=fontsize, ha=\"center\")\n",
        "\n",
        "\n",
        "    total_aligned = 145\n",
        "    correct = adata[:, adata.var.index.isin(taxmap[taxmap[tax_level] == expected_tax][\"rep_ID\"].unique())].X.sum()\n",
        "    # incorrect = adata.X.sum() - correct\n",
        "    # multimapped = total_aligned - adata.X.sum()\n",
        "    ax.bar(1, correct, color=colors[1], edgecolor=\"black\")\n",
        "    not_aligned = total - correct\n",
        "    if tax_level == \"phylum\":\n",
        "        ax.bar(1, not_aligned, bottom=correct, color=\"white\", edgecolor=\"black\", hatch=\"/\")\n",
        "    if tax_level == \"phylum\":\n",
        "        ax.text(1, correct-correct/2, str(int(correct)), fontsize=fontsize, ha=\"center\")\n",
        "    else:\n",
        "        if correct > 0:\n",
        "            ax.text(1, correct+10, str(int(correct)), fontsize=fontsize, ha=\"center\")\n",
        "    # ax.bar(1, incorrect, bottom=correct, color=\"white\", edgecolor=\"black\", hatch=\"+\")\n",
        "    # ax.bar(1, multimapped, bottom=incorrect+correct, color=\"white\", edgecolor=\"black\", hatch=\"//\")\n",
        "\n",
        "    correct = adata3[:, adata3.var.index.isin(taxmap[taxmap[tax_level] == expected_tax][\"rep_ID\"].unique())].X.sum()\n",
        "    # incorrect = adata3.X.sum() - correct\n",
        "    not_aligned = total - correct\n",
        "    if tax_level == \"phylum\":\n",
        "        ax.bar(2, not_aligned, bottom=correct, color=\"white\", edgecolor=\"black\", hatch=\"/\")\n",
        "    ax.bar(2, correct, color=colors[2], edgecolor=\"black\")\n",
        "    if tax_level == \"phylum\":\n",
        "        ax.text(2, correct-correct/2, str(int(correct)), fontsize=fontsize, ha=\"center\")\n",
        "    else:\n",
        "        if correct > 0:\n",
        "            ax.text(2, correct+10, str(int(correct)), fontsize=fontsize, ha=\"center\")\n",
        "    # ax.bar(2, incorrect, bottom=correct, color=\"white\", edgecolor=\"black\", hatch=\"+\")\n",
        "\n",
        "    ax.axhline(total, color=\"black\", ls=\"--\")\n",
        "\n",
        "    # x_labels = [\"All Ebolavirus\\nspecies excluded\", \"All Ebolavirus\\ngenera excluded\", \"All Filoviridae\\nexcluded\"]\n",
        "    # ax.set_xticks([0,1,2], x_labels)\n",
        "    ax.set_xticks([])\n",
        "\n",
        "    if tax_level == \"phylum\":\n",
        "        ax.set_ylabel(\"Counts\", fontsize=fontsize)\n",
        "    else:\n",
        "        ax.set_yticks([0,100,200,300,400,500,600,700], [\"\",\"\",\"\",\"\",\"\",\"\",\"\",\"\"])\n",
        "\n",
        "    ax.spines.right.set_visible(False)\n",
        "    ax.spines.top.set_visible(False)\n",
        "\n",
        "    ax.tick_params(axis=\"both\", labelsize=fontsize)\n",
        "\n",
        "    ax.grid(True, which=\"both\", color=\"lightgray\", ls=\"--\", lw=1)\n",
        "    ax.set_axisbelow(True)\n",
        "\n",
        "    plt.savefig(f\"targets_removed_ontarget_{tax_level}.png\", dpi=300, bbox_inches=\"tight\")\n",
        "\n",
        "    fig.show()"
      ]
    },
    {
      "cell_type": "code",
      "execution_count": null,
      "id": "5dfb30f5-7ccb-4739-8fe3-a705ac8b7651",
      "metadata": {
        "id": "5dfb30f5-7ccb-4739-8fe3-a705ac8b7651"
      },
      "outputs": [],
      "source": [
        "barplot(\"phylum\", \"Negarnaviricota\")"
      ]
    },
    {
      "cell_type": "code",
      "execution_count": null,
      "id": "e035772d-11e2-4305-b8b8-8933a68d6aba",
      "metadata": {
        "id": "e035772d-11e2-4305-b8b8-8933a68d6aba"
      },
      "outputs": [],
      "source": [
        "barplot(\"class\", \"Monjiviricetes\")"
      ]
    },
    {
      "cell_type": "code",
      "execution_count": null,
      "id": "bb2696e5-fe97-40cc-ba11-4d78b8f21267",
      "metadata": {
        "id": "bb2696e5-fe97-40cc-ba11-4d78b8f21267"
      },
      "outputs": [],
      "source": [
        "barplot(\"order\", \"Mononegavirales\")"
      ]
    },
    {
      "cell_type": "code",
      "execution_count": null,
      "id": "062ae6fb-64d4-4bc2-8435-5ff986cb7544",
      "metadata": {
        "id": "062ae6fb-64d4-4bc2-8435-5ff986cb7544"
      },
      "outputs": [],
      "source": [
        "barplot(\"family\", \"Filoviridae\")"
      ]
    },
    {
      "cell_type": "code",
      "execution_count": null,
      "id": "65a7dcc8-f33f-4a0b-862e-047b17c5a48f",
      "metadata": {
        "id": "65a7dcc8-f33f-4a0b-862e-047b17c5a48f"
      },
      "outputs": [],
      "source": [
        "barplot(\"genus\", \"Ebolavirus\")"
      ]
    },
    {
      "cell_type": "code",
      "execution_count": null,
      "id": "614233fe-ca62-4690-b6ea-b0d163ced81a",
      "metadata": {
        "id": "614233fe-ca62-4690-b6ea-b0d163ced81a"
      },
      "outputs": [],
      "source": [
        "def barplot_incorrects(tax_level, expected_tax):\n",
        "    fig, ax = plt.subplots(figsize=(5,7))\n",
        "    fontsize=18\n",
        "\n",
        "    correct = adata2[:, adata2.var.index.isin(taxmap[taxmap[tax_level].isin(expected_tax)][\"rep_ID\"].unique())].X.sum()\n",
        "    ax.bar(0, correct, color=colors[0], edgecolor=\"black\")\n",
        "    if correct > 0:\n",
        "        ax.text(0, correct+10, str(int(correct)), fontsize=fontsize, ha=\"center\")\n",
        "\n",
        "\n",
        "    correct = adata[:, adata.var.index.isin(taxmap[taxmap[tax_level].isin(expected_tax)][\"rep_ID\"].unique())].X.sum()\n",
        "    ax.bar(1, correct, color=colors[1], edgecolor=\"black\")\n",
        "    if correct > 0:\n",
        "        ax.text(1, correct+10, str(int(correct)), fontsize=fontsize, ha=\"center\")\n",
        "\n",
        "    correct = adata3[:, adata3.var.index.isin(taxmap[taxmap[tax_level].isin(expected_tax)][\"rep_ID\"].unique())].X.sum()\n",
        "    ax.bar(2, correct, color=colors[2], edgecolor=\"black\")\n",
        "    if correct > 0:\n",
        "        ax.text(2, correct+10, str(int(correct)), fontsize=fontsize, ha=\"center\")\n",
        "\n",
        "    ax.axhline(total, color=\"black\", ls=\"--\")\n",
        "\n",
        "    # x_labels = [\"All Ebolavirus\\nspecies excluded\", \"All Ebolavirus\\ngenera excluded\", \"All Filoviridae\\nexcluded\"]\n",
        "    # ax.set_xticks([0,1,2], x_labels)\n",
        "    ax.set_xticks([])\n",
        "\n",
        "    if tax_level == \"phylum\":\n",
        "        ax.set_ylabel(\"Counts\", fontsize=fontsize)\n",
        "    else:\n",
        "        ax.set_yticks([0,100,200,300,400,500,600,700], [\"\",\"\",\"\",\"\",\"\",\"\",\"\",\"\"])\n",
        "\n",
        "    ax.spines.right.set_visible(False)\n",
        "    ax.spines.top.set_visible(False)\n",
        "\n",
        "    ax.tick_params(axis=\"both\", labelsize=fontsize)\n",
        "\n",
        "    ax.grid(True, which=\"both\", color=\"lightgray\", ls=\"--\", lw=1)\n",
        "    ax.set_axisbelow(True)\n",
        "\n",
        "    plt.savefig(f\"figures/targets_removed_offtarget_{tax_level}_{expected_tax[0]}.png\", dpi=300, bbox_inches=\"tight\")\n",
        "\n",
        "    fig.show()"
      ]
    },
    {
      "cell_type": "code",
      "execution_count": null,
      "id": "489e7b1d-dc41-470f-9a30-43d033b7baf9",
      "metadata": {
        "id": "489e7b1d-dc41-470f-9a30-43d033b7baf9"
      },
      "outputs": [],
      "source": [
        "barplot_incorrects(\"species\", [\"Marburg marburgvirus\"])"
      ]
    },
    {
      "cell_type": "code",
      "execution_count": null,
      "id": "76b3ea94-a0bd-4a9c-a932-1e929ec33b7d",
      "metadata": {
        "id": "76b3ea94-a0bd-4a9c-a932-1e929ec33b7d"
      },
      "outputs": [],
      "source": [
        "barplot_incorrects(\"genus\", [\"Marburgvirus\"])"
      ]
    },
    {
      "cell_type": "code",
      "execution_count": null,
      "id": "e6ef02ea-b123-4e41-a51d-d11757b95ca4",
      "metadata": {
        "id": "e6ef02ea-b123-4e41-a51d-d11757b95ca4"
      },
      "outputs": [],
      "source": [
        "barplot_incorrects(\"family\", [\"Paramyxoviridae\"])"
      ]
    },
    {
      "cell_type": "code",
      "execution_count": null,
      "id": "64f4bd87-39e6-42e1-b3a2-ea4868554bcc",
      "metadata": {
        "id": "64f4bd87-39e6-42e1-b3a2-ea4868554bcc"
      },
      "outputs": [],
      "source": [
        "def barplot_incorrects2(tax_level1, expected_tax1, tax_level2, expected_tax2):\n",
        "    fig, ax = plt.subplots(figsize=(5,7))\n",
        "    fontsize=18\n",
        "\n",
        "    correct = adata2[:, adata2.var.index.isin(taxmap[(taxmap[tax_level1].isin(expected_tax1)) & (taxmap[tax_level2].isin(expected_tax2))][\"rep_ID\"].unique())].X.sum()\n",
        "    ax.bar(0, correct, color=colors[0], edgecolor=\"black\")\n",
        "    if correct > 0:\n",
        "        ax.text(0, correct+10, str(int(correct)), fontsize=fontsize, ha=\"center\")\n",
        "\n",
        "\n",
        "    correct = adata[:, adata.var.index.isin(taxmap[(taxmap[tax_level1].isin(expected_tax1)) & (taxmap[tax_level2].isin(expected_tax2))][\"rep_ID\"].unique())].X.sum()\n",
        "    ax.bar(1, correct, color=colors[1], edgecolor=\"black\")\n",
        "    if correct > 0:\n",
        "        ax.text(1, correct+10, str(int(correct)), fontsize=fontsize, ha=\"center\")\n",
        "\n",
        "    correct = adata3[:, adata3.var.index.isin(taxmap[(taxmap[tax_level1].isin(expected_tax1)) & (taxmap[tax_level2].isin(expected_tax2))][\"rep_ID\"].unique())].X.sum()\n",
        "    ax.bar(2, correct, color=colors[2], edgecolor=\"black\")\n",
        "    if correct > 0:\n",
        "        ax.text(2, correct+10, str(int(correct)), fontsize=fontsize, ha=\"center\")\n",
        "\n",
        "    ax.axhline(total, color=\"black\", ls=\"--\")\n",
        "\n",
        "    # x_labels = [\"All Ebolavirus\\nspecies excluded\", \"All Ebolavirus\\ngenera excluded\", \"All Filoviridae\\nexcluded\"]\n",
        "    # ax.set_xticks([0,1,2], x_labels)\n",
        "    ax.set_xticks([])\n",
        "\n",
        "    ax.set_yticks([0,100,200,300,400,500,600,700], [\"\",\"\",\"\",\"\",\"\",\"\",\"\",\"\"])\n",
        "\n",
        "    ax.spines.right.set_visible(False)\n",
        "    ax.spines.top.set_visible(False)\n",
        "\n",
        "    ax.tick_params(axis=\"both\", labelsize=fontsize)\n",
        "\n",
        "    ax.grid(True, which=\"both\", color=\"lightgray\", ls=\"--\", lw=1)\n",
        "    ax.set_axisbelow(True)\n",
        "\n",
        "    plt.savefig(f\"figures/targets_removed_offtarget_{tax_level1}_{tax_level2}.png\", dpi=300, bbox_inches=\"tight\")\n",
        "\n",
        "    fig.show()"
      ]
    },
    {
      "cell_type": "code",
      "execution_count": null,
      "id": "416f225b-eade-45c9-bac5-dac6f3170e03",
      "metadata": {
        "id": "416f225b-eade-45c9-bac5-dac6f3170e03"
      },
      "outputs": [],
      "source": [
        "barplot_incorrects2(\"genus\", [\"Ebolavirus\"], \"species\", [\".\"])"
      ]
    },
    {
      "cell_type": "code",
      "execution_count": null,
      "id": "bc8e8426-e81e-4a24-97bb-9d7a7f36dea8",
      "metadata": {
        "id": "bc8e8426-e81e-4a24-97bb-9d7a7f36dea8"
      },
      "outputs": [],
      "source": [
        "barplot_incorrects2(\"genus\", [\".\"], \"species\", [\".\"])"
      ]
    },
    {
      "cell_type": "code",
      "execution_count": null,
      "id": "56e671ee-8964-43a9-ad5e-f44d216b873b",
      "metadata": {
        "id": "56e671ee-8964-43a9-ad5e-f44d216b873b"
      },
      "outputs": [],
      "source": []
    }
  ],
  "metadata": {
    "kernelspec": {
      "display_name": "Python 3 (ipykernel)",
      "language": "python",
      "name": "python3"
    },
    "language_info": {
      "codemirror_mode": {
        "name": "ipython",
        "version": 3
      },
      "file_extension": ".py",
      "mimetype": "text/x-python",
      "name": "python",
      "nbconvert_exporter": "python",
      "pygments_lexer": "ipython3",
      "version": "3.9.12"
    },
    "colab": {
      "provenance": [],
      "include_colab_link": true
    }
  },
  "nbformat": 4,
  "nbformat_minor": 5
}