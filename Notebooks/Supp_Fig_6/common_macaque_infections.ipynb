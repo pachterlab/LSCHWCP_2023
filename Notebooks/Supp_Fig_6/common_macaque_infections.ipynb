{
  "cells": [
    {
      "cell_type": "markdown",
      "metadata": {
        "id": "view-in-github",
        "colab_type": "text"
      },
      "source": [
        "<a href=\"https://colab.research.google.com/github/pachterlab/LSCHWCP_2023/blob/main/Notebooks/Supp_Fig_6/common_macaque_infections.ipynb\" target=\"_parent\"><img src=\"https://colab.research.google.com/assets/colab-badge.svg\" alt=\"Open In Colab\"/></a>"
      ]
    },
    {
      "cell_type": "markdown",
      "id": "ab543441-dcaa-4940-a436-8fa6cdb2a3e4",
      "metadata": {
        "id": "ab543441-dcaa-4940-a436-8fa6cdb2a3e4"
      },
      "source": [
        "# Plot counts of virus genera commonly infecting macaques\n",
        "Reference: https://www.ncbi.nlm.nih.gov/pmc/articles/PMC7150127/"
      ]
    },
    {
      "cell_type": "code",
      "execution_count": null,
      "id": "1bac4757-4eae-45f8-9bc8-38a6b7faf450",
      "metadata": {
        "id": "1bac4757-4eae-45f8-9bc8-38a6b7faf450"
      },
      "outputs": [],
      "source": [
        "!pip install -q anndata\n",
        "import anndata\n",
        "import numpy as np\n",
        "import pandas as pd\n",
        "import json\n",
        "import os\n",
        "import glob\n",
        "import matplotlib.pyplot as plt\n",
        "from matplotlib import colors\n",
        "%config InlineBackend.figure_format='retina'\n",
        "\n",
        "def nd(arr):\n",
        "    \"\"\"\n",
        "    Function to transform numpy matrix to nd array.\n",
        "    \"\"\"\n",
        "    return np.asarray(arr).reshape(-1)"
      ]
    },
    {
      "cell_type": "markdown",
      "id": "4dfa04c9-7a0c-4b16-b1b9-af7439d13915",
      "metadata": {
        "id": "4dfa04c9-7a0c-4b16-b1b9-af7439d13915"
      },
      "source": [
        "___\n",
        "# Load data\n",
        "The count matrix was generated as shown [here](https://github.com/pachterlab/LSCHWCP_2023/tree/main/Notebooks/align_macaque_PBMC_data/7_virus_host_captured_dlist_cdna_dna)."
      ]
    },
    {
      "cell_type": "code",
      "source": [
        "# Download count matrix from Caltech Data\n",
        "!wget https://data.caltech.edu/records/sh33z-hrx98/files/virus_host-captured_dlist_cdna_dna.h5ad?download=1\n",
        "!mv virus_host-captured_dlist_cdna_dna.h5ad?download=1 virus_host-captured_dlist_cdna_dna.h5ad"
      ],
      "metadata": {
        "id": "vS-5r_PPHgVR"
      },
      "id": "vS-5r_PPHgVR",
      "execution_count": null,
      "outputs": []
    },
    {
      "cell_type": "code",
      "execution_count": null,
      "id": "f3d732f3-5ddd-43f2-a05f-60ddf64f0083",
      "metadata": {
        "id": "f3d732f3-5ddd-43f2-a05f-60ddf64f0083"
      },
      "outputs": [],
      "source": [
        "palmdb_adata = anndata.read(\"virus_host-captured_dlist_cdna_dna_also-in-host.h5ad\")\n",
        "palmdb_adata"
      ]
    },
    {
      "cell_type": "code",
      "source": [
        "# Load virus ID to taxonomy mapping\n",
        "!wget https://raw.githubusercontent.com/pachterlab/LSCHWCP_2023/main/PalmDB/ID_to_taxonomy_mapping.csv\n",
        "id2tax = pd.read_csv(\"ID_to_taxonomy_mapping.csv\")"
      ],
      "metadata": {
        "id": "_1EAt7QMHWIX"
      },
      "id": "_1EAt7QMHWIX",
      "execution_count": null,
      "outputs": []
    },
    {
      "cell_type": "markdown",
      "id": "69890da0-08e4-4d1b-96b1-342b661bf1b0",
      "metadata": {
        "id": "69890da0-08e4-4d1b-96b1-342b661bf1b0"
      },
      "source": [
        "____"
      ]
    },
    {
      "cell_type": "code",
      "execution_count": null,
      "id": "c0036a7d-6fdd-4627-ac37-5025b1de5c05",
      "metadata": {
        "id": "c0036a7d-6fdd-4627-ac37-5025b1de5c05"
      },
      "outputs": [],
      "source": [
        "## -> family\n",
        "# -> genus that had no counts\n",
        "genera_to_test = [\n",
        "    ### Nonenveloped RNA-Containing Viruses\n",
        "\n",
        "    ## Reoviridae\n",
        "    \"Orthoreovirus\",\n",
        "    \"Rotavirus\",\n",
        "\n",
        "    ## Picornaviridae\n",
        "    \"Cardiovirus\",\n",
        "    \"Enterovirus\",\n",
        "    \"Hepatovirus\",\n",
        "    \"Sapelovirus\",\n",
        "\n",
        "    # Caliciviridae\n",
        "    \"Norovirus\",\n",
        "    \"Recovirus\",\n",
        "    \"Vesivirus\",\n",
        "\n",
        "    ## Coronaviridae\n",
        "    \"Alphacoronavirus\",\n",
        "    \"Betacoronavirus\",\n",
        "    \"Deltacoronavirus\",\n",
        "    \"Gammacoronavirus\",\n",
        "\n",
        "    ## Hepeviridae\n",
        "    'Orthohepevirus',\n",
        "    'Piscihepevirus',\n",
        "\n",
        "    ### Enveloped RNA-Containing Viruses\n",
        "\n",
        "    ## Arenaviridae\n",
        "    \"Arenavirus\",\n",
        "    \"Mammarenavirus\",\n",
        "\n",
        "    ## Flaviviridae\n",
        "    \"Hepacivirus\",\n",
        "    \"Flavivirus\",\n",
        "    \"Pestivirus\",\n",
        "\n",
        "    # Togaviridae\n",
        "    \"Alphavirus\",\n",
        "    \"Rubivirus\",\n",
        "\n",
        "    # Arteriviridae\n",
        "    \"arterivirus\",\n",
        "\n",
        "    # Paramyxoviridae\n",
        "    \"Morbillivirus\",\n",
        "    \"Metapneumovirus\",\n",
        "    \"Respirovirus\",\n",
        "\n",
        "    ## Orthomyxoviridae\n",
        "    'Alphainfluenzavirus',\n",
        "    'Betainfluenzavirus',\n",
        "    'Deltainfluenzavirus',\n",
        "    'Gammainfluenzavirus',\n",
        "\n",
        "    # Filoviridae\n",
        "    \"Ebolavirus\",\n",
        "    \"Marburgvirus\",\n",
        "\n",
        "    # Rhabdoviridae\n",
        "    \"Lyssavirus\",\n",
        "]"
      ]
    },
    {
      "cell_type": "code",
      "execution_count": null,
      "id": "f77410ab-e345-4506-9da6-8cbb2281519e",
      "metadata": {
        "id": "f77410ab-e345-4506-9da6-8cbb2281519e"
      },
      "outputs": [],
      "source": [
        "def rand_jitter(arr, jitter_size=0.02):\n",
        "    \"\"\"\n",
        "    Add random jitter to array to avoid overplotting.\n",
        "    \"\"\"\n",
        "    return np.random.uniform(low=-jitter_size, high=jitter_size, size=(len(arr),))"
      ]
    },
    {
      "cell_type": "code",
      "execution_count": null,
      "id": "8f76077f-9e30-4ea5-8dc9-5d260c1c3a26",
      "metadata": {
        "id": "8f76077f-9e30-4ea5-8dc9-5d260c1c3a26"
      },
      "outputs": [],
      "source": [
        "# Define order of animals\n",
        "animal_ids = [\n",
        "    'NHP1',\n",
        "    'NHPC1',\n",
        "    'NHP2',\n",
        "    'NHP08',\n",
        "    'NHP09',\n",
        "    'NHP10',\n",
        "    'NHP11',\n",
        "    'NHP12',\n",
        "    'NHP13',\n",
        "    'NHP14',\n",
        "    'NHP15',\n",
        "    'NHP16',\n",
        "    'NHP17',\n",
        "    'NHP18',\n",
        "    'NHP19',\n",
        "    'NHP20',\n",
        "    'NHP22',\n",
        "    'NHP23',\n",
        "    'NHP24',\n",
        "]"
      ]
    },
    {
      "cell_type": "code",
      "execution_count": null,
      "id": "fbc54e1d-e152-4e6d-9b65-eff3e0e4e82d",
      "metadata": {
        "id": "fbc54e1d-e152-4e6d-9b65-eff3e0e4e82d"
      },
      "outputs": [],
      "source": [
        "len(animal_ids)"
      ]
    },
    {
      "cell_type": "code",
      "execution_count": null,
      "id": "ceaa7dec-79c1-4e4d-8541-606f5d67080a",
      "metadata": {
        "id": "ceaa7dec-79c1-4e4d-8541-606f5d67080a"
      },
      "outputs": [],
      "source": [
        "# # Filtering options:\n",
        "# palmdb_adata = palmdb_adata[palmdb_adata.obs[\"celltype\"].notnull(), palmdb_adata.var[\"v_type\"] == \"macaca_only\"].copy()\n",
        "# palmdb_adata = palmdb_adata[palmdb_adata.obs[\"celltype\"].notnull(), palmdb_adata.var[\"v_type\"] != \"below_threshold\"].copy()\n",
        "# palmdb_adata = palmdb_adata[palmdb_adata.obs[\"celltype\"].notnull(), :].copy()"
      ]
    },
    {
      "cell_type": "code",
      "execution_count": null,
      "id": "f16a5ce0-8f74-46a6-bd1e-2f921f0a1f70",
      "metadata": {
        "id": "f16a5ce0-8f74-46a6-bd1e-2f921f0a1f70"
      },
      "outputs": [],
      "source": [
        "%%time\n",
        "fig, axs = plt.subplots(figsize=(30,30), nrows=int(len(genera_to_test)/3), ncols=3, sharex=True)\n",
        "fontsize = 14\n",
        "width = 0.7\n",
        "NUM_COLORS = 20\n",
        "\n",
        "x = np.arange(len(animal_ids))\n",
        "\n",
        "col_idx = 0\n",
        "row_idx = 0\n",
        "for genus in genera_to_test:\n",
        "    target_species = id2tax[id2tax[\"genus\"].str.contains(genus)][\"species\"].unique()\n",
        "\n",
        "    color_idx = 0\n",
        "    second_hatch_round=False\n",
        "    hatch = None\n",
        "    low_counts = True\n",
        "    bottoms = np.zeros(len(animal_ids))\n",
        "    for species in target_species:\n",
        "        target_ids = id2tax[(id2tax[\"genus\"].str.contains(genus)) & (id2tax[\"species\"] == species)][\"rep_ID\"].unique()\n",
        "\n",
        "        # Check if virus IDs are in adata\n",
        "        if len(palmdb_adata.var[palmdb_adata.var.index.isin(target_ids)]) > 0:\n",
        "            counts = []\n",
        "            for i, animal in enumerate(animal_ids):\n",
        "                num_cells = len(\n",
        "                    palmdb_adata[\n",
        "                        palmdb_adata.obs[\"donor_animal\"] == animal,\n",
        "                        palmdb_adata.var.index.isin(target_ids)\n",
        "                    ]\n",
        "                )\n",
        "\n",
        "                # Number of virus+ cells\n",
        "                num_cells_virus = palmdb_adata[\n",
        "                            palmdb_adata.obs[\"donor_animal\"] == animal,\n",
        "                            palmdb_adata.var.index.isin(target_ids)\n",
        "                        ].X.sum()\n",
        "\n",
        "                # Count per 10k cells\n",
        "                norm_count = (num_cells_virus / num_cells) * 10000\n",
        "\n",
        "                counts.append(norm_count)\n",
        "        else:\n",
        "            counts = np.zeros(len(animal_ids))\n",
        "\n",
        "        if species == \".\":\n",
        "            label = \"Undefined\"\n",
        "        else:\n",
        "            label = species\n",
        "\n",
        "        ax = axs[row_idx, col_idx]\n",
        "        ax.bar(x, counts, bottom=bottoms, width=width, label=label, hatch=hatch, color=plt.cm.tab20(color_idx), edgecolor=\"black\")\n",
        "\n",
        "        if color_idx == NUM_COLORS-1 and not second_hatch_round:\n",
        "            hatch = \"/\"\n",
        "            second_hatch_round = True\n",
        "            color_idx = 0\n",
        "        elif color_idx == NUM_COLORS-1 and second_hatch_round:\n",
        "            hatch = \"\\\\\"\n",
        "            color_idx = 0\n",
        "\n",
        "        bottoms = bottoms + np.array(counts)\n",
        "        color_idx += 1\n",
        "\n",
        "        if np.max(bottoms) >= 5:\n",
        "            low_counts = False\n",
        "\n",
        "    # ax.text(x[i], norm_count, \"{:,}\".format(num_cells), ha=\"center\", va=\"bottom\", fontsize=fontsize-7)\n",
        "\n",
        "    ax.set_title(genus, fontsize=fontsize+2)\n",
        "    if col_idx == 0:\n",
        "        if row_idx == 4:\n",
        "            ax.set_ylabel(\"# positive cells per 10k cells\", fontsize=fontsize+5)\n",
        "\n",
        "    if col_idx == 1:\n",
        "        if row_idx == len(genera_to_test) / 3 - 1:\n",
        "            ax.set_xlabel(\"Animal ID\", fontsize=fontsize+5)\n",
        "    ax.tick_params(axis=\"both\", labelsize=fontsize)\n",
        "    ax.set_xticks(x)\n",
        "\n",
        "    if low_counts:\n",
        "        ax.set_ylim(bottom=0, top=5)\n",
        "    else:\n",
        "        ax.set_ylim(bottom=0, top=np.max(bottoms)+np.max(bottoms)*0.1)\n",
        "\n",
        "    if len(target_species)>8 and len(target_species)<15:\n",
        "        # ax.legend(fontsize=fontsize-2, loc='center left', bbox_to_anchor=(1, 0.5), ncol=2)\n",
        "        ax.legend(fontsize=fontsize-5, loc='upper right', ncol=2)\n",
        "    elif len(target_species)>=15 and len(target_species)<50:\n",
        "        # ax.legend(fontsize=fontsize-2, loc='center left', bbox_to_anchor=(1, 0.5), ncol=3)\n",
        "        ax.legend(fontsize=fontsize-8, loc='upper right', ncol=3)\n",
        "    elif len(target_species)>=50:\n",
        "        # ax.legend(fontsize=fontsize-2, loc='center left', bbox_to_anchor=(1, 0.5), ncol=5)\n",
        "        ax.legend(fontsize=fontsize-9, loc='upper right', ncol=5)\n",
        "    else:\n",
        "        # ax.legend(fontsize=fontsize-2, loc='center left', bbox_to_anchor=(1, 0.5))\n",
        "        ax.legend(fontsize=fontsize-5, loc='upper right')\n",
        "\n",
        "    ax.grid(True, which=\"both\", color=\"lightgray\")\n",
        "    ax.set_axisbelow(True)\n",
        "\n",
        "    ax.margins(0.01)\n",
        "\n",
        "    row_idx += 1\n",
        "    if row_idx == len(genera_to_test) / 3:\n",
        "        ax.set_xticklabels(animal_ids, rotation=45, ha=\"right\", fontsize=fontsize)\n",
        "        row_idx = 0\n",
        "        col_idx += 1\n",
        "\n",
        "plt.subplots_adjust(hspace=0.2, wspace=0.06)\n",
        "\n",
        "# plt.tight_layout()\n",
        "\n",
        "plt.savefig(\n",
        "    \"common_macaque_infection_counts.png\",\n",
        "    bbox_inches=\"tight\",\n",
        "    dpi=300\n",
        ")\n",
        "\n",
        "fig.show()"
      ]
    },
    {
      "cell_type": "code",
      "execution_count": null,
      "id": "0dc4998e-24c9-43c2-8cc3-34876cbbe15f",
      "metadata": {
        "id": "0dc4998e-24c9-43c2-8cc3-34876cbbe15f"
      },
      "outputs": [],
      "source": []
    }
  ],
  "metadata": {
    "kernelspec": {
      "display_name": "Python 3 (ipykernel)",
      "language": "python",
      "name": "python3"
    },
    "language_info": {
      "codemirror_mode": {
        "name": "ipython",
        "version": 3
      },
      "file_extension": ".py",
      "mimetype": "text/x-python",
      "name": "python",
      "nbconvert_exporter": "python",
      "pygments_lexer": "ipython3",
      "version": "3.9.12"
    },
    "colab": {
      "provenance": [],
      "include_colab_link": true
    }
  },
  "nbformat": 4,
  "nbformat_minor": 5
}