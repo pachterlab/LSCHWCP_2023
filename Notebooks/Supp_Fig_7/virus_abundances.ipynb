{
  "cells": [
    {
      "cell_type": "markdown",
      "metadata": {
        "id": "view-in-github",
        "colab_type": "text"
      },
      "source": [
        "<a href=\"https://colab.research.google.com/github/pachterlab/LSCHWCP_2023/blob/main/Notebooks/Supp_Fig_7/virus_abundances.ipynb\" target=\"_parent\"><img src=\"https://colab.research.google.com/assets/colab-badge.svg\" alt=\"Open In Colab\"/></a>"
      ]
    },
    {
      "cell_type": "code",
      "execution_count": null,
      "id": "9db5b171-648f-4752-bd26-98f08e6e7830",
      "metadata": {
        "id": "9db5b171-648f-4752-bd26-98f08e6e7830"
      },
      "outputs": [],
      "source": [
        "!pip install -q anndata\n",
        "import anndata\n",
        "import numpy as np\n",
        "import random\n",
        "import pandas as pd\n",
        "import json\n",
        "import os\n",
        "import glob\n",
        "import matplotlib.pyplot as plt\n",
        "%config InlineBackend.figure_format='retina'\n",
        "\n",
        "def nd(arr):\n",
        "    \"\"\"\n",
        "    Function to transform numpy matrix to nd array.\n",
        "    \"\"\"\n",
        "    return np.asarray(arr).reshape(-1)\n",
        "\n",
        "def flatten(xss):\n",
        "    \"\"\"\n",
        "    Function to flatten array of arrays.\n",
        "    \"\"\"\n",
        "    return [x for xs in xss for x in xs]"
      ]
    },
    {
      "cell_type": "markdown",
      "id": "954f042b-ef90-4d38-9b90-adcbdf9ca0ab",
      "metadata": {
        "id": "954f042b-ef90-4d38-9b90-adcbdf9ca0ab"
      },
      "source": [
        "# Load data\n",
        "The count matrices were generated [here](https://github.com/pachterlab/LSCHWCP_2023/tree/main/Notebooks/align_macaque_PBMC_data/7_virus_host_captured_dlist_cdna_dna) (masked) and [here](https://github.com/pachterlab/LSCHWCP_2023/tree/main/Notebooks/align_macaque_PBMC_data/1_virus_no_mask) (unmasked)."
      ]
    },
    {
      "cell_type": "code",
      "source": [
        "# Download count matrices from Caltech data"
      ],
      "metadata": {
        "id": "GarqPEmq9AVl"
      },
      "id": "GarqPEmq9AVl",
      "execution_count": null,
      "outputs": []
    },
    {
      "cell_type": "code",
      "execution_count": null,
      "id": "6a37848c-2639-43a3-98c1-03e267c57353",
      "metadata": {
        "tags": [],
        "id": "6a37848c-2639-43a3-98c1-03e267c57353"
      },
      "outputs": [],
      "source": [
        "# Load count matrix generated with masked host genome and transcriptome\n",
        "palmdb_adata = anndata.read(\"virus_host-captured_dlist_cdna_dna.h5ad\")\n",
        "palmdb_adata"
      ]
    },
    {
      "cell_type": "code",
      "source": [
        "# Load count matrix generated without masking host sequences\n",
        "palmdb_adata_raw = anndata.read(\"virus_no_mask.h5ad\")\n",
        "palmdb_adata_raw"
      ],
      "metadata": {
        "id": "UbSjEsf49oM1"
      },
      "id": "UbSjEsf49oM1",
      "execution_count": null,
      "outputs": []
    },
    {
      "cell_type": "markdown",
      "id": "81fa2d56-edc3-4a40-a000-5fd9b3374613",
      "metadata": {
        "id": "81fa2d56-edc3-4a40-a000-5fd9b3374613"
      },
      "source": [
        "#### Load ID to taxonomy mapping"
      ]
    },
    {
      "cell_type": "code",
      "execution_count": null,
      "id": "b21fc999-a7fe-4b5b-af86-5177b9640e2e",
      "metadata": {
        "id": "b21fc999-a7fe-4b5b-af86-5177b9640e2e"
      },
      "outputs": [],
      "source": [
        "# Load virus ID to taxonomy mapping\n",
        "!wget https://raw.githubusercontent.com/pachterlab/LSCHWCP_2023/main/PalmDB/ID_to_taxonomy_mapping.csv\n",
        "phylogeny_data = pd.read_csv(\"ID_to_taxonomy_mapping.csv\")\n",
        "\n",
        "# Drop columns not needed here\n",
        "phylogeny_data = phylogeny_data.drop(\"ID\", axis=1).drop(\"strandedness\", axis=1).drop_duplicates()\n",
        "phylogeny_data"
      ]
    },
    {
      "cell_type": "markdown",
      "id": "4cc3f716-f320-47a3-b7f6-756cf730cdc2",
      "metadata": {
        "id": "4cc3f716-f320-47a3-b7f6-756cf730cdc2"
      },
      "source": [
        "___"
      ]
    },
    {
      "cell_type": "markdown",
      "source": [
        "# Plot fractions of positive time points and animals for each virus"
      ],
      "metadata": {
        "id": "jBFI4ps79KJB"
      },
      "id": "jBFI4ps79KJB"
    },
    {
      "cell_type": "code",
      "execution_count": null,
      "id": "5861b7d3-fc98-4def-93b1-e425e716171d",
      "metadata": {
        "id": "5861b7d3-fc98-4def-93b1-e425e716171d"
      },
      "outputs": [],
      "source": [
        "# Macaque only and shared viruses in the same order as shown in Fig. 6d\n",
        "virs = [\n",
        "    # Macaque only\n",
        "    'u39566', 'u102540', 'u11150', 'u10',\n",
        "    # Shared\n",
        "    'u288819',\n",
        "    'u290519',\n",
        "    'u10240',\n",
        "    'u183255',\n",
        "    'u1001',\n",
        "    'u100291',\n",
        "    'u103829',\n",
        "    'u110641',\n",
        "    'u181379',\n",
        "    'u202260',\n",
        "    'u135858',\n",
        "    'u101227',\n",
        "    'u100188',\n",
        "    'u27694',\n",
        "    'u34159',\n",
        "    'u100245',\n",
        "    'u10015',\n",
        "    'u100733',\n",
        "    'u100173',\n",
        "    'u100196',\n",
        "    'u100599',\n",
        "    'u100644',\n",
        "    'u100296',\n",
        "    'u100017',\n",
        "    'u100002',\n",
        "    'u100012',\n",
        "    'u100024',\n",
        "    'u100048',\n",
        "    'u100302',\n",
        "    'u100074',\n",
        "    'u100289',\n",
        "    'u100026',\n",
        "    'u100111',\n",
        "    'u100139',\n",
        "    'u100154',\n",
        "    'u100251',\n",
        "    'u100177',\n",
        "    'u100215',\n",
        "    'u100049',\n",
        "    'u100000',\n",
        "    'u100001',\n",
        "    'u100007',\n",
        "    'u100004',\n",
        "    'u100011',\n",
        "    'u100093',\n",
        "    'u100116',\n",
        "    'u100019',\n",
        "    'u100076',\n",
        "    'u100028',\n",
        "    'u100153',\n",
        "    'u100031',\n",
        "    'u100145',\n",
        "    'u102324',\n",
        "    'u134800'\n",
        "]"
      ]
    },
    {
      "cell_type": "code",
      "execution_count": null,
      "id": "adcc4008-51b0-4bf2-9ea9-3702da3a7eec",
      "metadata": {
        "id": "adcc4008-51b0-4bf2-9ea9-3702da3a7eec"
      },
      "outputs": [],
      "source": [
        "# Minimum fraction of positive cells to count virus as present in sample\n",
        "threshold = 0.0005"
      ]
    },
    {
      "cell_type": "code",
      "execution_count": null,
      "id": "9f8390a5-4f69-4415-9058-e4d6525d08a7",
      "metadata": {
        "id": "9f8390a5-4f69-4415-9058-e4d6525d08a7"
      },
      "outputs": [],
      "source": [
        "animals = palmdb_adata.obs[\"donor_animal\"].unique()\n",
        "animal_fracs = []\n",
        "for vir in virs:\n",
        "    pos_fracs = []\n",
        "    for animal_id in animals:\n",
        "        # Get number of positive cells per animal\n",
        "        num_pos_cells = palmdb_adata[palmdb_adata.obs[\"donor_animal\"] == animal_id, palmdb_adata.var.index.values == vir].X.sum()\n",
        "        total_num_cells = len(palmdb_adata.obs[palmdb_adata.obs[\"donor_animal\"] == animal_id])\n",
        "        pos_fracs.append(num_pos_cells/total_num_cells)\n",
        "\n",
        "    # Get number of animals with > threshold positive cells\n",
        "    pos_animals = sum(i >= threshold for i in pos_fracs)\n",
        "\n",
        "    animal_fracs.append(np.array(pos_animals) / len(animals))"
      ]
    },
    {
      "cell_type": "code",
      "execution_count": null,
      "id": "6eec502e-bc01-47bb-83cb-416ab77ae425",
      "metadata": {
        "id": "6eec502e-bc01-47bb-83cb-416ab77ae425"
      },
      "outputs": [],
      "source": [
        "tps = palmdb_adata.obs[\"dpi_clean_merged\"].unique()\n",
        "tp_fracs = []\n",
        "for vir in virs:\n",
        "    pos_fracs = []\n",
        "    for tp in tps:\n",
        "        # Get number of positive cells per time point\n",
        "        num_pos_cells = palmdb_adata[palmdb_adata.obs[\"dpi_clean_merged\"] == tp, palmdb_adata.var.index.values == vir].X.sum()\n",
        "        total_num_cells = len(palmdb_adata.obs[palmdb_adata.obs[\"dpi_clean_merged\"] == tp])\n",
        "        pos_fracs.append(num_pos_cells/total_num_cells)\n",
        "\n",
        "    # Get number of animals with > threshold positive cells\n",
        "    pos_tps = sum(i >= threshold for i in pos_fracs)\n",
        "\n",
        "    tp_fracs.append(np.array(pos_tps) / len(tps))"
      ]
    },
    {
      "cell_type": "code",
      "execution_count": null,
      "id": "2319c29e-b2e9-4d46-8a6f-513bf00da2b0",
      "metadata": {
        "id": "2319c29e-b2e9-4d46-8a6f-513bf00da2b0"
      },
      "outputs": [],
      "source": [
        "fig, axs = plt.subplots(figsize=(20,9), nrows=2, sharex=True)\n",
        "fontsize = 16\n",
        "\n",
        "ax = axs[0]\n",
        "ax.bar(virs, animal_fracs, color=\"lightgrey\", ec=\"black\")\n",
        "ax.set_ylabel(\"Fraction of postive animals\", fontsize=fontsize)\n",
        "ax.set_xticklabels(\"\")\n",
        "ax.tick_params(axis=\"both\", labelsize=fontsize)\n",
        "ax.axhline(0.5, c=\"black\", ls=\"--\", lw=1)\n",
        "ax.margins(x=0.005)\n",
        "\n",
        "ax.grid(True, which=\"both\", color=\"lightgray\", ls=\"--\", lw=1)\n",
        "ax.set_axisbelow(True)\n",
        "ax.xaxis.grid(False)\n",
        "\n",
        "ax = axs[1]\n",
        "ax.bar(virs, tp_fracs, color=\"lightgrey\", ec=\"black\")\n",
        "ax.set_ylabel(\"Fraction of postive time points\", fontsize=fontsize)\n",
        "ax.set_xlabel(\"Virus ID\", fontsize=fontsize)\n",
        "ax.tick_params(axis=\"both\", labelsize=fontsize)\n",
        "ax.set_xticklabels(virs, rotation=45, ha=\"right\", fontsize=fontsize-2)\n",
        "ax.axhline(0.5, c=\"black\", ls=\"--\", lw=1)\n",
        "ax.margins(x=0.005)\n",
        "\n",
        "plt.subplots_adjust(hspace=0.05)\n",
        "\n",
        "ax.grid(True, which=\"both\", color=\"lightgray\", ls=\"--\", lw=1)\n",
        "ax.set_axisbelow(True)\n",
        "ax.xaxis.grid(False)\n",
        "\n",
        "plt.savefig(\"virus_frequencies.png\", dpi=300, bbox_inches=\"tight\")\n",
        "\n",
        "fig.show()"
      ]
    },
    {
      "cell_type": "markdown",
      "id": "097c0558-1211-490f-ab40-d7d3b384e22a",
      "metadata": {
        "id": "097c0558-1211-490f-ab40-d7d3b384e22a"
      },
      "source": [
        "___\n",
        "# Create Venn diagram to show overlap between viruses"
      ]
    },
    {
      "cell_type": "code",
      "execution_count": null,
      "id": "2d84c823-55b5-4e23-a7ea-c94a94826818",
      "metadata": {
        "id": "2d84c823-55b5-4e23-a7ea-c94a94826818"
      },
      "outputs": [],
      "source": [
        "# https://github.com/tctianchi/pyvenn\n",
        "!wget https://raw.githubusercontent.com/tctianchi/pyvenn/master/venn.py\n",
        "import venn"
      ]
    },
    {
      "cell_type": "code",
      "execution_count": null,
      "id": "b0165eef-71bb-466e-8303-7939b3bd0308",
      "metadata": {
        "id": "b0165eef-71bb-466e-8303-7939b3bd0308"
      },
      "outputs": [],
      "source": [
        "from itertools import chain, combinations\n",
        "\n",
        "def powerset(iterable):\n",
        "    \"powerset([1,2,3]) --> () (1,) (2,) (3,) (1,2) (1,3) (2,3) (1,2,3)\"\n",
        "    s = list(iterable)\n",
        "    return chain.from_iterable(combinations(s, r) for r in range(len(s)+1))\n",
        "\n",
        "def get_venn_counts(df):\n",
        "    result_dict = {}\n",
        "    # Find all possible combinations of viruses, starting with the one combining all viruses\n",
        "    for ps_tuple in list(powerset(df))[1:][::-1]:\n",
        "        ps = list(ps_tuple)\n",
        "        try:\n",
        "            # Count instances\n",
        "            result_dict['_'.join(ps)] = int(df[ps].min(axis=1).sum())\n",
        "\n",
        "            # Remove counted instances from df\n",
        "            bool_list = list(map(bool, 1-df[ps].min(axis=1).values)) # Invert array and convert to boolean\n",
        "            df = df[bool_list]\n",
        "\n",
        "        # If combination not available because all rows have been counted\n",
        "        except KeyError:\n",
        "            result_dict['_'.join(ps)] = 0\n",
        "\n",
        "    return result_dict"
      ]
    },
    {
      "cell_type": "code",
      "execution_count": null,
      "id": "039941ec-8c66-408e-98e9-23325e28d897",
      "metadata": {
        "id": "039941ec-8c66-408e-98e9-23325e28d897"
      },
      "outputs": [],
      "source": [
        "df = pd.DataFrame()\n",
        "\n",
        "df[\"u10\"] = nd(palmdb_adata[:, palmdb_adata.var.index == \"u10\"].X.todense())\n",
        "df[\"u102540\"] = nd(palmdb_adata[:, palmdb_adata.var.index == \"u102540\"].X.todense())\n",
        "df[\"u11150\"] = nd(palmdb_adata[:, palmdb_adata.var.index == \"u11150\"].X.todense())\n",
        "df[\"u202260\"] = nd(palmdb_adata[:, palmdb_adata.var.index == \"u202260\"].X.todense())"
      ]
    },
    {
      "cell_type": "code",
      "execution_count": null,
      "id": "ab01592e-72ea-4f9d-b278-8cf0a02c2f95",
      "metadata": {
        "id": "ab01592e-72ea-4f9d-b278-8cf0a02c2f95"
      },
      "outputs": [],
      "source": [
        "labels_temp = get_venn_counts(df)\n",
        "labels_temp"
      ]
    },
    {
      "cell_type": "code",
      "execution_count": null,
      "id": "32a8f478-008e-46f3-a3f6-9719e4e716dc",
      "metadata": {
        "id": "32a8f478-008e-46f3-a3f6-9719e4e716dc"
      },
      "outputs": [],
      "source": [
        "names = ['u10', 'u102540', 'u11150', 'u202260']"
      ]
    },
    {
      "cell_type": "code",
      "execution_count": null,
      "id": "f96cfe20-0fd8-4f69-804f-201d96ddb496",
      "metadata": {
        "id": "f96cfe20-0fd8-4f69-804f-201d96ddb496"
      },
      "outputs": [],
      "source": [
        "def rename_labels(labels_temp):\n",
        "    labels = {}\n",
        "    for key in labels_temp:\n",
        "        if key == \"u10_u102540_u11150_u202260\":\n",
        "            labels[\"1111\"] = labels_temp[key]\n",
        "        if key == \"u102540_u11150_u202260\":\n",
        "            labels[\"0111\"] = labels_temp[key]\n",
        "        if key == \"u10_u11150_u202260\":\n",
        "            labels[\"1011\"] = labels_temp[key]\n",
        "        if key == \"u10_u102540_u202260\":\n",
        "            labels[\"1101\"] = labels_temp[key]\n",
        "        if key == \"u10_u102540_u11150\":\n",
        "            labels[\"1110\"] = labels_temp[key]\n",
        "        if key == \"u11150_u202260\":\n",
        "            labels[\"0011\"] = labels_temp[key]\n",
        "        if key == \"u102540_u202260\":\n",
        "            labels[\"0101\"] = labels_temp[key]\n",
        "        if key == \"u102540_u11150\":\n",
        "            labels[\"0110\"] = labels_temp[key]\n",
        "        if key == \"u10_u202260\":\n",
        "            labels[\"1001\"] = labels_temp[key]\n",
        "        if key == \"u10_u11150\":\n",
        "            labels[\"1010\"] = labels_temp[key]\n",
        "        if key == \"u10_u102540\":\n",
        "            labels[\"1100\"] = labels_temp[key]\n",
        "        if key == \"u202260\":\n",
        "            labels[\"0001\"] = labels_temp[key]\n",
        "        if key == \"u11150\":\n",
        "            labels[\"0010\"] = labels_temp[key]\n",
        "        if key == \"u102540\":\n",
        "            labels[\"0100\"] = labels_temp[key]\n",
        "        if key == \"u10\":\n",
        "            labels[\"1000\"] = labels_temp[key]\n",
        "\n",
        "    return labels"
      ]
    },
    {
      "cell_type": "code",
      "execution_count": null,
      "id": "833a3c7b-287a-4ef2-bfc6-e974a9a1dbba",
      "metadata": {
        "id": "833a3c7b-287a-4ef2-bfc6-e974a9a1dbba"
      },
      "outputs": [],
      "source": [
        "len(labels_temp)"
      ]
    },
    {
      "cell_type": "code",
      "execution_count": null,
      "id": "d4981442-2d63-4849-a486-1a97c6bc96ce",
      "metadata": {
        "id": "d4981442-2d63-4849-a486-1a97c6bc96ce"
      },
      "outputs": [],
      "source": [
        "# Rename labels keys to match venn annotation\n",
        "labels = rename_labels(labels_temp)\n",
        "len(labels)"
      ]
    },
    {
      "cell_type": "code",
      "execution_count": null,
      "id": "86ee4671-c111-470b-8ee8-f761e62715b2",
      "metadata": {
        "id": "86ee4671-c111-470b-8ee8-f761e62715b2"
      },
      "outputs": [],
      "source": [
        "labels"
      ]
    },
    {
      "cell_type": "code",
      "execution_count": null,
      "id": "2f3e6ad5-5137-4309-b3b9-6a9c13c317c7",
      "metadata": {
        "id": "2f3e6ad5-5137-4309-b3b9-6a9c13c317c7"
      },
      "outputs": [],
      "source": [
        "fig, ax = venn.venn4(labels, names=names)\n",
        "plt.savefig('vir_pos_cell_overlap.png', dpi=300, bbox_inches= 'tight')\n",
        "fig.show()"
      ]
    },
    {
      "cell_type": "code",
      "execution_count": null,
      "id": "6dca540b-6e60-4e7a-83b0-f91920695cab",
      "metadata": {
        "id": "6dca540b-6e60-4e7a-83b0-f91920695cab"
      },
      "outputs": [],
      "source": [
        "palmdb_adata[:, palmdb_adata.var.index == \"u202260\"].X.sum()"
      ]
    },
    {
      "cell_type": "markdown",
      "id": "2b6ab536-8aeb-4cf6-97bf-187ab6fe8ba4",
      "metadata": {
        "id": "2b6ab536-8aeb-4cf6-97bf-187ab6fe8ba4"
      },
      "source": [
        "# Same for count matrix wihtout host masking (used for regression models)"
      ]
    },
    {
      "cell_type": "code",
      "execution_count": null,
      "id": "064f061a-bf5f-4ffe-9fe9-0f6ebbc8487c",
      "metadata": {
        "id": "064f061a-bf5f-4ffe-9fe9-0f6ebbc8487c"
      },
      "outputs": [],
      "source": [
        "df_raw = pd.DataFrame()\n",
        "\n",
        "df_raw[\"u10\"] = nd(palmdb_adata_raw[:, palmdb_adata_raw.var.index == \"u10\"].X.todense())\n",
        "df_raw[\"u102540\"] = nd(palmdb_adata_raw[:, palmdb_adata_raw.var.index == \"u102540\"].X.todense())\n",
        "df_raw[\"u11150\"] = nd(palmdb_adata_raw[:, palmdb_adata_raw.var.index == \"u11150\"].X.todense())\n",
        "df_raw[\"u202260\"] = nd(palmdb_adata_raw[:, palmdb_adata_raw.var.index == \"u202260\"].X.todense())"
      ]
    },
    {
      "cell_type": "code",
      "execution_count": null,
      "id": "c1dde9c2-a641-46f0-97d8-87e44a6210ca",
      "metadata": {
        "id": "c1dde9c2-a641-46f0-97d8-87e44a6210ca"
      },
      "outputs": [],
      "source": [
        "labels_raw_temp = get_venn_counts(df_raw)\n",
        "labels_raw_temp"
      ]
    },
    {
      "cell_type": "code",
      "execution_count": null,
      "id": "08110977-a5dc-4898-9697-7ac51810e672",
      "metadata": {
        "id": "08110977-a5dc-4898-9697-7ac51810e672"
      },
      "outputs": [],
      "source": [
        "labels_raw = rename_labels(labels_raw_temp)\n",
        "len(labels_raw)"
      ]
    },
    {
      "cell_type": "code",
      "execution_count": null,
      "id": "129fb24f-1d8b-4cb6-b215-c91750e01139",
      "metadata": {
        "id": "129fb24f-1d8b-4cb6-b215-c91750e01139"
      },
      "outputs": [],
      "source": [
        "fig, ax = venn.venn4(labels_raw, names=names)\n",
        "plt.savefig('vir_pos_cell_overlap_unmasked.png', dpi=300, bbox_inches= 'tight')\n",
        "fig.show()"
      ]
    },
    {
      "cell_type": "code",
      "execution_count": null,
      "id": "68d95ee2-bc6b-4838-9748-1ccf57fa716b",
      "metadata": {
        "id": "68d95ee2-bc6b-4838-9748-1ccf57fa716b"
      },
      "outputs": [],
      "source": []
    }
  ],
  "metadata": {
    "kernelspec": {
      "display_name": "Python 3 (ipykernel)",
      "language": "python",
      "name": "python3"
    },
    "language_info": {
      "codemirror_mode": {
        "name": "ipython",
        "version": 3
      },
      "file_extension": ".py",
      "mimetype": "text/x-python",
      "name": "python",
      "nbconvert_exporter": "python",
      "pygments_lexer": "ipython3",
      "version": "3.9.12"
    },
    "colab": {
      "provenance": [],
      "include_colab_link": true
    }
  },
  "nbformat": 4,
  "nbformat_minor": 5
}