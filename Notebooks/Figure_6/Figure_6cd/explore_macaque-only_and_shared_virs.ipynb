{
  "cells": [
    {
      "cell_type": "markdown",
      "metadata": {
        "id": "view-in-github",
        "colab_type": "text"
      },
      "source": [
        "<a href=\"https://colab.research.google.com/github/pachterlab/LSCHWCP_2023/blob/main/Notebooks/Figure_6/Figure_6cd/explore_macaque-only_and_shared_virs.ipynb\" target=\"_parent\"><img src=\"https://colab.research.google.com/assets/colab-badge.svg\" alt=\"Open In Colab\"/></a>"
      ]
    },
    {
      "cell_type": "markdown",
      "source": [
        "# Explore distributions of macaque only and shared viruses"
      ],
      "metadata": {
        "id": "znhjKyvcismf"
      },
      "id": "znhjKyvcismf"
    },
    {
      "cell_type": "code",
      "execution_count": null,
      "id": "b942bc55-7e99-46b4-a122-fdf9f316580b",
      "metadata": {
        "id": "b942bc55-7e99-46b4-a122-fdf9f316580b"
      },
      "outputs": [],
      "source": [
        "!pip install -q gget\n",
        "import numpy as np\n",
        "import gget\n",
        "from scipy import stats\n",
        "import anndata\n",
        "import pandas as pd\n",
        "import json\n",
        "import os\n",
        "import glob\n",
        "import seaborn as sns\n",
        "import matplotlib.pyplot as plt\n",
        "import matplotlib as mpl\n",
        "%config InlineBackend.figure_format='retina'\n",
        "\n",
        "def nd(arr):\n",
        "    \"\"\"\n",
        "    Function to transform numpy matrix to nd array.\n",
        "    \"\"\"\n",
        "    return np.asarray(arr).reshape(-1)"
      ]
    },
    {
      "cell_type": "markdown",
      "id": "98312c1d-f07d-4005-b1f8-b373e7ccd94c",
      "metadata": {
        "id": "98312c1d-f07d-4005-b1f8-b373e7ccd94c"
      },
      "source": [
        "# Load data\n",
        "\n",
        "The count matrix was generated [here](https://github.com/pachterlab/LSCHWCP_2023/tree/main/Notebooks/align_macaque_PBMC_data/7_virus_host_captured_dlist_cdna_dna).\n",
        "\n"
      ]
    },
    {
      "cell_type": "code",
      "source": [
        "# Load virus count matrix from Caltech Data\n",
        "# !wget virus_host-captured_dlist_cdna_dna.h5ad\n",
        "\n"
      ],
      "metadata": {
        "id": "mou5JP59i08K"
      },
      "id": "mou5JP59i08K",
      "execution_count": null,
      "outputs": []
    },
    {
      "cell_type": "code",
      "execution_count": null,
      "id": "723ccae1-1216-4949-97f4-9932de6d60c7",
      "metadata": {
        "tags": [],
        "id": "723ccae1-1216-4949-97f4-9932de6d60c7"
      },
      "outputs": [],
      "source": [
        "palmdb_adata = anndata.read(\"virus_host-captured_dlist_cdna_dna.h5ad\")\n",
        "palmdb_adata"
      ]
    },
    {
      "cell_type": "code",
      "execution_count": null,
      "id": "4eebfad7-c9cf-41fe-bc63-2765a608ac4d",
      "metadata": {
        "id": "4eebfad7-c9cf-41fe-bc63-2765a608ac4d"
      },
      "outputs": [],
      "source": [
        "palmdb_adata.X.max()"
      ]
    },
    {
      "cell_type": "markdown",
      "id": "5d65630f-9344-42e7-ac03-080038d35a3b",
      "metadata": {
        "id": "5d65630f-9344-42e7-ac03-080038d35a3b"
      },
      "source": [
        "#### Load ID to taxonomy mapping"
      ]
    },
    {
      "cell_type": "code",
      "source": [
        "!wget https://raw.githubusercontent.com/pachterlab/LSCHWCP_2023/main/PalmDB/ID_to_taxonomy_mapping.csv"
      ],
      "metadata": {
        "id": "QqkciaLZjIC8"
      },
      "id": "QqkciaLZjIC8",
      "execution_count": null,
      "outputs": []
    },
    {
      "cell_type": "code",
      "execution_count": null,
      "id": "687dae31-52d9-410a-980d-c9446da51471",
      "metadata": {
        "id": "687dae31-52d9-410a-980d-c9446da51471"
      },
      "outputs": [],
      "source": [
        "phylogeny_data = pd.read_csv(\"ID_to_taxonomy_mapping.csv\")\n",
        "\n",
        "# Drop columns not needed here\n",
        "phylogeny_data = phylogeny_data.drop(\"ID\", axis=1).drop(\"strandedness\", axis=1).drop_duplicates()\n",
        "phylogeny_data"
      ]
    },
    {
      "cell_type": "markdown",
      "id": "2669173c-588d-4150-bfa1-e3674440edfb",
      "metadata": {
        "tags": [],
        "id": "2669173c-588d-4150-bfa1-e3674440edfb"
      },
      "source": [
        "___\n",
        "# Macaque viruses\n",
        "### Show fraction of positive cells for each virus per day per animal (after host QC - macaque cells only)"
      ]
    },
    {
      "cell_type": "code",
      "execution_count": null,
      "id": "2ff551c2-752b-4e3d-8303-0412f94bab14",
      "metadata": {
        "tags": [],
        "id": "2ff551c2-752b-4e3d-8303-0412f94bab14"
      },
      "outputs": [],
      "source": [
        "def plot_heatmap(vir_fractions_df, save_name, num_virs=100, norm_axis=1, figsize=(17, 7)):\n",
        "    fontsize = 16\n",
        "\n",
        "    fraction_df = vir_fractions_df[[column for column in vir_fractions_df.columns if \"_fraction\" in column]]\n",
        "    fraction_df = fraction_df.iloc[:, : num_virs]\n",
        "\n",
        "    # Rename columns to keep only virus ID\n",
        "    cols = [column.split(\"_\")[0] for column in fraction_df.columns]\n",
        "    fraction_df.columns = cols\n",
        "\n",
        "    # Reverse row order\n",
        "    fraction_df = fraction_df.iloc[::-1]\n",
        "\n",
        "    fig = sns.clustermap(\n",
        "        fraction_df,\n",
        "        figsize=figsize,\n",
        "        row_cluster=False,\n",
        "        standard_scale=norm_axis,\n",
        "        dendrogram_ratio=(.1, .1),\n",
        "        cbar_pos=(0.1, -0.02, .15, .02),\n",
        "        cbar_kws={\n",
        "            \"label\": \"Scaled fraction of positive cells\" if norm_axis else \"Fraction of positive cells\",\n",
        "            \"orientation\": \"horizontal\"\n",
        "        },\n",
        "        yticklabels=True,\n",
        "        xticklabels=True,\n",
        "        # norm=mpl.colors.LogNorm()\n",
        "        # cmap=\"Reds\"\n",
        "    )\n",
        "\n",
        "    # Save figure\n",
        "    fig.savefig(\n",
        "        f\"frac_per_virus_{save_name}.png\", dpi=300, bbox_inches=\"tight\"\n",
        "    )\n",
        "\n",
        "    # Return ordered virus IDs\n",
        "    return fig.ax_heatmap.xaxis.get_majorticklabels()"
      ]
    },
    {
      "cell_type": "markdown",
      "id": "f4dfe291-6a2a-428c-b410-e449062c8b02",
      "metadata": {
        "id": "f4dfe291-6a2a-428c-b410-e449062c8b02"
      },
      "source": [
        "Compute fraction of positive cells per virus:"
      ]
    },
    {
      "cell_type": "code",
      "execution_count": null,
      "id": "3d8a979f-89d9-493b-ad53-bffdb4e9229f",
      "metadata": {
        "id": "3d8a979f-89d9-493b-ad53-bffdb4e9229f"
      },
      "outputs": [],
      "source": [
        "%%time\n",
        "adata = palmdb_adata[palmdb_adata.obs[\"celltype\"].notnull(), palmdb_adata.var[\"v_type\"] == \"macaca_only\"].copy()\n",
        "\n",
        "timepoints = ['-30d', '-4d', '0d', '4h', '24h', '3d', '4d', '5d', '6d', '7d', '8d']\n",
        "samples = []\n",
        "sample_totals = []\n",
        "\n",
        "# Get counts for each virus per sample\n",
        "vir_fractions_df = pd.DataFrame()\n",
        "\n",
        "samples_generated = False\n",
        "# sample_totals_generated = False\n",
        "for virus_id in adata.var.index.values:\n",
        "    virus_counts = []\n",
        "    for timepoint in timepoints:\n",
        "        for animal_id in np.sort(adata.obs[adata.obs[\"dpi_clean\"] == timepoint][\"donor_animal\"].unique()):\n",
        "            virus_counts.append(adata.X[(adata.obs[\"donor_animal\"] == animal_id) & (adata.obs[\"dpi_clean\"] == timepoint), adata.var.index == virus_id].sum())\n",
        "\n",
        "            if not samples_generated:\n",
        "                samples.append(str(timepoint + \"_\" + animal_id))\n",
        "                # Get total number of cells positive for at least one virus\n",
        "                # total_pos_cells = (nd(adata.X[(adata.obs[\"donor_animal\"] == animal_id) & (adata.obs[\"dpi_clean\"] == timepoint), :].sum(axis=1) > 0)).sum()\n",
        "                # sample_totals.append(total_pos_cells)\n",
        "\n",
        "    samples_generated = True\n",
        "    # sample_totals_generated = True\n",
        "    utax_label = \"_\".join(phylogeny_data[phylogeny_data[\"rep_ID\"] == virus_id].values[0]).replace(\"_.\", \"\")\n",
        "    vir_fractions_df[utax_label] = virus_counts\n",
        "\n",
        "vir_fractions_df[\"sample\"] = samples\n",
        "\n",
        "# Set sample as index\n",
        "vir_fractions_df = vir_fractions_df.set_index(\"sample\")\n",
        "\n",
        "# Add total number of cells per sample\n",
        "num_cells = []\n",
        "for sample in vir_fractions_df.index.values:\n",
        "    num_cells.append(len(adata.obs[(adata.obs[\"dpi_clean\"] == sample.split(\"_\")[0]) & (adata.obs[\"donor_animal\"] == sample.split(\"_\")[1])]))\n",
        "vir_fractions_df[\"sample_total\"] = num_cells\n",
        "\n",
        "# Get fractions for each virus\n",
        "for virus in vir_fractions_df.columns[:-1]:\n",
        "    vir_fractions_df[f\"{virus}_fraction\"] = vir_fractions_df[virus] / vir_fractions_df[\"sample_total\"]\n",
        "\n",
        "# De-fragment dataframe\n",
        "vir_fractions_df = vir_fractions_df.copy()\n",
        "\n",
        "# Sort by maximum value accross all samples\n",
        "vir_fractions_df = vir_fractions_df[vir_fractions_df.max().sort_values(ascending=False).index]\n",
        "\n",
        "# De-fragment dataframe\n",
        "vir_fractions_df = vir_fractions_df.copy()\n",
        "\n",
        "vir_fractions_df.head()"
      ]
    },
    {
      "cell_type": "code",
      "execution_count": null,
      "id": "80b6b5d6-a9d4-49cb-98ff-0aad2cdea6f7",
      "metadata": {
        "id": "80b6b5d6-a9d4-49cb-98ff-0aad2cdea6f7"
      },
      "outputs": [],
      "source": [
        "# Show macaque viruses sorted by highest fraction of positive cells across all samples\n",
        "sorted_mac_virs = [col.split(\"_\")[0] for col in vir_fractions_df if \"_fraction\" not in col][1:]\n",
        "print(\"Total number of macaque only viruses: \", len(sorted_mac_virs))\n",
        "sorted_mac_virs"
      ]
    },
    {
      "cell_type": "markdown",
      "id": "f2580f6d-e98f-4763-8421-11983c85112e",
      "metadata": {
        "id": "f2580f6d-e98f-4763-8421-11983c85112e"
      },
      "source": [
        "Plot heatmap:"
      ]
    },
    {
      "cell_type": "code",
      "execution_count": null,
      "id": "43968ce4-80d0-43b6-bcc4-c792fa82e0c0",
      "metadata": {
        "id": "43968ce4-80d0-43b6-bcc4-c792fa82e0c0"
      },
      "outputs": [],
      "source": [
        "temp = plot_heatmap(vir_fractions_df, \"per_tp_per_animal_nonorm\", norm_axis=None, figsize=(3, 5))"
      ]
    },
    {
      "cell_type": "code",
      "execution_count": null,
      "id": "a384f53e-ae40-4a8e-af6d-cc4d4f52562a",
      "metadata": {
        "id": "a384f53e-ae40-4a8e-af6d-cc4d4f52562a"
      },
      "outputs": [],
      "source": [
        "sorted_vir_ids_plt = plot_heatmap(vir_fractions_df, \"per_tp_per_animal\", norm_axis=1, figsize=(3, 7))"
      ]
    },
    {
      "cell_type": "code",
      "execution_count": null,
      "id": "cb68b53a-08af-4b95-95d9-a004b1133bc7",
      "metadata": {
        "id": "cb68b53a-08af-4b95-95d9-a004b1133bc7"
      },
      "outputs": [],
      "source": [
        "sorted_vir_ids = [vir_id.get_text() for vir_id in sorted_vir_ids_plt]\n",
        "sorted_vir_ids"
      ]
    },
    {
      "cell_type": "markdown",
      "id": "d7a1b469-efde-4a46-b31c-cb0256846c27",
      "metadata": {
        "id": "d7a1b469-efde-4a46-b31c-cb0256846c27"
      },
      "source": [
        "Plot total fraction of positive cells across all samples:"
      ]
    },
    {
      "cell_type": "code",
      "execution_count": null,
      "id": "2e4bf8be-a919-488d-a76b-429e7608f4b2",
      "metadata": {
        "id": "2e4bf8be-a919-488d-a76b-429e7608f4b2"
      },
      "outputs": [],
      "source": [
        "%%time\n",
        "adata = palmdb_adata[palmdb_adata.obs[\"celltype\"].notnull(), palmdb_adata.var[\"v_type\"] == \"macaca_only\"].copy()\n",
        "\n",
        "timepoints = ['-30d', '-4d', '0d', '4h', '24h', '3d', '4d', '5d', '6d', '7d', '8d']\n",
        "\n",
        "totals_df = pd.DataFrame()\n",
        "\n",
        "for virus_id in sorted_vir_ids:\n",
        "    total = adata.X[:, adata.var.index == virus_id].sum()\n",
        "    totals_df[virus_id] = [total]\n",
        "\n",
        "# Add total number of cells\n",
        "totals_df[\"sample_total\"] = len(adata.obs)\n",
        "\n",
        "# Get fractions for each virus\n",
        "for virus in totals_df.columns[:-1]:\n",
        "    totals_df[f\"{virus}_fraction\"] = totals_df[virus] / totals_df[\"sample_total\"]\n",
        "\n",
        "totals_df.head()"
      ]
    },
    {
      "cell_type": "code",
      "execution_count": null,
      "id": "6e385241-0d9a-4ad3-b11c-f48b24811217",
      "metadata": {
        "id": "6e385241-0d9a-4ad3-b11c-f48b24811217"
      },
      "outputs": [],
      "source": [
        "totals_df_fractions = totals_df[[column for column in totals_df.columns if \"_fraction\" in column]]\n",
        "\n",
        "fig, ax = plt.subplots(figsize=(3, 5))\n",
        "fontsize = 20\n",
        "\n",
        "# cmap = sns.color_palette(\"rocket\", as_cmap=True)\n",
        "cmap = \"Blues_r\"\n",
        "\n",
        "im = ax.imshow(totals_df_fractions.values, cmap=cmap, vmin = None, vmax = 0.1, aspect=0.45)\n",
        "\n",
        "cb = plt.colorbar(im, shrink=0.25, orientation=\"horizontal\", pad=0.4)\n",
        "cb.set_label(label=\"Fraction of positive cells across all samples\", size=fontsize)\n",
        "cb.ax.tick_params(axis=\"both\", labelsize=fontsize+6, length=8, width=2, pad=8) # Trying to match sns colorbar\n",
        "\n",
        "ax.set_yticks([])\n",
        "ax.set_xticks(np.arange(len(sorted_vir_ids)))\n",
        "ax.set_xticklabels(sorted_vir_ids, rotation = 45, ha=\"right\")\n",
        "\n",
        "ax.tick_params(axis=\"both\", labelsize=fontsize, length=5, width=1.5)\n",
        "\n",
        "fig.savefig(\n",
        "    \"frac_per_virus_totals_bus+d-list.png\", dpi=300, bbox_inches=\"tight\"\n",
        ")\n",
        "\n",
        "fig.show()"
      ]
    },
    {
      "cell_type": "markdown",
      "id": "561f1885-91f6-422d-97e9-81740f3ef1d5",
      "metadata": {
        "id": "561f1885-91f6-422d-97e9-81740f3ef1d5"
      },
      "source": [
        "Save virus IDs and their taxonomies in table:"
      ]
    },
    {
      "cell_type": "code",
      "execution_count": null,
      "id": "fc22e3a5-8e1c-4cc5-8fac-bde56516907c",
      "metadata": {
        "id": "fc22e3a5-8e1c-4cc5-8fac-bde56516907c"
      },
      "outputs": [],
      "source": [
        "temp_df = phylogeny_data[phylogeny_data[\"rep_ID\"].isin(sorted_vir_ids)]\n",
        "temp_df.rep_ID = temp_df.rep_ID.astype(\"category\")\n",
        "temp_df.rep_ID = temp_df.rep_ID.cat.set_categories(sorted_vir_ids)\n",
        "temp_df = temp_df.sort_values([\"rep_ID\"])\n",
        "\n",
        "# Get number of positive cells per virus\n",
        "adata = palmdb_adata[palmdb_adata.obs[\"celltype\"].notnull(), palmdb_adata.var[\"v_type\"] == \"macaca_only\"].copy()\n",
        "pos_cells = []\n",
        "for vir_id in temp_df[\"rep_ID\"].values:\n",
        "    pos_cells.append((nd(adata.X[:, adata.var.index == vir_id].sum(axis=1) > 0)).sum())\n",
        "\n",
        "temp_df[\"# positive macaque cells\"] = pos_cells\n",
        "\n",
        "temp_df.to_csv(\"macaque_only_virs_ID2tax.csv\", index=False)"
      ]
    },
    {
      "cell_type": "code",
      "execution_count": null,
      "id": "a12c0fc9-afbe-460f-bcc0-e64295b58941",
      "metadata": {
        "id": "a12c0fc9-afbe-460f-bcc0-e64295b58941"
      },
      "outputs": [],
      "source": [
        "temp_df.sort_values(\"# positive macaque cells\", ascending=False)"
      ]
    },
    {
      "cell_type": "code",
      "execution_count": null,
      "id": "5fab4b5b-a131-4f75-9c24-516e4b3a0f7d",
      "metadata": {
        "id": "5fab4b5b-a131-4f75-9c24-516e4b3a0f7d"
      },
      "outputs": [],
      "source": [
        "# Blast u11150\n",
        "gget.blast(\"YPYDAPSFDHEVGTNEVESVMLEENAWFKRNKDTIHADRITISNAILEKWWNTDIKIEGYPTFKYKHGVGSGIPATYYLDELVNEGRTETIFASIKKAFNLKSEVVSDKSGDDLMA\")"
      ]
    },
    {
      "cell_type": "markdown",
      "id": "7b9cd71d-07b9-4abb-ae25-965d11dcef6e",
      "metadata": {
        "id": "7b9cd71d-07b9-4abb-ae25-965d11dcef6e"
      },
      "source": [
        "___\n",
        "# Same for shared viruses"
      ]
    },
    {
      "cell_type": "code",
      "execution_count": null,
      "id": "fe48946a-70c4-4096-92cc-d1d8f265b026",
      "metadata": {
        "id": "fe48946a-70c4-4096-92cc-d1d8f265b026"
      },
      "outputs": [],
      "source": [
        "%%time\n",
        "adata = palmdb_adata[palmdb_adata.obs[\"celltype\"].notnull(), palmdb_adata.var[\"v_type\"] == \"shared\"].copy()\n",
        "\n",
        "timepoints = ['-30d', '-4d', '0d', '4h', '24h', '3d', '4d', '5d', '6d', '7d', '8d']\n",
        "samples = []\n",
        "\n",
        "# Get counts for each virus per sample\n",
        "vir_fractions_df = pd.DataFrame()\n",
        "\n",
        "samples_generated = False\n",
        "\n",
        "for virus_id in adata.var.index.values:\n",
        "    virus_counts = []\n",
        "\n",
        "    for timepoint in timepoints:\n",
        "        for animal_id in np.sort(adata.obs[adata.obs[\"dpi_clean\"] == timepoint][\"donor_animal\"].unique()):\n",
        "            virus_counts.append(adata.X[(adata.obs[\"donor_animal\"] == animal_id) & (adata.obs[\"dpi_clean\"] == timepoint), adata.var.index == virus_id].sum())\n",
        "\n",
        "            if not samples_generated:\n",
        "                samples.append(str(timepoint + \"_\" + animal_id))\n",
        "\n",
        "    samples_generated = True\n",
        "    utax_label = \"_\".join(phylogeny_data[phylogeny_data[\"rep_ID\"] == virus_id].values[0]).replace(\"_.\", \"\")\n",
        "    vir_fractions_df[utax_label] = virus_counts\n",
        "\n",
        "vir_fractions_df[\"sample\"] = samples\n",
        "\n",
        "# De-fragment dataframe\n",
        "vir_fractions_df = vir_fractions_df.copy()\n",
        "\n",
        "# Set sample as index\n",
        "vir_fractions_df = vir_fractions_df.set_index(\"sample\")\n",
        "\n",
        "# Add total number of cells per sample\n",
        "num_cells = []\n",
        "for sample in vir_fractions_df.index.values:\n",
        "    num_cells.append(len(adata.obs[(adata.obs[\"dpi_clean\"] == sample.split(\"_\")[0]) & (adata.obs[\"donor_animal\"] == sample.split(\"_\")[1])]))\n",
        "vir_fractions_df[\"sample_total\"] = num_cells\n",
        "\n",
        "# Get fractions for each virus\n",
        "for virus in vir_fractions_df.columns[:-1]:\n",
        "    vir_fractions_df[f\"{virus}_fraction\"] = vir_fractions_df[virus] / vir_fractions_df[\"sample_total\"]\n",
        "\n",
        "# De-fragment dataframe\n",
        "vir_fractions_df = vir_fractions_df.copy()\n",
        "\n",
        "# Sort by maximum value accross all samples\n",
        "vir_fractions_df = vir_fractions_df[vir_fractions_df.max().sort_values(ascending=False).index]\n",
        "\n",
        "vir_fractions_df.head()"
      ]
    },
    {
      "cell_type": "code",
      "execution_count": null,
      "id": "133d5fa7-890b-43e4-8949-e5ee49cdd664",
      "metadata": {
        "id": "133d5fa7-890b-43e4-8949-e5ee49cdd664"
      },
      "outputs": [],
      "source": [
        "# Show shared viruses sorted by highest fraction of positive cells across all samples\n",
        "sorted_shared_virs = [col.split(\"_\")[0] for col in vir_fractions_df if \"_fraction\" not in col][1:]\n",
        "print(\"Total number of shared viruses: \", len(sorted_shared_virs))\n",
        "sorted_shared_virs"
      ]
    },
    {
      "cell_type": "code",
      "execution_count": null,
      "id": "14da7b31-aae8-41f3-9253-a56a36de27d7",
      "metadata": {
        "id": "14da7b31-aae8-41f3-9253-a56a36de27d7"
      },
      "outputs": [],
      "source": [
        "shared_virs = plot_heatmap(vir_fractions_df, \"per_tp_per_animal_shared\", figsize=(20, 7))"
      ]
    },
    {
      "cell_type": "code",
      "execution_count": null,
      "id": "472202d8-d896-4e5b-ba31-171941096d29",
      "metadata": {
        "id": "472202d8-d896-4e5b-ba31-171941096d29"
      },
      "outputs": [],
      "source": [
        "shared_virs_clean = [vir_id.get_text() for vir_id in shared_virs]\n",
        "shared_virs_clean"
      ]
    },
    {
      "cell_type": "markdown",
      "id": "a9414b33-7683-4ca7-b979-52ddce1c5f80",
      "metadata": {
        "id": "a9414b33-7683-4ca7-b979-52ddce1c5f80"
      },
      "source": [
        "Plot total fraction of positive cells across all samples:"
      ]
    },
    {
      "cell_type": "code",
      "execution_count": null,
      "id": "4e8f12dc-fc0d-49bb-8ee4-cfadb4779e13",
      "metadata": {
        "id": "4e8f12dc-fc0d-49bb-8ee4-cfadb4779e13"
      },
      "outputs": [],
      "source": [
        "%%time\n",
        "adata = palmdb_adata[palmdb_adata.obs[\"celltype\"].notnull(), palmdb_adata.var[\"v_type\"] == \"shared\"].copy()\n",
        "\n",
        "totals_df_shared = pd.DataFrame()\n",
        "\n",
        "for virus_id in shared_virs_clean:\n",
        "    total = adata.X[:, adata.var.index == virus_id].sum()\n",
        "    totals_df_shared[virus_id] = [total]\n",
        "\n",
        "# Add total number of cells\n",
        "totals_df_shared[\"sample_total\"] = len(adata.obs)\n",
        "\n",
        "# Get fractions for each virus\n",
        "for virus in totals_df_shared.columns[:-1]:\n",
        "    totals_df_shared[f\"{virus}_fraction\"] = totals_df_shared[virus] / totals_df_shared[\"sample_total\"]\n",
        "\n",
        "totals_df_shared.head()"
      ]
    },
    {
      "cell_type": "code",
      "execution_count": null,
      "id": "5d8b5500-1f27-4b23-9417-04a0a3ab749c",
      "metadata": {
        "id": "5d8b5500-1f27-4b23-9417-04a0a3ab749c"
      },
      "outputs": [],
      "source": [
        "totals_df_shared_fractions = totals_df_shared[[column for column in totals_df_shared.columns if \"_fraction\" in column]]\n",
        "\n",
        "fig, ax = plt.subplots(figsize=(30, 5))\n",
        "fontsize = 18\n",
        "\n",
        "# cmap = sns.color_palette(\"rocket\", as_cmap=True)\n",
        "cmap = \"Blues_r\"\n",
        "\n",
        "im = ax.imshow(totals_df_shared_fractions.values, cmap=cmap, vmin = 0, vmax = 0.1, aspect=0.5)\n",
        "\n",
        "cb = plt.colorbar(im, shrink=0.25, orientation=\"horizontal\", pad=0.4)\n",
        "cb.set_label(label=\"Fraction of positive cells across all samples\", size=fontsize)\n",
        "cb.ax.tick_params(axis=\"both\", labelsize=fontsize)\n",
        "\n",
        "ax.set_yticks([])\n",
        "ax.set_xticks(np.arange(len(shared_virs_clean)))\n",
        "ax.set_xticklabels(shared_virs_clean, rotation = 45, ha=\"right\")\n",
        "\n",
        "ax.tick_params(axis=\"both\", labelsize=fontsize)\n",
        "\n",
        "fig.savefig(\n",
        "    \"frac_per_virus_totals_shared.png\", dpi=300, bbox_inches=\"tight\"\n",
        ")\n",
        "\n",
        "fig.show()"
      ]
    },
    {
      "cell_type": "code",
      "execution_count": null,
      "id": "a905f68e-bf40-4764-b67d-a4674102414d",
      "metadata": {
        "id": "a905f68e-bf40-4764-b67d-a4674102414d"
      },
      "outputs": [],
      "source": [
        "temp_df_shared = phylogeny_data[phylogeny_data[\"rep_ID\"].isin(shared_virs_clean)]\n",
        "temp_df_shared.rep_ID = temp_df_shared.rep_ID.astype(\"category\")\n",
        "temp_df_shared.rep_ID = temp_df_shared.rep_ID.cat.set_categories(shared_virs_clean)\n",
        "temp_df_shared = temp_df_shared.sort_values([\"rep_ID\"])\n",
        "\n",
        "# Get number of positive cells per virus\n",
        "adata = palmdb_adata[palmdb_adata.obs[\"celltype\"].notnull(), :].copy()\n",
        "pos_cells = []\n",
        "for vir_id in temp_df_shared[\"rep_ID\"].values:\n",
        "    pos_cells.append((nd(adata.X[:, adata.var.index == vir_id].sum(axis=1) > 0)).sum())\n",
        "\n",
        "temp_df_shared[\"# positive macaque cells\"] = pos_cells\n",
        "\n",
        "temp_df_shared.to_csv(\"shared_virs_ID2tax.csv\", index=False)"
      ]
    },
    {
      "cell_type": "code",
      "execution_count": null,
      "id": "5d7ce4a8-6f59-4851-9839-9af961360e7a",
      "metadata": {
        "id": "5d7ce4a8-6f59-4851-9839-9af961360e7a"
      },
      "outputs": [],
      "source": [
        "temp_df_shared.sort_values(\"# positive macaque cells\", ascending=False)"
      ]
    },
    {
      "cell_type": "markdown",
      "id": "7810c29a-65d9-40a6-b767-b7d30918ef86",
      "metadata": {
        "id": "7810c29a-65d9-40a6-b767-b7d30918ef86"
      },
      "source": [
        "___\n",
        "# Plot shared/macaque_only/canis_only fractions per phylum, order, class etc."
      ]
    },
    {
      "cell_type": "code",
      "execution_count": null,
      "id": "c74e49a5-f15d-49ef-8f30-eaa218eef6f7",
      "metadata": {
        "id": "c74e49a5-f15d-49ef-8f30-eaa218eef6f7"
      },
      "outputs": [],
      "source": [
        "%%time\n",
        "adata = palmdb_adata\n",
        "\n",
        "master_df = pd.DataFrame()\n",
        "for i, tax in enumerate([\"order\"]):\n",
        "    # Get counts for each virus per sample\n",
        "    vir_fractions_df = pd.DataFrame()\n",
        "\n",
        "    samples = []\n",
        "    m_counts = []\n",
        "    c_counts = []\n",
        "    s_counts = []\n",
        "    u_counts = []\n",
        "    for tax_name in np.sort(phylogeny_data[tax].unique()):\n",
        "        v_ids = phylogeny_data[phylogeny_data[tax] == tax_name][\"rep_ID\"].unique()\n",
        "        m_counts.append(adata[:, (adata.var.index.isin(v_ids)) & (adata.var[\"v_type\"] == \"macaca_only\")].X.sum())\n",
        "        c_counts.append(adata[:, (adata.var.index.isin(v_ids)) & (adata.var[\"v_type\"] == \"canis_only\")].X.sum())\n",
        "        s_counts.append(adata[:, (adata.var.index.isin(v_ids)) & (adata.var[\"v_type\"] == \"shared\")].X.sum())\n",
        "        u_counts.append(adata[:, (adata.var.index.isin(v_ids)) & (adata.var[\"v_type\"] == \"undefined\")].X.sum())\n",
        "\n",
        "        samples.append(tax_name)\n",
        "\n",
        "    vir_fractions_df[\"sample\"] = samples\n",
        "    vir_fractions_df[\"macaca_only\"] = m_counts\n",
        "    vir_fractions_df[\"shared\"] = s_counts\n",
        "    vir_fractions_df[\"canis_only\"] = c_counts\n",
        "    vir_fractions_df[\"undefined\"] = u_counts\n",
        "\n",
        "    # De-fragment dataframe\n",
        "    vir_fractions_df = vir_fractions_df.copy()\n",
        "\n",
        "    # Set sample as index\n",
        "    vir_fractions_df = vir_fractions_df.set_index(\"sample\")\n",
        "\n",
        "    # Get total virus reads per sample\n",
        "    vir_fractions_df[\"sample_total\"] = vir_fractions_df.sum(axis = 1)\n",
        "\n",
        "    # Get fractions for each virus\n",
        "    for virus in vir_fractions_df.columns[:-1]:\n",
        "        vir_fractions_df[f\"{virus}_fraction\"] = vir_fractions_df[virus] / vir_fractions_df[\"sample_total\"]\n",
        "\n",
        "    # De-fragment dataframe\n",
        "    vir_fractions_df = vir_fractions_df.copy()\n",
        "\n",
        "    vir_fractions_df = vir_fractions_df.dropna()\n",
        "\n",
        "    vir_fractions_df = vir_fractions_df.sort_values([\"macaca_only_fraction\", \"canis_only_fraction\", \"undefined_fraction\", \"shared_fraction\"])\n",
        "\n",
        "    if i == 0:\n",
        "        master_df = vir_fractions_df.copy()\n",
        "\n",
        "    else:\n",
        "        master_df = master_df.append(vir_fractions_df)\n",
        "\n",
        "master_df.to_csv(\"fractions_vtype_per_tax.csv\")\n",
        "vir_fractions_df = master_df\n",
        "\n",
        "vir_fractions_df"
      ]
    },
    {
      "cell_type": "code",
      "execution_count": null,
      "id": "dff6be14-6807-4d48-8eeb-8b66306a5055",
      "metadata": {
        "id": "dff6be14-6807-4d48-8eeb-8b66306a5055"
      },
      "outputs": [],
      "source": [
        "fig, ax = plt.subplots(figsize=(11, 7))\n",
        "label_color=\"black\"\n",
        "fontsize = 16\n",
        "width = 0.7\n",
        "\n",
        "samples = vir_fractions_df.index.values\n",
        "x = np.arange(len(samples))\n",
        "bottom = np.zeros(len(samples))\n",
        "\n",
        "vcs = ['macaca_only_fraction', 'canis_only_fraction', 'undefined_fraction', 'shared_fraction']\n",
        "labels = [\"Macaque only\", \"MDCK only\", \"Undefined\", \"Shared\"]\n",
        "\n",
        "colors = [\"#003049\", \"#8fc0de\", \"lightgrey\", \"#4b8eb3\"]\n",
        "c_idx = 0\n",
        "for label, virus_column in zip(labels, vcs):\n",
        "    if \"_fraction\" in virus_column:\n",
        "        if virus_column == 'canis_only_fraction':\n",
        "            ax.bar(x, vir_fractions_df[virus_column].values, width, hatch=\"//\", label=label, bottom=bottom, color=colors[c_idx])\n",
        "        else:\n",
        "            ax.bar(x, vir_fractions_df[virus_column].values, width, label=label, bottom=bottom, color=colors[c_idx])\n",
        "        bottom += vir_fractions_df[virus_column].values\n",
        "        c_idx += 1\n",
        "\n",
        "# Add number of total virus reads to plot\n",
        "y_height = 1.01\n",
        "for i, sample in enumerate(samples):\n",
        "    total_count = \"{:,}\".format(vir_fractions_df[vir_fractions_df.index == sample][\"sample_total\"].values[0].astype(int))\n",
        "    ax.text(i, y_height, total_count, fontsize=fontsize-2, ha=\"left\", rotation=45, color=label_color)\n",
        "\n",
        "# ax.set_yscale(\"log\")\n",
        "ax.set_ylabel(\"Fraction of positive cells\", fontsize=fontsize+2, color=label_color)\n",
        "ax.set_xlabel(\"Virus order\", fontsize=fontsize+2, color=label_color)\n",
        "\n",
        "leg = ax.legend(fontsize=fontsize, loc='upper left')\n",
        "for i, leg_txt in enumerate(leg.get_texts()):\n",
        "    leg_txt.set_color(label_color)\n",
        "leg.get_frame().set_alpha(1)\n",
        "\n",
        "labels = []\n",
        "for sample in samples:\n",
        "    if sample == \".\":\n",
        "        labels.append(\"Undefined\")\n",
        "    else:\n",
        "        labels.append(sample)\n",
        "ax.set_xticks(x, labels, rotation=45, ha=\"right\")\n",
        "\n",
        "ax.tick_params(axis=\"both\", labelsize=fontsize)\n",
        "# ax.set_title(f\"Fraction of positive cells per virus category\", fontsize=fontsize+2, color=label_color, pad=65)\n",
        "\n",
        "ax.margins(y=0, x=0.005)\n",
        "\n",
        "# # Adjust for black background\n",
        "# ax.spines['bottom'].set_color('white')\n",
        "# ax.spines['top'].set_color('white')\n",
        "# ax.spines['left'].set_color('white')\n",
        "# ax.spines['right'].set_color('white')\n",
        "# ax.tick_params(axis='both', colors='white')\n",
        "\n",
        "# plt.gca().invert_yaxis()\n",
        "\n",
        "# plt.tight_layout()\n",
        "\n",
        "ax.grid(True, which=\"both\", color=\"lightgrey\", ls=\"--\", lw=1)\n",
        "ax.set_axisbelow(True)\n",
        "ax.xaxis.grid(False)\n",
        "\n",
        "plt.savefig(\"genus_fractions_v_type.png\", dpi=300, bbox_inches=\"tight\", transparent=True)\n",
        "\n",
        "fig.show()"
      ]
    },
    {
      "cell_type": "code",
      "execution_count": null,
      "id": "06a3decb-daed-46a9-9641-8f705a3a19d6",
      "metadata": {
        "id": "06a3decb-daed-46a9-9641-8f705a3a19d6"
      },
      "outputs": [],
      "source": []
    }
  ],
  "metadata": {
    "kernelspec": {
      "display_name": "Python 3 (ipykernel)",
      "language": "python",
      "name": "python3"
    },
    "language_info": {
      "codemirror_mode": {
        "name": "ipython",
        "version": 3
      },
      "file_extension": ".py",
      "mimetype": "text/x-python",
      "name": "python",
      "nbconvert_exporter": "python",
      "pygments_lexer": "ipython3",
      "version": "3.9.12"
    },
    "colab": {
      "provenance": [],
      "include_colab_link": true
    }
  },
  "nbformat": 4,
  "nbformat_minor": 5
}