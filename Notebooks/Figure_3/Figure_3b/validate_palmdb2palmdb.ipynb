{
  "cells": [
    {
      "cell_type": "markdown",
      "metadata": {
        "id": "view-in-github",
        "colab_type": "text"
      },
      "source": [
        "<a href=\"https://colab.research.google.com/github/pachterlab/LSCHWCP_2023/blob/main/Notebooks/Figure_3/Figure_3b/validate_palmdb2palmdb.ipynb\" target=\"_parent\"><img src=\"https://colab.research.google.com/assets/colab-badge.svg\" alt=\"Open In Colab\"/></a>"
      ]
    },
    {
      "cell_type": "markdown",
      "id": "9d56ba23-9993-44e4-822f-fb6693ac8a00",
      "metadata": {
        "id": "9d56ba23-9993-44e4-822f-fb6693ac8a00"
      },
      "source": [
        "# Validate the alignment of PalmDB nucleotide sequences to the corresponding amino acid reference with kallisto translated search"
      ]
    },
    {
      "cell_type": "code",
      "execution_count": null,
      "id": "0b4967fe-1b69-4fff-bd11-02ecb1f6ca20",
      "metadata": {
        "id": "0b4967fe-1b69-4fff-bd11-02ecb1f6ca20"
      },
      "outputs": [],
      "source": [
        "!pip install -q biopython kb_python\n",
        "from Bio import SeqIO\n",
        "import pandas as pd\n",
        "import numpy as np\n",
        "from itertools import product\n",
        "import kb_python.utils as kb_utils\n",
        "%config InlineBackend.figure_format='retina'\n",
        "import matplotlib.pyplot as plt\n",
        "from tqdm import tqdm\n",
        "TQDM_BAR_FORMAT = (\n",
        "    \"{l_bar}{bar}| {n_fmt}/{total_fmt} [elapsed: {elapsed} remaining: {remaining}]\"\n",
        ")"
      ]
    },
    {
      "cell_type": "markdown",
      "source": [
        "Install kallisto and bustools:"
      ],
      "metadata": {
        "id": "ZGa-yazPvzGZ"
      },
      "id": "ZGa-yazPvzGZ"
    },
    {
      "cell_type": "code",
      "source": [
        "# Install kallisto from source\n",
        "!git clone -q https://github.com/pachterlab/kallisto.git\n",
        "!cd kallisto && mkdir build && cd build && cmake .. && make\n",
        "\n",
        "# Install bustools from source\n",
        "!git clone -q https://github.com/BUStools/bustools.git\n",
        "!cd bustools && mkdir build && cd build && cmake .. && make\n",
        "\n",
        "# Define paths to kallisto and bustools binaries\n",
        "kallisto = \"/content/kallisto/build/src/kallisto\"\n",
        "bustools = \"/content/bustools/build/src/bustools\""
      ],
      "metadata": {
        "id": "1bNa6aBhvhld"
      },
      "id": "1bNa6aBhvhld",
      "execution_count": null,
      "outputs": []
    },
    {
      "cell_type": "markdown",
      "source": [
        "Load data:"
      ],
      "metadata": {
        "id": "UAL3AIjcv1SR"
      },
      "id": "UAL3AIjcv1SR"
    },
    {
      "cell_type": "code",
      "execution_count": null,
      "id": "652db99c-905f-432d-b5c9-24fdf80b8f66",
      "metadata": {
        "id": "652db99c-905f-432d-b5c9-24fdf80b8f66"
      },
      "outputs": [],
      "source": [
        "!wget https://raw.githubusercontent.com/pachterlab/LSCHWCP_2023/main/PalmDB/palmdb_clustered_t2g.txt\n",
        "!wget https://raw.githubusercontent.com/pachterlab/LSCHWCP_2023/main/PalmDB/ID_to_taxonomy_mapping.csv\n",
        "!wget https://raw.githubusercontent.com/pachterlab/LSCHWCP_2023/main/PalmDB/palmdb_rdrp_seqs.fa\n",
        "!wget https://github.com/pachterlab/LSCHWCP_2023/raw/main/Notebooks/Figure_3/Figure_3b/palmdb_rdrp_seqs_nucleotides.fasta.zip\n",
        "!unzip palmdb_rdrp_seqs_nucleotides.fasta.zip\n",
        "\n",
        "virus_t2g = \"palmdb_clustered_t2g.txt\"\n",
        "u_tax_dp = \"ID_to_taxonomy_mapping.csv\"\n",
        "palmdb = \"palmdb_rdrp_seqs.fa\"\n",
        "\n",
        "# PalmDB amino acid sequences reverse translated to nucleotides\n",
        "palmdb_nn_fasta = \"palmdb_rdrp_seqs_nucleotides.fasta\""
      ]
    },
    {
      "cell_type": "markdown",
      "id": "bd6007b6-5e92-4fdd-980b-280ae64c8163",
      "metadata": {
        "id": "bd6007b6-5e92-4fdd-980b-280ae64c8163"
      },
      "source": [
        "Reverse translate virus ref amino acid sequences to nucleotides:"
      ]
    },
    {
      "cell_type": "code",
      "execution_count": null,
      "id": "6eb8235f-069b-423b-8804-4107af05580f",
      "metadata": {
        "id": "6eb8235f-069b-423b-8804-4107af05580f"
      },
      "outputs": [],
      "source": [
        "# Adapted from https://github.com/Edinburgh-Genome-Foundry/DnaChisel\n",
        "from Bio.Data import CodonTable\n",
        "\n",
        "def flatten(l):\n",
        "    return [item for sublist in l for item in sublist]\n",
        "\n",
        "def get_backtranslation_table(table_name=\"Standard\"):\n",
        "    table = CodonTable.unambiguous_dna_by_name[table_name]\n",
        "    back_translation_table = {}\n",
        "    for codon, amino_acid in table.forward_table.items():\n",
        "        if amino_acid not in back_translation_table:\n",
        "            back_translation_table[amino_acid] = []\n",
        "        back_translation_table[amino_acid].append(codon)\n",
        "    back_translation_table[\"*\"] = table.stop_codons\n",
        "    back_translation_table[\"START\"] = table.start_codons\n",
        "    back_translation_table[\"X\"] = list(set(flatten(back_translation_table.values())) - set(back_translation_table[\"*\"]))\n",
        "    back_translation_table[\"B\"] = back_translation_table[\"N\"] + back_translation_table[\"D\"]\n",
        "    back_translation_table[\"J\"] = back_translation_table[\"L\"] + back_translation_table[\"I\"]\n",
        "    back_translation_table[\"Z\"] = back_translation_table[\"E\"] + back_translation_table[\"Q\"]\n",
        "    return back_translation_table\n",
        "\n",
        "def reverse_translate(protein_sequence, randomize_codons=False, table=\"Standard\"):\n",
        "    \"\"\"Return a DNA sequence which translates to the provided protein sequence.\n",
        "\n",
        "    Parameters\n",
        "    ----------\n",
        "\n",
        "    protein_sequence\n",
        "      A sequence string of aminoacids, e.g. \"MVKK...\"\n",
        "\n",
        "    table\n",
        "      Genetic code table to use (e.g. 'Standard', 'Bacterial', etc.).\n",
        "      See dnachisel.biotools.CODON_TABLE_NAMES for a list of available genetic\n",
        "      code tables.\n",
        "\n",
        "    randomize_codons\n",
        "      If False, the first valid codon found is used for each, which can create\n",
        "      biases (GC content, etc.), if True, each amino acid gets replaced by a\n",
        "      randomly selected codon for this amino acid.\n",
        "    \"\"\"\n",
        "    backtranslation_table = get_backtranslation_table(table_name=table)\n",
        "    if randomize_codons:\n",
        "        random_numbers = np.random.randint(0, 1000, len(protein_sequence))\n",
        "        random_indices = [\n",
        "            random_number % len(backtranslation_table[aa])\n",
        "            for aa, random_number in zip(protein_sequence, random_numbers)\n",
        "        ]\n",
        "        return \"\".join(\n",
        "            [\n",
        "                backtranslation_table[aa][random_indice]\n",
        "                for aa, random_indice in zip(protein_sequence, random_indices)\n",
        "            ]\n",
        "        )\n",
        "    return \"\".join([backtranslation_table[aa][0] for aa in protein_sequence])"
      ]
    },
    {
      "cell_type": "code",
      "execution_count": null,
      "id": "86d09773-403e-48f1-bf10-2c379ae513dc",
      "metadata": {
        "id": "86d09773-403e-48f1-bf10-2c379ae513dc"
      },
      "outputs": [],
      "source": [
        "# Reverse translate virus ref amino acid sequences to nucleotides and save to fasta\n",
        "from Bio import SeqIO\n",
        "\n",
        "with open(palmdb) as handle, open(palmdb_nn_fasta, \"w\") as palm_nuc:\n",
        "    for record in SeqIO.parse(handle, \"fasta\"):\n",
        "        palm_nuc.write(\">\" + str(record.id) + \"\\n\")\n",
        "        palm_nuc.write(reverse_translate(str(record.seq), table=\"Standard\") + \"\\n\")"
      ]
    },
    {
      "cell_type": "markdown",
      "id": "c45b1657-dca0-48ce-b3d7-39f01f29f93c",
      "metadata": {
        "id": "c45b1657-dca0-48ce-b3d7-39f01f29f93c"
      },
      "source": [
        "Create fake R1 file with barcodes for rev translated PalmDB:"
      ]
    },
    {
      "cell_type": "code",
      "execution_count": null,
      "id": "549371e5-3d04-4a77-ac55-ce010a6001ee",
      "metadata": {
        "id": "549371e5-3d04-4a77-ac55-ce010a6001ee"
      },
      "outputs": [],
      "source": [
        "# Create a fake barcode for each sequence in the PalmDB\n",
        "barcodes = [''.join(i) for i in product([\"A\", \"C\", \"G\", \"T\"], repeat=10)]\n",
        "\n",
        "print(len(barcodes))\n",
        "barcodes[:10]"
      ]
    },
    {
      "cell_type": "code",
      "execution_count": null,
      "id": "704e00fe-13ea-4e17-8519-0c66706fa6c5",
      "metadata": {
        "id": "704e00fe-13ea-4e17-8519-0c66706fa6c5"
      },
      "outputs": [],
      "source": [
        "# Create fake R1 file with barcodes\n",
        "virus_ids = []\n",
        "palmdb_nn_R1 = \"palmdb_barcodes_R1.fasta\"\n",
        "with open(palmdb_nn_R1, \"w\") as fake_R1:\n",
        "    for (barcode, record) in zip(barcodes[:296561], SeqIO.parse(palmdb_nn_fasta, \"fasta\")):\n",
        "        fake_R1.write(\">\" + record.id + \"\\n\")\n",
        "        fake_R1.write(barcode + \"\\n\")\n",
        "        virus_ids.append(record.id)"
      ]
    },
    {
      "cell_type": "code",
      "execution_count": null,
      "id": "9f622165-81e2-482d-a2e9-62e076d29c2c",
      "metadata": {
        "id": "9f622165-81e2-482d-a2e9-62e076d29c2c"
      },
      "outputs": [],
      "source": [
        "len(virus_ids)"
      ]
    },
    {
      "cell_type": "code",
      "execution_count": null,
      "id": "9a8fc57b-4f47-4d10-8ee9-19ecf70cca9d",
      "metadata": {
        "id": "9a8fc57b-4f47-4d10-8ee9-19ecf70cca9d"
      },
      "outputs": [],
      "source": [
        "bc2virus = pd.DataFrame()\n",
        "bc2virus[\"virus_ID\"] = virus_ids\n",
        "bc2virus[\"barcode\"] = barcodes[:296561]\n",
        "bc2virus.head()"
      ]
    },
    {
      "cell_type": "markdown",
      "id": "210010dd-0a2e-4daa-92f3-ca75b00e6ad4",
      "metadata": {
        "id": "210010dd-0a2e-4daa-92f3-ca75b00e6ad4"
      },
      "source": [
        "Align:"
      ]
    },
    {
      "cell_type": "code",
      "execution_count": null,
      "id": "34f8063c-7670-43e5-8d87-b41862739a93",
      "metadata": {
        "id": "34f8063c-7670-43e5-8d87-b41862739a93"
      },
      "outputs": [],
      "source": [
        "# Use kallisto to align with fake barcodes\n",
        "virus_index = \"virus_index.idx\"\n",
        "out_folder = \"palmdb_mapping_validation\"\n",
        "\n",
        "!$kallisto bus \\\n",
        "        -i $virus_index \\\n",
        "        -o $out_folder \\\n",
        "        --aa \\\n",
        "        -x 0,0,0:0,0,10:1,0,0 \\\n",
        "        -t 20 \\\n",
        "        $palmdb_nn_R1 $palmdb_nn_fasta\n",
        "\n",
        "!$bustools sort -o $out_folder/output_sorted.bus $out_folder/output.bus\n",
        "\n",
        "!$bustools count \\\n",
        "    --genecounts \\\n",
        "    --cm \\\n",
        "    -o $out_folder/bustools_count/ \\\n",
        "    -g $virus_t2g \\\n",
        "    -e $out_folder/matrix.ec \\\n",
        "    -t $out_folder/transcripts.txt \\\n",
        "    $out_folder/output_sorted.bus"
      ]
    },
    {
      "cell_type": "code",
      "execution_count": null,
      "id": "46b26315-37a2-4bfe-ad20-88b528a00b50",
      "metadata": {
        "id": "46b26315-37a2-4bfe-ad20-88b528a00b50"
      },
      "outputs": [],
      "source": [
        "# Load data\n",
        "# Filepath to counts\n",
        "X = f\"{out_folder}/bustools_count/output.mtx\"\n",
        "# Filepath to barcode metadata\n",
        "var_path = f\"{out_folder}/bustools_count/output.genes.txt\"\n",
        "# Filepath to gene metadata\n",
        "obs_path = f\"{out_folder}/bustools_count/output.barcodes.txt\"\n",
        "\n",
        "# Create AnnData object\n",
        "adata = kb_utils.import_matrix_as_anndata(X, obs_path, var_path)\n",
        "\n",
        "adata"
      ]
    },
    {
      "cell_type": "code",
      "execution_count": null,
      "id": "8cb3b5d4-8d9c-4518-acd0-57b17af64076",
      "metadata": {
        "id": "8cb3b5d4-8d9c-4518-acd0-57b17af64076"
      },
      "outputs": [],
      "source": [
        "adata.obs"
      ]
    },
    {
      "cell_type": "code",
      "execution_count": null,
      "id": "63ac9b77-e474-4daa-96c2-e7d0eb81340b",
      "metadata": {
        "id": "63ac9b77-e474-4daa-96c2-e7d0eb81340b"
      },
      "outputs": [],
      "source": [
        "# Add virus IDs\n",
        "adata.obs = adata.obs.merge(bc2virus, how=\"left\", on=\"barcode\", validate=\"one_to_one\").set_index(\"virus_ID\")\n",
        "adata.obs"
      ]
    },
    {
      "cell_type": "markdown",
      "id": "1fbd79d4-62d3-4ec5-ab2b-424992076bc8",
      "metadata": {
        "id": "1fbd79d4-62d3-4ec5-ab2b-424992076bc8"
      },
      "source": [
        "Plot heatmap of ID mapping:"
      ]
    },
    {
      "cell_type": "code",
      "execution_count": null,
      "id": "20890068-6ae5-4de8-80d5-c4836f1b0788",
      "metadata": {
        "id": "20890068-6ae5-4de8-80d5-c4836f1b0788"
      },
      "outputs": [],
      "source": [
        "# %%time\n",
        "# fig, ax = plt.subplots(figsize = (20,20))\n",
        "# im = ax.imshow(adata.X.todense())\n",
        "# plt.savefig(\"palmdb2palmdb_heatmap.png\", dpi=300, bbox_inches=\"tight\")"
      ]
    },
    {
      "cell_type": "markdown",
      "id": "45b45c3f-ad29-480c-894a-7f682e589b9d",
      "metadata": {
        "id": "45b45c3f-ad29-480c-894a-7f682e589b9d"
      },
      "source": [
        "### Plot fraction of each taxa assigned correctly:"
      ]
    },
    {
      "cell_type": "code",
      "execution_count": null,
      "id": "859822f2-7f12-4000-8c15-b1abb6f4a219",
      "metadata": {
        "id": "859822f2-7f12-4000-8c15-b1abb6f4a219"
      },
      "outputs": [],
      "source": [
        "tax_df = pd.read_csv(u_tax_dp)\n",
        "tax_df"
      ]
    },
    {
      "cell_type": "code",
      "execution_count": null,
      "id": "a674e50f-81ee-4ab7-8401-cad614a9d04b",
      "metadata": {
        "id": "a674e50f-81ee-4ab7-8401-cad614a9d04b"
      },
      "outputs": [],
      "source": [
        "adata.X.sum()"
      ]
    },
    {
      "cell_type": "markdown",
      "id": "0faa1ee4-9a1f-430d-ba13-946e78a9cba0",
      "metadata": {
        "id": "0faa1ee4-9a1f-430d-ba13-946e78a9cba0"
      },
      "source": [
        "Get fractions of correct/incorrect mapping for each ID for each tax:"
      ]
    },
    {
      "cell_type": "code",
      "execution_count": null,
      "id": "d29cbb71-e310-44c5-b9a5-92a9eafe7bcd",
      "metadata": {
        "id": "d29cbb71-e310-44c5-b9a5-92a9eafe7bcd"
      },
      "outputs": [],
      "source": [
        "def get_acc_fractions(taxon):\n",
        "    df = pd.DataFrame()\n",
        "    df[\"mapping\"] = [\"correct\", \"incorrect\", \"not_aligned\", \"multimapped\"]\n",
        "\n",
        "    total_n = len(tax_df[taxon].unique()) + 1\n",
        "    n = 1\n",
        "\n",
        "    for tax_name in tax_df[taxon].unique():\n",
        "        correct = 0\n",
        "        incorrect = 0\n",
        "        not_aligned = 0\n",
        "        multimapped = 0\n",
        "\n",
        "        with tqdm(total=len(tax_df[tax_df[taxon]==tax_name][\"ID\"].values), bar_format=TQDM_BAR_FORMAT) as pbar:\n",
        "            pbar.set_description(f\"Checking IDs for {tax_name} ({n}/{total_n})\")\n",
        "\n",
        "            for virus_id in tax_df[tax_df[taxon]==tax_name][\"ID\"].values:\n",
        "                try:\n",
        "                    mapping = adata.var[np.array(adata[adata.obs.index == virus_id, :].X.todense())[0] > 0]\n",
        "\n",
        "                    if len(mapping) == 1:\n",
        "                        mapped_id = mapping.index[0]\n",
        "\n",
        "                        if mapped_id == virus_id:\n",
        "                            correct += 1\n",
        "\n",
        "                        else:\n",
        "                            if tax_df[tax_df[\"ID\"]==mapped_id][taxon].values[0] == tax_name:\n",
        "                                correct += 1\n",
        "\n",
        "                            else:\n",
        "                                incorrect += 1\n",
        "\n",
        "                    else:\n",
        "                        multimapped += 1\n",
        "\n",
        "                except IndexError:\n",
        "                    not_aligned += 1\n",
        "\n",
        "                pbar.update(1)\n",
        "\n",
        "        df[tax_name] = [correct, incorrect, not_aligned, multimapped]\n",
        "        n += 1\n",
        "\n",
        "    df.to_csv(f\"{out_folder}/{taxon}_mapping.csv\", index=False)"
      ]
    },
    {
      "cell_type": "code",
      "execution_count": null,
      "id": "7a9bfc13-17db-48d3-94f3-a44599b29ef5",
      "metadata": {
        "id": "7a9bfc13-17db-48d3-94f3-a44599b29ef5"
      },
      "outputs": [],
      "source": [
        "get_acc_fractions(\"phylum\")"
      ]
    },
    {
      "cell_type": "code",
      "execution_count": null,
      "id": "9597e652-189b-423b-b844-b75af017e8a1",
      "metadata": {
        "id": "9597e652-189b-423b-b844-b75af017e8a1"
      },
      "outputs": [],
      "source": [
        "get_acc_fractions(\"class\")"
      ]
    },
    {
      "cell_type": "code",
      "execution_count": null,
      "id": "e464bfcf-1520-4b73-b961-1cf62dadcc3a",
      "metadata": {
        "id": "e464bfcf-1520-4b73-b961-1cf62dadcc3a"
      },
      "outputs": [],
      "source": [
        "get_acc_fractions(\"order\")"
      ]
    },
    {
      "cell_type": "code",
      "execution_count": null,
      "id": "d1f6086e-c978-4706-a90a-fae11b0ad0e0",
      "metadata": {
        "id": "d1f6086e-c978-4706-a90a-fae11b0ad0e0"
      },
      "outputs": [],
      "source": [
        "get_acc_fractions(\"family\")"
      ]
    },
    {
      "cell_type": "code",
      "execution_count": null,
      "id": "6c1db141-d66d-4210-a3c7-739d3245a5b9",
      "metadata": {
        "id": "6c1db141-d66d-4210-a3c7-739d3245a5b9"
      },
      "outputs": [],
      "source": [
        "get_acc_fractions(\"genus\")"
      ]
    },
    {
      "cell_type": "code",
      "execution_count": null,
      "id": "4337400f-f5d5-4873-8a2f-99a3c8b8af1c",
      "metadata": {
        "id": "4337400f-f5d5-4873-8a2f-99a3c8b8af1c"
      },
      "outputs": [],
      "source": [
        "get_acc_fractions(\"species\")"
      ]
    },
    {
      "cell_type": "markdown",
      "id": "945cd024-bdcf-4d10-ba22-4d71a77f82da",
      "metadata": {
        "id": "945cd024-bdcf-4d10-ba22-4d71a77f82da"
      },
      "source": [
        "#### Plot:"
      ]
    },
    {
      "cell_type": "code",
      "execution_count": null,
      "id": "0d2d62be-3925-40fa-b28e-9d8ab96c7b78",
      "metadata": {
        "tags": [],
        "id": "0d2d62be-3925-40fa-b28e-9d8ab96c7b78"
      },
      "outputs": [],
      "source": [
        "def fractions(df):\n",
        "    m_types = df[\"mapping\"].values\n",
        "\n",
        "    # # Drop unknown virus sequences and transpose dataframe\n",
        "    # df_T = df.drop(\".\", axis=1).set_index(\"mapping\").T\n",
        "    # Transpose dataframe\n",
        "    df_T = df.set_index(\"mapping\").T\n",
        "\n",
        "    # Add total\n",
        "    df_T[\"total\"] = df_T.sum(axis=1).values\n",
        "\n",
        "    # Compute fraction of total count for each mapping type\n",
        "    for mt in m_types:\n",
        "        df_T[f\"{mt}_fraction\"] = (df_T[mt] / df_T[\"total\"]).values\n",
        "\n",
        "    return df_T"
      ]
    },
    {
      "cell_type": "code",
      "execution_count": null,
      "id": "33a0ded4-066f-49fe-8736-a231777e1e16",
      "metadata": {
        "id": "33a0ded4-066f-49fe-8736-a231777e1e16"
      },
      "outputs": [],
      "source": [
        "fig, axs = plt.subplots(figsize=(100, 20), ncols=5)\n",
        "\n",
        "fontsize = 50\n",
        "subplt_spacing = 0.04\n",
        "\n",
        "colors = [\"#3e8938\", \"red\", \"grey\", \"lightgrey\"]\n",
        "alphas = [0.75, 1, 1, 1]\n",
        "m_types = [\"correct\", \"incorrect\", \"not_aligned\", \"multimapped\"]\n",
        "legend_labels = [\"Correct\", \"Incorrect\", \"Not aligned\", \"Multimapped\"]\n",
        "\n",
        "## Plot phylum fractions\n",
        "phyla_df = pd.read_csv(f\"{out_folder}/phylum_mapping.csv\")\n",
        "frac_df = fractions(phyla_df)\n",
        "x = list(map(lambda st: str.replace(st, \".\", \"Unknown\"), frac_df.index.values))\n",
        "ax = axs[0]\n",
        "\n",
        "previous_samples = 0\n",
        "for alpha, color, mt in zip(alphas, colors, m_types):\n",
        "    y = frac_df[f\"{mt}_fraction\"].values\n",
        "    ax.bar(\n",
        "        x,\n",
        "        y,\n",
        "        width = 0.75,\n",
        "        bottom = previous_samples,\n",
        "        color = color,\n",
        "        alpha = alpha,\n",
        "    )\n",
        "    previous_samples = previous_samples + y\n",
        "\n",
        "# Add number of sequences above each bar\n",
        "for index, total in enumerate(frac_df[\"total\"].values):\n",
        "    ax.text(x=index, y=1.01, s=\"{:,}\".format(total), size=fontsize, ha=\"left\", rotation=45)\n",
        "\n",
        "ax.set_xticklabels(x, rotation=45, ha=\"right\")\n",
        "ax.tick_params(axis=\"both\", labelsize=fontsize)\n",
        "ax.margins(x=subplt_spacing, y=0)\n",
        "ax.spines[['right']].set_visible(False)\n",
        "ax.patch.set_alpha(0)\n",
        "\n",
        "ax.set_ylabel(\"Fraction\", fontsize=fontsize+2)\n",
        "\n",
        "\n",
        "## Plot class fractions\n",
        "class_df = pd.read_csv(f\"{out_folder}/class_mapping.csv\")\n",
        "frac_df = fractions(class_df)\n",
        "x = list(map(lambda st: str.replace(st, \".\", \"Unknown\"), frac_df.index.values))\n",
        "ax = axs[1]\n",
        "\n",
        "previous_samples = 0\n",
        "for alpha, color, mt in zip(alphas, colors, m_types):\n",
        "    y = frac_df[f\"{mt}_fraction\"].values\n",
        "    ax.bar(\n",
        "        x,\n",
        "        y,\n",
        "        width = 0.75,\n",
        "        bottom = previous_samples,\n",
        "        color = color,\n",
        "        alpha = alpha,\n",
        "    )\n",
        "    previous_samples = previous_samples + y\n",
        "\n",
        "# Add number of sequences above each bar\n",
        "for index, total in enumerate(frac_df[\"total\"].values):\n",
        "    ax.text(x=index, y=1.01, s=\"{:,}\".format(total), size=fontsize - 15, ha=\"left\", rotation=45)\n",
        "\n",
        "ax.set_xticklabels(x, rotation=45, ha=\"right\")\n",
        "ax.tick_params(axis=\"both\", labelsize=fontsize - 15)\n",
        "ax.margins(x=subplt_spacing, y=0)\n",
        "ax.spines[['left', 'right']].set_visible(False)\n",
        "ax.set_yticks([])\n",
        "ax.patch.set_alpha(0)\n",
        "\n",
        "\n",
        "## Plot order fractions\n",
        "order_df = pd.read_csv(f\"{out_folder}/order_mapping.csv\")\n",
        "frac_df = fractions(order_df)\n",
        "x = list(map(lambda st: str.replace(st, \".\", \"Unknown\"), frac_df.index.values))\n",
        "ax = axs[2]\n",
        "\n",
        "previous_samples = 0\n",
        "for alpha, color, mt in zip(alphas, colors, m_types):\n",
        "    y = frac_df[f\"{mt}_fraction\"].values\n",
        "    ax.bar(\n",
        "        x,\n",
        "        y,\n",
        "        width = 0.75,\n",
        "        bottom = previous_samples,\n",
        "        color = color,\n",
        "        alpha = alpha,\n",
        "    )\n",
        "    previous_samples = previous_samples + y\n",
        "\n",
        "# Add number of sequences above each bar\n",
        "for index, total in enumerate(frac_df[\"total\"].values):\n",
        "    ax.text(x=index, y=1.01, s=\"{:,}\".format(total), size=fontsize - 25, ha=\"left\", rotation=45)\n",
        "\n",
        "ax.set_xticklabels(x, rotation=45, ha=\"right\")\n",
        "ax.tick_params(axis=\"both\", labelsize=fontsize - 25)\n",
        "ax.margins(x=subplt_spacing, y=0)\n",
        "ax.spines[['left', 'right']].set_visible(False)\n",
        "ax.set_yticks([])\n",
        "ax.patch.set_alpha(0)\n",
        "\n",
        "## Plot family fractions\n",
        "family_df = pd.read_csv(f\"{out_folder}/family_mapping.csv\")\n",
        "frac_df = fractions(family_df)\n",
        "x = list(map(lambda st: str.replace(st, \".\", \"Unknown\"), frac_df.index.values))\n",
        "ax = axs[3]\n",
        "\n",
        "previous_samples = 0\n",
        "for alpha, color, mt in zip(alphas, colors, m_types):\n",
        "    y = frac_df[f\"{mt}_fraction\"].values\n",
        "    ax.bar(\n",
        "        x,\n",
        "        y,\n",
        "        width = 1,\n",
        "        bottom = previous_samples,\n",
        "        color = color,\n",
        "        alpha = alpha,\n",
        "    )\n",
        "    previous_samples = previous_samples + y\n",
        "\n",
        "ax.xaxis.set_tick_params(labelbottom=False)\n",
        "ax.yaxis.set_tick_params(labelleft=False)\n",
        "ax.margins(x=subplt_spacing, y=0)\n",
        "ax.spines[['left', 'right']].set_visible(False)\n",
        "ax.set_xticks([])\n",
        "ax.set_yticks([])\n",
        "ax.patch.set_alpha(0)\n",
        "\n",
        "## Plot genus and species fractions\n",
        "genus_df = pd.read_csv(f\"{out_folder}/genus_mapping.csv\")\n",
        "species_df = pd.read_csv(f\"{out_folder}/species_mapping.csv\")\n",
        "\n",
        "# Combine genus and species dataframe since there are too many taxa in each category to plot separately\n",
        "combined_df = pd.DataFrame()\n",
        "combined_df[\"genus\"] = genus_df.set_index(\"mapping\").sum(axis=1).values\n",
        "combined_df[\"species\"] = species_df.set_index(\"mapping\").sum(axis=1).values\n",
        "combined_df[\"mapping\"] = species_df[\"mapping\"].values\n",
        "\n",
        "frac_df = fractions(combined_df)\n",
        "x = list(map(lambda st: str.replace(st, \".\", \"Unknown\"), frac_df.index.values))\n",
        "ax = axs[4]\n",
        "\n",
        "previous_samples = 0\n",
        "for alpha, color, mt in zip(alphas, colors, m_types):\n",
        "    y = frac_df[f\"{mt}_fraction\"].values\n",
        "    ax.bar(\n",
        "        x,\n",
        "        y,\n",
        "        width = 0.85,\n",
        "        bottom = previous_samples,\n",
        "        color = color,\n",
        "        alpha = alpha,\n",
        "        label = mt\n",
        "    )\n",
        "    previous_samples = previous_samples + y\n",
        "\n",
        "# Add number of sequences above each bar\n",
        "for index, total in enumerate(frac_df[\"total\"].values):\n",
        "    ax.text(x=index, y=1.01, s=\"{:,}\".format(total), size=fontsize, ha=\"center\")\n",
        "\n",
        "ax.xaxis.set_tick_params(labelbottom=False)\n",
        "ax.yaxis.set_tick_params(labelleft=False)\n",
        "ax.margins(x=subplt_spacing, y=0)\n",
        "ax.spines[['left']].set_visible(False)\n",
        "ax.set_xticks([])\n",
        "ax.set_yticks([])\n",
        "ax.patch.set_alpha(0)\n",
        "\n",
        "# Add legend\n",
        "ax.legend(bbox_to_anchor=(1.001, 1.025), loc=\"upper left\", fontsize=fontsize, labels=legend_labels)\n",
        "\n",
        "\n",
        "# Remove space between subplots\n",
        "plt.subplots_adjust(wspace=0)\n",
        "\n",
        "\n",
        "# Add grid\n",
        "ax3 = fig.add_subplot(111, zorder=-1)\n",
        "for _, spine in ax3.spines.items():\n",
        "    spine.set_visible(False)\n",
        "ax3.set_xticks([])\n",
        "ax3.tick_params(labelleft=False, labelbottom=False, left=False, right=False)\n",
        "ax3.get_shared_y_axes().join(axs[0], axs[1], axs[2], axs[3], axs[4])\n",
        "ax3.grid(color=\"lightgrey\", ls=\"--\", lw=1)\n",
        "\n",
        "plt.savefig(\"tax_assignment_validation.png\", dpi=300, bbox_inches=\"tight\", transparent=True)\n",
        "\n",
        "fig.show()"
      ]
    },
    {
      "cell_type": "markdown",
      "id": "66771e94-e1c1-40db-a488-ea0bd6ee50ff",
      "metadata": {
        "id": "66771e94-e1c1-40db-a488-ea0bd6ee50ff"
      },
      "source": [
        "Get total percentages at species-level:"
      ]
    },
    {
      "cell_type": "code",
      "execution_count": null,
      "id": "09bed980-196f-4fb1-96aa-1c35c3532728",
      "metadata": {
        "id": "09bed980-196f-4fb1-96aa-1c35c3532728"
      },
      "outputs": [],
      "source": [
        "species_df = pd.read_csv(f\"{out_folder}/species_mapping.csv\")\n",
        "species_df = species_df.set_index(\"mapping\").sum(axis=1).to_frame().T\n",
        "species_df"
      ]
    },
    {
      "cell_type": "code",
      "execution_count": null,
      "id": "70794fcb-a5c1-4aba-8522-3b1fc93b2f4b",
      "metadata": {
        "id": "70794fcb-a5c1-4aba-8522-3b1fc93b2f4b"
      },
      "outputs": [],
      "source": [
        "total = species_df.sum(axis=1).values[0]\n",
        "\n",
        "for column in species_df.columns:\n",
        "    print(f\"% {column}: {(species_df[column].values[0] / total) * 100}\")\n",
        "\n",
        "print(total)"
      ]
    },
    {
      "cell_type": "code",
      "execution_count": null,
      "id": "7628549c-6d08-4c7a-bea1-181688baa78d",
      "metadata": {
        "id": "7628549c-6d08-4c7a-bea1-181688baa78d"
      },
      "outputs": [],
      "source": []
    }
  ],
  "metadata": {
    "kernelspec": {
      "display_name": "Python 3 (ipykernel)",
      "language": "python",
      "name": "python3"
    },
    "language_info": {
      "codemirror_mode": {
        "name": "ipython",
        "version": 3
      },
      "file_extension": ".py",
      "mimetype": "text/x-python",
      "name": "python",
      "nbconvert_exporter": "python",
      "pygments_lexer": "ipython3",
      "version": "3.9.12"
    },
    "colab": {
      "provenance": [],
      "include_colab_link": true
    }
  },
  "nbformat": 4,
  "nbformat_minor": 5
}