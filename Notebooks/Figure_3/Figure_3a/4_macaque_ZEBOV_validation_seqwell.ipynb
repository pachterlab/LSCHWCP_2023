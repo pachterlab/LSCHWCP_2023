{
  "cells": [
    {
      "cell_type": "markdown",
      "metadata": {
        "id": "view-in-github",
        "colab_type": "text"
      },
      "source": [
        "<a href=\"https://colab.research.google.com/github/pachterlab/LSCHWCP_2023/blob/main/Notebooks/Figure_3/Figure_3a/4_macaque_ZEBOV_validation_seqwell.ipynb\" target=\"_parent\"><img src=\"https://colab.research.google.com/assets/colab-badge.svg\" alt=\"Open In Colab\"/></a>"
      ]
    },
    {
      "cell_type": "code",
      "execution_count": null,
      "id": "42b0dc79-f60b-4242-bf99-e10b511d8fc4",
      "metadata": {
        "id": "42b0dc79-f60b-4242-bf99-e10b511d8fc4"
      },
      "outputs": [],
      "source": [
        "!pip install -q kb_python\n",
        "import kb_python.utils as kb_utils\n",
        "import numpy as np\n",
        "from scipy import stats\n",
        "import anndata\n",
        "import pandas as pd\n",
        "import json\n",
        "import os\n",
        "import glob\n",
        "import matplotlib.pyplot as plt\n",
        "import matplotlib as mpl\n",
        "%config InlineBackend.figure_format='retina'\n",
        "\n",
        "def nd(arr):\n",
        "    \"\"\"\n",
        "    Function to transform numpy matrix to nd array.\n",
        "    \"\"\"\n",
        "    return np.asarray(arr).reshape(-1)"
      ]
    },
    {
      "cell_type": "markdown",
      "id": "1fe0e932-4e87-4135-ae66-348927f3d289",
      "metadata": {
        "id": "1fe0e932-4e87-4135-ae66-348927f3d289"
      },
      "source": [
        "### Load data\n",
        "The count matrix was generated [here](https://github.com/pachterlab/LSCHWCP_2023/tree/main/Notebooks/align_macaque_PBMC_data/4_virus_dlist_cdna_dna). Here, we are loading the count matrix that was generated without cell barcode correction since we do not need single-cell resolution for this validation and so we can retain all cells (otherwise depending on the threshold set during the generation of the barcode onlist we would get different results here)."
      ]
    },
    {
      "cell_type": "code",
      "source": [
        "# Load alignment results from Caltech Data\n",
        "# !wget\n",
        "!unzip virus_dlist_cdna_dna_alignment_results.zip"
      ],
      "metadata": {
        "id": "1fqfH9RZsfPC"
      },
      "id": "1fqfH9RZsfPC",
      "execution_count": null,
      "outputs": []
    },
    {
      "cell_type": "code",
      "execution_count": null,
      "id": "8346f994-3fab-418c-812c-b8900f57d057",
      "metadata": {
        "id": "8346f994-3fab-418c-812c-b8900f57d057"
      },
      "outputs": [],
      "source": [
        "# Filepath to counts\n",
        "X = \"virus_dlist_cdna_dna_alignment_results/no_barcode_correction/bustools_count/output.mtx\"\n",
        "# Filepath to barcode metadata\n",
        "var_path = \"virus_dlist_cdna_dna_alignment_results/no_barcode_correction/bustools_count/output.genes.txt\"\n",
        "# Filepath to gene metadata\n",
        "obs_path = \"virus_dlist_cdna_dna_alignment_results/no_barcode_correction/bustools_count/output.barcodes.txt\"\n",
        "\n",
        "# Create AnnData object\n",
        "palmdb_adata = kb_utils.import_matrix_as_anndata(X, obs_path, var_path)\n",
        "palmdb_adata"
      ]
    },
    {
      "cell_type": "code",
      "execution_count": null,
      "id": "5bc0ce95-4c4c-431b-9ee8-2c627189ff9f",
      "metadata": {
        "id": "5bc0ce95-4c4c-431b-9ee8-2c627189ff9f"
      },
      "outputs": [],
      "source": [
        "# Add sample barcodes to adata\n",
        "sb_file = open(\"virus_dlist_cdna_dna_alignment_results/no_barcode_correction/bustools_count/output.barcodes.prefix.txt\")\n",
        "sample_barcodes = sb_file.read().splitlines()\n",
        "sb_file.close()\n",
        "\n",
        "# Only use last 16 bases because sample barcode is always 16 bases in length\n",
        "palmdb_adata.obs[\"sample_barcode\"] = [bc[-16:] for bc in sample_barcodes]"
      ]
    },
    {
      "cell_type": "code",
      "execution_count": null,
      "id": "f8b4b69c-b922-493f-b247-cbd688e9393b",
      "metadata": {
        "id": "f8b4b69c-b922-493f-b247-cbd688e9393b"
      },
      "outputs": [],
      "source": [
        "# Create barcode to sample lookup\n",
        "bc2sample_df = pd.DataFrame()\n",
        "\n",
        "b_file = open(\"virus_dlist_cdna_dna_alignment_results/matrix.sample.barcodes\")\n",
        "barcodes = b_file.read().splitlines()\n",
        "b_file.close()\n",
        "\n",
        "s_file = open(\"virus_dlist_cdna_dna_alignment_results/matrix.cells\")\n",
        "samples = s_file.read().splitlines()\n",
        "s_file.close()\n",
        "\n",
        "bc2sample_df[\"sample_barcode\"] = barcodes\n",
        "bc2sample_df[\"srr\"] = samples\n",
        "bc2sample_df"
      ]
    },
    {
      "cell_type": "code",
      "execution_count": null,
      "id": "3851b93d-f72b-43bc-a1db-72a7e2c365e6",
      "metadata": {
        "id": "3851b93d-f72b-43bc-a1db-72a7e2c365e6"
      },
      "outputs": [],
      "source": [
        "palmdb_adata.obs[\"barcode\"] = palmdb_adata.obs.index.values\n",
        "palmdb_adata.obs = palmdb_adata.obs.merge(bc2sample_df, on=\"sample_barcode\", how=\"left\").set_index(\"barcode\", drop=False)\n",
        "palmdb_adata.obs"
      ]
    },
    {
      "cell_type": "markdown",
      "id": "0aafeabe-75a8-466e-b491-81a47a55b4ae",
      "metadata": {
        "id": "0aafeabe-75a8-466e-b491-81a47a55b4ae"
      },
      "source": [
        "### Add timepoints from SRR metadata:"
      ]
    },
    {
      "cell_type": "code",
      "execution_count": null,
      "id": "c3e9c6e9-6238-40cf-9cb3-f36de598ae36",
      "metadata": {
        "id": "c3e9c6e9-6238-40cf-9cb3-f36de598ae36"
      },
      "outputs": [],
      "source": [
        "# Load library metadata\n",
        "!wget https://raw.githubusercontent.com/pachterlab/LSCHWCP_2023/main/Notebooks/Supp_Fig_3/Supp_Fig_3abc/PRJNA665227_SraRunTable.txt\n",
        "srr_meta = pd.read_csv(\"PRJNA665227_SraRunTable.txt\", sep=\",\")\n",
        "\n",
        "# Only keep relevent data\n",
        "srr_meta[\"mdck_spike_in\"] = srr_meta[\"mdck_spike_in\"].fillna(False).values\n",
        "srr_meta = srr_meta[[\"Run\", \"donor_animal\", \"Experiment\", \"mdck_spike_in\", \"hours_post_innoculation\", \"day_post_infection\"]]\n",
        "srr_meta"
      ]
    },
    {
      "cell_type": "code",
      "execution_count": null,
      "id": "d8410530-9982-43bb-8778-8897a526af7f",
      "metadata": {
        "id": "d8410530-9982-43bb-8778-8897a526af7f"
      },
      "outputs": [],
      "source": [
        "palmdb_adata.obs = (\n",
        "        palmdb_adata\n",
        "        .obs.merge(srr_meta, left_on=\"srr\", right_on=\"Run\", how=\"left\")\n",
        "        .set_index(\"barcode\", drop=False)\n",
        "    )\n",
        "\n",
        "palmdb_adata.obs"
      ]
    },
    {
      "cell_type": "markdown",
      "id": "5e405f53-e460-4c91-b9e3-8b2e3a1ed504",
      "metadata": {
        "id": "5e405f53-e460-4c91-b9e3-8b2e3a1ed504"
      },
      "source": [
        "Create clean dpi column:"
      ]
    },
    {
      "cell_type": "code",
      "execution_count": null,
      "id": "dee04e49-8b09-428e-8502-164d46089810",
      "metadata": {
        "id": "dee04e49-8b09-428e-8502-164d46089810"
      },
      "outputs": [],
      "source": [
        "# Join day_post_infection and hours_post_innoculation columns\n",
        "palmdb_adata.obs[\"dpi\"] = palmdb_adata.obs[\"day_post_infection\"].fillna(palmdb_adata.obs[\"hours_post_innoculation\"]).astype(int)\n",
        "\n",
        "# Add h/d accession to denote hours/days\n",
        "palmdb_adata.obs[\"dpi_accessions\"] = np.where(palmdb_adata.obs[\"hours_post_innoculation\"].isna(), \"d\", \"h\")\n",
        "palmdb_adata.obs[\"dpi_clean\"] = palmdb_adata.obs[\"dpi\"].astype(str) + palmdb_adata.obs[\"dpi_accessions\"].astype(str)\n",
        "\n",
        "palmdb_adata.obs"
      ]
    },
    {
      "cell_type": "code",
      "execution_count": null,
      "id": "11726bf8-48d4-4cd0-ba09-51a1a160b9ca",
      "metadata": {
        "id": "11726bf8-48d4-4cd0-ba09-51a1a160b9ca"
      },
      "outputs": [],
      "source": [
        "# Merge 7d and 8d timepoints\n",
        "new_tps = []\n",
        "for tp in palmdb_adata.obs[\"dpi_clean\"].values:\n",
        "    if tp == \"7d\" or tp == \"8d\":\n",
        "        new_tps.append(\"7d/8d\")\n",
        "    else:\n",
        "        new_tps.append(tp)\n",
        "\n",
        "palmdb_adata.obs[\"dpi_clean_merged\"] = new_tps"
      ]
    },
    {
      "cell_type": "markdown",
      "id": "a7365a45-f49b-4e62-8a6e-fc196800290b",
      "metadata": {
        "id": "a7365a45-f49b-4e62-8a6e-fc196800290b"
      },
      "source": [
        "___\n",
        "### Correlation between between qPCR viral load and kb EBOV detection"
      ]
    },
    {
      "cell_type": "code",
      "execution_count": null,
      "id": "f8a6ec7a-ada0-4e4d-a9db-fbcf59807d83",
      "metadata": {
        "id": "f8a6ec7a-ada0-4e4d-a9db-fbcf59807d83"
      },
      "outputs": [],
      "source": [
        "# Load virus ID to taxonomy mapping\n",
        "!wget https://raw.githubusercontent.com/pachterlab/LSCHWCP_2023/main/PalmDB/ID_to_taxonomy_mapping.csv\n",
        "phylogeny_data = pd.read_csv(\"ID_to_taxonomy_mapping.csv\")\n",
        "phylogeny_data"
      ]
    },
    {
      "cell_type": "code",
      "execution_count": null,
      "id": "afe2d011-cbb8-484f-8107-d2020099b796",
      "metadata": {
        "id": "afe2d011-cbb8-484f-8107-d2020099b796"
      },
      "outputs": [],
      "source": [
        "# Raw viral load data provided by authors\n",
        "!wget https://raw.githubusercontent.com/pachterlab/LSCHWCP_2023/main/Notebooks/Figure_3/Figure_3a/macaque_ZEBOV_validation_viral_loads.tsv\n",
        "viralload = pd.read_csv(\"macaque_ZEBOV_validation_viral_loads.tsv\", sep=\"\\t\")\n",
        "\n",
        "# Change naming of animal IDs to match naming in scseq data\n",
        "viralload = viralload.replace(\"NHP01\", \"NHP1\")\n",
        "viralload = viralload.replace(\"NHP02\", \"NHP2\")\n",
        "viralload = viralload.set_index(\"Unnamed: 0\")\n",
        "\n",
        "viralload = viralload.rename(columns={'BL':0})\n",
        "viralload.head()"
      ]
    },
    {
      "cell_type": "code",
      "execution_count": null,
      "id": "8da613bd-1b0d-4df1-878f-ee54ec1258d2",
      "metadata": {
        "id": "8da613bd-1b0d-4df1-878f-ee54ec1258d2"
      },
      "outputs": [],
      "source": [
        "viralload_log = viralload.replace('UND', 1)\n",
        "viralload_log_unstack = viralload_log.unstack().reset_index()\n",
        "viralload_log_unstack.columns = ['Day', 'Animal', 'log_viral_load']\n",
        "viralload_log_unstack = viralload_log_unstack.dropna()\n",
        "viralload_log_unstack['Day']=viralload_log_unstack['Day'].astype(int)\n",
        "\n",
        "vl_perday_mean = viralload_log_unstack.groupby('Day')['log_viral_load'].median()\n",
        "vl_perday_min = viralload_log_unstack.groupby('Day')['log_viral_load'].min()\n",
        "vl_perday_max = viralload_log_unstack.groupby('Day')['log_viral_load'].max()\n",
        "\n",
        "\n",
        "vl_day_sumary_stats = pd.concat([vl_perday_mean, vl_perday_min, vl_perday_max], axis=1)\n",
        "vl_day_sumary_stats.columns = ['mean', 'min', 'max']\n",
        "vl_day_sumary_stats"
      ]
    },
    {
      "cell_type": "code",
      "execution_count": null,
      "id": "a911493c-f4aa-4b8d-842f-300ada7c9ceb",
      "metadata": {
        "id": "a911493c-f4aa-4b8d-842f-300ada7c9ceb"
      },
      "outputs": [],
      "source": [
        "# Drop rows with samples not contained in scseq data\n",
        "vl_day_sumary_stats = vl_day_sumary_stats.drop([1,2])"
      ]
    },
    {
      "cell_type": "code",
      "execution_count": null,
      "id": "ff4cd459-9ba3-426b-87e3-ff13ee63da91",
      "metadata": {
        "id": "ff4cd459-9ba3-426b-87e3-ff13ee63da91"
      },
      "outputs": [],
      "source": [
        "phylogeny_data[phylogeny_data[\"species\"].str.contains(\"Zaire ebolavirus\")]"
      ]
    },
    {
      "cell_type": "code",
      "execution_count": null,
      "id": "9c81bcb8-23b3-4408-a805-fb3b2710c355",
      "metadata": {
        "id": "9c81bcb8-23b3-4408-a805-fb3b2710c355"
      },
      "outputs": [],
      "source": [
        "%%time\n",
        "# Plot animals individually\n",
        "samples = [\"0d\", \"3d\", \"4d\", \"5d\", \"6d\", \"7d\", \"8d\"]\n",
        "labels = [\"0\", \"3\", \"4\", \"5\", \"6\", \"7\", \"8\"]\n",
        "\n",
        "virus_ids = ['u10']\n",
        "\n",
        "cidx = []\n",
        "kb_counts = []\n",
        "kb_counts_norm = []\n",
        "vloads = []\n",
        "for i, sample in enumerate(samples):\n",
        "    for animal in viralload_log_unstack[viralload_log_unstack[\"Day\"]==int(sample.split(\"d\")[0])][\"Animal\"].values:\n",
        "        if animal in np.unique(palmdb_adata.obs[palmdb_adata.obs[\"dpi_clean\"] == sample][\"donor_animal\"].values):\n",
        "            # Only take into account timpeoints/animals with at least 100k (unfiltered) cells\n",
        "            num_cells = len(palmdb_adata.obs[(palmdb_adata.obs[\"dpi_clean\"] == sample) & (palmdb_adata.obs[\"donor_animal\"] == animal)])\n",
        "            if num_cells > 100000:\n",
        "                count = palmdb_adata[(palmdb_adata.obs[\"dpi_clean\"] == sample) & (palmdb_adata.obs[\"donor_animal\"] == animal), palmdb_adata.var.index.isin(virus_ids)].X.sum()\n",
        "                kb_counts.append(count)\n",
        "                kb_counts_norm.append(count / num_cells)\n",
        "\n",
        "                vloads.append(viralload.replace('UND', 0).loc[animal].values[int(sample.split(\"d\")[0])])\n",
        "                cidx.append(i)\n",
        "\n",
        "                print(sample, \" \", animal, \" \", count, \" \", num_cells)"
      ]
    },
    {
      "cell_type": "code",
      "execution_count": null,
      "id": "8e57ed9a-75a0-4e92-b919-51968e0f5538",
      "metadata": {
        "id": "8e57ed9a-75a0-4e92-b919-51968e0f5538"
      },
      "outputs": [],
      "source": [
        "fig, ax = plt.subplots(figsize=(7,7))\n",
        "\n",
        "fontsize=16\n",
        "\n",
        "sc = ax.scatter(kb_counts, vloads, c=cidx, cmap=\"Blues\", edgecolors=\"black\", s=250, zorder=2)\n",
        "\n",
        "cbar = plt.colorbar(sc)\n",
        "cbar.ax.tick_params(labelsize=fontsize)\n",
        "cbar.ax.set_yticklabels(labels)\n",
        "cbar.ax.set_ylabel(\"Days post-infection\", fontsize=fontsize, labelpad=1.1)\n",
        "\n",
        "ax.set_yscale(\"symlog\")\n",
        "ax.set_xscale(\"symlog\")\n",
        "ax.set_ylabel(\"RT-qPCR (Zaire ebolavirus copies/mL)\", fontsize=fontsize)\n",
        "ax.set_xlabel(\n",
        "    \"kallisto\\n(raw counts for Zaire ebolavirus)\",\n",
        "    fontsize=fontsize,\n",
        ")\n",
        "\n",
        "# ax.set_xlim(right=1000)\n",
        "\n",
        "ax.text(18, 0.15, f\"n={len(kb_counts)}\", fontsize=fontsize)\n",
        "\n",
        "# Add diagonal\n",
        "# ax.plot([0, 1], [0, 1], transform=ax.transAxes, c=\"black\", ls=\"-\", lw=1, zorder=1)\n",
        "\n",
        "ax.axvline(2, ls=\"--\", color=\"black\", lw=1)\n",
        "\n",
        "ax.tick_params(axis=\"both\", labelsize=fontsize)\n",
        "ax.set_title(f\"PBMC samples from rhesus macaques\\ninfected with Zaire ebolavirus\", fontsize=fontsize)\n",
        "\n",
        "# plt.tight_layout()\n",
        "\n",
        "ax.grid(True, which=\"both\", color=\"lightgray\", ls=\"--\", lw=1)\n",
        "ax.set_axisbelow(True)\n",
        "\n",
        "plt.savefig(\"kb_vs_qPCR_scatter.png\", dpi=300, bbox_inches=\"tight\")\n",
        "\n",
        "fig.show()"
      ]
    },
    {
      "cell_type": "code",
      "execution_count": null,
      "id": "ada029dd-8015-443c-92d9-9f627864b65a",
      "metadata": {
        "id": "ada029dd-8015-443c-92d9-9f627864b65a"
      },
      "outputs": [],
      "source": []
    }
  ],
  "metadata": {
    "kernelspec": {
      "display_name": "Python 3 (ipykernel)",
      "language": "python",
      "name": "python3"
    },
    "language_info": {
      "codemirror_mode": {
        "name": "ipython",
        "version": 3
      },
      "file_extension": ".py",
      "mimetype": "text/x-python",
      "name": "python",
      "nbconvert_exporter": "python",
      "pygments_lexer": "ipython3",
      "version": "3.9.12"
    },
    "colab": {
      "provenance": [],
      "include_colab_link": true
    }
  },
  "nbformat": 4,
  "nbformat_minor": 5
}