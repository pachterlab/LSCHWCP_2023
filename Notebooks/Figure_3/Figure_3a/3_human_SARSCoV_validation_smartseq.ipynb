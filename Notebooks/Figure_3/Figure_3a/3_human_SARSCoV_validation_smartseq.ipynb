{
  "cells": [
    {
      "cell_type": "markdown",
      "metadata": {
        "id": "view-in-github",
        "colab_type": "text"
      },
      "source": [
        "<a href=\"https://colab.research.google.com/github/pachterlab/LSCHWCP_2023/blob/main/Notebooks/Figure_3/Figure_3a/3_human_SARSCoV_validation_smartseq.ipynb\" target=\"_parent\"><img src=\"https://colab.research.google.com/assets/colab-badge.svg\" alt=\"Open In Colab\"/></a>"
      ]
    },
    {
      "cell_type": "markdown",
      "id": "37a561e5-b013-42ff-b94f-7007bd633bd2",
      "metadata": {
        "id": "37a561e5-b013-42ff-b94f-7007bd633bd2"
      },
      "source": [
        "# Validation using SARS-CoV2 infected human iPSC derived cardiomyocytes\n",
        "Data from https://www.cell.com/cell-reports-medicine/pdf/S2666-3791(20)30068-9.pdf:"
      ]
    },
    {
      "cell_type": "code",
      "source": [
        "# Number of threads to use during alignments\n",
        "threads = 8 # Change to 2 if not using TPU runtime"
      ],
      "metadata": {
        "id": "4EVJ3SlWvlGj"
      },
      "id": "4EVJ3SlWvlGj",
      "execution_count": null,
      "outputs": []
    },
    {
      "cell_type": "markdown",
      "source": [
        "## Install software"
      ],
      "metadata": {
        "id": "RNYivNJNu0uY"
      },
      "id": "RNYivNJNu0uY"
    },
    {
      "cell_type": "code",
      "source": [
        "!pip install -q ffq gget kb_python"
      ],
      "metadata": {
        "id": "QrbcPl9Lu0SA"
      },
      "id": "QrbcPl9Lu0SA",
      "execution_count": null,
      "outputs": []
    },
    {
      "cell_type": "markdown",
      "source": [
        "## Download SMART-Seq data"
      ],
      "metadata": {
        "id": "gn2kXqGtu61V"
      },
      "id": "gn2kXqGtu61V"
    },
    {
      "cell_type": "code",
      "source": [
        "import json\n",
        "import glob\n",
        "\n",
        "# Get ftp download links for raw data with ffq and store results in json file\n",
        "!ffq SRR11777734 SRR11777735 SRR11777736 SRR11777737 SRR11777738 SRR11777739 \\\n",
        "    --ftp \\\n",
        "    -o ffq.json\n",
        "\n",
        "# Load ffq output\n",
        "f = open(\"ffq.json\")\n",
        "data_json = json.load(f)\n",
        "f.close()\n",
        "\n",
        "# Download raw data using FTP links fetched by ffq\n",
        "for dataset in data_json:\n",
        "    url = dataset[\"url\"]\n",
        "    !curl -O $url"
      ],
      "metadata": {
        "id": "4lWqGOymu3mR"
      },
      "id": "4lWqGOymu3mR",
      "execution_count": null,
      "outputs": []
    },
    {
      "cell_type": "markdown",
      "source": [
        "## Download optimized PalmDB reference files\n"
      ],
      "metadata": {
        "id": "VEIPg9MCvGks"
      },
      "id": "VEIPg9MCvGks"
    },
    {
      "cell_type": "code",
      "source": [
        "# Download the ID to taxonomy mapping\n",
        "!wget https://raw.githubusercontent.com/pachterlab/LSCHWCP_2023/main/PalmDB/ID_to_taxonomy_mapping.csv\n",
        "# Download the customized transcripts to gene mapping\n",
        "!wget https://raw.githubusercontent.com/pachterlab/LSCHWCP_2023/main/PalmDB/palmdb_clustered_t2g.txt\n",
        "# Download the RdRP amino acid sequences\n",
        "!wget https://raw.githubusercontent.com/pachterlab/LSCHWCP_2023/main/PalmDB/palmdb_rdrp_seqs.fa"
      ],
      "metadata": {
        "id": "UuczUImGvF_N"
      },
      "id": "UuczUImGvF_N",
      "execution_count": null,
      "outputs": []
    },
    {
      "cell_type": "markdown",
      "source": [
        "## Build virus reference index from PalmDB amino acid sequences and mask host (here, human) sequences\n",
        "You can find the kb manual and tutorials [here](https://www.kallistobus.tools/).\n",
        "\n",
        "The --aa argument tells kb that this is an amino acid reference.\n",
        "\n",
        "The --d-list argument is the path to the host transcriptome. These sequences will be masked in the index. Here, we are using gget to fetch the human genome and transcriptome (release 110).\n",
        "\n",
        "We are using --workflow custom here since we do not have a .gtf file for the PalmDB fasta file.\n",
        "\n",
        "Building the index will take some time (~20 min), since the human genomes is quite large."
      ],
      "metadata": {
        "id": "PXTkKN7evR4J"
      },
      "id": "PXTkKN7evR4J"
    },
    {
      "cell_type": "code",
      "source": [
        "!gget ref -r 110 -w cdna,dna -d human"
      ],
      "metadata": {
        "id": "jPPHwwU_vWiU"
      },
      "id": "jPPHwwU_vWiU",
      "execution_count": null,
      "outputs": []
    },
    {
      "cell_type": "code",
      "source": [
        "# Concatenate human genome and transcriptome into one file\n",
        "!cat Homo_sapiens.GRCh38.cdna.all.fa.gz Homo_sapiens.GRCh38.dna.primary_assembly.fa.gz > Homo_sapiens.GRCh38.cdna_dna.fa.gz"
      ],
      "metadata": {
        "id": "uuq5uBTivYmw"
      },
      "id": "uuq5uBTivYmw",
      "execution_count": null,
      "outputs": []
    },
    {
      "cell_type": "code",
      "source": [
        "%%time\n",
        "!kb ref \\\n",
        "  --workflow custom \\\n",
        "  --aa \\\n",
        "  --d-list Homo_sapiens.GRCh38.cdna_dna.fa.gz \\\n",
        "  -t $threads \\\n",
        "  -i index.idx \\\n",
        "  palmdb_rdrp_seqs.fa"
      ],
      "metadata": {
        "id": "RE7oRTTXwXvr"
      },
      "id": "RE7oRTTXwXvr",
      "execution_count": null,
      "outputs": []
    },
    {
      "cell_type": "markdown",
      "id": "ee93f3f8-767e-41f5-81d2-c52869c22aca",
      "metadata": {
        "id": "ee93f3f8-767e-41f5-81d2-c52869c22aca"
      },
      "source": [
        "## Align data using kallisto translated search"
      ]
    },
    {
      "cell_type": "markdown",
      "id": "406cd27a-0447-4ed5-95cd-58501c604744",
      "metadata": {
        "id": "406cd27a-0447-4ed5-95cd-58501c604744"
      },
      "source": [
        "Get fastq files:"
      ]
    },
    {
      "cell_type": "code",
      "execution_count": null,
      "id": "72860e01-80a3-48eb-824b-42f4f7371cdf",
      "metadata": {
        "id": "72860e01-80a3-48eb-824b-42f4f7371cdf"
      },
      "outputs": [],
      "source": [
        "fastqs = []\n",
        "for filename in glob.glob(\"*.fastq.gz\"):\n",
        "    fastqs.append(filename.split(\"/\")[-1])\n",
        "\n",
        "fastqs.sort()\n",
        "fastqs"
      ]
    },
    {
      "cell_type": "markdown",
      "id": "1123d76f-7f2d-4f87-a720-b7b9f32737b9",
      "metadata": {
        "id": "1123d76f-7f2d-4f87-a720-b7b9f32737b9"
      },
      "source": [
        "Loop over files and align one at a time (alternative: use a batch file to align multiple fastqs at the same time). The `-x` techology tells kb where to find the barcode and UMI in the data. We will treat the SMART-Seq data like bulk data for this validation."
      ]
    },
    {
      "cell_type": "code",
      "execution_count": null,
      "id": "d1595c9f-2d7a-4809-ae2a-94e280999955",
      "metadata": {
        "id": "d1595c9f-2d7a-4809-ae2a-94e280999955"
      },
      "outputs": [],
      "source": [
        "%%time\n",
        "for fastq in fastqs:\n",
        "    sample = fastq.split(\".fastq.gz\")[0]\n",
        "\n",
        "    # !mkdir -p $sample\n",
        "\n",
        "    !kb count \\\n",
        "        --aa \\\n",
        "        -t $threads \\\n",
        "        -i index.idx \\\n",
        "        -g palmdb_clustered_t2g.txt \\\n",
        "        -x bulk \\\n",
        "        --parity single \\\n",
        "        -o $sample \\\n",
        "        $fastq\n",
        "\n",
        "    # !$kallisto bus \\\n",
        "    #         -i index.idx \\\n",
        "    #         -o $sample/ \\\n",
        "    #         --aa \\\n",
        "    #         -t 30 \\\n",
        "    #         -x bulk \\\n",
        "    #         $fastq_folder/$fastq \\\n",
        "    #         &> $sample/kb_out.txt\n",
        "\n",
        "    # !$bustools sort -o $sample/output_sorted.bus $sample/output.bus\n",
        "\n",
        "    # !$bustools count \\\n",
        "    #     --genecounts \\\n",
        "    #     --cm \\\n",
        "    #     -o $sample/bustools_count/ \\\n",
        "    #     -g $virus_t2g \\\n",
        "    #     -e $sample/matrix.ec \\\n",
        "    #     -t $sample/transcripts.txt \\\n",
        "    #     $sample/output_sorted.bus"
      ]
    },
    {
      "cell_type": "markdown",
      "id": "10b4ea62-8ef4-4395-ab7a-a45bb2e722b6",
      "metadata": {
        "id": "10b4ea62-8ef4-4395-ab7a-a45bb2e722b6"
      },
      "source": [
        "## Plot virus counts"
      ]
    },
    {
      "cell_type": "code",
      "execution_count": null,
      "id": "b6172eab-f285-45d9-a9e5-d977a9e3f0c7",
      "metadata": {
        "id": "b6172eab-f285-45d9-a9e5-d977a9e3f0c7"
      },
      "outputs": [],
      "source": [
        "!pip install -q kb_python\n",
        "\n",
        "import kb_python.utils as kb_utils\n",
        "import anndata\n",
        "import numpy as np\n",
        "import pandas as pd\n",
        "import os\n",
        "import matplotlib.pyplot as plt\n",
        "import matplotlib.colors\n",
        "%config InlineBackend.figure_format='retina'\n",
        "\n",
        "def nd(arr):\n",
        "    \"\"\"\n",
        "    Function to transform numpy matrix to nd array.\n",
        "    \"\"\"\n",
        "    return np.asarray(arr).reshape(-1)"
      ]
    },
    {
      "cell_type": "code",
      "execution_count": null,
      "id": "985b66c1-95e6-42a9-93e0-4d3a6130a54f",
      "metadata": {
        "id": "985b66c1-95e6-42a9-93e0-4d3a6130a54f"
      },
      "outputs": [],
      "source": [
        "u_tax_csv = \"ID_to_taxonomy_mapping.csv\""
      ]
    },
    {
      "cell_type": "markdown",
      "id": "6c00b9e7-8f88-4c1c-9d6f-f8f044ce5169",
      "metadata": {
        "id": "6c00b9e7-8f88-4c1c-9d6f-f8f044ce5169"
      },
      "source": [
        "Create adata objects from count matrices:"
      ]
    },
    {
      "cell_type": "code",
      "execution_count": null,
      "id": "36fbfcf2-1259-4e2f-9a87-bac244130b13",
      "metadata": {
        "id": "36fbfcf2-1259-4e2f-9a87-bac244130b13"
      },
      "outputs": [],
      "source": [
        "adatas = []\n",
        "for fastq in fastqs:\n",
        "    # Load data\n",
        "    sample = fastq.split(\".fastq.gz\")[0]\n",
        "\n",
        "    # Filepath to counts\n",
        "    X = f\"{sample}/bustools_count/output.mtx\"\n",
        "    # Filepath to barcode metadata\n",
        "    var_path = f\"{sample}/bustools_count/output.genes.txt\"\n",
        "    # Filepath to gene metadata\n",
        "    obs_path = f\"{sample}/bustools_count/output.barcodes.txt\"\n",
        "\n",
        "    # Create AnnData object\n",
        "    adata = kb_utils.import_matrix_as_anndata(X, obs_path, var_path)\n",
        "\n",
        "    # Add sample name\n",
        "    adata.obs[\"sample\"] = sample\n",
        "\n",
        "    # Append to adata list\n",
        "    adatas.append(adata)"
      ]
    },
    {
      "cell_type": "code",
      "execution_count": null,
      "id": "7e74bf37-ea1f-4a38-b31a-26c1820e5cb4",
      "metadata": {
        "id": "7e74bf37-ea1f-4a38-b31a-26c1820e5cb4"
      },
      "outputs": [],
      "source": [
        "adata = anndata.concat(adatas, merge=\"same\")\n",
        "# Set sample as index\n",
        "adata.obs = adata.obs.set_index(\"sample\")\n",
        "adata.obs"
      ]
    },
    {
      "cell_type": "code",
      "execution_count": null,
      "id": "9f00404b-713d-4e1c-a34a-555958a07637",
      "metadata": {
        "id": "9f00404b-713d-4e1c-a34a-555958a07637"
      },
      "outputs": [],
      "source": [
        "tax_df = pd.read_csv(u_tax_csv)\n",
        "tax_df[tax_df[\"species\"].str.contains(\"Severe acute respiratory syndrome\")]"
      ]
    },
    {
      "cell_type": "code",
      "execution_count": null,
      "id": "ee39163d-3f40-41fa-be8c-0b68ed7123b7",
      "metadata": {
        "id": "ee39163d-3f40-41fa-be8c-0b68ed7123b7"
      },
      "outputs": [],
      "source": [
        "fig, ax = plt.subplots(figsize=(6, 7))\n",
        "fontsize = 16\n",
        "width = 0.75\n",
        "\n",
        "x_labels = ['Infected 1', 'Infected 2', 'Infected 3', 'Control 1', 'Control 2', 'Control 3']\n",
        "\n",
        "target_ids = tax_df[tax_df[\"species\"].str.contains(\"Severe acute respiratory syndrome-related coronavirus\")][\"rep_ID\"].unique()\n",
        "\n",
        "counts = []\n",
        "samples = adata.obs.index.values\n",
        "labels = samples\n",
        "for sample in samples:\n",
        "    counts.append(adata.X[adata.obs.index == sample, adata.var.index.isin(target_ids)].sum())\n",
        "\n",
        "x = np.arange(len(labels))\n",
        "\n",
        "ax.bar(x, counts, width=width, color=\"#003049\", edgecolor=\"black\")\n",
        "\n",
        "ax.set_yscale(\"symlog\")\n",
        "ax.set_ylabel(\"kallisto (raw counts for SARS-CoV)\", fontsize=fontsize)\n",
        "# ax.set_xlabel(\"Sample\", fontsize=fontsize)\n",
        "\n",
        "ax.set_xticks(x, x_labels, rotation=45, ha=\"right\")\n",
        "\n",
        "ax.tick_params(axis=\"both\", labelsize=fontsize)\n",
        "ax.set_title(f\"SARS-CoV-2 infected human\\niPSC-derived cardiomyocytes\", fontsize=fontsize+2)\n",
        "\n",
        "ax.grid(True, which=\"both\", color=\"lightgray\", ls=\"--\", lw=1)\n",
        "ax.set_axisbelow(True)\n",
        "\n",
        "# plt.tight_layout()\n",
        "\n",
        "plt.savefig(\"smartseq_benchmark_PRJNA631969.png\", dpi=300, bbox_inches=\"tight\")\n",
        "\n",
        "fig.show()"
      ]
    },
    {
      "cell_type": "code",
      "execution_count": null,
      "id": "5c641597-84d8-4188-aab9-6e8acec1f886",
      "metadata": {
        "id": "5c641597-84d8-4188-aab9-6e8acec1f886"
      },
      "outputs": [],
      "source": [
        "counts"
      ]
    },
    {
      "cell_type": "code",
      "execution_count": null,
      "id": "416e45a5-03b8-46a2-a66e-8267eb468996",
      "metadata": {
        "id": "416e45a5-03b8-46a2-a66e-8267eb468996"
      },
      "outputs": [],
      "source": []
    }
  ],
  "metadata": {
    "kernelspec": {
      "display_name": "Python 3",
      "name": "python3"
    },
    "language_info": {
      "codemirror_mode": {
        "name": "ipython",
        "version": 3
      },
      "file_extension": ".py",
      "mimetype": "text/x-python",
      "name": "python",
      "nbconvert_exporter": "python",
      "pygments_lexer": "ipython3",
      "version": "3.9.12"
    },
    "colab": {
      "provenance": [],
      "include_colab_link": true
    },
    "accelerator": "TPU"
  },
  "nbformat": 4,
  "nbformat_minor": 5
}