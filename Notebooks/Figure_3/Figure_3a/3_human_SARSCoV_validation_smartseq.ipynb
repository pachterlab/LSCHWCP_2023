{
  "cells": [
    {
      "cell_type": "markdown",
      "metadata": {
        "id": "view-in-github",
        "colab_type": "text"
      },
      "source": [
        "<a href=\"https://colab.research.google.com/github/pachterlab/LSCHWCP_2023/blob/main/Notebooks/Figure_3/Figure_3a/3_human_SARSCoV_validation_smartseq.ipynb\" target=\"_parent\"><img src=\"https://colab.research.google.com/assets/colab-badge.svg\" alt=\"Open In Colab\"/></a>"
      ]
    },
    {
      "cell_type": "markdown",
      "id": "37a561e5-b013-42ff-b94f-7007bd633bd2",
      "metadata": {
        "id": "37a561e5-b013-42ff-b94f-7007bd633bd2"
      },
      "source": [
        "# Validation using SARS-CoV2 infected human iPSC derived cardiomyocytes\n",
        "Data from https://www.cell.com/cell-reports-medicine/pdf/S2666-3791(20)30068-9.pdf:"
      ]
    },
    {
      "cell_type": "code",
      "source": [
        "# Number of threads to use during alignments\n",
        "threads = 2"
      ],
      "metadata": {
        "id": "4EVJ3SlWvlGj"
      },
      "id": "4EVJ3SlWvlGj",
      "execution_count": 1,
      "outputs": []
    },
    {
      "cell_type": "markdown",
      "source": [
        "## Install software"
      ],
      "metadata": {
        "id": "RNYivNJNu0uY"
      },
      "id": "RNYivNJNu0uY"
    },
    {
      "cell_type": "code",
      "source": [
        "!pip install -q ffq gget kb_python"
      ],
      "metadata": {
        "id": "QrbcPl9Lu0SA",
        "outputId": "ec2fc7ae-4911-41b4-abe0-164cc7c8e552",
        "colab": {
          "base_uri": "https://localhost:8080/"
        }
      },
      "id": "QrbcPl9Lu0SA",
      "execution_count": 2,
      "outputs": [
        {
          "output_type": "stream",
          "name": "stdout",
          "text": [
            "\u001b[2K     \u001b[90m━━━━━━━━━━━━━━━━━━━━━━━━━━━━━━━━━━━━━━━━\u001b[0m \u001b[32m43.1/43.1 MB\u001b[0m \u001b[31m16.1 MB/s\u001b[0m eta \u001b[36m0:00:00\u001b[0m\n",
            "\u001b[2K     \u001b[90m━━━━━━━━━━━━━━━━━━━━━━━━━━━━━━━━━━━━━━━━\u001b[0m \u001b[32m13.1/13.1 MB\u001b[0m \u001b[31m65.1 MB/s\u001b[0m eta \u001b[36m0:00:00\u001b[0m\n",
            "\u001b[2K     \u001b[90m━━━━━━━━━━━━━━━━━━━━━━━━━━━━━━━━━━━━━━━━\u001b[0m \u001b[32m25.2/25.2 MB\u001b[0m \u001b[31m44.0 MB/s\u001b[0m eta \u001b[36m0:00:00\u001b[0m\n",
            "\u001b[2K     \u001b[90m━━━━━━━━━━━━━━━━━━━━━━━━━━━━━━━━━━━━━━━━\u001b[0m \u001b[32m119.2/119.2 kB\u001b[0m \u001b[31m12.3 MB/s\u001b[0m eta \u001b[36m0:00:00\u001b[0m\n",
            "\u001b[2K     \u001b[90m━━━━━━━━━━━━━━━━━━━━━━━━━━━━━━━━━━━━━━━━\u001b[0m \u001b[32m4.8/4.8 MB\u001b[0m \u001b[31m70.9 MB/s\u001b[0m eta \u001b[36m0:00:00\u001b[0m\n",
            "\u001b[?25h  Preparing metadata (setup.py) ... \u001b[?25l\u001b[?25hdone\n",
            "\u001b[2K     \u001b[90m━━━━━━━━━━━━━━━━━━━━━━━━━━━━━━━━━━━━━━━━\u001b[0m \u001b[32m45.2/45.2 MB\u001b[0m \u001b[31m6.9 MB/s\u001b[0m eta \u001b[36m0:00:00\u001b[0m\n",
            "\u001b[2K     \u001b[90m━━━━━━━━━━━━━━━━━━━━━━━━━━━━━━━━━━━━━━━━\u001b[0m \u001b[32m2.0/2.0 MB\u001b[0m \u001b[31m47.8 MB/s\u001b[0m eta \u001b[36m0:00:00\u001b[0m\n",
            "\u001b[2K     \u001b[90m━━━━━━━━━━━━━━━━━━━━━━━━━━━━━━━━━━━━━━━━\u001b[0m \u001b[32m21.9/21.9 MB\u001b[0m \u001b[31m62.5 MB/s\u001b[0m eta \u001b[36m0:00:00\u001b[0m\n",
            "\u001b[?25h  Preparing metadata (setup.py) ... \u001b[?25l\u001b[?25hdone\n",
            "\u001b[2K     \u001b[90m━━━━━━━━━━━━━━━━━━━━━━━━━━━━━━━━━━━━━━━━\u001b[0m \u001b[32m90.9/90.9 kB\u001b[0m \u001b[31m10.9 MB/s\u001b[0m eta \u001b[36m0:00:00\u001b[0m\n",
            "\u001b[?25h  Preparing metadata (setup.py) ... \u001b[?25l\u001b[?25hdone\n",
            "\u001b[2K     \u001b[90m━━━━━━━━━━━━━━━━━━━━━━━━━━━━━━━━━━━━━━━━\u001b[0m \u001b[32m1.6/1.6 MB\u001b[0m \u001b[31m84.1 MB/s\u001b[0m eta \u001b[36m0:00:00\u001b[0m\n",
            "\u001b[2K     \u001b[90m━━━━━━━━━━━━━━━━━━━━━━━━━━━━━━━━━━━━━━━━\u001b[0m \u001b[32m55.8/55.8 kB\u001b[0m \u001b[31m7.4 MB/s\u001b[0m eta \u001b[36m0:00:00\u001b[0m\n",
            "\u001b[2K     \u001b[90m━━━━━━━━━━━━━━━━━━━━━━━━━━━━━━━━━━━━━━━━\u001b[0m \u001b[32m79.8/79.8 kB\u001b[0m \u001b[31m9.7 MB/s\u001b[0m eta \u001b[36m0:00:00\u001b[0m\n",
            "\u001b[?25h  Building wheel for loompy (setup.py) ... \u001b[?25l\u001b[?25hdone\n",
            "  Building wheel for umap-learn (setup.py) ... \u001b[?25l\u001b[?25hdone\n",
            "  Building wheel for session-info (setup.py) ... \u001b[?25l\u001b[?25hdone\n"
          ]
        }
      ]
    },
    {
      "cell_type": "markdown",
      "source": [
        "## Download SMART-Seq data"
      ],
      "metadata": {
        "id": "gn2kXqGtu61V"
      },
      "id": "gn2kXqGtu61V"
    },
    {
      "cell_type": "code",
      "source": [
        "import json\n",
        "import glob\n",
        "\n",
        "# Get ftp download links for raw data with ffq and store results in json file\n",
        "!ffq SRR11777734 SRR11777735 SRR11777736 SRR11777737 SRR11777738 SRR11777739 \\\n",
        "    --ftp \\\n",
        "    -o ffq.json\n",
        "\n",
        "# Load ffq output\n",
        "f = open(\"ffq.json\")\n",
        "data_json = json.load(f)\n",
        "f.close()\n",
        "\n",
        "# Download raw data using FTP links fetched by ffq\n",
        "for dataset in data_json:\n",
        "    url = dataset[\"url\"]\n",
        "    !curl -O $url"
      ],
      "metadata": {
        "id": "4lWqGOymu3mR",
        "outputId": "096cf32f-32a0-462b-cdb6-bb6cd46b324e",
        "colab": {
          "base_uri": "https://localhost:8080/"
        }
      },
      "id": "4lWqGOymu3mR",
      "execution_count": 3,
      "outputs": [
        {
          "output_type": "stream",
          "name": "stdout",
          "text": [
            "[2023-12-10 06:14:50,174]    INFO Parsing run SRR11777734\n",
            "[2023-12-10 06:14:52,390]    INFO Parsing run SRR11777735\n",
            "[2023-12-10 06:14:54,659]    INFO Parsing run SRR11777736\n",
            "[2023-12-10 06:14:56,933]    INFO Parsing run SRR11777737\n",
            "[2023-12-10 06:14:58,844]    INFO Parsing run SRR11777738\n",
            "[2023-12-10 06:15:00,906]    INFO Parsing run SRR11777739\n",
            "  % Total    % Received % Xferd  Average Speed   Time    Time     Time  Current\n",
            "                                 Dload  Upload   Total   Spent    Left  Speed\n",
            "100 2962M  100 2962M    0     0  43.4M      0  0:01:08  0:01:08 --:--:-- 43.9M\n",
            "  % Total    % Received % Xferd  Average Speed   Time    Time     Time  Current\n",
            "                                 Dload  Upload   Total   Spent    Left  Speed\n",
            "100 2634M  100 2634M    0     0  38.6M      0  0:01:08  0:01:08 --:--:-- 39.3M\n",
            "  % Total    % Received % Xferd  Average Speed   Time    Time     Time  Current\n",
            "                                 Dload  Upload   Total   Spent    Left  Speed\n",
            "100 2484M  100 2484M    0     0  38.2M      0  0:01:04  0:01:04 --:--:-- 39.2M\n",
            "  % Total    % Received % Xferd  Average Speed   Time    Time     Time  Current\n",
            "                                 Dload  Upload   Total   Spent    Left  Speed\n",
            "100 3018M  100 3018M    0     0  38.6M      0  0:01:18  0:01:18 --:--:-- 38.9M\n",
            "  % Total    % Received % Xferd  Average Speed   Time    Time     Time  Current\n",
            "                                 Dload  Upload   Total   Spent    Left  Speed\n",
            "100 3737M  100 3737M    0     0  39.0M      0  0:01:35  0:01:35 --:--:-- 39.6M\n",
            "  % Total    % Received % Xferd  Average Speed   Time    Time     Time  Current\n",
            "                                 Dload  Upload   Total   Spent    Left  Speed\n",
            "100 3152M  100 3152M    0     0  43.5M      0  0:01:12  0:01:12 --:--:-- 44.3M\n"
          ]
        }
      ]
    },
    {
      "cell_type": "markdown",
      "source": [
        "## Download optimized PalmDB reference files\n"
      ],
      "metadata": {
        "id": "VEIPg9MCvGks"
      },
      "id": "VEIPg9MCvGks"
    },
    {
      "cell_type": "code",
      "source": [
        "# Download the ID to taxonomy mapping\n",
        "!wget https://raw.githubusercontent.com/pachterlab/LSCHWCP_2023/main/PalmDB/ID_to_taxonomy_mapping.csv\n",
        "# Download the customized transcripts to gene mapping\n",
        "!wget https://raw.githubusercontent.com/pachterlab/LSCHWCP_2023/main/PalmDB/palmdb_clustered_t2g.txt\n",
        "# Download the RdRP amino acid sequences\n",
        "!wget https://raw.githubusercontent.com/pachterlab/LSCHWCP_2023/main/PalmDB/palmdb_rdrp_seqs.fa"
      ],
      "metadata": {
        "id": "UuczUImGvF_N",
        "outputId": "f5811576-92c1-4c4a-a30e-27817ca7b7df",
        "colab": {
          "base_uri": "https://localhost:8080/"
        }
      },
      "id": "UuczUImGvF_N",
      "execution_count": 4,
      "outputs": [
        {
          "output_type": "stream",
          "name": "stdout",
          "text": [
            "--2023-12-10 06:22:31--  https://raw.githubusercontent.com/pachterlab/LSCHWCP_2023/main/PalmDB/ID_to_taxonomy_mapping.csv\n",
            "Resolving raw.githubusercontent.com (raw.githubusercontent.com)... 185.199.108.133, 185.199.109.133, 185.199.110.133, ...\n",
            "Connecting to raw.githubusercontent.com (raw.githubusercontent.com)|185.199.108.133|:443... connected.\n",
            "HTTP request sent, awaiting response... 200 OK\n",
            "Length: 19705497 (19M) [text/plain]\n",
            "Saving to: ‘ID_to_taxonomy_mapping.csv’\n",
            "\n",
            "ID_to_taxonomy_mapp 100%[===================>]  18.79M  --.-KB/s    in 0.1s    \n",
            "\n",
            "2023-12-10 06:22:31 (148 MB/s) - ‘ID_to_taxonomy_mapping.csv’ saved [19705497/19705497]\n",
            "\n",
            "--2023-12-10 06:22:31--  https://raw.githubusercontent.com/pachterlab/LSCHWCP_2023/main/PalmDB/palmdb_clustered_t2g.txt\n",
            "Resolving raw.githubusercontent.com (raw.githubusercontent.com)... 185.199.108.133, 185.199.110.133, 185.199.109.133, ...\n",
            "Connecting to raw.githubusercontent.com (raw.githubusercontent.com)|185.199.108.133|:443... connected.\n",
            "HTTP request sent, awaiting response... 200 OK\n",
            "Length: 4561689 (4.3M) [text/plain]\n",
            "Saving to: ‘palmdb_clustered_t2g.txt’\n",
            "\n",
            "palmdb_clustered_t2 100%[===================>]   4.35M  --.-KB/s    in 0.08s   \n",
            "\n",
            "2023-12-10 06:22:31 (53.2 MB/s) - ‘palmdb_clustered_t2g.txt’ saved [4561689/4561689]\n",
            "\n",
            "--2023-12-10 06:22:31--  https://raw.githubusercontent.com/pachterlab/LSCHWCP_2023/main/PalmDB/palmdb_rdrp_seqs.fa\n",
            "Resolving raw.githubusercontent.com (raw.githubusercontent.com)... 185.199.110.133, 185.199.108.133, 185.199.109.133, ...\n",
            "Connecting to raw.githubusercontent.com (raw.githubusercontent.com)|185.199.110.133|:443... connected.\n",
            "HTTP request sent, awaiting response... 200 OK\n",
            "Length: 35361991 (34M) [text/plain]\n",
            "Saving to: ‘palmdb_rdrp_seqs.fa’\n",
            "\n",
            "palmdb_rdrp_seqs.fa 100%[===================>]  33.72M   210MB/s    in 0.2s    \n",
            "\n",
            "2023-12-10 06:22:31 (210 MB/s) - ‘palmdb_rdrp_seqs.fa’ saved [35361991/35361991]\n",
            "\n"
          ]
        }
      ]
    },
    {
      "cell_type": "markdown",
      "source": [
        "## Build virus reference index from PalmDB amino acid sequences and mask host (here, human) sequences\n",
        "You can find the kb manual and tutorials [here](https://www.kallistobus.tools/).\n",
        "\n",
        "The --aa argument tells kb that this is an amino acid reference.\n",
        "\n",
        "The --d-list argument is the path to the host transcriptome. These sequences will be masked in the index. Here, we are using gget to fetch the human genome and transcriptome (release 110).\n",
        "\n",
        "We are using --workflow custom here since we do not have a .gtf file for the PalmDB fasta file.\n",
        "\n",
        "Building the index will take some time (~20 min), since the human genomes is quite large."
      ],
      "metadata": {
        "id": "PXTkKN7evR4J"
      },
      "id": "PXTkKN7evR4J"
    },
    {
      "cell_type": "code",
      "source": [
        "!gget ref -r 110 -w cdna,dna -d human"
      ],
      "metadata": {
        "id": "jPPHwwU_vWiU",
        "outputId": "129cad39-0ac0-40a9-c903-46d754072642",
        "colab": {
          "base_uri": "https://localhost:8080/"
        }
      },
      "id": "jPPHwwU_vWiU",
      "execution_count": 5,
      "outputs": [
        {
          "output_type": "stream",
          "name": "stdout",
          "text": [
            "Sun Dec 10 06:22:41 2023 INFO Fetching reference information for homo_sapiens from Ensembl release: 110.\n",
            "{\n",
            "    \"homo_sapiens\": {\n",
            "        \"transcriptome_cdna\": {\n",
            "            \"ftp\": \"http://ftp.ensembl.org/pub/release-110/fasta/homo_sapiens/cdna/Homo_sapiens.GRCh38.cdna.all.fa.gz\",\n",
            "            \"ensembl_release\": 110,\n",
            "            \"release_date\": \"2023-04-22\",\n",
            "            \"release_time\": \"04:25\",\n",
            "            \"bytes\": \"75M\"\n",
            "        },\n",
            "        \"genome_dna\": {\n",
            "            \"ftp\": \"http://ftp.ensembl.org/pub/release-110/fasta/homo_sapiens/dna/Homo_sapiens.GRCh38.dna.primary_assembly.fa.gz\",\n",
            "            \"ensembl_release\": 110,\n",
            "            \"release_date\": \"2023-04-21\",\n",
            "            \"release_time\": \"17:28\",\n",
            "            \"bytes\": \"841M\"\n",
            "        }\n",
            "    }\n",
            "}\n",
            "  % Total    % Received % Xferd  Average Speed   Time    Time     Time  Current\n",
            "                                 Dload  Upload   Total   Spent    Left  Speed\n",
            "100 75.2M  100 75.2M    0     0   631k      0  0:02:02  0:02:02 --:--:--  642k\n",
            "  % Total    % Received % Xferd  Average Speed   Time    Time     Time  Current\n",
            "                                 Dload  Upload   Total   Spent    Left  Speed\n",
            "100  841M  100  841M    0     0   633k      0  0:22:38  0:22:38 --:--:--  641k\n"
          ]
        }
      ]
    },
    {
      "cell_type": "code",
      "source": [
        "# Concatenate human genome and transcriptome into one file\n",
        "!cat Homo_sapiens.GRCh38.cdna.all.fa.gz Homo_sapiens.GRCh38.dna.primary_assembly.fa.gz > Homo_sapiens.GRCh38.cdna_dna.fa.gz"
      ],
      "metadata": {
        "id": "uuq5uBTivYmw"
      },
      "id": "uuq5uBTivYmw",
      "execution_count": 6,
      "outputs": []
    },
    {
      "cell_type": "code",
      "source": [
        "%%time\n",
        "!kb ref \\\n",
        "  --workflow custom \\\n",
        "  --aa \\\n",
        "  --d-list Homo_sapiens.GRCh38.cdna_dna.fa.gz \\\n",
        "  -t $threads \\\n",
        "  -i index.idx \\\n",
        "  palmdb_rdrp_seqs.fa"
      ],
      "metadata": {
        "id": "RE7oRTTXwXvr",
        "colab": {
          "base_uri": "https://localhost:8080/"
        },
        "outputId": "88998442-3706-42a0-c1f5-6c74e624d434"
      },
      "id": "RE7oRTTXwXvr",
      "execution_count": 7,
      "outputs": [
        {
          "output_type": "stream",
          "name": "stdout",
          "text": [
            "[2023-12-10 06:47:34,237]    INFO [ref_custom] Indexing palmdb_rdrp_seqs.fa to index.idx\n",
            "[2023-12-10 08:38:30,360]    INFO [ref_custom] Finished creating custom index\n",
            "CPU times: user 30.5 s, sys: 3.88 s, total: 34.3 s\n",
            "Wall time: 1h 51min 7s\n"
          ]
        }
      ]
    },
    {
      "cell_type": "markdown",
      "id": "ee93f3f8-767e-41f5-81d2-c52869c22aca",
      "metadata": {
        "id": "ee93f3f8-767e-41f5-81d2-c52869c22aca"
      },
      "source": [
        "## Align data using kallisto translated search"
      ]
    },
    {
      "cell_type": "markdown",
      "id": "406cd27a-0447-4ed5-95cd-58501c604744",
      "metadata": {
        "id": "406cd27a-0447-4ed5-95cd-58501c604744"
      },
      "source": [
        "Get fastq files:"
      ]
    },
    {
      "cell_type": "code",
      "execution_count": 8,
      "id": "72860e01-80a3-48eb-824b-42f4f7371cdf",
      "metadata": {
        "id": "72860e01-80a3-48eb-824b-42f4f7371cdf",
        "colab": {
          "base_uri": "https://localhost:8080/"
        },
        "outputId": "d414599d-abde-4152-e30d-434007142cac"
      },
      "outputs": [
        {
          "output_type": "execute_result",
          "data": {
            "text/plain": [
              "['SRR11777734.fastq.gz',\n",
              " 'SRR11777735.fastq.gz',\n",
              " 'SRR11777736.fastq.gz',\n",
              " 'SRR11777737.fastq.gz',\n",
              " 'SRR11777738.fastq.gz',\n",
              " 'SRR11777739.fastq.gz']"
            ]
          },
          "metadata": {},
          "execution_count": 8
        }
      ],
      "source": [
        "fastqs = []\n",
        "for filename in glob.glob(\"*.fastq.gz\"):\n",
        "    fastqs.append(filename.split(\"/\")[-1])\n",
        "\n",
        "fastqs.sort()\n",
        "fastqs"
      ]
    },
    {
      "cell_type": "markdown",
      "id": "1123d76f-7f2d-4f87-a720-b7b9f32737b9",
      "metadata": {
        "id": "1123d76f-7f2d-4f87-a720-b7b9f32737b9"
      },
      "source": [
        "Loop over files and align one at a time (alternative: use a batch file to align multiple fastqs at the same time). The `-x` techology tells kb where to find the barcode and UMI in the data. We will treat the SMART-Seq data like bulk data for this validation."
      ]
    },
    {
      "cell_type": "code",
      "execution_count": 9,
      "id": "d1595c9f-2d7a-4809-ae2a-94e280999955",
      "metadata": {
        "id": "d1595c9f-2d7a-4809-ae2a-94e280999955",
        "outputId": "85603be4-a3f0-4099-fd8b-d9486a141f76",
        "colab": {
          "base_uri": "https://localhost:8080/"
        }
      },
      "outputs": [
        {
          "output_type": "stream",
          "name": "stdout",
          "text": [
            "[2023-12-10 08:38:43,447]    INFO [count] Using index index.idx to generate BUS file to SRR11777734 from\n",
            "[2023-12-10 08:38:43,447]    INFO [count]         SRR11777734.fastq.gz\n",
            "[2023-12-10 10:45:42,789]    INFO [count] Sorting BUS file SRR11777734/output.bus to SRR11777734/tmp/output.s.bus\n",
            "[2023-12-10 10:45:44,993]    INFO [count] Inspecting BUS file SRR11777734/tmp/output.s.bus\n",
            "[2023-12-10 10:45:46,096]    INFO [count] Generating count matrix SRR11777734/counts_unfiltered/cells_x_genes from BUS file SRR11777734/tmp/output.s.bus\n",
            "[2023-12-10 10:45:47,705]    INFO [count] Writing gene names to file SRR11777734/counts_unfiltered/cells_x_genes.genes.names.txt\n",
            "[2023-12-10 10:45:47,983] WARNING [count] 99228 gene IDs do not have corresponding valid gene names. These genes will use their gene IDs instead.\n",
            "[2023-12-10 10:45:57,028]    INFO [count] Using index index.idx to generate BUS file to SRR11777735 from\n",
            "[2023-12-10 10:45:57,028]    INFO [count]         SRR11777735.fastq.gz\n",
            "[2023-12-10 12:37:31,741]    INFO [count] Sorting BUS file SRR11777735/output.bus to SRR11777735/tmp/output.s.bus\n",
            "[2023-12-10 12:37:34,361]    INFO [count] Inspecting BUS file SRR11777735/tmp/output.s.bus\n",
            "[2023-12-10 12:37:35,463]    INFO [count] Generating count matrix SRR11777735/counts_unfiltered/cells_x_genes from BUS file SRR11777735/tmp/output.s.bus\n",
            "[2023-12-10 12:37:36,967]    INFO [count] Writing gene names to file SRR11777735/counts_unfiltered/cells_x_genes.genes.names.txt\n",
            "[2023-12-10 12:37:37,245] WARNING [count] 99228 gene IDs do not have corresponding valid gene names. These genes will use their gene IDs instead.\n",
            "[2023-12-10 12:37:46,592]    INFO [count] Using index index.idx to generate BUS file to SRR11777736 from\n",
            "[2023-12-10 12:37:46,592]    INFO [count]         SRR11777736.fastq.gz\n",
            "[2023-12-10 14:24:12,708]    INFO [count] Sorting BUS file SRR11777736/output.bus to SRR11777736/tmp/output.s.bus\n",
            "[2023-12-10 14:24:14,913]    INFO [count] Inspecting BUS file SRR11777736/tmp/output.s.bus\n",
            "[2023-12-10 14:24:16,015]    INFO [count] Generating count matrix SRR11777736/counts_unfiltered/cells_x_genes from BUS file SRR11777736/tmp/output.s.bus\n",
            "[2023-12-10 14:24:17,719]    INFO [count] Writing gene names to file SRR11777736/counts_unfiltered/cells_x_genes.genes.names.txt\n",
            "[2023-12-10 14:24:18,227] WARNING [count] 99228 gene IDs do not have corresponding valid gene names. These genes will use their gene IDs instead.\n",
            "[2023-12-10 14:24:26,707]    INFO [count] Using index index.idx to generate BUS file to SRR11777737 from\n",
            "[2023-12-10 14:24:26,707]    INFO [count]         SRR11777737.fastq.gz\n",
            "[2023-12-10 16:24:30,875]    INFO [count] Sorting BUS file SRR11777737/output.bus to SRR11777737/tmp/output.s.bus\n",
            "[2023-12-10 16:24:33,480]    INFO [count] Inspecting BUS file SRR11777737/tmp/output.s.bus\n",
            "[2023-12-10 16:24:34,501]    INFO [count] Generating count matrix SRR11777737/counts_unfiltered/cells_x_genes from BUS file SRR11777737/tmp/output.s.bus\n",
            "[2023-12-10 16:24:35,905]    INFO [count] Writing gene names to file SRR11777737/counts_unfiltered/cells_x_genes.genes.names.txt\n",
            "[2023-12-10 16:24:36,170] WARNING [count] 99228 gene IDs do not have corresponding valid gene names. These genes will use their gene IDs instead.\n",
            "[2023-12-10 16:24:45,150]    INFO [count] Using index index.idx to generate BUS file to SRR11777738 from\n",
            "[2023-12-10 16:24:45,150]    INFO [count]         SRR11777738.fastq.gz\n",
            "[2023-12-10 18:58:08,527]    INFO [count] Sorting BUS file SRR11777738/output.bus to SRR11777738/tmp/output.s.bus\n",
            "[2023-12-10 18:58:10,835]    INFO [count] Inspecting BUS file SRR11777738/tmp/output.s.bus\n",
            "[2023-12-10 18:58:11,938]    INFO [count] Generating count matrix SRR11777738/counts_unfiltered/cells_x_genes from BUS file SRR11777738/tmp/output.s.bus\n",
            "[2023-12-10 18:58:13,442]    INFO [count] Writing gene names to file SRR11777738/counts_unfiltered/cells_x_genes.genes.names.txt\n",
            "[2023-12-10 18:58:13,717] WARNING [count] 99228 gene IDs do not have corresponding valid gene names. These genes will use their gene IDs instead.\n",
            "[2023-12-10 18:58:23,137]    INFO [count] Using index index.idx to generate BUS file to SRR11777739 from\n",
            "[2023-12-10 18:58:23,137]    INFO [count]         SRR11777739.fastq.gz\n",
            "[2023-12-10 21:08:05,323]    INFO [count] Sorting BUS file SRR11777739/output.bus to SRR11777739/tmp/output.s.bus\n",
            "[2023-12-10 21:08:07,528]    INFO [count] Inspecting BUS file SRR11777739/tmp/output.s.bus\n",
            "[2023-12-10 21:08:08,630]    INFO [count] Generating count matrix SRR11777739/counts_unfiltered/cells_x_genes from BUS file SRR11777739/tmp/output.s.bus\n",
            "[2023-12-10 21:08:10,134]    INFO [count] Writing gene names to file SRR11777739/counts_unfiltered/cells_x_genes.genes.names.txt\n",
            "[2023-12-10 21:08:10,418] WARNING [count] 99228 gene IDs do not have corresponding valid gene names. These genes will use their gene IDs instead.\n",
            "CPU times: user 3min 11s, sys: 25.9 s, total: 3min 37s\n",
            "Wall time: 12h 29min 38s\n"
          ]
        }
      ],
      "source": [
        "%%time\n",
        "for fastq in fastqs:\n",
        "    sample = fastq.split(\".fastq.gz\")[0]\n",
        "\n",
        "    !kb count \\\n",
        "        --aa \\\n",
        "        -t $threads \\\n",
        "        -i index.idx \\\n",
        "        -g palmdb_clustered_t2g.txt \\\n",
        "        -x bulk \\\n",
        "        --parity single \\\n",
        "        -o $sample \\\n",
        "        $fastq"
      ]
    },
    {
      "cell_type": "markdown",
      "id": "10b4ea62-8ef4-4395-ab7a-a45bb2e722b6",
      "metadata": {
        "id": "10b4ea62-8ef4-4395-ab7a-a45bb2e722b6"
      },
      "source": [
        "## Plot virus counts"
      ]
    },
    {
      "cell_type": "code",
      "execution_count": 10,
      "id": "b6172eab-f285-45d9-a9e5-d977a9e3f0c7",
      "metadata": {
        "id": "b6172eab-f285-45d9-a9e5-d977a9e3f0c7"
      },
      "outputs": [],
      "source": [
        "!pip install -q kb_python\n",
        "\n",
        "import kb_python.utils as kb_utils\n",
        "import anndata\n",
        "import numpy as np\n",
        "import pandas as pd\n",
        "import os\n",
        "import matplotlib.pyplot as plt\n",
        "import matplotlib.colors\n",
        "%config InlineBackend.figure_format='retina'\n",
        "\n",
        "def nd(arr):\n",
        "    \"\"\"\n",
        "    Function to transform numpy matrix to nd array.\n",
        "    \"\"\"\n",
        "    return np.asarray(arr).reshape(-1)"
      ]
    },
    {
      "cell_type": "code",
      "execution_count": 11,
      "id": "985b66c1-95e6-42a9-93e0-4d3a6130a54f",
      "metadata": {
        "id": "985b66c1-95e6-42a9-93e0-4d3a6130a54f"
      },
      "outputs": [],
      "source": [
        "u_tax_csv = \"ID_to_taxonomy_mapping.csv\""
      ]
    },
    {
      "cell_type": "markdown",
      "id": "6c00b9e7-8f88-4c1c-9d6f-f8f044ce5169",
      "metadata": {
        "id": "6c00b9e7-8f88-4c1c-9d6f-f8f044ce5169"
      },
      "source": [
        "Create adata objects from count matrices (since we did not use the `--h5ad` argument when running `kb count`, we will construct the AnnData objects from the raw matrix files):"
      ]
    },
    {
      "cell_type": "code",
      "execution_count": 13,
      "id": "36fbfcf2-1259-4e2f-9a87-bac244130b13",
      "metadata": {
        "id": "36fbfcf2-1259-4e2f-9a87-bac244130b13"
      },
      "outputs": [],
      "source": [
        "adatas = []\n",
        "for fastq in fastqs:\n",
        "    # Load data\n",
        "    sample = fastq.split(\".fastq.gz\")[0]\n",
        "\n",
        "    # Filepath to counts\n",
        "    X = f\"{sample}/counts_unfiltered/cells_x_genes.mtx\"\n",
        "    # Filepath to barcode metadata\n",
        "    var_path = f\"{sample}/counts_unfiltered/cells_x_genes.genes.txt\"\n",
        "    # Filepath to gene metadata\n",
        "    obs_path = f\"{sample}/counts_unfiltered/cells_x_genes.barcodes.txt\"\n",
        "\n",
        "    # Create AnnData object\n",
        "    adata = kb_utils.import_matrix_as_anndata(X, obs_path, var_path)\n",
        "\n",
        "    # Add sample name\n",
        "    adata.obs[\"sample\"] = sample\n",
        "\n",
        "    # Append to adata list\n",
        "    adatas.append(adata)"
      ]
    },
    {
      "cell_type": "code",
      "execution_count": 14,
      "id": "7e74bf37-ea1f-4a38-b31a-26c1820e5cb4",
      "metadata": {
        "id": "7e74bf37-ea1f-4a38-b31a-26c1820e5cb4",
        "outputId": "7e0817d3-373e-4cb2-f6d1-27d4fdc005a6",
        "colab": {
          "base_uri": "https://localhost:8080/",
          "height": 307
        }
      },
      "outputs": [
        {
          "output_type": "stream",
          "name": "stderr",
          "text": [
            "/usr/local/lib/python3.10/dist-packages/anndata/_core/anndata.py:1897: UserWarning: Observation names are not unique. To make them unique, call `.obs_names_make_unique`.\n",
            "  utils.warn_names_duplicates(\"obs\")\n"
          ]
        },
        {
          "output_type": "execute_result",
          "data": {
            "text/plain": [
              "Empty DataFrame\n",
              "Columns: []\n",
              "Index: [SRR11777734, SRR11777735, SRR11777736, SRR11777737, SRR11777738, SRR11777739]"
            ],
            "text/html": [
              "\n",
              "  <div id=\"df-ec98e0fe-65ef-4bbe-8f29-88bfe57ae71e\" class=\"colab-df-container\">\n",
              "    <div>\n",
              "<style scoped>\n",
              "    .dataframe tbody tr th:only-of-type {\n",
              "        vertical-align: middle;\n",
              "    }\n",
              "\n",
              "    .dataframe tbody tr th {\n",
              "        vertical-align: top;\n",
              "    }\n",
              "\n",
              "    .dataframe thead th {\n",
              "        text-align: right;\n",
              "    }\n",
              "</style>\n",
              "<table border=\"1\" class=\"dataframe\">\n",
              "  <thead>\n",
              "    <tr style=\"text-align: right;\">\n",
              "      <th></th>\n",
              "    </tr>\n",
              "    <tr>\n",
              "      <th>sample</th>\n",
              "    </tr>\n",
              "  </thead>\n",
              "  <tbody>\n",
              "    <tr>\n",
              "      <th>SRR11777734</th>\n",
              "    </tr>\n",
              "    <tr>\n",
              "      <th>SRR11777735</th>\n",
              "    </tr>\n",
              "    <tr>\n",
              "      <th>SRR11777736</th>\n",
              "    </tr>\n",
              "    <tr>\n",
              "      <th>SRR11777737</th>\n",
              "    </tr>\n",
              "    <tr>\n",
              "      <th>SRR11777738</th>\n",
              "    </tr>\n",
              "    <tr>\n",
              "      <th>SRR11777739</th>\n",
              "    </tr>\n",
              "  </tbody>\n",
              "</table>\n",
              "</div>\n",
              "    <div class=\"colab-df-buttons\">\n",
              "\n",
              "  <div class=\"colab-df-container\">\n",
              "    <button class=\"colab-df-convert\" onclick=\"convertToInteractive('df-ec98e0fe-65ef-4bbe-8f29-88bfe57ae71e')\"\n",
              "            title=\"Convert this dataframe to an interactive table.\"\n",
              "            style=\"display:none;\">\n",
              "\n",
              "  <svg xmlns=\"http://www.w3.org/2000/svg\" height=\"24px\" viewBox=\"0 -960 960 960\">\n",
              "    <path d=\"M120-120v-720h720v720H120Zm60-500h600v-160H180v160Zm220 220h160v-160H400v160Zm0 220h160v-160H400v160ZM180-400h160v-160H180v160Zm440 0h160v-160H620v160ZM180-180h160v-160H180v160Zm440 0h160v-160H620v160Z\"/>\n",
              "  </svg>\n",
              "    </button>\n",
              "\n",
              "  <style>\n",
              "    .colab-df-container {\n",
              "      display:flex;\n",
              "      gap: 12px;\n",
              "    }\n",
              "\n",
              "    .colab-df-convert {\n",
              "      background-color: #E8F0FE;\n",
              "      border: none;\n",
              "      border-radius: 50%;\n",
              "      cursor: pointer;\n",
              "      display: none;\n",
              "      fill: #1967D2;\n",
              "      height: 32px;\n",
              "      padding: 0 0 0 0;\n",
              "      width: 32px;\n",
              "    }\n",
              "\n",
              "    .colab-df-convert:hover {\n",
              "      background-color: #E2EBFA;\n",
              "      box-shadow: 0px 1px 2px rgba(60, 64, 67, 0.3), 0px 1px 3px 1px rgba(60, 64, 67, 0.15);\n",
              "      fill: #174EA6;\n",
              "    }\n",
              "\n",
              "    .colab-df-buttons div {\n",
              "      margin-bottom: 4px;\n",
              "    }\n",
              "\n",
              "    [theme=dark] .colab-df-convert {\n",
              "      background-color: #3B4455;\n",
              "      fill: #D2E3FC;\n",
              "    }\n",
              "\n",
              "    [theme=dark] .colab-df-convert:hover {\n",
              "      background-color: #434B5C;\n",
              "      box-shadow: 0px 1px 3px 1px rgba(0, 0, 0, 0.15);\n",
              "      filter: drop-shadow(0px 1px 2px rgba(0, 0, 0, 0.3));\n",
              "      fill: #FFFFFF;\n",
              "    }\n",
              "  </style>\n",
              "\n",
              "    <script>\n",
              "      const buttonEl =\n",
              "        document.querySelector('#df-ec98e0fe-65ef-4bbe-8f29-88bfe57ae71e button.colab-df-convert');\n",
              "      buttonEl.style.display =\n",
              "        google.colab.kernel.accessAllowed ? 'block' : 'none';\n",
              "\n",
              "      async function convertToInteractive(key) {\n",
              "        const element = document.querySelector('#df-ec98e0fe-65ef-4bbe-8f29-88bfe57ae71e');\n",
              "        const dataTable =\n",
              "          await google.colab.kernel.invokeFunction('convertToInteractive',\n",
              "                                                    [key], {});\n",
              "        if (!dataTable) return;\n",
              "\n",
              "        const docLinkHtml = 'Like what you see? Visit the ' +\n",
              "          '<a target=\"_blank\" href=https://colab.research.google.com/notebooks/data_table.ipynb>data table notebook</a>'\n",
              "          + ' to learn more about interactive tables.';\n",
              "        element.innerHTML = '';\n",
              "        dataTable['output_type'] = 'display_data';\n",
              "        await google.colab.output.renderOutput(dataTable, element);\n",
              "        const docLink = document.createElement('div');\n",
              "        docLink.innerHTML = docLinkHtml;\n",
              "        element.appendChild(docLink);\n",
              "      }\n",
              "    </script>\n",
              "  </div>\n",
              "\n",
              "\n",
              "<div id=\"df-16db84b6-d6b5-4bd7-b5c4-d9df6768bb19\">\n",
              "  <button class=\"colab-df-quickchart\" onclick=\"quickchart('df-16db84b6-d6b5-4bd7-b5c4-d9df6768bb19')\"\n",
              "            title=\"Suggest charts\"\n",
              "            style=\"display:none;\">\n",
              "\n",
              "<svg xmlns=\"http://www.w3.org/2000/svg\" height=\"24px\"viewBox=\"0 0 24 24\"\n",
              "     width=\"24px\">\n",
              "    <g>\n",
              "        <path d=\"M19 3H5c-1.1 0-2 .9-2 2v14c0 1.1.9 2 2 2h14c1.1 0 2-.9 2-2V5c0-1.1-.9-2-2-2zM9 17H7v-7h2v7zm4 0h-2V7h2v10zm4 0h-2v-4h2v4z\"/>\n",
              "    </g>\n",
              "</svg>\n",
              "  </button>\n",
              "\n",
              "<style>\n",
              "  .colab-df-quickchart {\n",
              "      --bg-color: #E8F0FE;\n",
              "      --fill-color: #1967D2;\n",
              "      --hover-bg-color: #E2EBFA;\n",
              "      --hover-fill-color: #174EA6;\n",
              "      --disabled-fill-color: #AAA;\n",
              "      --disabled-bg-color: #DDD;\n",
              "  }\n",
              "\n",
              "  [theme=dark] .colab-df-quickchart {\n",
              "      --bg-color: #3B4455;\n",
              "      --fill-color: #D2E3FC;\n",
              "      --hover-bg-color: #434B5C;\n",
              "      --hover-fill-color: #FFFFFF;\n",
              "      --disabled-bg-color: #3B4455;\n",
              "      --disabled-fill-color: #666;\n",
              "  }\n",
              "\n",
              "  .colab-df-quickchart {\n",
              "    background-color: var(--bg-color);\n",
              "    border: none;\n",
              "    border-radius: 50%;\n",
              "    cursor: pointer;\n",
              "    display: none;\n",
              "    fill: var(--fill-color);\n",
              "    height: 32px;\n",
              "    padding: 0;\n",
              "    width: 32px;\n",
              "  }\n",
              "\n",
              "  .colab-df-quickchart:hover {\n",
              "    background-color: var(--hover-bg-color);\n",
              "    box-shadow: 0 1px 2px rgba(60, 64, 67, 0.3), 0 1px 3px 1px rgba(60, 64, 67, 0.15);\n",
              "    fill: var(--button-hover-fill-color);\n",
              "  }\n",
              "\n",
              "  .colab-df-quickchart-complete:disabled,\n",
              "  .colab-df-quickchart-complete:disabled:hover {\n",
              "    background-color: var(--disabled-bg-color);\n",
              "    fill: var(--disabled-fill-color);\n",
              "    box-shadow: none;\n",
              "  }\n",
              "\n",
              "  .colab-df-spinner {\n",
              "    border: 2px solid var(--fill-color);\n",
              "    border-color: transparent;\n",
              "    border-bottom-color: var(--fill-color);\n",
              "    animation:\n",
              "      spin 1s steps(1) infinite;\n",
              "  }\n",
              "\n",
              "  @keyframes spin {\n",
              "    0% {\n",
              "      border-color: transparent;\n",
              "      border-bottom-color: var(--fill-color);\n",
              "      border-left-color: var(--fill-color);\n",
              "    }\n",
              "    20% {\n",
              "      border-color: transparent;\n",
              "      border-left-color: var(--fill-color);\n",
              "      border-top-color: var(--fill-color);\n",
              "    }\n",
              "    30% {\n",
              "      border-color: transparent;\n",
              "      border-left-color: var(--fill-color);\n",
              "      border-top-color: var(--fill-color);\n",
              "      border-right-color: var(--fill-color);\n",
              "    }\n",
              "    40% {\n",
              "      border-color: transparent;\n",
              "      border-right-color: var(--fill-color);\n",
              "      border-top-color: var(--fill-color);\n",
              "    }\n",
              "    60% {\n",
              "      border-color: transparent;\n",
              "      border-right-color: var(--fill-color);\n",
              "    }\n",
              "    80% {\n",
              "      border-color: transparent;\n",
              "      border-right-color: var(--fill-color);\n",
              "      border-bottom-color: var(--fill-color);\n",
              "    }\n",
              "    90% {\n",
              "      border-color: transparent;\n",
              "      border-bottom-color: var(--fill-color);\n",
              "    }\n",
              "  }\n",
              "</style>\n",
              "\n",
              "  <script>\n",
              "    async function quickchart(key) {\n",
              "      const quickchartButtonEl =\n",
              "        document.querySelector('#' + key + ' button');\n",
              "      quickchartButtonEl.disabled = true;  // To prevent multiple clicks.\n",
              "      quickchartButtonEl.classList.add('colab-df-spinner');\n",
              "      try {\n",
              "        const charts = await google.colab.kernel.invokeFunction(\n",
              "            'suggestCharts', [key], {});\n",
              "      } catch (error) {\n",
              "        console.error('Error during call to suggestCharts:', error);\n",
              "      }\n",
              "      quickchartButtonEl.classList.remove('colab-df-spinner');\n",
              "      quickchartButtonEl.classList.add('colab-df-quickchart-complete');\n",
              "    }\n",
              "    (() => {\n",
              "      let quickchartButtonEl =\n",
              "        document.querySelector('#df-16db84b6-d6b5-4bd7-b5c4-d9df6768bb19 button');\n",
              "      quickchartButtonEl.style.display =\n",
              "        google.colab.kernel.accessAllowed ? 'block' : 'none';\n",
              "    })();\n",
              "  </script>\n",
              "</div>\n",
              "\n",
              "    </div>\n",
              "  </div>\n"
            ]
          },
          "metadata": {},
          "execution_count": 14
        }
      ],
      "source": [
        "adata = anndata.concat(adatas, merge=\"same\")\n",
        "# Set sample as index\n",
        "adata.obs = adata.obs.set_index(\"sample\")\n",
        "adata.obs"
      ]
    },
    {
      "cell_type": "code",
      "execution_count": 15,
      "id": "9f00404b-713d-4e1c-a34a-555958a07637",
      "metadata": {
        "id": "9f00404b-713d-4e1c-a34a-555958a07637",
        "outputId": "4b52efbc-25d8-4dec-80ce-30eaec577dd9",
        "colab": {
          "base_uri": "https://localhost:8080/",
          "height": 424
        }
      },
      "outputs": [
        {
          "output_type": "execute_result",
          "data": {
            "text/plain": [
              "          ID rep_ID        phylum            class        order  \\\n",
              "0         u1     u1  Pisuviricota  Pisoniviricetes  Nidovirales   \n",
              "1     u10066     u1  Pisuviricota  Pisoniviricetes  Nidovirales   \n",
              "2     u10121     u1  Pisuviricota  Pisoniviricetes  Nidovirales   \n",
              "3     u10124     u1  Pisuviricota  Pisoniviricetes  Nidovirales   \n",
              "4    u102609     u1  Pisuviricota  Pisoniviricetes  Nidovirales   \n",
              "..       ...    ...           ...              ...          ...   \n",
              "404     u889     u1  Pisuviricota  Pisoniviricetes  Nidovirales   \n",
              "405    u9015     u1  Pisuviricota  Pisoniviricetes  Nidovirales   \n",
              "406     u944     u1  Pisuviricota  Pisoniviricetes  Nidovirales   \n",
              "407    u9771     u1  Pisuviricota  Pisoniviricetes  Nidovirales   \n",
              "408     u992     u1  Pisuviricota  Pisoniviricetes  Nidovirales   \n",
              "\n",
              "            family            genus  \\\n",
              "0    Coronaviridae  Betacoronavirus   \n",
              "1    Coronaviridae  Betacoronavirus   \n",
              "2    Coronaviridae  Betacoronavirus   \n",
              "3    Coronaviridae  Betacoronavirus   \n",
              "4    Coronaviridae  Betacoronavirus   \n",
              "..             ...              ...   \n",
              "404  Coronaviridae  Betacoronavirus   \n",
              "405  Coronaviridae  Betacoronavirus   \n",
              "406  Coronaviridae  Betacoronavirus   \n",
              "407  Coronaviridae  Betacoronavirus   \n",
              "408  Coronaviridae  Betacoronavirus   \n",
              "\n",
              "                                               species strandedness  \n",
              "0    Severe acute respiratory syndrome-related coro...       +ssRNA  \n",
              "1    Severe acute respiratory syndrome-related coro...       +ssRNA  \n",
              "2    Severe acute respiratory syndrome-related coro...       +ssRNA  \n",
              "3    Severe acute respiratory syndrome-related coro...       +ssRNA  \n",
              "4    Severe acute respiratory syndrome-related coro...       +ssRNA  \n",
              "..                                                 ...          ...  \n",
              "404  Severe acute respiratory syndrome-related coro...       +ssRNA  \n",
              "405  Severe acute respiratory syndrome-related coro...       +ssRNA  \n",
              "406  Severe acute respiratory syndrome-related coro...       +ssRNA  \n",
              "407  Severe acute respiratory syndrome-related coro...       +ssRNA  \n",
              "408  Severe acute respiratory syndrome-related coro...       +ssRNA  \n",
              "\n",
              "[409 rows x 9 columns]"
            ],
            "text/html": [
              "\n",
              "  <div id=\"df-ef52b046-d9d0-47a8-a644-ec853fc0df25\" class=\"colab-df-container\">\n",
              "    <div>\n",
              "<style scoped>\n",
              "    .dataframe tbody tr th:only-of-type {\n",
              "        vertical-align: middle;\n",
              "    }\n",
              "\n",
              "    .dataframe tbody tr th {\n",
              "        vertical-align: top;\n",
              "    }\n",
              "\n",
              "    .dataframe thead th {\n",
              "        text-align: right;\n",
              "    }\n",
              "</style>\n",
              "<table border=\"1\" class=\"dataframe\">\n",
              "  <thead>\n",
              "    <tr style=\"text-align: right;\">\n",
              "      <th></th>\n",
              "      <th>ID</th>\n",
              "      <th>rep_ID</th>\n",
              "      <th>phylum</th>\n",
              "      <th>class</th>\n",
              "      <th>order</th>\n",
              "      <th>family</th>\n",
              "      <th>genus</th>\n",
              "      <th>species</th>\n",
              "      <th>strandedness</th>\n",
              "    </tr>\n",
              "  </thead>\n",
              "  <tbody>\n",
              "    <tr>\n",
              "      <th>0</th>\n",
              "      <td>u1</td>\n",
              "      <td>u1</td>\n",
              "      <td>Pisuviricota</td>\n",
              "      <td>Pisoniviricetes</td>\n",
              "      <td>Nidovirales</td>\n",
              "      <td>Coronaviridae</td>\n",
              "      <td>Betacoronavirus</td>\n",
              "      <td>Severe acute respiratory syndrome-related coro...</td>\n",
              "      <td>+ssRNA</td>\n",
              "    </tr>\n",
              "    <tr>\n",
              "      <th>1</th>\n",
              "      <td>u10066</td>\n",
              "      <td>u1</td>\n",
              "      <td>Pisuviricota</td>\n",
              "      <td>Pisoniviricetes</td>\n",
              "      <td>Nidovirales</td>\n",
              "      <td>Coronaviridae</td>\n",
              "      <td>Betacoronavirus</td>\n",
              "      <td>Severe acute respiratory syndrome-related coro...</td>\n",
              "      <td>+ssRNA</td>\n",
              "    </tr>\n",
              "    <tr>\n",
              "      <th>2</th>\n",
              "      <td>u10121</td>\n",
              "      <td>u1</td>\n",
              "      <td>Pisuviricota</td>\n",
              "      <td>Pisoniviricetes</td>\n",
              "      <td>Nidovirales</td>\n",
              "      <td>Coronaviridae</td>\n",
              "      <td>Betacoronavirus</td>\n",
              "      <td>Severe acute respiratory syndrome-related coro...</td>\n",
              "      <td>+ssRNA</td>\n",
              "    </tr>\n",
              "    <tr>\n",
              "      <th>3</th>\n",
              "      <td>u10124</td>\n",
              "      <td>u1</td>\n",
              "      <td>Pisuviricota</td>\n",
              "      <td>Pisoniviricetes</td>\n",
              "      <td>Nidovirales</td>\n",
              "      <td>Coronaviridae</td>\n",
              "      <td>Betacoronavirus</td>\n",
              "      <td>Severe acute respiratory syndrome-related coro...</td>\n",
              "      <td>+ssRNA</td>\n",
              "    </tr>\n",
              "    <tr>\n",
              "      <th>4</th>\n",
              "      <td>u102609</td>\n",
              "      <td>u1</td>\n",
              "      <td>Pisuviricota</td>\n",
              "      <td>Pisoniviricetes</td>\n",
              "      <td>Nidovirales</td>\n",
              "      <td>Coronaviridae</td>\n",
              "      <td>Betacoronavirus</td>\n",
              "      <td>Severe acute respiratory syndrome-related coro...</td>\n",
              "      <td>+ssRNA</td>\n",
              "    </tr>\n",
              "    <tr>\n",
              "      <th>...</th>\n",
              "      <td>...</td>\n",
              "      <td>...</td>\n",
              "      <td>...</td>\n",
              "      <td>...</td>\n",
              "      <td>...</td>\n",
              "      <td>...</td>\n",
              "      <td>...</td>\n",
              "      <td>...</td>\n",
              "      <td>...</td>\n",
              "    </tr>\n",
              "    <tr>\n",
              "      <th>404</th>\n",
              "      <td>u889</td>\n",
              "      <td>u1</td>\n",
              "      <td>Pisuviricota</td>\n",
              "      <td>Pisoniviricetes</td>\n",
              "      <td>Nidovirales</td>\n",
              "      <td>Coronaviridae</td>\n",
              "      <td>Betacoronavirus</td>\n",
              "      <td>Severe acute respiratory syndrome-related coro...</td>\n",
              "      <td>+ssRNA</td>\n",
              "    </tr>\n",
              "    <tr>\n",
              "      <th>405</th>\n",
              "      <td>u9015</td>\n",
              "      <td>u1</td>\n",
              "      <td>Pisuviricota</td>\n",
              "      <td>Pisoniviricetes</td>\n",
              "      <td>Nidovirales</td>\n",
              "      <td>Coronaviridae</td>\n",
              "      <td>Betacoronavirus</td>\n",
              "      <td>Severe acute respiratory syndrome-related coro...</td>\n",
              "      <td>+ssRNA</td>\n",
              "    </tr>\n",
              "    <tr>\n",
              "      <th>406</th>\n",
              "      <td>u944</td>\n",
              "      <td>u1</td>\n",
              "      <td>Pisuviricota</td>\n",
              "      <td>Pisoniviricetes</td>\n",
              "      <td>Nidovirales</td>\n",
              "      <td>Coronaviridae</td>\n",
              "      <td>Betacoronavirus</td>\n",
              "      <td>Severe acute respiratory syndrome-related coro...</td>\n",
              "      <td>+ssRNA</td>\n",
              "    </tr>\n",
              "    <tr>\n",
              "      <th>407</th>\n",
              "      <td>u9771</td>\n",
              "      <td>u1</td>\n",
              "      <td>Pisuviricota</td>\n",
              "      <td>Pisoniviricetes</td>\n",
              "      <td>Nidovirales</td>\n",
              "      <td>Coronaviridae</td>\n",
              "      <td>Betacoronavirus</td>\n",
              "      <td>Severe acute respiratory syndrome-related coro...</td>\n",
              "      <td>+ssRNA</td>\n",
              "    </tr>\n",
              "    <tr>\n",
              "      <th>408</th>\n",
              "      <td>u992</td>\n",
              "      <td>u1</td>\n",
              "      <td>Pisuviricota</td>\n",
              "      <td>Pisoniviricetes</td>\n",
              "      <td>Nidovirales</td>\n",
              "      <td>Coronaviridae</td>\n",
              "      <td>Betacoronavirus</td>\n",
              "      <td>Severe acute respiratory syndrome-related coro...</td>\n",
              "      <td>+ssRNA</td>\n",
              "    </tr>\n",
              "  </tbody>\n",
              "</table>\n",
              "<p>409 rows × 9 columns</p>\n",
              "</div>\n",
              "    <div class=\"colab-df-buttons\">\n",
              "\n",
              "  <div class=\"colab-df-container\">\n",
              "    <button class=\"colab-df-convert\" onclick=\"convertToInteractive('df-ef52b046-d9d0-47a8-a644-ec853fc0df25')\"\n",
              "            title=\"Convert this dataframe to an interactive table.\"\n",
              "            style=\"display:none;\">\n",
              "\n",
              "  <svg xmlns=\"http://www.w3.org/2000/svg\" height=\"24px\" viewBox=\"0 -960 960 960\">\n",
              "    <path d=\"M120-120v-720h720v720H120Zm60-500h600v-160H180v160Zm220 220h160v-160H400v160Zm0 220h160v-160H400v160ZM180-400h160v-160H180v160Zm440 0h160v-160H620v160ZM180-180h160v-160H180v160Zm440 0h160v-160H620v160Z\"/>\n",
              "  </svg>\n",
              "    </button>\n",
              "\n",
              "  <style>\n",
              "    .colab-df-container {\n",
              "      display:flex;\n",
              "      gap: 12px;\n",
              "    }\n",
              "\n",
              "    .colab-df-convert {\n",
              "      background-color: #E8F0FE;\n",
              "      border: none;\n",
              "      border-radius: 50%;\n",
              "      cursor: pointer;\n",
              "      display: none;\n",
              "      fill: #1967D2;\n",
              "      height: 32px;\n",
              "      padding: 0 0 0 0;\n",
              "      width: 32px;\n",
              "    }\n",
              "\n",
              "    .colab-df-convert:hover {\n",
              "      background-color: #E2EBFA;\n",
              "      box-shadow: 0px 1px 2px rgba(60, 64, 67, 0.3), 0px 1px 3px 1px rgba(60, 64, 67, 0.15);\n",
              "      fill: #174EA6;\n",
              "    }\n",
              "\n",
              "    .colab-df-buttons div {\n",
              "      margin-bottom: 4px;\n",
              "    }\n",
              "\n",
              "    [theme=dark] .colab-df-convert {\n",
              "      background-color: #3B4455;\n",
              "      fill: #D2E3FC;\n",
              "    }\n",
              "\n",
              "    [theme=dark] .colab-df-convert:hover {\n",
              "      background-color: #434B5C;\n",
              "      box-shadow: 0px 1px 3px 1px rgba(0, 0, 0, 0.15);\n",
              "      filter: drop-shadow(0px 1px 2px rgba(0, 0, 0, 0.3));\n",
              "      fill: #FFFFFF;\n",
              "    }\n",
              "  </style>\n",
              "\n",
              "    <script>\n",
              "      const buttonEl =\n",
              "        document.querySelector('#df-ef52b046-d9d0-47a8-a644-ec853fc0df25 button.colab-df-convert');\n",
              "      buttonEl.style.display =\n",
              "        google.colab.kernel.accessAllowed ? 'block' : 'none';\n",
              "\n",
              "      async function convertToInteractive(key) {\n",
              "        const element = document.querySelector('#df-ef52b046-d9d0-47a8-a644-ec853fc0df25');\n",
              "        const dataTable =\n",
              "          await google.colab.kernel.invokeFunction('convertToInteractive',\n",
              "                                                    [key], {});\n",
              "        if (!dataTable) return;\n",
              "\n",
              "        const docLinkHtml = 'Like what you see? Visit the ' +\n",
              "          '<a target=\"_blank\" href=https://colab.research.google.com/notebooks/data_table.ipynb>data table notebook</a>'\n",
              "          + ' to learn more about interactive tables.';\n",
              "        element.innerHTML = '';\n",
              "        dataTable['output_type'] = 'display_data';\n",
              "        await google.colab.output.renderOutput(dataTable, element);\n",
              "        const docLink = document.createElement('div');\n",
              "        docLink.innerHTML = docLinkHtml;\n",
              "        element.appendChild(docLink);\n",
              "      }\n",
              "    </script>\n",
              "  </div>\n",
              "\n",
              "\n",
              "<div id=\"df-2faa36c2-bc58-42f6-bde7-e2fd772a2b55\">\n",
              "  <button class=\"colab-df-quickchart\" onclick=\"quickchart('df-2faa36c2-bc58-42f6-bde7-e2fd772a2b55')\"\n",
              "            title=\"Suggest charts\"\n",
              "            style=\"display:none;\">\n",
              "\n",
              "<svg xmlns=\"http://www.w3.org/2000/svg\" height=\"24px\"viewBox=\"0 0 24 24\"\n",
              "     width=\"24px\">\n",
              "    <g>\n",
              "        <path d=\"M19 3H5c-1.1 0-2 .9-2 2v14c0 1.1.9 2 2 2h14c1.1 0 2-.9 2-2V5c0-1.1-.9-2-2-2zM9 17H7v-7h2v7zm4 0h-2V7h2v10zm4 0h-2v-4h2v4z\"/>\n",
              "    </g>\n",
              "</svg>\n",
              "  </button>\n",
              "\n",
              "<style>\n",
              "  .colab-df-quickchart {\n",
              "      --bg-color: #E8F0FE;\n",
              "      --fill-color: #1967D2;\n",
              "      --hover-bg-color: #E2EBFA;\n",
              "      --hover-fill-color: #174EA6;\n",
              "      --disabled-fill-color: #AAA;\n",
              "      --disabled-bg-color: #DDD;\n",
              "  }\n",
              "\n",
              "  [theme=dark] .colab-df-quickchart {\n",
              "      --bg-color: #3B4455;\n",
              "      --fill-color: #D2E3FC;\n",
              "      --hover-bg-color: #434B5C;\n",
              "      --hover-fill-color: #FFFFFF;\n",
              "      --disabled-bg-color: #3B4455;\n",
              "      --disabled-fill-color: #666;\n",
              "  }\n",
              "\n",
              "  .colab-df-quickchart {\n",
              "    background-color: var(--bg-color);\n",
              "    border: none;\n",
              "    border-radius: 50%;\n",
              "    cursor: pointer;\n",
              "    display: none;\n",
              "    fill: var(--fill-color);\n",
              "    height: 32px;\n",
              "    padding: 0;\n",
              "    width: 32px;\n",
              "  }\n",
              "\n",
              "  .colab-df-quickchart:hover {\n",
              "    background-color: var(--hover-bg-color);\n",
              "    box-shadow: 0 1px 2px rgba(60, 64, 67, 0.3), 0 1px 3px 1px rgba(60, 64, 67, 0.15);\n",
              "    fill: var(--button-hover-fill-color);\n",
              "  }\n",
              "\n",
              "  .colab-df-quickchart-complete:disabled,\n",
              "  .colab-df-quickchart-complete:disabled:hover {\n",
              "    background-color: var(--disabled-bg-color);\n",
              "    fill: var(--disabled-fill-color);\n",
              "    box-shadow: none;\n",
              "  }\n",
              "\n",
              "  .colab-df-spinner {\n",
              "    border: 2px solid var(--fill-color);\n",
              "    border-color: transparent;\n",
              "    border-bottom-color: var(--fill-color);\n",
              "    animation:\n",
              "      spin 1s steps(1) infinite;\n",
              "  }\n",
              "\n",
              "  @keyframes spin {\n",
              "    0% {\n",
              "      border-color: transparent;\n",
              "      border-bottom-color: var(--fill-color);\n",
              "      border-left-color: var(--fill-color);\n",
              "    }\n",
              "    20% {\n",
              "      border-color: transparent;\n",
              "      border-left-color: var(--fill-color);\n",
              "      border-top-color: var(--fill-color);\n",
              "    }\n",
              "    30% {\n",
              "      border-color: transparent;\n",
              "      border-left-color: var(--fill-color);\n",
              "      border-top-color: var(--fill-color);\n",
              "      border-right-color: var(--fill-color);\n",
              "    }\n",
              "    40% {\n",
              "      border-color: transparent;\n",
              "      border-right-color: var(--fill-color);\n",
              "      border-top-color: var(--fill-color);\n",
              "    }\n",
              "    60% {\n",
              "      border-color: transparent;\n",
              "      border-right-color: var(--fill-color);\n",
              "    }\n",
              "    80% {\n",
              "      border-color: transparent;\n",
              "      border-right-color: var(--fill-color);\n",
              "      border-bottom-color: var(--fill-color);\n",
              "    }\n",
              "    90% {\n",
              "      border-color: transparent;\n",
              "      border-bottom-color: var(--fill-color);\n",
              "    }\n",
              "  }\n",
              "</style>\n",
              "\n",
              "  <script>\n",
              "    async function quickchart(key) {\n",
              "      const quickchartButtonEl =\n",
              "        document.querySelector('#' + key + ' button');\n",
              "      quickchartButtonEl.disabled = true;  // To prevent multiple clicks.\n",
              "      quickchartButtonEl.classList.add('colab-df-spinner');\n",
              "      try {\n",
              "        const charts = await google.colab.kernel.invokeFunction(\n",
              "            'suggestCharts', [key], {});\n",
              "      } catch (error) {\n",
              "        console.error('Error during call to suggestCharts:', error);\n",
              "      }\n",
              "      quickchartButtonEl.classList.remove('colab-df-spinner');\n",
              "      quickchartButtonEl.classList.add('colab-df-quickchart-complete');\n",
              "    }\n",
              "    (() => {\n",
              "      let quickchartButtonEl =\n",
              "        document.querySelector('#df-2faa36c2-bc58-42f6-bde7-e2fd772a2b55 button');\n",
              "      quickchartButtonEl.style.display =\n",
              "        google.colab.kernel.accessAllowed ? 'block' : 'none';\n",
              "    })();\n",
              "  </script>\n",
              "</div>\n",
              "\n",
              "    </div>\n",
              "  </div>\n"
            ]
          },
          "metadata": {},
          "execution_count": 15
        }
      ],
      "source": [
        "tax_df = pd.read_csv(u_tax_csv)\n",
        "tax_df[tax_df[\"species\"].str.contains(\"Severe acute respiratory syndrome\")]"
      ]
    },
    {
      "cell_type": "code",
      "execution_count": 16,
      "id": "ee39163d-3f40-41fa-be8c-0b68ed7123b7",
      "metadata": {
        "id": "ee39163d-3f40-41fa-be8c-0b68ed7123b7",
        "outputId": "fe77873f-a3c9-4d60-eaf7-762b14354473",
        "colab": {
          "base_uri": "https://localhost:8080/",
          "height": 735
        }
      },
      "outputs": [
        {
          "output_type": "display_data",
          "data": {
            "text/plain": [
              "<Figure size 600x700 with 1 Axes>"
            ],
            "image/png": "[encoded data removed]"
          },
          "metadata": {
            "image/png": {
              "width": 560,
              "height": 718
            }
          }
        }
      ],
      "source": [
        "fig, ax = plt.subplots(figsize=(6, 7))\n",
        "fontsize = 16\n",
        "width = 0.75\n",
        "\n",
        "x_labels = ['Infected 1', 'Infected 2', 'Infected 3', 'Control 1', 'Control 2', 'Control 3']\n",
        "\n",
        "target_ids = tax_df[tax_df[\"species\"].str.contains(\"Severe acute respiratory syndrome-related coronavirus\")][\"rep_ID\"].unique()\n",
        "\n",
        "counts = []\n",
        "samples = adata.obs.index.values\n",
        "labels = samples\n",
        "for sample in samples:\n",
        "    counts.append(adata.X[adata.obs.index == sample, adata.var.index.isin(target_ids)].sum())\n",
        "\n",
        "x = np.arange(len(labels))\n",
        "\n",
        "ax.bar(x, counts, width=width, color=\"#003049\", edgecolor=\"black\")\n",
        "\n",
        "ax.set_yscale(\"symlog\")\n",
        "ax.set_ylabel(\"kallisto (raw counts for SARS-CoV)\", fontsize=fontsize)\n",
        "# ax.set_xlabel(\"Sample\", fontsize=fontsize)\n",
        "\n",
        "ax.set_xticks(x, x_labels, rotation=45, ha=\"right\")\n",
        "\n",
        "ax.tick_params(axis=\"both\", labelsize=fontsize)\n",
        "ax.set_title(f\"SARS-CoV-2 infected human\\niPSC-derived cardiomyocytes\", fontsize=fontsize+2)\n",
        "\n",
        "ax.grid(True, which=\"both\", color=\"lightgray\", ls=\"--\", lw=1)\n",
        "ax.set_axisbelow(True)\n",
        "\n",
        "# plt.tight_layout()\n",
        "\n",
        "plt.savefig(\"smartseq_benchmark_PRJNA631969.png\", dpi=300, bbox_inches=\"tight\")\n",
        "\n",
        "fig.show()"
      ]
    },
    {
      "cell_type": "code",
      "execution_count": 17,
      "id": "5c641597-84d8-4188-aab9-6e8acec1f886",
      "metadata": {
        "id": "5c641597-84d8-4188-aab9-6e8acec1f886",
        "outputId": "ce7349e9-b994-446b-8561-279e9ebf9563",
        "colab": {
          "base_uri": "https://localhost:8080/"
        }
      },
      "outputs": [
        {
          "output_type": "execute_result",
          "data": {
            "text/plain": [
              "[5265.0, 7037.0, 5187.0, 0.0, 0.0, 0.0]"
            ]
          },
          "metadata": {},
          "execution_count": 17
        }
      ],
      "source": [
        "counts"
      ]
    },
    {
      "cell_type": "code",
      "execution_count": null,
      "id": "416e45a5-03b8-46a2-a66e-8267eb468996",
      "metadata": {
        "id": "416e45a5-03b8-46a2-a66e-8267eb468996"
      },
      "outputs": [],
      "source": []
    }
  ],
  "metadata": {
    "kernelspec": {
      "display_name": "Python 3",
      "name": "python3"
    },
    "language_info": {
      "codemirror_mode": {
        "name": "ipython",
        "version": 3
      },
      "file_extension": ".py",
      "mimetype": "text/x-python",
      "name": "python",
      "nbconvert_exporter": "python",
      "pygments_lexer": "ipython3",
      "version": "3.9.12"
    },
    "colab": {
      "provenance": [],
      "gpuType": "T4",
      "include_colab_link": true
    },
    "accelerator": "GPU"
  },
  "nbformat": 4,
  "nbformat_minor": 5
}