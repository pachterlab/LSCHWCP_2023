{
  "cells": [
    {
      "cell_type": "markdown",
      "id": "c8c7de9b-2008-47c8-b085-08019411468d",
      "metadata": {
        "id": "c8c7de9b-2008-47c8-b085-08019411468d"
      },
      "source": [
        "# Validation using SARS-CoV2 infected human iPSC derived cardiomyocytes\n",
        "Data source: https://doi.org/10.1016/j.xcrm.2020.100052  "
      ]
    },
    {
      "cell_type": "markdown",
      "source": [
        "___\n",
        "# Install software"
      ],
      "metadata": {
        "id": "-eKhcIWCuqc9"
      },
      "id": "-eKhcIWCuqc9"
    },
    {
      "cell_type": "code",
      "execution_count": 1,
      "id": "5dafc3c8-5ded-4928-a4dd-bb6ecedb3012",
      "metadata": {
        "id": "5dafc3c8-5ded-4928-a4dd-bb6ecedb3012",
        "colab": {
          "base_uri": "https://localhost:8080/"
        },
        "outputId": "fea37fe6-e3c6-4e3b-e36b-4eafb4e3887a"
      },
      "outputs": [
        {
          "output_type": "stream",
          "name": "stdout",
          "text": [
            "\u001b[2K     \u001b[90m━━━━━━━━━━━━━━━━━━━━━━━━━━━━━━━━━━━━━━━━\u001b[0m \u001b[32m43.1/43.1 MB\u001b[0m \u001b[31m38.2 MB/s\u001b[0m eta \u001b[36m0:00:00\u001b[0m\n",
            "\u001b[2K     \u001b[90m━━━━━━━━━━━━━━━━━━━━━━━━━━━━━━━━━━━━━━━━\u001b[0m \u001b[32m13.1/13.1 MB\u001b[0m \u001b[31m78.0 MB/s\u001b[0m eta \u001b[36m0:00:00\u001b[0m\n",
            "\u001b[2K     \u001b[90m━━━━━━━━━━━━━━━━━━━━━━━━━━━━━━━━━━━━━━━━\u001b[0m \u001b[32m25.2/25.2 MB\u001b[0m \u001b[31m61.8 MB/s\u001b[0m eta \u001b[36m0:00:00\u001b[0m\n",
            "\u001b[2K     \u001b[90m━━━━━━━━━━━━━━━━━━━━━━━━━━━━━━━━━━━━━━━━\u001b[0m \u001b[32m119.2/119.2 kB\u001b[0m \u001b[31m14.8 MB/s\u001b[0m eta \u001b[36m0:00:00\u001b[0m\n",
            "\u001b[2K     \u001b[90m━━━━━━━━━━━━━━━━━━━━━━━━━━━━━━━━━━━━━━━━\u001b[0m \u001b[32m4.8/4.8 MB\u001b[0m \u001b[31m89.2 MB/s\u001b[0m eta \u001b[36m0:00:00\u001b[0m\n",
            "\u001b[?25h  Preparing metadata (setup.py) ... \u001b[?25l\u001b[?25hdone\n",
            "\u001b[2K     \u001b[90m━━━━━━━━━━━━━━━━━━━━━━━━━━━━━━━━━━━━━━━━\u001b[0m \u001b[32m45.2/45.2 MB\u001b[0m \u001b[31m36.9 MB/s\u001b[0m eta \u001b[36m0:00:00\u001b[0m\n",
            "\u001b[2K     \u001b[90m━━━━━━━━━━━━━━━━━━━━━━━━━━━━━━━━━━━━━━━━\u001b[0m \u001b[32m2.0/2.0 MB\u001b[0m \u001b[31m82.6 MB/s\u001b[0m eta \u001b[36m0:00:00\u001b[0m\n",
            "\u001b[2K     \u001b[90m━━━━━━━━━━━━━━━━━━━━━━━━━━━━━━━━━━━━━━━━\u001b[0m \u001b[32m21.9/21.9 MB\u001b[0m \u001b[31m55.9 MB/s\u001b[0m eta \u001b[36m0:00:00\u001b[0m\n",
            "\u001b[?25h  Preparing metadata (setup.py) ... \u001b[?25l\u001b[?25hdone\n",
            "\u001b[2K     \u001b[90m━━━━━━━━━━━━━━━━━━━━━━━━━━━━━━━━━━━━━━━━\u001b[0m \u001b[32m90.9/90.9 kB\u001b[0m \u001b[31m11.5 MB/s\u001b[0m eta \u001b[36m0:00:00\u001b[0m\n",
            "\u001b[?25h  Preparing metadata (setup.py) ... \u001b[?25l\u001b[?25hdone\n",
            "\u001b[2K     \u001b[90m━━━━━━━━━━━━━━━━━━━━━━━━━━━━━━━━━━━━━━━━\u001b[0m \u001b[32m55.8/55.8 kB\u001b[0m \u001b[31m6.6 MB/s\u001b[0m eta \u001b[36m0:00:00\u001b[0m\n",
            "\u001b[2K     \u001b[90m━━━━━━━━━━━━━━━━━━━━━━━━━━━━━━━━━━━━━━━━\u001b[0m \u001b[32m79.8/79.8 kB\u001b[0m \u001b[31m9.9 MB/s\u001b[0m eta \u001b[36m0:00:00\u001b[0m\n",
            "\u001b[?25h  Building wheel for loompy (setup.py) ... \u001b[?25l\u001b[?25hdone\n",
            "  Building wheel for umap-learn (setup.py) ... \u001b[?25l\u001b[?25hdone\n",
            "  Building wheel for session-info (setup.py) ... \u001b[?25l\u001b[?25hdone\n"
          ]
        }
      ],
      "source": [
        "!pip install -q ffq gget kb_python"
      ]
    },
    {
      "cell_type": "markdown",
      "source": [
        "# Download SMART-Seq data"
      ],
      "metadata": {
        "id": "Y_daAXX5uvEr"
      },
      "id": "Y_daAXX5uvEr"
    },
    {
      "cell_type": "code",
      "source": [
        "import json\n",
        "import glob"
      ],
      "metadata": {
        "id": "KAf_zb4mu_hq"
      },
      "id": "KAf_zb4mu_hq",
      "execution_count": 2,
      "outputs": []
    },
    {
      "cell_type": "code",
      "execution_count": 3,
      "id": "7d0e3a96-e0f9-4284-834b-8984bed7e9ab",
      "metadata": {
        "id": "7d0e3a96-e0f9-4284-834b-8984bed7e9ab",
        "colab": {
          "base_uri": "https://localhost:8080/"
        },
        "outputId": "36942317-9a73-4d20-f81e-4d8c9f3e5fa9"
      },
      "outputs": [
        {
          "output_type": "stream",
          "name": "stdout",
          "text": [
            "[2023-12-08 19:50:15,033]    INFO Parsing run SRR11777734\n",
            "[2023-12-08 19:50:17,153]    INFO Parsing run SRR11777735\n",
            "[2023-12-08 19:50:19,009]    INFO Parsing run SRR11777736\n",
            "[2023-12-08 19:50:20,833]    INFO Parsing run SRR11777737\n",
            "[2023-12-08 19:50:22,663]    INFO Parsing run SRR11777738\n",
            "[2023-12-08 19:50:24,488]    INFO Parsing run SRR11777739\n"
          ]
        }
      ],
      "source": [
        "# Get ftp download links for raw data with ffq and store results in json file\n",
        "!ffq SRR11777734 SRR11777735 SRR11777736 SRR11777737 SRR11777738 SRR11777739 \\\n",
        "    --ftp \\\n",
        "    -o ffq.json"
      ]
    },
    {
      "cell_type": "code",
      "execution_count": 4,
      "id": "699a4df0-c602-4033-aef0-1c95a960b49b",
      "metadata": {
        "id": "699a4df0-c602-4033-aef0-1c95a960b49b"
      },
      "outputs": [],
      "source": [
        "# Load ffq output\n",
        "f = open(\"ffq.json\")\n",
        "data_json = json.load(f)\n",
        "f.close()"
      ]
    },
    {
      "cell_type": "code",
      "execution_count": 5,
      "id": "5979d304-7c2f-44f9-a399-41762f88ce46",
      "metadata": {
        "id": "5979d304-7c2f-44f9-a399-41762f88ce46",
        "colab": {
          "base_uri": "https://localhost:8080/"
        },
        "outputId": "054939e9-f8cf-4bec-baeb-8e2dfbcabf4f"
      },
      "outputs": [
        {
          "output_type": "stream",
          "name": "stdout",
          "text": [
            "  % Total    % Received % Xferd  Average Speed   Time    Time     Time  Current\n",
            "                                 Dload  Upload   Total   Spent    Left  Speed\n",
            "100 2962M  100 2962M    0     0  42.5M      0  0:01:09  0:01:09 --:--:-- 38.5M\n",
            "  % Total    % Received % Xferd  Average Speed   Time    Time     Time  Current\n",
            "                                 Dload  Upload   Total   Spent    Left  Speed\n",
            "100 2634M  100 2634M    0     0  38.7M      0  0:01:07  0:01:07 --:--:-- 39.4M\n",
            "  % Total    % Received % Xferd  Average Speed   Time    Time     Time  Current\n",
            "                                 Dload  Upload   Total   Spent    Left  Speed\n",
            "100 2484M  100 2484M    0     0  43.0M      0  0:00:57  0:00:57 --:--:-- 44.9M\n",
            "  % Total    % Received % Xferd  Average Speed   Time    Time     Time  Current\n",
            "                                 Dload  Upload   Total   Spent    Left  Speed\n",
            "100 3018M  100 3018M    0     0  43.1M      0  0:01:09  0:01:09 --:--:-- 44.5M\n",
            "  % Total    % Received % Xferd  Average Speed   Time    Time     Time  Current\n",
            "                                 Dload  Upload   Total   Spent    Left  Speed\n",
            "100 3737M  100 3737M    0     0  39.2M      0  0:01:35  0:01:35 --:--:-- 39.5M\n",
            "  % Total    % Received % Xferd  Average Speed   Time    Time     Time  Current\n",
            "                                 Dload  Upload   Total   Spent    Left  Speed\n",
            "100 3152M  100 3152M    0     0  38.7M      0  0:01:21  0:01:21 --:--:-- 39.3M\n"
          ]
        }
      ],
      "source": [
        "# Download raw data using FTP links fetched by ffq\n",
        "for dataset in data_json:\n",
        "    url = dataset[\"url\"]\n",
        "    !curl -O $url"
      ]
    },
    {
      "cell_type": "code",
      "source": [
        "# Since the data is split into many fastq files, we will generate a batch file pointing to each of the fastqs\n",
        "with open(\"batch.txt\", \"w\") as batchfile:\n",
        "  for fastq in glob.glob(\"*fastq.gz\"):\n",
        "      batchfile.write(fastq.split(\".\")[0] + \"\\t\" + fastq + \"\\n\")"
      ],
      "metadata": {
        "id": "4O_Y94P87wDu"
      },
      "id": "4O_Y94P87wDu",
      "execution_count": 6,
      "outputs": []
    },
    {
      "cell_type": "code",
      "source": [
        "# Download PalmDB reference files\n",
        "\n",
        "# Download the ID to taxonomy mapping\n",
        "!wget https://raw.githubusercontent.com/pachterlab/LSCHWCP_2023/main/PalmDB/ID_to_taxonomy_mapping.csv\n",
        "# Download the customized transcripts to gene mapping\n",
        "!wget https://raw.githubusercontent.com/pachterlab/LSCHWCP_2023/main/PalmDB/palmdb_clustered_t2g.txt\n",
        "# Download the RdRP amino acid sequences\n",
        "!wget https://raw.githubusercontent.com/pachterlab/LSCHWCP_2023/main/PalmDB/palmdb_rdrp_seqs.fa"
      ],
      "metadata": {
        "id": "Hryu650pyEYk",
        "colab": {
          "base_uri": "https://localhost:8080/"
        },
        "outputId": "c7c06b7c-e09c-40e3-ff4c-707cd4fdd63b"
      },
      "id": "Hryu650pyEYk",
      "execution_count": 17,
      "outputs": [
        {
          "output_type": "stream",
          "name": "stdout",
          "text": [
            "--2023-12-08 20:35:13--  https://raw.githubusercontent.com/pachterlab/LSCHWCP_2023/main/PalmDB/ID_to_taxonomy_mapping.csv\n",
            "Resolving raw.githubusercontent.com (raw.githubusercontent.com)... 185.199.111.133, 185.199.108.133, 185.199.109.133, ...\n",
            "Connecting to raw.githubusercontent.com (raw.githubusercontent.com)|185.199.111.133|:443... connected.\n",
            "HTTP request sent, awaiting response... 200 OK\n",
            "Length: 19705497 (19M) [text/plain]\n",
            "Saving to: ‘ID_to_taxonomy_mapping.csv’\n",
            "\n",
            "\r          ID_to_tax   0%[                    ]       0  --.-KB/s               \rID_to_taxonomy_mapp 100%[===================>]  18.79M  --.-KB/s    in 0.1s    \n",
            "\n",
            "2023-12-08 20:35:13 (153 MB/s) - ‘ID_to_taxonomy_mapping.csv’ saved [19705497/19705497]\n",
            "\n",
            "--2023-12-08 20:35:13--  https://raw.githubusercontent.com/pachterlab/LSCHWCP_2023/main/PalmDB/palmdb_clustered_t2g.txt\n",
            "Resolving raw.githubusercontent.com (raw.githubusercontent.com)... 185.199.111.133, 185.199.108.133, 185.199.109.133, ...\n",
            "Connecting to raw.githubusercontent.com (raw.githubusercontent.com)|185.199.111.133|:443... connected.\n",
            "HTTP request sent, awaiting response... 200 OK\n",
            "Length: 4561689 (4.3M) [text/plain]\n",
            "Saving to: ‘palmdb_clustered_t2g.txt’\n",
            "\n",
            "palmdb_clustered_t2 100%[===================>]   4.35M  --.-KB/s    in 0.09s   \n",
            "\n",
            "2023-12-08 20:35:13 (45.8 MB/s) - ‘palmdb_clustered_t2g.txt’ saved [4561689/4561689]\n",
            "\n",
            "--2023-12-08 20:35:13--  https://raw.githubusercontent.com/pachterlab/LSCHWCP_2023/main/PalmDB/palmdb_rdrp_seqs.fa\n",
            "Resolving raw.githubusercontent.com (raw.githubusercontent.com)... 185.199.111.133, 185.199.108.133, 185.199.109.133, ...\n",
            "Connecting to raw.githubusercontent.com (raw.githubusercontent.com)|185.199.111.133|:443... connected.\n",
            "HTTP request sent, awaiting response... 200 OK\n",
            "Length: 35361991 (34M) [text/plain]\n",
            "Saving to: ‘palmdb_rdrp_seqs.fa’\n",
            "\n",
            "palmdb_rdrp_seqs.fa 100%[===================>]  33.72M   181MB/s    in 0.2s    \n",
            "\n",
            "2023-12-08 20:35:14 (181 MB/s) - ‘palmdb_rdrp_seqs.fa’ saved [35361991/35361991]\n",
            "\n"
          ]
        }
      ]
    },
    {
      "cell_type": "markdown",
      "source": [
        "# Build virus reference index from PalmDB amino acid sequences and mask host sequences\n",
        "You can find the `kb` manual and tutorials [here](https://www.kallistobus.tools/).\n",
        "\n",
        "The `--aa` argument tells `kb` that this is an amino acid reference.  \n",
        "\n",
        "The `--d-list` argument is the path to the **host** transcriptome. These sequences will be masked in the index. Here, we are using [`gget`](https://github.com/pachterlab/gget) to fetch the human genome and transcriptome (release 110).\n",
        "\n",
        "We are using `--workflow custom` here since we do not have a .gtf file for the PalmDB fasta file.\n",
        "\n",
        "Building the index will take some time (~20 min), since the human genomes is quite large."
      ],
      "metadata": {
        "id": "RxliJ1pJwYQZ"
      },
      "id": "RxliJ1pJwYQZ"
    },
    {
      "cell_type": "code",
      "source": [
        "!gget ref -r 110 -w cdna,dna -d human"
      ],
      "metadata": {
        "id": "6asx719LAa05",
        "colab": {
          "base_uri": "https://localhost:8080/"
        },
        "outputId": "1fd3af06-f4f2-4329-d8c4-3135af3e49a9"
      },
      "id": "6asx719LAa05",
      "execution_count": 8,
      "outputs": [
        {
          "output_type": "stream",
          "name": "stdout",
          "text": [
            "Fri Dec  8 19:57:56 2023 INFO Fetching reference information for homo_sapiens from Ensembl release: 110.\n",
            "{\n",
            "    \"homo_sapiens\": {\n",
            "        \"transcriptome_cdna\": {\n",
            "            \"ftp\": \"http://ftp.ensembl.org/pub/release-110/fasta/homo_sapiens/cdna/Homo_sapiens.GRCh38.cdna.all.fa.gz\",\n",
            "            \"ensembl_release\": 110,\n",
            "            \"release_date\": \"2023-04-22\",\n",
            "            \"release_time\": \"04:25\",\n",
            "            \"bytes\": \"75M\"\n",
            "        },\n",
            "        \"genome_dna\": {\n",
            "            \"ftp\": \"http://ftp.ensembl.org/pub/release-110/fasta/homo_sapiens/dna/Homo_sapiens.GRCh38.dna.primary_assembly.fa.gz\",\n",
            "            \"ensembl_release\": 110,\n",
            "            \"release_date\": \"2023-04-21\",\n",
            "            \"release_time\": \"17:28\",\n",
            "            \"bytes\": \"841M\"\n",
            "        }\n",
            "    }\n",
            "}\n",
            "  % Total    % Received % Xferd  Average Speed   Time    Time     Time  Current\n",
            "                                 Dload  Upload   Total   Spent    Left  Speed\n",
            "100 75.2M  100 75.2M    0     0   627k      0  0:02:02  0:02:02 --:--:--  642k\n",
            "  % Total    % Received % Xferd  Average Speed   Time    Time     Time  Current\n",
            "                                 Dload  Upload   Total   Spent    Left  Speed\n",
            "100  841M  100  841M    0     0   634k      0  0:22:38  0:22:38 --:--:--  639k\n"
          ]
        }
      ]
    },
    {
      "cell_type": "code",
      "source": [
        "# Concatenate human genome and transcriptome into one file\n",
        "!cat Homo_sapiens.GRCh38.cdna.all.fa.gz Homo_sapiens.GRCh38.dna.primary_assembly.fa.gz > Homo_sapiens.GRCh38.cdna_dna.fa.gz"
      ],
      "metadata": {
        "id": "gnMWn-qjpUYO"
      },
      "id": "gnMWn-qjpUYO",
      "execution_count": 9,
      "outputs": []
    },
    {
      "cell_type": "code",
      "source": [
        "%%time\n",
        "!kb ref \\\n",
        "  --workflow custom \\\n",
        "  --aa \\\n",
        "  --d-list /content/Homo_sapiens.GRCh38.cdna_dna.fa.gz \\\n",
        "  -t 20 \\\n",
        "  -i index.idx \\\n",
        "  /content/palmdb_rdrp_seqs.fa"
      ],
      "metadata": {
        "id": "558Qf7UYAe9X",
        "colab": {
          "base_uri": "https://localhost:8080/"
        },
        "outputId": "9100b006-02fe-4aad-c1ed-445f1cad0b4a"
      },
      "id": "558Qf7UYAe9X",
      "execution_count": 18,
      "outputs": [
        {
          "output_type": "stream",
          "name": "stdout",
          "text": [
            "[2023-12-08 20:35:28,359]   DEBUG [main] Printing verbose output\n",
            "[2023-12-08 20:35:30,565]   DEBUG [main] kallisto binary located at /usr/local/lib/python3.10/dist-packages/kb_python/bins/linux/kallisto/kallisto\n",
            "[2023-12-08 20:35:30,565]   DEBUG [main] bustools binary located at /usr/local/lib/python3.10/dist-packages/kb_python/bins/linux/bustools/bustools\n",
            "[2023-12-08 20:35:30,565]   DEBUG [main] Creating `tmp` directory\n",
            "[2023-12-08 20:35:30,566]   DEBUG [main] Namespace(list=False, command='ref', tmp=None, keep_tmp=False, verbose=True, i='index.idx', g=None, f1=None, include_attribute=None, exclude_attribute=None, f2=None, c1=None, c2=None, d=None, k=None, t=20, d_list='/content/Homo_sapiens.GRCh38.cdna_dna.fa.gz', d_list_overhang=1, aa=True, workflow='custom', distinguish=False, make_unique=False, overwrite=True, kallisto='/usr/local/lib/python3.10/dist-packages/kb_python/bins/linux/kallisto/kallisto', bustools='/usr/local/lib/python3.10/dist-packages/kb_python/bins/linux/bustools/bustools', fasta='/content/palmdb_rdrp_seqs.fa', gtf=None, feature=None, no_mismatches=False, ec_max_size=None, flank=None)\n",
            "[2023-12-08 20:35:30,566]    INFO [ref_custom] Indexing /content/palmdb_rdrp_seqs.fa to index.idx\n",
            "[2023-12-08 20:35:30,566]   DEBUG [ref_custom] kallisto index -i index.idx -k 31 -t 20 -d /content/Homo_sapiens.GRCh38.cdna_dna.fa.gz --aa /content/palmdb_rdrp_seqs.fa\n",
            "[2023-12-08 20:35:30,667]   DEBUG [ref_custom] \n",
            "[2023-12-08 20:35:30,668]   DEBUG [ref_custom] [index] --d-list-overhang was set to 3 (with --aa, the d-list overhang must be >= 3)\n",
            "[2023-12-08 20:35:30,668]   DEBUG [ref_custom] [build] loading fasta file /content/palmdb_rdrp_seqs.fa\n",
            "[2023-12-08 20:35:30,668]   DEBUG [ref_custom] [build] k-mer length: 31\n",
            "[2023-12-08 20:35:33,073]   DEBUG [ref_custom] KmerStream::KmerStream(): Start computing k-mer cardinality estimations (1/2)\n",
            "[2023-12-08 20:35:33,073]   DEBUG [ref_custom] KmerStream::KmerStream(): Start computing k-mer cardinality estimations (1/2)\n",
            "[2023-12-08 20:35:34,376]   DEBUG [ref_custom] KmerStream::KmerStream(): Finished\n",
            "[2023-12-08 20:35:34,778]   DEBUG [ref_custom] CompactedDBG::build(): Estimated number of k-mers occurring at least once: 37641510\n",
            "[2023-12-08 20:35:34,778]   DEBUG [ref_custom] CompactedDBG::build(): Estimated number of minimizer occurring at least once: 7877811\n",
            "[2023-12-08 20:35:35,780]   DEBUG [ref_custom] CompactedDBG::filter(): Processed 87630084 k-mers in 296561 reads\n",
            "[2023-12-08 20:35:35,781]   DEBUG [ref_custom] CompactedDBG::filter(): Found 37509401 unique k-mers\n",
            "[2023-12-08 20:35:35,781]   DEBUG [ref_custom] CompactedDBG::filter(): Number of blocks in Bloom filter is 257317\n",
            "[2023-12-08 20:35:36,282]   DEBUG [ref_custom] CompactedDBG::construct(): Extract approximate unitigs (1/2)\n",
            "[2023-12-08 20:35:55,226]   DEBUG [ref_custom] CompactedDBG::construct(): Extract approximate unitigs (2/2)\n",
            "[2023-12-08 20:36:01,742]   DEBUG [ref_custom] CompactedDBG::construct(): Closed all input files\n",
            "[2023-12-08 20:36:01,743]   DEBUG [ref_custom] \n",
            "[2023-12-08 20:36:01,743]   DEBUG [ref_custom] CompactedDBG::construct(): Splitting unitigs (1/2)\n",
            "[2023-12-08 20:36:01,843]   DEBUG [ref_custom] \n",
            "[2023-12-08 20:36:01,843]   DEBUG [ref_custom] CompactedDBG::construct(): Splitting unitigs (2/2)\n",
            "[2023-12-08 20:36:02,645]   DEBUG [ref_custom] CompactedDBG::construct(): Before split: 2040605 unitigs\n",
            "[2023-12-08 20:36:02,645]   DEBUG [ref_custom] CompactedDBG::construct(): After split (1/1): 2040605 unitigs\n",
            "[2023-12-08 20:36:02,645]   DEBUG [ref_custom] CompactedDBG::construct(): Unitigs split: 1612\n",
            "[2023-12-08 20:36:02,645]   DEBUG [ref_custom] CompactedDBG::construct(): Unitigs deleted: 0\n",
            "[2023-12-08 20:36:02,645]   DEBUG [ref_custom] \n",
            "[2023-12-08 20:36:02,645]   DEBUG [ref_custom] CompactedDBG::construct(): Joining unitigs\n",
            "[2023-12-08 20:36:04,048]   DEBUG [ref_custom] CompactedDBG::construct(): After join: 2021701 unitigs\n",
            "[2023-12-08 20:36:04,049]   DEBUG [ref_custom] CompactedDBG::construct(): Joined 19280 unitigs\n",
            "[2023-12-08 20:36:04,850]   DEBUG [ref_custom] [build] extracting D-list k-mers from \"/content/Homo_sapiens.GRCh38.cdna_dna.fa.gz\"\n",
            "[2023-12-08 21:13:01,610]   DEBUG [ref_custom] [build] identified 48235 distinguishing flanking k-mers\n",
            "[2023-12-08 21:13:04,618]   DEBUG [ref_custom] [build] building MPHF\n",
            "[2023-12-08 21:13:08,728]   DEBUG [ref_custom] [build] creating equivalence classes ...\n",
            "[2023-12-08 21:14:07,856]   DEBUG [ref_custom] [build] target de Bruijn graph has k-mer length 31 and minimizer length 23\n",
            "[2023-12-08 21:14:07,956]   DEBUG [ref_custom] [build] target de Bruijn graph has 2021703 contigs and contains 37541757 k-mers\n",
            "[2023-12-08 21:14:20,483]   DEBUG [ref_custom] \n",
            "[2023-12-08 21:14:21,687]    INFO [ref_custom] Finished creating custom index\n",
            "[2023-12-08 21:14:21,687]   DEBUG [main] Removing `tmp` directory\n",
            "CPU times: user 13.5 s, sys: 2.08 s, total: 15.5 s\n",
            "Wall time: 38min 57s\n"
          ]
        }
      ]
    },
    {
      "cell_type": "markdown",
      "source": [
        "# Align sequencing data and generate virus count matrix\n",
        "The `-x` techology tells `kb` where to find the barcode and UMI in the data. We will treat the SMART-Seq data like bulk data for this validation.  \n",
        "\n",
        "Instead of passing one fastq file at a time, we are using a batch file to tell `kb` where to find all of the data at once.\n",
        "\n",
        "`--batch-barcodes` stores the sample identifiers in the barcodes."
      ],
      "metadata": {
        "id": "PWV9c9sR8Noq"
      },
      "id": "PWV9c9sR8Noq"
    },
    {
      "cell_type": "code",
      "source": [
        "%%time\n",
        "!kb count \\\n",
        "  --aa \\\n",
        "  --h5ad \\\n",
        "  -t 20 \\\n",
        "  -i index.idx \\\n",
        "  -g palmdb_clustered_t2g.txt \\\n",
        "  -x bulk \\\n",
        "  --parity single \\\n",
        "  -o kb_results \\\n",
        "  --batch-barcodes \\\n",
        "  batch.txt"
      ],
      "metadata": {
        "id": "ye9vIBRg8KkY",
        "colab": {
          "base_uri": "https://localhost:8080/"
        },
        "outputId": "bf1d4fbe-ee2e-4119-bd5b-fb058855f2a3"
      },
      "id": "ye9vIBRg8KkY",
      "execution_count": 19,
      "outputs": [
        {
          "output_type": "stream",
          "name": "stdout",
          "text": [
            "usage: kb [-h] [--list] <CMD> ...\n",
            "kb: error: `--batch-barcodes` may not be used for technology BULK\n",
            "CPU times: user 50.7 ms, sys: 9.99 ms, total: 60.7 ms\n",
            "Wall time: 8.13 s\n"
          ]
        }
      ]
    },
    {
      "cell_type": "markdown",
      "source": [
        "Download generated alignment:"
      ],
      "metadata": {
        "id": "LPhiAIrssgSB"
      },
      "id": "LPhiAIrssgSB"
    },
    {
      "cell_type": "code",
      "source": [
        "from google.colab import files\n",
        "\n",
        "!zip -r kb_results.zip kb_results\n",
        "files.download(\"kb_results.zip\")"
      ],
      "metadata": {
        "id": "Tt2Qr3Op_K3X",
        "colab": {
          "base_uri": "https://localhost:8080/",
          "height": 54
        },
        "outputId": "065a270b-af93-4acc-fe55-dc69479e57f7"
      },
      "id": "Tt2Qr3Op_K3X",
      "execution_count": 20,
      "outputs": [
        {
          "output_type": "stream",
          "name": "stdout",
          "text": [
            "updating: kb_results/ (stored 0%)\n"
          ]
        },
        {
          "output_type": "display_data",
          "data": {
            "text/plain": [
              "<IPython.core.display.Javascript object>"
            ],
            "application/javascript": [
              "\n",
              "    async function download(id, filename, size) {\n",
              "      if (!google.colab.kernel.accessAllowed) {\n",
              "        return;\n",
              "      }\n",
              "      const div = document.createElement('div');\n",
              "      const label = document.createElement('label');\n",
              "      label.textContent = `Downloading \"${filename}\": `;\n",
              "      div.appendChild(label);\n",
              "      const progress = document.createElement('progress');\n",
              "      progress.max = size;\n",
              "      div.appendChild(progress);\n",
              "      document.body.appendChild(div);\n",
              "\n",
              "      const buffers = [];\n",
              "      let downloaded = 0;\n",
              "\n",
              "      const channel = await google.colab.kernel.comms.open(id);\n",
              "      // Send a message to notify the kernel that we're ready.\n",
              "      channel.send({})\n",
              "\n",
              "      for await (const message of channel.messages) {\n",
              "        // Send a message to notify the kernel that we're ready.\n",
              "        channel.send({})\n",
              "        if (message.buffers) {\n",
              "          for (const buffer of message.buffers) {\n",
              "            buffers.push(buffer);\n",
              "            downloaded += buffer.byteLength;\n",
              "            progress.value = downloaded;\n",
              "          }\n",
              "        }\n",
              "      }\n",
              "      const blob = new Blob(buffers, {type: 'application/binary'});\n",
              "      const a = document.createElement('a');\n",
              "      a.href = window.URL.createObjectURL(blob);\n",
              "      a.download = filename;\n",
              "      div.appendChild(a);\n",
              "      a.click();\n",
              "      div.remove();\n",
              "    }\n",
              "  "
            ]
          },
          "metadata": {}
        },
        {
          "output_type": "display_data",
          "data": {
            "text/plain": [
              "<IPython.core.display.Javascript object>"
            ],
            "application/javascript": [
              "download(\"download_238a23d6-7e90-462b-8f69-b0f42ab21569\", \"kb_results.zip\", 172)"
            ]
          },
          "metadata": {}
        }
      ]
    }
  ],
  "metadata": {
    "kernelspec": {
      "display_name": "Python 3",
      "name": "python3"
    },
    "language_info": {
      "codemirror_mode": {
        "name": "ipython",
        "version": 3
      },
      "file_extension": ".py",
      "mimetype": "text/x-python",
      "name": "python",
      "nbconvert_exporter": "python",
      "pygments_lexer": "ipython3",
      "version": "3.9.12"
    },
    "colab": {
      "provenance": [],
      "machine_shape": "hm"
    },
    "accelerator": "TPU"
  },
  "nbformat": 4,
  "nbformat_minor": 5
}