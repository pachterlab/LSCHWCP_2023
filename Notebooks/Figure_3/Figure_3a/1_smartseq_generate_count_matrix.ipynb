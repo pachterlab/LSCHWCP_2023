{
 "cells": [
  {
   "cell_type": "markdown",
   "id": "698e706c",
   "metadata": {
    "colab_type": "text",
    "id": "view-in-github"
   },
   "source": [
    "<a href=\"https://colab.research.google.com/github/lauraluebbert/LSEP_2023/blob/main/Fig1/Validation/1_smartseq_generate_count_matrix.ipynb\" target=\"_parent\"><img src=\"https://colab.research.google.com/assets/colab-badge.svg\" alt=\"Open In Colab\"/></a>"
   ]
  },
  {
   "cell_type": "markdown",
   "id": "c8c7de9b-2008-47c8-b085-08019411468d",
   "metadata": {
    "id": "c8c7de9b-2008-47c8-b085-08019411468d"
   },
   "source": [
    "# Validation using SARS-CoV2 infected human iPSC derived cardiomyocytes\n",
    "Data source: https://doi.org/10.1016/j.xcrm.2020.100052  "
   ]
  },
  {
   "cell_type": "markdown",
   "id": "-eKhcIWCuqc9",
   "metadata": {
    "id": "-eKhcIWCuqc9"
   },
   "source": [
    "___\n",
    "# Install software"
   ]
  },
  {
   "cell_type": "code",
   "execution_count": 1,
   "id": "5dafc3c8-5ded-4928-a4dd-bb6ecedb3012",
   "metadata": {
    "colab": {
     "base_uri": "https://localhost:8080/"
    },
    "id": "5dafc3c8-5ded-4928-a4dd-bb6ecedb3012",
    "outputId": "60e95558-2f7a-476e-b047-409022e709a8"
   },
   "outputs": [
    {
     "name": "stdout",
     "output_type": "stream",
     "text": [
      "\u001b[2K     \u001b[90m━━━━━━━━━━━━━━━━━━━━━━━━━━━━━━━━━━━━━━━━\u001b[0m \u001b[32m2.2/2.2 MB\u001b[0m \u001b[31m25.6 MB/s\u001b[0m eta \u001b[36m0:00:00\u001b[0m\n",
      "\u001b[2K     \u001b[90m━━━━━━━━━━━━━━━━━━━━━━━━━━━━━━━━━━━━━━━━\u001b[0m \u001b[32m25.2/25.2 MB\u001b[0m \u001b[31m58.0 MB/s\u001b[0m eta \u001b[36m0:00:00\u001b[0m\n",
      "\u001b[2K     \u001b[90m━━━━━━━━━━━━━━━━━━━━━━━━━━━━━━━━━━━━━━━━\u001b[0m \u001b[32m1.6/1.6 MB\u001b[0m \u001b[31m64.8 MB/s\u001b[0m eta \u001b[36m0:00:00\u001b[0m\n",
      "\u001b[?25h"
     ]
    }
   ],
   "source": [
    "!pip install -q ffq gget kb_python"
   ]
  },
  {
   "cell_type": "code",
   "execution_count": 30,
   "id": "dwvfmrxWzP2t",
   "metadata": {
    "colab": {
     "base_uri": "https://localhost:8080/"
    },
    "id": "dwvfmrxWzP2t",
    "outputId": "38102c63-c42e-4f1d-821a-3c7f34c4426a"
   },
   "outputs": [
    {
     "name": "stdout",
     "output_type": "stream",
     "text": [
      "  Preparing metadata (setup.py) ... \u001b[?25l\u001b[?25hdone\n",
      "Cloning into 'kallisto'...\n",
      "remote: Enumerating objects: 7711, done.\u001b[K\n",
      "remote: Counting objects: 100% (735/735), done.\u001b[K\n",
      "remote: Compressing objects: 100% (165/165), done.\u001b[K\n",
      "remote: Total 7711 (delta 590), reused 572 (delta 570), pack-reused 6976\u001b[K\n",
      "Receiving objects: 100% (7711/7711), 8.73 MiB | 12.43 MiB/s, done.\n",
      "Resolving deltas: 100% (5102/5102), done.\n",
      "-- The C compiler identification is GNU 9.4.0\n",
      "-- The CXX compiler identification is GNU 9.4.0\n",
      "-- Detecting C compiler ABI info\n",
      "-- Detecting C compiler ABI info - done\n",
      "-- Check for working C compiler: /usr/bin/cc - skipped\n",
      "-- Detecting C compile features\n",
      "-- Detecting C compile features - done\n",
      "-- Detecting CXX compiler ABI info\n",
      "-- Detecting CXX compiler ABI info - done\n",
      "-- Check for working CXX compiler: /usr/bin/c++ - skipped\n",
      "-- Detecting CXX compile features\n",
      "-- Detecting CXX compile features - done\n",
      "-- Performing Test COMPILER_SUPPORTS_CXX17\n",
      "-- Performing Test COMPILER_SUPPORTS_CXX17 - Success\n",
      "\u001b[0mshared build\u001b[0m\n",
      "-- Performing Test CMAKE_HAVE_LIBC_PTHREAD\n",
      "-- Performing Test CMAKE_HAVE_LIBC_PTHREAD - Failed\n",
      "-- Looking for pthread_create in pthreads\n",
      "-- Looking for pthread_create in pthreads - not found\n",
      "-- Looking for pthread_create in pthread\n",
      "-- Looking for pthread_create in pthread - found\n",
      "-- Found Threads: TRUE  \n",
      "-- Found ZLIB: /usr/lib/x86_64-linux-gnu/libz.so (found version \"1.2.11\") \n",
      "-- Configuring done\n",
      "-- Generating done\n",
      "-- Build files have been written to: /content/kallisto/build\n",
      "[  3%] \u001b[34m\u001b[1mCreating directories for 'bifrost'\u001b[0m\n",
      "[  7%] \u001b[34m\u001b[1mNo download step for 'bifrost'\u001b[0m\n",
      "[ 11%] \u001b[34m\u001b[1mNo update step for 'bifrost'\u001b[0m\n",
      "[ 15%] \u001b[34m\u001b[1mNo patch step for 'bifrost'\u001b[0m\n",
      "[ 19%] \u001b[34m\u001b[1mPerforming configure step for 'bifrost'\u001b[0m\n",
      "-- The C compiler identification is GNU 9.4.0\n",
      "-- The CXX compiler identification is GNU 9.4.0\n",
      "-- Detecting C compiler ABI info\n",
      "-- Detecting C compiler ABI info - done\n",
      "-- Check for working C compiler: /usr/bin/cc - skipped\n",
      "-- Detecting C compile features\n",
      "-- Detecting C compile features - done\n",
      "-- Detecting CXX compiler ABI info\n",
      "-- Detecting CXX compiler ABI info - done\n",
      "-- Check for working CXX compiler: /usr/bin/c++ - skipped\n",
      "-- Detecting CXX compile features\n",
      "-- Detecting CXX compile features - done\n",
      "-- Performing Test CMAKE_HAVE_LIBC_PTHREAD\n",
      "-- Performing Test CMAKE_HAVE_LIBC_PTHREAD - Failed\n",
      "-- Looking for pthread_create in pthreads\n",
      "-- Looking for pthread_create in pthreads - not found\n",
      "-- Looking for pthread_create in pthread\n",
      "-- Looking for pthread_create in pthread - found\n",
      "-- Found Threads: TRUE  \n",
      "\u001b[0mCompilation architecture: native\u001b[0m\n",
      "\u001b[0mBuild type: Release\u001b[0m\n",
      "\u001b[0mMaximum k-mer size: 31\u001b[0m\n",
      "\u001b[0mMaximum g-mer size: 31\u001b[0m\n",
      "-- Found ZLIB: /usr/lib/x86_64-linux-gnu/libz.so (found version \"1.2.11\") \n",
      "-- Configuring done\n",
      "-- Generating done\n",
      "-- Build files have been written to: /content/kallisto/ext/bifrost/build\n",
      "[ 23%] \u001b[34m\u001b[1mPerforming build step for 'bifrost'\u001b[0m\n",
      "[  3%] \u001b[32mBuilding CXX object src/CMakeFiles/bifrost_static.dir/Bifrost.cpp.o\u001b[0m\n",
      "[  6%] \u001b[32mBuilding CXX object src/CMakeFiles/bifrost_static.dir/BitContainer.cpp.o\u001b[0m\n",
      "[  9%] \u001b[32mBuilding CXX object src/CMakeFiles/bifrost_static.dir/BlockedBloomFilter.cpp.o\u001b[0m\n",
      "[ 12%] \u001b[32mBuilding CXX object src/CMakeFiles/bifrost_static.dir/ColorSet.cpp.o\u001b[0m\n",
      "[ 15%] \u001b[32mBuilding CXX object src/CMakeFiles/bifrost_static.dir/CompressedCoverage.cpp.o\u001b[0m\n",
      "[ 18%] \u001b[32mBuilding CXX object src/CMakeFiles/bifrost_static.dir/CompressedSequence.cpp.o\u001b[0m\n",
      "[ 21%] \u001b[32mBuilding CXX object src/CMakeFiles/bifrost_static.dir/FASTX_Parser.cpp.o\u001b[0m\n",
      "[ 25%] \u001b[32mBuilding CXX object src/CMakeFiles/bifrost_static.dir/GFA_Parser.cpp.o\u001b[0m\n",
      "[ 28%] \u001b[32mBuilding CXX object src/CMakeFiles/bifrost_static.dir/Kmer.cpp.o\u001b[0m\n",
      "[ 31%] \u001b[32mBuilding CXX object src/CMakeFiles/bifrost_static.dir/KmerIterator.cpp.o\u001b[0m\n",
      "[ 34%] \u001b[32mBuilding CXX object src/CMakeFiles/bifrost_static.dir/MinimizerIndex.cpp.o\u001b[0m\n",
      "[ 37%] \u001b[32mBuilding CXX object src/CMakeFiles/bifrost_static.dir/TinyBitmap.cpp.o\u001b[0m\n",
      "[ 40%] \u001b[32mBuilding CXX object src/CMakeFiles/bifrost_static.dir/UnitigMap.cpp.o\u001b[0m\n",
      "[ 43%] \u001b[32mBuilding C object src/CMakeFiles/bifrost_static.dir/roaring.c.o\u001b[0m\n",
      "[ 46%] \u001b[32m\u001b[1mLinking CXX static library libbifrost.a\u001b[0m\n",
      "[ 46%] Built target bifrost_static\n",
      "[ 50%] \u001b[32mBuilding CXX object src/CMakeFiles/bifrost_dynamic.dir/Bifrost.cpp.o\u001b[0m\n",
      "[ 53%] \u001b[32mBuilding CXX object src/CMakeFiles/bifrost_dynamic.dir/BitContainer.cpp.o\u001b[0m\n",
      "[ 56%] \u001b[32mBuilding CXX object src/CMakeFiles/bifrost_dynamic.dir/BlockedBloomFilter.cpp.o\u001b[0m\n",
      "[ 59%] \u001b[32mBuilding CXX object src/CMakeFiles/bifrost_dynamic.dir/ColorSet.cpp.o\u001b[0m\n",
      "[ 62%] \u001b[32mBuilding CXX object src/CMakeFiles/bifrost_dynamic.dir/CompressedCoverage.cpp.o\u001b[0m\n",
      "[ 65%] \u001b[32mBuilding CXX object src/CMakeFiles/bifrost_dynamic.dir/CompressedSequence.cpp.o\u001b[0m\n",
      "[ 68%] \u001b[32mBuilding CXX object src/CMakeFiles/bifrost_dynamic.dir/FASTX_Parser.cpp.o\u001b[0m\n",
      "[ 71%] \u001b[32mBuilding CXX object src/CMakeFiles/bifrost_dynamic.dir/GFA_Parser.cpp.o\u001b[0m\n",
      "[ 75%] \u001b[32mBuilding CXX object src/CMakeFiles/bifrost_dynamic.dir/Kmer.cpp.o\u001b[0m\n",
      "[ 78%] \u001b[32mBuilding CXX object src/CMakeFiles/bifrost_dynamic.dir/KmerIterator.cpp.o\u001b[0m\n",
      "[ 81%] \u001b[32mBuilding CXX object src/CMakeFiles/bifrost_dynamic.dir/MinimizerIndex.cpp.o\u001b[0m\n",
      "[ 84%] \u001b[32mBuilding CXX object src/CMakeFiles/bifrost_dynamic.dir/TinyBitmap.cpp.o\u001b[0m\n",
      "[ 87%] \u001b[32mBuilding CXX object src/CMakeFiles/bifrost_dynamic.dir/UnitigMap.cpp.o\u001b[0m\n",
      "[ 90%] \u001b[32mBuilding C object src/CMakeFiles/bifrost_dynamic.dir/roaring.c.o\u001b[0m\n",
      "[ 93%] \u001b[32m\u001b[1mLinking CXX shared library libbifrost.so\u001b[0m\n",
      "[ 93%] Built target bifrost_dynamic\n",
      "[ 96%] \u001b[32mBuilding CXX object src/CMakeFiles/Bifrost.dir/Bifrost.cpp.o\u001b[0m\n",
      "[100%] \u001b[32m\u001b[1mLinking CXX executable Bifrost\u001b[0m\n",
      "[100%] Built target Bifrost\n",
      "[ 26%] \u001b[34m\u001b[1mNo install step for 'bifrost'\u001b[0m\n",
      "[ 30%] \u001b[34m\u001b[1mCompleted 'bifrost'\u001b[0m\n",
      "[ 30%] Built target bifrost\n",
      "[ 34%] \u001b[32mBuilding CXX object src/CMakeFiles/kallisto_core.dir/BUSData.cpp.o\u001b[0m\n",
      "[ 38%] \u001b[32mBuilding CXX object src/CMakeFiles/kallisto_core.dir/BUSTools.cpp.o\u001b[0m\n",
      "[ 42%] \u001b[32mBuilding CXX object src/CMakeFiles/kallisto_core.dir/Bootstrap.cpp.o\u001b[0m\n",
      "[ 46%] \u001b[32mBuilding CXX object src/CMakeFiles/kallisto_core.dir/GeneModel.cpp.o\u001b[0m\n",
      "[ 50%] \u001b[32mBuilding CXX object src/CMakeFiles/kallisto_core.dir/H5Writer.cpp.o\u001b[0m\n",
      "[ 53%] \u001b[32mBuilding CXX object src/CMakeFiles/kallisto_core.dir/KmerIndex.cpp.o\u001b[0m\n",
      "[ 57%] \u001b[32mBuilding CXX object src/CMakeFiles/kallisto_core.dir/MinCollector.cpp.o\u001b[0m\n",
      "[ 61%] \u001b[32mBuilding CXX object src/CMakeFiles/kallisto_core.dir/PlaintextWriter.cpp.o\u001b[0m\n",
      "[ 65%] \u001b[32mBuilding CXX object src/CMakeFiles/kallisto_core.dir/ProcessReads.cpp.o\u001b[0m\n",
      "[ 69%] \u001b[32mBuilding CXX object src/CMakeFiles/kallisto_core.dir/PseudoBam.cpp.o\u001b[0m\n",
      "[ 73%] \u001b[32mBuilding CXX object src/CMakeFiles/kallisto_core.dir/common.cpp.o\u001b[0m\n",
      "[ 76%] \u001b[32mBuilding CXX object src/CMakeFiles/kallisto_core.dir/h5utils.cpp.o\u001b[0m\n",
      "[ 80%] \u001b[32mBuilding CXX object src/CMakeFiles/kallisto_core.dir/hash.cpp.o\u001b[0m\n",
      "[ 84%] \u001b[32mBuilding CXX object src/CMakeFiles/kallisto_core.dir/main.cpp.o\u001b[0m\n",
      "[ 88%] \u001b[32mBuilding CXX object src/CMakeFiles/kallisto_core.dir/weights.cpp.o\u001b[0m\n",
      "[ 92%] \u001b[32m\u001b[1mLinking CXX static library libkallisto_core.a\u001b[0m\n",
      "[ 92%] Built target kallisto_core\n",
      "[ 96%] \u001b[32mBuilding CXX object src/CMakeFiles/kallisto.dir/main.cpp.o\u001b[0m\n",
      "[100%] \u001b[32m\u001b[1mLinking CXX executable kallisto\u001b[0m\n",
      "[100%] Built target kallisto\n",
      "[ 30%] Built target bifrost\n",
      "[ 92%] Built target kallisto_core\n",
      "[100%] Built target kallisto\n",
      "\u001b[36mInstall the project...\u001b[0m\n",
      "-- Install configuration: \"Release\"\n",
      "-- Installing: /usr/local/bin/kallisto\n",
      "Cloning into 'bustools'...\n",
      "remote: Enumerating objects: 3449, done.\u001b[K\n",
      "remote: Counting objects: 100% (661/661), done.\u001b[K\n",
      "remote: Compressing objects: 100% (247/247), done.\u001b[K\n",
      "remote: Total 3449 (delta 494), reused 485 (delta 412), pack-reused 2788\u001b[K\n",
      "Receiving objects: 100% (3449/3449), 3.37 MiB | 7.97 MiB/s, done.\n",
      "Resolving deltas: 100% (1373/1373), done.\n",
      "Branch 'devel' set up to track remote branch 'devel' from 'origin'.\n",
      "Switched to a new branch 'devel'\n",
      "-- The C compiler identification is GNU 9.4.0\n",
      "-- The CXX compiler identification is GNU 9.4.0\n",
      "-- Detecting C compiler ABI info\n",
      "-- Detecting C compiler ABI info - done\n",
      "-- Check for working C compiler: /usr/bin/cc - skipped\n",
      "-- Detecting C compile features\n",
      "-- Detecting C compile features - done\n",
      "-- Detecting CXX compiler ABI info\n",
      "-- Detecting CXX compiler ABI info - done\n",
      "-- Check for working CXX compiler: /usr/bin/c++ - skipped\n",
      "-- Detecting CXX compile features\n",
      "-- Detecting CXX compile features - done\n",
      "\u001b[0mrelease mode\u001b[0m\n",
      "-- Performing Test CMAKE_HAVE_LIBC_PTHREAD\n",
      "-- Performing Test CMAKE_HAVE_LIBC_PTHREAD - Failed\n",
      "-- Looking for pthread_create in pthreads\n",
      "-- Looking for pthread_create in pthreads - not found\n",
      "-- Looking for pthread_create in pthread\n",
      "-- Looking for pthread_create in pthread - found\n",
      "-- Found Threads: TRUE  \n",
      "-- Found ZLIB: /usr/lib/x86_64-linux-gnu/libz.so (found version \"1.2.11\") \n",
      "-- Configuring done\n",
      "-- Generating done\n",
      "-- Build files have been written to: /content/bustools/build\n",
      "[  3%] \u001b[32mBuilding CXX object src/CMakeFiles/bustools_core.dir/BUSData.cpp.o\u001b[0m\n",
      "[  7%] \u001b[32mBuilding CXX object src/CMakeFiles/bustools_core.dir/Common.cpp.o\u001b[0m\n",
      "[ 11%] \u001b[32mBuilding CXX object src/CMakeFiles/bustools_core.dir/bustools_capture.cpp.o\u001b[0m\n",
      "[ 15%] \u001b[32mBuilding CXX object src/CMakeFiles/bustools_core.dir/bustools_clusterhist.cpp.o\u001b[0m\n",
      "[ 19%] \u001b[32mBuilding CXX object src/CMakeFiles/bustools_core.dir/bustools_collapse.cpp.o\u001b[0m\n",
      "[ 23%] \u001b[32mBuilding CXX object src/CMakeFiles/bustools_core.dir/bustools_compress.cpp.o\u001b[0m\n",
      "[ 26%] \u001b[32mBuilding CXX object src/CMakeFiles/bustools_core.dir/bustools_correct.cpp.o\u001b[0m\n",
      "[ 30%] \u001b[32mBuilding CXX object src/CMakeFiles/bustools_core.dir/bustools_count.cpp.o\u001b[0m\n",
      "[ 34%] \u001b[32mBuilding CXX object src/CMakeFiles/bustools_core.dir/bustools_decompress.cpp.o\u001b[0m\n",
      "[ 38%] \u001b[32mBuilding CXX object src/CMakeFiles/bustools_core.dir/bustools_extract.cpp.o\u001b[0m\n",
      "[ 42%] \u001b[32mBuilding CXX object src/CMakeFiles/bustools_core.dir/bustools_inspect.cpp.o\u001b[0m\n",
      "[ 46%] \u001b[32mBuilding CXX object src/CMakeFiles/bustools_core.dir/bustools_linker.cpp.o\u001b[0m\n",
      "[ 50%] \u001b[32mBuilding CXX object src/CMakeFiles/bustools_core.dir/bustools_main.cpp.o\u001b[0m\n",
      "[ 53%] \u001b[32mBuilding CXX object src/CMakeFiles/bustools_core.dir/bustools_mash.cpp.o\u001b[0m\n",
      "[ 57%] \u001b[32mBuilding CXX object src/CMakeFiles/bustools_core.dir/bustools_merge.cpp.o\u001b[0m\n",
      "[ 61%] \u001b[32mBuilding CXX object src/CMakeFiles/bustools_core.dir/bustools_predict.cpp.o\u001b[0m\n",
      "[ 65%] \u001b[32mBuilding CXX object src/CMakeFiles/bustools_core.dir/bustools_project.cpp.o\u001b[0m\n",
      "[ 69%] \u001b[32mBuilding CXX object src/CMakeFiles/bustools_core.dir/bustools_sort.cpp.o\u001b[0m\n",
      "[ 73%] \u001b[32mBuilding CXX object src/CMakeFiles/bustools_core.dir/bustools_text.cpp.o\u001b[0m\n",
      "[ 76%] \u001b[32mBuilding CXX object src/CMakeFiles/bustools_core.dir/bustools_umicorrect.cpp.o\u001b[0m\n",
      "[ 80%] \u001b[32mBuilding CXX object src/CMakeFiles/bustools_core.dir/bustools_whitelist.cpp.o\u001b[0m\n",
      "[ 84%] \u001b[32mBuilding CXX object src/CMakeFiles/bustools_core.dir/hash.cpp.o\u001b[0m\n",
      "[ 88%] \u001b[32mBuilding C object src/CMakeFiles/bustools_core.dir/roaring.c.o\u001b[0m\n",
      "[ 92%] \u001b[32m\u001b[1mLinking CXX static library libbustools_core.a\u001b[0m\n",
      "[ 92%] Built target bustools_core\n",
      "[ 96%] \u001b[32mBuilding CXX object src/CMakeFiles/bustools.dir/bustools_main.cpp.o\u001b[0m\n",
      "[100%] \u001b[32m\u001b[1mLinking CXX executable bustools\u001b[0m\n",
      "[100%] Built target bustools\n",
      "[ 92%] Built target bustools_core\n",
      "[100%] Built target bustools\n",
      "\u001b[36mInstall the project...\u001b[0m\n",
      "-- Install configuration: \"Release\"\n",
      "-- Installing: /usr/local/bin/bustools\n"
     ]
    }
   ],
   "source": [
    "# Install kb_python, kallisto and bustools from dev branch\n",
    "# After the official release, everything in this cell will become 'pip install kb-python'\n",
    "!pip install -q git+https://github.com/pachterlab/kb_python.git@devel\n",
    "\n",
    "!git clone https://github.com/pachterlab/kallisto.git\n",
    "!mkdir kallisto/build && cd kallisto/build && cmake .. && make && make install\n",
    "\n",
    "!git clone https://github.com/BUStools/bustools.git && cd bustools && git checkout devel\n",
    "!mkdir bustools/build && cd bustools/build && cmake .. && make && make install"
   ]
  },
  {
   "cell_type": "markdown",
   "id": "Y_daAXX5uvEr",
   "metadata": {
    "id": "Y_daAXX5uvEr"
   },
   "source": [
    "# Download SMART-Seq data"
   ]
  },
  {
   "cell_type": "code",
   "execution_count": 39,
   "id": "KAf_zb4mu_hq",
   "metadata": {
    "id": "KAf_zb4mu_hq"
   },
   "outputs": [],
   "source": [
    "import json\n",
    "import glob"
   ]
  },
  {
   "cell_type": "code",
   "execution_count": 13,
   "id": "7d0e3a96-e0f9-4284-834b-8984bed7e9ab",
   "metadata": {
    "colab": {
     "base_uri": "https://localhost:8080/"
    },
    "id": "7d0e3a96-e0f9-4284-834b-8984bed7e9ab",
    "outputId": "40971ca1-e4c0-4132-d25b-10c6674d68cd"
   },
   "outputs": [
    {
     "name": "stdout",
     "output_type": "stream",
     "text": [
      "[2023-06-28 20:44:47,919]    INFO Parsing run SRR11777734\n",
      "[2023-06-28 20:44:49,634]    INFO Parsing run SRR11777735\n",
      "[2023-06-28 20:44:51,372]    INFO Parsing run SRR11777736\n",
      "[2023-06-28 20:44:52,802]    INFO Parsing run SRR11777737\n",
      "[2023-06-28 20:44:54,275]    INFO Parsing run SRR11777738\n",
      "[2023-06-28 20:44:55,882]    INFO Parsing run SRR11777739\n"
     ]
    }
   ],
   "source": [
    "# Get ftp download links for raw data with ffq and store results in json file\n",
    "!ffq SRR11777734 SRR11777735 SRR11777736 SRR11777737 SRR11777738 SRR11777739 \\\n",
    "    --ftp \\\n",
    "    -o ffq.json"
   ]
  },
  {
   "cell_type": "code",
   "execution_count": null,
   "id": "699a4df0-c602-4033-aef0-1c95a960b49b",
   "metadata": {
    "id": "699a4df0-c602-4033-aef0-1c95a960b49b"
   },
   "outputs": [],
   "source": [
    "# Load ffq output\n",
    "f = open(\"ffq.json\")\n",
    "data_json = json.load(f)\n",
    "f.close()"
   ]
  },
  {
   "cell_type": "code",
   "execution_count": 15,
   "id": "5979d304-7c2f-44f9-a399-41762f88ce46",
   "metadata": {
    "colab": {
     "base_uri": "https://localhost:8080/"
    },
    "id": "5979d304-7c2f-44f9-a399-41762f88ce46",
    "outputId": "a34bafc4-e162-49f2-c113-3edc14df5e4b"
   },
   "outputs": [
    {
     "name": "stdout",
     "output_type": "stream",
     "text": [
      "  % Total    % Received % Xferd  Average Speed   Time    Time     Time  Current\n",
      "                                 Dload  Upload   Total   Spent    Left  Speed\n",
      "100 2962M  100 2962M    0     0  31.3M      0  0:01:34  0:01:34 --:--:-- 31.5M\n",
      "  % Total    % Received % Xferd  Average Speed   Time    Time     Time  Current\n",
      "                                 Dload  Upload   Total   Spent    Left  Speed\n",
      "100 2634M  100 2634M    0     0  30.2M      0  0:01:27  0:01:27 --:--:-- 31.7M\n",
      "  % Total    % Received % Xferd  Average Speed   Time    Time     Time  Current\n",
      "                                 Dload  Upload   Total   Spent    Left  Speed\n",
      "100 2484M  100 2484M    0     0  31.0M      0  0:01:20  0:01:20 --:--:-- 31.5M\n",
      "  % Total    % Received % Xferd  Average Speed   Time    Time     Time  Current\n",
      "                                 Dload  Upload   Total   Spent    Left  Speed\n",
      "100 3018M  100 3018M    0     0  31.3M      0  0:01:36  0:01:36 --:--:-- 31.1M\n",
      "  % Total    % Received % Xferd  Average Speed   Time    Time     Time  Current\n",
      "                                 Dload  Upload   Total   Spent    Left  Speed\n",
      "100 3737M  100 3737M    0     0  31.1M      0  0:01:59  0:01:59 --:--:-- 28.1M\n",
      "  % Total    % Received % Xferd  Average Speed   Time    Time     Time  Current\n",
      "                                 Dload  Upload   Total   Spent    Left  Speed\n",
      "100 3152M  100 3152M    0     0  31.2M      0  0:01:40  0:01:40 --:--:-- 31.6M\n"
     ]
    }
   ],
   "source": [
    "# Download raw data using FTP links fetched by ffq\n",
    "for dataset in data_json:\n",
    "    url = dataset[\"url\"]\n",
    "    !curl -O $url"
   ]
  },
  {
   "cell_type": "code",
   "execution_count": 54,
   "id": "4O_Y94P87wDu",
   "metadata": {
    "id": "4O_Y94P87wDu"
   },
   "outputs": [],
   "source": [
    "# Generate batch file pointing to each of the fastqs\n",
    "with open(\"batch.txt\", \"w\") as batchfile:\n",
    "  for fastq in glob.glob(\"*fastq.gz\"):\n",
    "      batchfile.write(fastq.split(\".\")[0] + \"\\t\" + fastq + \"\\n\")"
   ]
  },
  {
   "cell_type": "code",
   "execution_count": 16,
   "id": "Hryu650pyEYk",
   "metadata": {
    "colab": {
     "base_uri": "https://localhost:8080/"
    },
    "id": "Hryu650pyEYk",
    "outputId": "0a876454-13c0-4115-845b-ba5fc6d1dcac"
   },
   "outputs": [
    {
     "name": "stdout",
     "output_type": "stream",
     "text": [
      "  % Total    % Received % Xferd  Average Speed   Time    Time     Time  Current\n",
      "                                 Dload  Upload   Total   Spent    Left  Speed\n",
      "100 18.7M  100 18.7M    0     0  19.0M      0 --:--:-- --:--:-- --:--:-- 19.0M\n",
      "  % Total    % Received % Xferd  Average Speed   Time    Time     Time  Current\n",
      "                                 Dload  Upload   Total   Spent    Left  Speed\n",
      "100 4454k  100 4454k    0     0  11.7M      0 --:--:-- --:--:-- --:--:-- 11.7M\n",
      "  % Total    % Received % Xferd  Average Speed   Time    Time     Time  Current\n",
      "                                 Dload  Upload   Total   Spent    Left  Speed\n",
      "100 33.7M  100 33.7M    0     0  41.0M      0 --:--:-- --:--:-- --:--:-- 41.0M\n"
     ]
    }
   ],
   "source": [
    "# Download PalmDB reference files\n",
    "# Download the ID to taxonomy mapping\n",
    "!curl -O https://raw.githubusercontent.com/lauraluebbert/LSEP_2023/main/PalmDB/ID_to_taxonomy_mapping.csv?token=GHSAT0AAAAAAB5INUMZR6BPENGRSFHMZDUGZE4VQJA\n",
    "# Download the customized transcripts to gene mapping\n",
    "!curl -O https://raw.githubusercontent.com/lauraluebbert/LSEP_2023/main/PalmDB/palmdb_clustered_t2g.txt?token=GHSAT0AAAAAAB5INUMYWA4NZMY7FLBXGWBWZE4VQWQ\n",
    "# Download the RdRP amino acid sequences\n",
    "!curl -O https://raw.githubusercontent.com/lauraluebbert/LSEP_2023/main/PalmDB/palmdb_rdrp_seqs.fa?token=GHSAT0AAAAAAB5INUMYDHDHXFO2JKKSSNQSZE4VRBQ"
   ]
  },
  {
   "cell_type": "markdown",
   "id": "RxliJ1pJwYQZ",
   "metadata": {
    "id": "RxliJ1pJwYQZ"
   },
   "source": [
    "# Build virus reference index from PalmDB amino acid sequences and mask host sequences\n",
    "You can find the `kb` manual and tutorials [here](https://www.kallistobus.tools/).\n",
    "\n",
    "The `--aa` argument tells `kb` that this is an amino acid reference.  \n",
    "\n",
    "The `--d-list` argument is the path to the **host** transcriptome. These sequences will be masked in the index. Here, we are using [`gget`](https://github.com/pachterlab/gget) to fetch the human genome (release 109) FTP download link and pass it directly to `kb`.\n",
    "\n",
    "We are using `--workflow custom` here since we do not have a .gtf file for the PalmDB fasta file.\n",
    "\n",
    "Building the index will take some time (~20 min), since the human genomes is quite large."
   ]
  },
  {
   "cell_type": "code",
   "execution_count": 41,
   "id": "6asx719LAa05",
   "metadata": {
    "colab": {
     "base_uri": "https://localhost:8080/"
    },
    "id": "6asx719LAa05",
    "outputId": "d7eca82d-d083-4d2f-89fc-57d2ec7d6f01"
   },
   "outputs": [
    {
     "name": "stdout",
     "output_type": "stream",
     "text": [
      "Wed Jun 28 21:56:26 2023 INFO Fetching reference information for homo_sapiens from Ensembl release: 109.\n",
      "http://ftp.ensembl.org/pub/release-109/fasta/homo_sapiens/dna/Homo_sapiens.GRCh38.dna.primary_assembly.fa.gz\n",
      "  % Total    % Received % Xferd  Average Speed   Time    Time     Time  Current\n",
      "                                 Dload  Upload   Total   Spent    Left  Speed\n",
      "100  840M  100  840M    0     0   629k      0  0:22:46  0:22:46 --:--:--  656k\n"
     ]
    }
   ],
   "source": [
    "!gget ref -r 109 -w dna --ftp human -d"
   ]
  },
  {
   "cell_type": "code",
   "execution_count": 50,
   "id": "558Qf7UYAe9X",
   "metadata": {
    "colab": {
     "base_uri": "https://localhost:8080/"
    },
    "id": "558Qf7UYAe9X",
    "outputId": "7c9456d5-c278-4584-d113-9665eb0d1ece"
   },
   "outputs": [
    {
     "name": "stdout",
     "output_type": "stream",
     "text": [
      "[2023-06-28 23:04:31,786]   DEBUG [main] Printing verbose output\n",
      "[2023-06-28 23:04:33,992]   DEBUG [main] kallisto binary located at /usr/local/bin/kallisto\n",
      "[2023-06-28 23:04:33,992]   DEBUG [main] bustools binary located at /usr/local/bin/bustools\n",
      "[2023-06-28 23:04:33,992]   DEBUG [main] Creating `tmp` directory\n",
      "[2023-06-28 23:04:33,992]   DEBUG [main] Namespace(list=False, command='ref', tmp=None, keep_tmp=False, verbose=True, i='index.idx', g=None, f1=None, include_attribute=None, exclude_attribute=None, f2=None, c1=None, c2=None, d=None, k=None, t=2, d_list='Homo_sapiens.GRCh38.dna.primary_assembly.fa.gz', aa=True, workflow='custom', distinguish=False, make_unique=False, overwrite=True, kallisto='/usr/local/bin/kallisto', bustools='/usr/local/bin/bustools', fasta='palmdb_rdrp_seqs.fa', gtf=None, feature=None, no_mismatches=False, flank=None)\n",
      "[2023-06-28 23:04:33,993]    INFO [ref_custom] Indexing palmdb_rdrp_seqs.fa to index.idx\n",
      "[2023-06-28 23:04:33,993]   DEBUG [ref_custom] kallisto index -i index.idx -k 31 -t 2 -d Homo_sapiens.GRCh38.dna.primary_assembly.fa.gz --aa palmdb_rdrp_seqs.fa\n",
      "[2023-06-28 23:04:34,094]   DEBUG [ref_custom] \n",
      "[2023-06-28 23:04:34,094]   DEBUG [ref_custom] [build] loading fasta file palmdb_rdrp_seqs.fa\n",
      "[2023-06-28 23:04:34,095]   DEBUG [ref_custom] [build] k-mer length: 31\n",
      "[2023-06-28 23:04:37,902]   DEBUG [ref_custom] KmerStream::KmerStream(): Start computing k-mer cardinality estimations (1/2)\n",
      "[2023-06-28 23:04:38,003]   DEBUG [ref_custom] KmerStream::KmerStream(): Start computing k-mer cardinality estimations (1/2)\n",
      "[2023-06-28 23:04:46,729]   DEBUG [ref_custom] KmerStream::KmerStream(): Finished\n",
      "[2023-06-28 23:04:47,130]   DEBUG [ref_custom] CompactedDBG::build(): Estimated number of k-mers occurring at least once: 37641510\n",
      "[2023-06-28 23:04:47,130]   DEBUG [ref_custom] CompactedDBG::build(): Estimated number of minimizer occurring at least once: 7877811\n",
      "[2023-06-28 23:05:02,725]   DEBUG [ref_custom] CompactedDBG::filter(): Processed 87630084 k-mers in 296561 reads\n",
      "[2023-06-28 23:05:02,725]   DEBUG [ref_custom] CompactedDBG::filter(): Found 37509042 unique k-mers\n",
      "[2023-06-28 23:05:02,725]   DEBUG [ref_custom] CompactedDBG::filter(): Number of blocks in Bloom filter is 257317\n",
      "[2023-06-28 23:05:03,527]   DEBUG [ref_custom] CompactedDBG::construct(): Extract approximate unitigs (1/2)\n",
      "[2023-06-28 23:06:32,056]   DEBUG [ref_custom] CompactedDBG::construct(): Extract approximate unitigs (2/2)\n",
      "[2023-06-28 23:07:01,582]   DEBUG [ref_custom] CompactedDBG::construct(): Closed all input files\n",
      "[2023-06-28 23:07:01,582]   DEBUG [ref_custom] \n",
      "[2023-06-28 23:07:01,582]   DEBUG [ref_custom] CompactedDBG::construct(): Splitting unitigs (1/2)\n",
      "[2023-06-28 23:07:01,683]   DEBUG [ref_custom] \n",
      "[2023-06-28 23:07:01,683]   DEBUG [ref_custom] CompactedDBG::construct(): Splitting unitigs (2/2)\n",
      "[2023-06-28 23:07:02,685]   DEBUG [ref_custom] CompactedDBG::construct(): Before split: 2040585 unitigs\n",
      "[2023-06-28 23:07:02,686]   DEBUG [ref_custom] CompactedDBG::construct(): After split (1/1): 2040585 unitigs\n",
      "[2023-06-28 23:07:02,686]   DEBUG [ref_custom] CompactedDBG::construct(): Unitigs split: 1587\n",
      "[2023-06-28 23:07:02,686]   DEBUG [ref_custom] CompactedDBG::construct(): Unitigs deleted: 0\n",
      "[2023-06-28 23:07:02,686]   DEBUG [ref_custom] \n",
      "[2023-06-28 23:07:02,686]   DEBUG [ref_custom] CompactedDBG::construct(): Joining unitigs\n",
      "[2023-06-28 23:07:13,526]   DEBUG [ref_custom] CompactedDBG::construct(): After join: 2021701 unitigs\n",
      "[2023-06-28 23:07:13,526]   DEBUG [ref_custom] CompactedDBG::construct(): Joined 19254 unitigs\n",
      "[2023-06-28 23:07:14,428]   DEBUG [ref_custom] [build] extracting distinguishing flanking k-mers from \"Homo_sapiens.GRCh38.dna.primary_assembly.fa.gz\"\n",
      "[2023-06-28 23:34:55,424]   DEBUG [ref_custom] [build] identified 130 distinguishing flanking k-mers\n",
      "[2023-06-28 23:35:05,953]   DEBUG [ref_custom] [build] building MPHF\n",
      "[2023-06-28 23:35:17,180]   DEBUG [ref_custom] [build] creating equivalence classes ...\n",
      "[2023-06-28 23:36:30,573]   DEBUG [ref_custom] [build] target de Bruijn graph has k-mer length 31 and minimizer length 23\n",
      "[2023-06-28 23:36:30,573]   DEBUG [ref_custom] [build] target de Bruijn graph has 2021821 contigs and contains 37541835 k-mers\n",
      "[2023-06-28 23:36:46,912]   DEBUG [ref_custom] \n",
      "[2023-06-28 23:36:48,114]    INFO [ref_custom] Finished creating custom index\n",
      "[2023-06-28 23:36:48,115]   DEBUG [main] Removing `tmp` directory\n",
      "CPU times: user 13.1 s, sys: 1.82 s, total: 14.9 s\n",
      "Wall time: 32min 21s\n"
     ]
    }
   ],
   "source": [
    "%%time\n",
    "!kb ref \\\n",
    "--overwrite --verbose \\\n",
    "  --workflow custom \\\n",
    "  --aa \\\n",
    "  --d-list Homo_sapiens.GRCh38.dna.primary_assembly.fa.gz \\\n",
    "  -t 2 \\\n",
    "  -i index.idx \\\n",
    "  --kallisto /usr/local/bin/kallisto \\\n",
    "  --bustools /usr/local/bin/bustools \\\n",
    "  palmdb_rdrp_seqs.fa"
   ]
  },
  {
   "cell_type": "code",
   "execution_count": null,
   "id": "STRDQDzs4x_e",
   "metadata": {
    "id": "STRDQDzs4x_e"
   },
   "outputs": [],
   "source": [
    "%%time\n",
    "!kb ref \\\n",
    "  --workflow custom \\\n",
    "  --aa \\\n",
    "  --d-list $(gget ref -r 109 -w dna --ftp human) \\\n",
    "  -t 2 \\\n",
    "  -i index.idx \\\n",
    "  --kallisto /usr/local/bin/kallisto \\\n",
    "  --bustools /usr/local/bin/bustools \\\n",
    "  palmdb_rdrp_seqs.fa"
   ]
  },
  {
   "cell_type": "markdown",
   "id": "PWV9c9sR8Noq",
   "metadata": {
    "id": "PWV9c9sR8Noq"
   },
   "source": [
    "# Align sequencing data and generate virus count matrix\n",
    "The `-x` techology tells `kb` where to find the barcode and UMI in the data. We will treat the SMART-Seq data like bulk data for this validation.  \n",
    "\n",
    "Instead of passing one fastq file at a time, we are using a batch file to tell `kb` where to find all of the data at once."
   ]
  },
  {
   "cell_type": "code",
   "execution_count": null,
   "id": "ye9vIBRg8KkY",
   "metadata": {
    "colab": {
     "base_uri": "https://localhost:8080/"
    },
    "id": "ye9vIBRg8KkY",
    "outputId": "a2a466d1-5fc0-4e19-c252-f890f610fa7c"
   },
   "outputs": [
    {
     "name": "stdout",
     "output_type": "stream",
     "text": [
      "[2023-06-29 01:25:26,165]    INFO [count] Using index index.idx to generate BUS file to kb_results from\n",
      "[2023-06-29 01:25:26,165]    INFO [count]         /content/kb_results/tmp/tmp3sqn70d4\n"
     ]
    }
   ],
   "source": [
    "%%time\n",
    "!kb count \\\n",
    "  --aa \\\n",
    "  --h5ad \\\n",
    "  -t 2 \\\n",
    "  -i index.idx \\\n",
    "  -g palmdb_clustered_t2g.txt \\\n",
    "  -x bulk \\\n",
    "  --parity single \\\n",
    "  -o kb_results \\\n",
    "  --kallisto /usr/local/bin/kallisto \\\n",
    "  --bustools /usr/local/bin/bustools \\\n",
    "  batch.txt"
   ]
  },
  {
   "cell_type": "code",
   "execution_count": null,
   "id": "Tt2Qr3Op_K3X",
   "metadata": {
    "id": "Tt2Qr3Op_K3X"
   },
   "outputs": [],
   "source": []
  }
 ],
 "metadata": {
  "colab": {
   "include_colab_link": true,
   "provenance": []
  },
  "kernelspec": {
   "display_name": "Python 3 (ipykernel)",
   "language": "python",
   "name": "python3"
  },
  "language_info": {
   "codemirror_mode": {
    "name": "ipython",
    "version": 3
   },
   "file_extension": ".py",
   "mimetype": "text/x-python",
   "name": "python",
   "nbconvert_exporter": "python",
   "pygments_lexer": "ipython3",
   "version": "3.9.12"
  }
 },
 "nbformat": 4,
 "nbformat_minor": 5
}
