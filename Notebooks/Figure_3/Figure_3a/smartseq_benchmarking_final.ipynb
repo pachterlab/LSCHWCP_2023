{
 "cells": [
  {
   "cell_type": "markdown",
   "id": "37a561e5-b013-42ff-b94f-7007bd633bd2",
   "metadata": {},
   "source": [
    "## 1. Data from https://www.cell.com/cell-reports-medicine/pdf/S2666-3791(20)30068-9.pdf:"
   ]
  },
  {
   "cell_type": "markdown",
   "id": "ee93f3f8-767e-41f5-81d2-c52869c22aca",
   "metadata": {},
   "source": [
    "### Alignment"
   ]
  },
  {
   "cell_type": "code",
   "execution_count": 14,
   "id": "dfd8262b-6979-4d4f-a47f-52154bfc8fcf",
   "metadata": {},
   "outputs": [],
   "source": [
    "virus_index = \"/home/laura/projects/virus-watch-data/virus_ref/kallisto_aa/noduplicates_human_dna_cdna.idx\"\n",
    "virus_t2g = \"/home/laura/projects/virus-watch-data/virus_ref/nodup_clu_t2g.txt\"\n",
    "\n",
    "bp = \"PRJNA631969\"\n",
    "fastq_folder = f\"/home/laura/projects/virus-watch-data/{bp}/raw\"\n",
    "out_folder = f\"{fastq_folder}/..\"\n",
    "\n",
    "kallisto = \"/home/laura/temp/kallisto/build/src/kallisto\"\n",
    "bustools = \"/home/laura/projects/bustools/build/src/bustools\""
   ]
  },
  {
   "cell_type": "markdown",
   "id": "406cd27a-0447-4ed5-95cd-58501c604744",
   "metadata": {},
   "source": [
    "Get fastq files:"
   ]
  },
  {
   "cell_type": "code",
   "execution_count": 15,
   "id": "19232d1a-0dfe-4c7e-ac54-71238d2c02f5",
   "metadata": {},
   "outputs": [],
   "source": [
    "import os\n",
    "import glob"
   ]
  },
  {
   "cell_type": "code",
   "execution_count": 16,
   "id": "72860e01-80a3-48eb-824b-42f4f7371cdf",
   "metadata": {},
   "outputs": [
    {
     "data": {
      "text/plain": [
       "['Cov1.fastq.gz',\n",
       " 'Cov2.fastq.gz',\n",
       " 'Cov3.fastq.gz',\n",
       " 'Mock1.fastq.gz',\n",
       " 'Mock2.fastq.gz',\n",
       " 'Mock3.fastq.gz']"
      ]
     },
     "execution_count": 16,
     "metadata": {},
     "output_type": "execute_result"
    }
   ],
   "source": [
    "fastqs = []\n",
    "for filename in glob.glob(f\"{fastq_folder}/*.fastq.gz\"):\n",
    "    fastqs.append(filename.split(\"/\")[-1])\n",
    "    \n",
    "fastqs.sort()\n",
    "fastqs"
   ]
  },
  {
   "cell_type": "markdown",
   "id": "1123d76f-7f2d-4f87-a720-b7b9f32737b9",
   "metadata": {},
   "source": [
    "Loop over files and align one at a time:"
   ]
  },
  {
   "cell_type": "code",
   "execution_count": 17,
   "id": "d1595c9f-2d7a-4809-ae2a-94e280999955",
   "metadata": {},
   "outputs": [
    {
     "name": "stdout",
     "output_type": "stream",
     "text": [
      " all fits in buffer\n",
      "Read in 16651 BUS records\n",
      "reading time 0s\n",
      "sorting time 0s\n",
      "writing time 0s\n",
      " all fits in buffer\n",
      "Read in 20606 BUS records\n",
      "reading time 0s\n",
      "sorting time 0.01s\n",
      "writing time 0s\n",
      " all fits in buffer\n",
      "Read in 15362 BUS records\n",
      "reading time 0s\n",
      "sorting time 0.01s\n",
      "writing time 0s\n",
      " all fits in buffer\n",
      "Read in 1801 BUS records\n",
      "reading time 0s\n",
      "sorting time 0s\n",
      "writing time 0s\n",
      " all fits in buffer\n",
      "Read in 2244 BUS records\n",
      "reading time 0s\n",
      "sorting time 0s\n",
      "writing time 0s\n",
      " all fits in buffer\n",
      "Read in 1802 BUS records\n",
      "reading time 0s\n",
      "sorting time 0s\n",
      "writing time 0s\n",
      "CPU times: user 38.9 s, sys: 9.22 s, total: 48.2 s\n",
      "Wall time: 40min 38s\n"
     ]
    }
   ],
   "source": [
    "%%time\n",
    "\n",
    "for fastq in fastqs:\n",
    "    sample = fastq.split(\".fastq.gz\")[0]\n",
    "    \n",
    "    !mkdir -p $out_folder/$sample\n",
    "    \n",
    "    !$kallisto bus \\\n",
    "            -i $virus_index \\\n",
    "            -o $out_folder/$sample/ \\\n",
    "            --aa \\\n",
    "            -t 30 \\\n",
    "            -x bulk \\\n",
    "            $fastq_folder/$fastq \\\n",
    "            &> $out_folder/$sample/kb_out.txt \n",
    "        \n",
    "    !$bustools sort -o $out_folder/$sample/output_sorted.bus $out_folder/$sample/output.bus\n",
    "\n",
    "    !$bustools count \\\n",
    "        --genecounts \\\n",
    "        --cm \\\n",
    "        -o $out_folder/$sample/bustools_count/ \\\n",
    "        -g $virus_t2g \\\n",
    "        -e $out_folder/$sample/matrix.ec \\\n",
    "        -t $out_folder/$sample/transcripts.txt \\\n",
    "        $out_folder/$sample/output_sorted.bus"
   ]
  },
  {
   "cell_type": "markdown",
   "id": "10b4ea62-8ef4-4395-ab7a-a45bb2e722b6",
   "metadata": {},
   "source": [
    "### Plot virus counts"
   ]
  },
  {
   "cell_type": "code",
   "execution_count": 18,
   "id": "b6172eab-f285-45d9-a9e5-d977a9e3f0c7",
   "metadata": {},
   "outputs": [],
   "source": [
    "import kb_python.utils as kb_utils\n",
    "import anndata\n",
    "import numpy as np\n",
    "import pandas as pd\n",
    "import json\n",
    "import os\n",
    "import glob\n",
    "import matplotlib.pyplot as plt\n",
    "import matplotlib.colors\n",
    "%config InlineBackend.figure_format='retina'\n",
    "\n",
    "# Path to Krona tool\n",
    "ktImportText = \"/home/laura/bin/ktImportText\"\n",
    "\n",
    "def nd(arr):\n",
    "    \"\"\"\n",
    "    Function to transform numpy matrix to nd array.\n",
    "    \"\"\"\n",
    "    return np.asarray(arr).reshape(-1)"
   ]
  },
  {
   "cell_type": "code",
   "execution_count": 19,
   "id": "985b66c1-95e6-42a9-93e0-4d3a6130a54f",
   "metadata": {},
   "outputs": [],
   "source": [
    "u_tax_csv = \"/home/laura/projects/virus-watch-data/virus_ref/u_tax_nodup_clu.csv\""
   ]
  },
  {
   "cell_type": "markdown",
   "id": "4405c12e-0a06-4710-9b6b-92bed42d91db",
   "metadata": {},
   "source": [
    "Get fastq names:"
   ]
  },
  {
   "cell_type": "code",
   "execution_count": 20,
   "id": "0571da98-7af2-4703-bef3-2555268bc29e",
   "metadata": {},
   "outputs": [
    {
     "data": {
      "text/plain": [
       "['Cov1.fastq.gz',\n",
       " 'Cov2.fastq.gz',\n",
       " 'Cov3.fastq.gz',\n",
       " 'Mock1.fastq.gz',\n",
       " 'Mock2.fastq.gz',\n",
       " 'Mock3.fastq.gz']"
      ]
     },
     "execution_count": 20,
     "metadata": {},
     "output_type": "execute_result"
    }
   ],
   "source": [
    "fastqs = []\n",
    "for filename in glob.glob(f\"{fastq_folder}/*.fastq.gz\"):\n",
    "    fastqs.append(filename.split(\"/\")[-1])\n",
    "    \n",
    "fastqs.sort()\n",
    "fastqs"
   ]
  },
  {
   "cell_type": "markdown",
   "id": "6c00b9e7-8f88-4c1c-9d6f-f8f044ce5169",
   "metadata": {},
   "source": [
    "Create adata objects from raw data:"
   ]
  },
  {
   "cell_type": "code",
   "execution_count": 21,
   "id": "36fbfcf2-1259-4e2f-9a87-bac244130b13",
   "metadata": {},
   "outputs": [
    {
     "name": "stderr",
     "output_type": "stream",
     "text": [
      "/home/laura/anaconda3/lib/python3.9/site-packages/kb_python/utils.py:673: FutureWarning: X.dtype being converted to np.float32 from float64. In the next version of anndata (0.9) conversion will not be automatic. Pass dtype explicitly to avoid this warning. Pass `AnnData(X, dtype=X.dtype, ...)` to get the future behavour.\n",
      "  anndata.AnnData(X=mtx.tocsr(), obs=df_barcodes, var=df_genes)\n",
      "/home/laura/anaconda3/lib/python3.9/site-packages/kb_python/utils.py:673: FutureWarning: X.dtype being converted to np.float32 from float64. In the next version of anndata (0.9) conversion will not be automatic. Pass dtype explicitly to avoid this warning. Pass `AnnData(X, dtype=X.dtype, ...)` to get the future behavour.\n",
      "  anndata.AnnData(X=mtx.tocsr(), obs=df_barcodes, var=df_genes)\n",
      "/home/laura/anaconda3/lib/python3.9/site-packages/kb_python/utils.py:673: FutureWarning: X.dtype being converted to np.float32 from float64. In the next version of anndata (0.9) conversion will not be automatic. Pass dtype explicitly to avoid this warning. Pass `AnnData(X, dtype=X.dtype, ...)` to get the future behavour.\n",
      "  anndata.AnnData(X=mtx.tocsr(), obs=df_barcodes, var=df_genes)\n",
      "/home/laura/anaconda3/lib/python3.9/site-packages/kb_python/utils.py:673: FutureWarning: X.dtype being converted to np.float32 from float64. In the next version of anndata (0.9) conversion will not be automatic. Pass dtype explicitly to avoid this warning. Pass `AnnData(X, dtype=X.dtype, ...)` to get the future behavour.\n",
      "  anndata.AnnData(X=mtx.tocsr(), obs=df_barcodes, var=df_genes)\n",
      "/home/laura/anaconda3/lib/python3.9/site-packages/kb_python/utils.py:673: FutureWarning: X.dtype being converted to np.float32 from float64. In the next version of anndata (0.9) conversion will not be automatic. Pass dtype explicitly to avoid this warning. Pass `AnnData(X, dtype=X.dtype, ...)` to get the future behavour.\n",
      "  anndata.AnnData(X=mtx.tocsr(), obs=df_barcodes, var=df_genes)\n",
      "/home/laura/anaconda3/lib/python3.9/site-packages/kb_python/utils.py:673: FutureWarning: X.dtype being converted to np.float32 from float64. In the next version of anndata (0.9) conversion will not be automatic. Pass dtype explicitly to avoid this warning. Pass `AnnData(X, dtype=X.dtype, ...)` to get the future behavour.\n",
      "  anndata.AnnData(X=mtx.tocsr(), obs=df_barcodes, var=df_genes)\n"
     ]
    }
   ],
   "source": [
    "adatas = []\n",
    "for fastq in fastqs:\n",
    "    # Load data\n",
    "    sample = fastq.split(\".fastq.gz\")[0]\n",
    "    results_dir = f\"{out_folder}/{sample}\"\n",
    "\n",
    "    # Filepath to counts\n",
    "    X = f\"{results_dir}/bustools_count/output.mtx\"\n",
    "    # Filepath to barcode metadata\n",
    "    var_path = f\"{results_dir}/bustools_count/output.genes.txt\"\n",
    "    # Filepath to gene metadata\n",
    "    obs_path = f\"{results_dir}/bustools_count/output.barcodes.txt\" \n",
    "\n",
    "    # Create AnnData object\n",
    "    adata = kb_utils.import_matrix_as_anndata(X, obs_path, var_path)\n",
    "\n",
    "    # Add sample name\n",
    "    adata.obs[\"sample\"] = sample\n",
    "\n",
    "    # Append to adata list\n",
    "    adatas.append(adata)"
   ]
  },
  {
   "cell_type": "code",
   "execution_count": 22,
   "id": "7e74bf37-ea1f-4a38-b31a-26c1820e5cb4",
   "metadata": {},
   "outputs": [
    {
     "name": "stderr",
     "output_type": "stream",
     "text": [
      "/home/laura/anaconda3/lib/python3.9/site-packages/anndata/_core/anndata.py:1828: UserWarning: Observation names are not unique. To make them unique, call `.obs_names_make_unique`.\n",
      "  utils.warn_names_duplicates(\"obs\")\n"
     ]
    },
    {
     "data": {
      "text/html": [
       "<div>\n",
       "<style scoped>\n",
       "    .dataframe tbody tr th:only-of-type {\n",
       "        vertical-align: middle;\n",
       "    }\n",
       "\n",
       "    .dataframe tbody tr th {\n",
       "        vertical-align: top;\n",
       "    }\n",
       "\n",
       "    .dataframe thead th {\n",
       "        text-align: right;\n",
       "    }\n",
       "</style>\n",
       "<table border=\"1\" class=\"dataframe\">\n",
       "  <thead>\n",
       "    <tr style=\"text-align: right;\">\n",
       "      <th></th>\n",
       "    </tr>\n",
       "    <tr>\n",
       "      <th>sample</th>\n",
       "    </tr>\n",
       "  </thead>\n",
       "  <tbody>\n",
       "    <tr>\n",
       "      <th>Cov1</th>\n",
       "    </tr>\n",
       "    <tr>\n",
       "      <th>Cov2</th>\n",
       "    </tr>\n",
       "    <tr>\n",
       "      <th>Cov3</th>\n",
       "    </tr>\n",
       "    <tr>\n",
       "      <th>Mock1</th>\n",
       "    </tr>\n",
       "    <tr>\n",
       "      <th>Mock2</th>\n",
       "    </tr>\n",
       "    <tr>\n",
       "      <th>Mock3</th>\n",
       "    </tr>\n",
       "  </tbody>\n",
       "</table>\n",
       "</div>"
      ],
      "text/plain": [
       "Empty DataFrame\n",
       "Columns: []\n",
       "Index: [Cov1, Cov2, Cov3, Mock1, Mock2, Mock3]"
      ]
     },
     "execution_count": 22,
     "metadata": {},
     "output_type": "execute_result"
    }
   ],
   "source": [
    "adata = anndata.concat(adatas, merge=\"same\")\n",
    "# Set sample as index\n",
    "adata.obs = adata.obs.set_index(\"sample\")\n",
    "adata.obs"
   ]
  },
  {
   "cell_type": "code",
   "execution_count": 23,
   "id": "b389b030-5879-4c88-a75e-d63f764eecb1",
   "metadata": {},
   "outputs": [],
   "source": [
    "adata.write(f\"/home/laura/projects/virus-watch-data/{bp}/{bp}_combined_meta_final.h5ad\")"
   ]
  },
  {
   "cell_type": "code",
   "execution_count": 24,
   "id": "585bcde4-81fb-40f3-bad8-f84cdbfe07e5",
   "metadata": {},
   "outputs": [],
   "source": [
    "# adata = anndata.read(\"/home/laura/projects/virus-watch-data/PRJNA631969/PRJNA631969_combined_meta_final.h5ad\")\n",
    "# adata"
   ]
  },
  {
   "cell_type": "code",
   "execution_count": 25,
   "id": "0a91443c-e701-4ce7-aea6-3dc6f49851e2",
   "metadata": {},
   "outputs": [
    {
     "data": {
      "text/html": [
       "<div>\n",
       "<style scoped>\n",
       "    .dataframe tbody tr th:only-of-type {\n",
       "        vertical-align: middle;\n",
       "    }\n",
       "\n",
       "    .dataframe tbody tr th {\n",
       "        vertical-align: top;\n",
       "    }\n",
       "\n",
       "    .dataframe thead th {\n",
       "        text-align: right;\n",
       "    }\n",
       "</style>\n",
       "<table border=\"1\" class=\"dataframe\">\n",
       "  <thead>\n",
       "    <tr style=\"text-align: right;\">\n",
       "      <th></th>\n",
       "    </tr>\n",
       "    <tr>\n",
       "      <th>sample</th>\n",
       "    </tr>\n",
       "  </thead>\n",
       "  <tbody>\n",
       "    <tr>\n",
       "      <th>Cov1</th>\n",
       "    </tr>\n",
       "    <tr>\n",
       "      <th>Cov2</th>\n",
       "    </tr>\n",
       "    <tr>\n",
       "      <th>Cov3</th>\n",
       "    </tr>\n",
       "    <tr>\n",
       "      <th>Mock1</th>\n",
       "    </tr>\n",
       "    <tr>\n",
       "      <th>Mock2</th>\n",
       "    </tr>\n",
       "    <tr>\n",
       "      <th>Mock3</th>\n",
       "    </tr>\n",
       "  </tbody>\n",
       "</table>\n",
       "</div>"
      ],
      "text/plain": [
       "Empty DataFrame\n",
       "Columns: []\n",
       "Index: [Cov1, Cov2, Cov3, Mock1, Mock2, Mock3]"
      ]
     },
     "execution_count": 25,
     "metadata": {},
     "output_type": "execute_result"
    }
   ],
   "source": [
    "adata.obs"
   ]
  },
  {
   "cell_type": "code",
   "execution_count": 26,
   "id": "9f00404b-713d-4e1c-a34a-555958a07637",
   "metadata": {},
   "outputs": [
    {
     "data": {
      "text/html": [
       "<div>\n",
       "<style scoped>\n",
       "    .dataframe tbody tr th:only-of-type {\n",
       "        vertical-align: middle;\n",
       "    }\n",
       "\n",
       "    .dataframe tbody tr th {\n",
       "        vertical-align: top;\n",
       "    }\n",
       "\n",
       "    .dataframe thead th {\n",
       "        text-align: right;\n",
       "    }\n",
       "</style>\n",
       "<table border=\"1\" class=\"dataframe\">\n",
       "  <thead>\n",
       "    <tr style=\"text-align: right;\">\n",
       "      <th></th>\n",
       "      <th>ID</th>\n",
       "      <th>rep_ID</th>\n",
       "      <th>phylum</th>\n",
       "      <th>class</th>\n",
       "      <th>order</th>\n",
       "      <th>family</th>\n",
       "      <th>genus</th>\n",
       "      <th>species</th>\n",
       "      <th>strandedness</th>\n",
       "    </tr>\n",
       "  </thead>\n",
       "  <tbody>\n",
       "    <tr>\n",
       "      <th>0</th>\n",
       "      <td>u1</td>\n",
       "      <td>u1</td>\n",
       "      <td>Pisuviricota</td>\n",
       "      <td>Pisoniviricetes</td>\n",
       "      <td>Nidovirales</td>\n",
       "      <td>Coronaviridae</td>\n",
       "      <td>Betacoronavirus</td>\n",
       "      <td>Severe acute respiratory syndrome-related coro...</td>\n",
       "      <td>+ssRNA</td>\n",
       "    </tr>\n",
       "    <tr>\n",
       "      <th>1</th>\n",
       "      <td>u10066</td>\n",
       "      <td>u1</td>\n",
       "      <td>Pisuviricota</td>\n",
       "      <td>Pisoniviricetes</td>\n",
       "      <td>Nidovirales</td>\n",
       "      <td>Coronaviridae</td>\n",
       "      <td>Betacoronavirus</td>\n",
       "      <td>Severe acute respiratory syndrome-related coro...</td>\n",
       "      <td>+ssRNA</td>\n",
       "    </tr>\n",
       "    <tr>\n",
       "      <th>2</th>\n",
       "      <td>u10121</td>\n",
       "      <td>u1</td>\n",
       "      <td>Pisuviricota</td>\n",
       "      <td>Pisoniviricetes</td>\n",
       "      <td>Nidovirales</td>\n",
       "      <td>Coronaviridae</td>\n",
       "      <td>Betacoronavirus</td>\n",
       "      <td>Severe acute respiratory syndrome-related coro...</td>\n",
       "      <td>+ssRNA</td>\n",
       "    </tr>\n",
       "    <tr>\n",
       "      <th>3</th>\n",
       "      <td>u10124</td>\n",
       "      <td>u1</td>\n",
       "      <td>Pisuviricota</td>\n",
       "      <td>Pisoniviricetes</td>\n",
       "      <td>Nidovirales</td>\n",
       "      <td>Coronaviridae</td>\n",
       "      <td>Betacoronavirus</td>\n",
       "      <td>Severe acute respiratory syndrome-related coro...</td>\n",
       "      <td>+ssRNA</td>\n",
       "    </tr>\n",
       "    <tr>\n",
       "      <th>4</th>\n",
       "      <td>u102609</td>\n",
       "      <td>u1</td>\n",
       "      <td>Pisuviricota</td>\n",
       "      <td>Pisoniviricetes</td>\n",
       "      <td>Nidovirales</td>\n",
       "      <td>Coronaviridae</td>\n",
       "      <td>Betacoronavirus</td>\n",
       "      <td>Severe acute respiratory syndrome-related coro...</td>\n",
       "      <td>+ssRNA</td>\n",
       "    </tr>\n",
       "    <tr>\n",
       "      <th>...</th>\n",
       "      <td>...</td>\n",
       "      <td>...</td>\n",
       "      <td>...</td>\n",
       "      <td>...</td>\n",
       "      <td>...</td>\n",
       "      <td>...</td>\n",
       "      <td>...</td>\n",
       "      <td>...</td>\n",
       "      <td>...</td>\n",
       "    </tr>\n",
       "    <tr>\n",
       "      <th>404</th>\n",
       "      <td>u889</td>\n",
       "      <td>u1</td>\n",
       "      <td>Pisuviricota</td>\n",
       "      <td>Pisoniviricetes</td>\n",
       "      <td>Nidovirales</td>\n",
       "      <td>Coronaviridae</td>\n",
       "      <td>Betacoronavirus</td>\n",
       "      <td>Severe acute respiratory syndrome-related coro...</td>\n",
       "      <td>+ssRNA</td>\n",
       "    </tr>\n",
       "    <tr>\n",
       "      <th>405</th>\n",
       "      <td>u9015</td>\n",
       "      <td>u1</td>\n",
       "      <td>Pisuviricota</td>\n",
       "      <td>Pisoniviricetes</td>\n",
       "      <td>Nidovirales</td>\n",
       "      <td>Coronaviridae</td>\n",
       "      <td>Betacoronavirus</td>\n",
       "      <td>Severe acute respiratory syndrome-related coro...</td>\n",
       "      <td>+ssRNA</td>\n",
       "    </tr>\n",
       "    <tr>\n",
       "      <th>406</th>\n",
       "      <td>u944</td>\n",
       "      <td>u1</td>\n",
       "      <td>Pisuviricota</td>\n",
       "      <td>Pisoniviricetes</td>\n",
       "      <td>Nidovirales</td>\n",
       "      <td>Coronaviridae</td>\n",
       "      <td>Betacoronavirus</td>\n",
       "      <td>Severe acute respiratory syndrome-related coro...</td>\n",
       "      <td>+ssRNA</td>\n",
       "    </tr>\n",
       "    <tr>\n",
       "      <th>407</th>\n",
       "      <td>u9771</td>\n",
       "      <td>u1</td>\n",
       "      <td>Pisuviricota</td>\n",
       "      <td>Pisoniviricetes</td>\n",
       "      <td>Nidovirales</td>\n",
       "      <td>Coronaviridae</td>\n",
       "      <td>Betacoronavirus</td>\n",
       "      <td>Severe acute respiratory syndrome-related coro...</td>\n",
       "      <td>+ssRNA</td>\n",
       "    </tr>\n",
       "    <tr>\n",
       "      <th>408</th>\n",
       "      <td>u992</td>\n",
       "      <td>u1</td>\n",
       "      <td>Pisuviricota</td>\n",
       "      <td>Pisoniviricetes</td>\n",
       "      <td>Nidovirales</td>\n",
       "      <td>Coronaviridae</td>\n",
       "      <td>Betacoronavirus</td>\n",
       "      <td>Severe acute respiratory syndrome-related coro...</td>\n",
       "      <td>+ssRNA</td>\n",
       "    </tr>\n",
       "  </tbody>\n",
       "</table>\n",
       "<p>409 rows × 9 columns</p>\n",
       "</div>"
      ],
      "text/plain": [
       "          ID rep_ID        phylum            class        order  \\\n",
       "0         u1     u1  Pisuviricota  Pisoniviricetes  Nidovirales   \n",
       "1     u10066     u1  Pisuviricota  Pisoniviricetes  Nidovirales   \n",
       "2     u10121     u1  Pisuviricota  Pisoniviricetes  Nidovirales   \n",
       "3     u10124     u1  Pisuviricota  Pisoniviricetes  Nidovirales   \n",
       "4    u102609     u1  Pisuviricota  Pisoniviricetes  Nidovirales   \n",
       "..       ...    ...           ...              ...          ...   \n",
       "404     u889     u1  Pisuviricota  Pisoniviricetes  Nidovirales   \n",
       "405    u9015     u1  Pisuviricota  Pisoniviricetes  Nidovirales   \n",
       "406     u944     u1  Pisuviricota  Pisoniviricetes  Nidovirales   \n",
       "407    u9771     u1  Pisuviricota  Pisoniviricetes  Nidovirales   \n",
       "408     u992     u1  Pisuviricota  Pisoniviricetes  Nidovirales   \n",
       "\n",
       "            family            genus  \\\n",
       "0    Coronaviridae  Betacoronavirus   \n",
       "1    Coronaviridae  Betacoronavirus   \n",
       "2    Coronaviridae  Betacoronavirus   \n",
       "3    Coronaviridae  Betacoronavirus   \n",
       "4    Coronaviridae  Betacoronavirus   \n",
       "..             ...              ...   \n",
       "404  Coronaviridae  Betacoronavirus   \n",
       "405  Coronaviridae  Betacoronavirus   \n",
       "406  Coronaviridae  Betacoronavirus   \n",
       "407  Coronaviridae  Betacoronavirus   \n",
       "408  Coronaviridae  Betacoronavirus   \n",
       "\n",
       "                                               species strandedness  \n",
       "0    Severe acute respiratory syndrome-related coro...       +ssRNA  \n",
       "1    Severe acute respiratory syndrome-related coro...       +ssRNA  \n",
       "2    Severe acute respiratory syndrome-related coro...       +ssRNA  \n",
       "3    Severe acute respiratory syndrome-related coro...       +ssRNA  \n",
       "4    Severe acute respiratory syndrome-related coro...       +ssRNA  \n",
       "..                                                 ...          ...  \n",
       "404  Severe acute respiratory syndrome-related coro...       +ssRNA  \n",
       "405  Severe acute respiratory syndrome-related coro...       +ssRNA  \n",
       "406  Severe acute respiratory syndrome-related coro...       +ssRNA  \n",
       "407  Severe acute respiratory syndrome-related coro...       +ssRNA  \n",
       "408  Severe acute respiratory syndrome-related coro...       +ssRNA  \n",
       "\n",
       "[409 rows x 9 columns]"
      ]
     },
     "execution_count": 26,
     "metadata": {},
     "output_type": "execute_result"
    }
   ],
   "source": [
    "tax_df = pd.read_csv(u_tax_csv)\n",
    "tax_df[tax_df[\"species\"].str.contains(\"Severe acute respiratory syndrome\")]"
   ]
  },
  {
   "cell_type": "code",
   "execution_count": 33,
   "id": "ee39163d-3f40-41fa-be8c-0b68ed7123b7",
   "metadata": {},
   "outputs": [
    {
     "data": {
      "image/png": "[encoded data removed]",
      "text/plain": [
       "<Figure size 432x504 with 1 Axes>"
      ]
     },
     "metadata": {
      "image/png": {
       "height": 509,
       "width": 403
      },
      "needs_background": "light"
     },
     "output_type": "display_data"
    }
   ],
   "source": [
    "fig, ax = plt.subplots(figsize=(6, 7))\n",
    "fontsize = 16\n",
    "width = 0.75\n",
    "\n",
    "x_labels = ['Infected 1', 'Infected 2', 'Infected 3', 'Control 1', 'Control 2', 'Control 3']\n",
    "\n",
    "target_ids = tax_df[tax_df[\"species\"].str.contains(\"Severe acute respiratory syndrome-related coronavirus\")][\"rep_ID\"].unique()\n",
    "\n",
    "counts = []\n",
    "samples = adata.obs.index.values\n",
    "labels = samples\n",
    "for sample in samples:\n",
    "    counts.append(adata.X[adata.obs.index == sample, adata.var.index.isin(target_ids)].sum())    \n",
    "        \n",
    "x = np.arange(len(labels))\n",
    "\n",
    "ax.bar(x, counts, width=width, color=\"#003049\", edgecolor=\"black\")\n",
    "\n",
    "ax.set_yscale(\"symlog\")\n",
    "ax.set_ylabel(\"kallisto (raw counts for SARS-CoV)\", fontsize=fontsize)\n",
    "# ax.set_xlabel(\"Sample\", fontsize=fontsize)\n",
    "\n",
    "ax.set_xticks(x, x_labels, rotation=45, ha=\"right\")\n",
    "        \n",
    "ax.tick_params(axis=\"both\", labelsize=fontsize)\n",
    "ax.set_title(f\"SARS-CoV-2 infected human\\niPSC-derived cardiomyocytes\", fontsize=fontsize+2)\n",
    "\n",
    "ax.grid(True, which=\"both\", color=\"lightgray\", ls=\"--\", lw=1)\n",
    "ax.set_axisbelow(True)\n",
    "    \n",
    "# plt.tight_layout()\n",
    "\n",
    "plt.savefig(\"figures/smartseq_benchmark_PRJNA631969.png\", dpi=300, bbox_inches=\"tight\")\n",
    "\n",
    "fig.show()"
   ]
  },
  {
   "cell_type": "code",
   "execution_count": 28,
   "id": "5c641597-84d8-4188-aab9-6e8acec1f886",
   "metadata": {},
   "outputs": [
    {
     "data": {
      "text/plain": [
       "[5265.0, 7037.0, 5187.0, 0.0, 0.0, 0.0]"
      ]
     },
     "execution_count": 28,
     "metadata": {},
     "output_type": "execute_result"
    }
   ],
   "source": [
    "counts"
   ]
  },
  {
   "cell_type": "markdown",
   "id": "1c164b5e-479a-4e7a-8f55-d85dc7f2e4ae",
   "metadata": {},
   "source": [
    "Counts obtained with previous workflow: [5265.0, 7037.0, 5187.0, 0.0, 0.0, 0.0]"
   ]
  },
  {
   "cell_type": "code",
   "execution_count": 17,
   "id": "c74a3b3b-e16e-4eb9-94d2-778188e81fd1",
   "metadata": {},
   "outputs": [
    {
     "data": {
      "image/png": "[encoded data removed]",
      "text/plain": [
       "<Figure size 504x504 with 1 Axes>"
      ]
     },
     "metadata": {
      "image/png": {
       "height": 500,
       "width": 464
      },
      "needs_background": "dark"
     },
     "output_type": "display_data"
    }
   ],
   "source": [
    "fig, ax = plt.subplots(figsize=(7, 7))\n",
    "fontsize = 18\n",
    "width = 0.75\n",
    "label_color = \"white\"\n",
    "\n",
    "counts = []\n",
    "samples = adata.obs.index.values\n",
    "labels = samples\n",
    "for sample in samples:\n",
    "    counts.append(adata.X[adata.obs.index == sample, adata.var.index.isin(target_ids)].sum())\n",
    "        \n",
    "x = np.arange(len(labels))\n",
    "\n",
    "ax.bar(x, counts, width=width, color=\"#b266b3\")\n",
    "\n",
    "ax.set_yscale(\"symlog\")\n",
    "ax.set_ylabel(\"kallisto (total Coronavirus counts)\", fontsize=fontsize, color=label_color)\n",
    "# ax.set_xlabel(\"Sample\", fontsize=fontsize)\n",
    "\n",
    "ax.set_xticks(x, x_labels, rotation=25, ha=\"right\")\n",
    "        \n",
    "ax.tick_params(axis=\"both\", labelsize=fontsize)\n",
    "ax.set_title(f\"SARS-CoV-2 in human\\niPSC-derived cardiomyocytes\", fontsize=fontsize+2, color=label_color)\n",
    "\n",
    "ax.grid(True, which=\"both\", color=\"grey\", ls=\"--\", lw=1)\n",
    "ax.set_axisbelow(True)\n",
    "\n",
    "ax.spines['bottom'].set_color('white')\n",
    "ax.spines['top'].set_color('white')\n",
    "ax.spines['right'].set_color('white')\n",
    "ax.spines['left'].set_color('white')\n",
    "ax.tick_params(axis='both', colors='white')\n",
    "\n",
    "plt.savefig(\"figures/smartseq_benchmark_PRJNA631969_white.png\", dpi=300, bbox_inches=\"tight\", transparent=True)\n",
    "\n",
    "fig.show()"
   ]
  },
  {
   "cell_type": "code",
   "execution_count": null,
   "id": "416e45a5-03b8-46a2-a66e-8267eb468996",
   "metadata": {},
   "outputs": [],
   "source": []
  }
 ],
 "metadata": {
  "kernelspec": {
   "display_name": "Python 3 (ipykernel)",
   "language": "python",
   "name": "python3"
  },
  "language_info": {
   "codemirror_mode": {
    "name": "ipython",
    "version": 3
   },
   "file_extension": ".py",
   "mimetype": "text/x-python",
   "name": "python",
   "nbconvert_exporter": "python",
   "pygments_lexer": "ipython3",
   "version": "3.9.12"
  }
 },
 "nbformat": 4,
 "nbformat_minor": 5
}
