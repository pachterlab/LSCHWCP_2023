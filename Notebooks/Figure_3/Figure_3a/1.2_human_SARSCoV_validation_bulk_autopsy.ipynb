{
  "nbformat": 4,
  "nbformat_minor": 0,
  "metadata": {
    "colab": {
      "provenance": [],
      "authorship_tag": "ABX9TyOKfmEANRtolYqtAk/G6JPa",
      "include_colab_link": true
    },
    "kernelspec": {
      "name": "python3",
      "display_name": "Python 3"
    },
    "language_info": {
      "name": "python"
    }
  },
  "cells": [
    {
      "cell_type": "markdown",
      "metadata": {
        "id": "view-in-github",
        "colab_type": "text"
      },
      "source": [
        "<a href=\"https://colab.research.google.com/github/pachterlab/LSCHWCP_2023/blob/main/Notebooks/Figure_3/Figure_3a/1.2_human_SARSCoV_validation_bulk_autopsy.ipynb\" target=\"_parent\"><img src=\"https://colab.research.google.com/assets/colab-badge.svg\" alt=\"Open In Colab\"/></a>"
      ]
    },
    {
      "cell_type": "markdown",
      "source": [
        "# Plot SARS-CoV counts observed in lung autopsy samples from COVID-19 patients\n",
        "Data from https://www.nature.com/articles/s41467-020-20139-7"
      ],
      "metadata": {
        "id": "NS_UGpmUywke"
      }
    },
    {
      "cell_type": "code",
      "source": [
        "!pip install -q anndata\n",
        "import anndata\n",
        "import numpy as np\n",
        "import pandas as pd\n",
        "import os\n",
        "import matplotlib.pyplot as plt\n",
        "import matplotlib.colors\n",
        "%config InlineBackend.figure_format='retina'\n",
        "\n",
        "def nd(arr):\n",
        "    \"\"\"\n",
        "    Function to transform numpy matrix to nd array.\n",
        "    \"\"\"\n",
        "    return np.asarray(arr).reshape(-1)"
      ],
      "metadata": {
        "id": "afKa7WeS12by"
      },
      "execution_count": null,
      "outputs": []
    },
    {
      "cell_type": "markdown",
      "source": [
        "Download AnnData object from Caltech Data generated [here](https://github.com/pachterlab/LSCHWCP_2023/blob/main/Notebooks/Figure_3/Figure_3a/1.1_human_SARSCoV_validation_bulk_autopsy.ipynb)."
      ],
      "metadata": {
        "id": "2UE92yJ0gYpE"
      }
    },
    {
      "cell_type": "code",
      "source": [
        "# !wget\n",
        "adata = anndata.read_h5ad(\"human_SARSCoV_validation_bulk_autopsy.h5ad\")"
      ],
      "metadata": {
        "id": "pdB9H5kygXUD"
      },
      "execution_count": null,
      "outputs": []
    },
    {
      "cell_type": "markdown",
      "source": [
        "Load RNAish % from the original paper:"
      ],
      "metadata": {
        "id": "n75UM_r-1qzD"
      }
    },
    {
      "cell_type": "code",
      "source": [
        "!wget https://raw.githubusercontent.com/pachterlab/LSCHWCP_2023/main/Notebooks/Figure_3/Figure_3a/human_SARSCoV_validation_bulk_autopsy_rnaish.csv"
      ],
      "metadata": {
        "id": "9wRcC74F1NqS"
      },
      "execution_count": null,
      "outputs": []
    },
    {
      "cell_type": "code",
      "source": [
        "rna_ish = pd.read_csv(\"human_SARSCoV_validation_bulk_autopsy_rnaish.csv\", sep=\"\\t\")\n",
        "rna_ish[\"case_clean\"] = rna_ish[\"case_clean\"].values.astype(str)\n",
        "rna_ish"
      ],
      "metadata": {
        "id": "dhF7lQfT0V7B"
      },
      "execution_count": null,
      "outputs": []
    },
    {
      "cell_type": "markdown",
      "source": [
        "Load virus ID to sOTU mapping:"
      ],
      "metadata": {
        "id": "UBB5dDHF1tM2"
      }
    },
    {
      "cell_type": "code",
      "source": [
        "!wget https://raw.githubusercontent.com/pachterlab/LSCHWCP_2023/main/PalmDB/ID_to_taxonomy_mapping.csv\n",
        "tax_df = pd.read_csv(\"ID_to_taxonomy_mapping.csv\")\n",
        "tax_df[tax_df[\"species\"].str.contains(\"Severe acute respiratory syndrome\")]"
      ],
      "metadata": {
        "id": "yxhhwCNJ1XjH"
      },
      "execution_count": null,
      "outputs": []
    },
    {
      "cell_type": "markdown",
      "source": [
        "Plot:"
      ],
      "metadata": {
        "id": "q4CpKlL01-O4"
      }
    },
    {
      "cell_type": "code",
      "source": [
        "case_list = rna_ish[\"case_clean\"].values"
      ],
      "metadata": {
        "id": "P1fNPxfB19_S"
      },
      "execution_count": null,
      "outputs": []
    },
    {
      "cell_type": "code",
      "source": [
        "fig, ax = plt.subplots(figsize=(6, 7))\n",
        "fontsize = 16\n",
        "\n",
        "target_ids = tax_df[tax_df[\"species\"].str.contains(\"Severe acute respiratory syndrome-related coronavirus\")][\"rep_ID\"].values\n",
        "\n",
        "kb_counts = []\n",
        "kb_errs = []\n",
        "rnaish_counts = []\n",
        "# Not including Control since there are no RNAish% values for control\n",
        "for i, case in enumerate(case_list[1:]):\n",
        "    kb_count_r1 = adata[(adata.obs[\"case\"] == case) & (adata.obs[\"read\"] == \"R1\"), adata.var.index.isin(target_ids)].X\n",
        "    kb_count_r2 = adata[(adata.obs[\"case\"] == case) & (adata.obs[\"read\"] == \"R2\"), adata.var.index.isin(target_ids)].X\n",
        "\n",
        "    kb_c = [kb_count_r1.sum(), kb_count_r2.sum()]\n",
        "    count_mean = np.mean(kb_c)\n",
        "    kb_counts.append(np.mean(kb_c))\n",
        "\n",
        "    kb_err = [\n",
        "        [count_mean - np.min(kb_c)],\n",
        "        [np.max(kb_c) - count_mean],\n",
        "    ]\n",
        "    kb_errs.append(kb_err)\n",
        "\n",
        "    rnaish_count = rna_ish[rna_ish[\"case_clean\"] == case][\"Viral load% by RNA ISH\"].values[0]\n",
        "    rnaish_counts.append(rnaish_count)\n",
        "\n",
        "    ax.errorbar(count_mean, rnaish_count, xerr = kb_err, c= \"black\", ls=\"none\", elinewidth=1)\n",
        "    ax.scatter(count_mean, rnaish_count, c=\"#003049\", edgecolors=\"black\", s=250, zorder=2)\n",
        "\n",
        "# ax.set_yscale(\"symlog\")\n",
        "# ax.set_xscale(\"symlog\")\n",
        "ax.set_ylabel(\"RNA-ISH (SARS-CoV %)\", fontsize=fontsize)\n",
        "ax.set_xlabel(\n",
        "    \"kallisto\\n(raw counts for SARS-CoV)\",\n",
        "    fontsize=fontsize,\n",
        ")\n",
        "\n",
        "ax.text(5150, 1.5, \"n=23\", fontsize=fontsize)\n",
        "\n",
        "# Add diagonal\n",
        "# ax.plot([0, 1], [0, 1], transform=ax.transAxes, c=\"black\", ls=\"-\", lw=1, zorder=1)\n",
        "\n",
        "ax.tick_params(axis=\"both\", labelsize=fontsize)\n",
        "ax.set_title(f\"Lung autopsy samples\\nfrom COVID-19 patients\", fontsize=fontsize+2)\n",
        "\n",
        "# plt.tight_layout()\n",
        "\n",
        "ax.grid(True, which=\"both\", color=\"lightgray\", ls=\"--\", lw=1)\n",
        "ax.set_axisbelow(True)\n",
        "\n",
        "plt.savefig(\"bulk_validation_PRJNA631753.png\", dpi=300, bbox_inches=\"tight\")\n",
        "\n",
        "fig.show()"
      ],
      "metadata": {
        "id": "kbHZep631Zpl"
      },
      "execution_count": null,
      "outputs": []
    }
  ]
}