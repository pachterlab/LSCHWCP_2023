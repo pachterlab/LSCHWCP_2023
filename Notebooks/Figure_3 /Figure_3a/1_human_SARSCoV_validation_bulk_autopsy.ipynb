{
  "nbformat": 4,
  "nbformat_minor": 0,
  "metadata": {
    "colab": {
      "provenance": [],
      "authorship_tag": "ABX9TyPctxTsJWVoTewTk0hZ+Eha",
      "include_colab_link": true
    },
    "kernelspec": {
      "name": "python3",
      "display_name": "Python 3"
    },
    "language_info": {
      "name": "python"
    }
  },
  "cells": [
    {
      "cell_type": "markdown",
      "metadata": {
        "id": "view-in-github",
        "colab_type": "text"
      },
      "source": [
        "<a href=\"https://colab.research.google.com/github/pachterlab/LSCHWCP_2023/blob/main/Notebooks/Figure_3%20/Figure_3a/1_human_SARSCoV_validation_bulk_autopsy.ipynb\" target=\"_parent\"><img src=\"https://colab.research.google.com/assets/colab-badge.svg\" alt=\"Open In Colab\"/></a>"
      ]
    },
    {
      "cell_type": "markdown",
      "source": [
        "# Validation using lung autopsy samples from COVID-19 patients\n",
        "Data from https://www.nature.com/articles/s41467-020-20139-7"
      ],
      "metadata": {
        "id": "NS_UGpmUywke"
      }
    },
    {
      "cell_type": "code",
      "execution_count": null,
      "metadata": {
        "id": "7X7ESPKNybME"
      },
      "outputs": [],
      "source": [
        "# Number of threads to use during alignments\n",
        "threads = 20 # Change to 2 if not using TPU runtime"
      ]
    },
    {
      "cell_type": "markdown",
      "source": [
        "## Install software"
      ],
      "metadata": {
        "id": "PxvmTvCQzDJY"
      }
    },
    {
      "cell_type": "code",
      "source": [
        "!pip install -q ffq gget kb_python"
      ],
      "metadata": {
        "id": "_pGNScLIzBuE"
      },
      "execution_count": null,
      "outputs": []
    },
    {
      "cell_type": "markdown",
      "source": [
        "## Download data"
      ],
      "metadata": {
        "id": "Q1qDKKUFzFiI"
      }
    },
    {
      "cell_type": "code",
      "source": [
        "import json\n",
        "import glob\n",
        "\n",
        "# Get ftp download links for raw data with ffq and store results in json file\n",
        "!ffq GSE150316 \\\n",
        "    --ftp \\\n",
        "    -o ffq.json\n",
        "\n",
        "# Load ffq output\n",
        "f = open(\"ffq.json\")\n",
        "data_json = json.load(f)\n",
        "f.close()\n",
        "\n",
        "# Download raw data using FTP links fetched by ffq\n",
        "for dataset in data_json:\n",
        "    url = dataset[\"url\"]\n",
        "    !curl -O $url"
      ],
      "metadata": {
        "colab": {
          "base_uri": "https://localhost:8080/"
        },
        "id": "v9Xn0Kq_zFCz",
        "outputId": "3980836c-f50c-48c5-89c3-26e77edaf8a5"
      },
      "execution_count": null,
      "outputs": [
        {
          "output_type": "stream",
          "name": "stdout",
          "text": [
            "[2023-12-08 23:49:05,833]    INFO Parsing GSM GSM4698570\n",
            "[2023-12-08 23:49:06,158]    INFO Finding supplementary files for GSM GSM4698570\n",
            "[2023-12-08 23:49:07,315]    INFO No supplementary files found for GSM4698570\n"
          ]
        }
      ]
    },
    {
      "cell_type": "markdown",
      "source": [
        "## Download optimized PalmDB reference files"
      ],
      "metadata": {
        "id": "j_41jHgmzhNC"
      }
    },
    {
      "cell_type": "code",
      "source": [
        "# Download the ID to taxonomy mapping\n",
        "!wget https://raw.githubusercontent.com/pachterlab/LSCHWCP_2023/main/PalmDB/ID_to_taxonomy_mapping.csv\n",
        "# Download the customized transcripts to gene mapping\n",
        "!wget https://raw.githubusercontent.com/pachterlab/LSCHWCP_2023/main/PalmDB/palmdb_clustered_t2g.txt\n",
        "# Download the RdRP amino acid sequences\n",
        "!wget https://raw.githubusercontent.com/pachterlab/LSCHWCP_2023/main/PalmDB/palmdb_rdrp_seqs.fa"
      ],
      "metadata": {
        "id": "WkgDgigkzan5"
      },
      "execution_count": null,
      "outputs": []
    },
    {
      "cell_type": "markdown",
      "source": [
        "## Build virus reference index from PalmDB amino acid sequences and mask host (here, human) sequences\n",
        "You can find the kb manual and tutorials [here](https://www.kallistobus.tools/).\n",
        "\n",
        "The --aa argument tells kb that this is an amino acid reference.\n",
        "\n",
        "The --d-list argument is the path to the host transcriptome. These sequences will be masked in the index. Here, we are using gget to fetch the human genome and transcriptome (release 110).\n",
        "\n",
        "We are using --workflow custom here since we do not have a .gtf file for the PalmDB fasta file.\n",
        "\n",
        "Building the index will take some time (~20 min), since the human genomes is quite large."
      ],
      "metadata": {
        "id": "kDrUUSHEzniu"
      }
    },
    {
      "cell_type": "code",
      "source": [
        "!gget ref -r 110 -w cdna,dna -d human\n",
        "\n",
        "# Concatenate human genome and transcriptome into one file\n",
        "!cat Homo_sapiens.GRCh38.cdna.all.fa.gz Homo_sapiens.GRCh38.dna.primary_assembly.fa.gz > Homo_sapiens.GRCh38.cdna_dna.fa.gz"
      ],
      "metadata": {
        "id": "GvJB1JlPznyx"
      },
      "execution_count": null,
      "outputs": []
    },
    {
      "cell_type": "code",
      "source": [
        "%%time\n",
        "!kb ref \\\n",
        "  --workflow custom \\\n",
        "  --aa \\\n",
        "  --d-list Homo_sapiens.GRCh38.cdna_dna.fa.gz \\\n",
        "  -t $threads \\\n",
        "  -i index.idx \\\n",
        "  palmdb_rdrp_seqs.fa"
      ],
      "metadata": {
        "id": "TxQBuZFgzsjK"
      },
      "execution_count": null,
      "outputs": []
    },
    {
      "cell_type": "markdown",
      "source": [
        "## Align data using kallisto translated search"
      ],
      "metadata": {
        "id": "4DHlmkZvzypA"
      }
    },
    {
      "cell_type": "code",
      "source": [
        "fastqs = []\n",
        "for filename in glob.glob(\"*.fastq.gz\"):\n",
        "    fastqs.append(filename.split(\"/\")[-1])\n",
        "\n",
        "fastqs.sort()\n",
        "fastqs"
      ],
      "metadata": {
        "id": "tzYrzgf9z0Ap"
      },
      "execution_count": null,
      "outputs": []
    },
    {
      "cell_type": "code",
      "source": [
        "%%time\n",
        "for fastq in fastqs:\n",
        "    sample = fastq.split(\".fastq.gz\")[0]\n",
        "\n",
        "    !mkdir -p $sample\n",
        "\n",
        "    !$kallisto bus \\\n",
        "            --aa \\\n",
        "            -i index.idx \\\n",
        "            -o $sample \\\n",
        "            -t $threads \\\n",
        "            -x bulk \\\n",
        "            $fastq\n",
        "\n",
        "    !$bustools sort -o $sample/output_sorted.bus $sample/output.bus\n",
        "\n",
        "    !$bustools count \\\n",
        "        --genecounts \\\n",
        "        --cm \\\n",
        "        -o $sample/bustools_count \\\n",
        "        -g palmdb_clustered_t2g.txt \\\n",
        "        -e $sample/matrix.ec \\\n",
        "        -t $sample/transcripts.txt \\\n",
        "        $sample/output_sorted.bus"
      ],
      "metadata": {
        "id": "0F039Zipzm7o"
      },
      "execution_count": null,
      "outputs": []
    },
    {
      "cell_type": "markdown",
      "source": [
        "## Plot virus counts"
      ],
      "metadata": {
        "id": "onW7ST-H0Vn5"
      }
    },
    {
      "cell_type": "markdown",
      "source": [
        "Create adata objects from count matrices:"
      ],
      "metadata": {
        "id": "HvyP7Wj-1pbn"
      }
    },
    {
      "cell_type": "code",
      "source": [
        "!pip install -q kb_python\n",
        "\n",
        "import kb_python.utils as kb_utils\n",
        "import anndata\n",
        "import numpy as np\n",
        "import pandas as pd\n",
        "import os\n",
        "import matplotlib.pyplot as plt\n",
        "import matplotlib.colors\n",
        "%config InlineBackend.figure_format='retina'\n",
        "\n",
        "def nd(arr):\n",
        "    \"\"\"\n",
        "    Function to transform numpy matrix to nd array.\n",
        "    \"\"\"\n",
        "    return np.asarray(arr).reshape(-1)"
      ],
      "metadata": {
        "id": "afKa7WeS12by"
      },
      "execution_count": null,
      "outputs": []
    },
    {
      "cell_type": "code",
      "source": [
        "adatas = []\n",
        "for fastq in fastqs:\n",
        "    # Load data\n",
        "    sample = fastq.split(\".fastq.gz\")[0]\n",
        "\n",
        "    # Filepath to counts\n",
        "    X = f\"{sample}/bustools_count/output.mtx\"\n",
        "    # Filepath to barcode metadata\n",
        "    var_path = f\"{sample}/bustools_count/output.genes.txt\"\n",
        "    # Filepath to gene metadata\n",
        "    obs_path = f\"{sample}/bustools_count/output.barcodes.txt\"\n",
        "\n",
        "    # Create AnnData object\n",
        "    adata = kb_utils.import_matrix_as_anndata(X, obs_path, var_path)\n",
        "\n",
        "    # Add sample name\n",
        "    adata.obs[\"sample\"] = sample\n",
        "\n",
        "    # Append to adata list\n",
        "    adatas.append(adata)"
      ],
      "metadata": {
        "id": "gIt5qwtG1qmB"
      },
      "execution_count": null,
      "outputs": []
    },
    {
      "cell_type": "code",
      "source": [
        "# Concatenate AnnData objects\n",
        "adata = anndata.concat(adatas)\n",
        "adata"
      ],
      "metadata": {
        "id": "wVdOSUEW2s2F"
      },
      "execution_count": null,
      "outputs": []
    },
    {
      "cell_type": "code",
      "source": [
        "# Set sample as index and drop unnecessary columns\n",
        "adata.obs = adata.obs.set_index(\"sample\")\n",
        "adata.obs"
      ],
      "metadata": {
        "id": "oxH6Ltb32s8s"
      },
      "execution_count": null,
      "outputs": []
    },
    {
      "cell_type": "code",
      "source": [
        "# Load library metadata\n",
        "!wget https://raw.githubusercontent.com/pachterlab/LSCHWCP_2023/main/Notebooks/Figure_3/Figure_3a/human_SARSCoV_validation_bulk_autopsy_SraRunTable.txt\n",
        "metadata = pd.read_csv(\"human_SARSCoV_validation_bulk_autopsy_SraRunTable.txt\", sep=\",\")"
      ],
      "metadata": {
        "id": "SLhOATy324Ua"
      },
      "execution_count": null,
      "outputs": []
    },
    {
      "cell_type": "code",
      "source": [
        "# Add case ID from metadata to adata\n",
        "cases = []\n",
        "reads = []\n",
        "for srr in adata.obs.index:\n",
        "    srr_temp = srr.split(\"_\")[0]\n",
        "\n",
        "    # Get case ID\n",
        "    if str(metadata[metadata[\"Run\"] == srr_temp][\"case\"].values[0]) != \"nan\":\n",
        "        cases.append(str(metadata[metadata[\"Run\"] == srr_temp][\"case\"].values[0]))\n",
        "    else:\n",
        "        cases.append(str(metadata[metadata[\"Run\"] == srr_temp][\"sample_case\"].values[0]))\n",
        "\n",
        "    if \"_1\" in srr:\n",
        "        reads.append(\"R1\")\n",
        "    else:\n",
        "        reads.append(\"R2\")\n",
        "\n",
        "adata.obs[\"case\"] = cases\n",
        "adata.obs[\"read\"] = reads"
      ],
      "metadata": {
        "id": "tCfnoRvs3y5y"
      },
      "execution_count": null,
      "outputs": []
    },
    {
      "cell_type": "markdown",
      "source": [
        "Load RNAish % from paper:"
      ],
      "metadata": {
        "id": "n75UM_r-1qzD"
      }
    },
    {
      "cell_type": "code",
      "source": [
        "!wget https://raw.githubusercontent.com/pachterlab/LSCHWCP_2023/main/Notebooks/Figure_3/Figure_3a/human_SARSCoV_validation_bulk_autopsy_rnaish.csv"
      ],
      "metadata": {
        "id": "9wRcC74F1NqS"
      },
      "execution_count": null,
      "outputs": []
    },
    {
      "cell_type": "code",
      "source": [
        "rna_ish = pd.read_csv(\"human_SARSCoV_validation_bulk_autopsy_rnaish.csv\", sep=\"\\t\")\n",
        "rna_ish[\"case_clean\"] = rna_ish[\"case_clean\"].values.astype(str)\n",
        "rna_ish"
      ],
      "metadata": {
        "id": "dhF7lQfT0V7B"
      },
      "execution_count": null,
      "outputs": []
    },
    {
      "cell_type": "markdown",
      "source": [
        "Load virus ID to sOTU mapping:"
      ],
      "metadata": {
        "id": "UBB5dDHF1tM2"
      }
    },
    {
      "cell_type": "code",
      "source": [
        "tax_df = pd.read_csv(\"ID_to_taxonomy_mapping.csv\")\n",
        "tax_df[tax_df[\"species\"].str.contains(\"Severe acute respiratory syndrome\")]"
      ],
      "metadata": {
        "id": "yxhhwCNJ1XjH"
      },
      "execution_count": null,
      "outputs": []
    },
    {
      "cell_type": "markdown",
      "source": [
        "Plot:"
      ],
      "metadata": {
        "id": "q4CpKlL01-O4"
      }
    },
    {
      "cell_type": "code",
      "source": [
        "case_list = rna_ish[\"case_clean\"].values"
      ],
      "metadata": {
        "id": "P1fNPxfB19_S"
      },
      "execution_count": null,
      "outputs": []
    },
    {
      "cell_type": "code",
      "source": [
        "fig, ax = plt.subplots(figsize=(6, 7))\n",
        "fontsize = 16\n",
        "\n",
        "target_ids = tax_df[tax_df[\"species\"].str.contains(\"Severe acute respiratory syndrome-related coronavirus\")][\"rep_ID\"].values\n",
        "\n",
        "kb_counts = []\n",
        "kb_errs = []\n",
        "rnaish_counts = []\n",
        "# Not including Control since there are no RNAish% values for control\n",
        "for i, case in enumerate(case_list[1:]):\n",
        "    kb_count_r1 = adata[(adata.obs[\"case\"] == case) & (adata.obs[\"read\"] == \"R1\"), adata.var.index.isin(target_ids)].X\n",
        "    kb_count_r2 = adata[(adata.obs[\"case\"] == case) & (adata.obs[\"read\"] == \"R2\"), adata.var.index.isin(target_ids)].X\n",
        "\n",
        "    kb_c = [kb_count_r1.sum(), kb_count_r2.sum()]\n",
        "    count_mean = np.mean(kb_c)\n",
        "    kb_counts.append(np.mean(kb_c))\n",
        "\n",
        "    kb_err = [\n",
        "        [count_mean - np.min(kb_c)],\n",
        "        [np.max(kb_c) - count_mean],\n",
        "    ]\n",
        "    kb_errs.append(kb_err)\n",
        "\n",
        "    rnaish_count = rna_ish[rna_ish[\"case_clean\"] == case][\"Viral load% by RNA ISH\"].values[0]\n",
        "    rnaish_counts.append(rnaish_count)\n",
        "\n",
        "    ax.errorbar(count_mean, rnaish_count, xerr = kb_err, c= \"black\", ls=\"none\", elinewidth=1)\n",
        "    ax.scatter(count_mean, rnaish_count, c=\"#003049\", edgecolors=\"black\", s=250, zorder=2)\n",
        "\n",
        "# ax.set_yscale(\"symlog\")\n",
        "# ax.set_xscale(\"symlog\")\n",
        "ax.set_ylabel(\"RNA-ISH (SARS-CoV %)\", fontsize=fontsize)\n",
        "ax.set_xlabel(\n",
        "    \"kallisto\\n(raw counts for SARS-CoV)\",\n",
        "    fontsize=fontsize,\n",
        ")\n",
        "\n",
        "ax.text(5150, 1.5, \"n=23\", fontsize=fontsize)\n",
        "\n",
        "# Add diagonal\n",
        "# ax.plot([0, 1], [0, 1], transform=ax.transAxes, c=\"black\", ls=\"-\", lw=1, zorder=1)\n",
        "\n",
        "ax.tick_params(axis=\"both\", labelsize=fontsize)\n",
        "ax.set_title(f\"Lung autopsy samples\\nfrom COVID-19 patients\", fontsize=fontsize+2)\n",
        "\n",
        "# plt.tight_layout()\n",
        "\n",
        "ax.grid(True, which=\"both\", color=\"lightgray\", ls=\"--\", lw=1)\n",
        "ax.set_axisbelow(True)\n",
        "\n",
        "plt.savefig(\"bulk_benchmark_PRJNA631753.png\", dpi=300, bbox_inches=\"tight\")\n",
        "\n",
        "fig.show()"
      ],
      "metadata": {
        "id": "kbHZep631Zpl"
      },
      "execution_count": null,
      "outputs": []
    }
  ]
}
