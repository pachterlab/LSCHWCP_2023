{
  "cells": [
    {
      "cell_type": "markdown",
      "metadata": {
        "id": "view-in-github",
        "colab_type": "text"
      },
      "source": [
        "<a href=\"https://colab.research.google.com/github/pachterlab/LSCHWCP_2023/blob/main/Notebooks/Supp_Fig_9/Supp_Fig_9ab/enrichment_analysis.ipynb\" target=\"_parent\"><img src=\"https://colab.research.google.com/assets/colab-badge.svg\" alt=\"Open In Colab\"/></a>"
      ]
    },
    {
      "cell_type": "markdown",
      "source": [
        "# Enrichment analysis of predictive genes"
      ],
      "metadata": {
        "id": "P44qi2jOEzIa"
      },
      "id": "P44qi2jOEzIa"
    },
    {
      "cell_type": "code",
      "execution_count": null,
      "id": "ce9cfdfc-8351-4059-80ca-0292c54f9fe7",
      "metadata": {
        "id": "ce9cfdfc-8351-4059-80ca-0292c54f9fe7"
      },
      "outputs": [],
      "source": [
        "!pip install -q gget anndata\n",
        "import numpy as np\n",
        "import pandas as pd\n",
        "pd.set_option('display.max_columns', None)\n",
        "# pd.set_option('display.max_rows', None)\n",
        "import anndata\n",
        "import gget\n",
        "from tqdm import tqdm\n",
        "TQDM_BAR_FORMAT = (\n",
        "    \"{l_bar}{bar}| {n_fmt}/{total_fmt} [elapsed: {elapsed} remaining: {remaining}]\"\n",
        ")\n",
        "import matplotlib.pyplot as plt\n",
        "from matplotlib.ticker import MaxNLocator\n",
        "import textwrap\n",
        "%config InlineBackend.figure_format='retina'"
      ]
    },
    {
      "cell_type": "markdown",
      "id": "0f36008a-b433-43d7-a40b-fdbdcba0b778",
      "metadata": {
        "id": "0f36008a-b433-43d7-a40b-fdbdcba0b778"
      },
      "source": [
        "### Perform enrichment analyses:"
      ]
    },
    {
      "cell_type": "code",
      "execution_count": null,
      "id": "05c70921-5e36-4166-b56f-711f9ca94726",
      "metadata": {
        "id": "05c70921-5e36-4166-b56f-711f9ca94726"
      },
      "outputs": [],
      "source": [
        "!wget https://raw.githubusercontent.com/pachterlab/LSCHWCP_2023/main/Notebooks/Supp_Fig_9/Supp_Fig_9ab/gene_weights.csv\n",
        "gene_df = pd.read_csv(\"gene_weights.csv\")\n",
        "gene_df.head()"
      ]
    },
    {
      "cell_type": "code",
      "execution_count": null,
      "id": "0f1e7256-2f04-43ba-812a-b3b5c0e41104",
      "metadata": {
        "id": "0f1e7256-2f04-43ba-812a-b3b5c0e41104"
      },
      "outputs": [],
      "source": [
        "virs = ['u10', 'u102540', 'u11150', 'u202260']"
      ]
    },
    {
      "cell_type": "code",
      "execution_count": null,
      "id": "7073218f-fae9-481b-b144-f5b3b98fa265",
      "metadata": {
        "id": "7073218f-fae9-481b-b144-f5b3b98fa265"
      },
      "outputs": [],
      "source": [
        "# Number of genes to get gene names from\n",
        "n_genes = 200"
      ]
    },
    {
      "cell_type": "markdown",
      "id": "77c396af-fa85-48a0-bfa1-eb80a2cb05f3",
      "metadata": {
        "id": "77c396af-fa85-48a0-bfa1-eb80a2cb05f3"
      },
      "source": [
        "Plot gene weight distributions:"
      ]
    },
    {
      "cell_type": "code",
      "execution_count": null,
      "id": "0f62077b-4282-4786-a67d-77955e824272",
      "metadata": {
        "id": "0f62077b-4282-4786-a67d-77955e824272"
      },
      "outputs": [],
      "source": [
        "fig, axs = plt.subplots(figsize =(20, 5), ncols=4, sharey=True)\n",
        "fontsize = 14\n",
        "\n",
        "col_idx = 0\n",
        "for vir in virs:\n",
        "    ax = axs[col_idx]\n",
        "    ax.hist(gene_df[f\"{vir} weight\"].values, bins = 100, color=\"#003049\")\n",
        "    ax.set_title(vir, fontsize=fontsize+2)\n",
        "\n",
        "    ax.grid(True, which=\"both\", color='lightgray', ls=\"--\", lw=1)\n",
        "    ax.set_axisbelow(True)\n",
        "    ax.xaxis.grid(False)\n",
        "\n",
        "    ax.set_yscale(\"symlog\")\n",
        "    ax.tick_params(axis=\"both\", labelsize=fontsize)\n",
        "\n",
        "    if col_idx == 0:\n",
        "        ax.set_ylabel(\"Frequency\", fontsize=fontsize+2)\n",
        "    ax.set_xlabel(\"Gene weight\", fontsize=fontsize+2)\n",
        "\n",
        "    # Shoe cut-off based on X number of top genes\n",
        "    ax.axvline(gene_df[f\"{vir} weight\"].values[n_genes], ls=\"--\", color=\"grey\", lw=3)\n",
        "\n",
        "    col_idx += 1\n",
        "\n",
        "plt.subplots_adjust(wspace=0.1, hspace=0.2)\n",
        "\n",
        "fig.savefig(\n",
        "    \"gene_weight_distributions.png\", dpi=300, bbox_inches=\"tight\", transparent=True\n",
        ")\n",
        "\n",
        "fig.show()"
      ]
    },
    {
      "cell_type": "markdown",
      "source": [
        "Get gene symbols from Ensembl and perform enrichment analysis:"
      ],
      "metadata": {
        "id": "KiHwsqAtFKKX"
      },
      "id": "KiHwsqAtFKKX"
    },
    {
      "cell_type": "code",
      "execution_count": null,
      "id": "830ea916-092d-4b1f-a21c-50b609a8ce4c",
      "metadata": {
        "id": "830ea916-092d-4b1f-a21c-50b609a8ce4c"
      },
      "outputs": [],
      "source": [
        "# Enrichr database(s)\n",
        "database = \"Microbe_Perturbations_from_GEO_up\"\n",
        "database2 = \"KEGG_2021_Human\""
      ]
    },
    {
      "cell_type": "markdown",
      "source": [
        "u10:"
      ],
      "metadata": {
        "id": "bxdYrLOvF_iw"
      },
      "id": "bxdYrLOvF_iw"
    },
    {
      "cell_type": "code",
      "execution_count": null,
      "id": "13aebd78-078e-42af-9eed-ebd5bdb968ed",
      "metadata": {
        "id": "13aebd78-078e-42af-9eed-ebd5bdb968ed"
      },
      "outputs": [],
      "source": [
        "# Get gene symbols/names from Ensembl ID with gget info\n",
        "u10_info_df = gget.info(gene_df[\"u10 Ensembl ID\"][:n_genes].values, verbose=False)\n",
        "u10_info_df.head()"
      ]
    },
    {
      "cell_type": "code",
      "execution_count": null,
      "id": "18bcf17f-0d36-4809-b5ee-d76362f974b3",
      "metadata": {
        "id": "18bcf17f-0d36-4809-b5ee-d76362f974b3"
      },
      "outputs": [],
      "source": [
        "# Perform enrichment analysis\n",
        "u10_enrichr_df = gget.enrichr(u10_info_df[\"ensembl_gene_name\"].dropna(axis=0).values, database=database, background=True, plot=True)"
      ]
    },
    {
      "cell_type": "code",
      "source": [
        "gget.enrichr(u10_info_df[\"ensembl_gene_name\"].dropna(axis=0).values, database=database2, background=True)"
      ],
      "metadata": {
        "id": "fl1HTUq3F2AW"
      },
      "id": "fl1HTUq3F2AW",
      "execution_count": null,
      "outputs": []
    },
    {
      "cell_type": "markdown",
      "source": [
        "u11150:"
      ],
      "metadata": {
        "id": "TfmwEPqmGB5p"
      },
      "id": "TfmwEPqmGB5p"
    },
    {
      "cell_type": "code",
      "execution_count": null,
      "id": "1f0c11d6-b4d7-4415-925d-e9e90aabef28",
      "metadata": {
        "id": "1f0c11d6-b4d7-4415-925d-e9e90aabef28"
      },
      "outputs": [],
      "source": [
        "u11150_info_df = gget.info(gene_df[\"u11150 Ensembl ID\"][:n_genes].values, verbose=False)\n",
        "u11150_info_df.head()"
      ]
    },
    {
      "cell_type": "code",
      "execution_count": null,
      "id": "1c261b10-cf7a-4f66-8aa5-3f2e01a409d7",
      "metadata": {
        "id": "1c261b10-cf7a-4f66-8aa5-3f2e01a409d7"
      },
      "outputs": [],
      "source": [
        "u11150_enrichr_df = gget.enrichr(u11150_info_df[\"ensembl_gene_name\"].dropna(axis=0).values, database=database, background=True, plot=True)"
      ]
    },
    {
      "cell_type": "code",
      "source": [
        "gget.enrichr(u11150_info_df[\"ensembl_gene_name\"].dropna(axis=0).values, database=database2, background=True)"
      ],
      "metadata": {
        "id": "q1l5WduKGEld"
      },
      "id": "q1l5WduKGEld",
      "execution_count": null,
      "outputs": []
    },
    {
      "cell_type": "markdown",
      "source": [
        "u202260:"
      ],
      "metadata": {
        "id": "CvpkMmSLGEry"
      },
      "id": "CvpkMmSLGEry"
    },
    {
      "cell_type": "code",
      "execution_count": null,
      "id": "1bca467e-0fe2-49a4-9071-8782829ea9f9",
      "metadata": {
        "id": "1bca467e-0fe2-49a4-9071-8782829ea9f9"
      },
      "outputs": [],
      "source": [
        "u202260_info_df = gget.info(gene_df[\"u202260 Ensembl ID\"][:n_genes].values, verbose=False)\n",
        "u202260_info_df.head()"
      ]
    },
    {
      "cell_type": "code",
      "execution_count": null,
      "id": "35d427be-f4dd-4fd5-9dae-6dce304bf93e",
      "metadata": {
        "id": "35d427be-f4dd-4fd5-9dae-6dce304bf93e"
      },
      "outputs": [],
      "source": [
        "u202260_enrichr_df = gget.enrichr(u202260_info_df[\"ensembl_gene_name\"].dropna(axis=0).values, database=database, background=True, plot=True)"
      ]
    },
    {
      "cell_type": "code",
      "source": [
        "gget.enrichr(u202260_info_df[\"ensembl_gene_name\"].dropna(axis=0).values, database=database2, background=True)"
      ],
      "metadata": {
        "id": "ystWN_-wGHwC"
      },
      "id": "ystWN_-wGHwC",
      "execution_count": null,
      "outputs": []
    },
    {
      "cell_type": "markdown",
      "source": [
        "u102540:"
      ],
      "metadata": {
        "id": "wI64IJK9GH1T"
      },
      "id": "wI64IJK9GH1T"
    },
    {
      "cell_type": "code",
      "execution_count": null,
      "id": "38ceaa25-0cef-4315-8310-78640bb80f04",
      "metadata": {
        "id": "38ceaa25-0cef-4315-8310-78640bb80f04"
      },
      "outputs": [],
      "source": [
        "u102540_info_df = gget.info(gene_df[\"u102540 Ensembl ID\"][:n_genes].values, verbose=False)\n",
        "u102540_info_df.head()"
      ]
    },
    {
      "cell_type": "code",
      "execution_count": null,
      "id": "02b0491a-1e98-461d-b8cd-5baa85030529",
      "metadata": {
        "id": "02b0491a-1e98-461d-b8cd-5baa85030529"
      },
      "outputs": [],
      "source": [
        "u102540_enrichr_df = gget.enrichr(u102540_info_df[\"ensembl_gene_name\"].dropna(axis=0).values, database=database, background=True, plot=True)"
      ]
    },
    {
      "cell_type": "code",
      "source": [
        "gget.enrichr(u102540_info_df[\"ensembl_gene_name\"].dropna(axis=0).values, database=database2, background=True)"
      ],
      "metadata": {
        "id": "HJN1akC2GMbd"
      },
      "id": "HJN1akC2GMbd",
      "execution_count": null,
      "outputs": []
    },
    {
      "cell_type": "markdown",
      "id": "cf29f6a1-4326-49dc-97f2-142de0c93c6d",
      "metadata": {
        "tags": [],
        "id": "cf29f6a1-4326-49dc-97f2-142de0c93c6d"
      },
      "source": [
        "### Combine enrichment results into one plot"
      ]
    },
    {
      "cell_type": "code",
      "execution_count": null,
      "id": "25a742c7-21aa-4379-b824-89d3baab19df",
      "metadata": {
        "id": "25a742c7-21aa-4379-b824-89d3baab19df"
      },
      "outputs": [],
      "source": [
        "pd.set_option('display.max_rows', None)"
      ]
    },
    {
      "cell_type": "code",
      "execution_count": null,
      "id": "c74c677c-3768-47fa-9a0c-270ce5f3ea50",
      "metadata": {
        "id": "c74c677c-3768-47fa-9a0c-270ce5f3ea50"
      },
      "outputs": [],
      "source": [
        "# Number of paths to plot\n",
        "n_paths = 15\n",
        "dfs = [\n",
        "    u10_enrichr_df[:n_paths],\n",
        "    u102540_enrichr_df[:n_paths],\n",
        "    u11150_enrichr_df[:n_paths],\n",
        "    u202260_enrichr_df[:n_paths]\n",
        "]\n",
        "vir_names = [\"u10\", \"u102540\", \"u11150\", \"u202260\"]\n",
        "\n",
        "fig, axs = plt.subplots(figsize=(40, 15), ncols=4)\n",
        "fontsize = 21\n",
        "barcolor = \"#003049\"\n",
        "p_val_color = \"tab:red\" # orange: #f77f00\n",
        "\n",
        "for i, (df, vir) in enumerate(zip(dfs, vir_names)):\n",
        "    ax1 = axs[i]\n",
        "\n",
        "    overlapping_genes = df[\"overlapping_genes\"].values\n",
        "    path_names = df[\"path_name\"].values\n",
        "    adj_p_values = df[\"adj_p_val\"].values\n",
        "\n",
        "    # Get gene counts\n",
        "    gene_counts = []\n",
        "    for gene_list in overlapping_genes:\n",
        "        gene_counts.append(len(gene_list))\n",
        "\n",
        "    # # Sort by number of genes in pathway\n",
        "    # overlapping_genes = overlapping_genes[np.argsort(gene_counts)][::-1]\n",
        "    # path_names = path_names[np.argsort(gene_counts)][::-1]\n",
        "    # adj_p_values = adj_p_values[np.argsort(gene_counts)][::-1]\n",
        "    # gene_counts = np.sort(gene_counts)[::-1]\n",
        "\n",
        "    # Wrap pathway labels\n",
        "    labels = []\n",
        "    for label in path_names:\n",
        "        labels.append(\n",
        "            textwrap.fill(\n",
        "                label,\n",
        "                width=20,\n",
        "                break_long_words=False,\n",
        "                max_lines=2,\n",
        "                placeholder=\"...\",\n",
        "            )\n",
        "        )\n",
        "\n",
        "    # Plot barplot\n",
        "    # ax1.barh(labels, gene_counts, color=cmap(c_values), align=\"center\")\n",
        "    ax1.barh(np.arange(len(gene_counts)), gene_counts, color=barcolor, align=\"center\")\n",
        "\n",
        "#     # Add gene names to bar plot\n",
        "#     for idx, (gc, og) in enumerate(zip(gene_counts, overlapping_genes)):\n",
        "#         clean_genes = textwrap.fill(\n",
        "#                 \", \".join(og),\n",
        "#                 width=gc/2*10,\n",
        "#                 break_long_words=False,\n",
        "#                 max_lines=2,\n",
        "#                 placeholder=\"...\",\n",
        "#             )\n",
        "\n",
        "#         ax1.text(0.05, idx, clean_genes, fontsize=fontsize-2, color=\"lightgrey\", va=\"center\", ha=\"left\")\n",
        "\n",
        "    ax1.set_yticks(np.arange(len(gene_counts)), labels, linespacing=0.85, fontsize=fontsize)\n",
        "    ax1.invert_yaxis()\n",
        "\n",
        "    # Set x-limits\n",
        "    # ax1.set_xlim(0, ax1.get_xlim()[1]+0.01)\n",
        "    ax1.set_xlim(left=0, right=13.5)\n",
        "\n",
        "    # Add adj. P value secondary x-axis\n",
        "    ax2 = ax1.twiny()\n",
        "    ax2.scatter(-np.log10(adj_p_values), np.arange(len(gene_counts)), color=p_val_color, s=150, edgecolor=\"white\", lw=0.5)\n",
        "    # Change label and color of p-value axis\n",
        "    ax2.set_xlabel(\n",
        "        \"$-log_{10}$(adjusted P value)\", fontsize=fontsize+2, color=p_val_color\n",
        "    )\n",
        "    ax2.spines[\"top\"].set_color(p_val_color)\n",
        "    ax2.spines[\"top\"].set_linewidth(2)\n",
        "    ax2.tick_params(axis=\"x\", colors=p_val_color, labelsize=fontsize)\n",
        "\n",
        "    # # Set x2-limits\n",
        "    ax2.set_xlim(left=0, right=5)\n",
        "\n",
        "    # Add alpha=0.05 p-value cutoff\n",
        "    ax2.axvline(-np.log10(0.05), color=p_val_color, ls=\"--\", lw=3.5)\n",
        "    t = ax2.text(\n",
        "        -np.log10(0.05) - 0.4,\n",
        "        -0.3,\n",
        "        \"p = 0.05\",\n",
        "        ha=\"left\",\n",
        "        va=\"top\",\n",
        "        rotation=\"vertical\",\n",
        "        fontweight=\"bold\",\n",
        "        color=p_val_color,\n",
        "        fontsize=fontsize,\n",
        "    )\n",
        "    # t.set_bbox(dict(facecolor='grey', alpha=0.5))\n",
        "\n",
        "    # Set label and color of count axis\n",
        "    ax1.set_xlabel(\n",
        "        # f\"Number of overlapping genes (query size: {len(genes_clean)})\",\n",
        "        f\"Number of overlapping genes\",\n",
        "        color=barcolor,\n",
        "        fontsize=fontsize+5,\n",
        "    )\n",
        "    # ax2.spines[\"bottom\"].set_color(barcolor)\n",
        "    # ax2.spines[\"bottom\"].set_linewidth(2)\n",
        "    ax1.tick_params(axis=\"x\", labelsize=fontsize+3, colors=barcolor)\n",
        "    # Set bottom x axis to keep only integers since counts cannot be floats\n",
        "    ax1.xaxis.set_major_locator(MaxNLocator(integer=True))\n",
        "    # Change fontsize of y-tick labels\n",
        "    ax1.tick_params(axis=\"y\", labelsize=fontsize)\n",
        "\n",
        "    # Set title\n",
        "    ax1.set_title(\n",
        "        f\"{vir}\", fontsize=fontsize + 10, pad=10\n",
        "    )\n",
        "\n",
        "    # Set axis margins\n",
        "    ax1.margins(y=0, x=0)\n",
        "\n",
        "    ax1.grid(True, which=\"both\", color=\"lightgrey\", ls=\"--\", lw=1)\n",
        "    ax1.set_axisbelow(True)\n",
        "    ax1.yaxis.grid(False)\n",
        "\n",
        "    # Remove grids\n",
        "    # ax1.grid(False)\n",
        "    # ax2.grid(False)\n",
        "\n",
        "plt.subplots_adjust(wspace=0.67)\n",
        "\n",
        "# Save figure\n",
        "fig.savefig(\n",
        "    \"predictive_genes_enrichment.png\", dpi=300, bbox_inches=\"tight\", transparent=True\n",
        ")\n",
        "\n",
        "fig.show()"
      ]
    },
    {
      "cell_type": "code",
      "execution_count": null,
      "id": "951b1364-dc3e-4a6b-8754-15486a9db7b6",
      "metadata": {
        "id": "951b1364-dc3e-4a6b-8754-15486a9db7b6"
      },
      "outputs": [],
      "source": []
    }
  ],
  "metadata": {
    "kernelspec": {
      "display_name": "Python 3 (ipykernel)",
      "language": "python",
      "name": "python3"
    },
    "language_info": {
      "codemirror_mode": {
        "name": "ipython",
        "version": 3
      },
      "file_extension": ".py",
      "mimetype": "text/x-python",
      "name": "python",
      "nbconvert_exporter": "python",
      "pygments_lexer": "ipython3",
      "version": "3.9.12"
    },
    "colab": {
      "provenance": [],
      "include_colab_link": true
    }
  },
  "nbformat": 4,
  "nbformat_minor": 5
}