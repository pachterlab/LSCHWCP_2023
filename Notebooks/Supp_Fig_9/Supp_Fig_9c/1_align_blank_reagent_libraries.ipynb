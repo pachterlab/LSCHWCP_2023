{
  "nbformat": 4,
  "nbformat_minor": 0,
  "metadata": {
    "colab": {
      "provenance": [],
      "authorship_tag": "ABX9TyOJpGAnZ4wvfGHolVpSO3Nz",
      "include_colab_link": true
    },
    "kernelspec": {
      "name": "python3",
      "display_name": "Python 3"
    },
    "language_info": {
      "name": "python"
    }
  },
  "cells": [
    {
      "cell_type": "markdown",
      "metadata": {
        "id": "view-in-github",
        "colab_type": "text"
      },
      "source": [
        "<a href=\"https://colab.research.google.com/github/pachterlab/LSCHWCP_2023/blob/main/Notebooks/Supp_Fig_9/Supp_Fig_9c/1_align_blank_reagent_libraries.ipynb\" target=\"_parent\"><img src=\"https://colab.research.google.com/assets/colab-badge.svg\" alt=\"Open In Colab\"/></a>"
      ]
    },
    {
      "cell_type": "markdown",
      "source": [
        "# Contaminating virus-like sequences in laboratory reagents - Generate the count matrix\n",
        "Sequencing data was generated from 'blank' sequencing libraries containing only sterile water and reagents (data source: https://www.ncbi.nlm.nih.gov/pmc/articles/PMC8625350/)."
      ],
      "metadata": {
        "id": "-wvSemrGG7nY"
      }
    },
    {
      "cell_type": "code",
      "source": [
        "# Number of threads to use during alignments\n",
        "threads = 2"
      ],
      "metadata": {
        "id": "K3weH1YVao_v"
      },
      "execution_count": 2,
      "outputs": []
    },
    {
      "cell_type": "code",
      "source": [
        "!pip install -q ffq gget kb_python"
      ],
      "metadata": {
        "id": "4p_GoXeOauNI"
      },
      "execution_count": 3,
      "outputs": []
    },
    {
      "cell_type": "code",
      "source": [
        "import glob\n",
        "import json"
      ],
      "metadata": {
        "id": "V16iy_Kva6lU"
      },
      "execution_count": 4,
      "outputs": []
    },
    {
      "cell_type": "markdown",
      "source": [
        "# Download raw sequencing data"
      ],
      "metadata": {
        "id": "VywA2AsOJBB6"
      }
    },
    {
      "cell_type": "code",
      "execution_count": 5,
      "metadata": {
        "colab": {
          "base_uri": "https://localhost:8080/"
        },
        "id": "-ReDRV6LaiAV",
        "outputId": "0fb86a0d-ac90-4186-dbb1-f42e7d8fb054"
      },
      "outputs": [
        {
          "output_type": "stream",
          "name": "stdout",
          "text": [
            "[2024-05-04 21:19:36,224]    INFO Parsing run SRR14737466\n",
            "[2024-05-04 21:19:39,232]    INFO Parsing run SRR14737469\n",
            "[2024-05-04 21:19:41,499]    INFO Parsing run SRR14737470\n",
            "[2024-05-04 21:19:43,603]    INFO Parsing run SRR14737471\n",
            "8\n"
          ]
        },
        {
          "output_type": "execute_result",
          "data": {
            "text/plain": [
              "{'accession': 'SRR14737466',\n",
              " 'filename': 'SRR14737466_1.fastq.gz',\n",
              " 'filetype': 'fastq',\n",
              " 'filesize': 445000738,\n",
              " 'filenumber': 1,\n",
              " 'md5': '05052583388046a53e52a065fe31733f',\n",
              " 'urltype': 'ftp',\n",
              " 'url': 'ftp://ftp.sra.ebi.ac.uk/vol1/fastq/SRR147/066/SRR14737466/SRR14737466_1.fastq.gz'}"
            ]
          },
          "metadata": {},
          "execution_count": 5
        }
      ],
      "source": [
        "# Get download info for SRRs containing samples of reagents only\n",
        "out = \"bkg_viruses_data.json\"\n",
        "!ffq SRR14737466 SRR14737469 SRR14737470 SRR14737471 --ftp -o $out\n",
        "\n",
        "# Open ffq results\n",
        "f = open(out)\n",
        "data = json.load(f)\n",
        "f.close()\n",
        "\n",
        "print(len(data))\n",
        "data[0]"
      ]
    },
    {
      "cell_type": "code",
      "source": [
        "datafolder = \"raw_data\"\n",
        "!mkdir $datafolder"
      ],
      "metadata": {
        "id": "xs5iTj0-bGFr"
      },
      "execution_count": null,
      "outputs": []
    },
    {
      "cell_type": "code",
      "source": [
        "# Download data\n",
        "for dataset in data:\n",
        "    url = dataset[\"url\"]\n",
        "    !cd $datafolder && curl -O $url"
      ],
      "metadata": {
        "colab": {
          "base_uri": "https://localhost:8080/"
        },
        "id": "6itaFGTUbAov",
        "outputId": "e323713c-a732-47fd-ba85-38f102f0a327"
      },
      "execution_count": 7,
      "outputs": [
        {
          "output_type": "stream",
          "name": "stdout",
          "text": [
            "  % Total    % Received % Xferd  Average Speed   Time    Time     Time  Current\n",
            "                                 Dload  Upload   Total   Spent    Left  Speed\n",
            "100  424M  100  424M    0     0  27.5M      0  0:00:15  0:00:15 --:--:-- 32.8M\n",
            "  % Total    % Received % Xferd  Average Speed   Time    Time     Time  Current\n",
            "                                 Dload  Upload   Total   Spent    Left  Speed\n",
            "100  454M  100  454M    0     0  27.1M      0  0:00:16  0:00:16 --:--:-- 31.8M\n",
            "  % Total    % Received % Xferd  Average Speed   Time    Time     Time  Current\n",
            "                                 Dload  Upload   Total   Spent    Left  Speed\n",
            "100 1299M  100 1299M    0     0  31.2M      0  0:00:41  0:00:41 --:--:-- 32.9M\n",
            "  % Total    % Received % Xferd  Average Speed   Time    Time     Time  Current\n",
            "                                 Dload  Upload   Total   Spent    Left  Speed\n",
            "100 1326M  100 1326M    0     0  30.8M      0  0:00:43  0:00:43 --:--:-- 32.3M\n",
            "  % Total    % Received % Xferd  Average Speed   Time    Time     Time  Current\n",
            "                                 Dload  Upload   Total   Spent    Left  Speed\n",
            "100 1820M  100 1820M    0     0  31.9M      0  0:00:56  0:00:56 --:--:-- 33.2M\n",
            "  % Total    % Received % Xferd  Average Speed   Time    Time     Time  Current\n",
            "                                 Dload  Upload   Total   Spent    Left  Speed\n",
            "100 1891M  100 1891M    0     0  31.8M      0  0:00:59  0:00:59 --:--:-- 33.0M\n",
            "  % Total    % Received % Xferd  Average Speed   Time    Time     Time  Current\n",
            "                                 Dload  Upload   Total   Spent    Left  Speed\n",
            "100  587M  100  587M    0     0  29.6M      0  0:00:19  0:00:19 --:--:-- 33.1M\n",
            "  % Total    % Received % Xferd  Average Speed   Time    Time     Time  Current\n",
            "                                 Dload  Upload   Total   Spent    Left  Speed\n",
            "100  585M  100  585M    0     0  29.7M      0  0:00:19  0:00:19 --:--:-- 33.2M\n"
          ]
        }
      ]
    },
    {
      "cell_type": "markdown",
      "source": [
        "# Download optimized PalmDB reference files"
      ],
      "metadata": {
        "id": "Kukn2zJUJMxl"
      }
    },
    {
      "cell_type": "code",
      "source": [
        "# Download the ID to taxonomy mapping\n",
        "!wget https://raw.githubusercontent.com/pachterlab/LSCHWCP_2023/main/PalmDB/ID_to_taxonomy_mapping.csv\n",
        "# Download the customized transcripts to gene mapping\n",
        "!wget https://raw.githubusercontent.com/pachterlab/LSCHWCP_2023/main/PalmDB/palmdb_clustered_t2g.txt\n",
        "# Download the RdRP amino acid sequences\n",
        "!wget https://raw.githubusercontent.com/pachterlab/LSCHWCP_2023/main/PalmDB/palmdb_rdrp_seqs.fa"
      ],
      "metadata": {
        "colab": {
          "base_uri": "https://localhost:8080/"
        },
        "id": "P9uB4R6gaw0y",
        "outputId": "4e659503-5fe8-412c-faf3-4cb33719171a"
      },
      "execution_count": 8,
      "outputs": [
        {
          "output_type": "stream",
          "name": "stdout",
          "text": [
            "--2024-05-04 21:24:20--  https://raw.githubusercontent.com/pachterlab/LSCHWCP_2023/main/PalmDB/ID_to_taxonomy_mapping.csv\n",
            "Resolving raw.githubusercontent.com (raw.githubusercontent.com)... 185.199.109.133, 185.199.110.133, 185.199.108.133, ...\n",
            "Connecting to raw.githubusercontent.com (raw.githubusercontent.com)|185.199.109.133|:443... connected.\n",
            "HTTP request sent, awaiting response... 200 OK\n",
            "Length: 19705497 (19M) [text/plain]\n",
            "Saving to: ‘ID_to_taxonomy_mapping.csv.1’\n",
            "\n",
            "\r          ID_to_tax   0%[                    ]       0  --.-KB/s               \rID_to_taxonomy_mapp 100%[===================>]  18.79M  --.-KB/s    in 0.1s    \n",
            "\n",
            "2024-05-04 21:24:20 (141 MB/s) - ‘ID_to_taxonomy_mapping.csv.1’ saved [19705497/19705497]\n",
            "\n",
            "--2024-05-04 21:24:20--  https://raw.githubusercontent.com/pachterlab/LSCHWCP_2023/main/PalmDB/palmdb_clustered_t2g.txt\n",
            "Resolving raw.githubusercontent.com (raw.githubusercontent.com)... 185.199.108.133, 185.199.109.133, 185.199.110.133, ...\n",
            "Connecting to raw.githubusercontent.com (raw.githubusercontent.com)|185.199.108.133|:443... connected.\n",
            "HTTP request sent, awaiting response... 200 OK\n",
            "Length: 4561689 (4.3M) [text/plain]\n",
            "Saving to: ‘palmdb_clustered_t2g.txt.1’\n",
            "\n",
            "palmdb_clustered_t2 100%[===================>]   4.35M  --.-KB/s    in 0.07s   \n",
            "\n",
            "2024-05-04 21:24:20 (61.2 MB/s) - ‘palmdb_clustered_t2g.txt.1’ saved [4561689/4561689]\n",
            "\n",
            "--2024-05-04 21:24:20--  https://raw.githubusercontent.com/pachterlab/LSCHWCP_2023/main/PalmDB/palmdb_rdrp_seqs.fa\n",
            "Resolving raw.githubusercontent.com (raw.githubusercontent.com)... 185.199.108.133, 185.199.110.133, 185.199.109.133, ...\n",
            "Connecting to raw.githubusercontent.com (raw.githubusercontent.com)|185.199.108.133|:443... connected.\n",
            "HTTP request sent, awaiting response... 200 OK\n",
            "Length: 35361991 (34M) [text/plain]\n",
            "Saving to: ‘palmdb_rdrp_seqs.fa.1’\n",
            "\n",
            "palmdb_rdrp_seqs.fa 100%[===================>]  33.72M   175MB/s    in 0.2s    \n",
            "\n",
            "2024-05-04 21:24:20 (175 MB/s) - ‘palmdb_rdrp_seqs.fa.1’ saved [35361991/35361991]\n",
            "\n"
          ]
        }
      ]
    },
    {
      "cell_type": "markdown",
      "source": [
        "# Generate PalmDB/virus amino acid (--aa) reference index"
      ],
      "metadata": {
        "id": "FRBUa3WNJl4-"
      }
    },
    {
      "cell_type": "code",
      "source": [
        "%%time\n",
        "!kb ref \\\n",
        "  --workflow custom \\\n",
        "  --aa \\\n",
        "  -t $threads \\\n",
        "  -i virus_index.idx \\\n",
        "  palmdb_rdrp_seqs.fa"
      ],
      "metadata": {
        "colab": {
          "base_uri": "https://localhost:8080/"
        },
        "id": "1Wvy84UJboBS",
        "outputId": "31da79d8-fe13-47ba-f5b1-ff5449541d8f"
      },
      "execution_count": 9,
      "outputs": [
        {
          "output_type": "stream",
          "name": "stdout",
          "text": [
            "[2024-05-04 21:24:27,734]    INFO [ref_custom] Skipping kallisto index because virus_index.idx already exists. Use the --overwrite flag to overwrite.\n",
            "CPU times: user 59.3 ms, sys: 10.8 ms, total: 70.1 ms\n",
            "Wall time: 7.45 s\n"
          ]
        }
      ]
    },
    {
      "cell_type": "markdown",
      "source": [
        "# Generate a count matrix for each library using kallisto translated search (--aa)"
      ],
      "metadata": {
        "id": "yysWJezaJoz7"
      }
    },
    {
      "cell_type": "code",
      "source": [
        "%%time\n",
        "out_folder = \"aligned\"\n",
        "!mkdir $out_folder\n",
        "\n",
        "for filename in glob.glob(f\"{datafolder}/*.fastq.gz\"):\n",
        "    sample = filename.split(\"/\")[-1].split(\".\")[0]\n",
        "\n",
        "    !kb count \\\n",
        "        --aa \\\n",
        "        -t $threads \\\n",
        "        -i virus_index.idx \\\n",
        "        -g palmdb_clustered_t2g.txt \\\n",
        "        --h5ad \\\n",
        "        -x bulk \\\n",
        "        --parity single \\\n",
        "        -o $out_folder/$sample \\\n",
        "        $filename"
      ],
      "metadata": {
        "colab": {
          "base_uri": "https://localhost:8080/"
        },
        "id": "XoNGwlN2azKd",
        "outputId": "fc8172af-e769-4538-f250-fd96808817c7"
      },
      "execution_count": null,
      "outputs": [
        {
          "output_type": "stream",
          "name": "stdout",
          "text": [
            "mkdir: cannot create directory ‘aligned’: File exists\n",
            "[2024-05-04 21:24:36,375]    INFO [count] Using index virus_index.idx to generate BUS file to aligned/SRR14737470_1 from\n",
            "[2024-05-04 21:24:36,375]    INFO [count]         raw_data/SRR14737470_1.fastq.gz\n",
            "[2024-05-04 23:16:41,127]    INFO [count] Sorting BUS file aligned/SRR14737470_1/output.bus to aligned/SRR14737470_1/tmp/output.s.bus\n",
            "[2024-05-04 23:16:47,654]    INFO [count] Inspecting BUS file aligned/SRR14737470_1/tmp/output.s.bus\n",
            "[2024-05-04 23:16:48,759]    INFO [count] Generating count matrix aligned/SRR14737470_1/counts_unfiltered/cells_x_genes from BUS file aligned/SRR14737470_1/tmp/output.s.bus\n",
            "[2024-05-04 23:16:51,091]    INFO [count] Writing gene names to file aligned/SRR14737470_1/counts_unfiltered/cells_x_genes.genes.names.txt\n",
            "[2024-05-04 23:16:51,778] WARNING [count] 99228 gene IDs do not have corresponding valid gene names. These genes will use their gene IDs instead.\n",
            "[2024-05-04 23:16:51,842]    INFO [count] Reading matrix aligned/SRR14737470_1/counts_unfiltered/cells_x_genes.mtx\n",
            "[2024-05-04 23:16:52,286]    INFO [count] Writing matrix to h5ad aligned/SRR14737470_1/counts_unfiltered/adata.h5ad\n",
            "[2024-05-04 23:17:04,193]    INFO [count] Using index virus_index.idx to generate BUS file to aligned/SRR14737466_2 from\n",
            "[2024-05-04 23:17:04,194]    INFO [count]         raw_data/SRR14737466_2.fastq.gz\n",
            "[2024-05-04 23:32:11,567]    INFO [count] Sorting BUS file aligned/SRR14737466_2/output.bus to aligned/SRR14737466_2/tmp/output.s.bus\n",
            "[2024-05-04 23:32:14,774]    INFO [count] Inspecting BUS file aligned/SRR14737466_2/tmp/output.s.bus\n",
            "[2024-05-04 23:32:15,877]    INFO [count] Generating count matrix aligned/SRR14737466_2/counts_unfiltered/cells_x_genes from BUS file aligned/SRR14737466_2/tmp/output.s.bus\n",
            "[2024-05-04 23:32:17,584]    INFO [count] Writing gene names to file aligned/SRR14737466_2/counts_unfiltered/cells_x_genes.genes.names.txt\n",
            "[2024-05-04 23:32:17,914] WARNING [count] 99228 gene IDs do not have corresponding valid gene names. These genes will use their gene IDs instead.\n",
            "[2024-05-04 23:32:17,949]    INFO [count] Reading matrix aligned/SRR14737466_2/counts_unfiltered/cells_x_genes.mtx\n",
            "[2024-05-04 23:32:18,122]    INFO [count] Writing matrix to h5ad aligned/SRR14737466_2/counts_unfiltered/adata.h5ad\n",
            "[2024-05-04 23:32:27,655]    INFO [count] Using index virus_index.idx to generate BUS file to aligned/SRR14737471_1 from\n",
            "[2024-05-04 23:32:27,655]    INFO [count]         raw_data/SRR14737471_1.fastq.gz\n",
            "[2024-05-05 00:00:21,362]    INFO [count] Sorting BUS file aligned/SRR14737471_1/output.bus to aligned/SRR14737471_1/tmp/output.s.bus\n",
            "[2024-05-05 00:00:24,669]    INFO [count] Inspecting BUS file aligned/SRR14737471_1/tmp/output.s.bus\n",
            "[2024-05-05 00:00:25,772]    INFO [count] Generating count matrix aligned/SRR14737471_1/counts_unfiltered/cells_x_genes from BUS file aligned/SRR14737471_1/tmp/output.s.bus\n",
            "[2024-05-05 00:00:28,386]    INFO [count] Writing gene names to file aligned/SRR14737471_1/counts_unfiltered/cells_x_genes.genes.names.txt\n",
            "[2024-05-05 00:00:29,996] WARNING [count] 99228 gene IDs do not have corresponding valid gene names. These genes will use their gene IDs instead.\n",
            "[2024-05-05 00:00:30,115]    INFO [count] Reading matrix aligned/SRR14737471_1/counts_unfiltered/cells_x_genes.mtx\n",
            "[2024-05-05 00:00:30,544]    INFO [count] Writing matrix to h5ad aligned/SRR14737471_1/counts_unfiltered/adata.h5ad\n",
            "[2024-05-05 00:00:42,623]    INFO [count] Using index virus_index.idx to generate BUS file to aligned/SRR14737470_2 from\n",
            "[2024-05-05 00:00:42,623]    INFO [count]         raw_data/SRR14737470_2.fastq.gz\n"
          ]
        }
      ]
    },
    {
      "cell_type": "markdown",
      "source": [
        "# Add metadata to count matrices and combine them into a single count matrix"
      ],
      "metadata": {
        "id": "FT27AUJ4JugB"
      }
    },
    {
      "cell_type": "code",
      "source": [
        "# Experimental conditions of each blank negative control sample as described in the original publication (linked above)\n",
        "tech_lookup = {}\n",
        "tech_lookup[\"SRR14737471\"] = {\n",
        "    \"Sequencing Platform\" : \"Illumina Novaseq 6000 150 cycle kit (2 × 75 nt reads)\",\n",
        "    \"RNA Extraction\" : \"RNeasy Plus Universal Kits (Qiagen, Hilden, Germany)\",\n",
        "    \"Library Preparation\" : \"Trio RNA-seq + UDI (NuGEN)\"\n",
        "}\n",
        "tech_lookup[\"SRR14737470\"] = {\n",
        "    \"Sequencing Platform\" : \"Illumina Novaseq 6000 150 cycle kit (2 × 75 nt reads)\",\n",
        "    \"RNA Extraction\" : \"RNeasy Plus Universal Kits (Qiagen, Hilden, Germany)\",\n",
        "    \"Library Preparation\" : \"Trio RNA-seq + UDI (NuGEN)\"\n",
        "}\n",
        "tech_lookup[\"SRR14737466\"] = {\n",
        "    \"Sequencing Platform\" : \"Illumina MiSeq 150 cycle kit (2 × 75 nt reads)\",\n",
        "    \"RNA Extraction\" : \"Total RNA purification Kit (Norgen BioTek, Thorold, ON, Canada)\",\n",
        "    \"Library Preparation\" : \"SMARTer Stranded Total RNA-Seq Kit v2-Pico Input Mammalian (Clontech)\"\n",
        "}\n",
        "tech_lookup[\"SRR14737469\"] = {\n",
        "    \"Sequencing Platform\" : \"Illumina NextSeq 500, mid-output 150 cycle kit (2 × 75 nt reads)\",\n",
        "    \"RNA Extraction\" : \"Total RNA Purification Kit (Norgen Biotek, Thorold, ON, Canada)\",\n",
        "    \"Library Preparation\" : \"SMARTer Stranded Total RNA-Seq Kit v2-Pico Input Mammalian (Clontech)\"\n",
        "}"
      ],
      "metadata": {
        "id": "54Xhr-V4bxkH"
      },
      "execution_count": null,
      "outputs": []
    },
    {
      "cell_type": "code",
      "source": [
        "adatas = []\n",
        "for filepath in sorted(glob.glob(f\"{out_folder}/*\")):\n",
        "    adata_temp = anndata.read_h5ad(filepath + \"/counts_unfiltered/adata.h5ad\")\n",
        "\n",
        "    # Add metadata to obs\n",
        "    adata_temp.obs[\"Paired Read\"] = filepath.split(\"/\")[-1]\n",
        "    srr = filepath.split(\"/\")[-1].split(\"_\")[0]\n",
        "    adata_temp.obs[\"SRR\"] = srr\n",
        "    adata_temp.obs[\"Sequencing Platform\"] = tech_lookup[srr][\"Sequencing Platform\"]\n",
        "    adata_temp.obs[\"RNA Extraction\"] = tech_lookup[srr][\"Sequencing Platform\"]\n",
        "    adata_temp.obs[\"Library Preparation\"] = tech_lookup[srr][\"Library Preparation\"]\n",
        "\n",
        "    adatas.append(adata_temp)"
      ],
      "metadata": {
        "id": "inXx6GeFeltq"
      },
      "execution_count": null,
      "outputs": []
    },
    {
      "cell_type": "code",
      "source": [
        "# Concatenate anndata objects into a single object\n",
        "adata = anndata.concat(adatas, join=\"outer\")\n",
        "adata.obs[\"Sequencing Platform (short)\"] = [\" \".join(i.split(\" \")[:3]).replace(\",\", \"\") for i in adata.obs[\"Sequencing Platform\"].values]\n",
        "adata.obs[\"Total Reads\"] = adata.X.sum(axis=1)\n",
        "adata.obs = adata.obs.set_index(\"Paired Read\", drop=True)\n",
        "adata"
      ],
      "metadata": {
        "id": "BdecoZeVgG3S"
      },
      "execution_count": null,
      "outputs": []
    },
    {
      "cell_type": "code",
      "source": [
        "# Remove virus IDs that don't have at least one count\n",
        "adata = adata[:, (adata.X).sum(axis=0) > 0]\n",
        "adata"
      ],
      "metadata": {
        "id": "raZehXbxgKQ_"
      },
      "execution_count": null,
      "outputs": []
    },
    {
      "cell_type": "code",
      "source": [
        "# Save anndata object\n",
        "adata.write(\"viral_sequences_in_laboratory_reagents.h5ad\")"
      ],
      "metadata": {
        "id": "bKCsN3d9gNck"
      },
      "execution_count": null,
      "outputs": []
    },
    {
      "cell_type": "code",
      "source": [],
      "metadata": {
        "id": "xzw_IMXWgWNm"
      },
      "execution_count": null,
      "outputs": []
    }
  ]
}