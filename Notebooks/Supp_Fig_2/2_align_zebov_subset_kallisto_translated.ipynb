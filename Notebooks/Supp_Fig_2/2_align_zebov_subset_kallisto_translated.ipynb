{
  "cells": [
    {
      "cell_type": "markdown",
      "metadata": {
        "id": "view-in-github",
        "colab_type": "text"
      },
      "source": [
        "<a href=\"https://colab.research.google.com/github/pachterlab/LSCHWCP_2023/blob/main/Notebooks/Supp_Fig_2/2_align_zebov_subset_kallisto_translated.ipynb\" target=\"_parent\"><img src=\"https://colab.research.google.com/assets/colab-badge.svg\" alt=\"Open In Colab\"/></a>"
      ]
    },
    {
      "cell_type": "markdown",
      "source": [
        "# Align a subset of the macaque PBMC Zaire ebolavirus (ZEBOV) dataset using kallisto translated search and generate bam files to visualize the alignment"
      ],
      "metadata": {
        "id": "-jo7FOj3SNZ5"
      },
      "id": "-jo7FOj3SNZ5"
    },
    {
      "cell_type": "code",
      "source": [
        "# Number of threads used for alignment\n",
        "threads = 2"
      ],
      "metadata": {
        "id": "G--K7TrfSRxw"
      },
      "id": "G--K7TrfSRxw",
      "execution_count": 1,
      "outputs": []
    },
    {
      "cell_type": "markdown",
      "source": [
        "### Download raw sequencing file and subset to first 100,000,000 reads"
      ],
      "metadata": {
        "id": "_kAV6fUASSz9"
      },
      "id": "_kAV6fUASSz9"
    },
    {
      "cell_type": "code",
      "source": [
        "!pip install -q ffq\n",
        "import json\n",
        "\n",
        "out = \"data.json\"\n",
        "!ffq SRR12698539 --ftp -o $out\n",
        "\n",
        "f = open(out)\n",
        "data = json.load(f)\n",
        "f.close()\n",
        "\n",
        "print(len(data))\n",
        "\n",
        "for dataset in data:\n",
        "    url = dataset[\"url\"]\n",
        "    !curl -O $url"
      ],
      "metadata": {
        "id": "qR7EeKDgSS4j",
        "outputId": "567c52d4-2927-46f6-8b68-69b3e8320e54",
        "colab": {
          "base_uri": "https://localhost:8080/"
        }
      },
      "id": "qR7EeKDgSS4j",
      "execution_count": 2,
      "outputs": [
        {
          "output_type": "stream",
          "name": "stdout",
          "text": [
            "[2023-12-13 04:56:29,302]    INFO Parsing run SRR12698539\n",
            "2\n",
            "  % Total    % Received % Xferd  Average Speed   Time    Time     Time  Current\n",
            "                                 Dload  Upload   Total   Spent    Left  Speed\n",
            "100 6625M  100 6625M    0     0  40.3M      0  0:02:44  0:02:44 --:--:-- 42.3M\n",
            "  % Total    % Received % Xferd  Average Speed   Time    Time     Time  Current\n",
            "                                 Dload  Upload   Total   Spent    Left  Speed\n",
            "100 20.6G  100 20.6G    0     0  42.2M      0  0:08:19  0:08:19 --:--:-- 41.2M\n"
          ]
        }
      ]
    },
    {
      "cell_type": "code",
      "source": [
        "fastq = \"SRR12698539_2.fastq.gz\"\n",
        "test_fastq = \"SRR12698539_2_short.fastq\"\n",
        "\n",
        "# Create new file keeping only first X reads\n",
        "!zcat $fastq | head -400000000 > $test_fastq"
      ],
      "metadata": {
        "id": "HAkWV9oYSWzc"
      },
      "id": "HAkWV9oYSWzc",
      "execution_count": 3,
      "outputs": []
    },
    {
      "cell_type": "markdown",
      "id": "9d715635-c132-44ff-be02-e144c2005aa2",
      "metadata": {
        "id": "9d715635-c132-44ff-be02-e144c2005aa2"
      },
      "source": [
        "# Align using kallisto translated search"
      ]
    },
    {
      "cell_type": "code",
      "source": [
        "# Install kallisto from source\n",
        "!git clone -q https://github.com/pachterlab/kallisto.git\n",
        "!cd kallisto && mkdir build && cd build && cmake .. && make\n",
        "\n",
        "# Install bustools from source\n",
        "!git clone -q https://github.com/BUStools/bustools.git\n",
        "!cd bustools && mkdir build && cd build && cmake .. && make\n",
        "\n",
        "# Define paths to kallisto and bustools binaries\n",
        "kallisto = \"/content/kallisto/build/src/kallisto\"\n",
        "bustools = \"/content/bustools/build/src/bustools\""
      ],
      "metadata": {
        "id": "RouHK7aPSlzE",
        "outputId": "bb5531c6-b3bb-44fa-8a2b-a1c4464bee3e",
        "colab": {
          "base_uri": "https://localhost:8080/"
        }
      },
      "id": "RouHK7aPSlzE",
      "execution_count": 4,
      "outputs": [
        {
          "output_type": "stream",
          "name": "stdout",
          "text": [
            "\u001b[0mCMake Deprecation Warning at CMakeLists.txt:1 (cmake_minimum_required):\n",
            "  Compatibility with CMake < 3.5 will be removed from a future version of\n",
            "  CMake.\n",
            "\n",
            "  Update the VERSION argument <min> value or use a ...<max> suffix to tell\n",
            "  CMake that the project does not need compatibility with older versions.\n",
            "\n",
            "\u001b[0m\n",
            "-- The C compiler identification is GNU 11.4.0\n",
            "-- The CXX compiler identification is GNU 11.4.0\n",
            "-- Detecting C compiler ABI info\n",
            "-- Detecting C compiler ABI info - done\n",
            "-- Check for working C compiler: /usr/bin/cc - skipped\n",
            "-- Detecting C compile features\n",
            "-- Detecting C compile features - done\n",
            "-- Detecting CXX compiler ABI info\n",
            "-- Detecting CXX compiler ABI info - done\n",
            "-- Check for working CXX compiler: /usr/bin/c++ - skipped\n",
            "-- Detecting CXX compile features\n",
            "-- Detecting CXX compile features - done\n",
            "-- Performing Test COMPILER_SUPPORTS_CXX17\n",
            "-- Performing Test COMPILER_SUPPORTS_CXX17 - Success\n",
            "\u001b[0mshared build\u001b[0m\n",
            "-- Performing Test CMAKE_HAVE_LIBC_PTHREAD\n",
            "-- Performing Test CMAKE_HAVE_LIBC_PTHREAD - Success\n",
            "-- Found Threads: TRUE  \n",
            "-- Found ZLIB: /usr/lib/x86_64-linux-gnu/libz.so (found version \"1.2.11\")  \n",
            "-- Configuring done (2.3s)\n",
            "-- Generating done (0.0s)\n",
            "-- Build files have been written to: /content/kallisto/build\n",
            "[  3%] \u001b[34m\u001b[1mCreating directories for 'bifrost'\u001b[0m\n",
            "[  7%] \u001b[34m\u001b[1mNo download step for 'bifrost'\u001b[0m\n",
            "[ 11%] \u001b[34m\u001b[1mNo update step for 'bifrost'\u001b[0m\n",
            "[ 15%] \u001b[34m\u001b[1mNo patch step for 'bifrost'\u001b[0m\n",
            "[ 19%] \u001b[34m\u001b[1mPerforming configure step for 'bifrost'\u001b[0m\n",
            "\u001b[0mCMake Deprecation Warning at CMakeLists.txt:1 (cmake_minimum_required):\n",
            "  Compatibility with CMake < 3.5 will be removed from a future version of\n",
            "  CMake.\n",
            "\n",
            "  Update the VERSION argument <min> value or use a ...<max> suffix to tell\n",
            "  CMake that the project does not need compatibility with older versions.\n",
            "\n",
            "\u001b[0m\n",
            "-- The C compiler identification is GNU 11.4.0\n",
            "-- The CXX compiler identification is GNU 11.4.0\n",
            "-- Detecting C compiler ABI info\n",
            "-- Detecting C compiler ABI info - done\n",
            "-- Check for working C compiler: /usr/bin/cc - skipped\n",
            "-- Detecting C compile features\n",
            "-- Detecting C compile features - done\n",
            "-- Detecting CXX compiler ABI info\n",
            "-- Detecting CXX compiler ABI info - done\n",
            "-- Check for working CXX compiler: /usr/bin/c++ - skipped\n",
            "-- Detecting CXX compile features\n",
            "-- Detecting CXX compile features - done\n",
            "-- Performing Test CMAKE_HAVE_LIBC_PTHREAD\n",
            "-- Performing Test CMAKE_HAVE_LIBC_PTHREAD - Success\n",
            "-- Found Threads: TRUE  \n",
            "\u001b[0mCompilation architecture: native\u001b[0m\n",
            "\u001b[0mBuild type: Release\u001b[0m\n",
            "\u001b[0mMaximum k-mer size: 31\u001b[0m\n",
            "\u001b[0mMaximum g-mer size: 31\u001b[0m\n",
            "-- Found ZLIB: /usr/lib/x86_64-linux-gnu/libz.so (found version \"1.2.11\")  \n",
            "-- Configuring done (0.9s)\n",
            "-- Generating done (0.0s)\n",
            "-- Build files have been written to: /content/kallisto/ext/bifrost/build\n",
            "[ 23%] \u001b[34m\u001b[1mPerforming build step for 'bifrost'\u001b[0m\n",
            "[  3%] \u001b[32mBuilding CXX object src/CMakeFiles/bifrost_static.dir/Bifrost.cpp.o\u001b[0m\n",
            "[  6%] \u001b[32mBuilding CXX object src/CMakeFiles/bifrost_static.dir/BitContainer.cpp.o\u001b[0m\n",
            "[  9%] \u001b[32mBuilding CXX object src/CMakeFiles/bifrost_static.dir/BlockedBloomFilter.cpp.o\u001b[0m\n",
            "[ 12%] \u001b[32mBuilding CXX object src/CMakeFiles/bifrost_static.dir/ColorSet.cpp.o\u001b[0m\n",
            "[ 15%] \u001b[32mBuilding CXX object src/CMakeFiles/bifrost_static.dir/CompressedCoverage.cpp.o\u001b[0m\n",
            "[ 18%] \u001b[32mBuilding CXX object src/CMakeFiles/bifrost_static.dir/CompressedSequence.cpp.o\u001b[0m\n",
            "[ 21%] \u001b[32mBuilding CXX object src/CMakeFiles/bifrost_static.dir/FASTX_Parser.cpp.o\u001b[0m\n",
            "[ 25%] \u001b[32mBuilding CXX object src/CMakeFiles/bifrost_static.dir/GFA_Parser.cpp.o\u001b[0m\n",
            "[ 28%] \u001b[32mBuilding CXX object src/CMakeFiles/bifrost_static.dir/Kmer.cpp.o\u001b[0m\n",
            "[ 31%] \u001b[32mBuilding CXX object src/CMakeFiles/bifrost_static.dir/KmerIterator.cpp.o\u001b[0m\n",
            "[ 34%] \u001b[32mBuilding CXX object src/CMakeFiles/bifrost_static.dir/MinimizerIndex.cpp.o\u001b[0m\n",
            "[ 37%] \u001b[32mBuilding CXX object src/CMakeFiles/bifrost_static.dir/TinyBitmap.cpp.o\u001b[0m\n",
            "[ 40%] \u001b[32mBuilding CXX object src/CMakeFiles/bifrost_static.dir/UnitigMap.cpp.o\u001b[0m\n",
            "[ 43%] \u001b[32mBuilding C object src/CMakeFiles/bifrost_static.dir/roaring.c.o\u001b[0m\n",
            "[ 46%] \u001b[32m\u001b[1mLinking CXX static library libbifrost.a\u001b[0m\n",
            "[ 46%] Built target bifrost_static\n",
            "[ 50%] \u001b[32mBuilding CXX object src/CMakeFiles/bifrost_dynamic.dir/Bifrost.cpp.o\u001b[0m\n",
            "[ 53%] \u001b[32mBuilding CXX object src/CMakeFiles/bifrost_dynamic.dir/BitContainer.cpp.o\u001b[0m\n",
            "[ 56%] \u001b[32mBuilding CXX object src/CMakeFiles/bifrost_dynamic.dir/BlockedBloomFilter.cpp.o\u001b[0m\n",
            "[ 59%] \u001b[32mBuilding CXX object src/CMakeFiles/bifrost_dynamic.dir/ColorSet.cpp.o\u001b[0m\n",
            "[ 62%] \u001b[32mBuilding CXX object src/CMakeFiles/bifrost_dynamic.dir/CompressedCoverage.cpp.o\u001b[0m\n",
            "[ 65%] \u001b[32mBuilding CXX object src/CMakeFiles/bifrost_dynamic.dir/CompressedSequence.cpp.o\u001b[0m\n",
            "[ 68%] \u001b[32mBuilding CXX object src/CMakeFiles/bifrost_dynamic.dir/FASTX_Parser.cpp.o\u001b[0m\n",
            "[ 71%] \u001b[32mBuilding CXX object src/CMakeFiles/bifrost_dynamic.dir/GFA_Parser.cpp.o\u001b[0m\n",
            "[ 75%] \u001b[32mBuilding CXX object src/CMakeFiles/bifrost_dynamic.dir/Kmer.cpp.o\u001b[0m\n",
            "[ 78%] \u001b[32mBuilding CXX object src/CMakeFiles/bifrost_dynamic.dir/KmerIterator.cpp.o\u001b[0m\n",
            "[ 81%] \u001b[32mBuilding CXX object src/CMakeFiles/bifrost_dynamic.dir/MinimizerIndex.cpp.o\u001b[0m\n",
            "[ 84%] \u001b[32mBuilding CXX object src/CMakeFiles/bifrost_dynamic.dir/TinyBitmap.cpp.o\u001b[0m\n",
            "[ 87%] \u001b[32mBuilding CXX object src/CMakeFiles/bifrost_dynamic.dir/UnitigMap.cpp.o\u001b[0m\n",
            "[ 90%] \u001b[32mBuilding C object src/CMakeFiles/bifrost_dynamic.dir/roaring.c.o\u001b[0m\n",
            "[ 93%] \u001b[32m\u001b[1mLinking CXX shared library libbifrost.so\u001b[0m\n",
            "[ 93%] Built target bifrost_dynamic\n",
            "[ 96%] \u001b[32mBuilding CXX object src/CMakeFiles/Bifrost.dir/Bifrost.cpp.o\u001b[0m\n",
            "[100%] \u001b[32m\u001b[1mLinking CXX executable Bifrost\u001b[0m\n",
            "[100%] Built target Bifrost\n",
            "[ 26%] \u001b[34m\u001b[1mNo install step for 'bifrost'\u001b[0m\n",
            "[ 30%] \u001b[34m\u001b[1mCompleted 'bifrost'\u001b[0m\n",
            "[ 30%] Built target bifrost\n",
            "[ 34%] \u001b[32mBuilding CXX object src/CMakeFiles/kallisto_core.dir/BUSData.cpp.o\u001b[0m\n",
            "[ 38%] \u001b[32mBuilding CXX object src/CMakeFiles/kallisto_core.dir/BUSTools.cpp.o\u001b[0m\n",
            "[ 42%] \u001b[32mBuilding CXX object src/CMakeFiles/kallisto_core.dir/Bootstrap.cpp.o\u001b[0m\n",
            "[ 46%] \u001b[32mBuilding CXX object src/CMakeFiles/kallisto_core.dir/GeneModel.cpp.o\u001b[0m\n",
            "[ 50%] \u001b[32mBuilding CXX object src/CMakeFiles/kallisto_core.dir/H5Writer.cpp.o\u001b[0m\n",
            "[ 53%] \u001b[32mBuilding CXX object src/CMakeFiles/kallisto_core.dir/KmerIndex.cpp.o\u001b[0m\n",
            "[ 57%] \u001b[32mBuilding CXX object src/CMakeFiles/kallisto_core.dir/MinCollector.cpp.o\u001b[0m\n",
            "[ 61%] \u001b[32mBuilding CXX object src/CMakeFiles/kallisto_core.dir/PlaintextWriter.cpp.o\u001b[0m\n",
            "[ 65%] \u001b[32mBuilding CXX object src/CMakeFiles/kallisto_core.dir/ProcessReads.cpp.o\u001b[0m\n",
            "[ 69%] \u001b[32mBuilding CXX object src/CMakeFiles/kallisto_core.dir/PseudoBam.cpp.o\u001b[0m\n",
            "[ 73%] \u001b[32mBuilding CXX object src/CMakeFiles/kallisto_core.dir/common.cpp.o\u001b[0m\n",
            "[ 76%] \u001b[32mBuilding CXX object src/CMakeFiles/kallisto_core.dir/h5utils.cpp.o\u001b[0m\n",
            "[ 80%] \u001b[32mBuilding CXX object src/CMakeFiles/kallisto_core.dir/hash.cpp.o\u001b[0m\n",
            "[ 84%] \u001b[32mBuilding CXX object src/CMakeFiles/kallisto_core.dir/main.cpp.o\u001b[0m\n",
            "[ 88%] \u001b[32mBuilding CXX object src/CMakeFiles/kallisto_core.dir/weights.cpp.o\u001b[0m\n",
            "[ 92%] \u001b[32m\u001b[1mLinking CXX static library libkallisto_core.a\u001b[0m\n",
            "[ 92%] Built target kallisto_core\n",
            "[ 96%] \u001b[32mBuilding CXX object src/CMakeFiles/kallisto.dir/main.cpp.o\u001b[0m\n",
            "[100%] \u001b[32m\u001b[1mLinking CXX executable kallisto\u001b[0m\n",
            "[100%] Built target kallisto\n",
            "\u001b[0mCMake Deprecation Warning at CMakeLists.txt:1 (cmake_minimum_required):\n",
            "  Compatibility with CMake < 3.5 will be removed from a future version of\n",
            "  CMake.\n",
            "\n",
            "  Update the VERSION argument <min> value or use a ...<max> suffix to tell\n",
            "  CMake that the project does not need compatibility with older versions.\n",
            "\n",
            "\u001b[0m\n",
            "-- The C compiler identification is GNU 11.4.0\n",
            "-- The CXX compiler identification is GNU 11.4.0\n",
            "-- Detecting C compiler ABI info\n",
            "-- Detecting C compiler ABI info - done\n",
            "-- Check for working C compiler: /usr/bin/cc - skipped\n",
            "-- Detecting C compile features\n",
            "-- Detecting C compile features - done\n",
            "-- Detecting CXX compiler ABI info\n",
            "-- Detecting CXX compiler ABI info - done\n",
            "-- Check for working CXX compiler: /usr/bin/c++ - skipped\n",
            "-- Detecting CXX compile features\n",
            "-- Detecting CXX compile features - done\n",
            "\u001b[0mrelease mode\u001b[0m\n",
            "-- Performing Test CMAKE_HAVE_LIBC_PTHREAD\n",
            "-- Performing Test CMAKE_HAVE_LIBC_PTHREAD - Success\n",
            "-- Found Threads: TRUE  \n",
            "-- Found ZLIB: /usr/lib/x86_64-linux-gnu/libz.so (found version \"1.2.11\")  \n",
            "-- Configuring done (0.5s)\n",
            "-- Generating done (0.0s)\n",
            "-- Build files have been written to: /content/bustools/build\n",
            "[  3%] \u001b[32mBuilding CXX object src/CMakeFiles/bustools_core.dir/BUSData.cpp.o\u001b[0m\n",
            "[  7%] \u001b[32mBuilding CXX object src/CMakeFiles/bustools_core.dir/Common.cpp.o\u001b[0m\n",
            "[ 11%] \u001b[32mBuilding CXX object src/CMakeFiles/bustools_core.dir/bustools_capture.cpp.o\u001b[0m\n",
            "[ 15%] \u001b[32mBuilding CXX object src/CMakeFiles/bustools_core.dir/bustools_clusterhist.cpp.o\u001b[0m\n",
            "[ 19%] \u001b[32mBuilding CXX object src/CMakeFiles/bustools_core.dir/bustools_collapse.cpp.o\u001b[0m\n",
            "[ 23%] \u001b[32mBuilding CXX object src/CMakeFiles/bustools_core.dir/bustools_compress.cpp.o\u001b[0m\n",
            "[ 26%] \u001b[32mBuilding CXX object src/CMakeFiles/bustools_core.dir/bustools_correct.cpp.o\u001b[0m\n",
            "[ 30%] \u001b[32mBuilding CXX object src/CMakeFiles/bustools_core.dir/bustools_count.cpp.o\u001b[0m\n",
            "[ 34%] \u001b[32mBuilding CXX object src/CMakeFiles/bustools_core.dir/bustools_decompress.cpp.o\u001b[0m\n",
            "[ 38%] \u001b[32mBuilding CXX object src/CMakeFiles/bustools_core.dir/bustools_extract.cpp.o\u001b[0m\n",
            "[ 42%] \u001b[32mBuilding CXX object src/CMakeFiles/bustools_core.dir/bustools_inspect.cpp.o\u001b[0m\n",
            "[ 46%] \u001b[32mBuilding CXX object src/CMakeFiles/bustools_core.dir/bustools_linker.cpp.o\u001b[0m\n",
            "[ 50%] \u001b[32mBuilding CXX object src/CMakeFiles/bustools_core.dir/bustools_main.cpp.o\u001b[0m\n",
            "[ 53%] \u001b[32mBuilding CXX object src/CMakeFiles/bustools_core.dir/bustools_mash.cpp.o\u001b[0m\n",
            "[ 57%] \u001b[32mBuilding CXX object src/CMakeFiles/bustools_core.dir/bustools_merge.cpp.o\u001b[0m\n",
            "[ 61%] \u001b[32mBuilding CXX object src/CMakeFiles/bustools_core.dir/bustools_predict.cpp.o\u001b[0m\n",
            "[ 65%] \u001b[32mBuilding CXX object src/CMakeFiles/bustools_core.dir/bustools_project.cpp.o\u001b[0m\n",
            "[ 69%] \u001b[32mBuilding CXX object src/CMakeFiles/bustools_core.dir/bustools_sort.cpp.o\u001b[0m\n",
            "[ 73%] \u001b[32mBuilding CXX object src/CMakeFiles/bustools_core.dir/bustools_text.cpp.o\u001b[0m\n",
            "[ 76%] \u001b[32mBuilding CXX object src/CMakeFiles/bustools_core.dir/bustools_umicorrect.cpp.o\u001b[0m\n",
            "[ 80%] \u001b[32mBuilding CXX object src/CMakeFiles/bustools_core.dir/bustools_whitelist.cpp.o\u001b[0m\n",
            "[ 84%] \u001b[32mBuilding CXX object src/CMakeFiles/bustools_core.dir/hash.cpp.o\u001b[0m\n",
            "[ 88%] \u001b[32mBuilding C object src/CMakeFiles/bustools_core.dir/roaring.c.o\u001b[0m\n",
            "[ 92%] \u001b[32m\u001b[1mLinking CXX static library libbustools_core.a\u001b[0m\n",
            "[ 92%] Built target bustools_core\n",
            "[ 96%] \u001b[32mBuilding CXX object src/CMakeFiles/bustools.dir/bustools_main.cpp.o\u001b[0m\n",
            "[100%] \u001b[32m\u001b[1mLinking CXX executable bustools\u001b[0m\n",
            "[100%] Built target bustools\n"
          ]
        }
      ]
    },
    {
      "cell_type": "markdown",
      "source": [
        "Build reference index:"
      ],
      "metadata": {
        "id": "VibEshoYSl5C"
      },
      "id": "VibEshoYSl5C"
    },
    {
      "cell_type": "code",
      "execution_count": 5,
      "id": "5ecf7496-18ad-44c9-aa40-ee75aaf5262b",
      "metadata": {
        "id": "5ecf7496-18ad-44c9-aa40-ee75aaf5262b",
        "outputId": "c6ba6e2e-fe65-4cfe-994f-ab03fbc344e2",
        "colab": {
          "base_uri": "https://localhost:8080/"
        }
      },
      "outputs": [
        {
          "output_type": "stream",
          "name": "stdout",
          "text": [
            "--2023-12-13 05:17:41--  https://raw.githubusercontent.com/pachterlab/LSCHWCP_2023/main/PalmDB/palmdb_clustered_t2g.txt\n",
            "Resolving raw.githubusercontent.com (raw.githubusercontent.com)... 185.199.109.133, 185.199.110.133, 185.199.108.133, ...\n",
            "Connecting to raw.githubusercontent.com (raw.githubusercontent.com)|185.199.109.133|:443... connected.\n",
            "HTTP request sent, awaiting response... 200 OK\n",
            "Length: 4561689 (4.3M) [text/plain]\n",
            "Saving to: ‘palmdb_clustered_t2g.txt’\n",
            "\n",
            "palmdb_clustered_t2 100%[===================>]   4.35M  --.-KB/s    in 0.09s   \n",
            "\n",
            "2023-12-13 05:17:41 (46.6 MB/s) - ‘palmdb_clustered_t2g.txt’ saved [4561689/4561689]\n",
            "\n",
            "--2023-12-13 05:17:41--  https://raw.githubusercontent.com/pachterlab/LSCHWCP_2023/main/PalmDB/palmdb_rdrp_seqs.fa\n",
            "Resolving raw.githubusercontent.com (raw.githubusercontent.com)... 185.199.109.133, 185.199.110.133, 185.199.111.133, ...\n",
            "Connecting to raw.githubusercontent.com (raw.githubusercontent.com)|185.199.109.133|:443... connected.\n",
            "HTTP request sent, awaiting response... 200 OK\n",
            "Length: 35361991 (34M) [text/plain]\n",
            "Saving to: ‘palmdb_rdrp_seqs.fa’\n",
            "\n",
            "palmdb_rdrp_seqs.fa 100%[===================>]  33.72M   164MB/s    in 0.2s    \n",
            "\n",
            "2023-12-13 05:17:42 (164 MB/s) - ‘palmdb_rdrp_seqs.fa’ saved [35361991/35361991]\n",
            "\n"
          ]
        }
      ],
      "source": [
        "# Download the customized transcripts to gene mapping\n",
        "!wget https://raw.githubusercontent.com/pachterlab/LSCHWCP_2023/main/PalmDB/palmdb_clustered_t2g.txt\n",
        "# Download the RdRP amino acid sequences\n",
        "!wget https://raw.githubusercontent.com/pachterlab/LSCHWCP_2023/main/PalmDB/palmdb_rdrp_seqs.fa\n",
        "\n",
        "virus_fasta = \"palmdb_rdrp_seqs.fa\"\n",
        "virus_t2g = \"palmdb_clustered_t2g.txt\""
      ]
    },
    {
      "cell_type": "code",
      "source": [
        "# Get host genomes and transcriptomes and concatenate them into a single file for host masking\n",
        "!pip install -q gget\n",
        "!gget ref -w cdna,dna -r 110 -d canis_lupus_familiaris\n",
        "!gget ref -w cdna,dna -r 110 -d macaca_mulatta\n",
        "canine_cdna = \"Canis_lupus_familiaris.ROS_Cfam_1.0.cdna.all.fa.gz\"\n",
        "macaque_cdna = \"Macaca_mulatta.Mmul_10.cdna.all.fa.gz\"\n",
        "canine_dna = \"Canis_lupus_familiaris.ROS_Cfam_1.0.dna.toplevel.fa.gz\"\n",
        "macaque_dna = \"Macaca_mulatta.Mmul_10.dna.toplevel.fa.gz\"\n",
        "\n",
        "canine_macaque_fasta = \"combined.cdna_dna.all.fa.gz\"\n",
        "!cat $canine_cdna $macaque_cdna $canine_dna $macaque_dna > $canine_macaque_fasta"
      ],
      "metadata": {
        "id": "nB6MdLNpS6fN",
        "outputId": "c0953485-e0c9-4c7d-ec16-38cca04b9e02",
        "colab": {
          "base_uri": "https://localhost:8080/"
        }
      },
      "id": "nB6MdLNpS6fN",
      "execution_count": 6,
      "outputs": [
        {
          "output_type": "stream",
          "name": "stdout",
          "text": [
            "\u001b[2K     \u001b[90m━━━━━━━━━━━━━━━━━━━━━━━━━━━━━━━━━━━━━━━━\u001b[0m \u001b[32m43.1/43.1 MB\u001b[0m \u001b[31m10.1 MB/s\u001b[0m eta \u001b[36m0:00:00\u001b[0m\n",
            "\u001b[2K     \u001b[90m━━━━━━━━━━━━━━━━━━━━━━━━━━━━━━━━━━━━━━━━\u001b[0m \u001b[32m25.2/25.2 MB\u001b[0m \u001b[31m44.8 MB/s\u001b[0m eta \u001b[36m0:00:00\u001b[0m\n",
            "\u001b[2K     \u001b[90m━━━━━━━━━━━━━━━━━━━━━━━━━━━━━━━━━━━━━━━━\u001b[0m \u001b[32m1.6/1.6 MB\u001b[0m \u001b[31m59.6 MB/s\u001b[0m eta \u001b[36m0:00:00\u001b[0m\n",
            "\u001b[?25hWed Dec 13 05:18:07 2023 INFO Fetching reference information for canis_lupus_familiaris from Ensembl release: 110.\n",
            "{\n",
            "    \"canis_lupus_familiaris\": {\n",
            "        \"transcriptome_cdna\": {\n",
            "            \"ftp\": \"http://ftp.ensembl.org/pub/release-110/fasta/canis_lupus_familiaris/cdna/Canis_lupus_familiaris.ROS_Cfam_1.0.cdna.all.fa.gz\",\n",
            "            \"ensembl_release\": 110,\n",
            "            \"release_date\": \"2023-04-22\",\n",
            "            \"release_time\": \"16:19\",\n",
            "            \"bytes\": \"26M\"\n",
            "        },\n",
            "        \"genome_dna\": {\n",
            "            \"ftp\": \"http://ftp.ensembl.org/pub/release-110/fasta/canis_lupus_familiaris/dna/Canis_lupus_familiaris.ROS_Cfam_1.0.dna.toplevel.fa.gz\",\n",
            "            \"ensembl_release\": 110,\n",
            "            \"release_date\": \"2023-04-21\",\n",
            "            \"release_time\": \"17:46\",\n",
            "            \"bytes\": \"693M\"\n",
            "        }\n",
            "    }\n",
            "}\n",
            "  % Total    % Received % Xferd  Average Speed   Time    Time     Time  Current\n",
            "                                 Dload  Upload   Total   Spent    Left  Speed\n",
            "100 26.4M  100 26.4M    0     0   669k      0  0:00:40  0:00:40 --:--:--  680k\n",
            "  % Total    % Received % Xferd  Average Speed   Time    Time     Time  Current\n",
            "                                 Dload  Upload   Total   Spent    Left  Speed\n",
            "100  692M  100  692M    0     0   688k      0  0:17:10  0:17:10 --:--:--  686k\n",
            "Wed Dec 13 05:36:05 2023 INFO Fetching reference information for macaca_mulatta from Ensembl release: 110.\n",
            "{\n",
            "    \"macaca_mulatta\": {\n",
            "        \"transcriptome_cdna\": {\n",
            "            \"ftp\": \"http://ftp.ensembl.org/pub/release-110/fasta/macaca_mulatta/cdna/Macaca_mulatta.Mmul_10.cdna.all.fa.gz\",\n",
            "            \"ensembl_release\": 110,\n",
            "            \"release_date\": \"2023-04-22\",\n",
            "            \"release_time\": \"18:12\",\n",
            "            \"bytes\": \"30M\"\n",
            "        },\n",
            "        \"genome_dna\": {\n",
            "            \"ftp\": \"http://ftp.ensembl.org/pub/release-110/fasta/macaca_mulatta/dna/Macaca_mulatta.Mmul_10.dna.toplevel.fa.gz\",\n",
            "            \"ensembl_release\": 110,\n",
            "            \"release_date\": \"2023-04-21\",\n",
            "            \"release_time\": \"17:52\",\n",
            "            \"bytes\": \"832M\"\n",
            "        }\n",
            "    }\n",
            "}\n",
            "  % Total    % Received % Xferd  Average Speed   Time    Time     Time  Current\n",
            "                                 Dload  Upload   Total   Spent    Left  Speed\n",
            "100 29.7M  100 29.7M    0     0   672k      0  0:00:45  0:00:45 --:--:--  684k\n",
            "  % Total    % Received % Xferd  Average Speed   Time    Time     Time  Current\n",
            "                                 Dload  Upload   Total   Spent    Left  Speed\n",
            "100  832M  100  832M    0     0   684k      0  0:20:45  0:20:45 --:--:--  691k\n"
          ]
        }
      ]
    },
    {
      "cell_type": "code",
      "source": [
        "virus_index = \"virus_index.idx\"\n",
        "\n",
        "# Generate virus reference index\n",
        "!$kallisto index \\\n",
        "    --aa \\\n",
        "    -t $threads \\\n",
        "    --d-list=$canine_macaque_fasta \\\n",
        "    -i $virus_index \\\n",
        "    $virus_fasta"
      ],
      "metadata": {
        "id": "tdpa4R-6Skr6",
        "outputId": "52269630-d424-439d-c06a-8c6d6d4c008d",
        "colab": {
          "base_uri": "https://localhost:8080/"
        }
      },
      "id": "tdpa4R-6Skr6",
      "execution_count": 7,
      "outputs": [
        {
          "output_type": "stream",
          "name": "stdout",
          "text": [
            "\n",
            "[index] --d-list-overhang was set to 3 (with --aa, the d-list overhang must be >= 3)\n",
            "[build] loading fasta file palmdb_rdrp_seqs.fa\n",
            "[build] k-mer length: 31\n",
            "KmerStream::KmerStream(): Start computing k-mer cardinality estimations (1/2)\n",
            "KmerStream::KmerStream(): Start computing k-mer cardinality estimations (1/2)\n",
            "KmerStream::KmerStream(): Finished\n",
            "CompactedDBG::build(): Estimated number of k-mers occurring at least once: 37641510\n",
            "CompactedDBG::build(): Estimated number of minimizer occurring at least once: 7877811\n",
            "CompactedDBG::filter(): Processed 87630084 k-mers in 296561 reads\n",
            "CompactedDBG::filter(): Found 37508894 unique k-mers\n",
            "CompactedDBG::filter(): Number of blocks in Bloom filter is 257317\n",
            "CompactedDBG::construct(): Extract approximate unitigs (1/2)\n",
            "CompactedDBG::construct(): Extract approximate unitigs (2/2)\n",
            "CompactedDBG::construct(): Closed all input files\n",
            "\n",
            "CompactedDBG::construct(): Splitting unitigs (1/2)\n",
            "\n",
            "CompactedDBG::construct(): Splitting unitigs (2/2)\n",
            "CompactedDBG::construct(): Before split: 2040699 unitigs\n",
            "CompactedDBG::construct(): After split (1/1): 2040699 unitigs\n",
            "CompactedDBG::construct(): Unitigs split: 1559\n",
            "CompactedDBG::construct(): Unitigs deleted: 0\n",
            "\n",
            "CompactedDBG::construct(): Joining unitigs\n",
            "CompactedDBG::construct(): After join: 2021701 unitigs\n",
            "CompactedDBG::construct(): Joined 19379 unitigs\n",
            "[build] extracting D-list k-mers from \"combined.cdna_dna.all.fa.gz\"\n",
            "[build] identified 90815 distinguishing flanking k-mers\n",
            "[build] building MPHF\n",
            "[build] creating equivalence classes ... \n",
            "[build] target de Bruijn graph has k-mer length 31 and minimizer length 23\n",
            "[build] target de Bruijn graph has 2021703 contigs and contains 37541757 k-mers \n",
            "\n"
          ]
        }
      ]
    },
    {
      "cell_type": "markdown",
      "id": "28f50646-2842-46ef-8e7d-87ce0464c060",
      "metadata": {
        "id": "28f50646-2842-46ef-8e7d-87ce0464c060"
      },
      "source": [
        "Align using `-n` flag to keep track of aligned reads:"
      ]
    },
    {
      "cell_type": "code",
      "execution_count": 8,
      "id": "355f9d23-c3e4-463c-94da-0d768b25271e",
      "metadata": {
        "id": "355f9d23-c3e4-463c-94da-0d768b25271e",
        "outputId": "75cc8f2c-e9ea-4249-f2d0-4b69d1356100",
        "colab": {
          "base_uri": "https://localhost:8080/"
        }
      },
      "outputs": [
        {
          "output_type": "stream",
          "name": "stdout",
          "text": [
            "\n",
            "[index] k-mer length: 31\n",
            "[index] number of targets: 296,561\n",
            "[index] number of k-mers: 37,541,757\n",
            "[index] number of D-list k-mers: 90,815\n",
            "[quant] running in single-end mode\n",
            "[quant] will process file 1: SRR12698539_2_short.fastq\n",
            "[progress] 99M reads processed (0.0% mapped)              done\n",
            "[quant] processed 100,000,000 reads, 16,089 reads pseudoaligned\n",
            "\n",
            " all fits in buffer\n",
            "Read in 16089 BUS records\n",
            "reading time 0.000453s\n",
            "sorting time 0.000893s\n",
            "writing time 0.002018s\n"
          ]
        }
      ],
      "source": [
        "outfolder = \"zebov_subset_alignment\"\n",
        "!mkdir $outfolder\n",
        "\n",
        "!$kallisto bus \\\n",
        "        -i $virus_index \\\n",
        "        -o $outfolder/kallisto \\\n",
        "        --aa \\\n",
        "        -n \\\n",
        "        -x bulk \\\n",
        "        -t $threads \\\n",
        "        $test_fastq\n",
        "\n",
        "!$bustools sort --flags -o $outfolder/kallisto/output_sorted.bus $outfolder/kallisto/output.bus\n",
        "\n",
        "!$bustools count \\\n",
        "    --genecounts \\\n",
        "    --cm -m \\\n",
        "    -o $outfolder/kallisto/bustools_count/ \\\n",
        "    -g $virus_t2g \\\n",
        "    -e $outfolder/kallisto/matrix.ec \\\n",
        "    -t $outfolder/kallisto/transcripts.txt \\\n",
        "    $outfolder/kallisto/output_sorted.bus"
      ]
    },
    {
      "cell_type": "markdown",
      "id": "f7ca3834-d316-4fa5-a45a-7b85995a779b",
      "metadata": {
        "id": "f7ca3834-d316-4fa5-a45a-7b85995a779b"
      },
      "source": [
        "Convert bus file to txt file to get indeces of aligned reads:"
      ]
    },
    {
      "cell_type": "code",
      "execution_count": 9,
      "id": "ea673246-5b3d-4b87-9b16-886b8a5b8d12",
      "metadata": {
        "id": "ea673246-5b3d-4b87-9b16-886b8a5b8d12",
        "outputId": "5737dba1-ce79-4054-e65e-35f3dfcdcdb2",
        "colab": {
          "base_uri": "https://localhost:8080/"
        }
      },
      "outputs": [
        {
          "output_type": "stream",
          "name": "stdout",
          "text": [
            "Read in 16089 BUS records\n"
          ]
        }
      ],
      "source": [
        "# To use this, add --flags to bustools sort\n",
        "!$bustools text \\\n",
        "    -f \\\n",
        "    -o $outfolder/kallisto/output_sorted.bus.txt \\\n",
        "    $outfolder/kallisto/output_sorted.bus"
      ]
    },
    {
      "cell_type": "markdown",
      "id": "93d8ec11-520a-49df-9dec-72c5bbd1db2b",
      "metadata": {
        "id": "93d8ec11-520a-49df-9dec-72c5bbd1db2b"
      },
      "source": [
        "### Extract sequences that aligned to EBOV"
      ]
    },
    {
      "cell_type": "code",
      "source": [
        "!pip install -q biopython"
      ],
      "metadata": {
        "id": "h1ef_groTm5M",
        "outputId": "8a375f34-bec7-43ea-9cec-caa885dd1807",
        "colab": {
          "base_uri": "https://localhost:8080/"
        }
      },
      "id": "h1ef_groTm5M",
      "execution_count": 10,
      "outputs": [
        {
          "output_type": "stream",
          "name": "stdout",
          "text": [
            "\u001b[?25l     \u001b[90m━━━━━━━━━━━━━━━━━━━━━━━━━━━━━━━━━━━━━━━━\u001b[0m \u001b[32m0.0/3.1 MB\u001b[0m \u001b[31m?\u001b[0m eta \u001b[36m-:--:--\u001b[0m\r\u001b[2K     \u001b[91m━\u001b[0m\u001b[90m╺\u001b[0m\u001b[90m━━━━━━━━━━━━━━━━━━━━━━━━━━━━━━━━━━━━━━\u001b[0m \u001b[32m0.1/3.1 MB\u001b[0m \u001b[31m2.8 MB/s\u001b[0m eta \u001b[36m0:00:02\u001b[0m\r\u001b[2K     \u001b[91m━━━━━━━━━━━\u001b[0m\u001b[91m╸\u001b[0m\u001b[90m━━━━━━━━━━━━━━━━━━━━━━━━━━━━\u001b[0m \u001b[32m0.9/3.1 MB\u001b[0m \u001b[31m13.8 MB/s\u001b[0m eta \u001b[36m0:00:01\u001b[0m\r\u001b[2K     \u001b[91m━━━━━━━━━━━━━━━━━━━━━━━━━━━━━━━━━━━━━━━\u001b[0m\u001b[91m╸\u001b[0m \u001b[32m3.1/3.1 MB\u001b[0m \u001b[31m34.5 MB/s\u001b[0m eta \u001b[36m0:00:01\u001b[0m\r\u001b[2K     \u001b[90m━━━━━━━━━━━━━━━━━━━━━━━━━━━━━━━━━━━━━━━━\u001b[0m \u001b[32m3.1/3.1 MB\u001b[0m \u001b[31m27.0 MB/s\u001b[0m eta \u001b[36m0:00:00\u001b[0m\n",
            "\u001b[?25h"
          ]
        }
      ]
    },
    {
      "cell_type": "markdown",
      "source": [
        "!!! The function below should be updated to use `bustools capture` to extract the aligned virus reads as was done [here](https://github.com/pachterlab/LSCHWCP_2023/blob/main/Notebooks/Figure_5/Figure_5b/pull_out_reads_BLAST_comparisons.ipynb)."
      ],
      "metadata": {
        "id": "aYapICmITrPS"
      },
      "id": "aYapICmITrPS"
    },
    {
      "cell_type": "code",
      "execution_count": 11,
      "id": "b872f6ff-a034-4ba0-bf27-e8e8ff31fd77",
      "metadata": {
        "id": "b872f6ff-a034-4ba0-bf27-e8e8ff31fd77"
      },
      "outputs": [],
      "source": [
        "from Bio import SeqIO\n",
        "import pandas as pd\n",
        "from tqdm import tqdm\n",
        "TQDM_BAR_FORMAT = (\n",
        "    \"Parsing fastq for reads: {n_fmt} reads processed.\"\n",
        ")\n",
        "\n",
        "def extract_kb_reads(kallisto_out, fastq, gene_id):\n",
        "    \"\"\"\n",
        "    Create new fasta file including only reads that aligned to a specific\n",
        "    gene/transcript ID after running kallisto.\n",
        "\n",
        "    Args:\n",
        "    - kallisto_out    Folder containing kallisto output.\n",
        "    - fastq           Path to original fastq file.\n",
        "    - gene_id         ID of gene/transcript of interest.\n",
        "\n",
        "    Returns fasta file.\n",
        "\n",
        "    Note:\n",
        "    Only works if `kallisto bus` was run with argument `-n`,\n",
        "    `--flags` was included when running `bustools sort`,\n",
        "    and .bus output was converted to .txt using `bustools text`.\n",
        "    \"\"\"\n",
        "\n",
        "    # Get 0-indexed line number of target ID from transcripts.txt\n",
        "    with open(f\"{kallisto_out}/transcripts.txt\") as f:\n",
        "        transcripts = f.read().splitlines()\n",
        "    gene_id_idx = transcripts.index(gene_id)\n",
        "\n",
        "    # Get equivalence class that matches to 0-indexed line number of target ID\n",
        "    ec_df = pd.read_csv(f\"{kallisto_out}/matrix.ec\", sep=\"\\t\", header=None)\n",
        "    gene_id_ec = int(ec_df[ec_df[1] == str(gene_id_idx)][0].values[0])\n",
        "\n",
        "    # Get bus output (converted to txt)\n",
        "    bus_df = pd.read_csv(f\"{kallisto_out}/output_sorted.bus.txt\", sep=\"\\t\", header=None)\n",
        "    # Only keep reads that aligned to target ID\n",
        "    bus_df_target = bus_df[bus_df[2] == gene_id_ec]\n",
        "\n",
        "    # Get numbers of reads that aligned (adjust zero-indexed bus file to one-indexed fastqs)\n",
        "    reads_aln = bus_df_target[4].values + 1\n",
        "\n",
        "    keep_list = reads_aln.astype(str)\n",
        "\n",
        "    # Loop over original fastq and write reads with index in keep_list to new fasta\n",
        "    output_fasta = fastq.split(\".fastq\")[0] + f\"_{gene_id}.fa\"\n",
        "\n",
        "    n_written = 0\n",
        "    with open(fastq) as handle, open(output_fasta, \"w\") as out:\n",
        "        records = SeqIO.parse(handle, \"fastq\")\n",
        "\n",
        "        with tqdm(bar_format=TQDM_BAR_FORMAT) as pbar:\n",
        "            for record in records:\n",
        "                if record.id.split(\".\")[-1] in keep_list:\n",
        "                    out.write(\">\" + record.id + \"\\n\" + str(record.seq) + \"\\n\")\n",
        "                    n_written += 1\n",
        "                pbar.update(n=1)\n",
        "\n",
        "    print(f\"{n_written} reads saved that matched ID {gene_id}.\")"
      ]
    },
    {
      "cell_type": "code",
      "execution_count": null,
      "id": "5b45640f-4753-4563-bae8-7732915f390e",
      "metadata": {
        "id": "5b45640f-4753-4563-bae8-7732915f390e"
      },
      "outputs": [],
      "source": [
        "%%time\n",
        "extract_kb_reads(f\"{outfolder}/kallisto\", test_fastq, \"u10\")"
      ]
    },
    {
      "cell_type": "markdown",
      "id": "2a7b82b2-bf8b-43d0-a1a2-a065bd22d775",
      "metadata": {
        "id": "2a7b82b2-bf8b-43d0-a1a2-a065bd22d775"
      },
      "source": [
        "### Align with bowtie2"
      ]
    },
    {
      "cell_type": "code",
      "source": [
        "# Install bowtie2\n",
        "!wget https://sourceforge.net/projects/bowtie-bio/files/bowtie2/2.2.5/bowtie2-2.2.5-linux-x86_64.zip\n",
        "!unzip bowtie2-2.2.5-linux-x86_64.zip\n",
        "bowtie2_build = \"bowtie2-2.2.5/bowtie2-build\"\n",
        "bowtie2 = \"bowtie2-2.2.5/bowtie2\""
      ],
      "metadata": {
        "id": "fZrLaQZoUKye"
      },
      "id": "fZrLaQZoUKye",
      "execution_count": null,
      "outputs": []
    },
    {
      "cell_type": "markdown",
      "source": [
        "Generate Bowtie2 genome index:"
      ],
      "metadata": {
        "id": "bYCZHhNVUM4H"
      },
      "id": "bYCZHhNVUM4H"
    },
    {
      "cell_type": "code",
      "source": [
        "# Download ZEBOV genome\n",
        "!wget https://raw.githubusercontent.com/pachterlab/LSCHWCP_2023/main/Notebooks/ebola_ref/GCA_000848505.1_ViralProj14703_genomic.fna"
      ],
      "metadata": {
        "id": "pxWBSq4cUVMS"
      },
      "id": "pxWBSq4cUVMS",
      "execution_count": null,
      "outputs": []
    },
    {
      "cell_type": "code",
      "execution_count": null,
      "id": "b9570380-da7d-4cca-b040-a28555979668",
      "metadata": {
        "id": "b9570380-da7d-4cca-b040-a28555979668"
      },
      "outputs": [],
      "source": [
        "b_index = \"b_index\"\n",
        "!mkdir -p $b_index"
      ]
    },
    {
      "cell_type": "code",
      "source": [
        "!$bowtie2_build \\\n",
        "    GCA_000848505.1_ViralProj14703_genomic.fna \\\n",
        "    $b_index/ebov"
      ],
      "metadata": {
        "id": "KvFZP2bwUSPv"
      },
      "id": "KvFZP2bwUSPv",
      "execution_count": null,
      "outputs": []
    },
    {
      "cell_type": "markdown",
      "source": [
        "Align extracted reads to ZEBOV genome:"
      ],
      "metadata": {
        "id": "BoCuQO0MUSjD"
      },
      "id": "BoCuQO0MUSjD"
    },
    {
      "cell_type": "code",
      "execution_count": null,
      "id": "32c2df81-6b7b-4cef-8c6d-d43e2b8d0f1b",
      "metadata": {
        "id": "32c2df81-6b7b-4cef-8c6d-d43e2b8d0f1b"
      },
      "outputs": [],
      "source": [
        "!$bowtie2 \\\n",
        "    -x $b_index/ebov \\\n",
        "    -f -p $threads \\\n",
        "    -U SRR12698503_2_u10.fa \\\n",
        "    -S $outfolder/kallisto/SRR12698503_2_u10_EBOV_aligned.sam"
      ]
    },
    {
      "cell_type": "markdown",
      "id": "626a4100-25d6-4115-a975-46638869102e",
      "metadata": {
        "id": "626a4100-25d6-4115-a975-46638869102e"
      },
      "source": [
        "### Use SAMtools to convert the SAM files to sorted BAM files"
      ]
    },
    {
      "cell_type": "code",
      "source": [
        "# Install SAMtools\n",
        "!wget https://github.com/samtools/samtools/releases/download/1.6/samtools-1.6.tar.bz2\n",
        "!tar -vxjf samtools-1.6.tar.bz2\n",
        "!cd samtools-1.6; make\n",
        "samtools = \"samtools-1.6/samtools\""
      ],
      "metadata": {
        "id": "6yqRUQ2yU-6a"
      },
      "id": "6yqRUQ2yU-6a",
      "execution_count": null,
      "outputs": []
    },
    {
      "cell_type": "code",
      "execution_count": null,
      "id": "fde152fd-666c-4da8-9521-525d74c6522b",
      "metadata": {
        "id": "fde152fd-666c-4da8-9521-525d74c6522b"
      },
      "outputs": [],
      "source": [
        "!$samtools view \\\n",
        "    -bS -F4 $outfolder/kallisto/SRR12698503_2_u10_EBOV_aligned.sam \\\n",
        "    > $outfolder/kallisto/SRR12698503_2_u10_EBOV_aligned.bam"
      ]
    },
    {
      "cell_type": "code",
      "execution_count": null,
      "id": "ef666186-2659-4a1f-9f2f-7489b53bf8a3",
      "metadata": {
        "id": "ef666186-2659-4a1f-9f2f-7489b53bf8a3"
      },
      "outputs": [],
      "source": [
        "!$samtools sort \\\n",
        "    $outfolder/kallisto/SRR12698503_2_u10_EBOV_aligned.bam \\\n",
        "    -o $outfolder/kallisto/SRR12698503_2_u10_EBOV_sorted.bam"
      ]
    },
    {
      "cell_type": "code",
      "execution_count": null,
      "id": "001c7384-6b1d-4070-8e13-c80878556b56",
      "metadata": {
        "id": "001c7384-6b1d-4070-8e13-c80878556b56"
      },
      "outputs": [],
      "source": [
        "!$samtools index \\\n",
        "    $outfolder/kallisto/SRR12698503_2_u10_EBOV_sorted.bam"
      ]
    },
    {
      "cell_type": "code",
      "execution_count": 21,
      "id": "e575f6ce-8240-4f39-8e62-9f49b64a1969",
      "metadata": {
        "id": "e575f6ce-8240-4f39-8e62-9f49b64a1969"
      },
      "outputs": [],
      "source": []
    }
  ],
  "metadata": {
    "kernelspec": {
      "display_name": "Python 3 (ipykernel)",
      "language": "python",
      "name": "python3"
    },
    "language_info": {
      "codemirror_mode": {
        "name": "ipython",
        "version": 3
      },
      "file_extension": ".py",
      "mimetype": "text/x-python",
      "name": "python",
      "nbconvert_exporter": "python",
      "pygments_lexer": "ipython3",
      "version": "3.9.12"
    },
    "colab": {
      "provenance": [],
      "include_colab_link": true
    }
  },
  "nbformat": 4,
  "nbformat_minor": 5
}