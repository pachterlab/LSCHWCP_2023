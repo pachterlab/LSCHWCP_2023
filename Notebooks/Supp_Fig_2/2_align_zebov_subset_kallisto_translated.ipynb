{
  "cells": [
    {
      "cell_type": "markdown",
      "metadata": {
        "id": "view-in-github",
        "colab_type": "text"
      },
      "source": [
        "<a href=\"https://colab.research.google.com/github/pachterlab/LSCHWCP_2023/blob/main/Notebooks/Supp_Fig_2/2_align_zebov_subset_kallisto_translated.ipynb\" target=\"_parent\"><img src=\"https://colab.research.google.com/assets/colab-badge.svg\" alt=\"Open In Colab\"/></a>"
      ]
    },
    {
      "cell_type": "markdown",
      "source": [
        "# Align a subset of the macaque PBMC Zaire ebolavirus (ZEBOV) dataset using kallisto translated search and generate bam files to visualize the alignment"
      ],
      "metadata": {
        "id": "-jo7FOj3SNZ5"
      },
      "id": "-jo7FOj3SNZ5"
    },
    {
      "cell_type": "code",
      "execution_count": null,
      "id": "b54c3c13-947f-4b9a-b177-a3b00cd8f327",
      "metadata": {
        "id": "b54c3c13-947f-4b9a-b177-a3b00cd8f327"
      },
      "outputs": [],
      "source": [
        "# Install Kraken2 v1.0.2 (defining version for reproducibility)\n",
        "!git clone https://github.com/DerrickWood/kraken2.git --branch v2.1.2\n",
        "!cd kraken2 && ./install_kraken2.sh ./\n",
        "\n",
        "kraken2 = \"/content/kraken2/kraken2\"\n",
        "kraken2_build = \"/content/kraken2/kraken2-build\""
      ]
    },
    {
      "cell_type": "code",
      "source": [
        "# Number of threads used for alignment\n",
        "threads = 2"
      ],
      "metadata": {
        "id": "G--K7TrfSRxw"
      },
      "id": "G--K7TrfSRxw",
      "execution_count": null,
      "outputs": []
    },
    {
      "cell_type": "markdown",
      "source": [
        "### Download raw sequencing file and subset to first 100,000,000 reads"
      ],
      "metadata": {
        "id": "_kAV6fUASSz9"
      },
      "id": "_kAV6fUASSz9"
    },
    {
      "cell_type": "code",
      "source": [
        "!pip install -q ffq\n",
        "import json\n",
        "\n",
        "out = \"data.json\"\n",
        "!ffq SRR12698539 --ftp -o $out\n",
        "\n",
        "f = open(out)\n",
        "data = json.load(f)\n",
        "f.close()\n",
        "\n",
        "print(len(data))\n",
        "\n",
        "for dataset in data:\n",
        "    url = dataset[\"url\"]\n",
        "    !curl -O $url"
      ],
      "metadata": {
        "id": "qR7EeKDgSS4j"
      },
      "id": "qR7EeKDgSS4j",
      "execution_count": null,
      "outputs": []
    },
    {
      "cell_type": "code",
      "source": [
        "fastq = \"SRR12698539_2.fastq.gz\"\n",
        "test_fastq = \"SRR12698539_2_short.fastq.gz\"\n",
        "\n",
        "# Create new file keeping only first X reads\n",
        "!zcat $fastq | head -400000000 > $test_fastq_gz"
      ],
      "metadata": {
        "id": "HAkWV9oYSWzc"
      },
      "id": "HAkWV9oYSWzc",
      "execution_count": null,
      "outputs": []
    },
    {
      "cell_type": "markdown",
      "id": "9d715635-c132-44ff-be02-e144c2005aa2",
      "metadata": {
        "id": "9d715635-c132-44ff-be02-e144c2005aa2"
      },
      "source": [
        "# Align using kallisto translated search"
      ]
    },
    {
      "cell_type": "code",
      "source": [
        "# Install kallisto from source\n",
        "!git clone -q https://github.com/pachterlab/kallisto.git\n",
        "!cd kallisto && mkdir build && cd build && cmake .. && make\n",
        "\n",
        "# Install bustools from source\n",
        "!git clone -q https://github.com/BUStools/bustools.git\n",
        "!cd bustools && mkdir build && cd build && cmake .. && make\n",
        "\n",
        "# Define paths to kallisto and bustools binaries\n",
        "kallisto = \"/content/kallisto/build/src/kallisto\"\n",
        "bustools = \"/content/bustools/build/src/bustools\""
      ],
      "metadata": {
        "id": "RouHK7aPSlzE"
      },
      "id": "RouHK7aPSlzE",
      "execution_count": null,
      "outputs": []
    },
    {
      "cell_type": "markdown",
      "source": [
        "Build reference index:"
      ],
      "metadata": {
        "id": "VibEshoYSl5C"
      },
      "id": "VibEshoYSl5C"
    },
    {
      "cell_type": "code",
      "execution_count": null,
      "id": "5ecf7496-18ad-44c9-aa40-ee75aaf5262b",
      "metadata": {
        "id": "5ecf7496-18ad-44c9-aa40-ee75aaf5262b"
      },
      "outputs": [],
      "source": [
        "# Download the customized transcripts to gene mapping\n",
        "!wget https://raw.githubusercontent.com/pachterlab/LSCHWCP_2023/main/PalmDB/palmdb_clustered_t2g.txt\n",
        "# Download the RdRP amino acid sequences\n",
        "!wget https://raw.githubusercontent.com/pachterlab/LSCHWCP_2023/main/PalmDB/palmdb_rdrp_seqs.fa\n",
        "\n",
        "virus_fasta = \"palmdb_rdrp_seqs.fa\"\n",
        "virus_t2g = \"palmdb_clustered_t2g.txt\""
      ]
    },
    {
      "cell_type": "code",
      "source": [
        "# Get host genomes and transcriptomes and concatenate them into a single file for host masking\n",
        "!pip install -q gget\n",
        "!gget ref -w cdna,dna -r 110 -d canis_lupus_familiaris\n",
        "!gget ref -w cdna,dna -r 110 -d macaca_mulatta\n",
        "canine_cdna = \"Canis_lupus_familiaris.ROS_Cfam_1.0.cdna.all.fa.gz\"\n",
        "macaque_cdna = \"Macaca_mulatta.Mmul_10.cdna.all.fa.gz\"\n",
        "canine_dna = \"Canis_lupus_familiaris.ROS_Cfam_1.0.dna.toplevel.fa.gz\"\n",
        "macaque_dna = \"Macaca_mulatta.Mmul_10.dna.toplevel.fa.gz\"\n",
        "\n",
        "canine_macaque_fasta = \"combined.cdna_dna.all.fa.gz\"\n",
        "!cat $canine_cdna $macaque_cdna $canine_dna $macaque_dna > $canine_macaque_fasta"
      ],
      "metadata": {
        "id": "nB6MdLNpS6fN"
      },
      "id": "nB6MdLNpS6fN",
      "execution_count": null,
      "outputs": []
    },
    {
      "cell_type": "code",
      "source": [
        "virus_index = \"virus_index.idx\"\n",
        "\n",
        "# Generate virus reference index\n",
        "!$kallisto index \\\n",
        "    --aa \\\n",
        "    -t $threads \\\n",
        "    --d-list=$canine_macaque_fasta \\\n",
        "    -i $virus_index \\\n",
        "    $virus_fasta"
      ],
      "metadata": {
        "id": "tdpa4R-6Skr6"
      },
      "id": "tdpa4R-6Skr6",
      "execution_count": null,
      "outputs": []
    },
    {
      "cell_type": "markdown",
      "id": "28f50646-2842-46ef-8e7d-87ce0464c060",
      "metadata": {
        "id": "28f50646-2842-46ef-8e7d-87ce0464c060"
      },
      "source": [
        "Align using `-n` flag to keep track of aligned reads:"
      ]
    },
    {
      "cell_type": "code",
      "execution_count": null,
      "id": "355f9d23-c3e4-463c-94da-0d768b25271e",
      "metadata": {
        "id": "355f9d23-c3e4-463c-94da-0d768b25271e"
      },
      "outputs": [],
      "source": [
        "outfolder = \"zebov_subset_alignment\"\n",
        "!mkdir $outfolder\n",
        "\n",
        "!$kallisto bus \\\n",
        "        -i $virus_index \\\n",
        "        -o $outfolder/kallisto \\\n",
        "        --aa \\\n",
        "        -n \\\n",
        "        -x bulk \\\n",
        "        -t $threads \\\n",
        "        $test_fastq\n",
        "\n",
        "!$bustools sort --flags -o $outfolder/kallisto/output_sorted.bus $outfolder/kallisto/output.bus\n",
        "\n",
        "!$bustools count \\\n",
        "    --genecounts \\\n",
        "    --cm -m \\\n",
        "    -o $outfolder/kallisto/bustools_count/ \\\n",
        "    -g $virus_t2g \\\n",
        "    -e $outfolder/kallisto/matrix.ec \\\n",
        "    -t $outfolder/kallisto/transcripts.txt \\\n",
        "    $outfolder/kallisto/output_sorted.bus"
      ]
    },
    {
      "cell_type": "markdown",
      "id": "f7ca3834-d316-4fa5-a45a-7b85995a779b",
      "metadata": {
        "id": "f7ca3834-d316-4fa5-a45a-7b85995a779b"
      },
      "source": [
        "Convert bus file to txt file to get indeces of aligned reads:"
      ]
    },
    {
      "cell_type": "code",
      "execution_count": null,
      "id": "ea673246-5b3d-4b87-9b16-886b8a5b8d12",
      "metadata": {
        "id": "ea673246-5b3d-4b87-9b16-886b8a5b8d12"
      },
      "outputs": [],
      "source": [
        "# To use this, add --flags to bustools sort\n",
        "!$bustools text \\\n",
        "    -f \\\n",
        "    -o $outfolder/kallisto/output_sorted.bus.txt \\\n",
        "    $outfolder/kallisto/output_sorted.bus"
      ]
    },
    {
      "cell_type": "markdown",
      "id": "93d8ec11-520a-49df-9dec-72c5bbd1db2b",
      "metadata": {
        "id": "93d8ec11-520a-49df-9dec-72c5bbd1db2b"
      },
      "source": [
        "### Extract sequences that aligned to EBOV"
      ]
    },
    {
      "cell_type": "code",
      "source": [
        "!pip install -q biopython"
      ],
      "metadata": {
        "id": "h1ef_groTm5M"
      },
      "id": "h1ef_groTm5M",
      "execution_count": null,
      "outputs": []
    },
    {
      "cell_type": "markdown",
      "source": [
        "!!! The function below should be updated to use `bustools capture` to extract the aligned virus reads as was done [here](https://github.com/pachterlab/LSCHWCP_2023/blob/main/Notebooks/Figure_5/Figure_5b/pull_out_reads_BLAST_comparisons.ipynb)."
      ],
      "metadata": {
        "id": "aYapICmITrPS"
      },
      "id": "aYapICmITrPS"
    },
    {
      "cell_type": "code",
      "execution_count": null,
      "id": "b872f6ff-a034-4ba0-bf27-e8e8ff31fd77",
      "metadata": {
        "id": "b872f6ff-a034-4ba0-bf27-e8e8ff31fd77"
      },
      "outputs": [],
      "source": [
        "from Bio import SeqIO\n",
        "import pandas as pd\n",
        "from tqdm import tqdm\n",
        "TQDM_BAR_FORMAT = (\n",
        "    \"Parsing fastq for reads: {n_fmt} reads processed.\"\n",
        ")\n",
        "\n",
        "def extract_kb_reads(kallisto_out, fastq, gene_id):\n",
        "    \"\"\"\n",
        "    Create new fasta file including only reads that aligned to a specific\n",
        "    gene/transcript ID after running kallisto.\n",
        "\n",
        "    Args:\n",
        "    - kallisto_out    Folder containing kallisto output.\n",
        "    - fastq           Path to original fastq file.\n",
        "    - gene_id         ID of gene/transcript of interest.\n",
        "\n",
        "    Returns fasta file.\n",
        "\n",
        "    Note:\n",
        "    Only works if `kallisto bus` was run with argument `-n`,\n",
        "    `--flags` was included when running `bustools sort`,\n",
        "    and .bus output was converted to .txt using `bustools text`.\n",
        "    \"\"\"\n",
        "\n",
        "    # Get 0-indexed line number of target ID from transcripts.txt\n",
        "    with open(f\"{kallisto_out}/transcripts.txt\") as f:\n",
        "        transcripts = f.read().splitlines()\n",
        "    gene_id_idx = transcripts.index(gene_id)\n",
        "\n",
        "    # Get equivalence class that matches to 0-indexed line number of target ID\n",
        "    ec_df = pd.read_csv(f\"{kallisto_out}/matrix.ec\", sep=\"\\t\", header=None)\n",
        "    gene_id_ec = int(ec_df[ec_df[1] == str(gene_id_idx)][0].values[0])\n",
        "\n",
        "    # Get bus output (converted to txt)\n",
        "    bus_df = pd.read_csv(f\"{kallisto_out}/output_sorted.bus.txt\", sep=\"\\t\", header=None)\n",
        "    # Only keep reads that aligned to target ID\n",
        "    bus_df_target = bus_df[bus_df[2] == gene_id_ec]\n",
        "\n",
        "    # Get numbers of reads that aligned (adjust zero-indexed bus file to one-indexed fastqs)\n",
        "    reads_aln = bus_df_target[4].values + 1\n",
        "\n",
        "    keep_list = reads_aln.astype(str)\n",
        "\n",
        "    # Loop over original fastq and write reads with index in keep_list to new fasta\n",
        "    output_fasta = fastq.split(\".fastq\")[0] + f\"_{gene_id}.fa\"\n",
        "\n",
        "    n_written = 0\n",
        "    with open(fastq) as handle, open(output_fasta, \"w\") as out:\n",
        "        records = SeqIO.parse(handle, \"fastq\")\n",
        "\n",
        "        with tqdm(bar_format=TQDM_BAR_FORMAT) as pbar:\n",
        "            for record in records:\n",
        "                if record.id.split(\".\")[-1] in keep_list:\n",
        "                    out.write(\">\" + record.id + \"\\n\" + str(record.seq) + \"\\n\")\n",
        "                    n_written += 1\n",
        "                pbar.update(n=1)\n",
        "\n",
        "    print(f\"{n_written} reads saved that matched ID {gene_id}.\")"
      ]
    },
    {
      "cell_type": "code",
      "execution_count": null,
      "id": "5b45640f-4753-4563-bae8-7732915f390e",
      "metadata": {
        "id": "5b45640f-4753-4563-bae8-7732915f390e"
      },
      "outputs": [],
      "source": [
        "%%time\n",
        "extract_kb_reads(f\"{outfolder}/kallisto\", test_fastq, \"u10\")"
      ]
    },
    {
      "cell_type": "markdown",
      "id": "2a7b82b2-bf8b-43d0-a1a2-a065bd22d775",
      "metadata": {
        "id": "2a7b82b2-bf8b-43d0-a1a2-a065bd22d775"
      },
      "source": [
        "### Align with bowtie2"
      ]
    },
    {
      "cell_type": "code",
      "source": [
        "# Install bowtie2\n",
        "!wget https://sourceforge.net/projects/bowtie-bio/files/bowtie2/2.2.5/bowtie2-2.2.5-linux-x86_64.zip\n",
        "!unzip bowtie2-2.2.5-linux-x86_64.zip\n",
        "bowtie2_build = \"bowtie2-2.2.5/bowtie2-build\"\n",
        "bowtie2 = \"bowtie2-2.2.5/bowtie2\""
      ],
      "metadata": {
        "id": "fZrLaQZoUKye"
      },
      "id": "fZrLaQZoUKye",
      "execution_count": null,
      "outputs": []
    },
    {
      "cell_type": "markdown",
      "source": [
        "Generate Bowtie2 genome index:"
      ],
      "metadata": {
        "id": "bYCZHhNVUM4H"
      },
      "id": "bYCZHhNVUM4H"
    },
    {
      "cell_type": "code",
      "source": [
        "# Download ZEBOV genome\n",
        "!wget https://raw.githubusercontent.com/pachterlab/LSCHWCP_2023/main/Notebooks/Supp_Fig_2/GCA_000848505.1_ViralProj14703_genomic.fna"
      ],
      "metadata": {
        "id": "pxWBSq4cUVMS"
      },
      "id": "pxWBSq4cUVMS",
      "execution_count": null,
      "outputs": []
    },
    {
      "cell_type": "code",
      "execution_count": null,
      "id": "b9570380-da7d-4cca-b040-a28555979668",
      "metadata": {
        "id": "b9570380-da7d-4cca-b040-a28555979668"
      },
      "outputs": [],
      "source": [
        "b_index = \"b_index\""
      ]
    },
    {
      "cell_type": "code",
      "source": [
        "!$bowtie2_build \\\n",
        "    GCA_000848505.1_ViralProj14703_genomic.fna \\\n",
        "    $b_index/ebov"
      ],
      "metadata": {
        "id": "KvFZP2bwUSPv"
      },
      "id": "KvFZP2bwUSPv",
      "execution_count": null,
      "outputs": []
    },
    {
      "cell_type": "markdown",
      "source": [
        "Align extracted reads to ZEBOV genome:"
      ],
      "metadata": {
        "id": "BoCuQO0MUSjD"
      },
      "id": "BoCuQO0MUSjD"
    },
    {
      "cell_type": "code",
      "execution_count": null,
      "id": "32c2df81-6b7b-4cef-8c6d-d43e2b8d0f1b",
      "metadata": {
        "id": "32c2df81-6b7b-4cef-8c6d-d43e2b8d0f1b"
      },
      "outputs": [],
      "source": [
        "!$bowtie2 \\\n",
        "    -x $b_index/ebov \\\n",
        "    -f -p $threads \\\n",
        "    -U SRR12698503_2_u10.fa \\\n",
        "    -S $outfolder/kallisto/SRR12698503_2_u10_EBOV_aligned.sam"
      ]
    },
    {
      "cell_type": "markdown",
      "id": "626a4100-25d6-4115-a975-46638869102e",
      "metadata": {
        "id": "626a4100-25d6-4115-a975-46638869102e"
      },
      "source": [
        "### Use SAMtools to convert the SAM files to sorted BAM files"
      ]
    },
    {
      "cell_type": "code",
      "source": [
        "# Install SAMtools\n",
        "!wget https://github.com/samtools/samtools/releases/download/1.6/samtools-1.6.tar.bz2\n",
        "!tar -vxjf samtools-1.6.tar.bz2\n",
        "!cd samtools-1.6; make\n",
        "samtools = \"samtools-1.6/samtools\""
      ],
      "metadata": {
        "id": "6yqRUQ2yU-6a"
      },
      "id": "6yqRUQ2yU-6a",
      "execution_count": null,
      "outputs": []
    },
    {
      "cell_type": "code",
      "execution_count": null,
      "id": "fde152fd-666c-4da8-9521-525d74c6522b",
      "metadata": {
        "id": "fde152fd-666c-4da8-9521-525d74c6522b"
      },
      "outputs": [],
      "source": [
        "!$samtools view \\\n",
        "    -bS -F4 $outfolder/kallisto/SRR12698503_2_u10_EBOV_aligned.sam \\\n",
        "    > $outfolder/kallisto/SRR12698503_2_u10_EBOV_aligned.bam"
      ]
    },
    {
      "cell_type": "code",
      "execution_count": null,
      "id": "ef666186-2659-4a1f-9f2f-7489b53bf8a3",
      "metadata": {
        "id": "ef666186-2659-4a1f-9f2f-7489b53bf8a3"
      },
      "outputs": [],
      "source": [
        "!$samtools sort \\\n",
        "    $outfolder/kallisto/SRR12698503_2_u10_EBOV_aligned.bam \\\n",
        "    -o $outfolder/kallisto/SRR12698503_2_u10_EBOV_sorted.bam"
      ]
    },
    {
      "cell_type": "code",
      "execution_count": null,
      "id": "001c7384-6b1d-4070-8e13-c80878556b56",
      "metadata": {
        "id": "001c7384-6b1d-4070-8e13-c80878556b56"
      },
      "outputs": [],
      "source": [
        "!$samtools index \\\n",
        "    $outfolder/kallisto/SRR12698503_2_u10_EBOV_sorted.bam"
      ]
    },
    {
      "cell_type": "code",
      "execution_count": null,
      "id": "e575f6ce-8240-4f39-8e62-9f49b64a1969",
      "metadata": {
        "id": "e575f6ce-8240-4f39-8e62-9f49b64a1969"
      },
      "outputs": [],
      "source": []
    }
  ],
  "metadata": {
    "kernelspec": {
      "display_name": "Python 3 (ipykernel)",
      "language": "python",
      "name": "python3"
    },
    "language_info": {
      "codemirror_mode": {
        "name": "ipython",
        "version": 3
      },
      "file_extension": ".py",
      "mimetype": "text/x-python",
      "name": "python",
      "nbconvert_exporter": "python",
      "pygments_lexer": "ipython3",
      "version": "3.9.12"
    },
    "colab": {
      "provenance": [],
      "include_colab_link": true
    }
  },
  "nbformat": 4,
  "nbformat_minor": 5
}