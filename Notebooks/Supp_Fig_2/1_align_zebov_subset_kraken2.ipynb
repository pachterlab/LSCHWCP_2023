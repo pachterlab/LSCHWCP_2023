{
  "cells": [
    {
      "cell_type": "markdown",
      "metadata": {
        "id": "view-in-github",
        "colab_type": "text"
      },
      "source": [
        "<a href=\"https://colab.research.google.com/github/pachterlab/LSCHWCP_2023/blob/main/Notebooks/Supp_Fig_2/1_align_zebov_subset_kraken2.ipynb\" target=\"_parent\"><img src=\"https://colab.research.google.com/assets/colab-badge.svg\" alt=\"Open In Colab\"/></a>"
      ]
    },
    {
      "cell_type": "markdown",
      "source": [
        "# Align a subset of the macaque PBMC Zaire ebolavirus (ZEBOV) dataset using Kraken2 (standard nucleotide alignment) and generate bam files to visualize the alignment"
      ],
      "metadata": {
        "id": "oi9DC8YnREVz"
      },
      "id": "oi9DC8YnREVz"
    },
    {
      "cell_type": "code",
      "source": [
        "# Install Kraken2 v1.0.2 (defining version for reproducibility)\n",
        "!git clone https://github.com/DerrickWood/kraken2.git --branch v2.1.2\n",
        "!cd kraken2 && ./install_kraken2.sh ./\n",
        "\n",
        "kraken2 = \"/content/kraken2/kraken2\"\n",
        "kraken2_build = \"/content/kraken2/kraken2-build\""
      ],
      "metadata": {
        "id": "fscRgqHSLfn5"
      },
      "id": "fscRgqHSLfn5",
      "execution_count": null,
      "outputs": []
    },
    {
      "cell_type": "code",
      "source": [
        "# Number of threads used for alignment\n",
        "threads = 2"
      ],
      "metadata": {
        "id": "Xy_bcC6-MIxZ"
      },
      "id": "Xy_bcC6-MIxZ",
      "execution_count": null,
      "outputs": []
    },
    {
      "cell_type": "markdown",
      "id": "df4c105b-0f8c-4e11-8fb7-236ed7437a87",
      "metadata": {
        "id": "df4c105b-0f8c-4e11-8fb7-236ed7437a87"
      },
      "source": [
        "### Download raw sequencing file and subset to first 100,000,000 reads\n"
      ]
    },
    {
      "cell_type": "code",
      "source": [
        "!pip install -q ffq\n",
        "import json\n",
        "\n",
        "out = \"data.json\"\n",
        "!ffq SRR12698539 --ftp -o $out\n",
        "\n",
        "f = open(out)\n",
        "data = json.load(f)\n",
        "f.close()\n",
        "\n",
        "print(len(data))\n",
        "\n",
        "for dataset in data:\n",
        "    url = dataset[\"url\"]\n",
        "    !curl -O $url"
      ],
      "metadata": {
        "id": "C70m4KXlJDe5"
      },
      "id": "C70m4KXlJDe5",
      "execution_count": null,
      "outputs": []
    },
    {
      "cell_type": "code",
      "source": [
        "fastq = \"SRR12698539_2.fastq.gz\"\n",
        "test_fastq_gz = \"SRR12698539_2_short.fastq.gz\"\n",
        "test_fastq = \"SRR12698539_2_short.fastq\"\n",
        "\n",
        "# Create new file keeping only first X reads\n",
        "!zcat $fastq | head -400000000 > $test_fastq_gz\n",
        "\n",
        "# Unzip file for use with Kraken2\n",
        "!gunzip $test_fastq_gz"
      ],
      "metadata": {
        "id": "JTqbjUykKceQ"
      },
      "id": "JTqbjUykKceQ",
      "execution_count": null,
      "outputs": []
    },
    {
      "cell_type": "markdown",
      "id": "75f78f01-2b1e-4f8d-a625-20de5f1e061b",
      "metadata": {
        "id": "75f78f01-2b1e-4f8d-a625-20de5f1e061b"
      },
      "source": [
        "### Run Kraken2"
      ]
    },
    {
      "cell_type": "markdown",
      "source": [
        "Build Kraken2 viral index + add ZEBOV to standard viral reference (otherwise ZEBOV will not be detected). Zaire ebolavirus (ZEBOV) genome ViralProj14703 (linked to NC_002549.1) downloaded from https://www.ncbi.nlm.nih.gov/data-hub/genome/?taxon=186538."
      ],
      "metadata": {
        "id": "BMQgp8SYLnGu"
      },
      "id": "BMQgp8SYLnGu"
    },
    {
      "cell_type": "code",
      "source": [
        "krakendb = \"kraken2-2.1.2/krakendb\""
      ],
      "metadata": {
        "id": "L4fbLttEL6Wq"
      },
      "id": "L4fbLttEL6Wq",
      "execution_count": null,
      "outputs": []
    },
    {
      "cell_type": "code",
      "source": [
        "# Download ZEBOV genome\n",
        "!wget https://raw.githubusercontent.com/pachterlab/LSCHWCP_2023/main/Notebooks/Supp_Fig_2/GCA_000848505.1_ViralProj14703_genomic.fna"
      ],
      "metadata": {
        "id": "_3D4nNiXMMlX"
      },
      "id": "_3D4nNiXMMlX",
      "execution_count": null,
      "outputs": []
    },
    {
      "cell_type": "code",
      "source": [
        "!$kraken2_build --db $krakendb --download-taxonomy\n",
        "\n",
        "# Apply fix (https://github.com/DerrickWood/kraken2/issues/292#issuecomment-1206837801) first so the following line works\n",
        "!$kraken2_build --db $krakendb --download-library viral\n",
        "\n",
        "# Add ZEBOV genome\n",
        "!$kraken2_build --db $krakendb --add-to-library GCA_000848505.1_ViralProj14703_genomic.fna\n",
        "\n",
        "!$kraken2_build --db $krakendb --build --threads $threads"
      ],
      "metadata": {
        "id": "auyG-LM7LnNb"
      },
      "id": "auyG-LM7LnNb",
      "execution_count": null,
      "outputs": []
    },
    {
      "cell_type": "markdown",
      "source": [
        "Align sequencing reads to custom Kraken2 reference index:"
      ],
      "metadata": {
        "id": "MYqVI1oFMwXR"
      },
      "id": "MYqVI1oFMwXR"
    },
    {
      "cell_type": "code",
      "source": [
        "outfolder = \"zebov_subset_alignment\""
      ],
      "metadata": {
        "id": "poRBHODuJezV"
      },
      "id": "poRBHODuJezV",
      "execution_count": null,
      "outputs": []
    },
    {
      "cell_type": "code",
      "execution_count": null,
      "id": "c4ddfee6-4c59-4975-b220-e33021a82c6e",
      "metadata": {
        "id": "c4ddfee6-4c59-4975-b220-e33021a82c6e"
      },
      "outputs": [],
      "source": [
        "!$kraken2 \\\n",
        "    --db $krakendb \\\n",
        "    --threads $threads \\\n",
        "    --minimum-hit-groups 3 \\\n",
        "    --report-minimizer-data \\\n",
        "    --report $outfolder/kraken/SRR12698503.k2report \\\n",
        "    $test_fastq > $outfolder/kraken/SRR12698503.kraken2"
      ]
    },
    {
      "cell_type": "markdown",
      "id": "904c5404-7138-4c97-9ecb-ea36abb1fff0",
      "metadata": {
        "id": "904c5404-7138-4c97-9ecb-ea36abb1fff0"
      },
      "source": [
        "### Extract Kraken reads\n",
        "The extract_kraken_reads.py script (from the KrakenTools GitHub repo) extracts reads that matched a particular species, identified by the taxonomy ID that is provided with the -t parameter:"
      ]
    },
    {
      "cell_type": "code",
      "execution_count": null,
      "id": "1a56965b-ead9-4e31-a136-410c49bfa1e4",
      "metadata": {
        "id": "1a56965b-ead9-4e31-a136-410c49bfa1e4"
      },
      "outputs": [],
      "source": [
        "# Define ZEBOV taxonomy ID\n",
        "ebov_tid = 186538"
      ]
    },
    {
      "cell_type": "code",
      "execution_count": null,
      "id": "0d1584b9-94b2-4754-b982-78586eca1159",
      "metadata": {
        "id": "0d1584b9-94b2-4754-b982-78586eca1159"
      },
      "outputs": [],
      "source": [
        "# Download script\n",
        "!curl -O https://raw.githubusercontent.com/jenniferlu717/KrakenTools/master/extract_kraken_reads.py\n",
        "\n",
        "!/usr/bin/time -v \\\n",
        "    python extract_kraken_reads.py \\\n",
        "    -k $outfolder/kraken/SRR12698503.kraken2 \\\n",
        "    --include-children \\\n",
        "    -s $test_fastq \\\n",
        "    -t $ebov_tid \\\n",
        "    -r $outfolder/kraken/SRR12698503.k2report \\\n",
        "    -o $outfolder/kraken/SRR12698503_EBOV.tid10298.1.fa"
      ]
    },
    {
      "cell_type": "markdown",
      "id": "2bb34dd6-74da-4e4e-84e1-87ea4a0ebdd3",
      "metadata": {
        "id": "2bb34dd6-74da-4e4e-84e1-87ea4a0ebdd3"
      },
      "source": [
        "### Align extracted reads to the ZEBOV genome using Bowtie2"
      ]
    },
    {
      "cell_type": "code",
      "source": [
        "# Install bowtie2\n",
        "!wget https://sourceforge.net/projects/bowtie-bio/files/bowtie2/2.2.5/bowtie2-2.2.5-linux-x86_64.zip\n",
        "!unzip bowtie2-2.2.5-linux-x86_64.zip\n",
        "bowtie2_build = \"bowtie2-2.2.5-linux-x86_64/bowtie2-build\"\n",
        "bowtie2 = \"bowtie2-2.2.5-linux-x86_64/bowtie2\""
      ],
      "metadata": {
        "id": "qA4XIWolOyzX"
      },
      "id": "qA4XIWolOyzX",
      "execution_count": null,
      "outputs": []
    },
    {
      "cell_type": "markdown",
      "id": "2a134f94-97b2-4f4c-b0a0-97998c6f2daa",
      "metadata": {
        "id": "2a134f94-97b2-4f4c-b0a0-97998c6f2daa"
      },
      "source": [
        "Generate Bowtie2 genome index:"
      ]
    },
    {
      "cell_type": "code",
      "execution_count": null,
      "id": "e31d9378-38e4-43b4-a837-5716c5e5fd37",
      "metadata": {
        "id": "e31d9378-38e4-43b4-a837-5716c5e5fd37"
      },
      "outputs": [],
      "source": [
        "b_index = \"b_index\""
      ]
    },
    {
      "cell_type": "code",
      "execution_count": null,
      "id": "90b5162a-4f2d-4712-a2e1-3f0c319c5717",
      "metadata": {
        "id": "90b5162a-4f2d-4712-a2e1-3f0c319c5717"
      },
      "outputs": [],
      "source": [
        "!$bowtie2_build \\\n",
        "    GCA_000848505.1_ViralProj14703_genomic.fna \\\n",
        "    $b_index/ebov"
      ]
    },
    {
      "cell_type": "markdown",
      "id": "cafbdffe-7012-41fb-8237-b74f8271c55c",
      "metadata": {
        "id": "cafbdffe-7012-41fb-8237-b74f8271c55c"
      },
      "source": [
        "Align extracted reads to ZEBOV genome:"
      ]
    },
    {
      "cell_type": "code",
      "execution_count": null,
      "id": "0c5a688f-6ba4-4a51-a40d-62be93ecf057",
      "metadata": {
        "id": "0c5a688f-6ba4-4a51-a40d-62be93ecf057"
      },
      "outputs": [],
      "source": [
        "!$bowtie2 \\\n",
        "    -x $b_index/ebov \\\n",
        "    -f -p $threads \\\n",
        "    -U $outfolder/kraken/SRR12698503_EBOV.tid10298.1.fa \\\n",
        "    -S $outfolder/kraken/SRR12698503_EBOV_aligned.sam"
      ]
    },
    {
      "cell_type": "markdown",
      "id": "653ac973-8f78-460d-9333-97c6d1e5749c",
      "metadata": {
        "id": "653ac973-8f78-460d-9333-97c6d1e5749c"
      },
      "source": [
        "### Use SAMtools to convert the SAM files to sorted BAM files"
      ]
    },
    {
      "cell_type": "code",
      "source": [
        "# Install SAMtools\n",
        "!wget https://github.com/samtools/samtools/releases/download/1.6/samtools-1.6.tar.bz2\n",
        "!tar -vxjf samtools-1.6.tar.bz2\n",
        "!cd samtools-1.6; make\n",
        "samtools = \"samtools-1.6/samtools\""
      ],
      "metadata": {
        "id": "7zIySjqRPPKE",
        "outputId": "a37fac35-0777-4806-d255-1dee71574dd0",
        "colab": {
          "base_uri": "https://localhost:8080/"
        }
      },
      "id": "7zIySjqRPPKE",
      "execution_count": null,
      "outputs": [
        {
          "output_type": "stream",
          "name": "stdout",
          "text": [
            "gcc -g -Wall -O2 -I. -Ihtslib-1.6  -c -o bam_tview_curses.o bam_tview_curses.c\n",
            "\u001b[01m\u001b[Kbam_tview_curses.c:\u001b[m\u001b[K In function ‘\u001b[01m\u001b[Kcurses_mvprintw\u001b[m\u001b[K’:\n",
            "\u001b[01m\u001b[Kbam_tview_curses.c:82:5:\u001b[m\u001b[K \u001b[01;35m\u001b[Kwarning: \u001b[m\u001b[Kformat not a string literal and no format arguments [\u001b[01;35m\u001b[K\u001b]8;;https://gcc.gnu.org/onlinedocs/gcc/Warning-Options.html#index-Wformat-security\u0007-Wformat-security\u001b]8;;\u0007\u001b[m\u001b[K]\n",
            "   82 |     \u001b[01;35m\u001b[Kmvprintw\u001b[m\u001b[K(y,x,str);\n",
            "      |     \u001b[01;35m\u001b[K^~~~~~~~\u001b[m\u001b[K\n",
            "gcc -g -Wall -O2 -I. -Ihtslib-1.6  -c -o bam_tview_html.o bam_tview_html.c\n",
            "gcc -g -Wall -O2 -I. -Ihtslib-1.6  -c -o bam_lpileup.o bam_lpileup.c\n",
            "gcc -g -Wall -O2 -I. -Ihtslib-1.6  -c -o bam_quickcheck.o bam_quickcheck.c\n",
            "gcc -g -Wall -O2 -I. -Ihtslib-1.6  -c -o bam_addrprg.o bam_addrprg.c\n",
            "gcc -g -Wall -O2 -I. -Ihtslib-1.6  -c -o bam_markdup.o bam_markdup.c\n",
            "gcc -g -Wall -O2 -I. -Ihtslib-1.6  -c -o bam_aux.o bam_aux.c\n",
            "gcc -g -Wall -O2 -I. -Ihtslib-1.6  -c -o bam.o bam.c\n",
            "gcc -g -Wall -O2 -I. -Ihtslib-1.6  -c -o bam_import.o bam_import.c\n",
            "gcc -g -Wall -O2 -I. -Ihtslib-1.6  -c -o sam.o sam.c\n",
            "gcc -g -Wall -O2 -I. -Ihtslib-1.6  -c -o sam_header.o sam_header.c\n",
            "gcc -g -Wall -O2 -I. -Ihtslib-1.6  -c -o bam_plbuf.o bam_plbuf.c\n",
            "ar -csru libbam.a bam_aux.o bam.o bam_import.o sam.o sam_header.o bam_plbuf.o\n",
            "ar: `u' modifier ignored since `D' is the default (see `U')\n",
            "gcc -g -Wall -O2 -I. -Ihtslib-1.6  -c -o sam_opts.o sam_opts.c\n",
            "In file included from \u001b[01m\u001b[K/usr/include/stdio.h:894\u001b[m\u001b[K,\n",
            "                 from \u001b[01m\u001b[Ksam_opts.c:27\u001b[m\u001b[K:\n",
            "In function ‘\u001b[01m\u001b[Kfprintf\u001b[m\u001b[K’,\n",
            "    inlined from ‘\u001b[01m\u001b[Kparse_sam_global_opt\u001b[m\u001b[K’ at \u001b[01m\u001b[Ksam_opts.c:85:9\u001b[m\u001b[K:\n",
            "\u001b[01m\u001b[K/usr/include/x86_64-linux-gnu/bits/stdio2.h:105:10:\u001b[m\u001b[K \u001b[01;35m\u001b[Kwarning: \u001b[m\u001b[K‘\u001b[01m\u001b[K%s\u001b[m\u001b[K’ directive argument is null [\u001b[01;35m\u001b[K\u001b]8;;https://gcc.gnu.org/onlinedocs/gcc/Warning-Options.html#index-Wformat-overflow=\u0007-Wformat-overflow=\u001b]8;;\u0007\u001b[m\u001b[K]\n",
            "  105 |   return \u001b[01;35m\u001b[K__fprintf_chk (__stream, __USE_FORTIFY_LEVEL - 1, __fmt,\u001b[m\u001b[K\n",
            "      |          \u001b[01;35m\u001b[K^~~~~~~~~~~~~~~~~~~~~~~~~~~~~~~~~~~~~~~~~~~~~~~~~~~~~~~~\u001b[m\u001b[K\n",
            "  106 | \u001b[01;35m\u001b[K                        __va_arg_pack ())\u001b[m\u001b[K;\n",
            "      |                         \u001b[01;35m\u001b[K~~~~~~~~~~~~~~~~~\u001b[m\u001b[K\n",
            "gcc -g -Wall -O2 -I. -Ihtslib-1.6  -c -o sam_utils.o sam_utils.c\n",
            "ar -rcs libst.a sam_opts.o sam_utils.o\n",
            "cd htslib-1.6 && make config.h\n",
            "make[1]: Entering directory '/content/samtools-1.6/htslib-1.6'\n",
            "echo '/* Default config.h generated by Makefile */' > config.h\n",
            "echo '#define HAVE_LIBBZ2 1' >> config.h\n",
            "echo '#define HAVE_LIBLZMA 1' >> config.h\n",
            "echo '#define HAVE_FSEEKO 1' >> config.h\n",
            "echo '#define HAVE_DRAND48 1' >> config.h\n",
            "make[1]: Leaving directory '/content/samtools-1.6/htslib-1.6'\n",
            "cd htslib-1.6 && make lib-static\n",
            "make[1]: Entering directory '/content/samtools-1.6/htslib-1.6'\n",
            "gcc -g -Wall -O2 -I.  -c -o kfunc.o kfunc.c\n",
            "gcc -g -Wall -O2 -I.  -c -o knetfile.o knetfile.c\n",
            "gcc -g -Wall -O2 -I.  -c -o kstring.o kstring.c\n",
            "gcc -g -Wall -O2 -I.  -c -o bcf_sr_sort.o bcf_sr_sort.c\n",
            "gcc -g -Wall -O2 -I.  -c -o bgzf.o bgzf.c\n",
            "gcc -g -Wall -O2 -I.  -c -o errmod.o errmod.c\n",
            "gcc -g -Wall -O2 -I.  -c -o faidx.o faidx.c\n",
            "gcc -g -Wall -O2 -I.  -c -o hfile.o hfile.c\n",
            "gcc -g -Wall -O2 -I.  -c -o hfile_net.o hfile_net.c\n",
            "echo '#define HTS_VERSION \"1.6\"' > version.h\n",
            "gcc -g -Wall -O2 -I.  -c -o hts.o hts.c\n",
            "\u001b[01m\u001b[Khts.c:\u001b[m\u001b[K In function ‘\u001b[01m\u001b[Khts_idx_init\u001b[m\u001b[K’:\n",
            "\u001b[01m\u001b[Khts.c:1365:59:\u001b[m\u001b[K \u001b[01;35m\u001b[Kwarning: \u001b[m\u001b[Koverflow in conversion from ‘\u001b[01m\u001b[Kuint32_t\u001b[m\u001b[K’ {aka ‘\u001b[01m\u001b[Kunsigned int\u001b[m\u001b[K’} to ‘\u001b[01m\u001b[Kint\u001b[m\u001b[K’ changes value from ‘\u001b[01m\u001b[Kidx->z.last_bin = 4294967295\u001b[m\u001b[K’ to ‘\u001b[01m\u001b[K-1\u001b[m\u001b[K’ [\u001b[01;35m\u001b[K\u001b]8;;https://gcc.gnu.org/onlinedocs/gcc/Warning-Options.html#index-Woverflow\u0007-Woverflow\u001b]8;;\u0007\u001b[m\u001b[K]\n",
            " 1365 |     idx->z.save_bin = idx->z.save_tid = idx->z.last_tid = \u001b[01;35m\u001b[Kidx\u001b[m\u001b[K->z.last_bin = 0xffffffffu;\n",
            "      |                                                           \u001b[01;35m\u001b[K^~~\u001b[m\u001b[K\n",
            "gcc -g -Wall -O2 -I.  -c -o hts_os.o hts_os.c\n",
            "gcc -g -Wall -O2 -I.  -c -o md5.o md5.c\n",
            "gcc -g -Wall -O2 -I.  -c -o multipart.o multipart.c\n",
            "gcc -g -Wall -O2 -I.  -c -o probaln.o probaln.c\n",
            "gcc -g -Wall -O2 -I.  -c -o realn.o realn.c\n",
            "\u001b[01m\u001b[Krealn.c:\u001b[m\u001b[K In function ‘\u001b[01m\u001b[Ksam_prob_realn\u001b[m\u001b[K’:\n",
            "\u001b[01m\u001b[Krealn.c:112:23:\u001b[m\u001b[K \u001b[01;35m\u001b[Kwarning: \u001b[m\u001b[Kwriting 1 byte into a region of size 0 [\u001b[01;35m\u001b[K\u001b]8;;https://gcc.gnu.org/onlinedocs/gcc/Warning-Options.html#index-Wstringop-overflow=\u0007-Wstringop-overflow=\u001b]8;;\u0007\u001b[m\u001b[K]\n",
            "  112 |             \u001b[01;35m\u001b[K*(bq - 3) = 'Z'\u001b[m\u001b[K;\n",
            "      |             \u001b[01;35m\u001b[K~~~~~~~~~~^~~~~\u001b[m\u001b[K\n",
            "\u001b[01m\u001b[Krealn.c:96:15:\u001b[m\u001b[K \u001b[01;36m\u001b[Knote: \u001b[m\u001b[Kat offset -2 into destination object of size [0, 9223372036854775807] allocated by ‘\u001b[01m\u001b[Kbam_aux_get\u001b[m\u001b[K’\n",
            "   96 |     if ((bq = \u001b[01;36m\u001b[Kbam_aux_get(b, \"BQ\")\u001b[m\u001b[K) != 0) ++bq;\n",
            "      |               \u001b[01;36m\u001b[K^~~~~~~~~~~~~~~~~~~~\u001b[m\u001b[K\n",
            "gcc -g -Wall -O2 -I.  -c -o regidx.o regidx.c\n",
            "gcc -g -Wall -O2 -I.  -c -o sam.o sam.c\n",
            "In file included from \u001b[01m\u001b[K/usr/include/string.h:535\u001b[m\u001b[K,\n",
            "                 from \u001b[01m\u001b[Ksam.c:31\u001b[m\u001b[K:\n",
            "In function ‘\u001b[01m\u001b[Kstrncpy\u001b[m\u001b[K’,\n",
            "    inlined from ‘\u001b[01m\u001b[Kbam_hdr_write\u001b[m\u001b[K’ at \u001b[01m\u001b[Ksam.c:233:5\u001b[m\u001b[K:\n",
            "\u001b[01m\u001b[K/usr/include/x86_64-linux-gnu/bits/string_fortified.h:95:10:\u001b[m\u001b[K \u001b[01;35m\u001b[Kwarning: \u001b[m\u001b[K‘\u001b[01m\u001b[K__builtin_strncpy\u001b[m\u001b[K’ output truncated before terminating nul copying 4 bytes from a string of the same length [\u001b[01;35m\u001b[K\u001b]8;;https://gcc.gnu.org/onlinedocs/gcc/Warning-Options.html#index-Wstringop-truncation\u0007-Wstringop-truncation\u001b]8;;\u0007\u001b[m\u001b[K]\n",
            "   95 |   return \u001b[01;35m\u001b[K__builtin___strncpy_chk (__dest, __src, __len,\u001b[m\u001b[K\n",
            "      |          \u001b[01;35m\u001b[K^~~~~~~~~~~~~~~~~~~~~~~~~~~~~~~~~~~~~~~~~~~~~~\u001b[m\u001b[K\n",
            "   96 | \u001b[01;35m\u001b[K                                  __glibc_objsize (__dest))\u001b[m\u001b[K;\n",
            "      |                                   \u001b[01;35m\u001b[K~~~~~~~~~~~~~~~~~~~~~~~~~\u001b[m\u001b[K\n",
            "gcc -g -Wall -O2 -I.  -c -o synced_bcf_reader.o synced_bcf_reader.c\n",
            "gcc -g -Wall -O2 -I.  -c -o vcf_sweep.o vcf_sweep.c\n",
            "gcc -g -Wall -O2 -I.  -c -o tbx.o tbx.c\n",
            "gcc -g -Wall -O2 -I.  -c -o textutils.o textutils.c\n",
            "gcc -g -Wall -O2 -I.  -c -o thread_pool.o thread_pool.c\n",
            "gcc -g -Wall -O2 -I.  -c -o vcf.o vcf.c\n",
            "gcc -g -Wall -O2 -I.  -c -o vcfutils.o vcfutils.c\n",
            "gcc -g -Wall -O2 -I.  -c -o cram/cram_codecs.o cram/cram_codecs.c\n",
            "gcc -g -Wall -O2 -I.  -c -o cram/cram_decode.o cram/cram_decode.c\n",
            "gcc -g -Wall -O2 -I.  -c -o cram/cram_encode.o cram/cram_encode.c\n",
            "gcc -g -Wall -O2 -I.  -c -o cram/cram_external.o cram/cram_external.c\n",
            "gcc -g -Wall -O2 -I.  -c -o cram/cram_index.o cram/cram_index.c\n",
            "In file included from \u001b[01m\u001b[K./cram/sam_header.h:56\u001b[m\u001b[K,\n",
            "                 from \u001b[01m\u001b[K./cram/cram_samtools.h:77\u001b[m\u001b[K,\n",
            "                 from \u001b[01m\u001b[K./cram/cram.h:45\u001b[m\u001b[K,\n",
            "                 from \u001b[01m\u001b[Kcram/cram_index.c:66\u001b[m\u001b[K:\n",
            "In function ‘\u001b[01m\u001b[Kkputsn\u001b[m\u001b[K’,\n",
            "    inlined from ‘\u001b[01m\u001b[Kkputs\u001b[m\u001b[K’ at \u001b[01m\u001b[K./htslib/kstring.h:156:9\u001b[m\u001b[K,\n",
            "    inlined from ‘\u001b[01m\u001b[Kcram_index_build\u001b[m\u001b[K’ at \u001b[01m\u001b[Kcram/cram_index.c:519:9\u001b[m\u001b[K:\n",
            "\u001b[01m\u001b[K./htslib/kstring.h:150:20:\u001b[m\u001b[K \u001b[01;35m\u001b[Kwarning: \u001b[m\u001b[Kwriting 1 byte into a region of size 0 [\u001b[01;35m\u001b[K\u001b]8;;https://gcc.gnu.org/onlinedocs/gcc/Warning-Options.html#index-Wstringop-overflow=\u0007-Wstringop-overflow=\u001b]8;;\u0007\u001b[m\u001b[K]\n",
            "  150 |         \u001b[01;35m\u001b[Ks->s[s->l] = 0\u001b[m\u001b[K;\n",
            "      |         \u001b[01;35m\u001b[K~~~~~~~~~~~^~~\u001b[m\u001b[K\n",
            "In file included from \u001b[01m\u001b[K/usr/include/string.h:535\u001b[m\u001b[K,\n",
            "                 from \u001b[01m\u001b[Kcram/cram_index.c:57\u001b[m\u001b[K:\n",
            "In function ‘\u001b[01m\u001b[Kmemcpy\u001b[m\u001b[K’,\n",
            "    inlined from ‘\u001b[01m\u001b[Kkputsn\u001b[m\u001b[K’ at \u001b[01m\u001b[K./htslib/kstring.h:148:2\u001b[m\u001b[K,\n",
            "    inlined from ‘\u001b[01m\u001b[Kkputs\u001b[m\u001b[K’ at \u001b[01m\u001b[K./htslib/kstring.h:156:9\u001b[m\u001b[K,\n",
            "    inlined from ‘\u001b[01m\u001b[Kcram_index_build\u001b[m\u001b[K’ at \u001b[01m\u001b[Kcram/cram_index.c:519:9\u001b[m\u001b[K:\n",
            "\u001b[01m\u001b[K/usr/include/x86_64-linux-gnu/bits/string_fortified.h:29:10:\u001b[m\u001b[K \u001b[01;35m\u001b[Kwarning: \u001b[m\u001b[K‘\u001b[01m\u001b[K__builtin_memcpy\u001b[m\u001b[K’ specified bound 18446744073709551614 exceeds maximum object size 9223372036854775807 [\u001b[01;35m\u001b[K\u001b]8;;https://gcc.gnu.org/onlinedocs/gcc/Warning-Options.html#index-Wstringop-overflow=\u0007-Wstringop-overflow=\u001b]8;;\u0007\u001b[m\u001b[K]\n",
            "   29 |   return \u001b[01;35m\u001b[K__builtin___memcpy_chk (__dest, __src, __len,\u001b[m\u001b[K\n",
            "      |          \u001b[01;35m\u001b[K^~~~~~~~~~~~~~~~~~~~~~~~~~~~~~~~~~~~~~~~~~~~~\u001b[m\u001b[K\n",
            "   30 | \u001b[01;35m\u001b[K                                 __glibc_objsize0 (__dest))\u001b[m\u001b[K;\n",
            "      |                                  \u001b[01;35m\u001b[K~~~~~~~~~~~~~~~~~~~~~~~~~~\u001b[m\u001b[K\n",
            "gcc -g -Wall -O2 -I.  -c -o cram/cram_io.o cram/cram_io.c\n",
            "In file included from \u001b[01m\u001b[K/usr/include/string.h:535\u001b[m\u001b[K,\n",
            "                 from \u001b[01m\u001b[Kcram/cram_io.c:53\u001b[m\u001b[K:\n",
            "In function ‘\u001b[01m\u001b[Kstrncpy\u001b[m\u001b[K’,\n",
            "    inlined from ‘\u001b[01m\u001b[Kcram_populate_ref\u001b[m\u001b[K’ at \u001b[01m\u001b[Kcram/cram_io.c:2067:2\u001b[m\u001b[K:\n",
            "\u001b[01m\u001b[K/usr/include/x86_64-linux-gnu/bits/string_fortified.h:95:10:\u001b[m\u001b[K \u001b[01;35m\u001b[Kwarning: \u001b[m\u001b[K‘\u001b[01m\u001b[K__builtin_strncpy\u001b[m\u001b[K’ specified bound 4096 equals destination size [\u001b[01;35m\u001b[K\u001b]8;;https://gcc.gnu.org/onlinedocs/gcc/Warning-Options.html#index-Wstringop-truncation\u0007-Wstringop-truncation\u001b]8;;\u0007\u001b[m\u001b[K]\n",
            "   95 |   return \u001b[01;35m\u001b[K__builtin___strncpy_chk (__dest, __src, __len,\u001b[m\u001b[K\n",
            "      |          \u001b[01;35m\u001b[K^~~~~~~~~~~~~~~~~~~~~~~~~~~~~~~~~~~~~~~~~~~~~~\u001b[m\u001b[K\n",
            "   96 | \u001b[01;35m\u001b[K                                  __glibc_objsize (__dest))\u001b[m\u001b[K;\n",
            "      |                                   \u001b[01;35m\u001b[K~~~~~~~~~~~~~~~~~~~~~~~~~\u001b[m\u001b[K\n",
            "\u001b[01m\u001b[Kcram/cram_io.c:\u001b[m\u001b[K In function ‘\u001b[01m\u001b[Kcram_populate_ref\u001b[m\u001b[K’:\n",
            "\u001b[01m\u001b[Kcram/cram_io.c:2174:34:\u001b[m\u001b[K \u001b[01;35m\u001b[Kwarning: \u001b[m\u001b[K‘\u001b[01m\u001b[K.tmp_\u001b[m\u001b[K’ directive writing 5 bytes into a region of size between 1 and 4096 [\u001b[01;35m\u001b[K\u001b]8;;https://gcc.gnu.org/onlinedocs/gcc/Warning-Options.html#index-Wformat-overflow=\u0007-Wformat-overflow=\u001b]8;;\u0007\u001b[m\u001b[K]\n",
            " 2174 |             sprintf(path_tmp, \"%s\u001b[01;35m\u001b[K.tmp_\u001b[m\u001b[K%d_%u_%u\", path, pid, thrid, t);\n",
            "      |                                  \u001b[01;35m\u001b[K^~~~~\u001b[m\u001b[K\n",
            "In file included from \u001b[01m\u001b[K/usr/include/stdio.h:894\u001b[m\u001b[K,\n",
            "                 from \u001b[01m\u001b[Kcram/cram_io.c:49\u001b[m\u001b[K:\n",
            "\u001b[01m\u001b[K/usr/include/x86_64-linux-gnu/bits/stdio2.h:38:10:\u001b[m\u001b[K \u001b[01;36m\u001b[Knote: \u001b[m\u001b[K‘\u001b[01m\u001b[K__builtin___sprintf_chk\u001b[m\u001b[K’ output between 11 and 4134 bytes into a destination of size 4096\n",
            "   38 |   return \u001b[01;36m\u001b[K__builtin___sprintf_chk (__s, __USE_FORTIFY_LEVEL - 1,\u001b[m\u001b[K\n",
            "      |          \u001b[01;36m\u001b[K^~~~~~~~~~~~~~~~~~~~~~~~~~~~~~~~~~~~~~~~~~~~~~~~~~~~~~\u001b[m\u001b[K\n",
            "   39 | \u001b[01;36m\u001b[K                                  __glibc_objsize (__s), __fmt,\u001b[m\u001b[K\n",
            "      |                                   \u001b[01;36m\u001b[K~~~~~~~~~~~~~~~~~~~~~~~~~~~~~\u001b[m\u001b[K\n",
            "   40 | \u001b[01;36m\u001b[K                                  __va_arg_pack ())\u001b[m\u001b[K;\n",
            "      |                                   \u001b[01;36m\u001b[K~~~~~~~~~~~~~~~~~\u001b[m\u001b[K\n",
            "In file included from \u001b[01m\u001b[K/usr/include/string.h:535\u001b[m\u001b[K,\n",
            "                 from \u001b[01m\u001b[Kcram/cram_io.c:53\u001b[m\u001b[K:\n",
            "In function ‘\u001b[01m\u001b[Kstrncpy\u001b[m\u001b[K’,\n",
            "    inlined from ‘\u001b[01m\u001b[Kfull_path\u001b[m\u001b[K’ at \u001b[01m\u001b[Kcram/cram_io.c:3673:6\u001b[m\u001b[K,\n",
            "    inlined from ‘\u001b[01m\u001b[Kcram_write_SAM_hdr\u001b[m\u001b[K’ at \u001b[01m\u001b[Kcram/cram_io.c:3748:3\u001b[m\u001b[K:\n",
            "\u001b[01m\u001b[K/usr/include/x86_64-linux-gnu/bits/string_fortified.h:95:10:\u001b[m\u001b[K \u001b[01;35m\u001b[Kwarning: \u001b[m\u001b[K‘\u001b[01m\u001b[K__builtin_strncpy\u001b[m\u001b[K’ specified bound 4096 equals destination size [\u001b[01;35m\u001b[K\u001b]8;;https://gcc.gnu.org/onlinedocs/gcc/Warning-Options.html#index-Wstringop-truncation\u0007-Wstringop-truncation\u001b]8;;\u0007\u001b[m\u001b[K]\n",
            "   95 |   return \u001b[01;35m\u001b[K__builtin___strncpy_chk (__dest, __src, __len,\u001b[m\u001b[K\n",
            "      |          \u001b[01;35m\u001b[K^~~~~~~~~~~~~~~~~~~~~~~~~~~~~~~~~~~~~~~~~~~~~~\u001b[m\u001b[K\n",
            "   96 | \u001b[01;35m\u001b[K                                  __glibc_objsize (__dest))\u001b[m\u001b[K;\n",
            "      |                                   \u001b[01;35m\u001b[K~~~~~~~~~~~~~~~~~~~~~~~~~\u001b[m\u001b[K\n",
            "In function ‘\u001b[01m\u001b[Kstrncpy\u001b[m\u001b[K’,\n",
            "    inlined from ‘\u001b[01m\u001b[Kcram_dopen\u001b[m\u001b[K’ at \u001b[01m\u001b[Kcram/cram_io.c:4051:2\u001b[m\u001b[K:\n",
            "\u001b[01m\u001b[K/usr/include/x86_64-linux-gnu/bits/string_fortified.h:95:10:\u001b[m\u001b[K \u001b[01;35m\u001b[Kwarning: \u001b[m\u001b[K‘\u001b[01m\u001b[K__builtin_strncpy\u001b[m\u001b[K’ specified bound 20 equals destination size [\u001b[01;35m\u001b[K\u001b]8;;https://gcc.gnu.org/onlinedocs/gcc/Warning-Options.html#index-Wstringop-truncation\u0007-Wstringop-truncation\u001b]8;;\u0007\u001b[m\u001b[K]\n",
            "   95 |   return \u001b[01;35m\u001b[K__builtin___strncpy_chk (__dest, __src, __len,\u001b[m\u001b[K\n",
            "      |          \u001b[01;35m\u001b[K^~~~~~~~~~~~~~~~~~~~~~~~~~~~~~~~~~~~~~~~~~~~~~\u001b[m\u001b[K\n",
            "   96 | \u001b[01;35m\u001b[K                                  __glibc_objsize (__dest))\u001b[m\u001b[K;\n",
            "      |                                   \u001b[01;35m\u001b[K~~~~~~~~~~~~~~~~~~~~~~~~~\u001b[m\u001b[K\n",
            "gcc -g -Wall -O2 -I.  -c -o cram/cram_samtools.o cram/cram_samtools.c\n",
            "gcc -g -Wall -O2 -I.  -c -o cram/cram_stats.o cram/cram_stats.c\n",
            "gcc -g -Wall -O2 -I.  -c -o cram/files.o cram/files.c\n",
            "gcc -g -Wall -O2 -I.  -c -o cram/mFILE.o cram/mFILE.c\n",
            "gcc -g -Wall -O2 -I.  -c -o cram/open_trace_file.o cram/open_trace_file.c\n",
            "gcc -g -Wall -O2 -I.  -c -o cram/pooled_alloc.o cram/pooled_alloc.c\n",
            "gcc -g -Wall -O2 -I.  -c -o cram/rANS_static.o cram/rANS_static.c\n"
          ]
        }
      ]
    },
    {
      "cell_type": "code",
      "execution_count": null,
      "id": "26dc702e-7135-4606-8cac-ec6e47eed6af",
      "metadata": {
        "id": "26dc702e-7135-4606-8cac-ec6e47eed6af"
      },
      "outputs": [],
      "source": [
        "!$samtools view \\\n",
        "    -bS -F4 $outfolder/kraken/SRR12698503_EBOV_aligned.sam \\\n",
        "    > $outfolder/kraken/SRR12698503_EBOV_aligned.bam"
      ]
    },
    {
      "cell_type": "code",
      "execution_count": null,
      "id": "68aa1313-6d8b-418a-b546-87f721de84f5",
      "metadata": {
        "id": "68aa1313-6d8b-418a-b546-87f721de84f5"
      },
      "outputs": [],
      "source": [
        "!$samtools sort \\\n",
        "    $outfolder/kraken/SRR12698503_EBOV_aligned.bam \\\n",
        "    -o $outfolder/kraken/SRR12698503_EBOV_sorted.bam"
      ]
    },
    {
      "cell_type": "code",
      "execution_count": null,
      "id": "0f899f92-6901-4023-b088-5f18139b9a8c",
      "metadata": {
        "id": "0f899f92-6901-4023-b088-5f18139b9a8c"
      },
      "outputs": [],
      "source": [
        "!$samtools index \\\n",
        "    $outfolder/kraken/SRR12698503_EBOV_sorted.bam"
      ]
    },
    {
      "cell_type": "code",
      "execution_count": null,
      "id": "605403b3-49a1-4bbb-a11d-8cef48c64412",
      "metadata": {
        "id": "605403b3-49a1-4bbb-a11d-8cef48c64412"
      },
      "outputs": [],
      "source": []
    }
  ],
  "metadata": {
    "kernelspec": {
      "display_name": "Python 3 (ipykernel)",
      "language": "python",
      "name": "python3"
    },
    "language_info": {
      "codemirror_mode": {
        "name": "ipython",
        "version": 3
      },
      "file_extension": ".py",
      "mimetype": "text/x-python",
      "name": "python",
      "nbconvert_exporter": "python",
      "pygments_lexer": "ipython3",
      "version": "3.9.12"
    },
    "colab": {
      "provenance": [],
      "include_colab_link": true
    }
  },
  "nbformat": 4,
  "nbformat_minor": 5
}