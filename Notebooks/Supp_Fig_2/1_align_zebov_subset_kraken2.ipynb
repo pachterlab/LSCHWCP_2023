{
  "cells": [
    {
      "cell_type": "markdown",
      "metadata": {
        "id": "view-in-github",
        "colab_type": "text"
      },
      "source": [
        "<a href=\"https://colab.research.google.com/github/pachterlab/LSCHWCP_2023/blob/main/Notebooks/Supp_Fig_2/1_align_zebov_subset_kraken2.ipynb\" target=\"_parent\"><img src=\"https://colab.research.google.com/assets/colab-badge.svg\" alt=\"Open In Colab\"/></a>"
      ]
    },
    {
      "cell_type": "code",
      "source": [
        "# Install Kraken2 v1.0.2 (defining version for reproducibility)\n",
        "! git clone https://github.com/DerrickWood/kraken2.git --branch v2.1.2\n",
        "!cd kraken2 && ./install_kraken2.sh ./\n",
        "\n",
        "kraken2 = \"/content/kraken2/kraken2\"\n",
        "kraken2_build = \"/content/kraken2/kraken2-build\""
      ],
      "metadata": {
        "id": "fscRgqHSLfn5"
      },
      "id": "fscRgqHSLfn5",
      "execution_count": null,
      "outputs": []
    },
    {
      "cell_type": "code",
      "source": [
        "# Number of threads used for alignment\n",
        "threads = 2"
      ],
      "metadata": {
        "id": "Xy_bcC6-MIxZ"
      },
      "id": "Xy_bcC6-MIxZ",
      "execution_count": null,
      "outputs": []
    },
    {
      "cell_type": "markdown",
      "id": "df4c105b-0f8c-4e11-8fb7-236ed7437a87",
      "metadata": {
        "id": "df4c105b-0f8c-4e11-8fb7-236ed7437a87"
      },
      "source": [
        "### Download raw sequencing file and subset to first 100,000,000 reads\n"
      ]
    },
    {
      "cell_type": "code",
      "source": [
        "!pip install -q ffq\n",
        "import json\n",
        "\n",
        "out = \"data.json\"\n",
        "!ffq SRR12698539 --ftp -o $out\n",
        "\n",
        "f = open(out)\n",
        "data = json.load(f)\n",
        "f.close()\n",
        "\n",
        "print(len(data))\n",
        "\n",
        "for dataset in data:\n",
        "    url = dataset[\"url\"]\n",
        "    !curl -O $url"
      ],
      "metadata": {
        "id": "C70m4KXlJDe5"
      },
      "id": "C70m4KXlJDe5",
      "execution_count": null,
      "outputs": []
    },
    {
      "cell_type": "code",
      "source": [
        "fastq = \"SRR12698539_2.fastq.gz\"\n",
        "test_fastq_gz = \"SRR12698539_2_short.fastq.gz\"\n",
        "test_fastq = \"SRR12698539_2_short.fastq\"\n",
        "\n",
        "# Create new file keeping only first X reads\n",
        "!zcat $fastq | head -400000000 > $test_fastq_gz\n",
        "\n",
        "# Unzip file for use with Kraken2\n",
        "!gunzip $test_fastq_gz"
      ],
      "metadata": {
        "id": "JTqbjUykKceQ"
      },
      "id": "JTqbjUykKceQ",
      "execution_count": null,
      "outputs": []
    },
    {
      "cell_type": "markdown",
      "id": "75f78f01-2b1e-4f8d-a625-20de5f1e061b",
      "metadata": {
        "id": "75f78f01-2b1e-4f8d-a625-20de5f1e061b"
      },
      "source": [
        "### Run Kraken2"
      ]
    },
    {
      "cell_type": "markdown",
      "source": [
        "Build Kraken2 viral index + add ZEBOV to standard viral reference (otherwise ZEBOV will not be detected). Zaire ebolavirus (ZEBOV) genome ViralProj14703 (linked to NC_002549.1) downloaded from https://www.ncbi.nlm.nih.gov/data-hub/genome/?taxon=186538."
      ],
      "metadata": {
        "id": "BMQgp8SYLnGu"
      },
      "id": "BMQgp8SYLnGu"
    },
    {
      "cell_type": "code",
      "source": [
        "krakendb = \"kraken2-2.1.2/krakendb\""
      ],
      "metadata": {
        "id": "L4fbLttEL6Wq"
      },
      "id": "L4fbLttEL6Wq",
      "execution_count": null,
      "outputs": []
    },
    {
      "cell_type": "code",
      "source": [
        "# Download ZEBOV genome\n",
        "!wget https://raw.githubusercontent.com/pachterlab/LSCHWCP_2023/main/Notebooks/Supp_Fig_2/GCA_000848505.1_ViralProj14703_genomic.fna"
      ],
      "metadata": {
        "id": "_3D4nNiXMMlX"
      },
      "id": "_3D4nNiXMMlX",
      "execution_count": null,
      "outputs": []
    },
    {
      "cell_type": "code",
      "source": [
        "!$kraken2_build --db $krakendb --download-taxonomy\n",
        "\n",
        "# Apply fix (https://github.com/DerrickWood/kraken2/issues/292#issuecomment-1206837801) first so the following line works\n",
        "!$kraken2_build --db $krakendb --download-library viral\n",
        "\n",
        "# Add ZEBOV genome\n",
        "!$kraken2_build --db $krakendb --add-to-library GCA_000848505.1_ViralProj14703_genomic.fna\n",
        "\n",
        "!$kraken2_build --db $krakendb --build --threads $threads"
      ],
      "metadata": {
        "id": "auyG-LM7LnNb"
      },
      "id": "auyG-LM7LnNb",
      "execution_count": null,
      "outputs": []
    },
    {
      "cell_type": "markdown",
      "source": [
        "Align sequencing reads to custom Kraken2 reference index:"
      ],
      "metadata": {
        "id": "MYqVI1oFMwXR"
      },
      "id": "MYqVI1oFMwXR"
    },
    {
      "cell_type": "code",
      "source": [
        "outfolder = \"zebov_subset_alignment\""
      ],
      "metadata": {
        "id": "poRBHODuJezV"
      },
      "id": "poRBHODuJezV",
      "execution_count": null,
      "outputs": []
    },
    {
      "cell_type": "code",
      "execution_count": null,
      "id": "c4ddfee6-4c59-4975-b220-e33021a82c6e",
      "metadata": {
        "id": "c4ddfee6-4c59-4975-b220-e33021a82c6e"
      },
      "outputs": [],
      "source": [
        "!$kraken2 \\\n",
        "    --db $krakendb \\\n",
        "    --threads $threads \\\n",
        "    --minimum-hit-groups 3 \\\n",
        "    --report-minimizer-data \\\n",
        "    --report $outfolder/kraken/SRR12698503.k2report \\\n",
        "    $test_fastq > $outfolder/kraken/SRR12698503.kraken2"
      ]
    },
    {
      "cell_type": "markdown",
      "id": "904c5404-7138-4c97-9ecb-ea36abb1fff0",
      "metadata": {
        "id": "904c5404-7138-4c97-9ecb-ea36abb1fff0"
      },
      "source": [
        "### Extract Kraken reads\n",
        "The extract_kraken_reads.py script (from the KrakenTools GitHub repo) extracts reads that matched a particular species, identified by the taxonomy ID that is provided with the -t parameter:"
      ]
    },
    {
      "cell_type": "code",
      "execution_count": null,
      "id": "1a56965b-ead9-4e31-a136-410c49bfa1e4",
      "metadata": {
        "id": "1a56965b-ead9-4e31-a136-410c49bfa1e4"
      },
      "outputs": [],
      "source": [
        "# Define ZEBOV taxonomy ID\n",
        "ebov_tid = 186538"
      ]
    },
    {
      "cell_type": "code",
      "execution_count": null,
      "id": "0d1584b9-94b2-4754-b982-78586eca1159",
      "metadata": {
        "id": "0d1584b9-94b2-4754-b982-78586eca1159"
      },
      "outputs": [],
      "source": [
        "# Download script\n",
        "!curl -O https://raw.githubusercontent.com/jenniferlu717/KrakenTools/master/extract_kraken_reads.py\n",
        "\n",
        "!/usr/bin/time -v \\\n",
        "    python extract_kraken_reads.py \\\n",
        "    -k $outfolder/kraken/SRR12698503.kraken2 \\\n",
        "    --include-children \\\n",
        "    -s $test_fastq \\\n",
        "    -t $ebov_tid \\\n",
        "    -r $outfolder/kraken/SRR12698503.k2report \\\n",
        "    -o $outfolder/kraken/SRR12698503_EBOV.tid10298.1.fa"
      ]
    },
    {
      "cell_type": "markdown",
      "id": "2bb34dd6-74da-4e4e-84e1-87ea4a0ebdd3",
      "metadata": {
        "id": "2bb34dd6-74da-4e4e-84e1-87ea4a0ebdd3"
      },
      "source": [
        "### Align extracted reads to the ZEBOV genome using Bowtie2"
      ]
    },
    {
      "cell_type": "code",
      "source": [
        "# Install bowtie2\n",
        "!wget https://sourceforge.net/projects/bowtie-bio/files/bowtie2/2.2.5/bowtie2-2.2.5-linux-x86_64.zip/download\n",
        "!unzip bowtie2-2.2.5-linux-x86_64.zip\n",
        "bowtie2-build = \"bowtie2-2.2.5-linux-x86_64/bowtie2-build\"\n",
        "bowtie2 = \"bowtie2-2.2.5-linux-x86_64/bowtie2\""
      ],
      "metadata": {
        "id": "qA4XIWolOyzX"
      },
      "id": "qA4XIWolOyzX",
      "execution_count": null,
      "outputs": []
    },
    {
      "cell_type": "markdown",
      "id": "2a134f94-97b2-4f4c-b0a0-97998c6f2daa",
      "metadata": {
        "id": "2a134f94-97b2-4f4c-b0a0-97998c6f2daa"
      },
      "source": [
        "Generate Bowtie2 genome index:"
      ]
    },
    {
      "cell_type": "code",
      "execution_count": null,
      "id": "e31d9378-38e4-43b4-a837-5716c5e5fd37",
      "metadata": {
        "id": "e31d9378-38e4-43b4-a837-5716c5e5fd37"
      },
      "outputs": [],
      "source": [
        "b_index = \"b_index\""
      ]
    },
    {
      "cell_type": "code",
      "execution_count": null,
      "id": "90b5162a-4f2d-4712-a2e1-3f0c319c5717",
      "metadata": {
        "id": "90b5162a-4f2d-4712-a2e1-3f0c319c5717"
      },
      "outputs": [],
      "source": [
        "!$bowtie2-build \\\n",
        "    GCA_000848505.1_ViralProj14703_genomic.fna \\\n",
        "    $b_index/ebov"
      ]
    },
    {
      "cell_type": "markdown",
      "id": "cafbdffe-7012-41fb-8237-b74f8271c55c",
      "metadata": {
        "id": "cafbdffe-7012-41fb-8237-b74f8271c55c"
      },
      "source": [
        "Align extracted reads to ZEBOV genome:"
      ]
    },
    {
      "cell_type": "code",
      "execution_count": null,
      "id": "0c5a688f-6ba4-4a51-a40d-62be93ecf057",
      "metadata": {
        "id": "0c5a688f-6ba4-4a51-a40d-62be93ecf057"
      },
      "outputs": [],
      "source": [
        "!$bowtie2 \\\n",
        "    -x $b_index/ebov \\\n",
        "    -f -p $threads \\\n",
        "    -U $outfolder/kraken/SRR12698503_EBOV.tid10298.1.fa \\\n",
        "    -S $outfolder/kraken/SRR12698503_EBOV_aligned.sam"
      ]
    },
    {
      "cell_type": "markdown",
      "id": "653ac973-8f78-460d-9333-97c6d1e5749c",
      "metadata": {
        "id": "653ac973-8f78-460d-9333-97c6d1e5749c"
      },
      "source": [
        "### Use SAMtools to convert the SAM files to sorted BAM files"
      ]
    },
    {
      "cell_type": "code",
      "source": [
        "# Install SAMtools\n",
        "!wget https://github.com/samtools/samtools/releases/download/1.6/samtools-1.6.tar.bz2\n",
        "!tar -vxjf samtools-1.6.tar.bz2\n",
        "!cd samtools-1.6; make\n",
        "samtools = \"samtools-1.6/samtools\""
      ],
      "metadata": {
        "id": "7zIySjqRPPKE"
      },
      "id": "7zIySjqRPPKE",
      "execution_count": null,
      "outputs": []
    },
    {
      "cell_type": "code",
      "execution_count": null,
      "id": "26dc702e-7135-4606-8cac-ec6e47eed6af",
      "metadata": {
        "id": "26dc702e-7135-4606-8cac-ec6e47eed6af"
      },
      "outputs": [],
      "source": [
        "!$samtools view \\\n",
        "    -bS -F4 $outfolder/kraken/SRR12698503_EBOV_aligned.sam \\\n",
        "    > $outfolder/kraken/SRR12698503_EBOV_aligned.bam"
      ]
    },
    {
      "cell_type": "code",
      "execution_count": null,
      "id": "68aa1313-6d8b-418a-b546-87f721de84f5",
      "metadata": {
        "id": "68aa1313-6d8b-418a-b546-87f721de84f5"
      },
      "outputs": [],
      "source": [
        "!$samtools sort \\\n",
        "    $outfolder/kraken/SRR12698503_EBOV_aligned.bam \\\n",
        "    -o $outfolder/kraken/SRR12698503_EBOV_sorted.bam"
      ]
    },
    {
      "cell_type": "code",
      "execution_count": null,
      "id": "0f899f92-6901-4023-b088-5f18139b9a8c",
      "metadata": {
        "id": "0f899f92-6901-4023-b088-5f18139b9a8c"
      },
      "outputs": [],
      "source": [
        "!$samtools index \\\n",
        "    $outfolder/kraken/SRR12698503_EBOV_sorted.bam"
      ]
    },
    {
      "cell_type": "code",
      "execution_count": null,
      "id": "605403b3-49a1-4bbb-a11d-8cef48c64412",
      "metadata": {
        "id": "605403b3-49a1-4bbb-a11d-8cef48c64412"
      },
      "outputs": [],
      "source": []
    }
  ],
  "metadata": {
    "kernelspec": {
      "display_name": "Python 3 (ipykernel)",
      "language": "python",
      "name": "python3"
    },
    "language_info": {
      "codemirror_mode": {
        "name": "ipython",
        "version": 3
      },
      "file_extension": ".py",
      "mimetype": "text/x-python",
      "name": "python",
      "nbconvert_exporter": "python",
      "pygments_lexer": "ipython3",
      "version": "3.9.12"
    },
    "colab": {
      "provenance": [],
      "include_colab_link": true
    }
  },
  "nbformat": 4,
  "nbformat_minor": 5
}