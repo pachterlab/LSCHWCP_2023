{
 "cells": [
  {
   "cell_type": "code",
   "execution_count": 1,
   "id": "b54c3c13-947f-4b9a-b177-a3b00cd8f327",
   "metadata": {},
   "outputs": [],
   "source": [
    "fastq = \"/home/laura/projects/virus-watch-data/PRJNA665227/raw/SRR12698503_2.fastq.gz\"\n",
    "test_fastq = \"/home/laura/projects/virus-watch-data/benchmarking/ebola_benchmark/raw_short/SRR12698503_2.fastq\"\n",
    "\n",
    "outfolder = \"/home/laura/projects/virus-watch-data/benchmarking/ebola_benchmark\"\n",
    "\n",
    "kallisto = \"/home/laura/projects/kallisto/build/src/kallisto\"\n",
    "bustools = \"/home/laura/projects/bustools/build/src/bustools\""
   ]
  },
  {
   "cell_type": "markdown",
   "id": "9d715635-c132-44ff-be02-e144c2005aa2",
   "metadata": {},
   "source": [
    "### Align test file with kb virus workflow"
   ]
  },
  {
   "cell_type": "code",
   "execution_count": 2,
   "id": "5ecf7496-18ad-44c9-aa40-ee75aaf5262b",
   "metadata": {},
   "outputs": [],
   "source": [
    "virus_fasta = \"/home/laura/projects/virus-watch-data/virus_ref/uniques_noduplicates.fa\"\n",
    "virus_t2g = \"/home/laura/projects/virus-watch-data/virus_ref/uniques_noduplicates_t2g.txt\"\n",
    "virus_index = \"/home/laura/projects/virus-watch-data/virus_ref/kallisto_aa/noduplicates_rhesus.idx\"\n",
    "host_fasta = \"/home/laura/projects/virus-watch-data/rhesus_ref/Macaca_mulatta.Mmul_10.dna.toplevel.fa.gz\""
   ]
  },
  {
   "cell_type": "code",
   "execution_count": 3,
   "id": "9be603b3-d3c4-4c71-89cf-15575c3ca793",
   "metadata": {},
   "outputs": [],
   "source": [
    "# # Generate virus reference index\n",
    "# !/usr/bin/time -v kallisto index \\\n",
    "#     -t 60 \\\n",
    "#     --aa \\\n",
    "#     --d-list=$host_fasta \\\n",
    "#     -i $virus_index \\\n",
    "#     $virus_fasta"
   ]
  },
  {
   "cell_type": "code",
   "execution_count": 4,
   "id": "a53f4083-8732-4939-aa5d-5d56b4356c62",
   "metadata": {},
   "outputs": [],
   "source": [
    "# !/usr/bin/time -v kb count \\\n",
    "#     --overwrite \\\n",
    "#     --aa \\\n",
    "#     -t 32 \\\n",
    "#     -i $virus_index \\\n",
    "#     -g $virus_t2g \\\n",
    "#     --parity single \\\n",
    "#     -x default \\\n",
    "#     --h5ad \\\n",
    "#     --kallisto \"/home/laura/bin/kallisto\" \\\n",
    "#     --bustools \"/home/laura/anaconda3/bin/bustools\" \\\n",
    "#     -o test \\\n",
    "#     $test_fastq"
   ]
  },
  {
   "cell_type": "markdown",
   "id": "28f50646-2842-46ef-8e7d-87ce0464c060",
   "metadata": {},
   "source": [
    "Same but using kallisto workflow (obtained identical results to kb):"
   ]
  },
  {
   "cell_type": "code",
   "execution_count": 53,
   "id": "355f9d23-c3e4-463c-94da-0d768b25271e",
   "metadata": {},
   "outputs": [
    {
     "name": "stdout",
     "output_type": "stream",
     "text": [
      "\n",
      "[index] k-mer length: 31\n",
      "[index] number of targets: 296,623\n",
      "[index] number of k-mers: 37,541,842\n",
      "[index] number of distinguishing flanking k-mers: 138\n",
      "[quant] running in single-end mode\n",
      "[quant] will process file 1: /home/laura/projects/virus-watch-data/benchmarking/ebola_benchmark/raw_short/SRR12698503_2.fastq\n",
      "[progress] 99M reads processed (0.4% mapped)             0.4% mapped)              done\n",
      "[quant] processed 100,000,000 reads, 407,865 reads pseudoaligned\n",
      "\n",
      "\tCommand being timed: \"/home/laura/projects/kallisto/build/src/kallisto bus -i /home/laura/projects/virus-watch-data/virus_ref/kallisto_aa/uniques_rhesus.idx -o /home/laura/projects/virus-watch-data/benchmarking/ebola_benchmark/kallisto --aa -n -x bulk -t 32 /home/laura/projects/virus-watch-data/benchmarking/ebola_benchmark/raw_short/SRR12698503_2.fastq\"\n",
      "\tUser time (seconds): 10772.06\n",
      "\tSystem time (seconds): 18.15\n",
      "\tPercent of CPU this job got: 3087%\n",
      "\tElapsed (wall clock) time (h:mm:ss or m:ss): 5:49.43\n",
      "\tAverage shared text size (kbytes): 0\n",
      "\tAverage unshared data size (kbytes): 0\n",
      "\tAverage stack size (kbytes): 0\n",
      "\tAverage total size (kbytes): 0\n",
      "\tMaximum resident set size (kbytes): 1473540\n",
      "\tAverage resident set size (kbytes): 0\n",
      "\tMajor (requiring I/O) page faults: 0\n",
      "\tMinor (reclaiming a frame) page faults: 4858506\n",
      "\tVoluntary context switches: 239953\n",
      "\tInvoluntary context switches: 11439\n",
      "\tSwaps: 0\n",
      "\tFile system inputs: 0\n",
      "\tFile system outputs: 40936\n",
      "\tSocket messages sent: 0\n",
      "\tSocket messages received: 0\n",
      "\tSignals delivered: 0\n",
      "\tPage size (bytes): 4096\n",
      "\tExit status: 0\n",
      " all fits in buffer\n",
      "Read in 407865 BUS records\n",
      "reading time 0.01s\n",
      "sorting time 0.04s\n",
      "writing time 0.03s\n"
     ]
    }
   ],
   "source": [
    "!/usr/bin/time -v $kallisto bus \\\n",
    "        -i $virus_index \\\n",
    "        -o $outfolder/kallisto \\\n",
    "        --aa \\\n",
    "        -n \\\n",
    "        -x bulk \\\n",
    "        -t 32 \\\n",
    "        $test_fastq\n",
    "\n",
    "!$bustools sort --flags -o $outfolder/kallisto/output_sorted.bus $outfolder/kallisto/output.bus\n",
    "\n",
    "!$bustools count \\\n",
    "    --genecounts \\\n",
    "    --cm -m \\\n",
    "    -o $outfolder/kallisto/bustools_count/ \\\n",
    "    -g $virus_t2g \\\n",
    "    -e $outfolder/kallisto/matrix.ec \\\n",
    "    -t $outfolder/kallisto/transcripts.txt \\\n",
    "    $outfolder/kallisto/output_sorted.bus"
   ]
  },
  {
   "cell_type": "markdown",
   "id": "f7ca3834-d316-4fa5-a45a-7b85995a779b",
   "metadata": {},
   "source": [
    "Convert bus file to txt file to get indeces of aligned reads:"
   ]
  },
  {
   "cell_type": "code",
   "execution_count": 14,
   "id": "ea673246-5b3d-4b87-9b16-886b8a5b8d12",
   "metadata": {},
   "outputs": [
    {
     "name": "stdout",
     "output_type": "stream",
     "text": [
      "Read in 407865 BUS records\n"
     ]
    }
   ],
   "source": [
    "# To use this, add --flags to bustools sort\n",
    "!bustools text \\\n",
    "    -f \\\n",
    "    -o $outfolder/kallisto/output_sorted.bus.txt \\\n",
    "    $outfolder/kallisto/output_sorted.bus"
   ]
  },
  {
   "cell_type": "markdown",
   "id": "342f4f45-e5cb-4644-8ab9-af860eb8a756",
   "metadata": {},
   "source": [
    "### Get number of sequences that aligned to EBOV "
   ]
  },
  {
   "cell_type": "code",
   "execution_count": 61,
   "id": "bc7bc6cd-187f-4128-b8f7-8448916d52ec",
   "metadata": {},
   "outputs": [],
   "source": [
    "u_tax_tsv = \"/home/laura/projects/virus-watch-data/virus_ref/u_tax.tsv\""
   ]
  },
  {
   "cell_type": "code",
   "execution_count": 62,
   "id": "73c53365-5d7e-4c92-8591-6f94c6c344f9",
   "metadata": {},
   "outputs": [],
   "source": [
    "import anndata\n",
    "import pandas as pd"
   ]
  },
  {
   "cell_type": "code",
   "execution_count": 63,
   "id": "2673f39d-ec42-46a1-aba0-ee0a6dea5848",
   "metadata": {},
   "outputs": [],
   "source": [
    "# adata = anndata.read(f\"{outfolder}/kb/counts_unfiltered/adata.h5ad\")\n",
    "# adata"
   ]
  },
  {
   "cell_type": "code",
   "execution_count": 64,
   "id": "93acfc7d-e561-4ef2-a58e-377aec8fa692",
   "metadata": {},
   "outputs": [
    {
     "name": "stderr",
     "output_type": "stream",
     "text": [
      "/home/laura/anaconda3/lib/python3.9/site-packages/kb_python/utils.py:670: FutureWarning: X.dtype being converted to np.float32 from float64. In the next version of anndata (0.9) conversion will not be automatic. Pass dtype explicitly to avoid this warning. Pass `AnnData(X, dtype=X.dtype, ...)` to get the future behavour.\n",
      "  anndata.AnnData(X=mtx.tocsr(), obs=df_barcodes, var=df_genes)\n"
     ]
    },
    {
     "data": {
      "text/plain": [
       "AnnData object with n_obs × n_vars = 1 × 296561"
      ]
     },
     "execution_count": 64,
     "metadata": {},
     "output_type": "execute_result"
    }
   ],
   "source": [
    "import kb_python.utils as kb_utils\n",
    "# Filepath to counts\n",
    "X = f\"{outfolder}/kallisto/bustools_count/output.mtx\"\n",
    "# Filepath to barcode metadata\n",
    "var_path = f\"{outfolder}/kallisto/bustools_count/output.genes.txt\"\n",
    "# Filepath to gene metadata\n",
    "obs_path = f\"{outfolder}/kallisto/bustools_count/output.barcodes.txt\" \n",
    "\n",
    "# Create AnnData object\n",
    "adata = kb_utils.import_matrix_as_anndata(X, obs_path, var_path)\n",
    "adata"
   ]
  },
  {
   "cell_type": "code",
   "execution_count": 65,
   "id": "b4bf1e41-a594-4b76-ba7c-2208961dc2eb",
   "metadata": {},
   "outputs": [
    {
     "data": {
      "text/plain": [
       "76061.0"
      ]
     },
     "execution_count": 65,
     "metadata": {},
     "output_type": "execute_result"
    }
   ],
   "source": [
    "adata.X.sum()"
   ]
  },
  {
   "cell_type": "code",
   "execution_count": 66,
   "id": "5374c6db-55f0-49fd-97bc-7fa3cb62d04e",
   "metadata": {},
   "outputs": [
    {
     "data": {
      "text/html": [
       "<div>\n",
       "<style scoped>\n",
       "    .dataframe tbody tr th:only-of-type {\n",
       "        vertical-align: middle;\n",
       "    }\n",
       "\n",
       "    .dataframe tbody tr th {\n",
       "        vertical-align: top;\n",
       "    }\n",
       "\n",
       "    .dataframe thead th {\n",
       "        text-align: right;\n",
       "    }\n",
       "</style>\n",
       "<table border=\"1\" class=\"dataframe\">\n",
       "  <thead>\n",
       "    <tr style=\"text-align: right;\">\n",
       "      <th></th>\n",
       "      <th>Label</th>\n",
       "      <th>phylum</th>\n",
       "      <th>class</th>\n",
       "      <th>order</th>\n",
       "      <th>family</th>\n",
       "      <th>genus</th>\n",
       "      <th>species</th>\n",
       "    </tr>\n",
       "  </thead>\n",
       "  <tbody>\n",
       "    <tr>\n",
       "      <th>0</th>\n",
       "      <td>u9</td>\n",
       "      <td>Kitrinoviricota</td>\n",
       "      <td>Flasuviricetes</td>\n",
       "      <td>Amarillovirales</td>\n",
       "      <td>Flaviviridae</td>\n",
       "      <td>Flavivirus</td>\n",
       "      <td>West Nile virus</td>\n",
       "    </tr>\n",
       "    <tr>\n",
       "      <th>1</th>\n",
       "      <td>u10</td>\n",
       "      <td>Negarnaviricota</td>\n",
       "      <td>Monjiviricetes</td>\n",
       "      <td>Mononegavirales</td>\n",
       "      <td>Filoviridae</td>\n",
       "      <td>Ebolavirus</td>\n",
       "      <td>Zaire ebolavirus</td>\n",
       "    </tr>\n",
       "    <tr>\n",
       "      <th>2</th>\n",
       "      <td>u6</td>\n",
       "      <td>Negarnaviricota</td>\n",
       "      <td>Insthoviricetes</td>\n",
       "      <td>Articulavirales</td>\n",
       "      <td>Orthomyxoviridae</td>\n",
       "      <td>Betainfluenzavirus</td>\n",
       "      <td>Influenza B virus</td>\n",
       "    </tr>\n",
       "    <tr>\n",
       "      <th>3</th>\n",
       "      <td>u13</td>\n",
       "      <td>Negarnaviricota</td>\n",
       "      <td>Monjiviricetes</td>\n",
       "      <td>Mononegavirales</td>\n",
       "      <td>Rhabdoviridae</td>\n",
       "      <td>Lyssavirus</td>\n",
       "      <td>Rabies lyssavirus</td>\n",
       "    </tr>\n",
       "    <tr>\n",
       "      <th>4</th>\n",
       "      <td>u1</td>\n",
       "      <td>Pisuviricota</td>\n",
       "      <td>Pisoniviricetes</td>\n",
       "      <td>Nidovirales</td>\n",
       "      <td>Coronaviridae</td>\n",
       "      <td>Betacoronavirus</td>\n",
       "      <td>Severe acute respiratory syndrome-related coro...</td>\n",
       "    </tr>\n",
       "  </tbody>\n",
       "</table>\n",
       "</div>"
      ],
      "text/plain": [
       "  Label           phylum            class            order            family  \\\n",
       "0    u9  Kitrinoviricota   Flasuviricetes  Amarillovirales      Flaviviridae   \n",
       "1   u10  Negarnaviricota   Monjiviricetes  Mononegavirales       Filoviridae   \n",
       "2    u6  Negarnaviricota  Insthoviricetes  Articulavirales  Orthomyxoviridae   \n",
       "3   u13  Negarnaviricota   Monjiviricetes  Mononegavirales     Rhabdoviridae   \n",
       "4    u1     Pisuviricota  Pisoniviricetes      Nidovirales     Coronaviridae   \n",
       "\n",
       "                genus                                            species  \n",
       "0          Flavivirus                                    West Nile virus  \n",
       "1          Ebolavirus                                   Zaire ebolavirus  \n",
       "2  Betainfluenzavirus                                  Influenza B virus  \n",
       "3          Lyssavirus                                  Rabies lyssavirus  \n",
       "4     Betacoronavirus  Severe acute respiratory syndrome-related coro...  "
      ]
     },
     "execution_count": 66,
     "metadata": {},
     "output_type": "execute_result"
    }
   ],
   "source": [
    "phylogeny_data = pd.read_csv(u_tax_tsv, sep='\\t')\n",
    "phylogeny_data.head()"
   ]
  },
  {
   "cell_type": "code",
   "execution_count": 71,
   "id": "b404eda2-eb7a-4a2d-b341-7dbecabccda3",
   "metadata": {},
   "outputs": [
    {
     "data": {
      "text/plain": [
       "array(['u10', 'u52', 'u361', 'u706', 'u754', 'u1124', 'u1435', 'u2373',\n",
       "       'u2741', 'u4405', 'u4633', 'u9148', 'u9165', 'u11800', 'u12185',\n",
       "       'u13484', 'u14834', 'u18263', 'u19179', 'u19221', 'u19688',\n",
       "       'u20235', 'u25637', 'u26604', 'u27436', 'u27444', 'u28078',\n",
       "       'u28113', 'u28114', 'u28651', 'u28685', 'u28918', 'u29044',\n",
       "       'u29578', 'u29871', 'u30841', 'u31076', 'u31079', 'u31093',\n",
       "       'u31267', 'u34746', 'u35346', 'u36392', 'u36511', 'u36783',\n",
       "       'u40165', 'u40265', 'u40320', 'u42220', 'u42219', 'u42958',\n",
       "       'u42986', 'u43271', 'u43270', 'u43728', 'u43774', 'u43779',\n",
       "       'u43781', 'u55137', 'u55996', 'u103032', 'u144576', 'u150827',\n",
       "       'u152868', 'u167703', 'u177925', 'u178029', 'u184033', 'u189557',\n",
       "       'u189954', 'u190559', 'u217252', 'u220027', 'u243208', 'u250613',\n",
       "       'u276572', 'u276696', 'u280731', 'u292154'], dtype=object)"
      ]
     },
     "execution_count": 71,
     "metadata": {},
     "output_type": "execute_result"
    }
   ],
   "source": [
    "target_ids = phylogeny_data[phylogeny_data[\"genus\"] == \"Ebolavirus\"][\"Label\"].values\n",
    "target_ids"
   ]
  },
  {
   "cell_type": "code",
   "execution_count": 1,
   "id": "090ff5f3-c9c0-4bd6-aa8c-fb48e860dce8",
   "metadata": {},
   "outputs": [
    {
     "ename": "NameError",
     "evalue": "name 'target_ids' is not defined",
     "output_type": "error",
     "traceback": [
      "\u001b[0;31m---------------------------------------------------------------------------\u001b[0m",
      "\u001b[0;31mNameError\u001b[0m                                 Traceback (most recent call last)",
      "Input \u001b[0;32mIn [1]\u001b[0m, in \u001b[0;36m<cell line: 1>\u001b[0;34m()\u001b[0m\n\u001b[0;32m----> 1\u001b[0m \u001b[38;5;28;01mfor\u001b[39;00m id_ \u001b[38;5;129;01min\u001b[39;00m \u001b[43mtarget_ids\u001b[49m:\n\u001b[1;32m      2\u001b[0m     count \u001b[38;5;241m=\u001b[39m adata[:, adata\u001b[38;5;241m.\u001b[39mvar\u001b[38;5;241m.\u001b[39mindex \u001b[38;5;241m==\u001b[39m id_]\u001b[38;5;241m.\u001b[39mX\u001b[38;5;241m.\u001b[39msum()\n\u001b[1;32m      3\u001b[0m     \u001b[38;5;28;01mif\u001b[39;00m count \u001b[38;5;241m>\u001b[39m \u001b[38;5;241m0\u001b[39m:\n",
      "\u001b[0;31mNameError\u001b[0m: name 'target_ids' is not defined"
     ]
    }
   ],
   "source": [
    "for id_ in target_ids:\n",
    "    count = adata[:, adata.var.index == id_].X.sum()\n",
    "    if count > 0:\n",
    "        print(f\"{id_}: {count}\")"
   ]
  },
  {
   "cell_type": "markdown",
   "id": "93d8ec11-520a-49df-9dec-72c5bbd1db2b",
   "metadata": {},
   "source": [
    "### Extract sequences that aligned to EBOV "
   ]
  },
  {
   "cell_type": "code",
   "execution_count": null,
   "id": "b872f6ff-a034-4ba0-bf27-e8e8ff31fd77",
   "metadata": {},
   "outputs": [],
   "source": [
    "# Also see: https://www.biostars.org/p/199946/\n",
    "from Bio import SeqIO\n",
    "import pandas as pd\n",
    "from tqdm import tqdm\n",
    "TQDM_BAR_FORMAT = (\n",
    "    \"Parsing fastq for reads: {n_fmt} reads processed.\"\n",
    ")\n",
    "\n",
    "def extract_kb_reads(kallisto_out, fastq, gene_id):\n",
    "    \"\"\"\n",
    "    Create new fasta file including only reads that aligned to a specific \n",
    "    gene/transcript ID after running kallisto.\n",
    "    \n",
    "    Args:\n",
    "    - kallisto_out    Folder containing kallisto output.\n",
    "    - fastq           Path to original fastq file.\n",
    "    - gene_id         ID of gene/transcript of interest.\n",
    "    \n",
    "    Returns fasta file.\n",
    "    \n",
    "    Note: \n",
    "    Only works if `kallisto bus` was run with argument `-n`, \n",
    "    `--flags` was included when running `bustools sort`,\n",
    "    and .bus output was converted to .txt using `bustools text`.\n",
    "    \"\"\"\n",
    "    \n",
    "    # Get 0-indexed line number of target ID from transcripts.txt\n",
    "    with open(f\"{kallisto_out}/transcripts.txt\") as f:\n",
    "        transcripts = f.read().splitlines()\n",
    "    gene_id_idx = transcripts.index(gene_id)\n",
    "    \n",
    "    # Get equivalence class that matches to 0-indexed line number of target ID\n",
    "    ec_df = pd.read_csv(f\"{kallisto_out}/matrix.ec\", sep=\"\\t\", header=None)\n",
    "    gene_id_ec = int(ec_df[ec_df[1] == str(gene_id_idx)][0].values[0])\n",
    "    \n",
    "    # Get bus output (converted to txt)\n",
    "    bus_df = pd.read_csv(f\"{kallisto_out}/output_sorted.bus.txt\", sep=\"\\t\", header=None)\n",
    "    # Only keep reads that aligned to target ID\n",
    "    bus_df_target = bus_df[bus_df[2] == gene_id_ec]\n",
    "    \n",
    "    # Get numbers of reads that aligned (adjust zero-indexed bus file to one-indexed fastqs)\n",
    "    reads_aln = bus_df_target[4].values + 1\n",
    "    \n",
    "    keep_list = reads_aln.astype(str)\n",
    "\n",
    "    # Loop over original fastq and write reads with index in keep_list to new fasta\n",
    "    output_fasta = fastq.split(\".fastq\")[0] + f\"_{gene_id}.fa\"\n",
    "\n",
    "    n_written = 0\n",
    "    with open(fastq) as handle, open(output_fasta, \"w\") as out:\n",
    "        records = SeqIO.parse(handle, \"fastq\")\n",
    "        \n",
    "        with tqdm(bar_format=TQDM_BAR_FORMAT) as pbar:\n",
    "            for record in records:\n",
    "                if record.id.split(\".\")[-1] in keep_list:\n",
    "                    out.write(\">\" + record.id + \"\\n\" + str(record.seq) + \"\\n\")\n",
    "                    n_written += 1\n",
    "                pbar.update(n=1)\n",
    "                \n",
    "    print(f\"{n_written} reads saved that matched ID {gene_id}.\")"
   ]
  },
  {
   "cell_type": "code",
   "execution_count": null,
   "id": "5b45640f-4753-4563-bae8-7732915f390e",
   "metadata": {},
   "outputs": [],
   "source": [
    "%%time\n",
    "extract_kb_reads(f\"{outfolder}/kallisto\", test_fastq, \"u55137\")"
   ]
  },
  {
   "cell_type": "markdown",
   "id": "2a7b82b2-bf8b-43d0-a1a2-a065bd22d775",
   "metadata": {},
   "source": [
    "### Align with bowtie2"
   ]
  },
  {
   "cell_type": "code",
   "execution_count": null,
   "id": "b9570380-da7d-4cca-b040-a28555979668",
   "metadata": {},
   "outputs": [],
   "source": [
    "b_index = \"/home/laura/projects/kraken2-2.1.2/b_index\""
   ]
  },
  {
   "cell_type": "code",
   "execution_count": null,
   "id": "32c2df81-6b7b-4cef-8c6d-d43e2b8d0f1b",
   "metadata": {},
   "outputs": [],
   "source": [
    "!/usr/bin/time -v \\\n",
    "    bowtie2 \\\n",
    "    -x $b_index/ebov \\\n",
    "    -f -p 8 \\\n",
    "    -U $outfolder/raw_short/SRR12698503_2_u55137.fa \\\n",
    "    -S $outfolder/kallisto/SRR12698503_2_u55137_EBOV_aligned.sam"
   ]
  },
  {
   "cell_type": "markdown",
   "id": "626a4100-25d6-4115-a975-46638869102e",
   "metadata": {},
   "source": [
    "### Use SAMtools to convert the SAM files to sorted BAM files"
   ]
  },
  {
   "cell_type": "code",
   "execution_count": null,
   "id": "fde152fd-666c-4da8-9521-525d74c6522b",
   "metadata": {},
   "outputs": [],
   "source": [
    "!/usr/bin/time -v \\\n",
    "    samtools view \\\n",
    "    -bS -F4 $outfolder/kallisto/SRR12698503_2_u55137_EBOV_aligned.sam \\\n",
    "    > $outfolder/kallisto/SRR12698503_2_u55137_EBOV_aligned.bam"
   ]
  },
  {
   "cell_type": "code",
   "execution_count": null,
   "id": "ef666186-2659-4a1f-9f2f-7489b53bf8a3",
   "metadata": {},
   "outputs": [],
   "source": [
    "!/usr/bin/time -v \\\n",
    "    samtools sort \\\n",
    "    $outfolder/kallisto/SRR12698503_2_u55137_EBOV_aligned.bam \\\n",
    "    -o $outfolder/kallisto/SRR12698503_2_u55137_EBOV_sorted.bam"
   ]
  },
  {
   "cell_type": "code",
   "execution_count": null,
   "id": "001c7384-6b1d-4070-8e13-c80878556b56",
   "metadata": {},
   "outputs": [],
   "source": [
    "!/usr/bin/time -v \\\n",
    "    samtools index \\\n",
    "    $outfolder/kallisto/SRR12698503_2_u55137_EBOV_sorted.bam"
   ]
  },
  {
   "cell_type": "code",
   "execution_count": null,
   "id": "e575f6ce-8240-4f39-8e62-9f49b64a1969",
   "metadata": {},
   "outputs": [],
   "source": []
  }
 ],
 "metadata": {
  "kernelspec": {
   "display_name": "Python 3 (ipykernel)",
   "language": "python",
   "name": "python3"
  },
  "language_info": {
   "codemirror_mode": {
    "name": "ipython",
    "version": 3
   },
   "file_extension": ".py",
   "mimetype": "text/x-python",
   "name": "python",
   "nbconvert_exporter": "python",
   "pygments_lexer": "ipython3",
   "version": "3.9.12"
  }
 },
 "nbformat": 4,
 "nbformat_minor": 5
}
