{
 "cells": [
  {
   "cell_type": "markdown",
   "id": "df4c105b-0f8c-4e11-8fb7-236ed7437a87",
   "metadata": {},
   "source": [
    "Chose a new test file since previous sequences were lost to multimapping when aligned to full PalmDB index with kb:"
   ]
  },
  {
   "cell_type": "code",
   "execution_count": 2,
   "id": "49239776-c706-43ac-b165-48fc53379ae4",
   "metadata": {},
   "outputs": [],
   "source": [
    "fastq = \"/home/laura/projects/virus-watch-data/PRJNA665227/raw/SRR12698539_2.fastq.gz\"\n",
    "test_fastq = fastq\n",
    "\n",
    "outfolder = \"/home/laura/projects/virus-watch-data/benchmarking/ebola_benchmark\""
   ]
  },
  {
   "cell_type": "markdown",
   "id": "fa2b3e3a-cdbf-427f-831f-7f88df7b2b0e",
   "metadata": {},
   "source": [
    "### Generate test file"
   ]
  },
  {
   "cell_type": "code",
   "execution_count": 5,
   "id": "d34d8b92-8c5d-444d-9b81-3ac8a0a613bd",
   "metadata": {},
   "outputs": [
    {
     "name": "stdout",
     "output_type": "stream",
     "text": [
      "\n",
      "gzip: stdout: Broken pipe\n"
     ]
    }
   ],
   "source": [
    "# # Create new file keeping only first X reads\n",
    "# !zcat $fastq | head -400000000 > $test_fastq\n",
    "\n",
    "# # Copy and unzip complete original fastq\n",
    "# !cp $fastq /home/laura/projects/virus-watch-data/benchmarking/ebola_benchmark/raw_short/\n",
    "# !gunzip /home/laura/projects/virus-watch-data/benchmarking/ebola_benchmark/raw_short/SRR12698503_2.fastq.gz\n",
    "# !rm /home/laura/projects/virus-watch-data/benchmarking/ebola_benchmark/raw_short/SRR12698503_2.fastq.gz"
   ]
  },
  {
   "cell_type": "code",
   "execution_count": 6,
   "id": "fcce29ba-c1d2-426b-afb6-86647a57f1c1",
   "metadata": {},
   "outputs": [
    {
     "name": "stdout",
     "output_type": "stream",
     "text": [
      "400000000 /home/laura/projects/virus-watch-data/benchmarking/ebola_benchmark/raw_short/v2/SRR12698539_2.fastq\n"
     ]
    }
   ],
   "source": [
    "# Print number of lines (reads = lines / 4) in test_fastq\n",
    "!wc -l $test_fastq"
   ]
  },
  {
   "cell_type": "markdown",
   "id": "75f78f01-2b1e-4f8d-a625-20de5f1e061b",
   "metadata": {},
   "source": [
    "### Run Kraken2"
   ]
  },
  {
   "cell_type": "code",
   "execution_count": 7,
   "id": "77b9d6bc-3197-47ac-8962-21192bd525dc",
   "metadata": {},
   "outputs": [
    {
     "name": "stdout",
     "output_type": "stream",
     "text": [
      "Must select a task option.\n",
      "Usage: kraken2-build [task option] [options]\n",
      "\n",
      "Task options (exactly one must be selected):\n",
      "  --download-taxonomy        Download NCBI taxonomic information\n",
      "  --download-library TYPE    Download partial library\n",
      "                             (TYPE = one of \"archaea\", \"bacteria\", \"plasmid\",\n",
      "                             \"viral\", \"human\", \"fungi\", \"plant\", \"protozoa\",\n",
      "                             \"nr\", \"nt\", \"UniVec\", \"UniVec_Core\")\n",
      "  --special TYPE             Download and build a special database\n",
      "                             (TYPE = one of \"greengenes\", \"silva\", \"rdp\")\n",
      "  --add-to-library FILE      Add FILE to library\n",
      "  --build                    Create DB from library\n",
      "                             (requires taxonomy d/l'ed and at least one file\n",
      "                             in library)\n",
      "  --clean                    Remove unneeded files from a built database\n",
      "  --standard                 Download and build default database\n",
      "  --help                     Print this message\n",
      "  --version                  Print version information\n",
      "\n",
      "Options:\n",
      "  --db NAME                  Kraken 2 DB name (mandatory except for\n",
      "                             --help/--version)\n",
      "  --threads #                Number of threads (def: 1)\n",
      "  --kmer-len NUM             K-mer length in bp/aa (build task only;\n",
      "                             def: 35 nt, 15 aa)\n",
      "  --minimizer-len NUM        Minimizer length in bp/aa (build task only;\n",
      "                             def: 31 nt, 12 aa)\n",
      "  --minimizer-spaces NUM     Number of characters in minimizer that are\n",
      "                             ignored in comparisons (build task only;\n",
      "                             def: 7 nt, 0 aa)\n",
      "  --protein                  Build a protein database for translated search\n",
      "  --no-masking               Used with --standard/--download-library/\n",
      "                             --add-to-library to avoid masking low-complexity\n",
      "                             sequences prior to building; masking requires\n",
      "                             dustmasker or segmasker to be installed in PATH,\n",
      "                             which some users might not have.\n",
      "  --max-db-size NUM          Maximum number of bytes for Kraken 2 hash table;\n",
      "                             if the estimator determines more would normally be\n",
      "                             needed, the reference library will be downsampled\n",
      "                             to fit. (Used with --build/--standard/--special)\n",
      "  --use-ftp                  Use FTP for downloading instead of RSYNC; used with\n",
      "                             --download-library/--download-taxonomy/--standard.\n",
      "  --skip-maps                Avoids downloading accession number to taxid maps,\n",
      "                             used with --download-taxonomy.\n",
      "  --load-factor FRAC         Proportion of the hash table to be populated\n",
      "                             (build task only; def: 0.7, must be\n",
      "                             between 0 and 1).\n",
      "  --fast-build               Do not require database to be deterministically\n",
      "                             built when using multiple threads.  This is faster,\n",
      "                             but does introduce variability in minimizer/LCA\n",
      "                             pairs.  Used with --build and --standard options.\n"
     ]
    }
   ],
   "source": [
    "!kraken2-build"
   ]
  },
  {
   "cell_type": "markdown",
   "id": "1a3e9c3a-7a2d-4901-91a0-fe577c7c9beb",
   "metadata": {},
   "source": [
    "Tried to use palmdb with kraken-build --protein argument, but it needs NCBI taxonomy IDs in the fasta:"
   ]
  },
  {
   "cell_type": "code",
   "execution_count": 122,
   "id": "b654d79d-8c41-4a51-b21e-3d79d5f799cc",
   "metadata": {},
   "outputs": [
    {
     "name": "stdout",
     "output_type": "stream",
     "text": [
      "scan_fasta_file.pl: unable to determine taxonomy ID for sequence u5665\n"
     ]
    }
   ],
   "source": [
    "# kraken_palmdb = \"/home/laura/projects/kraken2-2.1.2/kraken_palmdb\"\n",
    "# virus_fasta = \"/home/laura/projects/virus-watch-data/virus_ref/mmseqs_covmode_1/palmdb_DB_clu_rep.fasta\"\n",
    "\n",
    "# !cd /home/laura/projects/kraken2-2.1.2 \\\n",
    "#     && kraken2-build --db kraken_palmdb --download-taxonomy\n",
    "\n",
    "# !cd /home/laura/projects/kraken2-2.1.2 \\\n",
    "#     && kraken2-build \\\n",
    "#         --db kraken_palmdb \\\n",
    "#         --kmer-len 31 \\\n",
    "#         --minimizer-len 31 \\\n",
    "#         --protein \\\n",
    "#         --no-masking \\\n",
    "#         --add-to-library $virus_fasta"
   ]
  },
  {
   "cell_type": "markdown",
   "id": "87e14a18-85a2-4e96-8bde-c8bd6d9925d8",
   "metadata": {},
   "source": [
    "krakendb: taxonomy and viral library from NCBI + manually added Ebola genome (otherwise EBOV is not detected) (also see: kraken_bash.sh file)"
   ]
  },
  {
   "cell_type": "code",
   "execution_count": 12,
   "id": "cbb66462-ad9e-4692-b8a5-97999bab7aad",
   "metadata": {},
   "outputs": [],
   "source": [
    "# k2protocol_db = \"/home/laura/projects/kraken2-2.1.2/k2protocol_db\"\n",
    "krakendb = \"/home/laura/projects/kraken2-2.1.2/krakendb\""
   ]
  },
  {
   "cell_type": "code",
   "execution_count": 13,
   "id": "b88533bc-bd00-47c2-9c50-7522e0b835f8",
   "metadata": {},
   "outputs": [
    {
     "name": "stdout",
     "output_type": "stream",
     "text": [
      "Need to specify input filenames!\n",
      "Usage: kraken2 [options] <filename(s)>\n",
      "\n",
      "Options:\n",
      "  --db NAME               Name for Kraken 2 DB\n",
      "                          (default: none)\n",
      "  --threads NUM           Number of threads (default: 1)\n",
      "  --quick                 Quick operation (use first hit or hits)\n",
      "  --unclassified-out FILENAME\n",
      "                          Print unclassified sequences to filename\n",
      "  --classified-out FILENAME\n",
      "                          Print classified sequences to filename\n",
      "  --output FILENAME       Print output to filename (default: stdout); \"-\" will\n",
      "                          suppress normal output\n",
      "  --confidence FLOAT      Confidence score threshold (default: 0.0); must be\n",
      "                          in [0, 1].\n",
      "  --minimum-base-quality NUM\n",
      "                          Minimum base quality used in classification (def: 0,\n",
      "                          only effective with FASTQ input).\n",
      "  --report FILENAME       Print a report with aggregrate counts/clade to file\n",
      "  --use-mpa-style         With --report, format report output like Kraken 1's\n",
      "                          kraken-mpa-report\n",
      "  --report-zero-counts    With --report, report counts for ALL taxa, even if\n",
      "                          counts are zero\n",
      "  --report-minimizer-data With --report, report minimizer and distinct minimizer\n",
      "                          count information in addition to normal Kraken report\n",
      "  --memory-mapping        Avoids loading database into RAM\n",
      "  --paired                The filenames provided have paired-end reads\n",
      "  --use-names             Print scientific names instead of just taxids\n",
      "  --gzip-compressed       Input files are compressed with gzip\n",
      "  --bzip2-compressed      Input files are compressed with bzip2\n",
      "  --minimum-hit-groups NUM\n",
      "                          Minimum number of hit groups (overlapping k-mers\n",
      "                          sharing the same minimizer) needed to make a call\n",
      "                          (default: 2)\n",
      "  --help                  Print this message\n",
      "  --version               Print version information\n",
      "\n",
      "If none of the *-compressed flags are specified, and the filename provided\n",
      "is a regular file, automatic format detection is attempted.\n"
     ]
    }
   ],
   "source": [
    "!kraken2"
   ]
  },
  {
   "cell_type": "code",
   "execution_count": 14,
   "id": "c4ddfee6-4c59-4975-b220-e33021a82c6e",
   "metadata": {},
   "outputs": [
    {
     "name": "stdout",
     "output_type": "stream",
     "text": [
      "Loading database information... done.\n",
      "460911662 sequences (40560.23 Mbp) processed in 1108.602s (24945.6 Kseq/m, 2195.21 Mbp/m).. bp) ...25103084952 bp) ...26746195256 bp) ...29028006744 bp) ...29218586936 bp) ...35924949368 bp) ... bp) ...\n",
      "  3101998 sequences classified (0.67%)\n",
      "  457809664 sequences unclassified (99.33%)\n",
      "\tCommand being timed: \"/home/laura/bin/kraken2 --db /home/laura/projects/kraken2-2.1.2/krakendb --threads 32 --minimum-hit-groups 3 --report-minimizer-data --report /home/laura/projects/virus-watch-data/benchmarking/ebola_benchmark/kraken/SRR12698503.k2report /home/laura/projects/virus-watch-data/PRJNA665227/raw/SRR12698539_2.fastq.gz\"\n",
      "\tUser time (seconds): 6144.41\n",
      "\tSystem time (seconds): 328.04\n",
      "\tPercent of CPU this job got: 583%\n",
      "\tElapsed (wall clock) time (h:mm:ss or m:ss): 18:30.05\n",
      "\tAverage shared text size (kbytes): 0\n",
      "\tAverage unshared data size (kbytes): 0\n",
      "\tAverage stack size (kbytes): 0\n",
      "\tAverage total size (kbytes): 0\n",
      "\tMaximum resident set size (kbytes): 1437552\n",
      "\tAverage resident set size (kbytes): 0\n",
      "\tMajor (requiring I/O) page faults: 0\n",
      "\tMinor (reclaiming a frame) page faults: 133672181\n",
      "\tVoluntary context switches: 3017353\n",
      "\tInvoluntary context switches: 181110\n",
      "\tSwaps: 0\n",
      "\tFile system inputs: 0\n",
      "\tFile system outputs: 30722256\n",
      "\tSocket messages sent: 0\n",
      "\tSocket messages received: 0\n",
      "\tSignals delivered: 0\n",
      "\tPage size (bytes): 4096\n",
      "\tExit status: 0\n"
     ]
    }
   ],
   "source": [
    "!/usr/bin/time -v \\\n",
    "    ~/bin/kraken2 \\\n",
    "        --db $krakendb \\\n",
    "        --threads 32 \\\n",
    "        --minimum-hit-groups 3 \\\n",
    "        --report-minimizer-data \\\n",
    "        --report $outfolder/kraken/SRR12698503.k2report \\\n",
    "        $test_fastq > $outfolder/kraken/SRR12698503.kraken2"
   ]
  },
  {
   "cell_type": "markdown",
   "id": "149a44d3-89ed-4589-8507-50be93f9f2c2",
   "metadata": {},
   "source": [
    "### View kraken report in Pavian\n",
    "1. Upload SRR12698503.kreport2 files to [Pavian viewer](https://fbreitwieser.shinyapps.io/pavian/)  \n",
    "2. Go to 'Comparison' tab\n",
    "3. Select 'species', 'reads', '%', 'rank', 'clade' and 'taxon'\n",
    "4. Search for 'viruses'\n",
    "5. Select 'CSV' to download csv overview"
   ]
  },
  {
   "cell_type": "markdown",
   "id": "904c5404-7138-4c97-9ecb-ea36abb1fff0",
   "metadata": {},
   "source": [
    "### Extract Kraken reads\n",
    "The extract_kraken_reads.py script (from the KrakenTools GitHub repo) extracts reads that matched a particular species, identified by the taxonomy ID that is provided with the -t parameter:"
   ]
  },
  {
   "cell_type": "code",
   "execution_count": 15,
   "id": "1a56965b-ead9-4e31-a136-410c49bfa1e4",
   "metadata": {},
   "outputs": [],
   "source": [
    "ebov_tid = 186538"
   ]
  },
  {
   "cell_type": "code",
   "execution_count": 16,
   "id": "0d1584b9-94b2-4754-b982-78586eca1159",
   "metadata": {},
   "outputs": [
    {
     "name": "stdout",
     "output_type": "stream",
     "text": [
      "PROGRAM START TIME: 06-25-2023 02:23:42\n",
      ">> STEP 0: PARSING REPORT FILE /home/laura/projects/virus-watch-data/benchmarking/ebola_benchmark/kraken/SRR12698503.k2report\n",
      "\t1 taxonomy IDs to parse\n",
      ">> STEP 1: PARSING KRAKEN FILE FOR READIDS /home/laura/projects/virus-watch-data/benchmarking/ebola_benchmark/kraken/SRR12698503.kraken2\n",
      "\t460.91 million reads processed\n",
      "\t102140 read IDs saved\n",
      ">> STEP 2: READING SEQUENCE FILES AND WRITING READS\n",
      "\t102140 read IDs found (460.91 mill reads processed)\n",
      "\t102140 reads printed to file\n",
      "\tGenerated file: /home/laura/projects/virus-watch-data/benchmarking/ebola_benchmark/kraken/SRR12698503_EBOV.tid10298.1.fa\n",
      "PROGRAM END TIME: 06-25-2023 03:44:00\n",
      "\tCommand being timed: \"python extract_kraken_reads.py -k /home/laura/projects/virus-watch-data/benchmarking/ebola_benchmark/kraken/SRR12698503.kraken2 --include-children -s /home/laura/projects/virus-watch-data/PRJNA665227/raw/SRR12698539_2.fastq.gz -t 186538 -r /home/laura/projects/virus-watch-data/benchmarking/ebola_benchmark/kraken/SRR12698503.k2report -o /home/laura/projects/virus-watch-data/benchmarking/ebola_benchmark/kraken/SRR12698503_EBOV.tid10298.1.fa\"\n",
      "\tUser time (seconds): 4800.67\n",
      "\tSystem time (seconds): 20.09\n",
      "\tPercent of CPU this job got: 100%\n",
      "\tElapsed (wall clock) time (h:mm:ss or m:ss): 1:20:18\n",
      "\tAverage shared text size (kbytes): 0\n",
      "\tAverage unshared data size (kbytes): 0\n",
      "\tAverage stack size (kbytes): 0\n",
      "\tAverage total size (kbytes): 0\n",
      "\tMaximum resident set size (kbytes): 52192\n",
      "\tAverage resident set size (kbytes): 0\n",
      "\tMajor (requiring I/O) page faults: 0\n",
      "\tMinor (reclaiming a frame) page faults: 133321\n",
      "\tVoluntary context switches: 183\n",
      "\tInvoluntary context switches: 1831881\n",
      "\tSwaps: 0\n",
      "\tFile system inputs: 48\n",
      "\tFile system outputs: 25904\n",
      "\tSocket messages sent: 0\n",
      "\tSocket messages received: 0\n",
      "\tSignals delivered: 0\n",
      "\tPage size (bytes): 4096\n",
      "\tExit status: 0\n"
     ]
    }
   ],
   "source": [
    "# # Download script\n",
    "# !curl -O https://raw.githubusercontent.com/jenniferlu717/KrakenTools/master/extract_kraken_reads.py\n",
    "\n",
    "!/usr/bin/time -v \\\n",
    "    python extract_kraken_reads.py \\\n",
    "    -k $outfolder/kraken/SRR12698503.kraken2 \\\n",
    "    --include-children \\\n",
    "    -s $test_fastq \\\n",
    "    -t $ebov_tid \\\n",
    "    -r $outfolder/kraken/SRR12698503.k2report \\\n",
    "    -o $outfolder/kraken/SRR12698503_EBOV.tid10298.1.fa"
   ]
  },
  {
   "cell_type": "markdown",
   "id": "2bb34dd6-74da-4e4e-84e1-87ea4a0ebdd3",
   "metadata": {},
   "source": [
    "### Align extracted reads to the species genomes using Bowtie2"
   ]
  },
  {
   "cell_type": "markdown",
   "id": "2a134f94-97b2-4f4c-b0a0-97998c6f2daa",
   "metadata": {},
   "source": [
    "Ebola genome ViralProj14703 (linked to NC_002549.1) downloaded from https://www.ncbi.nlm.nih.gov/data-hub/genome/?taxon=186538\n",
    "\n",
    "Generate Bowtie2 genome index:"
   ]
  },
  {
   "cell_type": "code",
   "execution_count": 1,
   "id": "e31d9378-38e4-43b4-a837-5716c5e5fd37",
   "metadata": {},
   "outputs": [],
   "source": [
    "b_index = \"/home/laura/projects/kraken2-2.1.2/b_index\""
   ]
  },
  {
   "cell_type": "code",
   "execution_count": 18,
   "id": "90b5162a-4f2d-4712-a2e1-3f0c319c5717",
   "metadata": {},
   "outputs": [],
   "source": [
    "# !/usr/bin/time \\\n",
    "#     bowtie2-build \\\n",
    "#     /home/laura/projects/kraken2-2.1.2/ebov_fna/ncbi_dataset/data/GCA_000848505.1/GCA_000848505.1_ViralProj14703_genomic.fna \\\n",
    "#     $b_index/ebov"
   ]
  },
  {
   "cell_type": "markdown",
   "id": "cafbdffe-7012-41fb-8237-b74f8271c55c",
   "metadata": {},
   "source": [
    "Align extracted reads to species genome:"
   ]
  },
  {
   "cell_type": "code",
   "execution_count": 4,
   "id": "0c5a688f-6ba4-4a51-a40d-62be93ecf057",
   "metadata": {},
   "outputs": [
    {
     "name": "stdout",
     "output_type": "stream",
     "text": [
      "102140 reads; of these:\n",
      "  102140 (100.00%) were unpaired; of these:\n",
      "    18607 (18.22%) aligned 0 times\n",
      "    83533 (81.78%) aligned exactly 1 time\n",
      "    0 (0.00%) aligned >1 times\n",
      "81.78% overall alignment rate\n",
      "\tCommand being timed: \"bowtie2 -x /home/laura/projects/kraken2-2.1.2/b_index/ebov -f -p 8 -U /home/laura/projects/virus-watch-data/benchmarking/ebola_benchmark/kraken/SRR12698503_EBOV.tid10298.1.fa -S /home/laura/projects/virus-watch-data/benchmarking/ebola_benchmark/kraken/SRR12698503_EBOV_aligned.sam\"\n",
      "\tUser time (seconds): 4.99\n",
      "\tSystem time (seconds): 0.59\n",
      "\tPercent of CPU this job got: 643%\n",
      "\tElapsed (wall clock) time (h:mm:ss or m:ss): 0:00.86\n",
      "\tAverage shared text size (kbytes): 0\n",
      "\tAverage unshared data size (kbytes): 0\n",
      "\tAverage stack size (kbytes): 0\n",
      "\tAverage total size (kbytes): 0\n",
      "\tMaximum resident set size (kbytes): 110092\n",
      "\tAverage resident set size (kbytes): 0\n",
      "\tMajor (requiring I/O) page faults: 0\n",
      "\tMinor (reclaiming a frame) page faults: 30342\n",
      "\tVoluntary context switches: 34628\n",
      "\tInvoluntary context switches: 57\n",
      "\tSwaps: 0\n",
      "\tFile system inputs: 24840\n",
      "\tFile system outputs: 56568\n",
      "\tSocket messages sent: 0\n",
      "\tSocket messages received: 0\n",
      "\tSignals delivered: 0\n",
      "\tPage size (bytes): 4096\n",
      "\tExit status: 0\n"
     ]
    }
   ],
   "source": [
    "!/usr/bin/time -v \\\n",
    "    bowtie2 \\\n",
    "    -x $b_index/ebov \\\n",
    "    -f -p 8 \\\n",
    "    -U $outfolder/kraken/SRR12698503_EBOV.tid10298.1.fa \\\n",
    "    -S $outfolder/kraken/SRR12698503_EBOV_aligned.sam"
   ]
  },
  {
   "cell_type": "markdown",
   "id": "653ac973-8f78-460d-9333-97c6d1e5749c",
   "metadata": {},
   "source": [
    "### Use SAMtools to convert the SAM files to sorted BAM files"
   ]
  },
  {
   "cell_type": "code",
   "execution_count": 5,
   "id": "26dc702e-7135-4606-8cac-ec6e47eed6af",
   "metadata": {},
   "outputs": [
    {
     "name": "stdout",
     "output_type": "stream",
     "text": [
      "\tCommand being timed: \"samtools view -bS -F4 /home/laura/projects/virus-watch-data/benchmarking/ebola_benchmark/kraken/SRR12698503_EBOV_aligned.sam\"\n",
      "\tUser time (seconds): 0.84\n",
      "\tSystem time (seconds): 0.06\n",
      "\tPercent of CPU this job got: 91%\n",
      "\tElapsed (wall clock) time (h:mm:ss or m:ss): 0:00.99\n",
      "\tAverage shared text size (kbytes): 0\n",
      "\tAverage unshared data size (kbytes): 0\n",
      "\tAverage stack size (kbytes): 0\n",
      "\tAverage total size (kbytes): 0\n",
      "\tMaximum resident set size (kbytes): 2844\n",
      "\tAverage resident set size (kbytes): 0\n",
      "\tMajor (requiring I/O) page faults: 0\n",
      "\tMinor (reclaiming a frame) page faults: 9562\n",
      "\tVoluntary context switches: 80\n",
      "\tInvoluntary context switches: 1\n",
      "\tSwaps: 0\n",
      "\tFile system inputs: 0\n",
      "\tFile system outputs: 7280\n",
      "\tSocket messages sent: 0\n",
      "\tSocket messages received: 0\n",
      "\tSignals delivered: 0\n",
      "\tPage size (bytes): 4096\n",
      "\tExit status: 0\n"
     ]
    }
   ],
   "source": [
    "!/usr/bin/time -v \\\n",
    "    samtools view \\\n",
    "    -bS -F4 $outfolder/kraken/SRR12698503_EBOV_aligned.sam \\\n",
    "    > $outfolder/kraken/SRR12698503_EBOV_aligned.bam"
   ]
  },
  {
   "cell_type": "code",
   "execution_count": 6,
   "id": "68aa1313-6d8b-418a-b546-87f721de84f5",
   "metadata": {},
   "outputs": [
    {
     "name": "stdout",
     "output_type": "stream",
     "text": [
      "\tCommand being timed: \"samtools sort /home/laura/projects/virus-watch-data/benchmarking/ebola_benchmark/kraken/SRR12698503_EBOV_aligned.bam -o /home/laura/projects/virus-watch-data/benchmarking/ebola_benchmark/kraken/SRR12698503_EBOV_sorted.bam\"\n",
      "\tUser time (seconds): 0.54\n",
      "\tSystem time (seconds): 0.02\n",
      "\tPercent of CPU this job got: 90%\n",
      "\tElapsed (wall clock) time (h:mm:ss or m:ss): 0:00.63\n",
      "\tAverage shared text size (kbytes): 0\n",
      "\tAverage unshared data size (kbytes): 0\n",
      "\tAverage stack size (kbytes): 0\n",
      "\tAverage total size (kbytes): 0\n",
      "\tMaximum resident set size (kbytes): 29036\n",
      "\tAverage resident set size (kbytes): 0\n",
      "\tMajor (requiring I/O) page faults: 0\n",
      "\tMinor (reclaiming a frame) page faults: 2112\n",
      "\tVoluntary context switches: 10\n",
      "\tInvoluntary context switches: 2\n",
      "\tSwaps: 0\n",
      "\tFile system inputs: 0\n",
      "\tFile system outputs: 3160\n",
      "\tSocket messages sent: 0\n",
      "\tSocket messages received: 0\n",
      "\tSignals delivered: 0\n",
      "\tPage size (bytes): 4096\n",
      "\tExit status: 0\n"
     ]
    }
   ],
   "source": [
    "!/usr/bin/time -v \\\n",
    "    samtools sort \\\n",
    "    $outfolder/kraken/SRR12698503_EBOV_aligned.bam \\\n",
    "    -o $outfolder/kraken/SRR12698503_EBOV_sorted.bam"
   ]
  },
  {
   "cell_type": "code",
   "execution_count": 7,
   "id": "0f899f92-6901-4023-b088-5f18139b9a8c",
   "metadata": {},
   "outputs": [
    {
     "name": "stdout",
     "output_type": "stream",
     "text": [
      "\tCommand being timed: \"samtools index /home/laura/projects/virus-watch-data/benchmarking/ebola_benchmark/kraken/SRR12698503_EBOV_sorted.bam\"\n",
      "\tUser time (seconds): 0.09\n",
      "\tSystem time (seconds): 0.00\n",
      "\tPercent of CPU this job got: 92%\n",
      "\tElapsed (wall clock) time (h:mm:ss or m:ss): 0:00.10\n",
      "\tAverage shared text size (kbytes): 0\n",
      "\tAverage unshared data size (kbytes): 0\n",
      "\tAverage stack size (kbytes): 0\n",
      "\tAverage total size (kbytes): 0\n",
      "\tMaximum resident set size (kbytes): 2544\n",
      "\tAverage resident set size (kbytes): 0\n",
      "\tMajor (requiring I/O) page faults: 0\n",
      "\tMinor (reclaiming a frame) page faults: 735\n",
      "\tVoluntary context switches: 3\n",
      "\tInvoluntary context switches: 1\n",
      "\tSwaps: 0\n",
      "\tFile system inputs: 0\n",
      "\tFile system outputs: 8\n",
      "\tSocket messages sent: 0\n",
      "\tSocket messages received: 0\n",
      "\tSignals delivered: 0\n",
      "\tPage size (bytes): 4096\n",
      "\tExit status: 0\n"
     ]
    }
   ],
   "source": [
    "!/usr/bin/time -v \\\n",
    "    samtools index \\\n",
    "    $outfolder/kraken/SRR12698503_EBOV_sorted.bam"
   ]
  },
  {
   "cell_type": "markdown",
   "id": "0d91dd36-872a-45f3-a89b-34219b5174a4",
   "metadata": {
    "tags": []
   },
   "source": [
    "### Visualize alignment using Pavian\n",
    "Upload the sorted BAM file and the index of the sorted BAM file (.bam and .bai files) to [Pavian’s Alignment Viewer](https://fbreitwieser.shinyapps.io/pavian/)."
   ]
  },
  {
   "cell_type": "code",
   "execution_count": null,
   "id": "605403b3-49a1-4bbb-a11d-8cef48c64412",
   "metadata": {},
   "outputs": [],
   "source": []
  }
 ],
 "metadata": {
  "kernelspec": {
   "display_name": "Python 3 (ipykernel)",
   "language": "python",
   "name": "python3"
  },
  "language_info": {
   "codemirror_mode": {
    "name": "ipython",
    "version": 3
   },
   "file_extension": ".py",
   "mimetype": "text/x-python",
   "name": "python",
   "nbconvert_exporter": "python",
   "pygments_lexer": "ipython3",
   "version": "3.9.12"
  }
 },
 "nbformat": 4,
 "nbformat_minor": 5
}
