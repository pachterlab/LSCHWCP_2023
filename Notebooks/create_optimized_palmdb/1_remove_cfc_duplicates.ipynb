{
  "cells": [
    {
      "cell_type": "markdown",
      "metadata": {
        "id": "view-in-github",
        "colab_type": "text"
      },
      "source": [
        "<a href=\"https://colab.research.google.com/github/pachterlab/LSCHWCP_2023/blob/main/Notebooks/create_optimized_palmdb/1_remove_cfc_duplicates.ipynb\" target=\"_parent\"><img src=\"https://colab.research.google.com/assets/colab-badge.svg\" alt=\"Open In Colab\"/></a>"
      ]
    },
    {
      "cell_type": "markdown",
      "id": "87264003-a817-4824-8493-cd4f1941e58d",
      "metadata": {
        "id": "87264003-a817-4824-8493-cd4f1941e58d"
      },
      "source": [
        "# Remove duplicate sequences that become identical after reverse translation to comma-free code\n",
        "Duplicate sequences will be represented by a single sequence with a single representative virus ID."
      ]
    },
    {
      "cell_type": "code",
      "source": [
        "!pip install -q biopython"
      ],
      "metadata": {
        "id": "kZrr5eMBF_sd"
      },
      "id": "kZrr5eMBF_sd",
      "execution_count": null,
      "outputs": []
    },
    {
      "cell_type": "code",
      "execution_count": null,
      "id": "9a62bc14-e44e-405c-92dd-4b8300eb8e33",
      "metadata": {
        "id": "9a62bc14-e44e-405c-92dd-4b8300eb8e33"
      },
      "outputs": [],
      "source": [
        "from Bio import SeqIO\n",
        "import pandas as pd\n",
        "import numpy as np\n",
        "from matplotlib import pyplot as plt\n",
        "from matplotlib.ticker import MaxNLocator\n",
        "%config InlineBackend.figure_format='retina'"
      ]
    },
    {
      "cell_type": "markdown",
      "source": [
        "Download the original PalmDB file containing amino acid RdRP sequences as provided by Edgar *et al.*  \n",
        "The file was originally downloaded from here: https://github.com/rcedgar/palmdb/blob/main/2021-03-14/uniques.fa.gz"
      ],
      "metadata": {
        "id": "agyVGQY6Gd1t"
      },
      "id": "agyVGQY6Gd1t"
    },
    {
      "cell_type": "code",
      "execution_count": null,
      "id": "76f2283d-480a-4367-9d68-8ef051cd1d0e",
      "metadata": {
        "id": "76f2283d-480a-4367-9d68-8ef051cd1d0e"
      },
      "outputs": [],
      "source": [
        "!wget https://raw.githubusercontent.com/pachterlab/LSCHWCP_2023/main/Notebooks/create_optimized_palmdb/uniques.fa\n",
        "palmdb = \"uniques.fa\""
      ]
    },
    {
      "cell_type": "markdown",
      "source": [
        "Confirm that there are no duplicates in the original amino acid sequences:"
      ],
      "metadata": {
        "id": "zOqbowYUGKjF"
      },
      "id": "zOqbowYUGKjF"
    },
    {
      "cell_type": "code",
      "execution_count": null,
      "id": "7678312a-eab4-4226-b16e-7639fa3113d4",
      "metadata": {
        "id": "7678312a-eab4-4226-b16e-7639fa3113d4"
      },
      "outputs": [],
      "source": [
        "%%time\n",
        "ids_skipped = []\n",
        "seqs_seen = []\n",
        "all_seqs = []\n",
        "for record in SeqIO.parse(palmdb, \"fasta\"):\n",
        "    if str(record.seq) not in seqs_seen:\n",
        "        seqs_seen.append(str(record.seq))\n",
        "    else:\n",
        "        ids_skipped.append(record.id)\n",
        "\n",
        "    all_seqs.append(record.seq)"
      ]
    },
    {
      "cell_type": "code",
      "execution_count": null,
      "id": "67e88c35-23ec-4a29-ac47-62f325f5acb6",
      "metadata": {
        "id": "67e88c35-23ec-4a29-ac47-62f325f5acb6",
        "outputId": "fb910af3-2a50-46cb-e62b-b58ef309dc3a"
      },
      "outputs": [
        {
          "data": {
            "text/plain": [
              "[]"
            ]
          },
          "execution_count": 4,
          "metadata": {},
          "output_type": "execute_result"
        }
      ],
      "source": [
        "ids_skipped"
      ]
    },
    {
      "cell_type": "code",
      "execution_count": null,
      "id": "d3122165-55ba-44ef-aba6-b229e8abf10a",
      "metadata": {
        "id": "d3122165-55ba-44ef-aba6-b229e8abf10a",
        "outputId": "ffed1286-9128-4a0d-ce99-cf0dc438bdfd"
      },
      "outputs": [
        {
          "data": {
            "text/plain": [
              "0"
            ]
          },
          "execution_count": 5,
          "metadata": {},
          "output_type": "execute_result"
        }
      ],
      "source": [
        "len(ids_skipped)"
      ]
    },
    {
      "cell_type": "code",
      "execution_count": null,
      "id": "9bb1e322-7471-4307-a843-4d0fac004e83",
      "metadata": {
        "id": "9bb1e322-7471-4307-a843-4d0fac004e83"
      },
      "outputs": [],
      "source": [
        "len(all_seqs)"
      ]
    },
    {
      "cell_type": "markdown",
      "id": "4e70ff4b-2362-42f9-86ed-c434c43fe741",
      "metadata": {
        "id": "4e70ff4b-2362-42f9-86ed-c434c43fe741"
      },
      "source": [
        "Duplicate sequences only occur after reverse translation to comma-free code due to ambigious amino acid annotations:"
      ]
    },
    {
      "cell_type": "code",
      "execution_count": null,
      "id": "28bc9348-8993-4068-ac9c-c9d38be33604",
      "metadata": {
        "id": "28bc9348-8993-4068-ac9c-c9d38be33604"
      },
      "outputs": [],
      "source": [
        "# comme-free code (cfc)\n",
        "cfcode = {\n",
        "    \"F\": \"ACC\",\n",
        "    \"L\": \"ACA\",\n",
        "    \"I\": \"ATA\",\n",
        "    \"M\": \"ATC\",\n",
        "    \"V\": \"ATT\",\n",
        "    \"S\": \"CTA\",\n",
        "    \"P\": \"CTC\",\n",
        "    \"T\": \"CTT\",\n",
        "    \"A\": \"AGA\",\n",
        "    \"Y\": \"AGC\",\n",
        "    \"H\": \"AGT\",\n",
        "    \"Q\": \"AGG\",\n",
        "    \"N\": \"CGA\",\n",
        "    \"K\": \"CGC\",\n",
        "    \"D\": \"CGT\",\n",
        "    \"E\": \"CGG\",\n",
        "    \"C\": \"TGA\",\n",
        "    \"W\": \"TGC\",\n",
        "    \"R\": \"TGT\",\n",
        "    \"G\": \"TGG\",\n",
        "    \"X\": \"NNN\",  # Amino acid not known\n",
        "    \"B\": \"CGT\",  # Represents either N or D - will translate as D here (N is only off by one base)\n",
        "    \"J\": \"ACA\",  # Represents either L or I - will translate as L here (I is only off by one base)\n",
        "    \"Z\": \"CGG\"   # Represents either E or Q - will translate as E here (Q is only off by one base)\n",
        "}"
      ]
    },
    {
      "cell_type": "code",
      "execution_count": null,
      "id": "a1528587-fd17-47b0-9919-3bfa2d80f14a",
      "metadata": {
        "id": "a1528587-fd17-47b0-9919-3bfa2d80f14a",
        "outputId": "b944960d-1ae2-4fc2-82d3-ba2969abbd46"
      },
      "outputs": [
        {
          "name": "stdout",
          "output_type": "stream",
          "text": [
            "CPU times: user 28min 50s, sys: 996 ms, total: 28min 51s\n",
            "Wall time: 28min 51s\n"
          ]
        }
      ],
      "source": [
        "%%time\n",
        "# Translate sequences to cfc\n",
        "ids = []\n",
        "all_ids = []\n",
        "dp_ids = []\n",
        "dp_rep_ids = []\n",
        "dp_seqs = []\n",
        "cfc_seqs = []\n",
        "dp_cfc_seqs = []\n",
        "for record in SeqIO.parse(palmdb, \"fasta\"):\n",
        "    # Translate AA sequence to comma-free\n",
        "    cfc_seq_temp = []\n",
        "    for aa in record.seq:\n",
        "        # Capitalize amino acid\n",
        "        aa = aa.capitalize()\n",
        "\n",
        "        # Rev translate to comme-free code\n",
        "        cfc_seq_temp.append(cfcode[aa])\n",
        "\n",
        "    # Record duplicate IDs and seqs\n",
        "    if \"\".join(cfc_seq_temp) in cfc_seqs:\n",
        "        dp_ids.append(record.id)\n",
        "        dp_seqs.append(record.seq)\n",
        "        dp_cfc_seqs.append(\"\".join(cfc_seq_temp))\n",
        "\n",
        "        # Record duplicated ID and its representative\n",
        "        dp_rep_ids.append([record.id, ids[cfc_seqs.index(\"\".join(cfc_seq_temp))]])\n",
        "\n",
        "    else:\n",
        "        # Record unique cfc seqs\n",
        "        cfc_seqs.append(\"\".join(cfc_seq_temp))\n",
        "\n",
        "        # Record unique IDs\n",
        "        ids.append(record.id)\n",
        "\n",
        "    # Record all IDs\n",
        "    all_ids.append(record.id)"
      ]
    },
    {
      "cell_type": "code",
      "execution_count": null,
      "id": "da713159-335e-4d45-9b91-432fa688631e",
      "metadata": {
        "id": "da713159-335e-4d45-9b91-432fa688631e",
        "outputId": "6753e74a-e661-4174-d610-ece8c2edb515"
      },
      "outputs": [
        {
          "data": {
            "text/plain": [
              "Seq('FSYDTRCFDSTVTESDIRTEEAIYQCCDLDPQARVAIKSLTERLYVGGPLTNSR...LVV')"
            ]
          },
          "execution_count": 6,
          "metadata": {},
          "output_type": "execute_result"
        }
      ],
      "source": [
        "# Show one AA sequence that becomes duplicated in cfc\n",
        "dp_seqs[0]"
      ]
    },
    {
      "cell_type": "code",
      "execution_count": null,
      "id": "843f0de9-069f-46f6-9472-5a11c4778d4a",
      "metadata": {
        "id": "843f0de9-069f-46f6-9472-5a11c4778d4a",
        "outputId": "01143c3c-4b23-40f6-dde5-8ca5da1aa38f"
      },
      "outputs": [
        {
          "data": {
            "text/plain": [
              "62"
            ]
          },
          "execution_count": 7,
          "metadata": {},
          "output_type": "execute_result"
        }
      ],
      "source": [
        "# Number of duplicate sequences\n",
        "len(dp_cfc_seqs)"
      ]
    },
    {
      "cell_type": "code",
      "execution_count": null,
      "id": "80441ad6-d9dc-47e7-bdd6-990a57bb9eb8",
      "metadata": {
        "id": "80441ad6-d9dc-47e7-bdd6-990a57bb9eb8",
        "outputId": "bba0b556-a604-4b6c-9bf7-1d54df14e2dc"
      },
      "outputs": [
        {
          "data": {
            "text/plain": [
              "62"
            ]
          },
          "execution_count": 8,
          "metadata": {},
          "output_type": "execute_result"
        }
      ],
      "source": [
        "len(dp_rep_ids)"
      ]
    },
    {
      "cell_type": "code",
      "execution_count": null,
      "id": "fae0c374-aca1-40ca-b767-5fe08c68011d",
      "metadata": {
        "id": "fae0c374-aca1-40ca-b767-5fe08c68011d",
        "outputId": "b7bcfb31-f650-4eab-98f0-6de1bc26278c"
      },
      "outputs": [
        {
          "data": {
            "text/plain": [
              "[['u2176', 'u54'],\n",
              " ['u3537', 'u30'],\n",
              " ['u3600', 'u766'],\n",
              " ['u7909', 'u625'],\n",
              " ['u8163', 'u168'],\n",
              " ['u10129', 'u571'],\n",
              " ['u10794', 'u3538'],\n",
              " ['u10920', 'u1476'],\n",
              " ['u18418', 'u4871'],\n",
              " ['u18421', 'u305'],\n",
              " ['u20563', 'u965'],\n",
              " ['u22979', 'u995'],\n",
              " ['u27079', 'u2'],\n",
              " ['u27112', 'u421'],\n",
              " ['u27117', 'u30'],\n",
              " ['u27250', 'u2'],\n",
              " ['u27345', 'u27041'],\n",
              " ['u27538', 'u2701'],\n",
              " ['u27728', 'u1'],\n",
              " ['u27729', 'u4'],\n",
              " ['u27732', 'u79'],\n",
              " ['u27909', 'u6347'],\n",
              " ['u28010', 'u26086'],\n",
              " ['u28178', 'u609'],\n",
              " ['u28196', 'u686'],\n",
              " ['u28302', 'u433'],\n",
              " ['u28306', 'u1008'],\n",
              " ['u28308', 'u1309'],\n",
              " ['u28328', 'u150'],\n",
              " ['u28407', 'u5'],\n",
              " ['u28415', 'u2'],\n",
              " ['u28420', 'u4'],\n",
              " ['u28521', 'u1102'],\n",
              " ['u28656', 'u988'],\n",
              " ['u28659', 'u6984'],\n",
              " ['u28725', 'u8351'],\n",
              " ['u28726', 'u2708'],\n",
              " ['u28815', 'u6286'],\n",
              " ['u28908', 'u2'],\n",
              " ['u28966', 'u3'],\n",
              " ['u28979', 'u2389'],\n",
              " ['u29168', 'u2812'],\n",
              " ['u29177', 'u27238'],\n",
              " ['u29209', 'u286'],\n",
              " ['u29277', 'u1969'],\n",
              " ['u29288', 'u4905'],\n",
              " ['u29319', 'u2177'],\n",
              " ['u29437', 'u13'],\n",
              " ['u29745', 'u4499'],\n",
              " ['u29748', 'u28689'],\n",
              " ['u29874', 'u20304'],\n",
              " ['u29924', 'u1411'],\n",
              " ['u29934', 'u1516'],\n",
              " ['u29953', 'u28333'],\n",
              " ['u29979', 'u2831'],\n",
              " ['u30044', 'u6329'],\n",
              " ['u30057', 'u1372'],\n",
              " ['u30154', 'u13'],\n",
              " ['u30181', 'u418'],\n",
              " ['u30225', 'u29297'],\n",
              " ['u34123', 'u16'],\n",
              " ['u42637', 'u28293']]"
            ]
          },
          "execution_count": 9,
          "metadata": {},
          "output_type": "execute_result"
        }
      ],
      "source": [
        "# Show the virus ID pairs whose AA sequences become identical after translation to cfc\n",
        "dp_rep_ids"
      ]
    },
    {
      "cell_type": "markdown",
      "id": "b3e0b95f-9449-48d2-abc9-a43611498d52",
      "metadata": {
        "id": "b3e0b95f-9449-48d2-abc9-a43611498d52"
      },
      "source": [
        "Create new reference giving a single representative sequence and ID to cfc duplicates:"
      ]
    },
    {
      "cell_type": "code",
      "execution_count": null,
      "id": "6de0f33e-2813-4965-801f-c3a5d9e40361",
      "metadata": {
        "id": "6de0f33e-2813-4965-801f-c3a5d9e40361"
      },
      "outputs": [],
      "source": [
        "# These will be the final PalmDB RdRP amino acid reference sequences\n",
        "palmdb_unique = \"palmdb_rdrp_seqs.fa\"\n",
        "\n",
        "# The t2g file will be further adjusted in the next notebook\n",
        "palmdb_unique_t2g = \"uniques_noduplicates_t2g.txt\""
      ]
    },
    {
      "cell_type": "code",
      "execution_count": null,
      "id": "63281b22-81fb-4b5c-8c63-7ac54ccf9441",
      "metadata": {
        "id": "63281b22-81fb-4b5c-8c63-7ac54ccf9441"
      },
      "outputs": [],
      "source": [
        "seqs_new = []\n",
        "with open(palmdb_unique, \"w\") as palmdb_nd, open(palmdb_unique_t2g, \"w\") as palmdb_t2g:\n",
        "    for record in SeqIO.parse(palmdb, \"fasta\"):\n",
        "        if str(record.id) not in dp_ids:\n",
        "            palmdb_nd.write(\">\" + record.id + \"\\n\")\n",
        "            palmdb_nd.write(str(record.seq) + \"\\n\")\n",
        "            seqs_new.append(str(record.seq))\n",
        "\n",
        "            palmdb_t2g.write(record.id + \"\\t\" + record.id + \"\\n\")"
      ]
    },
    {
      "cell_type": "code",
      "execution_count": null,
      "id": "22248d0c-70b5-4c32-898b-ef2f3096c263",
      "metadata": {
        "id": "22248d0c-70b5-4c32-898b-ef2f3096c263",
        "outputId": "d340b6e3-d7c9-494e-c419-3488b6013f4b"
      },
      "outputs": [
        {
          "data": {
            "text/plain": [
              "296561"
            ]
          },
          "execution_count": 12,
          "metadata": {},
          "output_type": "execute_result"
        }
      ],
      "source": [
        "# Show total number of sequences in new RdRP reference\n",
        "len(seqs_new)"
      ]
    },
    {
      "cell_type": "code",
      "execution_count": null,
      "id": "2f150e92-695c-4e41-8df5-a3b4bb02a7dc",
      "metadata": {
        "id": "2f150e92-695c-4e41-8df5-a3b4bb02a7dc",
        "outputId": "e02c1762-396b-4930-c15e-f628e1da1cfa"
      },
      "outputs": [
        {
          "data": {
            "text/plain": [
              "296561"
            ]
          },
          "execution_count": 13,
          "metadata": {},
          "output_type": "execute_result"
        }
      ],
      "source": [
        "# Show total number of unique sequences in new RdRP reference\n",
        "len(set(seqs_new))"
      ]
    },
    {
      "cell_type": "markdown",
      "id": "116a9cb4-c232-469d-b57c-1a2c4bac961b",
      "metadata": {
        "id": "116a9cb4-c232-469d-b57c-1a2c4bac961b"
      },
      "source": [
        "### Group representative virus IDs in virus ID to sOTU mapping\n",
        "Download the original virus ID t0 sOTU mapping as provided by Edgar *et al.*  \n",
        "The file was originally downloaded from here: https://github.com/rcedgar/palmdb/blob/main/2021-03-14/u_tax.tsv"
      ]
    },
    {
      "cell_type": "code",
      "execution_count": null,
      "id": "38246763-982f-485a-b11d-10523c4b5eb4",
      "metadata": {
        "id": "38246763-982f-485a-b11d-10523c4b5eb4",
        "outputId": "9b7bbafe-732d-410a-dcf3-b2e5703737a2"
      },
      "outputs": [
        {
          "data": {
            "text/html": [
              "<div>\n",
              "<style scoped>\n",
              "    .dataframe tbody tr th:only-of-type {\n",
              "        vertical-align: middle;\n",
              "    }\n",
              "\n",
              "    .dataframe tbody tr th {\n",
              "        vertical-align: top;\n",
              "    }\n",
              "\n",
              "    .dataframe thead th {\n",
              "        text-align: right;\n",
              "    }\n",
              "</style>\n",
              "<table border=\"1\" class=\"dataframe\">\n",
              "  <thead>\n",
              "    <tr style=\"text-align: right;\">\n",
              "      <th></th>\n",
              "      <th>Label</th>\n",
              "      <th>phylum</th>\n",
              "      <th>class</th>\n",
              "      <th>order</th>\n",
              "      <th>family</th>\n",
              "      <th>genus</th>\n",
              "      <th>species</th>\n",
              "    </tr>\n",
              "  </thead>\n",
              "  <tbody>\n",
              "    <tr>\n",
              "      <th>0</th>\n",
              "      <td>u9</td>\n",
              "      <td>Kitrinoviricota</td>\n",
              "      <td>Flasuviricetes</td>\n",
              "      <td>Amarillovirales</td>\n",
              "      <td>Flaviviridae</td>\n",
              "      <td>Flavivirus</td>\n",
              "      <td>West Nile virus</td>\n",
              "    </tr>\n",
              "    <tr>\n",
              "      <th>1</th>\n",
              "      <td>u10</td>\n",
              "      <td>Negarnaviricota</td>\n",
              "      <td>Monjiviricetes</td>\n",
              "      <td>Mononegavirales</td>\n",
              "      <td>Filoviridae</td>\n",
              "      <td>Ebolavirus</td>\n",
              "      <td>Zaire ebolavirus</td>\n",
              "    </tr>\n",
              "    <tr>\n",
              "      <th>2</th>\n",
              "      <td>u6</td>\n",
              "      <td>Negarnaviricota</td>\n",
              "      <td>Insthoviricetes</td>\n",
              "      <td>Articulavirales</td>\n",
              "      <td>Orthomyxoviridae</td>\n",
              "      <td>Betainfluenzavirus</td>\n",
              "      <td>Influenza B virus</td>\n",
              "    </tr>\n",
              "    <tr>\n",
              "      <th>3</th>\n",
              "      <td>u13</td>\n",
              "      <td>Negarnaviricota</td>\n",
              "      <td>Monjiviricetes</td>\n",
              "      <td>Mononegavirales</td>\n",
              "      <td>Rhabdoviridae</td>\n",
              "      <td>Lyssavirus</td>\n",
              "      <td>Rabies lyssavirus</td>\n",
              "    </tr>\n",
              "    <tr>\n",
              "      <th>4</th>\n",
              "      <td>u1</td>\n",
              "      <td>Pisuviricota</td>\n",
              "      <td>Pisoniviricetes</td>\n",
              "      <td>Nidovirales</td>\n",
              "      <td>Coronaviridae</td>\n",
              "      <td>Betacoronavirus</td>\n",
              "      <td>Severe acute respiratory syndrome-related coro...</td>\n",
              "    </tr>\n",
              "    <tr>\n",
              "      <th>...</th>\n",
              "      <td>...</td>\n",
              "      <td>...</td>\n",
              "      <td>...</td>\n",
              "      <td>...</td>\n",
              "      <td>...</td>\n",
              "      <td>...</td>\n",
              "      <td>...</td>\n",
              "    </tr>\n",
              "    <tr>\n",
              "      <th>296618</th>\n",
              "      <td>u296621</td>\n",
              "      <td>Lenarviricota</td>\n",
              "      <td>Allassoviricetes</td>\n",
              "      <td>Levivirales</td>\n",
              "      <td>.</td>\n",
              "      <td>.</td>\n",
              "      <td>.</td>\n",
              "    </tr>\n",
              "    <tr>\n",
              "      <th>296619</th>\n",
              "      <td>u296608</td>\n",
              "      <td>.</td>\n",
              "      <td>.</td>\n",
              "      <td>.</td>\n",
              "      <td>.</td>\n",
              "      <td>.</td>\n",
              "      <td>.</td>\n",
              "    </tr>\n",
              "    <tr>\n",
              "      <th>296620</th>\n",
              "      <td>u296622</td>\n",
              "      <td>Lenarviricota</td>\n",
              "      <td>Howeltoviricetes</td>\n",
              "      <td>Cryppavirales</td>\n",
              "      <td>.</td>\n",
              "      <td>.</td>\n",
              "      <td>.</td>\n",
              "    </tr>\n",
              "    <tr>\n",
              "      <th>296621</th>\n",
              "      <td>u296618</td>\n",
              "      <td>Pisuviricota</td>\n",
              "      <td>Pisoniviricetes</td>\n",
              "      <td>Picornavirales</td>\n",
              "      <td>Picornaviridae</td>\n",
              "      <td>Enterovirus</td>\n",
              "      <td>Enterovirus C</td>\n",
              "    </tr>\n",
              "    <tr>\n",
              "      <th>296622</th>\n",
              "      <td>u296613</td>\n",
              "      <td>.</td>\n",
              "      <td>.</td>\n",
              "      <td>.</td>\n",
              "      <td>.</td>\n",
              "      <td>.</td>\n",
              "      <td>.</td>\n",
              "    </tr>\n",
              "  </tbody>\n",
              "</table>\n",
              "<p>296623 rows × 7 columns</p>\n",
              "</div>"
            ],
            "text/plain": [
              "          Label           phylum             class            order  \\\n",
              "0            u9  Kitrinoviricota    Flasuviricetes  Amarillovirales   \n",
              "1           u10  Negarnaviricota    Monjiviricetes  Mononegavirales   \n",
              "2            u6  Negarnaviricota   Insthoviricetes  Articulavirales   \n",
              "3           u13  Negarnaviricota    Monjiviricetes  Mononegavirales   \n",
              "4            u1     Pisuviricota   Pisoniviricetes      Nidovirales   \n",
              "...         ...              ...               ...              ...   \n",
              "296618  u296621    Lenarviricota  Allassoviricetes      Levivirales   \n",
              "296619  u296608                .                 .                .   \n",
              "296620  u296622    Lenarviricota  Howeltoviricetes    Cryppavirales   \n",
              "296621  u296618     Pisuviricota   Pisoniviricetes   Picornavirales   \n",
              "296622  u296613                .                 .                .   \n",
              "\n",
              "                  family               genus  \\\n",
              "0           Flaviviridae          Flavivirus   \n",
              "1            Filoviridae          Ebolavirus   \n",
              "2       Orthomyxoviridae  Betainfluenzavirus   \n",
              "3          Rhabdoviridae          Lyssavirus   \n",
              "4          Coronaviridae     Betacoronavirus   \n",
              "...                  ...                 ...   \n",
              "296618                 .                   .   \n",
              "296619                 .                   .   \n",
              "296620                 .                   .   \n",
              "296621    Picornaviridae         Enterovirus   \n",
              "296622                 .                   .   \n",
              "\n",
              "                                                  species  \n",
              "0                                         West Nile virus  \n",
              "1                                        Zaire ebolavirus  \n",
              "2                                       Influenza B virus  \n",
              "3                                       Rabies lyssavirus  \n",
              "4       Severe acute respiratory syndrome-related coro...  \n",
              "...                                                   ...  \n",
              "296618                                                  .  \n",
              "296619                                                  .  \n",
              "296620                                                  .  \n",
              "296621                                      Enterovirus C  \n",
              "296622                                                  .  \n",
              "\n",
              "[296623 rows x 7 columns]"
            ]
          },
          "execution_count": 14,
          "metadata": {},
          "output_type": "execute_result"
        }
      ],
      "source": [
        "# Download original virus ID to taxonomy mapping as provided by Edgar et al.\n",
        "!wget https://raw.githubusercontent.com/pachterlab/LSCHWCP_2023/main/Notebooks/create_optimized_palmdb/u_tax.tsv\n",
        "df_tax = pd.read_csv(\"u_tax.tsv\", sep=\"\\t\")\n",
        "df_tax"
      ]
    },
    {
      "cell_type": "code",
      "execution_count": null,
      "id": "09453a1f-ab16-4027-b231-02f1b2255d2b",
      "metadata": {
        "id": "09453a1f-ab16-4027-b231-02f1b2255d2b",
        "outputId": "e3772e41-fee0-4702-80d0-0365363400c1"
      },
      "outputs": [
        {
          "data": {
            "text/html": [
              "<div>\n",
              "<style scoped>\n",
              "    .dataframe tbody tr th:only-of-type {\n",
              "        vertical-align: middle;\n",
              "    }\n",
              "\n",
              "    .dataframe tbody tr th {\n",
              "        vertical-align: top;\n",
              "    }\n",
              "\n",
              "    .dataframe thead th {\n",
              "        text-align: right;\n",
              "    }\n",
              "</style>\n",
              "<table border=\"1\" class=\"dataframe\">\n",
              "  <thead>\n",
              "    <tr style=\"text-align: right;\">\n",
              "      <th></th>\n",
              "      <th>member</th>\n",
              "      <th>representative</th>\n",
              "    </tr>\n",
              "  </thead>\n",
              "  <tbody>\n",
              "    <tr>\n",
              "      <th>0</th>\n",
              "      <td>u1</td>\n",
              "      <td>u1</td>\n",
              "    </tr>\n",
              "    <tr>\n",
              "      <th>1</th>\n",
              "      <td>u2</td>\n",
              "      <td>u2</td>\n",
              "    </tr>\n",
              "    <tr>\n",
              "      <th>2</th>\n",
              "      <td>u3</td>\n",
              "      <td>u3</td>\n",
              "    </tr>\n",
              "    <tr>\n",
              "      <th>3</th>\n",
              "      <td>u4</td>\n",
              "      <td>u4</td>\n",
              "    </tr>\n",
              "    <tr>\n",
              "      <th>4</th>\n",
              "      <td>u5</td>\n",
              "      <td>u5</td>\n",
              "    </tr>\n",
              "    <tr>\n",
              "      <th>...</th>\n",
              "      <td>...</td>\n",
              "      <td>...</td>\n",
              "    </tr>\n",
              "    <tr>\n",
              "      <th>296618</th>\n",
              "      <td>u296619</td>\n",
              "      <td>u296619</td>\n",
              "    </tr>\n",
              "    <tr>\n",
              "      <th>296619</th>\n",
              "      <td>u296620</td>\n",
              "      <td>u296620</td>\n",
              "    </tr>\n",
              "    <tr>\n",
              "      <th>296620</th>\n",
              "      <td>u296621</td>\n",
              "      <td>u296621</td>\n",
              "    </tr>\n",
              "    <tr>\n",
              "      <th>296621</th>\n",
              "      <td>u296622</td>\n",
              "      <td>u296622</td>\n",
              "    </tr>\n",
              "    <tr>\n",
              "      <th>296622</th>\n",
              "      <td>u296623</td>\n",
              "      <td>u296623</td>\n",
              "    </tr>\n",
              "  </tbody>\n",
              "</table>\n",
              "<p>296623 rows × 2 columns</p>\n",
              "</div>"
            ],
            "text/plain": [
              "         member representative\n",
              "0            u1             u1\n",
              "1            u2             u2\n",
              "2            u3             u3\n",
              "3            u4             u4\n",
              "4            u5             u5\n",
              "...         ...            ...\n",
              "296618  u296619        u296619\n",
              "296619  u296620        u296620\n",
              "296620  u296621        u296621\n",
              "296621  u296622        u296622\n",
              "296622  u296623        u296623\n",
              "\n",
              "[296623 rows x 2 columns]"
            ]
          },
          "execution_count": 15,
          "metadata": {},
          "output_type": "execute_result"
        }
      ],
      "source": [
        "# For duplicate virus IDs, replace the ID with the representative\n",
        "d_clu_1 = pd.DataFrame()\n",
        "\n",
        "df_clu_1[\"member\"] = all_ids\n",
        "df_clu_1[\"representative\"] = all_ids\n",
        "\n",
        "for [dp_id, rep_id] in dp_rep_ids:\n",
        "    df_clu_1[\"representative\"] = np.where(df_clu_1[\"member\"] == dp_id, rep_id, df_clu_1[\"representative\"])\n",
        "\n",
        "df_clu_1"
      ]
    },
    {
      "cell_type": "code",
      "execution_count": null,
      "id": "3f095e2a-efa1-4c9a-93dc-63f23a185024",
      "metadata": {
        "id": "3f095e2a-efa1-4c9a-93dc-63f23a185024",
        "outputId": "bb2e3a0f-10c7-46e8-c13b-589d4eb1d7f3"
      },
      "outputs": [
        {
          "data": {
            "text/html": [
              "<div>\n",
              "<style scoped>\n",
              "    .dataframe tbody tr th:only-of-type {\n",
              "        vertical-align: middle;\n",
              "    }\n",
              "\n",
              "    .dataframe tbody tr th {\n",
              "        vertical-align: top;\n",
              "    }\n",
              "\n",
              "    .dataframe thead th {\n",
              "        text-align: right;\n",
              "    }\n",
              "</style>\n",
              "<table border=\"1\" class=\"dataframe\">\n",
              "  <thead>\n",
              "    <tr style=\"text-align: right;\">\n",
              "      <th></th>\n",
              "      <th>member</th>\n",
              "      <th>representative</th>\n",
              "      <th>Label</th>\n",
              "      <th>phylum</th>\n",
              "      <th>class</th>\n",
              "      <th>order</th>\n",
              "      <th>family</th>\n",
              "      <th>genus</th>\n",
              "      <th>species</th>\n",
              "    </tr>\n",
              "  </thead>\n",
              "  <tbody>\n",
              "    <tr>\n",
              "      <th>0</th>\n",
              "      <td>u1</td>\n",
              "      <td>u1</td>\n",
              "      <td>u1</td>\n",
              "      <td>Pisuviricota</td>\n",
              "      <td>Pisoniviricetes</td>\n",
              "      <td>Nidovirales</td>\n",
              "      <td>Coronaviridae</td>\n",
              "      <td>Betacoronavirus</td>\n",
              "      <td>Severe acute respiratory syndrome-related coro...</td>\n",
              "    </tr>\n",
              "    <tr>\n",
              "      <th>1</th>\n",
              "      <td>u2</td>\n",
              "      <td>u2</td>\n",
              "      <td>u2</td>\n",
              "      <td>Negarnaviricota</td>\n",
              "      <td>Insthoviricetes</td>\n",
              "      <td>Articulavirales</td>\n",
              "      <td>Orthomyxoviridae</td>\n",
              "      <td>Alphainfluenzavirus</td>\n",
              "      <td>Influenza A virus</td>\n",
              "    </tr>\n",
              "    <tr>\n",
              "      <th>2</th>\n",
              "      <td>u3</td>\n",
              "      <td>u3</td>\n",
              "      <td>u3</td>\n",
              "      <td>Negarnaviricota</td>\n",
              "      <td>Insthoviricetes</td>\n",
              "      <td>Articulavirales</td>\n",
              "      <td>Orthomyxoviridae</td>\n",
              "      <td>Alphainfluenzavirus</td>\n",
              "      <td>Influenza A virus</td>\n",
              "    </tr>\n",
              "    <tr>\n",
              "      <th>3</th>\n",
              "      <td>u4</td>\n",
              "      <td>u4</td>\n",
              "      <td>u4</td>\n",
              "      <td>Negarnaviricota</td>\n",
              "      <td>Insthoviricetes</td>\n",
              "      <td>Articulavirales</td>\n",
              "      <td>Orthomyxoviridae</td>\n",
              "      <td>Alphainfluenzavirus</td>\n",
              "      <td>Influenza A virus</td>\n",
              "    </tr>\n",
              "    <tr>\n",
              "      <th>4</th>\n",
              "      <td>u5</td>\n",
              "      <td>u5</td>\n",
              "      <td>u5</td>\n",
              "      <td>Negarnaviricota</td>\n",
              "      <td>Insthoviricetes</td>\n",
              "      <td>Articulavirales</td>\n",
              "      <td>Orthomyxoviridae</td>\n",
              "      <td>Alphainfluenzavirus</td>\n",
              "      <td>Influenza A virus</td>\n",
              "    </tr>\n",
              "    <tr>\n",
              "      <th>...</th>\n",
              "      <td>...</td>\n",
              "      <td>...</td>\n",
              "      <td>...</td>\n",
              "      <td>...</td>\n",
              "      <td>...</td>\n",
              "      <td>...</td>\n",
              "      <td>...</td>\n",
              "      <td>...</td>\n",
              "      <td>...</td>\n",
              "    </tr>\n",
              "    <tr>\n",
              "      <th>296618</th>\n",
              "      <td>u296619</td>\n",
              "      <td>u296619</td>\n",
              "      <td>u296619</td>\n",
              "      <td>Lenarviricota</td>\n",
              "      <td>Allassoviricetes</td>\n",
              "      <td>Levivirales</td>\n",
              "      <td>.</td>\n",
              "      <td>.</td>\n",
              "      <td>.</td>\n",
              "    </tr>\n",
              "    <tr>\n",
              "      <th>296619</th>\n",
              "      <td>u296620</td>\n",
              "      <td>u296620</td>\n",
              "      <td>u296620</td>\n",
              "      <td>Kitrinoviricota</td>\n",
              "      <td>Alsuviricetes</td>\n",
              "      <td>Tymovirales</td>\n",
              "      <td>Betaflexiviridae</td>\n",
              "      <td>.</td>\n",
              "      <td>.</td>\n",
              "    </tr>\n",
              "    <tr>\n",
              "      <th>296620</th>\n",
              "      <td>u296621</td>\n",
              "      <td>u296621</td>\n",
              "      <td>u296621</td>\n",
              "      <td>Lenarviricota</td>\n",
              "      <td>Allassoviricetes</td>\n",
              "      <td>Levivirales</td>\n",
              "      <td>.</td>\n",
              "      <td>.</td>\n",
              "      <td>.</td>\n",
              "    </tr>\n",
              "    <tr>\n",
              "      <th>296621</th>\n",
              "      <td>u296622</td>\n",
              "      <td>u296622</td>\n",
              "      <td>u296622</td>\n",
              "      <td>Lenarviricota</td>\n",
              "      <td>Howeltoviricetes</td>\n",
              "      <td>Cryppavirales</td>\n",
              "      <td>.</td>\n",
              "      <td>.</td>\n",
              "      <td>.</td>\n",
              "    </tr>\n",
              "    <tr>\n",
              "      <th>296622</th>\n",
              "      <td>u296623</td>\n",
              "      <td>u296623</td>\n",
              "      <td>u296623</td>\n",
              "      <td>.</td>\n",
              "      <td>.</td>\n",
              "      <td>.</td>\n",
              "      <td>.</td>\n",
              "      <td>.</td>\n",
              "      <td>.</td>\n",
              "    </tr>\n",
              "  </tbody>\n",
              "</table>\n",
              "<p>296623 rows × 9 columns</p>\n",
              "</div>"
            ],
            "text/plain": [
              "         member representative    Label           phylum             class  \\\n",
              "0            u1             u1       u1     Pisuviricota   Pisoniviricetes   \n",
              "1            u2             u2       u2  Negarnaviricota   Insthoviricetes   \n",
              "2            u3             u3       u3  Negarnaviricota   Insthoviricetes   \n",
              "3            u4             u4       u4  Negarnaviricota   Insthoviricetes   \n",
              "4            u5             u5       u5  Negarnaviricota   Insthoviricetes   \n",
              "...         ...            ...      ...              ...               ...   \n",
              "296618  u296619        u296619  u296619    Lenarviricota  Allassoviricetes   \n",
              "296619  u296620        u296620  u296620  Kitrinoviricota     Alsuviricetes   \n",
              "296620  u296621        u296621  u296621    Lenarviricota  Allassoviricetes   \n",
              "296621  u296622        u296622  u296622    Lenarviricota  Howeltoviricetes   \n",
              "296622  u296623        u296623  u296623                .                 .   \n",
              "\n",
              "                  order            family                genus  \\\n",
              "0           Nidovirales     Coronaviridae      Betacoronavirus   \n",
              "1       Articulavirales  Orthomyxoviridae  Alphainfluenzavirus   \n",
              "2       Articulavirales  Orthomyxoviridae  Alphainfluenzavirus   \n",
              "3       Articulavirales  Orthomyxoviridae  Alphainfluenzavirus   \n",
              "4       Articulavirales  Orthomyxoviridae  Alphainfluenzavirus   \n",
              "...                 ...               ...                  ...   \n",
              "296618      Levivirales                 .                    .   \n",
              "296619      Tymovirales  Betaflexiviridae                    .   \n",
              "296620      Levivirales                 .                    .   \n",
              "296621    Cryppavirales                 .                    .   \n",
              "296622                .                 .                    .   \n",
              "\n",
              "                                                  species  \n",
              "0       Severe acute respiratory syndrome-related coro...  \n",
              "1                                       Influenza A virus  \n",
              "2                                       Influenza A virus  \n",
              "3                                       Influenza A virus  \n",
              "4                                       Influenza A virus  \n",
              "...                                                   ...  \n",
              "296618                                                  .  \n",
              "296619                                                  .  \n",
              "296620                                                  .  \n",
              "296621                                                  .  \n",
              "296622                                                  .  \n",
              "\n",
              "[296623 rows x 9 columns]"
            ]
          },
          "execution_count": 15,
          "metadata": {},
          "output_type": "execute_result"
        }
      ],
      "source": [
        "df_1 = df_clu_1.merge(df_tax, left_on=\"member\", right_on=\"Label\")\n",
        "df_1"
      ]
    },
    {
      "cell_type": "markdown",
      "source": [
        "Check wether taxonomies of duplicate IDs are the same:"
      ],
      "metadata": {
        "id": "xIYWLf3dKJP1"
      },
      "id": "xIYWLf3dKJP1"
    },
    {
      "cell_type": "code",
      "execution_count": null,
      "id": "b21905d8-4bae-4de1-80b9-e276feadf68f",
      "metadata": {
        "id": "b21905d8-4bae-4de1-80b9-e276feadf68f"
      },
      "outputs": [],
      "source": [
        "def tax_deb(level, df):\n",
        "    groups = df.groupby(\"representative\")[level].unique().values\n",
        "    disag_count = 0\n",
        "\n",
        "    for element in groups:\n",
        "        if len(element) > 1 and not \".\" in element:\n",
        "            print(element)\n",
        "            # Count how often taxonomy doesn't agree\n",
        "            disag_count += 1\n",
        "\n",
        "    return disag_count"
      ]
    },
    {
      "cell_type": "code",
      "execution_count": null,
      "id": "06e17633-e5ad-4e10-aab2-e3643ee77512",
      "metadata": {
        "id": "06e17633-e5ad-4e10-aab2-e3643ee77512",
        "outputId": "fff75d0f-3e37-4c23-ab63-57f62bfe2951"
      },
      "outputs": [
        {
          "data": {
            "text/plain": [
              "True"
            ]
          },
          "execution_count": 17,
          "metadata": {},
          "output_type": "execute_result"
        }
      ],
      "source": [
        "set(df_1[\"representative\"].unique()) == set(df_1.groupby(\"representative\")[\"phylum\"].unique().to_frame().index)"
      ]
    },
    {
      "cell_type": "code",
      "execution_count": null,
      "id": "489df29c-d595-4a31-8412-1bbe084b3fce",
      "metadata": {
        "id": "489df29c-d595-4a31-8412-1bbe084b3fce",
        "outputId": "f399e585-31f1-4498-abb1-1d77af16f2a1"
      },
      "outputs": [
        {
          "data": {
            "text/html": [
              "<div>\n",
              "<style scoped>\n",
              "    .dataframe tbody tr th:only-of-type {\n",
              "        vertical-align: middle;\n",
              "    }\n",
              "\n",
              "    .dataframe tbody tr th {\n",
              "        vertical-align: top;\n",
              "    }\n",
              "\n",
              "    .dataframe thead th {\n",
              "        text-align: right;\n",
              "    }\n",
              "</style>\n",
              "<table border=\"1\" class=\"dataframe\">\n",
              "  <thead>\n",
              "    <tr style=\"text-align: right;\">\n",
              "      <th></th>\n",
              "      <th>phylum</th>\n",
              "      <th>class</th>\n",
              "      <th>order</th>\n",
              "      <th>family</th>\n",
              "      <th>genus</th>\n",
              "      <th>species</th>\n",
              "    </tr>\n",
              "    <tr>\n",
              "      <th>representative</th>\n",
              "      <th></th>\n",
              "      <th></th>\n",
              "      <th></th>\n",
              "      <th></th>\n",
              "      <th></th>\n",
              "      <th></th>\n",
              "    </tr>\n",
              "  </thead>\n",
              "  <tbody>\n",
              "    <tr>\n",
              "      <th>u1</th>\n",
              "      <td>[Pisuviricota]</td>\n",
              "      <td>[Pisoniviricetes]</td>\n",
              "      <td>[Nidovirales]</td>\n",
              "      <td>[Coronaviridae]</td>\n",
              "      <td>[Betacoronavirus]</td>\n",
              "      <td>[Severe acute respiratory syndrome-related cor...</td>\n",
              "    </tr>\n",
              "    <tr>\n",
              "      <th>u10</th>\n",
              "      <td>[Negarnaviricota]</td>\n",
              "      <td>[Monjiviricetes]</td>\n",
              "      <td>[Mononegavirales]</td>\n",
              "      <td>[Filoviridae]</td>\n",
              "      <td>[Ebolavirus]</td>\n",
              "      <td>[Zaire ebolavirus]</td>\n",
              "    </tr>\n",
              "    <tr>\n",
              "      <th>u100</th>\n",
              "      <td>[Kitrinoviricota]</td>\n",
              "      <td>[Flasuviricetes]</td>\n",
              "      <td>[Amarillovirales]</td>\n",
              "      <td>[Flaviviridae]</td>\n",
              "      <td>[Flavivirus]</td>\n",
              "      <td>[West Nile virus]</td>\n",
              "    </tr>\n",
              "    <tr>\n",
              "      <th>u1000</th>\n",
              "      <td>[Negarnaviricota]</td>\n",
              "      <td>[Monjiviricetes]</td>\n",
              "      <td>[Mononegavirales]</td>\n",
              "      <td>[Paramyxoviridae]</td>\n",
              "      <td>[Henipavirus]</td>\n",
              "      <td>[Hendra henipavirus]</td>\n",
              "    </tr>\n",
              "    <tr>\n",
              "      <th>u10000</th>\n",
              "      <td>[Pisuviricota]</td>\n",
              "      <td>[Pisoniviricetes]</td>\n",
              "      <td>[Picornavirales]</td>\n",
              "      <td>[Caliciviridae]</td>\n",
              "      <td>[Norovirus]</td>\n",
              "      <td>[Norwalk virus]</td>\n",
              "    </tr>\n",
              "    <tr>\n",
              "      <th>...</th>\n",
              "      <td>...</td>\n",
              "      <td>...</td>\n",
              "      <td>...</td>\n",
              "      <td>...</td>\n",
              "      <td>...</td>\n",
              "      <td>...</td>\n",
              "    </tr>\n",
              "    <tr>\n",
              "      <th>u99995</th>\n",
              "      <td>[.]</td>\n",
              "      <td>[.]</td>\n",
              "      <td>[.]</td>\n",
              "      <td>[.]</td>\n",
              "      <td>[.]</td>\n",
              "      <td>[.]</td>\n",
              "    </tr>\n",
              "    <tr>\n",
              "      <th>u99996</th>\n",
              "      <td>[Lenarviricota]</td>\n",
              "      <td>[Howeltoviricetes]</td>\n",
              "      <td>[Cryppavirales]</td>\n",
              "      <td>[Mitoviridae]</td>\n",
              "      <td>[.]</td>\n",
              "      <td>[.]</td>\n",
              "    </tr>\n",
              "    <tr>\n",
              "      <th>u99997</th>\n",
              "      <td>[.]</td>\n",
              "      <td>[.]</td>\n",
              "      <td>[.]</td>\n",
              "      <td>[.]</td>\n",
              "      <td>[.]</td>\n",
              "      <td>[.]</td>\n",
              "    </tr>\n",
              "    <tr>\n",
              "      <th>u99998</th>\n",
              "      <td>[.]</td>\n",
              "      <td>[.]</td>\n",
              "      <td>[.]</td>\n",
              "      <td>[.]</td>\n",
              "      <td>[.]</td>\n",
              "      <td>[.]</td>\n",
              "    </tr>\n",
              "    <tr>\n",
              "      <th>u99999</th>\n",
              "      <td>[.]</td>\n",
              "      <td>[.]</td>\n",
              "      <td>[.]</td>\n",
              "      <td>[.]</td>\n",
              "      <td>[.]</td>\n",
              "      <td>[.]</td>\n",
              "    </tr>\n",
              "  </tbody>\n",
              "</table>\n",
              "<p>296561 rows × 6 columns</p>\n",
              "</div>"
            ],
            "text/plain": [
              "                           phylum               class              order  \\\n",
              "representative                                                             \n",
              "u1                 [Pisuviricota]   [Pisoniviricetes]      [Nidovirales]   \n",
              "u10             [Negarnaviricota]    [Monjiviricetes]  [Mononegavirales]   \n",
              "u100            [Kitrinoviricota]    [Flasuviricetes]  [Amarillovirales]   \n",
              "u1000           [Negarnaviricota]    [Monjiviricetes]  [Mononegavirales]   \n",
              "u10000             [Pisuviricota]   [Pisoniviricetes]   [Picornavirales]   \n",
              "...                           ...                 ...                ...   \n",
              "u99995                        [.]                 [.]                [.]   \n",
              "u99996            [Lenarviricota]  [Howeltoviricetes]    [Cryppavirales]   \n",
              "u99997                        [.]                 [.]                [.]   \n",
              "u99998                        [.]                 [.]                [.]   \n",
              "u99999                        [.]                 [.]                [.]   \n",
              "\n",
              "                           family              genus  \\\n",
              "representative                                         \n",
              "u1                [Coronaviridae]  [Betacoronavirus]   \n",
              "u10                 [Filoviridae]       [Ebolavirus]   \n",
              "u100               [Flaviviridae]       [Flavivirus]   \n",
              "u1000           [Paramyxoviridae]      [Henipavirus]   \n",
              "u10000            [Caliciviridae]        [Norovirus]   \n",
              "...                           ...                ...   \n",
              "u99995                        [.]                [.]   \n",
              "u99996              [Mitoviridae]                [.]   \n",
              "u99997                        [.]                [.]   \n",
              "u99998                        [.]                [.]   \n",
              "u99999                        [.]                [.]   \n",
              "\n",
              "                                                          species  \n",
              "representative                                                     \n",
              "u1              [Severe acute respiratory syndrome-related cor...  \n",
              "u10                                            [Zaire ebolavirus]  \n",
              "u100                                            [West Nile virus]  \n",
              "u1000                                        [Hendra henipavirus]  \n",
              "u10000                                            [Norwalk virus]  \n",
              "...                                                           ...  \n",
              "u99995                                                        [.]  \n",
              "u99996                                                        [.]  \n",
              "u99997                                                        [.]  \n",
              "u99998                                                        [.]  \n",
              "u99999                                                        [.]  \n",
              "\n",
              "[296561 rows x 6 columns]"
            ]
          },
          "execution_count": 18,
          "metadata": {},
          "output_type": "execute_result"
        }
      ],
      "source": [
        "df_1_tax = df_1.groupby(\"representative\")[\"phylum\"].unique().to_frame()\n",
        "\n",
        "for level in ['class', 'order', 'family', 'genus', 'species']:\n",
        "    df_1_tax[level] = df_1.groupby(\"representative\")[level].unique().values\n",
        "\n",
        "df_1_tax"
      ]
    },
    {
      "cell_type": "code",
      "execution_count": null,
      "id": "8b282457-3db0-4e0b-bd3f-9746ed3f296d",
      "metadata": {
        "id": "8b282457-3db0-4e0b-bd3f-9746ed3f296d"
      },
      "outputs": [],
      "source": [
        "def get_arr_len(x):\n",
        "    # Remove \".\" from the tax arrays if there is more than one element\n",
        "    if len(x) > 1:\n",
        "        if \".\" in list(x):\n",
        "            x = list(x)\n",
        "            x.remove(\".\")\n",
        "\n",
        "    return len(x)"
      ]
    },
    {
      "cell_type": "code",
      "execution_count": null,
      "id": "bcaf1d34-20ce-4f10-b888-f42efb43d641",
      "metadata": {
        "id": "bcaf1d34-20ce-4f10-b888-f42efb43d641",
        "outputId": "314585bd-e2a9-4322-9df0-c6a24610a5a6"
      },
      "outputs": [
        {
          "data": {
            "text/html": [
              "<div>\n",
              "<style scoped>\n",
              "    .dataframe tbody tr th:only-of-type {\n",
              "        vertical-align: middle;\n",
              "    }\n",
              "\n",
              "    .dataframe tbody tr th {\n",
              "        vertical-align: top;\n",
              "    }\n",
              "\n",
              "    .dataframe thead th {\n",
              "        text-align: right;\n",
              "    }\n",
              "</style>\n",
              "<table border=\"1\" class=\"dataframe\">\n",
              "  <thead>\n",
              "    <tr style=\"text-align: right;\">\n",
              "      <th></th>\n",
              "      <th>phylum</th>\n",
              "      <th>class</th>\n",
              "      <th>order</th>\n",
              "      <th>family</th>\n",
              "      <th>genus</th>\n",
              "      <th>species</th>\n",
              "    </tr>\n",
              "    <tr>\n",
              "      <th>representative</th>\n",
              "      <th></th>\n",
              "      <th></th>\n",
              "      <th></th>\n",
              "      <th></th>\n",
              "      <th></th>\n",
              "      <th></th>\n",
              "    </tr>\n",
              "  </thead>\n",
              "  <tbody>\n",
              "    <tr>\n",
              "      <th>u1</th>\n",
              "      <td>1</td>\n",
              "      <td>1</td>\n",
              "      <td>1</td>\n",
              "      <td>1</td>\n",
              "      <td>1</td>\n",
              "      <td>1</td>\n",
              "    </tr>\n",
              "    <tr>\n",
              "      <th>u10</th>\n",
              "      <td>1</td>\n",
              "      <td>1</td>\n",
              "      <td>1</td>\n",
              "      <td>1</td>\n",
              "      <td>1</td>\n",
              "      <td>1</td>\n",
              "    </tr>\n",
              "    <tr>\n",
              "      <th>u100</th>\n",
              "      <td>1</td>\n",
              "      <td>1</td>\n",
              "      <td>1</td>\n",
              "      <td>1</td>\n",
              "      <td>1</td>\n",
              "      <td>1</td>\n",
              "    </tr>\n",
              "    <tr>\n",
              "      <th>u1000</th>\n",
              "      <td>1</td>\n",
              "      <td>1</td>\n",
              "      <td>1</td>\n",
              "      <td>1</td>\n",
              "      <td>1</td>\n",
              "      <td>1</td>\n",
              "    </tr>\n",
              "    <tr>\n",
              "      <th>u10000</th>\n",
              "      <td>1</td>\n",
              "      <td>1</td>\n",
              "      <td>1</td>\n",
              "      <td>1</td>\n",
              "      <td>1</td>\n",
              "      <td>1</td>\n",
              "    </tr>\n",
              "    <tr>\n",
              "      <th>...</th>\n",
              "      <td>...</td>\n",
              "      <td>...</td>\n",
              "      <td>...</td>\n",
              "      <td>...</td>\n",
              "      <td>...</td>\n",
              "      <td>...</td>\n",
              "    </tr>\n",
              "    <tr>\n",
              "      <th>u99995</th>\n",
              "      <td>1</td>\n",
              "      <td>1</td>\n",
              "      <td>1</td>\n",
              "      <td>1</td>\n",
              "      <td>1</td>\n",
              "      <td>1</td>\n",
              "    </tr>\n",
              "    <tr>\n",
              "      <th>u99996</th>\n",
              "      <td>1</td>\n",
              "      <td>1</td>\n",
              "      <td>1</td>\n",
              "      <td>1</td>\n",
              "      <td>1</td>\n",
              "      <td>1</td>\n",
              "    </tr>\n",
              "    <tr>\n",
              "      <th>u99997</th>\n",
              "      <td>1</td>\n",
              "      <td>1</td>\n",
              "      <td>1</td>\n",
              "      <td>1</td>\n",
              "      <td>1</td>\n",
              "      <td>1</td>\n",
              "    </tr>\n",
              "    <tr>\n",
              "      <th>u99998</th>\n",
              "      <td>1</td>\n",
              "      <td>1</td>\n",
              "      <td>1</td>\n",
              "      <td>1</td>\n",
              "      <td>1</td>\n",
              "      <td>1</td>\n",
              "    </tr>\n",
              "    <tr>\n",
              "      <th>u99999</th>\n",
              "      <td>1</td>\n",
              "      <td>1</td>\n",
              "      <td>1</td>\n",
              "      <td>1</td>\n",
              "      <td>1</td>\n",
              "      <td>1</td>\n",
              "    </tr>\n",
              "  </tbody>\n",
              "</table>\n",
              "<p>296561 rows × 6 columns</p>\n",
              "</div>"
            ],
            "text/plain": [
              "                phylum  class  order  family  genus  species\n",
              "representative                                              \n",
              "u1                   1      1      1       1      1        1\n",
              "u10                  1      1      1       1      1        1\n",
              "u100                 1      1      1       1      1        1\n",
              "u1000                1      1      1       1      1        1\n",
              "u10000               1      1      1       1      1        1\n",
              "...                ...    ...    ...     ...    ...      ...\n",
              "u99995               1      1      1       1      1        1\n",
              "u99996               1      1      1       1      1        1\n",
              "u99997               1      1      1       1      1        1\n",
              "u99998               1      1      1       1      1        1\n",
              "u99999               1      1      1       1      1        1\n",
              "\n",
              "[296561 rows x 6 columns]"
            ]
          },
          "execution_count": 20,
          "metadata": {},
          "output_type": "execute_result"
        }
      ],
      "source": [
        "df_1_tax_lens = df_1_tax.applymap(get_arr_len)\n",
        "df_1_tax_lens"
      ]
    },
    {
      "cell_type": "code",
      "execution_count": null,
      "id": "efd8d5d7-12f6-410b-be8f-8ff42c6e6ec8",
      "metadata": {
        "id": "efd8d5d7-12f6-410b-be8f-8ff42c6e6ec8",
        "outputId": "5dbcefed-2134-4295-c6fc-535f1abd1d96"
      },
      "outputs": [
        {
          "data": {
            "text/html": [
              "<div>\n",
              "<style scoped>\n",
              "    .dataframe tbody tr th:only-of-type {\n",
              "        vertical-align: middle;\n",
              "    }\n",
              "\n",
              "    .dataframe tbody tr th {\n",
              "        vertical-align: top;\n",
              "    }\n",
              "\n",
              "    .dataframe thead th {\n",
              "        text-align: right;\n",
              "    }\n",
              "</style>\n",
              "<table border=\"1\" class=\"dataframe\">\n",
              "  <thead>\n",
              "    <tr style=\"text-align: right;\">\n",
              "      <th></th>\n",
              "      <th>phylum</th>\n",
              "      <th>class</th>\n",
              "      <th>order</th>\n",
              "      <th>family</th>\n",
              "      <th>genus</th>\n",
              "      <th>species</th>\n",
              "    </tr>\n",
              "    <tr>\n",
              "      <th>representative</th>\n",
              "      <th></th>\n",
              "      <th></th>\n",
              "      <th></th>\n",
              "      <th></th>\n",
              "      <th></th>\n",
              "      <th></th>\n",
              "    </tr>\n",
              "  </thead>\n",
              "  <tbody>\n",
              "  </tbody>\n",
              "</table>\n",
              "</div>"
            ],
            "text/plain": [
              "Empty DataFrame\n",
              "Columns: [phylum, class, order, family, genus, species]\n",
              "Index: []"
            ]
          },
          "execution_count": 23,
          "metadata": {},
          "output_type": "execute_result"
        }
      ],
      "source": [
        "df_1_tax_lens[df_1_tax_lens[\"species\"] > 1]"
      ]
    },
    {
      "cell_type": "markdown",
      "source": [
        "Great! All representative virus IDs only have a single taxonomy associated with them. The plot below shows the number of occurences of number of taxonomies for each virus ID. Across all taxonomic ranks, all occurences fall into # of different taxonomies = 1."
      ],
      "metadata": {
        "id": "jdrhGB_jKnDS"
      },
      "id": "jdrhGB_jKnDS"
    },
    {
      "cell_type": "code",
      "execution_count": null,
      "id": "5c731386-95d2-411b-adf4-99e9a86fb40a",
      "metadata": {
        "id": "5c731386-95d2-411b-adf4-99e9a86fb40a"
      },
      "outputs": [],
      "source": [
        "def plot_bar(df):\n",
        "    levels = [\"phylum\", \"class\", \"order\", \"family\", \"genus\", \"species\"]\n",
        "\n",
        "    fig, axs = plt.subplots(figsize =(15, 10), ncols=3, nrows=2)\n",
        "\n",
        "    c_row = 0\n",
        "    c_col = 0\n",
        "    for level in levels:\n",
        "        if c_col > 2:\n",
        "            c_col = 0\n",
        "            c_row += 1\n",
        "\n",
        "        ax = axs[c_row, c_col]\n",
        "\n",
        "        ax.bar(\n",
        "            df[level].value_counts().index.values,\n",
        "            df[level].value_counts().values,\n",
        "            width=0.8\n",
        "        )\n",
        "\n",
        "        c_col += 1\n",
        "\n",
        "        ax.set_ylabel(\"# Occurences\")\n",
        "        ax.set_xlabel(\"# Different taxonomies\")\n",
        "        ax.set_title(level)\n",
        "\n",
        "        ax.xaxis.set_major_locator(MaxNLocator(integer=True))\n",
        "\n",
        "        # ax.set_yscale(\"log\")\n",
        "\n",
        "    fig.show()"
      ]
    },
    {
      "cell_type": "code",
      "execution_count": null,
      "id": "3ec59b7d-240d-40b7-898c-f90beb68f7fd",
      "metadata": {
        "id": "3ec59b7d-240d-40b7-898c-f90beb68f7fd",
        "outputId": "ea93c2d6-4ec6-4ab2-e5b4-3d6b51b9cb6d"
      },
      "outputs": [
        {
          "data": {
            "image/png": "[encoded data removed]",
            "text/plain": [
              "<Figure size 1080x720 with 6 Axes>"
            ]
          },
          "metadata": {
            "image/png": {
              "height": 603,
              "width": 889
            },
            "needs_background": "light"
          },
          "output_type": "display_data"
        }
      ],
      "source": [
        "plot_bar(df_1_tax_lens)"
      ]
    },
    {
      "cell_type": "markdown",
      "id": "692aae66-053a-49e2-9db1-e4023a43f802",
      "metadata": {
        "id": "692aae66-053a-49e2-9db1-e4023a43f802"
      },
      "source": [
        "#### Create new look-up tsv with representative virus IDs:"
      ]
    },
    {
      "cell_type": "code",
      "execution_count": null,
      "id": "a9939d1a-6678-4760-929f-e4b1601696dd",
      "metadata": {
        "id": "a9939d1a-6678-4760-929f-e4b1601696dd"
      },
      "outputs": [],
      "source": [
        "def merge_labels(x):\n",
        "    # Remove \".\" from the tax arrays if there is more than one element\n",
        "    if len(x) > 1:\n",
        "        if \".\" in list(x):\n",
        "            x = list(x)\n",
        "            x.remove(\".\")\n",
        "\n",
        "    return '_'.join(x)"
      ]
    },
    {
      "cell_type": "code",
      "execution_count": null,
      "id": "e5606cbe-5e43-4b49-b73c-531a235a91b3",
      "metadata": {
        "id": "e5606cbe-5e43-4b49-b73c-531a235a91b3",
        "outputId": "6c2e7346-a763-4e3a-b1ac-f6c62f26946c"
      },
      "outputs": [
        {
          "data": {
            "text/html": [
              "<div>\n",
              "<style scoped>\n",
              "    .dataframe tbody tr th:only-of-type {\n",
              "        vertical-align: middle;\n",
              "    }\n",
              "\n",
              "    .dataframe tbody tr th {\n",
              "        vertical-align: top;\n",
              "    }\n",
              "\n",
              "    .dataframe thead th {\n",
              "        text-align: right;\n",
              "    }\n",
              "</style>\n",
              "<table border=\"1\" class=\"dataframe\">\n",
              "  <thead>\n",
              "    <tr style=\"text-align: right;\">\n",
              "      <th></th>\n",
              "      <th>Label</th>\n",
              "      <th>phylum</th>\n",
              "      <th>class</th>\n",
              "      <th>order</th>\n",
              "      <th>family</th>\n",
              "      <th>genus</th>\n",
              "      <th>species</th>\n",
              "    </tr>\n",
              "  </thead>\n",
              "  <tbody>\n",
              "    <tr>\n",
              "      <th>0</th>\n",
              "      <td>u1</td>\n",
              "      <td>Pisuviricota</td>\n",
              "      <td>Pisoniviricetes</td>\n",
              "      <td>Nidovirales</td>\n",
              "      <td>Coronaviridae</td>\n",
              "      <td>Betacoronavirus</td>\n",
              "      <td>Severe acute respiratory syndrome-related coro...</td>\n",
              "    </tr>\n",
              "    <tr>\n",
              "      <th>1</th>\n",
              "      <td>u10</td>\n",
              "      <td>Negarnaviricota</td>\n",
              "      <td>Monjiviricetes</td>\n",
              "      <td>Mononegavirales</td>\n",
              "      <td>Filoviridae</td>\n",
              "      <td>Ebolavirus</td>\n",
              "      <td>Zaire ebolavirus</td>\n",
              "    </tr>\n",
              "    <tr>\n",
              "      <th>2</th>\n",
              "      <td>u100</td>\n",
              "      <td>Kitrinoviricota</td>\n",
              "      <td>Flasuviricetes</td>\n",
              "      <td>Amarillovirales</td>\n",
              "      <td>Flaviviridae</td>\n",
              "      <td>Flavivirus</td>\n",
              "      <td>West Nile virus</td>\n",
              "    </tr>\n",
              "    <tr>\n",
              "      <th>3</th>\n",
              "      <td>u1000</td>\n",
              "      <td>Negarnaviricota</td>\n",
              "      <td>Monjiviricetes</td>\n",
              "      <td>Mononegavirales</td>\n",
              "      <td>Paramyxoviridae</td>\n",
              "      <td>Henipavirus</td>\n",
              "      <td>Hendra henipavirus</td>\n",
              "    </tr>\n",
              "    <tr>\n",
              "      <th>4</th>\n",
              "      <td>u10000</td>\n",
              "      <td>Pisuviricota</td>\n",
              "      <td>Pisoniviricetes</td>\n",
              "      <td>Picornavirales</td>\n",
              "      <td>Caliciviridae</td>\n",
              "      <td>Norovirus</td>\n",
              "      <td>Norwalk virus</td>\n",
              "    </tr>\n",
              "    <tr>\n",
              "      <th>...</th>\n",
              "      <td>...</td>\n",
              "      <td>...</td>\n",
              "      <td>...</td>\n",
              "      <td>...</td>\n",
              "      <td>...</td>\n",
              "      <td>...</td>\n",
              "      <td>...</td>\n",
              "    </tr>\n",
              "    <tr>\n",
              "      <th>296556</th>\n",
              "      <td>u99995</td>\n",
              "      <td>.</td>\n",
              "      <td>.</td>\n",
              "      <td>.</td>\n",
              "      <td>.</td>\n",
              "      <td>.</td>\n",
              "      <td>.</td>\n",
              "    </tr>\n",
              "    <tr>\n",
              "      <th>296557</th>\n",
              "      <td>u99996</td>\n",
              "      <td>Lenarviricota</td>\n",
              "      <td>Howeltoviricetes</td>\n",
              "      <td>Cryppavirales</td>\n",
              "      <td>Mitoviridae</td>\n",
              "      <td>.</td>\n",
              "      <td>.</td>\n",
              "    </tr>\n",
              "    <tr>\n",
              "      <th>296558</th>\n",
              "      <td>u99997</td>\n",
              "      <td>.</td>\n",
              "      <td>.</td>\n",
              "      <td>.</td>\n",
              "      <td>.</td>\n",
              "      <td>.</td>\n",
              "      <td>.</td>\n",
              "    </tr>\n",
              "    <tr>\n",
              "      <th>296559</th>\n",
              "      <td>u99998</td>\n",
              "      <td>.</td>\n",
              "      <td>.</td>\n",
              "      <td>.</td>\n",
              "      <td>.</td>\n",
              "      <td>.</td>\n",
              "      <td>.</td>\n",
              "    </tr>\n",
              "    <tr>\n",
              "      <th>296560</th>\n",
              "      <td>u99999</td>\n",
              "      <td>.</td>\n",
              "      <td>.</td>\n",
              "      <td>.</td>\n",
              "      <td>.</td>\n",
              "      <td>.</td>\n",
              "      <td>.</td>\n",
              "    </tr>\n",
              "  </tbody>\n",
              "</table>\n",
              "<p>296561 rows × 7 columns</p>\n",
              "</div>"
            ],
            "text/plain": [
              "         Label           phylum             class            order  \\\n",
              "0           u1     Pisuviricota   Pisoniviricetes      Nidovirales   \n",
              "1          u10  Negarnaviricota    Monjiviricetes  Mononegavirales   \n",
              "2         u100  Kitrinoviricota    Flasuviricetes  Amarillovirales   \n",
              "3        u1000  Negarnaviricota    Monjiviricetes  Mononegavirales   \n",
              "4       u10000     Pisuviricota   Pisoniviricetes   Picornavirales   \n",
              "...        ...              ...               ...              ...   \n",
              "296556  u99995                .                 .                .   \n",
              "296557  u99996    Lenarviricota  Howeltoviricetes    Cryppavirales   \n",
              "296558  u99997                .                 .                .   \n",
              "296559  u99998                .                 .                .   \n",
              "296560  u99999                .                 .                .   \n",
              "\n",
              "                 family            genus  \\\n",
              "0         Coronaviridae  Betacoronavirus   \n",
              "1           Filoviridae       Ebolavirus   \n",
              "2          Flaviviridae       Flavivirus   \n",
              "3       Paramyxoviridae      Henipavirus   \n",
              "4         Caliciviridae        Norovirus   \n",
              "...                 ...              ...   \n",
              "296556                .                .   \n",
              "296557      Mitoviridae                .   \n",
              "296558                .                .   \n",
              "296559                .                .   \n",
              "296560                .                .   \n",
              "\n",
              "                                                  species  \n",
              "0       Severe acute respiratory syndrome-related coro...  \n",
              "1                                        Zaire ebolavirus  \n",
              "2                                         West Nile virus  \n",
              "3                                      Hendra henipavirus  \n",
              "4                                           Norwalk virus  \n",
              "...                                                   ...  \n",
              "296556                                                  .  \n",
              "296557                                                  .  \n",
              "296558                                                  .  \n",
              "296559                                                  .  \n",
              "296560                                                  .  \n",
              "\n",
              "[296561 rows x 7 columns]"
            ]
          },
          "execution_count": 27,
          "metadata": {},
          "output_type": "execute_result"
        }
      ],
      "source": [
        "df_1_u_tax = df_1_tax.applymap(merge_labels)\n",
        "df_1_u_tax = df_1_u_tax.reset_index()\n",
        "df_1_u_tax = df_1_u_tax.rename(columns={\"representative\": \"Label\"})\n",
        "df_1_u_tax"
      ]
    },
    {
      "cell_type": "code",
      "execution_count": null,
      "id": "35f92d65-ffe2-4cd0-bab0-e97ae2f8f781",
      "metadata": {
        "id": "35f92d65-ffe2-4cd0-bab0-e97ae2f8f781"
      },
      "outputs": [],
      "source": [
        "# This virus ID to taxonomiy mapping will be further adjusted in the next notebook\n",
        "df_1_u_tax.to_csv(\"u_tax_noduplicates.tsv\", sep = \"\\t\", index=False)"
      ]
    },
    {
      "cell_type": "code",
      "execution_count": null,
      "id": "002947c5-a221-4cd3-81dc-98abe5f4ceeb",
      "metadata": {
        "id": "002947c5-a221-4cd3-81dc-98abe5f4ceeb"
      },
      "outputs": [],
      "source": []
    }
  ],
  "metadata": {
    "kernelspec": {
      "display_name": "Python 3 (ipykernel)",
      "language": "python",
      "name": "python3"
    },
    "language_info": {
      "codemirror_mode": {
        "name": "ipython",
        "version": 3
      },
      "file_extension": ".py",
      "mimetype": "text/x-python",
      "name": "python",
      "nbconvert_exporter": "python",
      "pygments_lexer": "ipython3",
      "version": "3.9.12"
    },
    "colab": {
      "provenance": [],
      "include_colab_link": true
    }
  },
  "nbformat": 4,
  "nbformat_minor": 5
}