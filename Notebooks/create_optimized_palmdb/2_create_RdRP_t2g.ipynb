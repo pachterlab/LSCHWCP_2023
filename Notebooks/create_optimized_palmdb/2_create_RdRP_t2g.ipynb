{
  "cells": [
    {
      "cell_type": "markdown",
      "metadata": {
        "id": "view-in-github",
        "colab_type": "text"
      },
      "source": [
        "<a href=\"https://colab.research.google.com/github/pachterlab/LSCHWCP_2023/blob/main/Notebooks/create_optimized_palmdb/2_create_RdRP_t2g.ipynb\" target=\"_parent\"><img src=\"https://colab.research.google.com/assets/colab-badge.svg\" alt=\"Open In Colab\"/></a>"
      ]
    },
    {
      "cell_type": "markdown",
      "id": "f745ff19-8b16-480c-80c6-0e6db5c953b4",
      "metadata": {
        "id": "f745ff19-8b16-480c-80c6-0e6db5c953b4"
      },
      "source": [
        "# To improve loss due to the multimapping of sequences, we will create a new t2g file which groups virus IDs with the same taxonomy\n",
        "The resulting structure is similar to how transcripts of the same gene are handled."
      ]
    },
    {
      "cell_type": "code",
      "execution_count": null,
      "id": "bfeb8713-8507-40ef-9b7f-167acdbf993d",
      "metadata": {
        "id": "bfeb8713-8507-40ef-9b7f-167acdbf993d"
      },
      "outputs": [],
      "source": [
        "import pandas as pd\n",
        "import numpy as np"
      ]
    },
    {
      "cell_type": "markdown",
      "source": [
        "Load virus ID to taxonomy mapping as generated in the [previous notebook](https://github.com/pachterlab/LSCHWCP_2023/blob/main/Notebooks/create_optimized_palmdb/1_remove_cfc_duplicates.ipynb)."
      ],
      "metadata": {
        "id": "A-Yvi_26Lovj"
      },
      "id": "A-Yvi_26Lovj"
    },
    {
      "cell_type": "code",
      "execution_count": null,
      "id": "870edeaa-22a6-48e6-93b8-fca046e8e07f",
      "metadata": {
        "id": "870edeaa-22a6-48e6-93b8-fca046e8e07f"
      },
      "outputs": [],
      "source": [
        "!wget https://raw.githubusercontent.com/pachterlab/LSCHWCP_2023/main/Notebooks/create_optimized_palmdb/u_tax_noduplicates.tsv\n",
        "u_tax = pd.read_csv(\"u_tax_noduplicates.tsv\", sep=\"\\t\")\n",
        "u_tax"
      ]
    },
    {
      "cell_type": "code",
      "execution_count": null,
      "id": "6a9c8c9d-e449-4d6c-aca0-280799e168ee",
      "metadata": {
        "id": "6a9c8c9d-e449-4d6c-aca0-280799e168ee"
      },
      "outputs": [],
      "source": [
        "u_tax_nolabel = u_tax[[\"phylum\", \"class\", \"order\", \"family\", \"genus\", \"species\"]]\n",
        "\n",
        "# Get indeces of all duplicated rows\n",
        "dup_rows = (u_tax_nolabel.groupby(u_tax_nolabel.columns.tolist())\n",
        "            .apply(lambda x: tuple(x.index))\n",
        "            .reset_index(name='idx'))\n",
        "\n",
        "# Add IDs corresponding to indeces\n",
        "dup_rows[\"label_list\"] = [u_tax[\"Label\"].values[list(tuple_)] for tuple_ in dup_rows[\"idx\"]]\n",
        "\n",
        "# Drop first row (all taxonomies = \".\") and explode those IDs since they should not be grouped\n",
        "dup_rows_exploded = dup_rows.iloc[[0]].explode([\"idx\", \"label_list\"])\n",
        "dup_rows_exploded[\"label_list\"] = [np.array([i]) for i in dup_rows_exploded[\"label_list\"]]\n",
        "dup_rows = dup_rows.iloc[1:, :].append(dup_rows_exploded)\n",
        "\n",
        "# Convert arrays to list\n",
        "dup_rows[\"label_list\"] = [list(i) for i in dup_rows[\"label_list\"]]\n",
        "\n",
        "# Drop index column\n",
        "dup_rows = dup_rows.drop(\"idx\", axis=1)\n",
        "\n",
        "# Add column with representative ID\n",
        "dup_rows[\"label\"] = dup_rows[\"label_list\"].str[0]\n",
        "\n",
        "# Move labels to first positions in dataframe\n",
        "first_column = dup_rows.pop('label_list')\n",
        "second_column = dup_rows.pop('label')\n",
        "dup_rows.insert(0, 'ID', first_column)\n",
        "dup_rows.insert(1, 'rep_ID', second_column)\n",
        "\n",
        "# Temporarily add ID as int for sorting\n",
        "dup_rows[\"temp_ID\"] = dup_rows[\"rep_ID\"].str.replace(\"u\", \"\")\n",
        "dup_rows[\"temp_ID\"] = dup_rows[\"temp_ID\"].astype(int)\n",
        "dup_rows = dup_rows.sort_values(\"temp_ID\").drop(\"temp_ID\", axis=1).reset_index(drop=True)\n",
        "\n",
        "dup_rows"
      ]
    },
    {
      "cell_type": "markdown",
      "id": "9cf18456-2ff7-497f-b5cd-7494b4929ca2",
      "metadata": {
        "id": "9cf18456-2ff7-497f-b5cd-7494b4929ca2"
      },
      "source": [
        "Add virus strandedness to virus ID to sOTU mapping:"
      ]
    },
    {
      "cell_type": "code",
      "execution_count": null,
      "id": "a4ecb67c-4c3b-40d5-8a98-33337a1d3cca",
      "metadata": {
        "id": "a4ecb67c-4c3b-40d5-8a98-33337a1d3cca"
      },
      "outputs": [],
      "source": [
        "virus_types = []\n",
        "for i, phylum in enumerate(dup_rows[\"phylum\"].values):\n",
        "    if phylum == \"Pisuviricota\":\n",
        "        class_ = dup_rows.iloc[i][\"class\"]\n",
        "        if class_ == \"Pisoniviricetes\":\n",
        "            virus_types.append(\"+ssRNA\")\n",
        "        elif class_ == \"Stelpaviricetes\":\n",
        "            virus_types.append(\"+ssRNA\")\n",
        "        elif class_ == \"Duplopiviricetes\":\n",
        "            virus_types.append(\"dsRNA\")\n",
        "        else:\n",
        "            virus_types.append(\"+ssRNA or dsRNA\")\n",
        "\n",
        "    elif phylum == \"Negarnaviricota\":\n",
        "        virus_types.append(\"-ssRNA\")\n",
        "\n",
        "    elif phylum == \"Kitrinoviricota\":\n",
        "        virus_types.append(\"+ssRNA\")\n",
        "\n",
        "    elif phylum == \"Lenarviricota\":\n",
        "        virus_types.append(\"+ssRNA\")\n",
        "\n",
        "    elif phylum == \"Duplornaviricota\":\n",
        "        virus_types.append(\"dsRNA\")\n",
        "\n",
        "    elif phylum == \"Artverviricota\":\n",
        "        virus_types.append(\"ssRNA-RT or dsDNA-RT\")\n",
        "\n",
        "    elif phylum == \"Nucleocytoviricota\":\n",
        "        virus_types.append(\"NCLDV\")\n",
        "\n",
        "    elif phylum == \"Peploviricota\":\n",
        "        virus_types.append(\"dsDNA\")\n",
        "\n",
        "    elif phylum == \"Uroviricota\":\n",
        "        virus_types.append(\"tailed bacteriophage\")\n",
        "\n",
        "    else:\n",
        "        virus_types.append(\"unknown\")\n",
        "\n",
        "dup_rows[\"strandedness\"] = virus_types\n",
        "dup_rows"
      ]
    },
    {
      "cell_type": "code",
      "execution_count": null,
      "id": "467853bc-3149-4a64-b2e4-ca01e0d974b2",
      "metadata": {
        "id": "467853bc-3149-4a64-b2e4-ca01e0d974b2"
      },
      "outputs": [],
      "source": [
        "# Explode column containing all IDs for easier handling\n",
        "dup_rows = dup_rows.explode(\"ID\").reset_index(drop=True)"
      ]
    },
    {
      "cell_type": "markdown",
      "id": "bd49ebb9-3393-4221-8e19-2a8b854012a5",
      "metadata": {
        "id": "bd49ebb9-3393-4221-8e19-2a8b854012a5"
      },
      "source": [
        "Save new ID2tax map:"
      ]
    },
    {
      "cell_type": "code",
      "execution_count": null,
      "id": "f47451e5-46c5-4199-a89d-b50acd9ed846",
      "metadata": {
        "id": "f47451e5-46c5-4199-a89d-b50acd9ed846"
      },
      "outputs": [],
      "source": [
        "new_u_tax_file = \"ID_to_taxonomy_mapping.csv\"\n",
        "dup_rows.to_csv(new_u_tax_file, index=False)"
      ]
    },
    {
      "cell_type": "markdown",
      "id": "eefc248f-d11a-435d-a3fd-3949dad8aa97",
      "metadata": {
        "id": "eefc248f-d11a-435d-a3fd-3949dad8aa97"
      },
      "source": [
        "# Create corresponding t2g (transcripts to genes) file:"
      ]
    },
    {
      "cell_type": "code",
      "execution_count": null,
      "id": "9e55a015-50cb-4633-a0df-0c6b7945022b",
      "metadata": {
        "id": "9e55a015-50cb-4633-a0df-0c6b7945022b"
      },
      "outputs": [],
      "source": [
        "new_t2g = \"palmdb_clustered_t2g.txt\""
      ]
    },
    {
      "cell_type": "code",
      "execution_count": null,
      "id": "7a7cabdb-9702-48a1-bb36-d2946ff57f4a",
      "metadata": {
        "id": "7a7cabdb-9702-48a1-bb36-d2946ff57f4a"
      },
      "outputs": [],
      "source": [
        "%%time\n",
        "with open(new_t2g, \"w\") as t2g:\n",
        "    for rep_id in dup_rows[\"rep_ID\"].unique():\n",
        "        for group_id in dup_rows[dup_rows[\"rep_ID\"]==rep_id][\"ID\"].values:\n",
        "            t2g.write(group_id + \"\\t\" + rep_id + \"\\n\")"
      ]
    }
  ],
  "metadata": {
    "kernelspec": {
      "display_name": "Python 3 (ipykernel)",
      "language": "python",
      "name": "python3"
    },
    "language_info": {
      "codemirror_mode": {
        "name": "ipython",
        "version": 3
      },
      "file_extension": ".py",
      "mimetype": "text/x-python",
      "name": "python",
      "nbconvert_exporter": "python",
      "pygments_lexer": "ipython3",
      "version": "3.9.12"
    },
    "colab": {
      "provenance": [],
      "include_colab_link": true
    }
  },
  "nbformat": 4,
  "nbformat_minor": 5
}