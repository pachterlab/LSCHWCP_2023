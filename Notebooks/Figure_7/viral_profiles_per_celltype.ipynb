{
  "cells": [
    {
      "cell_type": "markdown",
      "metadata": {
        "id": "view-in-github",
        "colab_type": "text"
      },
      "source": [
        "<a href=\"https://colab.research.google.com/github/pachterlab/LSCHWCP_2023/blob/main/Notebooks/Figure_7/viral_profiles_per_celltype.ipynb\" target=\"_parent\"><img src=\"https://colab.research.google.com/assets/colab-badge.svg\" alt=\"Open In Colab\"/></a>"
      ]
    },
    {
      "cell_type": "markdown",
      "id": "3d5bf729-aa07-4d1a-a875-d8cba3f6830f",
      "metadata": {
        "id": "3d5bf729-aa07-4d1a-a875-d8cba3f6830f"
      },
      "source": [
        "# Viral profiles across host clusters and cell types"
      ]
    },
    {
      "cell_type": "code",
      "execution_count": null,
      "id": "cea47127-71fd-454d-a330-6bca5570f841",
      "metadata": {
        "id": "cea47127-71fd-454d-a330-6bca5570f841"
      },
      "outputs": [],
      "source": [
        "!pip install -q anndata\n",
        "import anndata\n",
        "import numpy as np\n",
        "import random\n",
        "import pandas as pd\n",
        "import json\n",
        "import os\n",
        "import glob\n",
        "import matplotlib.pyplot as plt\n",
        "%config InlineBackend.figure_format='retina'\n",
        "\n",
        "def nd(arr):\n",
        "    \"\"\"\n",
        "    Function to transform numpy matrix to nd array.\n",
        "    \"\"\"\n",
        "    return np.asarray(arr).reshape(-1)\n",
        "\n",
        "def flatten(xss):\n",
        "    \"\"\"\n",
        "    Function to flatten array of arrays.\n",
        "    \"\"\"\n",
        "    return [x for xs in xss for x in xs]"
      ]
    },
    {
      "cell_type": "markdown",
      "id": "06366c5c-4df0-4e4f-b767-c014bd01f79f",
      "metadata": {
        "id": "06366c5c-4df0-4e4f-b767-c014bd01f79f"
      },
      "source": [
        "___\n",
        "# Load data\n",
        "Count matrices generated [here](https://github.com/pachterlab/LSCHWCP_2023/blob/main/Notebooks/Supp_Fig_3/Supp_Fig_3d/1_macaque_celltype_assignment.ipynb) (host) and [here](https://github.com/pachterlab/LSCHWCP_2023/tree/main/Notebooks/align_macaque_PBMC_data/7_virus_host_captured_dlist_cdna_dna) (viral)."
      ]
    },
    {
      "cell_type": "code",
      "source": [
        "# Download count matrices from Caltech data\n",
        "\n",
        "\n"
      ],
      "metadata": {
        "id": "ipLPevz00xdU"
      },
      "id": "ipLPevz00xdU",
      "execution_count": null,
      "outputs": []
    },
    {
      "cell_type": "code",
      "execution_count": null,
      "id": "9eb074bb-ee52-4320-9720-b4b5159d17d6",
      "metadata": {
        "id": "9eb074bb-ee52-4320-9720-b4b5159d17d6"
      },
      "outputs": [],
      "source": [
        "# Macaque only\n",
        "host_adata = anndata.read(\"macaque_QC_norm_leiden_celltypes.h5ad\")\n",
        "host_adata"
      ]
    },
    {
      "cell_type": "code",
      "execution_count": null,
      "id": "ebdf0416-c02d-479a-bd9f-76085f6c14ee",
      "metadata": {
        "id": "ebdf0416-c02d-479a-bd9f-76085f6c14ee"
      },
      "outputs": [],
      "source": [
        "palmdb_adata = anndata.read(\"virus_host-captured_dlist_cdna_dna.h5ad\")\n",
        "palmdb_adata"
      ]
    },
    {
      "cell_type": "markdown",
      "id": "f6bdb55f-0985-4042-8268-efbf8c2aceb5",
      "metadata": {
        "id": "f6bdb55f-0985-4042-8268-efbf8c2aceb5"
      },
      "source": [
        "Load ID to phylogeny mapping:"
      ]
    },
    {
      "cell_type": "code",
      "execution_count": null,
      "id": "36aa5625-ab70-4894-9fac-59661eb245d6",
      "metadata": {
        "id": "36aa5625-ab70-4894-9fac-59661eb245d6"
      },
      "outputs": [],
      "source": [
        "# Load virus ID to taxonomy mapping\n",
        "!wget https://raw.githubusercontent.com/pachterlab/LSCHWCP_2023/main/PalmDB/ID_to_taxonomy_mapping.csv\n",
        "id2tax = pd.read_csv(\"ID_to_taxonomy_mapping.csv\")\n",
        "id2tax"
      ]
    },
    {
      "cell_type": "markdown",
      "id": "ea677def-5001-4006-892a-98dfb1015e23",
      "metadata": {
        "id": "ea677def-5001-4006-892a-98dfb1015e23"
      },
      "source": [
        "___\n",
        "# EBOV counts per timepoint"
      ]
    },
    {
      "cell_type": "code",
      "execution_count": null,
      "id": "5c3e18ea-e901-444d-90e7-b58332739c8d",
      "metadata": {
        "id": "5c3e18ea-e901-444d-90e7-b58332739c8d"
      },
      "outputs": [],
      "source": [
        "def rand_jitter(arr, jitter_size=0.02):\n",
        "    \"\"\"\n",
        "    Add random jitter to array to avoid overplotting.\n",
        "    \"\"\"\n",
        "    return np.random.uniform(low=-jitter_size, high=jitter_size, size=(len(arr),))"
      ]
    },
    {
      "cell_type": "markdown",
      "id": "3e965a85-4018-431f-ba3d-cc521801bf2f",
      "metadata": {
        "id": "3e965a85-4018-431f-ba3d-cc521801bf2f"
      },
      "source": [
        "Group timepoints:"
      ]
    },
    {
      "cell_type": "code",
      "execution_count": null,
      "id": "7011f227-57de-4f82-a34f-f789cbc0e7a8",
      "metadata": {
        "id": "7011f227-57de-4f82-a34f-f789cbc0e7a8"
      },
      "outputs": [],
      "source": [
        "palmdb_adata.obs[\"dpi_grouped\"] = palmdb_adata.obs[\"dpi_clean_merged\"]\n",
        "dpi_dict = {\"-30d\":\"pre-infection\", \"-4d\":\"pre-infection\", \"0d\":\"pre-infection\", \"4h\":\"4h\", \"24h\":\"24h\", \"3d\":\"early\", \"4d\":\"middle\", \"5d\":\"middle\", \"6d\":\"late\", \"7d/8d\":\"late\"}\n",
        "\n",
        "palmdb_adata.obs = palmdb_adata.obs.replace({\"dpi_grouped\": dpi_dict})"
      ]
    },
    {
      "cell_type": "code",
      "execution_count": null,
      "id": "fef84430-335d-4845-a81a-dd37bb303b48",
      "metadata": {
        "id": "fef84430-335d-4845-a81a-dd37bb303b48"
      },
      "outputs": [],
      "source": [
        "fig, axs = plt.subplots(figsize=(9, 9), nrows=2, sharex=True)\n",
        "fontsize = 18\n",
        "width = 0.6\n",
        "color = \"#003049\" # Change to #b266b3 for black bkg\n",
        "background = \"white\"\n",
        "label_color = \"black\"\n",
        "grid_color = \"lightgrey\"\n",
        "\n",
        "samples = [\"pre-infection\", \"4h\", \"24h\", \"early\", \"middle\", \"late\"]\n",
        "labels = [\"Baseline\\n(-30-0d)\", \"Incubation\\n(4h)\", \"Incubation\\n(24h)\", \"Early\\n(3d)\", \"Middle\\n(4-5d)\", \"Late\\n(6-8d)\"]\n",
        "target_ids = id2tax[id2tax[\"species\"].str.contains(\"Zaire ebolavirus\")][\"rep_ID\"].unique()\n",
        "\n",
        "# Plot number of ZEBOV counts per timepoint\n",
        "ax = axs[0]\n",
        "\n",
        "cellnum = []\n",
        "total_num_cells = []\n",
        "for sample in samples:\n",
        "    total = len(palmdb_adata.obs[(palmdb_adata.obs[\"celltype\"].notnull()) & (palmdb_adata.obs[\"dpi_grouped\"] == sample)])\n",
        "    total_num_cells.append(total)\n",
        "\n",
        "    pos_cells = palmdb_adata[(palmdb_adata.obs[\"celltype\"].notnull()) & (palmdb_adata.obs[\"dpi_grouped\"] == sample), palmdb_adata.var.index.isin(target_ids)].X.sum()\n",
        "    cellnum.append((pos_cells / total) * 10000)\n",
        "\n",
        "    print(f\"Total number of positive cells in sample '{sample}': {pos_cells}\")\n",
        "\n",
        "x = np.arange(len(labels))\n",
        "\n",
        "ax.bar(\n",
        "    x,\n",
        "    cellnum,\n",
        "    width=width,\n",
        "    # label=f\"EBOV+ cells\",\n",
        "    color=color,\n",
        "    alpha=1,\n",
        "    edgecolor=label_color,\n",
        ")\n",
        "\n",
        "# Add total number of cells per condition\n",
        "for x_idx, nc in enumerate(total_num_cells):\n",
        "    ax.text(x_idx, 75, \"{:,}\".format(nc), color=label_color, fontsize=fontsize, va=\"bottom\", ha=\"center\")\n",
        "\n",
        "ax.set_yscale(\"symlog\")\n",
        "# ax.set_ylim(bottom=1)\n",
        "ax.set_ylabel(\"# positive cells\\nper 10k cells\", fontsize=fontsize, color=label_color)\n",
        "# ax.set_xlabel(\"Timepoint\", fontsize=fontsize)\n",
        "# ax.legend(loc=\"upper left\", fontsize=fontsize)\n",
        "\n",
        "# ax.set_xticks(x, samples, rotation=0, ha=\"center\")\n",
        "\n",
        "ax.tick_params(axis=\"both\", labelsize=fontsize, colors=label_color)\n",
        "# ax.set_title(\n",
        "#     f\"Number of Zaire ebolavirus (ZEBOV) positive cells over time\",\n",
        "#     fontsize=fontsize + 2,\n",
        "# )\n",
        "\n",
        "ax.grid(True, which=\"both\", color=grid_color, ls=\"--\", lw=1)\n",
        "ax.set_axisbelow(True)\n",
        "ax.xaxis.grid(False)\n",
        "\n",
        "# Plot number of distinct sOTUS detected\n",
        "ax = axs[1]\n",
        "\n",
        "all_species_nums = [] # Collect all vector for significance testing\n",
        "x = np.arange(len(samples))\n",
        "for i, cluster in enumerate(samples):\n",
        "    # Get number of virus species with non-zero counts per cell in cluster\n",
        "    array = np.array(palmdb_adata[(palmdb_adata.obs[\"celltype\"].notnull()) & (palmdb_adata.obs['dpi_grouped']==cluster), ].X.todense()) # palmdb_adata.var[\"v_type\"] == \"macaca_only\" ADD AS SUPPLEMENT TO SHOW THAT # VIRUSES INCREASES?\n",
        "    species_nums = (array > 0).sum(1)\n",
        "    mean = np.mean(species_nums)\n",
        "\n",
        "    v = ax.violinplot(species_nums, [x[i]], widths=width, vert=True, showmedians=False, showextrema=False)\n",
        "    for pcidx, pc in enumerate(v[\"bodies\"]):\n",
        "        pc.set_facecolor(background)\n",
        "        pc.set_edgecolor(label_color)\n",
        "        pc.set_alpha(1)\n",
        "    ax.scatter([x[i]]*len(species_nums) + rand_jitter([x[i]]*len(species_nums), 0.3), species_nums, alpha=0.25, color=grid_color, edgecolor=\"grey\")\n",
        "    ax.scatter(x[i], mean, s=100, color=label_color)\n",
        "\n",
        "    all_species_nums.append(species_nums)\n",
        "\n",
        "ax.set_yscale(\"symlog\")\n",
        "# ax.set_ylim(bottom=0)\n",
        "ax.set_xticks(x, labels)\n",
        "ax.tick_params(axis='both', labelsize=fontsize-2, colors=label_color)\n",
        "ax.set_ylabel(\"# distinct sOTUs\", fontsize=fontsize, color=label_color)\n",
        "ax.set_xlabel(\"Timepoint\", fontsize=fontsize, color=label_color)\n",
        "ax.margins(y=0.01)\n",
        "\n",
        "ax.grid(True, which=\"both\", color=grid_color, ls=\"--\", lw=1)\n",
        "ax.set_axisbelow(True)\n",
        "ax.xaxis.grid(False)\n",
        "\n",
        "for ax in axs:\n",
        "    ax.spines['bottom'].set_color(label_color)\n",
        "    ax.spines['top'].set_color(label_color)\n",
        "    ax.spines['right'].set_color(label_color)\n",
        "    ax.spines['left'].set_color(label_color)\n",
        "\n",
        "# plt.tight_layout()\n",
        "plt.subplots_adjust(hspace=0.08)\n",
        "\n",
        "plt.savefig(\"ebola_counts_over_time.png\", dpi=300, bbox_inches=\"tight\")\n",
        "\n",
        "fig.show()"
      ]
    },
    {
      "cell_type": "code",
      "execution_count": null,
      "id": "78e45d44-5af0-465e-8437-3f94452587d4",
      "metadata": {
        "id": "78e45d44-5af0-465e-8437-3f94452587d4"
      },
      "outputs": [],
      "source": [
        "fig, axs = plt.subplots(figsize=(9, 9), nrows=2, sharex=True)\n",
        "fontsize = 18\n",
        "width = 0.6\n",
        "color = \"#003049\" # Change to #b266b3 for black bkg\n",
        "background = \"white\"\n",
        "label_color = \"black\"\n",
        "grid_color = \"lightgrey\"\n",
        "\n",
        "celltypes = [\n",
        "    \"Monocytes\",\n",
        "    \"B cells\",\n",
        "    \"T cells\",\n",
        "    \"Immature neutrophils\",\n",
        "    \"Natural killer\",\n",
        "    # \"Undefined\",\n",
        "    \"MDCK\"\n",
        "]\n",
        "\n",
        "labels= [\n",
        "    \"Monocytes\",\n",
        "    \"B cells\",\n",
        "    \"T cells\",\n",
        "    \"Immature\\nneutrophils\",\n",
        "    \"Natural\\nkiller\",\n",
        "    # \"Undefined\",\n",
        "    \"MDCK\"\n",
        "]\n",
        "\n",
        "# Plot number of ZEBOV counts per celltype\n",
        "ax=axs[0]\n",
        "\n",
        "target_ids = id2tax[id2tax[\"species\"].str.contains(\"Zaire ebolavirus\")][\"rep_ID\"].unique()\n",
        "\n",
        "cellnum = []\n",
        "total_num_cells = []\n",
        "for ct in celltypes:\n",
        "    if ct == \"MDCK\":\n",
        "        count = palmdb_adata[palmdb_adata.obs[\"species\"] == \"canis_lupus_familiaris\", palmdb_adata.var.index.isin(target_ids)].X.sum()\n",
        "        total = len(palmdb_adata.obs[palmdb_adata.obs[\"species\"] == \"canis_lupus_familiaris\"])\n",
        "        cellnum.append((count / total) * 10000)\n",
        "        total_num_cells.append(total)\n",
        "    else:\n",
        "        count = palmdb_adata[palmdb_adata.obs[\"celltype\"] == ct, palmdb_adata.var.index.isin(target_ids)].X.sum()\n",
        "        total = len(palmdb_adata.obs[palmdb_adata.obs[\"celltype\"] == ct])\n",
        "        cellnum.append((count / total) * 10000)\n",
        "        total_num_cells.append(total)\n",
        "\n",
        "x = np.arange(len(celltypes))\n",
        "\n",
        "ax.bar(\n",
        "    x,\n",
        "    cellnum,\n",
        "    width=width,\n",
        "    color=color,\n",
        "    alpha=1,\n",
        "    edgecolor=label_color,\n",
        ")\n",
        "\n",
        "# Add total number of cells per condition\n",
        "for x_idx, nc in enumerate(total_num_cells):\n",
        "    ax.text(x_idx, 115, \"{:,}\".format(nc), color=label_color, fontsize=fontsize, va=\"bottom\", ha=\"center\")\n",
        "\n",
        "# ax.set_yscale(\"log\")\n",
        "ax.set_ylabel(\"# positive cells\\n per 10k cells\", fontsize=fontsize, color=label_color)\n",
        "# ax.set_xlabel(\"Celltype\", fontsize=fontsize)\n",
        "# ax.legend(loc=\"upper left\", fontsize=fontsize)\n",
        "\n",
        "# ax.set_xticks(x, labels, rotation=0, ha=\"center\")\n",
        "\n",
        "ax.tick_params(axis=\"both\", labelsize=fontsize, colors=label_color)\n",
        "# ax.set_title(f\"Number of Zaire ebolavirus (ZEBOV) positive cells per celltype\", fontsize=fontsize)\n",
        "\n",
        "ax.grid(True, which=\"both\", color=grid_color, ls=\"--\", lw=1)\n",
        "ax.set_axisbelow(True)\n",
        "ax.xaxis.grid(False)\n",
        "\n",
        "# Plot number of distinct sOTUS detected\n",
        "ax=axs[1]\n",
        "\n",
        "x = np.arange(len(celltypes))\n",
        "for i, cluster in enumerate(celltypes):\n",
        "    # Get number of virus species with non-zero counts per cell in cluster\n",
        "    if cluster == \"MDCK\":\n",
        "        array = np.array(palmdb_adata[palmdb_adata.obs['species']==\"canis_lupus_familiaris\", :].X.todense()) # palmdb_adata.var[\"v_type\"] == \"canis_lupus_familiaris\"\n",
        "    else:\n",
        "        array = np.array(palmdb_adata[palmdb_adata.obs['celltype']==cluster, :].X.todense())  # palmdb_adata.var[\"v_type\"] == \"macaca_only\"\n",
        "    species_nums = (array > 0).sum(1)\n",
        "    mean = np.mean(species_nums)\n",
        "\n",
        "    v = ax.violinplot(species_nums, [x[i]], widths=width, vert=True, showmedians=False, showextrema=False)\n",
        "    for pcidx, pc in enumerate(v[\"bodies\"]):\n",
        "        pc.set_facecolor(background)\n",
        "        pc.set_edgecolor(label_color)\n",
        "        pc.set_alpha(1)\n",
        "    ax.scatter([x[i]]*len(species_nums) + rand_jitter([x[i]]*len(species_nums), 0.3), species_nums, alpha=0.25, color=grid_color, edgecolor=\"grey\")\n",
        "    ax.scatter(x[i], mean, s=100, color=label_color)\n",
        "\n",
        "ax.set_yscale(\"symlog\")\n",
        "ax.set_ylim(bottom=0)\n",
        "ax.set_xticks(x, labels)\n",
        "ax.tick_params(axis='both', labelsize=fontsize-2, colors=label_color)\n",
        "ax.set_ylabel(\"# distinct sOTUs\", fontsize=fontsize, color=label_color)\n",
        "ax.set_xlabel(\"Celltype\", fontsize=fontsize, color=label_color)\n",
        "ax.margins(y=0.01)\n",
        "\n",
        "# ax.set_title(f\"Number of distinct sOTUs detected per celltype\", fontsize=fontsize)\n",
        "\n",
        "ax.grid(True, which=\"both\", color=grid_color, ls=\"--\", lw=1)\n",
        "ax.set_axisbelow(True)\n",
        "ax.xaxis.grid(False)\n",
        "\n",
        "for ax in axs:\n",
        "    ax.spines['bottom'].set_color(label_color)\n",
        "    ax.spines['top'].set_color(label_color)\n",
        "    ax.spines['right'].set_color(label_color)\n",
        "    ax.spines['left'].set_color(label_color)\n",
        "\n",
        "# plt.tight_layout()\n",
        "plt.subplots_adjust(hspace=0.08)\n",
        "\n",
        "plt.savefig(\"ebola_counts_per_celltype.png\", dpi=300, bbox_inches=\"tight\")\n",
        "\n",
        "fig.show()"
      ]
    },
    {
      "cell_type": "markdown",
      "id": "9ec076ae-1869-46a0-94e2-66005729f4a7",
      "metadata": {
        "id": "9ec076ae-1869-46a0-94e2-66005729f4a7"
      },
      "source": [
        "___"
      ]
    },
    {
      "cell_type": "markdown",
      "id": "4a000e79-327a-4e91-be04-cb425dbf1c16",
      "metadata": {
        "id": "4a000e79-327a-4e91-be04-cb425dbf1c16"
      },
      "source": [
        "# Plot number of virus species per celltype per timepoint"
      ]
    },
    {
      "cell_type": "markdown",
      "id": "53eef1f7-27be-407b-b7c4-9d3edf6d4cad",
      "metadata": {
        "id": "53eef1f7-27be-407b-b7c4-9d3edf6d4cad"
      },
      "source": [
        "Get normalized fractions of timepoint per celltype cluster:"
      ]
    },
    {
      "cell_type": "code",
      "execution_count": null,
      "id": "036e7732-153b-465f-932f-0183b7e20625",
      "metadata": {
        "id": "036e7732-153b-465f-932f-0183b7e20625"
      },
      "outputs": [],
      "source": [
        "# Compute fraction of cells occupied per time point for each celltype cluster\n",
        "df_normalized = pd.DataFrame()\n",
        "\n",
        "adata = host_adata.copy()\n",
        "groups = \"celltype_clusters\"\n",
        "fractions = \"dpi_clean_merged\"\n",
        "group_order = [\n",
        "    \"B cells 1\",\n",
        "    \"B cells 2\",\n",
        "    \"B cells 3\",\n",
        "    \"B cells 4\",\n",
        "    \"B cells 5\",\n",
        "    \"B cells 6\",\n",
        "    \"B cells 7\",\n",
        "    \"T cells 1\",\n",
        "    \"T cells 2\",\n",
        "    \"T cells 3\",\n",
        "    \"T cells 4\",\n",
        "    \"T cells 5\",\n",
        "    \"Natural killer 1\",\n",
        "    \"Monocytes 1\",\n",
        "    \"Monocytes 2\",\n",
        "    \"Immature neutrophils 1\",\n",
        "    # \"Undefined 1\", # Only has 12 cells\n",
        "    \"Undefined 2\",\n",
        "    \"Undefined 3\"\n",
        "]\n",
        "group_order.reverse()\n",
        "\n",
        "# Normalize each celltype count to total number of cells in that fraction by dividing by total\n",
        "df_normalized = (\n",
        "    (\n",
        "        adata.obs.groupby(groups)[fractions].value_counts()\n",
        "        / adata.obs.groupby(fractions)[\"species\"].count()\n",
        "    )\n",
        "    .unstack()\n",
        "    .fillna(0)\n",
        ")\n",
        "\n",
        "# Convert columns to string\n",
        "df_normalized.columns = df_normalized.columns.astype(str)\n",
        "# Get total normalized count\n",
        "df_normalized[\"total_normalized_count\"] = df_normalized.sum(axis=1).values\n",
        "\n",
        "# Compute fraction of normalized total count for each sample\n",
        "for sample in adata.obs[fractions].unique():\n",
        "    df_normalized[f\"{sample}_fraction\"] = (\n",
        "        df_normalized[sample] / df_normalized[\"total_normalized_count\"]\n",
        "    ).values\n",
        "\n",
        "# Get total cellcount\n",
        "df_normalized[\"total_cellcount\"] = adata.obs.groupby(groups).size().values.astype(int)\n",
        "\n",
        "# Sort data\n",
        "if group_order:\n",
        "    df_normalized = df_normalized.reindex(group_order)\n",
        "else:\n",
        "    df_normalized = df_normalized.sort_values(\n",
        "        list(df_normalized.filter(like=\"_fraction\").columns.values)\n",
        "    )"
      ]
    },
    {
      "cell_type": "code",
      "execution_count": null,
      "id": "b7423506-4f81-4534-ba67-291159e0a83f",
      "metadata": {
        "id": "b7423506-4f81-4534-ba67-291159e0a83f"
      },
      "outputs": [],
      "source": [
        "fig, axs = plt.subplots(figsize=(13, 20), ncols=2, sharey=True, gridspec_kw={'width_ratios': [2, 1]})\n",
        "\n",
        "# Plot host celltype fractions\n",
        "ax = axs[0]\n",
        "width = 0.75\n",
        "alpha = 1\n",
        "fontsize = 22\n",
        "\n",
        "colors=[\"#b8dd5a\", \"#64aa37\", \"#3e8938\", \"thistle\", \"rebeccapurple\", \"gold\", \"orange\", \"#e06237\", \"#b2172b\", \"#7d0d0f\"]\n",
        "frac_order=['-30d', '-4d', '0d', '4h', '24h', '3d', '4d', '5d', '6d', '7d/8d']\n",
        "\n",
        "clusters = df_normalized.index.values\n",
        "cellcounts = df_normalized[\"total_cellcount\"].values\n",
        "\n",
        "previous_samples = 0\n",
        "for c_idx, sample in enumerate(frac_order):\n",
        "    ax.barh(\n",
        "        clusters,\n",
        "        df_normalized[f\"{sample}_fraction\"].values,\n",
        "        width,\n",
        "        left=previous_samples,\n",
        "        color=colors[c_idx],\n",
        "        label=sample,\n",
        "        alpha=alpha,\n",
        "    )\n",
        "    previous_samples = previous_samples + df_normalized[f\"{sample}_fraction\"].values\n",
        "\n",
        "# Get y tick labels and split long label\n",
        "labels = []\n",
        "for label in clusters:\n",
        "    if label == 'Immature neutrophils 1':\n",
        "        labels.append('Immature\\nneutrophils 1')\n",
        "    else:\n",
        "        labels.append(label)\n",
        "ax.set_yticklabels(labels, fontsize=fontsize)\n",
        "\n",
        "# ax.legend(bbox_to_anchor=(-0.25, 1.007), fontsize=fontsize)\n",
        "ax.legend(loc='upper center', bbox_to_anchor=(0.5, -0.07), ncol=5, fontsize=fontsize, title=\"Time point\", title_fontsize=fontsize+2)\n",
        "\n",
        "# ax.set_title(title, y=1.0, pad=20, fontsize=fontsize + 2)\n",
        "ax.set_xlabel(\"Fraction of host cells\", fontsize=fontsize+2)\n",
        "ax.set_ylabel(\"Leiden cluster\", fontsize=fontsize+2)\n",
        "ax.tick_params(axis=\"both\", labelsize=fontsize)\n",
        "\n",
        "ax.margins(x=0.3, y=0.01)\n",
        "ax.grid(False)\n",
        "\n",
        "\n",
        "# Plot total number of virus species per celltype cluster\n",
        "ax = axs[1]\n",
        "\n",
        "x = np.arange(len(group_order))\n",
        "for i, cluster in enumerate(group_order):\n",
        "    # Get number of virus species per cell in cluster\n",
        "    array = np.array(palmdb_adata[palmdb_adata.obs['celltype_clusters']==cluster, :].X.todense())\n",
        "    species_nums = (array.astype(int) != 0).sum(1)\n",
        "    mean = np.mean(species_nums)\n",
        "\n",
        "    v = ax.violinplot(species_nums, [x[i]], widths=width, vert=False, showmedians=False, showextrema=False)\n",
        "    for pcidx, pc in enumerate(v[\"bodies\"]):\n",
        "        pc.set_facecolor(\"white\")\n",
        "        pc.set_edgecolor(\"black\")\n",
        "        pc.set_alpha(1)\n",
        "    ax.scatter(species_nums, [x[i]]*len(species_nums) + rand_jitter([x[i]]*len(species_nums), 0.3), alpha=0.25, edgecolor=\"grey\", color=\"lightgrey\")\n",
        "    ax.scatter(mean, x[i], s=125, color=\"black\")\n",
        "\n",
        "# Add total cell count next to each bar\n",
        "for index, value in enumerate(cellcounts):\n",
        "    ax.text(x=130, y=index, s=\"{:,}\".format(value), size=fontsize, ha=\"left\", va=\"center\")\n",
        "\n",
        "ax.set_xscale(\"symlog\")\n",
        "\n",
        "# ax.set_xlim(left=0, right=100)\n",
        "# ax.set_yticks(x, clusters)\n",
        "ax.tick_params(axis='both', labelsize=fontsize+2)\n",
        "ax.set_xlabel(\"# distinct sOTUs\", fontsize=fontsize+2)\n",
        "ax.margins(y=0.01)\n",
        "\n",
        "ax.grid(True, which=\"both\", color=\"lightgray\", ls=\"--\", lw=1)\n",
        "ax.set_axisbelow(True)\n",
        "ax.yaxis.grid(False)\n",
        "\n",
        "plt.subplots_adjust(wspace=0.05)\n",
        "\n",
        "plt.savefig(\n",
        "    f\"host_celltype_fractions_virus_species_counts.png\",\n",
        "    dpi=300,\n",
        "    bbox_inches=\"tight\",\n",
        ")\n",
        "\n",
        "fig.show()"
      ]
    },
    {
      "cell_type": "code",
      "execution_count": null,
      "id": "01724470-0cdd-4492-a2fe-fdb38ead048b",
      "metadata": {
        "id": "01724470-0cdd-4492-a2fe-fdb38ead048b"
      },
      "outputs": [],
      "source": []
    }
  ],
  "metadata": {
    "kernelspec": {
      "display_name": "Python 3 (ipykernel)",
      "language": "python",
      "name": "python3"
    },
    "language_info": {
      "codemirror_mode": {
        "name": "ipython",
        "version": 3
      },
      "file_extension": ".py",
      "mimetype": "text/x-python",
      "name": "python",
      "nbconvert_exporter": "python",
      "pygments_lexer": "ipython3",
      "version": "3.9.12"
    },
    "colab": {
      "provenance": [],
      "include_colab_link": true
    }
  },
  "nbformat": 4,
  "nbformat_minor": 5
}