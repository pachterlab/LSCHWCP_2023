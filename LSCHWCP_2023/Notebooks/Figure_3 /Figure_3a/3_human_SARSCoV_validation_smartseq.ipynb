{
  "cells": [
    {
      "cell_type": "markdown",
      "metadata": {
        "id": "view-in-github",
        "colab_type": "text"
      },
      "source": [
        "<a href=\"https://colab.research.google.com/github/pachterlab/LSCHWCP_2023/blob/main/LSCHWCP_2023/Notebooks/Figure_3%20/Figure_3a/3_human_SARSCoV_validation_smartseq.ipynb\" target=\"_parent\"><img src=\"https://colab.research.google.com/assets/colab-badge.svg\" alt=\"Open In Colab\"/></a>"
      ]
    },
    {
      "cell_type": "markdown",
      "id": "c8c7de9b-2008-47c8-b085-08019411468d",
      "metadata": {
        "id": "c8c7de9b-2008-47c8-b085-08019411468d"
      },
      "source": [
        "# Validation using SARS-CoV2 infected human iPSC derived cardiomyocytes\n",
        "Data source: https://doi.org/10.1016/j.xcrm.2020.100052  "
      ]
    },
    {
      "cell_type": "markdown",
      "source": [
        "___\n",
        "# Install software"
      ],
      "metadata": {
        "id": "-eKhcIWCuqc9"
      },
      "id": "-eKhcIWCuqc9"
    },
    {
      "cell_type": "code",
      "execution_count": null,
      "id": "5dafc3c8-5ded-4928-a4dd-bb6ecedb3012",
      "metadata": {
        "id": "5dafc3c8-5ded-4928-a4dd-bb6ecedb3012"
      },
      "outputs": [],
      "source": [
        "!pip install -q ffq gget kb_python"
      ]
    },
    {
      "cell_type": "markdown",
      "source": [
        "# Download SMART-Seq data"
      ],
      "metadata": {
        "id": "Y_daAXX5uvEr"
      },
      "id": "Y_daAXX5uvEr"
    },
    {
      "cell_type": "code",
      "source": [
        "import json\n",
        "import glob"
      ],
      "metadata": {
        "id": "KAf_zb4mu_hq"
      },
      "id": "KAf_zb4mu_hq",
      "execution_count": null,
      "outputs": []
    },
    {
      "cell_type": "code",
      "execution_count": null,
      "id": "7d0e3a96-e0f9-4284-834b-8984bed7e9ab",
      "metadata": {
        "id": "7d0e3a96-e0f9-4284-834b-8984bed7e9ab"
      },
      "outputs": [],
      "source": [
        "# Get ftp download links for raw data with ffq and store results in json file\n",
        "!ffq SRR11777734 SRR11777735 SRR11777736 SRR11777737 SRR11777738 SRR11777739 \\\n",
        "    --ftp \\\n",
        "    -o ffq.json"
      ]
    },
    {
      "cell_type": "code",
      "execution_count": null,
      "id": "699a4df0-c602-4033-aef0-1c95a960b49b",
      "metadata": {
        "id": "699a4df0-c602-4033-aef0-1c95a960b49b"
      },
      "outputs": [],
      "source": [
        "# Load ffq output\n",
        "f = open(\"ffq.json\")\n",
        "data_json = json.load(f)\n",
        "f.close()"
      ]
    },
    {
      "cell_type": "code",
      "execution_count": null,
      "id": "5979d304-7c2f-44f9-a399-41762f88ce46",
      "metadata": {
        "id": "5979d304-7c2f-44f9-a399-41762f88ce46"
      },
      "outputs": [],
      "source": [
        "# Download raw data using FTP links fetched by ffq\n",
        "for dataset in data_json:\n",
        "    url = dataset[\"url\"]\n",
        "    !curl -O $url"
      ]
    },
    {
      "cell_type": "code",
      "source": [
        "# Since the data is split into many fastq files, we will generate a batch file pointing to each of the fastqs\n",
        "with open(\"batch.txt\", \"w\") as batchfile:\n",
        "  for fastq in glob.glob(\"*fastq.gz\"):\n",
        "      batchfile.write(fastq.split(\".\")[0] + \"\\t\" + fastq + \"\\n\")"
      ],
      "metadata": {
        "id": "4O_Y94P87wDu"
      },
      "id": "4O_Y94P87wDu",
      "execution_count": null,
      "outputs": []
    },
    {
      "cell_type": "code",
      "source": [
        "# Download PalmDB reference files\n",
        "# Download the ID to taxonomy mapping\n",
        "!curl -O https://raw.githubusercontent.com/lauraluebbert/LSEP_2023/main/PalmDB/ID_to_taxonomy_mapping.csv\n",
        "# Download the customized transcripts to gene mapping\n",
        "!curl -O https://raw.githubusercontent.com/lauraluebbert/LSEP_2023/main/PalmDB/palmdb_clustered_t2g.txt\n",
        "# Download the RdRP amino acid sequences\n",
        "!curl -O https://raw.githubusercontent.com/lauraluebbert/LSEP_2023/main/PalmDB/palmdb_rdrp_seqs.fa"
      ],
      "metadata": {
        "id": "Hryu650pyEYk"
      },
      "id": "Hryu650pyEYk",
      "execution_count": null,
      "outputs": []
    },
    {
      "cell_type": "markdown",
      "source": [
        "# Build virus reference index from PalmDB amino acid sequences and mask host sequences\n",
        "You can find the `kb` manual and tutorials [here](https://www.kallistobus.tools/).\n",
        "\n",
        "The `--aa` argument tells `kb` that this is an amino acid reference.  \n",
        "\n",
        "The `--d-list` argument is the path to the **host** transcriptome. These sequences will be masked in the index. Here, we are using [`gget`](https://github.com/pachterlab/gget) to fetch the human genome and transcriptome (release 110).\n",
        "\n",
        "We are using `--workflow custom` here since we do not have a .gtf file for the PalmDB fasta file.\n",
        "\n",
        "Building the index will take some time (~20 min), since the human genomes is quite large."
      ],
      "metadata": {
        "id": "RxliJ1pJwYQZ"
      },
      "id": "RxliJ1pJwYQZ"
    },
    {
      "cell_type": "code",
      "source": [
        "!gget ref -r 110 -w cdna,dna -d human"
      ],
      "metadata": {
        "id": "6asx719LAa05"
      },
      "id": "6asx719LAa05",
      "execution_count": null,
      "outputs": []
    },
    {
      "cell_type": "code",
      "source": [
        "# Concatenate human genome and transcriptome into one file\n",
        "!cat Homo_sapiens.GRCh38.cdna.all.fa.gz Homo_sapiens.GRCh38.dna.primary_assembly.fa.gz > Homo_sapiens.GRCh38.cdna_dna.fa.gz"
      ],
      "metadata": {
        "id": "gnMWn-qjpUYO"
      },
      "id": "gnMWn-qjpUYO",
      "execution_count": null,
      "outputs": []
    },
    {
      "cell_type": "code",
      "source": [
        "%%time\n",
        "!kb ref \\\n",
        "--overwrite --verbose \\\n",
        "  --workflow custom \\\n",
        "  --aa \\\n",
        "  --d-list Homo_sapiens.cdna_dna.fa.gz \\\n",
        "  -t 20 \\\n",
        "  -i index.idx \\\n",
        "  palmdb_rdrp_seqs.fa"
      ],
      "metadata": {
        "id": "558Qf7UYAe9X"
      },
      "id": "558Qf7UYAe9X",
      "execution_count": null,
      "outputs": []
    },
    {
      "cell_type": "markdown",
      "source": [
        "# Align sequencing data and generate virus count matrix\n",
        "The `-x` techology tells `kb` where to find the barcode and UMI in the data. We will treat the SMART-Seq data like bulk data for this validation.  \n",
        "\n",
        "Instead of passing one fastq file at a time, we are using a batch file to tell `kb` where to find all of the data at once.\n",
        "\n",
        "`--batch-barcodes` stores the sample identifiers in the barcodes."
      ],
      "metadata": {
        "id": "PWV9c9sR8Noq"
      },
      "id": "PWV9c9sR8Noq"
    },
    {
      "cell_type": "code",
      "source": [
        "%%time\n",
        "!kb count \\\n",
        "  --aa \\\n",
        "  --h5ad \\\n",
        "  -t 20 \\\n",
        "  -i index.idx \\\n",
        "  -g palmdb_clustered_t2g.txt \\\n",
        "  -x bulk \\\n",
        "  --parity single \\\n",
        "  -o kb_results \\\n",
        "  --batch-barcodes \\\n",
        "  batch.txt"
      ],
      "metadata": {
        "id": "ye9vIBRg8KkY"
      },
      "id": "ye9vIBRg8KkY",
      "execution_count": null,
      "outputs": []
    },
    {
      "cell_type": "markdown",
      "source": [
        "Download generated alignment:"
      ],
      "metadata": {
        "id": "LPhiAIrssgSB"
      },
      "id": "LPhiAIrssgSB"
    },
    {
      "cell_type": "code",
      "source": [
        "from google.colab import files\n",
        "\n",
        "!zip -r kb_results.zip kb_results\n",
        "files.download(\"kb_results.zip\")"
      ],
      "metadata": {
        "id": "Tt2Qr3Op_K3X"
      },
      "id": "Tt2Qr3Op_K3X",
      "execution_count": null,
      "outputs": []
    }
  ],
  "metadata": {
    "kernelspec": {
      "display_name": "Python 3",
      "name": "python3"
    },
    "language_info": {
      "codemirror_mode": {
        "name": "ipython",
        "version": 3
      },
      "file_extension": ".py",
      "mimetype": "text/x-python",
      "name": "python",
      "nbconvert_exporter": "python",
      "pygments_lexer": "ipython3",
      "version": "3.9.12"
    },
    "colab": {
      "provenance": [],
      "machine_shape": "hm",
      "include_colab_link": true
    },
    "accelerator": "TPU"
  },
  "nbformat": 4,
  "nbformat_minor": 5
}